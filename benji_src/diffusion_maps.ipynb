{
 "cells": [
  {
   "cell_type": "code",
   "execution_count": 1,
   "metadata": {},
   "outputs": [],
   "source": [
    "import sys\n",
    "sys.path.append('../')"
   ]
  },
  {
   "cell_type": "code",
   "execution_count": 2,
   "metadata": {},
   "outputs": [
    {
     "data": {
      "text/html": [
       "\n",
       "\t\t\t<script type=\"text/javascript\">\n",
       "\t\t\t<!--\n",
       "\t\t\t\t\n",
       "\t\t\t{\n",
       "\t\t\t\tvar element = document.getElementById('NetworKit_script');\n",
       "\t\t\t\tif (element) {\n",
       "\t\t\t\t\telement.parentNode.removeChild(element);\n",
       "\t\t\t\t}\n",
       "\t\t\t\telement = document.createElement('script');\n",
       "\t\t\t\telement.type = 'text/javascript';\n",
       "\t\t\t\telement.innerHTML = 'function NetworKit_pageEmbed(id) { var i, j; var elements; elements = document.getElementById(id).getElementsByClassName(\"Plot\"); for (i=0; i<elements.length; i++) { elements[i].id = id + \"_Plot_\" + i; var data = elements[i].getAttribute(\"data-image\").split(\"|\"); elements[i].removeAttribute(\"data-image\"); var content = \"<div class=\\\\\"Image\\\\\" id=\\\\\"\" + elements[i].id + \"_Image\\\\\" />\"; elements[i].innerHTML = content; elements[i].setAttribute(\"data-image-index\", 0); elements[i].setAttribute(\"data-image-length\", data.length); for (j=0; j<data.length; j++) { elements[i].setAttribute(\"data-image-\" + j, data[j]); } NetworKit_plotUpdate(elements[i]); elements[i].onclick = function (e) { NetworKit_overlayShow((e.target) ? e.target : e.srcElement); } } elements = document.getElementById(id).getElementsByClassName(\"HeatCell\"); for (i=0; i<elements.length; i++) { var data = parseFloat(elements[i].getAttribute(\"data-heat\")); var color = \"#00FF00\"; if (data <= 1 && data > 0) { color = \"hsla(0, 100%, 75%, \" + (data) + \")\"; } else if (data <= 0 && data >= -1) { color = \"hsla(240, 100%, 75%, \" + (-data) + \")\"; } elements[i].style.backgroundColor = color; } elements = document.getElementById(id).getElementsByClassName(\"Details\"); for (i=0; i<elements.length; i++) { elements[i].setAttribute(\"data-title\", \"-\"); NetworKit_toggleDetails(elements[i]); elements[i].onclick = function (e) { NetworKit_toggleDetails((e.target) ? e.target : e.srcElement); } } elements = document.getElementById(id).getElementsByClassName(\"MathValue\"); for (i=elements.length-1; i>=0; i--) { value = elements[i].innerHTML.trim(); if (value === \"nan\") { elements[i].parentNode.innerHTML = \"\" } } elements = document.getElementById(id).getElementsByClassName(\"SubCategory\"); for (i=elements.length-1; i>=0; i--) { value = elements[i].innerHTML.trim(); if (value === \"\") { elements[i].parentNode.removeChild(elements[i]) } } elements = document.getElementById(id).getElementsByClassName(\"Category\"); for (i=elements.length-1; i>=0; i--) { value = elements[i].innerHTML.trim(); if (value === \"\") { elements[i].parentNode.removeChild(elements[i]) } } var isFirefox = false; try { isFirefox = typeof InstallTrigger !== \"undefined\"; } catch (e) {} if (!isFirefox) { alert(\"Currently the function\\'s output is only fully supported by Firefox.\"); } } function NetworKit_plotUpdate(source) { var index = source.getAttribute(\"data-image-index\"); var data = source.getAttribute(\"data-image-\" + index); var image = document.getElementById(source.id + \"_Image\"); image.style.backgroundImage = \"url(\" + data + \")\"; } function NetworKit_showElement(id, show) { var element = document.getElementById(id); element.style.display = (show) ? \"block\" : \"none\"; } function NetworKit_overlayShow(source) { NetworKit_overlayUpdate(source); NetworKit_showElement(\"NetworKit_Overlay\", true); } function NetworKit_overlayUpdate(source) { document.getElementById(\"NetworKit_Overlay_Title\").innerHTML = source.title; var index = source.getAttribute(\"data-image-index\"); var data = source.getAttribute(\"data-image-\" + index); var image = document.getElementById(\"NetworKit_Overlay_Image\"); image.setAttribute(\"data-id\", source.id); image.style.backgroundImage = \"url(\" + data + \")\"; var link = document.getElementById(\"NetworKit_Overlay_Toolbar_Bottom_Save\"); link.href = data; link.download = source.title + \".svg\"; } function NetworKit_overlayImageShift(delta) { var image = document.getElementById(\"NetworKit_Overlay_Image\"); var source = document.getElementById(image.getAttribute(\"data-id\")); var index = parseInt(source.getAttribute(\"data-image-index\")); var length = parseInt(source.getAttribute(\"data-image-length\")); var index = (index+delta) % length; if (index < 0) { index = length + index; } source.setAttribute(\"data-image-index\", index); NetworKit_overlayUpdate(source); } function NetworKit_toggleDetails(source) { var childs = source.children; var show = false; if (source.getAttribute(\"data-title\") == \"-\") { source.setAttribute(\"data-title\", \"+\"); show = false; } else { source.setAttribute(\"data-title\", \"-\"); show = true; } for (i=0; i<childs.length; i++) { if (show) { childs[i].style.display = \"block\"; } else { childs[i].style.display = \"none\"; } } }';\n",
       "\t\t\t\telement.setAttribute('id', 'NetworKit_script');\n",
       "\t\t\t\tdocument.head.appendChild(element);\n",
       "\t\t\t}\n",
       "\t\t\n",
       "\t\t\t\t\n",
       "\t\t\t{\n",
       "\t\t\t\tvar element = document.getElementById('NetworKit_style');\n",
       "\t\t\t\tif (element) {\n",
       "\t\t\t\t\telement.parentNode.removeChild(element);\n",
       "\t\t\t\t}\n",
       "\t\t\t\telement = document.createElement('style');\n",
       "\t\t\t\telement.type = 'text/css';\n",
       "\t\t\t\telement.innerHTML = '.NetworKit_Page { font-family: Arial, Helvetica, sans-serif; font-size: 14px; } .NetworKit_Page .Value:before { font-family: Arial, Helvetica, sans-serif; font-size: 1.05em; content: attr(data-title) \":\"; margin-left: -2.5em; padding-right: 0.5em; } .NetworKit_Page .Details .Value:before { display: block; } .NetworKit_Page .Value { font-family: monospace; white-space: pre; padding-left: 2.5em; white-space: -moz-pre-wrap !important; white-space: -pre-wrap; white-space: -o-pre-wrap; white-space: pre-wrap; word-wrap: break-word; tab-size: 4; -moz-tab-size: 4; } .NetworKit_Page .Category { clear: both; padding-left: 1em; margin-bottom: 1.5em; } .NetworKit_Page .Category:before { content: attr(data-title); font-size: 1.75em; display: block; margin-left: -0.8em; margin-bottom: 0.5em; } .NetworKit_Page .SubCategory { margin-bottom: 1.5em; padding-left: 1em; } .NetworKit_Page .SubCategory:before { font-size: 1.6em; display: block; margin-left: -0.8em; margin-bottom: 0.5em; } .NetworKit_Page .SubCategory[data-title]:before { content: attr(data-title); } .NetworKit_Page .Block { display: block; } .NetworKit_Page .Block:after { content: \".\"; visibility: hidden; display: block; height: 0; clear: both; } .NetworKit_Page .Block .Thumbnail_Overview, .NetworKit_Page .Block .Thumbnail_ScatterPlot { width: 260px; float: left; } .NetworKit_Page .Block .Thumbnail_Overview img, .NetworKit_Page .Block .Thumbnail_ScatterPlot img { width: 260px; } .NetworKit_Page .Block .Thumbnail_Overview:before, .NetworKit_Page .Block .Thumbnail_ScatterPlot:before { display: block; text-align: center; font-weight: bold; } .NetworKit_Page .Block .Thumbnail_Overview:before { content: attr(data-title); } .NetworKit_Page .HeatCell { font-family: \"Courier New\", Courier, monospace; cursor: pointer; } .NetworKit_Page .HeatCell, .NetworKit_Page .HeatCellName { display: inline; padding: 0.1em; margin-right: 2px; background-color: #FFFFFF } .NetworKit_Page .HeatCellName { margin-left: 0.25em; } .NetworKit_Page .HeatCell:before { content: attr(data-heat); display: inline-block; color: #000000; width: 4em; text-align: center; } .NetworKit_Page .Measure { clear: both; } .NetworKit_Page .Measure .Details { cursor: pointer; } .NetworKit_Page .Measure .Details:before { content: \"[\" attr(data-title) \"]\"; display: block; } .NetworKit_Page .Measure .Details .Value { border-left: 1px dotted black; margin-left: 0.4em; padding-left: 3.5em; pointer-events: none; } .NetworKit_Page .Measure .Details .Spacer:before { content: \".\"; opacity: 0.0; pointer-events: none; } .NetworKit_Page .Measure .Plot { width: 440px; height: 440px; cursor: pointer; float: left; margin-left: -0.9em; margin-right: 20px; } .NetworKit_Page .Measure .Plot .Image { background-repeat: no-repeat; background-position: center center; background-size: contain; height: 100%; pointer-events: none; } .NetworKit_Page .Measure .Stat { width: 500px; float: left; } .NetworKit_Page .Measure .Stat .Group { padding-left: 1.25em; margin-bottom: 0.75em; } .NetworKit_Page .Measure .Stat .Group .Title { font-size: 1.1em; display: block; margin-bottom: 0.3em; margin-left: -0.75em; border-right-style: dotted; border-right-width: 1px; border-bottom-style: dotted; border-bottom-width: 1px; background-color: #D0D0D0; padding-left: 0.2em; } .NetworKit_Page .Measure .Stat .Group .List { -webkit-column-count: 3; -moz-column-count: 3; column-count: 3; } .NetworKit_Page .Measure .Stat .Group .List .Entry { position: relative; line-height: 1.75em; } .NetworKit_Page .Measure .Stat .Group .List .Entry[data-tooltip]:before { position: absolute; left: 0; top: -40px; background-color: #808080; color: #ffffff; height: 30px; line-height: 30px; border-radius: 5px; padding: 0 15px; content: attr(data-tooltip); white-space: nowrap; display: none; } .NetworKit_Page .Measure .Stat .Group .List .Entry[data-tooltip]:after { position: absolute; left: 15px; top: -10px; border-top: 7px solid #808080; border-left: 7px solid transparent; border-right: 7px solid transparent; content: \"\"; display: none; } .NetworKit_Page .Measure .Stat .Group .List .Entry[data-tooltip]:hover:after, .NetworKit_Page .Measure .Stat .Group .List .Entry[data-tooltip]:hover:before { display: block; } .NetworKit_Page .Measure .Stat .Group .List .Entry .MathValue { font-family: \"Courier New\", Courier, monospace; } .NetworKit_Page .Measure:after { content: \".\"; visibility: hidden; display: block; height: 0; clear: both; } .NetworKit_Page .PartitionPie { clear: both; } .NetworKit_Page .PartitionPie img { width: 600px; } #NetworKit_Overlay { left: 0px; top: 0px; display: none; position: absolute; width: 100%; height: 100%; background-color: rgba(0,0,0,0.6); z-index: 1000; } #NetworKit_Overlay_Title { position: absolute; color: white; transform: rotate(-90deg); width: 32em; height: 32em; padding-right: 0.5em; padding-top: 0.5em; text-align: right; font-size: 40px; } #NetworKit_Overlay .button { background: white; cursor: pointer; } #NetworKit_Overlay .button:before { size: 13px; display: inline-block; text-align: center; margin-top: 0.5em; margin-bottom: 0.5em; width: 1.5em; height: 1.5em; } #NetworKit_Overlay .icon-close:before { content: \"X\"; } #NetworKit_Overlay .icon-previous:before { content: \"P\"; } #NetworKit_Overlay .icon-next:before { content: \"N\"; } #NetworKit_Overlay .icon-save:before { content: \"S\"; } #NetworKit_Overlay_Toolbar_Top, #NetworKit_Overlay_Toolbar_Bottom { position: absolute; width: 40px; right: 13px; text-align: right; z-index: 1100; } #NetworKit_Overlay_Toolbar_Top { top: 0.5em; } #NetworKit_Overlay_Toolbar_Bottom { Bottom: 0.5em; } #NetworKit_Overlay_ImageContainer { position: absolute; top: 5%; left: 5%; height: 90%; width: 90%; background-repeat: no-repeat; background-position: center center; background-size: contain; } #NetworKit_Overlay_Image { height: 100%; width: 100%; background-repeat: no-repeat; background-position: center center; background-size: contain; }';\n",
       "\t\t\t\telement.setAttribute('id', 'NetworKit_style');\n",
       "\t\t\t\tdocument.head.appendChild(element);\n",
       "\t\t\t}\n",
       "\t\t\n",
       "\t\t\t\t\n",
       "\t\t\t{\n",
       "\t\t\t\tvar element = document.getElementById('NetworKit_Overlay');\n",
       "\t\t\t\tif (element) {\n",
       "\t\t\t\t\telement.parentNode.removeChild(element);\n",
       "\t\t\t\t}\n",
       "\t\t\t\telement = document.createElement('div');\n",
       "\t\t\t\telement.innerHTML = '<div id=\"NetworKit_Overlay_Toolbar_Top\"><div class=\"button icon-close\" id=\"NetworKit_Overlay_Close\" /></div><div id=\"NetworKit_Overlay_Title\" /> <div id=\"NetworKit_Overlay_ImageContainer\"> <div id=\"NetworKit_Overlay_Image\" /> </div> <div id=\"NetworKit_Overlay_Toolbar_Bottom\"> <div class=\"button icon-previous\" onclick=\"NetworKit_overlayImageShift(-1)\" /> <div class=\"button icon-next\" onclick=\"NetworKit_overlayImageShift(1)\" /> <a id=\"NetworKit_Overlay_Toolbar_Bottom_Save\"><div class=\"button icon-save\" /></a> </div>';\n",
       "\t\t\t\telement.setAttribute('id', 'NetworKit_Overlay');\n",
       "\t\t\t\tdocument.body.appendChild(element);\n",
       "\t\t\t\tdocument.getElementById('NetworKit_Overlay_Close').onclick = function (e) {\n",
       "\t\t\t\t\tdocument.getElementById('NetworKit_Overlay').style.display = 'none';\n",
       "\t\t\t\t}\n",
       "\t\t\t}\n",
       "\t\t\n",
       "\t\t\t-->\n",
       "\t\t\t</script>\n",
       "\t\t"
      ]
     },
     "metadata": {},
     "output_type": "display_data"
    }
   ],
   "source": [
    "import pandas as pd\n",
    "import matplotlib.pyplot as plt\n",
    "import os\n",
    "import numpy as np\n",
    "import networkit as nk\n",
    "from tqdm import tqdm\n",
    "import networkx as nx\n",
    "\n",
    "from benji_girgs import generation, utils, plotting\n",
    "import geopandas as gpd\n",
    "\n",
    "\n",
    "from IPython.core.interactiveshell import InteractiveShell\n",
    "InteractiveShell.ast_node_interactivity = \"all\""
   ]
  },
  {
   "cell_type": "code",
   "execution_count": 32,
   "metadata": {},
   "outputs": [
    {
     "name": "stderr",
     "output_type": "stream",
     "text": [
      "/Users/benjidayan/GDrive/eth_courses/GIRG/benji_src/benji_girgs/generation.py:114: RuntimeWarning: divide by zero encountered in divide\n",
      "  p_uv = np.divide(outer, dists**d)\n"
     ]
    }
   ],
   "source": [
    "n=1000\n",
    "d=2\n",
    "tau=2.5\n",
    "alpha=6.0\n",
    "g, edges, weights, pts = generation.generate_GIRG_nk(n, d, tau, alpha)"
   ]
  },
  {
   "cell_type": "code",
   "execution_count": 33,
   "metadata": {},
   "outputs": [],
   "source": [
    "gnx = nk.nxadapter.nk2nx(g)\n",
    "\n",
    "A = nx.linalg.adjacency_matrix(gnx).todense()\n",
    "\n",
    "D = np.array([x[1] for x in (gnx.degree)])\n",
    "D_h = D**(0.5)\n",
    "D_hi = D**(-0.5)\n",
    "\n",
    "M = np.diag(1/D) @ A\n",
    "S = np.diag(D_hi) @ A @ np.diag(D_hi)"
   ]
  },
  {
   "cell_type": "code",
   "execution_count": 36,
   "metadata": {},
   "outputs": [],
   "source": [
    "w, v = np.linalg.eigh(S)"
   ]
  },
  {
   "cell_type": "code",
   "execution_count": 37,
   "metadata": {},
   "outputs": [
    {
     "data": {
      "text/plain": [
       "array([-2.83774488e-01, -2.71058799e-01, -2.54135071e-01, -2.45926781e-01,\n",
       "       -2.43410373e-01, -2.42150679e-01, -2.41310351e-01, -2.35844889e-01,\n",
       "       -2.32166924e-01, -2.31233910e-01, -2.30518727e-01, -2.28305476e-01,\n",
       "       -2.27083758e-01, -2.24661803e-01, -2.24358051e-01, -2.23473242e-01,\n",
       "       -2.21322942e-01, -2.20399335e-01, -2.19927414e-01, -2.18754892e-01,\n",
       "       -2.16323878e-01, -2.15583406e-01, -2.14971579e-01, -2.14414249e-01,\n",
       "       -2.12097209e-01, -2.11301469e-01, -2.09265742e-01, -2.08887233e-01,\n",
       "       -2.06705385e-01, -2.05616353e-01, -2.04962166e-01, -2.04400843e-01,\n",
       "       -2.04123266e-01, -2.02202397e-01, -2.01547923e-01, -2.01131706e-01,\n",
       "       -1.99800807e-01, -1.99425067e-01, -1.98177379e-01, -1.97686657e-01,\n",
       "       -1.97280730e-01, -1.95975583e-01, -1.94960571e-01, -1.94441071e-01,\n",
       "       -1.92865228e-01, -1.91934103e-01, -1.91520549e-01, -1.90708078e-01,\n",
       "       -1.89700572e-01, -1.89237069e-01, -1.88235502e-01, -1.86922827e-01,\n",
       "       -1.86659144e-01, -1.85752830e-01, -1.85402368e-01, -1.84725494e-01,\n",
       "       -1.83686550e-01, -1.83138880e-01, -1.82666767e-01, -1.82168355e-01,\n",
       "       -1.81182084e-01, -1.80522202e-01, -1.79971581e-01, -1.79439488e-01,\n",
       "       -1.79198083e-01, -1.78115927e-01, -1.77638283e-01, -1.76920402e-01,\n",
       "       -1.76064273e-01, -1.75553725e-01, -1.75476942e-01, -1.74515585e-01,\n",
       "       -1.73940303e-01, -1.73417032e-01, -1.72851550e-01, -1.72569527e-01,\n",
       "       -1.71551885e-01, -1.70857705e-01, -1.70374454e-01, -1.69914704e-01,\n",
       "       -1.69453291e-01, -1.68731705e-01, -1.68536272e-01, -1.68001145e-01,\n",
       "       -1.67462162e-01, -1.66664300e-01, -1.65923517e-01, -1.65396433e-01,\n",
       "       -1.65265445e-01, -1.64925909e-01, -1.64462608e-01, -1.63835331e-01,\n",
       "       -1.63704953e-01, -1.63236850e-01, -1.62337909e-01, -1.61518949e-01,\n",
       "       -1.61122485e-01, -1.61037128e-01, -1.60208684e-01, -1.59931175e-01,\n",
       "       -1.59732227e-01, -1.59571303e-01, -1.58437838e-01, -1.58219746e-01,\n",
       "       -1.57664390e-01, -1.57400526e-01, -1.57359984e-01, -1.56766714e-01,\n",
       "       -1.56331175e-01, -1.55778680e-01, -1.55154017e-01, -1.54615834e-01,\n",
       "       -1.54219679e-01, -1.53698649e-01, -1.53468314e-01, -1.53133742e-01,\n",
       "       -1.52943332e-01, -1.52347680e-01, -1.51949035e-01, -1.51476249e-01,\n",
       "       -1.51131806e-01, -1.50681610e-01, -1.50008649e-01, -1.49868567e-01,\n",
       "       -1.49365236e-01, -1.48757478e-01, -1.48454476e-01, -1.48024584e-01,\n",
       "       -1.47378837e-01, -1.47039268e-01, -1.46735997e-01, -1.46456401e-01,\n",
       "       -1.46190118e-01, -1.45969485e-01, -1.45354029e-01, -1.44716989e-01,\n",
       "       -1.44412005e-01, -1.44326585e-01, -1.43713286e-01, -1.43075237e-01,\n",
       "       -1.42930542e-01, -1.41940567e-01, -1.41706214e-01, -1.41455338e-01,\n",
       "       -1.40928304e-01, -1.40454265e-01, -1.40101194e-01, -1.39740698e-01,\n",
       "       -1.39124451e-01, -1.38872229e-01, -1.38524127e-01, -1.38293139e-01,\n",
       "       -1.38047887e-01, -1.37567352e-01, -1.36816864e-01, -1.36755234e-01,\n",
       "       -1.36240056e-01, -1.36097806e-01, -1.35860067e-01, -1.35249799e-01,\n",
       "       -1.34988332e-01, -1.34553225e-01, -1.33929555e-01, -1.33593075e-01,\n",
       "       -1.33556410e-01, -1.32849732e-01, -1.32363183e-01, -1.32116212e-01,\n",
       "       -1.32066139e-01, -1.31813416e-01, -1.31289042e-01, -1.31146980e-01,\n",
       "       -1.30773857e-01, -1.30426475e-01, -1.30148917e-01, -1.29884775e-01,\n",
       "       -1.29147628e-01, -1.28790084e-01, -1.28503475e-01, -1.28214099e-01,\n",
       "       -1.27803647e-01, -1.27530075e-01, -1.27175461e-01, -1.26745623e-01,\n",
       "       -1.26269220e-01, -1.26047278e-01, -1.25921554e-01, -1.25537709e-01,\n",
       "       -1.24997451e-01, -1.24826432e-01, -1.24261920e-01, -1.23924242e-01,\n",
       "       -1.23620581e-01, -1.23387329e-01, -1.23132868e-01, -1.22499193e-01,\n",
       "       -1.22163071e-01, -1.21884079e-01, -1.21513971e-01, -1.21397692e-01,\n",
       "       -1.20884359e-01, -1.20582937e-01, -1.19897783e-01, -1.19702319e-01,\n",
       "       -1.19206325e-01, -1.18900550e-01, -1.18660678e-01, -1.18438911e-01,\n",
       "       -1.17767928e-01, -1.17650083e-01, -1.17076788e-01, -1.16642126e-01,\n",
       "       -1.16468684e-01, -1.16232294e-01, -1.15961954e-01, -1.15333568e-01,\n",
       "       -1.15058224e-01, -1.14664136e-01, -1.14318696e-01, -1.14243441e-01,\n",
       "       -1.14065678e-01, -1.13786689e-01, -1.13194895e-01, -1.12797631e-01,\n",
       "       -1.12605015e-01, -1.12313640e-01, -1.12126969e-01, -1.11381034e-01,\n",
       "       -1.11077213e-01, -1.11034967e-01, -1.10584864e-01, -1.10262679e-01,\n",
       "       -1.09838901e-01, -1.09673966e-01, -1.09459059e-01, -1.08880699e-01,\n",
       "       -1.08722258e-01, -1.08264307e-01, -1.08095873e-01, -1.07567275e-01,\n",
       "       -1.07322240e-01, -1.06941783e-01, -1.06446295e-01, -1.06286845e-01,\n",
       "       -1.06042639e-01, -1.05756771e-01, -1.05518613e-01, -1.05289253e-01,\n",
       "       -1.05098999e-01, -1.04575551e-01, -1.04305814e-01, -1.04011848e-01,\n",
       "       -1.03642310e-01, -1.03538672e-01, -1.02842593e-01, -1.02822577e-01,\n",
       "       -1.02559507e-01, -1.02225234e-01, -1.01913870e-01, -1.01512298e-01,\n",
       "       -1.01220600e-01, -1.00923704e-01, -1.00740311e-01, -1.00357627e-01,\n",
       "       -1.00284560e-01, -9.97541684e-02, -9.93154435e-02, -9.90719508e-02,\n",
       "       -9.90064868e-02, -9.87406259e-02, -9.83738221e-02, -9.81180717e-02,\n",
       "       -9.78792056e-02, -9.77293315e-02, -9.70469031e-02, -9.65235684e-02,\n",
       "       -9.63305843e-02, -9.60496517e-02, -9.57457667e-02, -9.53818083e-02,\n",
       "       -9.52398502e-02, -9.47405062e-02, -9.46134687e-02, -9.42852769e-02,\n",
       "       -9.40721811e-02, -9.39566649e-02, -9.33835441e-02, -9.30447553e-02,\n",
       "       -9.27858058e-02, -9.25348776e-02, -9.21509236e-02, -9.19164751e-02,\n",
       "       -9.16560453e-02, -9.10402654e-02, -9.09168619e-02, -9.04013440e-02,\n",
       "       -8.99104439e-02, -8.98551265e-02, -8.97078869e-02, -8.95007234e-02,\n",
       "       -8.87312063e-02, -8.86475850e-02, -8.84690949e-02, -8.82167452e-02,\n",
       "       -8.77920877e-02, -8.74691006e-02, -8.71518216e-02, -8.68627702e-02,\n",
       "       -8.66883357e-02, -8.64607313e-02, -8.59202335e-02, -8.57134419e-02,\n",
       "       -8.56414553e-02, -8.54458400e-02, -8.48537571e-02, -8.44078892e-02,\n",
       "       -8.41658995e-02, -8.41424457e-02, -8.37888352e-02, -8.36390566e-02,\n",
       "       -8.34059047e-02, -8.29423510e-02, -8.24967330e-02, -8.20445738e-02,\n",
       "       -8.18374551e-02, -8.15512611e-02, -8.14050247e-02, -8.12499484e-02,\n",
       "       -8.09851113e-02, -8.06499405e-02, -8.02535884e-02, -8.00156212e-02,\n",
       "       -7.96245349e-02, -7.93144555e-02, -7.90035212e-02, -7.86598533e-02,\n",
       "       -7.85372608e-02, -7.82727486e-02, -7.81420759e-02, -7.76771981e-02,\n",
       "       -7.76285261e-02, -7.70832338e-02, -7.70349360e-02, -7.63061346e-02,\n",
       "       -7.60656737e-02, -7.58417639e-02, -7.57379263e-02, -7.53576089e-02,\n",
       "       -7.48497437e-02, -7.47905836e-02, -7.44569066e-02, -7.41888861e-02,\n",
       "       -7.39869520e-02, -7.36285265e-02, -7.29626493e-02, -7.27927517e-02,\n",
       "       -7.27244978e-02, -7.23928498e-02, -7.20946591e-02, -7.16522194e-02,\n",
       "       -7.15148612e-02, -7.08360733e-02, -7.07257438e-02, -7.06041292e-02,\n",
       "       -7.04128932e-02, -6.98380711e-02, -6.95716560e-02, -6.94951607e-02,\n",
       "       -6.90615778e-02, -6.87201029e-02, -6.84436152e-02, -6.82447623e-02,\n",
       "       -6.82000165e-02, -6.79101604e-02, -6.76759907e-02, -6.71690008e-02,\n",
       "       -6.69782591e-02, -6.65731930e-02, -6.64226686e-02, -6.63801928e-02,\n",
       "       -6.61170450e-02, -6.56790240e-02, -6.54823689e-02, -6.53305935e-02,\n",
       "       -6.50354492e-02, -6.48527248e-02, -6.42999138e-02, -6.42270638e-02,\n",
       "       -6.41132662e-02, -6.37889573e-02, -6.33623336e-02, -6.28906342e-02,\n",
       "       -6.27077664e-02, -6.24966496e-02, -6.20853581e-02, -6.17305617e-02,\n",
       "       -6.12755168e-02, -6.11981972e-02, -6.11215299e-02, -6.07920441e-02,\n",
       "       -6.06555699e-02, -6.03731333e-02, -6.01617311e-02, -5.99519252e-02,\n",
       "       -5.95662108e-02, -5.93908259e-02, -5.90422634e-02, -5.87712173e-02,\n",
       "       -5.84785525e-02, -5.79316982e-02, -5.73463133e-02, -5.69865851e-02,\n",
       "       -5.67687111e-02, -5.66850114e-02, -5.64817873e-02, -5.61229138e-02,\n",
       "       -5.59384014e-02, -5.55810436e-02, -5.55046157e-02, -5.51807607e-02,\n",
       "       -5.48560535e-02, -5.42301209e-02, -5.41159234e-02, -5.38868743e-02,\n",
       "       -5.35268366e-02, -5.31959574e-02, -5.30218975e-02, -5.26868768e-02,\n",
       "       -5.24493699e-02, -5.23431598e-02, -5.21510187e-02, -5.15985388e-02,\n",
       "       -5.13951492e-02, -5.12179409e-02, -5.12086872e-02, -5.06261193e-02,\n",
       "       -5.05275036e-02, -5.02214756e-02, -5.02045591e-02, -4.98145090e-02,\n",
       "       -4.95767005e-02, -4.92423470e-02, -4.91632362e-02, -4.88248019e-02,\n",
       "       -4.86169778e-02, -4.84200629e-02, -4.82975844e-02, -4.78201319e-02,\n",
       "       -4.74147154e-02, -4.69547615e-02, -4.68482887e-02, -4.66315205e-02,\n",
       "       -4.64916812e-02, -4.60761206e-02, -4.59328936e-02, -4.56836001e-02,\n",
       "       -4.54746496e-02, -4.53086634e-02, -4.51109265e-02, -4.45436968e-02,\n",
       "       -4.43517322e-02, -4.39603983e-02, -4.37538763e-02, -4.36449497e-02,\n",
       "       -4.34253481e-02, -4.29806648e-02, -4.28073132e-02, -4.24965256e-02,\n",
       "       -4.22470161e-02, -4.21459805e-02, -4.19484726e-02, -4.13803873e-02,\n",
       "       -4.10593460e-02, -4.07787500e-02, -4.07028164e-02, -4.04834486e-02,\n",
       "       -4.01274347e-02, -4.00727639e-02, -3.95917949e-02, -3.95051006e-02,\n",
       "       -3.90997555e-02, -3.89592814e-02, -3.86682729e-02, -3.85474667e-02,\n",
       "       -3.81041405e-02, -3.79231371e-02, -3.74600868e-02, -3.71962716e-02,\n",
       "       -3.68678598e-02, -3.67795215e-02, -3.62523735e-02, -3.61415578e-02,\n",
       "       -3.58008019e-02, -3.55678481e-02, -3.53074003e-02, -3.52522769e-02,\n",
       "       -3.48053845e-02, -3.45521994e-02, -3.41869842e-02, -3.40133083e-02,\n",
       "       -3.37416189e-02, -3.35249486e-02, -3.34065767e-02, -3.29781681e-02,\n",
       "       -3.28676227e-02, -3.22087325e-02, -3.21322700e-02, -3.20251692e-02,\n",
       "       -3.17337515e-02, -3.16135029e-02, -3.10753517e-02, -3.09421056e-02,\n",
       "       -3.08048827e-02, -3.02161197e-02, -3.00237175e-02, -2.97664364e-02,\n",
       "       -2.95990758e-02, -2.93969112e-02, -2.91957675e-02, -2.89276577e-02,\n",
       "       -2.85596898e-02, -2.85031500e-02, -2.82140922e-02, -2.79533754e-02,\n",
       "       -2.76407718e-02, -2.73549526e-02, -2.71311370e-02, -2.67647959e-02,\n",
       "       -2.66148750e-02, -2.61524074e-02, -2.55735690e-02, -2.53758640e-02,\n",
       "       -2.52618893e-02, -2.51113916e-02, -2.44081886e-02, -2.42188400e-02,\n",
       "       -2.37403028e-02, -2.36784401e-02, -2.35534428e-02, -2.34340085e-02,\n",
       "       -2.30854202e-02, -2.26765338e-02, -2.25103911e-02, -2.22139931e-02,\n",
       "       -2.20462770e-02, -2.16246295e-02, -2.10920043e-02, -2.08883003e-02,\n",
       "       -2.07062736e-02, -2.04516628e-02, -2.02294444e-02, -1.99800140e-02,\n",
       "       -1.97828640e-02, -1.94869871e-02, -1.92735619e-02, -1.90187652e-02,\n",
       "       -1.85180422e-02, -1.81108521e-02, -1.79709958e-02, -1.76993021e-02,\n",
       "       -1.74006130e-02, -1.70642383e-02, -1.69290738e-02, -1.65865630e-02,\n",
       "       -1.64929342e-02, -1.63340450e-02, -1.60031410e-02, -1.56925845e-02,\n",
       "       -1.54640256e-02, -1.49537246e-02, -1.47814044e-02, -1.45755807e-02,\n",
       "       -1.42704006e-02, -1.37900847e-02, -1.34299488e-02, -1.30774316e-02,\n",
       "       -1.29849173e-02, -1.28124948e-02, -1.26639160e-02, -1.25294197e-02,\n",
       "       -1.24579307e-02, -1.19920549e-02, -1.17458414e-02, -1.16387696e-02,\n",
       "       -1.14473110e-02, -1.10479402e-02, -1.07525685e-02, -1.04260921e-02,\n",
       "       -1.01509853e-02, -9.81390391e-03, -9.60195761e-03, -9.36151170e-03,\n",
       "       -8.92035432e-03, -8.63458257e-03, -8.36503173e-03, -8.04825390e-03,\n",
       "       -7.91719761e-03, -7.67934543e-03, -7.41531585e-03, -7.16878888e-03,\n",
       "       -6.97722055e-03, -6.34636652e-03, -6.05458625e-03, -5.84514508e-03,\n",
       "       -5.63843343e-03, -5.49999192e-03, -5.16584090e-03, -4.86886058e-03,\n",
       "       -4.70014493e-03, -4.33624389e-03, -4.14140025e-03, -3.67130109e-03,\n",
       "       -2.98481828e-03, -2.71446260e-03, -2.47855821e-03, -2.13987371e-03,\n",
       "       -1.90548314e-03, -1.58303326e-03, -1.54502404e-03, -1.17349207e-03,\n",
       "       -1.01378321e-03, -6.07590419e-04, -3.67146621e-04,  2.34057521e-04,\n",
       "        3.38899640e-04,  7.64515998e-04,  1.10290653e-03,  1.32196185e-03,\n",
       "        1.42804154e-03,  1.71297980e-03,  2.49937647e-03,  2.73916300e-03,\n",
       "        2.89011298e-03,  2.93988120e-03,  3.30569380e-03,  3.58151919e-03,\n",
       "        3.74878511e-03,  4.37045314e-03,  4.99066850e-03,  5.17660009e-03,\n",
       "        5.41893170e-03,  5.79551242e-03,  6.07753799e-03,  6.39503017e-03,\n",
       "        6.43568041e-03,  7.11148967e-03,  7.22167284e-03,  7.47255718e-03,\n",
       "        8.16963652e-03,  8.47701679e-03,  8.75071620e-03,  8.96343085e-03,\n",
       "        9.08016888e-03,  9.77129977e-03,  1.00981622e-02,  1.02458706e-02,\n",
       "        1.05917407e-02,  1.09592540e-02,  1.11720375e-02,  1.13392792e-02,\n",
       "        1.18397802e-02,  1.21884926e-02,  1.24671580e-02,  1.26434165e-02,\n",
       "        1.34080957e-02,  1.35214132e-02,  1.35708606e-02,  1.39701418e-02,\n",
       "        1.42019053e-02,  1.49258019e-02,  1.52381067e-02,  1.57100673e-02,\n",
       "        1.58919269e-02,  1.61388414e-02,  1.63418090e-02,  1.67338771e-02,\n",
       "        1.71761044e-02,  1.73515212e-02,  1.74862156e-02,  1.79950711e-02,\n",
       "        1.83389515e-02,  1.87157450e-02,  1.91032128e-02,  1.93987896e-02,\n",
       "        1.97636089e-02,  1.99892669e-02,  2.05893221e-02,  2.07322423e-02,\n",
       "        2.09988403e-02,  2.15401541e-02,  2.20073241e-02,  2.24907869e-02,\n",
       "        2.29091745e-02,  2.31904544e-02,  2.34372122e-02,  2.35191284e-02,\n",
       "        2.42299306e-02,  2.45909227e-02,  2.47667028e-02,  2.53245715e-02,\n",
       "        2.56143072e-02,  2.58909976e-02,  2.62217170e-02,  2.63965691e-02,\n",
       "        2.70420281e-02,  2.73900412e-02,  2.80296559e-02,  2.82295418e-02,\n",
       "        2.84452139e-02,  2.86273909e-02,  2.88397351e-02,  2.93656476e-02,\n",
       "        3.01599617e-02,  3.08362845e-02,  3.10508452e-02,  3.15702559e-02,\n",
       "        3.16857649e-02,  3.20594549e-02,  3.26568360e-02,  3.31858533e-02,\n",
       "        3.32391758e-02,  3.36348427e-02,  3.41094494e-02,  3.43525193e-02,\n",
       "        3.45461886e-02,  3.50322694e-02,  3.54902377e-02,  3.59263469e-02,\n",
       "        3.62035475e-02,  3.68148596e-02,  3.70067740e-02,  3.72497233e-02,\n",
       "        3.78793905e-02,  3.80946955e-02,  3.85587989e-02,  3.89798136e-02,\n",
       "        3.98568999e-02,  4.02111466e-02,  4.03974648e-02,  4.11136529e-02,\n",
       "        4.14140225e-02,  4.18134622e-02,  4.24107084e-02,  4.30168730e-02,\n",
       "        4.32256526e-02,  4.33215093e-02,  4.38691375e-02,  4.40079301e-02,\n",
       "        4.45643316e-02,  4.50772950e-02,  4.54218695e-02,  4.58700098e-02,\n",
       "        4.65561802e-02,  4.68715278e-02,  4.72173847e-02,  4.81817379e-02,\n",
       "        4.86011357e-02,  4.91349807e-02,  4.97473454e-02,  4.98299381e-02,\n",
       "        5.03990111e-02,  5.08164233e-02,  5.12900966e-02,  5.17342887e-02,\n",
       "        5.21263354e-02,  5.29982609e-02,  5.31279134e-02,  5.42760926e-02,\n",
       "        5.44202506e-02,  5.52679038e-02,  5.55040257e-02,  5.58750054e-02,\n",
       "        5.62564062e-02,  5.67213485e-02,  5.75943851e-02,  5.79436096e-02,\n",
       "        5.81679105e-02,  5.89965282e-02,  5.94822288e-02,  6.02932056e-02,\n",
       "        6.05421673e-02,  6.12861701e-02,  6.13866603e-02,  6.20405259e-02,\n",
       "        6.21888412e-02,  6.29956927e-02,  6.34786539e-02,  6.42021142e-02,\n",
       "        6.49035070e-02,  6.54339160e-02,  6.55322209e-02,  6.63302565e-02,\n",
       "        6.72961356e-02,  6.81020718e-02,  6.84772111e-02,  6.86820656e-02,\n",
       "        6.95329858e-02,  7.03109888e-02,  7.09925235e-02,  7.13429655e-02,\n",
       "        7.21832778e-02,  7.26920187e-02,  7.36037796e-02,  7.39271656e-02,\n",
       "        7.47287588e-02,  7.49380947e-02,  7.54158175e-02,  7.65601231e-02,\n",
       "        7.69066014e-02,  7.76031059e-02,  7.90262096e-02,  7.93948880e-02,\n",
       "        7.96103447e-02,  8.03164773e-02,  8.15525799e-02,  8.19996263e-02,\n",
       "        8.23225737e-02,  8.40281303e-02,  8.41386386e-02,  8.49628755e-02,\n",
       "        8.62874935e-02,  8.65887846e-02,  8.81996957e-02,  8.90104702e-02,\n",
       "        8.93108860e-02,  9.04493526e-02,  9.07744450e-02,  9.11813470e-02,\n",
       "        9.23794602e-02,  9.31887537e-02,  9.40167236e-02,  9.49864891e-02,\n",
       "        9.66747069e-02,  9.72004262e-02,  9.93486251e-02,  9.99569146e-02,\n",
       "        1.01081090e-01,  1.02434027e-01,  1.02647018e-01,  1.04030141e-01,\n",
       "        1.04968570e-01,  1.06158643e-01,  1.06977693e-01,  1.08771426e-01,\n",
       "        1.10009875e-01,  1.10817033e-01,  1.12024191e-01,  1.13115074e-01,\n",
       "        1.13423730e-01,  1.15733696e-01,  1.17559127e-01,  1.18290069e-01,\n",
       "        1.19961924e-01,  1.20683180e-01,  1.24131049e-01,  1.24976493e-01,\n",
       "        1.25680291e-01,  1.26827399e-01,  1.27468936e-01,  1.29373772e-01,\n",
       "        1.29762165e-01,  1.31521727e-01,  1.33340258e-01,  1.33901452e-01,\n",
       "        1.34812499e-01,  1.35670893e-01,  1.38052358e-01,  1.39830839e-01,\n",
       "        1.41280954e-01,  1.42950056e-01,  1.43953803e-01,  1.45790248e-01,\n",
       "        1.47053305e-01,  1.47715754e-01,  1.49388424e-01,  1.49849763e-01,\n",
       "        1.50836994e-01,  1.53924824e-01,  1.55100845e-01,  1.56762936e-01,\n",
       "        1.58952599e-01,  1.60737595e-01,  1.62957783e-01,  1.64644199e-01,\n",
       "        1.66353228e-01,  1.67704418e-01,  1.68566527e-01,  1.71896304e-01,\n",
       "        1.72947209e-01,  1.73658554e-01,  1.75762299e-01,  1.78756629e-01,\n",
       "        1.80649375e-01,  1.83705517e-01,  1.86229722e-01,  1.86790852e-01,\n",
       "        1.89129350e-01,  1.93569829e-01,  1.95030467e-01,  1.96444665e-01,\n",
       "        1.98128656e-01,  1.99535733e-01,  2.03988803e-01,  2.05384515e-01,\n",
       "        2.08010424e-01,  2.14863664e-01,  2.18952750e-01,  2.19737059e-01,\n",
       "        2.21153096e-01,  2.22745745e-01,  2.23824675e-01,  2.25813360e-01,\n",
       "        2.35146049e-01,  2.38264182e-01,  2.40590798e-01,  2.43868695e-01,\n",
       "        2.45410423e-01,  2.49177836e-01,  2.51711565e-01,  2.55590600e-01,\n",
       "        2.57283419e-01,  2.61545771e-01,  2.63085883e-01,  2.64033149e-01,\n",
       "        2.65298110e-01,  2.68078435e-01,  2.69747954e-01,  2.74656494e-01,\n",
       "        2.75075520e-01,  2.83377363e-01,  2.85637648e-01,  2.86559140e-01,\n",
       "        2.89053379e-01,  2.97141870e-01,  3.01294552e-01,  3.03451696e-01,\n",
       "        3.05234740e-01,  3.08415834e-01,  3.15172367e-01,  3.19260678e-01,\n",
       "        3.19475601e-01,  3.24215179e-01,  3.32280095e-01,  3.34323008e-01,\n",
       "        3.36066694e-01,  3.41270602e-01,  3.45374858e-01,  3.47838444e-01,\n",
       "        3.50644655e-01,  3.51524261e-01,  3.57890586e-01,  3.59978478e-01,\n",
       "        3.64204133e-01,  3.68597874e-01,  3.72470020e-01,  3.75272234e-01,\n",
       "        3.79624010e-01,  3.84626876e-01,  3.90942868e-01,  3.95816519e-01,\n",
       "        3.99713473e-01,  4.10273326e-01,  4.12202470e-01,  4.17681350e-01,\n",
       "        4.20210532e-01,  4.26680072e-01,  4.29387598e-01,  4.35224785e-01,\n",
       "        4.47825494e-01,  4.51573817e-01,  4.55093890e-01,  4.64803734e-01,\n",
       "        4.66824730e-01,  4.79335231e-01,  4.91224219e-01,  4.97959580e-01,\n",
       "        5.14452809e-01,  5.30615560e-01,  5.41620978e-01,  5.50439754e-01,\n",
       "        5.60051874e-01,  5.68054011e-01,  5.73636257e-01,  5.83788076e-01,\n",
       "        5.89794679e-01,  5.98045123e-01,  6.14276174e-01,  6.26831315e-01,\n",
       "        6.32229145e-01,  6.42220824e-01,  6.56146596e-01,  6.82621570e-01,\n",
       "        7.14372384e-01,  7.33191930e-01,  7.47283641e-01,  7.91382959e-01,\n",
       "        8.00764568e-01,  8.08172605e-01,  8.49875456e-01,  1.00000000e+00])"
      ]
     },
     "execution_count": 37,
     "metadata": {},
     "output_type": "execute_result"
    }
   ],
   "source": [
    "w"
   ]
  },
  {
   "cell_type": "code",
   "execution_count": 30,
   "metadata": {},
   "outputs": [
    {
     "name": "stderr",
     "output_type": "stream",
     "text": [
      "<class 'networkx.utils.decorators.argmap'> compilation 8:4: FutureWarning: normalized_laplacian_matrix will return a scipy.sparse array instead of a matrix in Networkx 3.0.\n",
      "<class 'networkx.utils.decorators.argmap'> compilation 12:4: FutureWarning: laplacian_matrix will return a scipy.sparse array instead of a matrix in Networkx 3.0.\n"
     ]
    }
   ],
   "source": [
    "N = nx.linalg.normalized_laplacian_matrix(gnx).todense()\n",
    "D = np.array([x[1] for x in (gnx.degree)])\n",
    "L = nx.linalg.laplacian_matrix(gnx).todense()"
   ]
  },
  {
   "cell_type": "code",
   "execution_count": 21,
   "metadata": {},
   "outputs": [
    {
     "data": {
      "text/plain": [
       "array([[1, 0, 0],\n",
       "       [0, 2, 0],\n",
       "       [0, 0, 3]])"
      ]
     },
     "execution_count": 21,
     "metadata": {},
     "output_type": "execute_result"
    }
   ],
   "source": [
    "np.diag([1,2,3])"
   ]
  },
  {
   "cell_type": "code",
   "execution_count": 31,
   "metadata": {},
   "outputs": [],
   "source": [
    "D = np.array([x[1] for x in (gnx.degree)])\n",
    "D_inv = np.diag(1/D)"
   ]
  },
  {
   "cell_type": "code",
   "execution_count": 32,
   "metadata": {},
   "outputs": [],
   "source": [
    "M = D_inv @ A"
   ]
  },
  {
   "cell_type": "code",
   "execution_count": 54,
   "metadata": {},
   "outputs": [],
   "source": [
    "n=1000\n",
    "d=2\n",
    "tau=2.5\n",
    "alpha=1.3\n",
    "g, edges, weights, pts = generation.generate_GIRG_nk(n, d, tau, alpha)"
   ]
  },
  {
   "cell_type": "code",
   "execution_count": 55,
   "metadata": {},
   "outputs": [
    {
     "name": "stderr",
     "output_type": "stream",
     "text": [
      "/var/folders/60/0t2c_bns6n3c7kjhdk4d4wk80000gn/T/ipykernel_14417/1386123811.py:1: FutureWarning: adjacency_matrix will return a scipy.sparse array instead of a matrix in Networkx 3.0.\n",
      "  A = nx.linalg.adjacency_matrix(gnx).todense()\n"
     ]
    },
    {
     "data": {
      "text/plain": [
       "array([1.        , 0.59414605, 0.57651312, 0.54830267, 0.5572033 ])"
      ]
     },
     "execution_count": 55,
     "metadata": {},
     "output_type": "execute_result"
    }
   ],
   "source": [
    "A = nx.linalg.adjacency_matrix(gnx).todense()\n",
    "\n",
    "D = np.array([x[1] for x in (gnx.degree)])\n",
    "D_inv = np.diag(1/D)\n",
    "\n",
    "M = D_inv @ A\n",
    "\n",
    "v, Phi = np.linalg.eig(M)\n",
    "v[:5]"
   ]
  },
  {
   "cell_type": "code",
   "execution_count": 6,
   "metadata": {},
   "outputs": [],
   "source": [
    "n=3000\n",
    "d=2\n",
    "tau=2.5\n",
    "alpha=1.3\n",
    "g, edges, weights, pts = generation.generate_GIRG_nk(n, d, tau, alpha)\n",
    "gnx = nk.nxadapter.nk2nx(g)"
   ]
  },
  {
   "cell_type": "code",
   "execution_count": 7,
   "metadata": {},
   "outputs": [
    {
     "name": "stderr",
     "output_type": "stream",
     "text": [
      "/var/folders/60/0t2c_bns6n3c7kjhdk4d4wk80000gn/T/ipykernel_15181/713265739.py:1: FutureWarning: adjacency_matrix will return a scipy.sparse array instead of a matrix in Networkx 3.0.\n",
      "  A = nx.linalg.adjacency_matrix(gnx).todense()\n"
     ]
    },
    {
     "data": {
      "text/plain": [
       "array([1.        , 0.69061965, 0.67622624, 0.67254675, 0.6578261 ,\n",
       "       0.60273676])"
      ]
     },
     "execution_count": 7,
     "metadata": {},
     "output_type": "execute_result"
    }
   ],
   "source": [
    "A = nx.linalg.adjacency_matrix(gnx).todense()\n",
    "\n",
    "D = np.array([x[1] for x in (gnx.degree)])\n",
    "D_inv = np.diag(1/D)\n",
    "\n",
    "M = D_inv @ A\n",
    "\n",
    "v, Phi = np.linalg.eig(M)\n",
    "v[:6]"
   ]
  },
  {
   "cell_type": "code",
   "execution_count": 8,
   "metadata": {},
   "outputs": [],
   "source": [
    "n=3000\n",
    "d=3\n",
    "tau=2.5\n",
    "alpha=1.3\n",
    "g, edges, weights, pts = generation.generate_GIRG_nk(n, d, tau, alpha)\n",
    "gnx = nk.nxadapter.nk2nx(g)"
   ]
  },
  {
   "cell_type": "code",
   "execution_count": 9,
   "metadata": {},
   "outputs": [
    {
     "name": "stderr",
     "output_type": "stream",
     "text": [
      "/var/folders/60/0t2c_bns6n3c7kjhdk4d4wk80000gn/T/ipykernel_15181/1738892932.py:1: FutureWarning: adjacency_matrix will return a scipy.sparse array instead of a matrix in Networkx 3.0.\n",
      "  A = nx.linalg.adjacency_matrix(gnx).todense()\n"
     ]
    },
    {
     "data": {
      "text/plain": [
       "array([1.        , 0.50057042, 0.49819223, 0.49165207, 0.48411104,\n",
       "       0.47949804])"
      ]
     },
     "execution_count": 9,
     "metadata": {},
     "output_type": "execute_result"
    }
   ],
   "source": [
    "A = nx.linalg.adjacency_matrix(gnx).todense()\n",
    "\n",
    "D = np.array([x[1] for x in (gnx.degree)])\n",
    "D_inv = np.diag(1/D)\n",
    "\n",
    "M = D_inv @ A\n",
    "\n",
    "v3, Phi = np.linalg.eig(M)\n",
    "v3[:6]"
   ]
  },
  {
   "cell_type": "code",
   "execution_count": 80,
   "metadata": {},
   "outputs": [],
   "source": [
    "n = 40\n",
    "\n",
    "edges = set()\n",
    "nodes = {}\n",
    "for i in range(n):\n",
    "    for j in range(n):\n",
    "        node = i*n + j\n",
    "        nodes[(i, j)] = node\n",
    "\n",
    "for i in range(n):\n",
    "    for j in range(n):\n",
    "        for delta in [+1, -1]:\n",
    "            for which in [0, 1]:\n",
    "                node1 = nodes[(i, j)]\n",
    "                i1 = delta if which == 0 else 0\n",
    "                j1 = delta if which == 1 else 0\n",
    "                node2 = nodes[((i + i1) % n, (j+j1) %n)]\n",
    "                _ = edges.add((min(node1, node2), max(node1, node2)))\n",
    "\n",
    "g = nk.Graph(len(nodes))\n",
    "for edge in edges:\n",
    "    _ = g.addEdge(*edge)"
   ]
  },
  {
   "cell_type": "code",
   "execution_count": 81,
   "metadata": {},
   "outputs": [
    {
     "name": "stderr",
     "output_type": "stream",
     "text": [
      "/var/folders/60/0t2c_bns6n3c7kjhdk4d4wk80000gn/T/ipykernel_4749/1586681880.py:3: FutureWarning: adjacency_matrix will return a scipy.sparse array instead of a matrix in Networkx 3.0.\n",
      "  A = nx.linalg.adjacency_matrix(gnx).todense()\n"
     ]
    },
    {
     "data": {
      "text/plain": [
       "array([-1.        +0.j,  1.        +0.j, -0.99384417+0.j, -0.98768834+0.j,\n",
       "        0.99384417+0.j,  0.99384417+0.j])"
      ]
     },
     "execution_count": 81,
     "metadata": {},
     "output_type": "execute_result"
    }
   ],
   "source": [
    "gnx = nk.nxadapter.nk2nx(g)\n",
    "\n",
    "A = nx.linalg.adjacency_matrix(gnx).todense()\n",
    "\n",
    "D = np.array([x[1] for x in (gnx.degree)])\n",
    "D_inv = np.diag(1/D)\n",
    "\n",
    "M = D_inv @ A\n",
    "\n",
    "v3, Phi = np.linalg.eig(M)\n",
    "v3[:6]"
   ]
  },
  {
   "cell_type": "code",
   "execution_count": 82,
   "metadata": {},
   "outputs": [
    {
     "name": "stderr",
     "output_type": "stream",
     "text": [
      "/var/folders/60/0t2c_bns6n3c7kjhdk4d4wk80000gn/T/ipykernel_4749/617535330.py:3: FutureWarning: adjacency_matrix will return a scipy.sparse array instead of a matrix in Networkx 3.0.\n",
      "  A = nx.linalg.adjacency_matrix(gnx).todense()\n"
     ]
    },
    {
     "data": {
      "text/plain": [
       "[-1.0000000000000007,\n",
       " -0.9938441702975696,\n",
       " -0.9938441702975692,\n",
       " -0.993844170297569,\n",
       " -0.9938441702975688,\n",
       " -0.9876883405951384,\n",
       " -0.9876883405951381,\n",
       " -0.9876883405951379,\n",
       " -0.9876883405951379,\n",
       " -0.9755282581475776,\n",
       " -0.9755282581475776,\n",
       " -0.9755282581475773,\n",
       " -0.9755282581475773,\n",
       " -0.9693724284451465,\n",
       " -0.9693724284451464,\n",
       " -0.9693724284451456,\n",
       " -0.9693724284451455,\n",
       " -0.9693724284451455,\n",
       " -0.9693724284451455,\n",
       " -0.969372428445145,\n",
       " -0.9693724284451444,\n",
       " -0.9510565162951543,\n",
       " -0.9510565162951541,\n",
       " -0.9510565162951541,\n",
       " -0.9510565162951533,\n",
       " -0.9455032620941844,\n",
       " -0.9455032620941842,\n",
       " -0.9455032620941841,\n",
       " -0.9455032620941836,\n",
       " -0.9393474323917539,\n",
       " -0.9393474323917539,\n",
       " -0.939347432391753,\n",
       " -0.939347432391753,\n",
       " -0.9393474323917527,\n",
       " -0.9393474323917527,\n",
       " -0.9393474323917527,\n",
       " -0.9393474323917524,\n",
       " -0.9210315202417618,\n",
       " -0.9210315202417613,\n",
       " -0.921031520241761,\n",
       " -0.921031520241761,\n",
       " -0.921031520241761,\n",
       " -0.9210315202417609,\n",
       " -0.9210315202417606,\n",
       " -0.9210315202417604,\n",
       " -0.9045084971874742,\n",
       " -0.9045084971874735,\n",
       " -0.9045084971874735,\n",
       " -0.904508497187473,\n",
       " -0.8983526674850429,\n",
       " -0.8983526674850429,\n",
       " -0.8983526674850427,\n",
       " -0.8983526674850427,\n",
       " -0.8983526674850426,\n",
       " -0.8983526674850424,\n",
       " -0.8983526674850422,\n",
       " -0.8983526674850416,\n",
       " -0.8910065241883679,\n",
       " -0.8910065241883676,\n",
       " -0.8910065241883676,\n",
       " -0.8910065241883667,\n",
       " -0.8800367553350512,\n",
       " -0.8800367553350509,\n",
       " -0.8800367553350504,\n",
       " -0.8800367553350503,\n",
       " -0.8800367553350503,\n",
       " -0.8800367553350501,\n",
       " -0.8800367553350501,\n",
       " -0.88003675533505,\n",
       " -0.8535533905932746,\n",
       " -0.8535533905932744,\n",
       " -0.8535533905932741,\n",
       " -0.8535533905932732,\n",
       " -0.8500117592816587,\n",
       " -0.8500117592816581,\n",
       " -0.8500117592816581,\n",
       " -0.8500117592816576,\n",
       " -0.8500117592816576,\n",
       " -0.8500117592816575,\n",
       " -0.8500117592816573,\n",
       " -0.8500117592816573,\n",
       " -0.8473975608908438,\n",
       " -0.8473975608908433,\n",
       " -0.8473975608908427,\n",
       " -0.8473975608908427,\n",
       " -0.8473975608908427,\n",
       " -0.8473975608908427,\n",
       " -0.8473975608908426,\n",
       " -0.8473975608908417,\n",
       " -0.8290816487408514,\n",
       " -0.8290816487408509,\n",
       " -0.8290816487408507,\n",
       " -0.8290816487408507,\n",
       " -0.8290816487408503,\n",
       " -0.8290816487408503,\n",
       " -0.8290816487408503,\n",
       " -0.8290816487408503,\n",
       " -0.809016994374948,\n",
       " -0.8090169943749476,\n",
       " -0.8090169943749476,\n",
       " -0.8090169943749475,\n",
       " -0.7990566526874577,\n",
       " -0.7990566526874576,\n",
       " -0.7990566526874576,\n",
       " -0.7990566526874575,\n",
       " -0.7990566526874575,\n",
       " -0.7990566526874574,\n",
       " -0.7990566526874573,\n",
       " -0.7990566526874573,\n",
       " -0.7938926261462363,\n",
       " -0.7938926261462362,\n",
       " -0.7938926261462361,\n",
       " -0.793892626146236,\n",
       " -0.7877367964438059,\n",
       " -0.7877367964438057,\n",
       " -0.7877367964438056,\n",
       " -0.7877367964438055,\n",
       " -0.7877367964438053,\n",
       " -0.7877367964438053,\n",
       " -0.7877367964438052,\n",
       " -0.787736796443805,\n",
       " -0.7694208842938136,\n",
       " -0.7694208842938135,\n",
       " -0.7694208842938135,\n",
       " -0.7694208842938134,\n",
       " -0.7694208842938133,\n",
       " -0.7694208842938132,\n",
       " -0.769420884293813,\n",
       " -0.7694208842938128,\n",
       " -0.7580618877807486,\n",
       " -0.758061887780748,\n",
       " -0.758061887780748,\n",
       " -0.7580618877807478,\n",
       " -0.7580618877807476,\n",
       " -0.7580618877807475,\n",
       " -0.7580618877807475,\n",
       " -0.7580618877807466,\n",
       " -0.7393958882404206,\n",
       " -0.7393958882404205,\n",
       " -0.7393958882404204,\n",
       " -0.7393958882404204,\n",
       " -0.7393958882404202,\n",
       " -0.7393958882404202,\n",
       " -0.73939588824042,\n",
       " -0.7393958882404199,\n",
       " -0.7269952498697736,\n",
       " -0.7269952498697733,\n",
       " -0.7269952498697732,\n",
       " -0.7269952498697732,\n",
       " -0.7208394201673426,\n",
       " -0.7208394201673426,\n",
       " -0.7208394201673421,\n",
       " -0.7208394201673421,\n",
       " -0.7208394201673421,\n",
       " -0.720839420167342,\n",
       " -0.7208394201673418,\n",
       " -0.7208394201673418,\n",
       " -0.707106781186548,\n",
       " -0.7071067811865477,\n",
       " -0.7071067811865475,\n",
       " -0.7071067811865474,\n",
       " -0.7025235080173512,\n",
       " -0.702523508017351,\n",
       " -0.7025235080173503,\n",
       " -0.7025235080173502,\n",
       " -0.7025235080173502,\n",
       " -0.7025235080173501,\n",
       " -0.7025235080173501,\n",
       " -0.7025235080173493,\n",
       " -0.6984011233337106,\n",
       " -0.6984011233337105,\n",
       " -0.6984011233337103,\n",
       " -0.6984011233337103,\n",
       " -0.6984011233337102,\n",
       " -0.6984011233337102,\n",
       " -0.6984011233337102,\n",
       " -0.6984011233337099,\n",
       " -0.6724985119639576,\n",
       " -0.6724985119639576,\n",
       " -0.6724985119639575,\n",
       " -0.6724985119639575,\n",
       " -0.6724985119639574,\n",
       " -0.6724985119639574,\n",
       " -0.6724985119639573,\n",
       " -0.6724985119639573,\n",
       " -0.6545084971874746,\n",
       " -0.6545084971874742,\n",
       " -0.654508497187474,\n",
       " -0.6545084971874738,\n",
       " -0.6483526674850434,\n",
       " -0.6483526674850433,\n",
       " -0.6483526674850432,\n",
       " -0.6483526674850427,\n",
       " -0.6483526674850427,\n",
       " -0.6483526674850427,\n",
       " -0.6483526674850426,\n",
       " -0.6483526674850424,\n",
       " -0.6474460167395111,\n",
       " -0.6474460167395107,\n",
       " -0.6474460167395107,\n",
       " -0.6474460167395106,\n",
       " -0.6474460167395104,\n",
       " -0.6474460167395103,\n",
       " -0.6474460167395103,\n",
       " -0.6474460167395097,\n",
       " -0.6315037470572478,\n",
       " -0.6315037470572475,\n",
       " -0.6315037470572475,\n",
       " -0.6315037470572474,\n",
       " -0.6315037470572472,\n",
       " -0.631503747057247,\n",
       " -0.631503747057247,\n",
       " -0.631503747057247,\n",
       " -0.630036755335051,\n",
       " -0.6300367553350508,\n",
       " -0.6300367553350507,\n",
       " -0.6300367553350505,\n",
       " -0.6300367553350505,\n",
       " -0.6300367553350505,\n",
       " -0.6300367553350505,\n",
       " -0.6300367553350503,\n",
       " -0.6000117592816582,\n",
       " -0.6000117592816582,\n",
       " -0.6000117592816578,\n",
       " -0.6000117592816577,\n",
       " -0.6000117592816575,\n",
       " -0.6000117592816575,\n",
       " -0.6000117592816574,\n",
       " -0.6000117592816572,\n",
       " -0.5877852522924737,\n",
       " -0.5877852522924736,\n",
       " -0.5877852522924734,\n",
       " -0.5877852522924734,\n",
       " -0.580548640463048,\n",
       " -0.5805486404630473,\n",
       " -0.5805486404630473,\n",
       " -0.5805486404630472,\n",
       " -0.5805486404630472,\n",
       " -0.5805486404630471,\n",
       " -0.5805486404630471,\n",
       " -0.5805486404630471,\n",
       " -0.5782172325201156,\n",
       " -0.5782172325201154,\n",
       " -0.5782172325201154,\n",
       " -0.5782172325201154,\n",
       " -0.5720614028176848,\n",
       " -0.5720614028176847,\n",
       " -0.5720614028176845,\n",
       " -0.5720614028176845,\n",
       " -0.5720614028176845,\n",
       " -0.5720614028176844,\n",
       " -0.5720614028176844,\n",
       " -0.5720614028176844,\n",
       " -0.5590169943749481,\n",
       " -0.5590169943749478,\n",
       " -0.5590169943749478,\n",
       " -0.5590169943749477,\n",
       " -0.5590169943749477,\n",
       " -0.5590169943749477,\n",
       " -0.5590169943749477,\n",
       " -0.5590169943749475,\n",
       " -0.553745490667693,\n",
       " -0.5537454906676924,\n",
       " -0.5537454906676924,\n",
       " -0.5537454906676923,\n",
       " -0.5537454906676922,\n",
       " -0.5537454906676922,\n",
       " -0.5537454906676921,\n",
       " -0.553745490667692,\n",
       " -0.5237204946142997,\n",
       " -0.5237204946142996,\n",
       " -0.5237204946142995,\n",
       " -0.5237204946142994,\n",
       " -0.5237204946142993,\n",
       " -0.5237204946142993,\n",
       " -0.5237204946142993,\n",
       " -0.5237204946142991,\n",
       " -0.5208878760160102,\n",
       " -0.5208878760160102,\n",
       " -0.5208878760160102,\n",
       " -0.5208878760160099,\n",
       " -0.5208878760160099,\n",
       " -0.5208878760160098,\n",
       " -0.5208878760160097,\n",
       " -0.5208878760160097,\n",
       " -0.5080618877807486,\n",
       " -0.5080618877807478,\n",
       " -0.5080618877807478,\n",
       " -0.5080618877807478,\n",
       " -0.5080618877807477,\n",
       " -0.5080618877807476,\n",
       " -0.5080618877807475,\n",
       " -0.5080618877807475,\n",
       " -0.5000000000000001,\n",
       " -0.5000000000000001,\n",
       " -0.5000000000000001,\n",
       " -0.49999999999999967,\n",
       " -0.49384417029756905,\n",
       " -0.49384417029756905,\n",
       " -0.49384417029756905,\n",
       " -0.49384417029756883,\n",
       " -0.49384417029756883,\n",
       " -0.4938441702975688,\n",
       " -0.4938441702975688,\n",
       " -0.49384417029756866,\n",
       " -0.4827257297075895,\n",
       " -0.4827257297075895,\n",
       " -0.4827257297075893,\n",
       " -0.4827257297075892,\n",
       " -0.4827257297075892,\n",
       " -0.48272572970758915,\n",
       " -0.48272572970758904,\n",
       " -0.4827257297075889,\n",
       " -0.4755282581475772,\n",
       " -0.47552825814757715,\n",
       " -0.4755282581475769,\n",
       " -0.4755282581475769,\n",
       " -0.47552825814757677,\n",
       " -0.47552825814757677,\n",
       " -0.47552825814757677,\n",
       " -0.47552825814757677,\n",
       " -0.45399049973954686,\n",
       " -0.45399049973954675,\n",
       " -0.45399049973954675,\n",
       " -0.45399049973954664,\n",
       " -0.4484011233337106,\n",
       " -0.4484011233337105,\n",
       " -0.44840112333371035,\n",
       " -0.44840112333371024,\n",
       " -0.44840112333371024,\n",
       " -0.44840112333371024,\n",
       " -0.4484011233337102,\n",
       " -0.44840112333370974,\n",
       " -0.4455032620941841,\n",
       " -0.4455032620941841,\n",
       " -0.44550326209418406,\n",
       " -0.44550326209418406,\n",
       " -0.4455032620941839,\n",
       " -0.4455032620941839,\n",
       " -0.4455032620941836,\n",
       " -0.4455032620941835,\n",
       " -0.43177062311338954,\n",
       " -0.43177062311338926,\n",
       " -0.43177062311338926,\n",
       " -0.43177062311338915,\n",
       " -0.43177062311338915,\n",
       " -0.43177062311338915,\n",
       " -0.4317706231133889,\n",
       " -0.4317706231133888,\n",
       " -0.4217827674798851,\n",
       " -0.4217827674798849,\n",
       " -0.4217827674798848,\n",
       " -0.42178276747988436,\n",
       " -0.4156269377774538,\n",
       " -0.4156269377774535,\n",
       " -0.4156269377774535,\n",
       " -0.4156269377774534,\n",
       " -0.4156269377774534,\n",
       " -0.4156269377774534,\n",
       " -0.41562693777745335,\n",
       " -0.41562693777745335,\n",
       " -0.404508497187474,\n",
       " -0.404508497187474,\n",
       " -0.404508497187474,\n",
       " -0.4045084971874737,\n",
       " -0.4045084971874735,\n",
       " -0.4045084971874735,\n",
       " -0.4045084971874735,\n",
       " -0.40450849718747345,\n",
       " -0.3973110256274616,\n",
       " -0.39731102562746146,\n",
       " -0.39731102562746146,\n",
       " -0.3973110256274614,\n",
       " -0.3973110256274614,\n",
       " -0.3973110256274613,\n",
       " -0.3973110256274609,\n",
       " -0.39731102562746073,\n",
       " -0.3815037470572474,\n",
       " -0.3815037470572474,\n",
       " -0.38150374705724727,\n",
       " -0.38150374705724716,\n",
       " -0.38150374705724716,\n",
       " -0.3815037470572471,\n",
       " -0.3815037470572469,\n",
       " -0.3815037470572467,\n",
       " -0.3721098586663523,\n",
       " -0.3721098586663522,\n",
       " -0.3721098586663521,\n",
       " -0.37210985866635204,\n",
       " -0.372109858666352,\n",
       " -0.3721098586663519,\n",
       " -0.3721098586663518,\n",
       " -0.3721098586663518,\n",
       " -0.36728602957406875,\n",
       " -0.3672860295740687,\n",
       " -0.36728602957406864,\n",
       " -0.3672860295740684,\n",
       " -0.36728602957406836,\n",
       " -0.3672860295740683,\n",
       " -0.3672860295740683,\n",
       " -0.3672860295740683,\n",
       " -0.35355339059327395,\n",
       " -0.35355339059327384,\n",
       " -0.35355339059327384,\n",
       " -0.3535533905932737,\n",
       " -0.3535533905932737,\n",
       " -0.35355339059327356,\n",
       " -0.3535533905932735,\n",
       " -0.35355339059327345,\n",
       " -0.3454915028125266,\n",
       " -0.34549150281252655,\n",
       " -0.34549150281252633,\n",
       " -0.34549150281252633,\n",
       " -0.3393356731100954,\n",
       " -0.3393356731100954,\n",
       " -0.33933567311009527,\n",
       " -0.33933567311009527,\n",
       " -0.339335673110095,\n",
       " -0.339335673110095,\n",
       " -0.3393356731100949,\n",
       " -0.3393356731100949,\n",
       " -0.32629126466735847,\n",
       " -0.3262912646673584,\n",
       " -0.3262912646673584,\n",
       " -0.3262912646673583,\n",
       " -0.32629126466735825,\n",
       " -0.3262912646673582,\n",
       " -0.3262912646673582,\n",
       " -0.326291264667358,\n",
       " -0.3210197609601034,\n",
       " -0.32101976096010326,\n",
       " -0.3210197609601032,\n",
       " -0.3210197609601032,\n",
       " -0.32101976096010315,\n",
       " -0.32101976096010315,\n",
       " -0.321019760960103,\n",
       " -0.32101976096010293,\n",
       " -0.30901699437494773,\n",
       " -0.30901699437494745,\n",
       " -0.30901699437494745,\n",
       " -0.3090169943749474,\n",
       " -0.30521248238988924,\n",
       " -0.3052124823898889,\n",
       " -0.30521248238988885,\n",
       " -0.3052124823898888,\n",
       " -0.30521248238988874,\n",
       " -0.3052124823898887,\n",
       " -0.3052124823898887,\n",
       " -0.3052124823898887,\n",
       " -0.29389262614623685,\n",
       " -0.2938926261462367,\n",
       " -0.2938926261462366,\n",
       " -0.2938926261462365,\n",
       " -0.29389262614623646,\n",
       " -0.2938926261462364,\n",
       " -0.2938926261462364,\n",
       " -0.29389262614623635,\n",
       " -0.29099476490671056,\n",
       " -0.29099476490671045,\n",
       " -0.29099476490671033,\n",
       " -0.29099476490671033,\n",
       " -0.2909947649067103,\n",
       " -0.2909947649067101,\n",
       " -0.29099476490671006,\n",
       " -0.29099476490671006,\n",
       " -0.2753361580731585,\n",
       " -0.2753361580731584,\n",
       " -0.2753361580731584,\n",
       " -0.27533615807315837,\n",
       " -0.27533615807315837,\n",
       " -0.2753361580731583,\n",
       " -0.2753361580731582,\n",
       " -0.2753361580731582,\n",
       " -0.2730047501302269,\n",
       " -0.27300475013022685,\n",
       " -0.27300475013022674,\n",
       " -0.2730047501302262,\n",
       " -0.2668489204277957,\n",
       " -0.2668489204277956,\n",
       " -0.2668489204277956,\n",
       " -0.26684892042779546,\n",
       " -0.26684892042779546,\n",
       " -0.2668489204277954,\n",
       " -0.26684892042779534,\n",
       " -0.26684892042779534,\n",
       " -0.25000000000000033,\n",
       " -0.2500000000000002,\n",
       " -0.25000000000000017,\n",
       " -0.25000000000000017,\n",
       " -0.2500000000000001,\n",
       " -0.25,\n",
       " -0.2499999999999997,\n",
       " -0.24999999999999967,\n",
       " -0.24853300827780359,\n",
       " -0.2485330082778035,\n",
       " -0.2485330082778035,\n",
       " -0.24853300827780345,\n",
       " -0.2485330082778034,\n",
       " -0.24853300827780336,\n",
       " -0.24853300827780317,\n",
       " -0.24853300827780314,\n",
       " -0.23272572970758937,\n",
       " -0.23272572970758926,\n",
       " -0.2327257297075892,\n",
       " -0.23272572970758915,\n",
       " -0.23272572970758915,\n",
       " -0.23272572970758915,\n",
       " -0.23272572970758906,\n",
       " -0.23272572970758906,\n",
       " -0.22699524986977354,\n",
       " -0.2269952498697735,\n",
       " -0.22699524986977346,\n",
       " -0.22699524986977343,\n",
       " -0.22699524986977337,\n",
       " -0.22699524986977337,\n",
       " -0.2269952498697733,\n",
       " -0.22699524986977315,\n",
       " -0.21850801222441069,\n",
       " -0.21850801222441063,\n",
       " -0.21850801222441063,\n",
       " -0.21850801222441055,\n",
       " -0.21850801222441046,\n",
       " -0.21850801222441035,\n",
       " -0.21850801222441033,\n",
       " -0.21850801222441021,\n",
       " -0.21567539362612137,\n",
       " -0.21567539362612123,\n",
       " -0.21567539362612123,\n",
       " -0.21567539362612123,\n",
       " -0.21567539362612118,\n",
       " -0.21567539362612115,\n",
       " -0.21567539362612095,\n",
       " -0.21567539362612093,\n",
       " -0.2061073738537637,\n",
       " -0.2061073738537635,\n",
       " -0.20610737385376335,\n",
       " -0.20610737385376335,\n",
       " -0.1999515441513326,\n",
       " -0.19995154415133243,\n",
       " -0.19995154415133237,\n",
       " -0.19995154415133234,\n",
       " -0.1999515441513323,\n",
       " -0.19995154415133223,\n",
       " -0.1999515441513322,\n",
       " -0.1999515441513322,\n",
       " -0.19904489340580028,\n",
       " -0.19904489340580023,\n",
       " -0.1990448934058002,\n",
       " -0.1990448934058001,\n",
       " -0.19904489340580006,\n",
       " -0.19904489340580003,\n",
       " -0.1990448934058,\n",
       " -0.1990448934057999,\n",
       " -0.18163563200134036,\n",
       " -0.18163563200134034,\n",
       " -0.18163563200134034,\n",
       " -0.18163563200134025,\n",
       " -0.1816356320013402,\n",
       " -0.18163563200134017,\n",
       " -0.18163563200134014,\n",
       " -0.18163563200133997,\n",
       " -0.17751324731770055,\n",
       " -0.17751324731770038,\n",
       " -0.17751324731770032,\n",
       " -0.17751324731770024,\n",
       " -0.17751324731770024,\n",
       " -0.1775132473177002,\n",
       " -0.1775132473177002,\n",
       " -0.17751324731770016,\n",
       " -0.1564344650402311,\n",
       " -0.156434465040231,\n",
       " -0.15643446504023095,\n",
       " -0.15643446504023092,\n",
       " -0.15450849718747386,\n",
       " -0.1545084971874738,\n",
       " -0.1545084971874738,\n",
       " -0.15450849718747378,\n",
       " -0.15450849718747373,\n",
       " -0.15450849718747373,\n",
       " -0.1545084971874737,\n",
       " -0.15450849718747353,\n",
       " -0.1516106359479476,\n",
       " -0.15161063594794752,\n",
       " -0.15161063594794744,\n",
       " -0.1516106359479474,\n",
       " -0.15161063594794738,\n",
       " -0.15161063594794738,\n",
       " -0.15161063594794727,\n",
       " -0.15161063594794724,\n",
       " -0.14877801734965812,\n",
       " -0.14877801734965806,\n",
       " -0.14877801734965804,\n",
       " -0.14877801734965798,\n",
       " -0.14877801734965798,\n",
       " -0.14877801734965795,\n",
       " -0.14877801734965793,\n",
       " -0.1487780173496579,\n",
       " -0.14644660940672663,\n",
       " -0.14644660940672652,\n",
       " -0.14644660940672638,\n",
       " -0.1464466094067263,\n",
       " -0.14029077970429527,\n",
       " -0.14029077970429515,\n",
       " -0.14029077970429515,\n",
       " -0.14029077970429504,\n",
       " -0.14029077970429502,\n",
       " -0.14029077970429502,\n",
       " -0.14029077970429502,\n",
       " -0.14029077970429502,\n",
       " -0.13938412895876304,\n",
       " -0.13938412895876295,\n",
       " -0.13938412895876295,\n",
       " -0.13938412895876293,\n",
       " -0.13938412895876287,\n",
       " -0.13938412895876282,\n",
       " -0.13938412895876282,\n",
       " -0.1393841289587628,\n",
       " -0.12655814072350058,\n",
       " -0.12655814072350047,\n",
       " -0.12655814072350047,\n",
       " -0.1265581407235004,\n",
       " -0.12655814072350033,\n",
       " -0.1265581407235003,\n",
       " -0.12655814072350027,\n",
       " -0.12655814072350027,\n",
       " -0.12197486755430333,\n",
       " -0.12197486755430315,\n",
       " -0.1219748675543031,\n",
       " -0.1219748675543031,\n",
       " -0.12197486755430308,\n",
       " -0.12197486755430306,\n",
       " -0.12197486755430301,\n",
       " -0.12197486755430295,\n",
       " -0.11061587104123728,\n",
       " -0.11061587104123728,\n",
       " -0.11061587104123724,\n",
       " -0.11061587104123721,\n",
       " -0.11061587104123721,\n",
       " -0.11061587104123707,\n",
       " -0.11061587104123706,\n",
       " -0.110615871041237,\n",
       " -0.09549150281252652,\n",
       " -0.09549150281252636,\n",
       " -0.0954915028125262,\n",
       " -0.09549150281252619,\n",
       " -0.09194987150091019,\n",
       " -0.09194987150091016,\n",
       " -0.09194987150091016,\n",
       " -0.09194987150091014,\n",
       " -0.09194987150091014,\n",
       " -0.0919498715009101,\n",
       " -0.0919498715009101,\n",
       " -0.09194987150091002,\n",
       " -0.08933567311009526,\n",
       " -0.08933567311009519,\n",
       " -0.08933567311009517,\n",
       " -0.08933567311009516,\n",
       " -0.08933567311009515,\n",
       " -0.08933567311009512,\n",
       " -0.08933567311009506,\n",
       " -0.08933567311009503,\n",
       " -0.07821723252011563,\n",
       " -0.07821723252011546,\n",
       " -0.07821723252011543,\n",
       " -0.0782172325201154,\n",
       " -0.0782172325201154,\n",
       " -0.07821723252011535,\n",
       " -0.07821723252011535,\n",
       " -0.07821723252011534,\n",
       " -0.07629126466735843,\n",
       " -0.07629126466735837,\n",
       " -0.0762912646673583,\n",
       " -0.07629126466735828,\n",
       " -0.07629126466735821,\n",
       " -0.07629126466735821,\n",
       " -0.07629126466735817,\n",
       " -0.07629126466735815,\n",
       " -0.07248675268230012,\n",
       " -0.07248675268229993,\n",
       " -0.07248675268229975,\n",
       " -0.07248675268229969,\n",
       " -0.07248675268229968,\n",
       " -0.07248675268229966,\n",
       " -0.07248675268229965,\n",
       " -0.07248675268229962,\n",
       " -0.07101976096010348,\n",
       " -0.07101976096010319,\n",
       " -0.07101976096010314,\n",
       " -0.07101976096010314,\n",
       " -0.07101976096010312,\n",
       " -0.0710197609601031,\n",
       " -0.07101976096010301,\n",
       " -0.07101976096010298,\n",
       " -0.06689737627646332,\n",
       " -0.06689737627646321,\n",
       " -0.06689737627646321,\n",
       " -0.06689737627646315,\n",
       " -0.06689737627646314,\n",
       " -0.06689737627646306,\n",
       " -0.06689737627646304,\n",
       " -0.06689737627646296,\n",
       " -0.059660764447037384,\n",
       " -0.05966076444703731,\n",
       " -0.05966076444703731,\n",
       " -0.05966076444703723,\n",
       " -0.05966076444703723,\n",
       " -0.059660764447037204,\n",
       " -0.059660764447037176,\n",
       " -0.05966076444703713,\n",
       " -0.05449673790581627,\n",
       " -0.05449673790581605,\n",
       " -0.05449673790581605,\n",
       " -0.054496737905815926,\n",
       " -0.05095510659419995,\n",
       " -0.05095510659419992,\n",
       " -0.05095510659419992,\n",
       " -0.050955106594199905,\n",
       " -0.050955106594199905,\n",
       " -0.050955106594199884,\n",
       " -0.05095510659419987,\n",
       " -0.05095510659419976,\n",
       " -0.04834090820338504,\n",
       " -0.048340908203384964,\n",
       " -0.04834090820338495,\n",
       " -0.04834090820338494,\n",
       " -0.04834090820338492,\n",
       " -0.048340908203384894,\n",
       " -0.04834090820338486,\n",
       " -0.04834090820338478,\n",
       " -0.04099476490671036,\n",
       " -0.040994764906710265,\n",
       " -0.04099476490671025,\n",
       " -0.0409947649067102,\n",
       " -0.04099476490671019,\n",
       " -0.04099476490671015,\n",
       " -0.040994764906710134,\n",
       " -0.04099476490671008,\n",
       " -0.03002499605339303,\n",
       " -0.030024996053392955,\n",
       " -0.030024996053392955,\n",
       " -0.03002499605339291,\n",
       " -0.030024996053392854,\n",
       " -0.030024996053392827,\n",
       " -0.03002499605339282,\n",
       " -0.030024996053392775,\n",
       " -0.02447174185242344,\n",
       " -0.024471741852423425,\n",
       " -0.024471741852423384,\n",
       " -0.024471741852423245,\n",
       " -0.018315912149992244,\n",
       " -0.018315912149992238,\n",
       " -0.018315912149992102,\n",
       " -0.018315912149992068,\n",
       " -0.01831591214999206,\n",
       " -0.01831591214999205,\n",
       " -0.018315912149991977,\n",
       " -0.018315912149991953,\n",
       " -0.006155829702431129,\n",
       " -0.006155829702431122,\n",
       " -0.0061558297024311035,\n",
       " -0.006155829702431052,\n",
       " -2.736896268550574e-16,\n",
       " -2.5817829253687175e-16,\n",
       " -2.5590570320097064e-16,\n",
       " -2.336566320494857e-16,\n",
       " -2.1681183009430288e-16,\n",
       " -2.14317455609196e-16,\n",
       " -2.0967176125148337e-16,\n",
       " -1.9296786336861385e-16,\n",
       " -1.8939023994924623e-16,\n",
       " -1.852253967949504e-16,\n",
       " -1.684015281210051e-16,\n",
       " -1.6196915485126878e-16,\n",
       " -1.5214081486139026e-16,\n",
       " -1.4670159768349857e-16,\n",
       " -1.452454107295323e-16,\n",
       " -1.3441183085394138e-16,\n",
       " -1.2642735508772653e-16,\n",
       " -1.2511049293768462e-16,\n",
       " -1.1363653722604046e-16,\n",
       " -1.1108524178362401e-16,\n",
       " -1.1060859052926762e-16,\n",
       " -1.0111457685455297e-16,\n",
       " -8.077536301924335e-17,\n",
       " -7.525500962479334e-17,\n",
       " -7.080862925075935e-17,\n",
       " -6.709161465899048e-17,\n",
       " -5.563696340120036e-17,\n",
       " -5.1232208974522225e-17,\n",
       " -4.8275499070068346e-17,\n",
       " -3.8739509266428104e-17,\n",
       " -3.503484851634412e-17,\n",
       " -3.198056028962853e-17,\n",
       " -3.1461128886466944e-17,\n",
       " -2.4980428776212644e-17,\n",
       " -2.223129293443242e-17,\n",
       " -1.5710681013861472e-17,\n",
       " -1.4098947369458492e-17,\n",
       " -4.4809377012755835e-18,\n",
       " 4.657015885022742e-19,\n",
       " 1.2227261992068464e-17,\n",
       " 1.6599116576713153e-17,\n",
       " 2.0822168365862006e-17,\n",
       " 3.4238884624051905e-17,\n",
       " 3.835153209034052e-17,\n",
       " 4.928883818172654e-17,\n",
       " 4.9501907095353477e-17,\n",
       " 4.9774882536029886e-17,\n",
       " 6.387497304507607e-17,\n",
       " 6.448387405885419e-17,\n",
       " 6.654649240966939e-17,\n",
       " 6.847961276424874e-17,\n",
       " 7.290754335779228e-17,\n",
       " 7.797518108201633e-17,\n",
       " 8.400522103236627e-17,\n",
       " 8.816303026355213e-17,\n",
       " 8.930799203326218e-17,\n",
       " 1.0301102551802341e-16,\n",
       " 1.0829023346838797e-16,\n",
       " 1.2214330076353622e-16,\n",
       " 1.233888978542643e-16,\n",
       " 1.2377470304399382e-16,\n",
       " 1.2961308202225217e-16,\n",
       " 1.3325169939244895e-16,\n",
       " 1.430168652312725e-16,\n",
       " 1.6707384919037575e-16,\n",
       " 1.67503045373811e-16,\n",
       " 1.7593407771834113e-16,\n",
       " 1.8458691099078319e-16,\n",
       " 2.1099168399299418e-16,\n",
       " 2.1494233477900517e-16,\n",
       " 2.2186216910953632e-16,\n",
       " 2.375880957736636e-16,\n",
       " 2.4283586044762593e-16,\n",
       " 2.562497703659811e-16,\n",
       " 2.7152601981527715e-16,\n",
       " 3.1406269527530203e-16,\n",
       " 3.528980866416396e-16,\n",
       " 5.412268848150437e-16,\n",
       " 0.006155829702430996,\n",
       " 0.006155829702431147,\n",
       " 0.006155829702431159,\n",
       " 0.006155829702431269,\n",
       " 0.018315912149991967,\n",
       " 0.018315912149992005,\n",
       " 0.018315912149992012,\n",
       " 0.018315912149992043,\n",
       " 0.01831591214999205,\n",
       " 0.01831591214999205,\n",
       " 0.018315912149992165,\n",
       " 0.01831591214999227,\n",
       " 0.024471741852422867,\n",
       " 0.024471741852423082,\n",
       " 0.024471741852423158,\n",
       " 0.02447174185242321,\n",
       " 0.03002499605339278,\n",
       " 0.030024996053392785,\n",
       " 0.0300249960533928,\n",
       " 0.0300249960533928,\n",
       " 0.030024996053392802,\n",
       " 0.03002499605339283,\n",
       " 0.030024996053393045,\n",
       " 0.03002499605339305,\n",
       " 0.040994764906710106,\n",
       " 0.040994764906710134,\n",
       " 0.040994764906710154,\n",
       " 0.04099476490671016,\n",
       " 0.040994764906710175,\n",
       " 0.040994764906710224,\n",
       " 0.04099476490671025,\n",
       " 0.04099476490671039,\n",
       " 0.04834090820338472,\n",
       " 0.048340908203384894,\n",
       " 0.04834090820338491,\n",
       " 0.04834090820338492,\n",
       " 0.048340908203384936,\n",
       " 0.04834090820338498,\n",
       " 0.04834090820338498,\n",
       " 0.04834090820338503,\n",
       " 0.05095510659419981,\n",
       " 0.050955106594199835,\n",
       " 0.05095510659419986,\n",
       " 0.05095510659419989,\n",
       " 0.050955106594199974,\n",
       " 0.050955106594199974,\n",
       " 0.05095510659420007,\n",
       " 0.0509551065942001,\n",
       " 0.054496737905815947,\n",
       " 0.054496737905816,\n",
       " 0.05449673790581604,\n",
       " 0.054496737905816287,\n",
       " 0.05966076444703715,\n",
       " 0.05966076444703716,\n",
       " 0.059660764447037176,\n",
       " 0.05966076444703718,\n",
       " 0.059660764447037204,\n",
       " 0.05966076444703724,\n",
       " 0.05966076444703725,\n",
       " 0.05966076444703725,\n",
       " 0.06689737627646303,\n",
       " 0.06689737627646315,\n",
       " 0.06689737627646315,\n",
       " 0.06689737627646321,\n",
       " 0.06689737627646321,\n",
       " 0.06689737627646322,\n",
       " 0.06689737627646326,\n",
       " 0.06689737627646329,\n",
       " 0.07101976096010289,\n",
       " 0.07101976096010301,\n",
       " 0.07101976096010305,\n",
       " 0.07101976096010307,\n",
       " 0.07101976096010307,\n",
       " 0.07101976096010314,\n",
       " 0.07101976096010315,\n",
       " 0.07101976096010344,\n",
       " 0.0724867526822994,\n",
       " 0.0724867526822996,\n",
       " 0.07248675268229962,\n",
       " 0.07248675268229963,\n",
       " 0.07248675268229965,\n",
       " 0.07248675268229969,\n",
       " 0.07248675268229973,\n",
       " 0.07248675268229982,\n",
       " 0.07629126466735812,\n",
       " 0.07629126466735825,\n",
       " 0.07629126466735825,\n",
       " 0.07629126466735826,\n",
       " 0.07629126466735829,\n",
       " 0.0762912646673583,\n",
       " 0.07629126466735832,\n",
       " 0.07629126466735832,\n",
       " 0.07821723252011534,\n",
       " 0.07821723252011538,\n",
       " 0.07821723252011545,\n",
       " 0.07821723252011545,\n",
       " 0.07821723252011548,\n",
       " 0.07821723252011548,\n",
       " 0.07821723252011549,\n",
       " 0.0782172325201155,\n",
       " 0.08933567311009502,\n",
       " 0.0893356731100951,\n",
       " 0.0893356731100951,\n",
       " 0.08933567311009516,\n",
       " 0.08933567311009517,\n",
       " 0.08933567311009524,\n",
       " 0.08933567311009527,\n",
       " 0.08933567311009535,\n",
       " 0.0919498715009101,\n",
       " 0.09194987150091014,\n",
       " 0.09194987150091014,\n",
       " 0.09194987150091015,\n",
       " 0.09194987150091016,\n",
       " 0.09194987150091019,\n",
       " 0.0919498715009102,\n",
       " 0.0919498715009102,\n",
       " 0.09549150281252614,\n",
       " 0.09549150281252629,\n",
       " 0.09549150281252637,\n",
       " 0.09549150281252639,\n",
       " 0.1106158710412369,\n",
       " 0.11061587104123703,\n",
       " 0.11061587104123706,\n",
       " 0.11061587104123713,\n",
       " 0.11061587104123718,\n",
       " 0.11061587104123721,\n",
       " 0.11061587104123725,\n",
       " 0.11061587104123728,\n",
       " 0.1219748675543029,\n",
       " 0.12197486755430295,\n",
       " 0.12197486755430306,\n",
       " 0.12197486755430306,\n",
       " 0.12197486755430306,\n",
       " 0.12197486755430308,\n",
       " 0.12197486755430319,\n",
       " 0.1219748675543033,\n",
       " 0.1265581407235002,\n",
       " 0.1265581407235003,\n",
       " 0.12655814072350033,\n",
       " 0.12655814072350038,\n",
       " 0.1265581407235004,\n",
       " 0.12655814072350047,\n",
       " 0.12655814072350047,\n",
       " 0.12655814072350058,\n",
       " 0.13938412895876262,\n",
       " 0.13938412895876273,\n",
       " 0.13938412895876273,\n",
       " 0.1393841289587628,\n",
       " 0.1393841289587628,\n",
       " 0.13938412895876284,\n",
       " 0.1393841289587629,\n",
       " 0.1393841289587629,\n",
       " 0.14029077970429502,\n",
       " 0.14029077970429504,\n",
       " 0.14029077970429507,\n",
       " 0.1402907797042951,\n",
       " 0.14029077970429513,\n",
       " 0.14029077970429515,\n",
       " 0.14029077970429518,\n",
       " 0.1402907797042954,\n",
       " 0.14644660940672616,\n",
       " ...]"
      ]
     },
     "execution_count": 82,
     "metadata": {},
     "output_type": "execute_result"
    }
   ],
   "source": [
    "gnx = nk.nxadapter.nk2nx(g)\n",
    "\n",
    "A = nx.linalg.adjacency_matrix(gnx).todense()\n",
    "\n",
    "D = np.array([x[1] for x in (gnx.degree)])\n",
    "D_h = D**(0.5)\n",
    "D_hi = D**(-0.5)\n",
    "\n",
    "M = np.diag(1/D) @ A\n",
    "S = np.diag(D_hi) @ A @ np.diag(D_hi)\n",
    "\n",
    "w, v = np.linalg.eigh(S)\n",
    "w1, v1 = np.linalg.eig(S)\n",
    "w1 = w1.real\n",
    "v1 = v1.real\n",
    "\n",
    "sorted(w)"
   ]
  },
  {
   "cell_type": "code",
   "execution_count": 85,
   "metadata": {},
   "outputs": [
    {
     "data": {
      "text/plain": [
       "array([1.        , 0.88382421, 0.88382421, ..., 0.88382421, 0.88382421,\n",
       "       1.        ])"
      ]
     },
     "execution_count": 85,
     "metadata": {},
     "output_type": "execute_result"
    }
   ],
   "source": [
    "w**20"
   ]
  },
  {
   "cell_type": "code",
   "execution_count": 5,
   "metadata": {},
   "outputs": [
    {
     "data": {
      "text/plain": [
       "matrix([[1., 1., 1., ..., 1., 1., 1.]])"
      ]
     },
     "execution_count": 5,
     "metadata": {},
     "output_type": "execute_result"
    }
   ],
   "source": [
    "M @ np.ones(M.shape[0])"
   ]
  },
  {
   "cell_type": "code",
   "execution_count": 17,
   "metadata": {},
   "outputs": [
    {
     "data": {
      "text/plain": [
       "array([-1.        ,  1.        , -0.99384417, -0.98768834,  0.99384417,\n",
       "        0.99384417,  0.98768834,  0.98768834, -0.98768834, -0.99384417])"
      ]
     },
     "execution_count": 17,
     "metadata": {},
     "output_type": "execute_result"
    }
   ],
   "source": [
    "v3.real[:10]"
   ]
  },
  {
   "cell_type": "code",
   "execution_count": 132,
   "metadata": {},
   "outputs": [],
   "source": [
    "n = 50\n",
    "\n",
    "edges = set()\n",
    "nodes = set()\n",
    "for i in range(n):\n",
    "    nodes.add(i)\n",
    "\n",
    "for i in range(n):\n",
    "    for delta in [+1, -1]:\n",
    "        for which in [0, 1]:\n",
    "            node1 = i\n",
    "            node2 = (i + delta)% n\n",
    "            _ = edges.add((min(node1, node2), max(node1, node2)))\n",
    "\n",
    "g = nk.Graph(len(nodes))\n",
    "for edge in edges:\n",
    "    _ = g.addEdge(*edge)"
   ]
  },
  {
   "cell_type": "code",
   "execution_count": 153,
   "metadata": {},
   "outputs": [],
   "source": [
    "n = 6\n",
    "\n",
    "edges = set()\n",
    "nodes = {}\n",
    "for i in range(n):\n",
    "    for j in range(n):\n",
    "        node = i*n + j\n",
    "        nodes[(i, j)] = node\n",
    "\n",
    "for i in range(n):\n",
    "    for j in range(n):\n",
    "        for delta in [+1, -1]:\n",
    "            for which in [0, 1]:\n",
    "                node1 = nodes[(i, j)]\n",
    "                i1 = delta if which == 0 else 0\n",
    "                j1 = delta if which == 1 else 0\n",
    "                node2 = nodes[((i + i1) % n, (j+j1) %n)]\n",
    "                _ = edges.add((min(node1, node2), max(node1, node2)))\n",
    "\n",
    "g = nk.Graph(len(nodes))\n",
    "for edge in edges:\n",
    "    _ = g.addEdge(*edge)"
   ]
  },
  {
   "cell_type": "code",
   "execution_count": 59,
   "metadata": {},
   "outputs": [],
   "source": [
    "n=2000\n",
    "d=3\n",
    "tau=2.5\n",
    "alpha=1.3\n",
    "g, edges, weights, pts = generation.generate_GIRG_nk(n, d, tau, alpha, points_type=generation.PointsCube)"
   ]
  },
  {
   "cell_type": "code",
   "execution_count": 60,
   "metadata": {},
   "outputs": [
    {
     "name": "stderr",
     "output_type": "stream",
     "text": [
      "/var/folders/60/0t2c_bns6n3c7kjhdk4d4wk80000gn/T/ipykernel_13868/1756739252.py:3: FutureWarning: adjacency_matrix will return a scipy.sparse array instead of a matrix in Networkx 3.0.\n",
      "  A = nx.linalg.adjacency_matrix(gnx).todense()\n"
     ]
    },
    {
     "data": {
      "text/plain": [
       "[<matplotlib.lines.Line2D at 0x2d0cef130>]"
      ]
     },
     "execution_count": 60,
     "metadata": {},
     "output_type": "execute_result"
    },
    {
     "data": {
      "image/png": "[encoded data removed]",
      "text/plain": [
       "<Figure size 640x480 with 1 Axes>"
      ]
     },
     "metadata": {},
     "output_type": "display_data"
    }
   ],
   "source": [
    "gnx = nk.nxadapter.nk2nx(g)\n",
    "\n",
    "A = nx.linalg.adjacency_matrix(gnx).todense()\n",
    "\n",
    "D = np.array([x[1] for x in (gnx.degree)])\n",
    "D_h = D**(0.5)\n",
    "D_hi = D**(-0.5)\n",
    "\n",
    "M = np.diag(1/D) @ A\n",
    "M = 0.5 * M + 0.5 * np.eye(M.shape[0])\n",
    "# S = np.diag(D_hi) @ A @ np.diag(D_hi)\n",
    "S = np.diag(D_h) @ M @ np.diag(D_hi)\n",
    "\n",
    "w, V = np.linalg.eigh(S)\n",
    "\n",
    "# S = V @ np.diag(w) @ V.T\n",
    "# M = D^{-1/2} @ S @ D^{1/2} \n",
    "# = D^{-1/2} @ V @ np.diag(w) @ V.T @ D^{1/2}\n",
    "# = Phi @ np.diag(w) @ Psi.T\n",
    "# Phi = D^{-1/2} @ V\n",
    "# Psi = D^{1/2} @ V\n",
    "\n",
    "\n",
    "Phi = np.diag(D_hi) @ V\n",
    "Psi = np.diag(D_h) @ V\n",
    "\n",
    "n = Phi.shape[0]\n",
    "\n",
    "def diff_map(i, t):\n",
    "    # n = 5, so 0, 1, 2, 3, 4, we want to get 3, 2, 1, 0\n",
    "    # so 5-2 -> -1, -1\n",
    "    return np.array([Phi[i, j] for j in range(n-2, -1, -1)]) * (np.flip(w)[1:]**t)\n",
    "\n",
    "plt.plot((np.flip(w)**5)[:10], marker='x')\n",
    "\n",
    "# sorted(w)"
   ]
  },
  {
   "cell_type": "code",
   "execution_count": 74,
   "metadata": {},
   "outputs": [
    {
     "data": {
      "text/plain": [
       "(2000, 1999)"
      ]
     },
     "execution_count": 74,
     "metadata": {},
     "output_type": "execute_result"
    },
    {
     "data": {
      "text/plain": [
       "<Figure size 640x480 with 0 Axes>"
      ]
     },
     "execution_count": 74,
     "metadata": {},
     "output_type": "execute_result"
    },
    {
     "data": {
      "text/plain": [
       "<matplotlib.collections.PathCollection at 0x2b9715f70>"
      ]
     },
     "execution_count": 74,
     "metadata": {},
     "output_type": "execute_result"
    },
    {
     "data": {
      "image/png": "[encoded data removed]",
      "text/plain": [
       "<Figure size 640x480 with 1 Axes>"
      ]
     },
     "metadata": {},
     "output_type": "display_data"
    }
   ],
   "source": [
    "pts = np.array([diff_map(i, 10) for i in range(n)])\n",
    "pts.shape\n",
    "plt.figure()\n",
    "xs = pts[:, 0]\n",
    "ys = pts[:, 5]\n",
    "plt.scatter(xs, ys)\n",
    "# for i in range(len(xs)):\n",
    "#     _ = plt.annotate(i, (xs[i], ys[i]))"
   ]
  },
  {
   "cell_type": "code",
   "execution_count": 5,
   "metadata": {},
   "outputs": [
    {
     "data": {
      "text/plain": [
       "(5, 5, 2)"
      ]
     },
     "execution_count": 5,
     "metadata": {},
     "output_type": "execute_result"
    }
   ],
   "source": [
    "points = np.random.random((5, 2))\n",
    "(points[:, None, :] - points[None, :, :]).shape"
   ]
  },
  {
   "cell_type": "code",
   "execution_count": 6,
   "metadata": {},
   "outputs": [],
   "source": [
    "from typing import List\n",
    "\n",
    "def get_dists_cube(points: np.ndarray):\n",
    "    return np.linalg.norm(points[:, None, :] - points[None, :, :], ord=np.inf, axis=-1)\n",
    "\n",
    "def get_probs_cube(weights: List[float], pts: np.ndarray, alpha=2.0, const=1.0):\n",
    "    \"\"\"\n",
    "    Computes min(1, w_u w_v / ||x_u - x_v||_inf^d)^alpha\n",
    "    as a big n x n square matrix (we only need upper triangular bit tho)\n",
    "    \"\"\"\n",
    "    outer = np.outer(weights, weights)\n",
    "    n, d = pts.shape\n",
    "    dists = get_dists_cube(pts)\n"
   ]
  },
  {
   "cell_type": "code",
   "execution_count": 7,
   "metadata": {},
   "outputs": [
    {
     "data": {
      "text/plain": [
       "array([[0.     , 0.04883, 0.3123 , 0.607  , 0.103  ],\n",
       "       [0.04883, 0.     , 0.2634 , 0.558  , 0.1196 ],\n",
       "       [0.3123 , 0.2634 , 0.     , 0.4897 , 0.3308 ],\n",
       "       [0.607  , 0.558  , 0.4897 , 0.     , 0.6255 ],\n",
       "       [0.103  , 0.1196 , 0.3308 , 0.6255 , 0.     ]], dtype=float16)"
      ]
     },
     "execution_count": 7,
     "metadata": {},
     "output_type": "execute_result"
    }
   ],
   "source": [
    "class Points(np.ndarray):\n",
    "\n",
    "    def __new__(cls, input_array):\n",
    "        # Input array is an already formed ndarray instance\n",
    "        # We first cast to be our class type\n",
    "        obj = np.asarray(input_array).view(cls)\n",
    "        # Finally, we must return the newly created object:\n",
    "        return obj\n",
    "\n",
    "    def dists(self):\n",
    "        return generation.get_dists_julia(self)\n",
    "\n",
    "class RealisticInfoArray(np.ndarray):\n",
    "\n",
    "    def __new__(cls, input_array):\n",
    "        # Input array is an already formed ndarray instance\n",
    "        # We first cast to be our class type\n",
    "        obj = np.asarray(input_array).view(cls)\n",
    "        # add the new attribute to the created instance\n",
    "        # obj.info = info\n",
    "        # Finally, we must return the newly created object:\n",
    "        return obj\n",
    "\n",
    "    # def __array_finalize__(self, obj):\n",
    "    #     # see InfoArray.__array_finalize__ for comments\n",
    "    #     if obj is None: return\n",
    "    #     self.info = getattr(obj, 'info', None)\n",
    "\n",
    "    def foo(self):\n",
    "        print('foo')\n",
    "\n",
    "points_temp = Points(points)\n",
    "points_temp.dists()\n",
    "# asdf = RealisticInfoArray(points)\n",
    "# asdf.foo()\n"
   ]
  },
  {
   "cell_type": "code",
   "execution_count": null,
   "metadata": {},
   "outputs": [],
   "source": []
  },
  {
   "cell_type": "code",
   "execution_count": 177,
   "metadata": {},
   "outputs": [
    {
     "name": "stdout",
     "output_type": "stream",
     "text": [
      "foo\n"
     ]
    }
   ],
   "source": [
    "asdf.foo()"
   ]
  },
  {
   "cell_type": "code",
   "execution_count": 175,
   "metadata": {},
   "outputs": [
    {
     "data": {
      "text/plain": [
       "__main__.Points"
      ]
     },
     "execution_count": 175,
     "metadata": {},
     "output_type": "execute_result"
    }
   ],
   "source": [
    "type(points_temp)"
   ]
  },
  {
   "cell_type": "code",
   "execution_count": 171,
   "metadata": {},
   "outputs": [
    {
     "ename": "AttributeError",
     "evalue": "'Points' object has no attribute 'dist'",
     "output_type": "error",
     "traceback": [
      "\u001b[0;31m---------------------------------------------------------------------------\u001b[0m",
      "\u001b[0;31mAttributeError\u001b[0m                            Traceback (most recent call last)",
      "\u001b[1;32m/Users/benjidayan/GDrive/eth_courses/GIRG/benji_src/diffusion_maps.ipynb Cell 32\u001b[0m in \u001b[0;36m<cell line: 1>\u001b[0;34m()\u001b[0m\n\u001b[0;32m----> <a href='vscode-notebook-cell:/Users/benjidayan/GDrive/eth_courses/GIRG/benji_src/diffusion_maps.ipynb#Y122sZmlsZQ%3D%3D?line=0'>1</a>\u001b[0m points_temp\u001b[39m.\u001b[39;49mdist()\n",
      "\u001b[0;31mAttributeError\u001b[0m: 'Points' object has no attribute 'dist'"
     ]
    }
   ],
   "source": [
    "points_temp.dist()"
   ]
  },
  {
   "cell_type": "code",
   "execution_count": 167,
   "metadata": {},
   "outputs": [
    {
     "data": {
      "text/plain": [
       "array([[0.512, 0.029],\n",
       "       [0.5  , 0.756],\n",
       "       [0.26 , 0.195],\n",
       "       [0.277, 0.708],\n",
       "       [0.536, 0.251]])"
      ]
     },
     "execution_count": 167,
     "metadata": {},
     "output_type": "execute_result"
    }
   ],
   "source": [
    "points"
   ]
  },
  {
   "cell_type": "code",
   "execution_count": null,
   "metadata": {},
   "outputs": [],
   "source": [
    "fig = plt.figure()\n",
    "ax = fig.add_subplot(projection='3d')"
   ]
  },
  {
   "cell_type": "code",
   "execution_count": 119,
   "metadata": {},
   "outputs": [
    {
     "data": {
      "text/plain": [
       "[3, 2, 1, 0]"
      ]
     },
     "execution_count": 119,
     "metadata": {},
     "output_type": "execute_result"
    }
   ],
   "source": [
    "list(range(5a-2, -1, -1))"
   ]
  },
  {
   "cell_type": "code",
   "execution_count": 112,
   "metadata": {},
   "outputs": [
    {
     "data": {
      "text/plain": [
       "array([6.08337491e-17, 9.54915028e-02, 9.54915028e-02, 3.45491503e-01,\n",
       "       3.45491503e-01, 6.54508497e-01, 6.54508497e-01, 9.04508497e-01,\n",
       "       9.04508497e-01, 1.00000000e+00])"
      ]
     },
     "execution_count": 112,
     "metadata": {},
     "output_type": "execute_result"
    }
   ],
   "source": []
  },
  {
   "cell_type": "code",
   "execution_count": 99,
   "metadata": {},
   "outputs": [
    {
     "data": {
      "text/plain": [
       "1.7609854935063003e-14"
      ]
     },
     "execution_count": 99,
     "metadata": {},
     "output_type": "execute_result"
    },
    {
     "data": {
      "text/plain": [
       "1.686774176975156e-14"
      ]
     },
     "execution_count": 99,
     "metadata": {},
     "output_type": "execute_result"
    }
   ],
   "source": [
    "a\n",
    "np.abs(S - v @ np.diag(w) @ v.T).sum()\n",
    "np.abs(M - Phi @ np.diag(w) @ Psi.T).sum()"
   ]
  },
  {
   "cell_type": "code",
   "execution_count": 107,
   "metadata": {},
   "outputs": [
    {
     "data": {
      "text/plain": [
       "array([-1.86297881e-82, -2.39405269e-06, -7.56943085e-07, -1.26020809e-03,\n",
       "        9.13777206e-04, -2.30327485e-02,  3.02012521e-02, -1.76647380e-01,\n",
       "        7.38250414e-02, -2.23606798e-01])"
      ]
     },
     "execution_count": 107,
     "metadata": {},
     "output_type": "execute_result"
    }
   ],
   "source": [
    "def diff_map(i, t):\n",
    "    return np.array([Phi[i, j] for j in range(Phi.shape[1])]) * (w**t)\n",
    "\n",
    "diff_map(2, 5)"
   ]
  },
  {
   "cell_type": "code",
   "execution_count": 79,
   "metadata": {},
   "outputs": [
    {
     "data": {
      "text/plain": [
       "[-1.0000000000000004,\n",
       " -0.9876883405951382,\n",
       " -0.9876883405951371,\n",
       " -0.951056516295154,\n",
       " -0.9510565162951538,\n",
       " -0.8910065241883696,\n",
       " -0.8910065241883685,\n",
       " -0.8090169943749482,\n",
       " -0.8090169943749477,\n",
       " -0.7071067811865502,\n",
       " -0.7071067811865471,\n",
       " -0.5877852522924752,\n",
       " -0.5877852522924719,\n",
       " -0.4539904997395473,\n",
       " -0.4539904997395466,\n",
       " -0.30901699437494823,\n",
       " -0.30901699437494756,\n",
       " -0.15643446504023104,\n",
       " -0.15643446504023084,\n",
       " -1.490156693593269e-16,\n",
       " -1.490156693593269e-16,\n",
       " 0.15643446504023084,\n",
       " 0.1564344650402315,\n",
       " 0.3090169943749466,\n",
       " 0.30901699437494773,\n",
       " 0.45399049973954636,\n",
       " 0.45399049973954686,\n",
       " 0.587785252292473,\n",
       " 0.5877852522924731,\n",
       " 0.707106781186547,\n",
       " 0.7071067811865471,\n",
       " 0.8090169943749443,\n",
       " 0.8090169943749471,\n",
       " 0.891006524188367,\n",
       " 0.8910065241883678,\n",
       " 0.9510565162951519,\n",
       " 0.9510565162951538,\n",
       " 0.9876883405951358,\n",
       " 0.9876883405951378,\n",
       " 0.9999999999999998]"
      ]
     },
     "execution_count": 79,
     "metadata": {},
     "output_type": "execute_result"
    }
   ],
   "source": [
    "sorted(w1)"
   ]
  },
  {
   "cell_type": "code",
   "execution_count": 68,
   "metadata": {},
   "outputs": [],
   "source": [
    "X = np.random.random((40,40))\n",
    "X = X + X.T\n",
    "w1, v1 = np.linalg.eig(X)\n",
    "w1 = w1.real\n",
    "v1 = v1.real"
   ]
  },
  {
   "cell_type": "code",
   "execution_count": 69,
   "metadata": {},
   "outputs": [
    {
     "data": {
      "text/plain": [
       "array([[-9.54791801e-15, -4.21884749e-15, -1.77635684e-15, ...,\n",
       "        -2.88657986e-15, -2.66453526e-15, -3.77475828e-15],\n",
       "       [-4.66293670e-15, -3.77475828e-15, -7.10542736e-15, ...,\n",
       "        -4.99600361e-15, -4.66293670e-15, -8.88178420e-16],\n",
       "       [-1.77635684e-15, -7.10542736e-15,  1.22124533e-15, ...,\n",
       "        -2.38697950e-15, -1.77635684e-15,  1.80411242e-16],\n",
       "       ...,\n",
       "       [-2.88657986e-15, -5.21804822e-15, -2.44249065e-15, ...,\n",
       "         2.10942375e-15, -3.33066907e-15,  8.88178420e-16],\n",
       "       [-2.66453526e-15, -4.21884749e-15, -1.55431223e-15, ...,\n",
       "        -3.33066907e-15, -4.10782519e-15, -1.11022302e-15],\n",
       "       [-3.77475828e-15, -8.88178420e-16,  1.24900090e-16, ...,\n",
       "         1.22124533e-15, -1.11022302e-15,  4.66293670e-15]])"
      ]
     },
     "execution_count": 69,
     "metadata": {},
     "output_type": "execute_result"
    }
   ],
   "source": [
    "v1 @ np.diag(w1) @ v1.T - X"
   ]
  },
  {
   "cell_type": "code",
   "execution_count": 96,
   "metadata": {},
   "outputs": [
    {
     "name": "stderr",
     "output_type": "stream",
     "text": [
      "/var/folders/60/0t2c_bns6n3c7kjhdk4d4wk80000gn/T/ipykernel_15710/4169547437.py:3: FutureWarning: adjacency_matrix will return a scipy.sparse array instead of a matrix in Networkx 3.0.\n",
      "  A = nx.linalg.adjacency_matrix(gnx).todense()\n"
     ]
    },
    {
     "ename": "ValueError",
     "evalue": "shapes (40,1) and (40,40) not aligned: 1 (dim 1) != 40 (dim 0)",
     "output_type": "error",
     "traceback": [
      "\u001b[0;31m---------------------------------------------------------------------------\u001b[0m",
      "\u001b[0;31mValueError\u001b[0m                                Traceback (most recent call last)",
      "\u001b[1;32m/Users/benjidayan/GDrive/eth_courses/GIRG/benji_src/diffusion_maps.ipynb Cell 22\u001b[0m in \u001b[0;36m<cell line: 10>\u001b[0;34m()\u001b[0m\n\u001b[1;32m      <a href='vscode-notebook-cell:/Users/benjidayan/GDrive/eth_courses/GIRG/benji_src/diffusion_maps.ipynb#X43sZmlsZQ%3D%3D?line=6'>7</a>\u001b[0m D_half \u001b[39m=\u001b[39m np\u001b[39m.\u001b[39msqrt(D)\n\u001b[1;32m      <a href='vscode-notebook-cell:/Users/benjidayan/GDrive/eth_courses/GIRG/benji_src/diffusion_maps.ipynb#X43sZmlsZQ%3D%3D?line=7'>8</a>\u001b[0m D_invhalf \u001b[39m=\u001b[39m \u001b[39m1\u001b[39m\u001b[39m/\u001b[39mD_half\n\u001b[0;32m---> <a href='vscode-notebook-cell:/Users/benjidayan/GDrive/eth_courses/GIRG/benji_src/diffusion_maps.ipynb#X43sZmlsZQ%3D%3D?line=9'>10</a>\u001b[0m M \u001b[39m=\u001b[39m D_inv[:, np\u001b[39m.\u001b[39;49mnewaxis] \u001b[39m*\u001b[39;49m A\n\u001b[1;32m     <a href='vscode-notebook-cell:/Users/benjidayan/GDrive/eth_courses/GIRG/benji_src/diffusion_maps.ipynb#X43sZmlsZQ%3D%3D?line=10'>11</a>\u001b[0m S \u001b[39m=\u001b[39m D_invhalf[:, np\u001b[39m.\u001b[39mnewaxis] \u001b[39m*\u001b[39m A \u001b[39m*\u001b[39m D_invhalf\n",
      "File \u001b[0;32m/opt/homebrew/anaconda3/lib/python3.9/site-packages/numpy/matrixlib/defmatrix.py:224\u001b[0m, in \u001b[0;36mmatrix.__rmul__\u001b[0;34m(self, other)\u001b[0m\n\u001b[1;32m    223\u001b[0m \u001b[39mdef\u001b[39;00m \u001b[39m__rmul__\u001b[39m(\u001b[39mself\u001b[39m, other):\n\u001b[0;32m--> 224\u001b[0m     \u001b[39mreturn\u001b[39;00m N\u001b[39m.\u001b[39;49mdot(other, \u001b[39mself\u001b[39;49m)\n",
      "File \u001b[0;32m<__array_function__ internals>:200\u001b[0m, in \u001b[0;36mdot\u001b[0;34m(*args, **kwargs)\u001b[0m\n",
      "\u001b[0;31mValueError\u001b[0m: shapes (40,1) and (40,40) not aligned: 1 (dim 1) != 40 (dim 0)"
     ]
    }
   ],
   "source": [
    "gnx = nk.nxadapter.nk2nx(g)\n",
    "\n",
    "A = nx.linalg.adjacency_matrix(gnx).todense()\n",
    "\n",
    "D = np.array([x[1] for x in (gnx.degree)])\n",
    "D_inv = 1/D\n",
    "D_half = np.sqrt(D)\n",
    "D_invhalf = 1/D_half\n",
    "\n",
    "M = D_inv[:, np.newaxis] * A\n",
    "S = D_invhalf[:, np.newaxis] * A * D_invhalf\n"
   ]
  },
  {
   "cell_type": "code",
   "execution_count": 98,
   "metadata": {},
   "outputs": [
    {
     "data": {
      "text/plain": [
       "(40,)"
      ]
     },
     "execution_count": 98,
     "metadata": {},
     "output_type": "execute_result"
    },
    {
     "data": {
      "text/plain": [
       "(40, 40)"
      ]
     },
     "execution_count": 98,
     "metadata": {},
     "output_type": "execute_result"
    }
   ],
   "source": [
    "D_inv.shape\n",
    "A.shape"
   ]
  },
  {
   "cell_type": "code",
   "execution_count": 101,
   "metadata": {},
   "outputs": [
    {
     "data": {
      "text/plain": [
       "(4,)"
      ]
     },
     "execution_count": 101,
     "metadata": {},
     "output_type": "execute_result"
    },
    {
     "data": {
      "text/plain": [
       "(4, 4)"
      ]
     },
     "execution_count": 101,
     "metadata": {},
     "output_type": "execute_result"
    }
   ],
   "source": [
    "bar.shape\n",
    "foo.shape"
   ]
  },
  {
   "cell_type": "code",
   "execution_count": 99,
   "metadata": {},
   "outputs": [
    {
     "data": {
      "text/plain": [
       "array([[ 0,  1,  2,  3],\n",
       "       [ 4,  5,  6,  7],\n",
       "       [ 8,  9, 10, 11],\n",
       "       [12, 13, 14, 15]])"
      ]
     },
     "execution_count": 99,
     "metadata": {},
     "output_type": "execute_result"
    },
    {
     "data": {
      "text/plain": [
       "array([0, 1, 2, 3])"
      ]
     },
     "execution_count": 99,
     "metadata": {},
     "output_type": "execute_result"
    },
    {
     "data": {
      "text/plain": [
       "array([[ 0,  1,  4,  9],\n",
       "       [ 0,  5, 12, 21],\n",
       "       [ 0,  9, 20, 33],\n",
       "       [ 0, 13, 28, 45]])"
      ]
     },
     "execution_count": 99,
     "metadata": {},
     "output_type": "execute_result"
    },
    {
     "data": {
      "text/plain": [
       "array([[ 0,  0,  0,  0],\n",
       "       [ 4,  5,  6,  7],\n",
       "       [16, 18, 20, 22],\n",
       "       [36, 39, 42, 45]])"
      ]
     },
     "execution_count": 99,
     "metadata": {},
     "output_type": "execute_result"
    }
   ],
   "source": [
    "foo = np.arange(16).reshape(4,4)\n",
    "bar = np.arange(4)\n",
    "foo\n",
    "bar\n",
    "# (1, 4) * (4, 4)\n",
    "bar * foo\n",
    "# (4, 1) * (4, 4)\n",
    "bar[:, np.newaxis] * foo\n"
   ]
  },
  {
   "cell_type": "code",
   "execution_count": 60,
   "metadata": {},
   "outputs": [],
   "source": [
    "diffmap = lambda i: np.array(Phi[i, 1:].real).squeeze() * v3[1:].real"
   ]
  },
  {
   "cell_type": "code",
   "execution_count": 74,
   "metadata": {},
   "outputs": [
    {
     "data": {
      "text/plain": [
       "<matplotlib.collections.PathCollection at 0x2b8574610>"
      ]
     },
     "execution_count": 74,
     "metadata": {},
     "output_type": "execute_result"
    },
    {
     "data": {
      "image/png": "[encoded data removed]",
      "text/plain": [
       "<Figure size 640x480 with 1 Axes>"
      ]
     },
     "metadata": {},
     "output_type": "display_data"
    }
   ],
   "source": [
    "pts = [diffmap(i)[:2] for i in range(n)]\n",
    "x, y = zip(*pts)\n",
    "fig, ax = plt.subplots()\n",
    "ax.scatter(x, y)\n",
    "for i in range(15):\n",
    "    _ = ax.annotate(str(i), (x[i], y[i]))\n",
    "\n",
    "plt.show()"
   ]
  },
  {
   "cell_type": "code",
   "execution_count": 58,
   "metadata": {},
   "outputs": [
    {
     "data": {
      "text/plain": [
       "array([-0.15037524,  0.1408805 , -0.15616724,  0.15616724])"
      ]
     },
     "execution_count": 58,
     "metadata": {},
     "output_type": "execute_result"
    }
   ],
   "source": [
    "diffmap(0)[:4]"
   ]
  },
  {
   "cell_type": "code",
   "execution_count": 59,
   "metadata": {},
   "outputs": [
    {
     "data": {
      "text/plain": [
       "array([-0.15037524,  0.1408805 , -0.15616724,  0.15616724])"
      ]
     },
     "execution_count": 59,
     "metadata": {},
     "output_type": "execute_result"
    }
   ],
   "source": [
    "diffmap(1)[:4]"
   ]
  },
  {
   "cell_type": "code",
   "execution_count": null,
   "metadata": {},
   "outputs": [],
   "source": []
  }
 ],
 "metadata": {
  "kernelspec": {
   "display_name": "base",
   "language": "python",
   "name": "python3"
  },
  "language_info": {
   "codemirror_mode": {
    "name": "ipython",
    "version": 3
   },
   "file_extension": ".py",
   "mimetype": "text/x-python",
   "name": "python",
   "nbconvert_exporter": "python",
   "pygments_lexer": "ipython3",
   "version": "3.9.13"
  },
  "orig_nbformat": 4
 },
 "nbformat": 4,
 "nbformat_minor": 2
}
