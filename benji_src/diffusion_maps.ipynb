{
 "cells": [
  {
   "cell_type": "code",
   "execution_count": 1,
   "metadata": {},
   "outputs": [],
   "source": [
    "import sys\n",
    "sys.path.append('../')"
   ]
  },
  {
   "cell_type": "code",
   "execution_count": 2,
   "metadata": {},
   "outputs": [
    {
     "data": {
      "text/html": [
       "\n",
       "\t\t\t<script type=\"text/javascript\">\n",
       "\t\t\t<!--\n",
       "\t\t\t\t\n",
       "\t\t\t{\n",
       "\t\t\t\tvar element = document.getElementById('NetworKit_script');\n",
       "\t\t\t\tif (element) {\n",
       "\t\t\t\t\telement.parentNode.removeChild(element);\n",
       "\t\t\t\t}\n",
       "\t\t\t\telement = document.createElement('script');\n",
       "\t\t\t\telement.type = 'text/javascript';\n",
       "\t\t\t\telement.innerHTML = 'function NetworKit_pageEmbed(id) { var i, j; var elements; elements = document.getElementById(id).getElementsByClassName(\"Plot\"); for (i=0; i<elements.length; i++) { elements[i].id = id + \"_Plot_\" + i; var data = elements[i].getAttribute(\"data-image\").split(\"|\"); elements[i].removeAttribute(\"data-image\"); var content = \"<div class=\\\\\"Image\\\\\" id=\\\\\"\" + elements[i].id + \"_Image\\\\\" />\"; elements[i].innerHTML = content; elements[i].setAttribute(\"data-image-index\", 0); elements[i].setAttribute(\"data-image-length\", data.length); for (j=0; j<data.length; j++) { elements[i].setAttribute(\"data-image-\" + j, data[j]); } NetworKit_plotUpdate(elements[i]); elements[i].onclick = function (e) { NetworKit_overlayShow((e.target) ? e.target : e.srcElement); } } elements = document.getElementById(id).getElementsByClassName(\"HeatCell\"); for (i=0; i<elements.length; i++) { var data = parseFloat(elements[i].getAttribute(\"data-heat\")); var color = \"#00FF00\"; if (data <= 1 && data > 0) { color = \"hsla(0, 100%, 75%, \" + (data) + \")\"; } else if (data <= 0 && data >= -1) { color = \"hsla(240, 100%, 75%, \" + (-data) + \")\"; } elements[i].style.backgroundColor = color; } elements = document.getElementById(id).getElementsByClassName(\"Details\"); for (i=0; i<elements.length; i++) { elements[i].setAttribute(\"data-title\", \"-\"); NetworKit_toggleDetails(elements[i]); elements[i].onclick = function (e) { NetworKit_toggleDetails((e.target) ? e.target : e.srcElement); } } elements = document.getElementById(id).getElementsByClassName(\"MathValue\"); for (i=elements.length-1; i>=0; i--) { value = elements[i].innerHTML.trim(); if (value === \"nan\") { elements[i].parentNode.innerHTML = \"\" } } elements = document.getElementById(id).getElementsByClassName(\"SubCategory\"); for (i=elements.length-1; i>=0; i--) { value = elements[i].innerHTML.trim(); if (value === \"\") { elements[i].parentNode.removeChild(elements[i]) } } elements = document.getElementById(id).getElementsByClassName(\"Category\"); for (i=elements.length-1; i>=0; i--) { value = elements[i].innerHTML.trim(); if (value === \"\") { elements[i].parentNode.removeChild(elements[i]) } } var isFirefox = false; try { isFirefox = typeof InstallTrigger !== \"undefined\"; } catch (e) {} if (!isFirefox) { alert(\"Currently the function\\'s output is only fully supported by Firefox.\"); } } function NetworKit_plotUpdate(source) { var index = source.getAttribute(\"data-image-index\"); var data = source.getAttribute(\"data-image-\" + index); var image = document.getElementById(source.id + \"_Image\"); image.style.backgroundImage = \"url(\" + data + \")\"; } function NetworKit_showElement(id, show) { var element = document.getElementById(id); element.style.display = (show) ? \"block\" : \"none\"; } function NetworKit_overlayShow(source) { NetworKit_overlayUpdate(source); NetworKit_showElement(\"NetworKit_Overlay\", true); } function NetworKit_overlayUpdate(source) { document.getElementById(\"NetworKit_Overlay_Title\").innerHTML = source.title; var index = source.getAttribute(\"data-image-index\"); var data = source.getAttribute(\"data-image-\" + index); var image = document.getElementById(\"NetworKit_Overlay_Image\"); image.setAttribute(\"data-id\", source.id); image.style.backgroundImage = \"url(\" + data + \")\"; var link = document.getElementById(\"NetworKit_Overlay_Toolbar_Bottom_Save\"); link.href = data; link.download = source.title + \".svg\"; } function NetworKit_overlayImageShift(delta) { var image = document.getElementById(\"NetworKit_Overlay_Image\"); var source = document.getElementById(image.getAttribute(\"data-id\")); var index = parseInt(source.getAttribute(\"data-image-index\")); var length = parseInt(source.getAttribute(\"data-image-length\")); var index = (index+delta) % length; if (index < 0) { index = length + index; } source.setAttribute(\"data-image-index\", index); NetworKit_overlayUpdate(source); } function NetworKit_toggleDetails(source) { var childs = source.children; var show = false; if (source.getAttribute(\"data-title\") == \"-\") { source.setAttribute(\"data-title\", \"+\"); show = false; } else { source.setAttribute(\"data-title\", \"-\"); show = true; } for (i=0; i<childs.length; i++) { if (show) { childs[i].style.display = \"block\"; } else { childs[i].style.display = \"none\"; } } }';\n",
       "\t\t\t\telement.setAttribute('id', 'NetworKit_script');\n",
       "\t\t\t\tdocument.head.appendChild(element);\n",
       "\t\t\t}\n",
       "\t\t\n",
       "\t\t\t\t\n",
       "\t\t\t{\n",
       "\t\t\t\tvar element = document.getElementById('NetworKit_style');\n",
       "\t\t\t\tif (element) {\n",
       "\t\t\t\t\telement.parentNode.removeChild(element);\n",
       "\t\t\t\t}\n",
       "\t\t\t\telement = document.createElement('style');\n",
       "\t\t\t\telement.type = 'text/css';\n",
       "\t\t\t\telement.innerHTML = '.NetworKit_Page { font-family: Arial, Helvetica, sans-serif; font-size: 14px; } .NetworKit_Page .Value:before { font-family: Arial, Helvetica, sans-serif; font-size: 1.05em; content: attr(data-title) \":\"; margin-left: -2.5em; padding-right: 0.5em; } .NetworKit_Page .Details .Value:before { display: block; } .NetworKit_Page .Value { font-family: monospace; white-space: pre; padding-left: 2.5em; white-space: -moz-pre-wrap !important; white-space: -pre-wrap; white-space: -o-pre-wrap; white-space: pre-wrap; word-wrap: break-word; tab-size: 4; -moz-tab-size: 4; } .NetworKit_Page .Category { clear: both; padding-left: 1em; margin-bottom: 1.5em; } .NetworKit_Page .Category:before { content: attr(data-title); font-size: 1.75em; display: block; margin-left: -0.8em; margin-bottom: 0.5em; } .NetworKit_Page .SubCategory { margin-bottom: 1.5em; padding-left: 1em; } .NetworKit_Page .SubCategory:before { font-size: 1.6em; display: block; margin-left: -0.8em; margin-bottom: 0.5em; } .NetworKit_Page .SubCategory[data-title]:before { content: attr(data-title); } .NetworKit_Page .Block { display: block; } .NetworKit_Page .Block:after { content: \".\"; visibility: hidden; display: block; height: 0; clear: both; } .NetworKit_Page .Block .Thumbnail_Overview, .NetworKit_Page .Block .Thumbnail_ScatterPlot { width: 260px; float: left; } .NetworKit_Page .Block .Thumbnail_Overview img, .NetworKit_Page .Block .Thumbnail_ScatterPlot img { width: 260px; } .NetworKit_Page .Block .Thumbnail_Overview:before, .NetworKit_Page .Block .Thumbnail_ScatterPlot:before { display: block; text-align: center; font-weight: bold; } .NetworKit_Page .Block .Thumbnail_Overview:before { content: attr(data-title); } .NetworKit_Page .HeatCell { font-family: \"Courier New\", Courier, monospace; cursor: pointer; } .NetworKit_Page .HeatCell, .NetworKit_Page .HeatCellName { display: inline; padding: 0.1em; margin-right: 2px; background-color: #FFFFFF } .NetworKit_Page .HeatCellName { margin-left: 0.25em; } .NetworKit_Page .HeatCell:before { content: attr(data-heat); display: inline-block; color: #000000; width: 4em; text-align: center; } .NetworKit_Page .Measure { clear: both; } .NetworKit_Page .Measure .Details { cursor: pointer; } .NetworKit_Page .Measure .Details:before { content: \"[\" attr(data-title) \"]\"; display: block; } .NetworKit_Page .Measure .Details .Value { border-left: 1px dotted black; margin-left: 0.4em; padding-left: 3.5em; pointer-events: none; } .NetworKit_Page .Measure .Details .Spacer:before { content: \".\"; opacity: 0.0; pointer-events: none; } .NetworKit_Page .Measure .Plot { width: 440px; height: 440px; cursor: pointer; float: left; margin-left: -0.9em; margin-right: 20px; } .NetworKit_Page .Measure .Plot .Image { background-repeat: no-repeat; background-position: center center; background-size: contain; height: 100%; pointer-events: none; } .NetworKit_Page .Measure .Stat { width: 500px; float: left; } .NetworKit_Page .Measure .Stat .Group { padding-left: 1.25em; margin-bottom: 0.75em; } .NetworKit_Page .Measure .Stat .Group .Title { font-size: 1.1em; display: block; margin-bottom: 0.3em; margin-left: -0.75em; border-right-style: dotted; border-right-width: 1px; border-bottom-style: dotted; border-bottom-width: 1px; background-color: #D0D0D0; padding-left: 0.2em; } .NetworKit_Page .Measure .Stat .Group .List { -webkit-column-count: 3; -moz-column-count: 3; column-count: 3; } .NetworKit_Page .Measure .Stat .Group .List .Entry { position: relative; line-height: 1.75em; } .NetworKit_Page .Measure .Stat .Group .List .Entry[data-tooltip]:before { position: absolute; left: 0; top: -40px; background-color: #808080; color: #ffffff; height: 30px; line-height: 30px; border-radius: 5px; padding: 0 15px; content: attr(data-tooltip); white-space: nowrap; display: none; } .NetworKit_Page .Measure .Stat .Group .List .Entry[data-tooltip]:after { position: absolute; left: 15px; top: -10px; border-top: 7px solid #808080; border-left: 7px solid transparent; border-right: 7px solid transparent; content: \"\"; display: none; } .NetworKit_Page .Measure .Stat .Group .List .Entry[data-tooltip]:hover:after, .NetworKit_Page .Measure .Stat .Group .List .Entry[data-tooltip]:hover:before { display: block; } .NetworKit_Page .Measure .Stat .Group .List .Entry .MathValue { font-family: \"Courier New\", Courier, monospace; } .NetworKit_Page .Measure:after { content: \".\"; visibility: hidden; display: block; height: 0; clear: both; } .NetworKit_Page .PartitionPie { clear: both; } .NetworKit_Page .PartitionPie img { width: 600px; } #NetworKit_Overlay { left: 0px; top: 0px; display: none; position: absolute; width: 100%; height: 100%; background-color: rgba(0,0,0,0.6); z-index: 1000; } #NetworKit_Overlay_Title { position: absolute; color: white; transform: rotate(-90deg); width: 32em; height: 32em; padding-right: 0.5em; padding-top: 0.5em; text-align: right; font-size: 40px; } #NetworKit_Overlay .button { background: white; cursor: pointer; } #NetworKit_Overlay .button:before { size: 13px; display: inline-block; text-align: center; margin-top: 0.5em; margin-bottom: 0.5em; width: 1.5em; height: 1.5em; } #NetworKit_Overlay .icon-close:before { content: \"X\"; } #NetworKit_Overlay .icon-previous:before { content: \"P\"; } #NetworKit_Overlay .icon-next:before { content: \"N\"; } #NetworKit_Overlay .icon-save:before { content: \"S\"; } #NetworKit_Overlay_Toolbar_Top, #NetworKit_Overlay_Toolbar_Bottom { position: absolute; width: 40px; right: 13px; text-align: right; z-index: 1100; } #NetworKit_Overlay_Toolbar_Top { top: 0.5em; } #NetworKit_Overlay_Toolbar_Bottom { Bottom: 0.5em; } #NetworKit_Overlay_ImageContainer { position: absolute; top: 5%; left: 5%; height: 90%; width: 90%; background-repeat: no-repeat; background-position: center center; background-size: contain; } #NetworKit_Overlay_Image { height: 100%; width: 100%; background-repeat: no-repeat; background-position: center center; background-size: contain; }';\n",
       "\t\t\t\telement.setAttribute('id', 'NetworKit_style');\n",
       "\t\t\t\tdocument.head.appendChild(element);\n",
       "\t\t\t}\n",
       "\t\t\n",
       "\t\t\t\t\n",
       "\t\t\t{\n",
       "\t\t\t\tvar element = document.getElementById('NetworKit_Overlay');\n",
       "\t\t\t\tif (element) {\n",
       "\t\t\t\t\telement.parentNode.removeChild(element);\n",
       "\t\t\t\t}\n",
       "\t\t\t\telement = document.createElement('div');\n",
       "\t\t\t\telement.innerHTML = '<div id=\"NetworKit_Overlay_Toolbar_Top\"><div class=\"button icon-close\" id=\"NetworKit_Overlay_Close\" /></div><div id=\"NetworKit_Overlay_Title\" /> <div id=\"NetworKit_Overlay_ImageContainer\"> <div id=\"NetworKit_Overlay_Image\" /> </div> <div id=\"NetworKit_Overlay_Toolbar_Bottom\"> <div class=\"button icon-previous\" onclick=\"NetworKit_overlayImageShift(-1)\" /> <div class=\"button icon-next\" onclick=\"NetworKit_overlayImageShift(1)\" /> <a id=\"NetworKit_Overlay_Toolbar_Bottom_Save\"><div class=\"button icon-save\" /></a> </div>';\n",
       "\t\t\t\telement.setAttribute('id', 'NetworKit_Overlay');\n",
       "\t\t\t\tdocument.body.appendChild(element);\n",
       "\t\t\t\tdocument.getElementById('NetworKit_Overlay_Close').onclick = function (e) {\n",
       "\t\t\t\t\tdocument.getElementById('NetworKit_Overlay').style.display = 'none';\n",
       "\t\t\t\t}\n",
       "\t\t\t}\n",
       "\t\t\n",
       "\t\t\t-->\n",
       "\t\t\t</script>\n",
       "\t\t"
      ]
     },
     "metadata": {},
     "output_type": "display_data"
    }
   ],
   "source": [
    "import pandas as pd\n",
    "import matplotlib.pyplot as plt\n",
    "import os\n",
    "import numpy as np\n",
    "import networkit as nk\n",
    "from tqdm import tqdm\n",
    "import networkx as nx\n",
    "\n",
    "from benji_girgs import generation, utils, plotting\n",
    "import geopandas as gpd\n",
    "\n",
    "\n",
    "from IPython.core.interactiveshell import InteractiveShell\n",
    "InteractiveShell.ast_node_interactivity = \"all\""
   ]
  },
  {
   "cell_type": "code",
   "execution_count": 32,
   "metadata": {},
   "outputs": [
    {
     "name": "stderr",
     "output_type": "stream",
     "text": [
      "/Users/benjidayan/GDrive/eth_courses/GIRG/benji_src/benji_girgs/generation.py:114: RuntimeWarning: divide by zero encountered in divide\n",
      "  p_uv = np.divide(outer, dists**d)\n"
     ]
    }
   ],
   "source": [
    "n=1000\n",
    "d=2\n",
    "tau=2.5\n",
    "alpha=6.0\n",
    "g, edges, weights, pts = generation.generate_GIRG_nk(n, d, tau, alpha)"
   ]
  },
  {
   "cell_type": "code",
   "execution_count": 80,
   "metadata": {},
   "outputs": [],
   "source": [
    "n = 40\n",
    "\n",
    "edges = set()\n",
    "nodes = {}\n",
    "for i in range(n):\n",
    "    for j in range(n):\n",
    "        node = i*n + j\n",
    "        nodes[(i, j)] = node\n",
    "\n",
    "for i in range(n):\n",
    "    for j in range(n):\n",
    "        for delta in [+1, -1]:\n",
    "            for which in [0, 1]:\n",
    "                node1 = nodes[(i, j)]\n",
    "                i1 = delta if which == 0 else 0\n",
    "                j1 = delta if which == 1 else 0\n",
    "                node2 = nodes[((i + i1) % n, (j+j1) %n)]\n",
    "                _ = edges.add((min(node1, node2), max(node1, node2)))\n",
    "\n",
    "g = nk.Graph(len(nodes))\n",
    "for edge in edges:\n",
    "    _ = g.addEdge(*edge)"
   ]
  },
  {
   "cell_type": "code",
   "execution_count": 81,
   "metadata": {},
   "outputs": [
    {
     "name": "stderr",
     "output_type": "stream",
     "text": [
      "/var/folders/60/0t2c_bns6n3c7kjhdk4d4wk80000gn/T/ipykernel_4749/1586681880.py:3: FutureWarning: adjacency_matrix will return a scipy.sparse array instead of a matrix in Networkx 3.0.\n",
      "  A = nx.linalg.adjacency_matrix(gnx).todense()\n"
     ]
    },
    {
     "data": {
      "text/plain": [
       "array([-1.        +0.j,  1.        +0.j, -0.99384417+0.j, -0.98768834+0.j,\n",
       "        0.99384417+0.j,  0.99384417+0.j])"
      ]
     },
     "execution_count": 81,
     "metadata": {},
     "output_type": "execute_result"
    }
   ],
   "source": [
    "gnx = nk.nxadapter.nk2nx(g)\n",
    "\n",
    "A = nx.linalg.adjacency_matrix(gnx).todense()\n",
    "\n",
    "D = np.array([x[1] for x in (gnx.degree)])\n",
    "D_inv = np.diag(1/D)\n",
    "\n",
    "M = D_inv @ A\n",
    "\n",
    "v3, Phi = np.linalg.eig(M)\n",
    "v3[:6]"
   ]
  },
  {
   "cell_type": "code",
   "execution_count": 82,
   "metadata": {},
   "outputs": [
    {
     "name": "stderr",
     "output_type": "stream",
     "text": [
      "/var/folders/60/0t2c_bns6n3c7kjhdk4d4wk80000gn/T/ipykernel_4749/617535330.py:3: FutureWarning: adjacency_matrix will return a scipy.sparse array instead of a matrix in Networkx 3.0.\n",
      "  A = nx.linalg.adjacency_matrix(gnx).todense()\n"
     ]
    },
    {
     "data": {
      "text/plain": [
       "[-1.0000000000000007,\n",
       " -0.9938441702975696,\n",
       " -0.9938441702975692,\n",
       " -0.993844170297569,\n",
       " -0.9938441702975688,\n",
       " -0.9876883405951384,\n",
       " -0.9876883405951381,\n",
       " -0.9876883405951379,\n",
       " -0.9876883405951379,\n",
       " -0.9755282581475776,\n",
       " -0.9755282581475776,\n",
       " -0.9755282581475773,\n",
       " -0.9755282581475773,\n",
       " -0.9693724284451465,\n",
       " -0.9693724284451464,\n",
       " -0.9693724284451456,\n",
       " -0.9693724284451455,\n",
       " -0.9693724284451455,\n",
       " -0.9693724284451455,\n",
       " -0.969372428445145,\n",
       " -0.9693724284451444,\n",
       " -0.9510565162951543,\n",
       " -0.9510565162951541,\n",
       " -0.9510565162951541,\n",
       " -0.9510565162951533,\n",
       " -0.9455032620941844,\n",
       " -0.9455032620941842,\n",
       " -0.9455032620941841,\n",
       " -0.9455032620941836,\n",
       " -0.9393474323917539,\n",
       " -0.9393474323917539,\n",
       " -0.939347432391753,\n",
       " -0.939347432391753,\n",
       " -0.9393474323917527,\n",
       " -0.9393474323917527,\n",
       " -0.9393474323917527,\n",
       " -0.9393474323917524,\n",
       " -0.9210315202417618,\n",
       " -0.9210315202417613,\n",
       " -0.921031520241761,\n",
       " -0.921031520241761,\n",
       " -0.921031520241761,\n",
       " -0.9210315202417609,\n",
       " -0.9210315202417606,\n",
       " -0.9210315202417604,\n",
       " -0.9045084971874742,\n",
       " -0.9045084971874735,\n",
       " -0.9045084971874735,\n",
       " -0.904508497187473,\n",
       " -0.8983526674850429,\n",
       " -0.8983526674850429,\n",
       " -0.8983526674850427,\n",
       " -0.8983526674850427,\n",
       " -0.8983526674850426,\n",
       " -0.8983526674850424,\n",
       " -0.8983526674850422,\n",
       " -0.8983526674850416,\n",
       " -0.8910065241883679,\n",
       " -0.8910065241883676,\n",
       " -0.8910065241883676,\n",
       " -0.8910065241883667,\n",
       " -0.8800367553350512,\n",
       " -0.8800367553350509,\n",
       " -0.8800367553350504,\n",
       " -0.8800367553350503,\n",
       " -0.8800367553350503,\n",
       " -0.8800367553350501,\n",
       " -0.8800367553350501,\n",
       " -0.88003675533505,\n",
       " -0.8535533905932746,\n",
       " -0.8535533905932744,\n",
       " -0.8535533905932741,\n",
       " -0.8535533905932732,\n",
       " -0.8500117592816587,\n",
       " -0.8500117592816581,\n",
       " -0.8500117592816581,\n",
       " -0.8500117592816576,\n",
       " -0.8500117592816576,\n",
       " -0.8500117592816575,\n",
       " -0.8500117592816573,\n",
       " -0.8500117592816573,\n",
       " -0.8473975608908438,\n",
       " -0.8473975608908433,\n",
       " -0.8473975608908427,\n",
       " -0.8473975608908427,\n",
       " -0.8473975608908427,\n",
       " -0.8473975608908427,\n",
       " -0.8473975608908426,\n",
       " -0.8473975608908417,\n",
       " -0.8290816487408514,\n",
       " -0.8290816487408509,\n",
       " -0.8290816487408507,\n",
       " -0.8290816487408507,\n",
       " -0.8290816487408503,\n",
       " -0.8290816487408503,\n",
       " -0.8290816487408503,\n",
       " -0.8290816487408503,\n",
       " -0.809016994374948,\n",
       " -0.8090169943749476,\n",
       " -0.8090169943749476,\n",
       " -0.8090169943749475,\n",
       " -0.7990566526874577,\n",
       " -0.7990566526874576,\n",
       " -0.7990566526874576,\n",
       " -0.7990566526874575,\n",
       " -0.7990566526874575,\n",
       " -0.7990566526874574,\n",
       " -0.7990566526874573,\n",
       " -0.7990566526874573,\n",
       " -0.7938926261462363,\n",
       " -0.7938926261462362,\n",
       " -0.7938926261462361,\n",
       " -0.793892626146236,\n",
       " -0.7877367964438059,\n",
       " -0.7877367964438057,\n",
       " -0.7877367964438056,\n",
       " -0.7877367964438055,\n",
       " -0.7877367964438053,\n",
       " -0.7877367964438053,\n",
       " -0.7877367964438052,\n",
       " -0.787736796443805,\n",
       " -0.7694208842938136,\n",
       " -0.7694208842938135,\n",
       " -0.7694208842938135,\n",
       " -0.7694208842938134,\n",
       " -0.7694208842938133,\n",
       " -0.7694208842938132,\n",
       " -0.769420884293813,\n",
       " -0.7694208842938128,\n",
       " -0.7580618877807486,\n",
       " -0.758061887780748,\n",
       " -0.758061887780748,\n",
       " -0.7580618877807478,\n",
       " -0.7580618877807476,\n",
       " -0.7580618877807475,\n",
       " -0.7580618877807475,\n",
       " -0.7580618877807466,\n",
       " -0.7393958882404206,\n",
       " -0.7393958882404205,\n",
       " -0.7393958882404204,\n",
       " -0.7393958882404204,\n",
       " -0.7393958882404202,\n",
       " -0.7393958882404202,\n",
       " -0.73939588824042,\n",
       " -0.7393958882404199,\n",
       " -0.7269952498697736,\n",
       " -0.7269952498697733,\n",
       " -0.7269952498697732,\n",
       " -0.7269952498697732,\n",
       " -0.7208394201673426,\n",
       " -0.7208394201673426,\n",
       " -0.7208394201673421,\n",
       " -0.7208394201673421,\n",
       " -0.7208394201673421,\n",
       " -0.720839420167342,\n",
       " -0.7208394201673418,\n",
       " -0.7208394201673418,\n",
       " -0.707106781186548,\n",
       " -0.7071067811865477,\n",
       " -0.7071067811865475,\n",
       " -0.7071067811865474,\n",
       " -0.7025235080173512,\n",
       " -0.702523508017351,\n",
       " -0.7025235080173503,\n",
       " -0.7025235080173502,\n",
       " -0.7025235080173502,\n",
       " -0.7025235080173501,\n",
       " -0.7025235080173501,\n",
       " -0.7025235080173493,\n",
       " -0.6984011233337106,\n",
       " -0.6984011233337105,\n",
       " -0.6984011233337103,\n",
       " -0.6984011233337103,\n",
       " -0.6984011233337102,\n",
       " -0.6984011233337102,\n",
       " -0.6984011233337102,\n",
       " -0.6984011233337099,\n",
       " -0.6724985119639576,\n",
       " -0.6724985119639576,\n",
       " -0.6724985119639575,\n",
       " -0.6724985119639575,\n",
       " -0.6724985119639574,\n",
       " -0.6724985119639574,\n",
       " -0.6724985119639573,\n",
       " -0.6724985119639573,\n",
       " -0.6545084971874746,\n",
       " -0.6545084971874742,\n",
       " -0.654508497187474,\n",
       " -0.6545084971874738,\n",
       " -0.6483526674850434,\n",
       " -0.6483526674850433,\n",
       " -0.6483526674850432,\n",
       " -0.6483526674850427,\n",
       " -0.6483526674850427,\n",
       " -0.6483526674850427,\n",
       " -0.6483526674850426,\n",
       " -0.6483526674850424,\n",
       " -0.6474460167395111,\n",
       " -0.6474460167395107,\n",
       " -0.6474460167395107,\n",
       " -0.6474460167395106,\n",
       " -0.6474460167395104,\n",
       " -0.6474460167395103,\n",
       " -0.6474460167395103,\n",
       " -0.6474460167395097,\n",
       " -0.6315037470572478,\n",
       " -0.6315037470572475,\n",
       " -0.6315037470572475,\n",
       " -0.6315037470572474,\n",
       " -0.6315037470572472,\n",
       " -0.631503747057247,\n",
       " -0.631503747057247,\n",
       " -0.631503747057247,\n",
       " -0.630036755335051,\n",
       " -0.6300367553350508,\n",
       " -0.6300367553350507,\n",
       " -0.6300367553350505,\n",
       " -0.6300367553350505,\n",
       " -0.6300367553350505,\n",
       " -0.6300367553350505,\n",
       " -0.6300367553350503,\n",
       " -0.6000117592816582,\n",
       " -0.6000117592816582,\n",
       " -0.6000117592816578,\n",
       " -0.6000117592816577,\n",
       " -0.6000117592816575,\n",
       " -0.6000117592816575,\n",
       " -0.6000117592816574,\n",
       " -0.6000117592816572,\n",
       " -0.5877852522924737,\n",
       " -0.5877852522924736,\n",
       " -0.5877852522924734,\n",
       " -0.5877852522924734,\n",
       " -0.580548640463048,\n",
       " -0.5805486404630473,\n",
       " -0.5805486404630473,\n",
       " -0.5805486404630472,\n",
       " -0.5805486404630472,\n",
       " -0.5805486404630471,\n",
       " -0.5805486404630471,\n",
       " -0.5805486404630471,\n",
       " -0.5782172325201156,\n",
       " -0.5782172325201154,\n",
       " -0.5782172325201154,\n",
       " -0.5782172325201154,\n",
       " -0.5720614028176848,\n",
       " -0.5720614028176847,\n",
       " -0.5720614028176845,\n",
       " -0.5720614028176845,\n",
       " -0.5720614028176845,\n",
       " -0.5720614028176844,\n",
       " -0.5720614028176844,\n",
       " -0.5720614028176844,\n",
       " -0.5590169943749481,\n",
       " -0.5590169943749478,\n",
       " -0.5590169943749478,\n",
       " -0.5590169943749477,\n",
       " -0.5590169943749477,\n",
       " -0.5590169943749477,\n",
       " -0.5590169943749477,\n",
       " -0.5590169943749475,\n",
       " -0.553745490667693,\n",
       " -0.5537454906676924,\n",
       " -0.5537454906676924,\n",
       " -0.5537454906676923,\n",
       " -0.5537454906676922,\n",
       " -0.5537454906676922,\n",
       " -0.5537454906676921,\n",
       " -0.553745490667692,\n",
       " -0.5237204946142997,\n",
       " -0.5237204946142996,\n",
       " -0.5237204946142995,\n",
       " -0.5237204946142994,\n",
       " -0.5237204946142993,\n",
       " -0.5237204946142993,\n",
       " -0.5237204946142993,\n",
       " -0.5237204946142991,\n",
       " -0.5208878760160102,\n",
       " -0.5208878760160102,\n",
       " -0.5208878760160102,\n",
       " -0.5208878760160099,\n",
       " -0.5208878760160099,\n",
       " -0.5208878760160098,\n",
       " -0.5208878760160097,\n",
       " -0.5208878760160097,\n",
       " -0.5080618877807486,\n",
       " -0.5080618877807478,\n",
       " -0.5080618877807478,\n",
       " -0.5080618877807478,\n",
       " -0.5080618877807477,\n",
       " -0.5080618877807476,\n",
       " -0.5080618877807475,\n",
       " -0.5080618877807475,\n",
       " -0.5000000000000001,\n",
       " -0.5000000000000001,\n",
       " -0.5000000000000001,\n",
       " -0.49999999999999967,\n",
       " -0.49384417029756905,\n",
       " -0.49384417029756905,\n",
       " -0.49384417029756905,\n",
       " -0.49384417029756883,\n",
       " -0.49384417029756883,\n",
       " -0.4938441702975688,\n",
       " -0.4938441702975688,\n",
       " -0.49384417029756866,\n",
       " -0.4827257297075895,\n",
       " -0.4827257297075895,\n",
       " -0.4827257297075893,\n",
       " -0.4827257297075892,\n",
       " -0.4827257297075892,\n",
       " -0.48272572970758915,\n",
       " -0.48272572970758904,\n",
       " -0.4827257297075889,\n",
       " -0.4755282581475772,\n",
       " -0.47552825814757715,\n",
       " -0.4755282581475769,\n",
       " -0.4755282581475769,\n",
       " -0.47552825814757677,\n",
       " -0.47552825814757677,\n",
       " -0.47552825814757677,\n",
       " -0.47552825814757677,\n",
       " -0.45399049973954686,\n",
       " -0.45399049973954675,\n",
       " -0.45399049973954675,\n",
       " -0.45399049973954664,\n",
       " -0.4484011233337106,\n",
       " -0.4484011233337105,\n",
       " -0.44840112333371035,\n",
       " -0.44840112333371024,\n",
       " -0.44840112333371024,\n",
       " -0.44840112333371024,\n",
       " -0.4484011233337102,\n",
       " -0.44840112333370974,\n",
       " -0.4455032620941841,\n",
       " -0.4455032620941841,\n",
       " -0.44550326209418406,\n",
       " -0.44550326209418406,\n",
       " -0.4455032620941839,\n",
       " -0.4455032620941839,\n",
       " -0.4455032620941836,\n",
       " -0.4455032620941835,\n",
       " -0.43177062311338954,\n",
       " -0.43177062311338926,\n",
       " -0.43177062311338926,\n",
       " -0.43177062311338915,\n",
       " -0.43177062311338915,\n",
       " -0.43177062311338915,\n",
       " -0.4317706231133889,\n",
       " -0.4317706231133888,\n",
       " -0.4217827674798851,\n",
       " -0.4217827674798849,\n",
       " -0.4217827674798848,\n",
       " -0.42178276747988436,\n",
       " -0.4156269377774538,\n",
       " -0.4156269377774535,\n",
       " -0.4156269377774535,\n",
       " -0.4156269377774534,\n",
       " -0.4156269377774534,\n",
       " -0.4156269377774534,\n",
       " -0.41562693777745335,\n",
       " -0.41562693777745335,\n",
       " -0.404508497187474,\n",
       " -0.404508497187474,\n",
       " -0.404508497187474,\n",
       " -0.4045084971874737,\n",
       " -0.4045084971874735,\n",
       " -0.4045084971874735,\n",
       " -0.4045084971874735,\n",
       " -0.40450849718747345,\n",
       " -0.3973110256274616,\n",
       " -0.39731102562746146,\n",
       " -0.39731102562746146,\n",
       " -0.3973110256274614,\n",
       " -0.3973110256274614,\n",
       " -0.3973110256274613,\n",
       " -0.3973110256274609,\n",
       " -0.39731102562746073,\n",
       " -0.3815037470572474,\n",
       " -0.3815037470572474,\n",
       " -0.38150374705724727,\n",
       " -0.38150374705724716,\n",
       " -0.38150374705724716,\n",
       " -0.3815037470572471,\n",
       " -0.3815037470572469,\n",
       " -0.3815037470572467,\n",
       " -0.3721098586663523,\n",
       " -0.3721098586663522,\n",
       " -0.3721098586663521,\n",
       " -0.37210985866635204,\n",
       " -0.372109858666352,\n",
       " -0.3721098586663519,\n",
       " -0.3721098586663518,\n",
       " -0.3721098586663518,\n",
       " -0.36728602957406875,\n",
       " -0.3672860295740687,\n",
       " -0.36728602957406864,\n",
       " -0.3672860295740684,\n",
       " -0.36728602957406836,\n",
       " -0.3672860295740683,\n",
       " -0.3672860295740683,\n",
       " -0.3672860295740683,\n",
       " -0.35355339059327395,\n",
       " -0.35355339059327384,\n",
       " -0.35355339059327384,\n",
       " -0.3535533905932737,\n",
       " -0.3535533905932737,\n",
       " -0.35355339059327356,\n",
       " -0.3535533905932735,\n",
       " -0.35355339059327345,\n",
       " -0.3454915028125266,\n",
       " -0.34549150281252655,\n",
       " -0.34549150281252633,\n",
       " -0.34549150281252633,\n",
       " -0.3393356731100954,\n",
       " -0.3393356731100954,\n",
       " -0.33933567311009527,\n",
       " -0.33933567311009527,\n",
       " -0.339335673110095,\n",
       " -0.339335673110095,\n",
       " -0.3393356731100949,\n",
       " -0.3393356731100949,\n",
       " -0.32629126466735847,\n",
       " -0.3262912646673584,\n",
       " -0.3262912646673584,\n",
       " -0.3262912646673583,\n",
       " -0.32629126466735825,\n",
       " -0.3262912646673582,\n",
       " -0.3262912646673582,\n",
       " -0.326291264667358,\n",
       " -0.3210197609601034,\n",
       " -0.32101976096010326,\n",
       " -0.3210197609601032,\n",
       " -0.3210197609601032,\n",
       " -0.32101976096010315,\n",
       " -0.32101976096010315,\n",
       " -0.321019760960103,\n",
       " -0.32101976096010293,\n",
       " -0.30901699437494773,\n",
       " -0.30901699437494745,\n",
       " -0.30901699437494745,\n",
       " -0.3090169943749474,\n",
       " -0.30521248238988924,\n",
       " -0.3052124823898889,\n",
       " -0.30521248238988885,\n",
       " -0.3052124823898888,\n",
       " -0.30521248238988874,\n",
       " -0.3052124823898887,\n",
       " -0.3052124823898887,\n",
       " -0.3052124823898887,\n",
       " -0.29389262614623685,\n",
       " -0.2938926261462367,\n",
       " -0.2938926261462366,\n",
       " -0.2938926261462365,\n",
       " -0.29389262614623646,\n",
       " -0.2938926261462364,\n",
       " -0.2938926261462364,\n",
       " -0.29389262614623635,\n",
       " -0.29099476490671056,\n",
       " -0.29099476490671045,\n",
       " -0.29099476490671033,\n",
       " -0.29099476490671033,\n",
       " -0.2909947649067103,\n",
       " -0.2909947649067101,\n",
       " -0.29099476490671006,\n",
       " -0.29099476490671006,\n",
       " -0.2753361580731585,\n",
       " -0.2753361580731584,\n",
       " -0.2753361580731584,\n",
       " -0.27533615807315837,\n",
       " -0.27533615807315837,\n",
       " -0.2753361580731583,\n",
       " -0.2753361580731582,\n",
       " -0.2753361580731582,\n",
       " -0.2730047501302269,\n",
       " -0.27300475013022685,\n",
       " -0.27300475013022674,\n",
       " -0.2730047501302262,\n",
       " -0.2668489204277957,\n",
       " -0.2668489204277956,\n",
       " -0.2668489204277956,\n",
       " -0.26684892042779546,\n",
       " -0.26684892042779546,\n",
       " -0.2668489204277954,\n",
       " -0.26684892042779534,\n",
       " -0.26684892042779534,\n",
       " -0.25000000000000033,\n",
       " -0.2500000000000002,\n",
       " -0.25000000000000017,\n",
       " -0.25000000000000017,\n",
       " -0.2500000000000001,\n",
       " -0.25,\n",
       " -0.2499999999999997,\n",
       " -0.24999999999999967,\n",
       " -0.24853300827780359,\n",
       " -0.2485330082778035,\n",
       " -0.2485330082778035,\n",
       " -0.24853300827780345,\n",
       " -0.2485330082778034,\n",
       " -0.24853300827780336,\n",
       " -0.24853300827780317,\n",
       " -0.24853300827780314,\n",
       " -0.23272572970758937,\n",
       " -0.23272572970758926,\n",
       " -0.2327257297075892,\n",
       " -0.23272572970758915,\n",
       " -0.23272572970758915,\n",
       " -0.23272572970758915,\n",
       " -0.23272572970758906,\n",
       " -0.23272572970758906,\n",
       " -0.22699524986977354,\n",
       " -0.2269952498697735,\n",
       " -0.22699524986977346,\n",
       " -0.22699524986977343,\n",
       " -0.22699524986977337,\n",
       " -0.22699524986977337,\n",
       " -0.2269952498697733,\n",
       " -0.22699524986977315,\n",
       " -0.21850801222441069,\n",
       " -0.21850801222441063,\n",
       " -0.21850801222441063,\n",
       " -0.21850801222441055,\n",
       " -0.21850801222441046,\n",
       " -0.21850801222441035,\n",
       " -0.21850801222441033,\n",
       " -0.21850801222441021,\n",
       " -0.21567539362612137,\n",
       " -0.21567539362612123,\n",
       " -0.21567539362612123,\n",
       " -0.21567539362612123,\n",
       " -0.21567539362612118,\n",
       " -0.21567539362612115,\n",
       " -0.21567539362612095,\n",
       " -0.21567539362612093,\n",
       " -0.2061073738537637,\n",
       " -0.2061073738537635,\n",
       " -0.20610737385376335,\n",
       " -0.20610737385376335,\n",
       " -0.1999515441513326,\n",
       " -0.19995154415133243,\n",
       " -0.19995154415133237,\n",
       " -0.19995154415133234,\n",
       " -0.1999515441513323,\n",
       " -0.19995154415133223,\n",
       " -0.1999515441513322,\n",
       " -0.1999515441513322,\n",
       " -0.19904489340580028,\n",
       " -0.19904489340580023,\n",
       " -0.1990448934058002,\n",
       " -0.1990448934058001,\n",
       " -0.19904489340580006,\n",
       " -0.19904489340580003,\n",
       " -0.1990448934058,\n",
       " -0.1990448934057999,\n",
       " -0.18163563200134036,\n",
       " -0.18163563200134034,\n",
       " -0.18163563200134034,\n",
       " -0.18163563200134025,\n",
       " -0.1816356320013402,\n",
       " -0.18163563200134017,\n",
       " -0.18163563200134014,\n",
       " -0.18163563200133997,\n",
       " -0.17751324731770055,\n",
       " -0.17751324731770038,\n",
       " -0.17751324731770032,\n",
       " -0.17751324731770024,\n",
       " -0.17751324731770024,\n",
       " -0.1775132473177002,\n",
       " -0.1775132473177002,\n",
       " -0.17751324731770016,\n",
       " -0.1564344650402311,\n",
       " -0.156434465040231,\n",
       " -0.15643446504023095,\n",
       " -0.15643446504023092,\n",
       " -0.15450849718747386,\n",
       " -0.1545084971874738,\n",
       " -0.1545084971874738,\n",
       " -0.15450849718747378,\n",
       " -0.15450849718747373,\n",
       " -0.15450849718747373,\n",
       " -0.1545084971874737,\n",
       " -0.15450849718747353,\n",
       " -0.1516106359479476,\n",
       " -0.15161063594794752,\n",
       " -0.15161063594794744,\n",
       " -0.1516106359479474,\n",
       " -0.15161063594794738,\n",
       " -0.15161063594794738,\n",
       " -0.15161063594794727,\n",
       " -0.15161063594794724,\n",
       " -0.14877801734965812,\n",
       " -0.14877801734965806,\n",
       " -0.14877801734965804,\n",
       " -0.14877801734965798,\n",
       " -0.14877801734965798,\n",
       " -0.14877801734965795,\n",
       " -0.14877801734965793,\n",
       " -0.1487780173496579,\n",
       " -0.14644660940672663,\n",
       " -0.14644660940672652,\n",
       " -0.14644660940672638,\n",
       " -0.1464466094067263,\n",
       " -0.14029077970429527,\n",
       " -0.14029077970429515,\n",
       " -0.14029077970429515,\n",
       " -0.14029077970429504,\n",
       " -0.14029077970429502,\n",
       " -0.14029077970429502,\n",
       " -0.14029077970429502,\n",
       " -0.14029077970429502,\n",
       " -0.13938412895876304,\n",
       " -0.13938412895876295,\n",
       " -0.13938412895876295,\n",
       " -0.13938412895876293,\n",
       " -0.13938412895876287,\n",
       " -0.13938412895876282,\n",
       " -0.13938412895876282,\n",
       " -0.1393841289587628,\n",
       " -0.12655814072350058,\n",
       " -0.12655814072350047,\n",
       " -0.12655814072350047,\n",
       " -0.1265581407235004,\n",
       " -0.12655814072350033,\n",
       " -0.1265581407235003,\n",
       " -0.12655814072350027,\n",
       " -0.12655814072350027,\n",
       " -0.12197486755430333,\n",
       " -0.12197486755430315,\n",
       " -0.1219748675543031,\n",
       " -0.1219748675543031,\n",
       " -0.12197486755430308,\n",
       " -0.12197486755430306,\n",
       " -0.12197486755430301,\n",
       " -0.12197486755430295,\n",
       " -0.11061587104123728,\n",
       " -0.11061587104123728,\n",
       " -0.11061587104123724,\n",
       " -0.11061587104123721,\n",
       " -0.11061587104123721,\n",
       " -0.11061587104123707,\n",
       " -0.11061587104123706,\n",
       " -0.110615871041237,\n",
       " -0.09549150281252652,\n",
       " -0.09549150281252636,\n",
       " -0.0954915028125262,\n",
       " -0.09549150281252619,\n",
       " -0.09194987150091019,\n",
       " -0.09194987150091016,\n",
       " -0.09194987150091016,\n",
       " -0.09194987150091014,\n",
       " -0.09194987150091014,\n",
       " -0.0919498715009101,\n",
       " -0.0919498715009101,\n",
       " -0.09194987150091002,\n",
       " -0.08933567311009526,\n",
       " -0.08933567311009519,\n",
       " -0.08933567311009517,\n",
       " -0.08933567311009516,\n",
       " -0.08933567311009515,\n",
       " -0.08933567311009512,\n",
       " -0.08933567311009506,\n",
       " -0.08933567311009503,\n",
       " -0.07821723252011563,\n",
       " -0.07821723252011546,\n",
       " -0.07821723252011543,\n",
       " -0.0782172325201154,\n",
       " -0.0782172325201154,\n",
       " -0.07821723252011535,\n",
       " -0.07821723252011535,\n",
       " -0.07821723252011534,\n",
       " -0.07629126466735843,\n",
       " -0.07629126466735837,\n",
       " -0.0762912646673583,\n",
       " -0.07629126466735828,\n",
       " -0.07629126466735821,\n",
       " -0.07629126466735821,\n",
       " -0.07629126466735817,\n",
       " -0.07629126466735815,\n",
       " -0.07248675268230012,\n",
       " -0.07248675268229993,\n",
       " -0.07248675268229975,\n",
       " -0.07248675268229969,\n",
       " -0.07248675268229968,\n",
       " -0.07248675268229966,\n",
       " -0.07248675268229965,\n",
       " -0.07248675268229962,\n",
       " -0.07101976096010348,\n",
       " -0.07101976096010319,\n",
       " -0.07101976096010314,\n",
       " -0.07101976096010314,\n",
       " -0.07101976096010312,\n",
       " -0.0710197609601031,\n",
       " -0.07101976096010301,\n",
       " -0.07101976096010298,\n",
       " -0.06689737627646332,\n",
       " -0.06689737627646321,\n",
       " -0.06689737627646321,\n",
       " -0.06689737627646315,\n",
       " -0.06689737627646314,\n",
       " -0.06689737627646306,\n",
       " -0.06689737627646304,\n",
       " -0.06689737627646296,\n",
       " -0.059660764447037384,\n",
       " -0.05966076444703731,\n",
       " -0.05966076444703731,\n",
       " -0.05966076444703723,\n",
       " -0.05966076444703723,\n",
       " -0.059660764447037204,\n",
       " -0.059660764447037176,\n",
       " -0.05966076444703713,\n",
       " -0.05449673790581627,\n",
       " -0.05449673790581605,\n",
       " -0.05449673790581605,\n",
       " -0.054496737905815926,\n",
       " -0.05095510659419995,\n",
       " -0.05095510659419992,\n",
       " -0.05095510659419992,\n",
       " -0.050955106594199905,\n",
       " -0.050955106594199905,\n",
       " -0.050955106594199884,\n",
       " -0.05095510659419987,\n",
       " -0.05095510659419976,\n",
       " -0.04834090820338504,\n",
       " -0.048340908203384964,\n",
       " -0.04834090820338495,\n",
       " -0.04834090820338494,\n",
       " -0.04834090820338492,\n",
       " -0.048340908203384894,\n",
       " -0.04834090820338486,\n",
       " -0.04834090820338478,\n",
       " -0.04099476490671036,\n",
       " -0.040994764906710265,\n",
       " -0.04099476490671025,\n",
       " -0.0409947649067102,\n",
       " -0.04099476490671019,\n",
       " -0.04099476490671015,\n",
       " -0.040994764906710134,\n",
       " -0.04099476490671008,\n",
       " -0.03002499605339303,\n",
       " -0.030024996053392955,\n",
       " -0.030024996053392955,\n",
       " -0.03002499605339291,\n",
       " -0.030024996053392854,\n",
       " -0.030024996053392827,\n",
       " -0.03002499605339282,\n",
       " -0.030024996053392775,\n",
       " -0.02447174185242344,\n",
       " -0.024471741852423425,\n",
       " -0.024471741852423384,\n",
       " -0.024471741852423245,\n",
       " -0.018315912149992244,\n",
       " -0.018315912149992238,\n",
       " -0.018315912149992102,\n",
       " -0.018315912149992068,\n",
       " -0.01831591214999206,\n",
       " -0.01831591214999205,\n",
       " -0.018315912149991977,\n",
       " -0.018315912149991953,\n",
       " -0.006155829702431129,\n",
       " -0.006155829702431122,\n",
       " -0.0061558297024311035,\n",
       " -0.006155829702431052,\n",
       " -2.736896268550574e-16,\n",
       " -2.5817829253687175e-16,\n",
       " -2.5590570320097064e-16,\n",
       " -2.336566320494857e-16,\n",
       " -2.1681183009430288e-16,\n",
       " -2.14317455609196e-16,\n",
       " -2.0967176125148337e-16,\n",
       " -1.9296786336861385e-16,\n",
       " -1.8939023994924623e-16,\n",
       " -1.852253967949504e-16,\n",
       " -1.684015281210051e-16,\n",
       " -1.6196915485126878e-16,\n",
       " -1.5214081486139026e-16,\n",
       " -1.4670159768349857e-16,\n",
       " -1.452454107295323e-16,\n",
       " -1.3441183085394138e-16,\n",
       " -1.2642735508772653e-16,\n",
       " -1.2511049293768462e-16,\n",
       " -1.1363653722604046e-16,\n",
       " -1.1108524178362401e-16,\n",
       " -1.1060859052926762e-16,\n",
       " -1.0111457685455297e-16,\n",
       " -8.077536301924335e-17,\n",
       " -7.525500962479334e-17,\n",
       " -7.080862925075935e-17,\n",
       " -6.709161465899048e-17,\n",
       " -5.563696340120036e-17,\n",
       " -5.1232208974522225e-17,\n",
       " -4.8275499070068346e-17,\n",
       " -3.8739509266428104e-17,\n",
       " -3.503484851634412e-17,\n",
       " -3.198056028962853e-17,\n",
       " -3.1461128886466944e-17,\n",
       " -2.4980428776212644e-17,\n",
       " -2.223129293443242e-17,\n",
       " -1.5710681013861472e-17,\n",
       " -1.4098947369458492e-17,\n",
       " -4.4809377012755835e-18,\n",
       " 4.657015885022742e-19,\n",
       " 1.2227261992068464e-17,\n",
       " 1.6599116576713153e-17,\n",
       " 2.0822168365862006e-17,\n",
       " 3.4238884624051905e-17,\n",
       " 3.835153209034052e-17,\n",
       " 4.928883818172654e-17,\n",
       " 4.9501907095353477e-17,\n",
       " 4.9774882536029886e-17,\n",
       " 6.387497304507607e-17,\n",
       " 6.448387405885419e-17,\n",
       " 6.654649240966939e-17,\n",
       " 6.847961276424874e-17,\n",
       " 7.290754335779228e-17,\n",
       " 7.797518108201633e-17,\n",
       " 8.400522103236627e-17,\n",
       " 8.816303026355213e-17,\n",
       " 8.930799203326218e-17,\n",
       " 1.0301102551802341e-16,\n",
       " 1.0829023346838797e-16,\n",
       " 1.2214330076353622e-16,\n",
       " 1.233888978542643e-16,\n",
       " 1.2377470304399382e-16,\n",
       " 1.2961308202225217e-16,\n",
       " 1.3325169939244895e-16,\n",
       " 1.430168652312725e-16,\n",
       " 1.6707384919037575e-16,\n",
       " 1.67503045373811e-16,\n",
       " 1.7593407771834113e-16,\n",
       " 1.8458691099078319e-16,\n",
       " 2.1099168399299418e-16,\n",
       " 2.1494233477900517e-16,\n",
       " 2.2186216910953632e-16,\n",
       " 2.375880957736636e-16,\n",
       " 2.4283586044762593e-16,\n",
       " 2.562497703659811e-16,\n",
       " 2.7152601981527715e-16,\n",
       " 3.1406269527530203e-16,\n",
       " 3.528980866416396e-16,\n",
       " 5.412268848150437e-16,\n",
       " 0.006155829702430996,\n",
       " 0.006155829702431147,\n",
       " 0.006155829702431159,\n",
       " 0.006155829702431269,\n",
       " 0.018315912149991967,\n",
       " 0.018315912149992005,\n",
       " 0.018315912149992012,\n",
       " 0.018315912149992043,\n",
       " 0.01831591214999205,\n",
       " 0.01831591214999205,\n",
       " 0.018315912149992165,\n",
       " 0.01831591214999227,\n",
       " 0.024471741852422867,\n",
       " 0.024471741852423082,\n",
       " 0.024471741852423158,\n",
       " 0.02447174185242321,\n",
       " 0.03002499605339278,\n",
       " 0.030024996053392785,\n",
       " 0.0300249960533928,\n",
       " 0.0300249960533928,\n",
       " 0.030024996053392802,\n",
       " 0.03002499605339283,\n",
       " 0.030024996053393045,\n",
       " 0.03002499605339305,\n",
       " 0.040994764906710106,\n",
       " 0.040994764906710134,\n",
       " 0.040994764906710154,\n",
       " 0.04099476490671016,\n",
       " 0.040994764906710175,\n",
       " 0.040994764906710224,\n",
       " 0.04099476490671025,\n",
       " 0.04099476490671039,\n",
       " 0.04834090820338472,\n",
       " 0.048340908203384894,\n",
       " 0.04834090820338491,\n",
       " 0.04834090820338492,\n",
       " 0.048340908203384936,\n",
       " 0.04834090820338498,\n",
       " 0.04834090820338498,\n",
       " 0.04834090820338503,\n",
       " 0.05095510659419981,\n",
       " 0.050955106594199835,\n",
       " 0.05095510659419986,\n",
       " 0.05095510659419989,\n",
       " 0.050955106594199974,\n",
       " 0.050955106594199974,\n",
       " 0.05095510659420007,\n",
       " 0.0509551065942001,\n",
       " 0.054496737905815947,\n",
       " 0.054496737905816,\n",
       " 0.05449673790581604,\n",
       " 0.054496737905816287,\n",
       " 0.05966076444703715,\n",
       " 0.05966076444703716,\n",
       " 0.059660764447037176,\n",
       " 0.05966076444703718,\n",
       " 0.059660764447037204,\n",
       " 0.05966076444703724,\n",
       " 0.05966076444703725,\n",
       " 0.05966076444703725,\n",
       " 0.06689737627646303,\n",
       " 0.06689737627646315,\n",
       " 0.06689737627646315,\n",
       " 0.06689737627646321,\n",
       " 0.06689737627646321,\n",
       " 0.06689737627646322,\n",
       " 0.06689737627646326,\n",
       " 0.06689737627646329,\n",
       " 0.07101976096010289,\n",
       " 0.07101976096010301,\n",
       " 0.07101976096010305,\n",
       " 0.07101976096010307,\n",
       " 0.07101976096010307,\n",
       " 0.07101976096010314,\n",
       " 0.07101976096010315,\n",
       " 0.07101976096010344,\n",
       " 0.0724867526822994,\n",
       " 0.0724867526822996,\n",
       " 0.07248675268229962,\n",
       " 0.07248675268229963,\n",
       " 0.07248675268229965,\n",
       " 0.07248675268229969,\n",
       " 0.07248675268229973,\n",
       " 0.07248675268229982,\n",
       " 0.07629126466735812,\n",
       " 0.07629126466735825,\n",
       " 0.07629126466735825,\n",
       " 0.07629126466735826,\n",
       " 0.07629126466735829,\n",
       " 0.0762912646673583,\n",
       " 0.07629126466735832,\n",
       " 0.07629126466735832,\n",
       " 0.07821723252011534,\n",
       " 0.07821723252011538,\n",
       " 0.07821723252011545,\n",
       " 0.07821723252011545,\n",
       " 0.07821723252011548,\n",
       " 0.07821723252011548,\n",
       " 0.07821723252011549,\n",
       " 0.0782172325201155,\n",
       " 0.08933567311009502,\n",
       " 0.0893356731100951,\n",
       " 0.0893356731100951,\n",
       " 0.08933567311009516,\n",
       " 0.08933567311009517,\n",
       " 0.08933567311009524,\n",
       " 0.08933567311009527,\n",
       " 0.08933567311009535,\n",
       " 0.0919498715009101,\n",
       " 0.09194987150091014,\n",
       " 0.09194987150091014,\n",
       " 0.09194987150091015,\n",
       " 0.09194987150091016,\n",
       " 0.09194987150091019,\n",
       " 0.0919498715009102,\n",
       " 0.0919498715009102,\n",
       " 0.09549150281252614,\n",
       " 0.09549150281252629,\n",
       " 0.09549150281252637,\n",
       " 0.09549150281252639,\n",
       " 0.1106158710412369,\n",
       " 0.11061587104123703,\n",
       " 0.11061587104123706,\n",
       " 0.11061587104123713,\n",
       " 0.11061587104123718,\n",
       " 0.11061587104123721,\n",
       " 0.11061587104123725,\n",
       " 0.11061587104123728,\n",
       " 0.1219748675543029,\n",
       " 0.12197486755430295,\n",
       " 0.12197486755430306,\n",
       " 0.12197486755430306,\n",
       " 0.12197486755430306,\n",
       " 0.12197486755430308,\n",
       " 0.12197486755430319,\n",
       " 0.1219748675543033,\n",
       " 0.1265581407235002,\n",
       " 0.1265581407235003,\n",
       " 0.12655814072350033,\n",
       " 0.12655814072350038,\n",
       " 0.1265581407235004,\n",
       " 0.12655814072350047,\n",
       " 0.12655814072350047,\n",
       " 0.12655814072350058,\n",
       " 0.13938412895876262,\n",
       " 0.13938412895876273,\n",
       " 0.13938412895876273,\n",
       " 0.1393841289587628,\n",
       " 0.1393841289587628,\n",
       " 0.13938412895876284,\n",
       " 0.1393841289587629,\n",
       " 0.1393841289587629,\n",
       " 0.14029077970429502,\n",
       " 0.14029077970429504,\n",
       " 0.14029077970429507,\n",
       " 0.1402907797042951,\n",
       " 0.14029077970429513,\n",
       " 0.14029077970429515,\n",
       " 0.14029077970429518,\n",
       " 0.1402907797042954,\n",
       " 0.14644660940672616,\n",
       " ...]"
      ]
     },
     "execution_count": 82,
     "metadata": {},
     "output_type": "execute_result"
    }
   ],
   "source": [
    "gnx = nk.nxadapter.nk2nx(g)\n",
    "\n",
    "A = nx.linalg.adjacency_matrix(gnx).todense()\n",
    "\n",
    "D = np.array([x[1] for x in (gnx.degree)])\n",
    "D_h = D**(0.5)\n",
    "D_hi = D**(-0.5)\n",
    "\n",
    "M = np.diag(1/D) @ A\n",
    "S = np.diag(D_hi) @ A @ np.diag(D_hi)\n",
    "\n",
    "w, v = np.linalg.eigh(S)\n",
    "w1, v1 = np.linalg.eig(S)\n",
    "w1 = w1.real\n",
    "v1 = v1.real\n",
    "\n",
    "sorted(w)"
   ]
  },
  {
   "cell_type": "code",
   "execution_count": 132,
   "metadata": {},
   "outputs": [],
   "source": [
    "n = 50\n",
    "\n",
    "edges = set()\n",
    "nodes = set()\n",
    "for i in range(n):\n",
    "    nodes.add(i)\n",
    "\n",
    "for i in range(n):\n",
    "    for delta in [+1, -1]:\n",
    "        for which in [0, 1]:\n",
    "            node1 = i\n",
    "            node2 = (i + delta)% n\n",
    "            _ = edges.add((min(node1, node2), max(node1, node2)))\n",
    "\n",
    "g = nk.Graph(len(nodes))\n",
    "for edge in edges:\n",
    "    _ = g.addEdge(*edge)"
   ]
  },
  {
   "cell_type": "code",
   "execution_count": 153,
   "metadata": {},
   "outputs": [],
   "source": [
    "n = 6\n",
    "\n",
    "edges = set()\n",
    "nodes = {}\n",
    "for i in range(n):\n",
    "    for j in range(n):\n",
    "        node = i*n + j\n",
    "        nodes[(i, j)] = node\n",
    "\n",
    "for i in range(n):\n",
    "    for j in range(n):\n",
    "        for delta in [+1, -1]:\n",
    "            for which in [0, 1]:\n",
    "                node1 = nodes[(i, j)]\n",
    "                i1 = delta if which == 0 else 0\n",
    "                j1 = delta if which == 1 else 0\n",
    "                node2 = nodes[((i + i1) % n, (j+j1) %n)]\n",
    "                _ = edges.add((min(node1, node2), max(node1, node2)))\n",
    "\n",
    "g = nk.Graph(len(nodes))\n",
    "for edge in edges:\n",
    "    _ = g.addEdge(*edge)"
   ]
  },
  {
   "cell_type": "code",
   "execution_count": 3,
   "metadata": {},
   "outputs": [
    {
     "name": "stderr",
     "output_type": "stream",
     "text": [
      "/Users/benjidayan/GDrive/eth_courses/GIRG/benji_src/benji_girgs/generation.py:155: RuntimeWarning: divide by zero encountered in divide\n",
      "  p_uv = np.divide(outer, dists**d)\n"
     ]
    }
   ],
   "source": [
    "n=3000\n",
    "d=3\n",
    "tau=2.5\n",
    "alpha=1.3\n",
    "g, edges, weights, pts = generation.generate_GIRG_nk(n, d, tau, alpha, const=0.02, points_type=generation.PointsCube)"
   ]
  },
  {
   "cell_type": "markdown",
   "metadata": {},
   "source": []
  },
  {
   "cell_type": "code",
   "execution_count": 40,
   "metadata": {},
   "outputs": [
    {
     "data": {
      "text/plain": [
       "array([  73,  384,  515,  759,  866,  901, 1262, 1854, 2970])"
      ]
     },
     "execution_count": 40,
     "metadata": {},
     "output_type": "execute_result"
    },
    {
     "data": {
      "text/plain": [
       "0.07856742013183861"
      ]
     },
     "execution_count": 40,
     "metadata": {},
     "output_type": "execute_result"
    },
    {
     "data": {
      "text/plain": [
       "1"
      ]
     },
     "execution_count": 40,
     "metadata": {},
     "output_type": "execute_result"
    },
    {
     "data": {
      "text/plain": [
       "2.171722173256808"
      ]
     },
     "execution_count": 40,
     "metadata": {},
     "output_type": "execute_result"
    }
   ],
   "source": [
    "temp = np.outer(D_hi, D_hi)\n",
    "temp[temp == np.inf] = 0\n",
    "np.where(A[0] != 0)[1]\n",
    "temp[0, 73]\n",
    "temp2 = temp * A\n",
    "A[0, 73]\n",
    "temp2[0, 73]"
   ]
  },
  {
   "cell_type": "code",
   "execution_count": 32,
   "metadata": {},
   "outputs": [
    {
     "data": {
      "text/plain": [
       "array([[0.11111111, 0.19245009, 0.07856742, ..., 0.10540926, 0.0860663 ,\n",
       "        0.0727393 ],\n",
       "       [0.19245009, 0.33333333, 0.13608276, ..., 0.18257419, 0.1490712 ,\n",
       "        0.12598816],\n",
       "       [0.07856742, 0.13608276, 0.05555556, ..., 0.0745356 , 0.06085806,\n",
       "        0.05143445],\n",
       "       ...,\n",
       "       [0.10540926, 0.18257419, 0.0745356 , ..., 0.1       , 0.08164966,\n",
       "        0.06900656],\n",
       "       [0.0860663 , 0.1490712 , 0.06085806, ..., 0.08164966, 0.06666667,\n",
       "        0.05634362],\n",
       "       [0.0727393 , 0.12598816, 0.05143445, ..., 0.06900656, 0.05634362,\n",
       "        0.04761905]])"
      ]
     },
     "execution_count": 32,
     "metadata": {},
     "output_type": "execute_result"
    }
   ],
   "source": [
    "temp = np.outer(D_hi, D_hi)\n",
    "temp"
   ]
  },
  {
   "cell_type": "code",
   "execution_count": 30,
   "metadata": {},
   "outputs": [
    {
     "name": "stderr",
     "output_type": "stream",
     "text": [
      "/var/folders/60/0t2c_bns6n3c7kjhdk4d4wk80000gn/T/ipykernel_20113/2101357859.py:1: RuntimeWarning: divide by zero encountered in divide\n",
      "  M = np.diag(1/D) @ A\n",
      "/var/folders/60/0t2c_bns6n3c7kjhdk4d4wk80000gn/T/ipykernel_20113/2101357859.py:1: RuntimeWarning: invalid value encountered in matmul\n",
      "  M = np.diag(1/D) @ A\n"
     ]
    },
    {
     "data": {
      "text/plain": [
       "0.9999999999999999"
      ]
     },
     "execution_count": 30,
     "metadata": {},
     "output_type": "execute_result"
    }
   ],
   "source": [
    "M = np.diag(1/D) @ A\n",
    "zero_deg = np.where(D == 0)[0]\n",
    "M[zero_deg, :] = 0\n",
    "M[:, zero_deg] = 0\n",
    "M[zero_deg, zero_deg] = 1.0"
   ]
  },
  {
   "cell_type": "code",
   "execution_count": 31,
   "metadata": {},
   "outputs": [
    {
     "data": {
      "text/plain": [
       "(array([ 180,  193,  197,  238,  352,  597,  611,  732,  968, 1060, 1223,\n",
       "        1350, 1415, 1428, 1595, 1733, 1765, 1942, 1969, 1974, 2078, 2190,\n",
       "        2472, 2586, 2632, 2713, 2748, 2811, 2832, 2843, 2893]),)"
      ]
     },
     "execution_count": 31,
     "metadata": {},
     "output_type": "execute_result"
    }
   ],
   "source": [
    "np.where(D == 0)"
   ]
  },
  {
   "cell_type": "code",
   "execution_count": 4,
   "metadata": {},
   "outputs": [
    {
     "name": "stderr",
     "output_type": "stream",
     "text": [
      "/var/folders/60/0t2c_bns6n3c7kjhdk4d4wk80000gn/T/ipykernel_20113/1801264201.py:3: FutureWarning: adjacency_matrix will return a scipy.sparse array instead of a matrix in Networkx 3.0.\n",
      "  A = nx.linalg.adjacency_matrix(gnx).todense()\n",
      "/var/folders/60/0t2c_bns6n3c7kjhdk4d4wk80000gn/T/ipykernel_20113/1801264201.py:7: RuntimeWarning: divide by zero encountered in power\n",
      "  D_hi = D**(-0.5)\n",
      "/var/folders/60/0t2c_bns6n3c7kjhdk4d4wk80000gn/T/ipykernel_20113/1801264201.py:9: RuntimeWarning: divide by zero encountered in divide\n",
      "  M = np.diag(1/D) @ A\n",
      "/var/folders/60/0t2c_bns6n3c7kjhdk4d4wk80000gn/T/ipykernel_20113/1801264201.py:9: RuntimeWarning: invalid value encountered in matmul\n",
      "  M = np.diag(1/D) @ A\n"
     ]
    }
   ],
   "source": [
    "gnx = nk.nxadapter.nk2nx(g)\n",
    "\n",
    "A = nx.linalg.adjacency_matrix(gnx).todense()\n",
    "\n",
    "D = np.array([x[1] for x in (gnx.degree)])\n",
    "D_h = D**(0.5)\n",
    "D_hi = D**(-0.5)\n",
    "\n",
    "M = np.diag(1/D) @ A\n",
    "M = 0.5 * M + 0.5 * np.eye(M.shape[0])\n",
    "# S = np.diag(D_hi) @ A @ np.diag(D_hi)\n",
    "\n",
    "S = np.diag(D_h) @ M @ np.diag(D_hi)\n",
    "zero_deg = np.where(D == 0)[0]\n",
    "S[zero_deg, :] = 0\n",
    "S[:, zero_deg] = 0\n",
    "S[zero_deg, zero_deg] = 1.0"
   ]
  },
  {
   "cell_type": "code",
   "execution_count": 8,
   "metadata": {},
   "outputs": [
    {
     "data": {
      "text/plain": [
       "(array([ 180,  193,  197,  238,  352,  597,  611,  732,  968, 1060, 1223,\n",
       "        1350, 1415, 1428, 1595, 1733, 1765, 1942, 1969, 1974, 2078, 2190,\n",
       "        2472, 2586, 2632, 2713, 2748, 2811, 2832, 2843, 2893]),)"
      ]
     },
     "execution_count": 8,
     "metadata": {},
     "output_type": "execute_result"
    }
   ],
   "source": [
    "np.where(D_hi == np.inf)"
   ]
  },
  {
   "cell_type": "code",
   "execution_count": 9,
   "metadata": {},
   "outputs": [
    {
     "name": "stderr",
     "output_type": "stream",
     "text": [
      "/var/folders/60/0t2c_bns6n3c7kjhdk4d4wk80000gn/T/ipykernel_20113/474253507.py:1: RuntimeWarning: invalid value encountered in matmul\n",
      "  M @ np.diag(D_hi)\n"
     ]
    },
    {
     "data": {
      "text/plain": [
       "matrix([[0.16666667, 0.        , 0.        , ..., 0.        , 0.        ,\n",
       "         0.        ],\n",
       "        [0.        , 0.28867513, 0.        , ..., 0.        , 0.        ,\n",
       "         0.        ],\n",
       "        [0.        , 0.        , 0.11785113, ..., 0.        , 0.        ,\n",
       "         0.        ],\n",
       "        ...,\n",
       "        [0.        , 0.        , 0.        , ..., 0.15811388, 0.        ,\n",
       "         0.        ],\n",
       "        [0.        , 0.        , 0.        , ..., 0.        , 0.12909944,\n",
       "         0.        ],\n",
       "        [0.        , 0.        , 0.        , ..., 0.        , 0.        ,\n",
       "         0.10910895]])"
      ]
     },
     "execution_count": 9,
     "metadata": {},
     "output_type": "execute_result"
    }
   ],
   "source": [
    "M @ np.diag(D_hi) "
   ]
  },
  {
   "cell_type": "code",
   "execution_count": 16,
   "metadata": {},
   "outputs": [
    {
     "name": "stderr",
     "output_type": "stream",
     "text": [
      "/var/folders/60/0t2c_bns6n3c7kjhdk4d4wk80000gn/T/ipykernel_20113/2366389527.py:1: RuntimeWarning: invalid value encountered in matmul\n",
      "  S = np.diag(D_hi) @ A @ np.diag(D_hi)\n"
     ]
    },
    {
     "data": {
      "text/plain": [
       "matrix([[0., 0., 0., ..., 0., 0., 0.],\n",
       "        [0., 0., 0., ..., 0., 0., 0.],\n",
       "        [0., 0., 0., ..., 0., 0., 0.],\n",
       "        ...,\n",
       "        [0., 0., 0., ..., 0., 0., 0.],\n",
       "        [0., 0., 0., ..., 0., 0., 0.],\n",
       "        [0., 0., 0., ..., 0., 0., 0.]])"
      ]
     },
     "execution_count": 16,
     "metadata": {},
     "output_type": "execute_result"
    }
   ],
   "source": [
    "S = np.diag(D_hi) @ A @ np.diag(D_hi)\n",
    "S"
   ]
  },
  {
   "cell_type": "code",
   "execution_count": 14,
   "metadata": {},
   "outputs": [
    {
     "data": {
      "text/plain": [
       "array([[3.        , 0.        , 0.        , ..., 0.        , 0.        ,\n",
       "        0.        ],\n",
       "       [0.        , 1.73205081, 0.        , ..., 0.        , 0.        ,\n",
       "        0.        ],\n",
       "       [0.        , 0.        , 4.24264069, ..., 0.        , 0.        ,\n",
       "        0.        ],\n",
       "       ...,\n",
       "       [0.        , 0.        , 0.        , ..., 3.16227766, 0.        ,\n",
       "        0.        ],\n",
       "       [0.        , 0.        , 0.        , ..., 0.        , 3.87298335,\n",
       "        0.        ],\n",
       "       [0.        , 0.        , 0.        , ..., 0.        , 0.        ,\n",
       "        4.58257569]])"
      ]
     },
     "execution_count": 14,
     "metadata": {},
     "output_type": "execute_result"
    }
   ],
   "source": [
    "np.diag(D_h)"
   ]
  },
  {
   "cell_type": "code",
   "execution_count": 15,
   "metadata": {},
   "outputs": [
    {
     "data": {
      "text/plain": [
       "matrix([[0.5, 0. , 0. , ..., 0. , 0. , 0. ],\n",
       "        [0. , 0.5, 0. , ..., 0. , 0. , 0. ],\n",
       "        [0. , 0. , 0.5, ..., 0. , 0. , 0. ],\n",
       "        ...,\n",
       "        [0. , 0. , 0. , ..., 0.5, 0. , 0. ],\n",
       "        [0. , 0. , 0. , ..., 0. , 0.5, 0. ],\n",
       "        [0. , 0. , 0. , ..., 0. , 0. , 0.5]])"
      ]
     },
     "execution_count": 15,
     "metadata": {},
     "output_type": "execute_result"
    }
   ],
   "source": [
    "M"
   ]
  },
  {
   "cell_type": "code",
   "execution_count": null,
   "metadata": {},
   "outputs": [],
   "source": []
  },
  {
   "cell_type": "code",
   "execution_count": null,
   "metadata": {},
   "outputs": [],
   "source": []
  },
  {
   "cell_type": "code",
   "execution_count": 80,
   "metadata": {},
   "outputs": [
    {
     "name": "stderr",
     "output_type": "stream",
     "text": [
      "/var/folders/60/0t2c_bns6n3c7kjhdk4d4wk80000gn/T/ipykernel_13868/1756739252.py:3: FutureWarning: adjacency_matrix will return a scipy.sparse array instead of a matrix in Networkx 3.0.\n",
      "  A = nx.linalg.adjacency_matrix(gnx).todense()\n"
     ]
    },
    {
     "data": {
      "text/plain": [
       "[<matplotlib.lines.Line2D at 0x2b97c9910>]"
      ]
     },
     "execution_count": 80,
     "metadata": {},
     "output_type": "execute_result"
    },
    {
     "data": {
      "image/png": "[encoded data removed]",
      "text/plain": [
       "<Figure size 640x480 with 1 Axes>"
      ]
     },
     "metadata": {},
     "output_type": "display_data"
    }
   ],
   "source": [
    "gnx = nk.nxadapter.nk2nx(g)\n",
    "\n",
    "A = nx.linalg.adjacency_matrix(gnx).todense()\n",
    "\n",
    "D = np.array([x[1] for x in (gnx.degree)])\n",
    "D_h = D**(0.5)\n",
    "D_hi = D**(-0.5)\n",
    "\n",
    "M = np.diag(1/D) @ A\n",
    "M = 0.5 * M + 0.5 * np.eye(M.shape[0])\n",
    "# S = np.diag(D_hi) @ A @ np.diag(D_hi)\n",
    "S = np.diag(D_h) @ M @ np.diag(D_hi)\n",
    "\n",
    "w, V = np.linalg.eigh(S)\n",
    "\n",
    "# S = V @ np.diag(w) @ V.T\n",
    "# M = D^{-1/2} @ S @ D^{1/2} \n",
    "# = D^{-1/2} @ V @ np.diag(w) @ V.T @ D^{1/2}\n",
    "# = Phi @ np.diag(w) @ Psi.T\n",
    "# Phi = D^{-1/2} @ V\n",
    "# Psi = D^{1/2} @ V\n",
    "\n",
    "\n",
    "Phi = np.diag(D_hi) @ V\n",
    "Psi = np.diag(D_h) @ V\n",
    "\n",
    "n = Phi.shape[0]\n",
    "\n",
    "def diff_map(i, t):\n",
    "    # n = 5, so 0, 1, 2, 3, 4, we want to get 3, 2, 1, 0\n",
    "    # so 5-2 -> -1, -1\n",
    "    return np.array([Phi[i, j] for j in range(n-2, -1, -1)]) * (np.flip(w)[1:]**t)\n",
    "\n",
    "plt.plot((np.flip(w)**5)[:10], marker='x')\n",
    "\n",
    "# sorted(w)"
   ]
  },
  {
   "cell_type": "code",
   "execution_count": 76,
   "metadata": {},
   "outputs": [
    {
     "data": {
      "text/plain": [
       "(2000, 1999)"
      ]
     },
     "execution_count": 76,
     "metadata": {},
     "output_type": "execute_result"
    },
    {
     "data": {
      "text/plain": [
       "<Figure size 640x480 with 0 Axes>"
      ]
     },
     "execution_count": 76,
     "metadata": {},
     "output_type": "execute_result"
    },
    {
     "data": {
      "text/plain": [
       "<matplotlib.collections.PathCollection at 0x2b946f5e0>"
      ]
     },
     "execution_count": 76,
     "metadata": {},
     "output_type": "execute_result"
    },
    {
     "data": {
      "image/png": "[encoded data removed]",
      "text/plain": [
       "<Figure size 640x480 with 1 Axes>"
      ]
     },
     "metadata": {},
     "output_type": "display_data"
    }
   ],
   "source": [
    "pts = np.array([diff_map(i, 10) for i in range(n)])\n",
    "pts.shape\n",
    "plt.figure()\n",
    "xs = pts[:, 0]\n",
    "ys = pts[:, 5]\n",
    "plt.scatter(xs, ys)\n",
    "# for i in range(len(xs)):\n",
    "#     _ = plt.annotate(i, (xs[i], ys[i]))"
   ]
  },
  {
   "cell_type": "code",
   "execution_count": 5,
   "metadata": {},
   "outputs": [
    {
     "data": {
      "text/plain": [
       "(5, 5, 2)"
      ]
     },
     "execution_count": 5,
     "metadata": {},
     "output_type": "execute_result"
    }
   ],
   "source": [
    "points = np.random.random((5, 2))\n",
    "(points[:, None, :] - points[None, :, :]).shape"
   ]
  },
  {
   "cell_type": "code",
   "execution_count": 6,
   "metadata": {},
   "outputs": [],
   "source": [
    "from typing import List\n",
    "\n",
    "def get_dists_cube(points: np.ndarray):\n",
    "    return np.linalg.norm(points[:, None, :] - points[None, :, :], ord=np.inf, axis=-1)\n",
    "\n",
    "def get_probs_cube(weights: List[float], pts: np.ndarray, alpha=2.0, const=1.0):\n",
    "    \"\"\"\n",
    "    Computes min(1, w_u w_v / ||x_u - x_v||_inf^d)^alpha\n",
    "    as a big n x n square matrix (we only need upper triangular bit tho)\n",
    "    \"\"\"\n",
    "    outer = np.outer(weights, weights)\n",
    "    n, d = pts.shape\n",
    "    dists = get_dists_cube(pts)\n"
   ]
  },
  {
   "cell_type": "code",
   "execution_count": 7,
   "metadata": {},
   "outputs": [
    {
     "data": {
      "text/plain": [
       "array([[0.     , 0.04883, 0.3123 , 0.607  , 0.103  ],\n",
       "       [0.04883, 0.     , 0.2634 , 0.558  , 0.1196 ],\n",
       "       [0.3123 , 0.2634 , 0.     , 0.4897 , 0.3308 ],\n",
       "       [0.607  , 0.558  , 0.4897 , 0.     , 0.6255 ],\n",
       "       [0.103  , 0.1196 , 0.3308 , 0.6255 , 0.     ]], dtype=float16)"
      ]
     },
     "execution_count": 7,
     "metadata": {},
     "output_type": "execute_result"
    }
   ],
   "source": [
    "class Points(np.ndarray):\n",
    "\n",
    "    def __new__(cls, input_array):\n",
    "        # Input array is an already formed ndarray instance\n",
    "        # We first cast to be our class type\n",
    "        obj = np.asarray(input_array).view(cls)\n",
    "        # Finally, we must return the newly created object:\n",
    "        return obj\n",
    "\n",
    "    def dists(self):\n",
    "        return generation.get_dists_julia(self)\n",
    "\n",
    "class RealisticInfoArray(np.ndarray):\n",
    "\n",
    "    def __new__(cls, input_array):\n",
    "        # Input array is an already formed ndarray instance\n",
    "        # We first cast to be our class type\n",
    "        obj = np.asarray(input_array).view(cls)\n",
    "        # add the new attribute to the created instance\n",
    "        # obj.info = info\n",
    "        # Finally, we must return the newly created object:\n",
    "        return obj\n",
    "\n",
    "    # def __array_finalize__(self, obj):\n",
    "    #     # see InfoArray.__array_finalize__ for comments\n",
    "    #     if obj is None: return\n",
    "    #     self.info = getattr(obj, 'info', None)\n",
    "\n",
    "    def foo(self):\n",
    "        print('foo')\n",
    "\n",
    "points_temp = Points(points)\n",
    "points_temp.dists()\n",
    "# asdf = RealisticInfoArray(points)\n",
    "# asdf.foo()\n"
   ]
  },
  {
   "cell_type": "code",
   "execution_count": null,
   "metadata": {},
   "outputs": [],
   "source": []
  },
  {
   "cell_type": "code",
   "execution_count": 177,
   "metadata": {},
   "outputs": [
    {
     "name": "stdout",
     "output_type": "stream",
     "text": [
      "foo\n"
     ]
    }
   ],
   "source": [
    "asdf.foo()"
   ]
  },
  {
   "cell_type": "code",
   "execution_count": 175,
   "metadata": {},
   "outputs": [
    {
     "data": {
      "text/plain": [
       "__main__.Points"
      ]
     },
     "execution_count": 175,
     "metadata": {},
     "output_type": "execute_result"
    }
   ],
   "source": [
    "type(points_temp)"
   ]
  },
  {
   "cell_type": "code",
   "execution_count": 171,
   "metadata": {},
   "outputs": [
    {
     "ename": "AttributeError",
     "evalue": "'Points' object has no attribute 'dist'",
     "output_type": "error",
     "traceback": [
      "\u001b[0;31m---------------------------------------------------------------------------\u001b[0m",
      "\u001b[0;31mAttributeError\u001b[0m                            Traceback (most recent call last)",
      "\u001b[1;32m/Users/benjidayan/GDrive/eth_courses/GIRG/benji_src/diffusion_maps.ipynb Cell 32\u001b[0m in \u001b[0;36m<cell line: 1>\u001b[0;34m()\u001b[0m\n\u001b[0;32m----> <a href='vscode-notebook-cell:/Users/benjidayan/GDrive/eth_courses/GIRG/benji_src/diffusion_maps.ipynb#Y122sZmlsZQ%3D%3D?line=0'>1</a>\u001b[0m points_temp\u001b[39m.\u001b[39;49mdist()\n",
      "\u001b[0;31mAttributeError\u001b[0m: 'Points' object has no attribute 'dist'"
     ]
    }
   ],
   "source": [
    "points_temp.dist()"
   ]
  },
  {
   "cell_type": "code",
   "execution_count": 167,
   "metadata": {},
   "outputs": [
    {
     "data": {
      "text/plain": [
       "array([[0.512, 0.029],\n",
       "       [0.5  , 0.756],\n",
       "       [0.26 , 0.195],\n",
       "       [0.277, 0.708],\n",
       "       [0.536, 0.251]])"
      ]
     },
     "execution_count": 167,
     "metadata": {},
     "output_type": "execute_result"
    }
   ],
   "source": [
    "points"
   ]
  },
  {
   "cell_type": "code",
   "execution_count": null,
   "metadata": {},
   "outputs": [],
   "source": [
    "fig = plt.figure()\n",
    "ax = fig.add_subplot(projection='3d')"
   ]
  },
  {
   "cell_type": "code",
   "execution_count": 119,
   "metadata": {},
   "outputs": [
    {
     "data": {
      "text/plain": [
       "[3, 2, 1, 0]"
      ]
     },
     "execution_count": 119,
     "metadata": {},
     "output_type": "execute_result"
    }
   ],
   "source": [
    "list(range(5a-2, -1, -1))"
   ]
  },
  {
   "cell_type": "code",
   "execution_count": 112,
   "metadata": {},
   "outputs": [
    {
     "data": {
      "text/plain": [
       "array([6.08337491e-17, 9.54915028e-02, 9.54915028e-02, 3.45491503e-01,\n",
       "       3.45491503e-01, 6.54508497e-01, 6.54508497e-01, 9.04508497e-01,\n",
       "       9.04508497e-01, 1.00000000e+00])"
      ]
     },
     "execution_count": 112,
     "metadata": {},
     "output_type": "execute_result"
    }
   ],
   "source": []
  },
  {
   "cell_type": "code",
   "execution_count": 99,
   "metadata": {},
   "outputs": [
    {
     "data": {
      "text/plain": [
       "1.7609854935063003e-14"
      ]
     },
     "execution_count": 99,
     "metadata": {},
     "output_type": "execute_result"
    },
    {
     "data": {
      "text/plain": [
       "1.686774176975156e-14"
      ]
     },
     "execution_count": 99,
     "metadata": {},
     "output_type": "execute_result"
    }
   ],
   "source": [
    "a\n",
    "np.abs(S - v @ np.diag(w) @ v.T).sum()\n",
    "np.abs(M - Phi @ np.diag(w) @ Psi.T).sum()"
   ]
  },
  {
   "cell_type": "code",
   "execution_count": 107,
   "metadata": {},
   "outputs": [
    {
     "data": {
      "text/plain": [
       "array([-1.86297881e-82, -2.39405269e-06, -7.56943085e-07, -1.26020809e-03,\n",
       "        9.13777206e-04, -2.30327485e-02,  3.02012521e-02, -1.76647380e-01,\n",
       "        7.38250414e-02, -2.23606798e-01])"
      ]
     },
     "execution_count": 107,
     "metadata": {},
     "output_type": "execute_result"
    }
   ],
   "source": [
    "def diff_map(i, t):\n",
    "    return np.array([Phi[i, j] for j in range(Phi.shape[1])]) * (w**t)\n",
    "\n",
    "diff_map(2, 5)"
   ]
  },
  {
   "cell_type": "code",
   "execution_count": 79,
   "metadata": {},
   "outputs": [
    {
     "data": {
      "text/plain": [
       "[-1.0000000000000004,\n",
       " -0.9876883405951382,\n",
       " -0.9876883405951371,\n",
       " -0.951056516295154,\n",
       " -0.9510565162951538,\n",
       " -0.8910065241883696,\n",
       " -0.8910065241883685,\n",
       " -0.8090169943749482,\n",
       " -0.8090169943749477,\n",
       " -0.7071067811865502,\n",
       " -0.7071067811865471,\n",
       " -0.5877852522924752,\n",
       " -0.5877852522924719,\n",
       " -0.4539904997395473,\n",
       " -0.4539904997395466,\n",
       " -0.30901699437494823,\n",
       " -0.30901699437494756,\n",
       " -0.15643446504023104,\n",
       " -0.15643446504023084,\n",
       " -1.490156693593269e-16,\n",
       " -1.490156693593269e-16,\n",
       " 0.15643446504023084,\n",
       " 0.1564344650402315,\n",
       " 0.3090169943749466,\n",
       " 0.30901699437494773,\n",
       " 0.45399049973954636,\n",
       " 0.45399049973954686,\n",
       " 0.587785252292473,\n",
       " 0.5877852522924731,\n",
       " 0.707106781186547,\n",
       " 0.7071067811865471,\n",
       " 0.8090169943749443,\n",
       " 0.8090169943749471,\n",
       " 0.891006524188367,\n",
       " 0.8910065241883678,\n",
       " 0.9510565162951519,\n",
       " 0.9510565162951538,\n",
       " 0.9876883405951358,\n",
       " 0.9876883405951378,\n",
       " 0.9999999999999998]"
      ]
     },
     "execution_count": 79,
     "metadata": {},
     "output_type": "execute_result"
    }
   ],
   "source": [
    "sorted(w1)"
   ]
  },
  {
   "cell_type": "code",
   "execution_count": 68,
   "metadata": {},
   "outputs": [],
   "source": [
    "X = np.random.random((40,40))\n",
    "X = X + X.T\n",
    "w1, v1 = np.linalg.eig(X)\n",
    "w1 = w1.real\n",
    "v1 = v1.real"
   ]
  },
  {
   "cell_type": "code",
   "execution_count": 69,
   "metadata": {},
   "outputs": [
    {
     "data": {
      "text/plain": [
       "array([[-9.54791801e-15, -4.21884749e-15, -1.77635684e-15, ...,\n",
       "        -2.88657986e-15, -2.66453526e-15, -3.77475828e-15],\n",
       "       [-4.66293670e-15, -3.77475828e-15, -7.10542736e-15, ...,\n",
       "        -4.99600361e-15, -4.66293670e-15, -8.88178420e-16],\n",
       "       [-1.77635684e-15, -7.10542736e-15,  1.22124533e-15, ...,\n",
       "        -2.38697950e-15, -1.77635684e-15,  1.80411242e-16],\n",
       "       ...,\n",
       "       [-2.88657986e-15, -5.21804822e-15, -2.44249065e-15, ...,\n",
       "         2.10942375e-15, -3.33066907e-15,  8.88178420e-16],\n",
       "       [-2.66453526e-15, -4.21884749e-15, -1.55431223e-15, ...,\n",
       "        -3.33066907e-15, -4.10782519e-15, -1.11022302e-15],\n",
       "       [-3.77475828e-15, -8.88178420e-16,  1.24900090e-16, ...,\n",
       "         1.22124533e-15, -1.11022302e-15,  4.66293670e-15]])"
      ]
     },
     "execution_count": 69,
     "metadata": {},
     "output_type": "execute_result"
    }
   ],
   "source": [
    "v1 @ np.diag(w1) @ v1.T - X"
   ]
  },
  {
   "cell_type": "code",
   "execution_count": 96,
   "metadata": {},
   "outputs": [
    {
     "name": "stderr",
     "output_type": "stream",
     "text": [
      "/var/folders/60/0t2c_bns6n3c7kjhdk4d4wk80000gn/T/ipykernel_15710/4169547437.py:3: FutureWarning: adjacency_matrix will return a scipy.sparse array instead of a matrix in Networkx 3.0.\n",
      "  A = nx.linalg.adjacency_matrix(gnx).todense()\n"
     ]
    },
    {
     "ename": "ValueError",
     "evalue": "shapes (40,1) and (40,40) not aligned: 1 (dim 1) != 40 (dim 0)",
     "output_type": "error",
     "traceback": [
      "\u001b[0;31m---------------------------------------------------------------------------\u001b[0m",
      "\u001b[0;31mValueError\u001b[0m                                Traceback (most recent call last)",
      "\u001b[1;32m/Users/benjidayan/GDrive/eth_courses/GIRG/benji_src/diffusion_maps.ipynb Cell 22\u001b[0m in \u001b[0;36m<cell line: 10>\u001b[0;34m()\u001b[0m\n\u001b[1;32m      <a href='vscode-notebook-cell:/Users/benjidayan/GDrive/eth_courses/GIRG/benji_src/diffusion_maps.ipynb#X43sZmlsZQ%3D%3D?line=6'>7</a>\u001b[0m D_half \u001b[39m=\u001b[39m np\u001b[39m.\u001b[39msqrt(D)\n\u001b[1;32m      <a href='vscode-notebook-cell:/Users/benjidayan/GDrive/eth_courses/GIRG/benji_src/diffusion_maps.ipynb#X43sZmlsZQ%3D%3D?line=7'>8</a>\u001b[0m D_invhalf \u001b[39m=\u001b[39m \u001b[39m1\u001b[39m\u001b[39m/\u001b[39mD_half\n\u001b[0;32m---> <a href='vscode-notebook-cell:/Users/benjidayan/GDrive/eth_courses/GIRG/benji_src/diffusion_maps.ipynb#X43sZmlsZQ%3D%3D?line=9'>10</a>\u001b[0m M \u001b[39m=\u001b[39m D_inv[:, np\u001b[39m.\u001b[39;49mnewaxis] \u001b[39m*\u001b[39;49m A\n\u001b[1;32m     <a href='vscode-notebook-cell:/Users/benjidayan/GDrive/eth_courses/GIRG/benji_src/diffusion_maps.ipynb#X43sZmlsZQ%3D%3D?line=10'>11</a>\u001b[0m S \u001b[39m=\u001b[39m D_invhalf[:, np\u001b[39m.\u001b[39mnewaxis] \u001b[39m*\u001b[39m A \u001b[39m*\u001b[39m D_invhalf\n",
      "File \u001b[0;32m/opt/homebrew/anaconda3/lib/python3.9/site-packages/numpy/matrixlib/defmatrix.py:224\u001b[0m, in \u001b[0;36mmatrix.__rmul__\u001b[0;34m(self, other)\u001b[0m\n\u001b[1;32m    223\u001b[0m \u001b[39mdef\u001b[39;00m \u001b[39m__rmul__\u001b[39m(\u001b[39mself\u001b[39m, other):\n\u001b[0;32m--> 224\u001b[0m     \u001b[39mreturn\u001b[39;00m N\u001b[39m.\u001b[39;49mdot(other, \u001b[39mself\u001b[39;49m)\n",
      "File \u001b[0;32m<__array_function__ internals>:200\u001b[0m, in \u001b[0;36mdot\u001b[0;34m(*args, **kwargs)\u001b[0m\n",
      "\u001b[0;31mValueError\u001b[0m: shapes (40,1) and (40,40) not aligned: 1 (dim 1) != 40 (dim 0)"
     ]
    }
   ],
   "source": [
    "gnx = nk.nxadapter.nk2nx(g)\n",
    "\n",
    "A = nx.linalg.adjacency_matrix(gnx).todense()\n",
    "\n",
    "D = np.array([x[1] for x in (gnx.degree)])\n",
    "D_inv = 1/D\n",
    "D_half = np.sqrt(D)\n",
    "D_invhalf = 1/D_half\n",
    "\n",
    "M = D_inv[:, np.newaxis] * A\n",
    "S = D_invhalf[:, np.newaxis] * A * D_invhalf\n"
   ]
  },
  {
   "cell_type": "code",
   "execution_count": 98,
   "metadata": {},
   "outputs": [
    {
     "data": {
      "text/plain": [
       "(40,)"
      ]
     },
     "execution_count": 98,
     "metadata": {},
     "output_type": "execute_result"
    },
    {
     "data": {
      "text/plain": [
       "(40, 40)"
      ]
     },
     "execution_count": 98,
     "metadata": {},
     "output_type": "execute_result"
    }
   ],
   "source": [
    "D_inv.shape\n",
    "A.shape"
   ]
  },
  {
   "cell_type": "code",
   "execution_count": 101,
   "metadata": {},
   "outputs": [
    {
     "data": {
      "text/plain": [
       "(4,)"
      ]
     },
     "execution_count": 101,
     "metadata": {},
     "output_type": "execute_result"
    },
    {
     "data": {
      "text/plain": [
       "(4, 4)"
      ]
     },
     "execution_count": 101,
     "metadata": {},
     "output_type": "execute_result"
    }
   ],
   "source": [
    "bar.shape\n",
    "foo.shape"
   ]
  },
  {
   "cell_type": "code",
   "execution_count": 99,
   "metadata": {},
   "outputs": [
    {
     "data": {
      "text/plain": [
       "array([[ 0,  1,  2,  3],\n",
       "       [ 4,  5,  6,  7],\n",
       "       [ 8,  9, 10, 11],\n",
       "       [12, 13, 14, 15]])"
      ]
     },
     "execution_count": 99,
     "metadata": {},
     "output_type": "execute_result"
    },
    {
     "data": {
      "text/plain": [
       "array([0, 1, 2, 3])"
      ]
     },
     "execution_count": 99,
     "metadata": {},
     "output_type": "execute_result"
    },
    {
     "data": {
      "text/plain": [
       "array([[ 0,  1,  4,  9],\n",
       "       [ 0,  5, 12, 21],\n",
       "       [ 0,  9, 20, 33],\n",
       "       [ 0, 13, 28, 45]])"
      ]
     },
     "execution_count": 99,
     "metadata": {},
     "output_type": "execute_result"
    },
    {
     "data": {
      "text/plain": [
       "array([[ 0,  0,  0,  0],\n",
       "       [ 4,  5,  6,  7],\n",
       "       [16, 18, 20, 22],\n",
       "       [36, 39, 42, 45]])"
      ]
     },
     "execution_count": 99,
     "metadata": {},
     "output_type": "execute_result"
    }
   ],
   "source": [
    "foo = np.arange(16).reshape(4,4)\n",
    "bar = np.arange(4)\n",
    "foo\n",
    "bar\n",
    "# (1, 4) * (4, 4)\n",
    "bar * foo\n",
    "# (4, 1) * (4, 4)\n",
    "bar[:, np.newaxis] * foo\n"
   ]
  },
  {
   "cell_type": "code",
   "execution_count": 60,
   "metadata": {},
   "outputs": [],
   "source": [
    "diffmap = lambda i: np.array(Phi[i, 1:].real).squeeze() * v3[1:].real"
   ]
  },
  {
   "cell_type": "code",
   "execution_count": 74,
   "metadata": {},
   "outputs": [
    {
     "data": {
      "text/plain": [
       "<matplotlib.collections.PathCollection at 0x2b8574610>"
      ]
     },
     "execution_count": 74,
     "metadata": {},
     "output_type": "execute_result"
    },
    {
     "data": {
      "image/png": "[encoded data removed]",
      "text/plain": [
       "<Figure size 640x480 with 1 Axes>"
      ]
     },
     "metadata": {},
     "output_type": "display_data"
    }
   ],
   "source": [
    "pts = [diffmap(i)[:2] for i in range(n)]\n",
    "x, y = zip(*pts)\n",
    "fig, ax = plt.subplots()\n",
    "ax.scatter(x, y)\n",
    "for i in range(15):\n",
    "    _ = ax.annotate(str(i), (x[i], y[i]))\n",
    "\n",
    "plt.show()"
   ]
  },
  {
   "cell_type": "code",
   "execution_count": 58,
   "metadata": {},
   "outputs": [
    {
     "data": {
      "text/plain": [
       "array([-0.15037524,  0.1408805 , -0.15616724,  0.15616724])"
      ]
     },
     "execution_count": 58,
     "metadata": {},
     "output_type": "execute_result"
    }
   ],
   "source": [
    "diffmap(0)[:4]"
   ]
  },
  {
   "cell_type": "code",
   "execution_count": 59,
   "metadata": {},
   "outputs": [
    {
     "data": {
      "text/plain": [
       "array([-0.15037524,  0.1408805 , -0.15616724,  0.15616724])"
      ]
     },
     "execution_count": 59,
     "metadata": {},
     "output_type": "execute_result"
    }
   ],
   "source": [
    "diffmap(1)[:4]"
   ]
  },
  {
   "cell_type": "code",
   "execution_count": null,
   "metadata": {},
   "outputs": [],
   "source": []
  }
 ],
 "metadata": {
  "kernelspec": {
   "display_name": "base",
   "language": "python",
   "name": "python3"
  },
  "language_info": {
   "codemirror_mode": {
    "name": "ipython",
    "version": 3
   },
   "file_extension": ".py",
   "mimetype": "text/x-python",
   "name": "python",
   "nbconvert_exporter": "python",
   "pygments_lexer": "ipython3",
   "version": "3.9.13"
  },
  "orig_nbformat": 4
 },
 "nbformat": 4,
 "nbformat_minor": 2
}
