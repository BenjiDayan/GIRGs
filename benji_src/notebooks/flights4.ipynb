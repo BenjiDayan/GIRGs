{
 "cells": [
  {
   "cell_type": "code",
   "execution_count": 2,
   "metadata": {},
   "outputs": [
    {
     "data": {
      "text/html": [
       "\n",
       "\t\t\t<script type=\"text/javascript\">\n",
       "\t\t\t<!--\n",
       "\t\t\t\t\n",
       "\t\t\t{\n",
       "\t\t\t\tvar element = document.getElementById('NetworKit_script');\n",
       "\t\t\t\tif (element) {\n",
       "\t\t\t\t\telement.parentNode.removeChild(element);\n",
       "\t\t\t\t}\n",
       "\t\t\t\telement = document.createElement('script');\n",
       "\t\t\t\telement.type = 'text/javascript';\n",
       "\t\t\t\telement.innerHTML = 'function NetworKit_pageEmbed(id) { var i, j; var elements; elements = document.getElementById(id).getElementsByClassName(\"Plot\"); for (i=0; i<elements.length; i++) { elements[i].id = id + \"_Plot_\" + i; var data = elements[i].getAttribute(\"data-image\").split(\"|\"); elements[i].removeAttribute(\"data-image\"); var content = \"<div class=\\\\\"Image\\\\\" id=\\\\\"\" + elements[i].id + \"_Image\\\\\" />\"; elements[i].innerHTML = content; elements[i].setAttribute(\"data-image-index\", 0); elements[i].setAttribute(\"data-image-length\", data.length); for (j=0; j<data.length; j++) { elements[i].setAttribute(\"data-image-\" + j, data[j]); } NetworKit_plotUpdate(elements[i]); elements[i].onclick = function (e) { NetworKit_overlayShow((e.target) ? e.target : e.srcElement); } } elements = document.getElementById(id).getElementsByClassName(\"HeatCell\"); for (i=0; i<elements.length; i++) { var data = parseFloat(elements[i].getAttribute(\"data-heat\")); var color = \"#00FF00\"; if (data <= 1 && data > 0) { color = \"hsla(0, 100%, 75%, \" + (data) + \")\"; } else if (data <= 0 && data >= -1) { color = \"hsla(240, 100%, 75%, \" + (-data) + \")\"; } elements[i].style.backgroundColor = color; } elements = document.getElementById(id).getElementsByClassName(\"Details\"); for (i=0; i<elements.length; i++) { elements[i].setAttribute(\"data-title\", \"-\"); NetworKit_toggleDetails(elements[i]); elements[i].onclick = function (e) { NetworKit_toggleDetails((e.target) ? e.target : e.srcElement); } } elements = document.getElementById(id).getElementsByClassName(\"MathValue\"); for (i=elements.length-1; i>=0; i--) { value = elements[i].innerHTML.trim(); if (value === \"nan\") { elements[i].parentNode.innerHTML = \"\" } } elements = document.getElementById(id).getElementsByClassName(\"SubCategory\"); for (i=elements.length-1; i>=0; i--) { value = elements[i].innerHTML.trim(); if (value === \"\") { elements[i].parentNode.removeChild(elements[i]) } } elements = document.getElementById(id).getElementsByClassName(\"Category\"); for (i=elements.length-1; i>=0; i--) { value = elements[i].innerHTML.trim(); if (value === \"\") { elements[i].parentNode.removeChild(elements[i]) } } var isFirefox = false; try { isFirefox = typeof InstallTrigger !== \"undefined\"; } catch (e) {} if (!isFirefox) { alert(\"Currently the function\\'s output is only fully supported by Firefox.\"); } } function NetworKit_plotUpdate(source) { var index = source.getAttribute(\"data-image-index\"); var data = source.getAttribute(\"data-image-\" + index); var image = document.getElementById(source.id + \"_Image\"); image.style.backgroundImage = \"url(\" + data + \")\"; } function NetworKit_showElement(id, show) { var element = document.getElementById(id); element.style.display = (show) ? \"block\" : \"none\"; } function NetworKit_overlayShow(source) { NetworKit_overlayUpdate(source); NetworKit_showElement(\"NetworKit_Overlay\", true); } function NetworKit_overlayUpdate(source) { document.getElementById(\"NetworKit_Overlay_Title\").innerHTML = source.title; var index = source.getAttribute(\"data-image-index\"); var data = source.getAttribute(\"data-image-\" + index); var image = document.getElementById(\"NetworKit_Overlay_Image\"); image.setAttribute(\"data-id\", source.id); image.style.backgroundImage = \"url(\" + data + \")\"; var link = document.getElementById(\"NetworKit_Overlay_Toolbar_Bottom_Save\"); link.href = data; link.download = source.title + \".svg\"; } function NetworKit_overlayImageShift(delta) { var image = document.getElementById(\"NetworKit_Overlay_Image\"); var source = document.getElementById(image.getAttribute(\"data-id\")); var index = parseInt(source.getAttribute(\"data-image-index\")); var length = parseInt(source.getAttribute(\"data-image-length\")); var index = (index+delta) % length; if (index < 0) { index = length + index; } source.setAttribute(\"data-image-index\", index); NetworKit_overlayUpdate(source); } function NetworKit_toggleDetails(source) { var childs = source.children; var show = false; if (source.getAttribute(\"data-title\") == \"-\") { source.setAttribute(\"data-title\", \"+\"); show = false; } else { source.setAttribute(\"data-title\", \"-\"); show = true; } for (i=0; i<childs.length; i++) { if (show) { childs[i].style.display = \"block\"; } else { childs[i].style.display = \"none\"; } } }';\n",
       "\t\t\t\telement.setAttribute('id', 'NetworKit_script');\n",
       "\t\t\t\tdocument.head.appendChild(element);\n",
       "\t\t\t}\n",
       "\t\t\n",
       "\t\t\t\t\n",
       "\t\t\t{\n",
       "\t\t\t\tvar element = document.getElementById('NetworKit_style');\n",
       "\t\t\t\tif (element) {\n",
       "\t\t\t\t\telement.parentNode.removeChild(element);\n",
       "\t\t\t\t}\n",
       "\t\t\t\telement = document.createElement('style');\n",
       "\t\t\t\telement.type = 'text/css';\n",
       "\t\t\t\telement.innerHTML = '.NetworKit_Page { font-family: Arial, Helvetica, sans-serif; font-size: 14px; } .NetworKit_Page .Value:before { font-family: Arial, Helvetica, sans-serif; font-size: 1.05em; content: attr(data-title) \":\"; margin-left: -2.5em; padding-right: 0.5em; } .NetworKit_Page .Details .Value:before { display: block; } .NetworKit_Page .Value { font-family: monospace; white-space: pre; padding-left: 2.5em; white-space: -moz-pre-wrap !important; white-space: -pre-wrap; white-space: -o-pre-wrap; white-space: pre-wrap; word-wrap: break-word; tab-size: 4; -moz-tab-size: 4; } .NetworKit_Page .Category { clear: both; padding-left: 1em; margin-bottom: 1.5em; } .NetworKit_Page .Category:before { content: attr(data-title); font-size: 1.75em; display: block; margin-left: -0.8em; margin-bottom: 0.5em; } .NetworKit_Page .SubCategory { margin-bottom: 1.5em; padding-left: 1em; } .NetworKit_Page .SubCategory:before { font-size: 1.6em; display: block; margin-left: -0.8em; margin-bottom: 0.5em; } .NetworKit_Page .SubCategory[data-title]:before { content: attr(data-title); } .NetworKit_Page .Block { display: block; } .NetworKit_Page .Block:after { content: \".\"; visibility: hidden; display: block; height: 0; clear: both; } .NetworKit_Page .Block .Thumbnail_Overview, .NetworKit_Page .Block .Thumbnail_ScatterPlot { width: 260px; float: left; } .NetworKit_Page .Block .Thumbnail_Overview img, .NetworKit_Page .Block .Thumbnail_ScatterPlot img { width: 260px; } .NetworKit_Page .Block .Thumbnail_Overview:before, .NetworKit_Page .Block .Thumbnail_ScatterPlot:before { display: block; text-align: center; font-weight: bold; } .NetworKit_Page .Block .Thumbnail_Overview:before { content: attr(data-title); } .NetworKit_Page .HeatCell { font-family: \"Courier New\", Courier, monospace; cursor: pointer; } .NetworKit_Page .HeatCell, .NetworKit_Page .HeatCellName { display: inline; padding: 0.1em; margin-right: 2px; background-color: #FFFFFF } .NetworKit_Page .HeatCellName { margin-left: 0.25em; } .NetworKit_Page .HeatCell:before { content: attr(data-heat); display: inline-block; color: #000000; width: 4em; text-align: center; } .NetworKit_Page .Measure { clear: both; } .NetworKit_Page .Measure .Details { cursor: pointer; } .NetworKit_Page .Measure .Details:before { content: \"[\" attr(data-title) \"]\"; display: block; } .NetworKit_Page .Measure .Details .Value { border-left: 1px dotted black; margin-left: 0.4em; padding-left: 3.5em; pointer-events: none; } .NetworKit_Page .Measure .Details .Spacer:before { content: \".\"; opacity: 0.0; pointer-events: none; } .NetworKit_Page .Measure .Plot { width: 440px; height: 440px; cursor: pointer; float: left; margin-left: -0.9em; margin-right: 20px; } .NetworKit_Page .Measure .Plot .Image { background-repeat: no-repeat; background-position: center center; background-size: contain; height: 100%; pointer-events: none; } .NetworKit_Page .Measure .Stat { width: 500px; float: left; } .NetworKit_Page .Measure .Stat .Group { padding-left: 1.25em; margin-bottom: 0.75em; } .NetworKit_Page .Measure .Stat .Group .Title { font-size: 1.1em; display: block; margin-bottom: 0.3em; margin-left: -0.75em; border-right-style: dotted; border-right-width: 1px; border-bottom-style: dotted; border-bottom-width: 1px; background-color: #D0D0D0; padding-left: 0.2em; } .NetworKit_Page .Measure .Stat .Group .List { -webkit-column-count: 3; -moz-column-count: 3; column-count: 3; } .NetworKit_Page .Measure .Stat .Group .List .Entry { position: relative; line-height: 1.75em; } .NetworKit_Page .Measure .Stat .Group .List .Entry[data-tooltip]:before { position: absolute; left: 0; top: -40px; background-color: #808080; color: #ffffff; height: 30px; line-height: 30px; border-radius: 5px; padding: 0 15px; content: attr(data-tooltip); white-space: nowrap; display: none; } .NetworKit_Page .Measure .Stat .Group .List .Entry[data-tooltip]:after { position: absolute; left: 15px; top: -10px; border-top: 7px solid #808080; border-left: 7px solid transparent; border-right: 7px solid transparent; content: \"\"; display: none; } .NetworKit_Page .Measure .Stat .Group .List .Entry[data-tooltip]:hover:after, .NetworKit_Page .Measure .Stat .Group .List .Entry[data-tooltip]:hover:before { display: block; } .NetworKit_Page .Measure .Stat .Group .List .Entry .MathValue { font-family: \"Courier New\", Courier, monospace; } .NetworKit_Page .Measure:after { content: \".\"; visibility: hidden; display: block; height: 0; clear: both; } .NetworKit_Page .PartitionPie { clear: both; } .NetworKit_Page .PartitionPie img { width: 600px; } #NetworKit_Overlay { left: 0px; top: 0px; display: none; position: absolute; width: 100%; height: 100%; background-color: rgba(0,0,0,0.6); z-index: 1000; } #NetworKit_Overlay_Title { position: absolute; color: white; transform: rotate(-90deg); width: 32em; height: 32em; padding-right: 0.5em; padding-top: 0.5em; text-align: right; font-size: 40px; } #NetworKit_Overlay .button { background: white; cursor: pointer; } #NetworKit_Overlay .button:before { size: 13px; display: inline-block; text-align: center; margin-top: 0.5em; margin-bottom: 0.5em; width: 1.5em; height: 1.5em; } #NetworKit_Overlay .icon-close:before { content: \"X\"; } #NetworKit_Overlay .icon-previous:before { content: \"P\"; } #NetworKit_Overlay .icon-next:before { content: \"N\"; } #NetworKit_Overlay .icon-save:before { content: \"S\"; } #NetworKit_Overlay_Toolbar_Top, #NetworKit_Overlay_Toolbar_Bottom { position: absolute; width: 40px; right: 13px; text-align: right; z-index: 1100; } #NetworKit_Overlay_Toolbar_Top { top: 0.5em; } #NetworKit_Overlay_Toolbar_Bottom { Bottom: 0.5em; } #NetworKit_Overlay_ImageContainer { position: absolute; top: 5%; left: 5%; height: 90%; width: 90%; background-repeat: no-repeat; background-position: center center; background-size: contain; } #NetworKit_Overlay_Image { height: 100%; width: 100%; background-repeat: no-repeat; background-position: center center; background-size: contain; }';\n",
       "\t\t\t\telement.setAttribute('id', 'NetworKit_style');\n",
       "\t\t\t\tdocument.head.appendChild(element);\n",
       "\t\t\t}\n",
       "\t\t\n",
       "\t\t\t\t\n",
       "\t\t\t{\n",
       "\t\t\t\tvar element = document.getElementById('NetworKit_Overlay');\n",
       "\t\t\t\tif (element) {\n",
       "\t\t\t\t\telement.parentNode.removeChild(element);\n",
       "\t\t\t\t}\n",
       "\t\t\t\telement = document.createElement('div');\n",
       "\t\t\t\telement.innerHTML = '<div id=\"NetworKit_Overlay_Toolbar_Top\"><div class=\"button icon-close\" id=\"NetworKit_Overlay_Close\" /></div><div id=\"NetworKit_Overlay_Title\" /> <div id=\"NetworKit_Overlay_ImageContainer\"> <div id=\"NetworKit_Overlay_Image\" /> </div> <div id=\"NetworKit_Overlay_Toolbar_Bottom\"> <div class=\"button icon-previous\" onclick=\"NetworKit_overlayImageShift(-1)\" /> <div class=\"button icon-next\" onclick=\"NetworKit_overlayImageShift(1)\" /> <a id=\"NetworKit_Overlay_Toolbar_Bottom_Save\"><div class=\"button icon-save\" /></a> </div>';\n",
       "\t\t\t\telement.setAttribute('id', 'NetworKit_Overlay');\n",
       "\t\t\t\tdocument.body.appendChild(element);\n",
       "\t\t\t\tdocument.getElementById('NetworKit_Overlay_Close').onclick = function (e) {\n",
       "\t\t\t\t\tdocument.getElementById('NetworKit_Overlay').style.display = 'none';\n",
       "\t\t\t\t}\n",
       "\t\t\t}\n",
       "\t\t\n",
       "\t\t\t-->\n",
       "\t\t\t</script>\n",
       "\t\t"
      ]
     },
     "metadata": {},
     "output_type": "display_data"
    }
   ],
   "source": [
    "import sys\n",
    "sys.path.append('../')\n",
    "\n",
    "import pandas as pd\n",
    "import matplotlib.pyplot as plt\n",
    "import os\n",
    "import numpy as np\n",
    "import networkit as nk\n",
    "from tqdm import tqdm\n",
    "import networkx as nx\n",
    "\n",
    "from benji_girgs import generation, utils, plotting\n",
    "import geopandas as gpd\n",
    "\n",
    "\n",
    "from geopy import distance\n",
    "\n",
    "from IPython.core.interactiveshell import InteractiveShell\n",
    "InteractiveShell.ast_node_interactivity = \"all\""
   ]
  },
  {
   "cell_type": "code",
   "execution_count": 3,
   "metadata": {},
   "outputs": [],
   "source": [
    "fn = './flightlist_20190601_20190630_processed.pkl'\n",
    "df = pd.read_pickle(fn)"
   ]
  },
  {
   "cell_type": "code",
   "execution_count": 4,
   "metadata": {},
   "outputs": [
    {
     "data": {
      "text/plain": [
       "10317"
      ]
     },
     "execution_count": 4,
     "metadata": {},
     "output_type": "execute_result"
    }
   ],
   "source": [
    "# airports = list(np.union1d(df.origin.unique(), df.destination.unique()))\n",
    "airports = list(np.load('airports_list.npy'))\n",
    "len(airports)"
   ]
  },
  {
   "cell_type": "code",
   "execution_count": 5,
   "metadata": {},
   "outputs": [],
   "source": [
    "adf = pd.read_csv('./airport-codes_csv.csv')\n",
    "\n",
    "adf_mini = adf.set_index('ident')\n",
    "adf_mini = adf_mini.loc[airports]\n",
    "\n",
    "# reversed s.t. latitude then longitude\n",
    "adf_mini['coordinates'] = adf_mini.coordinates.apply(lambda x: tuple(reversed([float(y) for y in x.split(', ')])))\n",
    "\n",
    "adf_mini['lat'] = adf_mini['coordinates'].apply(lambda x: x[0])\n",
    "adf_mini['long'] = adf_mini['coordinates'].apply(lambda x: x[1])\n"
   ]
  },
  {
   "cell_type": "code",
   "execution_count": 6,
   "metadata": {},
   "outputs": [
    {
     "data": {
      "text/plain": [
       "((59.94919968, -151.695999146), (34.305599212646484, -112.16500091552734))"
      ]
     },
     "execution_count": 6,
     "metadata": {},
     "output_type": "execute_result"
    },
    {
     "data": {
      "text/plain": [
       "Distance(4031.3139530844023)"
      ]
     },
     "execution_count": 6,
     "metadata": {},
     "output_type": "execute_result"
    }
   ],
   "source": [
    "dists = pd.read_csv('airport_distances3.csv.gz')\n",
    "\n",
    "dists = dists.iloc[:, 1:]\n",
    "dists = dists.set_index('ident')\n",
    "\n",
    "dists_np = dists.to_numpy()\n",
    "\n",
    "a, b = adf_mini.loc['00AK'].coordinates, adf_mini.loc['00AZ'].coordinates\n",
    "a, b\n",
    "distance.distance(a, b)"
   ]
  },
  {
   "cell_type": "code",
   "execution_count": 7,
   "metadata": {},
   "outputs": [
    {
     "name": "stdout",
     "output_type": "stream",
     "text": [
      "True\n"
     ]
    },
    {
     "name": "stderr",
     "output_type": "stream",
     "text": [
      "130704it [00:11, 11507.31it/s]\n",
      "130704it [00:00, 3182691.87it/s]\n"
     ]
    }
   ],
   "source": [
    "\n",
    "g = nk.Graph(len(airports), weighted=True)\n",
    "print(g.isWeighted())\n",
    "pair_counts = df.groupby(['airport_pair']).aircraft_uid.count()\n",
    "thresh = 1\n",
    "for pair, count in tqdm(pair_counts.items()):\n",
    "    u, v = tuple(pair)\n",
    "    u_id, v_id = airports.index(u), airports.index(v)\n",
    "    _ = g.addEdge(u_id, v_id, w=count)\n",
    "    \n",
    "\n",
    "    \n",
    "weight_thresh = 1\n",
    "gthresh = nk.Graph(len(airports))\n",
    "for u, v, weight in tqdm(g.iterEdgesWeights()):\n",
    "    if weight >= weight_thresh:\n",
    "        _ = gthresh.addEdge(u, v)"
   ]
  },
  {
   "cell_type": "code",
   "execution_count": 12,
   "metadata": {},
   "outputs": [],
   "source": [
    "sub_indices = np.random.choice(dists_np.shape[0], 4000)\n",
    "dists_np2 = dists_np[sub_indices][:, sub_indices]\n",
    "gthresh2 = utils.quick_subgraph(gthresh, sub_indices)"
   ]
  },
  {
   "cell_type": "code",
   "execution_count": 33,
   "metadata": {},
   "outputs": [
    {
     "data": {
      "text/plain": [
       "<module 'benji_girgs' from '/Users/benjidayan/GDrive/eth_courses/GIRG/benji_src/benji_girgs/__init__.py'>"
      ]
     },
     "execution_count": 33,
     "metadata": {},
     "output_type": "execute_result"
    },
    {
     "data": {
      "text/plain": [
       "<module 'benji_girgs.utils' from '/Users/benjidayan/GDrive/eth_courses/GIRG/benji_src/benji_girgs/utils.py'>"
      ]
     },
     "execution_count": 33,
     "metadata": {},
     "output_type": "execute_result"
    }
   ],
   "source": [
    "import imp\n",
    "import benji_girgs\n",
    "imp.reload(benji_girgs)\n",
    "imp.reload(benji_girgs.utils)\n",
    "from benji_girgs import utils"
   ]
  },
  {
   "cell_type": "code",
   "execution_count": 14,
   "metadata": {},
   "outputs": [
    {
     "name": "stdout",
     "output_type": "stream",
     "text": [
      "Network Properties:\n",
      "nodes, edges\t\t\t4000, 13873\n",
      "directed?\t\t\tFalse\n",
      "weighted?\t\t\tFalse\n",
      "isolated nodes\t\t\t1241\n",
      "self-loops\t\t\t0\n",
      "density\t\t\t\t0.001735\n",
      "clustering coefficient\t\t0.212830\n",
      "min/max/avg degree\t\t0, 298, 6.936500\n",
      "degree assortativity\t\t-0.008995\n",
      "number of connected components\t1258\n",
      "size of largest component\t2726 (68.15 %)\n"
     ]
    }
   ],
   "source": [
    "nk.overview(gthresh2)"
   ]
  },
  {
   "cell_type": "code",
   "execution_count": 16,
   "metadata": {},
   "outputs": [],
   "source": [
    "ind =  utils.get_largest_component(gthresh2)\n",
    "foo = utils.quick_subgraph(gthresh2, ind)"
   ]
  },
  {
   "cell_type": "code",
   "execution_count": 17,
   "metadata": {},
   "outputs": [
    {
     "name": "stderr",
     "output_type": "stream",
     "text": [
      "/var/folders/60/0t2c_bns6n3c7kjhdk4d4wk80000gn/T/ipykernel_21775/253836951.py:3: FutureWarning: adjacency_matrix will return a scipy.sparse array instead of a matrix in Networkx 3.0.\n",
      "  A = nx.linalg.adjacency_matrix(gnx).todense()\n"
     ]
    },
    {
     "data": {
      "text/plain": [
       "[<matplotlib.lines.Line2D at 0x3125b4250>]"
      ]
     },
     "execution_count": 17,
     "metadata": {},
     "output_type": "execute_result"
    },
    {
     "data": {
      "image/png": "[encoded data removed]",
      "text/plain": [
       "<Figure size 640x480 with 1 Axes>"
      ]
     },
     "metadata": {},
     "output_type": "display_data"
    }
   ],
   "source": [
    "gnx = nk.nxadapter.nk2nx(foo)\n",
    "\n",
    "A = nx.linalg.adjacency_matrix(gnx).todense()\n",
    "\n",
    "D = np.array([x[1] for x in (gnx.degree)])\n",
    "D_h = D**(0.5)\n",
    "D_hi = D**(-0.5)\n",
    "\n",
    "M = np.diag(1/D) @ A\n",
    "M = 0.5 * M + 0.5 * np.eye(M.shape[0])\n",
    "# S = np.diag(D_hi) @ A @ np.diag(D_hi)\n",
    "S = np.diag(D_h) @ M @ np.diag(D_hi)\n",
    "\n",
    "w, V = np.linalg.eigh(S)\n",
    "\n",
    "# S = V @ np.diag(w) @ V.T\n",
    "# M = D^{-1/2} @ S @ D^{1/2} \n",
    "# = D^{-1/2} @ V @ np.diag(w) @ V.T @ D^{1/2}\n",
    "# = Phi @ np.diag(w) @ Psi.T\n",
    "# Phi = D^{-1/2} @ V\n",
    "# Psi = D^{1/2} @ V\n",
    "\n",
    "\n",
    "Phi = np.diag(D_hi) @ V\n",
    "Psi = np.diag(D_h) @ V\n",
    "\n",
    "n = Phi.shape[0]\n",
    "\n",
    "def diff_map(i, t):\n",
    "    # n = 5, so 0, 1, 2, 3, 4, we want to get 3, 2, 1, 0\n",
    "    # so 5-2 -> -1, -1\n",
    "    return np.array([Phi[i, j] for j in range(n-2, -1, -1)]) * (np.flip(w)[1:]**t)\n",
    "\n",
    "plt.plot((np.flip(w)**5)[:10], marker='x')\n",
    "\n",
    "# sorted(w)"
   ]
  },
  {
   "cell_type": "code",
   "execution_count": 19,
   "metadata": {},
   "outputs": [
    {
     "name": "stderr",
     "output_type": "stream",
     "text": [
      "/Users/benjidayan/GDrive/eth_courses/GIRG/benji_src/benji_girgs/utils.py:656: FutureWarning: adjacency_matrix will return a scipy.sparse array instead of a matrix in Networkx 3.0.\n",
      "  A = nx.linalg.adjacency_matrix(gnx).todense()\n"
     ]
    },
    {
     "data": {
      "text/plain": [
       "[<matplotlib.lines.Line2D at 0x2e0d83250>]"
      ]
     },
     "execution_count": 19,
     "metadata": {},
     "output_type": "execute_result"
    },
    {
     "data": {
      "image/png": "[encoded data removed]",
      "text/plain": [
       "<Figure size 640x480 with 1 Axes>"
      ]
     },
     "metadata": {},
     "output_type": "display_data"
    }
   ],
   "source": [
    "w, Phi, Psi, diff_map = utils.get_diffmap(foo)\n",
    "plt.plot((w**5)[:10], marker='x')\n"
   ]
  },
  {
   "cell_type": "code",
   "execution_count": 43,
   "metadata": {},
   "outputs": [
    {
     "name": "stderr",
     "output_type": "stream",
     "text": [
      "/Users/benjidayan/GDrive/eth_courses/GIRG/benji_src/benji_girgs/generation.py:155: RuntimeWarning: divide by zero encountered in divide\n",
      "  p_uv = np.divide(outer, dists**d)\n"
     ]
    }
   ],
   "source": [
    "import benji_src.benji_girgs.fitting\n",
    "\n",
    "\n",
    "n = foo.numberOfNodes()\n",
    "tau=2.103\n",
    "alpha=1.3\n",
    "const=1.0\n",
    "d=5\n",
    "girg_gen_func = lambda const : generation.generate_GIRG_nk(n, d, tau, alpha, const, points_type=generation.PointsCube)[0]\n",
    "gcf = benji_src.benji_girgs.fitting.GirgConstFitter(utils.avg_degree(foo), girg_gen_func)\n"
   ]
  },
  {
   "cell_type": "code",
   "execution_count": 44,
   "metadata": {},
   "outputs": [],
   "source": [
    "gcf.verbose=True"
   ]
  },
  {
   "cell_type": "code",
   "execution_count": 45,
   "metadata": {},
   "outputs": [
    {
     "name": "stdout",
     "output_type": "stream",
     "text": [
      "mu:298.42 -> mu2:247.86; overshoot: False, scale:0.429, const: 0.700\n",
      "mu:247.86 -> mu2:186.69; overshoot: False, scale:0.612, const: 0.400\n",
      "mu:186.69 -> mu2:111.24; overshoot: False, scale:0.875, const: 0.155\n",
      "mu:111.24 -> mu2:37.49; overshoot: False, scale:0.900, const: 0.019\n",
      "mu:37.49 -> mu2:12.28; overshoot: False, scale:0.900, const: 0.002\n",
      "mu:12.28 -> mu2:2.87; overshoot: True, scale:0.630, const: 0.000\n",
      "mu:2.87 -> mu2:4.70; overshoot: False, scale:0.900, const: 0.001\n",
      "mu:4.70 -> mu2:17.58; overshoot: True, scale:0.630, const: 0.005\n",
      "mu:17.58 -> mu2:13.51; overshoot: False, scale:0.900, const: 0.002\n",
      "mu:13.51 -> mu2:2.97; overshoot: True, scale:0.630, const: 0.000\n",
      "mu:2.97 -> mu2:4.34; overshoot: False, scale:0.900, const: 0.001\n",
      "mu:4.34 -> mu2:18.66; overshoot: True, scale:0.630, const: 0.005\n",
      "mu:18.66 -> mu2:8.25; overshoot: True, scale:0.441, const: 0.002\n",
      "mu:8.25 -> mu2:15.68; overshoot: True, scale:0.309, const: 0.003\n",
      "mu:15.68 -> mu2:11.94; overshoot: False, scale:0.441, const: 0.002\n",
      "mu:11.94 -> mu2:7.77; overshoot: True, scale:0.309, const: 0.001\n",
      "mu:7.77 -> mu2:10.22; overshoot: True, scale:0.216, const: 0.002\n",
      "mu:10.22 -> mu2:9.56; overshoot: True, scale:0.151, const: 0.002\n",
      "mu:9.56 -> mu2:11.85; overshoot: True, scale:0.106, const: 0.002\n",
      "mu:11.85 -> mu2:7.59; overshoot: True, scale:0.074, const: 0.002\n",
      "mu:7.59 -> mu2:10.12; overshoot: False, scale:0.106, const: 0.002\n",
      "mu:10.12 -> mu2:10.11; overshoot: False, scale:0.151, const: 0.002\n",
      "mu:10.11 -> mu2:11.82; overshoot: True, scale:0.106, const: 0.002\n",
      "mu:11.82 -> mu2:8.78; overshoot: True, scale:0.074, const: 0.002\n",
      "mu:8.78 -> mu2:10.96; overshoot: True, scale:0.052, const: 0.002\n",
      "mu:10.96 -> mu2:10.00; overshoot: True, scale:0.036, const: 0.002\n",
      "mu:10.00 -> mu2:9.74; overshoot: False, scale:0.052, const: 0.002\n",
      "mu:9.74 -> mu2:10.23; overshoot: True, scale:0.036, const: 0.002\n",
      "mu:10.23 -> mu2:10.73; overshoot: False, scale:0.052, const: 0.002\n",
      "mu:10.73 -> mu2:11.21; overshoot: False, scale:0.074, const: 0.002\n"
     ]
    }
   ],
   "source": [
    "gcf.step_n(30)"
   ]
  },
  {
   "cell_type": "code",
   "execution_count": 46,
   "metadata": {},
   "outputs": [
    {
     "name": "stderr",
     "output_type": "stream",
     "text": [
      "/Users/benjidayan/GDrive/eth_courses/GIRG/benji_src/benji_girgs/utils.py:657: FutureWarning: adjacency_matrix will return a scipy.sparse array instead of a matrix in Networkx 3.0.\n",
      "  A = nx.linalg.adjacency_matrix(gnx).todense()\n"
     ]
    },
    {
     "data": {
      "text/plain": [
       "[<matplotlib.lines.Line2D at 0x4889347c0>]"
      ]
     },
     "execution_count": 46,
     "metadata": {},
     "output_type": "execute_result"
    },
    {
     "data": {
      "image/png": "[encoded data removed]",
      "text/plain": [
       "<Figure size 640x480 with 1 Axes>"
      ]
     },
     "metadata": {},
     "output_type": "display_data"
    }
   ],
   "source": [
    "ggirg = gcf.girg_gen_func(gcf.const)\n",
    "ggirg_connected_ind = utils.get_largest_component(ggirg)\n",
    "ggirg_connected = utils.quick_subgraph(ggirg, ggirg_connected_ind)\n",
    "w, Phi, Psi, diff_map = utils.get_diffmap(ggirg_connected)\n",
    "plt.plot((w**5)[:10], marker='x')"
   ]
  },
  {
   "cell_type": "code",
   "execution_count": 47,
   "metadata": {},
   "outputs": [
    {
     "name": "stdout",
     "output_type": "stream",
     "text": [
      "Network Properties:\n",
      "nodes, edges\t\t\t2726, 12581\n",
      "directed?\t\t\tFalse\n",
      "weighted?\t\t\tFalse\n",
      "isolated nodes\t\t\t85\n",
      "self-loops\t\t\t0\n",
      "density\t\t\t\t0.003387\n",
      "clustering coefficient\t\t0.344258\n",
      "min/max/avg degree\t\t0, 407, 9.230374\n",
      "degree assortativity\t\t-0.060869\n",
      "number of connected components\t89\n",
      "size of largest component\t2633 (96.59 %)\n"
     ]
    }
   ],
   "source": [
    "nk.overview(ggirg)"
   ]
  },
  {
   "cell_type": "code",
   "execution_count": null,
   "metadata": {},
   "outputs": [],
   "source": [
    "n = ggirg.numberOfNodes()\n",
    "d = 5\n",
    "tau = 2.103\n",
    "alpha = 1.3\n",
    "const=1.0\n",
    "def girg_gen_func(alpha, const):\n",
    "    return generation.generate_GIRG_nk(n, d, tau, alpha, const, points_type=generation.PointsCube)[0]\n"
   ]
  },
  {
   "cell_type": "code",
   "execution_count": 54,
   "metadata": {},
   "outputs": [
    {
     "data": {
      "text/plain": [
       "<module 'benji_girgs' from '/Users/benjidayan/GDrive/eth_courses/GIRG/benji_src/benji_girgs/__init__.py'>"
      ]
     },
     "execution_count": 54,
     "metadata": {},
     "output_type": "execute_result"
    },
    {
     "data": {
      "text/plain": [
       "<module 'benji_girgs.utils' from '/Users/benjidayan/GDrive/eth_courses/GIRG/benji_src/benji_girgs/utils.py'>"
      ]
     },
     "execution_count": 54,
     "metadata": {},
     "output_type": "execute_result"
    }
   ],
   "source": [
    "# import imp\n",
    "# import benji_girgs\n",
    "imp.reload(benji_girgs)\n",
    "imp.reload(benji_girgs.utils)\n",
    "imp.reload(benji_girgs.fitting)\n",
    "from benji_girgs import utils, fitting"
   ]
  },
  {
   "cell_type": "code",
   "execution_count": 57,
   "metadata": {},
   "outputs": [
    {
     "name": "stderr",
     "output_type": "stream",
     "text": [
      "/Users/benjidayan/GDrive/eth_courses/GIRG/benji_src/benji_girgs/fitting.py:89: RuntimeWarning: invalid value encountered in cast\n",
      "  distances = np.array(np.nan_to_num(distances)).astype(np.int64)\n"
     ]
    },
    {
     "data": {
      "text/plain": [
       "9.23037417461482"
      ]
     },
     "execution_count": 57,
     "metadata": {},
     "output_type": "execute_result"
    },
    {
     "data": {
      "text/plain": [
       "3.994683967474774"
      ]
     },
     "execution_count": 57,
     "metadata": {},
     "output_type": "execute_result"
    }
   ],
   "source": [
    "avg_deg = utils.avg_degree(ggirg)\n",
    "std_gdist = fitting.regularised_std_graph_distance(ggirg)\n",
    "avg_deg\n",
    "std_gdist"
   ]
  },
  {
   "cell_type": "code",
   "execution_count": 58,
   "metadata": {},
   "outputs": [
    {
     "name": "stderr",
     "output_type": "stream",
     "text": [
      "/Users/benjidayan/GDrive/eth_courses/GIRG/benji_src/benji_girgs/generation.py:155: RuntimeWarning: divide by zero encountered in divide\n",
      "  p_uv = np.divide(outer, dists**d)\n"
     ]
    }
   ],
   "source": [
    "n = ggirg.numberOfNodes()\n",
    "d = 2\n",
    "tau = 2.103\n",
    "alpha = 1.3\n",
    "const=1.0\n",
    "def girg_gen_func(alpha, const):\n",
    "    return generation.generate_GIRG_nk(n, d, tau, alpha, const, points_type=generation.PointsTorus)[0]\n",
    "\n",
    "gaf = fitting.GirgAlphaFitter(std_gdist, avg_deg, girg_gen_func)\n"
   ]
  },
  {
   "cell_type": "code",
   "execution_count": 59,
   "metadata": {},
   "outputs": [
    {
     "name": "stderr",
     "output_type": "stream",
     "text": [
      "/Users/benjidayan/GDrive/eth_courses/GIRG/benji_src/benji_girgs/generation.py:155: RuntimeWarning: divide by zero encountered in divide\n",
      "  p_uv = np.divide(outer, dists**d)\n"
     ]
    },
    {
     "name": "stdout",
     "output_type": "stream",
     "text": [
      "avgdeg: 7.93 -> avgdeg2: 7.91; overshoot: False, scale:0.082, const: 0.008\n",
      "avgdeg: 7.91 -> avgdeg2: 8.91; overshoot: False, scale:0.090, const: 0.009\n",
      "avgdeg: 8.91 -> avgdeg2: 11.65; overshoot: True, scale:0.045, const: 0.010\n",
      "avgdeg: 11.65 -> avgdeg2: 8.80; overshoot: True, scale:0.023, const: 0.009\n",
      "avgdeg: 8.80 -> avgdeg2: 10.96; overshoot: True, scale:0.011, const: 0.009\n",
      "avgdeg: 10.96 -> avgdeg2: 8.15; overshoot: True, scale:0.006, const: 0.009\n",
      "avgdeg: 8.15 -> avgdeg2: 9.24; overshoot: True, scale:0.003, const: 0.009\n"
     ]
    },
    {
     "name": "stderr",
     "output_type": "stream",
     "text": [
      "/Users/benjidayan/GDrive/eth_courses/GIRG/benji_src/benji_girgs/fitting.py:89: RuntimeWarning: invalid value encountered in cast\n",
      "  distances = np.array(np.nan_to_num(distances)).astype(np.int64)\n"
     ]
    },
    {
     "name": "stdout",
     "output_type": "stream",
     "text": [
      "std_gdist: 6.98 -> std_gdist2: 4.85; overshoot: False, scale:0.330, alpha: 1.210\n",
      "std_gdist: 4.85 -> std_gdist2: 4.73; overshoot: False, scale:0.363, alpha: 1.141\n",
      "avgdeg: 8.36 -> avgdeg2: 10.39; overshoot: True, scale:0.003, const: 0.009\n",
      "avgdeg: 10.39 -> avgdeg2: 10.07; overshoot: False, scale:0.003, const: 0.009\n",
      "avgdeg: 10.07 -> avgdeg2: 8.15; overshoot: True, scale:0.002, const: 0.009\n",
      "avgdeg: 8.15 -> avgdeg2: 9.06; overshoot: False, scale:0.002, const: 0.009\n",
      "std_gdist: 4.73 -> std_gdist2: 4.87; overshoot: False, scale:0.399, alpha: 1.090\n",
      "avgdeg: 7.05 -> avgdeg2: 9.10; overshoot: False, scale:0.003, const: 0.009\n",
      "std_gdist: 4.87 -> std_gdist2: 4.61; overshoot: False, scale:0.439, alpha: 1.054\n",
      "avgdeg: 8.00 -> avgdeg2: 8.98; overshoot: False, scale:0.005, const: 0.009\n",
      "std_gdist: 4.61 -> std_gdist2: 4.99; overshoot: False, scale:0.483, alpha: 1.030\n",
      "avgdeg: 7.47 -> avgdeg2: 7.28; overshoot: False, scale:0.009, const: 0.010\n",
      "avgdeg: 7.28 -> avgdeg2: 8.91; overshoot: False, scale:0.010, const: 0.010\n",
      "avgdeg: 8.91 -> avgdeg2: 8.38; overshoot: False, scale:0.010, const: 0.010\n",
      "avgdeg: 8.38 -> avgdeg2: 7.12; overshoot: False, scale:0.012, const: 0.010\n",
      "avgdeg: 7.12 -> avgdeg2: 9.72; overshoot: True, scale:0.006, const: 0.010\n",
      "avgdeg: 9.72 -> avgdeg2: 8.16; overshoot: True, scale:0.003, const: 0.010\n",
      "avgdeg: 8.16 -> avgdeg2: 8.86; overshoot: False, scale:0.003, const: 0.010\n",
      "avgdeg: 8.86 -> avgdeg2: 10.19; overshoot: True, scale:0.002, const: 0.010\n",
      "avgdeg: 10.19 -> avgdeg2: 7.15; overshoot: True, scale:0.001, const: 0.010\n",
      "avgdeg: 7.15 -> avgdeg2: 7.10; overshoot: False, scale:0.001, const: 0.010\n",
      "avgdeg: 7.10 -> avgdeg2: 11.08; overshoot: True, scale:0.000, const: 0.010\n",
      "avgdeg: 11.08 -> avgdeg2: 8.38; overshoot: True, scale:0.000, const: 0.010\n",
      "avgdeg: 8.38 -> avgdeg2: 8.14; overshoot: False, scale:0.000, const: 0.010\n",
      "avgdeg: 8.14 -> avgdeg2: 8.74; overshoot: False, scale:0.000, const: 0.010\n",
      "avgdeg: 8.74 -> avgdeg2: 8.10; overshoot: False, scale:0.000, const: 0.010\n",
      "avgdeg: 8.10 -> avgdeg2: 7.21; overshoot: False, scale:0.000, const: 0.010\n",
      "avgdeg: 7.21 -> avgdeg2: 8.27; overshoot: False, scale:0.000, const: 0.010\n",
      "avgdeg: 8.27 -> avgdeg2: 7.75; overshoot: False, scale:0.000, const: 0.010\n",
      "avgdeg: 7.75 -> avgdeg2: 8.60; overshoot: False, scale:0.000, const: 0.010\n",
      "avgdeg: 8.60 -> avgdeg2: 7.63; overshoot: False, scale:0.000, const: 0.010\n",
      "avgdeg: 7.63 -> avgdeg2: 8.85; overshoot: False, scale:0.001, const: 0.010\n",
      "avgdeg: 8.85 -> avgdeg2: 7.50; overshoot: False, scale:0.001, const: 0.010\n",
      "avgdeg: 7.50 -> avgdeg2: 8.30; overshoot: False, scale:0.001, const: 0.010\n",
      "avgdeg: 8.30 -> avgdeg2: 7.85; overshoot: False, scale:0.001, const: 0.010\n",
      "avgdeg: 7.85 -> avgdeg2: 7.87; overshoot: False, scale:0.001, const: 0.010\n",
      "avgdeg: 7.87 -> avgdeg2: 8.06; overshoot: False, scale:0.001, const: 0.010\n",
      "avgdeg: 8.06 -> avgdeg2: 5.75; overshoot: False, scale:0.001, const: 0.010\n",
      "avgdeg: 5.75 -> avgdeg2: 7.25; overshoot: False, scale:0.001, const: 0.010\n",
      "avgdeg: 7.25 -> avgdeg2: 7.58; overshoot: False, scale:0.001, const: 0.010\n",
      "avgdeg: 7.58 -> avgdeg2: 8.25; overshoot: False, scale:0.001, const: 0.010\n",
      "avgdeg: 8.25 -> avgdeg2: 8.87; overshoot: False, scale:0.001, const: 0.010\n",
      "avgdeg: 8.87 -> avgdeg2: 8.76; overshoot: False, scale:0.001, const: 0.010\n",
      "avgdeg: 8.76 -> avgdeg2: 8.52; overshoot: False, scale:0.002, const: 0.010\n",
      "avgdeg: 8.52 -> avgdeg2: 6.99; overshoot: False, scale:0.002, const: 0.010\n",
      "avgdeg: 6.99 -> avgdeg2: 10.35; overshoot: True, scale:0.001, const: 0.010\n",
      "avgdeg: 10.35 -> avgdeg2: 10.13; overshoot: False, scale:0.001, const: 0.010\n",
      "avgdeg: 10.13 -> avgdeg2: 7.65; overshoot: True, scale:0.000, const: 0.010\n",
      "avgdeg: 7.65 -> avgdeg2: 11.93; overshoot: True, scale:0.000, const: 0.010\n",
      "avgdeg: 11.93 -> avgdeg2: 6.58; overshoot: True, scale:0.000, const: 0.010\n",
      "avgdeg: 6.58 -> avgdeg2: 9.53; overshoot: True, scale:0.000, const: 0.010\n",
      "avgdeg: 9.53 -> avgdeg2: 8.84; overshoot: True, scale:0.000, const: 0.010\n",
      "avgdeg: 8.84 -> avgdeg2: 8.26; overshoot: False, scale:0.000, const: 0.010\n",
      "avgdeg: 8.26 -> avgdeg2: 7.50; overshoot: False, scale:0.000, const: 0.010\n",
      "avgdeg: 7.50 -> avgdeg2: 5.90; overshoot: False, scale:0.000, const: 0.010\n",
      "avgdeg: 5.90 -> avgdeg2: 8.19; overshoot: False, scale:0.000, const: 0.010\n",
      "avgdeg: 8.19 -> avgdeg2: 7.84; overshoot: False, scale:0.000, const: 0.010\n",
      "avgdeg: 7.84 -> avgdeg2: 7.72; overshoot: False, scale:0.000, const: 0.010\n",
      "avgdeg: 7.72 -> avgdeg2: 7.75; overshoot: False, scale:0.000, const: 0.010\n",
      "avgdeg: 7.75 -> avgdeg2: 7.58; overshoot: False, scale:0.000, const: 0.010\n",
      "avgdeg: 7.58 -> avgdeg2: 7.28; overshoot: False, scale:0.000, const: 0.010\n",
      "avgdeg: 7.28 -> avgdeg2: 7.16; overshoot: False, scale:0.000, const: 0.010\n",
      "avgdeg: 7.16 -> avgdeg2: 7.82; overshoot: False, scale:0.000, const: 0.010\n",
      "avgdeg: 7.82 -> avgdeg2: 7.89; overshoot: False, scale:0.000, const: 0.010\n",
      "avgdeg: 7.89 -> avgdeg2: 7.54; overshoot: False, scale:0.000, const: 0.010\n",
      "avgdeg: 7.54 -> avgdeg2: 9.56; overshoot: True, scale:0.000, const: 0.010\n",
      "avgdeg: 9.56 -> avgdeg2: 7.38; overshoot: True, scale:0.000, const: 0.010\n",
      "avgdeg: 7.38 -> avgdeg2: 9.85; overshoot: True, scale:0.000, const: 0.010\n",
      "avgdeg: 9.85 -> avgdeg2: 11.11; overshoot: False, scale:0.000, const: 0.010\n",
      "avgdeg: 11.11 -> avgdeg2: 8.94; overshoot: True, scale:0.000, const: 0.010\n",
      "avgdeg: 8.94 -> avgdeg2: 8.26; overshoot: False, scale:0.000, const: 0.010\n",
      "avgdeg: 8.26 -> avgdeg2: 9.74; overshoot: True, scale:0.000, const: 0.010\n",
      "avgdeg: 9.74 -> avgdeg2: 8.42; overshoot: True, scale:0.000, const: 0.010\n",
      "avgdeg: 8.42 -> avgdeg2: 9.19; overshoot: False, scale:0.000, const: 0.010\n",
      "std_gdist: 4.99 -> std_gdist2: 4.88; overshoot: False, scale:0.531, alpha: 1.016\n",
      "avgdeg: 9.94 -> avgdeg2: 8.83; overshoot: True, scale:0.000, const: 0.010\n",
      "avgdeg: 8.83 -> avgdeg2: 7.37; overshoot: False, scale:0.000, const: 0.010\n",
      "avgdeg: 7.37 -> avgdeg2: 8.29; overshoot: False, scale:0.000, const: 0.010\n",
      "avgdeg: 8.29 -> avgdeg2: 10.79; overshoot: True, scale:0.000, const: 0.010\n",
      "avgdeg: 10.79 -> avgdeg2: 8.07; overshoot: True, scale:0.000, const: 0.010\n",
      "avgdeg: 8.07 -> avgdeg2: 6.73; overshoot: False, scale:0.000, const: 0.010\n",
      "avgdeg: 6.73 -> avgdeg2: 9.77; overshoot: True, scale:0.000, const: 0.010\n",
      "avgdeg: 9.77 -> avgdeg2: 7.56; overshoot: True, scale:0.000, const: 0.010\n",
      "avgdeg: 7.56 -> avgdeg2: 8.21; overshoot: False, scale:0.000, const: 0.010\n",
      "avgdeg: 8.21 -> avgdeg2: 7.63; overshoot: False, scale:0.000, const: 0.010\n",
      "avgdeg: 7.63 -> avgdeg2: 8.28; overshoot: False, scale:0.000, const: 0.010\n",
      "avgdeg: 8.28 -> avgdeg2: 6.99; overshoot: False, scale:0.000, const: 0.010\n",
      "avgdeg: 6.99 -> avgdeg2: 6.64; overshoot: False, scale:0.000, const: 0.010\n",
      "avgdeg: 6.64 -> avgdeg2: 6.84; overshoot: False, scale:0.000, const: 0.010\n",
      "avgdeg: 6.84 -> avgdeg2: 8.62; overshoot: False, scale:0.000, const: 0.010\n",
      "avgdeg: 8.62 -> avgdeg2: 9.75; overshoot: True, scale:0.000, const: 0.010\n",
      "avgdeg: 9.75 -> avgdeg2: 10.87; overshoot: False, scale:0.000, const: 0.010\n",
      "avgdeg: 10.87 -> avgdeg2: 9.39; overshoot: False, scale:0.000, const: 0.010\n",
      "std_gdist: 4.88 -> std_gdist2: 4.54; overshoot: False, scale:0.585, alpha: 1.007\n",
      "avgdeg: 7.70 -> avgdeg2: 8.00; overshoot: False, scale:0.000, const: 0.010\n",
      "avgdeg: 8.00 -> avgdeg2: 7.14; overshoot: False, scale:0.000, const: 0.010\n",
      "avgdeg: 7.14 -> avgdeg2: 6.99; overshoot: False, scale:0.000, const: 0.010\n",
      "avgdeg: 6.99 -> avgdeg2: 8.23; overshoot: False, scale:0.000, const: 0.010\n",
      "avgdeg: 8.23 -> avgdeg2: 11.81; overshoot: True, scale:0.000, const: 0.010\n",
      "avgdeg: 11.81 -> avgdeg2: 7.74; overshoot: True, scale:0.000, const: 0.010\n",
      "avgdeg: 7.74 -> avgdeg2: 7.79; overshoot: False, scale:0.000, const: 0.010\n",
      "avgdeg: 7.79 -> avgdeg2: 8.36; overshoot: False, scale:0.000, const: 0.010\n",
      "avgdeg: 8.36 -> avgdeg2: 7.91; overshoot: False, scale:0.000, const: 0.010\n",
      "avgdeg: 7.91 -> avgdeg2: 7.79; overshoot: False, scale:0.000, const: 0.010\n",
      "avgdeg: 7.79 -> avgdeg2: 7.61; overshoot: False, scale:0.000, const: 0.010\n",
      "avgdeg: 7.61 -> avgdeg2: 7.80; overshoot: False, scale:0.000, const: 0.010\n",
      "avgdeg: 7.80 -> avgdeg2: 8.58; overshoot: False, scale:0.000, const: 0.010\n",
      "avgdeg: 8.58 -> avgdeg2: 8.56; overshoot: False, scale:0.000, const: 0.010\n",
      "avgdeg: 8.56 -> avgdeg2: 9.13; overshoot: False, scale:0.000, const: 0.010\n",
      "std_gdist: 4.54 -> std_gdist2: 4.35; overshoot: False, scale:0.643, alpha: 1.003\n",
      "avgdeg: 6.01 -> avgdeg2: 8.05; overshoot: False, scale:0.000, const: 0.010\n",
      "avgdeg: 8.05 -> avgdeg2: 7.21; overshoot: False, scale:0.000, const: 0.010\n",
      "avgdeg: 7.21 -> avgdeg2: 6.98; overshoot: False, scale:0.000, const: 0.010\n",
      "avgdeg: 6.98 -> avgdeg2: 9.16; overshoot: False, scale:0.000, const: 0.010\n",
      "std_gdist: 4.35 -> std_gdist2: 4.67; overshoot: False, scale:0.707, alpha: 1.001\n",
      "avgdeg: 7.42 -> avgdeg2: 7.63; overshoot: False, scale:0.000, const: 0.010\n",
      "avgdeg: 7.63 -> avgdeg2: 8.47; overshoot: False, scale:0.000, const: 0.010\n",
      "avgdeg: 8.47 -> avgdeg2: 7.31; overshoot: False, scale:0.000, const: 0.010\n",
      "avgdeg: 7.31 -> avgdeg2: 7.67; overshoot: False, scale:0.000, const: 0.010\n",
      "avgdeg: 7.67 -> avgdeg2: 6.66; overshoot: False, scale:0.000, const: 0.010\n",
      "avgdeg: 6.66 -> avgdeg2: 10.51; overshoot: True, scale:0.000, const: 0.010\n",
      "avgdeg: 10.51 -> avgdeg2: 9.97; overshoot: False, scale:0.000, const: 0.010\n",
      "avgdeg: 9.97 -> avgdeg2: 8.22; overshoot: True, scale:0.000, const: 0.010\n",
      "avgdeg: 8.22 -> avgdeg2: 7.27; overshoot: False, scale:0.000, const: 0.010\n",
      "avgdeg: 7.27 -> avgdeg2: 8.63; overshoot: False, scale:0.000, const: 0.010\n",
      "avgdeg: 8.63 -> avgdeg2: 9.04; overshoot: False, scale:0.000, const: 0.010\n",
      "std_gdist: 4.67 -> std_gdist2: 4.78; overshoot: False, scale:0.778, alpha: 1.000\n",
      "avgdeg: 8.31 -> avgdeg2: 8.19; overshoot: False, scale:0.000, const: 0.010\n",
      "avgdeg: 8.19 -> avgdeg2: 7.14; overshoot: False, scale:0.000, const: 0.010\n",
      "avgdeg: 7.14 -> avgdeg2: 9.32; overshoot: True, scale:0.000, const: 0.010\n",
      "std_gdist: 4.78 -> std_gdist2: 5.05; overshoot: False, scale:0.856, alpha: 1.000\n",
      "avgdeg: 8.54 -> avgdeg2: 8.59; overshoot: False, scale:0.000, const: 0.010\n",
      "avgdeg: 8.59 -> avgdeg2: 7.79; overshoot: False, scale:0.000, const: 0.010\n",
      "avgdeg: 7.79 -> avgdeg2: 7.60; overshoot: False, scale:0.000, const: 0.010\n",
      "avgdeg: 7.60 -> avgdeg2: 8.84; overshoot: False, scale:0.000, const: 0.010\n",
      "avgdeg: 8.84 -> avgdeg2: 9.57; overshoot: True, scale:0.000, const: 0.010\n",
      "avgdeg: 9.57 -> avgdeg2: 8.08; overshoot: True, scale:0.000, const: 0.010\n",
      "avgdeg: 8.08 -> avgdeg2: 9.16; overshoot: False, scale:0.000, const: 0.010\n",
      "std_gdist: 5.05 -> std_gdist2: 5.01; overshoot: False, scale:0.900, alpha: 1.000\n",
      "avgdeg: 6.85 -> avgdeg2: 7.47; overshoot: False, scale:0.000, const: 0.010\n",
      "avgdeg: 7.47 -> avgdeg2: 10.11; overshoot: True, scale:0.000, const: 0.010\n",
      "avgdeg: 10.11 -> avgdeg2: 7.85; overshoot: True, scale:0.000, const: 0.010\n",
      "avgdeg: 7.85 -> avgdeg2: 8.51; overshoot: False, scale:0.000, const: 0.010\n",
      "avgdeg: 8.51 -> avgdeg2: 9.07; overshoot: False, scale:0.000, const: 0.010\n",
      "std_gdist: 5.01 -> std_gdist2: 4.95; overshoot: False, scale:0.900, alpha: 1.000\n",
      "avgdeg: 9.73 -> avgdeg2: 7.33; overshoot: True, scale:0.000, const: 0.010\n",
      "avgdeg: 7.33 -> avgdeg2: 9.34; overshoot: True, scale:0.000, const: 0.010\n",
      "std_gdist: 4.95 -> std_gdist2: 4.94; overshoot: False, scale:0.900, alpha: 1.000\n"
     ]
    },
    {
     "ename": "KeyboardInterrupt",
     "evalue": "",
     "output_type": "error",
     "traceback": [
      "\u001b[0;31m---------------------------------------------------------------------------\u001b[0m",
      "\u001b[0;31mKeyboardInterrupt\u001b[0m                         Traceback (most recent call last)",
      "\u001b[1;32m/Users/benjidayan/GDrive/eth_courses/GIRG/benji_src/flights4.ipynb Cell 22\u001b[0m in \u001b[0;36m<cell line: 2>\u001b[0;34m()\u001b[0m\n\u001b[1;32m      <a href='vscode-notebook-cell:/Users/benjidayan/GDrive/eth_courses/GIRG/benji_src/flights4.ipynb#X34sZmlsZQ%3D%3D?line=0'>1</a>\u001b[0m gaf\u001b[39m.\u001b[39mverbose\u001b[39m=\u001b[39m\u001b[39mTrue\u001b[39;00m\n\u001b[0;32m----> <a href='vscode-notebook-cell:/Users/benjidayan/GDrive/eth_courses/GIRG/benji_src/flights4.ipynb#X34sZmlsZQ%3D%3D?line=1'>2</a>\u001b[0m gaf\u001b[39m.\u001b[39;49mfit()\n",
      "File \u001b[0;32m~/GDrive/eth_courses/GIRG/benji_src/benji_girgs/fitting.py:276\u001b[0m, in \u001b[0;36mGirgMetricFitter.fit\u001b[0;34m(self)\u001b[0m\n\u001b[1;32m    274\u001b[0m \u001b[39m\"\"\"Steps until the average degree is within 3% of the target average degree\"\"\"\u001b[39;00m\n\u001b[1;32m    275\u001b[0m \u001b[39mwhile\u001b[39;00m \u001b[39mabs\u001b[39m(\u001b[39mself\u001b[39m\u001b[39m.\u001b[39mmetric \u001b[39m-\u001b[39m \u001b[39mself\u001b[39m\u001b[39m.\u001b[39mtarget_metric) \u001b[39m/\u001b[39m \u001b[39mself\u001b[39m\u001b[39m.\u001b[39mtarget_metric \u001b[39m>\u001b[39m \u001b[39m0.03\u001b[39m:\n\u001b[0;32m--> 276\u001b[0m     \u001b[39mself\u001b[39;49m\u001b[39m.\u001b[39;49mstep()\n",
      "File \u001b[0;32m~/GDrive/eth_courses/GIRG/benji_src/benji_girgs/fitting.py:255\u001b[0m, in \u001b[0;36mGirgMetricFitter.step\u001b[0;34m(self)\u001b[0m\n\u001b[1;32m    252\u001b[0m \u001b[39mdef\u001b[39;00m \u001b[39mstep\u001b[39m(\u001b[39mself\u001b[39m):\n\u001b[1;32m    253\u001b[0m     \u001b[39mself\u001b[39m\u001b[39m.\u001b[39mparam \u001b[39m=\u001b[39m scale_param(\u001b[39mself\u001b[39m\u001b[39m.\u001b[39mparam, \u001b[39mself\u001b[39m\u001b[39m.\u001b[39mscale, \u001b[39mself\u001b[39m\u001b[39m.\u001b[39mparam_base, \u001b[39mself\u001b[39m\u001b[39m.\u001b[39mlarger)\n\u001b[0;32m--> 255\u001b[0m     girg \u001b[39m=\u001b[39m \u001b[39mself\u001b[39;49m\u001b[39m.\u001b[39;49mgirg_gen_func(\u001b[39mself\u001b[39;49m\u001b[39m.\u001b[39;49mparam)\n\u001b[1;32m    256\u001b[0m     metric \u001b[39m=\u001b[39m \u001b[39mself\u001b[39m\u001b[39m.\u001b[39mmetric_func(girg)\n\u001b[1;32m    257\u001b[0m     \u001b[39m# e.g. 0.2 if mu too big\u001b[39;00m\n",
      "File \u001b[0;32m~/GDrive/eth_courses/GIRG/benji_src/benji_girgs/fitting.py:312\u001b[0m, in \u001b[0;36mGirgAlphaFitter.girg_gen_func\u001b[0;34m(self, alpha)\u001b[0m\n\u001b[1;32m    311\u001b[0m \u001b[39mdef\u001b[39;00m \u001b[39mgirg_gen_func\u001b[39m(\u001b[39mself\u001b[39m, alpha):\n\u001b[0;32m--> 312\u001b[0m     gcf \u001b[39m=\u001b[39m GirgMetricFitter(\u001b[39mself\u001b[39;49m\u001b[39m.\u001b[39;49mtarget_avg_degree, \n\u001b[1;32m    313\u001b[0m                     \u001b[39mself\u001b[39;49m\u001b[39m.\u001b[39;49mgirg_gen_func_const, \n\u001b[1;32m    314\u001b[0m                     metric_func\u001b[39m=\u001b[39;49mutils\u001b[39m.\u001b[39;49mavg_degree,\n\u001b[1;32m    315\u001b[0m                     metric_name\u001b[39m=\u001b[39;49m\u001b[39m'\u001b[39;49m\u001b[39mavgdeg\u001b[39;49m\u001b[39m'\u001b[39;49m,\n\u001b[1;32m    316\u001b[0m                     init_param\u001b[39m=\u001b[39;49m\u001b[39mself\u001b[39;49m\u001b[39m.\u001b[39;49mconst,\n\u001b[1;32m    317\u001b[0m                     param_base\u001b[39m=\u001b[39;49m\u001b[39m0.0\u001b[39;49m,\n\u001b[1;32m    318\u001b[0m                     param_name\u001b[39m=\u001b[39;49m\u001b[39m'\u001b[39;49m\u001b[39mconst\u001b[39;49m\u001b[39m'\u001b[39;49m)\n\u001b[1;32m    319\u001b[0m     \u001b[39m# Pump it up again as with a new alpha things have shifted\u001b[39;00m\n\u001b[1;32m    320\u001b[0m     gcf\u001b[39m.\u001b[39mscale \u001b[39m=\u001b[39m \u001b[39mmin\u001b[39m(\u001b[39mself\u001b[39m\u001b[39m.\u001b[39mconst_scale \u001b[39m*\u001b[39m \u001b[39m1.5\u001b[39m, \u001b[39m0.9\u001b[39m)\n",
      "File \u001b[0;32m~/GDrive/eth_courses/GIRG/benji_src/benji_girgs/fitting.py:245\u001b[0m, in \u001b[0;36mGirgMetricFitter.__init__\u001b[0;34m(self, target_metric, girg_gen_func, metric_func, metric_name, init_param, param_base, param_name)\u001b[0m\n\u001b[1;32m    242\u001b[0m \u001b[39mself\u001b[39m\u001b[39m.\u001b[39mmetric_func \u001b[39m=\u001b[39m metric_func\n\u001b[1;32m    243\u001b[0m \u001b[39mself\u001b[39m\u001b[39m.\u001b[39mmetric_name \u001b[39m=\u001b[39m metric_name\n\u001b[0;32m--> 245\u001b[0m girg \u001b[39m=\u001b[39m \u001b[39mself\u001b[39;49m\u001b[39m.\u001b[39;49mgirg_gen_func(\u001b[39mself\u001b[39;49m\u001b[39m.\u001b[39;49mparam)\n\u001b[1;32m    246\u001b[0m \u001b[39mself\u001b[39m\u001b[39m.\u001b[39mmetric \u001b[39m=\u001b[39m metric_func(girg)\n\u001b[1;32m    247\u001b[0m \u001b[39m# avg degree too small -> need to make const larger\u001b[39;00m\n",
      "File \u001b[0;32m~/GDrive/eth_courses/GIRG/benji_src/benji_girgs/fitting.py:309\u001b[0m, in \u001b[0;36mGirgAlphaFitter.girg_gen_func_const\u001b[0;34m(self, const)\u001b[0m\n\u001b[1;32m    308\u001b[0m \u001b[39mdef\u001b[39;00m \u001b[39mgirg_gen_func_const\u001b[39m(\u001b[39mself\u001b[39m, const):\n\u001b[0;32m--> 309\u001b[0m     \u001b[39mreturn\u001b[39;00m \u001b[39mself\u001b[39;49m\u001b[39m.\u001b[39;49mgirg_gen_func_given(\u001b[39mself\u001b[39;49m\u001b[39m.\u001b[39;49mparam, const)\n",
      "\u001b[1;32m/Users/benjidayan/GDrive/eth_courses/GIRG/benji_src/flights4.ipynb Cell 22\u001b[0m in \u001b[0;36mgirg_gen_func\u001b[0;34m(alpha, const)\u001b[0m\n\u001b[1;32m      <a href='vscode-notebook-cell:/Users/benjidayan/GDrive/eth_courses/GIRG/benji_src/flights4.ipynb#X34sZmlsZQ%3D%3D?line=5'>6</a>\u001b[0m \u001b[39mdef\u001b[39;00m \u001b[39mgirg_gen_func\u001b[39m(alpha, const):\n\u001b[0;32m----> <a href='vscode-notebook-cell:/Users/benjidayan/GDrive/eth_courses/GIRG/benji_src/flights4.ipynb#X34sZmlsZQ%3D%3D?line=6'>7</a>\u001b[0m     \u001b[39mreturn\u001b[39;00m generation\u001b[39m.\u001b[39;49mgenerate_GIRG_nk(n, d, tau, alpha, const, points_type\u001b[39m=\u001b[39;49mgeneration\u001b[39m.\u001b[39;49mPointsTorus)[\u001b[39m0\u001b[39m]\n",
      "File \u001b[0;32m~/GDrive/eth_courses/GIRG/benji_src/benji_girgs/generation.py:241\u001b[0m, in \u001b[0;36mgenerate_GIRG_nk\u001b[0;34m(n, d, tau, alpha, const, points_type)\u001b[0m\n\u001b[1;32m    237\u001b[0m edges, weights, pts \u001b[39m=\u001b[39m generate_GIRG(n, d, tau, alpha, const, points_type)\n\u001b[1;32m    238\u001b[0m \u001b[39m# nx.from_numpy_matrix goes from an adjacency matrix. It actually\u001b[39;00m\n\u001b[1;32m    239\u001b[0m \u001b[39m# works fine from an upper triangular matrix (with zeros on the diagonal)\u001b[39;00m\n\u001b[1;32m    240\u001b[0m \u001b[39m# so all good!\u001b[39;00m\n\u001b[0;32m--> 241\u001b[0m g \u001b[39m=\u001b[39m nk\u001b[39m.\u001b[39mnxadapter\u001b[39m.\u001b[39mnx2nk(nx\u001b[39m.\u001b[39;49mfrom_numpy_array(edges))\n\u001b[1;32m    242\u001b[0m \u001b[39mreturn\u001b[39;00m g, edges, weights, pts\n",
      "File \u001b[0;32m/opt/homebrew/anaconda3/lib/python3.9/site-packages/networkx/convert_matrix.py:1626\u001b[0m, in \u001b[0;36mfrom_numpy_array\u001b[0;34m(A, parallel_edges, create_using)\u001b[0m\n\u001b[1;32m   1623\u001b[0m G\u001b[39m.\u001b[39madd_nodes_from(\u001b[39mrange\u001b[39m(n))\n\u001b[1;32m   1624\u001b[0m \u001b[39m# Get a list of all the entries in the array with nonzero entries. These\u001b[39;00m\n\u001b[1;32m   1625\u001b[0m \u001b[39m# coordinates become edges in the graph. (convert to int from np.int64)\u001b[39;00m\n\u001b[0;32m-> 1626\u001b[0m edges \u001b[39m=\u001b[39m ((\u001b[39mint\u001b[39m(e[\u001b[39m0\u001b[39m]), \u001b[39mint\u001b[39m(e[\u001b[39m1\u001b[39m])) \u001b[39mfor\u001b[39;00m e \u001b[39min\u001b[39;00m \u001b[39mzip\u001b[39m(\u001b[39m*\u001b[39mA\u001b[39m.\u001b[39;49mnonzero()))\n\u001b[1;32m   1627\u001b[0m \u001b[39m# handle numpy constructed data type\u001b[39;00m\n\u001b[1;32m   1628\u001b[0m \u001b[39mif\u001b[39;00m python_type \u001b[39m==\u001b[39m \u001b[39m\"\u001b[39m\u001b[39mvoid\u001b[39m\u001b[39m\"\u001b[39m:\n\u001b[1;32m   1629\u001b[0m     \u001b[39m# Sort the fields by their offset, then by dtype, then by name.\u001b[39;00m\n",
      "\u001b[0;31mKeyboardInterrupt\u001b[0m: "
     ]
    }
   ],
   "source": [
    "gaf.verbose=True\n",
    "gaf.fit()"
   ]
  },
  {
   "cell_type": "code",
   "execution_count": 60,
   "metadata": {},
   "outputs": [
    {
     "data": {
      "text/plain": [
       "[(1.3, 6.983843068110852),\n",
       " (1.21, 4.852787961574254),\n",
       " (1.1407, 4.7326233739861445),\n",
       " (1.0896259000000001, 4.870987476888029),\n",
       " (1.05383827813, 4.609692397546716),\n",
       " (1.0301908912269602, 4.992853993459052),\n",
       " (1.0156040715579806, 4.880237289312888),\n",
       " (1.0073110021739824, 4.5390377834955284),\n",
       " (1.0030368796876095, 4.354124481454337),\n",
       " (1.0010839332929067, 4.669850104660748),\n",
       " (1.0003171758913445, 4.783555058740308),\n",
       " (1.0000703741183343, 5.054540038420905),\n",
       " (1.0000101384465252, 5.009207122888811),\n",
       " (1.0000010138446525, 4.945919934653209),\n",
       " (1.0000001013844653, 4.935017325197552)]"
      ]
     },
     "execution_count": 60,
     "metadata": {},
     "output_type": "execute_result"
    }
   ],
   "source": [
    "gaf.hist"
   ]
  },
  {
   "cell_type": "code",
   "execution_count": null,
   "metadata": {},
   "outputs": [],
   "source": []
  }
 ],
 "metadata": {
  "kernelspec": {
   "display_name": "base",
   "language": "python",
   "name": "python3"
  },
  "language_info": {
   "codemirror_mode": {
    "name": "ipython",
    "version": 3
   },
   "file_extension": ".py",
   "mimetype": "text/x-python",
   "name": "python",
   "nbconvert_exporter": "python",
   "pygments_lexer": "ipython3",
   "version": "3.9.13"
  },
  "orig_nbformat": 4
 },
 "nbformat": 4,
 "nbformat_minor": 2
}
