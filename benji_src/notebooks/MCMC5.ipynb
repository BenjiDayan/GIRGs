{
 "cells": [
  {
   "cell_type": "code",
   "execution_count": 1,
   "metadata": {
    "collapsed": true,
    "ExecuteTime": {
     "start_time": "2023-06-01T15:00:20.918684Z",
     "end_time": "2023-06-01T15:00:20.925897Z"
    }
   },
   "outputs": [],
   "source": [
    "import os\n",
    "os.chdir('/cluster/home/bdayan/girgs/benji_src/notebooks/')"
   ]
  },
  {
   "cell_type": "code",
   "execution_count": 2,
   "outputs": [
    {
     "data": {
      "text/plain": "'/cluster/home/bdayan/girgs/benji_src/notebooks'"
     },
     "execution_count": 2,
     "metadata": {},
     "output_type": "execute_result"
    }
   ],
   "source": [
    "import sys\n",
    "sys.path.append('../')\n",
    "sys.path.append('../../nemo-eva/src/')\n",
    "\n",
    "import os\n",
    "os.getcwd()\n",
    "\n"
   ],
   "metadata": {
    "collapsed": false,
    "ExecuteTime": {
     "start_time": "2023-06-01T15:00:20.918721Z",
     "end_time": "2023-06-01T15:00:20.926127Z"
    }
   }
  },
  {
   "cell_type": "code",
   "execution_count": 3,
   "outputs": [
    {
     "data": {
      "text/html": "\n\t\t\t<script type=\"text/javascript\">\n\t\t\t<!--\n\t\t\t\t\n\t\t\t{\n\t\t\t\tvar element = document.getElementById('NetworKit_script');\n\t\t\t\tif (element) {\n\t\t\t\t\telement.parentNode.removeChild(element);\n\t\t\t\t}\n\t\t\t\telement = document.createElement('script');\n\t\t\t\telement.type = 'text/javascript';\n\t\t\t\telement.innerHTML = 'function NetworKit_pageEmbed(id) { var i, j; var elements; elements = document.getElementById(id).getElementsByClassName(\"Plot\"); for (i=0; i<elements.length; i++) { elements[i].id = id + \"_Plot_\" + i; var data = elements[i].getAttribute(\"data-image\").split(\"|\"); elements[i].removeAttribute(\"data-image\"); var content = \"<div class=\\\\\"Image\\\\\" id=\\\\\"\" + elements[i].id + \"_Image\\\\\" />\"; elements[i].innerHTML = content; elements[i].setAttribute(\"data-image-index\", 0); elements[i].setAttribute(\"data-image-length\", data.length); for (j=0; j<data.length; j++) { elements[i].setAttribute(\"data-image-\" + j, data[j]); } NetworKit_plotUpdate(elements[i]); elements[i].onclick = function (e) { NetworKit_overlayShow((e.target) ? e.target : e.srcElement); } } elements = document.getElementById(id).getElementsByClassName(\"HeatCell\"); for (i=0; i<elements.length; i++) { var data = parseFloat(elements[i].getAttribute(\"data-heat\")); var color = \"#00FF00\"; if (data <= 1 && data > 0) { color = \"hsla(0, 100%, 75%, \" + (data) + \")\"; } else if (data <= 0 && data >= -1) { color = \"hsla(240, 100%, 75%, \" + (-data) + \")\"; } elements[i].style.backgroundColor = color; } elements = document.getElementById(id).getElementsByClassName(\"Details\"); for (i=0; i<elements.length; i++) { elements[i].setAttribute(\"data-title\", \"-\"); NetworKit_toggleDetails(elements[i]); elements[i].onclick = function (e) { NetworKit_toggleDetails((e.target) ? e.target : e.srcElement); } } elements = document.getElementById(id).getElementsByClassName(\"MathValue\"); for (i=elements.length-1; i>=0; i--) { value = elements[i].innerHTML.trim(); if (value === \"nan\") { elements[i].parentNode.innerHTML = \"\" } } elements = document.getElementById(id).getElementsByClassName(\"SubCategory\"); for (i=elements.length-1; i>=0; i--) { value = elements[i].innerHTML.trim(); if (value === \"\") { elements[i].parentNode.removeChild(elements[i]) } } elements = document.getElementById(id).getElementsByClassName(\"Category\"); for (i=elements.length-1; i>=0; i--) { value = elements[i].innerHTML.trim(); if (value === \"\") { elements[i].parentNode.removeChild(elements[i]) } } var isFirefox = false; try { isFirefox = typeof InstallTrigger !== \"undefined\"; } catch (e) {} if (!isFirefox) { alert(\"Currently the function\\'s output is only fully supported by Firefox.\"); } } function NetworKit_plotUpdate(source) { var index = source.getAttribute(\"data-image-index\"); var data = source.getAttribute(\"data-image-\" + index); var image = document.getElementById(source.id + \"_Image\"); image.style.backgroundImage = \"url(\" + data + \")\"; } function NetworKit_showElement(id, show) { var element = document.getElementById(id); element.style.display = (show) ? \"block\" : \"none\"; } function NetworKit_overlayShow(source) { NetworKit_overlayUpdate(source); NetworKit_showElement(\"NetworKit_Overlay\", true); } function NetworKit_overlayUpdate(source) { document.getElementById(\"NetworKit_Overlay_Title\").innerHTML = source.title; var index = source.getAttribute(\"data-image-index\"); var data = source.getAttribute(\"data-image-\" + index); var image = document.getElementById(\"NetworKit_Overlay_Image\"); image.setAttribute(\"data-id\", source.id); image.style.backgroundImage = \"url(\" + data + \")\"; var link = document.getElementById(\"NetworKit_Overlay_Toolbar_Bottom_Save\"); link.href = data; link.download = source.title + \".svg\"; } function NetworKit_overlayImageShift(delta) { var image = document.getElementById(\"NetworKit_Overlay_Image\"); var source = document.getElementById(image.getAttribute(\"data-id\")); var index = parseInt(source.getAttribute(\"data-image-index\")); var length = parseInt(source.getAttribute(\"data-image-length\")); var index = (index+delta) % length; if (index < 0) { index = length + index; } source.setAttribute(\"data-image-index\", index); NetworKit_overlayUpdate(source); } function NetworKit_toggleDetails(source) { var childs = source.children; var show = false; if (source.getAttribute(\"data-title\") == \"-\") { source.setAttribute(\"data-title\", \"+\"); show = false; } else { source.setAttribute(\"data-title\", \"-\"); show = true; } for (i=0; i<childs.length; i++) { if (show) { childs[i].style.display = \"block\"; } else { childs[i].style.display = \"none\"; } } }';\n\t\t\t\telement.setAttribute('id', 'NetworKit_script');\n\t\t\t\tdocument.head.appendChild(element);\n\t\t\t}\n\t\t\n\t\t\t\t\n\t\t\t{\n\t\t\t\tvar element = document.getElementById('NetworKit_style');\n\t\t\t\tif (element) {\n\t\t\t\t\telement.parentNode.removeChild(element);\n\t\t\t\t}\n\t\t\t\telement = document.createElement('style');\n\t\t\t\telement.type = 'text/css';\n\t\t\t\telement.innerHTML = '.NetworKit_Page { font-family: Arial, Helvetica, sans-serif; font-size: 14px; } .NetworKit_Page .Value:before { font-family: Arial, Helvetica, sans-serif; font-size: 1.05em; content: attr(data-title) \":\"; margin-left: -2.5em; padding-right: 0.5em; } .NetworKit_Page .Details .Value:before { display: block; } .NetworKit_Page .Value { font-family: monospace; white-space: pre; padding-left: 2.5em; white-space: -moz-pre-wrap !important; white-space: -pre-wrap; white-space: -o-pre-wrap; white-space: pre-wrap; word-wrap: break-word; tab-size: 4; -moz-tab-size: 4; } .NetworKit_Page .Category { clear: both; padding-left: 1em; margin-bottom: 1.5em; } .NetworKit_Page .Category:before { content: attr(data-title); font-size: 1.75em; display: block; margin-left: -0.8em; margin-bottom: 0.5em; } .NetworKit_Page .SubCategory { margin-bottom: 1.5em; padding-left: 1em; } .NetworKit_Page .SubCategory:before { font-size: 1.6em; display: block; margin-left: -0.8em; margin-bottom: 0.5em; } .NetworKit_Page .SubCategory[data-title]:before { content: attr(data-title); } .NetworKit_Page .Block { display: block; } .NetworKit_Page .Block:after { content: \".\"; visibility: hidden; display: block; height: 0; clear: both; } .NetworKit_Page .Block .Thumbnail_Overview, .NetworKit_Page .Block .Thumbnail_ScatterPlot { width: 260px; float: left; } .NetworKit_Page .Block .Thumbnail_Overview img, .NetworKit_Page .Block .Thumbnail_ScatterPlot img { width: 260px; } .NetworKit_Page .Block .Thumbnail_Overview:before, .NetworKit_Page .Block .Thumbnail_ScatterPlot:before { display: block; text-align: center; font-weight: bold; } .NetworKit_Page .Block .Thumbnail_Overview:before { content: attr(data-title); } .NetworKit_Page .HeatCell { font-family: \"Courier New\", Courier, monospace; cursor: pointer; } .NetworKit_Page .HeatCell, .NetworKit_Page .HeatCellName { display: inline; padding: 0.1em; margin-right: 2px; background-color: #FFFFFF } .NetworKit_Page .HeatCellName { margin-left: 0.25em; } .NetworKit_Page .HeatCell:before { content: attr(data-heat); display: inline-block; color: #000000; width: 4em; text-align: center; } .NetworKit_Page .Measure { clear: both; } .NetworKit_Page .Measure .Details { cursor: pointer; } .NetworKit_Page .Measure .Details:before { content: \"[\" attr(data-title) \"]\"; display: block; } .NetworKit_Page .Measure .Details .Value { border-left: 1px dotted black; margin-left: 0.4em; padding-left: 3.5em; pointer-events: none; } .NetworKit_Page .Measure .Details .Spacer:before { content: \".\"; opacity: 0.0; pointer-events: none; } .NetworKit_Page .Measure .Plot { width: 440px; height: 440px; cursor: pointer; float: left; margin-left: -0.9em; margin-right: 20px; } .NetworKit_Page .Measure .Plot .Image { background-repeat: no-repeat; background-position: center center; background-size: contain; height: 100%; pointer-events: none; } .NetworKit_Page .Measure .Stat { width: 500px; float: left; } .NetworKit_Page .Measure .Stat .Group { padding-left: 1.25em; margin-bottom: 0.75em; } .NetworKit_Page .Measure .Stat .Group .Title { font-size: 1.1em; display: block; margin-bottom: 0.3em; margin-left: -0.75em; border-right-style: dotted; border-right-width: 1px; border-bottom-style: dotted; border-bottom-width: 1px; background-color: #D0D0D0; padding-left: 0.2em; } .NetworKit_Page .Measure .Stat .Group .List { -webkit-column-count: 3; -moz-column-count: 3; column-count: 3; } .NetworKit_Page .Measure .Stat .Group .List .Entry { position: relative; line-height: 1.75em; } .NetworKit_Page .Measure .Stat .Group .List .Entry[data-tooltip]:before { position: absolute; left: 0; top: -40px; background-color: #808080; color: #ffffff; height: 30px; line-height: 30px; border-radius: 5px; padding: 0 15px; content: attr(data-tooltip); white-space: nowrap; display: none; } .NetworKit_Page .Measure .Stat .Group .List .Entry[data-tooltip]:after { position: absolute; left: 15px; top: -10px; border-top: 7px solid #808080; border-left: 7px solid transparent; border-right: 7px solid transparent; content: \"\"; display: none; } .NetworKit_Page .Measure .Stat .Group .List .Entry[data-tooltip]:hover:after, .NetworKit_Page .Measure .Stat .Group .List .Entry[data-tooltip]:hover:before { display: block; } .NetworKit_Page .Measure .Stat .Group .List .Entry .MathValue { font-family: \"Courier New\", Courier, monospace; } .NetworKit_Page .Measure:after { content: \".\"; visibility: hidden; display: block; height: 0; clear: both; } .NetworKit_Page .PartitionPie { clear: both; } .NetworKit_Page .PartitionPie img { width: 600px; } #NetworKit_Overlay { left: 0px; top: 0px; display: none; position: absolute; width: 100%; height: 100%; background-color: rgba(0,0,0,0.6); z-index: 1000; } #NetworKit_Overlay_Title { position: absolute; color: white; transform: rotate(-90deg); width: 32em; height: 32em; padding-right: 0.5em; padding-top: 0.5em; text-align: right; font-size: 40px; } #NetworKit_Overlay .button { background: white; cursor: pointer; } #NetworKit_Overlay .button:before { size: 13px; display: inline-block; text-align: center; margin-top: 0.5em; margin-bottom: 0.5em; width: 1.5em; height: 1.5em; } #NetworKit_Overlay .icon-close:before { content: \"X\"; } #NetworKit_Overlay .icon-previous:before { content: \"P\"; } #NetworKit_Overlay .icon-next:before { content: \"N\"; } #NetworKit_Overlay .icon-save:before { content: \"S\"; } #NetworKit_Overlay_Toolbar_Top, #NetworKit_Overlay_Toolbar_Bottom { position: absolute; width: 40px; right: 13px; text-align: right; z-index: 1100; } #NetworKit_Overlay_Toolbar_Top { top: 0.5em; } #NetworKit_Overlay_Toolbar_Bottom { Bottom: 0.5em; } #NetworKit_Overlay_ImageContainer { position: absolute; top: 5%; left: 5%; height: 90%; width: 90%; background-repeat: no-repeat; background-position: center center; background-size: contain; } #NetworKit_Overlay_Image { height: 100%; width: 100%; background-repeat: no-repeat; background-position: center center; background-size: contain; }';\n\t\t\t\telement.setAttribute('id', 'NetworKit_style');\n\t\t\t\tdocument.head.appendChild(element);\n\t\t\t}\n\t\t\n\t\t\t\t\n\t\t\t{\n\t\t\t\tvar element = document.getElementById('NetworKit_Overlay');\n\t\t\t\tif (element) {\n\t\t\t\t\telement.parentNode.removeChild(element);\n\t\t\t\t}\n\t\t\t\telement = document.createElement('div');\n\t\t\t\telement.innerHTML = '<div id=\"NetworKit_Overlay_Toolbar_Top\"><div class=\"button icon-close\" id=\"NetworKit_Overlay_Close\" /></div><div id=\"NetworKit_Overlay_Title\" /> <div id=\"NetworKit_Overlay_ImageContainer\"> <div id=\"NetworKit_Overlay_Image\" /> </div> <div id=\"NetworKit_Overlay_Toolbar_Bottom\"> <div class=\"button icon-previous\" onclick=\"NetworKit_overlayImageShift(-1)\" /> <div class=\"button icon-next\" onclick=\"NetworKit_overlayImageShift(1)\" /> <a id=\"NetworKit_Overlay_Toolbar_Bottom_Save\"><div class=\"button icon-save\" /></a> </div>';\n\t\t\t\telement.setAttribute('id', 'NetworKit_Overlay');\n\t\t\t\tdocument.body.appendChild(element);\n\t\t\t\tdocument.getElementById('NetworKit_Overlay_Close').onclick = function (e) {\n\t\t\t\t\tdocument.getElementById('NetworKit_Overlay').style.display = 'none';\n\t\t\t\t}\n\t\t\t}\n\t\t\n\t\t\t-->\n\t\t\t</script>\n\t\t"
     },
     "metadata": {},
     "output_type": "display_data"
    },
    {
     "name": "stdout",
     "output_type": "stream",
     "text": [
      "/cluster/scratch/bdayan/GIRG_data/socfb-Caltech36.SpaceOne\n",
      "/cluster/scratch/bdayan/GIRG_data/socfb-Reed98.SpaceOne\n",
      "/cluster/scratch/bdayan/GIRG_data/socfb-Haverford76.SpaceOne\n",
      "/cluster/scratch/bdayan/GIRG_data/socfb-Simmons81.SpaceOne\n",
      "/cluster/scratch/bdayan/GIRG_data/socfb-Swarthmore42.SpaceOne\n",
      "/cluster/scratch/bdayan/GIRG_data/socfb-Amherst41.SpaceOne\n",
      "/cluster/scratch/bdayan/GIRG_data/socfb-Bowdoin47.SpaceOne\n",
      "/cluster/scratch/bdayan/GIRG_data/socfb-Hamilton46.SpaceOne\n",
      "/cluster/scratch/bdayan/GIRG_data/socfb-Trinity100.SpaceOne\n",
      "/cluster/scratch/bdayan/GIRG_data/socfb-USFCA72.SpaceOne\n",
      "/cluster/scratch/bdayan/GIRG_data/socfb-Williams40.SpaceOne\n",
      "/cluster/scratch/bdayan/GIRG_data/socfb-Oberlin44.SpaceOne\n",
      "/cluster/scratch/bdayan/GIRG_data/socfb-Wellesley22.SpaceOne\n",
      "/cluster/scratch/bdayan/GIRG_data/socfb-Smith60.SpaceOne\n",
      "/cluster/scratch/bdayan/GIRG_data/socfb-Vassar85.SpaceOne\n",
      "/cluster/scratch/bdayan/GIRG_data/socfb-Middlebury45.SpaceOne\n",
      "/cluster/scratch/bdayan/GIRG_data/socfb-Pepperdine86.SpaceOne\n",
      "/cluster/scratch/bdayan/GIRG_data/socfb-Colgate88.SpaceOne\n",
      "/cluster/scratch/bdayan/GIRG_data/socfb-Santa74.SpaceOne\n",
      "/cluster/scratch/bdayan/GIRG_data/socfb-Wesleyan43.SpaceOne\n",
      "/cluster/scratch/bdayan/GIRG_data/socfb-Mich67.SpaceOne\n",
      "/cluster/scratch/bdayan/GIRG_data/socfb-Bucknell39.SpaceOne\n",
      "/cluster/scratch/bdayan/GIRG_data/socfb-Brandeis99.SpaceOne\n",
      "/cluster/scratch/bdayan/GIRG_data/socfb-Howard90.SpaceOne\n",
      "/cluster/scratch/bdayan/GIRG_data/socfb-Rice31.SpaceOne\n",
      "/cluster/scratch/bdayan/GIRG_data/socfb-Rochester38.SpaceOne\n",
      "/cluster/scratch/bdayan/GIRG_data/socfb-Lehigh96.SpaceOne\n",
      "/cluster/scratch/bdayan/GIRG_data/socfb-JohnsHopkins55.SpaceOne\n",
      "/cluster/scratch/bdayan/GIRG_data/socfb-Wake73.SpaceOne\n",
      "/cluster/scratch/bdayan/GIRG_data/socfb-American75.SpaceOne\n",
      "/cluster/scratch/bdayan/GIRG_data/socfb-MIT8.SpaceOne\n",
      "/cluster/scratch/bdayan/GIRG_data/socfb-MIT.SpaceOne\n",
      "/cluster/scratch/bdayan/GIRG_data/socfb-William77.SpaceOne\n",
      "/cluster/scratch/bdayan/GIRG_data/socfb-UChicago30.SpaceOne\n",
      "/cluster/scratch/bdayan/GIRG_data/socfb-Princeton12.SpaceOne\n",
      "/cluster/scratch/bdayan/GIRG_data/socfb-CMU.SpaceOne\n",
      "/cluster/scratch/bdayan/GIRG_data/socfb-Carnegie49.SpaceOne\n",
      "/cluster/scratch/bdayan/GIRG_data/socfb-Tufts18.SpaceOne\n",
      "/cluster/scratch/bdayan/GIRG_data/socfb-UC64.SpaceOne\n",
      "/cluster/scratch/bdayan/GIRG_data/socfb-Vermont70.SpaceOne\n",
      "/cluster/scratch/bdayan/GIRG_data/socfb-Emory27.SpaceOne\n",
      "/cluster/scratch/bdayan/GIRG_data/socfb-Dartmouth6.SpaceOne\n",
      "/cluster/scratch/bdayan/GIRG_data/socfb-WashU32.SpaceOne\n",
      "/cluster/scratch/bdayan/GIRG_data/socfb-Tulane29.SpaceOne\n",
      "/cluster/scratch/bdayan/GIRG_data/socfb-Villanova62.SpaceOne\n",
      "/cluster/scratch/bdayan/GIRG_data/socfb-Vanderbilt48.SpaceOne\n",
      "/cluster/scratch/bdayan/GIRG_data/socfb-Yale4.SpaceOne\n",
      "/cluster/scratch/bdayan/GIRG_data/socfb-Brown11.SpaceOne\n",
      "/cluster/scratch/bdayan/GIRG_data/socfb-UCSC68.SpaceOne\n",
      "/cluster/scratch/bdayan/GIRG_data/socfb-Maine59.SpaceOne\n",
      "/cluster/scratch/bdayan/GIRG_data/socfb-Georgetown15.SpaceOne\n",
      "/cluster/scratch/bdayan/GIRG_data/socfb-Duke14.SpaceOne\n",
      "/cluster/scratch/bdayan/GIRG_data/socfb-Bingham82.SpaceOne\n",
      "/cluster/scratch/bdayan/GIRG_data/socfb-Mississippi66.SpaceOne\n",
      "/cluster/scratch/bdayan/GIRG_data/socfb-Northwestern25.SpaceOne\n",
      "/cluster/scratch/bdayan/GIRG_data/socfb-Cal65.SpaceOne\n",
      "/cluster/scratch/bdayan/GIRG_data/socfb-BC17.SpaceOne\n",
      "/cluster/scratch/bdayan/GIRG_data/socfb-Stanford3.SpaceOne\n",
      "/cluster/scratch/bdayan/GIRG_data/socfb-Columbia2.SpaceOne\n",
      "/cluster/scratch/bdayan/GIRG_data/socfb-NotreDame57.SpaceOne\n",
      "/cluster/scratch/bdayan/GIRG_data/socfb-GWU54.SpaceOne\n",
      "/cluster/scratch/bdayan/GIRG_data/socfb-Baylor93.SpaceOne\n",
      "/cluster/scratch/bdayan/GIRG_data/socfb-USF51.SpaceOne\n",
      "/cluster/scratch/bdayan/GIRG_data/socfb-Syracuse56.SpaceOne\n",
      "/cluster/scratch/bdayan/GIRG_data/socfb-Temple83.SpaceOne\n",
      "/cluster/scratch/bdayan/GIRG_data/socfb-UC61.SpaceOne\n",
      "/cluster/scratch/bdayan/GIRG_data/socfb-Northeastern19.SpaceOne\n",
      "/cluster/scratch/bdayan/GIRG_data/socfb-JMU79.SpaceOne\n",
      "/cluster/scratch/bdayan/GIRG_data/socfb-UPenn7.SpaceOne\n",
      "/cluster/scratch/bdayan/GIRG_data/socfb-UCSB37.SpaceOne\n",
      "/cluster/scratch/bdayan/GIRG_data/socfb-UCF52.SpaceOne\n",
      "/cluster/scratch/bdayan/GIRG_data/socfb-UCSD34.SpaceOne\n",
      "/cluster/scratch/bdayan/GIRG_data/socfb-Harvard1.SpaceOne\n",
      "/cluster/scratch/bdayan/GIRG_data/socfb-MU78.SpaceOne\n",
      "/cluster/scratch/bdayan/GIRG_data/socfb-UMass92.SpaceOne\n",
      "/cluster/scratch/bdayan/GIRG_data/socfb-UC33.SpaceOne\n",
      "/cluster/scratch/bdayan/GIRG_data/socfb-Tennessee95.SpaceOne\n",
      "/cluster/scratch/bdayan/GIRG_data/socfb-UVA16.SpaceOne\n",
      "/cluster/scratch/bdayan/GIRG_data/socfb-UConn91.SpaceOne\n",
      "/cluster/scratch/bdayan/GIRG_data/socfb-UConn.SpaceOne\n",
      "/cluster/scratch/bdayan/GIRG_data/socfb-Oklahoma97.SpaceOne\n",
      "/cluster/scratch/bdayan/GIRG_data/socfb-USC35.SpaceOne\n",
      "/cluster/scratch/bdayan/GIRG_data/socfb-UNC28.SpaceOne\n",
      "/cluster/scratch/bdayan/GIRG_data/socfb-Auburn71.SpaceOne\n",
      "/cluster/scratch/bdayan/GIRG_data/socfb-Cornell5.SpaceOne\n",
      "/cluster/scratch/bdayan/GIRG_data/socfb-BU10.SpaceOne\n",
      "/cluster/scratch/bdayan/GIRG_data/socfb-UCLA.SpaceOne\n",
      "/cluster/scratch/bdayan/GIRG_data/socfb-UCLA26.SpaceOne\n",
      "/cluster/scratch/bdayan/GIRG_data/socfb-Maryland58.SpaceOne\n",
      "/cluster/scratch/bdayan/GIRG_data/socfb-Virginia63.SpaceOne\n",
      "/cluster/scratch/bdayan/GIRG_data/socfb-NYU9.SpaceOne\n",
      "/cluster/scratch/bdayan/GIRG_data/socfb-Berkeley13.SpaceOne\n",
      "/cluster/scratch/bdayan/GIRG_data/socfb-Wisconsin87.SpaceOne\n",
      "/cluster/scratch/bdayan/GIRG_data/socfb-UGA50.SpaceOne\n",
      "/cluster/scratch/bdayan/GIRG_data/socfb-Rutgers89.SpaceOne\n",
      "/cluster/scratch/bdayan/GIRG_data/socfb-FSU53.SpaceOne\n",
      "/cluster/scratch/bdayan/GIRG_data/socfb-Indiana.SpaceOne\n",
      "/cluster/scratch/bdayan/GIRG_data/socfb-Indiana69.SpaceOne\n",
      "/cluster/scratch/bdayan/GIRG_data/socfb-Michigan23.SpaceOne\n",
      "/cluster/scratch/bdayan/GIRG_data/socfb-UIllinois20.SpaceOne\n",
      "/cluster/scratch/bdayan/GIRG_data/socfb-UIllinois.SpaceOne\n",
      "/cluster/scratch/bdayan/GIRG_data/socfb-Texas80.SpaceOne\n",
      "/cluster/scratch/bdayan/GIRG_data/socfb-MSU24.SpaceOne\n",
      "/cluster/scratch/bdayan/GIRG_data/socfb-UF21.SpaceOne\n",
      "/cluster/scratch/bdayan/GIRG_data/socfb-UF.SpaceOne\n",
      "/cluster/scratch/bdayan/GIRG_data/socfb-Texas84.SpaceOne\n",
      "/cluster/scratch/bdayan/GIRG_data/socfb-Penn94.SpaceOne\n",
      "/cluster/scratch/bdayan/GIRG_data/socfb-wosn-friends.SpaceOne\n",
      "/cluster/scratch/bdayan/GIRG_data/socfb-OR.SpaceOne\n"
     ]
    }
   ],
   "source": [
    "from benji_girgs import utils, generation, points, fitting, mcmc\n",
    "import os\n",
    "import glob\n",
    "import pandas as pd\n",
    "import networkit\n",
    "\n",
    "import networkit as nk\n",
    "\n",
    "from girg_sampling import girgs\n",
    "\n",
    "from IPython.core.interactiveshell import InteractiveShell\n",
    "InteractiveShell.ast_node_interactivity = \"all\"\n",
    "\n",
    "import numpy as np\n",
    "import matplotlib.pyplot as plt\n",
    "\n",
    "import do_feature_extract\n",
    "import networkx as nx\n"
   ],
   "metadata": {
    "collapsed": false,
    "ExecuteTime": {
     "start_time": "2023-06-01T15:00:20.918738Z",
     "end_time": "2023-06-01T15:00:22.504146Z"
    }
   }
  },
  {
   "cell_type": "code",
   "execution_count": 4,
   "outputs": [
    {
     "data": {
      "text/plain": "'/cluster/home/bdayan/girgs/benji_src/notebooks'"
     },
     "execution_count": 4,
     "metadata": {},
     "output_type": "execute_result"
    }
   ],
   "source": [
    "import os\n",
    "os.getcwd()\n",
    "os.environ['DATA_PATH'] = '../../FE_FB_copyweights_cube/'\n",
    "\n",
    "df = pd.read_csv(os.environ['DATA_PATH'] + '2-features/results.csv')\n",
    "\n",
    "df.Info = df.Info.apply(lambda temp: {key: eval(var) for key, var in [x.split('=') for x in temp.split('|')]} if (type(temp) is str and '|' in temp) else {\n",
    "    })\n",
    "df['alpha'] = df.Info.apply(lambda x: x['alpha'] if 'alpha' in x else 1/float(x['t']) if 't' in x else None)"
   ],
   "metadata": {
    "collapsed": false,
    "ExecuteTime": {
     "start_time": "2023-06-01T15:00:22.504714Z",
     "end_time": "2023-06-01T15:00:22.559898Z"
    }
   }
  },
  {
   "cell_type": "code",
   "execution_count": 5,
   "outputs": [
    {
     "data": {
      "text/plain": "                    Graph                    Model  Nodes  \\\n0         socfb-Caltech36  1d-copyweight-cube-girg    756   \n1            socfb-Reed98  1d-copyweight-cube-girg    955   \n2         socfb-Caltech36  2d-copyweight-cube-girg    757   \n3         socfb-Simmons81  1d-copyweight-cube-girg   1497   \n4       socfb-Haverford76  1d-copyweight-cube-girg   1440   \n..                    ...                      ...    ...   \n160    socfb-Georgetown15  3d-copyweight-cube-girg   9341   \n161  socfb-Northwestern25  1d-copyweight-cube-girg  10510   \n162           socfb-MSU24  1d-copyweight-cube-girg  32345   \n163           socfb-Cal65  1d-copyweight-cube-girg  11221   \n164          socfb-Duke14  3d-copyweight-cube-girg   9831   \n\n                                                  Info  \n0    {'tau': 7.3017225936374555, 'alpha': 1.2171928...  \n1    {'tau': 4.381732472502371, 'alpha': 1.07671601...  \n2    {'tau': 7.3017225936374555, 'alpha': 1.1949215...  \n3    {'tau': 4.739342146243066, 'alpha': 1.16300199...  \n4    {'tau': 6.5461700448727616, 'alpha': 1.0592519...  \n..                                                 ...  \n160  {'tau': 4.898184083615165, 'alpha': 1.04234527...  \n161  {'tau': 5.650649065012116, 'alpha': 1.07229622...  \n162  {'tau': 5.112979295133962, 'alpha': 1.02195608...  \n163  {'tau': 6.710924913537254, 'alpha': 1.09019674...  \n164  {'tau': 5.520617078507701, 'alpha': 1.04652113...  \n\n[165 rows x 4 columns]",
      "text/html": "<div>\n<style scoped>\n    .dataframe tbody tr th:only-of-type {\n        vertical-align: middle;\n    }\n\n    .dataframe tbody tr th {\n        vertical-align: top;\n    }\n\n    .dataframe thead th {\n        text-align: right;\n    }\n</style>\n<table border=\"1\" class=\"dataframe\">\n  <thead>\n    <tr style=\"text-align: right;\">\n      <th></th>\n      <th>Graph</th>\n      <th>Model</th>\n      <th>Nodes</th>\n      <th>Info</th>\n    </tr>\n  </thead>\n  <tbody>\n    <tr>\n      <th>0</th>\n      <td>socfb-Caltech36</td>\n      <td>1d-copyweight-cube-girg</td>\n      <td>756</td>\n      <td>{'tau': 7.3017225936374555, 'alpha': 1.2171928...</td>\n    </tr>\n    <tr>\n      <th>1</th>\n      <td>socfb-Reed98</td>\n      <td>1d-copyweight-cube-girg</td>\n      <td>955</td>\n      <td>{'tau': 4.381732472502371, 'alpha': 1.07671601...</td>\n    </tr>\n    <tr>\n      <th>2</th>\n      <td>socfb-Caltech36</td>\n      <td>2d-copyweight-cube-girg</td>\n      <td>757</td>\n      <td>{'tau': 7.3017225936374555, 'alpha': 1.1949215...</td>\n    </tr>\n    <tr>\n      <th>3</th>\n      <td>socfb-Simmons81</td>\n      <td>1d-copyweight-cube-girg</td>\n      <td>1497</td>\n      <td>{'tau': 4.739342146243066, 'alpha': 1.16300199...</td>\n    </tr>\n    <tr>\n      <th>4</th>\n      <td>socfb-Haverford76</td>\n      <td>1d-copyweight-cube-girg</td>\n      <td>1440</td>\n      <td>{'tau': 6.5461700448727616, 'alpha': 1.0592519...</td>\n    </tr>\n    <tr>\n      <th>...</th>\n      <td>...</td>\n      <td>...</td>\n      <td>...</td>\n      <td>...</td>\n    </tr>\n    <tr>\n      <th>160</th>\n      <td>socfb-Georgetown15</td>\n      <td>3d-copyweight-cube-girg</td>\n      <td>9341</td>\n      <td>{'tau': 4.898184083615165, 'alpha': 1.04234527...</td>\n    </tr>\n    <tr>\n      <th>161</th>\n      <td>socfb-Northwestern25</td>\n      <td>1d-copyweight-cube-girg</td>\n      <td>10510</td>\n      <td>{'tau': 5.650649065012116, 'alpha': 1.07229622...</td>\n    </tr>\n    <tr>\n      <th>162</th>\n      <td>socfb-MSU24</td>\n      <td>1d-copyweight-cube-girg</td>\n      <td>32345</td>\n      <td>{'tau': 5.112979295133962, 'alpha': 1.02195608...</td>\n    </tr>\n    <tr>\n      <th>163</th>\n      <td>socfb-Cal65</td>\n      <td>1d-copyweight-cube-girg</td>\n      <td>11221</td>\n      <td>{'tau': 6.710924913537254, 'alpha': 1.09019674...</td>\n    </tr>\n    <tr>\n      <th>164</th>\n      <td>socfb-Duke14</td>\n      <td>3d-copyweight-cube-girg</td>\n      <td>9831</td>\n      <td>{'tau': 5.520617078507701, 'alpha': 1.04652113...</td>\n    </tr>\n  </tbody>\n</table>\n<p>165 rows × 4 columns</p>\n</div>"
     },
     "execution_count": 5,
     "metadata": {},
     "output_type": "execute_result"
    }
   ],
   "source": [
    "df.loc[:, ['Graph', 'Model', 'Nodes', 'Info']]"
   ],
   "metadata": {
    "collapsed": false,
    "ExecuteTime": {
     "start_time": "2023-06-01T15:00:22.568281Z",
     "end_time": "2023-06-01T15:00:22.611603Z"
    }
   }
  },
  {
   "cell_type": "code",
   "execution_count": 6,
   "outputs": [
    {
     "data": {
      "text/plain": "Graph                                      socfb-Bowdoin47\nModel                              1d-copyweight-cube-girg\nNodes                                                 2243\nInfo     {'tau': 5.797840767000196, 'alpha': 1.09476565...\nName: 9, dtype: object"
     },
     "execution_count": 6,
     "metadata": {},
     "output_type": "execute_result"
    },
    {
     "data": {
      "text/plain": "{'tau': 5.797840767000196,\n 'alpha': 1.0947656517276771,\n 'const': 0.11939518368292491,\n 'target_lcc': 0.28897574490701855,\n 'fit_lcc': 0.29376812075291797,\n 'fitting_time': 81.9191346168518,\n 'hist': [(2.0, 0.5944249910922444),\n  (1.342281879194631, 0.40879751248348356),\n  (1.1527377521613833, 0.3161498390854848),\n  (1.0767160161507403, 0.2740373351992736),\n  (1.1134307585247043, 0.298470081274688),\n  (1.0947656517276771, 0.2923941983974179),\n  (1.0856658184902461, 0.28551955863312123),\n  (1.0947656517276771, 0.2923941983974179)]}"
     },
     "execution_count": 6,
     "metadata": {},
     "output_type": "execute_result"
    }
   ],
   "source": [
    "df.iloc[9][['Graph', 'Model', 'Nodes', 'Info']]\n",
    "df.iloc[9].Info\n",
    "alpha, const = df.iloc[9].Info['alpha'], df.iloc[9].Info['const']"
   ],
   "metadata": {
    "collapsed": false,
    "ExecuteTime": {
     "start_time": "2023-06-01T15:00:22.623697Z",
     "end_time": "2023-06-01T15:00:22.688220Z"
    }
   }
  },
  {
   "cell_type": "code",
   "execution_count": 7,
   "outputs": [
    {
     "data": {
      "text/plain": "<module 'tests.test_mcmc' from '../tests/test_mcmc.py'>"
     },
     "execution_count": 7,
     "metadata": {},
     "output_type": "execute_result"
    }
   ],
   "source": [
    "from tests import test_mcmc\n",
    "from tests.test_mcmc import *\n",
    "import importlib\n",
    "importlib.reload(test_mcmc)"
   ],
   "metadata": {
    "collapsed": false,
    "ExecuteTime": {
     "start_time": "2023-06-01T15:00:22.680428Z",
     "end_time": "2023-06-01T15:00:22.778003Z"
    }
   }
  },
  {
   "cell_type": "code",
   "execution_count": 8,
   "outputs": [
    {
     "data": {
      "text/plain": "'/cluster/scratch/bdayan/GIRG_data/socfb-Bowdoin47.SpaceOne'"
     },
     "execution_count": 8,
     "metadata": {},
     "output_type": "execute_result"
    },
    {
     "name": "stdout",
     "output_type": "stream",
     "text": [
      "Network Properties:\n",
      "nodes, edges\t\t\t2250, 84386\n",
      "directed?\t\t\tFalse\n",
      "weighted?\t\t\tFalse\n",
      "isolated nodes\t\t\t0\n",
      "self-loops\t\t\t0\n",
      "density\t\t\t\t0.033353\n",
      "clustering coefficient\t\t0.288976\n",
      "min/max/avg degree\t\t1, 670, 75.009778\n",
      "degree assortativity\t\t0.056431\n",
      "number of connected components\t1\n",
      "size of largest component\t2250 (100.00 %)\n"
     ]
    }
   ],
   "source": [
    "gd = list(filter(lambda x: x['Name'] == 'socfb-Bowdoin47', do_feature_extract.graph_dicts))[0]\n",
    "in_path = gd['FullPath']\n",
    "in_path\n",
    "name = gd['Name']\n",
    "g = networkit.readGraph(in_path, networkit.Format.EdgeListSpaceOne)\n",
    "g = utils.get_largest_component(g)\n",
    "nk.overview(g)\n",
    "n = g.numberOfNodes()"
   ],
   "metadata": {
    "collapsed": false,
    "ExecuteTime": {
     "start_time": "2023-06-01T15:00:22.764270Z",
     "end_time": "2023-06-01T15:00:22.855066Z"
    }
   }
  },
  {
   "cell_type": "code",
   "execution_count": 9,
   "outputs": [
    {
     "name": "stderr",
     "output_type": "stream",
     "text": [
      "/cluster/apps/nss/gcc-6.3.0/python/3.8.5/x86_64/lib64/python3.8/multiprocessing/sharedctypes.py:67: ComplexWarning: Casting complex values to real discards the imaginary part\n",
      "  result.__init__(*size_or_initializer)\n",
      "../benji_girgs/generation.py:78: RuntimeWarning: divide by zero encountered in true_divide\n",
      "  p_uv = np.divide(wuwv, dists**d)\n"
     ]
    }
   ],
   "source": [
    "g, A, weights, const, pts_diffmap, pts_init, MC, MC_init = test_mcmc.test_diffmap_on_g(g, alpha=alpha, const=const)"
   ],
   "metadata": {
    "collapsed": false,
    "ExecuteTime": {
     "start_time": "2023-06-01T15:00:23.753828Z",
     "end_time": "2023-06-01T15:00:27.819504Z"
    }
   }
  },
  {
   "cell_type": "code",
   "execution_count": 10,
   "outputs": [
    {
     "name": "stdout",
     "output_type": "stream",
     "text": [
      "const_in: 0.17931646322859224\n"
     ]
    },
    {
     "name": "stderr",
     "output_type": "stream",
     "text": [
      "../benji_girgs/generation.py:65: RuntimeWarning: divide by zero encountered in true_divide\n",
      "  p_uv = np.divide(outer, dists**d)\n",
      "../benji_girgs/generation.py:442: RuntimeWarning: divide by zero encountered in true_divide\n",
      "  puv = np.stack([np.ones(original_edge_dists.shape), const_in * ((wu * wv / W) / original_edge_dists ** d) ** alpha]).min(axis=0)\n",
      "../benji_girgs/generation.py:443: RuntimeWarning: divide by zero encountered in true_divide\n",
      "  puv_cube = np.stack([np.ones(cube_edge_dists.shape), const_in * ((wu * wv / W) / cube_edge_dists ** d) ** alpha]).min(axis=0)\n"
     ]
    },
    {
     "name": "stdout",
     "output_type": "stream",
     "text": [
      "const_in: 0.17931646322859224\n"
     ]
    }
   ],
   "source": [
    "g_dm, A_dm = test_mcmc.MC_to_g_A(MC)\n",
    "g_init, A_init = test_mcmc.MC_to_g_A(MC_init)"
   ],
   "metadata": {
    "collapsed": false,
    "ExecuteTime": {
     "start_time": "2023-06-01T15:00:27.860051Z",
     "end_time": "2023-06-01T15:00:42.011238Z"
    }
   }
  },
  {
   "cell_type": "code",
   "execution_count": 11,
   "outputs": [
    {
     "name": "stdout",
     "output_type": "stream",
     "text": [
      "Network Properties:\n",
      "nodes, edges\t\t\t2250, 1630204\n",
      "directed?\t\t\tFalse\n",
      "weighted?\t\t\tFalse\n",
      "isolated nodes\t\t\t4\n",
      "self-loops\t\t\t0\n",
      "density\t\t\t\t0.644318\n",
      "clustering coefficient\t\t0.849728\n",
      "min/max/avg degree\t\t0, 2157, 1449.070222\n",
      "degree assortativity\t\t0.048766\n",
      "number of connected components\t6\n",
      "size of largest component\t2244 (99.73 %)\n",
      "Network Properties:\n",
      "nodes, edges\t\t\t2250, 73627\n",
      "directed?\t\t\tFalse\n",
      "weighted?\t\t\tFalse\n",
      "isolated nodes\t\t\t13\n",
      "self-loops\t\t\t0\n",
      "density\t\t\t\t0.029100\n",
      "clustering coefficient\t\t0.330075\n",
      "min/max/avg degree\t\t0, 416, 65.446222\n",
      "degree assortativity\t\t-0.008450\n",
      "number of connected components\t14\n",
      "size of largest component\t2237 (99.42 %)\n"
     ]
    }
   ],
   "source": [
    "nk.overview(g_dm)\n",
    "nk.overview(g_init)"
   ],
   "metadata": {
    "collapsed": false,
    "ExecuteTime": {
     "start_time": "2023-06-01T15:00:42.027665Z",
     "end_time": "2023-06-01T15:00:43.953128Z"
    }
   }
  },
  {
   "cell_type": "code",
   "execution_count": 12,
   "outputs": [
    {
     "data": {
      "text/plain": "array([[0.03202844, 0.00130923],\n       [0.61200277, 0.35465956]])"
     },
     "execution_count": 12,
     "metadata": {},
     "output_type": "execute_result"
    },
    {
     "data": {
      "text/plain": "array([[0.96072808, 0.03927192],\n       [0.63310916, 0.36689084]])"
     },
     "execution_count": 12,
     "metadata": {},
     "output_type": "execute_result"
    },
    {
     "name": "stdout",
     "output_type": "stream",
     "text": [
      "============\n"
     ]
    },
    {
     "data": {
      "text/plain": "array([[0.00215743, 0.03118025],\n       [0.02692978, 0.93973254]])"
     },
     "execution_count": 12,
     "metadata": {},
     "output_type": "execute_result"
    },
    {
     "data": {
      "text/plain": "array([[0.06471453, 0.93528547],\n       [0.02785852, 0.97214148]])"
     },
     "execution_count": 12,
     "metadata": {},
     "output_type": "execute_result"
    },
    {
     "data": {
      "text/plain": "':)'"
     },
     "execution_count": 12,
     "metadata": {},
     "output_type": "execute_result"
    }
   ],
   "source": [
    "CM = test_mcmc.quick_acc(A, A_dm)\n",
    "CM\n",
    "test_mcmc.quick_summarise_CM(CM)\n",
    "print('============')\n",
    "CM = test_mcmc.quick_acc(A, A_init)\n",
    "CM\n",
    "test_mcmc.quick_summarise_CM(CM)\n",
    "':)'"
   ],
   "metadata": {
    "collapsed": false,
    "ExecuteTime": {
     "start_time": "2023-06-01T15:00:51.499416Z",
     "end_time": "2023-06-01T15:00:51.692107Z"
    }
   }
  },
  {
   "cell_type": "code",
   "execution_count": 13,
   "outputs": [
    {
     "data": {
      "text/plain": "<IPython.core.display.Javascript object>",
      "application/javascript": "/* Put everything inside the global mpl namespace */\n/* global mpl */\nwindow.mpl = {};\n\nmpl.get_websocket_type = function () {\n    if (typeof WebSocket !== 'undefined') {\n        return WebSocket;\n    } else if (typeof MozWebSocket !== 'undefined') {\n        return MozWebSocket;\n    } else {\n        alert(\n            'Your browser does not have WebSocket support. ' +\n                'Please try Chrome, Safari or Firefox ≥ 6. ' +\n                'Firefox 4 and 5 are also supported but you ' +\n                'have to enable WebSockets in about:config.'\n        );\n    }\n};\n\nmpl.figure = function (figure_id, websocket, ondownload, parent_element) {\n    this.id = figure_id;\n\n    this.ws = websocket;\n\n    this.supports_binary = this.ws.binaryType !== undefined;\n\n    if (!this.supports_binary) {\n        var warnings = document.getElementById('mpl-warnings');\n        if (warnings) {\n            warnings.style.display = 'block';\n            warnings.textContent =\n                'This browser does not support binary websocket messages. ' +\n                'Performance may be slow.';\n        }\n    }\n\n    this.imageObj = new Image();\n\n    this.context = undefined;\n    this.message = undefined;\n    this.canvas = undefined;\n    this.rubberband_canvas = undefined;\n    this.rubberband_context = undefined;\n    this.format_dropdown = undefined;\n\n    this.image_mode = 'full';\n\n    this.root = document.createElement('div');\n    this.root.setAttribute('style', 'display: inline-block');\n    this._root_extra_style(this.root);\n\n    parent_element.appendChild(this.root);\n\n    this._init_header(this);\n    this._init_canvas(this);\n    this._init_toolbar(this);\n\n    var fig = this;\n\n    this.waiting = false;\n\n    this.ws.onopen = function () {\n        fig.send_message('supports_binary', { value: fig.supports_binary });\n        fig.send_message('send_image_mode', {});\n        if (fig.ratio !== 1) {\n            fig.send_message('set_device_pixel_ratio', {\n                device_pixel_ratio: fig.ratio,\n            });\n        }\n        fig.send_message('refresh', {});\n    };\n\n    this.imageObj.onload = function () {\n        if (fig.image_mode === 'full') {\n            // Full images could contain transparency (where diff images\n            // almost always do), so we need to clear the canvas so that\n            // there is no ghosting.\n            fig.context.clearRect(0, 0, fig.canvas.width, fig.canvas.height);\n        }\n        fig.context.drawImage(fig.imageObj, 0, 0);\n    };\n\n    this.imageObj.onunload = function () {\n        fig.ws.close();\n    };\n\n    this.ws.onmessage = this._make_on_message_function(this);\n\n    this.ondownload = ondownload;\n};\n\nmpl.figure.prototype._init_header = function () {\n    var titlebar = document.createElement('div');\n    titlebar.classList =\n        'ui-dialog-titlebar ui-widget-header ui-corner-all ui-helper-clearfix';\n    var titletext = document.createElement('div');\n    titletext.classList = 'ui-dialog-title';\n    titletext.setAttribute(\n        'style',\n        'width: 100%; text-align: center; padding: 3px;'\n    );\n    titlebar.appendChild(titletext);\n    this.root.appendChild(titlebar);\n    this.header = titletext;\n};\n\nmpl.figure.prototype._canvas_extra_style = function (_canvas_div) {};\n\nmpl.figure.prototype._root_extra_style = function (_canvas_div) {};\n\nmpl.figure.prototype._init_canvas = function () {\n    var fig = this;\n\n    var canvas_div = (this.canvas_div = document.createElement('div'));\n    canvas_div.setAttribute(\n        'style',\n        'border: 1px solid #ddd;' +\n            'box-sizing: content-box;' +\n            'clear: both;' +\n            'min-height: 1px;' +\n            'min-width: 1px;' +\n            'outline: 0;' +\n            'overflow: hidden;' +\n            'position: relative;' +\n            'resize: both;'\n    );\n\n    function on_keyboard_event_closure(name) {\n        return function (event) {\n            return fig.key_event(event, name);\n        };\n    }\n\n    canvas_div.addEventListener(\n        'keydown',\n        on_keyboard_event_closure('key_press')\n    );\n    canvas_div.addEventListener(\n        'keyup',\n        on_keyboard_event_closure('key_release')\n    );\n\n    this._canvas_extra_style(canvas_div);\n    this.root.appendChild(canvas_div);\n\n    var canvas = (this.canvas = document.createElement('canvas'));\n    canvas.classList.add('mpl-canvas');\n    canvas.setAttribute('style', 'box-sizing: content-box;');\n\n    this.context = canvas.getContext('2d');\n\n    var backingStore =\n        this.context.backingStorePixelRatio ||\n        this.context.webkitBackingStorePixelRatio ||\n        this.context.mozBackingStorePixelRatio ||\n        this.context.msBackingStorePixelRatio ||\n        this.context.oBackingStorePixelRatio ||\n        this.context.backingStorePixelRatio ||\n        1;\n\n    this.ratio = (window.devicePixelRatio || 1) / backingStore;\n\n    var rubberband_canvas = (this.rubberband_canvas = document.createElement(\n        'canvas'\n    ));\n    rubberband_canvas.setAttribute(\n        'style',\n        'box-sizing: content-box; position: absolute; left: 0; top: 0; z-index: 1;'\n    );\n\n    // Apply a ponyfill if ResizeObserver is not implemented by browser.\n    if (this.ResizeObserver === undefined) {\n        if (window.ResizeObserver !== undefined) {\n            this.ResizeObserver = window.ResizeObserver;\n        } else {\n            var obs = _JSXTOOLS_RESIZE_OBSERVER({});\n            this.ResizeObserver = obs.ResizeObserver;\n        }\n    }\n\n    this.resizeObserverInstance = new this.ResizeObserver(function (entries) {\n        var nentries = entries.length;\n        for (var i = 0; i < nentries; i++) {\n            var entry = entries[i];\n            var width, height;\n            if (entry.contentBoxSize) {\n                if (entry.contentBoxSize instanceof Array) {\n                    // Chrome 84 implements new version of spec.\n                    width = entry.contentBoxSize[0].inlineSize;\n                    height = entry.contentBoxSize[0].blockSize;\n                } else {\n                    // Firefox implements old version of spec.\n                    width = entry.contentBoxSize.inlineSize;\n                    height = entry.contentBoxSize.blockSize;\n                }\n            } else {\n                // Chrome <84 implements even older version of spec.\n                width = entry.contentRect.width;\n                height = entry.contentRect.height;\n            }\n\n            // Keep the size of the canvas and rubber band canvas in sync with\n            // the canvas container.\n            if (entry.devicePixelContentBoxSize) {\n                // Chrome 84 implements new version of spec.\n                canvas.setAttribute(\n                    'width',\n                    entry.devicePixelContentBoxSize[0].inlineSize\n                );\n                canvas.setAttribute(\n                    'height',\n                    entry.devicePixelContentBoxSize[0].blockSize\n                );\n            } else {\n                canvas.setAttribute('width', width * fig.ratio);\n                canvas.setAttribute('height', height * fig.ratio);\n            }\n            canvas.setAttribute(\n                'style',\n                'width: ' + width + 'px; height: ' + height + 'px;'\n            );\n\n            rubberband_canvas.setAttribute('width', width);\n            rubberband_canvas.setAttribute('height', height);\n\n            // And update the size in Python. We ignore the initial 0/0 size\n            // that occurs as the element is placed into the DOM, which should\n            // otherwise not happen due to the minimum size styling.\n            if (fig.ws.readyState == 1 && width != 0 && height != 0) {\n                fig.request_resize(width, height);\n            }\n        }\n    });\n    this.resizeObserverInstance.observe(canvas_div);\n\n    function on_mouse_event_closure(name) {\n        return function (event) {\n            return fig.mouse_event(event, name);\n        };\n    }\n\n    rubberband_canvas.addEventListener(\n        'mousedown',\n        on_mouse_event_closure('button_press')\n    );\n    rubberband_canvas.addEventListener(\n        'mouseup',\n        on_mouse_event_closure('button_release')\n    );\n    rubberband_canvas.addEventListener(\n        'dblclick',\n        on_mouse_event_closure('dblclick')\n    );\n    // Throttle sequential mouse events to 1 every 20ms.\n    rubberband_canvas.addEventListener(\n        'mousemove',\n        on_mouse_event_closure('motion_notify')\n    );\n\n    rubberband_canvas.addEventListener(\n        'mouseenter',\n        on_mouse_event_closure('figure_enter')\n    );\n    rubberband_canvas.addEventListener(\n        'mouseleave',\n        on_mouse_event_closure('figure_leave')\n    );\n\n    canvas_div.addEventListener('wheel', function (event) {\n        if (event.deltaY < 0) {\n            event.step = 1;\n        } else {\n            event.step = -1;\n        }\n        on_mouse_event_closure('scroll')(event);\n    });\n\n    canvas_div.appendChild(canvas);\n    canvas_div.appendChild(rubberband_canvas);\n\n    this.rubberband_context = rubberband_canvas.getContext('2d');\n    this.rubberband_context.strokeStyle = '#000000';\n\n    this._resize_canvas = function (width, height, forward) {\n        if (forward) {\n            canvas_div.style.width = width + 'px';\n            canvas_div.style.height = height + 'px';\n        }\n    };\n\n    // Disable right mouse context menu.\n    this.rubberband_canvas.addEventListener('contextmenu', function (_e) {\n        event.preventDefault();\n        return false;\n    });\n\n    function set_focus() {\n        canvas.focus();\n        canvas_div.focus();\n    }\n\n    window.setTimeout(set_focus, 100);\n};\n\nmpl.figure.prototype._init_toolbar = function () {\n    var fig = this;\n\n    var toolbar = document.createElement('div');\n    toolbar.classList = 'mpl-toolbar';\n    this.root.appendChild(toolbar);\n\n    function on_click_closure(name) {\n        return function (_event) {\n            return fig.toolbar_button_onclick(name);\n        };\n    }\n\n    function on_mouseover_closure(tooltip) {\n        return function (event) {\n            if (!event.currentTarget.disabled) {\n                return fig.toolbar_button_onmouseover(tooltip);\n            }\n        };\n    }\n\n    fig.buttons = {};\n    var buttonGroup = document.createElement('div');\n    buttonGroup.classList = 'mpl-button-group';\n    for (var toolbar_ind in mpl.toolbar_items) {\n        var name = mpl.toolbar_items[toolbar_ind][0];\n        var tooltip = mpl.toolbar_items[toolbar_ind][1];\n        var image = mpl.toolbar_items[toolbar_ind][2];\n        var method_name = mpl.toolbar_items[toolbar_ind][3];\n\n        if (!name) {\n            /* Instead of a spacer, we start a new button group. */\n            if (buttonGroup.hasChildNodes()) {\n                toolbar.appendChild(buttonGroup);\n            }\n            buttonGroup = document.createElement('div');\n            buttonGroup.classList = 'mpl-button-group';\n            continue;\n        }\n\n        var button = (fig.buttons[name] = document.createElement('button'));\n        button.classList = 'mpl-widget';\n        button.setAttribute('role', 'button');\n        button.setAttribute('aria-disabled', 'false');\n        button.addEventListener('click', on_click_closure(method_name));\n        button.addEventListener('mouseover', on_mouseover_closure(tooltip));\n\n        var icon_img = document.createElement('img');\n        icon_img.src = '_images/' + image + '.png';\n        icon_img.srcset = '_images/' + image + '_large.png 2x';\n        icon_img.alt = tooltip;\n        button.appendChild(icon_img);\n\n        buttonGroup.appendChild(button);\n    }\n\n    if (buttonGroup.hasChildNodes()) {\n        toolbar.appendChild(buttonGroup);\n    }\n\n    var fmt_picker = document.createElement('select');\n    fmt_picker.classList = 'mpl-widget';\n    toolbar.appendChild(fmt_picker);\n    this.format_dropdown = fmt_picker;\n\n    for (var ind in mpl.extensions) {\n        var fmt = mpl.extensions[ind];\n        var option = document.createElement('option');\n        option.selected = fmt === mpl.default_extension;\n        option.innerHTML = fmt;\n        fmt_picker.appendChild(option);\n    }\n\n    var status_bar = document.createElement('span');\n    status_bar.classList = 'mpl-message';\n    toolbar.appendChild(status_bar);\n    this.message = status_bar;\n};\n\nmpl.figure.prototype.request_resize = function (x_pixels, y_pixels) {\n    // Request matplotlib to resize the figure. Matplotlib will then trigger a resize in the client,\n    // which will in turn request a refresh of the image.\n    this.send_message('resize', { width: x_pixels, height: y_pixels });\n};\n\nmpl.figure.prototype.send_message = function (type, properties) {\n    properties['type'] = type;\n    properties['figure_id'] = this.id;\n    this.ws.send(JSON.stringify(properties));\n};\n\nmpl.figure.prototype.send_draw_message = function () {\n    if (!this.waiting) {\n        this.waiting = true;\n        this.ws.send(JSON.stringify({ type: 'draw', figure_id: this.id }));\n    }\n};\n\nmpl.figure.prototype.handle_save = function (fig, _msg) {\n    var format_dropdown = fig.format_dropdown;\n    var format = format_dropdown.options[format_dropdown.selectedIndex].value;\n    fig.ondownload(fig, format);\n};\n\nmpl.figure.prototype.handle_resize = function (fig, msg) {\n    var size = msg['size'];\n    if (size[0] !== fig.canvas.width || size[1] !== fig.canvas.height) {\n        fig._resize_canvas(size[0], size[1], msg['forward']);\n        fig.send_message('refresh', {});\n    }\n};\n\nmpl.figure.prototype.handle_rubberband = function (fig, msg) {\n    var x0 = msg['x0'] / fig.ratio;\n    var y0 = (fig.canvas.height - msg['y0']) / fig.ratio;\n    var x1 = msg['x1'] / fig.ratio;\n    var y1 = (fig.canvas.height - msg['y1']) / fig.ratio;\n    x0 = Math.floor(x0) + 0.5;\n    y0 = Math.floor(y0) + 0.5;\n    x1 = Math.floor(x1) + 0.5;\n    y1 = Math.floor(y1) + 0.5;\n    var min_x = Math.min(x0, x1);\n    var min_y = Math.min(y0, y1);\n    var width = Math.abs(x1 - x0);\n    var height = Math.abs(y1 - y0);\n\n    fig.rubberband_context.clearRect(\n        0,\n        0,\n        fig.canvas.width / fig.ratio,\n        fig.canvas.height / fig.ratio\n    );\n\n    fig.rubberband_context.strokeRect(min_x, min_y, width, height);\n};\n\nmpl.figure.prototype.handle_figure_label = function (fig, msg) {\n    // Updates the figure title.\n    fig.header.textContent = msg['label'];\n};\n\nmpl.figure.prototype.handle_cursor = function (fig, msg) {\n    fig.rubberband_canvas.style.cursor = msg['cursor'];\n};\n\nmpl.figure.prototype.handle_message = function (fig, msg) {\n    fig.message.textContent = msg['message'];\n};\n\nmpl.figure.prototype.handle_draw = function (fig, _msg) {\n    // Request the server to send over a new figure.\n    fig.send_draw_message();\n};\n\nmpl.figure.prototype.handle_image_mode = function (fig, msg) {\n    fig.image_mode = msg['mode'];\n};\n\nmpl.figure.prototype.handle_history_buttons = function (fig, msg) {\n    for (var key in msg) {\n        if (!(key in fig.buttons)) {\n            continue;\n        }\n        fig.buttons[key].disabled = !msg[key];\n        fig.buttons[key].setAttribute('aria-disabled', !msg[key]);\n    }\n};\n\nmpl.figure.prototype.handle_navigate_mode = function (fig, msg) {\n    if (msg['mode'] === 'PAN') {\n        fig.buttons['Pan'].classList.add('active');\n        fig.buttons['Zoom'].classList.remove('active');\n    } else if (msg['mode'] === 'ZOOM') {\n        fig.buttons['Pan'].classList.remove('active');\n        fig.buttons['Zoom'].classList.add('active');\n    } else {\n        fig.buttons['Pan'].classList.remove('active');\n        fig.buttons['Zoom'].classList.remove('active');\n    }\n};\n\nmpl.figure.prototype.updated_canvas_event = function () {\n    // Called whenever the canvas gets updated.\n    this.send_message('ack', {});\n};\n\n// A function to construct a web socket function for onmessage handling.\n// Called in the figure constructor.\nmpl.figure.prototype._make_on_message_function = function (fig) {\n    return function socket_on_message(evt) {\n        if (evt.data instanceof Blob) {\n            var img = evt.data;\n            if (img.type !== 'image/png') {\n                /* FIXME: We get \"Resource interpreted as Image but\n                 * transferred with MIME type text/plain:\" errors on\n                 * Chrome.  But how to set the MIME type?  It doesn't seem\n                 * to be part of the websocket stream */\n                img.type = 'image/png';\n            }\n\n            /* Free the memory for the previous frames */\n            if (fig.imageObj.src) {\n                (window.URL || window.webkitURL).revokeObjectURL(\n                    fig.imageObj.src\n                );\n            }\n\n            fig.imageObj.src = (window.URL || window.webkitURL).createObjectURL(\n                img\n            );\n            fig.updated_canvas_event();\n            fig.waiting = false;\n            return;\n        } else if (\n            typeof evt.data === 'string' &&\n            evt.data.slice(0, 21) === 'data:image/png;base64'\n        ) {\n            fig.imageObj.src = evt.data;\n            fig.updated_canvas_event();\n            fig.waiting = false;\n            return;\n        }\n\n        var msg = JSON.parse(evt.data);\n        var msg_type = msg['type'];\n\n        // Call the  \"handle_{type}\" callback, which takes\n        // the figure and JSON message as its only arguments.\n        try {\n            var callback = fig['handle_' + msg_type];\n        } catch (e) {\n            console.log(\n                \"No handler for the '\" + msg_type + \"' message type: \",\n                msg\n            );\n            return;\n        }\n\n        if (callback) {\n            try {\n                // console.log(\"Handling '\" + msg_type + \"' message: \", msg);\n                callback(fig, msg);\n            } catch (e) {\n                console.log(\n                    \"Exception inside the 'handler_\" + msg_type + \"' callback:\",\n                    e,\n                    e.stack,\n                    msg\n                );\n            }\n        }\n    };\n};\n\n// from https://stackoverflow.com/questions/1114465/getting-mouse-location-in-canvas\nmpl.findpos = function (e) {\n    //this section is from http://www.quirksmode.org/js/events_properties.html\n    var targ;\n    if (!e) {\n        e = window.event;\n    }\n    if (e.target) {\n        targ = e.target;\n    } else if (e.srcElement) {\n        targ = e.srcElement;\n    }\n    if (targ.nodeType === 3) {\n        // defeat Safari bug\n        targ = targ.parentNode;\n    }\n\n    // pageX,Y are the mouse positions relative to the document\n    var boundingRect = targ.getBoundingClientRect();\n    var x = e.pageX - (boundingRect.left + document.body.scrollLeft);\n    var y = e.pageY - (boundingRect.top + document.body.scrollTop);\n\n    return { x: x, y: y };\n};\n\n/*\n * return a copy of an object with only non-object keys\n * we need this to avoid circular references\n * https://stackoverflow.com/a/24161582/3208463\n */\nfunction simpleKeys(original) {\n    return Object.keys(original).reduce(function (obj, key) {\n        if (typeof original[key] !== 'object') {\n            obj[key] = original[key];\n        }\n        return obj;\n    }, {});\n}\n\nmpl.figure.prototype.mouse_event = function (event, name) {\n    var canvas_pos = mpl.findpos(event);\n\n    if (name === 'button_press') {\n        this.canvas.focus();\n        this.canvas_div.focus();\n    }\n\n    var x = canvas_pos.x * this.ratio;\n    var y = canvas_pos.y * this.ratio;\n\n    this.send_message(name, {\n        x: x,\n        y: y,\n        button: event.button,\n        step: event.step,\n        guiEvent: simpleKeys(event),\n    });\n\n    /* This prevents the web browser from automatically changing to\n     * the text insertion cursor when the button is pressed.  We want\n     * to control all of the cursor setting manually through the\n     * 'cursor' event from matplotlib */\n    event.preventDefault();\n    return false;\n};\n\nmpl.figure.prototype._key_event_extra = function (_event, _name) {\n    // Handle any extra behaviour associated with a key event\n};\n\nmpl.figure.prototype.key_event = function (event, name) {\n    // Prevent repeat events\n    if (name === 'key_press') {\n        if (event.key === this._key) {\n            return;\n        } else {\n            this._key = event.key;\n        }\n    }\n    if (name === 'key_release') {\n        this._key = null;\n    }\n\n    var value = '';\n    if (event.ctrlKey && event.key !== 'Control') {\n        value += 'ctrl+';\n    }\n    else if (event.altKey && event.key !== 'Alt') {\n        value += 'alt+';\n    }\n    else if (event.shiftKey && event.key !== 'Shift') {\n        value += 'shift+';\n    }\n\n    value += 'k' + event.key;\n\n    this._key_event_extra(event, name);\n\n    this.send_message(name, { key: value, guiEvent: simpleKeys(event) });\n    return false;\n};\n\nmpl.figure.prototype.toolbar_button_onclick = function (name) {\n    if (name === 'download') {\n        this.handle_save(this, null);\n    } else {\n        this.send_message('toolbar_button', { name: name });\n    }\n};\n\nmpl.figure.prototype.toolbar_button_onmouseover = function (tooltip) {\n    this.message.textContent = tooltip;\n};\n\n///////////////// REMAINING CONTENT GENERATED BY embed_js.py /////////////////\n// prettier-ignore\nvar _JSXTOOLS_RESIZE_OBSERVER=function(A){var t,i=new WeakMap,n=new WeakMap,a=new WeakMap,r=new WeakMap,o=new Set;function s(e){if(!(this instanceof s))throw new TypeError(\"Constructor requires 'new' operator\");i.set(this,e)}function h(){throw new TypeError(\"Function is not a constructor\")}function c(e,t,i,n){e=0 in arguments?Number(arguments[0]):0,t=1 in arguments?Number(arguments[1]):0,i=2 in arguments?Number(arguments[2]):0,n=3 in arguments?Number(arguments[3]):0,this.right=(this.x=this.left=e)+(this.width=i),this.bottom=(this.y=this.top=t)+(this.height=n),Object.freeze(this)}function d(){t=requestAnimationFrame(d);var s=new WeakMap,p=new Set;o.forEach((function(t){r.get(t).forEach((function(i){var r=t instanceof window.SVGElement,o=a.get(t),d=r?0:parseFloat(o.paddingTop),f=r?0:parseFloat(o.paddingRight),l=r?0:parseFloat(o.paddingBottom),u=r?0:parseFloat(o.paddingLeft),g=r?0:parseFloat(o.borderTopWidth),m=r?0:parseFloat(o.borderRightWidth),w=r?0:parseFloat(o.borderBottomWidth),b=u+f,F=d+l,v=(r?0:parseFloat(o.borderLeftWidth))+m,W=g+w,y=r?0:t.offsetHeight-W-t.clientHeight,E=r?0:t.offsetWidth-v-t.clientWidth,R=b+v,z=F+W,M=r?t.width:parseFloat(o.width)-R-E,O=r?t.height:parseFloat(o.height)-z-y;if(n.has(t)){var k=n.get(t);if(k[0]===M&&k[1]===O)return}n.set(t,[M,O]);var S=Object.create(h.prototype);S.target=t,S.contentRect=new c(u,d,M,O),s.has(i)||(s.set(i,[]),p.add(i)),s.get(i).push(S)}))})),p.forEach((function(e){i.get(e).call(e,s.get(e),e)}))}return s.prototype.observe=function(i){if(i instanceof window.Element){r.has(i)||(r.set(i,new Set),o.add(i),a.set(i,window.getComputedStyle(i)));var n=r.get(i);n.has(this)||n.add(this),cancelAnimationFrame(t),t=requestAnimationFrame(d)}},s.prototype.unobserve=function(i){if(i instanceof window.Element&&r.has(i)){var n=r.get(i);n.has(this)&&(n.delete(this),n.size||(r.delete(i),o.delete(i))),n.size||r.delete(i),o.size||cancelAnimationFrame(t)}},A.DOMRectReadOnly=c,A.ResizeObserver=s,A.ResizeObserverEntry=h,A}; // eslint-disable-line\nmpl.toolbar_items = [[\"Home\", \"Reset original view\", \"fa fa-home\", \"home\"], [\"Back\", \"Back to previous view\", \"fa fa-arrow-left\", \"back\"], [\"Forward\", \"Forward to next view\", \"fa fa-arrow-right\", \"forward\"], [\"\", \"\", \"\", \"\"], [\"Pan\", \"Left button pans, Right button zooms\\nx/y fixes axis, CTRL fixes aspect\", \"fa fa-arrows\", \"pan\"], [\"Zoom\", \"Zoom to rectangle\\nx/y fixes axis\", \"fa fa-square-o\", \"zoom\"], [\"\", \"\", \"\", \"\"], [\"Download\", \"Download plot\", \"fa fa-floppy-o\", \"download\"]];\n\nmpl.extensions = [\"eps\", \"jpeg\", \"pgf\", \"pdf\", \"png\", \"ps\", \"raw\", \"svg\", \"tif\", \"webp\"];\n\nmpl.default_extension = \"png\";/* global mpl */\n\nvar comm_websocket_adapter = function (comm) {\n    // Create a \"websocket\"-like object which calls the given IPython comm\n    // object with the appropriate methods. Currently this is a non binary\n    // socket, so there is still some room for performance tuning.\n    var ws = {};\n\n    ws.binaryType = comm.kernel.ws.binaryType;\n    ws.readyState = comm.kernel.ws.readyState;\n    function updateReadyState(_event) {\n        if (comm.kernel.ws) {\n            ws.readyState = comm.kernel.ws.readyState;\n        } else {\n            ws.readyState = 3; // Closed state.\n        }\n    }\n    comm.kernel.ws.addEventListener('open', updateReadyState);\n    comm.kernel.ws.addEventListener('close', updateReadyState);\n    comm.kernel.ws.addEventListener('error', updateReadyState);\n\n    ws.close = function () {\n        comm.close();\n    };\n    ws.send = function (m) {\n        //console.log('sending', m);\n        comm.send(m);\n    };\n    // Register the callback with on_msg.\n    comm.on_msg(function (msg) {\n        //console.log('receiving', msg['content']['data'], msg);\n        var data = msg['content']['data'];\n        if (data['blob'] !== undefined) {\n            data = {\n                data: new Blob(msg['buffers'], { type: data['blob'] }),\n            };\n        }\n        // Pass the mpl event to the overridden (by mpl) onmessage function.\n        ws.onmessage(data);\n    });\n    return ws;\n};\n\nmpl.mpl_figure_comm = function (comm, msg) {\n    // This is the function which gets called when the mpl process\n    // starts-up an IPython Comm through the \"matplotlib\" channel.\n\n    var id = msg.content.data.id;\n    // Get hold of the div created by the display call when the Comm\n    // socket was opened in Python.\n    var element = document.getElementById(id);\n    var ws_proxy = comm_websocket_adapter(comm);\n\n    function ondownload(figure, _format) {\n        window.open(figure.canvas.toDataURL());\n    }\n\n    var fig = new mpl.figure(id, ws_proxy, ondownload, element);\n\n    // Call onopen now - mpl needs it, as it is assuming we've passed it a real\n    // web socket which is closed, not our websocket->open comm proxy.\n    ws_proxy.onopen();\n\n    fig.parent_element = element;\n    fig.cell_info = mpl.find_output_cell(\"<div id='\" + id + \"'></div>\");\n    if (!fig.cell_info) {\n        console.error('Failed to find cell for figure', id, fig);\n        return;\n    }\n    fig.cell_info[0].output_area.element.on(\n        'cleared',\n        { fig: fig },\n        fig._remove_fig_handler\n    );\n};\n\nmpl.figure.prototype.handle_close = function (fig, msg) {\n    var width = fig.canvas.width / fig.ratio;\n    fig.cell_info[0].output_area.element.off(\n        'cleared',\n        fig._remove_fig_handler\n    );\n    fig.resizeObserverInstance.unobserve(fig.canvas_div);\n\n    // Update the output cell to use the data from the current canvas.\n    fig.push_to_output();\n    var dataURL = fig.canvas.toDataURL();\n    // Re-enable the keyboard manager in IPython - without this line, in FF,\n    // the notebook keyboard shortcuts fail.\n    IPython.keyboard_manager.enable();\n    fig.parent_element.innerHTML =\n        '<img src=\"' + dataURL + '\" width=\"' + width + '\">';\n    fig.close_ws(fig, msg);\n};\n\nmpl.figure.prototype.close_ws = function (fig, msg) {\n    fig.send_message('closing', msg);\n    // fig.ws.close()\n};\n\nmpl.figure.prototype.push_to_output = function (_remove_interactive) {\n    // Turn the data on the canvas into data in the output cell.\n    var width = this.canvas.width / this.ratio;\n    var dataURL = this.canvas.toDataURL();\n    this.cell_info[1]['text/html'] =\n        '<img src=\"' + dataURL + '\" width=\"' + width + '\">';\n};\n\nmpl.figure.prototype.updated_canvas_event = function () {\n    // Tell IPython that the notebook contents must change.\n    IPython.notebook.set_dirty(true);\n    this.send_message('ack', {});\n    var fig = this;\n    // Wait a second, then push the new image to the DOM so\n    // that it is saved nicely (might be nice to debounce this).\n    setTimeout(function () {\n        fig.push_to_output();\n    }, 1000);\n};\n\nmpl.figure.prototype._init_toolbar = function () {\n    var fig = this;\n\n    var toolbar = document.createElement('div');\n    toolbar.classList = 'btn-toolbar';\n    this.root.appendChild(toolbar);\n\n    function on_click_closure(name) {\n        return function (_event) {\n            return fig.toolbar_button_onclick(name);\n        };\n    }\n\n    function on_mouseover_closure(tooltip) {\n        return function (event) {\n            if (!event.currentTarget.disabled) {\n                return fig.toolbar_button_onmouseover(tooltip);\n            }\n        };\n    }\n\n    fig.buttons = {};\n    var buttonGroup = document.createElement('div');\n    buttonGroup.classList = 'btn-group';\n    var button;\n    for (var toolbar_ind in mpl.toolbar_items) {\n        var name = mpl.toolbar_items[toolbar_ind][0];\n        var tooltip = mpl.toolbar_items[toolbar_ind][1];\n        var image = mpl.toolbar_items[toolbar_ind][2];\n        var method_name = mpl.toolbar_items[toolbar_ind][3];\n\n        if (!name) {\n            /* Instead of a spacer, we start a new button group. */\n            if (buttonGroup.hasChildNodes()) {\n                toolbar.appendChild(buttonGroup);\n            }\n            buttonGroup = document.createElement('div');\n            buttonGroup.classList = 'btn-group';\n            continue;\n        }\n\n        button = fig.buttons[name] = document.createElement('button');\n        button.classList = 'btn btn-default';\n        button.href = '#';\n        button.title = name;\n        button.innerHTML = '<i class=\"fa ' + image + ' fa-lg\"></i>';\n        button.addEventListener('click', on_click_closure(method_name));\n        button.addEventListener('mouseover', on_mouseover_closure(tooltip));\n        buttonGroup.appendChild(button);\n    }\n\n    if (buttonGroup.hasChildNodes()) {\n        toolbar.appendChild(buttonGroup);\n    }\n\n    // Add the status bar.\n    var status_bar = document.createElement('span');\n    status_bar.classList = 'mpl-message pull-right';\n    toolbar.appendChild(status_bar);\n    this.message = status_bar;\n\n    // Add the close button to the window.\n    var buttongrp = document.createElement('div');\n    buttongrp.classList = 'btn-group inline pull-right';\n    button = document.createElement('button');\n    button.classList = 'btn btn-mini btn-primary';\n    button.href = '#';\n    button.title = 'Stop Interaction';\n    button.innerHTML = '<i class=\"fa fa-power-off icon-remove icon-large\"></i>';\n    button.addEventListener('click', function (_evt) {\n        fig.handle_close(fig, {});\n    });\n    button.addEventListener(\n        'mouseover',\n        on_mouseover_closure('Stop Interaction')\n    );\n    buttongrp.appendChild(button);\n    var titlebar = this.root.querySelector('.ui-dialog-titlebar');\n    titlebar.insertBefore(buttongrp, titlebar.firstChild);\n};\n\nmpl.figure.prototype._remove_fig_handler = function (event) {\n    var fig = event.data.fig;\n    if (event.target !== this) {\n        // Ignore bubbled events from children.\n        return;\n    }\n    fig.close_ws(fig, {});\n};\n\nmpl.figure.prototype._root_extra_style = function (el) {\n    el.style.boxSizing = 'content-box'; // override notebook setting of border-box.\n};\n\nmpl.figure.prototype._canvas_extra_style = function (el) {\n    // this is important to make the div 'focusable\n    el.setAttribute('tabindex', 0);\n    // reach out to IPython and tell the keyboard manager to turn it's self\n    // off when our div gets focus\n\n    // location in version 3\n    if (IPython.notebook.keyboard_manager) {\n        IPython.notebook.keyboard_manager.register_events(el);\n    } else {\n        // location in version 2\n        IPython.keyboard_manager.register_events(el);\n    }\n};\n\nmpl.figure.prototype._key_event_extra = function (event, _name) {\n    // Check for shift+enter\n    if (event.shiftKey && event.which === 13) {\n        this.canvas_div.blur();\n        // select the cell after this one\n        var index = IPython.notebook.find_cell_index(this.cell_info[0]);\n        IPython.notebook.select(index + 1);\n    }\n};\n\nmpl.figure.prototype.handle_save = function (fig, _msg) {\n    fig.ondownload(fig, null);\n};\n\nmpl.find_output_cell = function (html_output) {\n    // Return the cell and output element which can be found *uniquely* in the notebook.\n    // Note - this is a bit hacky, but it is done because the \"notebook_saving.Notebook\"\n    // IPython event is triggered only after the cells have been serialised, which for\n    // our purposes (turning an active figure into a static one), is too late.\n    var cells = IPython.notebook.get_cells();\n    var ncells = cells.length;\n    for (var i = 0; i < ncells; i++) {\n        var cell = cells[i];\n        if (cell.cell_type === 'code') {\n            for (var j = 0; j < cell.output_area.outputs.length; j++) {\n                var data = cell.output_area.outputs[j];\n                if (data.data) {\n                    // IPython >= 3 moved mimebundle to data attribute of output\n                    data = data.data;\n                }\n                if (data['text/html'] === html_output) {\n                    return [cell, data, j];\n                }\n            }\n        }\n    }\n};\n\n// Register the function which deals with the matplotlib target/channel.\n// The kernel may be null if the page has been refreshed.\nif (IPython.notebook.kernel !== null) {\n    IPython.notebook.kernel.comm_manager.register_target(\n        'matplotlib',\n        mpl.mpl_figure_comm\n    );\n}\n"
     },
     "metadata": {},
     "output_type": "display_data"
    },
    {
     "data": {
      "text/plain": "<IPython.core.display.HTML object>",
      "text/html": "<div id='a9a6fc05-d0bb-444b-b9eb-08f75bee1ab6'></div>"
     },
     "metadata": {},
     "output_type": "display_data"
    },
    {
     "data": {
      "text/plain": "<contextlib.ExitStack at 0x2ac6f53fd220>"
     },
     "execution_count": 13,
     "metadata": {},
     "output_type": "execute_result"
    }
   ],
   "source": [
    "%matplotlib notebook\n",
    "fig = plt.figure()\n",
    "ax = fig.add_subplot(111)\n",
    "plt.ion()\n",
    "fig.show()\n",
    "fig.canvas.draw()"
   ],
   "metadata": {
    "collapsed": false,
    "ExecuteTime": {
     "start_time": "2023-06-01T15:00:55.145274Z",
     "end_time": "2023-06-01T15:00:55.279608Z"
    }
   }
  },
  {
   "cell_type": "code",
   "execution_count": 14,
   "outputs": [
    {
     "name": "stderr",
     "output_type": "stream",
     "text": [
      "  0%|          | 0/20000 [00:00<?, ?it/s]../benji_girgs/mcmc.py:136: RuntimeWarning: overflow encountered in exp\n",
      "  Q_ratio = np.exp(u_ll_new - u_ll_old)\n",
      "../benji_girgs/mcmc.py:136: RuntimeWarning: overflow encountered in exp\n",
      "  Q_ratio = np.exp(u_ll_new - u_ll_old)\n",
      "../benji_girgs/mcmc.py:136: RuntimeWarning: overflow encountered in exp\n",
      "  Q_ratio = np.exp(u_ll_new - u_ll_old)\n",
      "../benji_girgs/mcmc.py:136: RuntimeWarning: overflow encountered in exp\n",
      "  Q_ratio = np.exp(u_ll_new - u_ll_old)\n",
      "../benji_girgs/mcmc.py:136: RuntimeWarning: overflow encountered in exp\n",
      "  Q_ratio = np.exp(u_ll_new - u_ll_old)\n",
      "../benji_girgs/mcmc.py:136: RuntimeWarning: overflow encountered in exp\n",
      "  Q_ratio = np.exp(u_ll_new - u_ll_old)\n",
      "../benji_girgs/mcmc.py:136: RuntimeWarning: overflow encountered in exp\n",
      "  Q_ratio = np.exp(u_ll_new - u_ll_old)\n",
      "../benji_girgs/mcmc.py:136: RuntimeWarning: overflow encountered in exp\n",
      "  Q_ratio = np.exp(u_ll_new - u_ll_old)\n",
      "../benji_girgs/mcmc.py:136: RuntimeWarning: overflow encountered in exp\n",
      "  Q_ratio = np.exp(u_ll_new - u_ll_old)\n",
      "../benji_girgs/mcmc.py:136: RuntimeWarning: overflow encountered in exp\n",
      "  Q_ratio = np.exp(u_ll_new - u_ll_old)\n",
      "../benji_girgs/mcmc.py:136: RuntimeWarning: overflow encountered in exp\n",
      "  Q_ratio = np.exp(u_ll_new - u_ll_old)\n",
      "../benji_girgs/mcmc.py:136: RuntimeWarning: overflow encountered in exp\n",
      "  Q_ratio = np.exp(u_ll_new - u_ll_old)\n",
      "../benji_girgs/mcmc.py:136: RuntimeWarning: overflow encountered in exp\n",
      "  Q_ratio = np.exp(u_ll_new - u_ll_old)\n",
      "../benji_girgs/mcmc.py:136: RuntimeWarning: overflow encountered in exp\n",
      "  Q_ratio = np.exp(u_ll_new - u_ll_old)\n",
      "../benji_girgs/mcmc.py:136: RuntimeWarning: overflow encountered in exp\n",
      "  Q_ratio = np.exp(u_ll_new - u_ll_old)\n",
      "  1%|          | 225/20000 [00:00<00:45, 438.17it/s]../benji_girgs/mcmc.py:136: RuntimeWarning: overflow encountered in exp\n",
      "  Q_ratio = np.exp(u_ll_new - u_ll_old)\n",
      "../benji_girgs/mcmc.py:136: RuntimeWarning: overflow encountered in exp\n",
      "  Q_ratio = np.exp(u_ll_new - u_ll_old)\n",
      "../benji_girgs/mcmc.py:136: RuntimeWarning: overflow encountered in exp\n",
      "  Q_ratio = np.exp(u_ll_new - u_ll_old)\n",
      "../benji_girgs/mcmc.py:136: RuntimeWarning: overflow encountered in exp\n",
      "  Q_ratio = np.exp(u_ll_new - u_ll_old)\n",
      "../benji_girgs/mcmc.py:136: RuntimeWarning: overflow encountered in exp\n",
      "  Q_ratio = np.exp(u_ll_new - u_ll_old)\n",
      "../benji_girgs/mcmc.py:136: RuntimeWarning: overflow encountered in exp\n",
      "  Q_ratio = np.exp(u_ll_new - u_ll_old)\n",
      "../benji_girgs/mcmc.py:136: RuntimeWarning: overflow encountered in exp\n",
      "  Q_ratio = np.exp(u_ll_new - u_ll_old)\n",
      "../benji_girgs/mcmc.py:136: RuntimeWarning: overflow encountered in exp\n",
      "  Q_ratio = np.exp(u_ll_new - u_ll_old)\n",
      "../benji_girgs/mcmc.py:136: RuntimeWarning: overflow encountered in exp\n",
      "  Q_ratio = np.exp(u_ll_new - u_ll_old)\n",
      "../benji_girgs/mcmc.py:136: RuntimeWarning: overflow encountered in exp\n",
      "  Q_ratio = np.exp(u_ll_new - u_ll_old)\n",
      "../benji_girgs/mcmc.py:136: RuntimeWarning: overflow encountered in exp\n",
      "  Q_ratio = np.exp(u_ll_new - u_ll_old)\n",
      "../benji_girgs/mcmc.py:136: RuntimeWarning: overflow encountered in exp\n",
      "  Q_ratio = np.exp(u_ll_new - u_ll_old)\n",
      "../benji_girgs/mcmc.py:136: RuntimeWarning: overflow encountered in exp\n",
      "  Q_ratio = np.exp(u_ll_new - u_ll_old)\n",
      "../benji_girgs/mcmc.py:136: RuntimeWarning: overflow encountered in exp\n",
      "  Q_ratio = np.exp(u_ll_new - u_ll_old)\n",
      "  2%|▏         | 450/20000 [00:01<00:57, 342.80it/s]../benji_girgs/mcmc.py:136: RuntimeWarning: overflow encountered in exp\n",
      "  Q_ratio = np.exp(u_ll_new - u_ll_old)\n",
      "../benji_girgs/mcmc.py:136: RuntimeWarning: overflow encountered in exp\n",
      "  Q_ratio = np.exp(u_ll_new - u_ll_old)\n",
      "../benji_girgs/mcmc.py:136: RuntimeWarning: overflow encountered in exp\n",
      "  Q_ratio = np.exp(u_ll_new - u_ll_old)\n",
      "../benji_girgs/mcmc.py:136: RuntimeWarning: overflow encountered in exp\n",
      "  Q_ratio = np.exp(u_ll_new - u_ll_old)\n",
      "../benji_girgs/mcmc.py:136: RuntimeWarning: overflow encountered in exp\n",
      "  Q_ratio = np.exp(u_ll_new - u_ll_old)\n",
      "../benji_girgs/mcmc.py:136: RuntimeWarning: overflow encountered in exp\n",
      "  Q_ratio = np.exp(u_ll_new - u_ll_old)\n",
      "../benji_girgs/mcmc.py:136: RuntimeWarning: overflow encountered in exp\n",
      "  Q_ratio = np.exp(u_ll_new - u_ll_old)\n",
      "../benji_girgs/mcmc.py:136: RuntimeWarning: overflow encountered in exp\n",
      "  Q_ratio = np.exp(u_ll_new - u_ll_old)\n",
      "../benji_girgs/mcmc.py:136: RuntimeWarning: overflow encountered in exp\n",
      "  Q_ratio = np.exp(u_ll_new - u_ll_old)\n",
      "../benji_girgs/mcmc.py:136: RuntimeWarning: overflow encountered in exp\n",
      "  Q_ratio = np.exp(u_ll_new - u_ll_old)\n",
      "../benji_girgs/mcmc.py:136: RuntimeWarning: overflow encountered in exp\n",
      "  Q_ratio = np.exp(u_ll_new - u_ll_old)\n",
      "../benji_girgs/mcmc.py:136: RuntimeWarning: overflow encountered in exp\n",
      "  Q_ratio = np.exp(u_ll_new - u_ll_old)\n",
      "../benji_girgs/mcmc.py:136: RuntimeWarning: overflow encountered in exp\n",
      "  Q_ratio = np.exp(u_ll_new - u_ll_old)\n",
      "../benji_girgs/mcmc.py:136: RuntimeWarning: overflow encountered in exp\n",
      "  Q_ratio = np.exp(u_ll_new - u_ll_old)\n",
      "  3%|▎         | 675/20000 [00:01<00:58, 332.31it/s]../benji_girgs/mcmc.py:136: RuntimeWarning: overflow encountered in exp\n",
      "  Q_ratio = np.exp(u_ll_new - u_ll_old)\n",
      "../benji_girgs/mcmc.py:136: RuntimeWarning: overflow encountered in exp\n",
      "  Q_ratio = np.exp(u_ll_new - u_ll_old)\n",
      "../benji_girgs/mcmc.py:136: RuntimeWarning: overflow encountered in exp\n",
      "  Q_ratio = np.exp(u_ll_new - u_ll_old)\n",
      "../benji_girgs/mcmc.py:136: RuntimeWarning: overflow encountered in exp\n",
      "  Q_ratio = np.exp(u_ll_new - u_ll_old)\n",
      "../benji_girgs/mcmc.py:136: RuntimeWarning: overflow encountered in exp\n",
      "  Q_ratio = np.exp(u_ll_new - u_ll_old)\n",
      "../benji_girgs/mcmc.py:136: RuntimeWarning: overflow encountered in exp\n",
      "  Q_ratio = np.exp(u_ll_new - u_ll_old)\n",
      "../benji_girgs/mcmc.py:136: RuntimeWarning: overflow encountered in exp\n",
      "  Q_ratio = np.exp(u_ll_new - u_ll_old)\n",
      "../benji_girgs/mcmc.py:136: RuntimeWarning: overflow encountered in exp\n",
      "  Q_ratio = np.exp(u_ll_new - u_ll_old)\n",
      "../benji_girgs/mcmc.py:136: RuntimeWarning: overflow encountered in exp\n",
      "  Q_ratio = np.exp(u_ll_new - u_ll_old)\n",
      "../benji_girgs/mcmc.py:136: RuntimeWarning: overflow encountered in exp\n",
      "  Q_ratio = np.exp(u_ll_new - u_ll_old)\n",
      "../benji_girgs/mcmc.py:136: RuntimeWarning: overflow encountered in exp\n",
      "  Q_ratio = np.exp(u_ll_new - u_ll_old)\n",
      "../benji_girgs/mcmc.py:136: RuntimeWarning: overflow encountered in exp\n",
      "  Q_ratio = np.exp(u_ll_new - u_ll_old)\n",
      "../benji_girgs/mcmc.py:136: RuntimeWarning: overflow encountered in exp\n",
      "  Q_ratio = np.exp(u_ll_new - u_ll_old)\n",
      "../benji_girgs/mcmc.py:136: RuntimeWarning: overflow encountered in exp\n",
      "  Q_ratio = np.exp(u_ll_new - u_ll_old)\n",
      "  4%|▍         | 900/20000 [00:02<00:58, 326.98it/s]../benji_girgs/mcmc.py:136: RuntimeWarning: overflow encountered in exp\n",
      "  Q_ratio = np.exp(u_ll_new - u_ll_old)\n",
      "../benji_girgs/mcmc.py:136: RuntimeWarning: overflow encountered in exp\n",
      "  Q_ratio = np.exp(u_ll_new - u_ll_old)\n",
      "../benji_girgs/mcmc.py:136: RuntimeWarning: overflow encountered in exp\n",
      "  Q_ratio = np.exp(u_ll_new - u_ll_old)\n",
      "../benji_girgs/mcmc.py:136: RuntimeWarning: overflow encountered in exp\n",
      "  Q_ratio = np.exp(u_ll_new - u_ll_old)\n",
      "../benji_girgs/mcmc.py:136: RuntimeWarning: overflow encountered in exp\n",
      "  Q_ratio = np.exp(u_ll_new - u_ll_old)\n",
      "../benji_girgs/mcmc.py:136: RuntimeWarning: overflow encountered in exp\n",
      "  Q_ratio = np.exp(u_ll_new - u_ll_old)\n",
      "../benji_girgs/mcmc.py:136: RuntimeWarning: overflow encountered in exp\n",
      "  Q_ratio = np.exp(u_ll_new - u_ll_old)\n",
      "../benji_girgs/mcmc.py:136: RuntimeWarning: overflow encountered in exp\n",
      "  Q_ratio = np.exp(u_ll_new - u_ll_old)\n",
      "../benji_girgs/mcmc.py:136: RuntimeWarning: overflow encountered in exp\n",
      "  Q_ratio = np.exp(u_ll_new - u_ll_old)\n",
      "../benji_girgs/mcmc.py:136: RuntimeWarning: overflow encountered in exp\n",
      "  Q_ratio = np.exp(u_ll_new - u_ll_old)\n",
      "../benji_girgs/mcmc.py:136: RuntimeWarning: overflow encountered in exp\n",
      "  Q_ratio = np.exp(u_ll_new - u_ll_old)\n",
      "../benji_girgs/mcmc.py:136: RuntimeWarning: overflow encountered in exp\n",
      "  Q_ratio = np.exp(u_ll_new - u_ll_old)\n",
      "../benji_girgs/mcmc.py:136: RuntimeWarning: overflow encountered in exp\n",
      "  Q_ratio = np.exp(u_ll_new - u_ll_old)\n",
      "../benji_girgs/mcmc.py:136: RuntimeWarning: overflow encountered in exp\n",
      "  Q_ratio = np.exp(u_ll_new - u_ll_old)\n",
      "../benji_girgs/mcmc.py:136: RuntimeWarning: overflow encountered in exp\n",
      "  Q_ratio = np.exp(u_ll_new - u_ll_old)\n",
      "  6%|▌         | 1125/20000 [00:03<00:58, 323.97it/s]../benji_girgs/mcmc.py:136: RuntimeWarning: overflow encountered in exp\n",
      "  Q_ratio = np.exp(u_ll_new - u_ll_old)\n",
      "../benji_girgs/mcmc.py:136: RuntimeWarning: overflow encountered in exp\n",
      "  Q_ratio = np.exp(u_ll_new - u_ll_old)\n",
      "../benji_girgs/mcmc.py:136: RuntimeWarning: overflow encountered in exp\n",
      "  Q_ratio = np.exp(u_ll_new - u_ll_old)\n",
      "../benji_girgs/mcmc.py:136: RuntimeWarning: overflow encountered in exp\n",
      "  Q_ratio = np.exp(u_ll_new - u_ll_old)\n",
      "../benji_girgs/mcmc.py:136: RuntimeWarning: overflow encountered in exp\n",
      "  Q_ratio = np.exp(u_ll_new - u_ll_old)\n",
      "../benji_girgs/mcmc.py:136: RuntimeWarning: overflow encountered in exp\n",
      "  Q_ratio = np.exp(u_ll_new - u_ll_old)\n",
      "../benji_girgs/mcmc.py:136: RuntimeWarning: overflow encountered in exp\n",
      "  Q_ratio = np.exp(u_ll_new - u_ll_old)\n",
      "../benji_girgs/mcmc.py:136: RuntimeWarning: overflow encountered in exp\n",
      "  Q_ratio = np.exp(u_ll_new - u_ll_old)\n",
      "../benji_girgs/mcmc.py:136: RuntimeWarning: overflow encountered in exp\n",
      "  Q_ratio = np.exp(u_ll_new - u_ll_old)\n",
      "../benji_girgs/mcmc.py:136: RuntimeWarning: overflow encountered in exp\n",
      "  Q_ratio = np.exp(u_ll_new - u_ll_old)\n",
      "../benji_girgs/mcmc.py:136: RuntimeWarning: overflow encountered in exp\n",
      "  Q_ratio = np.exp(u_ll_new - u_ll_old)\n",
      "../benji_girgs/mcmc.py:136: RuntimeWarning: overflow encountered in exp\n",
      "  Q_ratio = np.exp(u_ll_new - u_ll_old)\n",
      "../benji_girgs/mcmc.py:136: RuntimeWarning: overflow encountered in exp\n",
      "  Q_ratio = np.exp(u_ll_new - u_ll_old)\n",
      "../benji_girgs/mcmc.py:136: RuntimeWarning: overflow encountered in exp\n",
      "  Q_ratio = np.exp(u_ll_new - u_ll_old)\n",
      "  7%|▋         | 1350/20000 [00:04<00:56, 330.27it/s]../benji_girgs/mcmc.py:136: RuntimeWarning: overflow encountered in exp\n",
      "  Q_ratio = np.exp(u_ll_new - u_ll_old)\n",
      "../benji_girgs/mcmc.py:136: RuntimeWarning: overflow encountered in exp\n",
      "  Q_ratio = np.exp(u_ll_new - u_ll_old)\n",
      "../benji_girgs/mcmc.py:136: RuntimeWarning: overflow encountered in exp\n",
      "  Q_ratio = np.exp(u_ll_new - u_ll_old)\n",
      "../benji_girgs/mcmc.py:136: RuntimeWarning: overflow encountered in exp\n",
      "  Q_ratio = np.exp(u_ll_new - u_ll_old)\n",
      "../benji_girgs/mcmc.py:136: RuntimeWarning: overflow encountered in exp\n",
      "  Q_ratio = np.exp(u_ll_new - u_ll_old)\n",
      "../benji_girgs/mcmc.py:136: RuntimeWarning: overflow encountered in exp\n",
      "  Q_ratio = np.exp(u_ll_new - u_ll_old)\n",
      "../benji_girgs/mcmc.py:136: RuntimeWarning: overflow encountered in exp\n",
      "  Q_ratio = np.exp(u_ll_new - u_ll_old)\n",
      "../benji_girgs/mcmc.py:136: RuntimeWarning: overflow encountered in exp\n",
      "  Q_ratio = np.exp(u_ll_new - u_ll_old)\n",
      "../benji_girgs/mcmc.py:136: RuntimeWarning: overflow encountered in exp\n",
      "  Q_ratio = np.exp(u_ll_new - u_ll_old)\n",
      "../benji_girgs/mcmc.py:136: RuntimeWarning: overflow encountered in exp\n",
      "  Q_ratio = np.exp(u_ll_new - u_ll_old)\n",
      "../benji_girgs/mcmc.py:136: RuntimeWarning: overflow encountered in exp\n",
      "  Q_ratio = np.exp(u_ll_new - u_ll_old)\n",
      "../benji_girgs/mcmc.py:136: RuntimeWarning: overflow encountered in exp\n",
      "  Q_ratio = np.exp(u_ll_new - u_ll_old)\n",
      "../benji_girgs/mcmc.py:136: RuntimeWarning: overflow encountered in exp\n",
      "  Q_ratio = np.exp(u_ll_new - u_ll_old)\n",
      "../benji_girgs/mcmc.py:136: RuntimeWarning: overflow encountered in exp\n",
      "  Q_ratio = np.exp(u_ll_new - u_ll_old)\n",
      "../benji_girgs/mcmc.py:136: RuntimeWarning: overflow encountered in exp\n",
      "  Q_ratio = np.exp(u_ll_new - u_ll_old)\n",
      "  8%|▊         | 1575/20000 [00:04<00:57, 321.74it/s]../benji_girgs/mcmc.py:136: RuntimeWarning: overflow encountered in exp\n",
      "  Q_ratio = np.exp(u_ll_new - u_ll_old)\n",
      "../benji_girgs/mcmc.py:136: RuntimeWarning: overflow encountered in exp\n",
      "  Q_ratio = np.exp(u_ll_new - u_ll_old)\n",
      "../benji_girgs/mcmc.py:136: RuntimeWarning: overflow encountered in exp\n",
      "  Q_ratio = np.exp(u_ll_new - u_ll_old)\n",
      "../benji_girgs/mcmc.py:136: RuntimeWarning: overflow encountered in exp\n",
      "  Q_ratio = np.exp(u_ll_new - u_ll_old)\n",
      "../benji_girgs/mcmc.py:136: RuntimeWarning: overflow encountered in exp\n",
      "  Q_ratio = np.exp(u_ll_new - u_ll_old)\n",
      "../benji_girgs/mcmc.py:136: RuntimeWarning: overflow encountered in exp\n",
      "  Q_ratio = np.exp(u_ll_new - u_ll_old)\n",
      "../benji_girgs/mcmc.py:136: RuntimeWarning: overflow encountered in exp\n",
      "  Q_ratio = np.exp(u_ll_new - u_ll_old)\n",
      "../benji_girgs/mcmc.py:136: RuntimeWarning: overflow encountered in exp\n",
      "  Q_ratio = np.exp(u_ll_new - u_ll_old)\n",
      "../benji_girgs/mcmc.py:136: RuntimeWarning: overflow encountered in exp\n",
      "  Q_ratio = np.exp(u_ll_new - u_ll_old)\n",
      "../benji_girgs/mcmc.py:136: RuntimeWarning: overflow encountered in exp\n",
      "  Q_ratio = np.exp(u_ll_new - u_ll_old)\n",
      "../benji_girgs/mcmc.py:136: RuntimeWarning: overflow encountered in exp\n",
      "  Q_ratio = np.exp(u_ll_new - u_ll_old)\n",
      "../benji_girgs/mcmc.py:136: RuntimeWarning: overflow encountered in exp\n",
      "  Q_ratio = np.exp(u_ll_new - u_ll_old)\n",
      "../benji_girgs/mcmc.py:136: RuntimeWarning: overflow encountered in exp\n",
      "  Q_ratio = np.exp(u_ll_new - u_ll_old)\n",
      "../benji_girgs/mcmc.py:136: RuntimeWarning: overflow encountered in exp\n",
      "  Q_ratio = np.exp(u_ll_new - u_ll_old)\n",
      "  9%|▉         | 1800/20000 [00:05<00:57, 316.31it/s]../benji_girgs/mcmc.py:136: RuntimeWarning: overflow encountered in exp\n",
      "  Q_ratio = np.exp(u_ll_new - u_ll_old)\n",
      "../benji_girgs/mcmc.py:136: RuntimeWarning: overflow encountered in exp\n",
      "  Q_ratio = np.exp(u_ll_new - u_ll_old)\n",
      "../benji_girgs/mcmc.py:136: RuntimeWarning: overflow encountered in exp\n",
      "  Q_ratio = np.exp(u_ll_new - u_ll_old)\n",
      "../benji_girgs/mcmc.py:136: RuntimeWarning: overflow encountered in exp\n",
      "  Q_ratio = np.exp(u_ll_new - u_ll_old)\n",
      "../benji_girgs/mcmc.py:136: RuntimeWarning: overflow encountered in exp\n",
      "  Q_ratio = np.exp(u_ll_new - u_ll_old)\n",
      "../benji_girgs/mcmc.py:136: RuntimeWarning: overflow encountered in exp\n",
      "  Q_ratio = np.exp(u_ll_new - u_ll_old)\n",
      "../benji_girgs/mcmc.py:136: RuntimeWarning: overflow encountered in exp\n",
      "  Q_ratio = np.exp(u_ll_new - u_ll_old)\n",
      "../benji_girgs/mcmc.py:136: RuntimeWarning: overflow encountered in exp\n",
      "  Q_ratio = np.exp(u_ll_new - u_ll_old)\n",
      "../benji_girgs/mcmc.py:136: RuntimeWarning: overflow encountered in exp\n",
      "  Q_ratio = np.exp(u_ll_new - u_ll_old)\n",
      "../benji_girgs/mcmc.py:136: RuntimeWarning: overflow encountered in exp\n",
      "  Q_ratio = np.exp(u_ll_new - u_ll_old)\n",
      "../benji_girgs/mcmc.py:136: RuntimeWarning: overflow encountered in exp\n",
      "  Q_ratio = np.exp(u_ll_new - u_ll_old)\n",
      "../benji_girgs/mcmc.py:136: RuntimeWarning: overflow encountered in exp\n",
      "  Q_ratio = np.exp(u_ll_new - u_ll_old)\n",
      "../benji_girgs/mcmc.py:136: RuntimeWarning: overflow encountered in exp\n",
      "  Q_ratio = np.exp(u_ll_new - u_ll_old)\n",
      "../benji_girgs/mcmc.py:136: RuntimeWarning: overflow encountered in exp\n",
      "  Q_ratio = np.exp(u_ll_new - u_ll_old)\n",
      "../benji_girgs/mcmc.py:136: RuntimeWarning: overflow encountered in exp\n",
      "  Q_ratio = np.exp(u_ll_new - u_ll_old)\n",
      " 10%|█         | 2025/20000 [00:06<00:57, 315.25it/s]../benji_girgs/mcmc.py:136: RuntimeWarning: overflow encountered in exp\n",
      "  Q_ratio = np.exp(u_ll_new - u_ll_old)\n",
      "../benji_girgs/mcmc.py:136: RuntimeWarning: overflow encountered in exp\n",
      "  Q_ratio = np.exp(u_ll_new - u_ll_old)\n",
      "../benji_girgs/mcmc.py:136: RuntimeWarning: overflow encountered in exp\n",
      "  Q_ratio = np.exp(u_ll_new - u_ll_old)\n",
      "../benji_girgs/mcmc.py:136: RuntimeWarning: overflow encountered in exp\n",
      "  Q_ratio = np.exp(u_ll_new - u_ll_old)\n",
      "../benji_girgs/mcmc.py:136: RuntimeWarning: overflow encountered in exp\n",
      "  Q_ratio = np.exp(u_ll_new - u_ll_old)\n",
      "../benji_girgs/mcmc.py:136: RuntimeWarning: overflow encountered in exp\n",
      "  Q_ratio = np.exp(u_ll_new - u_ll_old)\n",
      "../benji_girgs/mcmc.py:136: RuntimeWarning: overflow encountered in exp\n",
      "  Q_ratio = np.exp(u_ll_new - u_ll_old)\n",
      "../benji_girgs/mcmc.py:136: RuntimeWarning: overflow encountered in exp\n",
      "  Q_ratio = np.exp(u_ll_new - u_ll_old)\n",
      "../benji_girgs/mcmc.py:136: RuntimeWarning: overflow encountered in exp\n",
      "  Q_ratio = np.exp(u_ll_new - u_ll_old)\n",
      "../benji_girgs/mcmc.py:136: RuntimeWarning: overflow encountered in exp\n",
      "  Q_ratio = np.exp(u_ll_new - u_ll_old)\n",
      "../benji_girgs/mcmc.py:136: RuntimeWarning: overflow encountered in exp\n",
      "  Q_ratio = np.exp(u_ll_new - u_ll_old)\n",
      "../benji_girgs/mcmc.py:136: RuntimeWarning: overflow encountered in exp\n",
      "  Q_ratio = np.exp(u_ll_new - u_ll_old)\n",
      "../benji_girgs/mcmc.py:136: RuntimeWarning: overflow encountered in exp\n",
      "  Q_ratio = np.exp(u_ll_new - u_ll_old)\n",
      " 11%|█▏        | 2250/20000 [00:07<00:59, 300.16it/s]../benji_girgs/mcmc.py:136: RuntimeWarning: overflow encountered in exp\n",
      "  Q_ratio = np.exp(u_ll_new - u_ll_old)\n",
      "../benji_girgs/mcmc.py:136: RuntimeWarning: overflow encountered in exp\n",
      "  Q_ratio = np.exp(u_ll_new - u_ll_old)\n",
      "../benji_girgs/mcmc.py:136: RuntimeWarning: overflow encountered in exp\n",
      "  Q_ratio = np.exp(u_ll_new - u_ll_old)\n",
      "../benji_girgs/mcmc.py:136: RuntimeWarning: overflow encountered in exp\n",
      "  Q_ratio = np.exp(u_ll_new - u_ll_old)\n",
      "../benji_girgs/mcmc.py:136: RuntimeWarning: overflow encountered in exp\n",
      "  Q_ratio = np.exp(u_ll_new - u_ll_old)\n",
      "../benji_girgs/mcmc.py:136: RuntimeWarning: overflow encountered in exp\n",
      "  Q_ratio = np.exp(u_ll_new - u_ll_old)\n",
      "../benji_girgs/mcmc.py:136: RuntimeWarning: overflow encountered in exp\n",
      "  Q_ratio = np.exp(u_ll_new - u_ll_old)\n",
      "../benji_girgs/mcmc.py:136: RuntimeWarning: overflow encountered in exp\n",
      "  Q_ratio = np.exp(u_ll_new - u_ll_old)\n",
      "../benji_girgs/mcmc.py:136: RuntimeWarning: overflow encountered in exp\n",
      "  Q_ratio = np.exp(u_ll_new - u_ll_old)\n",
      "../benji_girgs/mcmc.py:136: RuntimeWarning: overflow encountered in exp\n",
      "  Q_ratio = np.exp(u_ll_new - u_ll_old)\n",
      "../benji_girgs/mcmc.py:136: RuntimeWarning: overflow encountered in exp\n",
      "  Q_ratio = np.exp(u_ll_new - u_ll_old)\n",
      "../benji_girgs/mcmc.py:136: RuntimeWarning: overflow encountered in exp\n",
      "  Q_ratio = np.exp(u_ll_new - u_ll_old)\n",
      "../benji_girgs/mcmc.py:136: RuntimeWarning: overflow encountered in exp\n",
      "  Q_ratio = np.exp(u_ll_new - u_ll_old)\n",
      "../benji_girgs/mcmc.py:136: RuntimeWarning: overflow encountered in exp\n",
      "  Q_ratio = np.exp(u_ll_new - u_ll_old)\n",
      "../benji_girgs/mcmc.py:136: RuntimeWarning: overflow encountered in exp\n",
      "  Q_ratio = np.exp(u_ll_new - u_ll_old)\n",
      " 12%|█▏        | 2475/20000 [00:07<00:56, 308.29it/s]../benji_girgs/mcmc.py:136: RuntimeWarning: overflow encountered in exp\n",
      "  Q_ratio = np.exp(u_ll_new - u_ll_old)\n",
      "../benji_girgs/mcmc.py:136: RuntimeWarning: overflow encountered in exp\n",
      "  Q_ratio = np.exp(u_ll_new - u_ll_old)\n",
      "../benji_girgs/mcmc.py:136: RuntimeWarning: overflow encountered in exp\n",
      "  Q_ratio = np.exp(u_ll_new - u_ll_old)\n",
      "../benji_girgs/mcmc.py:136: RuntimeWarning: overflow encountered in exp\n",
      "  Q_ratio = np.exp(u_ll_new - u_ll_old)\n",
      "../benji_girgs/mcmc.py:136: RuntimeWarning: overflow encountered in exp\n",
      "  Q_ratio = np.exp(u_ll_new - u_ll_old)\n",
      "../benji_girgs/mcmc.py:136: RuntimeWarning: overflow encountered in exp\n",
      "  Q_ratio = np.exp(u_ll_new - u_ll_old)\n",
      "../benji_girgs/mcmc.py:136: RuntimeWarning: overflow encountered in exp\n",
      "  Q_ratio = np.exp(u_ll_new - u_ll_old)\n",
      "../benji_girgs/mcmc.py:136: RuntimeWarning: overflow encountered in exp\n",
      "  Q_ratio = np.exp(u_ll_new - u_ll_old)\n",
      "../benji_girgs/mcmc.py:136: RuntimeWarning: overflow encountered in exp\n",
      "  Q_ratio = np.exp(u_ll_new - u_ll_old)\n",
      "../benji_girgs/mcmc.py:136: RuntimeWarning: overflow encountered in exp\n",
      "  Q_ratio = np.exp(u_ll_new - u_ll_old)\n",
      "../benji_girgs/mcmc.py:136: RuntimeWarning: overflow encountered in exp\n",
      "  Q_ratio = np.exp(u_ll_new - u_ll_old)\n",
      "../benji_girgs/mcmc.py:136: RuntimeWarning: overflow encountered in exp\n",
      "  Q_ratio = np.exp(u_ll_new - u_ll_old)\n",
      "../benji_girgs/mcmc.py:136: RuntimeWarning: overflow encountered in exp\n",
      "  Q_ratio = np.exp(u_ll_new - u_ll_old)\n",
      "../benji_girgs/mcmc.py:136: RuntimeWarning: overflow encountered in exp\n",
      "  Q_ratio = np.exp(u_ll_new - u_ll_old)\n",
      " 14%|█▎        | 2700/20000 [00:08<00:56, 308.50it/s]../benji_girgs/mcmc.py:136: RuntimeWarning: overflow encountered in exp\n",
      "  Q_ratio = np.exp(u_ll_new - u_ll_old)\n",
      "../benji_girgs/mcmc.py:136: RuntimeWarning: overflow encountered in exp\n",
      "  Q_ratio = np.exp(u_ll_new - u_ll_old)\n",
      "../benji_girgs/mcmc.py:136: RuntimeWarning: overflow encountered in exp\n",
      "  Q_ratio = np.exp(u_ll_new - u_ll_old)\n",
      "../benji_girgs/mcmc.py:136: RuntimeWarning: overflow encountered in exp\n",
      "  Q_ratio = np.exp(u_ll_new - u_ll_old)\n",
      "../benji_girgs/mcmc.py:136: RuntimeWarning: overflow encountered in exp\n",
      "  Q_ratio = np.exp(u_ll_new - u_ll_old)\n",
      "../benji_girgs/mcmc.py:136: RuntimeWarning: overflow encountered in exp\n",
      "  Q_ratio = np.exp(u_ll_new - u_ll_old)\n",
      "../benji_girgs/mcmc.py:136: RuntimeWarning: overflow encountered in exp\n",
      "  Q_ratio = np.exp(u_ll_new - u_ll_old)\n",
      "../benji_girgs/mcmc.py:136: RuntimeWarning: overflow encountered in exp\n",
      "  Q_ratio = np.exp(u_ll_new - u_ll_old)\n",
      "../benji_girgs/mcmc.py:136: RuntimeWarning: overflow encountered in exp\n",
      "  Q_ratio = np.exp(u_ll_new - u_ll_old)\n",
      "../benji_girgs/mcmc.py:136: RuntimeWarning: overflow encountered in exp\n",
      "  Q_ratio = np.exp(u_ll_new - u_ll_old)\n",
      "../benji_girgs/mcmc.py:136: RuntimeWarning: overflow encountered in exp\n",
      "  Q_ratio = np.exp(u_ll_new - u_ll_old)\n",
      "../benji_girgs/mcmc.py:136: RuntimeWarning: overflow encountered in exp\n",
      "  Q_ratio = np.exp(u_ll_new - u_ll_old)\n",
      "../benji_girgs/mcmc.py:136: RuntimeWarning: overflow encountered in exp\n",
      "  Q_ratio = np.exp(u_ll_new - u_ll_old)\n",
      "../benji_girgs/mcmc.py:136: RuntimeWarning: overflow encountered in exp\n",
      "  Q_ratio = np.exp(u_ll_new - u_ll_old)\n",
      " 15%|█▍        | 2925/20000 [00:09<00:54, 314.59it/s]../benji_girgs/mcmc.py:136: RuntimeWarning: overflow encountered in exp\n",
      "  Q_ratio = np.exp(u_ll_new - u_ll_old)\n",
      "../benji_girgs/mcmc.py:136: RuntimeWarning: overflow encountered in exp\n",
      "  Q_ratio = np.exp(u_ll_new - u_ll_old)\n",
      "../benji_girgs/mcmc.py:136: RuntimeWarning: overflow encountered in exp\n",
      "  Q_ratio = np.exp(u_ll_new - u_ll_old)\n",
      "../benji_girgs/mcmc.py:136: RuntimeWarning: overflow encountered in exp\n",
      "  Q_ratio = np.exp(u_ll_new - u_ll_old)\n",
      "../benji_girgs/mcmc.py:136: RuntimeWarning: overflow encountered in exp\n",
      "  Q_ratio = np.exp(u_ll_new - u_ll_old)\n",
      "../benji_girgs/mcmc.py:136: RuntimeWarning: overflow encountered in exp\n",
      "  Q_ratio = np.exp(u_ll_new - u_ll_old)\n",
      "../benji_girgs/mcmc.py:136: RuntimeWarning: overflow encountered in exp\n",
      "  Q_ratio = np.exp(u_ll_new - u_ll_old)\n",
      "../benji_girgs/mcmc.py:136: RuntimeWarning: overflow encountered in exp\n",
      "  Q_ratio = np.exp(u_ll_new - u_ll_old)\n",
      "../benji_girgs/mcmc.py:136: RuntimeWarning: overflow encountered in exp\n",
      "  Q_ratio = np.exp(u_ll_new - u_ll_old)\n",
      "../benji_girgs/mcmc.py:136: RuntimeWarning: overflow encountered in exp\n",
      "  Q_ratio = np.exp(u_ll_new - u_ll_old)\n",
      "../benji_girgs/mcmc.py:136: RuntimeWarning: overflow encountered in exp\n",
      "  Q_ratio = np.exp(u_ll_new - u_ll_old)\n",
      "../benji_girgs/mcmc.py:136: RuntimeWarning: overflow encountered in exp\n",
      "  Q_ratio = np.exp(u_ll_new - u_ll_old)\n",
      " 16%|█▌        | 3150/20000 [00:09<00:53, 316.88it/s]../benji_girgs/mcmc.py:136: RuntimeWarning: overflow encountered in exp\n",
      "  Q_ratio = np.exp(u_ll_new - u_ll_old)\n",
      "../benji_girgs/mcmc.py:136: RuntimeWarning: overflow encountered in exp\n",
      "  Q_ratio = np.exp(u_ll_new - u_ll_old)\n",
      "../benji_girgs/mcmc.py:136: RuntimeWarning: overflow encountered in exp\n",
      "  Q_ratio = np.exp(u_ll_new - u_ll_old)\n",
      "../benji_girgs/mcmc.py:136: RuntimeWarning: overflow encountered in exp\n",
      "  Q_ratio = np.exp(u_ll_new - u_ll_old)\n",
      "../benji_girgs/mcmc.py:136: RuntimeWarning: overflow encountered in exp\n",
      "  Q_ratio = np.exp(u_ll_new - u_ll_old)\n",
      "../benji_girgs/mcmc.py:136: RuntimeWarning: overflow encountered in exp\n",
      "  Q_ratio = np.exp(u_ll_new - u_ll_old)\n",
      "../benji_girgs/mcmc.py:136: RuntimeWarning: overflow encountered in exp\n",
      "  Q_ratio = np.exp(u_ll_new - u_ll_old)\n",
      "../benji_girgs/mcmc.py:136: RuntimeWarning: overflow encountered in exp\n",
      "  Q_ratio = np.exp(u_ll_new - u_ll_old)\n",
      "../benji_girgs/mcmc.py:136: RuntimeWarning: overflow encountered in exp\n",
      "  Q_ratio = np.exp(u_ll_new - u_ll_old)\n",
      "../benji_girgs/mcmc.py:136: RuntimeWarning: overflow encountered in exp\n",
      "  Q_ratio = np.exp(u_ll_new - u_ll_old)\n",
      "../benji_girgs/mcmc.py:136: RuntimeWarning: overflow encountered in exp\n",
      "  Q_ratio = np.exp(u_ll_new - u_ll_old)\n",
      "../benji_girgs/mcmc.py:136: RuntimeWarning: overflow encountered in exp\n",
      "  Q_ratio = np.exp(u_ll_new - u_ll_old)\n",
      "../benji_girgs/mcmc.py:136: RuntimeWarning: overflow encountered in exp\n",
      "  Q_ratio = np.exp(u_ll_new - u_ll_old)\n",
      "../benji_girgs/mcmc.py:136: RuntimeWarning: overflow encountered in exp\n",
      "  Q_ratio = np.exp(u_ll_new - u_ll_old)\n",
      " 17%|█▋        | 3375/20000 [00:10<00:51, 321.57it/s]../benji_girgs/mcmc.py:136: RuntimeWarning: overflow encountered in exp\n",
      "  Q_ratio = np.exp(u_ll_new - u_ll_old)\n",
      "../benji_girgs/mcmc.py:136: RuntimeWarning: overflow encountered in exp\n",
      "  Q_ratio = np.exp(u_ll_new - u_ll_old)\n",
      "../benji_girgs/mcmc.py:136: RuntimeWarning: overflow encountered in exp\n",
      "  Q_ratio = np.exp(u_ll_new - u_ll_old)\n",
      "../benji_girgs/mcmc.py:136: RuntimeWarning: overflow encountered in exp\n",
      "  Q_ratio = np.exp(u_ll_new - u_ll_old)\n",
      "../benji_girgs/mcmc.py:136: RuntimeWarning: overflow encountered in exp\n",
      "  Q_ratio = np.exp(u_ll_new - u_ll_old)\n",
      "../benji_girgs/mcmc.py:136: RuntimeWarning: overflow encountered in exp\n",
      "  Q_ratio = np.exp(u_ll_new - u_ll_old)\n",
      "../benji_girgs/mcmc.py:136: RuntimeWarning: overflow encountered in exp\n",
      "  Q_ratio = np.exp(u_ll_new - u_ll_old)\n",
      "../benji_girgs/mcmc.py:136: RuntimeWarning: overflow encountered in exp\n",
      "  Q_ratio = np.exp(u_ll_new - u_ll_old)\n",
      "../benji_girgs/mcmc.py:136: RuntimeWarning: overflow encountered in exp\n",
      "  Q_ratio = np.exp(u_ll_new - u_ll_old)\n",
      "../benji_girgs/mcmc.py:136: RuntimeWarning: overflow encountered in exp\n",
      "  Q_ratio = np.exp(u_ll_new - u_ll_old)\n",
      "../benji_girgs/mcmc.py:136: RuntimeWarning: overflow encountered in exp\n",
      "  Q_ratio = np.exp(u_ll_new - u_ll_old)\n",
      "../benji_girgs/mcmc.py:136: RuntimeWarning: overflow encountered in exp\n",
      "  Q_ratio = np.exp(u_ll_new - u_ll_old)\n",
      "../benji_girgs/mcmc.py:136: RuntimeWarning: overflow encountered in exp\n",
      "  Q_ratio = np.exp(u_ll_new - u_ll_old)\n",
      "../benji_girgs/mcmc.py:136: RuntimeWarning: overflow encountered in exp\n",
      "  Q_ratio = np.exp(u_ll_new - u_ll_old)\n",
      " 18%|█▊        | 3600/20000 [00:11<00:50, 322.97it/s]../benji_girgs/mcmc.py:136: RuntimeWarning: overflow encountered in exp\n",
      "  Q_ratio = np.exp(u_ll_new - u_ll_old)\n",
      "../benji_girgs/mcmc.py:136: RuntimeWarning: overflow encountered in exp\n",
      "  Q_ratio = np.exp(u_ll_new - u_ll_old)\n",
      "../benji_girgs/mcmc.py:136: RuntimeWarning: overflow encountered in exp\n",
      "  Q_ratio = np.exp(u_ll_new - u_ll_old)\n",
      "../benji_girgs/mcmc.py:136: RuntimeWarning: overflow encountered in exp\n",
      "  Q_ratio = np.exp(u_ll_new - u_ll_old)\n",
      "../benji_girgs/mcmc.py:136: RuntimeWarning: overflow encountered in exp\n",
      "  Q_ratio = np.exp(u_ll_new - u_ll_old)\n",
      "../benji_girgs/mcmc.py:136: RuntimeWarning: overflow encountered in exp\n",
      "  Q_ratio = np.exp(u_ll_new - u_ll_old)\n",
      "../benji_girgs/mcmc.py:136: RuntimeWarning: overflow encountered in exp\n",
      "  Q_ratio = np.exp(u_ll_new - u_ll_old)\n",
      "../benji_girgs/mcmc.py:136: RuntimeWarning: overflow encountered in exp\n",
      "  Q_ratio = np.exp(u_ll_new - u_ll_old)\n",
      "../benji_girgs/mcmc.py:136: RuntimeWarning: overflow encountered in exp\n",
      "  Q_ratio = np.exp(u_ll_new - u_ll_old)\n",
      "../benji_girgs/mcmc.py:136: RuntimeWarning: overflow encountered in exp\n",
      "  Q_ratio = np.exp(u_ll_new - u_ll_old)\n",
      "../benji_girgs/mcmc.py:136: RuntimeWarning: overflow encountered in exp\n",
      "  Q_ratio = np.exp(u_ll_new - u_ll_old)\n",
      "../benji_girgs/mcmc.py:136: RuntimeWarning: overflow encountered in exp\n",
      "  Q_ratio = np.exp(u_ll_new - u_ll_old)\n",
      "../benji_girgs/mcmc.py:136: RuntimeWarning: overflow encountered in exp\n",
      "  Q_ratio = np.exp(u_ll_new - u_ll_old)\n",
      "../benji_girgs/mcmc.py:136: RuntimeWarning: overflow encountered in exp\n",
      "  Q_ratio = np.exp(u_ll_new - u_ll_old)\n",
      " 19%|█▉        | 3825/20000 [00:11<00:49, 324.64it/s]../benji_girgs/mcmc.py:136: RuntimeWarning: overflow encountered in exp\n",
      "  Q_ratio = np.exp(u_ll_new - u_ll_old)\n",
      "../benji_girgs/mcmc.py:136: RuntimeWarning: overflow encountered in exp\n",
      "  Q_ratio = np.exp(u_ll_new - u_ll_old)\n",
      "../benji_girgs/mcmc.py:136: RuntimeWarning: overflow encountered in exp\n",
      "  Q_ratio = np.exp(u_ll_new - u_ll_old)\n",
      "../benji_girgs/mcmc.py:136: RuntimeWarning: overflow encountered in exp\n",
      "  Q_ratio = np.exp(u_ll_new - u_ll_old)\n",
      "../benji_girgs/mcmc.py:136: RuntimeWarning: overflow encountered in exp\n",
      "  Q_ratio = np.exp(u_ll_new - u_ll_old)\n",
      "../benji_girgs/mcmc.py:136: RuntimeWarning: overflow encountered in exp\n",
      "  Q_ratio = np.exp(u_ll_new - u_ll_old)\n",
      "../benji_girgs/mcmc.py:136: RuntimeWarning: overflow encountered in exp\n",
      "  Q_ratio = np.exp(u_ll_new - u_ll_old)\n",
      "../benji_girgs/mcmc.py:136: RuntimeWarning: overflow encountered in exp\n",
      "  Q_ratio = np.exp(u_ll_new - u_ll_old)\n",
      "../benji_girgs/mcmc.py:136: RuntimeWarning: overflow encountered in exp\n",
      "  Q_ratio = np.exp(u_ll_new - u_ll_old)\n",
      "../benji_girgs/mcmc.py:136: RuntimeWarning: overflow encountered in exp\n",
      "  Q_ratio = np.exp(u_ll_new - u_ll_old)\n",
      "../benji_girgs/mcmc.py:136: RuntimeWarning: overflow encountered in exp\n",
      "  Q_ratio = np.exp(u_ll_new - u_ll_old)\n",
      "../benji_girgs/mcmc.py:136: RuntimeWarning: overflow encountered in exp\n",
      "  Q_ratio = np.exp(u_ll_new - u_ll_old)\n",
      "../benji_girgs/mcmc.py:136: RuntimeWarning: overflow encountered in exp\n",
      "  Q_ratio = np.exp(u_ll_new - u_ll_old)\n",
      "../benji_girgs/mcmc.py:136: RuntimeWarning: overflow encountered in exp\n",
      "  Q_ratio = np.exp(u_ll_new - u_ll_old)\n",
      " 20%|██        | 4050/20000 [00:12<00:50, 316.44it/s]../benji_girgs/mcmc.py:136: RuntimeWarning: overflow encountered in exp\n",
      "  Q_ratio = np.exp(u_ll_new - u_ll_old)\n",
      "../benji_girgs/mcmc.py:136: RuntimeWarning: overflow encountered in exp\n",
      "  Q_ratio = np.exp(u_ll_new - u_ll_old)\n",
      "../benji_girgs/mcmc.py:136: RuntimeWarning: overflow encountered in exp\n",
      "  Q_ratio = np.exp(u_ll_new - u_ll_old)\n",
      "../benji_girgs/mcmc.py:136: RuntimeWarning: overflow encountered in exp\n",
      "  Q_ratio = np.exp(u_ll_new - u_ll_old)\n",
      "../benji_girgs/mcmc.py:136: RuntimeWarning: overflow encountered in exp\n",
      "  Q_ratio = np.exp(u_ll_new - u_ll_old)\n",
      "../benji_girgs/mcmc.py:136: RuntimeWarning: overflow encountered in exp\n",
      "  Q_ratio = np.exp(u_ll_new - u_ll_old)\n",
      "../benji_girgs/mcmc.py:136: RuntimeWarning: overflow encountered in exp\n",
      "  Q_ratio = np.exp(u_ll_new - u_ll_old)\n",
      "../benji_girgs/mcmc.py:136: RuntimeWarning: overflow encountered in exp\n",
      "  Q_ratio = np.exp(u_ll_new - u_ll_old)\n",
      "../benji_girgs/mcmc.py:136: RuntimeWarning: overflow encountered in exp\n",
      "  Q_ratio = np.exp(u_ll_new - u_ll_old)\n",
      "../benji_girgs/mcmc.py:136: RuntimeWarning: overflow encountered in exp\n",
      "  Q_ratio = np.exp(u_ll_new - u_ll_old)\n",
      "../benji_girgs/mcmc.py:136: RuntimeWarning: overflow encountered in exp\n",
      "  Q_ratio = np.exp(u_ll_new - u_ll_old)\n",
      "../benji_girgs/mcmc.py:136: RuntimeWarning: overflow encountered in exp\n",
      "  Q_ratio = np.exp(u_ll_new - u_ll_old)\n",
      "../benji_girgs/mcmc.py:136: RuntimeWarning: overflow encountered in exp\n",
      "  Q_ratio = np.exp(u_ll_new - u_ll_old)\n",
      "../benji_girgs/mcmc.py:136: RuntimeWarning: overflow encountered in exp\n",
      "  Q_ratio = np.exp(u_ll_new - u_ll_old)\n",
      "../benji_girgs/mcmc.py:136: RuntimeWarning: overflow encountered in exp\n",
      "  Q_ratio = np.exp(u_ll_new - u_ll_old)\n",
      " 21%|██▏       | 4275/20000 [00:13<00:49, 317.26it/s]../benji_girgs/mcmc.py:136: RuntimeWarning: overflow encountered in exp\n",
      "  Q_ratio = np.exp(u_ll_new - u_ll_old)\n",
      "../benji_girgs/mcmc.py:136: RuntimeWarning: overflow encountered in exp\n",
      "  Q_ratio = np.exp(u_ll_new - u_ll_old)\n",
      "../benji_girgs/mcmc.py:136: RuntimeWarning: overflow encountered in exp\n",
      "  Q_ratio = np.exp(u_ll_new - u_ll_old)\n",
      "../benji_girgs/mcmc.py:136: RuntimeWarning: overflow encountered in exp\n",
      "  Q_ratio = np.exp(u_ll_new - u_ll_old)\n",
      "../benji_girgs/mcmc.py:136: RuntimeWarning: overflow encountered in exp\n",
      "  Q_ratio = np.exp(u_ll_new - u_ll_old)\n",
      "../benji_girgs/mcmc.py:136: RuntimeWarning: overflow encountered in exp\n",
      "  Q_ratio = np.exp(u_ll_new - u_ll_old)\n",
      "../benji_girgs/mcmc.py:136: RuntimeWarning: overflow encountered in exp\n",
      "  Q_ratio = np.exp(u_ll_new - u_ll_old)\n",
      "../benji_girgs/mcmc.py:136: RuntimeWarning: overflow encountered in exp\n",
      "  Q_ratio = np.exp(u_ll_new - u_ll_old)\n",
      "../benji_girgs/mcmc.py:136: RuntimeWarning: overflow encountered in exp\n",
      "  Q_ratio = np.exp(u_ll_new - u_ll_old)\n",
      "../benji_girgs/mcmc.py:136: RuntimeWarning: overflow encountered in exp\n",
      "  Q_ratio = np.exp(u_ll_new - u_ll_old)\n",
      "../benji_girgs/mcmc.py:136: RuntimeWarning: overflow encountered in exp\n",
      "  Q_ratio = np.exp(u_ll_new - u_ll_old)\n",
      "../benji_girgs/mcmc.py:136: RuntimeWarning: overflow encountered in exp\n",
      "  Q_ratio = np.exp(u_ll_new - u_ll_old)\n",
      "../benji_girgs/mcmc.py:136: RuntimeWarning: overflow encountered in exp\n",
      "  Q_ratio = np.exp(u_ll_new - u_ll_old)\n",
      "../benji_girgs/mcmc.py:136: RuntimeWarning: overflow encountered in exp\n",
      "  Q_ratio = np.exp(u_ll_new - u_ll_old)\n",
      " 22%|██▎       | 4500/20000 [00:14<00:48, 320.89it/s]../benji_girgs/mcmc.py:136: RuntimeWarning: overflow encountered in exp\n",
      "  Q_ratio = np.exp(u_ll_new - u_ll_old)\n",
      "../benji_girgs/mcmc.py:136: RuntimeWarning: overflow encountered in exp\n",
      "  Q_ratio = np.exp(u_ll_new - u_ll_old)\n",
      "../benji_girgs/mcmc.py:136: RuntimeWarning: overflow encountered in exp\n",
      "  Q_ratio = np.exp(u_ll_new - u_ll_old)\n",
      "../benji_girgs/mcmc.py:136: RuntimeWarning: overflow encountered in exp\n",
      "  Q_ratio = np.exp(u_ll_new - u_ll_old)\n",
      "../benji_girgs/mcmc.py:136: RuntimeWarning: overflow encountered in exp\n",
      "  Q_ratio = np.exp(u_ll_new - u_ll_old)\n",
      "../benji_girgs/mcmc.py:136: RuntimeWarning: overflow encountered in exp\n",
      "  Q_ratio = np.exp(u_ll_new - u_ll_old)\n",
      "../benji_girgs/mcmc.py:136: RuntimeWarning: overflow encountered in exp\n",
      "  Q_ratio = np.exp(u_ll_new - u_ll_old)\n",
      "../benji_girgs/mcmc.py:136: RuntimeWarning: overflow encountered in exp\n",
      "  Q_ratio = np.exp(u_ll_new - u_ll_old)\n",
      "../benji_girgs/mcmc.py:136: RuntimeWarning: overflow encountered in exp\n",
      "  Q_ratio = np.exp(u_ll_new - u_ll_old)\n",
      "../benji_girgs/mcmc.py:136: RuntimeWarning: overflow encountered in exp\n",
      "  Q_ratio = np.exp(u_ll_new - u_ll_old)\n",
      "../benji_girgs/mcmc.py:136: RuntimeWarning: overflow encountered in exp\n",
      "  Q_ratio = np.exp(u_ll_new - u_ll_old)\n",
      "../benji_girgs/mcmc.py:136: RuntimeWarning: overflow encountered in exp\n",
      "  Q_ratio = np.exp(u_ll_new - u_ll_old)\n",
      "../benji_girgs/mcmc.py:136: RuntimeWarning: overflow encountered in exp\n",
      "  Q_ratio = np.exp(u_ll_new - u_ll_old)\n",
      "../benji_girgs/mcmc.py:136: RuntimeWarning: overflow encountered in exp\n",
      "  Q_ratio = np.exp(u_ll_new - u_ll_old)\n",
      " 24%|██▎       | 4725/20000 [00:14<00:47, 322.57it/s]../benji_girgs/mcmc.py:136: RuntimeWarning: overflow encountered in exp\n",
      "  Q_ratio = np.exp(u_ll_new - u_ll_old)\n",
      "../benji_girgs/mcmc.py:136: RuntimeWarning: overflow encountered in exp\n",
      "  Q_ratio = np.exp(u_ll_new - u_ll_old)\n",
      "../benji_girgs/mcmc.py:136: RuntimeWarning: overflow encountered in exp\n",
      "  Q_ratio = np.exp(u_ll_new - u_ll_old)\n",
      "../benji_girgs/mcmc.py:136: RuntimeWarning: overflow encountered in exp\n",
      "  Q_ratio = np.exp(u_ll_new - u_ll_old)\n",
      "../benji_girgs/mcmc.py:136: RuntimeWarning: overflow encountered in exp\n",
      "  Q_ratio = np.exp(u_ll_new - u_ll_old)\n",
      "../benji_girgs/mcmc.py:136: RuntimeWarning: overflow encountered in exp\n",
      "  Q_ratio = np.exp(u_ll_new - u_ll_old)\n",
      "../benji_girgs/mcmc.py:136: RuntimeWarning: overflow encountered in exp\n",
      "  Q_ratio = np.exp(u_ll_new - u_ll_old)\n",
      "../benji_girgs/mcmc.py:136: RuntimeWarning: overflow encountered in exp\n",
      "  Q_ratio = np.exp(u_ll_new - u_ll_old)\n",
      "../benji_girgs/mcmc.py:136: RuntimeWarning: overflow encountered in exp\n",
      "  Q_ratio = np.exp(u_ll_new - u_ll_old)\n",
      "../benji_girgs/mcmc.py:136: RuntimeWarning: overflow encountered in exp\n",
      "  Q_ratio = np.exp(u_ll_new - u_ll_old)\n",
      "../benji_girgs/mcmc.py:136: RuntimeWarning: overflow encountered in exp\n",
      "  Q_ratio = np.exp(u_ll_new - u_ll_old)\n",
      "../benji_girgs/mcmc.py:136: RuntimeWarning: overflow encountered in exp\n",
      "  Q_ratio = np.exp(u_ll_new - u_ll_old)\n",
      "../benji_girgs/mcmc.py:136: RuntimeWarning: overflow encountered in exp\n",
      "  Q_ratio = np.exp(u_ll_new - u_ll_old)\n",
      "../benji_girgs/mcmc.py:136: RuntimeWarning: overflow encountered in exp\n",
      "  Q_ratio = np.exp(u_ll_new - u_ll_old)\n",
      " 25%|██▍       | 4950/20000 [00:15<00:46, 320.85it/s]../benji_girgs/mcmc.py:136: RuntimeWarning: overflow encountered in exp\n",
      "  Q_ratio = np.exp(u_ll_new - u_ll_old)\n",
      "../benji_girgs/mcmc.py:136: RuntimeWarning: overflow encountered in exp\n",
      "  Q_ratio = np.exp(u_ll_new - u_ll_old)\n",
      "../benji_girgs/mcmc.py:136: RuntimeWarning: overflow encountered in exp\n",
      "  Q_ratio = np.exp(u_ll_new - u_ll_old)\n",
      "../benji_girgs/mcmc.py:136: RuntimeWarning: overflow encountered in exp\n",
      "  Q_ratio = np.exp(u_ll_new - u_ll_old)\n",
      "../benji_girgs/mcmc.py:136: RuntimeWarning: overflow encountered in exp\n",
      "  Q_ratio = np.exp(u_ll_new - u_ll_old)\n",
      "../benji_girgs/mcmc.py:136: RuntimeWarning: overflow encountered in exp\n",
      "  Q_ratio = np.exp(u_ll_new - u_ll_old)\n",
      "../benji_girgs/mcmc.py:136: RuntimeWarning: overflow encountered in exp\n",
      "  Q_ratio = np.exp(u_ll_new - u_ll_old)\n",
      "../benji_girgs/mcmc.py:136: RuntimeWarning: overflow encountered in exp\n",
      "  Q_ratio = np.exp(u_ll_new - u_ll_old)\n",
      "../benji_girgs/mcmc.py:136: RuntimeWarning: overflow encountered in exp\n",
      "  Q_ratio = np.exp(u_ll_new - u_ll_old)\n",
      "../benji_girgs/mcmc.py:136: RuntimeWarning: overflow encountered in exp\n",
      "  Q_ratio = np.exp(u_ll_new - u_ll_old)\n",
      "../benji_girgs/mcmc.py:136: RuntimeWarning: overflow encountered in exp\n",
      "  Q_ratio = np.exp(u_ll_new - u_ll_old)\n",
      "../benji_girgs/mcmc.py:136: RuntimeWarning: overflow encountered in exp\n",
      "  Q_ratio = np.exp(u_ll_new - u_ll_old)\n",
      "../benji_girgs/mcmc.py:136: RuntimeWarning: overflow encountered in exp\n",
      "  Q_ratio = np.exp(u_ll_new - u_ll_old)\n",
      "../benji_girgs/mcmc.py:136: RuntimeWarning: overflow encountered in exp\n",
      "  Q_ratio = np.exp(u_ll_new - u_ll_old)\n",
      "../benji_girgs/mcmc.py:136: RuntimeWarning: overflow encountered in exp\n",
      "  Q_ratio = np.exp(u_ll_new - u_ll_old)\n",
      " 26%|██▌       | 5175/20000 [00:16<00:46, 320.20it/s]../benji_girgs/mcmc.py:136: RuntimeWarning: overflow encountered in exp\n",
      "  Q_ratio = np.exp(u_ll_new - u_ll_old)\n",
      "../benji_girgs/mcmc.py:136: RuntimeWarning: overflow encountered in exp\n",
      "  Q_ratio = np.exp(u_ll_new - u_ll_old)\n",
      "../benji_girgs/mcmc.py:136: RuntimeWarning: overflow encountered in exp\n",
      "  Q_ratio = np.exp(u_ll_new - u_ll_old)\n",
      "../benji_girgs/mcmc.py:136: RuntimeWarning: overflow encountered in exp\n",
      "  Q_ratio = np.exp(u_ll_new - u_ll_old)\n",
      "../benji_girgs/mcmc.py:136: RuntimeWarning: overflow encountered in exp\n",
      "  Q_ratio = np.exp(u_ll_new - u_ll_old)\n",
      "../benji_girgs/mcmc.py:136: RuntimeWarning: overflow encountered in exp\n",
      "  Q_ratio = np.exp(u_ll_new - u_ll_old)\n",
      "../benji_girgs/mcmc.py:136: RuntimeWarning: overflow encountered in exp\n",
      "  Q_ratio = np.exp(u_ll_new - u_ll_old)\n",
      "../benji_girgs/mcmc.py:136: RuntimeWarning: overflow encountered in exp\n",
      "  Q_ratio = np.exp(u_ll_new - u_ll_old)\n",
      "../benji_girgs/mcmc.py:136: RuntimeWarning: overflow encountered in exp\n",
      "  Q_ratio = np.exp(u_ll_new - u_ll_old)\n",
      "../benji_girgs/mcmc.py:136: RuntimeWarning: overflow encountered in exp\n",
      "  Q_ratio = np.exp(u_ll_new - u_ll_old)\n",
      "../benji_girgs/mcmc.py:136: RuntimeWarning: overflow encountered in exp\n",
      "  Q_ratio = np.exp(u_ll_new - u_ll_old)\n",
      "../benji_girgs/mcmc.py:136: RuntimeWarning: overflow encountered in exp\n",
      "  Q_ratio = np.exp(u_ll_new - u_ll_old)\n",
      "../benji_girgs/mcmc.py:136: RuntimeWarning: overflow encountered in exp\n",
      "  Q_ratio = np.exp(u_ll_new - u_ll_old)\n",
      "../benji_girgs/mcmc.py:136: RuntimeWarning: overflow encountered in exp\n",
      "  Q_ratio = np.exp(u_ll_new - u_ll_old)\n",
      "../benji_girgs/mcmc.py:136: RuntimeWarning: overflow encountered in exp\n",
      "  Q_ratio = np.exp(u_ll_new - u_ll_old)\n",
      " 27%|██▋       | 5400/20000 [00:16<00:46, 312.97it/s]../benji_girgs/mcmc.py:136: RuntimeWarning: overflow encountered in exp\n",
      "  Q_ratio = np.exp(u_ll_new - u_ll_old)\n",
      "../benji_girgs/mcmc.py:136: RuntimeWarning: overflow encountered in exp\n",
      "  Q_ratio = np.exp(u_ll_new - u_ll_old)\n",
      "../benji_girgs/mcmc.py:136: RuntimeWarning: overflow encountered in exp\n",
      "  Q_ratio = np.exp(u_ll_new - u_ll_old)\n",
      "../benji_girgs/mcmc.py:136: RuntimeWarning: overflow encountered in exp\n",
      "  Q_ratio = np.exp(u_ll_new - u_ll_old)\n",
      "../benji_girgs/mcmc.py:136: RuntimeWarning: overflow encountered in exp\n",
      "  Q_ratio = np.exp(u_ll_new - u_ll_old)\n",
      "../benji_girgs/mcmc.py:136: RuntimeWarning: overflow encountered in exp\n",
      "  Q_ratio = np.exp(u_ll_new - u_ll_old)\n",
      "../benji_girgs/mcmc.py:136: RuntimeWarning: overflow encountered in exp\n",
      "  Q_ratio = np.exp(u_ll_new - u_ll_old)\n",
      "../benji_girgs/mcmc.py:136: RuntimeWarning: overflow encountered in exp\n",
      "  Q_ratio = np.exp(u_ll_new - u_ll_old)\n",
      "../benji_girgs/mcmc.py:136: RuntimeWarning: overflow encountered in exp\n",
      "  Q_ratio = np.exp(u_ll_new - u_ll_old)\n",
      "../benji_girgs/mcmc.py:136: RuntimeWarning: overflow encountered in exp\n",
      "  Q_ratio = np.exp(u_ll_new - u_ll_old)\n",
      "../benji_girgs/mcmc.py:136: RuntimeWarning: overflow encountered in exp\n",
      "  Q_ratio = np.exp(u_ll_new - u_ll_old)\n",
      " 28%|██▊       | 5625/20000 [00:17<00:44, 320.38it/s]../benji_girgs/mcmc.py:136: RuntimeWarning: overflow encountered in exp\n",
      "  Q_ratio = np.exp(u_ll_new - u_ll_old)\n",
      "../benji_girgs/mcmc.py:136: RuntimeWarning: overflow encountered in exp\n",
      "  Q_ratio = np.exp(u_ll_new - u_ll_old)\n",
      "../benji_girgs/mcmc.py:136: RuntimeWarning: overflow encountered in exp\n",
      "  Q_ratio = np.exp(u_ll_new - u_ll_old)\n",
      "../benji_girgs/mcmc.py:136: RuntimeWarning: overflow encountered in exp\n",
      "  Q_ratio = np.exp(u_ll_new - u_ll_old)\n",
      "../benji_girgs/mcmc.py:136: RuntimeWarning: overflow encountered in exp\n",
      "  Q_ratio = np.exp(u_ll_new - u_ll_old)\n",
      "../benji_girgs/mcmc.py:136: RuntimeWarning: overflow encountered in exp\n",
      "  Q_ratio = np.exp(u_ll_new - u_ll_old)\n",
      "../benji_girgs/mcmc.py:136: RuntimeWarning: overflow encountered in exp\n",
      "  Q_ratio = np.exp(u_ll_new - u_ll_old)\n",
      "../benji_girgs/mcmc.py:136: RuntimeWarning: overflow encountered in exp\n",
      "  Q_ratio = np.exp(u_ll_new - u_ll_old)\n",
      "../benji_girgs/mcmc.py:136: RuntimeWarning: overflow encountered in exp\n",
      "  Q_ratio = np.exp(u_ll_new - u_ll_old)\n",
      "../benji_girgs/mcmc.py:136: RuntimeWarning: overflow encountered in exp\n",
      "  Q_ratio = np.exp(u_ll_new - u_ll_old)\n",
      "../benji_girgs/mcmc.py:136: RuntimeWarning: overflow encountered in exp\n",
      "  Q_ratio = np.exp(u_ll_new - u_ll_old)\n",
      "../benji_girgs/mcmc.py:136: RuntimeWarning: overflow encountered in exp\n",
      "  Q_ratio = np.exp(u_ll_new - u_ll_old)\n",
      "../benji_girgs/mcmc.py:136: RuntimeWarning: overflow encountered in exp\n",
      "  Q_ratio = np.exp(u_ll_new - u_ll_old)\n",
      " 29%|██▉       | 5850/20000 [00:18<00:43, 322.34it/s]../benji_girgs/mcmc.py:136: RuntimeWarning: overflow encountered in exp\n",
      "  Q_ratio = np.exp(u_ll_new - u_ll_old)\n",
      "../benji_girgs/mcmc.py:136: RuntimeWarning: overflow encountered in exp\n",
      "  Q_ratio = np.exp(u_ll_new - u_ll_old)\n",
      "../benji_girgs/mcmc.py:136: RuntimeWarning: overflow encountered in exp\n",
      "  Q_ratio = np.exp(u_ll_new - u_ll_old)\n",
      "../benji_girgs/mcmc.py:136: RuntimeWarning: overflow encountered in exp\n",
      "  Q_ratio = np.exp(u_ll_new - u_ll_old)\n",
      "../benji_girgs/mcmc.py:136: RuntimeWarning: overflow encountered in exp\n",
      "  Q_ratio = np.exp(u_ll_new - u_ll_old)\n",
      "../benji_girgs/mcmc.py:136: RuntimeWarning: overflow encountered in exp\n",
      "  Q_ratio = np.exp(u_ll_new - u_ll_old)\n",
      "../benji_girgs/mcmc.py:136: RuntimeWarning: overflow encountered in exp\n",
      "  Q_ratio = np.exp(u_ll_new - u_ll_old)\n",
      "../benji_girgs/mcmc.py:136: RuntimeWarning: overflow encountered in exp\n",
      "  Q_ratio = np.exp(u_ll_new - u_ll_old)\n",
      "../benji_girgs/mcmc.py:136: RuntimeWarning: overflow encountered in exp\n",
      "  Q_ratio = np.exp(u_ll_new - u_ll_old)\n",
      "../benji_girgs/mcmc.py:136: RuntimeWarning: overflow encountered in exp\n",
      "  Q_ratio = np.exp(u_ll_new - u_ll_old)\n",
      "../benji_girgs/mcmc.py:136: RuntimeWarning: overflow encountered in exp\n",
      "  Q_ratio = np.exp(u_ll_new - u_ll_old)\n",
      "../benji_girgs/mcmc.py:136: RuntimeWarning: overflow encountered in exp\n",
      "  Q_ratio = np.exp(u_ll_new - u_ll_old)\n",
      "../benji_girgs/mcmc.py:136: RuntimeWarning: overflow encountered in exp\n",
      "  Q_ratio = np.exp(u_ll_new - u_ll_old)\n",
      " 30%|███       | 6075/20000 [00:18<00:42, 326.23it/s]../benji_girgs/mcmc.py:136: RuntimeWarning: overflow encountered in exp\n",
      "  Q_ratio = np.exp(u_ll_new - u_ll_old)\n",
      "../benji_girgs/mcmc.py:136: RuntimeWarning: overflow encountered in exp\n",
      "  Q_ratio = np.exp(u_ll_new - u_ll_old)\n",
      "../benji_girgs/mcmc.py:136: RuntimeWarning: overflow encountered in exp\n",
      "  Q_ratio = np.exp(u_ll_new - u_ll_old)\n",
      "../benji_girgs/mcmc.py:136: RuntimeWarning: overflow encountered in exp\n",
      "  Q_ratio = np.exp(u_ll_new - u_ll_old)\n",
      "../benji_girgs/mcmc.py:136: RuntimeWarning: overflow encountered in exp\n",
      "  Q_ratio = np.exp(u_ll_new - u_ll_old)\n",
      "../benji_girgs/mcmc.py:136: RuntimeWarning: overflow encountered in exp\n",
      "  Q_ratio = np.exp(u_ll_new - u_ll_old)\n",
      "../benji_girgs/mcmc.py:136: RuntimeWarning: overflow encountered in exp\n",
      "  Q_ratio = np.exp(u_ll_new - u_ll_old)\n",
      "../benji_girgs/mcmc.py:136: RuntimeWarning: overflow encountered in exp\n",
      "  Q_ratio = np.exp(u_ll_new - u_ll_old)\n",
      "../benji_girgs/mcmc.py:136: RuntimeWarning: overflow encountered in exp\n",
      "  Q_ratio = np.exp(u_ll_new - u_ll_old)\n",
      "../benji_girgs/mcmc.py:136: RuntimeWarning: overflow encountered in exp\n",
      "  Q_ratio = np.exp(u_ll_new - u_ll_old)\n",
      "../benji_girgs/mcmc.py:136: RuntimeWarning: overflow encountered in exp\n",
      "  Q_ratio = np.exp(u_ll_new - u_ll_old)\n",
      "../benji_girgs/mcmc.py:136: RuntimeWarning: overflow encountered in exp\n",
      "  Q_ratio = np.exp(u_ll_new - u_ll_old)\n",
      " 32%|███▏      | 6300/20000 [00:19<00:41, 327.44it/s]../benji_girgs/mcmc.py:136: RuntimeWarning: overflow encountered in exp\n",
      "  Q_ratio = np.exp(u_ll_new - u_ll_old)\n",
      "../benji_girgs/mcmc.py:136: RuntimeWarning: overflow encountered in exp\n",
      "  Q_ratio = np.exp(u_ll_new - u_ll_old)\n",
      "../benji_girgs/mcmc.py:136: RuntimeWarning: overflow encountered in exp\n",
      "  Q_ratio = np.exp(u_ll_new - u_ll_old)\n",
      "../benji_girgs/mcmc.py:136: RuntimeWarning: overflow encountered in exp\n",
      "  Q_ratio = np.exp(u_ll_new - u_ll_old)\n",
      "../benji_girgs/mcmc.py:136: RuntimeWarning: overflow encountered in exp\n",
      "  Q_ratio = np.exp(u_ll_new - u_ll_old)\n",
      "../benji_girgs/mcmc.py:136: RuntimeWarning: overflow encountered in exp\n",
      "  Q_ratio = np.exp(u_ll_new - u_ll_old)\n",
      "../benji_girgs/mcmc.py:136: RuntimeWarning: overflow encountered in exp\n",
      "  Q_ratio = np.exp(u_ll_new - u_ll_old)\n",
      "../benji_girgs/mcmc.py:136: RuntimeWarning: overflow encountered in exp\n",
      "  Q_ratio = np.exp(u_ll_new - u_ll_old)\n",
      "../benji_girgs/mcmc.py:136: RuntimeWarning: overflow encountered in exp\n",
      "  Q_ratio = np.exp(u_ll_new - u_ll_old)\n",
      "../benji_girgs/mcmc.py:136: RuntimeWarning: overflow encountered in exp\n",
      "  Q_ratio = np.exp(u_ll_new - u_ll_old)\n",
      "../benji_girgs/mcmc.py:136: RuntimeWarning: overflow encountered in exp\n",
      "  Q_ratio = np.exp(u_ll_new - u_ll_old)\n",
      "../benji_girgs/mcmc.py:136: RuntimeWarning: overflow encountered in exp\n",
      "  Q_ratio = np.exp(u_ll_new - u_ll_old)\n",
      "../benji_girgs/mcmc.py:136: RuntimeWarning: overflow encountered in exp\n",
      "  Q_ratio = np.exp(u_ll_new - u_ll_old)\n",
      "../benji_girgs/mcmc.py:136: RuntimeWarning: overflow encountered in exp\n",
      "  Q_ratio = np.exp(u_ll_new - u_ll_old)\n",
      " 33%|███▎      | 6525/20000 [00:20<00:41, 327.52it/s]../benji_girgs/mcmc.py:136: RuntimeWarning: overflow encountered in exp\n",
      "  Q_ratio = np.exp(u_ll_new - u_ll_old)\n",
      "../benji_girgs/mcmc.py:136: RuntimeWarning: overflow encountered in exp\n",
      "  Q_ratio = np.exp(u_ll_new - u_ll_old)\n",
      "../benji_girgs/mcmc.py:136: RuntimeWarning: overflow encountered in exp\n",
      "  Q_ratio = np.exp(u_ll_new - u_ll_old)\n",
      "../benji_girgs/mcmc.py:136: RuntimeWarning: overflow encountered in exp\n",
      "  Q_ratio = np.exp(u_ll_new - u_ll_old)\n",
      "../benji_girgs/mcmc.py:136: RuntimeWarning: overflow encountered in exp\n",
      "  Q_ratio = np.exp(u_ll_new - u_ll_old)\n",
      "../benji_girgs/mcmc.py:136: RuntimeWarning: overflow encountered in exp\n",
      "  Q_ratio = np.exp(u_ll_new - u_ll_old)\n",
      "../benji_girgs/mcmc.py:136: RuntimeWarning: overflow encountered in exp\n",
      "  Q_ratio = np.exp(u_ll_new - u_ll_old)\n",
      "../benji_girgs/mcmc.py:136: RuntimeWarning: overflow encountered in exp\n",
      "  Q_ratio = np.exp(u_ll_new - u_ll_old)\n",
      "../benji_girgs/mcmc.py:136: RuntimeWarning: overflow encountered in exp\n",
      "  Q_ratio = np.exp(u_ll_new - u_ll_old)\n",
      "../benji_girgs/mcmc.py:136: RuntimeWarning: overflow encountered in exp\n",
      "  Q_ratio = np.exp(u_ll_new - u_ll_old)\n",
      "../benji_girgs/mcmc.py:136: RuntimeWarning: overflow encountered in exp\n",
      "  Q_ratio = np.exp(u_ll_new - u_ll_old)\n",
      "../benji_girgs/mcmc.py:136: RuntimeWarning: overflow encountered in exp\n",
      "  Q_ratio = np.exp(u_ll_new - u_ll_old)\n",
      "../benji_girgs/mcmc.py:136: RuntimeWarning: overflow encountered in exp\n",
      "  Q_ratio = np.exp(u_ll_new - u_ll_old)\n",
      " 34%|███▍      | 6750/20000 [00:20<00:40, 325.51it/s]../benji_girgs/mcmc.py:136: RuntimeWarning: overflow encountered in exp\n",
      "  Q_ratio = np.exp(u_ll_new - u_ll_old)\n",
      "../benji_girgs/mcmc.py:136: RuntimeWarning: overflow encountered in exp\n",
      "  Q_ratio = np.exp(u_ll_new - u_ll_old)\n",
      "../benji_girgs/mcmc.py:136: RuntimeWarning: overflow encountered in exp\n",
      "  Q_ratio = np.exp(u_ll_new - u_ll_old)\n",
      "../benji_girgs/mcmc.py:136: RuntimeWarning: overflow encountered in exp\n",
      "  Q_ratio = np.exp(u_ll_new - u_ll_old)\n",
      "../benji_girgs/mcmc.py:136: RuntimeWarning: overflow encountered in exp\n",
      "  Q_ratio = np.exp(u_ll_new - u_ll_old)\n",
      "../benji_girgs/mcmc.py:136: RuntimeWarning: overflow encountered in exp\n",
      "  Q_ratio = np.exp(u_ll_new - u_ll_old)\n",
      "../benji_girgs/mcmc.py:136: RuntimeWarning: overflow encountered in exp\n",
      "  Q_ratio = np.exp(u_ll_new - u_ll_old)\n",
      "../benji_girgs/mcmc.py:136: RuntimeWarning: overflow encountered in exp\n",
      "  Q_ratio = np.exp(u_ll_new - u_ll_old)\n",
      "../benji_girgs/mcmc.py:136: RuntimeWarning: overflow encountered in exp\n",
      "  Q_ratio = np.exp(u_ll_new - u_ll_old)\n",
      "../benji_girgs/mcmc.py:136: RuntimeWarning: overflow encountered in exp\n",
      "  Q_ratio = np.exp(u_ll_new - u_ll_old)\n",
      "../benji_girgs/mcmc.py:136: RuntimeWarning: overflow encountered in exp\n",
      "  Q_ratio = np.exp(u_ll_new - u_ll_old)\n",
      "../benji_girgs/mcmc.py:136: RuntimeWarning: overflow encountered in exp\n",
      "  Q_ratio = np.exp(u_ll_new - u_ll_old)\n",
      "../benji_girgs/mcmc.py:136: RuntimeWarning: overflow encountered in exp\n",
      "  Q_ratio = np.exp(u_ll_new - u_ll_old)\n",
      " 35%|███▍      | 6975/20000 [00:21<00:40, 325.19it/s]../benji_girgs/mcmc.py:136: RuntimeWarning: overflow encountered in exp\n",
      "  Q_ratio = np.exp(u_ll_new - u_ll_old)\n",
      "../benji_girgs/mcmc.py:136: RuntimeWarning: overflow encountered in exp\n",
      "  Q_ratio = np.exp(u_ll_new - u_ll_old)\n",
      "../benji_girgs/mcmc.py:136: RuntimeWarning: overflow encountered in exp\n",
      "  Q_ratio = np.exp(u_ll_new - u_ll_old)\n",
      "../benji_girgs/mcmc.py:136: RuntimeWarning: overflow encountered in exp\n",
      "  Q_ratio = np.exp(u_ll_new - u_ll_old)\n",
      "../benji_girgs/mcmc.py:136: RuntimeWarning: overflow encountered in exp\n",
      "  Q_ratio = np.exp(u_ll_new - u_ll_old)\n",
      "../benji_girgs/mcmc.py:136: RuntimeWarning: overflow encountered in exp\n",
      "  Q_ratio = np.exp(u_ll_new - u_ll_old)\n",
      "../benji_girgs/mcmc.py:136: RuntimeWarning: overflow encountered in exp\n",
      "  Q_ratio = np.exp(u_ll_new - u_ll_old)\n",
      "../benji_girgs/mcmc.py:136: RuntimeWarning: overflow encountered in exp\n",
      "  Q_ratio = np.exp(u_ll_new - u_ll_old)\n",
      "../benji_girgs/mcmc.py:136: RuntimeWarning: overflow encountered in exp\n",
      "  Q_ratio = np.exp(u_ll_new - u_ll_old)\n",
      "../benji_girgs/mcmc.py:136: RuntimeWarning: overflow encountered in exp\n",
      "  Q_ratio = np.exp(u_ll_new - u_ll_old)\n",
      "../benji_girgs/mcmc.py:136: RuntimeWarning: overflow encountered in exp\n",
      "  Q_ratio = np.exp(u_ll_new - u_ll_old)\n",
      "../benji_girgs/mcmc.py:136: RuntimeWarning: overflow encountered in exp\n",
      "  Q_ratio = np.exp(u_ll_new - u_ll_old)\n",
      "../benji_girgs/mcmc.py:136: RuntimeWarning: overflow encountered in exp\n",
      "  Q_ratio = np.exp(u_ll_new - u_ll_old)\n",
      "../benji_girgs/mcmc.py:136: RuntimeWarning: overflow encountered in exp\n",
      "  Q_ratio = np.exp(u_ll_new - u_ll_old)\n",
      "../benji_girgs/mcmc.py:136: RuntimeWarning: overflow encountered in exp\n",
      "  Q_ratio = np.exp(u_ll_new - u_ll_old)\n",
      " 36%|███▌      | 7200/20000 [00:22<00:39, 324.15it/s]../benji_girgs/mcmc.py:136: RuntimeWarning: overflow encountered in exp\n",
      "  Q_ratio = np.exp(u_ll_new - u_ll_old)\n",
      "../benji_girgs/mcmc.py:136: RuntimeWarning: overflow encountered in exp\n",
      "  Q_ratio = np.exp(u_ll_new - u_ll_old)\n",
      "../benji_girgs/mcmc.py:136: RuntimeWarning: overflow encountered in exp\n",
      "  Q_ratio = np.exp(u_ll_new - u_ll_old)\n",
      "../benji_girgs/mcmc.py:136: RuntimeWarning: overflow encountered in exp\n",
      "  Q_ratio = np.exp(u_ll_new - u_ll_old)\n",
      "../benji_girgs/mcmc.py:136: RuntimeWarning: overflow encountered in exp\n",
      "  Q_ratio = np.exp(u_ll_new - u_ll_old)\n",
      "../benji_girgs/mcmc.py:136: RuntimeWarning: overflow encountered in exp\n",
      "  Q_ratio = np.exp(u_ll_new - u_ll_old)\n",
      "../benji_girgs/mcmc.py:136: RuntimeWarning: overflow encountered in exp\n",
      "  Q_ratio = np.exp(u_ll_new - u_ll_old)\n",
      "../benji_girgs/mcmc.py:136: RuntimeWarning: overflow encountered in exp\n",
      "  Q_ratio = np.exp(u_ll_new - u_ll_old)\n",
      "../benji_girgs/mcmc.py:136: RuntimeWarning: overflow encountered in exp\n",
      "  Q_ratio = np.exp(u_ll_new - u_ll_old)\n",
      "../benji_girgs/mcmc.py:136: RuntimeWarning: overflow encountered in exp\n",
      "  Q_ratio = np.exp(u_ll_new - u_ll_old)\n",
      "../benji_girgs/mcmc.py:136: RuntimeWarning: overflow encountered in exp\n",
      "  Q_ratio = np.exp(u_ll_new - u_ll_old)\n",
      "../benji_girgs/mcmc.py:136: RuntimeWarning: overflow encountered in exp\n",
      "  Q_ratio = np.exp(u_ll_new - u_ll_old)\n",
      " 37%|███▋      | 7425/20000 [00:23<00:39, 320.29it/s]../benji_girgs/mcmc.py:136: RuntimeWarning: overflow encountered in exp\n",
      "  Q_ratio = np.exp(u_ll_new - u_ll_old)\n",
      "../benji_girgs/mcmc.py:136: RuntimeWarning: overflow encountered in exp\n",
      "  Q_ratio = np.exp(u_ll_new - u_ll_old)\n",
      "../benji_girgs/mcmc.py:136: RuntimeWarning: overflow encountered in exp\n",
      "  Q_ratio = np.exp(u_ll_new - u_ll_old)\n",
      "../benji_girgs/mcmc.py:136: RuntimeWarning: overflow encountered in exp\n",
      "  Q_ratio = np.exp(u_ll_new - u_ll_old)\n",
      "../benji_girgs/mcmc.py:136: RuntimeWarning: overflow encountered in exp\n",
      "  Q_ratio = np.exp(u_ll_new - u_ll_old)\n",
      "../benji_girgs/mcmc.py:136: RuntimeWarning: overflow encountered in exp\n",
      "  Q_ratio = np.exp(u_ll_new - u_ll_old)\n",
      "../benji_girgs/mcmc.py:136: RuntimeWarning: overflow encountered in exp\n",
      "  Q_ratio = np.exp(u_ll_new - u_ll_old)\n",
      "../benji_girgs/mcmc.py:136: RuntimeWarning: overflow encountered in exp\n",
      "  Q_ratio = np.exp(u_ll_new - u_ll_old)\n",
      "../benji_girgs/mcmc.py:136: RuntimeWarning: overflow encountered in exp\n",
      "  Q_ratio = np.exp(u_ll_new - u_ll_old)\n",
      "../benji_girgs/mcmc.py:136: RuntimeWarning: overflow encountered in exp\n",
      "  Q_ratio = np.exp(u_ll_new - u_ll_old)\n",
      "../benji_girgs/mcmc.py:136: RuntimeWarning: overflow encountered in exp\n",
      "  Q_ratio = np.exp(u_ll_new - u_ll_old)\n",
      "../benji_girgs/mcmc.py:136: RuntimeWarning: overflow encountered in exp\n",
      "  Q_ratio = np.exp(u_ll_new - u_ll_old)\n",
      "../benji_girgs/mcmc.py:136: RuntimeWarning: overflow encountered in exp\n",
      "  Q_ratio = np.exp(u_ll_new - u_ll_old)\n",
      " 38%|███▊      | 7650/20000 [00:23<00:38, 322.70it/s]../benji_girgs/mcmc.py:136: RuntimeWarning: overflow encountered in exp\n",
      "  Q_ratio = np.exp(u_ll_new - u_ll_old)\n",
      "../benji_girgs/mcmc.py:136: RuntimeWarning: overflow encountered in exp\n",
      "  Q_ratio = np.exp(u_ll_new - u_ll_old)\n",
      "../benji_girgs/mcmc.py:136: RuntimeWarning: overflow encountered in exp\n",
      "  Q_ratio = np.exp(u_ll_new - u_ll_old)\n",
      "../benji_girgs/mcmc.py:136: RuntimeWarning: overflow encountered in exp\n",
      "  Q_ratio = np.exp(u_ll_new - u_ll_old)\n",
      "../benji_girgs/mcmc.py:136: RuntimeWarning: overflow encountered in exp\n",
      "  Q_ratio = np.exp(u_ll_new - u_ll_old)\n",
      "../benji_girgs/mcmc.py:136: RuntimeWarning: overflow encountered in exp\n",
      "  Q_ratio = np.exp(u_ll_new - u_ll_old)\n",
      "../benji_girgs/mcmc.py:136: RuntimeWarning: overflow encountered in exp\n",
      "  Q_ratio = np.exp(u_ll_new - u_ll_old)\n",
      "../benji_girgs/mcmc.py:136: RuntimeWarning: overflow encountered in exp\n",
      "  Q_ratio = np.exp(u_ll_new - u_ll_old)\n",
      "../benji_girgs/mcmc.py:136: RuntimeWarning: overflow encountered in exp\n",
      "  Q_ratio = np.exp(u_ll_new - u_ll_old)\n",
      "../benji_girgs/mcmc.py:136: RuntimeWarning: overflow encountered in exp\n",
      "  Q_ratio = np.exp(u_ll_new - u_ll_old)\n",
      "../benji_girgs/mcmc.py:136: RuntimeWarning: overflow encountered in exp\n",
      "  Q_ratio = np.exp(u_ll_new - u_ll_old)\n",
      " 39%|███▉      | 7875/20000 [00:24<00:37, 326.32it/s]../benji_girgs/mcmc.py:136: RuntimeWarning: overflow encountered in exp\n",
      "  Q_ratio = np.exp(u_ll_new - u_ll_old)\n",
      "../benji_girgs/mcmc.py:136: RuntimeWarning: overflow encountered in exp\n",
      "  Q_ratio = np.exp(u_ll_new - u_ll_old)\n",
      "../benji_girgs/mcmc.py:136: RuntimeWarning: overflow encountered in exp\n",
      "  Q_ratio = np.exp(u_ll_new - u_ll_old)\n",
      "../benji_girgs/mcmc.py:136: RuntimeWarning: overflow encountered in exp\n",
      "  Q_ratio = np.exp(u_ll_new - u_ll_old)\n",
      "../benji_girgs/mcmc.py:136: RuntimeWarning: overflow encountered in exp\n",
      "  Q_ratio = np.exp(u_ll_new - u_ll_old)\n",
      "../benji_girgs/mcmc.py:136: RuntimeWarning: overflow encountered in exp\n",
      "  Q_ratio = np.exp(u_ll_new - u_ll_old)\n",
      "../benji_girgs/mcmc.py:136: RuntimeWarning: overflow encountered in exp\n",
      "  Q_ratio = np.exp(u_ll_new - u_ll_old)\n",
      "../benji_girgs/mcmc.py:136: RuntimeWarning: overflow encountered in exp\n",
      "  Q_ratio = np.exp(u_ll_new - u_ll_old)\n",
      "../benji_girgs/mcmc.py:136: RuntimeWarning: overflow encountered in exp\n",
      "  Q_ratio = np.exp(u_ll_new - u_ll_old)\n",
      "../benji_girgs/mcmc.py:136: RuntimeWarning: overflow encountered in exp\n",
      "  Q_ratio = np.exp(u_ll_new - u_ll_old)\n",
      "../benji_girgs/mcmc.py:136: RuntimeWarning: overflow encountered in exp\n",
      "  Q_ratio = np.exp(u_ll_new - u_ll_old)\n",
      "../benji_girgs/mcmc.py:136: RuntimeWarning: overflow encountered in exp\n",
      "  Q_ratio = np.exp(u_ll_new - u_ll_old)\n",
      " 40%|████      | 8100/20000 [00:25<00:36, 326.19it/s]../benji_girgs/mcmc.py:136: RuntimeWarning: overflow encountered in exp\n",
      "  Q_ratio = np.exp(u_ll_new - u_ll_old)\n",
      "../benji_girgs/mcmc.py:136: RuntimeWarning: overflow encountered in exp\n",
      "  Q_ratio = np.exp(u_ll_new - u_ll_old)\n",
      "../benji_girgs/mcmc.py:136: RuntimeWarning: overflow encountered in exp\n",
      "  Q_ratio = np.exp(u_ll_new - u_ll_old)\n",
      "../benji_girgs/mcmc.py:136: RuntimeWarning: overflow encountered in exp\n",
      "  Q_ratio = np.exp(u_ll_new - u_ll_old)\n",
      "../benji_girgs/mcmc.py:136: RuntimeWarning: overflow encountered in exp\n",
      "  Q_ratio = np.exp(u_ll_new - u_ll_old)\n",
      "../benji_girgs/mcmc.py:136: RuntimeWarning: overflow encountered in exp\n",
      "  Q_ratio = np.exp(u_ll_new - u_ll_old)\n",
      "../benji_girgs/mcmc.py:136: RuntimeWarning: overflow encountered in exp\n",
      "  Q_ratio = np.exp(u_ll_new - u_ll_old)\n",
      "../benji_girgs/mcmc.py:136: RuntimeWarning: overflow encountered in exp\n",
      "  Q_ratio = np.exp(u_ll_new - u_ll_old)\n",
      "../benji_girgs/mcmc.py:136: RuntimeWarning: overflow encountered in exp\n",
      "  Q_ratio = np.exp(u_ll_new - u_ll_old)\n",
      "../benji_girgs/mcmc.py:136: RuntimeWarning: overflow encountered in exp\n",
      "  Q_ratio = np.exp(u_ll_new - u_ll_old)\n",
      "../benji_girgs/mcmc.py:136: RuntimeWarning: overflow encountered in exp\n",
      "  Q_ratio = np.exp(u_ll_new - u_ll_old)\n",
      " 42%|████▏     | 8325/20000 [00:25<00:35, 324.42it/s]../benji_girgs/mcmc.py:136: RuntimeWarning: overflow encountered in exp\n",
      "  Q_ratio = np.exp(u_ll_new - u_ll_old)\n",
      "../benji_girgs/mcmc.py:136: RuntimeWarning: overflow encountered in exp\n",
      "  Q_ratio = np.exp(u_ll_new - u_ll_old)\n",
      "../benji_girgs/mcmc.py:136: RuntimeWarning: overflow encountered in exp\n",
      "  Q_ratio = np.exp(u_ll_new - u_ll_old)\n",
      "../benji_girgs/mcmc.py:136: RuntimeWarning: overflow encountered in exp\n",
      "  Q_ratio = np.exp(u_ll_new - u_ll_old)\n",
      "../benji_girgs/mcmc.py:136: RuntimeWarning: overflow encountered in exp\n",
      "  Q_ratio = np.exp(u_ll_new - u_ll_old)\n",
      "../benji_girgs/mcmc.py:136: RuntimeWarning: overflow encountered in exp\n",
      "  Q_ratio = np.exp(u_ll_new - u_ll_old)\n",
      "../benji_girgs/mcmc.py:136: RuntimeWarning: overflow encountered in exp\n",
      "  Q_ratio = np.exp(u_ll_new - u_ll_old)\n",
      "../benji_girgs/mcmc.py:136: RuntimeWarning: overflow encountered in exp\n",
      "  Q_ratio = np.exp(u_ll_new - u_ll_old)\n",
      "../benji_girgs/mcmc.py:136: RuntimeWarning: overflow encountered in exp\n",
      "  Q_ratio = np.exp(u_ll_new - u_ll_old)\n",
      "../benji_girgs/mcmc.py:136: RuntimeWarning: overflow encountered in exp\n",
      "  Q_ratio = np.exp(u_ll_new - u_ll_old)\n",
      "../benji_girgs/mcmc.py:136: RuntimeWarning: overflow encountered in exp\n",
      "  Q_ratio = np.exp(u_ll_new - u_ll_old)\n",
      "../benji_girgs/mcmc.py:136: RuntimeWarning: overflow encountered in exp\n",
      "  Q_ratio = np.exp(u_ll_new - u_ll_old)\n",
      "../benji_girgs/mcmc.py:136: RuntimeWarning: overflow encountered in exp\n",
      "  Q_ratio = np.exp(u_ll_new - u_ll_old)\n",
      " 43%|████▎     | 8550/20000 [00:26<00:35, 324.84it/s]../benji_girgs/mcmc.py:136: RuntimeWarning: overflow encountered in exp\n",
      "  Q_ratio = np.exp(u_ll_new - u_ll_old)\n",
      "../benji_girgs/mcmc.py:136: RuntimeWarning: overflow encountered in exp\n",
      "  Q_ratio = np.exp(u_ll_new - u_ll_old)\n",
      "../benji_girgs/mcmc.py:136: RuntimeWarning: overflow encountered in exp\n",
      "  Q_ratio = np.exp(u_ll_new - u_ll_old)\n",
      "../benji_girgs/mcmc.py:136: RuntimeWarning: overflow encountered in exp\n",
      "  Q_ratio = np.exp(u_ll_new - u_ll_old)\n",
      "../benji_girgs/mcmc.py:136: RuntimeWarning: overflow encountered in exp\n",
      "  Q_ratio = np.exp(u_ll_new - u_ll_old)\n",
      "../benji_girgs/mcmc.py:136: RuntimeWarning: overflow encountered in exp\n",
      "  Q_ratio = np.exp(u_ll_new - u_ll_old)\n",
      "../benji_girgs/mcmc.py:136: RuntimeWarning: overflow encountered in exp\n",
      "  Q_ratio = np.exp(u_ll_new - u_ll_old)\n",
      "../benji_girgs/mcmc.py:136: RuntimeWarning: overflow encountered in exp\n",
      "  Q_ratio = np.exp(u_ll_new - u_ll_old)\n",
      "../benji_girgs/mcmc.py:136: RuntimeWarning: overflow encountered in exp\n",
      "  Q_ratio = np.exp(u_ll_new - u_ll_old)\n",
      "../benji_girgs/mcmc.py:136: RuntimeWarning: overflow encountered in exp\n",
      "  Q_ratio = np.exp(u_ll_new - u_ll_old)\n",
      " 44%|████▍     | 8775/20000 [00:27<00:34, 327.25it/s]../benji_girgs/mcmc.py:136: RuntimeWarning: overflow encountered in exp\n",
      "  Q_ratio = np.exp(u_ll_new - u_ll_old)\n",
      "../benji_girgs/mcmc.py:136: RuntimeWarning: overflow encountered in exp\n",
      "  Q_ratio = np.exp(u_ll_new - u_ll_old)\n",
      "../benji_girgs/mcmc.py:136: RuntimeWarning: overflow encountered in exp\n",
      "  Q_ratio = np.exp(u_ll_new - u_ll_old)\n",
      "../benji_girgs/mcmc.py:136: RuntimeWarning: overflow encountered in exp\n",
      "  Q_ratio = np.exp(u_ll_new - u_ll_old)\n",
      "../benji_girgs/mcmc.py:136: RuntimeWarning: overflow encountered in exp\n",
      "  Q_ratio = np.exp(u_ll_new - u_ll_old)\n",
      "../benji_girgs/mcmc.py:136: RuntimeWarning: overflow encountered in exp\n",
      "  Q_ratio = np.exp(u_ll_new - u_ll_old)\n",
      "../benji_girgs/mcmc.py:136: RuntimeWarning: overflow encountered in exp\n",
      "  Q_ratio = np.exp(u_ll_new - u_ll_old)\n",
      "../benji_girgs/mcmc.py:136: RuntimeWarning: overflow encountered in exp\n",
      "  Q_ratio = np.exp(u_ll_new - u_ll_old)\n",
      "../benji_girgs/mcmc.py:136: RuntimeWarning: overflow encountered in exp\n",
      "  Q_ratio = np.exp(u_ll_new - u_ll_old)\n",
      "../benji_girgs/mcmc.py:136: RuntimeWarning: overflow encountered in exp\n",
      "  Q_ratio = np.exp(u_ll_new - u_ll_old)\n",
      " 45%|████▌     | 9000/20000 [00:27<00:34, 320.23it/s]../benji_girgs/mcmc.py:136: RuntimeWarning: overflow encountered in exp\n",
      "  Q_ratio = np.exp(u_ll_new - u_ll_old)\n",
      "../benji_girgs/mcmc.py:136: RuntimeWarning: overflow encountered in exp\n",
      "  Q_ratio = np.exp(u_ll_new - u_ll_old)\n",
      "../benji_girgs/mcmc.py:136: RuntimeWarning: overflow encountered in exp\n",
      "  Q_ratio = np.exp(u_ll_new - u_ll_old)\n",
      "../benji_girgs/mcmc.py:136: RuntimeWarning: overflow encountered in exp\n",
      "  Q_ratio = np.exp(u_ll_new - u_ll_old)\n",
      "../benji_girgs/mcmc.py:136: RuntimeWarning: overflow encountered in exp\n",
      "  Q_ratio = np.exp(u_ll_new - u_ll_old)\n",
      "../benji_girgs/mcmc.py:136: RuntimeWarning: overflow encountered in exp\n",
      "  Q_ratio = np.exp(u_ll_new - u_ll_old)\n",
      "../benji_girgs/mcmc.py:136: RuntimeWarning: overflow encountered in exp\n",
      "  Q_ratio = np.exp(u_ll_new - u_ll_old)\n",
      "../benji_girgs/mcmc.py:136: RuntimeWarning: overflow encountered in exp\n",
      "  Q_ratio = np.exp(u_ll_new - u_ll_old)\n",
      "../benji_girgs/mcmc.py:136: RuntimeWarning: overflow encountered in exp\n",
      "  Q_ratio = np.exp(u_ll_new - u_ll_old)\n",
      "../benji_girgs/mcmc.py:136: RuntimeWarning: overflow encountered in exp\n",
      "  Q_ratio = np.exp(u_ll_new - u_ll_old)\n",
      "../benji_girgs/mcmc.py:136: RuntimeWarning: overflow encountered in exp\n",
      "  Q_ratio = np.exp(u_ll_new - u_ll_old)\n",
      "../benji_girgs/mcmc.py:136: RuntimeWarning: overflow encountered in exp\n",
      "  Q_ratio = np.exp(u_ll_new - u_ll_old)\n",
      "../benji_girgs/mcmc.py:136: RuntimeWarning: overflow encountered in exp\n",
      "  Q_ratio = np.exp(u_ll_new - u_ll_old)\n",
      " 46%|████▌     | 9225/20000 [00:28<00:34, 314.27it/s]../benji_girgs/mcmc.py:136: RuntimeWarning: overflow encountered in exp\n",
      "  Q_ratio = np.exp(u_ll_new - u_ll_old)\n",
      "../benji_girgs/mcmc.py:136: RuntimeWarning: overflow encountered in exp\n",
      "  Q_ratio = np.exp(u_ll_new - u_ll_old)\n",
      "../benji_girgs/mcmc.py:136: RuntimeWarning: overflow encountered in exp\n",
      "  Q_ratio = np.exp(u_ll_new - u_ll_old)\n",
      "../benji_girgs/mcmc.py:136: RuntimeWarning: overflow encountered in exp\n",
      "  Q_ratio = np.exp(u_ll_new - u_ll_old)\n",
      "../benji_girgs/mcmc.py:136: RuntimeWarning: overflow encountered in exp\n",
      "  Q_ratio = np.exp(u_ll_new - u_ll_old)\n",
      "../benji_girgs/mcmc.py:136: RuntimeWarning: overflow encountered in exp\n",
      "  Q_ratio = np.exp(u_ll_new - u_ll_old)\n",
      "../benji_girgs/mcmc.py:136: RuntimeWarning: overflow encountered in exp\n",
      "  Q_ratio = np.exp(u_ll_new - u_ll_old)\n",
      "../benji_girgs/mcmc.py:136: RuntimeWarning: overflow encountered in exp\n",
      "  Q_ratio = np.exp(u_ll_new - u_ll_old)\n",
      "../benji_girgs/mcmc.py:136: RuntimeWarning: overflow encountered in exp\n",
      "  Q_ratio = np.exp(u_ll_new - u_ll_old)\n",
      "../benji_girgs/mcmc.py:136: RuntimeWarning: overflow encountered in exp\n",
      "  Q_ratio = np.exp(u_ll_new - u_ll_old)\n",
      "../benji_girgs/mcmc.py:136: RuntimeWarning: overflow encountered in exp\n",
      "  Q_ratio = np.exp(u_ll_new - u_ll_old)\n",
      "../benji_girgs/mcmc.py:136: RuntimeWarning: overflow encountered in exp\n",
      "  Q_ratio = np.exp(u_ll_new - u_ll_old)\n",
      "../benji_girgs/mcmc.py:136: RuntimeWarning: overflow encountered in exp\n",
      "  Q_ratio = np.exp(u_ll_new - u_ll_old)\n",
      " 47%|████▋     | 9450/20000 [00:29<00:32, 320.61it/s]../benji_girgs/mcmc.py:136: RuntimeWarning: overflow encountered in exp\n",
      "  Q_ratio = np.exp(u_ll_new - u_ll_old)\n",
      "../benji_girgs/mcmc.py:136: RuntimeWarning: overflow encountered in exp\n",
      "  Q_ratio = np.exp(u_ll_new - u_ll_old)\n",
      "../benji_girgs/mcmc.py:136: RuntimeWarning: overflow encountered in exp\n",
      "  Q_ratio = np.exp(u_ll_new - u_ll_old)\n",
      "../benji_girgs/mcmc.py:136: RuntimeWarning: overflow encountered in exp\n",
      "  Q_ratio = np.exp(u_ll_new - u_ll_old)\n",
      "../benji_girgs/mcmc.py:136: RuntimeWarning: overflow encountered in exp\n",
      "  Q_ratio = np.exp(u_ll_new - u_ll_old)\n",
      "../benji_girgs/mcmc.py:136: RuntimeWarning: overflow encountered in exp\n",
      "  Q_ratio = np.exp(u_ll_new - u_ll_old)\n",
      "../benji_girgs/mcmc.py:136: RuntimeWarning: overflow encountered in exp\n",
      "  Q_ratio = np.exp(u_ll_new - u_ll_old)\n",
      "../benji_girgs/mcmc.py:136: RuntimeWarning: overflow encountered in exp\n",
      "  Q_ratio = np.exp(u_ll_new - u_ll_old)\n",
      " 48%|████▊     | 9675/20000 [00:30<00:32, 320.26it/s]../benji_girgs/mcmc.py:136: RuntimeWarning: overflow encountered in exp\n",
      "  Q_ratio = np.exp(u_ll_new - u_ll_old)\n",
      "../benji_girgs/mcmc.py:136: RuntimeWarning: overflow encountered in exp\n",
      "  Q_ratio = np.exp(u_ll_new - u_ll_old)\n",
      "../benji_girgs/mcmc.py:136: RuntimeWarning: overflow encountered in exp\n",
      "  Q_ratio = np.exp(u_ll_new - u_ll_old)\n",
      "../benji_girgs/mcmc.py:136: RuntimeWarning: overflow encountered in exp\n",
      "  Q_ratio = np.exp(u_ll_new - u_ll_old)\n",
      "../benji_girgs/mcmc.py:136: RuntimeWarning: overflow encountered in exp\n",
      "  Q_ratio = np.exp(u_ll_new - u_ll_old)\n",
      "../benji_girgs/mcmc.py:136: RuntimeWarning: overflow encountered in exp\n",
      "  Q_ratio = np.exp(u_ll_new - u_ll_old)\n",
      " 50%|████▉     | 9900/20000 [00:30<00:32, 310.38it/s]../benji_girgs/mcmc.py:136: RuntimeWarning: overflow encountered in exp\n",
      "  Q_ratio = np.exp(u_ll_new - u_ll_old)\n",
      "../benji_girgs/mcmc.py:136: RuntimeWarning: overflow encountered in exp\n",
      "  Q_ratio = np.exp(u_ll_new - u_ll_old)\n",
      "../benji_girgs/mcmc.py:136: RuntimeWarning: overflow encountered in exp\n",
      "  Q_ratio = np.exp(u_ll_new - u_ll_old)\n",
      "../benji_girgs/mcmc.py:136: RuntimeWarning: overflow encountered in exp\n",
      "  Q_ratio = np.exp(u_ll_new - u_ll_old)\n",
      "../benji_girgs/mcmc.py:136: RuntimeWarning: overflow encountered in exp\n",
      "  Q_ratio = np.exp(u_ll_new - u_ll_old)\n",
      "../benji_girgs/mcmc.py:136: RuntimeWarning: overflow encountered in exp\n",
      "  Q_ratio = np.exp(u_ll_new - u_ll_old)\n",
      "../benji_girgs/mcmc.py:136: RuntimeWarning: overflow encountered in exp\n",
      "  Q_ratio = np.exp(u_ll_new - u_ll_old)\n",
      "../benji_girgs/mcmc.py:136: RuntimeWarning: overflow encountered in exp\n",
      "  Q_ratio = np.exp(u_ll_new - u_ll_old)\n",
      "../benji_girgs/mcmc.py:136: RuntimeWarning: overflow encountered in exp\n",
      "  Q_ratio = np.exp(u_ll_new - u_ll_old)\n",
      "../benji_girgs/mcmc.py:136: RuntimeWarning: overflow encountered in exp\n",
      "  Q_ratio = np.exp(u_ll_new - u_ll_old)\n",
      "../benji_girgs/mcmc.py:136: RuntimeWarning: overflow encountered in exp\n",
      "  Q_ratio = np.exp(u_ll_new - u_ll_old)\n",
      "../benji_girgs/mcmc.py:136: RuntimeWarning: overflow encountered in exp\n",
      "  Q_ratio = np.exp(u_ll_new - u_ll_old)\n",
      " 51%|█████     | 10125/20000 [00:31<00:31, 311.65it/s]../benji_girgs/mcmc.py:136: RuntimeWarning: overflow encountered in exp\n",
      "  Q_ratio = np.exp(u_ll_new - u_ll_old)\n",
      "../benji_girgs/mcmc.py:136: RuntimeWarning: overflow encountered in exp\n",
      "  Q_ratio = np.exp(u_ll_new - u_ll_old)\n",
      "../benji_girgs/mcmc.py:136: RuntimeWarning: overflow encountered in exp\n",
      "  Q_ratio = np.exp(u_ll_new - u_ll_old)\n",
      "../benji_girgs/mcmc.py:136: RuntimeWarning: overflow encountered in exp\n",
      "  Q_ratio = np.exp(u_ll_new - u_ll_old)\n",
      "../benji_girgs/mcmc.py:136: RuntimeWarning: overflow encountered in exp\n",
      "  Q_ratio = np.exp(u_ll_new - u_ll_old)\n",
      "../benji_girgs/mcmc.py:136: RuntimeWarning: overflow encountered in exp\n",
      "  Q_ratio = np.exp(u_ll_new - u_ll_old)\n",
      "../benji_girgs/mcmc.py:136: RuntimeWarning: overflow encountered in exp\n",
      "  Q_ratio = np.exp(u_ll_new - u_ll_old)\n",
      " 52%|█████▏    | 10350/20000 [00:32<00:30, 318.45it/s]../benji_girgs/mcmc.py:136: RuntimeWarning: overflow encountered in exp\n",
      "  Q_ratio = np.exp(u_ll_new - u_ll_old)\n",
      "../benji_girgs/mcmc.py:136: RuntimeWarning: overflow encountered in exp\n",
      "  Q_ratio = np.exp(u_ll_new - u_ll_old)\n",
      "../benji_girgs/mcmc.py:136: RuntimeWarning: overflow encountered in exp\n",
      "  Q_ratio = np.exp(u_ll_new - u_ll_old)\n",
      "../benji_girgs/mcmc.py:136: RuntimeWarning: overflow encountered in exp\n",
      "  Q_ratio = np.exp(u_ll_new - u_ll_old)\n",
      "../benji_girgs/mcmc.py:136: RuntimeWarning: overflow encountered in exp\n",
      "  Q_ratio = np.exp(u_ll_new - u_ll_old)\n",
      "../benji_girgs/mcmc.py:136: RuntimeWarning: overflow encountered in exp\n",
      "  Q_ratio = np.exp(u_ll_new - u_ll_old)\n",
      "../benji_girgs/mcmc.py:136: RuntimeWarning: overflow encountered in exp\n",
      "  Q_ratio = np.exp(u_ll_new - u_ll_old)\n",
      " 53%|█████▎    | 10575/20000 [00:33<00:30, 311.98it/s]../benji_girgs/mcmc.py:136: RuntimeWarning: overflow encountered in exp\n",
      "  Q_ratio = np.exp(u_ll_new - u_ll_old)\n",
      "../benji_girgs/mcmc.py:136: RuntimeWarning: overflow encountered in exp\n",
      "  Q_ratio = np.exp(u_ll_new - u_ll_old)\n",
      "../benji_girgs/mcmc.py:136: RuntimeWarning: overflow encountered in exp\n",
      "  Q_ratio = np.exp(u_ll_new - u_ll_old)\n",
      "../benji_girgs/mcmc.py:136: RuntimeWarning: overflow encountered in exp\n",
      "  Q_ratio = np.exp(u_ll_new - u_ll_old)\n",
      "../benji_girgs/mcmc.py:136: RuntimeWarning: overflow encountered in exp\n",
      "  Q_ratio = np.exp(u_ll_new - u_ll_old)\n",
      "../benji_girgs/mcmc.py:136: RuntimeWarning: overflow encountered in exp\n",
      "  Q_ratio = np.exp(u_ll_new - u_ll_old)\n",
      "../benji_girgs/mcmc.py:136: RuntimeWarning: overflow encountered in exp\n",
      "  Q_ratio = np.exp(u_ll_new - u_ll_old)\n",
      "../benji_girgs/mcmc.py:136: RuntimeWarning: overflow encountered in exp\n",
      "  Q_ratio = np.exp(u_ll_new - u_ll_old)\n",
      "../benji_girgs/mcmc.py:136: RuntimeWarning: overflow encountered in exp\n",
      "  Q_ratio = np.exp(u_ll_new - u_ll_old)\n",
      "../benji_girgs/mcmc.py:136: RuntimeWarning: overflow encountered in exp\n",
      "  Q_ratio = np.exp(u_ll_new - u_ll_old)\n",
      " 54%|█████▍    | 10800/20000 [00:33<00:29, 315.77it/s]../benji_girgs/mcmc.py:136: RuntimeWarning: overflow encountered in exp\n",
      "  Q_ratio = np.exp(u_ll_new - u_ll_old)\n",
      "../benji_girgs/mcmc.py:136: RuntimeWarning: overflow encountered in exp\n",
      "  Q_ratio = np.exp(u_ll_new - u_ll_old)\n",
      "../benji_girgs/mcmc.py:136: RuntimeWarning: overflow encountered in exp\n",
      "  Q_ratio = np.exp(u_ll_new - u_ll_old)\n",
      "../benji_girgs/mcmc.py:136: RuntimeWarning: overflow encountered in exp\n",
      "  Q_ratio = np.exp(u_ll_new - u_ll_old)\n",
      "../benji_girgs/mcmc.py:136: RuntimeWarning: overflow encountered in exp\n",
      "  Q_ratio = np.exp(u_ll_new - u_ll_old)\n",
      "../benji_girgs/mcmc.py:136: RuntimeWarning: overflow encountered in exp\n",
      "  Q_ratio = np.exp(u_ll_new - u_ll_old)\n",
      " 55%|█████▌    | 11025/20000 [00:34<00:28, 315.93it/s]../benji_girgs/mcmc.py:136: RuntimeWarning: overflow encountered in exp\n",
      "  Q_ratio = np.exp(u_ll_new - u_ll_old)\n",
      "../benji_girgs/mcmc.py:136: RuntimeWarning: overflow encountered in exp\n",
      "  Q_ratio = np.exp(u_ll_new - u_ll_old)\n",
      "../benji_girgs/mcmc.py:136: RuntimeWarning: overflow encountered in exp\n",
      "  Q_ratio = np.exp(u_ll_new - u_ll_old)\n",
      "../benji_girgs/mcmc.py:136: RuntimeWarning: overflow encountered in exp\n",
      "  Q_ratio = np.exp(u_ll_new - u_ll_old)\n",
      "../benji_girgs/mcmc.py:136: RuntimeWarning: overflow encountered in exp\n",
      "  Q_ratio = np.exp(u_ll_new - u_ll_old)\n",
      "../benji_girgs/mcmc.py:136: RuntimeWarning: overflow encountered in exp\n",
      "  Q_ratio = np.exp(u_ll_new - u_ll_old)\n",
      " 56%|█████▋    | 11250/20000 [00:35<00:27, 318.33it/s]../benji_girgs/mcmc.py:136: RuntimeWarning: overflow encountered in exp\n",
      "  Q_ratio = np.exp(u_ll_new - u_ll_old)\n",
      "../benji_girgs/mcmc.py:136: RuntimeWarning: overflow encountered in exp\n",
      "  Q_ratio = np.exp(u_ll_new - u_ll_old)\n",
      "../benji_girgs/mcmc.py:136: RuntimeWarning: overflow encountered in exp\n",
      "  Q_ratio = np.exp(u_ll_new - u_ll_old)\n",
      "../benji_girgs/mcmc.py:136: RuntimeWarning: overflow encountered in exp\n",
      "  Q_ratio = np.exp(u_ll_new - u_ll_old)\n",
      "../benji_girgs/mcmc.py:136: RuntimeWarning: overflow encountered in exp\n",
      "  Q_ratio = np.exp(u_ll_new - u_ll_old)\n",
      "../benji_girgs/mcmc.py:136: RuntimeWarning: overflow encountered in exp\n",
      "  Q_ratio = np.exp(u_ll_new - u_ll_old)\n",
      "../benji_girgs/mcmc.py:136: RuntimeWarning: overflow encountered in exp\n",
      "  Q_ratio = np.exp(u_ll_new - u_ll_old)\n",
      " 57%|█████▋    | 11475/20000 [00:35<00:26, 323.62it/s]../benji_girgs/mcmc.py:136: RuntimeWarning: overflow encountered in exp\n",
      "  Q_ratio = np.exp(u_ll_new - u_ll_old)\n",
      "../benji_girgs/mcmc.py:136: RuntimeWarning: overflow encountered in exp\n",
      "  Q_ratio = np.exp(u_ll_new - u_ll_old)\n",
      "../benji_girgs/mcmc.py:136: RuntimeWarning: overflow encountered in exp\n",
      "  Q_ratio = np.exp(u_ll_new - u_ll_old)\n",
      "../benji_girgs/mcmc.py:136: RuntimeWarning: overflow encountered in exp\n",
      "  Q_ratio = np.exp(u_ll_new - u_ll_old)\n",
      "../benji_girgs/mcmc.py:136: RuntimeWarning: overflow encountered in exp\n",
      "  Q_ratio = np.exp(u_ll_new - u_ll_old)\n",
      "../benji_girgs/mcmc.py:136: RuntimeWarning: overflow encountered in exp\n",
      "  Q_ratio = np.exp(u_ll_new - u_ll_old)\n",
      "../benji_girgs/mcmc.py:136: RuntimeWarning: overflow encountered in exp\n",
      "  Q_ratio = np.exp(u_ll_new - u_ll_old)\n",
      " 58%|█████▊    | 11700/20000 [00:36<00:25, 321.53it/s]../benji_girgs/mcmc.py:136: RuntimeWarning: overflow encountered in exp\n",
      "  Q_ratio = np.exp(u_ll_new - u_ll_old)\n",
      "../benji_girgs/mcmc.py:136: RuntimeWarning: overflow encountered in exp\n",
      "  Q_ratio = np.exp(u_ll_new - u_ll_old)\n",
      "../benji_girgs/mcmc.py:136: RuntimeWarning: overflow encountered in exp\n",
      "  Q_ratio = np.exp(u_ll_new - u_ll_old)\n",
      "../benji_girgs/mcmc.py:136: RuntimeWarning: overflow encountered in exp\n",
      "  Q_ratio = np.exp(u_ll_new - u_ll_old)\n",
      "../benji_girgs/mcmc.py:136: RuntimeWarning: overflow encountered in exp\n",
      "  Q_ratio = np.exp(u_ll_new - u_ll_old)\n",
      "../benji_girgs/mcmc.py:136: RuntimeWarning: overflow encountered in exp\n",
      "  Q_ratio = np.exp(u_ll_new - u_ll_old)\n",
      "../benji_girgs/mcmc.py:136: RuntimeWarning: overflow encountered in exp\n",
      "  Q_ratio = np.exp(u_ll_new - u_ll_old)\n",
      " 60%|█████▉    | 11925/20000 [00:37<00:25, 317.74it/s]../benji_girgs/mcmc.py:136: RuntimeWarning: overflow encountered in exp\n",
      "  Q_ratio = np.exp(u_ll_new - u_ll_old)\n",
      "../benji_girgs/mcmc.py:136: RuntimeWarning: overflow encountered in exp\n",
      "  Q_ratio = np.exp(u_ll_new - u_ll_old)\n",
      "../benji_girgs/mcmc.py:136: RuntimeWarning: overflow encountered in exp\n",
      "  Q_ratio = np.exp(u_ll_new - u_ll_old)\n",
      "../benji_girgs/mcmc.py:136: RuntimeWarning: overflow encountered in exp\n",
      "  Q_ratio = np.exp(u_ll_new - u_ll_old)\n",
      "../benji_girgs/mcmc.py:136: RuntimeWarning: overflow encountered in exp\n",
      "  Q_ratio = np.exp(u_ll_new - u_ll_old)\n",
      "../benji_girgs/mcmc.py:136: RuntimeWarning: overflow encountered in exp\n",
      "  Q_ratio = np.exp(u_ll_new - u_ll_old)\n",
      "../benji_girgs/mcmc.py:136: RuntimeWarning: overflow encountered in exp\n",
      "  Q_ratio = np.exp(u_ll_new - u_ll_old)\n",
      "../benji_girgs/mcmc.py:136: RuntimeWarning: overflow encountered in exp\n",
      "  Q_ratio = np.exp(u_ll_new - u_ll_old)\n",
      "../benji_girgs/mcmc.py:136: RuntimeWarning: overflow encountered in exp\n",
      "  Q_ratio = np.exp(u_ll_new - u_ll_old)\n",
      "../benji_girgs/mcmc.py:136: RuntimeWarning: overflow encountered in exp\n",
      "  Q_ratio = np.exp(u_ll_new - u_ll_old)\n",
      "../benji_girgs/mcmc.py:136: RuntimeWarning: overflow encountered in exp\n",
      "  Q_ratio = np.exp(u_ll_new - u_ll_old)\n",
      "../benji_girgs/mcmc.py:136: RuntimeWarning: overflow encountered in exp\n",
      "  Q_ratio = np.exp(u_ll_new - u_ll_old)\n",
      "../benji_girgs/mcmc.py:136: RuntimeWarning: overflow encountered in exp\n",
      "  Q_ratio = np.exp(u_ll_new - u_ll_old)\n",
      " 61%|██████    | 12150/20000 [00:37<00:25, 313.84it/s]../benji_girgs/mcmc.py:136: RuntimeWarning: overflow encountered in exp\n",
      "  Q_ratio = np.exp(u_ll_new - u_ll_old)\n",
      "../benji_girgs/mcmc.py:136: RuntimeWarning: overflow encountered in exp\n",
      "  Q_ratio = np.exp(u_ll_new - u_ll_old)\n",
      "../benji_girgs/mcmc.py:136: RuntimeWarning: overflow encountered in exp\n",
      "  Q_ratio = np.exp(u_ll_new - u_ll_old)\n",
      "../benji_girgs/mcmc.py:136: RuntimeWarning: overflow encountered in exp\n",
      "  Q_ratio = np.exp(u_ll_new - u_ll_old)\n",
      "../benji_girgs/mcmc.py:136: RuntimeWarning: overflow encountered in exp\n",
      "  Q_ratio = np.exp(u_ll_new - u_ll_old)\n",
      "../benji_girgs/mcmc.py:136: RuntimeWarning: overflow encountered in exp\n",
      "  Q_ratio = np.exp(u_ll_new - u_ll_old)\n",
      "../benji_girgs/mcmc.py:136: RuntimeWarning: overflow encountered in exp\n",
      "  Q_ratio = np.exp(u_ll_new - u_ll_old)\n",
      "../benji_girgs/mcmc.py:136: RuntimeWarning: overflow encountered in exp\n",
      "  Q_ratio = np.exp(u_ll_new - u_ll_old)\n",
      "../benji_girgs/mcmc.py:136: RuntimeWarning: overflow encountered in exp\n",
      "  Q_ratio = np.exp(u_ll_new - u_ll_old)\n",
      " 62%|██████▏   | 12375/20000 [00:38<00:24, 316.46it/s]../benji_girgs/mcmc.py:136: RuntimeWarning: overflow encountered in exp\n",
      "  Q_ratio = np.exp(u_ll_new - u_ll_old)\n",
      "../benji_girgs/mcmc.py:136: RuntimeWarning: overflow encountered in exp\n",
      "  Q_ratio = np.exp(u_ll_new - u_ll_old)\n",
      "../benji_girgs/mcmc.py:136: RuntimeWarning: overflow encountered in exp\n",
      "  Q_ratio = np.exp(u_ll_new - u_ll_old)\n",
      "../benji_girgs/mcmc.py:136: RuntimeWarning: overflow encountered in exp\n",
      "  Q_ratio = np.exp(u_ll_new - u_ll_old)\n",
      "../benji_girgs/mcmc.py:136: RuntimeWarning: overflow encountered in exp\n",
      "  Q_ratio = np.exp(u_ll_new - u_ll_old)\n",
      "../benji_girgs/mcmc.py:136: RuntimeWarning: overflow encountered in exp\n",
      "  Q_ratio = np.exp(u_ll_new - u_ll_old)\n",
      " 63%|██████▎   | 12600/20000 [00:39<00:23, 318.50it/s]../benji_girgs/mcmc.py:136: RuntimeWarning: overflow encountered in exp\n",
      "  Q_ratio = np.exp(u_ll_new - u_ll_old)\n",
      "../benji_girgs/mcmc.py:136: RuntimeWarning: overflow encountered in exp\n",
      "  Q_ratio = np.exp(u_ll_new - u_ll_old)\n",
      "../benji_girgs/mcmc.py:136: RuntimeWarning: overflow encountered in exp\n",
      "  Q_ratio = np.exp(u_ll_new - u_ll_old)\n",
      "../benji_girgs/mcmc.py:136: RuntimeWarning: overflow encountered in exp\n",
      "  Q_ratio = np.exp(u_ll_new - u_ll_old)\n",
      "../benji_girgs/mcmc.py:136: RuntimeWarning: overflow encountered in exp\n",
      "  Q_ratio = np.exp(u_ll_new - u_ll_old)\n",
      "../benji_girgs/mcmc.py:136: RuntimeWarning: overflow encountered in exp\n",
      "  Q_ratio = np.exp(u_ll_new - u_ll_old)\n",
      "../benji_girgs/mcmc.py:136: RuntimeWarning: overflow encountered in exp\n",
      "  Q_ratio = np.exp(u_ll_new - u_ll_old)\n",
      "../benji_girgs/mcmc.py:136: RuntimeWarning: overflow encountered in exp\n",
      "  Q_ratio = np.exp(u_ll_new - u_ll_old)\n",
      "../benji_girgs/mcmc.py:136: RuntimeWarning: overflow encountered in exp\n",
      "  Q_ratio = np.exp(u_ll_new - u_ll_old)\n",
      " 64%|██████▍   | 12825/20000 [00:40<00:22, 317.02it/s]../benji_girgs/mcmc.py:136: RuntimeWarning: overflow encountered in exp\n",
      "  Q_ratio = np.exp(u_ll_new - u_ll_old)\n",
      "../benji_girgs/mcmc.py:136: RuntimeWarning: overflow encountered in exp\n",
      "  Q_ratio = np.exp(u_ll_new - u_ll_old)\n",
      "../benji_girgs/mcmc.py:136: RuntimeWarning: overflow encountered in exp\n",
      "  Q_ratio = np.exp(u_ll_new - u_ll_old)\n",
      "../benji_girgs/mcmc.py:136: RuntimeWarning: overflow encountered in exp\n",
      "  Q_ratio = np.exp(u_ll_new - u_ll_old)\n",
      "../benji_girgs/mcmc.py:136: RuntimeWarning: overflow encountered in exp\n",
      "  Q_ratio = np.exp(u_ll_new - u_ll_old)\n",
      "../benji_girgs/mcmc.py:136: RuntimeWarning: overflow encountered in exp\n",
      "  Q_ratio = np.exp(u_ll_new - u_ll_old)\n",
      " 65%|██████▌   | 13050/20000 [00:40<00:22, 315.23it/s]../benji_girgs/mcmc.py:136: RuntimeWarning: overflow encountered in exp\n",
      "  Q_ratio = np.exp(u_ll_new - u_ll_old)\n",
      "../benji_girgs/mcmc.py:136: RuntimeWarning: overflow encountered in exp\n",
      "  Q_ratio = np.exp(u_ll_new - u_ll_old)\n",
      "../benji_girgs/mcmc.py:136: RuntimeWarning: overflow encountered in exp\n",
      "  Q_ratio = np.exp(u_ll_new - u_ll_old)\n",
      "../benji_girgs/mcmc.py:136: RuntimeWarning: overflow encountered in exp\n",
      "  Q_ratio = np.exp(u_ll_new - u_ll_old)\n",
      "../benji_girgs/mcmc.py:136: RuntimeWarning: overflow encountered in exp\n",
      "  Q_ratio = np.exp(u_ll_new - u_ll_old)\n",
      "../benji_girgs/mcmc.py:136: RuntimeWarning: overflow encountered in exp\n",
      "  Q_ratio = np.exp(u_ll_new - u_ll_old)\n",
      "../benji_girgs/mcmc.py:136: RuntimeWarning: overflow encountered in exp\n",
      "  Q_ratio = np.exp(u_ll_new - u_ll_old)\n",
      "../benji_girgs/mcmc.py:136: RuntimeWarning: overflow encountered in exp\n",
      "  Q_ratio = np.exp(u_ll_new - u_ll_old)\n",
      "../benji_girgs/mcmc.py:136: RuntimeWarning: overflow encountered in exp\n",
      "  Q_ratio = np.exp(u_ll_new - u_ll_old)\n",
      "../benji_girgs/mcmc.py:136: RuntimeWarning: overflow encountered in exp\n",
      "  Q_ratio = np.exp(u_ll_new - u_ll_old)\n",
      "../benji_girgs/mcmc.py:136: RuntimeWarning: overflow encountered in exp\n",
      "  Q_ratio = np.exp(u_ll_new - u_ll_old)\n",
      " 66%|██████▋   | 13275/20000 [00:41<00:21, 315.19it/s]../benji_girgs/mcmc.py:136: RuntimeWarning: overflow encountered in exp\n",
      "  Q_ratio = np.exp(u_ll_new - u_ll_old)\n",
      "../benji_girgs/mcmc.py:136: RuntimeWarning: overflow encountered in exp\n",
      "  Q_ratio = np.exp(u_ll_new - u_ll_old)\n",
      "../benji_girgs/mcmc.py:136: RuntimeWarning: overflow encountered in exp\n",
      "  Q_ratio = np.exp(u_ll_new - u_ll_old)\n",
      "../benji_girgs/mcmc.py:136: RuntimeWarning: overflow encountered in exp\n",
      "  Q_ratio = np.exp(u_ll_new - u_ll_old)\n",
      " 68%|██████▊   | 13500/20000 [00:42<00:20, 317.88it/s]../benji_girgs/mcmc.py:136: RuntimeWarning: overflow encountered in exp\n",
      "  Q_ratio = np.exp(u_ll_new - u_ll_old)\n",
      "../benji_girgs/mcmc.py:136: RuntimeWarning: overflow encountered in exp\n",
      "  Q_ratio = np.exp(u_ll_new - u_ll_old)\n",
      "../benji_girgs/mcmc.py:136: RuntimeWarning: overflow encountered in exp\n",
      "  Q_ratio = np.exp(u_ll_new - u_ll_old)\n",
      "../benji_girgs/mcmc.py:136: RuntimeWarning: overflow encountered in exp\n",
      "  Q_ratio = np.exp(u_ll_new - u_ll_old)\n",
      "../benji_girgs/mcmc.py:136: RuntimeWarning: overflow encountered in exp\n",
      "  Q_ratio = np.exp(u_ll_new - u_ll_old)\n",
      "../benji_girgs/mcmc.py:136: RuntimeWarning: overflow encountered in exp\n",
      "  Q_ratio = np.exp(u_ll_new - u_ll_old)\n",
      "../benji_girgs/mcmc.py:136: RuntimeWarning: overflow encountered in exp\n",
      "  Q_ratio = np.exp(u_ll_new - u_ll_old)\n",
      " 69%|██████▊   | 13725/20000 [00:42<00:19, 320.46it/s]../benji_girgs/mcmc.py:136: RuntimeWarning: overflow encountered in exp\n",
      "  Q_ratio = np.exp(u_ll_new - u_ll_old)\n",
      "../benji_girgs/mcmc.py:136: RuntimeWarning: overflow encountered in exp\n",
      "  Q_ratio = np.exp(u_ll_new - u_ll_old)\n",
      " 70%|██████▉   | 13950/20000 [00:43<00:18, 318.85it/s]../benji_girgs/mcmc.py:136: RuntimeWarning: overflow encountered in exp\n",
      "  Q_ratio = np.exp(u_ll_new - u_ll_old)\n",
      "../benji_girgs/mcmc.py:136: RuntimeWarning: overflow encountered in exp\n",
      "  Q_ratio = np.exp(u_ll_new - u_ll_old)\n",
      "../benji_girgs/mcmc.py:136: RuntimeWarning: overflow encountered in exp\n",
      "  Q_ratio = np.exp(u_ll_new - u_ll_old)\n",
      "../benji_girgs/mcmc.py:136: RuntimeWarning: overflow encountered in exp\n",
      "  Q_ratio = np.exp(u_ll_new - u_ll_old)\n",
      "../benji_girgs/mcmc.py:136: RuntimeWarning: overflow encountered in exp\n",
      "  Q_ratio = np.exp(u_ll_new - u_ll_old)\n",
      " 71%|███████   | 14175/20000 [00:44<00:18, 318.36it/s]../benji_girgs/mcmc.py:136: RuntimeWarning: overflow encountered in exp\n",
      "  Q_ratio = np.exp(u_ll_new - u_ll_old)\n",
      "../benji_girgs/mcmc.py:136: RuntimeWarning: overflow encountered in exp\n",
      "  Q_ratio = np.exp(u_ll_new - u_ll_old)\n",
      "../benji_girgs/mcmc.py:136: RuntimeWarning: overflow encountered in exp\n",
      "  Q_ratio = np.exp(u_ll_new - u_ll_old)\n",
      "../benji_girgs/mcmc.py:136: RuntimeWarning: overflow encountered in exp\n",
      "  Q_ratio = np.exp(u_ll_new - u_ll_old)\n",
      "../benji_girgs/mcmc.py:136: RuntimeWarning: overflow encountered in exp\n",
      "  Q_ratio = np.exp(u_ll_new - u_ll_old)\n",
      " 72%|███████▏  | 14400/20000 [00:44<00:17, 324.80it/s]../benji_girgs/mcmc.py:136: RuntimeWarning: overflow encountered in exp\n",
      "  Q_ratio = np.exp(u_ll_new - u_ll_old)\n",
      " 73%|███████▎  | 14625/20000 [00:45<00:16, 322.32it/s]../benji_girgs/mcmc.py:136: RuntimeWarning: overflow encountered in exp\n",
      "  Q_ratio = np.exp(u_ll_new - u_ll_old)\n",
      "../benji_girgs/mcmc.py:136: RuntimeWarning: overflow encountered in exp\n",
      "  Q_ratio = np.exp(u_ll_new - u_ll_old)\n",
      "../benji_girgs/mcmc.py:136: RuntimeWarning: overflow encountered in exp\n",
      "  Q_ratio = np.exp(u_ll_new - u_ll_old)\n",
      "../benji_girgs/mcmc.py:136: RuntimeWarning: overflow encountered in exp\n",
      "  Q_ratio = np.exp(u_ll_new - u_ll_old)\n",
      " 74%|███████▍  | 14850/20000 [00:46<00:15, 327.85it/s]../benji_girgs/mcmc.py:136: RuntimeWarning: overflow encountered in exp\n",
      "  Q_ratio = np.exp(u_ll_new - u_ll_old)\n",
      "../benji_girgs/mcmc.py:136: RuntimeWarning: overflow encountered in exp\n",
      "  Q_ratio = np.exp(u_ll_new - u_ll_old)\n",
      " 75%|███████▌  | 15075/20000 [00:47<00:15, 327.44it/s]../benji_girgs/mcmc.py:136: RuntimeWarning: overflow encountered in exp\n",
      "  Q_ratio = np.exp(u_ll_new - u_ll_old)\n",
      "../benji_girgs/mcmc.py:136: RuntimeWarning: overflow encountered in exp\n",
      "  Q_ratio = np.exp(u_ll_new - u_ll_old)\n",
      "../benji_girgs/mcmc.py:136: RuntimeWarning: overflow encountered in exp\n",
      "  Q_ratio = np.exp(u_ll_new - u_ll_old)\n",
      "../benji_girgs/mcmc.py:136: RuntimeWarning: overflow encountered in exp\n",
      "  Q_ratio = np.exp(u_ll_new - u_ll_old)\n",
      "../benji_girgs/mcmc.py:136: RuntimeWarning: overflow encountered in exp\n",
      "  Q_ratio = np.exp(u_ll_new - u_ll_old)\n",
      "../benji_girgs/mcmc.py:136: RuntimeWarning: overflow encountered in exp\n",
      "  Q_ratio = np.exp(u_ll_new - u_ll_old)\n",
      " 76%|███████▋  | 15300/20000 [00:47<00:14, 324.17it/s]../benji_girgs/mcmc.py:136: RuntimeWarning: overflow encountered in exp\n",
      "  Q_ratio = np.exp(u_ll_new - u_ll_old)\n",
      "../benji_girgs/mcmc.py:136: RuntimeWarning: overflow encountered in exp\n",
      "  Q_ratio = np.exp(u_ll_new - u_ll_old)\n",
      "../benji_girgs/mcmc.py:136: RuntimeWarning: overflow encountered in exp\n",
      "  Q_ratio = np.exp(u_ll_new - u_ll_old)\n",
      "../benji_girgs/mcmc.py:136: RuntimeWarning: overflow encountered in exp\n",
      "  Q_ratio = np.exp(u_ll_new - u_ll_old)\n",
      "../benji_girgs/mcmc.py:136: RuntimeWarning: overflow encountered in exp\n",
      "  Q_ratio = np.exp(u_ll_new - u_ll_old)\n",
      "../benji_girgs/mcmc.py:136: RuntimeWarning: overflow encountered in exp\n",
      "  Q_ratio = np.exp(u_ll_new - u_ll_old)\n",
      "../benji_girgs/mcmc.py:136: RuntimeWarning: overflow encountered in exp\n",
      "  Q_ratio = np.exp(u_ll_new - u_ll_old)\n",
      " 78%|███████▊  | 15525/20000 [00:48<00:13, 323.65it/s]../benji_girgs/mcmc.py:136: RuntimeWarning: overflow encountered in exp\n",
      "  Q_ratio = np.exp(u_ll_new - u_ll_old)\n",
      "../benji_girgs/mcmc.py:136: RuntimeWarning: overflow encountered in exp\n",
      "  Q_ratio = np.exp(u_ll_new - u_ll_old)\n",
      "../benji_girgs/mcmc.py:136: RuntimeWarning: overflow encountered in exp\n",
      "  Q_ratio = np.exp(u_ll_new - u_ll_old)\n",
      "../benji_girgs/mcmc.py:136: RuntimeWarning: overflow encountered in exp\n",
      "  Q_ratio = np.exp(u_ll_new - u_ll_old)\n",
      "../benji_girgs/mcmc.py:136: RuntimeWarning: overflow encountered in exp\n",
      "  Q_ratio = np.exp(u_ll_new - u_ll_old)\n",
      "../benji_girgs/mcmc.py:136: RuntimeWarning: overflow encountered in exp\n",
      "  Q_ratio = np.exp(u_ll_new - u_ll_old)\n",
      "../benji_girgs/mcmc.py:136: RuntimeWarning: overflow encountered in exp\n",
      "  Q_ratio = np.exp(u_ll_new - u_ll_old)\n",
      " 79%|███████▉  | 15750/20000 [00:49<00:13, 326.21it/s]../benji_girgs/mcmc.py:136: RuntimeWarning: overflow encountered in exp\n",
      "  Q_ratio = np.exp(u_ll_new - u_ll_old)\n",
      "../benji_girgs/mcmc.py:136: RuntimeWarning: overflow encountered in exp\n",
      "  Q_ratio = np.exp(u_ll_new - u_ll_old)\n",
      "../benji_girgs/mcmc.py:136: RuntimeWarning: overflow encountered in exp\n",
      "  Q_ratio = np.exp(u_ll_new - u_ll_old)\n",
      "../benji_girgs/mcmc.py:136: RuntimeWarning: overflow encountered in exp\n",
      "  Q_ratio = np.exp(u_ll_new - u_ll_old)\n",
      "../benji_girgs/mcmc.py:136: RuntimeWarning: overflow encountered in exp\n",
      "  Q_ratio = np.exp(u_ll_new - u_ll_old)\n",
      " 80%|███████▉  | 15975/20000 [00:49<00:12, 321.56it/s]../benji_girgs/mcmc.py:136: RuntimeWarning: overflow encountered in exp\n",
      "  Q_ratio = np.exp(u_ll_new - u_ll_old)\n",
      "../benji_girgs/mcmc.py:136: RuntimeWarning: overflow encountered in exp\n",
      "  Q_ratio = np.exp(u_ll_new - u_ll_old)\n",
      "../benji_girgs/mcmc.py:136: RuntimeWarning: overflow encountered in exp\n",
      "  Q_ratio = np.exp(u_ll_new - u_ll_old)\n",
      " 81%|████████  | 16200/20000 [00:50<00:11, 325.42it/s]../benji_girgs/mcmc.py:136: RuntimeWarning: overflow encountered in exp\n",
      "  Q_ratio = np.exp(u_ll_new - u_ll_old)\n",
      "../benji_girgs/mcmc.py:136: RuntimeWarning: overflow encountered in exp\n",
      "  Q_ratio = np.exp(u_ll_new - u_ll_old)\n",
      "../benji_girgs/mcmc.py:136: RuntimeWarning: overflow encountered in exp\n",
      "  Q_ratio = np.exp(u_ll_new - u_ll_old)\n",
      "../benji_girgs/mcmc.py:136: RuntimeWarning: overflow encountered in exp\n",
      "  Q_ratio = np.exp(u_ll_new - u_ll_old)\n",
      " 82%|████████▏ | 16425/20000 [00:51<00:10, 326.16it/s]../benji_girgs/mcmc.py:136: RuntimeWarning: overflow encountered in exp\n",
      "  Q_ratio = np.exp(u_ll_new - u_ll_old)\n",
      "../benji_girgs/mcmc.py:136: RuntimeWarning: overflow encountered in exp\n",
      "  Q_ratio = np.exp(u_ll_new - u_ll_old)\n",
      "../benji_girgs/mcmc.py:136: RuntimeWarning: overflow encountered in exp\n",
      "  Q_ratio = np.exp(u_ll_new - u_ll_old)\n",
      "../benji_girgs/mcmc.py:136: RuntimeWarning: overflow encountered in exp\n",
      "  Q_ratio = np.exp(u_ll_new - u_ll_old)\n",
      "../benji_girgs/mcmc.py:136: RuntimeWarning: overflow encountered in exp\n",
      "  Q_ratio = np.exp(u_ll_new - u_ll_old)\n",
      " 83%|████████▎ | 16650/20000 [00:51<00:10, 311.86it/s]../benji_girgs/mcmc.py:136: RuntimeWarning: overflow encountered in exp\n",
      "  Q_ratio = np.exp(u_ll_new - u_ll_old)\n",
      "../benji_girgs/mcmc.py:136: RuntimeWarning: overflow encountered in exp\n",
      "  Q_ratio = np.exp(u_ll_new - u_ll_old)\n",
      "../benji_girgs/mcmc.py:136: RuntimeWarning: overflow encountered in exp\n",
      "  Q_ratio = np.exp(u_ll_new - u_ll_old)\n",
      "../benji_girgs/mcmc.py:136: RuntimeWarning: overflow encountered in exp\n",
      "  Q_ratio = np.exp(u_ll_new - u_ll_old)\n",
      " 84%|████████▍ | 16875/20000 [00:52<00:09, 318.76it/s]../benji_girgs/mcmc.py:136: RuntimeWarning: overflow encountered in exp\n",
      "  Q_ratio = np.exp(u_ll_new - u_ll_old)\n",
      "../benji_girgs/mcmc.py:136: RuntimeWarning: overflow encountered in exp\n",
      "  Q_ratio = np.exp(u_ll_new - u_ll_old)\n",
      "../benji_girgs/mcmc.py:136: RuntimeWarning: overflow encountered in exp\n",
      "  Q_ratio = np.exp(u_ll_new - u_ll_old)\n",
      "../benji_girgs/mcmc.py:136: RuntimeWarning: overflow encountered in exp\n",
      "  Q_ratio = np.exp(u_ll_new - u_ll_old)\n",
      "../benji_girgs/mcmc.py:136: RuntimeWarning: overflow encountered in exp\n",
      "  Q_ratio = np.exp(u_ll_new - u_ll_old)\n",
      " 86%|████████▌ | 17100/20000 [00:53<00:09, 314.88it/s]../benji_girgs/mcmc.py:136: RuntimeWarning: overflow encountered in exp\n",
      "  Q_ratio = np.exp(u_ll_new - u_ll_old)\n",
      "../benji_girgs/mcmc.py:136: RuntimeWarning: overflow encountered in exp\n",
      "  Q_ratio = np.exp(u_ll_new - u_ll_old)\n",
      "../benji_girgs/mcmc.py:136: RuntimeWarning: overflow encountered in exp\n",
      "  Q_ratio = np.exp(u_ll_new - u_ll_old)\n",
      "../benji_girgs/mcmc.py:136: RuntimeWarning: overflow encountered in exp\n",
      "  Q_ratio = np.exp(u_ll_new - u_ll_old)\n",
      "../benji_girgs/mcmc.py:136: RuntimeWarning: overflow encountered in exp\n",
      "  Q_ratio = np.exp(u_ll_new - u_ll_old)\n",
      " 87%|████████▋ | 17325/20000 [00:54<00:08, 313.73it/s]../benji_girgs/mcmc.py:136: RuntimeWarning: overflow encountered in exp\n",
      "  Q_ratio = np.exp(u_ll_new - u_ll_old)\n",
      "../benji_girgs/mcmc.py:136: RuntimeWarning: overflow encountered in exp\n",
      "  Q_ratio = np.exp(u_ll_new - u_ll_old)\n",
      "../benji_girgs/mcmc.py:136: RuntimeWarning: overflow encountered in exp\n",
      "  Q_ratio = np.exp(u_ll_new - u_ll_old)\n",
      "../benji_girgs/mcmc.py:136: RuntimeWarning: overflow encountered in exp\n",
      "  Q_ratio = np.exp(u_ll_new - u_ll_old)\n",
      " 88%|████████▊ | 17550/20000 [00:54<00:07, 313.07it/s]../benji_girgs/mcmc.py:136: RuntimeWarning: overflow encountered in exp\n",
      "  Q_ratio = np.exp(u_ll_new - u_ll_old)\n",
      "../benji_girgs/mcmc.py:136: RuntimeWarning: overflow encountered in exp\n",
      "  Q_ratio = np.exp(u_ll_new - u_ll_old)\n",
      "../benji_girgs/mcmc.py:136: RuntimeWarning: overflow encountered in exp\n",
      "  Q_ratio = np.exp(u_ll_new - u_ll_old)\n",
      "../benji_girgs/mcmc.py:136: RuntimeWarning: overflow encountered in exp\n",
      "  Q_ratio = np.exp(u_ll_new - u_ll_old)\n",
      " 89%|████████▉ | 17775/20000 [00:55<00:06, 320.80it/s]../benji_girgs/mcmc.py:136: RuntimeWarning: overflow encountered in exp\n",
      "  Q_ratio = np.exp(u_ll_new - u_ll_old)\n",
      "../benji_girgs/mcmc.py:136: RuntimeWarning: overflow encountered in exp\n",
      "  Q_ratio = np.exp(u_ll_new - u_ll_old)\n",
      "../benji_girgs/mcmc.py:136: RuntimeWarning: overflow encountered in exp\n",
      "  Q_ratio = np.exp(u_ll_new - u_ll_old)\n",
      "../benji_girgs/mcmc.py:136: RuntimeWarning: overflow encountered in exp\n",
      "  Q_ratio = np.exp(u_ll_new - u_ll_old)\n",
      "../benji_girgs/mcmc.py:136: RuntimeWarning: overflow encountered in exp\n",
      "  Q_ratio = np.exp(u_ll_new - u_ll_old)\n",
      " 90%|█████████ | 18000/20000 [00:56<00:06, 319.18it/s]../benji_girgs/mcmc.py:136: RuntimeWarning: overflow encountered in exp\n",
      "  Q_ratio = np.exp(u_ll_new - u_ll_old)\n",
      "../benji_girgs/mcmc.py:136: RuntimeWarning: overflow encountered in exp\n",
      "  Q_ratio = np.exp(u_ll_new - u_ll_old)\n",
      " 91%|█████████ | 18225/20000 [00:56<00:05, 319.57it/s]../benji_girgs/mcmc.py:136: RuntimeWarning: overflow encountered in exp\n",
      "  Q_ratio = np.exp(u_ll_new - u_ll_old)\n",
      "../benji_girgs/mcmc.py:136: RuntimeWarning: overflow encountered in exp\n",
      "  Q_ratio = np.exp(u_ll_new - u_ll_old)\n",
      "../benji_girgs/mcmc.py:136: RuntimeWarning: overflow encountered in exp\n",
      "  Q_ratio = np.exp(u_ll_new - u_ll_old)\n",
      "../benji_girgs/mcmc.py:136: RuntimeWarning: overflow encountered in exp\n",
      "  Q_ratio = np.exp(u_ll_new - u_ll_old)\n",
      " 92%|█████████▏| 18450/20000 [00:57<00:04, 316.10it/s]../benji_girgs/mcmc.py:136: RuntimeWarning: overflow encountered in exp\n",
      "  Q_ratio = np.exp(u_ll_new - u_ll_old)\n",
      " 93%|█████████▎| 18675/20000 [00:58<00:04, 321.40it/s]../benji_girgs/mcmc.py:136: RuntimeWarning: overflow encountered in exp\n",
      "  Q_ratio = np.exp(u_ll_new - u_ll_old)\n",
      "../benji_girgs/mcmc.py:136: RuntimeWarning: overflow encountered in exp\n",
      "  Q_ratio = np.exp(u_ll_new - u_ll_old)\n",
      "../benji_girgs/mcmc.py:136: RuntimeWarning: overflow encountered in exp\n",
      "  Q_ratio = np.exp(u_ll_new - u_ll_old)\n",
      "../benji_girgs/mcmc.py:136: RuntimeWarning: overflow encountered in exp\n",
      "  Q_ratio = np.exp(u_ll_new - u_ll_old)\n",
      " 94%|█████████▍| 18900/20000 [00:59<00:03, 310.05it/s]../benji_girgs/mcmc.py:136: RuntimeWarning: overflow encountered in exp\n",
      "  Q_ratio = np.exp(u_ll_new - u_ll_old)\n",
      "../benji_girgs/mcmc.py:136: RuntimeWarning: overflow encountered in exp\n",
      "  Q_ratio = np.exp(u_ll_new - u_ll_old)\n",
      " 97%|█████████▋| 19350/20000 [01:00<00:02, 311.26it/s]../benji_girgs/mcmc.py:136: RuntimeWarning: overflow encountered in exp\n",
      "  Q_ratio = np.exp(u_ll_new - u_ll_old)\n",
      " 98%|█████████▊| 19575/20000 [01:01<00:01, 313.81it/s]../benji_girgs/mcmc.py:136: RuntimeWarning: overflow encountered in exp\n",
      "  Q_ratio = np.exp(u_ll_new - u_ll_old)\n",
      "../benji_girgs/mcmc.py:136: RuntimeWarning: overflow encountered in exp\n",
      "  Q_ratio = np.exp(u_ll_new - u_ll_old)\n",
      " 99%|█████████▉| 19800/20000 [01:01<00:00, 318.95it/s]../benji_girgs/mcmc.py:136: RuntimeWarning: overflow encountered in exp\n",
      "  Q_ratio = np.exp(u_ll_new - u_ll_old)\n",
      "20025it [01:02, 318.93it/s]                           \n"
     ]
    }
   ],
   "source": [
    "MC.run_pool(20000, pool_size=15, jobs_per_worker=15, plot_every=20)"
   ],
   "metadata": {
    "collapsed": false,
    "ExecuteTime": {
     "start_time": "2023-06-01T15:01:05.274098Z",
     "end_time": "2023-06-01T15:02:08.200519Z"
    }
   }
  },
  {
   "cell_type": "code",
   "execution_count": 15,
   "outputs": [
    {
     "data": {
      "text/plain": "(array([364., 209., 229., 200., 208., 209., 219., 212., 210., 190.]),\n array([0. , 0.1, 0.2, 0.3, 0.4, 0.5, 0.6, 0.7, 0.8, 0.9, 1. ]),\n <BarContainer object of 10 artists>)"
     },
     "execution_count": 15,
     "metadata": {},
     "output_type": "execute_result"
    },
    {
     "data": {
      "text/plain": "<Figure size 640x480 with 0 Axes>"
     },
     "execution_count": 15,
     "metadata": {},
     "output_type": "execute_result"
    },
    {
     "name": "stderr",
     "output_type": "stream",
     "text": [
      "/cluster/home/bdayan/girgs/venvtemp/lib64/python3.8/site-packages/numpy/lib/histograms.py:851: ComplexWarning: Casting complex values to real discards the imaginary part\n",
      "  indices = f_indices.astype(np.intp)\n",
      "/cluster/home/bdayan/girgs/venvtemp/lib64/python3.8/site-packages/matplotlib/axes/_axes.py:6708: ComplexWarning: Casting complex values to real discards the imaginary part\n",
      "  bins = np.array(bins, float)  # causes problems if float16\n"
     ]
    },
    {
     "data": {
      "text/plain": "(array([2.236e+03, 1.000e+01, 0.000e+00, 0.000e+00, 0.000e+00, 0.000e+00,\n        1.000e+00, 0.000e+00, 0.000e+00, 3.000e+00]),\n array([0. , 0.1, 0.2, 0.3, 0.4, 0.5, 0.6, 0.7, 0.8, 0.9, 1. ]),\n <BarContainer object of 10 artists>)"
     },
     "execution_count": 15,
     "metadata": {},
     "output_type": "execute_result"
    },
    {
     "data": {
      "text/plain": "<Figure size 640x480 with 1 Axes>",
      "image/png": "[encoded data removed]"
     },
     "metadata": {},
     "output_type": "display_data"
    },
    {
     "data": {
      "text/plain": "<Figure size 640x480 with 1 Axes>",
      "image/png": "[encoded data removed]"
     },
     "metadata": {},
     "output_type": "display_data"
    }
   ],
   "source": [
    "%matplotlib inline\n",
    "plt.hist(MC.pts)\n",
    "plt.figure()\n",
    "plt.hist(pts_diffmap)\n"
   ],
   "metadata": {
    "collapsed": false,
    "ExecuteTime": {
     "start_time": "2023-06-01T15:55:35.377293Z",
     "end_time": "2023-06-01T15:55:35.938665Z"
    }
   }
  },
  {
   "cell_type": "code",
   "execution_count": 16,
   "outputs": [
    {
     "name": "stdout",
     "output_type": "stream",
     "text": [
      "const_in: 0.17931646322859224\n",
      "Network Properties:\n",
      "nodes, edges\t\t\t2250, 75074\n",
      "directed?\t\t\tFalse\n",
      "weighted?\t\t\tFalse\n",
      "isolated nodes\t\t\t14\n",
      "self-loops\t\t\t0\n",
      "density\t\t\t\t0.029672\n",
      "clustering coefficient\t\t0.313861\n",
      "min/max/avg degree\t\t0, 449, 66.732444\n",
      "degree assortativity\t\t0.071144\n",
      "number of connected components\t15\n",
      "size of largest component\t2236 (99.38 %)\n"
     ]
    }
   ],
   "source": [
    "g_mc, A_mc = test_mcmc.MC_to_g_A(MC)\n",
    "nk.overview(g_mc)"
   ],
   "metadata": {
    "collapsed": false,
    "ExecuteTime": {
     "start_time": "2023-06-01T15:55:52.460803Z",
     "end_time": "2023-06-01T15:55:53.841968Z"
    }
   }
  },
  {
   "cell_type": "code",
   "execution_count": 17,
   "outputs": [
    {
     "data": {
      "text/plain": "array([[0.0024798 , 0.03085788],\n       [0.02717906, 0.93948326]])"
     },
     "execution_count": 17,
     "metadata": {},
     "output_type": "execute_result"
    },
    {
     "data": {
      "text/plain": "array([[0.07438438, 0.92561562],\n       [0.0281164 , 0.9718836 ]])"
     },
     "execution_count": 17,
     "metadata": {},
     "output_type": "execute_result"
    },
    {
     "data": {
      "text/plain": "':('"
     },
     "execution_count": 17,
     "metadata": {},
     "output_type": "execute_result"
    }
   ],
   "source": [
    "CM = test_mcmc.quick_acc(A, A_mc)\n",
    "CM\n",
    "test_mcmc.quick_summarise_CM(CM)\n",
    "\n",
    "CM = test_mcmc.quick_acc(A, A_init)\n",
    "CM\n",
    "test_mcmc.quick_summarise_CM(CM)\n",
    "\n",
    "':('"
   ],
   "metadata": {
    "collapsed": false,
    "ExecuteTime": {
     "start_time": "2023-06-01T15:55:59.644234Z",
     "end_time": "2023-06-01T15:55:59.740686Z"
    }
   }
  },
  {
   "cell_type": "code",
   "execution_count": null,
   "outputs": [],
   "source": [],
   "metadata": {
    "collapsed": false
   }
  },
  {
   "cell_type": "code",
   "execution_count": 9,
   "outputs": [
    {
     "data": {
      "text/plain": "                    Graph                    Model  Nodes  \\\n0         socfb-Caltech36  1d-copyweight-cube-girg    756   \n1            socfb-Reed98  1d-copyweight-cube-girg    955   \n2         socfb-Caltech36  2d-copyweight-cube-girg    757   \n3         socfb-Simmons81  1d-copyweight-cube-girg   1497   \n4       socfb-Haverford76  1d-copyweight-cube-girg   1440   \n..                    ...                      ...    ...   \n157       socfb-Bingham82  2d-copyweight-cube-girg   9945   \n158         socfb-Maine59  3d-copyweight-cube-girg   9001   \n159   socfb-Mississippi66  2d-copyweight-cube-girg  10496   \n160    socfb-Georgetown15  3d-copyweight-cube-girg   9341   \n161  socfb-Northwestern25  1d-copyweight-cube-girg  10510   \n\n                                                  Info  \n0    {'tau': 7.3017225936374555, 'alpha': 1.2171928...  \n1    {'tau': 4.381732472502371, 'alpha': 1.07671601...  \n2    {'tau': 7.3017225936374555, 'alpha': 1.1949215...  \n3    {'tau': 4.739342146243066, 'alpha': 1.16300199...  \n4    {'tau': 6.5461700448727616, 'alpha': 1.0592519...  \n..                                                 ...  \n157  {'tau': 5.959769046529775, 'alpha': 1.07671601...  \n158  {'tau': 5.253031117549527, 'alpha': 1.10401932...  \n159  {'tau': 5.425199038576664, 'alpha': 1.05073058...  \n160  {'tau': 4.898184083615165, 'alpha': 1.04234527...  \n161  {'tau': 5.650649065012116, 'alpha': 1.07229622...  \n\n[162 rows x 4 columns]",
      "text/html": "<div>\n<style scoped>\n    .dataframe tbody tr th:only-of-type {\n        vertical-align: middle;\n    }\n\n    .dataframe tbody tr th {\n        vertical-align: top;\n    }\n\n    .dataframe thead th {\n        text-align: right;\n    }\n</style>\n<table border=\"1\" class=\"dataframe\">\n  <thead>\n    <tr style=\"text-align: right;\">\n      <th></th>\n      <th>Graph</th>\n      <th>Model</th>\n      <th>Nodes</th>\n      <th>Info</th>\n    </tr>\n  </thead>\n  <tbody>\n    <tr>\n      <th>0</th>\n      <td>socfb-Caltech36</td>\n      <td>1d-copyweight-cube-girg</td>\n      <td>756</td>\n      <td>{'tau': 7.3017225936374555, 'alpha': 1.2171928...</td>\n    </tr>\n    <tr>\n      <th>1</th>\n      <td>socfb-Reed98</td>\n      <td>1d-copyweight-cube-girg</td>\n      <td>955</td>\n      <td>{'tau': 4.381732472502371, 'alpha': 1.07671601...</td>\n    </tr>\n    <tr>\n      <th>2</th>\n      <td>socfb-Caltech36</td>\n      <td>2d-copyweight-cube-girg</td>\n      <td>757</td>\n      <td>{'tau': 7.3017225936374555, 'alpha': 1.1949215...</td>\n    </tr>\n    <tr>\n      <th>3</th>\n      <td>socfb-Simmons81</td>\n      <td>1d-copyweight-cube-girg</td>\n      <td>1497</td>\n      <td>{'tau': 4.739342146243066, 'alpha': 1.16300199...</td>\n    </tr>\n    <tr>\n      <th>4</th>\n      <td>socfb-Haverford76</td>\n      <td>1d-copyweight-cube-girg</td>\n      <td>1440</td>\n      <td>{'tau': 6.5461700448727616, 'alpha': 1.0592519...</td>\n    </tr>\n    <tr>\n      <th>...</th>\n      <td>...</td>\n      <td>...</td>\n      <td>...</td>\n      <td>...</td>\n    </tr>\n    <tr>\n      <th>157</th>\n      <td>socfb-Bingham82</td>\n      <td>2d-copyweight-cube-girg</td>\n      <td>9945</td>\n      <td>{'tau': 5.959769046529775, 'alpha': 1.07671601...</td>\n    </tr>\n    <tr>\n      <th>158</th>\n      <td>socfb-Maine59</td>\n      <td>3d-copyweight-cube-girg</td>\n      <td>9001</td>\n      <td>{'tau': 5.253031117549527, 'alpha': 1.10401932...</td>\n    </tr>\n    <tr>\n      <th>159</th>\n      <td>socfb-Mississippi66</td>\n      <td>2d-copyweight-cube-girg</td>\n      <td>10496</td>\n      <td>{'tau': 5.425199038576664, 'alpha': 1.05073058...</td>\n    </tr>\n    <tr>\n      <th>160</th>\n      <td>socfb-Georgetown15</td>\n      <td>3d-copyweight-cube-girg</td>\n      <td>9341</td>\n      <td>{'tau': 4.898184083615165, 'alpha': 1.04234527...</td>\n    </tr>\n    <tr>\n      <th>161</th>\n      <td>socfb-Northwestern25</td>\n      <td>1d-copyweight-cube-girg</td>\n      <td>10510</td>\n      <td>{'tau': 5.650649065012116, 'alpha': 1.07229622...</td>\n    </tr>\n  </tbody>\n</table>\n<p>162 rows × 4 columns</p>\n</div>"
     },
     "execution_count": 9,
     "metadata": {},
     "output_type": "execute_result"
    }
   ],
   "source": [
    "a = df.loc[:, ['Graph', 'Model', 'Nodes', 'Info']]\n",
    "a"
   ],
   "metadata": {
    "collapsed": false,
    "ExecuteTime": {
     "start_time": "2023-06-01T14:39:56.810055Z",
     "end_time": "2023-06-01T14:39:56.865060Z"
    }
   }
  },
  {
   "cell_type": "code",
   "execution_count": 21,
   "outputs": [
    {
     "data": {
      "text/plain": "                 Graph                    Model  Nodes  \\\n41  socfb-Pepperdine86  1d-copyweight-cube-girg   3430   \n53  socfb-Pepperdine86  2d-copyweight-cube-girg   3426   \n67  socfb-Pepperdine86  3d-copyweight-cube-girg   3430   \n\n                                                 Info  \n41  {'tau': 5.27297948141534, 'alpha': 1.059251903...  \n53  {'tau': 5.27297948141534, 'alpha': 1.025969862...  \n67  {'tau': 5.27297948141534, 'alpha': 1.010101010...  ",
      "text/html": "<div>\n<style scoped>\n    .dataframe tbody tr th:only-of-type {\n        vertical-align: middle;\n    }\n\n    .dataframe tbody tr th {\n        vertical-align: top;\n    }\n\n    .dataframe thead th {\n        text-align: right;\n    }\n</style>\n<table border=\"1\" class=\"dataframe\">\n  <thead>\n    <tr style=\"text-align: right;\">\n      <th></th>\n      <th>Graph</th>\n      <th>Model</th>\n      <th>Nodes</th>\n      <th>Info</th>\n    </tr>\n  </thead>\n  <tbody>\n    <tr>\n      <th>41</th>\n      <td>socfb-Pepperdine86</td>\n      <td>1d-copyweight-cube-girg</td>\n      <td>3430</td>\n      <td>{'tau': 5.27297948141534, 'alpha': 1.059251903...</td>\n    </tr>\n    <tr>\n      <th>53</th>\n      <td>socfb-Pepperdine86</td>\n      <td>2d-copyweight-cube-girg</td>\n      <td>3426</td>\n      <td>{'tau': 5.27297948141534, 'alpha': 1.025969862...</td>\n    </tr>\n    <tr>\n      <th>67</th>\n      <td>socfb-Pepperdine86</td>\n      <td>3d-copyweight-cube-girg</td>\n      <td>3430</td>\n      <td>{'tau': 5.27297948141534, 'alpha': 1.010101010...</td>\n    </tr>\n  </tbody>\n</table>\n</div>"
     },
     "execution_count": 21,
     "metadata": {},
     "output_type": "execute_result"
    }
   ],
   "source": [
    "a.loc[a.Graph == 'socfb-Pepperdine86']"
   ],
   "metadata": {
    "collapsed": false,
    "ExecuteTime": {
     "start_time": "2023-06-01T13:34:00.767850Z",
     "end_time": "2023-06-01T13:34:00.776063Z"
    }
   }
  },
  {
   "cell_type": "code",
   "execution_count": 22,
   "outputs": [
    {
     "data": {
      "text/plain": "{'tau': 5.27297948141534,\n 'alpha': 1.0592519033432637,\n 'const': 0.10914879350912529,\n 'target_lcc': 0.27697571394183823,\n 'fit_lcc': 0.2790005420603239,\n 'fitting_time': 180.74201369285583,\n 'hist': [(2.0, 0.614930496642529),\n  (1.342281879194631, 0.42023462193045735),\n  (1.1527377521613833, 0.3257112505037432),\n  (1.0767160161507403, 0.2855294469587692),\n  (1.0423452768729642, 0.26787251887177715),\n  (1.0592519033432637, 0.2766223208246902),\n  (1.0679125646587686, 0.28514010229395503),\n  (1.0592519033432637, 0.2766223208246902)]}"
     },
     "execution_count": 22,
     "metadata": {},
     "output_type": "execute_result"
    }
   ],
   "source": [
    "df.iloc[41].Info"
   ],
   "metadata": {
    "collapsed": false,
    "ExecuteTime": {
     "start_time": "2023-06-01T13:34:07.129336Z",
     "end_time": "2023-06-01T13:34:07.171773Z"
    }
   }
  },
  {
   "cell_type": "code",
   "execution_count": 23,
   "outputs": [
    {
     "data": {
      "text/plain": "{'tau': 5.27297948141534,\n 'alpha': 1.0259698621353,\n 'const': 0.059451413878825084,\n 'target_lcc': 0.27697571394183823,\n 'fit_lcc': 0.2748780151815607,\n 'fitting_time': 289.33652424812317,\n 'hist': [(2.0, 0.5849583176785574),\n  (1.342281879194631, 0.4251694982750488),\n  (1.1527377521613833, 0.3434494442734461),\n  (1.0767160161507403, 0.30518489387359304),\n  (1.0423452768729642, 0.2834073963759906),\n  (1.0259698621353, 0.274660388413119),\n  (1.0340927451930846, 0.28050691796757915),\n  (1.0259698621353, 0.274660388413119)]}"
     },
     "execution_count": 23,
     "metadata": {},
     "output_type": "execute_result"
    }
   ],
   "source": [
    "df.iloc[53].Info"
   ],
   "metadata": {
    "collapsed": false,
    "ExecuteTime": {
     "start_time": "2023-06-01T13:36:36.121336Z",
     "end_time": "2023-06-01T13:36:36.172115Z"
    }
   }
  },
  {
   "cell_type": "code",
   "execution_count": 32,
   "outputs": [
    {
     "data": {
      "text/plain": "<module 'tests.test_mcmc' from '../tests/test_mcmc.py'>"
     },
     "execution_count": 32,
     "metadata": {},
     "output_type": "execute_result"
    }
   ],
   "source": [
    "import importlib\n",
    "importlib.reload(test_mcmc)"
   ],
   "metadata": {
    "collapsed": false,
    "ExecuteTime": {
     "start_time": "2023-06-01T14:16:17.322712Z",
     "end_time": "2023-06-01T14:16:17.363572Z"
    }
   }
  },
  {
   "cell_type": "code",
   "execution_count": 31,
   "outputs": [
    {
     "data": {
      "text/plain": "'/cluster/scratch/bdayan/GIRG_data/socfb-Pepperdine86.SpaceOne'"
     },
     "execution_count": 31,
     "metadata": {},
     "output_type": "execute_result"
    },
    {
     "name": "stdout",
     "output_type": "stream",
     "text": [
      "Network Properties:\n",
      "nodes, edges\t\t\t3440, 152003\n",
      "directed?\t\t\tFalse\n",
      "weighted?\t\t\tFalse\n",
      "isolated nodes\t\t\t0\n",
      "self-loops\t\t\t0\n",
      "density\t\t\t\t0.025698\n",
      "clustering coefficient\t\t0.276976\n",
      "min/max/avg degree\t\t1, 674, 88.373837\n",
      "degree assortativity\t\t0.055527\n",
      "number of connected components\t1\n",
      "size of largest component\t3440 (100.00 %)\n"
     ]
    }
   ],
   "source": [
    "# gd = do_feature_extract.graph_dicts[21]\n",
    "\n",
    "gd = list(filter(lambda x: x['Name'] == 'socfb-Pepperdine86', do_feature_extract.graph_dicts))[0]\n",
    "\n",
    "in_path = gd['FullPath']\n",
    "in_path\n",
    "name = gd['Name']\n",
    "g = networkit.readGraph(in_path, networkit.Format.EdgeListSpaceOne)\n",
    "g = utils.get_largest_component(g)\n",
    "nk.overview(g)\n",
    "n = g.numberOfNodes()\n",
    "\n",
    "alpha = df.iloc[53].Info['alpha']\n",
    "const = df.iloc[53].Info['const']"
   ],
   "metadata": {
    "collapsed": false,
    "ExecuteTime": {
     "start_time": "2023-06-01T13:39:09.676561Z",
     "end_time": "2023-06-01T13:39:09.764440Z"
    }
   }
  },
  {
   "cell_type": "code",
   "execution_count": 33,
   "outputs": [
    {
     "name": "stderr",
     "output_type": "stream",
     "text": [
      "../benji_girgs/generation.py:78: RuntimeWarning: divide by zero encountered in true_divide\n",
      "  p_uv = np.divide(wuwv, dists**d)\n"
     ]
    }
   ],
   "source": [
    "g, A, weights, const, pts_diffmap, pts_init, MC, MC_init = test_mcmc.test_diffmap_on_g(g, alpha=alpha, const=const, pts_d=2)"
   ],
   "metadata": {
    "collapsed": false,
    "ExecuteTime": {
     "start_time": "2023-06-01T14:16:29.440979Z",
     "end_time": "2023-06-01T14:16:38.215935Z"
    }
   }
  },
  {
   "cell_type": "code",
   "execution_count": 34,
   "outputs": [
    {
     "name": "stdout",
     "output_type": "stream",
     "text": [
      "const_in: 0.22909876856987865\n"
     ]
    },
    {
     "name": "stderr",
     "output_type": "stream",
     "text": [
      "../benji_girgs/generation.py:65: RuntimeWarning: divide by zero encountered in true_divide\n",
      "  p_uv = np.divide(outer, dists**d)\n",
      "../benji_girgs/generation.py:442: RuntimeWarning: divide by zero encountered in true_divide\n",
      "  puv = np.stack([np.ones(original_edge_dists.shape), const_in * ((wu * wv / W) / original_edge_dists ** d) ** alpha]).min(axis=0)\n",
      "../benji_girgs/generation.py:443: RuntimeWarning: divide by zero encountered in true_divide\n",
      "  puv_cube = np.stack([np.ones(cube_edge_dists.shape), const_in * ((wu * wv / W) / cube_edge_dists ** d) ** alpha]).min(axis=0)\n"
     ]
    },
    {
     "name": "stdout",
     "output_type": "stream",
     "text": [
      "const_in: 0.22909876856987865\n",
      "Network Properties:\n",
      "nodes, edges\t\t\t3440, 2987323\n",
      "directed?\t\t\tFalse\n",
      "weighted?\t\t\tFalse\n",
      "isolated nodes\t\t\t12\n",
      "self-loops\t\t\t0\n",
      "density\t\t\t\t0.505035\n",
      "clustering coefficient\t\t0.841734\n",
      "min/max/avg degree\t\t0, 2699, 1736.815698\n",
      "degree assortativity\t\t0.354706\n",
      "number of connected components\t13\n",
      "size of largest component\t3428 (99.65 %)\n",
      "Network Properties:\n",
      "nodes, edges\t\t\t3440, 152170\n",
      "directed?\t\t\tFalse\n",
      "weighted?\t\t\tFalse\n",
      "isolated nodes\t\t\t15\n",
      "self-loops\t\t\t0\n",
      "density\t\t\t\t0.025726\n",
      "clustering coefficient\t\t0.276121\n",
      "min/max/avg degree\t\t0, 404, 88.470930\n",
      "degree assortativity\t\t0.041911\n",
      "number of connected components\t16\n",
      "size of largest component\t3425 (99.56 %)\n"
     ]
    },
    {
     "data": {
      "text/plain": "array([[0.0238051 , 0.00188497],\n       [0.48108319, 0.49322674]])"
     },
     "execution_count": 34,
     "metadata": {},
     "output_type": "execute_result"
    },
    {
     "data": {
      "text/plain": "array([[0.92662645, 0.07337355],\n       [0.49376812, 0.50623188]])"
     },
     "execution_count": 34,
     "metadata": {},
     "output_type": "execute_result"
    },
    {
     "name": "stdout",
     "output_type": "stream",
     "text": [
      "============\n"
     ]
    },
    {
     "data": {
      "text/plain": "array([[0.00170988, 0.02398019],\n       [0.02400842, 0.95030151]])"
     },
     "execution_count": 34,
     "metadata": {},
     "output_type": "execute_result"
    },
    {
     "data": {
      "text/plain": "array([[0.0665579 , 0.9334421 ],\n       [0.02464146, 0.97535854]])"
     },
     "execution_count": 34,
     "metadata": {},
     "output_type": "execute_result"
    },
    {
     "data": {
      "text/plain": "':)'"
     },
     "execution_count": 34,
     "metadata": {},
     "output_type": "execute_result"
    }
   ],
   "source": [
    "g_dm, A_dm = test_mcmc.MC_to_g_A(MC)\n",
    "g_init, A_init = test_mcmc.MC_to_g_A(MC_init)\n",
    "nk.overview(g_dm)\n",
    "nk.overview(g_init)\n",
    "\n",
    "CM = test_mcmc.quick_acc(A, A_dm)\n",
    "CM\n",
    "test_mcmc.quick_summarise_CM(CM)\n",
    "print('============')\n",
    "CM = test_mcmc.quick_acc(A, A_init)\n",
    "CM\n",
    "test_mcmc.quick_summarise_CM(CM)\n",
    "':)'\n"
   ],
   "metadata": {
    "collapsed": false,
    "ExecuteTime": {
     "start_time": "2023-06-01T14:17:12.831538Z",
     "end_time": "2023-06-01T14:17:52.161775Z"
    }
   }
  },
  {
   "cell_type": "code",
   "execution_count": null,
   "outputs": [],
   "source": [
    "MC.run_pool(20000, pool_size=15, jobs_per_worker=15, plot_every=20)"
   ],
   "metadata": {
    "collapsed": false
   }
  },
  {
   "cell_type": "code",
   "execution_count": null,
   "outputs": [],
   "source": [],
   "metadata": {
    "collapsed": false
   }
  },
  {
   "cell_type": "code",
   "execution_count": null,
   "outputs": [],
   "source": [],
   "metadata": {
    "collapsed": false
   }
  },
  {
   "cell_type": "code",
   "execution_count": 4,
   "outputs": [
    {
     "data": {
      "text/plain": "<module 'tests.test_mcmc' from '../tests/test_mcmc.py'>"
     },
     "execution_count": 4,
     "metadata": {},
     "output_type": "execute_result"
    },
    {
     "name": "stdout",
     "output_type": "stream",
     "text": [
      "const_in: 21.744500891857935\n"
     ]
    },
    {
     "name": "stderr",
     "output_type": "stream",
     "text": [
      "../benji_girgs/generation.py:65: RuntimeWarning: divide by zero encountered in true_divide\n",
      "  p_uv = np.divide(outer, dists**d)\n",
      "../benji_girgs/generation.py:442: RuntimeWarning: divide by zero encountered in true_divide\n",
      "  puv = np.stack([np.ones(original_edge_dists.shape), const_in * ((wu * wv / W) / original_edge_dists ** d) ** alpha]).min(axis=0)\n",
      "../benji_girgs/generation.py:443: RuntimeWarning: divide by zero encountered in true_divide\n",
      "  puv_cube = np.stack([np.ones(cube_edge_dists.shape), const_in * ((wu * wv / W) / cube_edge_dists ** d) ** alpha]).min(axis=0)\n",
      "../benji_girgs/generation.py:78: RuntimeWarning: divide by zero encountered in true_divide\n",
      "  p_uv = np.divide(wuwv, dists**d)\n"
     ]
    },
    {
     "name": "stdout",
     "output_type": "stream",
     "text": [
      "const_in: 21.744500891857935\n",
      "const_in: 21.744500891857935\n",
      "const_in: 21.744500891857935\n"
     ]
    }
   ],
   "source": [
    "from tests import test_mcmc\n",
    "from tests.test_mcmc import *\n",
    "import importlib\n",
    "importlib.reload(test_mcmc)\n",
    "g, A, weights, const, pts, pts_diffmap, pts_init, MC, MC_init, MC_cheat = test_mcmc.test_diffmap()\n",
    "\n",
    "g_dm, A_dm = test_mcmc.MC_to_g_A(MC)\n",
    "g_init, A_init = test_mcmc.MC_to_g_A(MC_init)\n",
    "g_cheat, A_cheat = test_mcmc.MC_to_g_A(MC_cheat)\n"
   ],
   "metadata": {
    "collapsed": false,
    "ExecuteTime": {
     "start_time": "2023-05-31T16:24:42.333848Z",
     "end_time": "2023-05-31T16:24:48.589022Z"
    }
   }
  },
  {
   "cell_type": "code",
   "execution_count": 6,
   "outputs": [
    {
     "data": {
      "text/plain": "21.744500891857935"
     },
     "execution_count": 6,
     "metadata": {},
     "output_type": "execute_result"
    }
   ],
   "source": [
    "(const*2)**alpha"
   ],
   "metadata": {
    "collapsed": false,
    "ExecuteTime": {
     "start_time": "2023-05-31T16:26:11.812244Z",
     "end_time": "2023-05-31T16:26:11.916631Z"
    }
   }
  },
  {
   "cell_type": "code",
   "execution_count": 7,
   "outputs": [
    {
     "name": "stdout",
     "output_type": "stream",
     "text": [
      "const_in: 21.744500891857935\n"
     ]
    }
   ],
   "source": [
    "g_temp, _, _, _, _ = generation.generate_GIRG_nk(n, d, tau, alpha, weights=weights, pts=pts, const=const)"
   ],
   "metadata": {
    "collapsed": false,
    "ExecuteTime": {
     "start_time": "2023-05-31T16:26:14.500567Z",
     "end_time": "2023-05-31T16:26:15.062162Z"
    }
   }
  },
  {
   "cell_type": "code",
   "execution_count": 8,
   "outputs": [
    {
     "data": {
      "text/plain": "6.507705243675296"
     },
     "execution_count": 8,
     "metadata": {},
     "output_type": "execute_result"
    }
   ],
   "source": [
    "const"
   ],
   "metadata": {
    "collapsed": false,
    "ExecuteTime": {
     "start_time": "2023-05-31T16:26:16.760933Z",
     "end_time": "2023-05-31T16:26:16.795934Z"
    }
   }
  },
  {
   "cell_type": "code",
   "execution_count": 9,
   "outputs": [
    {
     "data": {
      "text/plain": "PointsCube([[0.63956876],\n            [0.20144225],\n            [0.07984331],\n            ...,\n            [0.88855468],\n            [0.70501783],\n            [0.04734976]])"
     },
     "execution_count": 9,
     "metadata": {},
     "output_type": "execute_result"
    }
   ],
   "source": [
    "pts"
   ],
   "metadata": {
    "collapsed": false,
    "ExecuteTime": {
     "start_time": "2023-05-31T16:26:19.418046Z",
     "end_time": "2023-05-31T16:26:19.428485Z"
    }
   }
  },
  {
   "cell_type": "code",
   "execution_count": 10,
   "outputs": [
    {
     "name": "stdout",
     "output_type": "stream",
     "text": [
      "Network Properties:\n",
      "nodes, edges\t\t\t1500, 70397\n",
      "directed?\t\t\tFalse\n",
      "weighted?\t\t\tFalse\n",
      "isolated nodes\t\t\t0\n",
      "self-loops\t\t\t0\n",
      "density\t\t\t\t0.062617\n",
      "clustering coefficient\t\t0.563041\n",
      "min/max/avg degree\t\t21, 1499, 93.862667\n",
      "degree assortativity\t\t-0.199725\n",
      "number of connected components\t1\n",
      "size of largest component\t1500 (100.00 %)\n",
      "Network Properties:\n",
      "nodes, edges\t\t\t1500, 70327\n",
      "directed?\t\t\tFalse\n",
      "weighted?\t\t\tFalse\n",
      "isolated nodes\t\t\t0\n",
      "self-loops\t\t\t0\n",
      "density\t\t\t\t0.062555\n",
      "clustering coefficient\t\t0.562545\n",
      "min/max/avg degree\t\t18, 1499, 93.769333\n",
      "degree assortativity\t\t-0.199262\n",
      "number of connected components\t1\n",
      "size of largest component\t1500 (100.00 %)\n"
     ]
    }
   ],
   "source": [
    "nk.overview(g)\n",
    "nk.overview(g_temp)"
   ],
   "metadata": {
    "collapsed": false,
    "ExecuteTime": {
     "start_time": "2023-05-31T16:26:22.939446Z",
     "end_time": "2023-05-31T16:26:22.958557Z"
    }
   }
  },
  {
   "cell_type": "code",
   "execution_count": 11,
   "outputs": [
    {
     "name": "stdout",
     "output_type": "stream",
     "text": [
      "Network Properties:\n",
      "nodes, edges\t\t\t1500, 70672\n",
      "directed?\t\t\tFalse\n",
      "weighted?\t\t\tFalse\n",
      "isolated nodes\t\t\t0\n",
      "self-loops\t\t\t0\n",
      "density\t\t\t\t0.062861\n",
      "clustering coefficient\t\t0.560786\n",
      "min/max/avg degree\t\t21, 1499, 94.229333\n",
      "degree assortativity\t\t-0.199488\n",
      "number of connected components\t1\n",
      "size of largest component\t1500 (100.00 %)\n"
     ]
    }
   ],
   "source": [
    "nk.overview(g_cheat)"
   ],
   "metadata": {
    "collapsed": false,
    "ExecuteTime": {
     "start_time": "2023-05-31T16:26:30.708818Z",
     "end_time": "2023-05-31T16:26:30.708910Z"
    }
   }
  },
  {
   "cell_type": "code",
   "execution_count": 12,
   "outputs": [
    {
     "name": "stdout",
     "output_type": "stream",
     "text": [
      "Network Properties:\n",
      "nodes, edges\t\t\t1500, 77445\n",
      "directed?\t\t\tFalse\n",
      "weighted?\t\t\tFalse\n",
      "isolated nodes\t\t\t0\n",
      "self-loops\t\t\t0\n",
      "density\t\t\t\t0.068886\n",
      "clustering coefficient\t\t0.570072\n",
      "min/max/avg degree\t\t10, 1499, 103.260000\n",
      "degree assortativity\t\t-0.197577\n",
      "number of connected components\t1\n",
      "size of largest component\t1500 (100.00 %)\n"
     ]
    }
   ],
   "source": [
    "nk.overview(g_dm)"
   ],
   "metadata": {
    "collapsed": false,
    "ExecuteTime": {
     "start_time": "2023-05-31T16:26:35.486113Z",
     "end_time": "2023-05-31T16:26:35.502003Z"
    }
   }
  },
  {
   "cell_type": "code",
   "execution_count": 18,
   "outputs": [
    {
     "data": {
      "text/plain": "array([[0.03788   , 0.02469511],\n       [0.02493956, 0.91248533]])"
     },
     "execution_count": 18,
     "metadata": {},
     "output_type": "execute_result"
    },
    {
     "data": {
      "text/plain": "array([[0.6053525 , 0.3946475 ],\n       [0.02660432, 0.97339568]])"
     },
     "execution_count": 18,
     "metadata": {},
     "output_type": "execute_result"
    },
    {
     "name": "stdout",
     "output_type": "stream",
     "text": [
      "============\n"
     ]
    },
    {
     "data": {
      "text/plain": "array([[0.03113422, 0.03144089],\n       [0.03770578, 0.89971911]])"
     },
     "execution_count": 18,
     "metadata": {},
     "output_type": "execute_result"
    },
    {
     "data": {
      "text/plain": "array([[0.49754961, 0.50245039],\n       [0.04022272, 0.95977728]])"
     },
     "execution_count": 18,
     "metadata": {},
     "output_type": "execute_result"
    },
    {
     "name": "stdout",
     "output_type": "stream",
     "text": [
      "============\n"
     ]
    },
    {
     "data": {
      "text/plain": "array([[0.01840444, 0.04417067],\n       [0.04421867, 0.89320622]])"
     },
     "execution_count": 18,
     "metadata": {},
     "output_type": "execute_result"
    },
    {
     "data": {
      "text/plain": "array([[0.29411765, 0.70588235],\n       [0.04717036, 0.95282964]])"
     },
     "execution_count": 18,
     "metadata": {},
     "output_type": "execute_result"
    }
   ],
   "source": [
    "CM = test_mcmc.quick_acc(A, A_cheat)\n",
    "CM\n",
    "test_mcmc.quick_summarise_CM(CM)\n",
    "print('============')\n",
    "CM = test_mcmc.quick_acc(A, A_dm)\n",
    "CM\n",
    "test_mcmc.quick_summarise_CM(CM)\n",
    "print('============')\n",
    "CM = test_mcmc.quick_acc(A, A_init)\n",
    "CM\n",
    "test_mcmc.quick_summarise_CM(CM)\n"
   ],
   "metadata": {
    "collapsed": false,
    "ExecuteTime": {
     "start_time": "2023-05-31T16:29:35.492098Z",
     "end_time": "2023-05-31T16:29:35.696906Z"
    }
   }
  },
  {
   "cell_type": "code",
   "execution_count": 20,
   "outputs": [
    {
     "data": {
      "text/plain": "(array([   7,   15,   17,   20,   23,   38,   53,   75,   77,   86,   88,\n          89,  113,  141,  166,  176,  216,  224,  247,  251,  252,  271,\n         272,  279,  310,  320,  345,  347,  371,  379,  392,  419,  440,\n         447,  452,  456,  469,  488,  493,  505,  522,  526,  545,  559,\n         572,  574,  606,  612,  614,  621,  625,  643,  648,  653,  658,\n         667,  673,  682,  717,  721,  736,  761,  762,  774,  782,  786,\n         805,  817,  835,  837,  844,  849,  897,  900,  904,  917,  929,\n         932,  941,  943,  949,  956,  960,  964,  968,  978,  997,  999,\n        1017, 1019, 1053, 1062, 1087, 1097, 1100, 1117, 1135, 1140, 1150,\n        1163, 1165, 1169, 1170, 1183, 1184, 1216, 1228, 1241, 1252, 1269,\n        1284, 1321, 1326, 1338, 1345, 1362, 1382, 1383, 1391, 1397, 1402,\n        1422, 1477, 1486]),)"
     },
     "execution_count": 20,
     "metadata": {},
     "output_type": "execute_result"
    }
   ],
   "source": [
    "np.where(A[0, :])"
   ],
   "metadata": {
    "collapsed": false,
    "ExecuteTime": {
     "start_time": "2023-05-31T15:58:21.520254Z",
     "end_time": "2023-05-31T15:58:21.569749Z"
    }
   }
  },
  {
   "cell_type": "code",
   "execution_count": 14,
   "outputs": [
    {
     "data": {
      "text/plain": "[18,\n 66,\n 98,\n 116,\n 169,\n 176,\n 187,\n 198,\n 260,\n 302,\n 311,\n 343,\n 361,\n 367,\n 1492,\n 403,\n 413,\n 445,\n 446,\n 456,\n 467,\n 475,\n 476,\n 514,\n 520,\n 523,\n 529,\n 541,\n 576,\n 607,\n 614,\n 662,\n 689,\n 700,\n 717,\n 722,\n 754,\n 769,\n 801,\n 808,\n 841,\n 848,\n 884,\n 888,\n 900,\n 903,\n 913,\n 917,\n 923,\n 938,\n 984,\n 986,\n 991,\n 1006,\n 1009,\n 1015,\n 1021,\n 1034,\n 1041,\n 1042,\n 1050,\n 1051,\n 1071,\n 1104,\n 1114,\n 1169,\n 1177,\n 1179,\n 1189,\n 1234,\n 1235,\n 1255,\n 1265,\n 1297,\n 1301,\n 1317,\n 1333,\n 1344,\n 1395,\n 1438,\n 1449,\n 1454,\n 1456,\n 1459,\n 1470,\n 1472]"
     },
     "execution_count": 14,
     "metadata": {},
     "output_type": "execute_result"
    }
   ],
   "source": [
    "list(g.iterNeighbors(0))"
   ],
   "metadata": {
    "collapsed": false,
    "ExecuteTime": {
     "start_time": "2023-05-31T16:27:13.127058Z",
     "end_time": "2023-05-31T16:27:13.177440Z"
    }
   }
  },
  {
   "cell_type": "code",
   "execution_count": 15,
   "outputs": [
    {
     "data": {
      "text/plain": "[18,\n 66,\n 75,\n 86,\n 98,\n 116,\n 126,\n 169,\n 173,\n 176,\n 192,\n 194,\n 198,\n 212,\n 229,\n 256,\n 260,\n 302,\n 311,\n 343,\n 361,\n 362,\n 367,\n 403,\n 413,\n 433,\n 446,\n 456,\n 467,\n 476,\n 514,\n 517,\n 521,\n 523,\n 529,\n 607,\n 613,\n 648,\n 692,\n 712,\n 714,\n 722,\n 740,\n 754,\n 764,\n 801,\n 836,\n 841,\n 884,\n 888,\n 900,\n 929,\n 950,\n 984,\n 986,\n 991,\n 1006,\n 1050,\n 1051,\n 1065,\n 1071,\n 1104,\n 1114,\n 1169,\n 1179,\n 1189,\n 1198,\n 1218,\n 1234,\n 1235,\n 1257,\n 1301,\n 1313,\n 1317,\n 1340,\n 1344,\n 1361,\n 1413,\n 1434,\n 1438,\n 1449,\n 1454,\n 1456,\n 1498]"
     },
     "execution_count": 15,
     "metadata": {},
     "output_type": "execute_result"
    }
   ],
   "source": [
    "list(g_temp.iterNeighbors(0))"
   ],
   "metadata": {
    "collapsed": false,
    "ExecuteTime": {
     "start_time": "2023-05-31T16:27:23.104167Z",
     "end_time": "2023-05-31T16:27:23.104351Z"
    }
   }
  },
  {
   "cell_type": "code",
   "execution_count": 16,
   "outputs": [
    {
     "data": {
      "text/plain": "84"
     },
     "execution_count": 16,
     "metadata": {},
     "output_type": "execute_result"
    },
    {
     "data": {
      "text/plain": "86"
     },
     "execution_count": 16,
     "metadata": {},
     "output_type": "execute_result"
    }
   ],
   "source": [
    "len(list(g_temp.iterNeighbors(0)))\n",
    "len(list(g.iterNeighbors(0)))"
   ],
   "metadata": {
    "collapsed": false,
    "ExecuteTime": {
     "start_time": "2023-05-31T16:28:04.185607Z",
     "end_time": "2023-05-31T16:28:04.214364Z"
    }
   }
  },
  {
   "cell_type": "code",
   "execution_count": 6,
   "outputs": [
    {
     "data": {
      "text/plain": "<matplotlib.collections.PathCollection at 0x2b1937ba3d90>"
     },
     "execution_count": 6,
     "metadata": {},
     "output_type": "execute_result"
    },
    {
     "data": {
      "text/plain": "<Figure size 640x480 with 1 Axes>",
      "image/png": "[encoded data removed]"
     },
     "metadata": {},
     "output_type": "display_data"
    }
   ],
   "source": [
    "plt.scatter(pts[:, 0], pts_diffmap[:, 0])"
   ],
   "metadata": {
    "collapsed": false,
    "ExecuteTime": {
     "start_time": "2023-05-31T15:48:29.061203Z",
     "end_time": "2023-05-31T15:48:29.405320Z"
    }
   }
  },
  {
   "cell_type": "code",
   "execution_count": 7,
   "outputs": [
    {
     "data": {
      "text/plain": "<matplotlib.collections.PathCollection at 0x2b1937d02fa0>"
     },
     "execution_count": 7,
     "metadata": {},
     "output_type": "execute_result"
    },
    {
     "data": {
      "text/plain": "<Figure size 640x480 with 1 Axes>",
      "image/png": "[encoded data removed]"
     },
     "metadata": {},
     "output_type": "display_data"
    }
   ],
   "source": [
    "plt.scatter(pts[:, 0], pts_init[:, 0])"
   ],
   "metadata": {
    "collapsed": false,
    "ExecuteTime": {
     "start_time": "2023-05-31T15:48:39.628763Z",
     "end_time": "2023-05-31T15:48:39.890088Z"
    }
   }
  },
  {
   "cell_type": "code",
   "execution_count": null,
   "outputs": [],
   "source": [],
   "metadata": {
    "collapsed": false
   }
  }
 ],
 "metadata": {
  "kernelspec": {
   "name": "girgenv_higherdims",
   "language": "python",
   "display_name": "girgenv_higherdims"
  },
  "language_info": {
   "codemirror_mode": {
    "name": "ipython",
    "version": 2
   },
   "file_extension": ".py",
   "mimetype": "text/x-python",
   "name": "python",
   "nbconvert_exporter": "python",
   "pygments_lexer": "ipython2",
   "version": "2.7.6"
  }
 },
 "nbformat": 4,
 "nbformat_minor": 0
}
