{
 "cells": [
  {
   "cell_type": "code",
   "execution_count": 1,
   "metadata": {
    "collapsed": true,
    "ExecuteTime": {
     "start_time": "2023-06-10T13:23:38.884461Z",
     "end_time": "2023-06-10T13:23:38.892828Z"
    }
   },
   "outputs": [],
   "source": [
    "import os\n",
    "os.chdir('/cluster/home/bdayan/girgs/benji_src/notebooks/')"
   ]
  },
  {
   "cell_type": "code",
   "execution_count": 2,
   "outputs": [
    {
     "data": {
      "text/plain": "'/cluster/home/bdayan/girgs/benji_src/notebooks'"
     },
     "execution_count": 2,
     "metadata": {},
     "output_type": "execute_result"
    }
   ],
   "source": [
    "import sys\n",
    "sys.path.append('../')\n",
    "sys.path.append('../../nemo-eva/src/')\n",
    "\n",
    "import os\n",
    "os.getcwd()\n",
    "\n"
   ],
   "metadata": {
    "collapsed": false,
    "ExecuteTime": {
     "start_time": "2023-06-10T13:23:38.892226Z",
     "end_time": "2023-06-10T13:23:38.901584Z"
    }
   }
  },
  {
   "cell_type": "code",
   "execution_count": 3,
   "outputs": [
    {
     "data": {
      "text/html": "\n\t\t\t<script type=\"text/javascript\">\n\t\t\t<!--\n\t\t\t\t\n\t\t\t{\n\t\t\t\tvar element = document.getElementById('NetworKit_script');\n\t\t\t\tif (element) {\n\t\t\t\t\telement.parentNode.removeChild(element);\n\t\t\t\t}\n\t\t\t\telement = document.createElement('script');\n\t\t\t\telement.type = 'text/javascript';\n\t\t\t\telement.innerHTML = 'function NetworKit_pageEmbed(id) { var i, j; var elements; elements = document.getElementById(id).getElementsByClassName(\"Plot\"); for (i=0; i<elements.length; i++) { elements[i].id = id + \"_Plot_\" + i; var data = elements[i].getAttribute(\"data-image\").split(\"|\"); elements[i].removeAttribute(\"data-image\"); var content = \"<div class=\\\\\"Image\\\\\" id=\\\\\"\" + elements[i].id + \"_Image\\\\\" />\"; elements[i].innerHTML = content; elements[i].setAttribute(\"data-image-index\", 0); elements[i].setAttribute(\"data-image-length\", data.length); for (j=0; j<data.length; j++) { elements[i].setAttribute(\"data-image-\" + j, data[j]); } NetworKit_plotUpdate(elements[i]); elements[i].onclick = function (e) { NetworKit_overlayShow((e.target) ? e.target : e.srcElement); } } elements = document.getElementById(id).getElementsByClassName(\"HeatCell\"); for (i=0; i<elements.length; i++) { var data = parseFloat(elements[i].getAttribute(\"data-heat\")); var color = \"#00FF00\"; if (data <= 1 && data > 0) { color = \"hsla(0, 100%, 75%, \" + (data) + \")\"; } else if (data <= 0 && data >= -1) { color = \"hsla(240, 100%, 75%, \" + (-data) + \")\"; } elements[i].style.backgroundColor = color; } elements = document.getElementById(id).getElementsByClassName(\"Details\"); for (i=0; i<elements.length; i++) { elements[i].setAttribute(\"data-title\", \"-\"); NetworKit_toggleDetails(elements[i]); elements[i].onclick = function (e) { NetworKit_toggleDetails((e.target) ? e.target : e.srcElement); } } elements = document.getElementById(id).getElementsByClassName(\"MathValue\"); for (i=elements.length-1; i>=0; i--) { value = elements[i].innerHTML.trim(); if (value === \"nan\") { elements[i].parentNode.innerHTML = \"\" } } elements = document.getElementById(id).getElementsByClassName(\"SubCategory\"); for (i=elements.length-1; i>=0; i--) { value = elements[i].innerHTML.trim(); if (value === \"\") { elements[i].parentNode.removeChild(elements[i]) } } elements = document.getElementById(id).getElementsByClassName(\"Category\"); for (i=elements.length-1; i>=0; i--) { value = elements[i].innerHTML.trim(); if (value === \"\") { elements[i].parentNode.removeChild(elements[i]) } } var isFirefox = false; try { isFirefox = typeof InstallTrigger !== \"undefined\"; } catch (e) {} if (!isFirefox) { alert(\"Currently the function\\'s output is only fully supported by Firefox.\"); } } function NetworKit_plotUpdate(source) { var index = source.getAttribute(\"data-image-index\"); var data = source.getAttribute(\"data-image-\" + index); var image = document.getElementById(source.id + \"_Image\"); image.style.backgroundImage = \"url(\" + data + \")\"; } function NetworKit_showElement(id, show) { var element = document.getElementById(id); element.style.display = (show) ? \"block\" : \"none\"; } function NetworKit_overlayShow(source) { NetworKit_overlayUpdate(source); NetworKit_showElement(\"NetworKit_Overlay\", true); } function NetworKit_overlayUpdate(source) { document.getElementById(\"NetworKit_Overlay_Title\").innerHTML = source.title; var index = source.getAttribute(\"data-image-index\"); var data = source.getAttribute(\"data-image-\" + index); var image = document.getElementById(\"NetworKit_Overlay_Image\"); image.setAttribute(\"data-id\", source.id); image.style.backgroundImage = \"url(\" + data + \")\"; var link = document.getElementById(\"NetworKit_Overlay_Toolbar_Bottom_Save\"); link.href = data; link.download = source.title + \".svg\"; } function NetworKit_overlayImageShift(delta) { var image = document.getElementById(\"NetworKit_Overlay_Image\"); var source = document.getElementById(image.getAttribute(\"data-id\")); var index = parseInt(source.getAttribute(\"data-image-index\")); var length = parseInt(source.getAttribute(\"data-image-length\")); var index = (index+delta) % length; if (index < 0) { index = length + index; } source.setAttribute(\"data-image-index\", index); NetworKit_overlayUpdate(source); } function NetworKit_toggleDetails(source) { var childs = source.children; var show = false; if (source.getAttribute(\"data-title\") == \"-\") { source.setAttribute(\"data-title\", \"+\"); show = false; } else { source.setAttribute(\"data-title\", \"-\"); show = true; } for (i=0; i<childs.length; i++) { if (show) { childs[i].style.display = \"block\"; } else { childs[i].style.display = \"none\"; } } }';\n\t\t\t\telement.setAttribute('id', 'NetworKit_script');\n\t\t\t\tdocument.head.appendChild(element);\n\t\t\t}\n\t\t\n\t\t\t\t\n\t\t\t{\n\t\t\t\tvar element = document.getElementById('NetworKit_style');\n\t\t\t\tif (element) {\n\t\t\t\t\telement.parentNode.removeChild(element);\n\t\t\t\t}\n\t\t\t\telement = document.createElement('style');\n\t\t\t\telement.type = 'text/css';\n\t\t\t\telement.innerHTML = '.NetworKit_Page { font-family: Arial, Helvetica, sans-serif; font-size: 14px; } .NetworKit_Page .Value:before { font-family: Arial, Helvetica, sans-serif; font-size: 1.05em; content: attr(data-title) \":\"; margin-left: -2.5em; padding-right: 0.5em; } .NetworKit_Page .Details .Value:before { display: block; } .NetworKit_Page .Value { font-family: monospace; white-space: pre; padding-left: 2.5em; white-space: -moz-pre-wrap !important; white-space: -pre-wrap; white-space: -o-pre-wrap; white-space: pre-wrap; word-wrap: break-word; tab-size: 4; -moz-tab-size: 4; } .NetworKit_Page .Category { clear: both; padding-left: 1em; margin-bottom: 1.5em; } .NetworKit_Page .Category:before { content: attr(data-title); font-size: 1.75em; display: block; margin-left: -0.8em; margin-bottom: 0.5em; } .NetworKit_Page .SubCategory { margin-bottom: 1.5em; padding-left: 1em; } .NetworKit_Page .SubCategory:before { font-size: 1.6em; display: block; margin-left: -0.8em; margin-bottom: 0.5em; } .NetworKit_Page .SubCategory[data-title]:before { content: attr(data-title); } .NetworKit_Page .Block { display: block; } .NetworKit_Page .Block:after { content: \".\"; visibility: hidden; display: block; height: 0; clear: both; } .NetworKit_Page .Block .Thumbnail_Overview, .NetworKit_Page .Block .Thumbnail_ScatterPlot { width: 260px; float: left; } .NetworKit_Page .Block .Thumbnail_Overview img, .NetworKit_Page .Block .Thumbnail_ScatterPlot img { width: 260px; } .NetworKit_Page .Block .Thumbnail_Overview:before, .NetworKit_Page .Block .Thumbnail_ScatterPlot:before { display: block; text-align: center; font-weight: bold; } .NetworKit_Page .Block .Thumbnail_Overview:before { content: attr(data-title); } .NetworKit_Page .HeatCell { font-family: \"Courier New\", Courier, monospace; cursor: pointer; } .NetworKit_Page .HeatCell, .NetworKit_Page .HeatCellName { display: inline; padding: 0.1em; margin-right: 2px; background-color: #FFFFFF } .NetworKit_Page .HeatCellName { margin-left: 0.25em; } .NetworKit_Page .HeatCell:before { content: attr(data-heat); display: inline-block; color: #000000; width: 4em; text-align: center; } .NetworKit_Page .Measure { clear: both; } .NetworKit_Page .Measure .Details { cursor: pointer; } .NetworKit_Page .Measure .Details:before { content: \"[\" attr(data-title) \"]\"; display: block; } .NetworKit_Page .Measure .Details .Value { border-left: 1px dotted black; margin-left: 0.4em; padding-left: 3.5em; pointer-events: none; } .NetworKit_Page .Measure .Details .Spacer:before { content: \".\"; opacity: 0.0; pointer-events: none; } .NetworKit_Page .Measure .Plot { width: 440px; height: 440px; cursor: pointer; float: left; margin-left: -0.9em; margin-right: 20px; } .NetworKit_Page .Measure .Plot .Image { background-repeat: no-repeat; background-position: center center; background-size: contain; height: 100%; pointer-events: none; } .NetworKit_Page .Measure .Stat { width: 500px; float: left; } .NetworKit_Page .Measure .Stat .Group { padding-left: 1.25em; margin-bottom: 0.75em; } .NetworKit_Page .Measure .Stat .Group .Title { font-size: 1.1em; display: block; margin-bottom: 0.3em; margin-left: -0.75em; border-right-style: dotted; border-right-width: 1px; border-bottom-style: dotted; border-bottom-width: 1px; background-color: #D0D0D0; padding-left: 0.2em; } .NetworKit_Page .Measure .Stat .Group .List { -webkit-column-count: 3; -moz-column-count: 3; column-count: 3; } .NetworKit_Page .Measure .Stat .Group .List .Entry { position: relative; line-height: 1.75em; } .NetworKit_Page .Measure .Stat .Group .List .Entry[data-tooltip]:before { position: absolute; left: 0; top: -40px; background-color: #808080; color: #ffffff; height: 30px; line-height: 30px; border-radius: 5px; padding: 0 15px; content: attr(data-tooltip); white-space: nowrap; display: none; } .NetworKit_Page .Measure .Stat .Group .List .Entry[data-tooltip]:after { position: absolute; left: 15px; top: -10px; border-top: 7px solid #808080; border-left: 7px solid transparent; border-right: 7px solid transparent; content: \"\"; display: none; } .NetworKit_Page .Measure .Stat .Group .List .Entry[data-tooltip]:hover:after, .NetworKit_Page .Measure .Stat .Group .List .Entry[data-tooltip]:hover:before { display: block; } .NetworKit_Page .Measure .Stat .Group .List .Entry .MathValue { font-family: \"Courier New\", Courier, monospace; } .NetworKit_Page .Measure:after { content: \".\"; visibility: hidden; display: block; height: 0; clear: both; } .NetworKit_Page .PartitionPie { clear: both; } .NetworKit_Page .PartitionPie img { width: 600px; } #NetworKit_Overlay { left: 0px; top: 0px; display: none; position: absolute; width: 100%; height: 100%; background-color: rgba(0,0,0,0.6); z-index: 1000; } #NetworKit_Overlay_Title { position: absolute; color: white; transform: rotate(-90deg); width: 32em; height: 32em; padding-right: 0.5em; padding-top: 0.5em; text-align: right; font-size: 40px; } #NetworKit_Overlay .button { background: white; cursor: pointer; } #NetworKit_Overlay .button:before { size: 13px; display: inline-block; text-align: center; margin-top: 0.5em; margin-bottom: 0.5em; width: 1.5em; height: 1.5em; } #NetworKit_Overlay .icon-close:before { content: \"X\"; } #NetworKit_Overlay .icon-previous:before { content: \"P\"; } #NetworKit_Overlay .icon-next:before { content: \"N\"; } #NetworKit_Overlay .icon-save:before { content: \"S\"; } #NetworKit_Overlay_Toolbar_Top, #NetworKit_Overlay_Toolbar_Bottom { position: absolute; width: 40px; right: 13px; text-align: right; z-index: 1100; } #NetworKit_Overlay_Toolbar_Top { top: 0.5em; } #NetworKit_Overlay_Toolbar_Bottom { Bottom: 0.5em; } #NetworKit_Overlay_ImageContainer { position: absolute; top: 5%; left: 5%; height: 90%; width: 90%; background-repeat: no-repeat; background-position: center center; background-size: contain; } #NetworKit_Overlay_Image { height: 100%; width: 100%; background-repeat: no-repeat; background-position: center center; background-size: contain; }';\n\t\t\t\telement.setAttribute('id', 'NetworKit_style');\n\t\t\t\tdocument.head.appendChild(element);\n\t\t\t}\n\t\t\n\t\t\t\t\n\t\t\t{\n\t\t\t\tvar element = document.getElementById('NetworKit_Overlay');\n\t\t\t\tif (element) {\n\t\t\t\t\telement.parentNode.removeChild(element);\n\t\t\t\t}\n\t\t\t\telement = document.createElement('div');\n\t\t\t\telement.innerHTML = '<div id=\"NetworKit_Overlay_Toolbar_Top\"><div class=\"button icon-close\" id=\"NetworKit_Overlay_Close\" /></div><div id=\"NetworKit_Overlay_Title\" /> <div id=\"NetworKit_Overlay_ImageContainer\"> <div id=\"NetworKit_Overlay_Image\" /> </div> <div id=\"NetworKit_Overlay_Toolbar_Bottom\"> <div class=\"button icon-previous\" onclick=\"NetworKit_overlayImageShift(-1)\" /> <div class=\"button icon-next\" onclick=\"NetworKit_overlayImageShift(1)\" /> <a id=\"NetworKit_Overlay_Toolbar_Bottom_Save\"><div class=\"button icon-save\" /></a> </div>';\n\t\t\t\telement.setAttribute('id', 'NetworKit_Overlay');\n\t\t\t\tdocument.body.appendChild(element);\n\t\t\t\tdocument.getElementById('NetworKit_Overlay_Close').onclick = function (e) {\n\t\t\t\t\tdocument.getElementById('NetworKit_Overlay').style.display = 'none';\n\t\t\t\t}\n\t\t\t}\n\t\t\n\t\t\t-->\n\t\t\t</script>\n\t\t"
     },
     "metadata": {},
     "output_type": "display_data"
    },
    {
     "name": "stdout",
     "output_type": "stream",
     "text": [
      "/cluster/scratch/bdayan/GIRG_data/socfb-Caltech36.SpaceOne\n",
      "/cluster/scratch/bdayan/GIRG_data/socfb-Reed98.SpaceOne\n",
      "/cluster/scratch/bdayan/GIRG_data/socfb-Haverford76.SpaceOne\n",
      "/cluster/scratch/bdayan/GIRG_data/socfb-Simmons81.SpaceOne\n",
      "/cluster/scratch/bdayan/GIRG_data/socfb-Swarthmore42.SpaceOne\n",
      "/cluster/scratch/bdayan/GIRG_data/socfb-Amherst41.SpaceOne\n",
      "/cluster/scratch/bdayan/GIRG_data/socfb-Bowdoin47.SpaceOne\n",
      "/cluster/scratch/bdayan/GIRG_data/socfb-Hamilton46.SpaceOne\n",
      "/cluster/scratch/bdayan/GIRG_data/socfb-Trinity100.SpaceOne\n",
      "/cluster/scratch/bdayan/GIRG_data/socfb-USFCA72.SpaceOne\n",
      "/cluster/scratch/bdayan/GIRG_data/socfb-Williams40.SpaceOne\n",
      "/cluster/scratch/bdayan/GIRG_data/socfb-Oberlin44.SpaceOne\n",
      "/cluster/scratch/bdayan/GIRG_data/socfb-Wellesley22.SpaceOne\n",
      "/cluster/scratch/bdayan/GIRG_data/socfb-Smith60.SpaceOne\n",
      "/cluster/scratch/bdayan/GIRG_data/socfb-Vassar85.SpaceOne\n",
      "/cluster/scratch/bdayan/GIRG_data/socfb-Middlebury45.SpaceOne\n",
      "/cluster/scratch/bdayan/GIRG_data/socfb-Pepperdine86.SpaceOne\n",
      "/cluster/scratch/bdayan/GIRG_data/socfb-Colgate88.SpaceOne\n",
      "/cluster/scratch/bdayan/GIRG_data/socfb-Santa74.SpaceOne\n",
      "/cluster/scratch/bdayan/GIRG_data/socfb-Wesleyan43.SpaceOne\n",
      "/cluster/scratch/bdayan/GIRG_data/socfb-Mich67.SpaceOne\n",
      "/cluster/scratch/bdayan/GIRG_data/socfb-Bucknell39.SpaceOne\n",
      "/cluster/scratch/bdayan/GIRG_data/socfb-Brandeis99.SpaceOne\n",
      "/cluster/scratch/bdayan/GIRG_data/socfb-Howard90.SpaceOne\n",
      "/cluster/scratch/bdayan/GIRG_data/socfb-Rice31.SpaceOne\n",
      "/cluster/scratch/bdayan/GIRG_data/socfb-Rochester38.SpaceOne\n",
      "/cluster/scratch/bdayan/GIRG_data/socfb-Lehigh96.SpaceOne\n",
      "/cluster/scratch/bdayan/GIRG_data/socfb-JohnsHopkins55.SpaceOne\n",
      "/cluster/scratch/bdayan/GIRG_data/socfb-Wake73.SpaceOne\n",
      "/cluster/scratch/bdayan/GIRG_data/socfb-American75.SpaceOne\n",
      "/cluster/scratch/bdayan/GIRG_data/socfb-MIT8.SpaceOne\n",
      "/cluster/scratch/bdayan/GIRG_data/socfb-MIT.SpaceOne\n",
      "/cluster/scratch/bdayan/GIRG_data/socfb-William77.SpaceOne\n",
      "/cluster/scratch/bdayan/GIRG_data/socfb-UChicago30.SpaceOne\n",
      "/cluster/scratch/bdayan/GIRG_data/socfb-Princeton12.SpaceOne\n",
      "/cluster/scratch/bdayan/GIRG_data/socfb-CMU.SpaceOne\n",
      "/cluster/scratch/bdayan/GIRG_data/socfb-Carnegie49.SpaceOne\n",
      "/cluster/scratch/bdayan/GIRG_data/socfb-Tufts18.SpaceOne\n",
      "/cluster/scratch/bdayan/GIRG_data/socfb-UC64.SpaceOne\n",
      "/cluster/scratch/bdayan/GIRG_data/socfb-Vermont70.SpaceOne\n",
      "/cluster/scratch/bdayan/GIRG_data/socfb-Emory27.SpaceOne\n",
      "/cluster/scratch/bdayan/GIRG_data/socfb-Dartmouth6.SpaceOne\n",
      "/cluster/scratch/bdayan/GIRG_data/socfb-WashU32.SpaceOne\n",
      "/cluster/scratch/bdayan/GIRG_data/socfb-Tulane29.SpaceOne\n",
      "/cluster/scratch/bdayan/GIRG_data/socfb-Villanova62.SpaceOne\n",
      "/cluster/scratch/bdayan/GIRG_data/socfb-Vanderbilt48.SpaceOne\n",
      "/cluster/scratch/bdayan/GIRG_data/socfb-Yale4.SpaceOne\n",
      "/cluster/scratch/bdayan/GIRG_data/socfb-Brown11.SpaceOne\n",
      "/cluster/scratch/bdayan/GIRG_data/socfb-UCSC68.SpaceOne\n",
      "/cluster/scratch/bdayan/GIRG_data/socfb-Maine59.SpaceOne\n",
      "/cluster/scratch/bdayan/GIRG_data/socfb-Georgetown15.SpaceOne\n",
      "/cluster/scratch/bdayan/GIRG_data/socfb-Duke14.SpaceOne\n",
      "/cluster/scratch/bdayan/GIRG_data/socfb-Bingham82.SpaceOne\n",
      "/cluster/scratch/bdayan/GIRG_data/socfb-Mississippi66.SpaceOne\n",
      "/cluster/scratch/bdayan/GIRG_data/socfb-Northwestern25.SpaceOne\n",
      "/cluster/scratch/bdayan/GIRG_data/socfb-Cal65.SpaceOne\n",
      "/cluster/scratch/bdayan/GIRG_data/socfb-BC17.SpaceOne\n",
      "/cluster/scratch/bdayan/GIRG_data/socfb-Stanford3.SpaceOne\n",
      "/cluster/scratch/bdayan/GIRG_data/socfb-Columbia2.SpaceOne\n",
      "/cluster/scratch/bdayan/GIRG_data/socfb-NotreDame57.SpaceOne\n",
      "/cluster/scratch/bdayan/GIRG_data/socfb-GWU54.SpaceOne\n",
      "/cluster/scratch/bdayan/GIRG_data/socfb-Baylor93.SpaceOne\n",
      "/cluster/scratch/bdayan/GIRG_data/socfb-USF51.SpaceOne\n",
      "/cluster/scratch/bdayan/GIRG_data/socfb-Syracuse56.SpaceOne\n",
      "/cluster/scratch/bdayan/GIRG_data/socfb-Temple83.SpaceOne\n",
      "/cluster/scratch/bdayan/GIRG_data/socfb-UC61.SpaceOne\n",
      "/cluster/scratch/bdayan/GIRG_data/socfb-Northeastern19.SpaceOne\n",
      "/cluster/scratch/bdayan/GIRG_data/socfb-JMU79.SpaceOne\n",
      "/cluster/scratch/bdayan/GIRG_data/socfb-UPenn7.SpaceOne\n",
      "/cluster/scratch/bdayan/GIRG_data/socfb-UCSB37.SpaceOne\n",
      "/cluster/scratch/bdayan/GIRG_data/socfb-UCF52.SpaceOne\n",
      "/cluster/scratch/bdayan/GIRG_data/socfb-UCSD34.SpaceOne\n",
      "/cluster/scratch/bdayan/GIRG_data/socfb-Harvard1.SpaceOne\n",
      "/cluster/scratch/bdayan/GIRG_data/socfb-MU78.SpaceOne\n",
      "/cluster/scratch/bdayan/GIRG_data/socfb-UMass92.SpaceOne\n",
      "/cluster/scratch/bdayan/GIRG_data/socfb-UC33.SpaceOne\n",
      "/cluster/scratch/bdayan/GIRG_data/socfb-Tennessee95.SpaceOne\n",
      "/cluster/scratch/bdayan/GIRG_data/socfb-UVA16.SpaceOne\n",
      "/cluster/scratch/bdayan/GIRG_data/socfb-UConn91.SpaceOne\n",
      "/cluster/scratch/bdayan/GIRG_data/socfb-UConn.SpaceOne\n",
      "/cluster/scratch/bdayan/GIRG_data/socfb-Oklahoma97.SpaceOne\n",
      "/cluster/scratch/bdayan/GIRG_data/socfb-USC35.SpaceOne\n",
      "/cluster/scratch/bdayan/GIRG_data/socfb-UNC28.SpaceOne\n",
      "/cluster/scratch/bdayan/GIRG_data/socfb-Auburn71.SpaceOne\n",
      "/cluster/scratch/bdayan/GIRG_data/socfb-Cornell5.SpaceOne\n",
      "/cluster/scratch/bdayan/GIRG_data/socfb-BU10.SpaceOne\n",
      "/cluster/scratch/bdayan/GIRG_data/socfb-UCLA.SpaceOne\n",
      "/cluster/scratch/bdayan/GIRG_data/socfb-UCLA26.SpaceOne\n",
      "/cluster/scratch/bdayan/GIRG_data/socfb-Maryland58.SpaceOne\n",
      "/cluster/scratch/bdayan/GIRG_data/socfb-Virginia63.SpaceOne\n",
      "/cluster/scratch/bdayan/GIRG_data/socfb-NYU9.SpaceOne\n",
      "/cluster/scratch/bdayan/GIRG_data/socfb-Berkeley13.SpaceOne\n",
      "/cluster/scratch/bdayan/GIRG_data/socfb-Wisconsin87.SpaceOne\n",
      "/cluster/scratch/bdayan/GIRG_data/socfb-UGA50.SpaceOne\n",
      "/cluster/scratch/bdayan/GIRG_data/socfb-Rutgers89.SpaceOne\n",
      "/cluster/scratch/bdayan/GIRG_data/socfb-FSU53.SpaceOne\n",
      "/cluster/scratch/bdayan/GIRG_data/socfb-Indiana.SpaceOne\n",
      "/cluster/scratch/bdayan/GIRG_data/socfb-Indiana69.SpaceOne\n",
      "/cluster/scratch/bdayan/GIRG_data/socfb-Michigan23.SpaceOne\n",
      "/cluster/scratch/bdayan/GIRG_data/socfb-UIllinois20.SpaceOne\n",
      "/cluster/scratch/bdayan/GIRG_data/socfb-UIllinois.SpaceOne\n",
      "/cluster/scratch/bdayan/GIRG_data/socfb-Texas80.SpaceOne\n",
      "/cluster/scratch/bdayan/GIRG_data/socfb-MSU24.SpaceOne\n",
      "/cluster/scratch/bdayan/GIRG_data/socfb-UF21.SpaceOne\n",
      "/cluster/scratch/bdayan/GIRG_data/socfb-UF.SpaceOne\n",
      "/cluster/scratch/bdayan/GIRG_data/socfb-Texas84.SpaceOne\n",
      "/cluster/scratch/bdayan/GIRG_data/socfb-Penn94.SpaceOne\n",
      "/cluster/scratch/bdayan/GIRG_data/socfb-wosn-friends.SpaceOne\n",
      "/cluster/scratch/bdayan/GIRG_data/socfb-OR.SpaceOne\n"
     ]
    }
   ],
   "source": [
    "from benji_girgs import utils, generation, points, fitting, mcmc\n",
    "import os\n",
    "import glob\n",
    "import pandas as pd\n",
    "import networkit\n",
    "\n",
    "import networkit as nk\n",
    "\n",
    "from girg_sampling import girgs\n",
    "\n",
    "from IPython.core.interactiveshell import InteractiveShell\n",
    "InteractiveShell.ast_node_interactivity = \"last\"\n",
    "\n",
    "import numpy as np\n",
    "import matplotlib.pyplot as plt\n",
    "\n",
    "import do_feature_extract\n",
    "import networkx as nx\n"
   ],
   "metadata": {
    "collapsed": false,
    "ExecuteTime": {
     "start_time": "2023-06-10T13:23:38.904833Z",
     "end_time": "2023-06-10T13:23:41.232825Z"
    }
   }
  },
  {
   "cell_type": "code",
   "execution_count": 4,
   "outputs": [
    {
     "name": "stderr",
     "output_type": "stream",
     "text": [
      "../benji_girgs/generation.py:119: RuntimeWarning: divide by zero encountered in true_divide\n",
      "  p_uv = np.divide(outer, dists**d)\n"
     ]
    },
    {
     "name": "stdout",
     "output_type": "stream",
     "text": [
      "Network Properties:\n",
      "nodes, edges\t\t\t1500, 41506\n",
      "directed?\t\t\tFalse\n",
      "weighted?\t\t\tFalse\n",
      "isolated nodes\t\t\t0\n",
      "self-loops\t\t\t0\n",
      "density\t\t\t\t0.036919\n",
      "clustering coefficient\t\t0.528137\n",
      "min/max/avg degree\t\t7, 1062, 55.341333\n",
      "degree assortativity\t\t-0.182402\n",
      "number of connected components\t1\n",
      "size of largest component\t1500 (100.00 %)\n"
     ]
    }
   ],
   "source": [
    "n = 1500\n",
    "d=2\n",
    "tau=2.1\n",
    "alpha=1.2\n",
    "desiredAvgDegree=70.0\n",
    "\n",
    "g, edges, weights, pts, const = generation.generate_GIRG_nk(n, d, tau, alpha, desiredAvgDegree=desiredAvgDegree,\n",
    "                                                                points_type=points.PointsCube)\n",
    "\n",
    "g = utils.get_largest_component(g)\n",
    "nk.overview(g)\n",
    "n = g.numberOfNodes()"
   ],
   "metadata": {
    "collapsed": false,
    "ExecuteTime": {
     "start_time": "2023-06-10T13:23:45.111218Z",
     "end_time": "2023-06-10T13:23:45.796778Z"
    }
   }
  },
  {
   "cell_type": "code",
   "execution_count": 5,
   "outputs": [],
   "source": [
    "weights = utils.graph_degrees_to_weights(g)"
   ],
   "metadata": {
    "collapsed": false,
    "ExecuteTime": {
     "start_time": "2023-06-10T13:23:47.812287Z",
     "end_time": "2023-06-10T13:23:47.837684Z"
    }
   }
  },
  {
   "cell_type": "code",
   "execution_count": 12,
   "outputs": [
    {
     "data": {
      "text/plain": "<module 'benji_girgs.generation' from '../benji_girgs/generation.py'>"
     },
     "execution_count": 12,
     "metadata": {},
     "output_type": "execute_result"
    }
   ],
   "source": [
    "import importlib\n",
    "importlib.reload(generation)"
   ],
   "metadata": {
    "collapsed": false,
    "ExecuteTime": {
     "start_time": "2023-06-10T13:24:20.866304Z",
     "end_time": "2023-06-10T13:24:20.888302Z"
    }
   }
  },
  {
   "cell_type": "code",
   "execution_count": 13,
   "outputs": [],
   "source": [
    "c, probs = generation.chung_lu_fit_c(g, weights)"
   ],
   "metadata": {
    "collapsed": false,
    "ExecuteTime": {
     "start_time": "2023-06-10T13:24:21.355705Z",
     "end_time": "2023-06-10T13:24:21.610014Z"
    }
   }
  },
  {
   "cell_type": "code",
   "execution_count": 14,
   "outputs": [
    {
     "data": {
      "text/plain": "41505.999999999905"
     },
     "execution_count": 14,
     "metadata": {},
     "output_type": "execute_result"
    }
   ],
   "source": [
    "(probs.sum() - np.diag(probs).sum()) / 2"
   ],
   "metadata": {
    "collapsed": false,
    "ExecuteTime": {
     "start_time": "2023-06-10T13:24:21.606857Z",
     "end_time": "2023-06-10T13:24:21.626144Z"
    }
   }
  },
  {
   "cell_type": "code",
   "execution_count": 15,
   "outputs": [
    {
     "data": {
      "text/plain": "-264631.20867441216"
     },
     "execution_count": 15,
     "metadata": {},
     "output_type": "execute_result"
    }
   ],
   "source": [
    "generation.g_probs_to_ll(g, probs)"
   ],
   "metadata": {
    "collapsed": false,
    "ExecuteTime": {
     "start_time": "2023-06-10T13:24:21.837084Z",
     "end_time": "2023-06-10T13:24:22.344453Z"
    }
   }
  },
  {
   "cell_type": "code",
   "execution_count": null,
   "outputs": [],
   "source": [],
   "metadata": {
    "collapsed": false
   }
  },
  {
   "cell_type": "code",
   "execution_count": 27,
   "outputs": [
    {
     "data": {
      "text/plain": "21.513299895271317"
     },
     "execution_count": 27,
     "metadata": {},
     "output_type": "execute_result"
    }
   ],
   "source": [
    "# c = 1.0\n",
    "# W = np.sum(weights)\n",
    "probs = c * np.outer(weights, weights) / W\n",
    "np.max(probs)"
   ],
   "metadata": {
    "collapsed": false,
    "ExecuteTime": {
     "start_time": "2023-06-10T13:14:47.745625Z",
     "end_time": "2023-06-10T13:14:47.791208Z"
    }
   }
  },
  {
   "cell_type": "code",
   "execution_count": 22,
   "outputs": [],
   "source": [
    "c /= 2"
   ],
   "metadata": {
    "collapsed": false,
    "ExecuteTime": {
     "start_time": "2023-06-10T13:14:18.970654Z",
     "end_time": "2023-06-10T13:14:18.977915Z"
    }
   }
  },
  {
   "cell_type": "code",
   "execution_count": 23,
   "outputs": [
    {
     "data": {
      "text/plain": "0.015625"
     },
     "execution_count": 23,
     "metadata": {},
     "output_type": "execute_result"
    }
   ],
   "source": [
    "c"
   ],
   "metadata": {
    "collapsed": false,
    "ExecuteTime": {
     "start_time": "2023-06-10T13:14:24.561428Z",
     "end_time": "2023-06-10T13:14:24.727417Z"
    }
   }
  },
  {
   "cell_type": "code",
   "execution_count": 30,
   "outputs": [
    {
     "data": {
      "text/plain": "array([[0.02666492, 0.10325563, 0.01077943, ..., 0.02326088, 0.02609758,\n        0.0147508 ],\n       [0.10325563, 0.39984095, 0.04174164, ..., 0.09007406, 0.1010587 ,\n        0.05712014],\n       [0.01077943, 0.04174164, 0.00435764, ..., 0.00940334, 0.01055008,\n        0.00596309],\n       ...,\n       [0.02326088, 0.09007406, 0.00940334, ..., 0.02029141, 0.02276597,\n        0.01286772],\n       [0.02609758, 0.1010587 , 0.01055008, ..., 0.02276597, 0.02554231,\n        0.01443696],\n       [0.0147508 , 0.05712014, 0.00596309, ..., 0.01286772, 0.01443696,\n        0.00816002]])"
     },
     "execution_count": 30,
     "metadata": {},
     "output_type": "execute_result"
    }
   ],
   "source": [
    "np.minimum(probs, 1)"
   ],
   "metadata": {
    "collapsed": false,
    "ExecuteTime": {
     "start_time": "2023-06-10T13:15:40.967490Z",
     "end_time": "2023-06-10T13:15:40.991442Z"
    }
   }
  },
  {
   "cell_type": "code",
   "execution_count": null,
   "outputs": [],
   "source": [],
   "metadata": {
    "collapsed": false
   }
  }
 ],
 "metadata": {
  "kernelspec": {
   "name": "girgenv_higherdims",
   "language": "python",
   "display_name": "girgenv_higherdims"
  },
  "language_info": {
   "codemirror_mode": {
    "name": "ipython",
    "version": 2
   },
   "file_extension": ".py",
   "mimetype": "text/x-python",
   "name": "python",
   "nbconvert_exporter": "python",
   "pygments_lexer": "ipython2",
   "version": "2.7.6"
  }
 },
 "nbformat": 4,
 "nbformat_minor": 0
}
