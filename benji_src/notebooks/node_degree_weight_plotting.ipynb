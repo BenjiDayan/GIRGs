{
 "cells": [
  {
   "cell_type": "code",
   "execution_count": 1,
   "metadata": {},
   "outputs": [],
   "source": [
    "import sys\n",
    "sys.path.append('../')"
   ]
  },
  {
   "cell_type": "code",
   "execution_count": 2,
   "metadata": {},
   "outputs": [
    {
     "data": {
      "text/html": [
       "\n",
       "\t\t\t<script type=\"text/javascript\">\n",
       "\t\t\t<!--\n",
       "\t\t\t\t\n",
       "\t\t\t{\n",
       "\t\t\t\tvar element = document.getElementById('NetworKit_script');\n",
       "\t\t\t\tif (element) {\n",
       "\t\t\t\t\telement.parentNode.removeChild(element);\n",
       "\t\t\t\t}\n",
       "\t\t\t\telement = document.createElement('script');\n",
       "\t\t\t\telement.type = 'text/javascript';\n",
       "\t\t\t\telement.innerHTML = 'function NetworKit_pageEmbed(id) { var i, j; var elements; elements = document.getElementById(id).getElementsByClassName(\"Plot\"); for (i=0; i<elements.length; i++) { elements[i].id = id + \"_Plot_\" + i; var data = elements[i].getAttribute(\"data-image\").split(\"|\"); elements[i].removeAttribute(\"data-image\"); var content = \"<div class=\\\\\"Image\\\\\" id=\\\\\"\" + elements[i].id + \"_Image\\\\\" />\"; elements[i].innerHTML = content; elements[i].setAttribute(\"data-image-index\", 0); elements[i].setAttribute(\"data-image-length\", data.length); for (j=0; j<data.length; j++) { elements[i].setAttribute(\"data-image-\" + j, data[j]); } NetworKit_plotUpdate(elements[i]); elements[i].onclick = function (e) { NetworKit_overlayShow((e.target) ? e.target : e.srcElement); } } elements = document.getElementById(id).getElementsByClassName(\"HeatCell\"); for (i=0; i<elements.length; i++) { var data = parseFloat(elements[i].getAttribute(\"data-heat\")); var color = \"#00FF00\"; if (data <= 1 && data > 0) { color = \"hsla(0, 100%, 75%, \" + (data) + \")\"; } else if (data <= 0 && data >= -1) { color = \"hsla(240, 100%, 75%, \" + (-data) + \")\"; } elements[i].style.backgroundColor = color; } elements = document.getElementById(id).getElementsByClassName(\"Details\"); for (i=0; i<elements.length; i++) { elements[i].setAttribute(\"data-title\", \"-\"); NetworKit_toggleDetails(elements[i]); elements[i].onclick = function (e) { NetworKit_toggleDetails((e.target) ? e.target : e.srcElement); } } elements = document.getElementById(id).getElementsByClassName(\"MathValue\"); for (i=elements.length-1; i>=0; i--) { value = elements[i].innerHTML.trim(); if (value === \"nan\") { elements[i].parentNode.innerHTML = \"\" } } elements = document.getElementById(id).getElementsByClassName(\"SubCategory\"); for (i=elements.length-1; i>=0; i--) { value = elements[i].innerHTML.trim(); if (value === \"\") { elements[i].parentNode.removeChild(elements[i]) } } elements = document.getElementById(id).getElementsByClassName(\"Category\"); for (i=elements.length-1; i>=0; i--) { value = elements[i].innerHTML.trim(); if (value === \"\") { elements[i].parentNode.removeChild(elements[i]) } } var isFirefox = false; try { isFirefox = typeof InstallTrigger !== \"undefined\"; } catch (e) {} if (!isFirefox) { alert(\"Currently the function\\'s output is only fully supported by Firefox.\"); } } function NetworKit_plotUpdate(source) { var index = source.getAttribute(\"data-image-index\"); var data = source.getAttribute(\"data-image-\" + index); var image = document.getElementById(source.id + \"_Image\"); image.style.backgroundImage = \"url(\" + data + \")\"; } function NetworKit_showElement(id, show) { var element = document.getElementById(id); element.style.display = (show) ? \"block\" : \"none\"; } function NetworKit_overlayShow(source) { NetworKit_overlayUpdate(source); NetworKit_showElement(\"NetworKit_Overlay\", true); } function NetworKit_overlayUpdate(source) { document.getElementById(\"NetworKit_Overlay_Title\").innerHTML = source.title; var index = source.getAttribute(\"data-image-index\"); var data = source.getAttribute(\"data-image-\" + index); var image = document.getElementById(\"NetworKit_Overlay_Image\"); image.setAttribute(\"data-id\", source.id); image.style.backgroundImage = \"url(\" + data + \")\"; var link = document.getElementById(\"NetworKit_Overlay_Toolbar_Bottom_Save\"); link.href = data; link.download = source.title + \".svg\"; } function NetworKit_overlayImageShift(delta) { var image = document.getElementById(\"NetworKit_Overlay_Image\"); var source = document.getElementById(image.getAttribute(\"data-id\")); var index = parseInt(source.getAttribute(\"data-image-index\")); var length = parseInt(source.getAttribute(\"data-image-length\")); var index = (index+delta) % length; if (index < 0) { index = length + index; } source.setAttribute(\"data-image-index\", index); NetworKit_overlayUpdate(source); } function NetworKit_toggleDetails(source) { var childs = source.children; var show = false; if (source.getAttribute(\"data-title\") == \"-\") { source.setAttribute(\"data-title\", \"+\"); show = false; } else { source.setAttribute(\"data-title\", \"-\"); show = true; } for (i=0; i<childs.length; i++) { if (show) { childs[i].style.display = \"block\"; } else { childs[i].style.display = \"none\"; } } }';\n",
       "\t\t\t\telement.setAttribute('id', 'NetworKit_script');\n",
       "\t\t\t\tdocument.head.appendChild(element);\n",
       "\t\t\t}\n",
       "\t\t\n",
       "\t\t\t\t\n",
       "\t\t\t{\n",
       "\t\t\t\tvar element = document.getElementById('NetworKit_style');\n",
       "\t\t\t\tif (element) {\n",
       "\t\t\t\t\telement.parentNode.removeChild(element);\n",
       "\t\t\t\t}\n",
       "\t\t\t\telement = document.createElement('style');\n",
       "\t\t\t\telement.type = 'text/css';\n",
       "\t\t\t\telement.innerHTML = '.NetworKit_Page { font-family: Arial, Helvetica, sans-serif; font-size: 14px; } .NetworKit_Page .Value:before { font-family: Arial, Helvetica, sans-serif; font-size: 1.05em; content: attr(data-title) \":\"; margin-left: -2.5em; padding-right: 0.5em; } .NetworKit_Page .Details .Value:before { display: block; } .NetworKit_Page .Value { font-family: monospace; white-space: pre; padding-left: 2.5em; white-space: -moz-pre-wrap !important; white-space: -pre-wrap; white-space: -o-pre-wrap; white-space: pre-wrap; word-wrap: break-word; tab-size: 4; -moz-tab-size: 4; } .NetworKit_Page .Category { clear: both; padding-left: 1em; margin-bottom: 1.5em; } .NetworKit_Page .Category:before { content: attr(data-title); font-size: 1.75em; display: block; margin-left: -0.8em; margin-bottom: 0.5em; } .NetworKit_Page .SubCategory { margin-bottom: 1.5em; padding-left: 1em; } .NetworKit_Page .SubCategory:before { font-size: 1.6em; display: block; margin-left: -0.8em; margin-bottom: 0.5em; } .NetworKit_Page .SubCategory[data-title]:before { content: attr(data-title); } .NetworKit_Page .Block { display: block; } .NetworKit_Page .Block:after { content: \".\"; visibility: hidden; display: block; height: 0; clear: both; } .NetworKit_Page .Block .Thumbnail_Overview, .NetworKit_Page .Block .Thumbnail_ScatterPlot { width: 260px; float: left; } .NetworKit_Page .Block .Thumbnail_Overview img, .NetworKit_Page .Block .Thumbnail_ScatterPlot img { width: 260px; } .NetworKit_Page .Block .Thumbnail_Overview:before, .NetworKit_Page .Block .Thumbnail_ScatterPlot:before { display: block; text-align: center; font-weight: bold; } .NetworKit_Page .Block .Thumbnail_Overview:before { content: attr(data-title); } .NetworKit_Page .HeatCell { font-family: \"Courier New\", Courier, monospace; cursor: pointer; } .NetworKit_Page .HeatCell, .NetworKit_Page .HeatCellName { display: inline; padding: 0.1em; margin-right: 2px; background-color: #FFFFFF } .NetworKit_Page .HeatCellName { margin-left: 0.25em; } .NetworKit_Page .HeatCell:before { content: attr(data-heat); display: inline-block; color: #000000; width: 4em; text-align: center; } .NetworKit_Page .Measure { clear: both; } .NetworKit_Page .Measure .Details { cursor: pointer; } .NetworKit_Page .Measure .Details:before { content: \"[\" attr(data-title) \"]\"; display: block; } .NetworKit_Page .Measure .Details .Value { border-left: 1px dotted black; margin-left: 0.4em; padding-left: 3.5em; pointer-events: none; } .NetworKit_Page .Measure .Details .Spacer:before { content: \".\"; opacity: 0.0; pointer-events: none; } .NetworKit_Page .Measure .Plot { width: 440px; height: 440px; cursor: pointer; float: left; margin-left: -0.9em; margin-right: 20px; } .NetworKit_Page .Measure .Plot .Image { background-repeat: no-repeat; background-position: center center; background-size: contain; height: 100%; pointer-events: none; } .NetworKit_Page .Measure .Stat { width: 500px; float: left; } .NetworKit_Page .Measure .Stat .Group { padding-left: 1.25em; margin-bottom: 0.75em; } .NetworKit_Page .Measure .Stat .Group .Title { font-size: 1.1em; display: block; margin-bottom: 0.3em; margin-left: -0.75em; border-right-style: dotted; border-right-width: 1px; border-bottom-style: dotted; border-bottom-width: 1px; background-color: #D0D0D0; padding-left: 0.2em; } .NetworKit_Page .Measure .Stat .Group .List { -webkit-column-count: 3; -moz-column-count: 3; column-count: 3; } .NetworKit_Page .Measure .Stat .Group .List .Entry { position: relative; line-height: 1.75em; } .NetworKit_Page .Measure .Stat .Group .List .Entry[data-tooltip]:before { position: absolute; left: 0; top: -40px; background-color: #808080; color: #ffffff; height: 30px; line-height: 30px; border-radius: 5px; padding: 0 15px; content: attr(data-tooltip); white-space: nowrap; display: none; } .NetworKit_Page .Measure .Stat .Group .List .Entry[data-tooltip]:after { position: absolute; left: 15px; top: -10px; border-top: 7px solid #808080; border-left: 7px solid transparent; border-right: 7px solid transparent; content: \"\"; display: none; } .NetworKit_Page .Measure .Stat .Group .List .Entry[data-tooltip]:hover:after, .NetworKit_Page .Measure .Stat .Group .List .Entry[data-tooltip]:hover:before { display: block; } .NetworKit_Page .Measure .Stat .Group .List .Entry .MathValue { font-family: \"Courier New\", Courier, monospace; } .NetworKit_Page .Measure:after { content: \".\"; visibility: hidden; display: block; height: 0; clear: both; } .NetworKit_Page .PartitionPie { clear: both; } .NetworKit_Page .PartitionPie img { width: 600px; } #NetworKit_Overlay { left: 0px; top: 0px; display: none; position: absolute; width: 100%; height: 100%; background-color: rgba(0,0,0,0.6); z-index: 1000; } #NetworKit_Overlay_Title { position: absolute; color: white; transform: rotate(-90deg); width: 32em; height: 32em; padding-right: 0.5em; padding-top: 0.5em; text-align: right; font-size: 40px; } #NetworKit_Overlay .button { background: white; cursor: pointer; } #NetworKit_Overlay .button:before { size: 13px; display: inline-block; text-align: center; margin-top: 0.5em; margin-bottom: 0.5em; width: 1.5em; height: 1.5em; } #NetworKit_Overlay .icon-close:before { content: \"X\"; } #NetworKit_Overlay .icon-previous:before { content: \"P\"; } #NetworKit_Overlay .icon-next:before { content: \"N\"; } #NetworKit_Overlay .icon-save:before { content: \"S\"; } #NetworKit_Overlay_Toolbar_Top, #NetworKit_Overlay_Toolbar_Bottom { position: absolute; width: 40px; right: 13px; text-align: right; z-index: 1100; } #NetworKit_Overlay_Toolbar_Top { top: 0.5em; } #NetworKit_Overlay_Toolbar_Bottom { Bottom: 0.5em; } #NetworKit_Overlay_ImageContainer { position: absolute; top: 5%; left: 5%; height: 90%; width: 90%; background-repeat: no-repeat; background-position: center center; background-size: contain; } #NetworKit_Overlay_Image { height: 100%; width: 100%; background-repeat: no-repeat; background-position: center center; background-size: contain; }';\n",
       "\t\t\t\telement.setAttribute('id', 'NetworKit_style');\n",
       "\t\t\t\tdocument.head.appendChild(element);\n",
       "\t\t\t}\n",
       "\t\t\n",
       "\t\t\t\t\n",
       "\t\t\t{\n",
       "\t\t\t\tvar element = document.getElementById('NetworKit_Overlay');\n",
       "\t\t\t\tif (element) {\n",
       "\t\t\t\t\telement.parentNode.removeChild(element);\n",
       "\t\t\t\t}\n",
       "\t\t\t\telement = document.createElement('div');\n",
       "\t\t\t\telement.innerHTML = '<div id=\"NetworKit_Overlay_Toolbar_Top\"><div class=\"button icon-close\" id=\"NetworKit_Overlay_Close\" /></div><div id=\"NetworKit_Overlay_Title\" /> <div id=\"NetworKit_Overlay_ImageContainer\"> <div id=\"NetworKit_Overlay_Image\" /> </div> <div id=\"NetworKit_Overlay_Toolbar_Bottom\"> <div class=\"button icon-previous\" onclick=\"NetworKit_overlayImageShift(-1)\" /> <div class=\"button icon-next\" onclick=\"NetworKit_overlayImageShift(1)\" /> <a id=\"NetworKit_Overlay_Toolbar_Bottom_Save\"><div class=\"button icon-save\" /></a> </div>';\n",
       "\t\t\t\telement.setAttribute('id', 'NetworKit_Overlay');\n",
       "\t\t\t\tdocument.body.appendChild(element);\n",
       "\t\t\t\tdocument.getElementById('NetworKit_Overlay_Close').onclick = function (e) {\n",
       "\t\t\t\t\tdocument.getElementById('NetworKit_Overlay').style.display = 'none';\n",
       "\t\t\t\t}\n",
       "\t\t\t}\n",
       "\t\t\n",
       "\t\t\t-->\n",
       "\t\t\t</script>\n",
       "\t\t"
      ]
     },
     "metadata": {},
     "output_type": "display_data"
    }
   ],
   "source": [
    "from benji_girgs import generation, plotting, utils\n",
    "import networkit as nk\n",
    "import networkx as nx\n",
    "import numpy as np\n",
    "from tqdm import tqdm\n",
    "import matplotlib.pyplot as plt\n",
    "\n",
    "from IPython.core.interactiveshell import InteractiveShell\n",
    "InteractiveShell.ast_node_interactivity = \"all\""
   ]
  },
  {
   "cell_type": "code",
   "execution_count": null,
   "metadata": {},
   "outputs": [],
   "source": []
  },
  {
   "cell_type": "code",
   "execution_count": 22,
   "metadata": {},
   "outputs": [
    {
     "name": "stderr",
     "output_type": "stream",
     "text": [
      "/cluster/home/bdayan/girgs/benji_src/benji_girgs/generation.py:114: RuntimeWarning: divide by zero encountered in divide\n",
      "  p_uv = np.divide(outer, dists**d)\n"
     ]
    }
   ],
   "source": [
    "n=3000\n",
    "d=2\n",
    "tau=2.5\n",
    "alpha = 1.2\n",
    "\n",
    "g, edges, weights, pts = generation.generate_GIRG_nk(n, d, tau, alpha)\n",
    "degrees = np.array(nk.centrality.DegreeCentrality(g).run().scores()).astype(np.int64)"
   ]
  },
  {
   "cell_type": "code",
   "execution_count": 23,
   "metadata": {},
   "outputs": [
    {
     "data": {
      "text/plain": [
       "<matplotlib.collections.PathCollection at 0x2aae76866c10>"
      ]
     },
     "execution_count": 23,
     "metadata": {},
     "output_type": "execute_result"
    },
    {
     "data": {
      "text/plain": [
       "Text(0.5, 0, 'weight')"
      ]
     },
     "execution_count": 23,
     "metadata": {},
     "output_type": "execute_result"
    },
    {
     "data": {
      "text/plain": [
       "Text(0, 0.5, 'degree')"
      ]
     },
     "execution_count": 23,
     "metadata": {},
     "output_type": "execute_result"
    },
    {
     "data": {
      "text/plain": [
       "Text(0.5, 1.0, '3000 nodes, tau 2.5, alpha 1.2, d 2')"
      ]
     },
     "execution_count": 23,
     "metadata": {},
     "output_type": "execute_result"
    },
    {
     "data": {
      "text/plain": [
       "[<matplotlib.lines.Line2D at 0x2aae76866b80>]"
      ]
     },
     "execution_count": 23,
     "metadata": {},
     "output_type": "execute_result"
    },
    {
     "data": {
      "text/plain": [
       "[<matplotlib.lines.Line2D at 0x2aae7688a340>]"
      ]
     },
     "execution_count": 23,
     "metadata": {},
     "output_type": "execute_result"
    },
    {
     "data": {
      "text/plain": [
       "<matplotlib.legend.Legend at 0x2aae7688a130>"
      ]
     },
     "execution_count": 23,
     "metadata": {},
     "output_type": "execute_result"
    },
    {
     "data": {
      "text/plain": [
       "<matplotlib.collections.PathCollection at 0x2aae7684cc40>"
      ]
     },
     "execution_count": 23,
     "metadata": {},
     "output_type": "execute_result"
    },
    {
     "data": {
      "text/plain": [
       "Text(0.5, 0, 'weight')"
      ]
     },
     "execution_count": 23,
     "metadata": {},
     "output_type": "execute_result"
    },
    {
     "data": {
      "text/plain": [
       "Text(0, 0.5, 'degree')"
      ]
     },
     "execution_count": 23,
     "metadata": {},
     "output_type": "execute_result"
    },
    {
     "data": {
      "text/plain": [
       "Text(0.5, 1.0, '3000 nodes, tau 2.5, alpha 1.2, d 2')"
      ]
     },
     "execution_count": 23,
     "metadata": {},
     "output_type": "execute_result"
    },
    {
     "data": {
      "text/plain": [
       "[<matplotlib.lines.Line2D at 0x2aae76894ac0>]"
      ]
     },
     "execution_count": 23,
     "metadata": {},
     "output_type": "execute_result"
    },
    {
     "data": {
      "text/plain": [
       "[<matplotlib.lines.Line2D at 0x2aae76894eb0>]"
      ]
     },
     "execution_count": 23,
     "metadata": {},
     "output_type": "execute_result"
    },
    {
     "data": {
      "text/plain": [
       "<matplotlib.legend.Legend at 0x2aae7688a640>"
      ]
     },
     "execution_count": 23,
     "metadata": {},
     "output_type": "execute_result"
    },
    {
     "name": "stdout",
     "output_type": "stream",
     "text": [
      "w_alpha_mean_empirical: 4.332, w_alpha_mean: 5.000\n"
     ]
    },
    {
     "data": {
      "image/png": "[encoded data removed]",
      "text/plain": [
       "<Figure size 1000x500 with 2 Axes>"
      ]
     },
     "metadata": {},
     "output_type": "display_data"
    }
   ],
   "source": [
    "fig, axes = plt.subplots(1,2, figsize=(10, 5))\n",
    "plt.sca(axes[0])\n",
    "\n",
    "k=max(weights)+10\n",
    "plt.scatter(weights[weights < k], degrees[weights < k])\n",
    "plt.xlabel('weight')\n",
    "plt.ylabel('degree')\n",
    "plt.title(f'{n} nodes, tau {tau}, alpha {alpha}, d {d}')\n",
    "xs = np.arange(1.0, k, 0.1)\n",
    "\n",
    "w_mean = (tau-1)/(tau-2)\n",
    "w_alpha_mean_empirical = np.mean(weights**alpha)\n",
    "w_alpha_mean = (tau-1)/(tau-1-alpha)\n",
    "\n",
    "a = w_mean\n",
    "b = w_mean / (alpha - 1)\n",
    "c_emp = w_alpha_mean_empirical  * 2**(d*(alpha-1)) * n**(1-alpha) / (1 - alpha)\n",
    "c = c_emp * w_alpha_mean / w_alpha_mean_empirical\n",
    "\n",
    "ys_emp = (2**d) * ((a + b) * xs + c_emp * xs**alpha)\n",
    "ys = (2**d) * ((a + b) * xs + c * xs**alpha)\n",
    "plt.plot(xs, ys_emp, color='r', label='emp avg w^alpha')\n",
    "plt.plot(xs, ys, color='pink', label='exp w^alpha')\n",
    "plt.legend()\n",
    "\n",
    "k=10\n",
    "plt.sca(axes[1])\n",
    "plt.scatter(weights[weights < k], degrees[weights < k])\n",
    "plt.xlabel('weight')\n",
    "plt.ylabel('degree')\n",
    "plt.title(f'{n} nodes, tau {tau}, alpha {alpha}, d {d}')\n",
    "xs = np.arange(1.0, k, 0.1)\n",
    "\n",
    "ys_emp = (2**d) * ((a + b) * xs + c_emp * xs**alpha)\n",
    "ys = (2**d) * ((a + b) * xs + c * xs**alpha)\n",
    "plt.plot(xs, ys_emp, color='r', label='emp avg w^alpha')\n",
    "plt.plot(xs, ys, color='pink', label='exp w^alpha')\n",
    "plt.legend()\n",
    "\n",
    "print(f'w_alpha_mean_empirical: {w_alpha_mean_empirical:.3f}, w_alpha_mean: {w_alpha_mean:.3f}')"
   ]
  },
  {
   "cell_type": "code",
   "execution_count": 123,
   "metadata": {},
   "outputs": [
    {
     "data": {
      "text/plain": [
       "array([ 1.        ,  1.81818182,  2.63636364,  3.45454545,  4.27272727,\n",
       "        5.09090909,  5.90909091,  6.72727273,  7.54545455,  8.36363636,\n",
       "        9.18181818, 10.        ])"
      ]
     },
     "execution_count": 123,
     "metadata": {},
     "output_type": "execute_result"
    }
   ],
   "source": [
    "np.linspace(1, 10, 12)"
   ]
  },
  {
   "cell_type": "code",
   "execution_count": 151,
   "metadata": {},
   "outputs": [
    {
     "data": {
      "text/plain": [
       "[<matplotlib.lines.Line2D at 0x2b92e8468b50>]"
      ]
     },
     "execution_count": 151,
     "metadata": {},
     "output_type": "execute_result"
    },
    {
     "data": {
      "image/png": "[encoded data removed]",
      "text/plain": [
       "<Figure size 640x480 with 1 Axes>"
      ]
     },
     "metadata": {},
     "output_type": "display_data"
    }
   ],
   "source": [
    "k = 25\n",
    "npoints = 20\n",
    "points = np.linspace(1, k, npoints)\n",
    "midpoints = np.linspace(1, k, 2*(npoints-2) + 3)\n",
    "midpoints = np.array([midpoints[i] for i in range(len(midpoints)) if i % 2 == 1])\n",
    "quantiles = []\n",
    "for i in range(len(points)-1):\n",
    "    lo, hi = points[i], points[i+1]\n",
    "    midpoint = midpoints[i]\n",
    "    quantiles.append(np.quantile(degrees[(lo < weights) & (weights < hi)], [0.2, 0.8]))\n",
    "quantiles = np.array(quantiles)\n",
    "\n",
    "plt.plot(midpoints, quantiles[:, 0], color='green', label='0.2 quantile', linestyle='--')\n",
    "plt.plot(midpoints, quantiles[:, 1], color='purple', label='0.8 quantile', linestyle='--')\n",
    "\n",
    "ys_emp = (2**d) * ((a + b) * midpoints + c_emp * midpoints**alpha)\n",
    "ys = (2**d) * ((a + b) * midpoints + c * midpoints**alpha)\n",
    "\n",
    "plt.plot(midpoints, ys_emp, color='r', label='emp avg w^alpha')\n",
    "plt.plot(midpoints, ys, color='pink', label='exp w^alpha')"
   ]
  },
  {
   "cell_type": "code",
   "execution_count": 18,
   "metadata": {},
   "outputs": [],
   "source": [
    "from girg_sampling import girgs"
   ]
  },
  {
   "cell_type": "code",
   "execution_count": 28,
   "metadata": {},
   "outputs": [],
   "source": [
    "def cgirg_gen(n, d, tau, alpha, desiredAvgDegree=None):\n",
    "    \"\"\"Generate a GIRG with C-library\"\"\"\n",
    "    weights = girgs.generateWeights(n, tau)\n",
    "    scaled_weights = weights\n",
    "    const = 1\n",
    "    if desiredAvgDegree is not None:\n",
    "        const = girgs.scaleWeights(weights, desiredAvgDegree, d, alpha)\n",
    "        scaled_weights = list(np.array(weights) * const)\n",
    "    pts = girgs.generatePositions(n, d)\n",
    "    edges = girgs.generateEdges(scaled_weights, pts, alpha)\n",
    "    # Make graph from edge list (not adjacency matrix)\n",
    "    gnx = nx.from_edgelist(edges)\n",
    "    missing_nodes = set(list(range(n)))\n",
    "    for node in gnx.nodes:\n",
    "        missing_nodes.remove(node)\n",
    "    \n",
    "    for missing_node in missing_nodes:\n",
    "        gnx.add_node(missing_node)\n",
    "\n",
    "    gnk = nk.nxadapter.nx2nk(gnx)\n",
    "    id2gnk = dict((gnx_id, gnk_id) for (gnx_id, gnk_id) in zip(gnx.nodes(), range(gnx.number_of_nodes())))\n",
    "\n",
    "    return gnk, edges, weights, pts, const, id2gnk"
   ]
  },
  {
   "cell_type": "code",
   "execution_count": 26,
   "metadata": {},
   "outputs": [
    {
     "ename": "NameError",
     "evalue": "name 'cgirg_gen' is not defined",
     "output_type": "error",
     "traceback": [
      "\u001b[0;31m---------------------------------------------------------------------------\u001b[0m",
      "\u001b[0;31mNameError\u001b[0m                                 Traceback (most recent call last)",
      "Cell \u001b[0;32mIn[26], line 1\u001b[0m\n\u001b[0;32m----> 1\u001b[0m g, edges, weights, pts, const, id2gnk \u001b[38;5;241m=\u001b[39m \u001b[43mcgirg_gen\u001b[49m(n, d, tau, alpha, \u001b[38;5;241m100.0\u001b[39m)\n\u001b[1;32m      2\u001b[0m degrees \u001b[38;5;241m=\u001b[39m np\u001b[38;5;241m.\u001b[39marray(nk\u001b[38;5;241m.\u001b[39mcentrality\u001b[38;5;241m.\u001b[39mDegreeCentrality(g)\u001b[38;5;241m.\u001b[39mrun()\u001b[38;5;241m.\u001b[39mscores())\u001b[38;5;241m.\u001b[39mastype(np\u001b[38;5;241m.\u001b[39mint64)\n\u001b[1;32m      3\u001b[0m degrees2 \u001b[38;5;241m=\u001b[39m [g\u001b[38;5;241m.\u001b[39mdegree(v) \u001b[38;5;28;01mfor\u001b[39;00m v \u001b[38;5;129;01min\u001b[39;00m \u001b[38;5;28mrange\u001b[39m(g\u001b[38;5;241m.\u001b[39mnumberOfNodes())]\n",
      "\u001b[0;31mNameError\u001b[0m: name 'cgirg_gen' is not defined"
     ]
    }
   ],
   "source": [
    "g, edges, weights, pts, const, id2gnk = cgirg_gen(n, d, tau, alpha, 100.0)\n",
    "degrees = np.array(nk.centrality.DegreeCentrality(g).run().scores()).astype(np.int64)\n",
    "degrees2 = [g.degree(v) for v in range(g.numberOfNodes())]\n",
    "gnk2id = {v: k for k, v in id2gnk.items()}\n",
    "weights = np.array([weights[gnk2id[i]] for i in range(len(weights))])"
   ]
  },
  {
   "cell_type": "code",
   "execution_count": 43,
   "metadata": {},
   "outputs": [
    {
     "data": {
      "text/plain": [
       "2.8549914027377437"
      ]
     },
     "execution_count": 43,
     "metadata": {},
     "output_type": "execute_result"
    }
   ],
   "source": [
    "const"
   ]
  },
  {
   "cell_type": "code",
   "execution_count": 24,
   "metadata": {},
   "outputs": [
    {
     "data": {
      "text/plain": [
       "<matplotlib.collections.PathCollection at 0x2aae768ba130>"
      ]
     },
     "execution_count": 24,
     "metadata": {},
     "output_type": "execute_result"
    },
    {
     "data": {
      "text/plain": [
       "Text(0.5, 0, 'weight')"
      ]
     },
     "execution_count": 24,
     "metadata": {},
     "output_type": "execute_result"
    },
    {
     "data": {
      "text/plain": [
       "Text(0, 0.5, 'degree')"
      ]
     },
     "execution_count": 24,
     "metadata": {},
     "output_type": "execute_result"
    },
    {
     "data": {
      "text/plain": [
       "Text(0.5, 1.0, '3000 nodes, tau 2.5, alpha 1.2, d 2')"
      ]
     },
     "execution_count": 24,
     "metadata": {},
     "output_type": "execute_result"
    },
    {
     "ename": "NameError",
     "evalue": "name 'const' is not defined",
     "output_type": "error",
     "traceback": [
      "\u001b[0;31m---------------------------------------------------------------------------\u001b[0m",
      "\u001b[0;31mNameError\u001b[0m                                 Traceback (most recent call last)",
      "Cell \u001b[0;32mIn[24], line 19\u001b[0m\n\u001b[1;32m     14\u001b[0m w_alpha_mean \u001b[38;5;241m=\u001b[39m (tau\u001b[38;5;241m-\u001b[39m\u001b[38;5;241m1\u001b[39m)\u001b[38;5;241m/\u001b[39m(tau\u001b[38;5;241m-\u001b[39m\u001b[38;5;241m1\u001b[39m\u001b[38;5;241m-\u001b[39malpha)\n\u001b[1;32m     16\u001b[0m \u001b[38;5;66;03m# const = 1\u001b[39;00m\n\u001b[0;32m---> 19\u001b[0m a \u001b[38;5;241m=\u001b[39m (n\u001b[38;5;241m/\u001b[39mnp\u001b[38;5;241m.\u001b[39msum(weights)) \u001b[38;5;241m*\u001b[39m w_mean \u001b[38;5;241m*\u001b[39m \u001b[43mconst\u001b[49m\u001b[38;5;241m*\u001b[39m\u001b[38;5;241m*\u001b[39m(\u001b[38;5;241m1\u001b[39m\u001b[38;5;241m/\u001b[39malpha)\n\u001b[1;32m     20\u001b[0m b \u001b[38;5;241m=\u001b[39m (n\u001b[38;5;241m/\u001b[39mnp\u001b[38;5;241m.\u001b[39msum(weights)) \u001b[38;5;241m*\u001b[39m w_mean \u001b[38;5;241m*\u001b[39m const\u001b[38;5;241m*\u001b[39m\u001b[38;5;241m*\u001b[39m(\u001b[38;5;241m1\u001b[39m\u001b[38;5;241m/\u001b[39malpha) \u001b[38;5;241m/\u001b[39m (alpha \u001b[38;5;241m-\u001b[39m \u001b[38;5;241m1\u001b[39m)\n\u001b[1;32m     21\u001b[0m c_emp \u001b[38;5;241m=\u001b[39m (n\u001b[38;5;241m/\u001b[39m(np\u001b[38;5;241m.\u001b[39msum(weights)\u001b[38;5;241m*\u001b[39m\u001b[38;5;241m*\u001b[39m(alpha))) \u001b[38;5;241m*\u001b[39m  w_alpha_mean_empirical  \u001b[38;5;241m*\u001b[39m const \u001b[38;5;241m/\u001b[39m (\u001b[38;5;241m1\u001b[39m \u001b[38;5;241m-\u001b[39m alpha)\n",
      "\u001b[0;31mNameError\u001b[0m: name 'const' is not defined"
     ]
    },
    {
     "data": {
      "image/png": "[encoded data removed]",
      "text/plain": [
       "<Figure size 1000x500 with 2 Axes>"
      ]
     },
     "metadata": {},
     "output_type": "display_data"
    }
   ],
   "source": [
    "fig, axes = plt.subplots(1,2, figsize=(10, 5))\n",
    "plt.sca(axes[0])\n",
    "\n",
    "k=max(weights)+10\n",
    "plt.scatter(weights[weights < k], degrees[weights < k])\n",
    "plt.xlabel('weight')\n",
    "plt.ylabel('degree')\n",
    "plt.title(f'{n} nodes, tau {tau}, alpha {alpha}, d {d}')\n",
    "xs = np.arange(1.0, k, 0.1)\n",
    "\n",
    "w_mean = (tau-1)/(tau-2)\n",
    "# w_mean = np.mean(weights)\n",
    "w_alpha_mean_empirical = np.mean(weights**alpha)\n",
    "w_alpha_mean = (tau-1)/(tau-1-alpha)\n",
    "\n",
    "# const = 1\n",
    "\n",
    "\n",
    "a = (n/np.sum(weights)) * w_mean * const**(1/alpha)\n",
    "b = (n/np.sum(weights)) * w_mean * const**(1/alpha) / (alpha - 1)\n",
    "c_emp = (n/(np.sum(weights)**(alpha))) *  w_alpha_mean_empirical  * const / (1 - alpha)\n",
    "c = c_emp * w_alpha_mean / w_alpha_mean_empirical\n",
    "\n",
    "\n",
    "ys_emp = (2**d) * ((a + b) * xs + c_emp * xs**alpha)\n",
    "ys = (2**d) * ((a + b) * xs + c * xs**alpha)\n",
    "plt.plot(xs, ys_emp, color='r', label='emp avg w^alpha')\n",
    "plt.plot(xs, ys, color='pink', label='exp w^alpha')\n",
    "plt.legend()\n",
    "\n",
    "k=10\n",
    "plt.sca(axes[1])\n",
    "plt.scatter(weights[weights < k], degrees[weights < k])\n",
    "plt.xlabel('weight')\n",
    "plt.ylabel('degree')\n",
    "plt.title(f'{n} nodes, tau {tau}, alpha {alpha}, d {d}')\n",
    "xs = np.arange(1.0, k, 0.1)\n",
    "\n",
    "ys_emp = (2**d) * ((a + b) * xs + c_emp * xs**alpha)\n",
    "ys = (2**d) * ((a + b) * xs + c * xs**alpha)\n",
    "plt.plot(xs, ys_emp, color='r', label='emp avg w^alpha')\n",
    "plt.plot(xs, ys, color='pink', label='exp w^alpha')\n",
    "plt.legend()\n",
    "\n",
    "print(a, b, c)\n",
    "print(f'w_alpha_mean_empirical: {w_alpha_mean_empirical:.3f}, w_alpha_mean: {w_alpha_mean:.3f}')"
   ]
  },
  {
   "cell_type": "code",
   "execution_count": 2,
   "metadata": {},
   "outputs": [
    {
     "name": "stderr",
     "output_type": "stream",
     "text": [
      "/cluster/home/bdayan/girgs/benji_src/benji_girgs/generation.py:114: RuntimeWarning: divide by zero encountered in divide\n",
      "  p_uv = np.divide(outer, dists**d)\n"
     ]
    }
   ],
   "source": [
    "n=3000\n",
    "d=2\n",
    "tau=2.5\n",
    "alpha = 1.2\n",
    "\n",
    "g, edges, weights, pts = generation.generate_GIRG_nk(n, d, tau, alpha)\n",
    "degrees = np.array(nk.centrality.DegreeCentrality(g).run().scores()).astype(np.int64)"
   ]
  },
  {
   "cell_type": "code",
   "execution_count": null,
   "metadata": {},
   "outputs": [],
   "source": []
  },
  {
   "cell_type": "code",
   "execution_count": 48,
   "metadata": {},
   "outputs": [],
   "source": [
    "def simple_bfs_search(g, weights, weight_thresh, num=10, starting=1.3, starting_eps=0.05):\n",
    "    suitable_starting = np.argwhere(np.abs(weights - starting) < starting_eps).reshape(-1)\n",
    "    dist_2s = []\n",
    "    for starting_node in suitable_starting[:num]:\n",
    "        dists = simple_bfs(g, weights, weight_thresh, starting_node)\n",
    "        dists2 = {k: len(v) for k, v in dists.items()}\n",
    "        dist_2s.append(dists2[2])\n",
    "    return np.median(dist_2s)\n",
    "\n",
    "def simple_bfs(g, weights, weight_thresh, starting_node):\n",
    "    dists = {0: [starting_node]}\n",
    "    visited = set([starting_node])\n",
    "    dist = 0\n",
    "    while True:\n",
    "#         print(dist)\n",
    "        trigger = False\n",
    "        new_dist = []\n",
    "        for node in dists[dist]:\n",
    "            for nhb in g.iterNeighbors(node):\n",
    "                if not nhb in visited:\n",
    "                    visited.add(nhb)\n",
    "                    if weights[nhb] < weight_thresh:\n",
    "                        new_dist.append(nhb)\n",
    "                        trigger = True\n",
    "                        \n",
    "        dist += 1\n",
    "        dists[dist] = new_dist\n",
    "        if not trigger:\n",
    "            break\n",
    "            \n",
    "    return dists"
   ]
  },
  {
   "cell_type": "code",
   "execution_count": 68,
   "metadata": {},
   "outputs": [
    {
     "data": {
      "text/plain": [
       "array([5.        , 3.66666667, 3.21059113, 2.19281046, 1.00364964,\n",
       "       0.24813433, 0.07549858])"
      ]
     },
     "execution_count": 68,
     "metadata": {},
     "output_type": "execute_result"
    }
   ],
   "source": [
    "n=3000\n",
    "d=2\n",
    "tau=2.5\n",
    "alpha = 1.01\n",
    "\n",
    "weight = 1.3\n",
    "\n",
    "g, edges, weights, pts = generation.generate_GIRG_nk(n, d, tau, alpha)\n",
    "suitable_starting = np.argwhere(np.abs(weights - 1.3) < 0.05).reshape(-1)\n",
    "dist_2s = []\n",
    "scale_factor_arr = []\n",
    "for starting_node in suitable_starting[:100]:\n",
    "    dists = simple_bfs(g, weights, 1.1, starting_node)\n",
    "    dists2 = {k: len(v) for k, v in dists.items()}\n",
    "    if len(dists2) < 5:\n",
    "        continue\n",
    "    dist_2s.append(dists2[2])\n",
    "#     print(dists2)\n",
    "    scale_factors = [dists2[i+1]/dists2[i] for i in range(len(dists2)-1)]\n",
    "    scale_factor_arr.append(scale_factors)\n",
    "#     print('; '.join([f'{i+1}/{i}: {scale_factors[i]:.2f}' for i in range(len(dists2)-1)]))\n",
    "#     print('')\n",
    "\n",
    "temp = np.array(list(zip(*scale_factor_arr)))\n",
    "np.median(temp, axis=1)"
   ]
  },
  {
   "cell_type": "code",
   "execution_count": 103,
   "metadata": {
    "tags": []
   },
   "outputs": [
    {
     "name": "stderr",
     "output_type": "stream",
     "text": [
      "100%|██████████| 7/7 [00:24<00:00,  3.47s/it]\n"
     ]
    }
   ],
   "source": [
    "n=3000\n",
    "d=3\n",
    "tau=2.5\n",
    "alphas = [1.01, 1.05, 1.1, 1.2, 1.4, 1.8, 2.5]\n",
    "\n",
    "weight = 1.3\n",
    "outs3 = []\n",
    "\n",
    "for alpha in tqdm(alphas):\n",
    "\n",
    "    g, edges, weights, pts = generation.generate_GIRG_nk(n, d, tau, alpha)\n",
    "    suitable_starting = np.argwhere(np.abs(weights - 1.3) < 0.05).reshape(-1)\n",
    "    dist_2s = []\n",
    "    scale_factor_arr = []\n",
    "    for starting_node in suitable_starting[:100]:\n",
    "        dists = simple_bfs(g, weights, 1.1, starting_node)\n",
    "        dists2 = {k: len(v) for k, v in dists.items()}\n",
    "        if len(dists2) < 5:\n",
    "            continue\n",
    "        dist_2s.append(dists2[2])\n",
    "    #     print(dists2)\n",
    "        scale_factors = [dists2[i+1]/dists2[i] for i in range(len(dists2)-1)]\n",
    "        scale_factor_arr.append(scale_factors)\n",
    "    #     print('; '.join([f'{i+1}/{i}: {scale_factors[i]:.2f}' for i in range(len(dists2)-1)]))\n",
    "    #     print('')\n",
    "\n",
    "    temp = np.array(list(zip(*scale_factor_arr)))\n",
    "    outs3.append(np.median(temp, axis=1)[1])"
   ]
  },
  {
   "cell_type": "code",
   "execution_count": 104,
   "metadata": {},
   "outputs": [
    {
     "name": "stderr",
     "output_type": "stream",
     "text": [
      "100%|██████████| 7/7 [00:13<00:00,  1.91s/it]\n"
     ]
    }
   ],
   "source": [
    "n=3000\n",
    "d=2\n",
    "tau=2.5\n",
    "alphas = [1.01, 1.05, 1.1, 1.2, 1.4, 1.8, 2.5]\n",
    "\n",
    "weight = 1.3\n",
    "outs2 = []\n",
    "\n",
    "for alpha in tqdm(alphas):\n",
    "\n",
    "    g, edges, weights, pts = generation.generate_GIRG_nk(n, d, tau, alpha)\n",
    "    suitable_starting = np.argwhere(np.abs(weights - 1.3) < 0.05).reshape(-1)\n",
    "    dist_2s = []\n",
    "    scale_factor_arr = []\n",
    "    for starting_node in suitable_starting[:100]:\n",
    "        dists = simple_bfs(g, weights, 1.1, starting_node)\n",
    "        dists2 = {k: len(v) for k, v in dists.items()}\n",
    "        if len(dists2) < 5:\n",
    "            continue\n",
    "        dist_2s.append(dists2[2])\n",
    "    #     print(dists2)\n",
    "        scale_factors = [dists2[i+1]/dists2[i] for i in range(len(dists2)-1)]\n",
    "        scale_factor_arr.append(scale_factors)\n",
    "    #     print('; '.join([f'{i+1}/{i}: {scale_factors[i]:.2f}' for i in range(len(dists2)-1)]))\n",
    "    #     print('')\n",
    "\n",
    "    temp = np.array(list(zip(*scale_factor_arr)))\n",
    "    outs2.append(np.median(temp, axis=1)[1])"
   ]
  },
  {
   "cell_type": "code",
   "execution_count": 105,
   "metadata": {},
   "outputs": [
    {
     "name": "stderr",
     "output_type": "stream",
     "text": [
      "100%|██████████| 7/7 [00:32<00:00,  4.63s/it]\n"
     ]
    }
   ],
   "source": [
    "n=3000\n",
    "d=4\n",
    "tau=2.5\n",
    "alphas = [1.01, 1.05, 1.1, 1.2, 1.4, 1.8, 2.5]\n",
    "\n",
    "weight = 1.3\n",
    "outs4 = []\n",
    "\n",
    "for alpha in tqdm(alphas):\n",
    "\n",
    "    g, edges, weights, pts = generation.generate_GIRG_nk(n, d, tau, alpha)\n",
    "    suitable_starting = np.argwhere(np.abs(weights - 1.3) < 0.05).reshape(-1)\n",
    "    dist_2s = []\n",
    "    scale_factor_arr = []\n",
    "    for starting_node in suitable_starting[:100]:\n",
    "        dists = simple_bfs(g, weights, 1.1, starting_node)\n",
    "        dists2 = {k: len(v) for k, v in dists.items()}\n",
    "        if len(dists2) < 3:\n",
    "            continue\n",
    "        dist_2s.append(dists2[2])\n",
    "    #     print(dists2)\n",
    "        scale_factors = [dists2[i+1]/dists2[i] for i in range(len(dists2)-1)]\n",
    "        scale_factor_arr.append(scale_factors)\n",
    "    #     print('; '.join([f'{i+1}/{i}: {scale_factors[i]:.2f}' for i in range(len(dists2)-1)]))\n",
    "    #     print('')\n",
    "\n",
    "    temp = np.array(list(zip(*scale_factor_arr)))\n",
    "    outs4.append(np.median(temp, axis=1)[1])"
   ]
  },
  {
   "cell_type": "code",
   "execution_count": 106,
   "metadata": {},
   "outputs": [
    {
     "name": "stderr",
     "output_type": "stream",
     "text": [
      "100%|██████████| 7/7 [00:50<00:00,  7.25s/it]\n"
     ]
    }
   ],
   "source": [
    "n=3000\n",
    "d=5\n",
    "tau=2.5\n",
    "alphas = [1.01, 1.05, 1.1, 1.2, 1.4, 1.8, 2.5]\n",
    "\n",
    "weight = 1.3\n",
    "outs5 = []\n",
    "\n",
    "for alpha in tqdm(alphas):\n",
    "\n",
    "    g, edges, weights, pts = generation.generate_GIRG_nk(n, d, tau, alpha)\n",
    "    suitable_starting = np.argwhere(np.abs(weights - 1.3) < 0.05).reshape(-1)\n",
    "    dist_2s = []\n",
    "    scale_factor_arr = []\n",
    "    for starting_node in suitable_starting[:100]:\n",
    "        dists = simple_bfs(g, weights, 1.1, starting_node)\n",
    "        dists2 = {k: len(v) for k, v in dists.items()}\n",
    "        if len(dists2) < 3:\n",
    "            continue\n",
    "        dist_2s.append(dists2[2])\n",
    "        scale_factors = [dists2[i+1]/dists2[i] for i in range(len(dists2)-1)]\n",
    "        scale_factor_arr.append(scale_factors)\n",
    "\n",
    "    temp = np.array(list(zip(*scale_factor_arr)))\n",
    "    outs5.append(np.median(temp, axis=1)[1])"
   ]
  },
  {
   "cell_type": "code",
   "execution_count": 107,
   "metadata": {},
   "outputs": [
    {
     "data": {
      "text/plain": [
       "<matplotlib.legend.Legend at 0x2baba8109b20>"
      ]
     },
     "execution_count": 107,
     "metadata": {},
     "output_type": "execute_result"
    },
    {
     "data": {
      "image/png": "[encoded data removed]",
      "text/plain": [
       "<Figure size 640x480 with 1 Axes>"
      ]
     },
     "metadata": {},
     "output_type": "display_data"
    }
   ],
   "source": [
    "plt.plot(alphas, outs3, label='d=3')\n",
    "plt.plot(alphas, outs2, label='d=2')\n",
    "plt.plot(alphas, outs4, label='d=4')\n",
    "plt.plot(alphas, outs5, label='d=5')\n",
    "plt.xlabel('alpha')\n",
    "plt.ylabel('median 2 dist / 1 dist')\n",
    "plt.legend()"
   ]
  },
  {
   "cell_type": "code",
   "execution_count": 4,
   "metadata": {},
   "outputs": [],
   "source": [
    "def quick_subgraph(g, indices):\n",
    "    g2 = nk.graphtools.subgraphFromNodes(g, indices)\n",
    "    a = list(g2.iterEdges())\n",
    "    b = list(g2.iterNodes())\n",
    "    node_map = {}\n",
    "    i = 0\n",
    "    for node in b:\n",
    "        node_map[node] = i\n",
    "        i += 1\n",
    "    rev_node_map = {v:k for k, v in node_map.items()}\n",
    "\n",
    "    g3 = nk.Graph()\n",
    "    for node in rev_node_map:\n",
    "        _ = g3.addNode()\n",
    "\n",
    "    for u, v in tqdm(a):\n",
    "        _ = g3.addEdge(node_map[u], node_map[v])\n",
    "        \n",
    "    return g3"
   ]
  },
  {
   "cell_type": "code",
   "execution_count": 5,
   "metadata": {},
   "outputs": [
    {
     "name": "stderr",
     "output_type": "stream",
     "text": [
      "/cluster/home/bdayan/girgs/benji_src/benji_girgs/generation.py:114: RuntimeWarning: divide by zero encountered in divide\n",
      "  p_uv = np.divide(outer, dists**d)\n"
     ]
    }
   ],
   "source": [
    "n=3000\n",
    "d=2\n",
    "tau=2.5\n",
    "alphas = alpha=1.2\n",
    "g, edges, weights, pts = generation.generate_GIRG_nk(n, d, tau, alpha)"
   ]
  },
  {
   "cell_type": "code",
   "execution_count": 10,
   "metadata": {},
   "outputs": [],
   "source": [
    "dists = utils.weight_thresh_all_pairs_distances(g, weights, 1.3)\n",
    "cn_r = utils.fractal_dimensions(dists)\n",
    "dists2 = utils.sort_out_dist_matrix(dists)"
   ]
  },
  {
   "cell_type": "code",
   "execution_count": 13,
   "metadata": {},
   "outputs": [
    {
     "data": {
      "text/plain": [
       "5.714285714285714"
      ]
     },
     "execution_count": 13,
     "metadata": {},
     "output_type": "execute_result"
    }
   ],
   "source": [
    "np.median(dists2[:, 2] / dists2[:, 1])"
   ]
  },
  {
   "cell_type": "code",
   "execution_count": 14,
   "metadata": {},
   "outputs": [
    {
     "data": {
      "text/plain": [
       "[0.001001001001001001,\n",
       " 0.008866866866866868,\n",
       " 0.053753753753753755,\n",
       " 0.24848848848848848,\n",
       " 0.7102002002002002,\n",
       " 0.9819239239239239,\n",
       " 1.0007967967967968]"
      ]
     },
     "execution_count": 14,
     "metadata": {},
     "output_type": "execute_result"
    }
   ],
   "source": [
    "cn_r"
   ]
  },
  {
   "cell_type": "code",
   "execution_count": 15,
   "metadata": {},
   "outputs": [
    {
     "data": {
      "text/plain": [
       "6.062316550011289"
      ]
     },
     "execution_count": 15,
     "metadata": {},
     "output_type": "execute_result"
    }
   ],
   "source": [
    "cn_r[2] / cn_r[1]"
   ]
  },
  {
   "cell_type": "code",
   "execution_count": 18,
   "metadata": {},
   "outputs": [
    {
     "data": {
      "text/plain": [
       "5.706541104606769"
      ]
     },
     "execution_count": 18,
     "metadata": {},
     "output_type": "execute_result"
    }
   ],
   "source": [
    "diffs = [cn_r[0]]\n",
    "for i in range(1, len(cn_r)):\n",
    "    diffs.append(cn_r[i] - cn_r[i-1])\n",
    "    \n",
    "diffs[2] / diffs[1]"
   ]
  },
  {
   "cell_type": "code",
   "execution_count": 19,
   "metadata": {},
   "outputs": [
    {
     "data": {
      "text/plain": [
       "5.812537442296266"
      ]
     },
     "execution_count": 19,
     "metadata": {},
     "output_type": "execute_result"
    }
   ],
   "source": [
    "# Yeah this was never gonnna be equal but anyways....\n",
    "np.mean(dists2[:, 2] / dists2[:, 1])"
   ]
  },
  {
   "cell_type": "code",
   "execution_count": null,
   "metadata": {},
   "outputs": [],
   "source": []
  },
  {
   "cell_type": "code",
   "execution_count": 9,
   "metadata": {},
   "outputs": [
    {
     "name": "stderr",
     "output_type": "stream",
     "text": [
      "100%|██████████| 3742/3742 [00:00<00:00, 1262373.17it/s]\n",
      "/scratch/tmp.13281964.bdayan/ipykernel_51187/4181749659.py:7: RuntimeWarning: invalid value encountered in cast\n",
      "  dists = np.array(apsp.getDistances()).astype(np.int64)\n"
     ]
    }
   ],
   "source": [
    "indices = np.argwhere(weights < 1.3).reshape(-1)\n",
    "\n",
    "g2 = quick_subgraph(g, indices)\n",
    "apsp = nk.distance.APSP(g2)\n",
    "_ = apsp.run()\n",
    "\n",
    "dists = np.array(apsp.getDistances()).astype(np.int64)\n",
    "cn_r = []\n",
    "nchoose2 = g2.numberOfNodes() * (g2.numberOfNodes() - 1)/2\n",
    "for r in range(1, 10):\n",
    "    cn_r.append(np.sum(dists < r)/ (2 * nchoose2))"
   ]
  },
  {
   "cell_type": "code",
   "execution_count": 45,
   "metadata": {},
   "outputs": [
    {
     "data": {
      "text/plain": [
       "-9223372036854775808"
      ]
     },
     "execution_count": 45,
     "metadata": {},
     "output_type": "execute_result"
    }
   ],
   "source": [
    "dists.min()"
   ]
  },
  {
   "cell_type": "code",
   "execution_count": 44,
   "metadata": {},
   "outputs": [
    {
     "data": {
      "text/plain": [
       "943862"
      ]
     },
     "execution_count": 44,
     "metadata": {},
     "output_type": "execute_result"
    }
   ],
   "source": [
    "np.sum(dists < 6)\n",
    "np.sum(dists < 7)\n"
   ]
  },
  {
   "cell_type": "code",
   "execution_count": 38,
   "metadata": {},
   "outputs": [],
   "source": [
    "def sort_out_dist_matrix(dists):\n",
    "    \"\"\"dists: a square n x n integer matrix of distances.\n",
    "    \n",
    "    return: something like\n",
    "    array([[  1,   5,  30, 131, 431, 354,  28,   0],\n",
    "           [  1,   9,  47, 202, 479, 231,  11,   0],\n",
    "           [  1,   4,  19,  86, 317, 486,  67,   0],\n",
    "           [  1,   0,   0,   0,   0,   0,   0,   0],\n",
    "           ...\n",
    "        ])\n",
    "    I.e. the longest distance was 7 here.\n",
    "    \"\"\"\n",
    "    # Remove - infinities\n",
    "    new_dists = []\n",
    "    for vec in dists:\n",
    "        # distances will look like -9223372036854775808, 0, 1, 2, ...\n",
    "        distances, counts = np.unique(vec, return_counts=True)\n",
    "        new_dists.append(counts[distances >= 0])\n",
    "        \n",
    "    return np.array(list(zip_longest(*new_dists, fillvalue=0))).T\n",
    "\n",
    "new_dists = sort_out_dist_matrix(dists)\n",
    "new_dists2 = np.array(list(zip_longest(*new_dists, fillvalue=0))).T"
   ]
  },
  {
   "cell_type": "code",
   "execution_count": 28,
   "metadata": {},
   "outputs": [
    {
     "data": {
      "text/plain": [
       "(array([-9223372036854775808,                    0,                    1,\n",
       "                           2,                    3,                    4,\n",
       "                           5,                    6]),\n",
       " array([  2,   1,   5,  30, 131, 431, 354,  28]))"
      ]
     },
     "execution_count": 28,
     "metadata": {},
     "output_type": "execute_result"
    }
   ],
   "source": [
    "np.unique(dists[0, :], return_counts=True)"
   ]
  },
  {
   "cell_type": "code",
   "execution_count": 34,
   "metadata": {},
   "outputs": [
    {
     "data": {
      "text/plain": [
       "[array([  1,   5,  30, 131, 431, 354,  28]),\n",
       " array([  1,   9,  47, 202, 479, 231,  11]),\n",
       " array([  1,   4,  19,  86, 317, 486,  67]),\n",
       " array([1]),\n",
       " array([  1,   8,  43, 184, 502, 237,   5])]"
      ]
     },
     "execution_count": 34,
     "metadata": {},
     "output_type": "execute_result"
    }
   ],
   "source": [
    "new_dists[:5]"
   ]
  },
  {
   "cell_type": "code",
   "execution_count": 39,
   "metadata": {},
   "outputs": [
    {
     "data": {
      "text/plain": [
       "array([[  1,   5,  30, 131, 431, 354,  28,   0],\n",
       "       [  1,   9,  47, 202, 479, 231,  11,   0],\n",
       "       [  1,   4,  19,  86, 317, 486,  67,   0],\n",
       "       [  1,   0,   0,   0,   0,   0,   0,   0],\n",
       "       [  1,   8,  43, 184, 502, 237,   5,   0]])"
      ]
     },
     "execution_count": 39,
     "metadata": {},
     "output_type": "execute_result"
    }
   ],
   "source": [
    "new_dists2[:5]"
   ]
  },
  {
   "cell_type": "code",
   "execution_count": 174,
   "metadata": {},
   "outputs": [
    {
     "data": {
      "text/plain": [
       "[<matplotlib.lines.Line2D at 0x2baac9daefd0>]"
      ]
     },
     "execution_count": 174,
     "metadata": {},
     "output_type": "execute_result"
    },
    {
     "data": {
      "text/plain": [
       "Text(0.5, 0, 'r')"
      ]
     },
     "execution_count": 174,
     "metadata": {},
     "output_type": "execute_result"
    },
    {
     "data": {
      "text/plain": [
       "Text(0, 0.5, 'dist??')"
      ]
     },
     "execution_count": 174,
     "metadata": {},
     "output_type": "execute_result"
    },
    {
     "data": {
      "image/png": "[encoded data removed]",
      "text/plain": [
       "<Figure size 640x480 with 1 Axes>"
      ]
     },
     "metadata": {},
     "output_type": "display_data"
    }
   ],
   "source": [
    "plt.xscale('log')\n",
    "plt.yscale('log')\n",
    "plt.plot(list(range(1, 10)), cn_r, marker='o')\n",
    "plt.xlabel('r')\n",
    "plt.ylabel('dist??')"
   ]
  },
  {
   "cell_type": "code",
   "execution_count": 187,
   "metadata": {},
   "outputs": [
    {
     "data": {
      "text/plain": [
       "419"
      ]
     },
     "execution_count": 187,
     "metadata": {},
     "output_type": "execute_result"
    }
   ],
   "source": [
    "len(weights[weights < 1.1])"
   ]
  },
  {
   "cell_type": "code",
   "execution_count": null,
   "metadata": {},
   "outputs": [],
   "source": [
    "n=15000\n",
    "d=2\n",
    "tau=2.5\n",
    "alpha=1.3\n",
    "threshs = [1.3, 2.0, 3.0]\n",
    "g, edges, weights, pts = generation.generate_GIRG_nk(n, d, tau, alpha)\n",
    "cn_rs = []\n",
    "rs = np.array(list(range(1, 10)))\n",
    "for thresh in threshs:\n",
    "    indices = np.argwhere(weights < thresh).reshape(-1)\n",
    "\n",
    "    g2 = utils.quick_subgraph(g, indices)\n",
    "    apsp = nk.distance.APSP(g2)\n",
    "    _ = apsp.run()\n",
    "\n",
    "    dists = np.array(apsp.getDistances())\n",
    "    cn_r = []\n",
    "    nchoose2 = g2.numberOfNodes() * (g2.numberOfNodes() - 1)/2\n",
    "    for r in rs:\n",
    "        cn_r.append(np.sum(dists < r)/ (2 * nchoose2))\n",
    "        \n",
    "    cn_rs.append(cn_r)\n",
    "    \n",
    "    \n",
    "plt.xscale('log')\n",
    "plt.yscale('log')\n",
    "for cn_r, thresh in zip(cn_rs, threshs):\n",
    "    plt.plot(rs, cn_r, marker='o', label=f'{thresh}; d=2')\n",
    "plt.xlabel('r')\n",
    "plt.ylabel('dist??')\n",
    "\n",
    "\n",
    "d=3\n",
    "\n",
    "g, edges, weights, pts = generation.generate_GIRG_nk(n, d, tau, alpha)\n",
    "cn_rs = []\n",
    "for thresh in threshs:\n",
    "    indices = np.argwhere(weights < thresh).reshape(-1)\n",
    "\n",
    "    g2 = utils.quick_subgraph(g, indices)\n",
    "    apsp = nk.distance.APSP(g2)\n",
    "    _ = apsp.run()\n",
    "\n",
    "    dists = np.array(apsp.getDistances())\n",
    "    cn_r = []\n",
    "    nchoose2 = g2.numberOfNodes() * (g2.numberOfNodes() - 1)/2\n",
    "    for r in range(1, 10):\n",
    "        cn_r.append(np.sum(dists < r)/ (2 * nchoose2))\n",
    "        \n",
    "    cn_rs.append(cn_r)\n",
    "    \n",
    "for cn_r, thresh in zip(cn_rs, threshs):\n",
    "    plt.plot(rs, cn_r, marker='o', label=f'{thresh}; d=3')\n",
    "    \n",
    "plt.plot(rs, cn_r[0] * rs**3, color='grey', linestyle='--', label='r^3')\n",
    "plt.plot(rs, cn_r[0] * rs**2, color='pink', linestyle='--', label='r^2')\n",
    "plt.plot(rs, cn_r[0] * rs, color='purple', linestyle='--', label='r^1')\n",
    "\n",
    "plt.legend()"
   ]
  },
  {
   "cell_type": "code",
   "execution_count": 201,
   "metadata": {},
   "outputs": [
    {
     "data": {
      "text/plain": [
       "[<matplotlib.lines.Line2D at 0x2baacdade6d0>]"
      ]
     },
     "execution_count": 201,
     "metadata": {},
     "output_type": "execute_result"
    },
    {
     "data": {
      "text/plain": [
       "[<matplotlib.lines.Line2D at 0x2baacdadea30>]"
      ]
     },
     "execution_count": 201,
     "metadata": {},
     "output_type": "execute_result"
    },
    {
     "data": {
      "text/plain": [
       "[<matplotlib.lines.Line2D at 0x2bab1ededcd0>]"
      ]
     },
     "execution_count": 201,
     "metadata": {},
     "output_type": "execute_result"
    },
    {
     "data": {
      "text/plain": [
       "[<matplotlib.lines.Line2D at 0x2bab1ededfd0>]"
      ]
     },
     "execution_count": 201,
     "metadata": {},
     "output_type": "execute_result"
    },
    {
     "data": {
      "image/png": "[encoded data removed]",
      "text/plain": [
       "<Figure size 640x480 with 1 Axes>"
      ]
     },
     "metadata": {},
     "output_type": "display_data"
    }
   ],
   "source": [
    "i_s = np.array([i for i in range(1, 20)])\n",
    "ys = [i**2 - (i-1)**2 for i in range(1, 20)]\n",
    "ys2 = [i**3 - (i-1)**3 for i in range(1, 20)]\n",
    "plt.plot(i_s, i_s**2, color='pink')\n",
    "plt.plot(i_s, i_s, color='purple')\n",
    "plt.xscale('log')\n",
    "plt.yscale('log')\n",
    "plt.plot(i_s, ys, marker='o', color='b')\n",
    "plt.plot(i_s, ys2, marker='o', color='r')"
   ]
  },
  {
   "cell_type": "code",
   "execution_count": 163,
   "metadata": {},
   "outputs": [
    {
     "data": {
      "text/plain": [
       "<networkit.distance.APSP at 0x2bab3fa82fd0>"
      ]
     },
     "execution_count": 163,
     "metadata": {},
     "output_type": "execute_result"
    }
   ],
   "source": [
    "apsp = nk.distance.APSP(g2)\n",
    "apsp.run()"
   ]
  },
  {
   "cell_type": "code",
   "execution_count": 151,
   "metadata": {},
   "outputs": [],
   "source": [
    "dists = np.array(apsp.getDistances())\n",
    "cn_r = []\n",
    "nchoose2 = g3.numberOfNodes() * (g3.numberOfNodes() - 1)/2\n",
    "for r in range(1, 10):\n",
    "    cn_r.append(np.sum(dists < r)/ (2 * nchoose2))"
   ]
  },
  {
   "cell_type": "code",
   "execution_count": 158,
   "metadata": {},
   "outputs": [
    {
     "data": {
      "text/plain": [
       "[<matplotlib.lines.Line2D at 0x2bab3fd2fe50>]"
      ]
     },
     "execution_count": 158,
     "metadata": {},
     "output_type": "execute_result"
    },
    {
     "data": {
      "image/png": "[encoded data removed]",
      "text/plain": [
       "<Figure size 640x480 with 1 Axes>"
      ]
     },
     "metadata": {},
     "output_type": "display_data"
    }
   ],
   "source": [
    "plt.xscale('log')\n",
    "plt.yscale('log')\n",
    "plt.plot(list(range(1, 10)), cn_r, marker='o')\n",
    "plt.xlabel('r')\n",
    "plt.ylabel('dist??')"
   ]
  },
  {
   "cell_type": "code",
   "execution_count": 98,
   "metadata": {},
   "outputs": [],
   "source": [
    "g, edges, weights, pts = generation.generate_GIRG_nk(n, 5, tau, 1.2)\n",
    "suitable_starting = np.argwhere(np.abs(weights - 1.3) < 0.05).reshape(-1)\n",
    "dist_2s = []\n",
    "scale_factor_arr = []\n",
    "for starting_node in suitable_starting[:100]:\n",
    "    dists = simple_bfs(g, weights, 1.1, starting_node)\n",
    "    dists2 = {k: len(v) for k, v in dists.items()}\n",
    "    scale_factors = [dists2[i+1]/dists2[i] for i in range(len(dists2)-1)]\n",
    "    scale_factor_arr.append(scale_factors)"
   ]
  },
  {
   "cell_type": "code",
   "execution_count": 99,
   "metadata": {},
   "outputs": [],
   "source": [
    "temp = np.array(list(zip(*scale_factor_arr)))"
   ]
  },
  {
   "cell_type": "code",
   "execution_count": 101,
   "metadata": {},
   "outputs": [
    {
     "data": {
      "text/plain": [
       "array([23.        , 10.61204013,  0.66128482,  0.        ])"
      ]
     },
     "execution_count": 101,
     "metadata": {},
     "output_type": "execute_result"
    }
   ],
   "source": [
    "np.median(temp, axis=1)"
   ]
  },
  {
   "cell_type": "code",
   "execution_count": 102,
   "metadata": {},
   "outputs": [
    {
     "data": {
      "text/plain": [
       "{0: 1, 1: 25, 2: 252, 3: 158, 4: 0}"
      ]
     },
     "execution_count": 102,
     "metadata": {},
     "output_type": "execute_result"
    }
   ],
   "source": [
    "dists2"
   ]
  },
  {
   "cell_type": "code",
   "execution_count": 22,
   "metadata": {},
   "outputs": [
    {
     "name": "stdout",
     "output_type": "stream",
     "text": [
      "{1: 1, 2: 22, 3: 280, 4: 1021, 5: 72, 6: 0}\n",
      "{1: 1, 2: 26, 3: 293, 4: 969, 5: 45, 6: 0}\n",
      "{1: 1, 2: 33, 3: 385, 4: 957, 5: 13, 6: 0}\n",
      "{1: 1, 2: 30, 3: 366, 4: 991, 5: 21, 6: 0}\n"
     ]
    }
   ],
   "source": [
    "n=3000\n",
    "d=3\n",
    "tau=2.5\n",
    "alpha = 1.2\n",
    "\n",
    "weight = 1.3\n",
    "\n",
    "for _ in range(4):\n",
    "    g, edges, weights, pts = generation.generate_GIRG_nk(n, d, tau, alpha)\n",
    "    suitable_starting = np.argwhere(np.abs(weights - 1.3) < 0.05).reshape(-1)\n",
    "    dists = simple_bfs(g, 1.5, suitable_starting[0])\n",
    "    dists2 = {k: len(v) for k, v in dists.items()}\n",
    "    print(dists2)"
   ]
  },
  {
   "cell_type": "code",
   "execution_count": 24,
   "metadata": {},
   "outputs": [
    {
     "name": "stdout",
     "output_type": "stream",
     "text": [
      "{1: 1, 2: 2, 3: 5, 4: 12, 5: 29, 6: 56, 7: 71, 8: 90, 9: 119, 10: 141, 11: 152, 12: 158, 13: 181, 14: 167, 15: 92, 16: 17, 17: 4, 18: 0}\n",
      "{1: 1, 2: 5, 3: 12, 4: 27, 5: 40, 6: 55, 7: 74, 8: 86, 9: 137, 10: 183, 11: 243, 12: 240, 13: 168, 14: 68, 15: 12, 16: 3, 17: 0}\n",
      "{1: 1, 2: 3, 3: 9, 4: 28, 5: 43, 6: 62, 7: 94, 8: 124, 9: 151, 10: 213, 11: 227, 12: 187, 13: 123, 14: 63, 15: 29, 16: 5, 17: 0}\n",
      "{1: 1, 2: 8, 3: 20, 4: 41, 5: 65, 6: 85, 7: 141, 8: 197, 9: 211, 10: 179, 11: 144, 12: 117, 13: 83, 14: 46, 15: 12, 16: 3, 17: 0}\n"
     ]
    }
   ],
   "source": [
    "n=3000\n",
    "d=2\n",
    "tau=2.5\n",
    "alpha = 2.0\n",
    "\n",
    "weight = 1.3\n",
    "\n",
    "for _ in range(4):\n",
    "    g, edges, weights, pts = generation.generate_GIRG_nk(n, d, tau, alpha)\n",
    "    suitable_starting = np.argwhere(np.abs(weights - 1.3) < 0.05).reshape(-1)\n",
    "    dists = simple_bfs(g, 1.5, suitable_starting[0])\n",
    "    dists2 = {k: len(v) for k, v in dists.items()}\n",
    "    print(dists2)"
   ]
  },
  {
   "cell_type": "code",
   "execution_count": 20,
   "metadata": {},
   "outputs": [
    {
     "data": {
      "text/plain": [
       "array([   1,    3,    7,   31,   33,   36,   56,   99,  116,  141,  155,\n",
       "        172,  184,  210,  260,  262,  271,  300,  331,  347,  356,  358,\n",
       "        378,  381,  407,  433,  436,  461,  498,  502,  509,  517,  542,\n",
       "        565,  599,  617,  648,  651,  657,  667,  668,  689,  711,  724,\n",
       "        747,  767,  776,  778,  780,  845,  855,  862,  882,  927,  936,\n",
       "        956,  976, 1011, 1021, 1050, 1061, 1068, 1070, 1071, 1119, 1120,\n",
       "       1122, 1136, 1166, 1182, 1193, 1202, 1204, 1208, 1218, 1239, 1252,\n",
       "       1263, 1270, 1276, 1326, 1343, 1355, 1367, 1392, 1487, 1494, 1540,\n",
       "       1553, 1554, 1562, 1579, 1640, 1647, 1656, 1657, 1665, 1673, 1694,\n",
       "       1703, 1779, 1819, 1840, 1896, 1906, 1922, 1970, 1971, 1980, 2007,\n",
       "       2009, 2057, 2058, 2072, 2088, 2118, 2128, 2138, 2141, 2156, 2165,\n",
       "       2178, 2217, 2227, 2233, 2287, 2293, 2301, 2304, 2321, 2343, 2371,\n",
       "       2384, 2398, 2423, 2458, 2466, 2470, 2473, 2485, 2493, 2495, 2500,\n",
       "       2569, 2581, 2585, 2619, 2627, 2633, 2641, 2679, 2700, 2721, 2761,\n",
       "       2786, 2806, 2816, 2830, 2841, 2878, 2895, 2917, 2943, 2948, 2962,\n",
       "       2967])"
      ]
     },
     "execution_count": 20,
     "metadata": {},
     "output_type": "execute_result"
    }
   ],
   "source": [
    "np.argwhere(np.abs(weights - 1.5) < 0.05).reshape(-1)"
   ]
  },
  {
   "cell_type": "code",
   "execution_count": 14,
   "metadata": {},
   "outputs": [
    {
     "data": {
      "text/plain": [
       "{1: 1, 2: 19, 3: 149, 4: 623, 5: 582, 6: 12, 7: 0}"
      ]
     },
     "execution_count": 14,
     "metadata": {},
     "output_type": "execute_result"
    }
   ],
   "source": [
    "dists2 = {k: len(v) for k, v in dists.items()}\n",
    "dists2"
   ]
  },
  {
   "cell_type": "code",
   "execution_count": null,
   "metadata": {},
   "outputs": [],
   "source": []
  },
  {
   "cell_type": "code",
   "execution_count": null,
   "metadata": {},
   "outputs": [],
   "source": []
  },
  {
   "cell_type": "code",
   "execution_count": null,
   "metadata": {},
   "outputs": [],
   "source": []
  },
  {
   "cell_type": "code",
   "execution_count": null,
   "metadata": {},
   "outputs": [],
   "source": []
  },
  {
   "cell_type": "code",
   "execution_count": null,
   "metadata": {},
   "outputs": [],
   "source": []
  },
  {
   "cell_type": "code",
   "execution_count": null,
   "metadata": {},
   "outputs": [],
   "source": []
  },
  {
   "cell_type": "code",
   "execution_count": 27,
   "metadata": {},
   "outputs": [
    {
     "data": {
      "text/plain": [
       "(1.0042439025062944, 5.021219512531473, -1.2367300747224501)"
      ]
     },
     "execution_count": 27,
     "metadata": {},
     "output_type": "execute_result"
    }
   ],
   "source": [
    "a, b, c_emp"
   ]
  },
  {
   "cell_type": "code",
   "execution_count": 62,
   "metadata": {},
   "outputs": [
    {
     "name": "stdout",
     "output_type": "stream",
     "text": [
      "3.000 15.000 -0.265 -0.330\n"
     ]
    }
   ],
   "source": [
    "n = 10000000\n",
    "\n",
    "w_mean = (tau-1)/(tau-2)\n",
    "w_alpha_mean = np.mean(weights**alpha)\n",
    "w_alpha_mean2 = (tau-1)/(tau-1-alpha)\n",
    "a = w_mean\n",
    "b = w_mean / (alpha - 1)\n",
    "c = w_alpha_mean  * 2**(d*(alpha-1)) * n**(1-alpha) / (1 - alpha)\n",
    "c2 = c * w_alpha_mean2 / w_alpha_mean\n",
    "print(f'{a:.3f} {b:.3f} {c:.3f} {c2:.3f}')"
   ]
  },
  {
   "cell_type": "code",
   "execution_count": 63,
   "metadata": {},
   "outputs": [
    {
     "data": {
      "text/plain": [
       "-0.19999999999999996"
      ]
     },
     "execution_count": 63,
     "metadata": {},
     "output_type": "execute_result"
    }
   ],
   "source": [
    "1-alpha"
   ]
  },
  {
   "cell_type": "code",
   "execution_count": 64,
   "metadata": {},
   "outputs": [
    {
     "data": {
      "text/plain": [
       "0.009999999999999997"
      ]
     },
     "execution_count": 64,
     "metadata": {},
     "output_type": "execute_result"
    }
   ],
   "source": [
    "10000000000 **(-0.2)"
   ]
  },
  {
   "cell_type": "code",
   "execution_count": 65,
   "metadata": {},
   "outputs": [
    {
     "data": {
      "text/plain": [
       "3.0"
      ]
     },
     "execution_count": 65,
     "metadata": {},
     "output_type": "execute_result"
    },
    {
     "data": {
      "text/plain": [
       "4.023787663617149"
      ]
     },
     "execution_count": 65,
     "metadata": {},
     "output_type": "execute_result"
    }
   ],
   "source": [
    "w_mean\n",
    "w_alpha_mean"
   ]
  },
  {
   "cell_type": "code",
   "execution_count": 14,
   "metadata": {},
   "outputs": [
    {
     "name": "stderr",
     "output_type": "stream",
     "text": [
      "100%|██████████| 23/23 [00:33<00:00,  1.44s/it]\n"
     ]
    }
   ],
   "source": [
    "n=1000\n",
    "d=2\n",
    "tau=2.5\n",
    "alphas = np.arange(1.1, 10.0, 0.4)\n",
    "outs = []\n",
    "\n",
    "for alpha in tqdm(alphas):\n",
    "    for _ in range(3):\n",
    "        g, edges, weights, pts = generation.cgirg_gen(n=n, d=d, tau=tau, alpha=alpha)\n",
    "        percs = utils.get_perc_lower_common_nhbs(g, 2000)\n",
    "        outs.append((alpha, np.median(percs)))\n",
    "\n",
    "\n",
    "# plt.scatter([out[0] for out in outs], [out[1] for out in outs])"
   ]
  },
  {
   "cell_type": "code",
   "execution_count": 15,
   "metadata": {},
   "outputs": [
    {
     "data": {
      "text/plain": [
       "<matplotlib.collections.PathCollection at 0x2b78acc9ef10>"
      ]
     },
     "execution_count": 15,
     "metadata": {},
     "output_type": "execute_result"
    },
    {
     "data": {
      "text/plain": [
       "Text(0.5, 0, 'alpha')"
      ]
     },
     "execution_count": 15,
     "metadata": {},
     "output_type": "execute_result"
    },
    {
     "data": {
      "text/plain": [
       "Text(0, 0.5, 'median % common neighbours')"
      ]
     },
     "execution_count": 15,
     "metadata": {},
     "output_type": "execute_result"
    },
    {
     "data": {
      "image/png": "[encoded data removed]",
      "text/plain": [
       "<Figure size 640x480 with 1 Axes>"
      ]
     },
     "metadata": {},
     "output_type": "display_data"
    }
   ],
   "source": [
    "plt.scatter([out[0] for out in outs], [out[1] for out in outs])\n",
    "plt.xlabel('alpha')\n",
    "plt.ylabel('median % common neighbours')"
   ]
  },
  {
   "cell_type": "code",
   "execution_count": 20,
   "metadata": {
    "collapsed": true,
    "jupyter": {
     "outputs_hidden": true
    },
    "tags": []
   },
   "outputs": [
    {
     "data": {
      "text/plain": [
       "[0.6363636363636364,\n",
       " 0.6,\n",
       " 0.6666666666666666,\n",
       " 0.8888888888888888,\n",
       " 0.6666666666666666,\n",
       " 0.75,\n",
       " 0.8333333333333334,\n",
       " 0.8,\n",
       " 0.5384615384615384,\n",
       " 0.8461538461538461,\n",
       " 0.7142857142857143,\n",
       " 0.75,\n",
       " 0.6666666666666666,\n",
       " 0.8888888888888888,\n",
       " 0.6,\n",
       " 0.8571428571428571,\n",
       " 0.7692307692307693,\n",
       " 0.75,\n",
       " 0.18181818181818182,\n",
       " 0.4642857142857143,\n",
       " 0.8333333333333334,\n",
       " 0.7692307692307693,\n",
       " 0.6875,\n",
       " 0.8571428571428571,\n",
       " 0.6666666666666666,\n",
       " 0.9655172413793104,\n",
       " 0.5714285714285714,\n",
       " 0.5555555555555556,\n",
       " 0.8888888888888888,\n",
       " 0.75,\n",
       " 0.5,\n",
       " 0.8,\n",
       " 0.75,\n",
       " 0.5,\n",
       " 0.75,\n",
       " 0.3584905660377358,\n",
       " 0.8,\n",
       " 0.8888888888888888,\n",
       " 0.9166666666666666,\n",
       " 0.7142857142857143,\n",
       " 0.631578947368421,\n",
       " 0.5454545454545454,\n",
       " 0.75,\n",
       " 0.75,\n",
       " 0.8,\n",
       " 0.45454545454545453,\n",
       " 0.75,\n",
       " 0.9523809523809523,\n",
       " 0.5,\n",
       " 0.42105263157894735,\n",
       " 0.46153846153846156,\n",
       " 0.34375,\n",
       " 0.5555555555555556,\n",
       " 0.6666666666666666,\n",
       " 0.6,\n",
       " 0.8,\n",
       " 0.2682926829268293,\n",
       " 0.75,\n",
       " 0.8648648648648649,\n",
       " 0.8,\n",
       " 0.5,\n",
       " 0.875,\n",
       " 0.6,\n",
       " 0.7142857142857143,\n",
       " 0.9523809523809523,\n",
       " 0.3225806451612903,\n",
       " 0.75,\n",
       " 0.6470588235294118,\n",
       " 0.7777777777777778,\n",
       " 0.8,\n",
       " 0.75,\n",
       " 0.25396825396825395,\n",
       " 0.5,\n",
       " 0.8333333333333334,\n",
       " 0.8,\n",
       " 0.6428571428571429,\n",
       " 0.8181818181818182,\n",
       " 0.625,\n",
       " 0.3448275862068966,\n",
       " 0.43333333333333335,\n",
       " 0.4117647058823529,\n",
       " 0.42857142857142855,\n",
       " 0.8,\n",
       " 0.9230769230769231,\n",
       " 0.9090909090909091,\n",
       " 0.9,\n",
       " 0.9,\n",
       " 0.8333333333333334,\n",
       " 0.23333333333333334,\n",
       " 0.75,\n",
       " 0.49295774647887325,\n",
       " 0.8571428571428571,\n",
       " 0.625,\n",
       " 0.6666666666666666,\n",
       " 0.9285714285714286,\n",
       " 0.6363636363636364,\n",
       " 0.75,\n",
       " 0.7,\n",
       " 0.6428571428571429,\n",
       " 0.5357142857142857,\n",
       " 0.5714285714285714,\n",
       " 0.6875,\n",
       " 0.4,\n",
       " 0.9583333333333334,\n",
       " 0.5121951219512195,\n",
       " 0.8333333333333334,\n",
       " 0.5,\n",
       " 0.35,\n",
       " 0.8,\n",
       " 0.9333333333333333,\n",
       " 0.6,\n",
       " 0.625,\n",
       " 0.8333333333333334,\n",
       " 0.8333333333333334,\n",
       " 0.8571428571428571,\n",
       " 0.5454545454545454,\n",
       " 0.8,\n",
       " 0.9285714285714286,\n",
       " 0.8571428571428571,\n",
       " 0.9069767441860465,\n",
       " 0.6,\n",
       " 0.75,\n",
       " 0.9545454545454546,\n",
       " 0.45454545454545453,\n",
       " 0.9090909090909091,\n",
       " 0.5121951219512195,\n",
       " 0.5714285714285714,\n",
       " 0.6,\n",
       " 0.8333333333333334,\n",
       " 0.6666666666666666,\n",
       " 0.2962962962962963,\n",
       " 0.8,\n",
       " 0.8333333333333334,\n",
       " 0.75,\n",
       " 0.875,\n",
       " 0.9230769230769231,\n",
       " 0.6153846153846154,\n",
       " 0.8,\n",
       " 0.7857142857142857,\n",
       " 0.8571428571428571,\n",
       " 0.6666666666666666,\n",
       " 0.9090909090909091,\n",
       " 0.8,\n",
       " 0.9545454545454546,\n",
       " 0.625,\n",
       " 0.8333333333333334,\n",
       " 0.7619047619047619,\n",
       " 0.4,\n",
       " 0.875,\n",
       " 0.75,\n",
       " 0.6666666666666666,\n",
       " 0.8333333333333334,\n",
       " 0.3333333333333333,\n",
       " 0.30985915492957744,\n",
       " 0.9,\n",
       " 0.8571428571428571,\n",
       " 0.8,\n",
       " 0.875,\n",
       " 0.8461538461538461,\n",
       " 0.421875,\n",
       " 0.7647058823529411,\n",
       " 0.75,\n",
       " 0.6,\n",
       " 0.875,\n",
       " 0.7142857142857143,\n",
       " 0.8888888888888888,\n",
       " 0.5666666666666667,\n",
       " 0.5882352941176471,\n",
       " 0.8333333333333334,\n",
       " 0.34615384615384615,\n",
       " 0.6666666666666666,\n",
       " 0.8,\n",
       " 0.8333333333333334,\n",
       " 0.75,\n",
       " 0.4,\n",
       " 0.8888888888888888,\n",
       " 0.6,\n",
       " 0.7272727272727273,\n",
       " 0.9166666666666666,\n",
       " 0.6,\n",
       " 0.8,\n",
       " 0.5,\n",
       " 0.42424242424242425,\n",
       " 0.9090909090909091,\n",
       " 0.8571428571428571,\n",
       " 0.8,\n",
       " 0.8,\n",
       " 0.8,\n",
       " 0.8571428571428571,\n",
       " 0.375,\n",
       " 0.5,\n",
       " 0.9,\n",
       " 0.6666666666666666,\n",
       " 0.8888888888888888,\n",
       " 0.5,\n",
       " 0.9285714285714286,\n",
       " 0.52,\n",
       " 0.4583333333333333,\n",
       " 0.625,\n",
       " 0.6666666666666666,\n",
       " 0.7777777777777778,\n",
       " 0.4864864864864865,\n",
       " 0.5,\n",
       " 0.8571428571428571,\n",
       " 0.5,\n",
       " 0.4074074074074074,\n",
       " 0.5454545454545454,\n",
       " 0.8888888888888888,\n",
       " 0.8076923076923077,\n",
       " 0.7142857142857143,\n",
       " 0.4,\n",
       " 0.6666666666666666,\n",
       " 0.5,\n",
       " 0.19672131147540983,\n",
       " 0.7560975609756098,\n",
       " 0.8461538461538461,\n",
       " 0.8333333333333334,\n",
       " 0.875,\n",
       " 0.9166666666666666,\n",
       " 0.5,\n",
       " 0.21311475409836064,\n",
       " 0.5172413793103449,\n",
       " 0.8571428571428571,\n",
       " 0.5714285714285714,\n",
       " 0.7333333333333333,\n",
       " 0.7391304347826086,\n",
       " 0.7142857142857143,\n",
       " 0.6666666666666666,\n",
       " 0.4666666666666667,\n",
       " 0.9090909090909091,\n",
       " 0.4,\n",
       " 0.5294117647058824,\n",
       " 0.75,\n",
       " 0.5714285714285714,\n",
       " 0.8,\n",
       " 0.5,\n",
       " 0.7058823529411765,\n",
       " 0.5,\n",
       " 0.9,\n",
       " 0.35555555555555557,\n",
       " 0.8,\n",
       " 0.75,\n",
       " 0.75,\n",
       " 0.8571428571428571,\n",
       " 0.45454545454545453,\n",
       " 0.9629629629629629,\n",
       " 0.6666666666666666,\n",
       " 0.6666666666666666,\n",
       " 0.9090909090909091,\n",
       " 0.8571428571428571,\n",
       " 0.5,\n",
       " 0.6666666666666666,\n",
       " 0.375,\n",
       " 0.9333333333333333,\n",
       " 0.75,\n",
       " 0.3,\n",
       " 0.55,\n",
       " 0.8181818181818182,\n",
       " 0.631578947368421,\n",
       " 0.75,\n",
       " 0.875,\n",
       " 0.625,\n",
       " 0.8,\n",
       " 0.8,\n",
       " 0.5,\n",
       " 0.7272727272727273,\n",
       " 0.9523809523809523,\n",
       " 0.9,\n",
       " 0.875,\n",
       " 0.4,\n",
       " 0.8620689655172413,\n",
       " 0.7777777777777778,\n",
       " 0.6,\n",
       " 0.9090909090909091,\n",
       " 0.8888888888888888,\n",
       " 0.6363636363636364,\n",
       " 0.625,\n",
       " 0.6666666666666666,\n",
       " 0.8571428571428571,\n",
       " 0.5555555555555556,\n",
       " 0.8,\n",
       " 0.9,\n",
       " 0.8333333333333334,\n",
       " 0.75,\n",
       " 0.6666666666666666,\n",
       " 0.8,\n",
       " 0.8888888888888888,\n",
       " 0.48148148148148145,\n",
       " 0.40350877192982454,\n",
       " 0.7272727272727273,\n",
       " 0.44,\n",
       " 0.3333333333333333,\n",
       " 0.7142857142857143,\n",
       " 0.875,\n",
       " 0.9285714285714286,\n",
       " 0.6,\n",
       " 0.4444444444444444,\n",
       " 0.43478260869565216,\n",
       " 0.9230769230769231,\n",
       " 0.9090909090909091,\n",
       " 0.9230769230769231,\n",
       " 0.8,\n",
       " 0.8333333333333334,\n",
       " 0.9166666666666666,\n",
       " 0.35555555555555557,\n",
       " 0.8,\n",
       " 0.8888888888888888,\n",
       " 0.6666666666666666,\n",
       " 0.8571428571428571,\n",
       " 0.8888888888888888,\n",
       " 0.8,\n",
       " 0.5714285714285714,\n",
       " 0.19718309859154928,\n",
       " 0.7368421052631579,\n",
       " 0.8888888888888888,\n",
       " 0.7931034482758621,\n",
       " 0.5,\n",
       " 0.9736842105263158,\n",
       " 0.4,\n",
       " 0.5,\n",
       " 0.8181818181818182,\n",
       " 0.8571428571428571,\n",
       " 0.8,\n",
       " 0.8,\n",
       " 0.38636363636363635,\n",
       " 0.3548387096774194,\n",
       " 0.7272727272727273,\n",
       " 0.8571428571428571,\n",
       " 0.3157894736842105,\n",
       " 0.8333333333333334,\n",
       " 0.0,\n",
       " 0.6363636363636364,\n",
       " 0.75,\n",
       " 0.5555555555555556,\n",
       " 0.3225806451612903,\n",
       " 0.875,\n",
       " 0.7142857142857143,\n",
       " 0.5,\n",
       " 0.4807692307692308,\n",
       " 0.6666666666666666,\n",
       " 0.7222222222222222,\n",
       " 0.9230769230769231,\n",
       " 0.6666666666666666,\n",
       " 0.6666666666666666,\n",
       " 0.8333333333333334,\n",
       " 0.5,\n",
       " 0.9166666666666666,\n",
       " 0.875,\n",
       " 0.46153846153846156,\n",
       " 0.48484848484848486,\n",
       " 0.5,\n",
       " 0.75,\n",
       " 0.7692307692307693,\n",
       " 0.7777777777777778,\n",
       " 0.8,\n",
       " 0.8461538461538461,\n",
       " 0.8333333333333334,\n",
       " 0.8666666666666667,\n",
       " 0.8333333333333334,\n",
       " 0.5,\n",
       " 0.7058823529411765,\n",
       " 0.34375,\n",
       " 0.4594594594594595,\n",
       " 0.7857142857142857,\n",
       " 0.8888888888888888,\n",
       " 0.9166666666666666,\n",
       " 0.6666666666666666,\n",
       " 0.6190476190476191,\n",
       " 0.75,\n",
       " 0.4666666666666667,\n",
       " 0.875,\n",
       " 0.8888888888888888,\n",
       " 0.8333333333333334,\n",
       " 0.6521739130434783,\n",
       " 0.21052631578947367,\n",
       " 0.9166666666666666,\n",
       " 0.9,\n",
       " 0.9166666666666666,\n",
       " 0.5263157894736842,\n",
       " 0.6666666666666666,\n",
       " 0.8571428571428571,\n",
       " 0.625,\n",
       " 0.5405405405405406,\n",
       " 0.9285714285714286,\n",
       " 0.75,\n",
       " 0.47368421052631576,\n",
       " 0.6153846153846154,\n",
       " 0.5,\n",
       " 0.8571428571428571,\n",
       " 0.9166666666666666,\n",
       " 0.3793103448275862,\n",
       " 0.75,\n",
       " 0.2653061224489796,\n",
       " 0.6666666666666666,\n",
       " 0.5454545454545454,\n",
       " 0.575,\n",
       " 0.6666666666666666,\n",
       " 0.875,\n",
       " 0.8,\n",
       " 0.8571428571428571,\n",
       " 0.75,\n",
       " 0.6190476190476191,\n",
       " 0.5,\n",
       " 0.9655172413793104,\n",
       " 0.6,\n",
       " 0.8571428571428571,\n",
       " 0.3333333333333333,\n",
       " 0.9,\n",
       " 0.8888888888888888,\n",
       " 0.6,\n",
       " 0.7777777777777778,\n",
       " 0.7619047619047619,\n",
       " 0.6666666666666666,\n",
       " 0.5555555555555556,\n",
       " 0.8,\n",
       " 0.4482758620689655,\n",
       " 0.8461538461538461,\n",
       " 0.9285714285714286,\n",
       " 0.875,\n",
       " 0.7647058823529411,\n",
       " 0.8571428571428571,\n",
       " 0.8888888888888888,\n",
       " 0.24324324324324326,\n",
       " 0.7,\n",
       " 0.4791666666666667,\n",
       " 0.9411764705882353,\n",
       " 0.8,\n",
       " 0.8333333333333334,\n",
       " 0.7272727272727273,\n",
       " 0.4117647058823529,\n",
       " 0.7272727272727273,\n",
       " 0.4583333333333333,\n",
       " 0.6666666666666666,\n",
       " 0.8,\n",
       " 0.7777777777777778,\n",
       " 0.5384615384615384,\n",
       " 0.7272727272727273,\n",
       " 0.8,\n",
       " 0.42857142857142855,\n",
       " 0.8,\n",
       " 0.8333333333333334,\n",
       " 0.5686274509803921,\n",
       " 0.5,\n",
       " 0.5454545454545454,\n",
       " 0.6842105263157895,\n",
       " 0.5294117647058824,\n",
       " 0.6666666666666666,\n",
       " 0.8333333333333334,\n",
       " 0.2222222222222222,\n",
       " 0.4482758620689655,\n",
       " 0.6153846153846154,\n",
       " 0.6363636363636364,\n",
       " 0.0,\n",
       " 0.75,\n",
       " 0.9090909090909091,\n",
       " 0.7619047619047619,\n",
       " 0.8888888888888888,\n",
       " 0.8571428571428571,\n",
       " 0.7727272727272727,\n",
       " 0.8571428571428571,\n",
       " 0.9,\n",
       " 0.35714285714285715,\n",
       " 0.3333333333333333,\n",
       " 0.5384615384615384,\n",
       " 0.5294117647058824,\n",
       " 0.8333333333333334,\n",
       " 0.5,\n",
       " 0.5135135135135135,\n",
       " 0.6666666666666666,\n",
       " 0.625,\n",
       " 0.875,\n",
       " 0.4492753623188406,\n",
       " 0.8571428571428571,\n",
       " 0.8333333333333334,\n",
       " 0.6666666666666666,\n",
       " 0.6,\n",
       " 0.8,\n",
       " 0.5714285714285714,\n",
       " 0.9767441860465116,\n",
       " 0.6666666666666666,\n",
       " 0.6875,\n",
       " 0.40625,\n",
       " 0.6,\n",
       " 0.30434782608695654,\n",
       " 0.75,\n",
       " 0.7777777777777778,\n",
       " 0.4,\n",
       " 0.6,\n",
       " 0.8333333333333334,\n",
       " 0.8333333333333334,\n",
       " 0.4,\n",
       " 0.8666666666666667,\n",
       " 0.3333333333333333,\n",
       " 0.9285714285714286,\n",
       " 0.4318181818181818,\n",
       " 0.875,\n",
       " 0.9285714285714286,\n",
       " 0.6,\n",
       " 0.5,\n",
       " 0.6666666666666666,\n",
       " 0.8181818181818182,\n",
       " 0.75,\n",
       " 0.5454545454545454,\n",
       " 0.75,\n",
       " 0.8,\n",
       " 0.37037037037037035,\n",
       " 0.6666666666666666,\n",
       " 0.8888888888888888,\n",
       " 0.9285714285714286,\n",
       " 0.6,\n",
       " 0.6666666666666666,\n",
       " 0.5185185185185185,\n",
       " 0.9444444444444444,\n",
       " 0.8,\n",
       " 0.7272727272727273,\n",
       " 0.75,\n",
       " 0.5,\n",
       " 0.8235294117647058,\n",
       " 0.48,\n",
       " 0.75,\n",
       " 0.4444444444444444,\n",
       " 0.9,\n",
       " 0.7647058823529411,\n",
       " 0.875,\n",
       " 0.9,\n",
       " 0.4090909090909091,\n",
       " 0.22580645161290322,\n",
       " 0.6770833333333334,\n",
       " 0.8333333333333334,\n",
       " 0.6666666666666666,\n",
       " 0.6666666666666666,\n",
       " 0.9090909090909091,\n",
       " 0.75,\n",
       " 0.75,\n",
       " 0.5,\n",
       " 0.8571428571428571,\n",
       " 0.8571428571428571,\n",
       " 0.45,\n",
       " 0.6666666666666666,\n",
       " 0.9523809523809523,\n",
       " 0.6,\n",
       " 0.8,\n",
       " 0.8888888888888888,\n",
       " 0.7692307692307693,\n",
       " 0.9545454545454546,\n",
       " 0.9166666666666666,\n",
       " 0.9,\n",
       " 0.6666666666666666,\n",
       " 0.9166666666666666,\n",
       " 0.18518518518518517,\n",
       " 0.5714285714285714,\n",
       " 0.5,\n",
       " 0.45161290322580644,\n",
       " 0.5714285714285714,\n",
       " 0.95,\n",
       " 0.45454545454545453,\n",
       " 0.8,\n",
       " 0.5,\n",
       " 0.8571428571428571,\n",
       " 0.7741935483870968,\n",
       " 0.8333333333333334,\n",
       " 0.36363636363636365,\n",
       " 0.6363636363636364,\n",
       " 0.5333333333333333,\n",
       " 0.9,\n",
       " 0.7142857142857143,\n",
       " 0.75,\n",
       " 0.9,\n",
       " 0.4166666666666667,\n",
       " 0.9375,\n",
       " 0.8333333333333334,\n",
       " 0.7777777777777778,\n",
       " 0.9090909090909091,\n",
       " 0.7777777777777778,\n",
       " 0.875,\n",
       " 0.9333333333333333,\n",
       " 0.8,\n",
       " 0.625,\n",
       " 0.56,\n",
       " 0.9285714285714286,\n",
       " 0.48466257668711654,\n",
       " 0.9,\n",
       " 0.46846846846846846,\n",
       " 0.6666666666666666,\n",
       " 0.8823529411764706,\n",
       " 0.8,\n",
       " 0.75,\n",
       " 0.9090909090909091,\n",
       " 0.8333333333333334,\n",
       " 0.8333333333333334,\n",
       " 0.9166666666666666,\n",
       " 0.8181818181818182,\n",
       " 0.8333333333333334,\n",
       " 0.8,\n",
       " 0.4,\n",
       " 0.4791666666666667,\n",
       " 0.8,\n",
       " 0.5555555555555556,\n",
       " 0.8,\n",
       " 0.7777777777777778,\n",
       " 0.5652173913043478,\n",
       " 0.5454545454545454,\n",
       " 0.6521739130434783,\n",
       " 0.5294117647058824,\n",
       " 0.6666666666666666,\n",
       " 0.875,\n",
       " 0.8,\n",
       " 0.5,\n",
       " 0.75,\n",
       " 0.6470588235294118,\n",
       " 0.6666666666666666,\n",
       " 0.7241379310344828,\n",
       " 0.8888888888888888,\n",
       " 0.8181818181818182,\n",
       " 0.8181818181818182,\n",
       " 0.9285714285714286,\n",
       " 0.8333333333333334,\n",
       " 0.6428571428571429,\n",
       " 0.45454545454545453,\n",
       " 0.9090909090909091,\n",
       " 0.75,\n",
       " 0.8,\n",
       " 0.8181818181818182,\n",
       " 0.875,\n",
       " 0.8,\n",
       " 0.8,\n",
       " 0.873015873015873,\n",
       " 0.375,\n",
       " 0.3333333333333333,\n",
       " 0.875,\n",
       " 0.75,\n",
       " 0.2702702702702703,\n",
       " 0.6666666666666666,\n",
       " 0.9166666666666666,\n",
       " 0.8333333333333334,\n",
       " 0.8571428571428571,\n",
       " 0.75,\n",
       " 0.875,\n",
       " 0.9090909090909091,\n",
       " 0.875,\n",
       " 0.8888888888888888,\n",
       " 0.5714285714285714,\n",
       " 0.8571428571428571,\n",
       " 0.7,\n",
       " 0.28378378378378377,\n",
       " 0.8571428571428571,\n",
       " 0.46153846153846156,\n",
       " 0.5,\n",
       " 0.8,\n",
       " 0.75,\n",
       " 0.9090909090909091,\n",
       " 0.38144329896907214,\n",
       " 0.75,\n",
       " 0.75,\n",
       " 0.5,\n",
       " 0.9523809523809523,\n",
       " 0.875,\n",
       " 0.6666666666666666,\n",
       " 0.8888888888888888,\n",
       " 0.8571428571428571,\n",
       " 0.0,\n",
       " 0.9090909090909091,\n",
       " 0.4,\n",
       " 0.8333333333333334,\n",
       " 0.5333333333333333,\n",
       " 0.9333333333333333,\n",
       " 0.6153846153846154,\n",
       " 0.875,\n",
       " 0.7142857142857143,\n",
       " 0.8,\n",
       " 0.8333333333333334,\n",
       " 0.7,\n",
       " 0.8,\n",
       " 0.8571428571428571,\n",
       " 0.7368421052631579,\n",
       " 0.8,\n",
       " 0.46153846153846156,\n",
       " 0.5714285714285714,\n",
       " 0.8333333333333334,\n",
       " 0.4,\n",
       " 0.6666666666666666,\n",
       " 0.49295774647887325,\n",
       " 0.65,\n",
       " 0.5,\n",
       " 0.75,\n",
       " 0.765625,\n",
       " 0.5,\n",
       " 0.9230769230769231,\n",
       " 0.4074074074074074,\n",
       " 0.75,\n",
       " 0.6923076923076923,\n",
       " 0.75,\n",
       " 0.6666666666666666,\n",
       " 0.8333333333333334,\n",
       " 0.25,\n",
       " 0.6,\n",
       " 0.8888888888888888,\n",
       " 0.5357142857142857,\n",
       " 0.8333333333333334,\n",
       " 0.8,\n",
       " 0.9285714285714286,\n",
       " 0.6363636363636364,\n",
       " 0.7,\n",
       " 0.5454545454545454,\n",
       " 0.8181818181818182,\n",
       " 0.6666666666666666,\n",
       " 0.5,\n",
       " 0.7857142857142857,\n",
       " 0.3448275862068966,\n",
       " 0.9166666666666666,\n",
       " 0.7272727272727273,\n",
       " 0.75,\n",
       " 0.8888888888888888,\n",
       " 0.7142857142857143,\n",
       " 0.5714285714285714,\n",
       " 0.75,\n",
       " 0.875,\n",
       " 0.8,\n",
       " 0.9565217391304348,\n",
       " 0.625,\n",
       " 0.6,\n",
       " 0.6,\n",
       " 0.8,\n",
       " 0.8333333333333334,\n",
       " 0.875,\n",
       " 0.9090909090909091,\n",
       " 0.7142857142857143,\n",
       " 0.5,\n",
       " 0.6111111111111112,\n",
       " 0.7,\n",
       " 0.8571428571428571,\n",
       " 0.75,\n",
       " 0.625,\n",
       " 0.9545454545454546,\n",
       " 0.5,\n",
       " 0.6666666666666666,\n",
       " 0.6470588235294118,\n",
       " 0.7142857142857143,\n",
       " 0.9583333333333334,\n",
       " 0.5,\n",
       " 0.3142857142857143,\n",
       " 0.625,\n",
       " 0.75,\n",
       " 0.375,\n",
       " 0.8571428571428571,\n",
       " 0.8571428571428571,\n",
       " 0.8,\n",
       " 0.75,\n",
       " 0.8888888888888888,\n",
       " 0.9230769230769231,\n",
       " 0.8888888888888888,\n",
       " 0.75,\n",
       " 0.4444444444444444,\n",
       " 0.5405405405405406,\n",
       " 0.8461538461538461,\n",
       " 0.5,\n",
       " 0.7142857142857143,\n",
       " 0.54,\n",
       " 0.75,\n",
       " 0.7857142857142857,\n",
       " 0.75,\n",
       " 0.75,\n",
       " 0.8235294117647058,\n",
       " 0.28125,\n",
       " 0.6363636363636364,\n",
       " 0.7647058823529411,\n",
       " 0.375,\n",
       " 0.6666666666666666,\n",
       " 0.8823529411764706,\n",
       " 0.8571428571428571,\n",
       " 0.8333333333333334,\n",
       " 0.6774193548387096,\n",
       " 0.875,\n",
       " 0.8571428571428571,\n",
       " 0.6,\n",
       " 0.875,\n",
       " 0.8181818181818182,\n",
       " 0.8571428571428571,\n",
       " 0.75,\n",
       " 0.8333333333333334,\n",
       " 0.8823529411764706,\n",
       " 0.75,\n",
       " 0.8571428571428571,\n",
       " 0.2653061224489796,\n",
       " 0.8571428571428571,\n",
       " 0.7142857142857143,\n",
       " 0.3333333333333333,\n",
       " 0.5925925925925926,\n",
       " 0.625,\n",
       " 0.8333333333333334,\n",
       " 0.9090909090909091,\n",
       " 0.9444444444444444,\n",
       " 0.8367346938775511,\n",
       " 0.375,\n",
       " 0.9230769230769231,\n",
       " 0.9375,\n",
       " 0.7931034482758621,\n",
       " 0.68,\n",
       " 0.6097560975609756,\n",
       " 0.6666666666666666,\n",
       " 0.6428571428571429,\n",
       " 0.6,\n",
       " 0.8,\n",
       " 0.7333333333333333,\n",
       " 0.875,\n",
       " 0.875,\n",
       " 0.9166666666666666,\n",
       " 0.8888888888888888,\n",
       " 0.7777777777777778,\n",
       " 0.8888888888888888,\n",
       " 0.5714285714285714,\n",
       " 0.9333333333333333,\n",
       " 0.5113636363636364,\n",
       " 0.8888888888888888,\n",
       " 0.5,\n",
       " 0.6,\n",
       " 0.9565217391304348,\n",
       " 0.8636363636363636,\n",
       " 0.5,\n",
       " 0.75,\n",
       " 0.7619047619047619,\n",
       " 0.6363636363636364,\n",
       " 0.4666666666666667,\n",
       " 0.2222222222222222,\n",
       " 0.9090909090909091,\n",
       " 0.6666666666666666,\n",
       " 0.38461538461538464,\n",
       " 0.5,\n",
       " 0.45454545454545453,\n",
       " 0.8,\n",
       " 0.6153846153846154,\n",
       " 0.9333333333333333,\n",
       " 0.7692307692307693,\n",
       " 0.8,\n",
       " 0.8571428571428571,\n",
       " 0.3559322033898305,\n",
       " 0.4,\n",
       " 0.19718309859154928,\n",
       " 0.75,\n",
       " 0.5882352941176471,\n",
       " 0.875,\n",
       " 0.875,\n",
       " 0.875,\n",
       " 0.8888888888888888,\n",
       " 0.3333333333333333,\n",
       " 0.8333333333333334,\n",
       " 0.8181818181818182,\n",
       " 0.5454545454545454,\n",
       " 0.75,\n",
       " 0.75,\n",
       " 0.5,\n",
       " 0.7222222222222222,\n",
       " 0.6363636363636364,\n",
       " 0.9090909090909091,\n",
       " 0.40625,\n",
       " 0.8,\n",
       " 0.9230769230769231,\n",
       " 0.45454545454545453,\n",
       " 0.6666666666666666,\n",
       " 0.5,\n",
       " 0.5555555555555556,\n",
       " 0.8333333333333334,\n",
       " 0.5526315789473685,\n",
       " 0.75,\n",
       " 0.3333333333333333,\n",
       " 0.5,\n",
       " 0.8333333333333334,\n",
       " 0.9473684210526315,\n",
       " 0.75,\n",
       " 0.5,\n",
       " 0.8888888888888888,\n",
       " 0.8,\n",
       " 0.8888888888888888,\n",
       " 0.6666666666666666,\n",
       " 0.6666666666666666,\n",
       " 0.8333333333333334,\n",
       " 0.75,\n",
       " 0.4482758620689655,\n",
       " 0.890625,\n",
       " 0.75,\n",
       " 0.7777777777777778,\n",
       " 0.8125,\n",
       " 0.2972972972972973,\n",
       " 0.9090909090909091,\n",
       " 0.9,\n",
       " 0.7692307692307693,\n",
       " 0.9090909090909091,\n",
       " 0.9090909090909091,\n",
       " 0.8,\n",
       " 0.5714285714285714,\n",
       " 0.6,\n",
       " 0.8,\n",
       " 0.9629629629629629,\n",
       " 0.9285714285714286,\n",
       " 0.8333333333333334,\n",
       " 0.7692307692307693,\n",
       " 0.9,\n",
       " 0.6666666666666666,\n",
       " 0.5,\n",
       " 0.45454545454545453,\n",
       " 0.75,\n",
       " 0.9230769230769231,\n",
       " 0.6923076923076923,\n",
       " 0.9166666666666666,\n",
       " 0.9090909090909091,\n",
       " 0.48148148148148145,\n",
       " 0.8333333333333334,\n",
       " 0.3,\n",
       " 0.5909090909090909,\n",
       " 0.75,\n",
       " 0.7272727272727273,\n",
       " 0.631578947368421,\n",
       " 0.47619047619047616,\n",
       " 0.47619047619047616,\n",
       " 0.7,\n",
       " 0.75,\n",
       " 0.6111111111111112,\n",
       " 0.9411764705882353,\n",
       " 0.9090909090909091,\n",
       " 0.75,\n",
       " 0.5,\n",
       " 0.42857142857142855,\n",
       " 0.7142857142857143,\n",
       " 0.875,\n",
       " 0.8333333333333334,\n",
       " 0.7966101694915254,\n",
       " 0.875,\n",
       " 0.6,\n",
       " 0.6,\n",
       " 0.9166666666666666,\n",
       " 0.38095238095238093,\n",
       " 0.5,\n",
       " 0.9,\n",
       " 0.9090909090909091,\n",
       " 0.8387096774193549,\n",
       " 0.6,\n",
       " 0.75,\n",
       " 0.9444444444444444,\n",
       " 0.8,\n",
       " 0.29411764705882354,\n",
       " 0.7741935483870968,\n",
       " 0.75,\n",
       " 0.8571428571428571,\n",
       " 0.5,\n",
       " 0.875,\n",
       " 0.6363636363636364,\n",
       " 0.3389830508474576,\n",
       " 0.6,\n",
       " 0.8,\n",
       " 0.8333333333333334,\n",
       " 0.75,\n",
       " 0.5,\n",
       " 0.5,\n",
       " 0.5,\n",
       " 0.8181818181818182,\n",
       " 0.47619047619047616,\n",
       " 0.8888888888888888,\n",
       " 0.7857142857142857,\n",
       " 0.6,\n",
       " 0.8333333333333334,\n",
       " 0.45454545454545453,\n",
       " 0.8888888888888888,\n",
       " 0.23809523809523808,\n",
       " 0.5454545454545454,\n",
       " 0.8,\n",
       " 0.75,\n",
       " 0.875,\n",
       " 0.8571428571428571,\n",
       " 0.9024390243902439,\n",
       " 0.5238095238095238,\n",
       " 0.875,\n",
       " 0.8888888888888888,\n",
       " 0.625,\n",
       " 0.8571428571428571,\n",
       " 0.2692307692307692,\n",
       " 0.8571428571428571,\n",
       " 0.875,\n",
       " 0.8571428571428571,\n",
       " 0.8461538461538461,\n",
       " 0.8,\n",
       " 0.8571428571428571,\n",
       " 0.8888888888888888,\n",
       " 0.6666666666666666,\n",
       " 0.75,\n",
       " 0.9444444444444444,\n",
       " 0.8333333333333334,\n",
       " 0.5454545454545454,\n",
       " 0.8888888888888888,\n",
       " 0.9090909090909091,\n",
       " 0.9,\n",
       " 0.25,\n",
       " 0.5238095238095238,\n",
       " 0.6,\n",
       " 0.5333333333333333,\n",
       " 0.75,\n",
       " 0.7142857142857143,\n",
       " 0.5,\n",
       " 0.25,\n",
       " 0.6666666666666666,\n",
       " 0.6,\n",
       " ...]"
      ]
     },
     "execution_count": 20,
     "metadata": {},
     "output_type": "execute_result"
    }
   ],
   "source": [
    "percs"
   ]
  },
  {
   "cell_type": "code",
   "execution_count": 13,
   "metadata": {},
   "outputs": [
    {
     "name": "stdout",
     "output_type": "stream",
     "text": [
      "Network Properties:\n",
      "nodes, edges\t\t\t1000, 5526\n",
      "directed?\t\t\tFalse\n",
      "weighted?\t\t\tFalse\n",
      "isolated nodes\t\t\t0\n",
      "self-loops\t\t\t0\n",
      "density\t\t\t\t0.011063\n",
      "clustering coefficient\t\t0.692514\n",
      "min/max/avg degree\t\t1, 210, 11.052000\n",
      "degree assortativity\t\t0.219826\n",
      "number of connected components\t1\n",
      "size of largest component\t1000 (100.00 %)\n"
     ]
    }
   ],
   "source": [
    "g, edges, weights, pts = generation.cgirg_gen(n=n, d=d, tau=tau, alpha=alpha)\n",
    "nk.overview(g)"
   ]
  },
  {
   "cell_type": "code",
   "execution_count": 21,
   "metadata": {},
   "outputs": [],
   "source": [
    "edges = list(g.iterEdges())"
   ]
  },
  {
   "cell_type": "code",
   "execution_count": 23,
   "metadata": {
    "collapsed": true,
    "jupyter": {
     "outputs_hidden": true
    },
    "tags": []
   },
   "outputs": [
    {
     "data": {
      "text/plain": [
       "[(0, 1),\n",
       " (0, 270),\n",
       " (0, 133),\n",
       " (0, 388),\n",
       " (0, 135),\n",
       " (0, 132),\n",
       " (0, 251),\n",
       " (0, 65),\n",
       " (0, 129),\n",
       " (0, 235)]"
      ]
     },
     "execution_count": 23,
     "metadata": {},
     "output_type": "execute_result"
    }
   ],
   "source": [
    "edges[0:10]"
   ]
  },
  {
   "cell_type": "code",
   "execution_count": 24,
   "metadata": {},
   "outputs": [
    {
     "data": {
      "text/plain": [
       "<networkit.distance.Dijkstra at 0x2b78accb6f70>"
      ]
     },
     "execution_count": 24,
     "metadata": {},
     "output_type": "execute_result"
    }
   ],
   "source": [
    "dijkstra = nk.distance.Dijkstra(g, 0, True, True, 1)\n",
    "dijkstra.run()"
   ]
  },
  {
   "cell_type": "code",
   "execution_count": 27,
   "metadata": {},
   "outputs": [
    {
     "data": {
      "text/plain": [
       "1.0"
      ]
     },
     "execution_count": 27,
     "metadata": {},
     "output_type": "execute_result"
    },
    {
     "data": {
      "text/plain": [
       "2.0"
      ]
     },
     "execution_count": 27,
     "metadata": {},
     "output_type": "execute_result"
    }
   ],
   "source": [
    "dijkstra.distance(1)\n",
    "dijkstra.distance(2)"
   ]
  },
  {
   "cell_type": "code",
   "execution_count": 34,
   "metadata": {},
   "outputs": [
    {
     "data": {
      "text/plain": [
       "[0, 133, 2]"
      ]
     },
     "execution_count": 34,
     "metadata": {},
     "output_type": "execute_result"
    }
   ],
   "source": [
    "dijkstra.getPath(2)"
   ]
  },
  {
   "cell_type": "code",
   "execution_count": 35,
   "metadata": {},
   "outputs": [
    {
     "data": {
      "text/plain": [
       "<networkit.graph.Graph at 0x2b78af1726c0>"
      ]
     },
     "execution_count": 35,
     "metadata": {},
     "output_type": "execute_result"
    }
   ],
   "source": [
    "g.removeEdge(0, 1)"
   ]
  },
  {
   "cell_type": "code",
   "execution_count": 44,
   "metadata": {},
   "outputs": [],
   "source": [
    "biBFS = nk.distance.BidirectionalBFS(g, 0, 1, True)"
   ]
  },
  {
   "cell_type": "code",
   "execution_count": 46,
   "metadata": {},
   "outputs": [
    {
     "data": {
      "text/plain": [
       "<networkit.distance.BidirectionalBFS at 0x2b78ad922770>"
      ]
     },
     "execution_count": 46,
     "metadata": {},
     "output_type": "execute_result"
    }
   ],
   "source": [
    "biBFS.run()"
   ]
  },
  {
   "cell_type": "code",
   "execution_count": 38,
   "metadata": {},
   "outputs": [
    {
     "data": {
      "text/plain": [
       "[65]"
      ]
     },
     "execution_count": 38,
     "metadata": {},
     "output_type": "execute_result"
    }
   ],
   "source": [
    "biBFS.getPath()"
   ]
  },
  {
   "cell_type": "code",
   "execution_count": 40,
   "metadata": {},
   "outputs": [
    {
     "data": {
      "text/plain": [
       "2.0"
      ]
     },
     "execution_count": 40,
     "metadata": {},
     "output_type": "execute_result"
    }
   ],
   "source": [
    "biBFS.getDistance()"
   ]
  },
  {
   "cell_type": "code",
   "execution_count": 50,
   "metadata": {},
   "outputs": [
    {
     "data": {
      "text/plain": [
       "(56, 456)"
      ]
     },
     "execution_count": 50,
     "metadata": {},
     "output_type": "execute_result"
    }
   ],
   "source": [
    "source, target = edges[1000]\n",
    "source, target"
   ]
  },
  {
   "cell_type": "code",
   "execution_count": 51,
   "metadata": {},
   "outputs": [
    {
     "data": {
      "text/plain": [
       "<networkit.graph.Graph at 0x2b78af1726c0>"
      ]
     },
     "execution_count": 51,
     "metadata": {},
     "output_type": "execute_result"
    },
    {
     "data": {
      "text/plain": [
       "<networkit.distance.BidirectionalBFS at 0x2b78ab2dbd10>"
      ]
     },
     "execution_count": 51,
     "metadata": {},
     "output_type": "execute_result"
    }
   ],
   "source": [
    "g.removeEdge(source, target)\n",
    "biBFS = nk.distance.BidirectionalBFS(g, source, target, True)\n",
    "biBFS.run()"
   ]
  },
  {
   "cell_type": "code",
   "execution_count": 52,
   "metadata": {},
   "outputs": [
    {
     "data": {
      "text/plain": [
       "[659]"
      ]
     },
     "execution_count": 52,
     "metadata": {},
     "output_type": "execute_result"
    }
   ],
   "source": [
    "biBFS.getPath()"
   ]
  },
  {
   "cell_type": "code",
   "execution_count": 55,
   "metadata": {},
   "outputs": [],
   "source": [
    "preds = biBFS.getPredecessors()"
   ]
  },
  {
   "cell_type": "code",
   "execution_count": 64,
   "metadata": {},
   "outputs": [],
   "source": [
    "preds = np.array(preds)\n"
   ]
  },
  {
   "cell_type": "code",
   "execution_count": 65,
   "metadata": {},
   "outputs": [
    {
     "data": {
      "text/plain": [
       "979"
      ]
     },
     "execution_count": 65,
     "metadata": {},
     "output_type": "execute_result"
    }
   ],
   "source": [
    "np.sum(preds==0)"
   ]
  },
  {
   "cell_type": "code",
   "execution_count": 68,
   "metadata": {},
   "outputs": [
    {
     "data": {
      "text/plain": [
       "array([  0,  56, 659])"
      ]
     },
     "execution_count": 68,
     "metadata": {},
     "output_type": "execute_result"
    }
   ],
   "source": [
    "np.unique(preds)"
   ]
  },
  {
   "cell_type": "code",
   "execution_count": 70,
   "metadata": {},
   "outputs": [
    {
     "data": {
      "text/plain": [
       "array([  1,  55,  56, 132, 134, 135, 161, 163, 165, 250, 277, 455, 653,\n",
       "       659, 660, 661, 662, 718])"
      ]
     },
     "execution_count": 70,
     "metadata": {},
     "output_type": "execute_result"
    }
   ],
   "source": [
    "np.argwhere(preds==56).reshape(-1)"
   ]
  },
  {
   "cell_type": "code",
   "execution_count": 6,
   "metadata": {},
   "outputs": [],
   "source": [
    "n=1000\n",
    "d=2\n",
    "tau=2.5\n",
    "alpha=2.0\n",
    "from girg_sampling import girgs\n",
    "\n",
    "def cgirg_gen(n, d, tau, alpha, desireAvgDegree=None):\n",
    "    \"\"\"Generate a GIRG with C-library\"\"\"\n",
    "    weights = girgs.generateWeights(n, tau)\n",
    "    if desireAvgDegree is not None:\n",
    "        weights = list(np.array(weights) * girgs.scaleWeights(weights, desireAvgDegree, d, alpha))\n",
    "    pts = girgs.generatePositions(n, d)\n",
    "    edges = girgs.generateEdges(weights, pts, alpha)\n",
    "    # Make graph from edge list (not adjacency matrix)\n",
    "    gnx = nx.from_edgelist(edges)\n",
    "    gnk = nk.nxadapter.nx2nk(gnx)\n",
    "    id2gnk = dict((gnx_id, gnk_id) for (gnx_id, gnk_id) in zip(gnx.nodes(), range(gnx.number_of_nodes())))\n",
    "\n",
    "    return gnk, edges, weights, pts, id2gnk\n"
   ]
  },
  {
   "cell_type": "code",
   "execution_count": 34,
   "metadata": {},
   "outputs": [
    {
     "data": {
      "text/plain": [
       "(array([1, 2]), array([38801,  1199]))"
      ]
     },
     "execution_count": 34,
     "metadata": {},
     "output_type": "execute_result"
    },
    {
     "data": {
      "text/plain": [
       "(array([1, 2]), array([39561,   439]))"
      ]
     },
     "execution_count": 34,
     "metadata": {},
     "output_type": "execute_result"
    },
    {
     "data": {
      "text/plain": [
       "(array([1, 2]), array([38212,  1788]))"
      ]
     },
     "execution_count": 34,
     "metadata": {},
     "output_type": "execute_result"
    }
   ],
   "source": [
    "n=5000\n",
    "d=2\n",
    "tau=2.5\n",
    "alpha=1.01\n",
    "\n",
    "\n",
    "for _ in range(3):\n",
    "    g, edges, weights, pts, id2gnk = cgirg_gen(n=n, d=d, tau=tau, alpha=alpha)\n",
    "    edges = list(g.iterEdges())\n",
    "    outs = []\n",
    "    for _ in range(40000):\n",
    "        s, t = edges[np.random.choice(len(edges))]\n",
    "        _ = g.removeEdge(s, t)\n",
    "        biBFS = nk.distance.BidirectionalBFS(g, s, t, True)\n",
    "        _ = biBFS.run()\n",
    "    #     print(int(biBFS.getDistance())\n",
    "        _ = g.addEdge(s, t)\n",
    "        outs.append((s, biBFS.getPath(), t))\n",
    "\n",
    "    lengths = [len(x[1]) for x in outs]\n",
    "    np.unique(lengths, return_counts=True)\n"
   ]
  },
  {
   "cell_type": "code",
   "execution_count": 33,
   "metadata": {},
   "outputs": [
    {
     "data": {
      "text/plain": [
       "(array([1, 2, 3]), array([39212,   787,     1]))"
      ]
     },
     "execution_count": 33,
     "metadata": {},
     "output_type": "execute_result"
    },
    {
     "data": {
      "text/plain": [
       "(array([0, 1, 2]), array([    2, 39001,   997]))"
      ]
     },
     "execution_count": 33,
     "metadata": {},
     "output_type": "execute_result"
    },
    {
     "data": {
      "text/plain": [
       "(array([1, 2]), array([39356,   644]))"
      ]
     },
     "execution_count": 33,
     "metadata": {},
     "output_type": "execute_result"
    }
   ],
   "source": [
    "n=5000\n",
    "d=2\n",
    "tau=2.5\n",
    "alpha=1.5\n",
    "\n",
    "\n",
    "for _ in range(3):\n",
    "    g, edges, weights, pts, id2gnk = cgirg_gen(n=n, d=d, tau=tau, alpha=alpha)\n",
    "    edges = list(g.iterEdges())\n",
    "    outs = []\n",
    "    for _ in range(40000):\n",
    "        s, t = edges[np.random.choice(len(edges))]\n",
    "        _ = g.removeEdge(s, t)\n",
    "        biBFS = nk.distance.BidirectionalBFS(g, s, t, True)\n",
    "        _ = biBFS.run()\n",
    "    #     print(int(biBFS.getDistance())\n",
    "        _ = g.addEdge(s, t)\n",
    "        outs.append((s, biBFS.getPath(), t))\n",
    "\n",
    "    lengths = [len(x[1]) for x in outs]\n",
    "    np.unique(lengths, return_counts=True)\n"
   ]
  },
  {
   "cell_type": "code",
   "execution_count": 35,
   "metadata": {
    "tags": []
   },
   "outputs": [
    {
     "data": {
      "text/plain": [
       "(array([1, 2]), array([39593,   407]))"
      ]
     },
     "execution_count": 35,
     "metadata": {},
     "output_type": "execute_result"
    },
    {
     "data": {
      "text/plain": [
       "(array([1, 2, 3]), array([39272,   727,     1]))"
      ]
     },
     "execution_count": 35,
     "metadata": {},
     "output_type": "execute_result"
    },
    {
     "data": {
      "text/plain": [
       "(array([1, 2, 3]), array([38939,  1058,     3]))"
      ]
     },
     "execution_count": 35,
     "metadata": {},
     "output_type": "execute_result"
    }
   ],
   "source": [
    "n=5000\n",
    "d=2\n",
    "tau=2.5\n",
    "alpha=1.5\n",
    "\n",
    "\n",
    "for _ in range(3):\n",
    "    g, edges, weights, pts, id2gnk = cgirg_gen(n=n, d=d, tau=tau, alpha=alpha)\n",
    "    edges = list(g.iterEdges())\n",
    "    outs = []\n",
    "    for _ in range(40000):\n",
    "        s, t = edges[np.random.choice(len(edges))]\n",
    "        _ = g.removeEdge(s, t)\n",
    "        biBFS = nk.distance.BidirectionalBFS(g, s, t, True)\n",
    "        _ = biBFS.run()\n",
    "        _ = g.addEdge(s, t)\n",
    "        outs.append((s, biBFS.getPath(), t))\n",
    "\n",
    "    lengths = [len(x[1]) for x in outs]\n",
    "    np.unique(lengths, return_counts=True)\n"
   ]
  },
  {
   "cell_type": "code",
   "execution_count": 52,
   "metadata": {},
   "outputs": [
    {
     "data": {
      "text/plain": [
       "(array([1, 2]), array([39972,   974]))"
      ]
     },
     "execution_count": 52,
     "metadata": {},
     "output_type": "execute_result"
    },
    {
     "data": {
      "text/plain": [
       "(array([1, 2]), array([41594,  1349]))"
      ]
     },
     "execution_count": 52,
     "metadata": {},
     "output_type": "execute_result"
    },
    {
     "data": {
      "text/plain": [
       "(array([1, 2]), array([41166,  1803]))"
      ]
     },
     "execution_count": 52,
     "metadata": {},
     "output_type": "execute_result"
    }
   ],
   "source": [
    "n=5000\n",
    "d=2\n",
    "tau=2.5\n",
    "alpha=1.5\n",
    "\n",
    "\n",
    "for _ in range(3):\n",
    "    g, edges, weights, pts, id2gnk = cgirg_gen(n=n, d=d, tau=tau, alpha=alpha)\n",
    "    degrees = np.array(nk.centrality.DegreeCentrality(g).run().scores()).astype(np.int64)\n",
    "    edges = list(g.iterEdges())\n",
    "    outs = []\n",
    "    low, up = np.quantile(degrees, q=[0.2, 0.8]).astype(np.int64)\n",
    "    for _ in range(40000 * 12):\n",
    "        s, t = edges[np.random.choice(len(edges))]\n",
    "        degs = [degrees[s], degrees[t]]\n",
    "        degs.sort()\n",
    "        if degs[0] > low or degs[1] < up:\n",
    "            continue\n",
    "        _ = g.removeEdge(s, t)\n",
    "        biBFS = nk.distance.BidirectionalBFS(g, s, t, True)\n",
    "        _ = biBFS.run()\n",
    "        _ = g.addEdge(s, t)\n",
    "        outs.append((s, biBFS.getPath(), t))\n",
    "\n",
    "    lengths = [len(x[1]) for x in outs]\n",
    "    np.unique(lengths, return_counts=True)\n"
   ]
  },
  {
   "cell_type": "code",
   "execution_count": 78,
   "metadata": {},
   "outputs": [
    {
     "data": {
      "text/plain": [
       "(array([1, 2, 3]), array([40016,  1205,     2]))"
      ]
     },
     "execution_count": 78,
     "metadata": {},
     "output_type": "execute_result"
    },
    {
     "data": {
      "text/plain": [
       "(array([1, 2]), array([39622,  1085]))"
      ]
     },
     "execution_count": 78,
     "metadata": {},
     "output_type": "execute_result"
    },
    {
     "data": {
      "text/plain": [
       "(array([1, 2, 3]), array([36288,  1776,    11]))"
      ]
     },
     "execution_count": 78,
     "metadata": {},
     "output_type": "execute_result"
    }
   ],
   "source": [
    "n=40000\n",
    "d=2\n",
    "tau=2.5\n",
    "alpha=1.5\n",
    "\n",
    "\n",
    "for _ in range(3):\n",
    "    g, edges, weights, pts, id2gnk = cgirg_gen(n=n, d=d, tau=tau, alpha=alpha)\n",
    "    degrees = np.array(nk.centrality.DegreeCentrality(g).run().scores()).astype(np.int64)\n",
    "    edges = list(g.iterEdges())\n",
    "    outs = []\n",
    "    low, up = np.quantile(degrees, q=[0.2, 0.8]).astype(np.int64)\n",
    "    for _ in range(40000 * 12):\n",
    "        s, t = edges[np.random.choice(len(edges))]\n",
    "        degs = [degrees[s], degrees[t]]\n",
    "        degs.sort()\n",
    "        if degs[0] > low or degs[1] < up:\n",
    "            continue\n",
    "        _ = g.removeEdge(s, t)\n",
    "        biBFS = nk.distance.BidirectionalBFS(g, s, t, True)\n",
    "        _ = biBFS.run()\n",
    "        _ = g.addEdge(s, t)\n",
    "        outs.append((s, biBFS.getPath(), t))\n",
    "\n",
    "    lengths = [len(x[1]) for x in outs]\n",
    "    np.unique(lengths, return_counts=True)\n"
   ]
  },
  {
   "cell_type": "code",
   "execution_count": 90,
   "metadata": {
    "collapsed": true,
    "jupyter": {
     "outputs_hidden": true
    },
    "tags": []
   },
   "outputs": [
    {
     "data": {
      "text/plain": [
       "<networkit.distance.BFS at 0x2b28c42a2100>"
      ]
     },
     "execution_count": 90,
     "metadata": {},
     "output_type": "execute_result"
    },
    {
     "data": {
      "text/plain": [
       "<networkit.distance.BFS at 0x2b28c45181c0>"
      ]
     },
     "execution_count": 90,
     "metadata": {},
     "output_type": "execute_result"
    },
    {
     "data": {
      "text/plain": [
       "<networkit.distance.BFS at 0x2b28c4233d90>"
      ]
     },
     "execution_count": 90,
     "metadata": {},
     "output_type": "execute_result"
    },
    {
     "data": {
      "text/plain": [
       "<networkit.distance.BFS at 0x2b28c55f5460>"
      ]
     },
     "execution_count": 90,
     "metadata": {},
     "output_type": "execute_result"
    },
    {
     "data": {
      "text/plain": [
       "<networkit.distance.BFS at 0x2b28db4415e0>"
      ]
     },
     "execution_count": 90,
     "metadata": {},
     "output_type": "execute_result"
    },
    {
     "data": {
      "text/plain": [
       "<networkit.distance.BFS at 0x2b28db441670>"
      ]
     },
     "execution_count": 90,
     "metadata": {},
     "output_type": "execute_result"
    },
    {
     "data": {
      "text/plain": [
       "<networkit.distance.BFS at 0x2b28c46929a0>"
      ]
     },
     "execution_count": 90,
     "metadata": {},
     "output_type": "execute_result"
    },
    {
     "data": {
      "text/plain": [
       "<networkit.distance.BFS at 0x2b28db4412b0>"
      ]
     },
     "execution_count": 90,
     "metadata": {},
     "output_type": "execute_result"
    },
    {
     "data": {
      "text/plain": [
       "<networkit.distance.BFS at 0x2b28c45181c0>"
      ]
     },
     "execution_count": 90,
     "metadata": {},
     "output_type": "execute_result"
    },
    {
     "data": {
      "text/plain": [
       "<networkit.distance.BFS at 0x2b28c433caf0>"
      ]
     },
     "execution_count": 90,
     "metadata": {},
     "output_type": "execute_result"
    }
   ],
   "source": [
    "n=10000\n",
    "d=3\n",
    "tau=2.4\n",
    "alpha=1.5\n",
    "\n",
    "g, edges, weights, pts, id2gnk = cgirg_gen(n=n, d=d, tau=tau, alpha=alpha)\n",
    "\n",
    "outs = []\n",
    "for _ in range(10):\n",
    "    v = np.random.choice(g.numberOfNodes())\n",
    "    bfs = nk.distance.BFS(g, source=v, storePaths=True, storeNodesSortedByDistance=True)\n",
    "    bfs.run()\n",
    "    dists = bfs.getDistances()\n",
    "    outs.append(np.unique(dists, return_counts=True)[1])"
   ]
  },
  {
   "cell_type": "code",
   "execution_count": 91,
   "metadata": {},
   "outputs": [
    {
     "data": {
      "text/plain": [
       "[array([   1,   21, 7658, 2320]),\n",
       " array([   1,  126, 9228,  645]),\n",
       " array([   1,   77, 8575, 1347]),\n",
       " array([   1,   24, 4237, 5738]),\n",
       " array([   1,   33, 2861, 7105]),\n",
       " array([   1,   35, 5402, 4562]),\n",
       " array([   1,   72, 8743, 1184]),\n",
       " array([   1,   27, 8062, 1910]),\n",
       " array([   1,   91, 9087,  821]),\n",
       " array([   1,   23, 7761, 2215])]"
      ]
     },
     "execution_count": 91,
     "metadata": {},
     "output_type": "execute_result"
    }
   ],
   "source": [
    "outs"
   ]
  },
  {
   "cell_type": "code",
   "execution_count": 92,
   "metadata": {},
   "outputs": [
    {
     "data": {
      "text/plain": [
       "23"
      ]
     },
     "execution_count": 92,
     "metadata": {},
     "output_type": "execute_result"
    }
   ],
   "source": [
    "g.degree(v)"
   ]
  },
  {
   "cell_type": "code",
   "execution_count": 93,
   "metadata": {},
   "outputs": [],
   "source": [
    "gnk2id = {v:k for k, v in id2gnk.items()}"
   ]
  },
  {
   "cell_type": "code",
   "execution_count": 97,
   "metadata": {},
   "outputs": [
    {
     "data": {
      "text/plain": [
       "1.2376200838672948"
      ]
     },
     "execution_count": 97,
     "metadata": {},
     "output_type": "execute_result"
    },
    {
     "data": {
      "text/plain": [
       "1.0736493103334088"
      ]
     },
     "execution_count": 97,
     "metadata": {},
     "output_type": "execute_result"
    },
    {
     "data": {
      "text/plain": [
       "1.2376200838672948"
      ]
     },
     "execution_count": 97,
     "metadata": {},
     "output_type": "execute_result"
    }
   ],
   "source": [
    "w = weights[gnk2id[v]]\n",
    "w\n",
    "r = w**(1/d)\n",
    "r\n",
    "r**d"
   ]
  },
  {
   "cell_type": "code",
   "execution_count": 98,
   "metadata": {},
   "outputs": [],
   "source": [
    "degrees2 = np.array(nk.centrality.DegreeCentrality(g).run().scores()).astype(np.int64)\n",
    "degrees = [0]*len(degrees2)\n",
    "for i, x in enumerate(degrees2):\n",
    "    degrees[gnk2id[i]] = x\n"
   ]
  },
  {
   "cell_type": "code",
   "execution_count": 100,
   "metadata": {},
   "outputs": [
    {
     "data": {
      "text/plain": [
       "<matplotlib.collections.PathCollection at 0x2b28db9abf70>"
      ]
     },
     "execution_count": 100,
     "metadata": {},
     "output_type": "execute_result"
    },
    {
     "data": {
      "text/plain": [
       "Text(0.5, 0, 'weight')"
      ]
     },
     "execution_count": 100,
     "metadata": {},
     "output_type": "execute_result"
    },
    {
     "data": {
      "text/plain": [
       "Text(0, 0.5, 'degree')"
      ]
     },
     "execution_count": 100,
     "metadata": {},
     "output_type": "execute_result"
    },
    {
     "data": {
      "text/plain": [
       "Text(0.5, 1.0, '10000 nodes, tau 2.4, alpha 1.5, d 3')"
      ]
     },
     "execution_count": 100,
     "metadata": {},
     "output_type": "execute_result"
    },
    {
     "data": {
      "image/png": "[encoded data removed]",
      "text/plain": [
       "<Figure size 640x480 with 1 Axes>"
      ]
     },
     "metadata": {},
     "output_type": "display_data"
    }
   ],
   "source": [
    "plt.scatter(weights, degrees)\n",
    "plt.xlabel('weight')\n",
    "plt.ylabel('degree')\n",
    "plt.title('10000 nodes, tau 2.4, alpha 1.5, d 3')"
   ]
  },
  {
   "cell_type": "code",
   "execution_count": 103,
   "metadata": {},
   "outputs": [
    {
     "data": {
      "text/plain": [
       "<matplotlib.collections.PathCollection at 0x2b28c455e460>"
      ]
     },
     "execution_count": 103,
     "metadata": {},
     "output_type": "execute_result"
    },
    {
     "data": {
      "text/plain": [
       "Text(0.5, 0, 'weight')"
      ]
     },
     "execution_count": 103,
     "metadata": {},
     "output_type": "execute_result"
    },
    {
     "data": {
      "text/plain": [
       "Text(0, 0.5, 'degree')"
      ]
     },
     "execution_count": 103,
     "metadata": {},
     "output_type": "execute_result"
    },
    {
     "data": {
      "text/plain": [
       "Text(0.5, 1.0, '10000 nodes, tau 2.4, alpha 1.5, d 3')"
      ]
     },
     "execution_count": 103,
     "metadata": {},
     "output_type": "execute_result"
    },
    {
     "data": {
      "image/png": "[encoded data removed]",
      "text/plain": [
       "<Figure size 640x480 with 1 Axes>"
      ]
     },
     "metadata": {},
     "output_type": "display_data"
    }
   ],
   "source": [
    "weights, degrees = np.array(weights), np.array(degrees)\n",
    "plt.scatter(weights[weights < 10], degrees[weights < 10], marker='x')\n",
    "plt.xlabel('weight')\n",
    "plt.ylabel('degree')\n",
    "plt.title('10000 nodes, tau 2.4, alpha 1.5, d 3')"
   ]
  },
  {
   "cell_type": "code",
   "execution_count": null,
   "metadata": {},
   "outputs": [],
   "source": []
  },
  {
   "cell_type": "code",
   "execution_count": 41,
   "metadata": {},
   "outputs": [
    {
     "data": {
      "text/plain": [
       "array([1.21491151, 1.59952941, 2.56272572])"
      ]
     },
     "execution_count": 41,
     "metadata": {},
     "output_type": "execute_result"
    }
   ],
   "source": [
    "np.quantile(weights, q=[0.25, 0.5, 0.75])"
   ]
  },
  {
   "cell_type": "code",
   "execution_count": 48,
   "metadata": {},
   "outputs": [
    {
     "data": {
      "text/plain": [
       "array([13, 34])"
      ]
     },
     "execution_count": 48,
     "metadata": {},
     "output_type": "execute_result"
    }
   ],
   "source": [
    "degrees = np.array(nk.centrality.DegreeCentrality(g).run().scores()).astype(np.int64)\n",
    "np.quantile(degrees, q=[0.2, 0.8]).astype(np.int64)"
   ]
  },
  {
   "cell_type": "code",
   "execution_count": 45,
   "metadata": {},
   "outputs": [
    {
     "data": {
      "text/plain": [
       "array([ 106, 1566, 1247, ...,   10,    8,   12])"
      ]
     },
     "execution_count": 45,
     "metadata": {},
     "output_type": "execute_result"
    }
   ],
   "source": [
    "np.array(nk.centrality.DegreeCentrality(g).run().scores()).astype(np.int64)"
   ]
  },
  {
   "cell_type": "code",
   "execution_count": 49,
   "metadata": {
    "tags": []
   },
   "outputs": [
    {
     "data": {
      "text/plain": [
       "[-1, 1, 2, 3, 5]"
      ]
     },
     "execution_count": 49,
     "metadata": {},
     "output_type": "execute_result"
    }
   ],
   "source": [
    "a = [1, 2, 3, 5, -1]\n",
    "a.sort()\n",
    "a"
   ]
  },
  {
   "cell_type": "code",
   "execution_count": 93,
   "metadata": {},
   "outputs": [
    {
     "data": {
      "text/plain": [
       "[(985, 726), (9, 726), (412, 726), (872, 726), (781, 726)]"
      ]
     },
     "execution_count": 93,
     "metadata": {},
     "output_type": "execute_result"
    }
   ],
   "source": [
    "edges[:5]"
   ]
  },
  {
   "cell_type": "code",
   "execution_count": 94,
   "metadata": {},
   "outputs": [
    {
     "data": {
      "text/plain": [
       "False"
      ]
     },
     "execution_count": 94,
     "metadata": {},
     "output_type": "execute_result"
    }
   ],
   "source": [
    "g.hasEdge(985, 726)"
   ]
  },
  {
   "cell_type": "code",
   "execution_count": 95,
   "metadata": {},
   "outputs": [],
   "source": [
    "edges2 = list(g.iterEdges())"
   ]
  },
  {
   "cell_type": "code",
   "execution_count": 96,
   "metadata": {},
   "outputs": [
    {
     "data": {
      "text/plain": [
       "[(0, 1), (0, 281), (0, 282), (0, 152), (0, 221)]"
      ]
     },
     "execution_count": 96,
     "metadata": {},
     "output_type": "execute_result"
    }
   ],
   "source": [
    "edges2[:5]"
   ]
  },
  {
   "cell_type": "code",
   "execution_count": 97,
   "metadata": {},
   "outputs": [
    {
     "data": {
      "text/plain": [
       "False"
      ]
     },
     "execution_count": 97,
     "metadata": {},
     "output_type": "execute_result"
    }
   ],
   "source": [
    "(0, 1) in edges"
   ]
  },
  {
   "cell_type": "code",
   "execution_count": 89,
   "metadata": {},
   "outputs": [],
   "source": [
    "stuff = []\n",
    "for _ in edges:\n",
    "    stuff = stuff + list(_)"
   ]
  },
  {
   "cell_type": "code",
   "execution_count": 91,
   "metadata": {},
   "outputs": [
    {
     "data": {
      "text/plain": [
       "0"
      ]
     },
     "execution_count": 91,
     "metadata": {},
     "output_type": "execute_result"
    },
    {
     "data": {
      "text/plain": [
       "999"
      ]
     },
     "execution_count": 91,
     "metadata": {},
     "output_type": "execute_result"
    }
   ],
   "source": [
    "min(stuff)\n",
    "max(stuff)"
   ]
  },
  {
   "cell_type": "code",
   "execution_count": null,
   "metadata": {},
   "outputs": [],
   "source": []
  }
 ],
 "metadata": {
  "kernelspec": {
   "display_name": "girg_env",
   "language": "python",
   "name": "girg_env"
  },
  "language_info": {
   "codemirror_mode": {
    "name": "ipython",
    "version": 3
   },
   "file_extension": ".py",
   "mimetype": "text/x-python",
   "name": "python",
   "nbconvert_exporter": "python",
   "pygments_lexer": "ipython3",
   "version": "3.8.5"
  }
 },
 "nbformat": 4,
 "nbformat_minor": 4
}
