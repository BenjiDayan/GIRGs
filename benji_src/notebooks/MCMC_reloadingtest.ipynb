{
 "cells": [
  {
   "cell_type": "code",
   "execution_count": 1,
   "outputs": [],
   "source": [
    "import os\n",
    "os.chdir('/cluster/home/bdayan/girgs/benji_src/notebooks/')"
   ],
   "metadata": {
    "collapsed": false,
    "ExecuteTime": {
     "start_time": "2023-07-17T11:52:15.141272Z",
     "end_time": "2023-07-17T11:52:15.144622Z"
    }
   }
  },
  {
   "cell_type": "code",
   "execution_count": 2,
   "outputs": [
    {
     "data": {
      "text/plain": "'/cluster/home/bdayan/girgs/benji_src/notebooks'"
     },
     "execution_count": 2,
     "metadata": {},
     "output_type": "execute_result"
    }
   ],
   "source": [
    "import sys\n",
    "sys.path.append('../')\n",
    "sys.path.append('../../nemo-eva/src/')\n",
    "\n",
    "import os\n",
    "os.getcwd()\n",
    "\n"
   ],
   "metadata": {
    "collapsed": false,
    "ExecuteTime": {
     "start_time": "2023-07-17T11:52:15.147117Z",
     "end_time": "2023-07-17T11:52:15.167455Z"
    }
   }
  },
  {
   "cell_type": "code",
   "execution_count": 3,
   "outputs": [
    {
     "data": {
      "text/html": "\n\t\t\t<script type=\"text/javascript\">\n\t\t\t<!--\n\t\t\t\t\n\t\t\t{\n\t\t\t\tvar element = document.getElementById('NetworKit_script');\n\t\t\t\tif (element) {\n\t\t\t\t\telement.parentNode.removeChild(element);\n\t\t\t\t}\n\t\t\t\telement = document.createElement('script');\n\t\t\t\telement.type = 'text/javascript';\n\t\t\t\telement.innerHTML = 'function NetworKit_pageEmbed(id) { var i, j; var elements; elements = document.getElementById(id).getElementsByClassName(\"Plot\"); for (i=0; i<elements.length; i++) { elements[i].id = id + \"_Plot_\" + i; var data = elements[i].getAttribute(\"data-image\").split(\"|\"); elements[i].removeAttribute(\"data-image\"); var content = \"<div class=\\\\\"Image\\\\\" id=\\\\\"\" + elements[i].id + \"_Image\\\\\" />\"; elements[i].innerHTML = content; elements[i].setAttribute(\"data-image-index\", 0); elements[i].setAttribute(\"data-image-length\", data.length); for (j=0; j<data.length; j++) { elements[i].setAttribute(\"data-image-\" + j, data[j]); } NetworKit_plotUpdate(elements[i]); elements[i].onclick = function (e) { NetworKit_overlayShow((e.target) ? e.target : e.srcElement); } } elements = document.getElementById(id).getElementsByClassName(\"HeatCell\"); for (i=0; i<elements.length; i++) { var data = parseFloat(elements[i].getAttribute(\"data-heat\")); var color = \"#00FF00\"; if (data <= 1 && data > 0) { color = \"hsla(0, 100%, 75%, \" + (data) + \")\"; } else if (data <= 0 && data >= -1) { color = \"hsla(240, 100%, 75%, \" + (-data) + \")\"; } elements[i].style.backgroundColor = color; } elements = document.getElementById(id).getElementsByClassName(\"Details\"); for (i=0; i<elements.length; i++) { elements[i].setAttribute(\"data-title\", \"-\"); NetworKit_toggleDetails(elements[i]); elements[i].onclick = function (e) { NetworKit_toggleDetails((e.target) ? e.target : e.srcElement); } } elements = document.getElementById(id).getElementsByClassName(\"MathValue\"); for (i=elements.length-1; i>=0; i--) { value = elements[i].innerHTML.trim(); if (value === \"nan\") { elements[i].parentNode.innerHTML = \"\" } } elements = document.getElementById(id).getElementsByClassName(\"SubCategory\"); for (i=elements.length-1; i>=0; i--) { value = elements[i].innerHTML.trim(); if (value === \"\") { elements[i].parentNode.removeChild(elements[i]) } } elements = document.getElementById(id).getElementsByClassName(\"Category\"); for (i=elements.length-1; i>=0; i--) { value = elements[i].innerHTML.trim(); if (value === \"\") { elements[i].parentNode.removeChild(elements[i]) } } var isFirefox = false; try { isFirefox = typeof InstallTrigger !== \"undefined\"; } catch (e) {} if (!isFirefox) { alert(\"Currently the function\\'s output is only fully supported by Firefox.\"); } } function NetworKit_plotUpdate(source) { var index = source.getAttribute(\"data-image-index\"); var data = source.getAttribute(\"data-image-\" + index); var image = document.getElementById(source.id + \"_Image\"); image.style.backgroundImage = \"url(\" + data + \")\"; } function NetworKit_showElement(id, show) { var element = document.getElementById(id); element.style.display = (show) ? \"block\" : \"none\"; } function NetworKit_overlayShow(source) { NetworKit_overlayUpdate(source); NetworKit_showElement(\"NetworKit_Overlay\", true); } function NetworKit_overlayUpdate(source) { document.getElementById(\"NetworKit_Overlay_Title\").innerHTML = source.title; var index = source.getAttribute(\"data-image-index\"); var data = source.getAttribute(\"data-image-\" + index); var image = document.getElementById(\"NetworKit_Overlay_Image\"); image.setAttribute(\"data-id\", source.id); image.style.backgroundImage = \"url(\" + data + \")\"; var link = document.getElementById(\"NetworKit_Overlay_Toolbar_Bottom_Save\"); link.href = data; link.download = source.title + \".svg\"; } function NetworKit_overlayImageShift(delta) { var image = document.getElementById(\"NetworKit_Overlay_Image\"); var source = document.getElementById(image.getAttribute(\"data-id\")); var index = parseInt(source.getAttribute(\"data-image-index\")); var length = parseInt(source.getAttribute(\"data-image-length\")); var index = (index+delta) % length; if (index < 0) { index = length + index; } source.setAttribute(\"data-image-index\", index); NetworKit_overlayUpdate(source); } function NetworKit_toggleDetails(source) { var childs = source.children; var show = false; if (source.getAttribute(\"data-title\") == \"-\") { source.setAttribute(\"data-title\", \"+\"); show = false; } else { source.setAttribute(\"data-title\", \"-\"); show = true; } for (i=0; i<childs.length; i++) { if (show) { childs[i].style.display = \"block\"; } else { childs[i].style.display = \"none\"; } } }';\n\t\t\t\telement.setAttribute('id', 'NetworKit_script');\n\t\t\t\tdocument.head.appendChild(element);\n\t\t\t}\n\t\t\n\t\t\t\t\n\t\t\t{\n\t\t\t\tvar element = document.getElementById('NetworKit_style');\n\t\t\t\tif (element) {\n\t\t\t\t\telement.parentNode.removeChild(element);\n\t\t\t\t}\n\t\t\t\telement = document.createElement('style');\n\t\t\t\telement.type = 'text/css';\n\t\t\t\telement.innerHTML = '.NetworKit_Page { font-family: Arial, Helvetica, sans-serif; font-size: 14px; } .NetworKit_Page .Value:before { font-family: Arial, Helvetica, sans-serif; font-size: 1.05em; content: attr(data-title) \":\"; margin-left: -2.5em; padding-right: 0.5em; } .NetworKit_Page .Details .Value:before { display: block; } .NetworKit_Page .Value { font-family: monospace; white-space: pre; padding-left: 2.5em; white-space: -moz-pre-wrap !important; white-space: -pre-wrap; white-space: -o-pre-wrap; white-space: pre-wrap; word-wrap: break-word; tab-size: 4; -moz-tab-size: 4; } .NetworKit_Page .Category { clear: both; padding-left: 1em; margin-bottom: 1.5em; } .NetworKit_Page .Category:before { content: attr(data-title); font-size: 1.75em; display: block; margin-left: -0.8em; margin-bottom: 0.5em; } .NetworKit_Page .SubCategory { margin-bottom: 1.5em; padding-left: 1em; } .NetworKit_Page .SubCategory:before { font-size: 1.6em; display: block; margin-left: -0.8em; margin-bottom: 0.5em; } .NetworKit_Page .SubCategory[data-title]:before { content: attr(data-title); } .NetworKit_Page .Block { display: block; } .NetworKit_Page .Block:after { content: \".\"; visibility: hidden; display: block; height: 0; clear: both; } .NetworKit_Page .Block .Thumbnail_Overview, .NetworKit_Page .Block .Thumbnail_ScatterPlot { width: 260px; float: left; } .NetworKit_Page .Block .Thumbnail_Overview img, .NetworKit_Page .Block .Thumbnail_ScatterPlot img { width: 260px; } .NetworKit_Page .Block .Thumbnail_Overview:before, .NetworKit_Page .Block .Thumbnail_ScatterPlot:before { display: block; text-align: center; font-weight: bold; } .NetworKit_Page .Block .Thumbnail_Overview:before { content: attr(data-title); } .NetworKit_Page .HeatCell { font-family: \"Courier New\", Courier, monospace; cursor: pointer; } .NetworKit_Page .HeatCell, .NetworKit_Page .HeatCellName { display: inline; padding: 0.1em; margin-right: 2px; background-color: #FFFFFF } .NetworKit_Page .HeatCellName { margin-left: 0.25em; } .NetworKit_Page .HeatCell:before { content: attr(data-heat); display: inline-block; color: #000000; width: 4em; text-align: center; } .NetworKit_Page .Measure { clear: both; } .NetworKit_Page .Measure .Details { cursor: pointer; } .NetworKit_Page .Measure .Details:before { content: \"[\" attr(data-title) \"]\"; display: block; } .NetworKit_Page .Measure .Details .Value { border-left: 1px dotted black; margin-left: 0.4em; padding-left: 3.5em; pointer-events: none; } .NetworKit_Page .Measure .Details .Spacer:before { content: \".\"; opacity: 0.0; pointer-events: none; } .NetworKit_Page .Measure .Plot { width: 440px; height: 440px; cursor: pointer; float: left; margin-left: -0.9em; margin-right: 20px; } .NetworKit_Page .Measure .Plot .Image { background-repeat: no-repeat; background-position: center center; background-size: contain; height: 100%; pointer-events: none; } .NetworKit_Page .Measure .Stat { width: 500px; float: left; } .NetworKit_Page .Measure .Stat .Group { padding-left: 1.25em; margin-bottom: 0.75em; } .NetworKit_Page .Measure .Stat .Group .Title { font-size: 1.1em; display: block; margin-bottom: 0.3em; margin-left: -0.75em; border-right-style: dotted; border-right-width: 1px; border-bottom-style: dotted; border-bottom-width: 1px; background-color: #D0D0D0; padding-left: 0.2em; } .NetworKit_Page .Measure .Stat .Group .List { -webkit-column-count: 3; -moz-column-count: 3; column-count: 3; } .NetworKit_Page .Measure .Stat .Group .List .Entry { position: relative; line-height: 1.75em; } .NetworKit_Page .Measure .Stat .Group .List .Entry[data-tooltip]:before { position: absolute; left: 0; top: -40px; background-color: #808080; color: #ffffff; height: 30px; line-height: 30px; border-radius: 5px; padding: 0 15px; content: attr(data-tooltip); white-space: nowrap; display: none; } .NetworKit_Page .Measure .Stat .Group .List .Entry[data-tooltip]:after { position: absolute; left: 15px; top: -10px; border-top: 7px solid #808080; border-left: 7px solid transparent; border-right: 7px solid transparent; content: \"\"; display: none; } .NetworKit_Page .Measure .Stat .Group .List .Entry[data-tooltip]:hover:after, .NetworKit_Page .Measure .Stat .Group .List .Entry[data-tooltip]:hover:before { display: block; } .NetworKit_Page .Measure .Stat .Group .List .Entry .MathValue { font-family: \"Courier New\", Courier, monospace; } .NetworKit_Page .Measure:after { content: \".\"; visibility: hidden; display: block; height: 0; clear: both; } .NetworKit_Page .PartitionPie { clear: both; } .NetworKit_Page .PartitionPie img { width: 600px; } #NetworKit_Overlay { left: 0px; top: 0px; display: none; position: absolute; width: 100%; height: 100%; background-color: rgba(0,0,0,0.6); z-index: 1000; } #NetworKit_Overlay_Title { position: absolute; color: white; transform: rotate(-90deg); width: 32em; height: 32em; padding-right: 0.5em; padding-top: 0.5em; text-align: right; font-size: 40px; } #NetworKit_Overlay .button { background: white; cursor: pointer; } #NetworKit_Overlay .button:before { size: 13px; display: inline-block; text-align: center; margin-top: 0.5em; margin-bottom: 0.5em; width: 1.5em; height: 1.5em; } #NetworKit_Overlay .icon-close:before { content: \"X\"; } #NetworKit_Overlay .icon-previous:before { content: \"P\"; } #NetworKit_Overlay .icon-next:before { content: \"N\"; } #NetworKit_Overlay .icon-save:before { content: \"S\"; } #NetworKit_Overlay_Toolbar_Top, #NetworKit_Overlay_Toolbar_Bottom { position: absolute; width: 40px; right: 13px; text-align: right; z-index: 1100; } #NetworKit_Overlay_Toolbar_Top { top: 0.5em; } #NetworKit_Overlay_Toolbar_Bottom { Bottom: 0.5em; } #NetworKit_Overlay_ImageContainer { position: absolute; top: 5%; left: 5%; height: 90%; width: 90%; background-repeat: no-repeat; background-position: center center; background-size: contain; } #NetworKit_Overlay_Image { height: 100%; width: 100%; background-repeat: no-repeat; background-position: center center; background-size: contain; }';\n\t\t\t\telement.setAttribute('id', 'NetworKit_style');\n\t\t\t\tdocument.head.appendChild(element);\n\t\t\t}\n\t\t\n\t\t\t\t\n\t\t\t{\n\t\t\t\tvar element = document.getElementById('NetworKit_Overlay');\n\t\t\t\tif (element) {\n\t\t\t\t\telement.parentNode.removeChild(element);\n\t\t\t\t}\n\t\t\t\telement = document.createElement('div');\n\t\t\t\telement.innerHTML = '<div id=\"NetworKit_Overlay_Toolbar_Top\"><div class=\"button icon-close\" id=\"NetworKit_Overlay_Close\" /></div><div id=\"NetworKit_Overlay_Title\" /> <div id=\"NetworKit_Overlay_ImageContainer\"> <div id=\"NetworKit_Overlay_Image\" /> </div> <div id=\"NetworKit_Overlay_Toolbar_Bottom\"> <div class=\"button icon-previous\" onclick=\"NetworKit_overlayImageShift(-1)\" /> <div class=\"button icon-next\" onclick=\"NetworKit_overlayImageShift(1)\" /> <a id=\"NetworKit_Overlay_Toolbar_Bottom_Save\"><div class=\"button icon-save\" /></a> </div>';\n\t\t\t\telement.setAttribute('id', 'NetworKit_Overlay');\n\t\t\t\tdocument.body.appendChild(element);\n\t\t\t\tdocument.getElementById('NetworKit_Overlay_Close').onclick = function (e) {\n\t\t\t\t\tdocument.getElementById('NetworKit_Overlay').style.display = 'none';\n\t\t\t\t}\n\t\t\t}\n\t\t\n\t\t\t-->\n\t\t\t</script>\n\t\t"
     },
     "metadata": {},
     "output_type": "display_data"
    },
    {
     "name": "stdout",
     "output_type": "stream",
     "text": [
      "/cluster/scratch/bdayan/GIRG_data/socfb-Duke14.SpaceOne\n",
      "/cluster/scratch/bdayan/GIRG_data/socfb-Swarthmore42.SpaceOne\n",
      "/cluster/scratch/bdayan/GIRG_data/socfb-Simmons81.SpaceOne\n",
      "/cluster/scratch/bdayan/GIRG_data/socfb-Reed98.SpaceOne\n",
      "/cluster/scratch/bdayan/GIRG_data/socfb-Bowdoin47.SpaceOne\n",
      "/cluster/scratch/bdayan/GIRG_data/socfb-UChicago30.SpaceOne\n",
      "/cluster/scratch/bdayan/GIRG_data/socfb-MIT.SpaceOne\n",
      "/cluster/scratch/bdayan/GIRG_data/socfb-WashU32.SpaceOne\n",
      "/cluster/scratch/bdayan/GIRG_data/socfb-Stanford3.SpaceOne\n",
      "/cluster/scratch/bdayan/GIRG_data/socfb-JohnsHopkins55.SpaceOne\n",
      "/cluster/scratch/bdayan/GIRG_data/socfb-Rice31.SpaceOne\n",
      "/cluster/scratch/bdayan/GIRG_data/socfb-GWU54.SpaceOne\n",
      "/cluster/scratch/bdayan/GIRG_data/socfb-Vermont70.SpaceOne\n",
      "/cluster/scratch/bdayan/GIRG_data/socfb-Williams40.SpaceOne\n",
      "/cluster/scratch/bdayan/GIRG_data/socfb-UCSB37.SpaceOne\n",
      "/cluster/scratch/bdayan/GIRG_data/socfb-Vanderbilt48.SpaceOne\n",
      "/cluster/scratch/bdayan/GIRG_data/socfb-CMU.SpaceOne\n",
      "/cluster/scratch/bdayan/GIRG_data/socfb-USFCA72.SpaceOne\n",
      "/cluster/scratch/bdayan/GIRG_data/socfb-Santa74.SpaceOne\n",
      "/cluster/scratch/bdayan/GIRG_data/socfb-Maine59.SpaceOne\n",
      "/cluster/scratch/bdayan/GIRG_data/socfb-Caltech36.SpaceOne\n",
      "/cluster/scratch/bdayan/GIRG_data/socfb-Mississippi66.SpaceOne\n",
      "/cluster/scratch/bdayan/GIRG_data/socfb-Bucknell39.SpaceOne\n",
      "/cluster/scratch/bdayan/GIRG_data/socfb-Trinity100.SpaceOne\n",
      "/cluster/scratch/bdayan/GIRG_data/socfb-UCSC68.SpaceOne\n",
      "/cluster/scratch/bdayan/GIRG_data/socfb-Smith60.SpaceOne\n",
      "/cluster/scratch/bdayan/GIRG_data/socfb-Syracuse56.SpaceOne\n",
      "/cluster/scratch/bdayan/GIRG_data/socfb-Amherst41.SpaceOne\n",
      "/cluster/scratch/bdayan/GIRG_data/socfb-Vassar85.SpaceOne\n",
      "/cluster/scratch/bdayan/GIRG_data/socfb-Northeastern19.SpaceOne\n"
     ]
    }
   ],
   "source": [
    "from benji_girgs import utils, generation, points, fitting, mcmc\n",
    "import os\n",
    "import glob\n",
    "import pandas as pd\n",
    "import networkit\n",
    "\n",
    "import networkit as nk\n",
    "\n",
    "from girg_sampling import girgs\n",
    "\n",
    "from IPython.core.interactiveshell import InteractiveShell\n",
    "InteractiveShell.ast_node_interactivity = \"last\"\n",
    "\n",
    "import numpy as np\n",
    "import matplotlib.pyplot as plt\n",
    "\n",
    "import do_feature_extract\n",
    "import networkx as nx\n"
   ],
   "metadata": {
    "collapsed": false,
    "ExecuteTime": {
     "start_time": "2023-07-17T11:52:15.167329Z",
     "end_time": "2023-07-17T11:52:16.869476Z"
    }
   }
  },
  {
   "cell_type": "code",
   "execution_count": 6,
   "outputs": [
    {
     "data": {
      "text/plain": "'/cluster/home/bdayan/girgs/benji_src/notebooks'"
     },
     "execution_count": 6,
     "metadata": {},
     "output_type": "execute_result"
    }
   ],
   "source": [
    "os.getcwd()"
   ],
   "metadata": {
    "collapsed": false,
    "ExecuteTime": {
     "start_time": "2023-07-17T11:53:18.093784Z",
     "end_time": "2023-07-17T11:53:18.132547Z"
    }
   }
  },
  {
   "cell_type": "code",
   "execution_count": 43,
   "outputs": [
    {
     "name": "stdout",
     "output_type": "stream",
     "text": [
      "socfb-Caltech36-1d.pkl\n",
      "socfb-Caltech36-2d.pkl\n",
      "socfb-Simmons81-1d.pkl\n",
      "socfb-Simmons81-2d.pkl\n",
      "socfb-Bowdoin47-1d.pkl\n",
      "socfb-Bowdoin47-2d.pkl\n",
      "socfb-USFCA72-1d.pkl\n",
      "socfb-USFCA72-2d.pkl\n",
      "socfb-Smith60-1d.pkl\n",
      "socfb-Smith60-2d.pkl\n",
      "socfb-Vassar85-1d.pkl\n",
      "socfb-Vassar85-2d.pkl\n",
      "socfb-Santa74-1d.pkl\n",
      "socfb-Santa74-2d.pkl\n",
      "socfb-Bucknell39-1d.pkl\n",
      "socfb-Bucknell39-2d.pkl\n",
      "socfb-Rice31-1d.pkl\n",
      "socfb-Rice31-2d.pkl\n",
      "socfb-JohnsHopkins55-1d.pkl\n",
      "socfb-JohnsHopkins55-2d.pkl\n",
      "socfb-MIT-1d.pkl\n"
     ]
    }
   ],
   "source": [
    "import pickle\n",
    "\n",
    "def trim_MC_lls(MC):\n",
    "    lls_new = []\n",
    "    ll_steps_new = []\n",
    "    for i, (ll, ll_steps) in enumerate(zip(MC.lls, MC.ll_steps)):\n",
    "        if i % 100 == 0:\n",
    "            lls_new.append(ll)\n",
    "            ll_steps_new.append(ll_steps)\n",
    "\n",
    "    if i % 100 != 0:\n",
    "        lls_new.append(ll)\n",
    "        ll_steps_new.append(ll_steps)\n",
    "\n",
    "    MC.lls = lls_new\n",
    "    MC.ll_steps = ll_steps_new\n",
    "\n",
    "pickle_path = '../../MCMC_run_fp_0p3_cl_0p5_v3/pickles/'\n",
    "fns = os.listdir(pickle_path)\n",
    "for name in fns:\n",
    "    print(name)\n",
    "    try:\n",
    "        with open(pickle_path + name, 'rb') as file:\n",
    "            MC = pickle.load(file)\n",
    "    except:\n",
    "        continue\n",
    "    if not MC.g:\n",
    "        continue\n",
    "    MC.g = None\n",
    "    MC.A = None\n",
    "    MC.probs_cl = None\n",
    "    trim_MC_lls(MC)\n",
    "    # MC.probs_cl = None\n",
    "    with open(pickle_path + name, 'wb') as file:\n",
    "            pickle.dump(MC, file)"
   ],
   "metadata": {
    "collapsed": false,
    "ExecuteTime": {
     "start_time": "2023-07-17T12:12:18.668855Z",
     "end_time": "2023-07-17T12:12:21.473923Z"
    }
   }
  },
  {
   "cell_type": "code",
   "execution_count": 38,
   "outputs": [
    {
     "data": {
      "text/plain": "[0,\n 1,\n 3,\n 4,\n 6,\n 9,\n 12,\n 13,\n 16,\n 17,\n 18,\n 19,\n 23,\n 24,\n 26,\n 28,\n 30,\n 31,\n 32,\n 33,\n 36,\n 42,\n 44,\n 47,\n 51,\n 54,\n 55,\n 60,\n 62,\n 63,\n 64,\n 65,\n 66,\n 68,\n 70,\n 74,\n 75,\n 76,\n 77,\n 78,\n 81,\n 82,\n 85,\n 89,\n 91,\n 94,\n 95,\n 99,\n 103,\n 105,\n 108,\n 114,\n 116,\n 128,\n 129,\n 130,\n 131,\n 133,\n 134,\n 136,\n 138,\n 140,\n 143,\n 146,\n 148,\n 150,\n 151,\n 153,\n 155,\n 156,\n 160,\n 162,\n 164,\n 166,\n 167,\n 171,\n 172,\n 181,\n 182,\n 184,\n 185,\n 186,\n 187,\n 189,\n 190,\n 191,\n 192,\n 196,\n 198,\n 201,\n 202,\n 203,\n 206,\n 210,\n 212,\n 222,\n 223,\n 224,\n 227,\n 229,\n 230,\n 233,\n 234,\n 237,\n 239,\n 240,\n 242,\n 244,\n 245,\n 246,\n 250,\n 251,\n 252,\n 253,\n 254,\n 256,\n 258,\n 260,\n 261,\n 262,\n 263,\n 267,\n 270,\n 272,\n 273,\n 274,\n 276,\n 277,\n 281,\n 283,\n 285,\n 287,\n 288,\n 289,\n 290,\n 292,\n 295,\n 297,\n 305,\n 306,\n 307,\n 313,\n 314,\n 317,\n 319,\n 322,\n 324,\n 325,\n 328,\n 336,\n 344,\n 347,\n 350,\n 351,\n 352,\n 355,\n 358,\n 359,\n 360,\n 364,\n 366,\n 367,\n 368,\n 371,\n 372,\n 374,\n 375,\n 378,\n 380,\n 382,\n 383,\n 384,\n 390,\n 391,\n 392,\n 396,\n 398,\n 400,\n 406,\n 407,\n 408,\n 412,\n 414,\n 417,\n 418,\n 421,\n 422,\n 423,\n 424,\n 425,\n 426,\n 428,\n 431,\n 436,\n 437,\n 441,\n 444,\n 445,\n 446,\n 451,\n 452,\n 453,\n 454,\n 456,\n 457,\n 460,\n 462,\n 464,\n 469,\n 470,\n 471,\n 481,\n 482,\n 485,\n 488,\n 492,\n 498,\n 506,\n 509,\n 515,\n 517,\n 519,\n 520,\n 522,\n 523,\n 525,\n 527,\n 531,\n 535,\n 539,\n 542,\n 543,\n 544,\n 545,\n 546,\n 550,\n 553,\n 554,\n 557,\n 558,\n 559,\n 567,\n 568,\n 569,\n 572,\n 575,\n 581,\n 584,\n 585,\n 587,\n 593,\n 596,\n 599,\n 601,\n 603,\n 608,\n 614,\n 615,\n 616,\n 618,\n 619,\n 620,\n 622,\n 625,\n 627,\n 631,\n 634,\n 640,\n 641,\n 643,\n 645,\n 649,\n 652,\n 655,\n 657,\n 658,\n 659,\n 660,\n 664,\n 665,\n 666,\n 667,\n 668,\n 670,\n 672,\n 675,\n 681,\n 683,\n 685,\n 687,\n 688,\n 696,\n 699,\n 701,\n 703,\n 704,\n 705,\n 706,\n 707,\n 708,\n 711,\n 712,\n 713,\n 714,\n 719,\n 720,\n 724,\n 725,\n 726,\n 727,\n 730,\n 731,\n 732,\n 734,\n 736,\n 737,\n 738,\n 740,\n 742,\n 745,\n 746,\n 749,\n 750,\n 751,\n 752,\n 753,\n 754,\n 755,\n 757,\n 760,\n 763,\n 764,\n 765,\n 768,\n 769,\n 771,\n 772,\n 774,\n 776,\n 777,\n 779,\n 780,\n 784,\n 787,\n 790,\n 794,\n 798,\n 805,\n 806,\n 809,\n 813,\n 817,\n 818,\n 821,\n 822,\n 823,\n 824,\n 827,\n 830,\n 833,\n 834,\n 835,\n 838,\n 841,\n 842,\n 843,\n 845,\n 848,\n 849,\n 851,\n 852,\n 853,\n 854,\n 856,\n 857,\n 859,\n 861,\n 864,\n 865,\n 866,\n 873,\n 875,\n 879,\n 881,\n 884,\n 885,\n 886,\n 888,\n 895,\n 896,\n 897,\n 898,\n 899,\n 902,\n 903,\n 905,\n 906,\n 907,\n 908,\n 910,\n 913,\n 915,\n 916,\n 921,\n 922,\n 923,\n 925,\n 928,\n 930,\n 931,\n 933,\n 936,\n 939,\n 940,\n 944,\n 945,\n 947,\n 948,\n 954,\n 956,\n 957,\n 958,\n 962,\n 963,\n 964,\n 965,\n 967,\n 968,\n 971,\n 972,\n 973,\n 974,\n 975,\n 979,\n 980,\n 982,\n 983,\n 984,\n 985,\n 992,\n 993,\n 996,\n 998,\n 999,\n 1005,\n 1006,\n 1010,\n 1012,\n 1013,\n 1014,\n 1016,\n 1018,\n 1019,\n 1020,\n 1023,\n 1024,\n 1025,\n 1027,\n 1028,\n 1029,\n 1031,\n 1036,\n 1039,\n 1042,\n 1044,\n 1047,\n 1048,\n 1052,\n 1054,\n 1055,\n 1058,\n 1060,\n 1067,\n 1069,\n 1070,\n 1071,\n 1072,\n 1073,\n 1075,\n 1076,\n 1077,\n 1078,\n 1080,\n 1081,\n 1082,\n 1083,\n 1086,\n 1088,\n 1089,\n 1091,\n 1094,\n 1099,\n 1100,\n 1101,\n 1102,\n 1103,\n 1106,\n 1110,\n 1111,\n 1113,\n 1121,\n 1122,\n 1126,\n 1127,\n 1135,\n 1136,\n 1138,\n 1139,\n 1141,\n 1142,\n 1145,\n 1146,\n 1147,\n 1148,\n 1151,\n 1152,\n 1154,\n 1159,\n 1160,\n 1165,\n 1166,\n 1168,\n 1169,\n 1170,\n 1171,\n 1172,\n 1173,\n 1175,\n 1178,\n 1180,\n 1182,\n 1184,\n 1186,\n 1188,\n 1191,\n 1193,\n 1198,\n 1202,\n 1203,\n 1205,\n 1208,\n 1209,\n 1211,\n 1212,\n 1213,\n 1217,\n 1220,\n 1222,\n 1223,\n 1224,\n 1228,\n 1230,\n 1231,\n 1232,\n 1234,\n 1236,\n 1238,\n 1240,\n 1241,\n 1243,\n 1247,\n 1249,\n 1250,\n 1251,\n 1253,\n 1255,\n 1256,\n 1257,\n 1258,\n 1259,\n 1262,\n 1263,\n 1264,\n 1266,\n 1269,\n 1272,\n 1274,\n 1276,\n 1277,\n 1278,\n 1279,\n 1280,\n 1281,\n 1285,\n 1288,\n 1293,\n 1296,\n 1300,\n 1303,\n 1306,\n 1308,\n 1309,\n 1315,\n 1316,\n 1323,\n 1324,\n 1325,\n 1326,\n 1327,\n 1329,\n 1332,\n 1333,\n 1334,\n 1335,\n 1336,\n 1339,\n 1346,\n 1349,\n 1350,\n 1351,\n 1352,\n 1353,\n 1355,\n 1356,\n 1357,\n 1359,\n 1360,\n 1362,\n 1364,\n 1365,\n 1366,\n 1367,\n 1368,\n 1369,\n 1374,\n 1376,\n 1377,\n 1378,\n 1383,\n 1384,\n 1385,\n 1386,\n 1387,\n 1390,\n 1391,\n 1392,\n 1393,\n 1395,\n 1402,\n 1403,\n 1407,\n 1409,\n 1411,\n 1414,\n 1417,\n 1419,\n 1421,\n 1422,\n 1425,\n 1427,\n 1429,\n 1431,\n 1433,\n 1436,\n 1437,\n 1438,\n 1441,\n 1442,\n 1447,\n 1449,\n 1452,\n 1455,\n 1456,\n 1459,\n 1460,\n 1465,\n 1468,\n 1469,\n 1470,\n 1476,\n 1479,\n 1481,\n 1485,\n 1487,\n 1488,\n 1490,\n 1491,\n 1493,\n 1495,\n 1498,\n 1501,\n 1502,\n 1503,\n 1506,\n 1515,\n 1520,\n 1521,\n 1523,\n 1534,\n 1536,\n 1542,\n 1543,\n 1544,\n 1545,\n 1547,\n 1549,\n 1554,\n 1556,\n 1557,\n 1560,\n 1562,\n 1564,\n 1565,\n 1572,\n 1580,\n 1581,\n 1582,\n 1583,\n 1584,\n 1586,\n 1588,\n 1589,\n 1591,\n 1593,\n 1594,\n 1596,\n 1598,\n 1601,\n 1608,\n 1610,\n 1618,\n 1620,\n 1623,\n 1624,\n 1625,\n 1626,\n 1630,\n 1633,\n 1636,\n 1637,\n 1641,\n 1643,\n 1644,\n 1649,\n 1652,\n 1663,\n 1665,\n 1666,\n 1668,\n 1669,\n 1670,\n 1672,\n 1674,\n 1676,\n 1677,\n 1681,\n 1686,\n 1687,\n 1692,\n 1693,\n 1695,\n 1696,\n 1697,\n 1701,\n 1702,\n 1704,\n 1706,\n 1709,\n 1710,\n 1711,\n 1715,\n 1717,\n 1718,\n 1719,\n 1720,\n 1721,\n 1724,\n 1727,\n 1732,\n 1733,\n 1735,\n 1738,\n 1740,\n 1741,\n 1742,\n 1743,\n 1744,\n 1749,\n 1750,\n 1754,\n 1755,\n 1759,\n 1762,\n 1763,\n 1764,\n 1765,\n 1767,\n 1768,\n 1769,\n 1772,\n 1777,\n 1780,\n 1783,\n 1784,\n 1785,\n 1786,\n 1789,\n 1790,\n 1791,\n 1792,\n 1794,\n 1795,\n 1796,\n 1797,\n 1800,\n 1801,\n 1802,\n 1804,\n 1805,\n 1810,\n 1811,\n 1820,\n 1821,\n 1822,\n 1825,\n 1829,\n 1830,\n 1834,\n 1837,\n 1839,\n 1841,\n 1843,\n 1849,\n 1850,\n 1853,\n 1856,\n 1859,\n 1860,\n 1862,\n 1863,\n 1864,\n 1865,\n 1867,\n 1872,\n 1874,\n 1875,\n 1877,\n 1880,\n 1885,\n 1887,\n 1888,\n 1890,\n 1893,\n 1895,\n 1896,\n 1900,\n 1904,\n 1908,\n 1912,\n 1915,\n 1919,\n 1920,\n 1924,\n 1926,\n 1927,\n 1928,\n 1929,\n 1934,\n 1935,\n 1949,\n 1950,\n 1952,\n 1953,\n 1961,\n 1962,\n 1964,\n 1969,\n 1971,\n 1977,\n 1979,\n 1980,\n 1981,\n 1986,\n 1988,\n 1990,\n 1991,\n 1996,\n 1999,\n 2003,\n 2004,\n 2005,\n 2011,\n 2012,\n 2014,\n 2018,\n 2019,\n 2022,\n 2027,\n 2029,\n 2031,\n 2033,\n 2036,\n 2038,\n 2046,\n 2050,\n 2051,\n 2053,\n 2054,\n 2063,\n 2065,\n 2069,\n 2080,\n 2081,\n 2082,\n 2083,\n 2087,\n 2088,\n 2091,\n 2094,\n 2097,\n 2098,\n 2102,\n 2103,\n 2104,\n 2109,\n 2110,\n 2112,\n 2114,\n 2115,\n 2116,\n 2121,\n 2123,\n 2125,\n 2127,\n 2128,\n 2129,\n 2132,\n 2134,\n 2137,\n 2138,\n 2140,\n 2141,\n 2142,\n 2143,\n 2144,\n 2145,\n 2150,\n 2153,\n 2157,\n 2161,\n 2165,\n 2168,\n 2169,\n 2172,\n 2173,\n 2180,\n 2182,\n 2184,\n 2196,\n 2197,\n 2198,\n 2199,\n 2201,\n 2202,\n 2204,\n 2205,\n 2210,\n 2211,\n 2213,\n 2220,\n 2221,\n 2223,\n 2224,\n 2225,\n 2227,\n 2230,\n 2232,\n 2233,\n 2234,\n 2236,\n 2244,\n 2253,\n 2254,\n 2255,\n 2257,\n 2259,\n 2267,\n 2268,\n 2271,\n 2274,\n 2275,\n 2276,\n 2277,\n 2280,\n 2281,\n 2282,\n 2283,\n 2285,\n 2287,\n 2288,\n 2294,\n 2297,\n 2298,\n 2299,\n 2303,\n 2304,\n 2305,\n 2306,\n 2308,\n 2310,\n ...]"
     },
     "execution_count": 38,
     "metadata": {},
     "output_type": "execute_result"
    }
   ],
   "source": [
    "MC.ll_steps"
   ],
   "metadata": {
    "collapsed": false,
    "ExecuteTime": {
     "start_time": "2023-07-17T12:08:48.084101Z",
     "end_time": "2023-07-17T12:08:48.115049Z"
    }
   }
  },
  {
   "cell_type": "code",
   "execution_count": 21,
   "outputs": [
    {
     "data": {
      "text/plain": "'socfb-Smith60-1d'"
     },
     "execution_count": 21,
     "metadata": {},
     "output_type": "execute_result"
    }
   ],
   "source": [
    "MC.graph_name"
   ],
   "metadata": {
    "collapsed": false,
    "ExecuteTime": {
     "start_time": "2023-07-17T11:58:37.629525Z",
     "end_time": "2023-07-17T11:58:37.643136Z"
    }
   }
  },
  {
   "cell_type": "code",
   "execution_count": 24,
   "outputs": [
    {
     "data": {
      "text/plain": "48"
     },
     "execution_count": 24,
     "metadata": {},
     "output_type": "execute_result"
    }
   ],
   "source": [
    "sys.getsizeof(MC)"
   ],
   "metadata": {
    "collapsed": false,
    "ExecuteTime": {
     "start_time": "2023-07-17T11:59:26.461393Z",
     "end_time": "2023-07-17T11:59:26.479682Z"
    }
   }
  },
  {
   "cell_type": "code",
   "execution_count": 26,
   "outputs": [
    {
     "data": {
      "text/plain": "96"
     },
     "execution_count": 26,
     "metadata": {},
     "output_type": "execute_result"
    }
   ],
   "source": [
    "len(MC.outs)"
   ],
   "metadata": {
    "collapsed": false,
    "ExecuteTime": {
     "start_time": "2023-07-17T12:00:24.005933Z",
     "end_time": "2023-07-17T12:00:24.015456Z"
    }
   }
  },
  {
   "cell_type": "code",
   "execution_count": 27,
   "outputs": [
    {
     "data": {
      "text/plain": "<SynchronizedArray wrapper for <multiprocessing.sharedctypes.c_double_Array_2970 object at 0x2ad2290ea440>>"
     },
     "execution_count": 27,
     "metadata": {},
     "output_type": "execute_result"
    }
   ],
   "source": [
    "MC.shared_pts"
   ],
   "metadata": {
    "collapsed": false,
    "ExecuteTime": {
     "start_time": "2023-07-17T12:00:40.060437Z",
     "end_time": "2023-07-17T12:00:40.078274Z"
    }
   }
  },
  {
   "cell_type": "code",
   "execution_count": 31,
   "outputs": [
    {
     "name": "stdout",
     "output_type": "stream",
     "text": [
      "{'A': 16,\n",
      " 'alpha': 24,\n",
      " 'cl_mixin_prob': 24,\n",
      " 'const': 32,\n",
      " 'const_in': 32,\n",
      " 'd': 28,\n",
      " 'expected_num_edges': 32,\n",
      " 'failure_prob': 24,\n",
      " 'g': 16,\n",
      " 'graph_name': 65,\n",
      " 'll': 32,\n",
      " 'll_steps': 12416,\n",
      " 'lls': 13752,\n",
      " 'n': 28,\n",
      " 'num_acceptances': 28,\n",
      " 'num_steps': 28,\n",
      " 'out_cl': 512,\n",
      " 'outs': 24740,\n",
      " 'percent_edges_captured_cl': 32,\n",
      " 'percent_edges_captureds': 12100,\n",
      " 'percent_fake_edges_wrong_cl': 32,\n",
      " 'pool': 28,\n",
      " 'probs_cl': 190432,\n",
      " 'pts': 256,\n",
      " 'pts_init': 256,\n",
      " 'pts_type': 1382,\n",
      " 'shared_pts': 1915,\n",
      " 'shared_pts_init': 1919,\n",
      " 'weights': 95152,\n",
      " 'weights_original': 95152}\n"
     ]
    }
   ],
   "source": [
    "import sys\n",
    "\n",
    "def get_deep_size(obj, seen=None):\n",
    "    \"\"\"Find the memory footprint of an object including the objects it refers to.\"\"\"\n",
    "    size = sys.getsizeof(obj)\n",
    "    if seen is None:\n",
    "        seen = set()\n",
    "    obj_id = id(obj)\n",
    "    if obj_id in seen:\n",
    "        return 0\n",
    "    # Mark as seen\n",
    "    seen.add(obj_id)\n",
    "    if isinstance(obj, dict):\n",
    "        size += sum([get_deep_size(v, seen) for v in obj.values()])\n",
    "        size += sum([get_deep_size(k, seen) for k in obj.keys()])\n",
    "    elif hasattr(obj, '__dict__'):\n",
    "        size += get_deep_size(obj.__dict__, seen)\n",
    "    elif hasattr(obj, '__iter__') and not isinstance(obj, (str, bytes, bytearray)):\n",
    "        size += sum([get_deep_size(i, seen) for i in obj])\n",
    "    return size\n",
    "\n",
    "\n",
    "def get_attribute_sizes(obj):\n",
    "    attributes = vars(obj)\n",
    "    attribute_sizes = {}\n",
    "    for attr_name, attr_value in attributes.items():\n",
    "        attribute_sizes[attr_name] = get_deep_size(attr_value)\n",
    "    return attribute_sizes\n",
    "import pprint\n",
    "pprint.pprint(get_attribute_sizes(MC))"
   ],
   "metadata": {
    "collapsed": false,
    "ExecuteTime": {
     "start_time": "2023-07-17T12:05:20.003938Z",
     "end_time": "2023-07-17T12:05:20.048627Z"
    }
   }
  },
  {
   "cell_type": "code",
   "execution_count": 29,
   "outputs": [
    {
     "data": {
      "text/plain": "<networkit.graph.Graph at 0x2ad2282f2ea0>"
     },
     "execution_count": 29,
     "metadata": {},
     "output_type": "execute_result"
    }
   ],
   "source": [
    "MC.g"
   ],
   "metadata": {
    "collapsed": false,
    "ExecuteTime": {
     "start_time": "2023-07-17T12:04:09.444320Z",
     "end_time": "2023-07-17T12:04:09.486306Z"
    }
   }
  },
  {
   "cell_type": "code",
   "execution_count": null,
   "outputs": [],
   "source": [],
   "metadata": {
    "collapsed": false
   }
  },
  {
   "cell_type": "code",
   "execution_count": null,
   "outputs": [],
   "source": [],
   "metadata": {
    "collapsed": false
   }
  },
  {
   "cell_type": "code",
   "execution_count": null,
   "outputs": [],
   "source": [
    "\n",
    "def trim_MC_lls(MC):\n",
    "    lls_new = []\n",
    "    ll_steps_new = []\n",
    "    for i, (ll, ll_steps) in enumerate(zip(MC.lls, MC.ll_steps)):\n",
    "        if i % 100 == 0:\n",
    "            lls_new.append(ll)\n",
    "            ll_steps_new.append(ll_steps)\n",
    "\n",
    "    if i % 100 != 0:\n",
    "        lls_new.append(ll)\n",
    "        ll_steps_new.append(ll_steps)\n",
    "\n",
    "    MC.lls = lls_new\n",
    "    MC.ll_steps = ll_steps_new\n",
    "\n",
    "trim_MC_lls(MC)"
   ],
   "metadata": {
    "collapsed": false
   }
  },
  {
   "cell_type": "code",
   "execution_count": 16,
   "outputs": [],
   "source": [
    "len(MC.lls)\n",
    "len(MC.ll_steps)"
   ],
   "metadata": {
    "collapsed": false
   }
  },
  {
   "cell_type": "code",
   "execution_count": 4,
   "outputs": [],
   "source": [
    "import os\n",
    "os.getcwd()\n",
    "os.environ['DATA_PATH'] = '../../FE_FB_copyweights_cube/'\n",
    "\n",
    "df = pd.read_csv(os.environ['DATA_PATH'] + '2-features/results.csv')\n",
    "\n",
    "df.Info = df.Info.apply(lambda temp: {key: eval(var) for key, var in [x.split('=') for x in temp.split('|')]} if (type(temp) is str and '|' in temp) else {\n",
    "    })\n",
    "df['alpha'] = df.Info.apply(lambda x: x['alpha'] if 'alpha' in x else 1/float(x['t']) if 't' in x else None)"
   ],
   "metadata": {
    "collapsed": false,
    "ExecuteTime": {
     "start_time": "2023-06-09T14:04:36.537903Z",
     "end_time": "2023-06-09T14:04:36.595881Z"
    }
   }
  },
  {
   "cell_type": "code",
   "execution_count": 5,
   "outputs": [
    {
     "data": {
      "text/plain": "                Graph                    Model  Nodes  \\\n89   socfb-American75  2d-copyweight-cube-girg   6338   \n79   socfb-American75  1d-copyweight-cube-girg   6356   \n101  socfb-American75  3d-copyweight-cube-girg   6341   \n21    socfb-Amherst41  2d-copyweight-cube-girg   2231   \n10    socfb-Amherst41  1d-copyweight-cube-girg   2228   \n..                ...                      ...    ...   \n15   socfb-Williams40  1d-copyweight-cube-girg   2785   \n28   socfb-Williams40  2d-copyweight-cube-girg   2777   \n140       socfb-Yale4  2d-copyweight-cube-girg   8506   \n151       socfb-Yale4  3d-copyweight-cube-girg   8519   \n133       socfb-Yale4  1d-copyweight-cube-girg   8545   \n\n                                                  Info  \n89   {'tau': 4.849201442177161, 'alpha': 1.05925190...  \n79   {'tau': 4.849201442177161, 'alpha': 1.07671601...  \n101  {'tau': 4.849201442177161, 'alpha': 1.05073058...  \n21   {'tau': 5.642546890477902, 'alpha': 1.08566581...  \n10   {'tau': 5.642546890477902, 'alpha': 1.11343075...  \n..                                                 ...  \n15   {'tau': 5.1655263550168184, 'alpha': 1.1181969...  \n28   {'tau': 5.1655263550168184, 'alpha': 1.0947656...  \n140  {'tau': 5.790413433544749, 'alpha': 1.04234527...  \n151  {'tau': 5.790413433544749, 'alpha': 1.02195608...  \n133  {'tau': 5.790413433544749, 'alpha': 1.04652113...  \n\n[268 rows x 4 columns]",
      "text/html": "<div>\n<style scoped>\n    .dataframe tbody tr th:only-of-type {\n        vertical-align: middle;\n    }\n\n    .dataframe tbody tr th {\n        vertical-align: top;\n    }\n\n    .dataframe thead th {\n        text-align: right;\n    }\n</style>\n<table border=\"1\" class=\"dataframe\">\n  <thead>\n    <tr style=\"text-align: right;\">\n      <th></th>\n      <th>Graph</th>\n      <th>Model</th>\n      <th>Nodes</th>\n      <th>Info</th>\n    </tr>\n  </thead>\n  <tbody>\n    <tr>\n      <th>89</th>\n      <td>socfb-American75</td>\n      <td>2d-copyweight-cube-girg</td>\n      <td>6338</td>\n      <td>{'tau': 4.849201442177161, 'alpha': 1.05925190...</td>\n    </tr>\n    <tr>\n      <th>79</th>\n      <td>socfb-American75</td>\n      <td>1d-copyweight-cube-girg</td>\n      <td>6356</td>\n      <td>{'tau': 4.849201442177161, 'alpha': 1.07671601...</td>\n    </tr>\n    <tr>\n      <th>101</th>\n      <td>socfb-American75</td>\n      <td>3d-copyweight-cube-girg</td>\n      <td>6341</td>\n      <td>{'tau': 4.849201442177161, 'alpha': 1.05073058...</td>\n    </tr>\n    <tr>\n      <th>21</th>\n      <td>socfb-Amherst41</td>\n      <td>2d-copyweight-cube-girg</td>\n      <td>2231</td>\n      <td>{'tau': 5.642546890477902, 'alpha': 1.08566581...</td>\n    </tr>\n    <tr>\n      <th>10</th>\n      <td>socfb-Amherst41</td>\n      <td>1d-copyweight-cube-girg</td>\n      <td>2228</td>\n      <td>{'tau': 5.642546890477902, 'alpha': 1.11343075...</td>\n    </tr>\n    <tr>\n      <th>...</th>\n      <td>...</td>\n      <td>...</td>\n      <td>...</td>\n      <td>...</td>\n    </tr>\n    <tr>\n      <th>15</th>\n      <td>socfb-Williams40</td>\n      <td>1d-copyweight-cube-girg</td>\n      <td>2785</td>\n      <td>{'tau': 5.1655263550168184, 'alpha': 1.1181969...</td>\n    </tr>\n    <tr>\n      <th>28</th>\n      <td>socfb-Williams40</td>\n      <td>2d-copyweight-cube-girg</td>\n      <td>2777</td>\n      <td>{'tau': 5.1655263550168184, 'alpha': 1.0947656...</td>\n    </tr>\n    <tr>\n      <th>140</th>\n      <td>socfb-Yale4</td>\n      <td>2d-copyweight-cube-girg</td>\n      <td>8506</td>\n      <td>{'tau': 5.790413433544749, 'alpha': 1.04234527...</td>\n    </tr>\n    <tr>\n      <th>151</th>\n      <td>socfb-Yale4</td>\n      <td>3d-copyweight-cube-girg</td>\n      <td>8519</td>\n      <td>{'tau': 5.790413433544749, 'alpha': 1.02195608...</td>\n    </tr>\n    <tr>\n      <th>133</th>\n      <td>socfb-Yale4</td>\n      <td>1d-copyweight-cube-girg</td>\n      <td>8545</td>\n      <td>{'tau': 5.790413433544749, 'alpha': 1.04652113...</td>\n    </tr>\n  </tbody>\n</table>\n<p>268 rows × 4 columns</p>\n</div>"
     },
     "execution_count": 5,
     "metadata": {},
     "output_type": "execute_result"
    }
   ],
   "source": [
    "df.sort_values('Graph').loc[:, ['Graph', 'Model', 'Nodes', 'Info']]"
   ],
   "metadata": {
    "collapsed": false,
    "ExecuteTime": {
     "start_time": "2023-06-09T14:04:36.604760Z",
     "end_time": "2023-06-09T14:04:36.658749Z"
    }
   }
  },
  {
   "cell_type": "code",
   "execution_count": 6,
   "outputs": [
    {
     "name": "stdout",
     "output_type": "stream",
     "text": [
      "1.0856658184902461 0.07032075311965111\n"
     ]
    }
   ],
   "source": [
    "df.iloc[21][['Graph', 'Model', 'Nodes', 'Info']]\n",
    "df.iloc[21].Info\n",
    "alpha, const = df.iloc[21].Info['alpha'], df.iloc[21].Info['const']\n",
    "print(alpha, const)"
   ],
   "metadata": {
    "collapsed": false,
    "ExecuteTime": {
     "start_time": "2023-06-09T14:04:36.658533Z",
     "end_time": "2023-06-09T14:04:36.658872Z"
    }
   }
  },
  {
   "cell_type": "code",
   "execution_count": 7,
   "outputs": [
    {
     "name": "stdout",
     "output_type": "stream",
     "text": [
      "Network Properties:\n",
      "nodes, edges\t\t\t2235, 90954\n",
      "directed?\t\t\tFalse\n",
      "weighted?\t\t\tFalse\n",
      "isolated nodes\t\t\t0\n",
      "self-loops\t\t\t0\n",
      "density\t\t\t\t0.036433\n",
      "clustering coefficient\t\t0.310386\n",
      "min/max/avg degree\t\t1, 467, 81.390604\n",
      "degree assortativity\t\t0.058704\n",
      "number of connected components\t1\n",
      "size of largest component\t2235 (100.00 %)\n"
     ]
    }
   ],
   "source": [
    "gd = list(filter(lambda x: x['Name'] == 'socfb-Amherst41', do_feature_extract.graph_dicts))[0]\n",
    "in_path = gd['FullPath']\n",
    "in_path\n",
    "name = gd['Name']\n",
    "g = networkit.readGraph(in_path, networkit.Format.EdgeListSpaceOne)\n",
    "g = utils.get_largest_component(g)\n",
    "nk.overview(g)\n",
    "n = g.numberOfNodes()"
   ],
   "metadata": {
    "collapsed": false,
    "ExecuteTime": {
     "start_time": "2023-06-09T14:04:41.434628Z",
     "end_time": "2023-06-09T14:04:41.513657Z"
    }
   }
  },
  {
   "cell_type": "code",
   "execution_count": 1,
   "outputs": [
    {
     "ename": "NameError",
     "evalue": "name 'name' is not defined",
     "output_type": "error",
     "traceback": [
      "\u001B[0;31m---------------------------------------------------------------------------\u001B[0m",
      "\u001B[0;31mNameError\u001B[0m                                 Traceback (most recent call last)",
      "Cell \u001B[0;32mIn[1], line 4\u001B[0m\n\u001B[1;32m      1\u001B[0m \u001B[38;5;28;01mimport\u001B[39;00m \u001B[38;5;21;01mpickle\u001B[39;00m\n\u001B[1;32m      3\u001B[0m pickle_path \u001B[38;5;241m=\u001B[39m \u001B[38;5;124m'\u001B[39m\u001B[38;5;124m../../MCMC_run_failure_probs_0p3/pickles/\u001B[39m\u001B[38;5;124m'\u001B[39m\n\u001B[0;32m----> 4\u001B[0m \u001B[38;5;28;01mwith\u001B[39;00m \u001B[38;5;28mopen\u001B[39m(pickle_path \u001B[38;5;241m+\u001B[39m \u001B[43mname\u001B[49m \u001B[38;5;241m+\u001B[39m \u001B[38;5;124m'\u001B[39m\u001B[38;5;124m-1d\u001B[39m\u001B[38;5;124m'\u001B[39m \u001B[38;5;241m+\u001B[39m \u001B[38;5;124m'\u001B[39m\u001B[38;5;124m.pkl\u001B[39m\u001B[38;5;124m'\u001B[39m, \u001B[38;5;124m'\u001B[39m\u001B[38;5;124mrb\u001B[39m\u001B[38;5;124m'\u001B[39m) \u001B[38;5;28;01mas\u001B[39;00m file:\n\u001B[1;32m      5\u001B[0m     MC \u001B[38;5;241m=\u001B[39m pickle\u001B[38;5;241m.\u001B[39mload(file)\n",
      "\u001B[0;31mNameError\u001B[0m: name 'name' is not defined"
     ]
    }
   ],
   "source": [
    "import pickle\n",
    "\n",
    "pickle_path = '../../MCMC_run_failure_probs_0p3/pickles/'\n",
    "fns =\n",
    "with open(pickle_path + name + '-1d' + '.pkl', 'rb') as file:\n",
    "    MC = pickle.load(file)"
   ],
   "metadata": {
    "collapsed": false,
    "ExecuteTime": {
     "start_time": "2023-06-09T14:06:17.670079Z",
     "end_time": "2023-06-09T14:06:17.883160Z"
    }
   }
  },
  {
   "cell_type": "code",
   "execution_count": 18,
   "outputs": [],
   "source": [
    "foos = os.listdir(pickle_path)"
   ],
   "metadata": {
    "collapsed": false,
    "ExecuteTime": {
     "start_time": "2023-06-09T14:13:49.012985Z",
     "end_time": "2023-06-09T14:13:49.097663Z"
    }
   }
  },
  {
   "cell_type": "code",
   "execution_count": 24,
   "outputs": [
    {
     "data": {
      "text/plain": "'socfb-USFCA72'"
     },
     "execution_count": 24,
     "metadata": {},
     "output_type": "execute_result"
    }
   ],
   "source": [
    "foos[0][:-foos[0][::-1].index('-')-1]"
   ],
   "metadata": {
    "collapsed": false,
    "ExecuteTime": {
     "start_time": "2023-06-09T14:14:29.506401Z",
     "end_time": "2023-06-09T14:14:29.554380Z"
    }
   }
  },
  {
   "cell_type": "code",
   "execution_count": 28,
   "outputs": [
    {
     "data": {
      "text/plain": "'1'"
     },
     "execution_count": 28,
     "metadata": {},
     "output_type": "execute_result"
    }
   ],
   "source": [
    "fn =foos[0]\n",
    "fn[:-fn[::-1].index('-')-1]\n",
    "fn[-fn[::-1].index('-')]"
   ],
   "metadata": {
    "collapsed": false,
    "ExecuteTime": {
     "start_time": "2023-06-09T14:16:09.898572Z",
     "end_time": "2023-06-09T14:16:09.926361Z"
    }
   }
  },
  {
   "cell_type": "code",
   "execution_count": 14,
   "outputs": [
    {
     "data": {
      "text/plain": "<Figure size 640x480 with 2 Axes>",
      "image/png": "[encoded data removed]"
     },
     "metadata": {},
     "output_type": "display_data"
    }
   ],
   "source": [
    "fig, ax1 = plt.subplots()\n",
    "ax2 = ax1.twinx()\n",
    "\n",
    "MC.plot_ll(MC.num_steps, CM=True)"
   ],
   "metadata": {
    "collapsed": false,
    "ExecuteTime": {
     "start_time": "2023-06-09T14:08:17.834538Z",
     "end_time": "2023-06-09T14:08:18.632708Z"
    }
   }
  },
  {
   "cell_type": "code",
   "execution_count": 15,
   "outputs": [
    {
     "data": {
      "text/plain": "<IPython.core.display.Javascript object>",
      "application/javascript": "/* Put everything inside the global mpl namespace */\n/* global mpl */\nwindow.mpl = {};\n\nmpl.get_websocket_type = function () {\n    if (typeof WebSocket !== 'undefined') {\n        return WebSocket;\n    } else if (typeof MozWebSocket !== 'undefined') {\n        return MozWebSocket;\n    } else {\n        alert(\n            'Your browser does not have WebSocket support. ' +\n                'Please try Chrome, Safari or Firefox ≥ 6. ' +\n                'Firefox 4 and 5 are also supported but you ' +\n                'have to enable WebSockets in about:config.'\n        );\n    }\n};\n\nmpl.figure = function (figure_id, websocket, ondownload, parent_element) {\n    this.id = figure_id;\n\n    this.ws = websocket;\n\n    this.supports_binary = this.ws.binaryType !== undefined;\n\n    if (!this.supports_binary) {\n        var warnings = document.getElementById('mpl-warnings');\n        if (warnings) {\n            warnings.style.display = 'block';\n            warnings.textContent =\n                'This browser does not support binary websocket messages. ' +\n                'Performance may be slow.';\n        }\n    }\n\n    this.imageObj = new Image();\n\n    this.context = undefined;\n    this.message = undefined;\n    this.canvas = undefined;\n    this.rubberband_canvas = undefined;\n    this.rubberband_context = undefined;\n    this.format_dropdown = undefined;\n\n    this.image_mode = 'full';\n\n    this.root = document.createElement('div');\n    this.root.setAttribute('style', 'display: inline-block');\n    this._root_extra_style(this.root);\n\n    parent_element.appendChild(this.root);\n\n    this._init_header(this);\n    this._init_canvas(this);\n    this._init_toolbar(this);\n\n    var fig = this;\n\n    this.waiting = false;\n\n    this.ws.onopen = function () {\n        fig.send_message('supports_binary', { value: fig.supports_binary });\n        fig.send_message('send_image_mode', {});\n        if (fig.ratio !== 1) {\n            fig.send_message('set_device_pixel_ratio', {\n                device_pixel_ratio: fig.ratio,\n            });\n        }\n        fig.send_message('refresh', {});\n    };\n\n    this.imageObj.onload = function () {\n        if (fig.image_mode === 'full') {\n            // Full images could contain transparency (where diff images\n            // almost always do), so we need to clear the canvas so that\n            // there is no ghosting.\n            fig.context.clearRect(0, 0, fig.canvas.width, fig.canvas.height);\n        }\n        fig.context.drawImage(fig.imageObj, 0, 0);\n    };\n\n    this.imageObj.onunload = function () {\n        fig.ws.close();\n    };\n\n    this.ws.onmessage = this._make_on_message_function(this);\n\n    this.ondownload = ondownload;\n};\n\nmpl.figure.prototype._init_header = function () {\n    var titlebar = document.createElement('div');\n    titlebar.classList =\n        'ui-dialog-titlebar ui-widget-header ui-corner-all ui-helper-clearfix';\n    var titletext = document.createElement('div');\n    titletext.classList = 'ui-dialog-title';\n    titletext.setAttribute(\n        'style',\n        'width: 100%; text-align: center; padding: 3px;'\n    );\n    titlebar.appendChild(titletext);\n    this.root.appendChild(titlebar);\n    this.header = titletext;\n};\n\nmpl.figure.prototype._canvas_extra_style = function (_canvas_div) {};\n\nmpl.figure.prototype._root_extra_style = function (_canvas_div) {};\n\nmpl.figure.prototype._init_canvas = function () {\n    var fig = this;\n\n    var canvas_div = (this.canvas_div = document.createElement('div'));\n    canvas_div.setAttribute(\n        'style',\n        'border: 1px solid #ddd;' +\n            'box-sizing: content-box;' +\n            'clear: both;' +\n            'min-height: 1px;' +\n            'min-width: 1px;' +\n            'outline: 0;' +\n            'overflow: hidden;' +\n            'position: relative;' +\n            'resize: both;'\n    );\n\n    function on_keyboard_event_closure(name) {\n        return function (event) {\n            return fig.key_event(event, name);\n        };\n    }\n\n    canvas_div.addEventListener(\n        'keydown',\n        on_keyboard_event_closure('key_press')\n    );\n    canvas_div.addEventListener(\n        'keyup',\n        on_keyboard_event_closure('key_release')\n    );\n\n    this._canvas_extra_style(canvas_div);\n    this.root.appendChild(canvas_div);\n\n    var canvas = (this.canvas = document.createElement('canvas'));\n    canvas.classList.add('mpl-canvas');\n    canvas.setAttribute('style', 'box-sizing: content-box;');\n\n    this.context = canvas.getContext('2d');\n\n    var backingStore =\n        this.context.backingStorePixelRatio ||\n        this.context.webkitBackingStorePixelRatio ||\n        this.context.mozBackingStorePixelRatio ||\n        this.context.msBackingStorePixelRatio ||\n        this.context.oBackingStorePixelRatio ||\n        this.context.backingStorePixelRatio ||\n        1;\n\n    this.ratio = (window.devicePixelRatio || 1) / backingStore;\n\n    var rubberband_canvas = (this.rubberband_canvas = document.createElement(\n        'canvas'\n    ));\n    rubberband_canvas.setAttribute(\n        'style',\n        'box-sizing: content-box; position: absolute; left: 0; top: 0; z-index: 1;'\n    );\n\n    // Apply a ponyfill if ResizeObserver is not implemented by browser.\n    if (this.ResizeObserver === undefined) {\n        if (window.ResizeObserver !== undefined) {\n            this.ResizeObserver = window.ResizeObserver;\n        } else {\n            var obs = _JSXTOOLS_RESIZE_OBSERVER({});\n            this.ResizeObserver = obs.ResizeObserver;\n        }\n    }\n\n    this.resizeObserverInstance = new this.ResizeObserver(function (entries) {\n        var nentries = entries.length;\n        for (var i = 0; i < nentries; i++) {\n            var entry = entries[i];\n            var width, height;\n            if (entry.contentBoxSize) {\n                if (entry.contentBoxSize instanceof Array) {\n                    // Chrome 84 implements new version of spec.\n                    width = entry.contentBoxSize[0].inlineSize;\n                    height = entry.contentBoxSize[0].blockSize;\n                } else {\n                    // Firefox implements old version of spec.\n                    width = entry.contentBoxSize.inlineSize;\n                    height = entry.contentBoxSize.blockSize;\n                }\n            } else {\n                // Chrome <84 implements even older version of spec.\n                width = entry.contentRect.width;\n                height = entry.contentRect.height;\n            }\n\n            // Keep the size of the canvas and rubber band canvas in sync with\n            // the canvas container.\n            if (entry.devicePixelContentBoxSize) {\n                // Chrome 84 implements new version of spec.\n                canvas.setAttribute(\n                    'width',\n                    entry.devicePixelContentBoxSize[0].inlineSize\n                );\n                canvas.setAttribute(\n                    'height',\n                    entry.devicePixelContentBoxSize[0].blockSize\n                );\n            } else {\n                canvas.setAttribute('width', width * fig.ratio);\n                canvas.setAttribute('height', height * fig.ratio);\n            }\n            canvas.setAttribute(\n                'style',\n                'width: ' + width + 'px; height: ' + height + 'px;'\n            );\n\n            rubberband_canvas.setAttribute('width', width);\n            rubberband_canvas.setAttribute('height', height);\n\n            // And update the size in Python. We ignore the initial 0/0 size\n            // that occurs as the element is placed into the DOM, which should\n            // otherwise not happen due to the minimum size styling.\n            if (fig.ws.readyState == 1 && width != 0 && height != 0) {\n                fig.request_resize(width, height);\n            }\n        }\n    });\n    this.resizeObserverInstance.observe(canvas_div);\n\n    function on_mouse_event_closure(name) {\n        return function (event) {\n            return fig.mouse_event(event, name);\n        };\n    }\n\n    rubberband_canvas.addEventListener(\n        'mousedown',\n        on_mouse_event_closure('button_press')\n    );\n    rubberband_canvas.addEventListener(\n        'mouseup',\n        on_mouse_event_closure('button_release')\n    );\n    rubberband_canvas.addEventListener(\n        'dblclick',\n        on_mouse_event_closure('dblclick')\n    );\n    // Throttle sequential mouse events to 1 every 20ms.\n    rubberband_canvas.addEventListener(\n        'mousemove',\n        on_mouse_event_closure('motion_notify')\n    );\n\n    rubberband_canvas.addEventListener(\n        'mouseenter',\n        on_mouse_event_closure('figure_enter')\n    );\n    rubberband_canvas.addEventListener(\n        'mouseleave',\n        on_mouse_event_closure('figure_leave')\n    );\n\n    canvas_div.addEventListener('wheel', function (event) {\n        if (event.deltaY < 0) {\n            event.step = 1;\n        } else {\n            event.step = -1;\n        }\n        on_mouse_event_closure('scroll')(event);\n    });\n\n    canvas_div.appendChild(canvas);\n    canvas_div.appendChild(rubberband_canvas);\n\n    this.rubberband_context = rubberband_canvas.getContext('2d');\n    this.rubberband_context.strokeStyle = '#000000';\n\n    this._resize_canvas = function (width, height, forward) {\n        if (forward) {\n            canvas_div.style.width = width + 'px';\n            canvas_div.style.height = height + 'px';\n        }\n    };\n\n    // Disable right mouse context menu.\n    this.rubberband_canvas.addEventListener('contextmenu', function (_e) {\n        event.preventDefault();\n        return false;\n    });\n\n    function set_focus() {\n        canvas.focus();\n        canvas_div.focus();\n    }\n\n    window.setTimeout(set_focus, 100);\n};\n\nmpl.figure.prototype._init_toolbar = function () {\n    var fig = this;\n\n    var toolbar = document.createElement('div');\n    toolbar.classList = 'mpl-toolbar';\n    this.root.appendChild(toolbar);\n\n    function on_click_closure(name) {\n        return function (_event) {\n            return fig.toolbar_button_onclick(name);\n        };\n    }\n\n    function on_mouseover_closure(tooltip) {\n        return function (event) {\n            if (!event.currentTarget.disabled) {\n                return fig.toolbar_button_onmouseover(tooltip);\n            }\n        };\n    }\n\n    fig.buttons = {};\n    var buttonGroup = document.createElement('div');\n    buttonGroup.classList = 'mpl-button-group';\n    for (var toolbar_ind in mpl.toolbar_items) {\n        var name = mpl.toolbar_items[toolbar_ind][0];\n        var tooltip = mpl.toolbar_items[toolbar_ind][1];\n        var image = mpl.toolbar_items[toolbar_ind][2];\n        var method_name = mpl.toolbar_items[toolbar_ind][3];\n\n        if (!name) {\n            /* Instead of a spacer, we start a new button group. */\n            if (buttonGroup.hasChildNodes()) {\n                toolbar.appendChild(buttonGroup);\n            }\n            buttonGroup = document.createElement('div');\n            buttonGroup.classList = 'mpl-button-group';\n            continue;\n        }\n\n        var button = (fig.buttons[name] = document.createElement('button'));\n        button.classList = 'mpl-widget';\n        button.setAttribute('role', 'button');\n        button.setAttribute('aria-disabled', 'false');\n        button.addEventListener('click', on_click_closure(method_name));\n        button.addEventListener('mouseover', on_mouseover_closure(tooltip));\n\n        var icon_img = document.createElement('img');\n        icon_img.src = '_images/' + image + '.png';\n        icon_img.srcset = '_images/' + image + '_large.png 2x';\n        icon_img.alt = tooltip;\n        button.appendChild(icon_img);\n\n        buttonGroup.appendChild(button);\n    }\n\n    if (buttonGroup.hasChildNodes()) {\n        toolbar.appendChild(buttonGroup);\n    }\n\n    var fmt_picker = document.createElement('select');\n    fmt_picker.classList = 'mpl-widget';\n    toolbar.appendChild(fmt_picker);\n    this.format_dropdown = fmt_picker;\n\n    for (var ind in mpl.extensions) {\n        var fmt = mpl.extensions[ind];\n        var option = document.createElement('option');\n        option.selected = fmt === mpl.default_extension;\n        option.innerHTML = fmt;\n        fmt_picker.appendChild(option);\n    }\n\n    var status_bar = document.createElement('span');\n    status_bar.classList = 'mpl-message';\n    toolbar.appendChild(status_bar);\n    this.message = status_bar;\n};\n\nmpl.figure.prototype.request_resize = function (x_pixels, y_pixels) {\n    // Request matplotlib to resize the figure. Matplotlib will then trigger a resize in the client,\n    // which will in turn request a refresh of the image.\n    this.send_message('resize', { width: x_pixels, height: y_pixels });\n};\n\nmpl.figure.prototype.send_message = function (type, properties) {\n    properties['type'] = type;\n    properties['figure_id'] = this.id;\n    this.ws.send(JSON.stringify(properties));\n};\n\nmpl.figure.prototype.send_draw_message = function () {\n    if (!this.waiting) {\n        this.waiting = true;\n        this.ws.send(JSON.stringify({ type: 'draw', figure_id: this.id }));\n    }\n};\n\nmpl.figure.prototype.handle_save = function (fig, _msg) {\n    var format_dropdown = fig.format_dropdown;\n    var format = format_dropdown.options[format_dropdown.selectedIndex].value;\n    fig.ondownload(fig, format);\n};\n\nmpl.figure.prototype.handle_resize = function (fig, msg) {\n    var size = msg['size'];\n    if (size[0] !== fig.canvas.width || size[1] !== fig.canvas.height) {\n        fig._resize_canvas(size[0], size[1], msg['forward']);\n        fig.send_message('refresh', {});\n    }\n};\n\nmpl.figure.prototype.handle_rubberband = function (fig, msg) {\n    var x0 = msg['x0'] / fig.ratio;\n    var y0 = (fig.canvas.height - msg['y0']) / fig.ratio;\n    var x1 = msg['x1'] / fig.ratio;\n    var y1 = (fig.canvas.height - msg['y1']) / fig.ratio;\n    x0 = Math.floor(x0) + 0.5;\n    y0 = Math.floor(y0) + 0.5;\n    x1 = Math.floor(x1) + 0.5;\n    y1 = Math.floor(y1) + 0.5;\n    var min_x = Math.min(x0, x1);\n    var min_y = Math.min(y0, y1);\n    var width = Math.abs(x1 - x0);\n    var height = Math.abs(y1 - y0);\n\n    fig.rubberband_context.clearRect(\n        0,\n        0,\n        fig.canvas.width / fig.ratio,\n        fig.canvas.height / fig.ratio\n    );\n\n    fig.rubberband_context.strokeRect(min_x, min_y, width, height);\n};\n\nmpl.figure.prototype.handle_figure_label = function (fig, msg) {\n    // Updates the figure title.\n    fig.header.textContent = msg['label'];\n};\n\nmpl.figure.prototype.handle_cursor = function (fig, msg) {\n    fig.rubberband_canvas.style.cursor = msg['cursor'];\n};\n\nmpl.figure.prototype.handle_message = function (fig, msg) {\n    fig.message.textContent = msg['message'];\n};\n\nmpl.figure.prototype.handle_draw = function (fig, _msg) {\n    // Request the server to send over a new figure.\n    fig.send_draw_message();\n};\n\nmpl.figure.prototype.handle_image_mode = function (fig, msg) {\n    fig.image_mode = msg['mode'];\n};\n\nmpl.figure.prototype.handle_history_buttons = function (fig, msg) {\n    for (var key in msg) {\n        if (!(key in fig.buttons)) {\n            continue;\n        }\n        fig.buttons[key].disabled = !msg[key];\n        fig.buttons[key].setAttribute('aria-disabled', !msg[key]);\n    }\n};\n\nmpl.figure.prototype.handle_navigate_mode = function (fig, msg) {\n    if (msg['mode'] === 'PAN') {\n        fig.buttons['Pan'].classList.add('active');\n        fig.buttons['Zoom'].classList.remove('active');\n    } else if (msg['mode'] === 'ZOOM') {\n        fig.buttons['Pan'].classList.remove('active');\n        fig.buttons['Zoom'].classList.add('active');\n    } else {\n        fig.buttons['Pan'].classList.remove('active');\n        fig.buttons['Zoom'].classList.remove('active');\n    }\n};\n\nmpl.figure.prototype.updated_canvas_event = function () {\n    // Called whenever the canvas gets updated.\n    this.send_message('ack', {});\n};\n\n// A function to construct a web socket function for onmessage handling.\n// Called in the figure constructor.\nmpl.figure.prototype._make_on_message_function = function (fig) {\n    return function socket_on_message(evt) {\n        if (evt.data instanceof Blob) {\n            var img = evt.data;\n            if (img.type !== 'image/png') {\n                /* FIXME: We get \"Resource interpreted as Image but\n                 * transferred with MIME type text/plain:\" errors on\n                 * Chrome.  But how to set the MIME type?  It doesn't seem\n                 * to be part of the websocket stream */\n                img.type = 'image/png';\n            }\n\n            /* Free the memory for the previous frames */\n            if (fig.imageObj.src) {\n                (window.URL || window.webkitURL).revokeObjectURL(\n                    fig.imageObj.src\n                );\n            }\n\n            fig.imageObj.src = (window.URL || window.webkitURL).createObjectURL(\n                img\n            );\n            fig.updated_canvas_event();\n            fig.waiting = false;\n            return;\n        } else if (\n            typeof evt.data === 'string' &&\n            evt.data.slice(0, 21) === 'data:image/png;base64'\n        ) {\n            fig.imageObj.src = evt.data;\n            fig.updated_canvas_event();\n            fig.waiting = false;\n            return;\n        }\n\n        var msg = JSON.parse(evt.data);\n        var msg_type = msg['type'];\n\n        // Call the  \"handle_{type}\" callback, which takes\n        // the figure and JSON message as its only arguments.\n        try {\n            var callback = fig['handle_' + msg_type];\n        } catch (e) {\n            console.log(\n                \"No handler for the '\" + msg_type + \"' message type: \",\n                msg\n            );\n            return;\n        }\n\n        if (callback) {\n            try {\n                // console.log(\"Handling '\" + msg_type + \"' message: \", msg);\n                callback(fig, msg);\n            } catch (e) {\n                console.log(\n                    \"Exception inside the 'handler_\" + msg_type + \"' callback:\",\n                    e,\n                    e.stack,\n                    msg\n                );\n            }\n        }\n    };\n};\n\n// from https://stackoverflow.com/questions/1114465/getting-mouse-location-in-canvas\nmpl.findpos = function (e) {\n    //this section is from http://www.quirksmode.org/js/events_properties.html\n    var targ;\n    if (!e) {\n        e = window.event;\n    }\n    if (e.target) {\n        targ = e.target;\n    } else if (e.srcElement) {\n        targ = e.srcElement;\n    }\n    if (targ.nodeType === 3) {\n        // defeat Safari bug\n        targ = targ.parentNode;\n    }\n\n    // pageX,Y are the mouse positions relative to the document\n    var boundingRect = targ.getBoundingClientRect();\n    var x = e.pageX - (boundingRect.left + document.body.scrollLeft);\n    var y = e.pageY - (boundingRect.top + document.body.scrollTop);\n\n    return { x: x, y: y };\n};\n\n/*\n * return a copy of an object with only non-object keys\n * we need this to avoid circular references\n * https://stackoverflow.com/a/24161582/3208463\n */\nfunction simpleKeys(original) {\n    return Object.keys(original).reduce(function (obj, key) {\n        if (typeof original[key] !== 'object') {\n            obj[key] = original[key];\n        }\n        return obj;\n    }, {});\n}\n\nmpl.figure.prototype.mouse_event = function (event, name) {\n    var canvas_pos = mpl.findpos(event);\n\n    if (name === 'button_press') {\n        this.canvas.focus();\n        this.canvas_div.focus();\n    }\n\n    var x = canvas_pos.x * this.ratio;\n    var y = canvas_pos.y * this.ratio;\n\n    this.send_message(name, {\n        x: x,\n        y: y,\n        button: event.button,\n        step: event.step,\n        guiEvent: simpleKeys(event),\n    });\n\n    /* This prevents the web browser from automatically changing to\n     * the text insertion cursor when the button is pressed.  We want\n     * to control all of the cursor setting manually through the\n     * 'cursor' event from matplotlib */\n    event.preventDefault();\n    return false;\n};\n\nmpl.figure.prototype._key_event_extra = function (_event, _name) {\n    // Handle any extra behaviour associated with a key event\n};\n\nmpl.figure.prototype.key_event = function (event, name) {\n    // Prevent repeat events\n    if (name === 'key_press') {\n        if (event.key === this._key) {\n            return;\n        } else {\n            this._key = event.key;\n        }\n    }\n    if (name === 'key_release') {\n        this._key = null;\n    }\n\n    var value = '';\n    if (event.ctrlKey && event.key !== 'Control') {\n        value += 'ctrl+';\n    }\n    else if (event.altKey && event.key !== 'Alt') {\n        value += 'alt+';\n    }\n    else if (event.shiftKey && event.key !== 'Shift') {\n        value += 'shift+';\n    }\n\n    value += 'k' + event.key;\n\n    this._key_event_extra(event, name);\n\n    this.send_message(name, { key: value, guiEvent: simpleKeys(event) });\n    return false;\n};\n\nmpl.figure.prototype.toolbar_button_onclick = function (name) {\n    if (name === 'download') {\n        this.handle_save(this, null);\n    } else {\n        this.send_message('toolbar_button', { name: name });\n    }\n};\n\nmpl.figure.prototype.toolbar_button_onmouseover = function (tooltip) {\n    this.message.textContent = tooltip;\n};\n\n///////////////// REMAINING CONTENT GENERATED BY embed_js.py /////////////////\n// prettier-ignore\nvar _JSXTOOLS_RESIZE_OBSERVER=function(A){var t,i=new WeakMap,n=new WeakMap,a=new WeakMap,r=new WeakMap,o=new Set;function s(e){if(!(this instanceof s))throw new TypeError(\"Constructor requires 'new' operator\");i.set(this,e)}function h(){throw new TypeError(\"Function is not a constructor\")}function c(e,t,i,n){e=0 in arguments?Number(arguments[0]):0,t=1 in arguments?Number(arguments[1]):0,i=2 in arguments?Number(arguments[2]):0,n=3 in arguments?Number(arguments[3]):0,this.right=(this.x=this.left=e)+(this.width=i),this.bottom=(this.y=this.top=t)+(this.height=n),Object.freeze(this)}function d(){t=requestAnimationFrame(d);var s=new WeakMap,p=new Set;o.forEach((function(t){r.get(t).forEach((function(i){var r=t instanceof window.SVGElement,o=a.get(t),d=r?0:parseFloat(o.paddingTop),f=r?0:parseFloat(o.paddingRight),l=r?0:parseFloat(o.paddingBottom),u=r?0:parseFloat(o.paddingLeft),g=r?0:parseFloat(o.borderTopWidth),m=r?0:parseFloat(o.borderRightWidth),w=r?0:parseFloat(o.borderBottomWidth),b=u+f,F=d+l,v=(r?0:parseFloat(o.borderLeftWidth))+m,W=g+w,y=r?0:t.offsetHeight-W-t.clientHeight,E=r?0:t.offsetWidth-v-t.clientWidth,R=b+v,z=F+W,M=r?t.width:parseFloat(o.width)-R-E,O=r?t.height:parseFloat(o.height)-z-y;if(n.has(t)){var k=n.get(t);if(k[0]===M&&k[1]===O)return}n.set(t,[M,O]);var S=Object.create(h.prototype);S.target=t,S.contentRect=new c(u,d,M,O),s.has(i)||(s.set(i,[]),p.add(i)),s.get(i).push(S)}))})),p.forEach((function(e){i.get(e).call(e,s.get(e),e)}))}return s.prototype.observe=function(i){if(i instanceof window.Element){r.has(i)||(r.set(i,new Set),o.add(i),a.set(i,window.getComputedStyle(i)));var n=r.get(i);n.has(this)||n.add(this),cancelAnimationFrame(t),t=requestAnimationFrame(d)}},s.prototype.unobserve=function(i){if(i instanceof window.Element&&r.has(i)){var n=r.get(i);n.has(this)&&(n.delete(this),n.size||(r.delete(i),o.delete(i))),n.size||r.delete(i),o.size||cancelAnimationFrame(t)}},A.DOMRectReadOnly=c,A.ResizeObserver=s,A.ResizeObserverEntry=h,A}; // eslint-disable-line\nmpl.toolbar_items = [[\"Home\", \"Reset original view\", \"fa fa-home\", \"home\"], [\"Back\", \"Back to previous view\", \"fa fa-arrow-left\", \"back\"], [\"Forward\", \"Forward to next view\", \"fa fa-arrow-right\", \"forward\"], [\"\", \"\", \"\", \"\"], [\"Pan\", \"Left button pans, Right button zooms\\nx/y fixes axis, CTRL fixes aspect\", \"fa fa-arrows\", \"pan\"], [\"Zoom\", \"Zoom to rectangle\\nx/y fixes axis\", \"fa fa-square-o\", \"zoom\"], [\"\", \"\", \"\", \"\"], [\"Download\", \"Download plot\", \"fa fa-floppy-o\", \"download\"]];\n\nmpl.extensions = [\"eps\", \"jpeg\", \"pgf\", \"pdf\", \"png\", \"ps\", \"raw\", \"svg\", \"tif\", \"webp\"];\n\nmpl.default_extension = \"png\";/* global mpl */\n\nvar comm_websocket_adapter = function (comm) {\n    // Create a \"websocket\"-like object which calls the given IPython comm\n    // object with the appropriate methods. Currently this is a non binary\n    // socket, so there is still some room for performance tuning.\n    var ws = {};\n\n    ws.binaryType = comm.kernel.ws.binaryType;\n    ws.readyState = comm.kernel.ws.readyState;\n    function updateReadyState(_event) {\n        if (comm.kernel.ws) {\n            ws.readyState = comm.kernel.ws.readyState;\n        } else {\n            ws.readyState = 3; // Closed state.\n        }\n    }\n    comm.kernel.ws.addEventListener('open', updateReadyState);\n    comm.kernel.ws.addEventListener('close', updateReadyState);\n    comm.kernel.ws.addEventListener('error', updateReadyState);\n\n    ws.close = function () {\n        comm.close();\n    };\n    ws.send = function (m) {\n        //console.log('sending', m);\n        comm.send(m);\n    };\n    // Register the callback with on_msg.\n    comm.on_msg(function (msg) {\n        //console.log('receiving', msg['content']['data'], msg);\n        var data = msg['content']['data'];\n        if (data['blob'] !== undefined) {\n            data = {\n                data: new Blob(msg['buffers'], { type: data['blob'] }),\n            };\n        }\n        // Pass the mpl event to the overridden (by mpl) onmessage function.\n        ws.onmessage(data);\n    });\n    return ws;\n};\n\nmpl.mpl_figure_comm = function (comm, msg) {\n    // This is the function which gets called when the mpl process\n    // starts-up an IPython Comm through the \"matplotlib\" channel.\n\n    var id = msg.content.data.id;\n    // Get hold of the div created by the display call when the Comm\n    // socket was opened in Python.\n    var element = document.getElementById(id);\n    var ws_proxy = comm_websocket_adapter(comm);\n\n    function ondownload(figure, _format) {\n        window.open(figure.canvas.toDataURL());\n    }\n\n    var fig = new mpl.figure(id, ws_proxy, ondownload, element);\n\n    // Call onopen now - mpl needs it, as it is assuming we've passed it a real\n    // web socket which is closed, not our websocket->open comm proxy.\n    ws_proxy.onopen();\n\n    fig.parent_element = element;\n    fig.cell_info = mpl.find_output_cell(\"<div id='\" + id + \"'></div>\");\n    if (!fig.cell_info) {\n        console.error('Failed to find cell for figure', id, fig);\n        return;\n    }\n    fig.cell_info[0].output_area.element.on(\n        'cleared',\n        { fig: fig },\n        fig._remove_fig_handler\n    );\n};\n\nmpl.figure.prototype.handle_close = function (fig, msg) {\n    var width = fig.canvas.width / fig.ratio;\n    fig.cell_info[0].output_area.element.off(\n        'cleared',\n        fig._remove_fig_handler\n    );\n    fig.resizeObserverInstance.unobserve(fig.canvas_div);\n\n    // Update the output cell to use the data from the current canvas.\n    fig.push_to_output();\n    var dataURL = fig.canvas.toDataURL();\n    // Re-enable the keyboard manager in IPython - without this line, in FF,\n    // the notebook keyboard shortcuts fail.\n    IPython.keyboard_manager.enable();\n    fig.parent_element.innerHTML =\n        '<img src=\"' + dataURL + '\" width=\"' + width + '\">';\n    fig.close_ws(fig, msg);\n};\n\nmpl.figure.prototype.close_ws = function (fig, msg) {\n    fig.send_message('closing', msg);\n    // fig.ws.close()\n};\n\nmpl.figure.prototype.push_to_output = function (_remove_interactive) {\n    // Turn the data on the canvas into data in the output cell.\n    var width = this.canvas.width / this.ratio;\n    var dataURL = this.canvas.toDataURL();\n    this.cell_info[1]['text/html'] =\n        '<img src=\"' + dataURL + '\" width=\"' + width + '\">';\n};\n\nmpl.figure.prototype.updated_canvas_event = function () {\n    // Tell IPython that the notebook contents must change.\n    IPython.notebook.set_dirty(true);\n    this.send_message('ack', {});\n    var fig = this;\n    // Wait a second, then push the new image to the DOM so\n    // that it is saved nicely (might be nice to debounce this).\n    setTimeout(function () {\n        fig.push_to_output();\n    }, 1000);\n};\n\nmpl.figure.prototype._init_toolbar = function () {\n    var fig = this;\n\n    var toolbar = document.createElement('div');\n    toolbar.classList = 'btn-toolbar';\n    this.root.appendChild(toolbar);\n\n    function on_click_closure(name) {\n        return function (_event) {\n            return fig.toolbar_button_onclick(name);\n        };\n    }\n\n    function on_mouseover_closure(tooltip) {\n        return function (event) {\n            if (!event.currentTarget.disabled) {\n                return fig.toolbar_button_onmouseover(tooltip);\n            }\n        };\n    }\n\n    fig.buttons = {};\n    var buttonGroup = document.createElement('div');\n    buttonGroup.classList = 'btn-group';\n    var button;\n    for (var toolbar_ind in mpl.toolbar_items) {\n        var name = mpl.toolbar_items[toolbar_ind][0];\n        var tooltip = mpl.toolbar_items[toolbar_ind][1];\n        var image = mpl.toolbar_items[toolbar_ind][2];\n        var method_name = mpl.toolbar_items[toolbar_ind][3];\n\n        if (!name) {\n            /* Instead of a spacer, we start a new button group. */\n            if (buttonGroup.hasChildNodes()) {\n                toolbar.appendChild(buttonGroup);\n            }\n            buttonGroup = document.createElement('div');\n            buttonGroup.classList = 'btn-group';\n            continue;\n        }\n\n        button = fig.buttons[name] = document.createElement('button');\n        button.classList = 'btn btn-default';\n        button.href = '#';\n        button.title = name;\n        button.innerHTML = '<i class=\"fa ' + image + ' fa-lg\"></i>';\n        button.addEventListener('click', on_click_closure(method_name));\n        button.addEventListener('mouseover', on_mouseover_closure(tooltip));\n        buttonGroup.appendChild(button);\n    }\n\n    if (buttonGroup.hasChildNodes()) {\n        toolbar.appendChild(buttonGroup);\n    }\n\n    // Add the status bar.\n    var status_bar = document.createElement('span');\n    status_bar.classList = 'mpl-message pull-right';\n    toolbar.appendChild(status_bar);\n    this.message = status_bar;\n\n    // Add the close button to the window.\n    var buttongrp = document.createElement('div');\n    buttongrp.classList = 'btn-group inline pull-right';\n    button = document.createElement('button');\n    button.classList = 'btn btn-mini btn-primary';\n    button.href = '#';\n    button.title = 'Stop Interaction';\n    button.innerHTML = '<i class=\"fa fa-power-off icon-remove icon-large\"></i>';\n    button.addEventListener('click', function (_evt) {\n        fig.handle_close(fig, {});\n    });\n    button.addEventListener(\n        'mouseover',\n        on_mouseover_closure('Stop Interaction')\n    );\n    buttongrp.appendChild(button);\n    var titlebar = this.root.querySelector('.ui-dialog-titlebar');\n    titlebar.insertBefore(buttongrp, titlebar.firstChild);\n};\n\nmpl.figure.prototype._remove_fig_handler = function (event) {\n    var fig = event.data.fig;\n    if (event.target !== this) {\n        // Ignore bubbled events from children.\n        return;\n    }\n    fig.close_ws(fig, {});\n};\n\nmpl.figure.prototype._root_extra_style = function (el) {\n    el.style.boxSizing = 'content-box'; // override notebook setting of border-box.\n};\n\nmpl.figure.prototype._canvas_extra_style = function (el) {\n    // this is important to make the div 'focusable\n    el.setAttribute('tabindex', 0);\n    // reach out to IPython and tell the keyboard manager to turn it's self\n    // off when our div gets focus\n\n    // location in version 3\n    if (IPython.notebook.keyboard_manager) {\n        IPython.notebook.keyboard_manager.register_events(el);\n    } else {\n        // location in version 2\n        IPython.keyboard_manager.register_events(el);\n    }\n};\n\nmpl.figure.prototype._key_event_extra = function (event, _name) {\n    // Check for shift+enter\n    if (event.shiftKey && event.which === 13) {\n        this.canvas_div.blur();\n        // select the cell after this one\n        var index = IPython.notebook.find_cell_index(this.cell_info[0]);\n        IPython.notebook.select(index + 1);\n    }\n};\n\nmpl.figure.prototype.handle_save = function (fig, _msg) {\n    fig.ondownload(fig, null);\n};\n\nmpl.find_output_cell = function (html_output) {\n    // Return the cell and output element which can be found *uniquely* in the notebook.\n    // Note - this is a bit hacky, but it is done because the \"notebook_saving.Notebook\"\n    // IPython event is triggered only after the cells have been serialised, which for\n    // our purposes (turning an active figure into a static one), is too late.\n    var cells = IPython.notebook.get_cells();\n    var ncells = cells.length;\n    for (var i = 0; i < ncells; i++) {\n        var cell = cells[i];\n        if (cell.cell_type === 'code') {\n            for (var j = 0; j < cell.output_area.outputs.length; j++) {\n                var data = cell.output_area.outputs[j];\n                if (data.data) {\n                    // IPython >= 3 moved mimebundle to data attribute of output\n                    data = data.data;\n                }\n                if (data['text/html'] === html_output) {\n                    return [cell, data, j];\n                }\n            }\n        }\n    }\n};\n\n// Register the function which deals with the matplotlib target/channel.\n// The kernel may be null if the page has been refreshed.\nif (IPython.notebook.kernel !== null) {\n    IPython.notebook.kernel.comm_manager.register_target(\n        'matplotlib',\n        mpl.mpl_figure_comm\n    );\n}\n"
     },
     "metadata": {},
     "output_type": "display_data"
    },
    {
     "data": {
      "text/plain": "<IPython.core.display.HTML object>",
      "text/html": "<div id='34092c32-337e-4418-8231-126eb8b3b196'></div>"
     },
     "metadata": {},
     "output_type": "display_data"
    }
   ],
   "source": [
    "%matplotlib notebook\n",
    "\n",
    "fig, ax1 = plt.subplots()\n",
    "ax2 = ax1.twinx()\n",
    "plt.ion()\n",
    "fig.show()\n",
    "fig.canvas.draw()\n"
   ],
   "metadata": {
    "collapsed": false,
    "ExecuteTime": {
     "start_time": "2023-06-09T14:09:30.109911Z",
     "end_time": "2023-06-09T14:09:30.263190Z"
    }
   }
  },
  {
   "cell_type": "code",
   "execution_count": 16,
   "outputs": [
    {
     "name": "stderr",
     "output_type": "stream",
     "text": [
      "  0%|          | 0/10000 [00:00<?, ?it/s]../benji_girgs/generation.py:78: RuntimeWarning: divide by zero encountered in true_divide\n",
      "  p_uv = np.divide(wuwv, dists**d)\n",
      "../benji_girgs/generation.py:78: RuntimeWarning: divide by zero encountered in true_divide\n",
      "  p_uv = np.divide(wuwv, dists**d)\n",
      "../benji_girgs/generation.py:78: RuntimeWarning: divide by zero encountered in true_divide\n",
      "  p_uv = np.divide(wuwv, dists**d)\n",
      "../benji_girgs/generation.py:78: RuntimeWarning: divide by zero encountered in true_divide\n",
      "  p_uv = np.divide(wuwv, dists**d)\n",
      "../benji_girgs/generation.py:78: RuntimeWarning: divide by zero encountered in true_divide\n",
      "  p_uv = np.divide(wuwv, dists**d)\n",
      "../benji_girgs/generation.py:78: RuntimeWarning: divide by zero encountered in true_divide\n",
      "  p_uv = np.divide(wuwv, dists**d)\n",
      "../benji_girgs/generation.py:78: RuntimeWarning: divide by zero encountered in true_divide\n",
      "  p_uv = np.divide(wuwv, dists**d)\n",
      "../benji_girgs/generation.py:78: RuntimeWarning: divide by zero encountered in true_divide\n",
      "  p_uv = np.divide(wuwv, dists**d)\n",
      "../benji_girgs/generation.py:78: RuntimeWarning: divide by zero encountered in true_divide\n",
      "  p_uv = np.divide(wuwv, dists**d)\n",
      "../benji_girgs/generation.py:78: RuntimeWarning: divide by zero encountered in true_divide\n",
      "  p_uv = np.divide(wuwv, dists**d)\n",
      "../benji_girgs/generation.py:78: RuntimeWarning: divide by zero encountered in true_divide\n",
      "  p_uv = np.divide(wuwv, dists**d)\n",
      "../benji_girgs/generation.py:78: RuntimeWarning: divide by zero encountered in true_divide\n",
      "  p_uv = np.divide(wuwv, dists**d)\n",
      "../benji_girgs/generation.py:78: RuntimeWarning: divide by zero encountered in true_divide\n",
      "  p_uv = np.divide(wuwv, dists**d)\n",
      "../benji_girgs/generation.py:78: RuntimeWarning: divide by zero encountered in true_divide\n",
      "  p_uv = np.divide(wuwv, dists**d)\n",
      "../benji_girgs/generation.py:78: RuntimeWarning: divide by zero encountered in true_divide\n",
      "  p_uv = np.divide(wuwv, dists**d)\n",
      "  4%|▍         | 375/10000 [00:00<00:10, 930.11it/s]../benji_girgs/generation.py:78: RuntimeWarning: divide by zero encountered in true_divide\n",
      "  p_uv = np.divide(wuwv, dists**d)\n",
      "../benji_girgs/generation.py:65: RuntimeWarning: divide by zero encountered in true_divide\n",
      "  p_uv = np.divide(outer, dists**d)\n",
      "../benji_girgs/generation.py:525: RuntimeWarning: divide by zero encountered in true_divide\n",
      "  puv = np.stack([np.ones(original_edge_dists.shape), const_in * ((wu * wv / W) / original_edge_dists ** d) ** alpha]).min(axis=0)\n",
      "../benji_girgs/generation.py:526: RuntimeWarning: divide by zero encountered in true_divide\n",
      "  puv_cube = np.stack([np.ones(cube_edge_dists.shape), const_in * ((wu * wv / W) / cube_edge_dists ** d) ** alpha]).min(axis=0)\n",
      "10125it [00:20, 482.65it/s]                          \n"
     ]
    }
   ],
   "source": [
    "MC.run_pool(10000, pool_size=15, jobs_per_worker=25, plot_every=3000)"
   ],
   "metadata": {
    "collapsed": false,
    "ExecuteTime": {
     "start_time": "2023-06-09T14:09:34.034005Z",
     "end_time": "2023-06-09T14:09:55.058281Z"
    }
   }
  },
  {
   "cell_type": "code",
   "execution_count": null,
   "outputs": [],
   "source": [
    "# n = 1500\n",
    "# d=2\n",
    "# tau=2.1\n",
    "# alpha=1.2\n",
    "# desiredAvgDegree=100.0\n",
    "#\n",
    "# g, edges, weights, pts, const = generation.generate_GIRG_nk(n, d, tau, alpha, desiredAvgDegree=desiredAvgDegree,\n",
    "#                                                                 points_type=points.PointsCube)\n",
    "#\n",
    "# g = utils.get_largest_component(g)\n",
    "# nk.overview(g)\n",
    "# n = g.numberOfNodes()"
   ],
   "metadata": {
    "collapsed": false
   }
  },
  {
   "cell_type": "code",
   "execution_count": null,
   "outputs": [],
   "source": [
    "import importlib\n",
    "importlib.reload(mcmc)\n",
    "from tests import test_mcmc"
   ],
   "metadata": {
    "collapsed": false
   }
  },
  {
   "cell_type": "code",
   "execution_count": null,
   "outputs": [],
   "source": [
    "g, A, weights, const, pts, MC = mcmc.g_initialised_mcmc(g, alpha=alpha, const=const, pts_d=2, diffmap_init=True, graph_name='socfb-Amherst41')"
   ],
   "metadata": {
    "collapsed": false
   }
  },
  {
   "cell_type": "code",
   "execution_count": null,
   "outputs": [],
   "source": [
    "g_dm, A_dm = MC.MC_to_g_A()\n",
    "np.set_printoptions(formatter={'int_kind': '{:,}'.format})\n",
    "\n",
    "nk.overview(g_dm)\n"
   ],
   "metadata": {
    "collapsed": false
   }
  },
  {
   "cell_type": "code",
   "execution_count": null,
   "outputs": [],
   "source": [
    "nk.overview(g)"
   ],
   "metadata": {
    "collapsed": false
   }
  },
  {
   "cell_type": "code",
   "execution_count": null,
   "outputs": [],
   "source": [
    "g_dm, A_dm = MC.MC_to_g_A()\n",
    "\n",
    "out, percent_edges_captured, percent_fake_edges_wrong = mcmc.CM(A, A_dm)\n",
    "print(out)\n",
    "print(percent_edges_captured)\n",
    "print(percent_fake_edges_wrong)\n",
    "print()\n"
   ],
   "metadata": {
    "collapsed": false
   }
  },
  {
   "cell_type": "code",
   "execution_count": null,
   "outputs": [],
   "source": [
    "%matplotlib inline\n",
    "# a = MC.pts[:, 0]\n",
    "# plt.hist(a[a<0.04], bins=50)\n",
    "\n",
    "plt.scatter(MC.pts[:, 0], MC.pts[:, 1])\n",
    "plt.figure()\n",
    "plt.hist2d(MC.pts[:, 0], MC.pts[:, 1], bins=30)"
   ],
   "metadata": {
    "collapsed": false
   }
  },
  {
   "cell_type": "code",
   "execution_count": null,
   "outputs": [],
   "source": [
    "MC.ll"
   ],
   "metadata": {
    "collapsed": false
   }
  },
  {
   "cell_type": "code",
   "execution_count": null,
   "outputs": [],
   "source": [
    "%matplotlib notebook\n",
    "fig, ax1 = plt.subplots()\n",
    "ax2 = ax1.twinx()\n",
    "plt.ion()\n",
    "fig.show()\n",
    "fig.canvas.draw()"
   ],
   "metadata": {
    "collapsed": false
   }
  },
  {
   "cell_type": "code",
   "execution_count": null,
   "outputs": [],
   "source": [
    "MC.run_pool(100000, pool_size=15, jobs_per_worker=25, plot_every=15000)"
   ],
   "metadata": {
    "collapsed": false
   }
  },
  {
   "cell_type": "code",
   "execution_count": null,
   "outputs": [],
   "source": [
    "%matplotlib inline\n",
    "MC.acceptances_plot(convolve_width=10000)"
   ],
   "metadata": {
    "collapsed": false
   }
  },
  {
   "cell_type": "code",
   "execution_count": null,
   "outputs": [],
   "source": [
    "os.environ['DATA_PATH'] = '../../MCMC_testing/'"
   ],
   "metadata": {
    "collapsed": false
   }
  },
  {
   "cell_type": "code",
   "execution_count": null,
   "outputs": [],
   "source": [
    "os.environ['DATA_PATH']"
   ],
   "metadata": {
    "collapsed": false
   }
  },
  {
   "cell_type": "code",
   "execution_count": null,
   "outputs": [],
   "source": [
    "os.getcwd()"
   ],
   "metadata": {
    "collapsed": false
   }
  },
  {
   "cell_type": "code",
   "execution_count": null,
   "outputs": [],
   "source": [
    "%matplotlib inline\n",
    "# a = MC.pts[:, 0]\n",
    "# plt.hist(a[a<0.04], bins=50)\n",
    "\n",
    "plt.scatter(MC.pts[:, 0], MC.pts[:, 1])\n",
    "plt.figure()\n",
    "plt.hist2d(MC.pts[:, 0], MC.pts[:, 1], bins=30)"
   ],
   "metadata": {
    "collapsed": false
   }
  },
  {
   "cell_type": "code",
   "execution_count": null,
   "outputs": [],
   "source": [
    "MC.expected_num_edges"
   ],
   "metadata": {
    "collapsed": false
   }
  },
  {
   "cell_type": "code",
   "execution_count": null,
   "outputs": [],
   "source": [
    "g_dm, A_dm = test_mcmc.MC_to_g_A(MC)\n",
    "\n",
    "out, percent_edges_captured, percent_fake_edges_wrong = mcmc.CM(A, A_dm)\n",
    "print(out)\n",
    "print(percent_edges_captured)\n",
    "print(percent_fake_edges_wrong)\n"
   ],
   "metadata": {
    "collapsed": false
   }
  },
  {
   "cell_type": "code",
   "execution_count": null,
   "outputs": [],
   "source": [
    "nk.overview(g_dm)\n",
    "nk.overview(g)\n",
    "nk.overview(g_init)"
   ],
   "metadata": {
    "collapsed": false
   }
  },
  {
   "cell_type": "code",
   "execution_count": null,
   "outputs": [],
   "source": [
    "g_dm, A_dm = test_mcmc.MC_to_g_A(MC)\n",
    "# g_init, A_init = test_mcmc.MC_to_g_A(MC_init)\n",
    "\n",
    "nk.overview(g_dm)\n",
    "nk.overview(g_init)\n",
    "\n",
    "CM = test_mcmc.quick_acc(A, A_dm)\n",
    "CM\n",
    "test_mcmc.quick_summarise_CM(CM)\n",
    "print('============')\n",
    "CM = test_mcmc.quick_acc(A, A_init)\n",
    "CM\n",
    "test_mcmc.quick_summarise_CM(CM)\n",
    "':)'"
   ],
   "metadata": {
    "collapsed": false
   }
  },
  {
   "cell_type": "code",
   "execution_count": null,
   "outputs": [],
   "source": [
    "MC.plot_ll(MC.num_steps)"
   ],
   "metadata": {
    "collapsed": false
   }
  },
  {
   "cell_type": "code",
   "execution_count": null,
   "outputs": [],
   "source": [
    "MC.calculate_ll()"
   ],
   "metadata": {
    "collapsed": false
   }
  },
  {
   "cell_type": "code",
   "execution_count": null,
   "outputs": [],
   "source": [
    "MC.ll_steps"
   ],
   "metadata": {
    "collapsed": false
   }
  },
  {
   "cell_type": "code",
   "execution_count": null,
   "outputs": [],
   "source": [
    "import pickle\n",
    "with open('temp.pkl', 'wb') as file:\n",
    "    pickle.dump(MC, file)"
   ],
   "metadata": {
    "collapsed": false
   }
  },
  {
   "cell_type": "code",
   "execution_count": null,
   "outputs": [],
   "source": [
    "import multiprocessing\n",
    "import ctypes\n",
    "\n",
    "def gs(self):\n",
    "    state = self.__dict__.copy()\n",
    "    del state['shared_pts']\n",
    "    del state['shared_pts_init']\n",
    "\n",
    "def ss(self, state):\n",
    "    self.__dict__.update(state)\n",
    "    if self.pool:\n",
    "        self.shared_pts = multiprocessing.Array(ctypes.c_double, self.pts.flatten())\n",
    "        self.pts = self.pts_type(np.frombuffer(self.shared_pts.get_obj()).reshape(self.pts.shape))\n",
    "        self.shared_pts_init = multiprocessing.Array(ctypes.c_double, self.pts_init.flatten())\n",
    "        self.pts_init = self.pts_type(np.frombuffer(self.shared_pts_init.get_obj()).reshape(self.pts_init.shape))\n",
    "\n",
    "MC.__getstate__ = gs\n",
    "MC.__setstate__ = ss"
   ],
   "metadata": {
    "collapsed": false
   }
  },
  {
   "cell_type": "code",
   "execution_count": null,
   "outputs": [],
   "source": [],
   "metadata": {
    "collapsed": false
   }
  },
  {
   "cell_type": "code",
   "execution_count": null,
   "outputs": [],
   "source": [
    "MC.calculate_ll()"
   ],
   "metadata": {
    "collapsed": false
   }
  },
  {
   "cell_type": "code",
   "execution_count": null,
   "outputs": [],
   "source": [
    "MC.calculate_ll()"
   ],
   "metadata": {
    "collapsed": false
   }
  },
  {
   "cell_type": "code",
   "execution_count": null,
   "outputs": [],
   "source": [
    "def mcmc_girg_init_worker(pts, pts_shape, pts_init, weights, g):\n",
    "    mp_var_dict = mcmc.mp_var_dict\n",
    "    mp_var_dict['pts'] = pts\n",
    "    mp_var_dict['pts_shape'] = pts_shape\n",
    "    # mp_var_dict['pts_init'] = None\n",
    "    if 'pts_init' in mp_var_dict:\n",
    "        del(mp_var_dict['pts_init'])\n",
    "    mp_var_dict['weights'] = weights\n",
    "    mp_var_dict['g'] = g\n",
    "\n",
    "mcmc.mcmc_girg_init_worker = mcmc_girg_init_worker"
   ],
   "metadata": {
    "collapsed": false
   }
  },
  {
   "cell_type": "code",
   "execution_count": null,
   "outputs": [],
   "source": [
    "foo = {'a': 1}\n",
    "del(foo['b'])"
   ],
   "metadata": {
    "collapsed": false
   }
  },
  {
   "cell_type": "code",
   "execution_count": null,
   "outputs": [],
   "source": [
    "\n",
    "u_index = 100\n",
    "sigma, p_normal=None, None\n",
    "if sigma is None:\n",
    "    sigma = 2 * ((1/n)**1/d)\n",
    "if p_normal is None:\n",
    "    p_normal = 0.7\n",
    "\n",
    "x_u_init = MC.pts_init[u_index]\n",
    "x_u2 = mcmc.MCMC_girg.proposal(1, d, sigma=sigma, x_u=x_u_init, p_normal=p_normal).squeeze()\n",
    "\n",
    "def prior_x_u(pt):\n",
    "    out = p_normal * np.sqrt(1/(2*np.pi) * np.exp(-np.linalg.norm(pt - x_u_init)**2 / (2 * sigma**(2*d))))\n",
    "    + (1 - p_normal)\n",
    "    return out\n",
    "acceptance_prob, u_ll_old, u_ll_new, p_u_to_vs_old, p_u_to_vs_new = mcmc.MCMC_girg.acceptance_prob_static(MC.g, weights, alpha, MC.const_in, MC.pts,\n",
    "                                                                                    u_index, x_u2, prior_x_u)"
   ],
   "metadata": {
    "collapsed": false
   }
  },
  {
   "cell_type": "code",
   "execution_count": null,
   "outputs": [],
   "source": [
    "x_u2\n",
    "x_u_init"
   ],
   "metadata": {
    "collapsed": false
   }
  },
  {
   "cell_type": "code",
   "execution_count": null,
   "outputs": [],
   "source": [
    "prior_x_u(x_u_init)\n",
    "prior_x_u(x_u2)"
   ],
   "metadata": {
    "collapsed": false
   }
  },
  {
   "cell_type": "code",
   "execution_count": null,
   "outputs": [],
   "source": [
    "pts = MC.pts\n",
    "eps = 1e-7\n",
    "p_u_to_vs = generation.get_probs_u(weights, MC.pts, alpha, MC.const_in, u_index)\n",
    "p_u_to_vs = np.clip(p_u_to_vs, eps, 1 - eps)\n",
    "\n",
    "x_u = pts[u_index].copy()\n",
    "pts[u_index] = x_u2\n",
    "p_u_to_vs2 = generation.get_probs_u(weights, MC.pts, alpha, MC.const_in, u_index)\n",
    "pts[u_index] = x_u\n",
    "p_u_to_vs2 = np.clip(p_u_to_vs2, eps, 1 - eps)\n",
    "\n",
    "u_ll_old = mcmc.MCMC_girg.p_u_to_vs_to_ll(g, u_index, p_u_to_vs)\n",
    "u_ll_new = mcmc.MCMC_girg.p_u_to_vs_to_ll(g, u_index, p_u_to_vs2)"
   ],
   "metadata": {
    "collapsed": false
   }
  },
  {
   "cell_type": "code",
   "execution_count": null,
   "outputs": [],
   "source": [
    "u_ll_old\n",
    "u_ll_new"
   ],
   "metadata": {
    "collapsed": false
   }
  },
  {
   "cell_type": "code",
   "execution_count": null,
   "outputs": [],
   "source": [
    "%matplotlib inline\n",
    "MC.acceptances_plot(convolve_width=30)"
   ],
   "metadata": {
    "collapsed": false
   }
  },
  {
   "cell_type": "code",
   "execution_count": null,
   "outputs": [],
   "source": [
    "g_dm, A_dm = test_mcmc.MC_to_g_A(MC)\n",
    "CM = test_mcmc.quick_acc(A, A_dm)\n",
    "CM\n",
    "test_mcmc.quick_summarise_CM(CM)\n",
    "print('============')\n",
    "CM = test_mcmc.quick_acc(A, A_init)\n",
    "CM\n",
    "test_mcmc.quick_summarise_CM(CM)\n",
    "':)'"
   ],
   "metadata": {
    "collapsed": false
   }
  },
  {
   "cell_type": "code",
   "execution_count": null,
   "outputs": [],
   "source": [
    "%matplotlib inline\n",
    "plt.scatter(MC.pts[:, 0], MC.pts[:, 1])\n",
    "plt.xlim([0.05, 0.12])\n",
    "plt.ylim([0.8, 1.0])\n",
    "plt.figure()\n",
    "\n",
    "plt.scatter(MC.pts[:, 0], MC.pts[:, 1])\n",
    "plt.xlim([0.06, 0.08])\n",
    "plt.ylim([0.875, 1.0])\n",
    "plt.figure()\n",
    "\n",
    "# plt.hist2d(MC.pts[:, 0], MC.pts[:, 1], bins=1000)\n",
    "# plt.xlim([0.06, 0.09])\n",
    "# plt.ylim([0.0, 0.2])"
   ],
   "metadata": {
    "collapsed": false
   }
  },
  {
   "cell_type": "code",
   "execution_count": null,
   "outputs": [],
   "source": [],
   "metadata": {
    "collapsed": false
   }
  },
  {
   "cell_type": "code",
   "execution_count": null,
   "outputs": [],
   "source": [
    "%matplotlib inline\n",
    "plt.hist(MC.pts[:, 0])\n",
    "plt.figure()\n",
    "plt.hist(MC.pts[:, 1])\n"
   ],
   "metadata": {
    "collapsed": false
   }
  },
  {
   "cell_type": "code",
   "execution_count": null,
   "outputs": [],
   "source": [
    "plt.scatter(MC.pts[:, 0], MC.pts[:, 1])"
   ],
   "metadata": {
    "collapsed": false
   }
  },
  {
   "cell_type": "code",
   "execution_count": null,
   "outputs": [],
   "source": [
    "g_mc, A_mc = test_mcmc.MC_to_g_A(MC)\n",
    "nk.overview(g_mc)"
   ],
   "metadata": {
    "collapsed": false
   }
  },
  {
   "cell_type": "code",
   "execution_count": null,
   "outputs": [],
   "source": [
    "CM = test_mcmc.quick_acc(A, A_mc)\n",
    "CM\n",
    "test_mcmc.quick_summarise_CM(CM)\n",
    "\n",
    "CM = test_mcmc.quick_acc(A, A_init)\n",
    "CM\n",
    "test_mcmc.quick_summarise_CM(CM)\n",
    "\n",
    "':('"
   ],
   "metadata": {
    "collapsed": false
   }
  },
  {
   "cell_type": "code",
   "execution_count": null,
   "outputs": [],
   "source": [],
   "metadata": {
    "collapsed": false
   }
  },
  {
   "cell_type": "code",
   "execution_count": null,
   "outputs": [],
   "source": [
    "a = df.loc[:, ['Graph', 'Model', 'Nodes', 'Info']]\n",
    "a"
   ],
   "metadata": {
    "collapsed": false
   }
  },
  {
   "cell_type": "code",
   "execution_count": null,
   "outputs": [],
   "source": [
    "a.loc[a.Graph == 'socfb-Pepperdine86']"
   ],
   "metadata": {
    "collapsed": false
   }
  },
  {
   "cell_type": "code",
   "execution_count": null,
   "outputs": [],
   "source": [
    "df.iloc[41].Info"
   ],
   "metadata": {
    "collapsed": false
   }
  },
  {
   "cell_type": "code",
   "execution_count": null,
   "outputs": [],
   "source": [
    "df.iloc[53].Info"
   ],
   "metadata": {
    "collapsed": false
   }
  },
  {
   "cell_type": "code",
   "execution_count": null,
   "outputs": [],
   "source": [
    "import importlib\n",
    "importlib.reload(test_mcmc)"
   ],
   "metadata": {
    "collapsed": false
   }
  },
  {
   "cell_type": "code",
   "execution_count": null,
   "outputs": [],
   "source": [
    "# gd = do_feature_extract.graph_dicts[21]\n",
    "\n",
    "gd = list(filter(lambda x: x['Name'] == 'socfb-Pepperdine86', do_feature_extract.graph_dicts))[0]\n",
    "\n",
    "in_path = gd['FullPath']\n",
    "in_path\n",
    "name = gd['Name']\n",
    "g = networkit.readGraph(in_path, networkit.Format.EdgeListSpaceOne)\n",
    "g = utils.get_largest_component(g)\n",
    "nk.overview(g)\n",
    "n = g.numberOfNodes()\n",
    "\n",
    "alpha = df.iloc[53].Info['alpha']\n",
    "const = df.iloc[53].Info['const']"
   ],
   "metadata": {
    "collapsed": false
   }
  },
  {
   "cell_type": "code",
   "execution_count": null,
   "outputs": [],
   "source": [
    "g, A, weights, const, pts_diffmap, pts_init, MC, MC_init = test_mcmc.test_diffmap_on_g(g, alpha=alpha, const=const, pts_d=2)"
   ],
   "metadata": {
    "collapsed": false
   }
  },
  {
   "cell_type": "code",
   "execution_count": null,
   "outputs": [],
   "source": [
    "g_dm, A_dm = test_mcmc.MC_to_g_A(MC)\n",
    "g_init, A_init = test_mcmc.MC_to_g_A(MC_init)\n",
    "nk.overview(g_dm)\n",
    "nk.overview(g_init)\n",
    "\n",
    "CM = test_mcmc.quick_acc(A, A_dm)\n",
    "CM\n",
    "test_mcmc.quick_summarise_CM(CM)\n",
    "print('============')\n",
    "CM = test_mcmc.quick_acc(A, A_init)\n",
    "CM\n",
    "test_mcmc.quick_summarise_CM(CM)\n",
    "':)'\n"
   ],
   "metadata": {
    "collapsed": false
   }
  },
  {
   "cell_type": "code",
   "execution_count": null,
   "outputs": [],
   "source": [
    "MC.run_pool(20000, pool_size=15, jobs_per_worker=15, plot_every=20)"
   ],
   "metadata": {
    "collapsed": false
   }
  },
  {
   "cell_type": "code",
   "execution_count": null,
   "outputs": [],
   "source": [],
   "metadata": {
    "collapsed": false
   }
  },
  {
   "cell_type": "code",
   "execution_count": null,
   "outputs": [],
   "source": [],
   "metadata": {
    "collapsed": false
   }
  },
  {
   "cell_type": "code",
   "execution_count": null,
   "outputs": [],
   "source": [
    "from tests import test_mcmc\n",
    "from tests.test_mcmc import *\n",
    "import importlib\n",
    "importlib.reload(test_mcmc)\n",
    "g, A, weights, const, pts, pts_diffmap, pts_init, MC, MC_init, MC_cheat = test_mcmc.test_diffmap()\n",
    "\n",
    "g_dm, A_dm = test_mcmc.MC_to_g_A(MC)\n",
    "g_init, A_init = test_mcmc.MC_to_g_A(MC_init)\n",
    "g_cheat, A_cheat = test_mcmc.MC_to_g_A(MC_cheat)\n"
   ],
   "metadata": {
    "collapsed": false
   }
  },
  {
   "cell_type": "code",
   "execution_count": null,
   "outputs": [],
   "source": [
    "(const*2)**alpha"
   ],
   "metadata": {
    "collapsed": false
   }
  },
  {
   "cell_type": "code",
   "execution_count": null,
   "outputs": [],
   "source": [
    "g_temp, _, _, _, _ = generation.generate_GIRG_nk(n, d, tau, alpha, weights=weights, pts=pts, const=const)"
   ],
   "metadata": {
    "collapsed": false
   }
  },
  {
   "cell_type": "code",
   "execution_count": null,
   "outputs": [],
   "source": [
    "const"
   ],
   "metadata": {
    "collapsed": false
   }
  },
  {
   "cell_type": "code",
   "execution_count": null,
   "outputs": [],
   "source": [
    "pts"
   ],
   "metadata": {
    "collapsed": false
   }
  },
  {
   "cell_type": "code",
   "execution_count": null,
   "outputs": [],
   "source": [
    "nk.overview(g)\n",
    "nk.overview(g_temp)"
   ],
   "metadata": {
    "collapsed": false
   }
  },
  {
   "cell_type": "code",
   "execution_count": null,
   "outputs": [],
   "source": [
    "nk.overview(g_cheat)"
   ],
   "metadata": {
    "collapsed": false
   }
  },
  {
   "cell_type": "code",
   "execution_count": null,
   "outputs": [],
   "source": [
    "nk.overview(g_dm)"
   ],
   "metadata": {
    "collapsed": false
   }
  },
  {
   "cell_type": "code",
   "execution_count": null,
   "outputs": [],
   "source": [
    "CM = test_mcmc.quick_acc(A, A_cheat)\n",
    "CM\n",
    "test_mcmc.quick_summarise_CM(CM)\n",
    "print('============')\n",
    "CM = test_mcmc.quick_acc(A, A_dm)\n",
    "CM\n",
    "test_mcmc.quick_summarise_CM(CM)\n",
    "print('============')\n",
    "CM = test_mcmc.quick_acc(A, A_init)\n",
    "CM\n",
    "test_mcmc.quick_summarise_CM(CM)\n"
   ],
   "metadata": {
    "collapsed": false
   }
  },
  {
   "cell_type": "code",
   "execution_count": null,
   "outputs": [],
   "source": [
    "np.where(A[0, :])"
   ],
   "metadata": {
    "collapsed": false
   }
  },
  {
   "cell_type": "code",
   "execution_count": null,
   "outputs": [],
   "source": [
    "list(g.iterNeighbors(0))"
   ],
   "metadata": {
    "collapsed": false
   }
  },
  {
   "cell_type": "code",
   "execution_count": null,
   "outputs": [],
   "source": [
    "list(g_temp.iterNeighbors(0))"
   ],
   "metadata": {
    "collapsed": false
   }
  },
  {
   "cell_type": "code",
   "execution_count": null,
   "outputs": [],
   "source": [
    "len(list(g_temp.iterNeighbors(0)))\n",
    "len(list(g.iterNeighbors(0)))"
   ],
   "metadata": {
    "collapsed": false
   }
  },
  {
   "cell_type": "code",
   "execution_count": null,
   "outputs": [],
   "source": [
    "plt.scatter(pts[:, 0], pts_diffmap[:, 0])"
   ],
   "metadata": {
    "collapsed": false
   }
  },
  {
   "cell_type": "code",
   "execution_count": null,
   "outputs": [],
   "source": [
    "plt.scatter(pts[:, 0], pts_init[:, 0])"
   ],
   "metadata": {
    "collapsed": false
   }
  },
  {
   "cell_type": "code",
   "execution_count": null,
   "outputs": [],
   "source": [],
   "metadata": {
    "collapsed": false
   }
  }
 ],
 "metadata": {
  "kernelspec": {
   "name": "girgenv_higherdims",
   "language": "python",
   "display_name": "girgenv_higherdims"
  },
  "language_info": {
   "codemirror_mode": {
    "name": "ipython",
    "version": 2
   },
   "file_extension": ".py",
   "mimetype": "text/x-python",
   "name": "python",
   "nbconvert_exporter": "python",
   "pygments_lexer": "ipython2",
   "version": "2.7.6"
  }
 },
 "nbformat": 4,
 "nbformat_minor": 0
}
