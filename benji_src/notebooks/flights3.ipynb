{
 "cells": [
  {
   "cell_type": "code",
   "execution_count": 1,
   "metadata": {},
   "outputs": [],
   "source": [
    "import sys\n",
    "sys.path.append('../')"
   ]
  },
  {
   "cell_type": "code",
   "execution_count": 2,
   "metadata": {},
   "outputs": [
    {
     "data": {
      "text/html": [
       "\n",
       "\t\t\t<script type=\"text/javascript\">\n",
       "\t\t\t<!--\n",
       "\t\t\t\t\n",
       "\t\t\t{\n",
       "\t\t\t\tvar element = document.getElementById('NetworKit_script');\n",
       "\t\t\t\tif (element) {\n",
       "\t\t\t\t\telement.parentNode.removeChild(element);\n",
       "\t\t\t\t}\n",
       "\t\t\t\telement = document.createElement('script');\n",
       "\t\t\t\telement.type = 'text/javascript';\n",
       "\t\t\t\telement.innerHTML = 'function NetworKit_pageEmbed(id) { var i, j; var elements; elements = document.getElementById(id).getElementsByClassName(\"Plot\"); for (i=0; i<elements.length; i++) { elements[i].id = id + \"_Plot_\" + i; var data = elements[i].getAttribute(\"data-image\").split(\"|\"); elements[i].removeAttribute(\"data-image\"); var content = \"<div class=\\\\\"Image\\\\\" id=\\\\\"\" + elements[i].id + \"_Image\\\\\" />\"; elements[i].innerHTML = content; elements[i].setAttribute(\"data-image-index\", 0); elements[i].setAttribute(\"data-image-length\", data.length); for (j=0; j<data.length; j++) { elements[i].setAttribute(\"data-image-\" + j, data[j]); } NetworKit_plotUpdate(elements[i]); elements[i].onclick = function (e) { NetworKit_overlayShow((e.target) ? e.target : e.srcElement); } } elements = document.getElementById(id).getElementsByClassName(\"HeatCell\"); for (i=0; i<elements.length; i++) { var data = parseFloat(elements[i].getAttribute(\"data-heat\")); var color = \"#00FF00\"; if (data <= 1 && data > 0) { color = \"hsla(0, 100%, 75%, \" + (data) + \")\"; } else if (data <= 0 && data >= -1) { color = \"hsla(240, 100%, 75%, \" + (-data) + \")\"; } elements[i].style.backgroundColor = color; } elements = document.getElementById(id).getElementsByClassName(\"Details\"); for (i=0; i<elements.length; i++) { elements[i].setAttribute(\"data-title\", \"-\"); NetworKit_toggleDetails(elements[i]); elements[i].onclick = function (e) { NetworKit_toggleDetails((e.target) ? e.target : e.srcElement); } } elements = document.getElementById(id).getElementsByClassName(\"MathValue\"); for (i=elements.length-1; i>=0; i--) { value = elements[i].innerHTML.trim(); if (value === \"nan\") { elements[i].parentNode.innerHTML = \"\" } } elements = document.getElementById(id).getElementsByClassName(\"SubCategory\"); for (i=elements.length-1; i>=0; i--) { value = elements[i].innerHTML.trim(); if (value === \"\") { elements[i].parentNode.removeChild(elements[i]) } } elements = document.getElementById(id).getElementsByClassName(\"Category\"); for (i=elements.length-1; i>=0; i--) { value = elements[i].innerHTML.trim(); if (value === \"\") { elements[i].parentNode.removeChild(elements[i]) } } var isFirefox = false; try { isFirefox = typeof InstallTrigger !== \"undefined\"; } catch (e) {} if (!isFirefox) { alert(\"Currently the function\\'s output is only fully supported by Firefox.\"); } } function NetworKit_plotUpdate(source) { var index = source.getAttribute(\"data-image-index\"); var data = source.getAttribute(\"data-image-\" + index); var image = document.getElementById(source.id + \"_Image\"); image.style.backgroundImage = \"url(\" + data + \")\"; } function NetworKit_showElement(id, show) { var element = document.getElementById(id); element.style.display = (show) ? \"block\" : \"none\"; } function NetworKit_overlayShow(source) { NetworKit_overlayUpdate(source); NetworKit_showElement(\"NetworKit_Overlay\", true); } function NetworKit_overlayUpdate(source) { document.getElementById(\"NetworKit_Overlay_Title\").innerHTML = source.title; var index = source.getAttribute(\"data-image-index\"); var data = source.getAttribute(\"data-image-\" + index); var image = document.getElementById(\"NetworKit_Overlay_Image\"); image.setAttribute(\"data-id\", source.id); image.style.backgroundImage = \"url(\" + data + \")\"; var link = document.getElementById(\"NetworKit_Overlay_Toolbar_Bottom_Save\"); link.href = data; link.download = source.title + \".svg\"; } function NetworKit_overlayImageShift(delta) { var image = document.getElementById(\"NetworKit_Overlay_Image\"); var source = document.getElementById(image.getAttribute(\"data-id\")); var index = parseInt(source.getAttribute(\"data-image-index\")); var length = parseInt(source.getAttribute(\"data-image-length\")); var index = (index+delta) % length; if (index < 0) { index = length + index; } source.setAttribute(\"data-image-index\", index); NetworKit_overlayUpdate(source); } function NetworKit_toggleDetails(source) { var childs = source.children; var show = false; if (source.getAttribute(\"data-title\") == \"-\") { source.setAttribute(\"data-title\", \"+\"); show = false; } else { source.setAttribute(\"data-title\", \"-\"); show = true; } for (i=0; i<childs.length; i++) { if (show) { childs[i].style.display = \"block\"; } else { childs[i].style.display = \"none\"; } } }';\n",
       "\t\t\t\telement.setAttribute('id', 'NetworKit_script');\n",
       "\t\t\t\tdocument.head.appendChild(element);\n",
       "\t\t\t}\n",
       "\t\t\n",
       "\t\t\t\t\n",
       "\t\t\t{\n",
       "\t\t\t\tvar element = document.getElementById('NetworKit_style');\n",
       "\t\t\t\tif (element) {\n",
       "\t\t\t\t\telement.parentNode.removeChild(element);\n",
       "\t\t\t\t}\n",
       "\t\t\t\telement = document.createElement('style');\n",
       "\t\t\t\telement.type = 'text/css';\n",
       "\t\t\t\telement.innerHTML = '.NetworKit_Page { font-family: Arial, Helvetica, sans-serif; font-size: 14px; } .NetworKit_Page .Value:before { font-family: Arial, Helvetica, sans-serif; font-size: 1.05em; content: attr(data-title) \":\"; margin-left: -2.5em; padding-right: 0.5em; } .NetworKit_Page .Details .Value:before { display: block; } .NetworKit_Page .Value { font-family: monospace; white-space: pre; padding-left: 2.5em; white-space: -moz-pre-wrap !important; white-space: -pre-wrap; white-space: -o-pre-wrap; white-space: pre-wrap; word-wrap: break-word; tab-size: 4; -moz-tab-size: 4; } .NetworKit_Page .Category { clear: both; padding-left: 1em; margin-bottom: 1.5em; } .NetworKit_Page .Category:before { content: attr(data-title); font-size: 1.75em; display: block; margin-left: -0.8em; margin-bottom: 0.5em; } .NetworKit_Page .SubCategory { margin-bottom: 1.5em; padding-left: 1em; } .NetworKit_Page .SubCategory:before { font-size: 1.6em; display: block; margin-left: -0.8em; margin-bottom: 0.5em; } .NetworKit_Page .SubCategory[data-title]:before { content: attr(data-title); } .NetworKit_Page .Block { display: block; } .NetworKit_Page .Block:after { content: \".\"; visibility: hidden; display: block; height: 0; clear: both; } .NetworKit_Page .Block .Thumbnail_Overview, .NetworKit_Page .Block .Thumbnail_ScatterPlot { width: 260px; float: left; } .NetworKit_Page .Block .Thumbnail_Overview img, .NetworKit_Page .Block .Thumbnail_ScatterPlot img { width: 260px; } .NetworKit_Page .Block .Thumbnail_Overview:before, .NetworKit_Page .Block .Thumbnail_ScatterPlot:before { display: block; text-align: center; font-weight: bold; } .NetworKit_Page .Block .Thumbnail_Overview:before { content: attr(data-title); } .NetworKit_Page .HeatCell { font-family: \"Courier New\", Courier, monospace; cursor: pointer; } .NetworKit_Page .HeatCell, .NetworKit_Page .HeatCellName { display: inline; padding: 0.1em; margin-right: 2px; background-color: #FFFFFF } .NetworKit_Page .HeatCellName { margin-left: 0.25em; } .NetworKit_Page .HeatCell:before { content: attr(data-heat); display: inline-block; color: #000000; width: 4em; text-align: center; } .NetworKit_Page .Measure { clear: both; } .NetworKit_Page .Measure .Details { cursor: pointer; } .NetworKit_Page .Measure .Details:before { content: \"[\" attr(data-title) \"]\"; display: block; } .NetworKit_Page .Measure .Details .Value { border-left: 1px dotted black; margin-left: 0.4em; padding-left: 3.5em; pointer-events: none; } .NetworKit_Page .Measure .Details .Spacer:before { content: \".\"; opacity: 0.0; pointer-events: none; } .NetworKit_Page .Measure .Plot { width: 440px; height: 440px; cursor: pointer; float: left; margin-left: -0.9em; margin-right: 20px; } .NetworKit_Page .Measure .Plot .Image { background-repeat: no-repeat; background-position: center center; background-size: contain; height: 100%; pointer-events: none; } .NetworKit_Page .Measure .Stat { width: 500px; float: left; } .NetworKit_Page .Measure .Stat .Group { padding-left: 1.25em; margin-bottom: 0.75em; } .NetworKit_Page .Measure .Stat .Group .Title { font-size: 1.1em; display: block; margin-bottom: 0.3em; margin-left: -0.75em; border-right-style: dotted; border-right-width: 1px; border-bottom-style: dotted; border-bottom-width: 1px; background-color: #D0D0D0; padding-left: 0.2em; } .NetworKit_Page .Measure .Stat .Group .List { -webkit-column-count: 3; -moz-column-count: 3; column-count: 3; } .NetworKit_Page .Measure .Stat .Group .List .Entry { position: relative; line-height: 1.75em; } .NetworKit_Page .Measure .Stat .Group .List .Entry[data-tooltip]:before { position: absolute; left: 0; top: -40px; background-color: #808080; color: #ffffff; height: 30px; line-height: 30px; border-radius: 5px; padding: 0 15px; content: attr(data-tooltip); white-space: nowrap; display: none; } .NetworKit_Page .Measure .Stat .Group .List .Entry[data-tooltip]:after { position: absolute; left: 15px; top: -10px; border-top: 7px solid #808080; border-left: 7px solid transparent; border-right: 7px solid transparent; content: \"\"; display: none; } .NetworKit_Page .Measure .Stat .Group .List .Entry[data-tooltip]:hover:after, .NetworKit_Page .Measure .Stat .Group .List .Entry[data-tooltip]:hover:before { display: block; } .NetworKit_Page .Measure .Stat .Group .List .Entry .MathValue { font-family: \"Courier New\", Courier, monospace; } .NetworKit_Page .Measure:after { content: \".\"; visibility: hidden; display: block; height: 0; clear: both; } .NetworKit_Page .PartitionPie { clear: both; } .NetworKit_Page .PartitionPie img { width: 600px; } #NetworKit_Overlay { left: 0px; top: 0px; display: none; position: absolute; width: 100%; height: 100%; background-color: rgba(0,0,0,0.6); z-index: 1000; } #NetworKit_Overlay_Title { position: absolute; color: white; transform: rotate(-90deg); width: 32em; height: 32em; padding-right: 0.5em; padding-top: 0.5em; text-align: right; font-size: 40px; } #NetworKit_Overlay .button { background: white; cursor: pointer; } #NetworKit_Overlay .button:before { size: 13px; display: inline-block; text-align: center; margin-top: 0.5em; margin-bottom: 0.5em; width: 1.5em; height: 1.5em; } #NetworKit_Overlay .icon-close:before { content: \"X\"; } #NetworKit_Overlay .icon-previous:before { content: \"P\"; } #NetworKit_Overlay .icon-next:before { content: \"N\"; } #NetworKit_Overlay .icon-save:before { content: \"S\"; } #NetworKit_Overlay_Toolbar_Top, #NetworKit_Overlay_Toolbar_Bottom { position: absolute; width: 40px; right: 13px; text-align: right; z-index: 1100; } #NetworKit_Overlay_Toolbar_Top { top: 0.5em; } #NetworKit_Overlay_Toolbar_Bottom { Bottom: 0.5em; } #NetworKit_Overlay_ImageContainer { position: absolute; top: 5%; left: 5%; height: 90%; width: 90%; background-repeat: no-repeat; background-position: center center; background-size: contain; } #NetworKit_Overlay_Image { height: 100%; width: 100%; background-repeat: no-repeat; background-position: center center; background-size: contain; }';\n",
       "\t\t\t\telement.setAttribute('id', 'NetworKit_style');\n",
       "\t\t\t\tdocument.head.appendChild(element);\n",
       "\t\t\t}\n",
       "\t\t\n",
       "\t\t\t\t\n",
       "\t\t\t{\n",
       "\t\t\t\tvar element = document.getElementById('NetworKit_Overlay');\n",
       "\t\t\t\tif (element) {\n",
       "\t\t\t\t\telement.parentNode.removeChild(element);\n",
       "\t\t\t\t}\n",
       "\t\t\t\telement = document.createElement('div');\n",
       "\t\t\t\telement.innerHTML = '<div id=\"NetworKit_Overlay_Toolbar_Top\"><div class=\"button icon-close\" id=\"NetworKit_Overlay_Close\" /></div><div id=\"NetworKit_Overlay_Title\" /> <div id=\"NetworKit_Overlay_ImageContainer\"> <div id=\"NetworKit_Overlay_Image\" /> </div> <div id=\"NetworKit_Overlay_Toolbar_Bottom\"> <div class=\"button icon-previous\" onclick=\"NetworKit_overlayImageShift(-1)\" /> <div class=\"button icon-next\" onclick=\"NetworKit_overlayImageShift(1)\" /> <a id=\"NetworKit_Overlay_Toolbar_Bottom_Save\"><div class=\"button icon-save\" /></a> </div>';\n",
       "\t\t\t\telement.setAttribute('id', 'NetworKit_Overlay');\n",
       "\t\t\t\tdocument.body.appendChild(element);\n",
       "\t\t\t\tdocument.getElementById('NetworKit_Overlay_Close').onclick = function (e) {\n",
       "\t\t\t\t\tdocument.getElementById('NetworKit_Overlay').style.display = 'none';\n",
       "\t\t\t\t}\n",
       "\t\t\t}\n",
       "\t\t\n",
       "\t\t\t-->\n",
       "\t\t\t</script>\n",
       "\t\t"
      ]
     },
     "metadata": {},
     "output_type": "display_data"
    }
   ],
   "source": [
    "import pandas as pd\n",
    "import matplotlib.pyplot as plt\n",
    "import os\n",
    "import numpy as np\n",
    "import networkit as nk\n",
    "from tqdm import tqdm\n",
    "import networkx as nx\n",
    "\n",
    "from benji_girgs import generation, utils, plotting\n",
    "import geopandas as gpd\n",
    "\n",
    "\n",
    "from IPython.core.interactiveshell import InteractiveShell\n",
    "InteractiveShell.ast_node_interactivity = \"all\""
   ]
  },
  {
   "cell_type": "code",
   "execution_count": 3,
   "metadata": {},
   "outputs": [
    {
     "data": {
      "text/plain": [
       "['./flightlist_20190601_20190630.csv',\n",
       " './flights.ipynb',\n",
       " './flights2.ipynb',\n",
       " './flights3.ipynb']"
      ]
     },
     "execution_count": 3,
     "metadata": {},
     "output_type": "execute_result"
    }
   ],
   "source": [
    "import glob\n",
    "glob.glob('./flight*')"
   ]
  },
  {
   "cell_type": "code",
   "execution_count": 4,
   "metadata": {},
   "outputs": [],
   "source": [
    "fn = './flightlist_20190601_20190630.csv'\n",
    "df = pd.read_csv(fn)"
   ]
  },
  {
   "cell_type": "code",
   "execution_count": 5,
   "metadata": {},
   "outputs": [
    {
     "data": {
      "text/plain": [
       "(2660901, 4)"
      ]
     },
     "execution_count": 5,
     "metadata": {},
     "output_type": "execute_result"
    }
   ],
   "source": [
    "df = df.loc[:, ['aircraft_uid', 'origin', 'destination', 'day']]\n",
    "df.shape\n",
    "df = df.dropna()"
   ]
  },
  {
   "cell_type": "code",
   "execution_count": 6,
   "metadata": {},
   "outputs": [],
   "source": [
    "airports = list(np.union1d(df.origin.unique(), df.destination.unique()))"
   ]
  },
  {
   "cell_type": "code",
   "execution_count": 7,
   "metadata": {},
   "outputs": [],
   "source": [
    "adf = pd.read_csv('./airport-codes_csv.csv')"
   ]
  },
  {
   "cell_type": "code",
   "execution_count": 8,
   "metadata": {},
   "outputs": [],
   "source": [
    "missing_airports = set([a for a in airports if not a in adf.ident.values])\n",
    "present_airports = [a for a in airports if a in adf.ident.values]\n",
    "airports = present_airports\n",
    "a, b = df.origin.apply(lambda x: x in missing_airports), df.destination.apply(lambda x: x in missing_airports)\n",
    "\n",
    "df = df[~(a|b)]\n",
    "df['airport_pair'] = df.apply(lambda x: set([x.origin, x.destination]), axis=1)\n",
    "df = df[df['airport_pair'].apply(len) == 2]\n",
    "df['airport_pair'] = df.airport_pair.apply(frozenset)"
   ]
  },
  {
   "cell_type": "code",
   "execution_count": 9,
   "metadata": {},
   "outputs": [
    {
     "name": "stdout",
     "output_type": "stream",
     "text": [
      "True\n"
     ]
    },
    {
     "name": "stderr",
     "output_type": "stream",
     "text": [
      "130704it [00:29, 4401.39it/s]\n",
      "130704it [00:00, 951323.11it/s]\n"
     ]
    }
   ],
   "source": [
    "\n",
    "g = nk.Graph(len(airports), weighted=True)\n",
    "print(g.isWeighted())\n",
    "pair_counts = df.groupby(['airport_pair']).aircraft_uid.count()\n",
    "thresh = 1\n",
    "for pair, count in tqdm(pair_counts.items()):\n",
    "    u, v = tuple(pair)\n",
    "    u_id, v_id = airports.index(u), airports.index(v)\n",
    "    _ = g.addEdge(u_id, v_id, w=count)\n",
    "    \n",
    "\n",
    "    \n",
    "weight_thresh = 1\n",
    "gthresh = nk.Graph(len(airports))\n",
    "for u, v, weight in tqdm(g.iterEdgesWeights()):\n",
    "    if weight >= weight_thresh:\n",
    "        _ = gthresh.addEdge(u, v)"
   ]
  },
  {
   "cell_type": "code",
   "execution_count": 10,
   "metadata": {},
   "outputs": [
    {
     "name": "stderr",
     "output_type": "stream",
     "text": [
      "Values less than or equal to 0 in data. Throwing out 0 or negative values\n"
     ]
    },
    {
     "name": "stdout",
     "output_type": "stream",
     "text": [
      "Calculating best minimal value for power law fit\n",
      "powerlaw alpha: 2.103\n"
     ]
    },
    {
     "data": {
      "image/png": "[encoded data removed]",
      "text/plain": [
       "<Figure size 640x480 with 2 Axes>"
      ]
     },
     "metadata": {},
     "output_type": "display_data"
    }
   ],
   "source": [
    "plotting.plot_degree_dist(gthresh, vlines=6, pl_fit=True)"
   ]
  },
  {
   "cell_type": "code",
   "execution_count": 11,
   "metadata": {},
   "outputs": [],
   "source": [
    "adf_mini = adf.set_index('ident')\n",
    "adf_mini = adf_mini.loc[airports]\n",
    "\n",
    "# reversed s.t. latitude then longitude\n",
    "adf_mini['coordinates'] = adf_mini.coordinates.apply(lambda x: tuple(reversed([float(y) for y in x.split(', ')])))\n",
    "\n",
    "adf_mini['lat'] = adf_mini['coordinates'].apply(lambda x: x[0])\n",
    "adf_mini['long'] = adf_mini['coordinates'].apply(lambda x: x[1])\n"
   ]
  },
  {
   "cell_type": "code",
   "execution_count": 12,
   "metadata": {},
   "outputs": [],
   "source": [
    "from geopy import distance"
   ]
  },
  {
   "cell_type": "code",
   "execution_count": 13,
   "metadata": {},
   "outputs": [],
   "source": [
    "dists = pd.read_csv('airport_distances3.csv.gz')"
   ]
  },
  {
   "cell_type": "code",
   "execution_count": 14,
   "metadata": {},
   "outputs": [
    {
     "data": {
      "text/html": [
       "<div>\n",
       "<style scoped>\n",
       "    .dataframe tbody tr th:only-of-type {\n",
       "        vertical-align: middle;\n",
       "    }\n",
       "\n",
       "    .dataframe tbody tr th {\n",
       "        vertical-align: top;\n",
       "    }\n",
       "\n",
       "    .dataframe thead th {\n",
       "        text-align: right;\n",
       "    }\n",
       "</style>\n",
       "<table border=\"1\" class=\"dataframe\">\n",
       "  <thead>\n",
       "    <tr style=\"text-align: right;\">\n",
       "      <th></th>\n",
       "      <th>Unnamed: 0</th>\n",
       "      <th>ident</th>\n",
       "      <th>00AK</th>\n",
       "      <th>00AL</th>\n",
       "      <th>00AZ</th>\n",
       "      <th>00CL</th>\n",
       "      <th>00FA</th>\n",
       "      <th>00GA</th>\n",
       "      <th>00ID</th>\n",
       "      <th>00IL</th>\n",
       "      <th>...</th>\n",
       "      <th>YYNG</th>\n",
       "      <th>YYOR</th>\n",
       "      <th>YYRK</th>\n",
       "      <th>YYRM</th>\n",
       "      <th>YZCE</th>\n",
       "      <th>Z19O</th>\n",
       "      <th>ZGGG</th>\n",
       "      <th>ZGSD</th>\n",
       "      <th>ZGSZ</th>\n",
       "      <th>ZUCK</th>\n",
       "    </tr>\n",
       "  </thead>\n",
       "  <tbody>\n",
       "    <tr>\n",
       "      <th>0</th>\n",
       "      <td>0</td>\n",
       "      <td>00AK</td>\n",
       "      <td>0.000000</td>\n",
       "      <td>5349.974219</td>\n",
       "      <td>4031.313953</td>\n",
       "      <td>3090.913579</td>\n",
       "      <td>6160.861618</td>\n",
       "      <td>5597.685971</td>\n",
       "      <td>2624.290470</td>\n",
       "      <td>4588.083436</td>\n",
       "      <td>...</td>\n",
       "      <td>11793.368335</td>\n",
       "      <td>12335.258127</td>\n",
       "      <td>13092.521568</td>\n",
       "      <td>12279.402422</td>\n",
       "      <td>10940.267793</td>\n",
       "      <td>9538.732344</td>\n",
       "      <td>8055.052259</td>\n",
       "      <td>8181.755727</td>\n",
       "      <td>8098.583026</td>\n",
       "      <td>7805.232639</td>\n",
       "    </tr>\n",
       "    <tr>\n",
       "      <th>1</th>\n",
       "      <td>1</td>\n",
       "      <td>00AL</td>\n",
       "      <td>5349.974219</td>\n",
       "      <td>0.000000</td>\n",
       "      <td>2324.456065</td>\n",
       "      <td>3129.788327</td>\n",
       "      <td>813.072495</td>\n",
       "      <td>276.870514</td>\n",
       "      <td>2840.512023</td>\n",
       "      <td>826.243658</td>\n",
       "      <td>...</td>\n",
       "      <td>15041.578634</td>\n",
       "      <td>16004.551823</td>\n",
       "      <td>17812.910704</td>\n",
       "      <td>15291.485510</td>\n",
       "      <td>14405.932770</td>\n",
       "      <td>10295.357189</td>\n",
       "      <td>13219.621421</td>\n",
       "      <td>13362.340135</td>\n",
       "      <td>13281.442748</td>\n",
       "      <td>12719.047508</td>\n",
       "    </tr>\n",
       "    <tr>\n",
       "      <th>2</th>\n",
       "      <td>2</td>\n",
       "      <td>00AZ</td>\n",
       "      <td>4031.313953</td>\n",
       "      <td>2324.456065</td>\n",
       "      <td>0.000000</td>\n",
       "      <td>1026.459060</td>\n",
       "      <td>2902.851009</td>\n",
       "      <td>2586.987864</td>\n",
       "      <td>1573.474113</td>\n",
       "      <td>2148.411670</td>\n",
       "      <td>...</td>\n",
       "      <td>12838.214527</td>\n",
       "      <td>13767.080535</td>\n",
       "      <td>15490.615548</td>\n",
       "      <td>13155.315096</td>\n",
       "      <td>12139.509525</td>\n",
       "      <td>11708.704794</td>\n",
       "      <td>12021.825087</td>\n",
       "      <td>12137.284974</td>\n",
       "      <td>12054.551262</td>\n",
       "      <td>11834.790477</td>\n",
       "    </tr>\n",
       "    <tr>\n",
       "      <th>3</th>\n",
       "      <td>3</td>\n",
       "      <td>00CL</td>\n",
       "      <td>3090.913579</td>\n",
       "      <td>3129.788327</td>\n",
       "      <td>1026.459060</td>\n",
       "      <td>0.000000</td>\n",
       "      <td>3808.023298</td>\n",
       "      <td>3405.451955</td>\n",
       "      <td>1065.973722</td>\n",
       "      <td>2720.116619</td>\n",
       "      <td>...</td>\n",
       "      <td>12322.898713</td>\n",
       "      <td>13193.702330</td>\n",
       "      <td>14745.928966</td>\n",
       "      <td>12695.771474</td>\n",
       "      <td>11560.525005</td>\n",
       "      <td>11521.142414</td>\n",
       "      <td>11011.046593</td>\n",
       "      <td>11123.670073</td>\n",
       "      <td>11041.193486</td>\n",
       "      <td>10862.957523</td>\n",
       "    </tr>\n",
       "    <tr>\n",
       "      <th>4</th>\n",
       "      <td>4</td>\n",
       "      <td>00FA</td>\n",
       "      <td>6160.861618</td>\n",
       "      <td>813.072495</td>\n",
       "      <td>2902.851009</td>\n",
       "      <td>3808.023298</td>\n",
       "      <td>0.000000</td>\n",
       "      <td>594.573226</td>\n",
       "      <td>3627.065931</td>\n",
       "      <td>1621.317935</td>\n",
       "      <td>...</td>\n",
       "      <td>15237.780207</td>\n",
       "      <td>16215.422832</td>\n",
       "      <td>18165.876494</td>\n",
       "      <td>15404.310732</td>\n",
       "      <td>14706.867858</td>\n",
       "      <td>10469.324110</td>\n",
       "      <td>14012.640431</td>\n",
       "      <td>14157.147004</td>\n",
       "      <td>14076.906000</td>\n",
       "      <td>13477.241248</td>\n",
       "    </tr>\n",
       "  </tbody>\n",
       "</table>\n",
       "<p>5 rows × 10319 columns</p>\n",
       "</div>"
      ],
      "text/plain": [
       "   Unnamed: 0 ident         00AK         00AL         00AZ         00CL  \\\n",
       "0           0  00AK     0.000000  5349.974219  4031.313953  3090.913579   \n",
       "1           1  00AL  5349.974219     0.000000  2324.456065  3129.788327   \n",
       "2           2  00AZ  4031.313953  2324.456065     0.000000  1026.459060   \n",
       "3           3  00CL  3090.913579  3129.788327  1026.459060     0.000000   \n",
       "4           4  00FA  6160.861618   813.072495  2902.851009  3808.023298   \n",
       "\n",
       "          00FA         00GA         00ID         00IL  ...          YYNG  \\\n",
       "0  6160.861618  5597.685971  2624.290470  4588.083436  ...  11793.368335   \n",
       "1   813.072495   276.870514  2840.512023   826.243658  ...  15041.578634   \n",
       "2  2902.851009  2586.987864  1573.474113  2148.411670  ...  12838.214527   \n",
       "3  3808.023298  3405.451955  1065.973722  2720.116619  ...  12322.898713   \n",
       "4     0.000000   594.573226  3627.065931  1621.317935  ...  15237.780207   \n",
       "\n",
       "           YYOR          YYRK          YYRM          YZCE          Z19O  \\\n",
       "0  12335.258127  13092.521568  12279.402422  10940.267793   9538.732344   \n",
       "1  16004.551823  17812.910704  15291.485510  14405.932770  10295.357189   \n",
       "2  13767.080535  15490.615548  13155.315096  12139.509525  11708.704794   \n",
       "3  13193.702330  14745.928966  12695.771474  11560.525005  11521.142414   \n",
       "4  16215.422832  18165.876494  15404.310732  14706.867858  10469.324110   \n",
       "\n",
       "           ZGGG          ZGSD          ZGSZ          ZUCK  \n",
       "0   8055.052259   8181.755727   8098.583026   7805.232639  \n",
       "1  13219.621421  13362.340135  13281.442748  12719.047508  \n",
       "2  12021.825087  12137.284974  12054.551262  11834.790477  \n",
       "3  11011.046593  11123.670073  11041.193486  10862.957523  \n",
       "4  14012.640431  14157.147004  14076.906000  13477.241248  \n",
       "\n",
       "[5 rows x 10319 columns]"
      ]
     },
     "execution_count": 14,
     "metadata": {},
     "output_type": "execute_result"
    }
   ],
   "source": [
    "dists.head()"
   ]
  },
  {
   "cell_type": "code",
   "execution_count": null,
   "metadata": {},
   "outputs": [],
   "source": []
  },
  {
   "cell_type": "code",
   "execution_count": 15,
   "metadata": {},
   "outputs": [],
   "source": [
    "dists = dists.iloc[:, 1:]\n",
    "dists = dists.set_index('ident')"
   ]
  },
  {
   "cell_type": "code",
   "execution_count": 16,
   "metadata": {},
   "outputs": [],
   "source": [
    "dists_np = dists.to_numpy()"
   ]
  },
  {
   "cell_type": "code",
   "execution_count": 17,
   "metadata": {},
   "outputs": [
    {
     "data": {
      "text/plain": [
       "(10317, 10317)"
      ]
     },
     "execution_count": 17,
     "metadata": {},
     "output_type": "execute_result"
    }
   ],
   "source": [
    "dists_np.shape"
   ]
  },
  {
   "cell_type": "code",
   "execution_count": 18,
   "metadata": {},
   "outputs": [
    {
     "data": {
      "text/plain": [
       "((59.94919968, -151.695999146), (34.305599212646484, -112.16500091552734))"
      ]
     },
     "execution_count": 18,
     "metadata": {},
     "output_type": "execute_result"
    },
    {
     "data": {
      "text/plain": [
       "Distance(4031.313953084402)"
      ]
     },
     "execution_count": 18,
     "metadata": {},
     "output_type": "execute_result"
    }
   ],
   "source": [
    "a, b = adf_mini.loc['00AK'].coordinates, adf_mini.loc['00AZ'].coordinates\n",
    "a, b\n",
    "distance.distance(a, b)"
   ]
  },
  {
   "cell_type": "code",
   "execution_count": 19,
   "metadata": {},
   "outputs": [
    {
     "data": {
      "text/plain": [
       "4031.313953084402"
      ]
     },
     "execution_count": 19,
     "metadata": {},
     "output_type": "execute_result"
    }
   ],
   "source": [
    "dists_np[0, 2]"
   ]
  },
  {
   "cell_type": "code",
   "execution_count": 20,
   "metadata": {},
   "outputs": [],
   "source": [
    "# 0.5 circumference of the earth (and dists_np.max()) is roughly 20000 km\n",
    "dists_np = dists_np * np.sqrt(2)/20000"
   ]
  },
  {
   "cell_type": "code",
   "execution_count": 21,
   "metadata": {},
   "outputs": [
    {
     "data": {
      "text/plain": [
       "1.414097672012551"
      ]
     },
     "execution_count": 21,
     "metadata": {},
     "output_type": "execute_result"
    }
   ],
   "source": [
    "dists_np.max()"
   ]
  },
  {
   "cell_type": "code",
   "execution_count": 22,
   "metadata": {},
   "outputs": [],
   "source": [
    "# sub_indices = np.random.choice(dists_np.shape[0], 4000)\n",
    "# dists_np2 = dists_np[sub_indices][:, sub_indices]\n",
    "# gthresh2 = quick_subgraph(gthresh, sub_indices)"
   ]
  },
  {
   "cell_type": "code",
   "execution_count": 23,
   "metadata": {},
   "outputs": [],
   "source": [
    "# degrees = np.array([gthresh2.degree(i) for i in range(gthresh2.numberOfNodes())]).astype(np.float64)\n",
    "# degrees[:10]"
   ]
  },
  {
   "cell_type": "code",
   "execution_count": null,
   "metadata": {},
   "outputs": [],
   "source": []
  },
  {
   "cell_type": "code",
   "execution_count": 24,
   "metadata": {},
   "outputs": [],
   "source": [
    "delta = 0.001\n",
    "degrees = np.array([gthresh.degree(i) for i in range(gthresh.numberOfNodes())]).astype(np.float64)\n",
    "degrees[degrees == 0] += delta\n",
    "weights = degrees / len(degrees)"
   ]
  },
  {
   "cell_type": "code",
   "execution_count": 25,
   "metadata": {},
   "outputs": [
    {
     "name": "stdout",
     "output_type": "stream",
     "text": [
      "Network Properties:\n",
      "nodes, edges\t\t\t10317, 130704\n",
      "directed?\t\t\tFalse\n",
      "weighted?\t\t\tFalse\n",
      "isolated nodes\t\t\t15\n",
      "self-loops\t\t\t0\n",
      "density\t\t\t\t0.002456\n",
      "clustering coefficient\t\t0.369664\n",
      "min/max/avg degree\t\t0, 864, 25.337598\n",
      "degree assortativity\t\t-0.013060\n",
      "number of connected components\t29\n",
      "size of largest component\t10274 (99.58 %)\n"
     ]
    }
   ],
   "source": [
    "nk.overview(gthresh)"
   ]
  },
  {
   "cell_type": "code",
   "execution_count": 26,
   "metadata": {},
   "outputs": [],
   "source": [
    " from girg_sampling import girgs"
   ]
  },
  {
   "cell_type": "code",
   "execution_count": 27,
   "metadata": {},
   "outputs": [],
   "source": [
    "weights = list(weights)"
   ]
  },
  {
   "cell_type": "code",
   "execution_count": 28,
   "metadata": {},
   "outputs": [],
   "source": [
    "desiredAvgDegree = 25.337598\n",
    "d = 2\n",
    "n = 10317\n",
    "alpha = 1.5\n",
    "tau=2.103"
   ]
  },
  {
   "cell_type": "code",
   "execution_count": 31,
   "metadata": {},
   "outputs": [
    {
     "data": {
      "text/plain": [
       "(1.5, 2, 25.337598)"
      ]
     },
     "execution_count": 31,
     "metadata": {},
     "output_type": "execute_result"
    }
   ],
   "source": [
    "desiredAvgDegree = 25.337598\n",
    "alpha, d, desiredAvgDegree"
   ]
  },
  {
   "cell_type": "code",
   "execution_count": 33,
   "metadata": {},
   "outputs": [
    {
     "data": {
      "text/plain": [
       "939.5682338805269"
      ]
     },
     "execution_count": 33,
     "metadata": {},
     "output_type": "execute_result"
    }
   ],
   "source": [
    "const = girgs.scaleWeights(weights, desiredAvgDegree, d, alpha)\n",
    "const"
   ]
  },
  {
   "cell_type": "code",
   "execution_count": 34,
   "metadata": {},
   "outputs": [],
   "source": [
    "scaled_weights = list(np.array(weights) * const)"
   ]
  },
  {
   "cell_type": "code",
   "execution_count": null,
   "metadata": {},
   "outputs": [],
   "source": [
    "desiredAvgDegree = 25.337598\n",
    "d = 2\n",
    "n = 10317\n",
    "alpha = 1.5\n",
    "tau=2.103\n",
    "\n",
    "\"\"\"Generate a GIRG with C-library\"\"\"\n",
    "# weights = girgs.generateWeights(n, tau)\n",
    "scaled_weights = weights\n",
    "const = 1\n",
    "if desiredAvgDegree is not None:\n",
    "    const = girgs.scaleWeights(weights, desiredAvgDegree, d, alpha)\n",
    "    scaled_weights = list(np.array(weights) * const)\n",
    "    \n",
    "    \n",
    "pts = girgs.generatePositions(n, d)\n",
    "edges = girgs.generateEdges(scaled_weights, pts, alpha)\n",
    "# Make graph from edge list (not adjacency matrix)\n",
    "gnx = nx.from_edgelist(edges)\n",
    "missing_nodes = set(list(range(n)))\n",
    "for node in gnx.nodes:\n",
    "    missing_nodes.remove(node)\n",
    "\n",
    "for missing_node in missing_nodes:\n",
    "    gnx.add_node(missing_node)\n",
    "\n",
    "gnk = nk.nxadapter.nx2nk(gnx)\n",
    "# id2gnk = dict((gnx_id, gnk_id) for (gnx_id, gnk_id) in zip(gnx.nodes(), range(gnx.number_of_nodes())))\n",
    "\n",
    "# return gnk, edges, weights, pts, const, id2gnk"
   ]
  },
  {
   "cell_type": "code",
   "execution_count": 7,
   "metadata": {},
   "outputs": [
    {
     "name": "stdout",
     "output_type": "stream",
     "text": [
      "Network Properties:\n",
      "nodes, edges\t\t\t10317, 130853\n",
      "directed?\t\t\tFalse\n",
      "weighted?\t\t\tFalse\n",
      "isolated nodes\t\t\t5\n",
      "self-loops\t\t\t0\n",
      "density\t\t\t\t0.002459\n",
      "clustering coefficient\t\t0.599425\n",
      "min/max/avg degree\t\t0, 3657, 25.366483\n",
      "degree assortativity\t\t-0.128916\n",
      "number of connected components\t6\n",
      "size of largest component\t10312 (99.95 %)\n"
     ]
    }
   ],
   "source": [
    "nk.overview(gnk)"
   ]
  },
  {
   "cell_type": "code",
   "execution_count": null,
   "metadata": {},
   "outputs": [],
   "source": [
    "alphas = np.linspace(1.3, 1.9, 10)\n",
    "consts = np.linspace(0.7*1.3*35/25 , 0.7*80/25 * 1.3, 10)\n",
    "for alpha, const in zip(alphas, consts):\n",
    "    asdf.alpha = alpha\n",
    "    asdf.const = const\n",
    "    g_girg = asdf.gen_new_girg()\n",
    "    print(f'alpha: {alpha:.3f}; const: {const:.3f}')\n",
    "    print(f'avg degrees: {utils.avg_degree(g_girg):.3f}, {utils.avg_degree(gthresh):.3f}')\n",
    "    a, b = compare_two_graphs(g_girg, gthresh)\n",
    "    print(f'girg missing %: {a:.3f}, true missing %: {b:.3f}')"
   ]
  }
 ],
 "metadata": {
  "kernelspec": {
   "display_name": "girg_env",
   "language": "python",
   "name": "girg_env"
  },
  "language_info": {
   "codemirror_mode": {
    "name": "ipython",
    "version": 3
   },
   "file_extension": ".py",
   "mimetype": "text/x-python",
   "name": "python",
   "nbconvert_exporter": "python",
   "pygments_lexer": "ipython3",
   "version": "3.8.5"
  },
  "toc-autonumbering": true,
  "toc-showcode": true,
  "toc-showmarkdowntxt": false
 },
 "nbformat": 4,
 "nbformat_minor": 4
}
