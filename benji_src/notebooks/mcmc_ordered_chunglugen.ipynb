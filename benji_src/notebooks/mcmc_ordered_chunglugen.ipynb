{
 "cells": [
  {
   "cell_type": "code",
   "execution_count": 1,
   "metadata": {
    "collapsed": true,
    "ExecuteTime": {
     "start_time": "2023-08-29T11:47:20.524311Z",
     "end_time": "2023-08-29T11:47:24.975156Z"
    }
   },
   "outputs": [
    {
     "data": {
      "text/html": "\n\t\t\t<script type=\"text/javascript\">\n\t\t\t<!--\n\t\t\t\t\n\t\t\t{\n\t\t\t\tvar element = document.getElementById('NetworKit_script');\n\t\t\t\tif (element) {\n\t\t\t\t\telement.parentNode.removeChild(element);\n\t\t\t\t}\n\t\t\t\telement = document.createElement('script');\n\t\t\t\telement.type = 'text/javascript';\n\t\t\t\telement.innerHTML = 'function NetworKit_pageEmbed(id) { var i, j; var elements; elements = document.getElementById(id).getElementsByClassName(\"Plot\"); for (i=0; i<elements.length; i++) { elements[i].id = id + \"_Plot_\" + i; var data = elements[i].getAttribute(\"data-image\").split(\"|\"); elements[i].removeAttribute(\"data-image\"); var content = \"<div class=\\\\\"Image\\\\\" id=\\\\\"\" + elements[i].id + \"_Image\\\\\" />\"; elements[i].innerHTML = content; elements[i].setAttribute(\"data-image-index\", 0); elements[i].setAttribute(\"data-image-length\", data.length); for (j=0; j<data.length; j++) { elements[i].setAttribute(\"data-image-\" + j, data[j]); } NetworKit_plotUpdate(elements[i]); elements[i].onclick = function (e) { NetworKit_overlayShow((e.target) ? e.target : e.srcElement); } } elements = document.getElementById(id).getElementsByClassName(\"HeatCell\"); for (i=0; i<elements.length; i++) { var data = parseFloat(elements[i].getAttribute(\"data-heat\")); var color = \"#00FF00\"; if (data <= 1 && data > 0) { color = \"hsla(0, 100%, 75%, \" + (data) + \")\"; } else if (data <= 0 && data >= -1) { color = \"hsla(240, 100%, 75%, \" + (-data) + \")\"; } elements[i].style.backgroundColor = color; } elements = document.getElementById(id).getElementsByClassName(\"Details\"); for (i=0; i<elements.length; i++) { elements[i].setAttribute(\"data-title\", \"-\"); NetworKit_toggleDetails(elements[i]); elements[i].onclick = function (e) { NetworKit_toggleDetails((e.target) ? e.target : e.srcElement); } } elements = document.getElementById(id).getElementsByClassName(\"MathValue\"); for (i=elements.length-1; i>=0; i--) { value = elements[i].innerHTML.trim(); if (value === \"nan\") { elements[i].parentNode.innerHTML = \"\" } } elements = document.getElementById(id).getElementsByClassName(\"SubCategory\"); for (i=elements.length-1; i>=0; i--) { value = elements[i].innerHTML.trim(); if (value === \"\") { elements[i].parentNode.removeChild(elements[i]) } } elements = document.getElementById(id).getElementsByClassName(\"Category\"); for (i=elements.length-1; i>=0; i--) { value = elements[i].innerHTML.trim(); if (value === \"\") { elements[i].parentNode.removeChild(elements[i]) } } var isFirefox = false; try { isFirefox = typeof InstallTrigger !== \"undefined\"; } catch (e) {} if (!isFirefox) { alert(\"Currently the function\\'s output is only fully supported by Firefox.\"); } } function NetworKit_plotUpdate(source) { var index = source.getAttribute(\"data-image-index\"); var data = source.getAttribute(\"data-image-\" + index); var image = document.getElementById(source.id + \"_Image\"); image.style.backgroundImage = \"url(\" + data + \")\"; } function NetworKit_showElement(id, show) { var element = document.getElementById(id); element.style.display = (show) ? \"block\" : \"none\"; } function NetworKit_overlayShow(source) { NetworKit_overlayUpdate(source); NetworKit_showElement(\"NetworKit_Overlay\", true); } function NetworKit_overlayUpdate(source) { document.getElementById(\"NetworKit_Overlay_Title\").innerHTML = source.title; var index = source.getAttribute(\"data-image-index\"); var data = source.getAttribute(\"data-image-\" + index); var image = document.getElementById(\"NetworKit_Overlay_Image\"); image.setAttribute(\"data-id\", source.id); image.style.backgroundImage = \"url(\" + data + \")\"; var link = document.getElementById(\"NetworKit_Overlay_Toolbar_Bottom_Save\"); link.href = data; link.download = source.title + \".svg\"; } function NetworKit_overlayImageShift(delta) { var image = document.getElementById(\"NetworKit_Overlay_Image\"); var source = document.getElementById(image.getAttribute(\"data-id\")); var index = parseInt(source.getAttribute(\"data-image-index\")); var length = parseInt(source.getAttribute(\"data-image-length\")); var index = (index+delta) % length; if (index < 0) { index = length + index; } source.setAttribute(\"data-image-index\", index); NetworKit_overlayUpdate(source); } function NetworKit_toggleDetails(source) { var childs = source.children; var show = false; if (source.getAttribute(\"data-title\") == \"-\") { source.setAttribute(\"data-title\", \"+\"); show = false; } else { source.setAttribute(\"data-title\", \"-\"); show = true; } for (i=0; i<childs.length; i++) { if (show) { childs[i].style.display = \"block\"; } else { childs[i].style.display = \"none\"; } } }';\n\t\t\t\telement.setAttribute('id', 'NetworKit_script');\n\t\t\t\tdocument.head.appendChild(element);\n\t\t\t}\n\t\t\n\t\t\t\t\n\t\t\t{\n\t\t\t\tvar element = document.getElementById('NetworKit_style');\n\t\t\t\tif (element) {\n\t\t\t\t\telement.parentNode.removeChild(element);\n\t\t\t\t}\n\t\t\t\telement = document.createElement('style');\n\t\t\t\telement.type = 'text/css';\n\t\t\t\telement.innerHTML = '.NetworKit_Page { font-family: Arial, Helvetica, sans-serif; font-size: 14px; } .NetworKit_Page .Value:before { font-family: Arial, Helvetica, sans-serif; font-size: 1.05em; content: attr(data-title) \":\"; margin-left: -2.5em; padding-right: 0.5em; } .NetworKit_Page .Details .Value:before { display: block; } .NetworKit_Page .Value { font-family: monospace; white-space: pre; padding-left: 2.5em; white-space: -moz-pre-wrap !important; white-space: -pre-wrap; white-space: -o-pre-wrap; white-space: pre-wrap; word-wrap: break-word; tab-size: 4; -moz-tab-size: 4; } .NetworKit_Page .Category { clear: both; padding-left: 1em; margin-bottom: 1.5em; } .NetworKit_Page .Category:before { content: attr(data-title); font-size: 1.75em; display: block; margin-left: -0.8em; margin-bottom: 0.5em; } .NetworKit_Page .SubCategory { margin-bottom: 1.5em; padding-left: 1em; } .NetworKit_Page .SubCategory:before { font-size: 1.6em; display: block; margin-left: -0.8em; margin-bottom: 0.5em; } .NetworKit_Page .SubCategory[data-title]:before { content: attr(data-title); } .NetworKit_Page .Block { display: block; } .NetworKit_Page .Block:after { content: \".\"; visibility: hidden; display: block; height: 0; clear: both; } .NetworKit_Page .Block .Thumbnail_Overview, .NetworKit_Page .Block .Thumbnail_ScatterPlot { width: 260px; float: left; } .NetworKit_Page .Block .Thumbnail_Overview img, .NetworKit_Page .Block .Thumbnail_ScatterPlot img { width: 260px; } .NetworKit_Page .Block .Thumbnail_Overview:before, .NetworKit_Page .Block .Thumbnail_ScatterPlot:before { display: block; text-align: center; font-weight: bold; } .NetworKit_Page .Block .Thumbnail_Overview:before { content: attr(data-title); } .NetworKit_Page .HeatCell { font-family: \"Courier New\", Courier, monospace; cursor: pointer; } .NetworKit_Page .HeatCell, .NetworKit_Page .HeatCellName { display: inline; padding: 0.1em; margin-right: 2px; background-color: #FFFFFF } .NetworKit_Page .HeatCellName { margin-left: 0.25em; } .NetworKit_Page .HeatCell:before { content: attr(data-heat); display: inline-block; color: #000000; width: 4em; text-align: center; } .NetworKit_Page .Measure { clear: both; } .NetworKit_Page .Measure .Details { cursor: pointer; } .NetworKit_Page .Measure .Details:before { content: \"[\" attr(data-title) \"]\"; display: block; } .NetworKit_Page .Measure .Details .Value { border-left: 1px dotted black; margin-left: 0.4em; padding-left: 3.5em; pointer-events: none; } .NetworKit_Page .Measure .Details .Spacer:before { content: \".\"; opacity: 0.0; pointer-events: none; } .NetworKit_Page .Measure .Plot { width: 440px; height: 440px; cursor: pointer; float: left; margin-left: -0.9em; margin-right: 20px; } .NetworKit_Page .Measure .Plot .Image { background-repeat: no-repeat; background-position: center center; background-size: contain; height: 100%; pointer-events: none; } .NetworKit_Page .Measure .Stat { width: 500px; float: left; } .NetworKit_Page .Measure .Stat .Group { padding-left: 1.25em; margin-bottom: 0.75em; } .NetworKit_Page .Measure .Stat .Group .Title { font-size: 1.1em; display: block; margin-bottom: 0.3em; margin-left: -0.75em; border-right-style: dotted; border-right-width: 1px; border-bottom-style: dotted; border-bottom-width: 1px; background-color: #D0D0D0; padding-left: 0.2em; } .NetworKit_Page .Measure .Stat .Group .List { -webkit-column-count: 3; -moz-column-count: 3; column-count: 3; } .NetworKit_Page .Measure .Stat .Group .List .Entry { position: relative; line-height: 1.75em; } .NetworKit_Page .Measure .Stat .Group .List .Entry[data-tooltip]:before { position: absolute; left: 0; top: -40px; background-color: #808080; color: #ffffff; height: 30px; line-height: 30px; border-radius: 5px; padding: 0 15px; content: attr(data-tooltip); white-space: nowrap; display: none; } .NetworKit_Page .Measure .Stat .Group .List .Entry[data-tooltip]:after { position: absolute; left: 15px; top: -10px; border-top: 7px solid #808080; border-left: 7px solid transparent; border-right: 7px solid transparent; content: \"\"; display: none; } .NetworKit_Page .Measure .Stat .Group .List .Entry[data-tooltip]:hover:after, .NetworKit_Page .Measure .Stat .Group .List .Entry[data-tooltip]:hover:before { display: block; } .NetworKit_Page .Measure .Stat .Group .List .Entry .MathValue { font-family: \"Courier New\", Courier, monospace; } .NetworKit_Page .Measure:after { content: \".\"; visibility: hidden; display: block; height: 0; clear: both; } .NetworKit_Page .PartitionPie { clear: both; } .NetworKit_Page .PartitionPie img { width: 600px; } #NetworKit_Overlay { left: 0px; top: 0px; display: none; position: absolute; width: 100%; height: 100%; background-color: rgba(0,0,0,0.6); z-index: 1000; } #NetworKit_Overlay_Title { position: absolute; color: white; transform: rotate(-90deg); width: 32em; height: 32em; padding-right: 0.5em; padding-top: 0.5em; text-align: right; font-size: 40px; } #NetworKit_Overlay .button { background: white; cursor: pointer; } #NetworKit_Overlay .button:before { size: 13px; display: inline-block; text-align: center; margin-top: 0.5em; margin-bottom: 0.5em; width: 1.5em; height: 1.5em; } #NetworKit_Overlay .icon-close:before { content: \"X\"; } #NetworKit_Overlay .icon-previous:before { content: \"P\"; } #NetworKit_Overlay .icon-next:before { content: \"N\"; } #NetworKit_Overlay .icon-save:before { content: \"S\"; } #NetworKit_Overlay_Toolbar_Top, #NetworKit_Overlay_Toolbar_Bottom { position: absolute; width: 40px; right: 13px; text-align: right; z-index: 1100; } #NetworKit_Overlay_Toolbar_Top { top: 0.5em; } #NetworKit_Overlay_Toolbar_Bottom { Bottom: 0.5em; } #NetworKit_Overlay_ImageContainer { position: absolute; top: 5%; left: 5%; height: 90%; width: 90%; background-repeat: no-repeat; background-position: center center; background-size: contain; } #NetworKit_Overlay_Image { height: 100%; width: 100%; background-repeat: no-repeat; background-position: center center; background-size: contain; }';\n\t\t\t\telement.setAttribute('id', 'NetworKit_style');\n\t\t\t\tdocument.head.appendChild(element);\n\t\t\t}\n\t\t\n\t\t\t\t\n\t\t\t{\n\t\t\t\tvar element = document.getElementById('NetworKit_Overlay');\n\t\t\t\tif (element) {\n\t\t\t\t\telement.parentNode.removeChild(element);\n\t\t\t\t}\n\t\t\t\telement = document.createElement('div');\n\t\t\t\telement.innerHTML = '<div id=\"NetworKit_Overlay_Toolbar_Top\"><div class=\"button icon-close\" id=\"NetworKit_Overlay_Close\" /></div><div id=\"NetworKit_Overlay_Title\" /> <div id=\"NetworKit_Overlay_ImageContainer\"> <div id=\"NetworKit_Overlay_Image\" /> </div> <div id=\"NetworKit_Overlay_Toolbar_Bottom\"> <div class=\"button icon-previous\" onclick=\"NetworKit_overlayImageShift(-1)\" /> <div class=\"button icon-next\" onclick=\"NetworKit_overlayImageShift(1)\" /> <a id=\"NetworKit_Overlay_Toolbar_Bottom_Save\"><div class=\"button icon-save\" /></a> </div>';\n\t\t\t\telement.setAttribute('id', 'NetworKit_Overlay');\n\t\t\t\tdocument.body.appendChild(element);\n\t\t\t\tdocument.getElementById('NetworKit_Overlay_Close').onclick = function (e) {\n\t\t\t\t\tdocument.getElementById('NetworKit_Overlay').style.display = 'none';\n\t\t\t\t}\n\t\t\t}\n\t\t\n\t\t\t-->\n\t\t\t</script>\n\t\t"
     },
     "metadata": {},
     "output_type": "display_data"
    },
    {
     "name": "stdout",
     "output_type": "stream",
     "text": [
      "/cluster/scratch/bdayan/GIRG_data/socfb-Brandeis99.SpaceOne\n",
      "/cluster/scratch/bdayan/GIRG_data/socfb-Swarthmore42.SpaceOne\n",
      "/cluster/scratch/bdayan/GIRG_data/socfb-Georgetown15.SpaceOne\n",
      "/cluster/scratch/bdayan/GIRG_data/socfb-UC64.SpaceOne\n",
      "/cluster/scratch/bdayan/GIRG_data/socfb-Bowdoin47.SpaceOne\n",
      "/cluster/scratch/bdayan/GIRG_data/socfb-Middlebury45.SpaceOne\n",
      "/cluster/scratch/bdayan/GIRG_data/socfb-MIT.SpaceOne\n",
      "/cluster/scratch/bdayan/GIRG_data/socfb-WashU32.SpaceOne\n",
      "/cluster/scratch/bdayan/GIRG_data/socfb-William77.SpaceOne\n",
      "/cluster/scratch/bdayan/GIRG_data/socfb-Pepperdine86.SpaceOne\n",
      "/cluster/scratch/bdayan/GIRG_data/socfb-Emory27.SpaceOne\n",
      "/cluster/scratch/bdayan/GIRG_data/socfb-Lehigh96.SpaceOne\n",
      "/cluster/scratch/bdayan/GIRG_data/socfb-Mich67.SpaceOne\n",
      "/cluster/scratch/bdayan/GIRG_data/socfb-Princeton12.SpaceOne\n",
      "/cluster/scratch/bdayan/GIRG_data/socfb-Rice31.SpaceOne\n",
      "/cluster/scratch/bdayan/GIRG_data/socfb-Columbia2.SpaceOne\n",
      "/cluster/scratch/bdayan/GIRG_data/socfb-Williams40.SpaceOne\n",
      "/cluster/scratch/bdayan/GIRG_data/socfb-CMU.SpaceOne\n",
      "/cluster/scratch/bdayan/GIRG_data/socfb-Yale4.SpaceOne\n",
      "/cluster/scratch/bdayan/GIRG_data/socfb-BC17.SpaceOne\n",
      "/cluster/scratch/bdayan/GIRG_data/socfb-Haverford76.SpaceOne\n",
      "/cluster/scratch/bdayan/GIRG_data/socfb-Bingham82.SpaceOne\n",
      "/cluster/scratch/bdayan/GIRG_data/socfb-Santa74.SpaceOne\n",
      "/cluster/scratch/bdayan/GIRG_data/socfb-Caltech36.SpaceOne\n",
      "/cluster/scratch/bdayan/GIRG_data/socfb-Villanova62.SpaceOne\n",
      "/cluster/scratch/bdayan/GIRG_data/socfb-Trinity100.SpaceOne\n",
      "/cluster/scratch/bdayan/GIRG_data/socfb-UCSC68.SpaceOne\n",
      "/cluster/scratch/bdayan/GIRG_data/socfb-Wake73.SpaceOne\n",
      "/cluster/scratch/bdayan/GIRG_data/socfb-Smith60.SpaceOne\n",
      "/cluster/scratch/bdayan/GIRG_data/socfb-Northeastern19.SpaceOne\n"
     ]
    }
   ],
   "source": [
    "import sys\n",
    "sys.path.append('/cluster/home/bdayan/girgs/nemo-eva/src/')\n",
    "sys.path+= ['/cluster/apps/nss/gcc-6.3.0/python_gpu/3.8.5', '/cluster/apps/nss/gcc-6.3.0/python/3.8.5/x86_64/lib64/python38.zip', '/cluster/apps/nss/gcc-6.3.0/python/3.8.5/x86_64/lib64/python3.8', '/cluster/apps/nss/gcc-6.3.0/python/3.8.5/x86_64/lib64/python3.8/lib-dynload']\n",
    "import os\n",
    "os.chdir('/cluster/home/bdayan/girgs/benji_src/')\n",
    "\n",
    "import numpy as np\n",
    "\n",
    "# import feature_extractor\n",
    "\n",
    "\n",
    "#\n",
    "# from feature_extractor import FeatureExtractor\n",
    "\n",
    "import pandas as pd\n",
    "import glob\n",
    "\n",
    "import os\n",
    "import do_feature_extract\n",
    "import networkit\n",
    "\n",
    "from benji_girgs import utils, mcmc, generation, points\n",
    "import networkit as nk\n",
    "import networkx as nx\n",
    "\n",
    "import matplotlib.pyplot as plt\n",
    "import multiprocessing as mp\n",
    "import torch\n",
    "\n",
    "from IPython.core.interactiveshell import InteractiveShell\n",
    "InteractiveShell.ast_node_interactivity = \"all\"\n",
    "\n",
    "\n",
    "\n",
    "os.environ['DATA_PATH'] = '/cluster/home/bdayan/girgs/FE_FB_copyweights_cube/'\n",
    "\n",
    "df = pd.read_csv(os.environ['DATA_PATH'] + '2-features/results.csv')\n",
    "df.Info = df.Info.apply(lambda temp: {key: eval(var) for key, var in [x.split('=') for x in temp.split('|')]} if (type(temp) is str and '|' in temp) else {\n",
    "    })\n",
    "df['alpha'] = df.Info.apply(lambda x: x['alpha'] if 'alpha' in x else 1/float(x['t']) if 't' in x else None)\n",
    "mini_df = df.loc[df.Model == '1d-copyweight-cube-girg'].sort_values('Nodes').loc[:,['Graph', 'Model', 'Nodes', 'Info'] ]\n"
   ]
  },
  {
   "cell_type": "code",
   "execution_count": 1,
   "outputs": [],
   "source": [],
   "metadata": {
    "collapsed": false,
    "ExecuteTime": {
     "start_time": "2023-08-29T11:47:24.973751Z",
     "end_time": "2023-08-29T11:47:24.975260Z"
    }
   }
  },
  {
   "cell_type": "code",
   "execution_count": 21,
   "outputs": [],
   "source": [
    "n = 1000\n",
    "\n",
    "tau = 2.2\n",
    "alpha = 1.3\n",
    "\n",
    "g = generation.generate_chung_lu(n, tau, 60)\n"
   ],
   "metadata": {
    "collapsed": false,
    "ExecuteTime": {
     "start_time": "2023-08-29T13:20:33.859142Z",
     "end_time": "2023-08-29T13:20:33.891312Z"
    }
   }
  },
  {
   "cell_type": "code",
   "execution_count": 22,
   "outputs": [
    {
     "data": {
      "text/plain": "<module 'benji_girgs.mcmc' from '/cluster/home/bdayan/girgs/benji_src/benji_girgs/mcmc.py'>"
     },
     "execution_count": 22,
     "metadata": {},
     "output_type": "execute_result"
    }
   ],
   "source": [
    "import importlib\n",
    "importlib.reload(mcmc)"
   ],
   "metadata": {
    "collapsed": false,
    "ExecuteTime": {
     "start_time": "2023-08-29T13:20:34.460848Z",
     "end_time": "2023-08-29T13:20:34.495854Z"
    }
   }
  },
  {
   "cell_type": "code",
   "execution_count": 25,
   "outputs": [],
   "source": [
    "d2 = 2\n",
    "mc_name = f'{n} node chunglu gen; {d2}d fit cube GIRG'\n",
    "\n",
    "a, B, pts = utils.get_diffmap_and_points(g, ds=d2, process='restrict_uniform_edges')\n",
    "pts = points.PointsCube(pts)\n",
    "weights = np.array(utils.graph_degrees_to_weights(g))\n",
    "\n",
    "MC = mcmc.MCMC_girg(g, weights.copy(), alpha, 1.0, pts.copy(), pool=False, graph_name=mc_name,\n",
    "                    failure_prob=0.3, cl_mixin_prob=0.5)\n",
    "self=MC\n",
    "\n",
    "MC.to_pytorch()"
   ],
   "metadata": {
    "collapsed": false,
    "ExecuteTime": {
     "start_time": "2023-08-29T13:21:08.781133Z",
     "end_time": "2023-08-29T13:21:12.143700Z"
    }
   }
  },
  {
   "cell_type": "code",
   "execution_count": 26,
   "outputs": [
    {
     "name": "stderr",
     "output_type": "stream",
     "text": [
      "100%|██████████| 1000/1000 [00:02<00:00, 475.41it/s]\n"
     ]
    },
    {
     "name": "stdout",
     "output_type": "stream",
     "text": [
      "{'loop': 0, 'll': tensor(-164543.6250), 'out': array([[ 15250,  44432],\n",
      "       [ 44302, 896016]]), 'pec': 0.25552092758285583, 'alpha': 1.0259425231297497}\n"
     ]
    },
    {
     "name": "stderr",
     "output_type": "stream",
     "text": [
      "100%|██████████| 1000/1000 [00:02<00:00, 473.18it/s]\n"
     ]
    },
    {
     "name": "stdout",
     "output_type": "stream",
     "text": [
      "{'loop': 1, 'll': tensor(-163526.2969), 'out': array([[ 15724,  43958],\n",
      "       [ 44234, 896084]]), 'pec': 0.26346302067625077, 'alpha': 1.003092140489753}\n"
     ]
    },
    {
     "name": "stderr",
     "output_type": "stream",
     "text": [
      "100%|██████████| 1000/1000 [00:02<00:00, 476.79it/s]\n"
     ]
    },
    {
     "name": "stdout",
     "output_type": "stream",
     "text": [
      "{'loop': 2, 'll': tensor(-162904.5625), 'out': array([[ 15624,  44058],\n",
      "       [ 44054, 896264]]), 'pec': 0.2617874736101337, 'alpha': 1.0000419310121715}\n"
     ]
    },
    {
     "name": "stderr",
     "output_type": "stream",
     "text": [
      "100%|██████████| 1000/1000 [00:02<00:00, 482.11it/s]\n"
     ]
    },
    {
     "name": "stdout",
     "output_type": "stream",
     "text": [
      "{'loop': 3, 'll': tensor(-162422.9844), 'out': array([[ 15762,  43920],\n",
      "       [ 43464, 896854]]), 'pec': 0.2640997285613753, 'alpha': 1.0000009136857795}\n"
     ]
    },
    {
     "name": "stderr",
     "output_type": "stream",
     "text": [
      "100%|██████████| 1000/1000 [00:02<00:00, 466.55it/s]\n"
     ]
    },
    {
     "name": "stdout",
     "output_type": "stream",
     "text": [
      "{'loop': 4, 'll': tensor(-162054.8438), 'out': array([[ 16020,  43662],\n",
      "       [ 43894, 896424]]), 'pec': 0.26842263999195737, 'alpha': 1.0000000849073263}\n"
     ]
    },
    {
     "name": "stderr",
     "output_type": "stream",
     "text": [
      "100%|██████████| 1000/1000 [00:02<00:00, 476.20it/s]\n"
     ]
    },
    {
     "name": "stdout",
     "output_type": "stream",
     "text": [
      "{'loop': 5, 'll': tensor(-161757.5625), 'out': array([[ 16300,  43382],\n",
      "       [ 43660, 896658]]), 'pec': 0.2731141717770852, 'alpha': 1.000000010695915}\n"
     ]
    },
    {
     "name": "stderr",
     "output_type": "stream",
     "text": [
      "100%|██████████| 1000/1000 [00:02<00:00, 471.57it/s]\n"
     ]
    },
    {
     "name": "stdout",
     "output_type": "stream",
     "text": [
      "{'loop': 6, 'll': tensor(-161490.7969), 'out': array([[ 16080,  43602],\n",
      "       [ 43668, 896650]]), 'pec': 0.2694279682316276, 'alpha': 1.0000000034407357}\n"
     ]
    },
    {
     "name": "stderr",
     "output_type": "stream",
     "text": [
      "100%|██████████| 1000/1000 [00:02<00:00, 473.28it/s]\n"
     ]
    },
    {
     "name": "stdout",
     "output_type": "stream",
     "text": [
      "{'loop': 7, 'll': tensor(-161239.6562), 'out': array([[ 15940,  43742],\n",
      "       [ 43900, 896418]]), 'pec': 0.2670822023390637, 'alpha': 1.0000000031965326}\n"
     ]
    },
    {
     "name": "stderr",
     "output_type": "stream",
     "text": [
      "100%|██████████| 1000/1000 [00:02<00:00, 467.16it/s]\n"
     ]
    },
    {
     "name": "stdout",
     "output_type": "stream",
     "text": [
      "{'loop': 8, 'll': tensor(-161029.1094), 'out': array([[ 16362,  43320],\n",
      "       [ 43350, 896968]]), 'pec': 0.2741530109580778, 'alpha': 1.000000003059549}\n"
     ]
    },
    {
     "name": "stderr",
     "output_type": "stream",
     "text": [
      "100%|██████████| 1000/1000 [00:02<00:00, 471.78it/s]\n"
     ]
    },
    {
     "name": "stdout",
     "output_type": "stream",
     "text": [
      "{'loop': 9, 'll': tensor(-160846.8438), 'out': array([[ 15896,  43786],\n",
      "       [ 43612, 896706]]), 'pec': 0.2663449616299722, 'alpha': 1.0000000030548233}\n"
     ]
    },
    {
     "data": {
      "text/plain": "  loop                    ll                                out       pec  \\\n0    0  tensor(-164543.6250)  [[15250, 44432], [44302, 896016]]  0.255521   \n1    1  tensor(-163526.2969)  [[15724, 43958], [44234, 896084]]  0.263463   \n2    2  tensor(-162904.5625)  [[15624, 44058], [44054, 896264]]  0.261787   \n3    3  tensor(-162422.9844)  [[15762, 43920], [43464, 896854]]  0.264100   \n4    4  tensor(-162054.8438)  [[16020, 43662], [43894, 896424]]  0.268423   \n5    5  tensor(-161757.5625)  [[16300, 43382], [43660, 896658]]  0.273114   \n6    6  tensor(-161490.7969)  [[16080, 43602], [43668, 896650]]  0.269428   \n7    7  tensor(-161239.6562)  [[15940, 43742], [43900, 896418]]  0.267082   \n8    8  tensor(-161029.1094)  [[16362, 43320], [43350, 896968]]  0.274153   \n9    9  tensor(-160846.8438)  [[15896, 43786], [43612, 896706]]  0.266345   \n\n      alpha  \n0  1.025943  \n1  1.003092  \n2  1.000042  \n3  1.000001  \n4  1.000000  \n5  1.000000  \n6  1.000000  \n7  1.000000  \n8  1.000000  \n9  1.000000  ",
      "text/html": "<div>\n<style scoped>\n    .dataframe tbody tr th:only-of-type {\n        vertical-align: middle;\n    }\n\n    .dataframe tbody tr th {\n        vertical-align: top;\n    }\n\n    .dataframe thead th {\n        text-align: right;\n    }\n</style>\n<table border=\"1\" class=\"dataframe\">\n  <thead>\n    <tr style=\"text-align: right;\">\n      <th></th>\n      <th>loop</th>\n      <th>ll</th>\n      <th>out</th>\n      <th>pec</th>\n      <th>alpha</th>\n    </tr>\n  </thead>\n  <tbody>\n    <tr>\n      <th>0</th>\n      <td>0</td>\n      <td>tensor(-164543.6250)</td>\n      <td>[[15250, 44432], [44302, 896016]]</td>\n      <td>0.255521</td>\n      <td>1.025943</td>\n    </tr>\n    <tr>\n      <th>1</th>\n      <td>1</td>\n      <td>tensor(-163526.2969)</td>\n      <td>[[15724, 43958], [44234, 896084]]</td>\n      <td>0.263463</td>\n      <td>1.003092</td>\n    </tr>\n    <tr>\n      <th>2</th>\n      <td>2</td>\n      <td>tensor(-162904.5625)</td>\n      <td>[[15624, 44058], [44054, 896264]]</td>\n      <td>0.261787</td>\n      <td>1.000042</td>\n    </tr>\n    <tr>\n      <th>3</th>\n      <td>3</td>\n      <td>tensor(-162422.9844)</td>\n      <td>[[15762, 43920], [43464, 896854]]</td>\n      <td>0.264100</td>\n      <td>1.000001</td>\n    </tr>\n    <tr>\n      <th>4</th>\n      <td>4</td>\n      <td>tensor(-162054.8438)</td>\n      <td>[[16020, 43662], [43894, 896424]]</td>\n      <td>0.268423</td>\n      <td>1.000000</td>\n    </tr>\n    <tr>\n      <th>5</th>\n      <td>5</td>\n      <td>tensor(-161757.5625)</td>\n      <td>[[16300, 43382], [43660, 896658]]</td>\n      <td>0.273114</td>\n      <td>1.000000</td>\n    </tr>\n    <tr>\n      <th>6</th>\n      <td>6</td>\n      <td>tensor(-161490.7969)</td>\n      <td>[[16080, 43602], [43668, 896650]]</td>\n      <td>0.269428</td>\n      <td>1.000000</td>\n    </tr>\n    <tr>\n      <th>7</th>\n      <td>7</td>\n      <td>tensor(-161239.6562)</td>\n      <td>[[15940, 43742], [43900, 896418]]</td>\n      <td>0.267082</td>\n      <td>1.000000</td>\n    </tr>\n    <tr>\n      <th>8</th>\n      <td>8</td>\n      <td>tensor(-161029.1094)</td>\n      <td>[[16362, 43320], [43350, 896968]]</td>\n      <td>0.274153</td>\n      <td>1.000000</td>\n    </tr>\n    <tr>\n      <th>9</th>\n      <td>9</td>\n      <td>tensor(-160846.8438)</td>\n      <td>[[15896, 43786], [43612, 896706]]</td>\n      <td>0.266345</td>\n      <td>1.000000</td>\n    </tr>\n  </tbody>\n</table>\n</div>"
     },
     "execution_count": 26,
     "metadata": {},
     "output_type": "execute_result"
    }
   ],
   "source": [
    "MC.ordered_pts_const_alpha_loop_pytorch(lr=1e-4, use_tqdm=True)"
   ],
   "metadata": {
    "collapsed": false,
    "ExecuteTime": {
     "start_time": "2023-08-29T13:21:12.802736Z",
     "end_time": "2023-08-29T13:23:11.978919Z"
    }
   }
  },
  {
   "cell_type": "code",
   "execution_count": 15,
   "outputs": [],
   "source": [
    "MC.to_pytorch()"
   ],
   "metadata": {
    "collapsed": false,
    "ExecuteTime": {
     "start_time": "2023-08-29T11:51:33.659201Z",
     "end_time": "2023-08-29T11:51:33.662531Z"
    }
   }
  },
  {
   "cell_type": "code",
   "execution_count": 16,
   "outputs": [
    {
     "data": {
      "text/plain": "array([[ 16510,  43278],\n       [ 43520, 896692]])"
     },
     "execution_count": 16,
     "metadata": {},
     "output_type": "execute_result"
    },
    {
     "data": {
      "text/plain": "0.2761423697062956"
     },
     "execution_count": 16,
     "metadata": {},
     "output_type": "execute_result"
    }
   ],
   "source": [
    "g_out, A_out, out, pec, pfew = MC.get_CM(MC.A)\n",
    "out\n",
    "pec"
   ],
   "metadata": {
    "collapsed": false,
    "ExecuteTime": {
     "start_time": "2023-08-29T11:51:33.665229Z",
     "end_time": "2023-08-29T11:51:34.022505Z"
    }
   }
  },
  {
   "cell_type": "code",
   "execution_count": 17,
   "outputs": [
    {
     "data": {
      "text/plain": "<matplotlib.collections.PathCollection at 0x2aca8b91f1c0>"
     },
     "execution_count": 17,
     "metadata": {},
     "output_type": "execute_result"
    },
    {
     "data": {
      "text/plain": "<Figure size 640x480 with 1 Axes>",
      "image/png": "[encoded data removed]"
     },
     "metadata": {},
     "output_type": "display_data"
    }
   ],
   "source": [
    "plt.scatter(MC.pts[:,0], MC.pts[:,1], c=MC.weights)"
   ],
   "metadata": {
    "collapsed": false,
    "ExecuteTime": {
     "start_time": "2023-08-29T11:51:34.024965Z",
     "end_time": "2023-08-29T11:51:34.358609Z"
    }
   }
  },
  {
   "cell_type": "code",
   "execution_count": 18,
   "outputs": [
    {
     "name": "stderr",
     "output_type": "stream",
     "text": [
      "100%|██████████| 1000/1000 [00:01<00:00, 531.42it/s]\n"
     ]
    },
    {
     "name": "stdout",
     "output_type": "stream",
     "text": [
      "ll: -160680.34375\n",
      "pec: 0.27697865792466714\n"
     ]
    },
    {
     "name": "stderr",
     "output_type": "stream",
     "text": [
      "100%|██████████| 1000/1000 [00:01<00:00, 500.01it/s]\n"
     ]
    },
    {
     "name": "stdout",
     "output_type": "stream",
     "text": [
      "ll: -160466.34375\n",
      "pec: 0.27932026493610757\n"
     ]
    },
    {
     "name": "stderr",
     "output_type": "stream",
     "text": [
      "100%|██████████| 1000/1000 [00:01<00:00, 531.98it/s]\n"
     ]
    },
    {
     "name": "stdout",
     "output_type": "stream",
     "text": [
      "ll: -160267.46875\n",
      "pec: 0.28146116277513883\n"
     ]
    },
    {
     "name": "stderr",
     "output_type": "stream",
     "text": [
      "100%|██████████| 1000/1000 [00:01<00:00, 533.95it/s]\n"
     ]
    },
    {
     "name": "stdout",
     "output_type": "stream",
     "text": [
      "ll: -160083.515625\n",
      "pec: 0.279454071051047\n"
     ]
    },
    {
     "name": "stderr",
     "output_type": "stream",
     "text": [
      "100%|██████████| 1000/1000 [00:01<00:00, 528.34it/s]\n"
     ]
    },
    {
     "name": "stdout",
     "output_type": "stream",
     "text": [
      "ll: -159918.640625\n",
      "pec: 0.2787850404763498\n"
     ]
    },
    {
     "name": "stderr",
     "output_type": "stream",
     "text": [
      "100%|██████████| 1000/1000 [00:01<00:00, 532.50it/s]\n"
     ]
    },
    {
     "name": "stdout",
     "output_type": "stream",
     "text": [
      "ll: -159763.484375\n",
      "pec: 0.28299993309694255\n"
     ]
    }
   ],
   "source": [
    "for _ in range(6):\n",
    "    MC.ordered_point_propose_compare_update_pytorch(lr=1e-5, use_tqdm=True)\n",
    "    self.ll, self.expected_num_edges = self.calculate_ll()\n",
    "    # print(f'const: {self.const}, expected_num_edges: {self.expected_num_edges}')\n",
    "    self.calibrate_const()\n",
    "    self.ll, self.expected_num_edges = self.calculate_ll()\n",
    "    # print(f'const: {self.const}, expected_num_edges: {self.expected_num_edges}')\n",
    "    self.calibrate_const()\n",
    "    self.ll, self.expected_num_edges = self.calculate_ll()\n",
    "    print(f'll: {self.ll}')\n",
    "\n",
    "    g_out, A_out, out, pec, pfew = MC.get_CM(MC.A)\n",
    "    print(f'pec: {pec}')\n",
    "\n",
    "# for _ in range(2):\n",
    "#     self.ll, self.expected_num_edges = self.calculate_ll()\n",
    "#     print(f'const: {self.const}, expected_num_edges: {self.expected_num_edges}')\n",
    "#     self.calibrate_const()\n",
    "# self.ll, self.expected_num_edges = self.calculate_ll()\n",
    "# print(f'const: {self.const}, expected_num_edges: {self.expected_num_edges}')"
   ],
   "metadata": {
    "collapsed": false,
    "ExecuteTime": {
     "start_time": "2023-08-29T11:51:35.825173Z",
     "end_time": "2023-08-29T11:52:00.774277Z"
    }
   }
  },
  {
   "cell_type": "code",
   "execution_count": 19,
   "outputs": [
    {
     "name": "stderr",
     "output_type": "stream",
     "text": [
      "100%|██████████| 1000/1000 [00:02<00:00, 459.46it/s]\n"
     ]
    },
    {
     "name": "stdout",
     "output_type": "stream",
     "text": [
      "ll: -158598.890625\n",
      "pec: 0.2890212082692179\n"
     ]
    },
    {
     "name": "stderr",
     "output_type": "stream",
     "text": [
      "100%|██████████| 1000/1000 [00:02<00:00, 470.18it/s]\n"
     ]
    },
    {
     "name": "stdout",
     "output_type": "stream",
     "text": [
      "ll: -157720.359375\n",
      "pec: 0.293403358533485\n"
     ]
    },
    {
     "name": "stderr",
     "output_type": "stream",
     "text": [
      "100%|██████████| 1000/1000 [00:02<00:00, 472.20it/s]\n"
     ]
    },
    {
     "name": "stdout",
     "output_type": "stream",
     "text": [
      "ll: -157012.078125\n",
      "pec: 0.2932695524185455\n"
     ]
    },
    {
     "name": "stderr",
     "output_type": "stream",
     "text": [
      "100%|██████████| 1000/1000 [00:02<00:00, 474.04it/s]\n"
     ]
    },
    {
     "name": "stdout",
     "output_type": "stream",
     "text": [
      "ll: -156497.28125\n",
      "pec: 0.29537699872884193\n"
     ]
    },
    {
     "name": "stderr",
     "output_type": "stream",
     "text": [
      "100%|██████████| 1000/1000 [00:02<00:00, 426.06it/s]\n"
     ]
    },
    {
     "name": "stdout",
     "output_type": "stream",
     "text": [
      "ll: -156075.265625\n",
      "pec: 0.29658125376329697\n"
     ]
    },
    {
     "name": "stderr",
     "output_type": "stream",
     "text": [
      "100%|██████████| 1000/1000 [00:02<00:00, 467.29it/s]\n"
     ]
    },
    {
     "name": "stdout",
     "output_type": "stream",
     "text": [
      "ll: -155731.484375\n",
      "pec: 0.3017996922459356\n"
     ]
    }
   ],
   "source": [
    "for _ in range(6):\n",
    "    MC.ordered_point_propose_compare_update_pytorch(lr=1e-4, use_tqdm=True)\n",
    "    self.ll, self.expected_num_edges = self.calculate_ll()\n",
    "    # print(f'const: {self.const}, expected_num_edges: {self.expected_num_edges}')\n",
    "    self.calibrate_const()\n",
    "    self.ll, self.expected_num_edges = self.calculate_ll()\n",
    "    # print(f'const: {self.const}, expected_num_edges: {self.expected_num_edges}')\n",
    "    self.calibrate_const()\n",
    "    self.ll, self.expected_num_edges = self.calculate_ll()\n",
    "    print(f'll: {self.ll}')\n",
    "\n",
    "    g_out, A_out, out, pec, pfew = MC.get_CM(MC.A)\n",
    "    print(f'pec: {pec}')\n"
   ],
   "metadata": {
    "collapsed": false,
    "ExecuteTime": {
     "start_time": "2023-08-29T13:09:39.246373Z",
     "end_time": "2023-08-29T13:10:07.665945Z"
    }
   }
  },
  {
   "cell_type": "code",
   "execution_count": 20,
   "outputs": [
    {
     "data": {
      "text/plain": "<matplotlib.collections.PathCollection at 0x2aca91978730>"
     },
     "execution_count": 20,
     "metadata": {},
     "output_type": "execute_result"
    },
    {
     "data": {
      "text/plain": "<Figure size 640x480 with 1 Axes>",
      "image/png": "[encoded data removed]"
     },
     "metadata": {},
     "output_type": "display_data"
    }
   ],
   "source": [
    "plt.scatter(MC.pts[:,0], MC.pts[:,1], c=MC.weights)"
   ],
   "metadata": {
    "collapsed": false,
    "ExecuteTime": {
     "start_time": "2023-08-29T13:10:21.611264Z",
     "end_time": "2023-08-29T13:10:21.928250Z"
    }
   }
  },
  {
   "cell_type": "code",
   "execution_count": 9,
   "outputs": [
    {
     "name": "stderr",
     "output_type": "stream",
     "text": [
      "100%|██████████| 1000/1000 [00:02<00:00, 456.13it/s]\n"
     ]
    },
    {
     "name": "stdout",
     "output_type": "stream",
     "text": [
      "ll: -166921.296875\n",
      "pec: 0.2665004156275977\n"
     ]
    },
    {
     "name": "stderr",
     "output_type": "stream",
     "text": [
      "100%|██████████| 1000/1000 [00:01<00:00, 536.31it/s]\n"
     ]
    },
    {
     "name": "stdout",
     "output_type": "stream",
     "text": [
      "ll: -167722.421875\n",
      "pec: 0.26264339152119703\n"
     ]
    },
    {
     "name": "stderr",
     "output_type": "stream",
     "text": [
      "100%|██████████| 1000/1000 [00:01<00:00, 533.69it/s]\n"
     ]
    },
    {
     "name": "stdout",
     "output_type": "stream",
     "text": [
      "ll: -168617.3125\n",
      "pec: 0.2598836242726517\n"
     ]
    },
    {
     "name": "stderr",
     "output_type": "stream",
     "text": [
      "100%|██████████| 1000/1000 [00:01<00:00, 532.18it/s]\n"
     ]
    },
    {
     "name": "stdout",
     "output_type": "stream",
     "text": [
      "ll: -169680.96875\n",
      "pec: 0.2514380714879468\n"
     ]
    },
    {
     "name": "stderr",
     "output_type": "stream",
     "text": [
      "100%|██████████| 1000/1000 [00:01<00:00, 532.48it/s]\n"
     ]
    },
    {
     "name": "stdout",
     "output_type": "stream",
     "text": [
      "ll: -171142.515625\n",
      "pec: 0.24698254364089775\n"
     ]
    },
    {
     "name": "stderr",
     "output_type": "stream",
     "text": [
      "100%|██████████| 1000/1000 [00:01<00:00, 527.40it/s]\n"
     ]
    },
    {
     "name": "stdout",
     "output_type": "stream",
     "text": [
      "ll: -173225.75\n",
      "pec: 0.240166251039069\n"
     ]
    }
   ],
   "source": [
    "for _ in range(6):\n",
    "    MC.ordered_point_propose_compare_update_pytorch2(lr=3e-5, use_tqdm=True)\n",
    "    self.ll, self.expected_num_edges = self.calculate_ll()\n",
    "    # print(f'const: {self.const}, expected_num_edges: {self.expected_num_edges}')\n",
    "    self.calibrate_const()\n",
    "    print(f'll: {self.ll}')\n",
    "\n",
    "    g_out, A_out, out, pec, pfew = MC.get_CM(MC.A)\n",
    "    print(f'pec: {pec}')\n",
    "\n",
    "# for _ in range(2):\n",
    "#     self.ll, self.expected_num_edges = self.calculate_ll()\n",
    "#     print(f'const: {self.const}, expected_num_edges: {self.expected_num_edges}')\n",
    "#     self.calibrate_const()\n",
    "# self.ll, self.expected_num_edges = self.calculate_ll()\n",
    "# print(f'const: {self.const}, expected_num_edges: {self.expected_num_edges}')"
   ],
   "metadata": {
    "collapsed": false,
    "ExecuteTime": {
     "start_time": "2023-08-29T11:44:16.203966Z",
     "end_time": "2023-08-29T11:44:34.239096Z"
    }
   }
  },
  {
   "cell_type": "code",
   "execution_count": 32,
   "outputs": [
    {
     "data": {
      "text/plain": "<matplotlib.collections.PathCollection at 0x2b626a755f70>"
     },
     "execution_count": 32,
     "metadata": {},
     "output_type": "execute_result"
    },
    {
     "data": {
      "text/plain": "<Figure size 640x480 with 1 Axes>",
      "image/png": "[encoded data removed]"
     },
     "metadata": {},
     "output_type": "display_data"
    }
   ],
   "source": [
    "plt.scatter(MC.pts[:,0], MC.pts[:,1], c=MC.weights)"
   ],
   "metadata": {
    "collapsed": false,
    "ExecuteTime": {
     "start_time": "2023-08-29T11:30:28.625462Z",
     "end_time": "2023-08-29T11:30:29.036905Z"
    }
   }
  },
  {
   "cell_type": "code",
   "execution_count": 34,
   "outputs": [
    {
     "name": "stderr",
     "output_type": "stream",
     "text": [
      "/cluster/home/bdayan/girgs/benji_src/benji_girgs/generation.py:735: RuntimeWarning: divide by zero encountered in divide\n",
      "  puv = np.stack([np.ones(original_edge_dists.shape), const_in * ((wu * wv / W) / original_edge_dists ** d) ** alpha]).min(axis=0)\n",
      "/cluster/home/bdayan/girgs/benji_src/benji_girgs/generation.py:736: RuntimeWarning: divide by zero encountered in divide\n",
      "  puv_cube = np.stack([np.ones(cube_edge_dists.shape), const_in * ((wu * wv / W) / cube_edge_dists ** d) ** alpha]).min(axis=0)\n"
     ]
    },
    {
     "data": {
      "text/plain": "array([[ 15298,  44630],\n       [ 44328, 895744]])"
     },
     "execution_count": 34,
     "metadata": {},
     "output_type": "execute_result"
    },
    {
     "data": {
      "text/plain": "0.2552729942597784"
     },
     "execution_count": 34,
     "metadata": {},
     "output_type": "execute_result"
    }
   ],
   "source": [
    "g_out, A_out, out, pec, pfew = MC.get_CM(MC.A)\n",
    "out\n",
    "pec"
   ],
   "metadata": {
    "collapsed": false,
    "ExecuteTime": {
     "start_time": "2023-08-29T11:30:46.670895Z",
     "end_time": "2023-08-29T11:30:47.050976Z"
    }
   }
  },
  {
   "cell_type": "code",
   "execution_count": 21,
   "outputs": [
    {
     "name": "stdout",
     "output_type": "stream",
     "text": [
      "expec num edges: 31368.244140625, desired: 29964\n",
      "new const: 0.055292409329219354; new const_in: 0.14065110792301738\n",
      "expec num edges: 30038.828125, desired: 29964\n",
      "new const: 0.04819413973423048; new const_in: 0.11764419192658362\n",
      "expec num edges: 29968.7109375, desired: 29964\n",
      "new const: 0.0478348677539959; new const_in: 0.11650536897991774\n",
      "expec num edges: 29964.2734375, desired: 29964\n",
      "new const: 0.04781231060710925; new const_in: 0.11643395254643364\n"
     ]
    }
   ],
   "source": [
    "for _ in range(4):\n",
    "    self.ll, self.expected_num_edges = self.calculate_ll()\n",
    "    print(f'expec num edges: {self.expected_num_edges}, desired: {self.g.numberOfEdges()}')\n",
    "    print(f'new const: {self.const}; new const_in: {self.const_in}')\n",
    "    self.calibrate_const()"
   ],
   "metadata": {
    "collapsed": false,
    "ExecuteTime": {
     "start_time": "2023-08-29T11:27:39.590651Z",
     "end_time": "2023-08-29T11:27:42.216090Z"
    }
   }
  },
  {
   "cell_type": "code",
   "execution_count": 56,
   "outputs": [],
   "source": [
    "self.const = float(self.const)"
   ],
   "metadata": {
    "collapsed": false,
    "ExecuteTime": {
     "start_time": "2023-08-29T11:00:11.924191Z",
     "end_time": "2023-08-29T11:00:11.954167Z"
    }
   }
  },
  {
   "cell_type": "code",
   "execution_count": 57,
   "outputs": [
    {
     "data": {
      "text/plain": "1.1237229108810425"
     },
     "execution_count": 57,
     "metadata": {},
     "output_type": "execute_result"
    }
   ],
   "source": [
    "self.const"
   ],
   "metadata": {
    "collapsed": false,
    "ExecuteTime": {
     "start_time": "2023-08-29T11:00:14.517826Z",
     "end_time": "2023-08-29T11:00:14.551151Z"
    }
   }
  },
  {
   "cell_type": "code",
   "execution_count": 58,
   "outputs": [
    {
     "data": {
      "text/plain": "tensor(74137.4375)"
     },
     "execution_count": 58,
     "metadata": {},
     "output_type": "execute_result"
    }
   ],
   "source": [
    "self.expected_num_edges"
   ],
   "metadata": {
    "collapsed": false,
    "ExecuteTime": {
     "start_time": "2023-08-29T11:00:21.229472Z",
     "end_time": "2023-08-29T11:00:21.258981Z"
    }
   }
  },
  {
   "cell_type": "code",
   "execution_count": 26,
   "outputs": [
    {
     "name": "stdout",
     "output_type": "stream",
     "text": [
      "expec num edges: 67716.8515625, desired: 29874\n",
      "ratio: 2.2667486667633057\n",
      "new const: 0.5208921432495117; new const_in: 0.42832374572753906\n",
      "expec num edges: 75874.34375, desired: 29874\n",
      "ratio: 2.5398120880126953\n",
      "new const: 0.8203632831573486; new const_in: 0.7730509042739868\n",
      "expec num edges: 83404.640625, desired: 29874\n",
      "ratio: 2.7918806076049805\n",
      "new const: 1.1753557920455933; new const_in: 1.2337300777435303\n",
      "expec num edges: 90194.6796875, desired: 29874\n",
      "ratio: 3.019169807434082\n",
      "new const: 1.5571906566619873; new const_in: 1.7784608602523804\n"
     ]
    }
   ],
   "source": [
    "for _ in range(4):\n",
    "    self.ll, self.expected_num_edges = self.calculate_ll()\n",
    "    print(f'expec num edges: {self.expected_num_edges}, desired: {self.g.numberOfEdges()}')\n",
    "    ratio = self.expected_num_edges / self.g.numberOfEdges()\n",
    "    print(f'ratio: {ratio}')\n",
    "    self.const = self.const/ratio\n",
    "    self.const_in = generation.const_conversion(self.const, self.alpha, d=self.d, true_volume=True)\n",
    "\n",
    "    print(f'new const: {self.const}; new const_in: {self.const_in}')\n",
    "    # self.calibrate_const()"
   ],
   "metadata": {
    "collapsed": false,
    "ExecuteTime": {
     "start_time": "2023-08-29T10:53:49.999777Z",
     "end_time": "2023-08-29T10:53:52.648530Z"
    }
   }
  },
  {
   "cell_type": "code",
   "execution_count": 29,
   "outputs": [
    {
     "data": {
      "text/plain": "2"
     },
     "execution_count": 29,
     "metadata": {},
     "output_type": "execute_result"
    }
   ],
   "source": [
    "self.d"
   ],
   "metadata": {
    "collapsed": false,
    "ExecuteTime": {
     "start_time": "2023-08-29T10:55:21.688570Z",
     "end_time": "2023-08-29T10:55:21.707188Z"
    }
   }
  },
  {
   "cell_type": "code",
   "execution_count": 21,
   "outputs": [
    {
     "data": {
      "text/plain": "tensor(2.4636)"
     },
     "execution_count": 21,
     "metadata": {},
     "output_type": "execute_result"
    }
   ],
   "source": [
    "self.expected_num_edges / self.g.numberOfEdges()"
   ],
   "metadata": {
    "collapsed": false,
    "ExecuteTime": {
     "start_time": "2023-08-29T10:51:22.190122Z",
     "end_time": "2023-08-29T10:51:22.207205Z"
    }
   }
  },
  {
   "cell_type": "code",
   "execution_count": 39,
   "outputs": [
    {
     "data": {
      "text/plain": "array([[  2020,   5966],\n       [  7246, 144768]])"
     },
     "execution_count": 39,
     "metadata": {},
     "output_type": "execute_result"
    },
    {
     "data": {
      "text/plain": "0.2529426496368645"
     },
     "execution_count": 39,
     "metadata": {},
     "output_type": "execute_result"
    }
   ],
   "source": [
    "g_out, A_out, out, pec, pfew = MC.get_CM(MC.A)\n",
    "out\n",
    "pec"
   ],
   "metadata": {
    "collapsed": false,
    "ExecuteTime": {
     "start_time": "2023-08-29T10:37:01.103823Z",
     "end_time": "2023-08-29T10:37:01.182288Z"
    }
   }
  },
  {
   "cell_type": "code",
   "execution_count": 138,
   "outputs": [
    {
     "name": "stdout",
     "output_type": "stream",
     "text": [
      "tensor(0)\n"
     ]
    },
    {
     "data": {
      "text/plain": "<torch.utils.hooks.RemovableHandle at 0x2b7c0b2237c0>"
     },
     "execution_count": 138,
     "metadata": {},
     "output_type": "execute_result"
    },
    {
     "name": "stdout",
     "output_type": "stream",
     "text": [
      "tensor(9)\n"
     ]
    },
    {
     "data": {
      "text/plain": "<torch.utils.hooks.RemovableHandle at 0x2b7c08061730>"
     },
     "execution_count": 138,
     "metadata": {},
     "output_type": "execute_result"
    }
   ],
   "source": [
    "lr = 1e-4\n",
    "self.pts.requires_grad = True\n",
    "optimizer = torch.optim.SGD((self.pts,), lr=lr, momentum=0.9)\n",
    "\n",
    "##############\n",
    "u_index = np.argsort(-self.weights)[0]\n",
    "\n",
    "#\n",
    "print(u_index)\n",
    "# binary_mask = torch.zeros_like(self.pts)\n",
    "# _ = binary_mask[u_index].fill_(1.)\n",
    "# pts_temp = self.pts * binary_mask\n",
    "# # if other values are needed\n",
    "# pts_temp += self.pts.detach() * binary_mask.logical_not()\n",
    "#\n",
    "# orig = self.pts\n",
    "# self.pts = pts_temp\n",
    "\n",
    "gradient_mask = torch.zeros_like(self.pts)\n",
    "_ = gradient_mask[u_index].fill_(1.)\n",
    "self.pts.register_hook(lambda grad: grad.mul_(gradient_mask))\n",
    "\n",
    "\n",
    "p_u_to_vs2 = mcmc.MCMC_girg.get_p_u_to_vs_pytorch(\n",
    "    self.weights, self.pts, self.alpha, self.const_in,\n",
    "    u_index, self.failure_prob, self.cl_mixin_prob,\n",
    "    self.c_cl)\n",
    "u_ll_new = self.p_u_to_vs_to_ll_pytorch(self.g, u_index, p_u_to_vs2)\n",
    "\n",
    "u_ll_new.backward()\n",
    "optimizer.step()\n",
    "\n",
    "# self.pts = orig\n",
    "\n",
    "self.pts = torch.clamp(self.pts, 0, 1)\n",
    "\n",
    "#############\n",
    "optimizer.zero_grad()\n",
    "u_index = np.argsort(-self.weights)[1]\n",
    "print(u_index)\n",
    "# binary_mask = torch.zeros_like(self.pts)\n",
    "# _ = binary_mask[u_index].fill_(1.)\n",
    "# pts_temp = self.pts * binary_mask\n",
    "# # if other values are needed\n",
    "# pts_temp += self.pts.detach() * binary_mask.logical_not()\n",
    "\n",
    "gradient_mask = torch.zeros_like(self.pts)\n",
    "_ = gradient_mask[u_index].fill_(1.)\n",
    "self.pts.register_hook(lambda grad: grad.mul_(gradient_mask))\n",
    "\n",
    "\n",
    "p_u_to_vs2 = mcmc.MCMC_girg.get_p_u_to_vs_pytorch(\n",
    "    self.weights, self.pts, self.alpha, self.const_in,\n",
    "    u_index, self.failure_prob, self.cl_mixin_prob,\n",
    "    self.c_cl)\n",
    "u_ll_new = self.p_u_to_vs_to_ll_pytorch(self.g, u_index, p_u_to_vs2)\n",
    "\n",
    "u_ll_new.backward()\n",
    "optimizer.step()\n"
   ],
   "metadata": {
    "collapsed": false,
    "ExecuteTime": {
     "start_time": "2023-08-29T10:27:57.596024Z",
     "end_time": "2023-08-29T10:27:57.668058Z"
    }
   }
  },
  {
   "cell_type": "code",
   "execution_count": 139,
   "outputs": [
    {
     "data": {
      "text/plain": "tensor([[0.3845, 0.5730],\n        [0.9500, 0.7354],\n        [0.0000, 0.9500],\n        [0.2050, 0.4441],\n        [0.3848, 0.2375],\n        [0.1902, 0.0918],\n        [0.1448, 0.4344],\n        [0.0500, 0.9500],\n        [0.0000, 1.0000],\n        [0.0916, 0.7002],\n        [0.3487, 0.4444],\n        [0.1799, 0.3393],\n        [0.8276, 0.5728],\n        [0.2301, 0.3936],\n        [0.3206, 0.0625],\n        [0.2381, 0.6251],\n        [0.2315, 0.0500],\n        [0.1476, 0.5431],\n        [0.9500, 0.7937],\n        [0.2104, 0.0000]], grad_fn=<AliasBackward>)"
     },
     "execution_count": 139,
     "metadata": {},
     "output_type": "execute_result"
    }
   ],
   "source": [
    "MC.pts"
   ],
   "metadata": {
    "collapsed": false,
    "ExecuteTime": {
     "start_time": "2023-08-29T10:27:58.537086Z",
     "end_time": "2023-08-29T10:27:58.554364Z"
    }
   }
  },
  {
   "cell_type": "code",
   "execution_count": null,
   "outputs": [],
   "source": [],
   "metadata": {
    "collapsed": false
   }
  },
  {
   "cell_type": "code",
   "execution_count": null,
   "outputs": [],
   "source": [],
   "metadata": {
    "collapsed": false
   }
  },
  {
   "cell_type": "code",
   "execution_count": null,
   "outputs": [],
   "source": [],
   "metadata": {
    "collapsed": false
   }
  },
  {
   "cell_type": "code",
   "execution_count": null,
   "outputs": [],
   "source": [
    "lr = 1e-4\n",
    "self.pts.requires_grad = True\n",
    "\n",
    "##############\n",
    "u_index = np.argsort(-self.weights)[0]\n",
    "# print(u_index)\n",
    "binary_mask = torch.zeros_like(self.pts)\n",
    "_ = binary_mask[u_index].fill_(1.)\n",
    "pts_temp = self.pts * binary_mask\n",
    "# if other values are needed\n",
    "pts_temp += self.pts.detach() * binary_mask.logical_not()\n",
    "\n",
    "orig = self.pts\n",
    "self.pts = pts_temp\n",
    "\n",
    "# foo = self.pts[0]\n",
    "# foo.requires_grad = True\n",
    "optimizer = torch.optim.SGD((orig,), lr=lr, momentum=0.9)\n",
    "\n",
    "p_u_to_vs2 = mcmc.MCMC_girg.get_p_u_to_vs_pytorch(\n",
    "    self.weights, self.pts, self.alpha, self.const_in,\n",
    "    u_index, self.failure_prob, self.cl_mixin_prob,\n",
    "    self.c_cl)\n",
    "u_ll_new = self.p_u_to_vs_to_ll_pytorch(self.g, u_index, p_u_to_vs2)\n",
    "\n",
    "u_ll_new.backward()\n",
    "optimizer.step()\n",
    "\n",
    "self.pts = orig"
   ],
   "metadata": {
    "collapsed": false
   }
  },
  {
   "cell_type": "code",
   "execution_count": 113,
   "outputs": [
    {
     "data": {
      "text/plain": "<bound method Tensor.register_hook of tensor([[0.8919, 0.0220],\n        [0.0240, 0.4417],\n        [0.8093, 0.3903],\n        [0.5415, 0.1203],\n        [0.6630, 0.3565],\n        [0.7510, 0.4052],\n        [0.4182, 0.4223],\n        [0.5462, 0.3932],\n        [0.7337, 0.4778],\n        [0.9056, 0.6628],\n        [0.7524, 0.4612],\n        [0.4094, 0.6480],\n        [0.9145, 0.9500],\n        [0.5417, 0.3520],\n        [0.6882, 0.4116],\n        [0.7345, 0.5130],\n        [0.9600, 0.7491],\n        [0.8487, 0.6551],\n        [0.5420, 0.4986],\n        [0.5812, 0.0480],\n        [0.0831, 0.9356],\n        [0.6056, 0.0020],\n        [0.7472, 0.2331],\n        [0.8505, 0.2608],\n        [0.7795, 0.2761],\n        [0.7127, 0.5354],\n        [0.6009, 0.5664],\n        [0.7050, 0.6162],\n        [0.5791, 0.3237],\n        [0.5086, 0.2766],\n        [0.9520, 0.4151],\n        [0.7766, 0.3344],\n        [0.7982, 0.9800],\n        [0.6379, 0.0440],\n        [0.7829, 0.1775],\n        [0.6843, 0.3056],\n        [0.6389, 0.7083],\n        [0.7804, 0.3593],\n        [0.5189, 0.4531],\n        [0.8460, 0.4662],\n        [0.6791, 0.3935],\n        [0.5789, 0.1346],\n        [0.6810, 0.4426],\n        [0.9800, 0.9880],\n        [0.6043, 0.6378],\n        [0.6316, 0.4916],\n        [0.4648, 0.4819],\n        [0.7591, 0.9580],\n        [0.9171, 0.6634],\n        [0.6074, 0.3695],\n        [0.6389, 0.4105],\n        [0.5670, 0.4156],\n        [0.0877, 0.7015],\n        [0.2307, 0.9520],\n        [0.7464, 0.7321],\n        [0.6538, 0.5195],\n        [0.9780, 0.5311],\n        [0.6522, 0.4976],\n        [0.5273, 0.4743],\n        [0.6802, 0.5772],\n        [0.7954, 0.4907],\n        [0.5775, 0.3839],\n        [0.5899, 0.4386],\n        [0.7705, 0.3267],\n        [0.4637, 0.6055],\n        [0.5253, 0.4072],\n        [0.5005, 0.9408],\n        [0.5248, 0.1980],\n        [0.3718, 0.1461],\n        [0.5734, 0.3870],\n        [0.6459, 0.4785],\n        [0.7076, 0.3860],\n        [0.7397, 0.0260],\n        [0.0040, 0.1386],\n        [0.6244, 0.4895],\n        [0.8706, 0.2982],\n        [0.6536, 0.1568],\n        [0.8271, 0.0839],\n        [0.6752, 0.3947],\n        [0.5827, 0.4033],\n        [0.0340, 0.2814],\n        [0.7025, 0.6402],\n        [0.5571, 0.6232],\n        [0.5892, 0.4502],\n        [0.8670, 0.5601],\n        [0.6392, 0.3261],\n        [0.4495, 0.4743],\n        [0.5222, 0.4423],\n        [0.5405, 0.2256],\n        [0.7214, 0.1178],\n        [0.6826, 0.7138],\n        [0.6472, 0.2659],\n        [0.6755, 0.4174],\n        [0.6555, 0.1273],\n        [0.7570, 0.3383],\n        [0.9640, 0.4422],\n        [0.8107, 0.0400],\n        [0.9047, 0.7349],\n        [0.5187, 0.3436],\n        [0.6678, 0.5077],\n        [0.4910, 0.4588],\n        [0.7058, 0.3475],\n        [0.6906, 0.0040],\n        [0.6202, 0.3855],\n        [0.7409, 0.3603],\n        [0.7906, 0.2705],\n        [0.6990, 0.3459],\n        [0.6945, 0.2694],\n        [0.7994, 0.3509],\n        [0.8237, 0.4988],\n        [0.7244, 0.3395],\n        [0.8355, 0.1591],\n        [0.9475, 0.7963],\n        [0.6563, 0.5701],\n        [0.8291, 0.3806],\n        [0.6880, 0.6708],\n        [0.6345, 0.1907],\n        [0.7852, 0.9600],\n        [0.5887, 0.3496],\n        [0.6853, 0.5097],\n        [0.4986, 0.2880],\n        [0.7362, 0.1321],\n        [0.4654, 0.4655],\n        [0.9218, 0.0574],\n        [0.6157, 0.3506],\n        [0.5530, 0.3125],\n        [0.5880, 0.3778],\n        [0.4379, 0.5849],\n        [0.9960, 0.9980],\n        [0.6545, 0.0300],\n        [0.6378, 0.2765],\n        [0.0080, 0.9840],\n        [0.8064, 0.6243],\n        [0.6942, 0.5781],\n        [0.5082, 0.4173],\n        [0.8019, 0.2652],\n        [0.3307, 0.4904],\n        [0.7060, 0.0320],\n        [0.7903, 0.5325],\n        [0.8037, 0.3937],\n        [0.8978, 0.7643],\n        [0.2612, 0.4685],\n        [0.7550, 0.2859],\n        [0.8567, 0.6881],\n        [0.7592, 0.6466],\n        [0.9840, 0.9900],\n        [0.9680, 0.5121],\n        [0.7667, 0.2423],\n        [0.6054, 0.4585],\n        [0.7173, 0.1276],\n        [0.4859, 0.4077],\n        [0.8426, 0.4080],\n        [0.7689, 0.4606],\n        [0.6962, 0.2999],\n        [0.7521, 0.6187],\n        [0.7035, 0.3726],\n        [0.0480, 0.3331],\n        [0.6063, 0.3464],\n        [0.6024, 0.3479],\n        [0.4202, 0.3719],\n        [0.4627, 0.3373],\n        [0.6953, 0.5802],\n        [0.6298, 0.3054],\n        [0.7787, 0.3796],\n        [0.0280, 0.6093],\n        [0.8323, 0.0500],\n        [0.5915, 0.4672],\n        [0.8364, 0.1916],\n        [0.6844, 0.7047],\n        [0.6533, 0.1739],\n        [0.6510, 0.8279],\n        [0.6003, 0.3241],\n        [0.6082, 0.3626],\n        [0.7613, 0.2131],\n        [0.5664, 0.2080],\n        [0.5645, 0.5470],\n        [0.6657, 0.3353],\n        [0.8886, 0.1926],\n        [0.6305, 0.6653],\n        [0.4713, 0.4841],\n        [0.8220, 0.1131],\n        [0.6190, 0.3040],\n        [0.6985, 0.0000],\n        [0.8769, 0.4777],\n        [0.5318, 0.6326],\n        [0.7199, 0.4276],\n        [0.0360, 0.2902],\n        [0.5175, 0.3656],\n        [0.7508, 0.2719],\n        [0.7244, 0.4953],\n        [0.6123, 0.3303],\n        [0.9700, 0.9920],\n        [0.4508, 0.4962],\n        [0.6522, 0.4760],\n        [0.0020, 0.2141],\n        [0.5685, 0.4057],\n        [0.3627, 0.8092],\n        [0.5215, 0.6488],\n        [0.7767, 0.2839],\n        [0.8700, 0.4194],\n        [0.8879, 0.7897],\n        [0.4545, 0.4073],\n        [0.5398, 0.3029],\n        [0.6648, 0.4384],\n        [0.5282, 0.2894],\n        [0.6797, 0.3005],\n        [0.5610, 0.4728],\n        [0.8329, 0.1127],\n        [0.6091, 0.4106],\n        [0.6055, 0.3048],\n        [0.9046, 0.2326],\n        [0.9258, 0.4678],\n        [0.4844, 0.9500],\n        [0.8263, 0.7134],\n        [0.8455, 0.2810],\n        [0.8722, 0.3821],\n        [0.0120, 0.1111],\n        [0.7362, 0.5117],\n        [0.3581, 0.1381],\n        [0.8105, 0.2537],\n        [0.0460, 0.3089],\n        [0.0440, 0.2423],\n        [0.9900, 0.0140],\n        [0.0400, 0.4327],\n        [0.9760, 0.9860],\n        [0.6157, 0.4806],\n        [0.6959, 0.1441],\n        [0.7280, 0.7253],\n        [0.8106, 0.2985],\n        [0.7335, 0.5496],\n        [0.9560, 0.5196],\n        [0.5132, 0.3884],\n        [0.7771, 0.3757],\n        [0.6108, 0.4635],\n        [0.8078, 0.5990],\n        [0.6133, 0.1797],\n        [0.6378, 0.2484],\n        [0.9500, 0.9700],\n        [0.7684, 0.3424],\n        [0.6041, 0.3990],\n        [0.6997, 0.3754],\n        [0.5811, 0.0100],\n        [0.6034, 0.3764],\n        [0.5907, 0.3606],\n        [0.6866, 0.2370],\n        [0.4873, 0.4202],\n        [0.9720, 0.5603],\n        [0.2320, 0.0200],\n        [0.3757, 0.5377],\n        [0.6361, 0.6029],\n        [0.6567, 0.3129],\n        [0.7481, 0.0120],\n        [0.8562, 0.7030],\n        [0.9980, 0.9960],\n        [0.6634, 0.0460],\n        [0.0380, 0.9620],\n        [0.1942, 0.3672],\n        [0.7037, 0.2118],\n        [0.6944, 0.4325],\n        [0.8495, 0.3775],\n        [0.7185, 0.3401],\n        [0.6177, 0.5083],\n        [0.0320, 0.2860],\n        [0.9505, 0.9540],\n        [0.6823, 0.3930],\n        [0.7116, 0.7856],\n        [0.4494, 0.0958],\n        [0.0750, 0.4983],\n        [0.7758, 0.9560],\n        [0.8662, 0.6177],\n        [0.6363, 0.5134],\n        [0.6912, 0.4908],\n        [0.7456, 0.5491],\n        [0.2469, 0.3324],\n        [0.0100, 0.8498],\n        [0.2693, 0.3408],\n        [0.7987, 0.4430],\n        [0.5372, 0.7038],\n        [0.6198, 0.7580],\n        [0.6400, 0.4532],\n        [0.6704, 0.5082],\n        [0.6649, 0.4532],\n        [0.4748, 0.5438],\n        [0.4964, 0.3000],\n        [0.9860, 0.0180],\n        [0.5757, 0.7899],\n        [0.9500, 0.8491],\n        [0.5771, 0.0943],\n        [0.3533, 0.4449],\n        [0.8772, 0.9680],\n        [0.6196, 0.4365],\n        [0.9152, 0.2588],\n        [0.7558, 0.7282],\n        [0.9580, 0.4089],\n        [0.5655, 0.9740],\n        [0.3868, 0.8506],\n        [0.7328, 0.7177],\n        [0.6426, 0.1781],\n        [0.6368, 0.0360],\n        [0.7279, 0.4115],\n        [0.8659, 0.4739],\n        [0.7412, 0.3628],\n        [0.5669, 0.4210],\n        [0.7495, 0.3418],\n        [0.6940, 0.1666],\n        [0.7224, 0.3873],\n        [0.4516, 0.4285],\n        [0.8256, 0.4281],\n        [0.8339, 0.0060],\n        [0.0060, 0.9820],\n        [0.5309, 0.3186],\n        [0.0160, 0.9720],\n        [0.5218, 0.2406],\n        [0.7627, 0.1834],\n        [0.6140, 0.3592],\n        [0.7041, 0.4939],\n        [0.5760, 0.3755],\n        [0.6273, 0.1927],\n        [0.4376, 0.3306],\n        [0.6237, 0.5753],\n        [0.0220, 0.2493],\n        [0.6291, 0.3697],\n        [0.7805, 0.6749],\n        [0.7111, 0.6068],\n        [0.8612, 0.4712],\n        [0.8583, 0.6154],\n        [0.9740, 0.0380],\n        [0.4519, 0.6240],\n        [0.0500, 0.2969],\n        [0.7870, 0.4611],\n        [0.4065, 0.5042],\n        [0.7171, 0.6432],\n        [0.6937, 0.1981],\n        [0.1009, 0.8155],\n        [0.6909, 0.6644],\n        [0.7008, 0.3134],\n        [0.6548, 0.4244],\n        [0.6851, 0.4532],\n        [0.6832, 0.4519],\n        [0.7238, 0.4710],\n        [0.6997, 0.3843],\n        [0.7164, 0.5396],\n        [0.5767, 0.2588],\n        [0.6057, 0.2398],\n        [0.4989, 0.5819],\n        [0.6112, 0.2958],\n        [0.4986, 0.4925],\n        [0.0000, 0.1393],\n        [0.6371, 0.4567],\n        [0.5651, 0.4764],\n        [0.8119, 0.5347],\n        [0.8135, 0.4594],\n        [0.6404, 0.3293],\n        [0.3028, 0.9166],\n        [0.8925, 0.1801],\n        [0.4962, 0.3544],\n        [0.5690, 0.3449],\n        [0.7586, 0.3318],\n        [0.6942, 0.7479],\n        [0.6920, 0.1685],\n        [0.6264, 0.3544],\n        [0.4900, 0.3763],\n        [0.5831, 0.4971],\n        [0.9940, 0.4696],\n        [0.6341, 0.1098],\n        [0.7051, 0.2399],\n        [0.6732, 0.9007],\n        [0.7812, 0.2972],\n        [0.0420, 0.2347],\n        [0.7058, 0.4515],\n        [0.5526, 0.7309],\n        [0.8522, 0.3601],\n        [0.4604, 0.4091],\n        [0.0260, 0.9660],\n        [0.4523, 0.4503],\n        [0.7449, 0.0793],\n        [0.9158, 0.3267],\n        [0.5386, 0.2076],\n        [0.7696, 0.0340],\n        [0.7267, 0.4823],\n        [0.9485, 0.4334],\n        [0.5334, 0.4158],\n        [0.3753, 0.4086],\n        [0.9540, 0.0160],\n        [0.7464, 0.2328],\n        [0.5421, 0.5144],\n        [0.8002, 0.3735],\n        [0.6324, 0.4658],\n        [0.5554, 0.4507],\n        [0.7622, 0.4593],\n        [0.6019, 0.4102],\n        [0.7541, 0.3286],\n        [0.5990, 0.4050],\n        [0.5547, 0.6946],\n        [0.6156, 0.5133],\n        [0.4744, 0.2814],\n        [0.4409, 0.5166],\n        [0.6703, 0.4780],\n        [0.6713, 0.1600],\n        [0.7201, 0.1527],\n        [0.6266, 0.2760],\n        [0.7570, 0.0280],\n        [0.7623, 0.3993],\n        [0.8737, 0.5058],\n        [0.8438, 0.0716],\n        [0.7371, 0.5761],\n        [0.7003, 0.5287],\n        [0.8194, 0.8676],\n        [0.9820, 0.5037],\n        [0.7728, 0.4684],\n        [0.8389, 0.4798],\n        [0.8119, 0.4588],\n        [0.6640, 0.1235],\n        [0.6311, 0.4868],\n        [0.4324, 0.3775],\n        [0.8655, 0.1058],\n        [0.6440, 0.3954],\n        [0.4910, 0.4588],\n        [0.6475, 0.2617],\n        [0.7576, 0.1865],\n        [0.5601, 0.3832],\n        [0.7818, 0.5110],\n        [0.0200, 0.9760],\n        [0.5457, 0.1269],\n        [0.4060, 0.2805],\n        [0.8222, 0.6013],\n        [0.6047, 0.2227],\n        [0.8610, 0.4326],\n        [0.5571, 0.3679],\n        [0.7052, 0.4377],\n        [0.9110, 0.9780],\n        [0.7495, 0.4363],\n        [0.5686, 0.2869],\n        [0.7447, 0.3040],\n        [0.6481, 0.3499],\n        [0.8437, 0.5377],\n        [0.7506, 0.3781],\n        [0.5262, 0.8252],\n        [0.6513, 0.4233],\n        [0.6713, 0.2917],\n        [0.7204, 0.9640],\n        [0.6594, 0.4080],\n        [0.5144, 0.2871],\n        [0.0180, 0.3674],\n        [0.4387, 0.2505],\n        [0.6627, 0.4888],\n        [0.6681, 0.0420],\n        [0.6054, 0.3427],\n        [0.6116, 0.3927],\n        [0.9920, 0.5333],\n        [0.9660, 0.0080],\n        [0.7334, 0.6662],\n        [0.7774, 0.6589],\n        [0.6353, 0.6173],\n        [0.5806, 0.4576],\n        [0.6742, 0.4221],\n        [0.5931, 0.6656],\n        [0.5798, 0.2657],\n        [0.3874, 0.5825],\n        [0.5170, 0.5371],\n        [0.7074, 0.6125],\n        [0.8038, 0.4196],\n        [0.6718, 0.8450],\n        [0.2038, 0.3846],\n        [0.5139, 0.5825],\n        [0.5725, 0.3892],\n        [0.3112, 0.5421],\n        [0.5837, 0.5412],\n        [0.6929, 0.3317],\n        [0.5535, 0.5226],\n        [0.7681, 0.3351],\n        [0.7009, 0.3196],\n        [0.8788, 0.7344],\n        [0.6083, 0.4820],\n        [0.3947, 0.7130],\n        [0.7979, 0.2586],\n        [0.5345, 0.4259],\n        [0.8198, 0.7625],\n        [0.4822, 0.5220],\n        [0.4344, 0.4765],\n        [0.7975, 0.3722],\n        [0.6389, 0.4443],\n        [0.0140, 0.3791],\n        [0.6109, 0.3295],\n        [0.5980, 0.7852],\n        [0.7917, 0.1628],\n        [0.0300, 0.2882],\n        [0.6460, 0.4186],\n        [0.9880, 0.9940],\n        [0.6069, 0.5274],\n        [0.5301, 0.4282],\n        [0.8063, 0.2327],\n        [0.5802, 0.1435],\n        [0.5890, 0.0240],\n        [0.7206, 0.3177],\n        [0.5605, 0.3430],\n        [0.7063, 0.3001],\n        [0.7979, 0.3227],\n        [0.6734, 0.2699],\n        [0.9620, 0.6873]])>"
     },
     "execution_count": 113,
     "metadata": {},
     "output_type": "execute_result"
    }
   ],
   "source": [
    "self.pts.register_hook"
   ],
   "metadata": {
    "collapsed": false,
    "ExecuteTime": {
     "start_time": "2023-08-29T10:22:19.700697Z",
     "end_time": "2023-08-29T10:22:19.821113Z"
    }
   }
  },
  {
   "cell_type": "code",
   "execution_count": 110,
   "outputs": [
    {
     "ename": "ValueError",
     "evalue": "can't optimize a non-leaf Tensor",
     "output_type": "error",
     "traceback": [
      "\u001B[0;31m---------------------------------------------------------------------------\u001B[0m",
      "\u001B[0;31mValueError\u001B[0m                                Traceback (most recent call last)",
      "Cell \u001B[0;32mIn[110], line 49\u001B[0m\n\u001B[1;32m     45\u001B[0m \u001B[38;5;28mself\u001B[39m\u001B[38;5;241m.\u001B[39mpts \u001B[38;5;241m=\u001B[39m pts_temp\n\u001B[1;32m     47\u001B[0m \u001B[38;5;66;03m# foo = self.pts[0]\u001B[39;00m\n\u001B[1;32m     48\u001B[0m \u001B[38;5;66;03m# foo.requires_grad = True\u001B[39;00m\n\u001B[0;32m---> 49\u001B[0m optimizer \u001B[38;5;241m=\u001B[39m \u001B[43mtorch\u001B[49m\u001B[38;5;241;43m.\u001B[39;49m\u001B[43moptim\u001B[49m\u001B[38;5;241;43m.\u001B[39;49m\u001B[43mSGD\u001B[49m\u001B[43m(\u001B[49m\u001B[43m(\u001B[49m\u001B[43morig\u001B[49m\u001B[43m,\u001B[49m\u001B[43m)\u001B[49m\u001B[43m,\u001B[49m\u001B[43m \u001B[49m\u001B[43mlr\u001B[49m\u001B[38;5;241;43m=\u001B[39;49m\u001B[43mlr\u001B[49m\u001B[43m,\u001B[49m\u001B[43m \u001B[49m\u001B[43mmomentum\u001B[49m\u001B[38;5;241;43m=\u001B[39;49m\u001B[38;5;241;43m0.9\u001B[39;49m\u001B[43m)\u001B[49m\n\u001B[1;32m     51\u001B[0m p_u_to_vs2 \u001B[38;5;241m=\u001B[39m mcmc\u001B[38;5;241m.\u001B[39mMCMC_girg\u001B[38;5;241m.\u001B[39mget_p_u_to_vs_pytorch(\n\u001B[1;32m     52\u001B[0m     \u001B[38;5;28mself\u001B[39m\u001B[38;5;241m.\u001B[39mweights, \u001B[38;5;28mself\u001B[39m\u001B[38;5;241m.\u001B[39mpts, \u001B[38;5;28mself\u001B[39m\u001B[38;5;241m.\u001B[39malpha, \u001B[38;5;28mself\u001B[39m\u001B[38;5;241m.\u001B[39mconst_in,\n\u001B[1;32m     53\u001B[0m     u_index, \u001B[38;5;28mself\u001B[39m\u001B[38;5;241m.\u001B[39mfailure_prob, \u001B[38;5;28mself\u001B[39m\u001B[38;5;241m.\u001B[39mcl_mixin_prob,\n\u001B[1;32m     54\u001B[0m     \u001B[38;5;28mself\u001B[39m\u001B[38;5;241m.\u001B[39mc_cl)\n\u001B[1;32m     55\u001B[0m u_ll_new \u001B[38;5;241m=\u001B[39m \u001B[38;5;28mself\u001B[39m\u001B[38;5;241m.\u001B[39mp_u_to_vs_to_ll_pytorch(\u001B[38;5;28mself\u001B[39m\u001B[38;5;241m.\u001B[39mg, u_index, p_u_to_vs2)\n",
      "File \u001B[0;32m/cluster/apps/nss/gcc-6.3.0/python_gpu/3.8.5/torch/optim/sgd.py:68\u001B[0m, in \u001B[0;36mSGD.__init__\u001B[0;34m(self, params, lr, momentum, dampening, weight_decay, nesterov)\u001B[0m\n\u001B[1;32m     66\u001B[0m \u001B[38;5;28;01mif\u001B[39;00m nesterov \u001B[38;5;129;01mand\u001B[39;00m (momentum \u001B[38;5;241m<\u001B[39m\u001B[38;5;241m=\u001B[39m \u001B[38;5;241m0\u001B[39m \u001B[38;5;129;01mor\u001B[39;00m dampening \u001B[38;5;241m!=\u001B[39m \u001B[38;5;241m0\u001B[39m):\n\u001B[1;32m     67\u001B[0m     \u001B[38;5;28;01mraise\u001B[39;00m \u001B[38;5;167;01mValueError\u001B[39;00m(\u001B[38;5;124m\"\u001B[39m\u001B[38;5;124mNesterov momentum requires a momentum and zero dampening\u001B[39m\u001B[38;5;124m\"\u001B[39m)\n\u001B[0;32m---> 68\u001B[0m \u001B[38;5;28;43msuper\u001B[39;49m\u001B[43m(\u001B[49m\u001B[43mSGD\u001B[49m\u001B[43m,\u001B[49m\u001B[43m \u001B[49m\u001B[38;5;28;43mself\u001B[39;49m\u001B[43m)\u001B[49m\u001B[38;5;241;43m.\u001B[39;49m\u001B[38;5;21;43m__init__\u001B[39;49m\u001B[43m(\u001B[49m\u001B[43mparams\u001B[49m\u001B[43m,\u001B[49m\u001B[43m \u001B[49m\u001B[43mdefaults\u001B[49m\u001B[43m)\u001B[49m\n",
      "File \u001B[0;32m/cluster/apps/nss/gcc-6.3.0/python_gpu/3.8.5/torch/optim/optimizer.py:52\u001B[0m, in \u001B[0;36mOptimizer.__init__\u001B[0;34m(self, params, defaults)\u001B[0m\n\u001B[1;32m     49\u001B[0m     param_groups \u001B[38;5;241m=\u001B[39m [{\u001B[38;5;124m'\u001B[39m\u001B[38;5;124mparams\u001B[39m\u001B[38;5;124m'\u001B[39m: param_groups}]\n\u001B[1;32m     51\u001B[0m \u001B[38;5;28;01mfor\u001B[39;00m param_group \u001B[38;5;129;01min\u001B[39;00m param_groups:\n\u001B[0;32m---> 52\u001B[0m     \u001B[38;5;28;43mself\u001B[39;49m\u001B[38;5;241;43m.\u001B[39;49m\u001B[43madd_param_group\u001B[49m\u001B[43m(\u001B[49m\u001B[43mparam_group\u001B[49m\u001B[43m)\u001B[49m\n",
      "File \u001B[0;32m/cluster/apps/nss/gcc-6.3.0/python_gpu/3.8.5/torch/optim/optimizer.py:233\u001B[0m, in \u001B[0;36mOptimizer.add_param_group\u001B[0;34m(self, param_group)\u001B[0m\n\u001B[1;32m    230\u001B[0m         \u001B[38;5;28;01mraise\u001B[39;00m \u001B[38;5;167;01mTypeError\u001B[39;00m(\u001B[38;5;124m\"\u001B[39m\u001B[38;5;124moptimizer can only optimize Tensors, \u001B[39m\u001B[38;5;124m\"\u001B[39m\n\u001B[1;32m    231\u001B[0m                         \u001B[38;5;124m\"\u001B[39m\u001B[38;5;124mbut one of the params is \u001B[39m\u001B[38;5;124m\"\u001B[39m \u001B[38;5;241m+\u001B[39m torch\u001B[38;5;241m.\u001B[39mtypename(param))\n\u001B[1;32m    232\u001B[0m     \u001B[38;5;28;01mif\u001B[39;00m \u001B[38;5;129;01mnot\u001B[39;00m param\u001B[38;5;241m.\u001B[39mis_leaf:\n\u001B[0;32m--> 233\u001B[0m         \u001B[38;5;28;01mraise\u001B[39;00m \u001B[38;5;167;01mValueError\u001B[39;00m(\u001B[38;5;124m\"\u001B[39m\u001B[38;5;124mcan\u001B[39m\u001B[38;5;124m'\u001B[39m\u001B[38;5;124mt optimize a non-leaf Tensor\u001B[39m\u001B[38;5;124m\"\u001B[39m)\n\u001B[1;32m    235\u001B[0m \u001B[38;5;28;01mfor\u001B[39;00m name, default \u001B[38;5;129;01min\u001B[39;00m \u001B[38;5;28mself\u001B[39m\u001B[38;5;241m.\u001B[39mdefaults\u001B[38;5;241m.\u001B[39mitems():\n\u001B[1;32m    236\u001B[0m     \u001B[38;5;28;01mif\u001B[39;00m default \u001B[38;5;129;01mis\u001B[39;00m required \u001B[38;5;129;01mand\u001B[39;00m name \u001B[38;5;129;01mnot\u001B[39;00m \u001B[38;5;129;01min\u001B[39;00m param_group:\n",
      "\u001B[0;31mValueError\u001B[0m: can't optimize a non-leaf Tensor"
     ]
    }
   ],
   "source": [
    "lr = 1e-4\n",
    "self.pts.requires_grad = True\n",
    "\n",
    "\n",
    "##############\n",
    "u_index = np.argsort(-self.weights)[0]\n",
    "\n",
    "\n",
    "# print(u_index)\n",
    "binary_mask = torch.zeros_like(self.pts)\n",
    "_ = binary_mask[u_index].fill_(1.)\n",
    "pts_temp = self.pts * binary_mask\n",
    "# if other values are needed\n",
    "pts_temp += self.pts.detach() * binary_mask.logical_not()\n",
    "\n",
    "orig = self.pts\n",
    "self.pts = pts_temp\n",
    "\n",
    "# foo = self.pts[0]\n",
    "# foo.requires_grad = True\n",
    "optimizer = torch.optim.SGD((orig,), lr=lr, momentum=0.9)\n",
    "\n",
    "p_u_to_vs2 = mcmc.MCMC_girg.get_p_u_to_vs_pytorch(\n",
    "    self.weights, self.pts, self.alpha, self.const_in,\n",
    "    u_index, self.failure_prob, self.cl_mixin_prob,\n",
    "    self.c_cl)\n",
    "u_ll_new = self.p_u_to_vs_to_ll_pytorch(self.g, u_index, p_u_to_vs2)\n",
    "\n",
    "u_ll_new.backward()\n",
    "optimizer.step()\n",
    "\n",
    "self.pts = orig\n",
    "\n",
    "self.pts = torch.clamp(self.pts, 0, 1)\n",
    "\n",
    "#############\n",
    "\n",
    "u_index = np.argsort(-self.weights)[1]\n",
    "# print(u_index)\n",
    "binary_mask = torch.zeros_like(self.pts)\n",
    "_ = binary_mask[u_index].fill_(1.)\n",
    "pts_temp = self.pts * binary_mask\n",
    "# if other values are needed\n",
    "pts_temp += self.pts.detach() * binary_mask.logical_not()\n",
    "\n",
    "orig = self.pts\n",
    "self.pts = pts_temp\n",
    "\n",
    "# foo = self.pts[0]\n",
    "# foo.requires_grad = True\n",
    "optimizer = torch.optim.SGD((orig,), lr=lr, momentum=0.9)\n",
    "\n",
    "p_u_to_vs2 = mcmc.MCMC_girg.get_p_u_to_vs_pytorch(\n",
    "    self.weights, self.pts, self.alpha, self.const_in,\n",
    "    u_index, self.failure_prob, self.cl_mixin_prob,\n",
    "    self.c_cl)\n",
    "u_ll_new = self.p_u_to_vs_to_ll_pytorch(self.g, u_index, p_u_to_vs2)\n",
    "\n",
    "u_ll_new.backward()\n",
    "optimizer.step()\n",
    "\n",
    "self.pts = orig#"
   ],
   "metadata": {
    "collapsed": false,
    "ExecuteTime": {
     "start_time": "2023-08-29T10:20:31.004862Z",
     "end_time": "2023-08-29T10:20:31.017370Z"
    }
   }
  },
  {
   "cell_type": "code",
   "execution_count": null,
   "outputs": [],
   "source": [
    "MC.pts"
   ],
   "metadata": {
    "collapsed": false
   }
  },
  {
   "cell_type": "code",
   "execution_count": 126,
   "outputs": [
    {
     "name": "stdout",
     "output_type": "stream",
     "text": [
      "tensor(14)\n"
     ]
    },
    {
     "data": {
      "text/plain": "<torch.utils.hooks.RemovableHandle at 0x2b7c0a264fd0>"
     },
     "execution_count": 126,
     "metadata": {},
     "output_type": "execute_result"
    },
    {
     "data": {
      "text/plain": "<torch.utils.hooks.RemovableHandle at 0x2b7c0b0c3310>"
     },
     "execution_count": 126,
     "metadata": {},
     "output_type": "execute_result"
    }
   ],
   "source": [
    "lr = 1e-4\n",
    "self.pts.requires_grad = True\n",
    "optimizer = torch.optim.SGD((self.pts,), lr=lr, momentum=0.9)\n",
    "\n",
    "##############\n",
    "u_index = np.argsort(-self.weights)[0]\n",
    "\n",
    "#\n",
    "print(u_index)\n",
    "# binary_mask = torch.zeros_like(self.pts)\n",
    "# _ = binary_mask[u_index].fill_(1.)\n",
    "# pts_temp = self.pts * binary_mask\n",
    "# # if other values are needed\n",
    "# pts_temp += self.pts.detach() * binary_mask.logical_not()\n",
    "#\n",
    "# orig = self.pts\n",
    "# self.pts = pts_temp\n",
    "\n",
    "gradient_mask = torch.zeros_like(self.pts)\n",
    "_ = gradient_mask[u_index].fill_(1.)\n",
    "self.pts.register_hook(lambda grad: grad.mul_(gradient_mask))\n",
    "\n",
    "\n",
    "p_u_to_vs2 = mcmc.MCMC_girg.get_p_u_to_vs_pytorch(\n",
    "    self.weights, self.pts, self.alpha, self.const_in,\n",
    "    u_index, self.failure_prob, self.cl_mixin_prob,\n",
    "    self.c_cl)\n",
    "u_ll_new = self.p_u_to_vs_to_ll_pytorch(self.g, u_index, p_u_to_vs2)\n",
    "\n",
    "u_ll_new.backward()\n",
    "optimizer.step()\n",
    "\n",
    "# self.pts = orig\n",
    "\n",
    "self.pts = torch.clamp(self.pts, 0, 1)\n",
    "\n",
    "#############\n",
    "optimizer.zero_grad()\n",
    "u_index = np.argsort(-self.weights)[1]\n",
    "# print(u_index)\n",
    "# binary_mask = torch.zeros_like(self.pts)\n",
    "# _ = binary_mask[u_index].fill_(1.)\n",
    "# pts_temp = self.pts * binary_mask\n",
    "# # if other values are needed\n",
    "# pts_temp += self.pts.detach() * binary_mask.logical_not()\n",
    "\n",
    "gradient_mask = torch.zeros_like(self.pts)\n",
    "_ = gradient_mask[u_index].fill_(1.)\n",
    "self.pts.register_hook(lambda grad: grad.mul_(gradient_mask))\n",
    "\n",
    "\n",
    "p_u_to_vs2 = mcmc.MCMC_girg.get_p_u_to_vs_pytorch(\n",
    "    self.weights, self.pts, self.alpha, self.const_in,\n",
    "    u_index, self.failure_prob, self.cl_mixin_prob,\n",
    "    self.c_cl)\n",
    "u_ll_new = self.p_u_to_vs_to_ll_pytorch(self.g, u_index, p_u_to_vs2)\n",
    "\n",
    "u_ll_new.backward()\n",
    "optimizer.step()\n"
   ],
   "metadata": {
    "collapsed": false,
    "ExecuteTime": {
     "start_time": "2023-08-29T10:26:33.352883Z",
     "end_time": "2023-08-29T10:26:33.470667Z"
    }
   }
  },
  {
   "cell_type": "code",
   "execution_count": 127,
   "outputs": [
    {
     "data": {
      "text/plain": "tensor([[0.8140, 0.1462],\n        [0.8091, 0.0000],\n        [0.5502, 0.1906],\n        [1.0000, 0.9500],\n        [0.6638, 0.0500],\n        [0.9500, 0.6989],\n        [0.8333, 0.4621],\n        [0.3819, 0.7609],\n        [0.0000, 0.8146],\n        [0.4828, 0.6011],\n        [0.9500, 0.9460],\n        [0.7018, 0.5130],\n        [0.7495, 0.8976],\n        [0.5714, 0.1176],\n        [0.6850, 0.5363],\n        [0.7996, 0.7295],\n        [0.0500, 0.8291],\n        [0.7759, 0.9500],\n        [0.8336, 0.4806],\n        [0.4523, 0.5385]], grad_fn=<AliasBackward>)"
     },
     "execution_count": 127,
     "metadata": {},
     "output_type": "execute_result"
    }
   ],
   "source": [
    "MC.pts"
   ],
   "metadata": {
    "collapsed": false,
    "ExecuteTime": {
     "start_time": "2023-08-29T10:26:46.040040Z",
     "end_time": "2023-08-29T10:26:46.055696Z"
    }
   }
  },
  {
   "cell_type": "code",
   "execution_count": null,
   "outputs": [],
   "source": [
    "\n",
    "MC.ordered_point_propose_compare_update_pytorch(lr=3e-4, use_tqdm=True)"
   ],
   "metadata": {
    "collapsed": false
   }
  },
  {
   "cell_type": "code",
   "execution_count": 99,
   "outputs": [
    {
     "ename": "AttributeError",
     "evalue": "'NoneType' object has no attribute 'lower'",
     "output_type": "error",
     "traceback": [
      "\u001B[0;31m---------------------------------------------------------------------------\u001B[0m",
      "\u001B[0;31mAttributeError\u001B[0m                            Traceback (most recent call last)",
      "Cell \u001B[0;32mIn[99], line 1\u001B[0m\n\u001B[0;32m----> 1\u001B[0m \u001B[43mtorch\u001B[49m\u001B[38;5;241;43m.\u001B[39;49m\u001B[43mcuda\u001B[49m\u001B[38;5;241;43m.\u001B[39;49m\u001B[43mmemory_allocated\u001B[49m\u001B[43m(\u001B[49m\u001B[43m)\u001B[49m\n",
      "File \u001B[0;32m/cluster/apps/nss/gcc-6.3.0/python_gpu/3.8.5/torch/cuda/memory.py:279\u001B[0m, in \u001B[0;36mmemory_allocated\u001B[0;34m(device)\u001B[0m\n\u001B[1;32m    264\u001B[0m \u001B[38;5;28;01mdef\u001B[39;00m \u001B[38;5;21mmemory_allocated\u001B[39m(device: Union[Device, \u001B[38;5;28mint\u001B[39m] \u001B[38;5;241m=\u001B[39m \u001B[38;5;28;01mNone\u001B[39;00m) \u001B[38;5;241m-\u001B[39m\u001B[38;5;241m>\u001B[39m \u001B[38;5;28mint\u001B[39m:\n\u001B[1;32m    265\u001B[0m     \u001B[38;5;124mr\u001B[39m\u001B[38;5;124;03m\"\"\"Returns the current GPU memory occupied by tensors in bytes for a given\u001B[39;00m\n\u001B[1;32m    266\u001B[0m \u001B[38;5;124;03m    device.\u001B[39;00m\n\u001B[1;32m    267\u001B[0m \n\u001B[0;32m   (...)\u001B[0m\n\u001B[1;32m    277\u001B[0m \u001B[38;5;124;03m        details about GPU memory management.\u001B[39;00m\n\u001B[1;32m    278\u001B[0m \u001B[38;5;124;03m    \"\"\"\u001B[39;00m\n\u001B[0;32m--> 279\u001B[0m     \u001B[38;5;28;01mreturn\u001B[39;00m \u001B[43mmemory_stats\u001B[49m\u001B[43m(\u001B[49m\u001B[43mdevice\u001B[49m\u001B[38;5;241;43m=\u001B[39;49m\u001B[43mdevice\u001B[49m\u001B[43m)\u001B[49m[\u001B[38;5;124m\"\u001B[39m\u001B[38;5;124mallocated_bytes.all.current\u001B[39m\u001B[38;5;124m\"\u001B[39m]\n",
      "File \u001B[0;32m/cluster/apps/nss/gcc-6.3.0/python_gpu/3.8.5/torch/cuda/memory.py:160\u001B[0m, in \u001B[0;36mmemory_stats\u001B[0;34m(device)\u001B[0m\n\u001B[1;32m    157\u001B[0m     \u001B[38;5;28;01melse\u001B[39;00m:\n\u001B[1;32m    158\u001B[0m         result\u001B[38;5;241m.\u001B[39mappend((prefix, obj))\n\u001B[0;32m--> 160\u001B[0m stats \u001B[38;5;241m=\u001B[39m \u001B[43mmemory_stats_as_nested_dict\u001B[49m\u001B[43m(\u001B[49m\u001B[43mdevice\u001B[49m\u001B[38;5;241;43m=\u001B[39;49m\u001B[43mdevice\u001B[49m\u001B[43m)\u001B[49m\n\u001B[1;32m    161\u001B[0m _recurse_add_to_result(\u001B[38;5;124m\"\u001B[39m\u001B[38;5;124m\"\u001B[39m, stats)\n\u001B[1;32m    162\u001B[0m result\u001B[38;5;241m.\u001B[39msort()\n",
      "File \u001B[0;32m/cluster/apps/nss/gcc-6.3.0/python_gpu/3.8.5/torch/cuda/memory.py:169\u001B[0m, in \u001B[0;36mmemory_stats_as_nested_dict\u001B[0;34m(device)\u001B[0m\n\u001B[1;32m    167\u001B[0m \u001B[38;5;28;01mdef\u001B[39;00m \u001B[38;5;21mmemory_stats_as_nested_dict\u001B[39m(device: Union[Device, \u001B[38;5;28mint\u001B[39m] \u001B[38;5;241m=\u001B[39m \u001B[38;5;28;01mNone\u001B[39;00m) \u001B[38;5;241m-\u001B[39m\u001B[38;5;241m>\u001B[39m Dict[\u001B[38;5;28mstr\u001B[39m, Any]:\n\u001B[1;32m    168\u001B[0m     \u001B[38;5;124mr\u001B[39m\u001B[38;5;124;03m\"\"\"Returns the result of :func:`~torch.cuda.memory_stats` as a nested dictionary.\"\"\"\u001B[39;00m\n\u001B[0;32m--> 169\u001B[0m     device \u001B[38;5;241m=\u001B[39m \u001B[43m_get_device_index\u001B[49m\u001B[43m(\u001B[49m\u001B[43mdevice\u001B[49m\u001B[43m,\u001B[49m\u001B[43m \u001B[49m\u001B[43moptional\u001B[49m\u001B[38;5;241;43m=\u001B[39;49m\u001B[38;5;28;43;01mTrue\u001B[39;49;00m\u001B[43m)\u001B[49m\n\u001B[1;32m    170\u001B[0m     \u001B[38;5;28;01mreturn\u001B[39;00m torch\u001B[38;5;241m.\u001B[39m_C\u001B[38;5;241m.\u001B[39m_cuda_memoryStats(device)\n",
      "File \u001B[0;32m/cluster/apps/nss/gcc-6.3.0/python_gpu/3.8.5/torch/cuda/_utils.py:32\u001B[0m, in \u001B[0;36m_get_device_index\u001B[0;34m(device, optional, allow_cpu)\u001B[0m\n\u001B[1;32m     30\u001B[0m     \u001B[38;5;28;01melif\u001B[39;00m device\u001B[38;5;241m.\u001B[39mtype \u001B[38;5;241m!=\u001B[39m \u001B[38;5;124m'\u001B[39m\u001B[38;5;124mcuda\u001B[39m\u001B[38;5;124m'\u001B[39m:\n\u001B[1;32m     31\u001B[0m         \u001B[38;5;28;01mraise\u001B[39;00m \u001B[38;5;167;01mValueError\u001B[39;00m(\u001B[38;5;124m'\u001B[39m\u001B[38;5;124mExpected a cuda device, but got: \u001B[39m\u001B[38;5;132;01m{}\u001B[39;00m\u001B[38;5;124m'\u001B[39m\u001B[38;5;241m.\u001B[39mformat(device))\n\u001B[0;32m---> 32\u001B[0m \u001B[38;5;28;01mreturn\u001B[39;00m \u001B[43m_torch_get_device_index\u001B[49m\u001B[43m(\u001B[49m\u001B[43mdevice\u001B[49m\u001B[43m,\u001B[49m\u001B[43m \u001B[49m\u001B[43moptional\u001B[49m\u001B[43m,\u001B[49m\u001B[43m \u001B[49m\u001B[43mallow_cpu\u001B[49m\u001B[43m)\u001B[49m\n",
      "File \u001B[0;32m/cluster/apps/nss/gcc-6.3.0/python_gpu/3.8.5/torch/_utils.py:489\u001B[0m, in \u001B[0;36m_get_device_index\u001B[0;34m(device, optional, allow_cpu)\u001B[0m\n\u001B[1;32m    487\u001B[0m \u001B[38;5;28;01mif\u001B[39;00m device_idx \u001B[38;5;129;01mis\u001B[39;00m \u001B[38;5;28;01mNone\u001B[39;00m:\n\u001B[1;32m    488\u001B[0m     \u001B[38;5;28;01mif\u001B[39;00m optional:\n\u001B[0;32m--> 489\u001B[0m         device_idx \u001B[38;5;241m=\u001B[39m \u001B[43m_get_current_device_index\u001B[49m\u001B[43m(\u001B[49m\u001B[43m)\u001B[49m\n\u001B[1;32m    490\u001B[0m     \u001B[38;5;28;01melse\u001B[39;00m:\n\u001B[1;32m    491\u001B[0m         \u001B[38;5;28;01mraise\u001B[39;00m \u001B[38;5;167;01mValueError\u001B[39;00m(\u001B[38;5;124m'\u001B[39m\u001B[38;5;124mExpected a torch.device with a specified index \u001B[39m\u001B[38;5;124m'\u001B[39m\n\u001B[1;32m    492\u001B[0m                          \u001B[38;5;124m'\u001B[39m\u001B[38;5;124mor an integer, but got:\u001B[39m\u001B[38;5;132;01m{}\u001B[39;00m\u001B[38;5;124m'\u001B[39m\u001B[38;5;241m.\u001B[39mformat(device))\n",
      "File \u001B[0;32m/cluster/apps/nss/gcc-6.3.0/python_gpu/3.8.5/torch/_utils.py:448\u001B[0m, in \u001B[0;36m_get_current_device_index\u001B[0;34m()\u001B[0m\n\u001B[1;32m    446\u001B[0m \u001B[38;5;28;01mdef\u001B[39;00m \u001B[38;5;21m_get_current_device_index\u001B[39m():\n\u001B[1;32m    447\u001B[0m     \u001B[38;5;66;03m# current device index\u001B[39;00m\n\u001B[0;32m--> 448\u001B[0m     \u001B[38;5;28;01mreturn\u001B[39;00m \u001B[43m_get_device_attr\u001B[49m\u001B[43m(\u001B[49m\u001B[38;5;28;43;01mlambda\u001B[39;49;00m\u001B[43m \u001B[49m\u001B[43mm\u001B[49m\u001B[43m:\u001B[49m\u001B[43m \u001B[49m\u001B[43mm\u001B[49m\u001B[38;5;241;43m.\u001B[39;49m\u001B[43mcurrent_device\u001B[49m\u001B[43m(\u001B[49m\u001B[43m)\u001B[49m\u001B[43m)\u001B[49m\n",
      "File \u001B[0;32m/cluster/apps/nss/gcc-6.3.0/python_gpu/3.8.5/torch/_utils.py:440\u001B[0m, in \u001B[0;36m_get_device_attr\u001B[0;34m(get_member)\u001B[0m\n\u001B[1;32m    438\u001B[0m \u001B[38;5;28;01mdef\u001B[39;00m \u001B[38;5;21m_get_device_attr\u001B[39m(get_member):\n\u001B[1;32m    439\u001B[0m     device_type \u001B[38;5;241m=\u001B[39m _get_available_device_type()\n\u001B[0;32m--> 440\u001B[0m     \u001B[38;5;28;01mif\u001B[39;00m \u001B[43mdevice_type\u001B[49m\u001B[38;5;241;43m.\u001B[39;49m\u001B[43mlower\u001B[49m() \u001B[38;5;241m==\u001B[39m \u001B[38;5;124m\"\u001B[39m\u001B[38;5;124mcuda\u001B[39m\u001B[38;5;124m\"\u001B[39m:\n\u001B[1;32m    441\u001B[0m         \u001B[38;5;28;01mreturn\u001B[39;00m get_member(torch\u001B[38;5;241m.\u001B[39mcuda)\n\u001B[1;32m    442\u001B[0m     \u001B[38;5;66;03m# add more available device types here\u001B[39;00m\n",
      "\u001B[0;31mAttributeError\u001B[0m: 'NoneType' object has no attribute 'lower'"
     ]
    }
   ],
   "source": [
    "torch.cuda.memory_allocated()"
   ],
   "metadata": {
    "collapsed": false
   }
  },
  {
   "cell_type": "code",
   "execution_count": 73,
   "outputs": [
    {
     "data": {
      "text/plain": "<matplotlib.collections.PathCollection at 0x2b7c02f6dd30>"
     },
     "execution_count": 73,
     "metadata": {},
     "output_type": "execute_result"
    },
    {
     "data": {
      "text/plain": "<Figure size 640x480 with 1 Axes>",
      "image/png": "[encoded data removed]"
     },
     "metadata": {},
     "output_type": "display_data"
    }
   ],
   "source": [
    "MC.pts = MC.pts.detach()\n",
    "plt.scatter(MC.pts[:,0], MC.pts[:,1], c=MC.weights)"
   ],
   "metadata": {
    "collapsed": false,
    "ExecuteTime": {
     "start_time": "2023-08-29T10:12:45.594754Z",
     "end_time": "2023-08-29T10:12:45.959871Z"
    }
   }
  },
  {
   "cell_type": "code",
   "execution_count": 74,
   "outputs": [
    {
     "data": {
      "text/plain": "array([[  3942,  11032],\n       [ 15352, 219674]])"
     },
     "execution_count": 74,
     "metadata": {},
     "output_type": "execute_result"
    },
    {
     "data": {
      "text/plain": "0.26325631093896085"
     },
     "execution_count": 74,
     "metadata": {},
     "output_type": "execute_result"
    }
   ],
   "source": [
    "MC.pts = MC.pts.detach()\n",
    "g_out, A_out, out, pec, pfew = MC.get_CM(MC.A)\n",
    "out\n",
    "pec"
   ],
   "metadata": {
    "collapsed": false,
    "ExecuteTime": {
     "start_time": "2023-08-29T10:13:10.093763Z",
     "end_time": "2023-08-29T10:13:10.227834Z"
    }
   }
  },
  {
   "cell_type": "code",
   "execution_count": 46,
   "outputs": [
    {
     "name": "stdout",
     "output_type": "stream",
     "text": [
      "tensor(24)\n",
      "tensor([[0.1421, 0.0250],\n",
      "        [0.5532, 0.0500],\n",
      "        [0.0744, 0.6039],\n",
      "        [0.1448, 0.1027],\n",
      "        [0.9497, 0.2401],\n",
      "        [0.9500, 0.1992],\n",
      "        [0.4841, 0.6513],\n",
      "        [0.5086, 0.6315],\n",
      "        [0.0250, 0.5713],\n",
      "        [0.6482, 0.9500],\n",
      "        [0.0000, 0.4163],\n",
      "        [0.6368, 0.4639],\n",
      "        [0.4314, 0.5472],\n",
      "        [0.1213, 0.5694],\n",
      "        [0.5452, 0.8649],\n",
      "        [0.5510, 0.9488],\n",
      "        [0.3365, 0.5766],\n",
      "        [0.5085, 0.6917],\n",
      "        [0.5717, 0.2047],\n",
      "        [0.6685, 0.9750],\n",
      "        [0.5627, 0.9500],\n",
      "        [0.4097, 0.5692],\n",
      "        [0.2133, 0.6037],\n",
      "        [0.2358, 0.6082],\n",
      "        [0.4005, 0.5085],\n",
      "        [0.6036, 0.5489],\n",
      "        [0.5947, 0.7905],\n",
      "        [0.3961, 0.6690],\n",
      "        [0.0500, 0.6078],\n",
      "        [0.6234, 0.4961],\n",
      "        [0.0884, 0.4370],\n",
      "        [0.2269, 0.0000],\n",
      "        [0.0744, 0.6039],\n",
      "        [0.3298, 0.5781],\n",
      "        [0.1958, 0.5628],\n",
      "        [0.9500, 0.1931],\n",
      "        [0.9750, 0.1441],\n",
      "        [0.9083, 0.2726],\n",
      "        [0.6432, 0.8711],\n",
      "        [0.4171, 0.4056]], requires_grad=True)\n",
      "tensor(39)\n",
      "tensor([[0.1421, 0.0250],\n",
      "        [0.5532, 0.0500],\n",
      "        [0.0744, 0.6039],\n",
      "        [0.1448, 0.1027],\n",
      "        [0.9497, 0.2401],\n",
      "        [0.9500, 0.1992],\n",
      "        [0.4841, 0.6513],\n",
      "        [0.5086, 0.6315],\n",
      "        [0.0250, 0.5713],\n",
      "        [0.6482, 0.9500],\n",
      "        [0.0000, 0.4163],\n",
      "        [0.6368, 0.4639],\n",
      "        [0.4314, 0.5472],\n",
      "        [0.1213, 0.5694],\n",
      "        [0.5452, 0.8649],\n",
      "        [0.5510, 0.9488],\n",
      "        [0.3365, 0.5766],\n",
      "        [0.5085, 0.6917],\n",
      "        [0.5717, 0.2047],\n",
      "        [0.6685, 0.9750],\n",
      "        [0.5627, 0.9500],\n",
      "        [0.4097, 0.5692],\n",
      "        [0.2133, 0.6037],\n",
      "        [0.2358, 0.6082],\n",
      "        [0.4005, 0.5085],\n",
      "        [0.6036, 0.5489],\n",
      "        [0.5947, 0.7905],\n",
      "        [0.3961, 0.6690],\n",
      "        [0.0500, 0.6078],\n",
      "        [0.6234, 0.4961],\n",
      "        [0.0884, 0.4370],\n",
      "        [0.2269, 0.0000],\n",
      "        [0.0744, 0.6039],\n",
      "        [0.3298, 0.5781],\n",
      "        [0.1958, 0.5628],\n",
      "        [0.9500, 0.1931],\n",
      "        [0.9750, 0.1441],\n",
      "        [0.9083, 0.2726],\n",
      "        [0.6432, 0.8711],\n",
      "        [0.4110, 0.4161]], requires_grad=True)\n",
      "tensor(21)\n",
      "tensor([[0.1421, 0.0250],\n",
      "        [0.5532, 0.0500],\n",
      "        [0.0744, 0.6039],\n",
      "        [0.1448, 0.1027],\n",
      "        [0.9497, 0.2401],\n",
      "        [0.9500, 0.1992],\n",
      "        [0.4841, 0.6513],\n",
      "        [0.5086, 0.6315],\n",
      "        [0.0250, 0.5713],\n",
      "        [0.6482, 0.9500],\n",
      "        [0.0000, 0.4163],\n",
      "        [0.6368, 0.4639],\n",
      "        [0.4314, 0.5472],\n",
      "        [0.1213, 0.5694],\n",
      "        [0.5452, 0.8649],\n",
      "        [0.5510, 0.9488],\n",
      "        [0.3365, 0.5766],\n",
      "        [0.5085, 0.6917],\n",
      "        [0.5717, 0.2047],\n",
      "        [0.6685, 0.9750],\n",
      "        [0.5627, 0.9500],\n",
      "        [0.4166, 0.5707],\n",
      "        [0.2133, 0.6037],\n",
      "        [0.2358, 0.6082],\n",
      "        [0.4005, 0.5085],\n",
      "        [0.6036, 0.5489],\n",
      "        [0.5947, 0.7905],\n",
      "        [0.3961, 0.6690],\n",
      "        [0.0500, 0.6078],\n",
      "        [0.6234, 0.4961],\n",
      "        [0.0884, 0.4370],\n",
      "        [0.2269, 0.0000],\n",
      "        [0.0744, 0.6039],\n",
      "        [0.3298, 0.5781],\n",
      "        [0.1958, 0.5628],\n",
      "        [0.9500, 0.1931],\n",
      "        [0.9750, 0.1441],\n",
      "        [0.9083, 0.2726],\n",
      "        [0.6432, 0.8711],\n",
      "        [0.4110, 0.4161]], requires_grad=True)\n",
      "tensor(7)\n",
      "tensor([[0.1421, 0.0250],\n",
      "        [0.5532, 0.0500],\n",
      "        [0.0744, 0.6039],\n",
      "        [0.1448, 0.1027],\n",
      "        [0.9497, 0.2401],\n",
      "        [0.9500, 0.1992],\n",
      "        [0.4841, 0.6513],\n",
      "        [0.5055, 0.6351],\n",
      "        [0.0250, 0.5713],\n",
      "        [0.6482, 0.9500],\n",
      "        [0.0000, 0.4163],\n",
      "        [0.6368, 0.4639],\n",
      "        [0.4314, 0.5472],\n",
      "        [0.1213, 0.5694],\n",
      "        [0.5452, 0.8649],\n",
      "        [0.5510, 0.9488],\n",
      "        [0.3365, 0.5766],\n",
      "        [0.5085, 0.6917],\n",
      "        [0.5717, 0.2047],\n",
      "        [0.6685, 0.9750],\n",
      "        [0.5627, 0.9500],\n",
      "        [0.4166, 0.5707],\n",
      "        [0.2133, 0.6037],\n",
      "        [0.2358, 0.6082],\n",
      "        [0.4005, 0.5085],\n",
      "        [0.6036, 0.5489],\n",
      "        [0.5947, 0.7905],\n",
      "        [0.3961, 0.6690],\n",
      "        [0.0500, 0.6078],\n",
      "        [0.6234, 0.4961],\n",
      "        [0.0884, 0.4370],\n",
      "        [0.2269, 0.0000],\n",
      "        [0.0744, 0.6039],\n",
      "        [0.3298, 0.5781],\n",
      "        [0.1958, 0.5628],\n",
      "        [0.9500, 0.1931],\n",
      "        [0.9750, 0.1441],\n",
      "        [0.9083, 0.2726],\n",
      "        [0.6432, 0.8711],\n",
      "        [0.4110, 0.4161]], requires_grad=True)\n",
      "tensor(29)\n",
      "tensor([[0.1421, 0.0250],\n",
      "        [0.5532, 0.0500],\n",
      "        [0.0744, 0.6039],\n",
      "        [0.1448, 0.1027],\n",
      "        [0.9497, 0.2401],\n",
      "        [0.9500, 0.1992],\n",
      "        [0.4841, 0.6513],\n",
      "        [0.5055, 0.6351],\n",
      "        [0.0250, 0.5713],\n",
      "        [0.6482, 0.9500],\n",
      "        [0.0000, 0.4163],\n",
      "        [0.6368, 0.4639],\n",
      "        [0.4314, 0.5472],\n",
      "        [0.1213, 0.5694],\n",
      "        [0.5452, 0.8649],\n",
      "        [0.5510, 0.9488],\n",
      "        [0.3365, 0.5766],\n",
      "        [0.5085, 0.6917],\n",
      "        [0.5717, 0.2047],\n",
      "        [0.6685, 0.9750],\n",
      "        [0.5627, 0.9500],\n",
      "        [0.4166, 0.5707],\n",
      "        [0.2133, 0.6037],\n",
      "        [0.2358, 0.6082],\n",
      "        [0.4005, 0.5085],\n",
      "        [0.6036, 0.5489],\n",
      "        [0.5947, 0.7905],\n",
      "        [0.3961, 0.6690],\n",
      "        [0.0500, 0.6078],\n",
      "        [0.6235, 0.5004],\n",
      "        [0.0884, 0.4370],\n",
      "        [0.2269, 0.0000],\n",
      "        [0.0744, 0.6039],\n",
      "        [0.3298, 0.5781],\n",
      "        [0.1958, 0.5628],\n",
      "        [0.9500, 0.1931],\n",
      "        [0.9750, 0.1441],\n",
      "        [0.9083, 0.2726],\n",
      "        [0.6432, 0.8711],\n",
      "        [0.4110, 0.4161]], requires_grad=True)\n",
      "tensor(22)\n",
      "tensor([[0.1421, 0.0250],\n",
      "        [0.5532, 0.0500],\n",
      "        [0.0744, 0.6039],\n",
      "        [0.1448, 0.1027],\n",
      "        [0.9497, 0.2401],\n",
      "        [0.9500, 0.1992],\n",
      "        [0.4841, 0.6513],\n",
      "        [0.5055, 0.6351],\n",
      "        [0.0250, 0.5713],\n",
      "        [0.6482, 0.9500],\n",
      "        [0.0000, 0.4163],\n",
      "        [0.6368, 0.4639],\n",
      "        [0.4314, 0.5472],\n",
      "        [0.1213, 0.5694],\n",
      "        [0.5452, 0.8649],\n",
      "        [0.5510, 0.9488],\n",
      "        [0.3365, 0.5766],\n",
      "        [0.5085, 0.6917],\n",
      "        [0.5717, 0.2047],\n",
      "        [0.6685, 0.9750],\n",
      "        [0.5627, 0.9500],\n",
      "        [0.4166, 0.5707],\n",
      "        [0.2065, 0.5940],\n",
      "        [0.2358, 0.6082],\n",
      "        [0.4005, 0.5085],\n",
      "        [0.6036, 0.5489],\n",
      "        [0.5947, 0.7905],\n",
      "        [0.3961, 0.6690],\n",
      "        [0.0500, 0.6078],\n",
      "        [0.6235, 0.5004],\n",
      "        [0.0884, 0.4370],\n",
      "        [0.2269, 0.0000],\n",
      "        [0.0744, 0.6039],\n",
      "        [0.3298, 0.5781],\n",
      "        [0.1958, 0.5628],\n",
      "        [0.9500, 0.1931],\n",
      "        [0.9750, 0.1441],\n",
      "        [0.9083, 0.2726],\n",
      "        [0.6432, 0.8711],\n",
      "        [0.4110, 0.4161]], requires_grad=True)\n",
      "tensor(6)\n",
      "tensor([[0.1421, 0.0250],\n",
      "        [0.5532, 0.0500],\n",
      "        [0.0744, 0.6039],\n",
      "        [0.1448, 0.1027],\n",
      "        [0.9497, 0.2401],\n",
      "        [0.9500, 0.1992],\n",
      "        [0.4771, 0.6511],\n",
      "        [0.5055, 0.6351],\n",
      "        [0.0250, 0.5713],\n",
      "        [0.6482, 0.9500],\n",
      "        [0.0000, 0.4163],\n",
      "        [0.6368, 0.4639],\n",
      "        [0.4314, 0.5472],\n",
      "        [0.1213, 0.5694],\n",
      "        [0.5452, 0.8649],\n",
      "        [0.5510, 0.9488],\n",
      "        [0.3365, 0.5766],\n",
      "        [0.5085, 0.6917],\n",
      "        [0.5717, 0.2047],\n",
      "        [0.6685, 0.9750],\n",
      "        [0.5627, 0.9500],\n",
      "        [0.4166, 0.5707],\n",
      "        [0.2065, 0.5940],\n",
      "        [0.2358, 0.6082],\n",
      "        [0.4005, 0.5085],\n",
      "        [0.6036, 0.5489],\n",
      "        [0.5947, 0.7905],\n",
      "        [0.3961, 0.6690],\n",
      "        [0.0500, 0.6078],\n",
      "        [0.6235, 0.5004],\n",
      "        [0.0884, 0.4370],\n",
      "        [0.2269, 0.0000],\n",
      "        [0.0744, 0.6039],\n",
      "        [0.3298, 0.5781],\n",
      "        [0.1958, 0.5628],\n",
      "        [0.9500, 0.1931],\n",
      "        [0.9750, 0.1441],\n",
      "        [0.9083, 0.2726],\n",
      "        [0.6432, 0.8711],\n",
      "        [0.4110, 0.4161]], requires_grad=True)\n",
      "tensor(11)\n",
      "tensor([[0.1421, 0.0250],\n",
      "        [0.5532, 0.0500],\n",
      "        [0.0744, 0.6039],\n",
      "        [0.1448, 0.1027],\n",
      "        [0.9497, 0.2401],\n",
      "        [0.9500, 0.1992],\n",
      "        [0.4771, 0.6511],\n",
      "        [0.5055, 0.6351],\n",
      "        [0.0250, 0.5713],\n",
      "        [0.6482, 0.9500],\n",
      "        [0.0000, 0.4163],\n",
      "        [0.6216, 0.4634],\n",
      "        [0.4314, 0.5472],\n",
      "        [0.1213, 0.5694],\n",
      "        [0.5452, 0.8649],\n",
      "        [0.5510, 0.9488],\n",
      "        [0.3365, 0.5766],\n",
      "        [0.5085, 0.6917],\n",
      "        [0.5717, 0.2047],\n",
      "        [0.6685, 0.9750],\n",
      "        [0.5627, 0.9500],\n",
      "        [0.4166, 0.5707],\n",
      "        [0.2065, 0.5940],\n",
      "        [0.2358, 0.6082],\n",
      "        [0.4005, 0.5085],\n",
      "        [0.6036, 0.5489],\n",
      "        [0.5947, 0.7905],\n",
      "        [0.3961, 0.6690],\n",
      "        [0.0500, 0.6078],\n",
      "        [0.6235, 0.5004],\n",
      "        [0.0884, 0.4370],\n",
      "        [0.2269, 0.0000],\n",
      "        [0.0744, 0.6039],\n",
      "        [0.3298, 0.5781],\n",
      "        [0.1958, 0.5628],\n",
      "        [0.9500, 0.1931],\n",
      "        [0.9750, 0.1441],\n",
      "        [0.9083, 0.2726],\n",
      "        [0.6432, 0.8711],\n",
      "        [0.4110, 0.4161]], requires_grad=True)\n",
      "tensor(16)\n",
      "tensor([[0.1421, 0.0250],\n",
      "        [0.5532, 0.0500],\n",
      "        [0.0744, 0.6039],\n",
      "        [0.1448, 0.1027],\n",
      "        [0.9497, 0.2401],\n",
      "        [0.9500, 0.1992],\n",
      "        [0.4771, 0.6511],\n",
      "        [0.5055, 0.6351],\n",
      "        [0.0250, 0.5713],\n",
      "        [0.6482, 0.9500],\n",
      "        [0.0000, 0.4163],\n",
      "        [0.6216, 0.4634],\n",
      "        [0.4314, 0.5472],\n",
      "        [0.1213, 0.5694],\n",
      "        [0.5452, 0.8649],\n",
      "        [0.5510, 0.9488],\n",
      "        [0.3301, 0.5759],\n",
      "        [0.5085, 0.6917],\n",
      "        [0.5717, 0.2047],\n",
      "        [0.6685, 0.9750],\n",
      "        [0.5627, 0.9500],\n",
      "        [0.4166, 0.5707],\n",
      "        [0.2065, 0.5940],\n",
      "        [0.2358, 0.6082],\n",
      "        [0.4005, 0.5085],\n",
      "        [0.6036, 0.5489],\n",
      "        [0.5947, 0.7905],\n",
      "        [0.3961, 0.6690],\n",
      "        [0.0500, 0.6078],\n",
      "        [0.6235, 0.5004],\n",
      "        [0.0884, 0.4370],\n",
      "        [0.2269, 0.0000],\n",
      "        [0.0744, 0.6039],\n",
      "        [0.3298, 0.5781],\n",
      "        [0.1958, 0.5628],\n",
      "        [0.9500, 0.1931],\n",
      "        [0.9750, 0.1441],\n",
      "        [0.9083, 0.2726],\n",
      "        [0.6432, 0.8711],\n",
      "        [0.4110, 0.4161]], requires_grad=True)\n",
      "tensor(3)\n",
      "tensor([[0.1421, 0.0250],\n",
      "        [0.5532, 0.0500],\n",
      "        [0.0744, 0.6039],\n",
      "        [0.1547, 0.1025],\n",
      "        [0.9497, 0.2401],\n",
      "        [0.9500, 0.1992],\n",
      "        [0.4771, 0.6511],\n",
      "        [0.5055, 0.6351],\n",
      "        [0.0250, 0.5713],\n",
      "        [0.6482, 0.9500],\n",
      "        [0.0000, 0.4163],\n",
      "        [0.6216, 0.4634],\n",
      "        [0.4314, 0.5472],\n",
      "        [0.1213, 0.5694],\n",
      "        [0.5452, 0.8649],\n",
      "        [0.5510, 0.9488],\n",
      "        [0.3301, 0.5759],\n",
      "        [0.5085, 0.6917],\n",
      "        [0.5717, 0.2047],\n",
      "        [0.6685, 0.9750],\n",
      "        [0.5627, 0.9500],\n",
      "        [0.4166, 0.5707],\n",
      "        [0.2065, 0.5940],\n",
      "        [0.2358, 0.6082],\n",
      "        [0.4005, 0.5085],\n",
      "        [0.6036, 0.5489],\n",
      "        [0.5947, 0.7905],\n",
      "        [0.3961, 0.6690],\n",
      "        [0.0500, 0.6078],\n",
      "        [0.6235, 0.5004],\n",
      "        [0.0884, 0.4370],\n",
      "        [0.2269, 0.0000],\n",
      "        [0.0744, 0.6039],\n",
      "        [0.3298, 0.5781],\n",
      "        [0.1958, 0.5628],\n",
      "        [0.9500, 0.1931],\n",
      "        [0.9750, 0.1441],\n",
      "        [0.9083, 0.2726],\n",
      "        [0.6432, 0.8711],\n",
      "        [0.4110, 0.4161]], requires_grad=True)\n",
      "tensor(17)\n",
      "tensor([[0.1421, 0.0250],\n",
      "        [0.5532, 0.0500],\n",
      "        [0.0744, 0.6039],\n",
      "        [0.1547, 0.1025],\n",
      "        [0.9497, 0.2401],\n",
      "        [0.9500, 0.1992],\n",
      "        [0.4771, 0.6511],\n",
      "        [0.5055, 0.6351],\n",
      "        [0.0250, 0.5713],\n",
      "        [0.6482, 0.9500],\n",
      "        [0.0000, 0.4163],\n",
      "        [0.6216, 0.4634],\n",
      "        [0.4314, 0.5472],\n",
      "        [0.1213, 0.5694],\n",
      "        [0.5452, 0.8649],\n",
      "        [0.5510, 0.9488],\n",
      "        [0.3301, 0.5759],\n",
      "        [0.5141, 0.6900],\n",
      "        [0.5717, 0.2047],\n",
      "        [0.6685, 0.9750],\n",
      "        [0.5627, 0.9500],\n",
      "        [0.4166, 0.5707],\n",
      "        [0.2065, 0.5940],\n",
      "        [0.2358, 0.6082],\n",
      "        [0.4005, 0.5085],\n",
      "        [0.6036, 0.5489],\n",
      "        [0.5947, 0.7905],\n",
      "        [0.3961, 0.6690],\n",
      "        [0.0500, 0.6078],\n",
      "        [0.6235, 0.5004],\n",
      "        [0.0884, 0.4370],\n",
      "        [0.2269, 0.0000],\n",
      "        [0.0744, 0.6039],\n",
      "        [0.3298, 0.5781],\n",
      "        [0.1958, 0.5628],\n",
      "        [0.9500, 0.1931],\n",
      "        [0.9750, 0.1441],\n",
      "        [0.9083, 0.2726],\n",
      "        [0.6432, 0.8711],\n",
      "        [0.4110, 0.4161]], requires_grad=True)\n",
      "tensor(8)\n",
      "tensor([[0.1421, 0.0250],\n",
      "        [0.5532, 0.0500],\n",
      "        [0.0744, 0.6039],\n",
      "        [0.1547, 0.1025],\n",
      "        [0.9497, 0.2401],\n",
      "        [0.9500, 0.1992],\n",
      "        [0.4771, 0.6511],\n",
      "        [0.5055, 0.6351],\n",
      "        [0.0250, 0.5712],\n",
      "        [0.6482, 0.9500],\n",
      "        [0.0000, 0.4163],\n",
      "        [0.6216, 0.4634],\n",
      "        [0.4314, 0.5472],\n",
      "        [0.1213, 0.5694],\n",
      "        [0.5452, 0.8649],\n",
      "        [0.5510, 0.9488],\n",
      "        [0.3301, 0.5759],\n",
      "        [0.5141, 0.6900],\n",
      "        [0.5717, 0.2047],\n",
      "        [0.6685, 0.9750],\n",
      "        [0.5627, 0.9500],\n",
      "        [0.4166, 0.5707],\n",
      "        [0.2065, 0.5940],\n",
      "        [0.2358, 0.6082],\n",
      "        [0.4005, 0.5085],\n",
      "        [0.6036, 0.5489],\n",
      "        [0.5947, 0.7905],\n",
      "        [0.3961, 0.6690],\n",
      "        [0.0500, 0.6078],\n",
      "        [0.6235, 0.5004],\n",
      "        [0.0884, 0.4370],\n",
      "        [0.2269, 0.0000],\n",
      "        [0.0744, 0.6039],\n",
      "        [0.3298, 0.5781],\n",
      "        [0.1958, 0.5628],\n",
      "        [0.9500, 0.1931],\n",
      "        [0.9750, 0.1441],\n",
      "        [0.9083, 0.2726],\n",
      "        [0.6432, 0.8711],\n",
      "        [0.4110, 0.4161]], requires_grad=True)\n",
      "tensor(30)\n",
      "tensor([[0.1421, 0.0250],\n",
      "        [0.5532, 0.0500],\n",
      "        [0.0744, 0.6039],\n",
      "        [0.1547, 0.1025],\n",
      "        [0.9497, 0.2401],\n",
      "        [0.9500, 0.1992],\n",
      "        [0.4771, 0.6511],\n",
      "        [0.5055, 0.6351],\n",
      "        [0.0250, 0.5712],\n",
      "        [0.6482, 0.9500],\n",
      "        [0.0000, 0.4163],\n",
      "        [0.6216, 0.4634],\n",
      "        [0.4314, 0.5472],\n",
      "        [0.1213, 0.5694],\n",
      "        [0.5452, 0.8649],\n",
      "        [0.5510, 0.9488],\n",
      "        [0.3301, 0.5759],\n",
      "        [0.5141, 0.6900],\n",
      "        [0.5717, 0.2047],\n",
      "        [0.6685, 0.9750],\n",
      "        [0.5627, 0.9500],\n",
      "        [0.4166, 0.5707],\n",
      "        [0.2065, 0.5940],\n",
      "        [0.2358, 0.6082],\n",
      "        [0.4005, 0.5085],\n",
      "        [0.6036, 0.5489],\n",
      "        [0.5947, 0.7905],\n",
      "        [0.3961, 0.6690],\n",
      "        [0.0500, 0.6078],\n",
      "        [0.6235, 0.5004],\n",
      "        [0.0968, 0.4231],\n",
      "        [0.2269, 0.0000],\n",
      "        [0.0744, 0.6039],\n",
      "        [0.3298, 0.5781],\n",
      "        [0.1958, 0.5628],\n",
      "        [0.9500, 0.1931],\n",
      "        [0.9750, 0.1441],\n",
      "        [0.9083, 0.2726],\n",
      "        [0.6432, 0.8711],\n",
      "        [0.4110, 0.4161]], requires_grad=True)\n",
      "tensor(15)\n",
      "tensor([[0.1421, 0.0250],\n",
      "        [0.5532, 0.0500],\n",
      "        [0.0744, 0.6039],\n",
      "        [0.1547, 0.1025],\n",
      "        [0.9497, 0.2401],\n",
      "        [0.9500, 0.1992],\n",
      "        [0.4771, 0.6511],\n",
      "        [0.5055, 0.6351],\n",
      "        [0.0250, 0.5712],\n",
      "        [0.6482, 0.9500],\n",
      "        [0.0000, 0.4163],\n",
      "        [0.6216, 0.4634],\n",
      "        [0.4314, 0.5472],\n",
      "        [0.1213, 0.5694],\n",
      "        [0.5452, 0.8649],\n",
      "        [0.5500, 0.9493],\n",
      "        [0.3301, 0.5759],\n",
      "        [0.5141, 0.6900],\n",
      "        [0.5717, 0.2047],\n",
      "        [0.6685, 0.9750],\n",
      "        [0.5627, 0.9500],\n",
      "        [0.4166, 0.5707],\n",
      "        [0.2065, 0.5940],\n",
      "        [0.2358, 0.6082],\n",
      "        [0.4005, 0.5085],\n",
      "        [0.6036, 0.5489],\n",
      "        [0.5947, 0.7905],\n",
      "        [0.3961, 0.6690],\n",
      "        [0.0500, 0.6078],\n",
      "        [0.6235, 0.5004],\n",
      "        [0.0968, 0.4231],\n",
      "        [0.2269, 0.0000],\n",
      "        [0.0744, 0.6039],\n",
      "        [0.3298, 0.5781],\n",
      "        [0.1958, 0.5628],\n",
      "        [0.9500, 0.1931],\n",
      "        [0.9750, 0.1441],\n",
      "        [0.9083, 0.2726],\n",
      "        [0.6432, 0.8711],\n",
      "        [0.4110, 0.4161]], requires_grad=True)\n",
      "tensor(33)\n",
      "tensor([[0.1421, 0.0250],\n",
      "        [0.5532, 0.0500],\n",
      "        [0.0744, 0.6039],\n",
      "        [0.1547, 0.1025],\n",
      "        [0.9497, 0.2401],\n",
      "        [0.9500, 0.1992],\n",
      "        [0.4771, 0.6511],\n",
      "        [0.5055, 0.6351],\n",
      "        [0.0250, 0.5712],\n",
      "        [0.6482, 0.9500],\n",
      "        [0.0000, 0.4163],\n",
      "        [0.6216, 0.4634],\n",
      "        [0.4314, 0.5472],\n",
      "        [0.1213, 0.5694],\n",
      "        [0.5452, 0.8649],\n",
      "        [0.5500, 0.9493],\n",
      "        [0.3301, 0.5759],\n",
      "        [0.5141, 0.6900],\n",
      "        [0.5717, 0.2047],\n",
      "        [0.6685, 0.9750],\n",
      "        [0.5627, 0.9500],\n",
      "        [0.4166, 0.5707],\n",
      "        [0.2065, 0.5940],\n",
      "        [0.2358, 0.6082],\n",
      "        [0.4005, 0.5085],\n",
      "        [0.6036, 0.5489],\n",
      "        [0.5947, 0.7905],\n",
      "        [0.3961, 0.6690],\n",
      "        [0.0500, 0.6078],\n",
      "        [0.6235, 0.5004],\n",
      "        [0.0968, 0.4231],\n",
      "        [0.2269, 0.0000],\n",
      "        [0.0744, 0.6039],\n",
      "        [0.3306, 0.5704],\n",
      "        [0.1958, 0.5628],\n",
      "        [0.9500, 0.1931],\n",
      "        [0.9750, 0.1441],\n",
      "        [0.9083, 0.2726],\n",
      "        [0.6432, 0.8711],\n",
      "        [0.4110, 0.4161]], requires_grad=True)\n",
      "tensor(20)\n",
      "tensor([[0.1421, 0.0250],\n",
      "        [0.5532, 0.0500],\n",
      "        [0.0744, 0.6039],\n",
      "        [0.1547, 0.1025],\n",
      "        [0.9497, 0.2401],\n",
      "        [0.9500, 0.1992],\n",
      "        [0.4771, 0.6511],\n",
      "        [0.5055, 0.6351],\n",
      "        [0.0250, 0.5712],\n",
      "        [0.6482, 0.9500],\n",
      "        [0.0000, 0.4163],\n",
      "        [0.6216, 0.4634],\n",
      "        [0.4314, 0.5472],\n",
      "        [0.1213, 0.5694],\n",
      "        [0.5452, 0.8649],\n",
      "        [0.5500, 0.9493],\n",
      "        [0.3301, 0.5759],\n",
      "        [0.5141, 0.6900],\n",
      "        [0.5717, 0.2047],\n",
      "        [0.6685, 0.9750],\n",
      "        [0.5659, 0.9428],\n",
      "        [0.4166, 0.5707],\n",
      "        [0.2065, 0.5940],\n",
      "        [0.2358, 0.6082],\n",
      "        [0.4005, 0.5085],\n",
      "        [0.6036, 0.5489],\n",
      "        [0.5947, 0.7905],\n",
      "        [0.3961, 0.6690],\n",
      "        [0.0500, 0.6078],\n",
      "        [0.6235, 0.5004],\n",
      "        [0.0968, 0.4231],\n",
      "        [0.2269, 0.0000],\n",
      "        [0.0744, 0.6039],\n",
      "        [0.3306, 0.5704],\n",
      "        [0.1958, 0.5628],\n",
      "        [0.9500, 0.1931],\n",
      "        [0.9750, 0.1441],\n",
      "        [0.9083, 0.2726],\n",
      "        [0.6432, 0.8711],\n",
      "        [0.4110, 0.4161]], requires_grad=True)\n",
      "tensor(26)\n",
      "tensor([[0.1421, 0.0250],\n",
      "        [0.5532, 0.0500],\n",
      "        [0.0744, 0.6039],\n",
      "        [0.1547, 0.1025],\n",
      "        [0.9497, 0.2401],\n",
      "        [0.9500, 0.1992],\n",
      "        [0.4771, 0.6511],\n",
      "        [0.5055, 0.6351],\n",
      "        [0.0250, 0.5712],\n",
      "        [0.6482, 0.9500],\n",
      "        [0.0000, 0.4163],\n",
      "        [0.6216, 0.4634],\n",
      "        [0.4314, 0.5472],\n",
      "        [0.1213, 0.5694],\n",
      "        [0.5452, 0.8649],\n",
      "        [0.5500, 0.9493],\n",
      "        [0.3301, 0.5759],\n",
      "        [0.5141, 0.6900],\n",
      "        [0.5717, 0.2047],\n",
      "        [0.6685, 0.9750],\n",
      "        [0.5659, 0.9428],\n",
      "        [0.4166, 0.5707],\n",
      "        [0.2065, 0.5940],\n",
      "        [0.2358, 0.6082],\n",
      "        [0.4005, 0.5085],\n",
      "        [0.6036, 0.5489],\n",
      "        [0.5803, 0.7937],\n",
      "        [0.3961, 0.6690],\n",
      "        [0.0500, 0.6078],\n",
      "        [0.6235, 0.5004],\n",
      "        [0.0968, 0.4231],\n",
      "        [0.2269, 0.0000],\n",
      "        [0.0744, 0.6039],\n",
      "        [0.3306, 0.5704],\n",
      "        [0.1958, 0.5628],\n",
      "        [0.9500, 0.1931],\n",
      "        [0.9750, 0.1441],\n",
      "        [0.9083, 0.2726],\n",
      "        [0.6432, 0.8711],\n",
      "        [0.4110, 0.4161]], requires_grad=True)\n",
      "tensor(25)\n",
      "tensor([[0.1421, 0.0250],\n",
      "        [0.5532, 0.0500],\n",
      "        [0.0744, 0.6039],\n",
      "        [0.1547, 0.1025],\n",
      "        [0.9497, 0.2401],\n",
      "        [0.9500, 0.1992],\n",
      "        [0.4771, 0.6511],\n",
      "        [0.5055, 0.6351],\n",
      "        [0.0250, 0.5712],\n",
      "        [0.6482, 0.9500],\n",
      "        [0.0000, 0.4163],\n",
      "        [0.6216, 0.4634],\n",
      "        [0.4314, 0.5472],\n",
      "        [0.1213, 0.5694],\n",
      "        [0.5452, 0.8649],\n",
      "        [0.5500, 0.9493],\n",
      "        [0.3301, 0.5759],\n",
      "        [0.5141, 0.6900],\n",
      "        [0.5717, 0.2047],\n",
      "        [0.6685, 0.9750],\n",
      "        [0.5659, 0.9428],\n",
      "        [0.4166, 0.5707],\n",
      "        [0.2065, 0.5940],\n",
      "        [0.2358, 0.6082],\n",
      "        [0.4005, 0.5085],\n",
      "        [0.5798, 0.5458],\n",
      "        [0.5803, 0.7937],\n",
      "        [0.3961, 0.6690],\n",
      "        [0.0500, 0.6078],\n",
      "        [0.6235, 0.5004],\n",
      "        [0.0968, 0.4231],\n",
      "        [0.2269, 0.0000],\n",
      "        [0.0744, 0.6039],\n",
      "        [0.3306, 0.5704],\n",
      "        [0.1958, 0.5628],\n",
      "        [0.9500, 0.1931],\n",
      "        [0.9750, 0.1441],\n",
      "        [0.9083, 0.2726],\n",
      "        [0.6432, 0.8711],\n",
      "        [0.4110, 0.4161]], requires_grad=True)\n",
      "tensor(27)\n",
      "tensor([[0.1421, 0.0250],\n",
      "        [0.5532, 0.0500],\n",
      "        [0.0744, 0.6039],\n",
      "        [0.1547, 0.1025],\n",
      "        [0.9497, 0.2401],\n",
      "        [0.9500, 0.1992],\n",
      "        [0.4771, 0.6511],\n",
      "        [0.5055, 0.6351],\n",
      "        [0.0250, 0.5712],\n",
      "        [0.6482, 0.9500],\n",
      "        [0.0000, 0.4163],\n",
      "        [0.6216, 0.4634],\n",
      "        [0.4314, 0.5472],\n",
      "        [0.1213, 0.5694],\n",
      "        [0.5452, 0.8649],\n",
      "        [0.5500, 0.9493],\n",
      "        [0.3301, 0.5759],\n",
      "        [0.5141, 0.6900],\n",
      "        [0.5717, 0.2047],\n",
      "        [0.6685, 0.9750],\n",
      "        [0.5659, 0.9428],\n",
      "        [0.4166, 0.5707],\n",
      "        [0.2065, 0.5940],\n",
      "        [0.2358, 0.6082],\n",
      "        [0.4005, 0.5085],\n",
      "        [0.5798, 0.5458],\n",
      "        [0.5803, 0.7937],\n",
      "        [0.3944, 0.6574],\n",
      "        [0.0500, 0.6078],\n",
      "        [0.6235, 0.5004],\n",
      "        [0.0968, 0.4231],\n",
      "        [0.2269, 0.0000],\n",
      "        [0.0744, 0.6039],\n",
      "        [0.3306, 0.5704],\n",
      "        [0.1958, 0.5628],\n",
      "        [0.9500, 0.1931],\n",
      "        [0.9750, 0.1441],\n",
      "        [0.9083, 0.2726],\n",
      "        [0.6432, 0.8711],\n",
      "        [0.4110, 0.4161]], requires_grad=True)\n",
      "tensor(1)\n",
      "tensor([[0.1421, 0.0250],\n",
      "        [0.5466, 0.0573],\n",
      "        [0.0744, 0.6039],\n",
      "        [0.1547, 0.1025],\n",
      "        [0.9497, 0.2401],\n",
      "        [0.9500, 0.1992],\n",
      "        [0.4771, 0.6511],\n",
      "        [0.5055, 0.6351],\n",
      "        [0.0250, 0.5712],\n",
      "        [0.6482, 0.9500],\n",
      "        [0.0000, 0.4163],\n",
      "        [0.6216, 0.4634],\n",
      "        [0.4314, 0.5472],\n",
      "        [0.1213, 0.5694],\n",
      "        [0.5452, 0.8649],\n",
      "        [0.5500, 0.9493],\n",
      "        [0.3301, 0.5759],\n",
      "        [0.5141, 0.6900],\n",
      "        [0.5717, 0.2047],\n",
      "        [0.6685, 0.9750],\n",
      "        [0.5659, 0.9428],\n",
      "        [0.4166, 0.5707],\n",
      "        [0.2065, 0.5940],\n",
      "        [0.2358, 0.6082],\n",
      "        [0.4005, 0.5085],\n",
      "        [0.5798, 0.5458],\n",
      "        [0.5803, 0.7937],\n",
      "        [0.3944, 0.6574],\n",
      "        [0.0500, 0.6078],\n",
      "        [0.6235, 0.5004],\n",
      "        [0.0968, 0.4231],\n",
      "        [0.2269, 0.0000],\n",
      "        [0.0744, 0.6039],\n",
      "        [0.3306, 0.5704],\n",
      "        [0.1958, 0.5628],\n",
      "        [0.9500, 0.1931],\n",
      "        [0.9750, 0.1441],\n",
      "        [0.9083, 0.2726],\n",
      "        [0.6432, 0.8711],\n",
      "        [0.4110, 0.4161]], requires_grad=True)\n",
      "tensor(37)\n",
      "tensor([[0.1421, 0.0250],\n",
      "        [0.5466, 0.0573],\n",
      "        [0.0744, 0.6039],\n",
      "        [0.1547, 0.1025],\n",
      "        [0.9497, 0.2401],\n",
      "        [0.9500, 0.1992],\n",
      "        [0.4771, 0.6511],\n",
      "        [0.5055, 0.6351],\n",
      "        [0.0250, 0.5712],\n",
      "        [0.6482, 0.9500],\n",
      "        [0.0000, 0.4163],\n",
      "        [0.6216, 0.4634],\n",
      "        [0.4314, 0.5472],\n",
      "        [0.1213, 0.5694],\n",
      "        [0.5452, 0.8649],\n",
      "        [0.5500, 0.9493],\n",
      "        [0.3301, 0.5759],\n",
      "        [0.5141, 0.6900],\n",
      "        [0.5717, 0.2047],\n",
      "        [0.6685, 0.9750],\n",
      "        [0.5659, 0.9428],\n",
      "        [0.4166, 0.5707],\n",
      "        [0.2065, 0.5940],\n",
      "        [0.2358, 0.6082],\n",
      "        [0.4005, 0.5085],\n",
      "        [0.5798, 0.5458],\n",
      "        [0.5803, 0.7937],\n",
      "        [0.3944, 0.6574],\n",
      "        [0.0500, 0.6078],\n",
      "        [0.6235, 0.5004],\n",
      "        [0.0968, 0.4231],\n",
      "        [0.2269, 0.0000],\n",
      "        [0.0744, 0.6039],\n",
      "        [0.3306, 0.5704],\n",
      "        [0.1958, 0.5628],\n",
      "        [0.9500, 0.1931],\n",
      "        [0.9750, 0.1441],\n",
      "        [0.9114, 0.2726],\n",
      "        [0.6432, 0.8711],\n",
      "        [0.4110, 0.4161]], requires_grad=True)\n",
      "tensor(5)\n",
      "tensor([[0.1421, 0.0250],\n",
      "        [0.5466, 0.0573],\n",
      "        [0.0744, 0.6039],\n",
      "        [0.1547, 0.1025],\n",
      "        [0.9497, 0.2401],\n",
      "        [0.9456, 0.1992],\n",
      "        [0.4771, 0.6511],\n",
      "        [0.5055, 0.6351],\n",
      "        [0.0250, 0.5712],\n",
      "        [0.6482, 0.9500],\n",
      "        [0.0000, 0.4163],\n",
      "        [0.6216, 0.4634],\n",
      "        [0.4314, 0.5472],\n",
      "        [0.1213, 0.5694],\n",
      "        [0.5452, 0.8649],\n",
      "        [0.5500, 0.9493],\n",
      "        [0.3301, 0.5759],\n",
      "        [0.5141, 0.6900],\n",
      "        [0.5717, 0.2047],\n",
      "        [0.6685, 0.9750],\n",
      "        [0.5659, 0.9428],\n",
      "        [0.4166, 0.5707],\n",
      "        [0.2065, 0.5940],\n",
      "        [0.2358, 0.6082],\n",
      "        [0.4005, 0.5085],\n",
      "        [0.5798, 0.5458],\n",
      "        [0.5803, 0.7937],\n",
      "        [0.3944, 0.6574],\n",
      "        [0.0500, 0.6078],\n",
      "        [0.6235, 0.5004],\n",
      "        [0.0968, 0.4231],\n",
      "        [0.2269, 0.0000],\n",
      "        [0.0744, 0.6039],\n",
      "        [0.3306, 0.5704],\n",
      "        [0.1958, 0.5628],\n",
      "        [0.9500, 0.1931],\n",
      "        [0.9750, 0.1441],\n",
      "        [0.9114, 0.2726],\n",
      "        [0.6432, 0.8711],\n",
      "        [0.4110, 0.4161]], requires_grad=True)\n",
      "tensor(13)\n",
      "tensor([[0.1421, 0.0250],\n",
      "        [0.5466, 0.0573],\n",
      "        [0.0744, 0.6039],\n",
      "        [0.1547, 0.1025],\n",
      "        [0.9497, 0.2401],\n",
      "        [0.9456, 0.1992],\n",
      "        [0.4771, 0.6511],\n",
      "        [0.5055, 0.6351],\n",
      "        [0.0250, 0.5712],\n",
      "        [0.6482, 0.9500],\n",
      "        [0.0000, 0.4163],\n",
      "        [0.6216, 0.4634],\n",
      "        [0.4314, 0.5472],\n",
      "        [0.1213, 0.5717],\n",
      "        [0.5452, 0.8649],\n",
      "        [0.5500, 0.9493],\n",
      "        [0.3301, 0.5759],\n",
      "        [0.5141, 0.6900],\n",
      "        [0.5717, 0.2047],\n",
      "        [0.6685, 0.9750],\n",
      "        [0.5659, 0.9428],\n",
      "        [0.4166, 0.5707],\n",
      "        [0.2065, 0.5940],\n",
      "        [0.2358, 0.6082],\n",
      "        [0.4005, 0.5085],\n",
      "        [0.5798, 0.5458],\n",
      "        [0.5803, 0.7937],\n",
      "        [0.3944, 0.6574],\n",
      "        [0.0500, 0.6078],\n",
      "        [0.6235, 0.5004],\n",
      "        [0.0968, 0.4231],\n",
      "        [0.2269, 0.0000],\n",
      "        [0.0744, 0.6039],\n",
      "        [0.3306, 0.5704],\n",
      "        [0.1958, 0.5628],\n",
      "        [0.9500, 0.1931],\n",
      "        [0.9750, 0.1441],\n",
      "        [0.9114, 0.2726],\n",
      "        [0.6432, 0.8711],\n",
      "        [0.4110, 0.4161]], requires_grad=True)\n",
      "tensor(9)\n",
      "tensor([[0.1421, 0.0250],\n",
      "        [0.5466, 0.0573],\n",
      "        [0.0744, 0.6039],\n",
      "        [0.1547, 0.1025],\n",
      "        [0.9497, 0.2401],\n",
      "        [0.9456, 0.1992],\n",
      "        [0.4771, 0.6511],\n",
      "        [0.5055, 0.6351],\n",
      "        [0.0250, 0.5712],\n",
      "        [0.6465, 0.9467],\n",
      "        [0.0000, 0.4163],\n",
      "        [0.6216, 0.4634],\n",
      "        [0.4314, 0.5472],\n",
      "        [0.1213, 0.5717],\n",
      "        [0.5452, 0.8649],\n",
      "        [0.5500, 0.9493],\n",
      "        [0.3301, 0.5759],\n",
      "        [0.5141, 0.6900],\n",
      "        [0.5717, 0.2047],\n",
      "        [0.6685, 0.9750],\n",
      "        [0.5659, 0.9428],\n",
      "        [0.4166, 0.5707],\n",
      "        [0.2065, 0.5940],\n",
      "        [0.2358, 0.6082],\n",
      "        [0.4005, 0.5085],\n",
      "        [0.5798, 0.5458],\n",
      "        [0.5803, 0.7937],\n",
      "        [0.3944, 0.6574],\n",
      "        [0.0500, 0.6078],\n",
      "        [0.6235, 0.5004],\n",
      "        [0.0968, 0.4231],\n",
      "        [0.2269, 0.0000],\n",
      "        [0.0744, 0.6039],\n",
      "        [0.3306, 0.5704],\n",
      "        [0.1958, 0.5628],\n",
      "        [0.9500, 0.1931],\n",
      "        [0.9750, 0.1441],\n",
      "        [0.9114, 0.2726],\n",
      "        [0.6432, 0.8711],\n",
      "        [0.4110, 0.4161]], requires_grad=True)\n",
      "tensor(38)\n",
      "tensor([[0.1421, 0.0250],\n",
      "        [0.5466, 0.0573],\n",
      "        [0.0744, 0.6039],\n",
      "        [0.1547, 0.1025],\n",
      "        [0.9497, 0.2401],\n",
      "        [0.9456, 0.1992],\n",
      "        [0.4771, 0.6511],\n",
      "        [0.5055, 0.6351],\n",
      "        [0.0250, 0.5712],\n",
      "        [0.6465, 0.9467],\n",
      "        [0.0000, 0.4163],\n",
      "        [0.6216, 0.4634],\n",
      "        [0.4314, 0.5472],\n",
      "        [0.1213, 0.5717],\n",
      "        [0.5452, 0.8649],\n",
      "        [0.5500, 0.9493],\n",
      "        [0.3301, 0.5759],\n",
      "        [0.5141, 0.6900],\n",
      "        [0.5717, 0.2047],\n",
      "        [0.6685, 0.9750],\n",
      "        [0.5659, 0.9428],\n",
      "        [0.4166, 0.5707],\n",
      "        [0.2065, 0.5940],\n",
      "        [0.2358, 0.6082],\n",
      "        [0.4005, 0.5085],\n",
      "        [0.5798, 0.5458],\n",
      "        [0.5803, 0.7937],\n",
      "        [0.3944, 0.6574],\n",
      "        [0.0500, 0.6078],\n",
      "        [0.6235, 0.5004],\n",
      "        [0.0968, 0.4231],\n",
      "        [0.2269, 0.0000],\n",
      "        [0.0744, 0.6039],\n",
      "        [0.3306, 0.5704],\n",
      "        [0.1958, 0.5628],\n",
      "        [0.9500, 0.1931],\n",
      "        [0.9750, 0.1441],\n",
      "        [0.9114, 0.2726],\n",
      "        [0.6511, 0.8692],\n",
      "        [0.4110, 0.4161]], requires_grad=True)\n",
      "tensor(36)\n",
      "tensor([[0.1421, 0.0250],\n",
      "        [0.5466, 0.0573],\n",
      "        [0.0744, 0.6039],\n",
      "        [0.1547, 0.1025],\n",
      "        [0.9497, 0.2401],\n",
      "        [0.9456, 0.1992],\n",
      "        [0.4771, 0.6511],\n",
      "        [0.5055, 0.6351],\n",
      "        [0.0250, 0.5712],\n",
      "        [0.6465, 0.9467],\n",
      "        [0.0000, 0.4163],\n",
      "        [0.6216, 0.4634],\n",
      "        [0.4314, 0.5472],\n",
      "        [0.1213, 0.5717],\n",
      "        [0.5452, 0.8649],\n",
      "        [0.5500, 0.9493],\n",
      "        [0.3301, 0.5759],\n",
      "        [0.5141, 0.6900],\n",
      "        [0.5717, 0.2047],\n",
      "        [0.6685, 0.9750],\n",
      "        [0.5659, 0.9428],\n",
      "        [0.4166, 0.5707],\n",
      "        [0.2065, 0.5940],\n",
      "        [0.2358, 0.6082],\n",
      "        [0.4005, 0.5085],\n",
      "        [0.5798, 0.5458],\n",
      "        [0.5803, 0.7937],\n",
      "        [0.3944, 0.6574],\n",
      "        [0.0500, 0.6078],\n",
      "        [0.6235, 0.5004],\n",
      "        [0.0968, 0.4231],\n",
      "        [0.2269, 0.0000],\n",
      "        [0.0744, 0.6039],\n",
      "        [0.3306, 0.5704],\n",
      "        [0.1958, 0.5628],\n",
      "        [0.9500, 0.1931],\n",
      "        [0.9745, 0.1441],\n",
      "        [0.9114, 0.2726],\n",
      "        [0.6511, 0.8692],\n",
      "        [0.4110, 0.4161]], requires_grad=True)\n",
      "tensor(35)\n",
      "tensor([[0.1421, 0.0250],\n",
      "        [0.5466, 0.0573],\n",
      "        [0.0744, 0.6039],\n",
      "        [0.1547, 0.1025],\n",
      "        [0.9497, 0.2401],\n",
      "        [0.9456, 0.1992],\n",
      "        [0.4771, 0.6511],\n",
      "        [0.5055, 0.6351],\n",
      "        [0.0250, 0.5712],\n",
      "        [0.6465, 0.9467],\n",
      "        [0.0000, 0.4163],\n",
      "        [0.6216, 0.4634],\n",
      "        [0.4314, 0.5472],\n",
      "        [0.1213, 0.5717],\n",
      "        [0.5452, 0.8649],\n",
      "        [0.5500, 0.9493],\n",
      "        [0.3301, 0.5759],\n",
      "        [0.5141, 0.6900],\n",
      "        [0.5717, 0.2047],\n",
      "        [0.6685, 0.9750],\n",
      "        [0.5659, 0.9428],\n",
      "        [0.4166, 0.5707],\n",
      "        [0.2065, 0.5940],\n",
      "        [0.2358, 0.6082],\n",
      "        [0.4005, 0.5085],\n",
      "        [0.5798, 0.5458],\n",
      "        [0.5803, 0.7937],\n",
      "        [0.3944, 0.6574],\n",
      "        [0.0500, 0.6078],\n",
      "        [0.6235, 0.5004],\n",
      "        [0.0968, 0.4231],\n",
      "        [0.2269, 0.0000],\n",
      "        [0.0744, 0.6039],\n",
      "        [0.3306, 0.5704],\n",
      "        [0.1958, 0.5628],\n",
      "        [0.9544, 0.1931],\n",
      "        [0.9745, 0.1441],\n",
      "        [0.9114, 0.2726],\n",
      "        [0.6511, 0.8692],\n",
      "        [0.4110, 0.4161]], requires_grad=True)\n",
      "tensor(14)\n",
      "tensor([[0.1421, 0.0250],\n",
      "        [0.5466, 0.0573],\n",
      "        [0.0744, 0.6039],\n",
      "        [0.1547, 0.1025],\n",
      "        [0.9497, 0.2401],\n",
      "        [0.9456, 0.1992],\n",
      "        [0.4771, 0.6511],\n",
      "        [0.5055, 0.6351],\n",
      "        [0.0250, 0.5712],\n",
      "        [0.6465, 0.9467],\n",
      "        [0.0000, 0.4163],\n",
      "        [0.6216, 0.4634],\n",
      "        [0.4314, 0.5472],\n",
      "        [0.1213, 0.5717],\n",
      "        [0.5417, 0.8638],\n",
      "        [0.5500, 0.9493],\n",
      "        [0.3301, 0.5759],\n",
      "        [0.5141, 0.6900],\n",
      "        [0.5717, 0.2047],\n",
      "        [0.6685, 0.9750],\n",
      "        [0.5659, 0.9428],\n",
      "        [0.4166, 0.5707],\n",
      "        [0.2065, 0.5940],\n",
      "        [0.2358, 0.6082],\n",
      "        [0.4005, 0.5085],\n",
      "        [0.5798, 0.5458],\n",
      "        [0.5803, 0.7937],\n",
      "        [0.3944, 0.6574],\n",
      "        [0.0500, 0.6078],\n",
      "        [0.6235, 0.5004],\n",
      "        [0.0968, 0.4231],\n",
      "        [0.2269, 0.0000],\n",
      "        [0.0744, 0.6039],\n",
      "        [0.3306, 0.5704],\n",
      "        [0.1958, 0.5628],\n",
      "        [0.9544, 0.1931],\n",
      "        [0.9745, 0.1441],\n",
      "        [0.9114, 0.2726],\n",
      "        [0.6511, 0.8692],\n",
      "        [0.4110, 0.4161]], requires_grad=True)\n",
      "tensor(31)\n",
      "tensor([[0.1421, 0.0250],\n",
      "        [0.5466, 0.0573],\n",
      "        [0.0744, 0.6039],\n",
      "        [0.1547, 0.1025],\n",
      "        [0.9497, 0.2401],\n",
      "        [0.9456, 0.1992],\n",
      "        [0.4771, 0.6511],\n",
      "        [0.5055, 0.6351],\n",
      "        [0.0250, 0.5712],\n",
      "        [0.6465, 0.9467],\n",
      "        [0.0000, 0.4163],\n",
      "        [0.6216, 0.4634],\n",
      "        [0.4314, 0.5472],\n",
      "        [0.1213, 0.5717],\n",
      "        [0.5417, 0.8638],\n",
      "        [0.5500, 0.9493],\n",
      "        [0.3301, 0.5759],\n",
      "        [0.5141, 0.6900],\n",
      "        [0.5717, 0.2047],\n",
      "        [0.6685, 0.9750],\n",
      "        [0.5659, 0.9428],\n",
      "        [0.4166, 0.5707],\n",
      "        [0.2065, 0.5940],\n",
      "        [0.2358, 0.6082],\n",
      "        [0.4005, 0.5085],\n",
      "        [0.5798, 0.5458],\n",
      "        [0.5803, 0.7937],\n",
      "        [0.3944, 0.6574],\n",
      "        [0.0500, 0.6078],\n",
      "        [0.6235, 0.5004],\n",
      "        [0.0968, 0.4231],\n",
      "        [0.2366, 0.0093],\n",
      "        [0.0744, 0.6039],\n",
      "        [0.3306, 0.5704],\n",
      "        [0.1958, 0.5628],\n",
      "        [0.9544, 0.1931],\n",
      "        [0.9745, 0.1441],\n",
      "        [0.9114, 0.2726],\n",
      "        [0.6511, 0.8692],\n",
      "        [0.4110, 0.4161]], requires_grad=True)\n",
      "tensor(34)\n",
      "tensor([[0.1421, 0.0250],\n",
      "        [0.5466, 0.0573],\n",
      "        [0.0744, 0.6039],\n",
      "        [0.1547, 0.1025],\n",
      "        [0.9497, 0.2401],\n",
      "        [0.9456, 0.1992],\n",
      "        [0.4771, 0.6511],\n",
      "        [0.5055, 0.6351],\n",
      "        [0.0250, 0.5712],\n",
      "        [0.6465, 0.9467],\n",
      "        [0.0000, 0.4163],\n",
      "        [0.6216, 0.4634],\n",
      "        [0.4314, 0.5472],\n",
      "        [0.1213, 0.5717],\n",
      "        [0.5417, 0.8638],\n",
      "        [0.5500, 0.9493],\n",
      "        [0.3301, 0.5759],\n",
      "        [0.5141, 0.6900],\n",
      "        [0.5717, 0.2047],\n",
      "        [0.6685, 0.9750],\n",
      "        [0.5659, 0.9428],\n",
      "        [0.4166, 0.5707],\n",
      "        [0.2065, 0.5940],\n",
      "        [0.2358, 0.6082],\n",
      "        [0.4005, 0.5085],\n",
      "        [0.5798, 0.5458],\n",
      "        [0.5803, 0.7937],\n",
      "        [0.3944, 0.6574],\n",
      "        [0.0500, 0.6078],\n",
      "        [0.6235, 0.5004],\n",
      "        [0.0968, 0.4231],\n",
      "        [0.2366, 0.0093],\n",
      "        [0.0744, 0.6039],\n",
      "        [0.3306, 0.5704],\n",
      "        [0.1703, 0.5641],\n",
      "        [0.9544, 0.1931],\n",
      "        [0.9745, 0.1441],\n",
      "        [0.9114, 0.2726],\n",
      "        [0.6511, 0.8692],\n",
      "        [0.4110, 0.4161]], requires_grad=True)\n",
      "tensor(0)\n",
      "tensor([[0.1530, 0.0420],\n",
      "        [0.5466, 0.0573],\n",
      "        [0.0744, 0.6039],\n",
      "        [0.1547, 0.1025],\n",
      "        [0.9497, 0.2401],\n",
      "        [0.9456, 0.1992],\n",
      "        [0.4771, 0.6511],\n",
      "        [0.5055, 0.6351],\n",
      "        [0.0250, 0.5712],\n",
      "        [0.6465, 0.9467],\n",
      "        [0.0000, 0.4163],\n",
      "        [0.6216, 0.4634],\n",
      "        [0.4314, 0.5472],\n",
      "        [0.1213, 0.5717],\n",
      "        [0.5417, 0.8638],\n",
      "        [0.5500, 0.9493],\n",
      "        [0.3301, 0.5759],\n",
      "        [0.5141, 0.6900],\n",
      "        [0.5717, 0.2047],\n",
      "        [0.6685, 0.9750],\n",
      "        [0.5659, 0.9428],\n",
      "        [0.4166, 0.5707],\n",
      "        [0.2065, 0.5940],\n",
      "        [0.2358, 0.6082],\n",
      "        [0.4005, 0.5085],\n",
      "        [0.5798, 0.5458],\n",
      "        [0.5803, 0.7937],\n",
      "        [0.3944, 0.6574],\n",
      "        [0.0500, 0.6078],\n",
      "        [0.6235, 0.5004],\n",
      "        [0.0968, 0.4231],\n",
      "        [0.2366, 0.0093],\n",
      "        [0.0744, 0.6039],\n",
      "        [0.3306, 0.5704],\n",
      "        [0.1703, 0.5641],\n",
      "        [0.9544, 0.1931],\n",
      "        [0.9745, 0.1441],\n",
      "        [0.9114, 0.2726],\n",
      "        [0.6511, 0.8692],\n",
      "        [0.4110, 0.4161]], requires_grad=True)\n",
      "tensor(18)\n",
      "tensor([[0.1530, 0.0420],\n",
      "        [0.5466, 0.0573],\n",
      "        [0.0744, 0.6039],\n",
      "        [0.1547, 0.1025],\n",
      "        [0.9497, 0.2401],\n",
      "        [0.9456, 0.1992],\n",
      "        [0.4771, 0.6511],\n",
      "        [0.5055, 0.6351],\n",
      "        [0.0250, 0.5712],\n",
      "        [0.6465, 0.9467],\n",
      "        [0.0000, 0.4163],\n",
      "        [0.6216, 0.4634],\n",
      "        [0.4314, 0.5472],\n",
      "        [0.1213, 0.5717],\n",
      "        [0.5417, 0.8638],\n",
      "        [0.5500, 0.9493],\n",
      "        [0.3301, 0.5759],\n",
      "        [0.5141, 0.6900],\n",
      "        [0.5521, 0.2047],\n",
      "        [0.6685, 0.9750],\n",
      "        [0.5659, 0.9428],\n",
      "        [0.4166, 0.5707],\n",
      "        [0.2065, 0.5940],\n",
      "        [0.2358, 0.6082],\n",
      "        [0.4005, 0.5085],\n",
      "        [0.5798, 0.5458],\n",
      "        [0.5803, 0.7937],\n",
      "        [0.3944, 0.6574],\n",
      "        [0.0500, 0.6078],\n",
      "        [0.6235, 0.5004],\n",
      "        [0.0968, 0.4231],\n",
      "        [0.2366, 0.0093],\n",
      "        [0.0744, 0.6039],\n",
      "        [0.3306, 0.5704],\n",
      "        [0.1703, 0.5641],\n",
      "        [0.9544, 0.1931],\n",
      "        [0.9745, 0.1441],\n",
      "        [0.9114, 0.2726],\n",
      "        [0.6511, 0.8692],\n",
      "        [0.4110, 0.4161]], requires_grad=True)\n",
      "tensor(4)\n",
      "tensor([[0.1530, 0.0420],\n",
      "        [0.5466, 0.0573],\n",
      "        [0.0744, 0.6039],\n",
      "        [0.1547, 0.1025],\n",
      "        [0.9515, 0.2401],\n",
      "        [0.9456, 0.1992],\n",
      "        [0.4771, 0.6511],\n",
      "        [0.5055, 0.6351],\n",
      "        [0.0250, 0.5712],\n",
      "        [0.6465, 0.9467],\n",
      "        [0.0000, 0.4163],\n",
      "        [0.6216, 0.4634],\n",
      "        [0.4314, 0.5472],\n",
      "        [0.1213, 0.5717],\n",
      "        [0.5417, 0.8638],\n",
      "        [0.5500, 0.9493],\n",
      "        [0.3301, 0.5759],\n",
      "        [0.5141, 0.6900],\n",
      "        [0.5521, 0.2047],\n",
      "        [0.6685, 0.9750],\n",
      "        [0.5659, 0.9428],\n",
      "        [0.4166, 0.5707],\n",
      "        [0.2065, 0.5940],\n",
      "        [0.2358, 0.6082],\n",
      "        [0.4005, 0.5085],\n",
      "        [0.5798, 0.5458],\n",
      "        [0.5803, 0.7937],\n",
      "        [0.3944, 0.6574],\n",
      "        [0.0500, 0.6078],\n",
      "        [0.6235, 0.5004],\n",
      "        [0.0968, 0.4231],\n",
      "        [0.2366, 0.0093],\n",
      "        [0.0744, 0.6039],\n",
      "        [0.3306, 0.5704],\n",
      "        [0.1703, 0.5641],\n",
      "        [0.9544, 0.1931],\n",
      "        [0.9745, 0.1441],\n",
      "        [0.9114, 0.2726],\n",
      "        [0.6511, 0.8692],\n",
      "        [0.4110, 0.4161]], requires_grad=True)\n",
      "tensor(32)\n",
      "tensor([[0.1530, 0.0420],\n",
      "        [0.5466, 0.0573],\n",
      "        [0.0744, 0.6039],\n",
      "        [0.1547, 0.1025],\n",
      "        [0.9515, 0.2401],\n",
      "        [0.9456, 0.1992],\n",
      "        [0.4771, 0.6511],\n",
      "        [0.5055, 0.6351],\n",
      "        [0.0250, 0.5712],\n",
      "        [0.6465, 0.9467],\n",
      "        [0.0000, 0.4163],\n",
      "        [0.6216, 0.4634],\n",
      "        [0.4314, 0.5472],\n",
      "        [0.1213, 0.5717],\n",
      "        [0.5417, 0.8638],\n",
      "        [0.5500, 0.9493],\n",
      "        [0.3301, 0.5759],\n",
      "        [0.5141, 0.6900],\n",
      "        [0.5521, 0.2047],\n",
      "        [0.6685, 0.9750],\n",
      "        [0.5659, 0.9428],\n",
      "        [0.4166, 0.5707],\n",
      "        [0.2065, 0.5940],\n",
      "        [0.2358, 0.6082],\n",
      "        [0.4005, 0.5085],\n",
      "        [0.5798, 0.5458],\n",
      "        [0.5803, 0.7937],\n",
      "        [0.3944, 0.6574],\n",
      "        [0.0500, 0.6078],\n",
      "        [0.6235, 0.5004],\n",
      "        [0.0968, 0.4231],\n",
      "        [0.2366, 0.0093],\n",
      "        [0.0744, 0.6031],\n",
      "        [0.3306, 0.5704],\n",
      "        [0.1703, 0.5641],\n",
      "        [0.9544, 0.1931],\n",
      "        [0.9745, 0.1441],\n",
      "        [0.9114, 0.2726],\n",
      "        [0.6511, 0.8692],\n",
      "        [0.4110, 0.4161]], requires_grad=True)\n",
      "tensor(12)\n",
      "tensor([[0.1530, 0.0420],\n",
      "        [0.5466, 0.0573],\n",
      "        [0.0744, 0.6039],\n",
      "        [0.1547, 0.1025],\n",
      "        [0.9515, 0.2401],\n",
      "        [0.9456, 0.1992],\n",
      "        [0.4771, 0.6511],\n",
      "        [0.5055, 0.6351],\n",
      "        [0.0250, 0.5712],\n",
      "        [0.6465, 0.9467],\n",
      "        [0.0000, 0.4163],\n",
      "        [0.6216, 0.4634],\n",
      "        [0.4363, 0.5452],\n",
      "        [0.1213, 0.5717],\n",
      "        [0.5417, 0.8638],\n",
      "        [0.5500, 0.9493],\n",
      "        [0.3301, 0.5759],\n",
      "        [0.5141, 0.6900],\n",
      "        [0.5521, 0.2047],\n",
      "        [0.6685, 0.9750],\n",
      "        [0.5659, 0.9428],\n",
      "        [0.4166, 0.5707],\n",
      "        [0.2065, 0.5940],\n",
      "        [0.2358, 0.6082],\n",
      "        [0.4005, 0.5085],\n",
      "        [0.5798, 0.5458],\n",
      "        [0.5803, 0.7937],\n",
      "        [0.3944, 0.6574],\n",
      "        [0.0500, 0.6078],\n",
      "        [0.6235, 0.5004],\n",
      "        [0.0968, 0.4231],\n",
      "        [0.2366, 0.0093],\n",
      "        [0.0744, 0.6031],\n",
      "        [0.3306, 0.5704],\n",
      "        [0.1703, 0.5641],\n",
      "        [0.9544, 0.1931],\n",
      "        [0.9745, 0.1441],\n",
      "        [0.9114, 0.2726],\n",
      "        [0.6511, 0.8692],\n",
      "        [0.4110, 0.4161]], requires_grad=True)\n",
      "tensor(2)\n",
      "tensor([[0.1530, 0.0420],\n",
      "        [0.5466, 0.0573],\n",
      "        [0.0744, 0.6031],\n",
      "        [0.1547, 0.1025],\n",
      "        [0.9515, 0.2401],\n",
      "        [0.9456, 0.1992],\n",
      "        [0.4771, 0.6511],\n",
      "        [0.5055, 0.6351],\n",
      "        [0.0250, 0.5712],\n",
      "        [0.6465, 0.9467],\n",
      "        [0.0000, 0.4163],\n",
      "        [0.6216, 0.4634],\n",
      "        [0.4363, 0.5452],\n",
      "        [0.1213, 0.5717],\n",
      "        [0.5417, 0.8638],\n",
      "        [0.5500, 0.9493],\n",
      "        [0.3301, 0.5759],\n",
      "        [0.5141, 0.6900],\n",
      "        [0.5521, 0.2047],\n",
      "        [0.6685, 0.9750],\n",
      "        [0.5659, 0.9428],\n",
      "        [0.4166, 0.5707],\n",
      "        [0.2065, 0.5940],\n",
      "        [0.2358, 0.6082],\n",
      "        [0.4005, 0.5085],\n",
      "        [0.5798, 0.5458],\n",
      "        [0.5803, 0.7937],\n",
      "        [0.3944, 0.6574],\n",
      "        [0.0500, 0.6078],\n",
      "        [0.6235, 0.5004],\n",
      "        [0.0968, 0.4231],\n",
      "        [0.2366, 0.0093],\n",
      "        [0.0744, 0.6031],\n",
      "        [0.3306, 0.5704],\n",
      "        [0.1703, 0.5641],\n",
      "        [0.9544, 0.1931],\n",
      "        [0.9745, 0.1441],\n",
      "        [0.9114, 0.2726],\n",
      "        [0.6511, 0.8692],\n",
      "        [0.4110, 0.4161]], requires_grad=True)\n",
      "tensor(28)\n",
      "tensor([[0.1530, 0.0420],\n",
      "        [0.5466, 0.0573],\n",
      "        [0.0744, 0.6031],\n",
      "        [0.1547, 0.1025],\n",
      "        [0.9515, 0.2401],\n",
      "        [0.9456, 0.1992],\n",
      "        [0.4771, 0.6511],\n",
      "        [0.5055, 0.6351],\n",
      "        [0.0250, 0.5712],\n",
      "        [0.6465, 0.9467],\n",
      "        [0.0000, 0.4163],\n",
      "        [0.6216, 0.4634],\n",
      "        [0.4363, 0.5452],\n",
      "        [0.1213, 0.5717],\n",
      "        [0.5417, 0.8638],\n",
      "        [0.5500, 0.9493],\n",
      "        [0.3301, 0.5759],\n",
      "        [0.5141, 0.6900],\n",
      "        [0.5521, 0.2047],\n",
      "        [0.6685, 0.9750],\n",
      "        [0.5659, 0.9428],\n",
      "        [0.4166, 0.5707],\n",
      "        [0.2065, 0.5940],\n",
      "        [0.2358, 0.6082],\n",
      "        [0.4005, 0.5085],\n",
      "        [0.5798, 0.5458],\n",
      "        [0.5803, 0.7937],\n",
      "        [0.3944, 0.6574],\n",
      "        [0.0500, 0.6080],\n",
      "        [0.6235, 0.5004],\n",
      "        [0.0968, 0.4231],\n",
      "        [0.2366, 0.0093],\n",
      "        [0.0744, 0.6031],\n",
      "        [0.3306, 0.5704],\n",
      "        [0.1703, 0.5641],\n",
      "        [0.9544, 0.1931],\n",
      "        [0.9745, 0.1441],\n",
      "        [0.9114, 0.2726],\n",
      "        [0.6511, 0.8692],\n",
      "        [0.4110, 0.4161]], requires_grad=True)\n",
      "tensor(19)\n",
      "tensor([[0.1530, 0.0420],\n",
      "        [0.5466, 0.0573],\n",
      "        [0.0744, 0.6031],\n",
      "        [0.1547, 0.1025],\n",
      "        [0.9515, 0.2401],\n",
      "        [0.9456, 0.1992],\n",
      "        [0.4771, 0.6511],\n",
      "        [0.5055, 0.6351],\n",
      "        [0.0250, 0.5712],\n",
      "        [0.6465, 0.9467],\n",
      "        [0.0000, 0.4163],\n",
      "        [0.6216, 0.4634],\n",
      "        [0.4363, 0.5452],\n",
      "        [0.1213, 0.5717],\n",
      "        [0.5417, 0.8638],\n",
      "        [0.5500, 0.9493],\n",
      "        [0.3301, 0.5759],\n",
      "        [0.5141, 0.6900],\n",
      "        [0.5521, 0.2047],\n",
      "        [0.6679, 0.9667],\n",
      "        [0.5659, 0.9428],\n",
      "        [0.4166, 0.5707],\n",
      "        [0.2065, 0.5940],\n",
      "        [0.2358, 0.6082],\n",
      "        [0.4005, 0.5085],\n",
      "        [0.5798, 0.5458],\n",
      "        [0.5803, 0.7937],\n",
      "        [0.3944, 0.6574],\n",
      "        [0.0500, 0.6080],\n",
      "        [0.6235, 0.5004],\n",
      "        [0.0968, 0.4231],\n",
      "        [0.2366, 0.0093],\n",
      "        [0.0744, 0.6031],\n",
      "        [0.3306, 0.5704],\n",
      "        [0.1703, 0.5641],\n",
      "        [0.9544, 0.1931],\n",
      "        [0.9745, 0.1441],\n",
      "        [0.9114, 0.2726],\n",
      "        [0.6511, 0.8692],\n",
      "        [0.4110, 0.4161]], requires_grad=True)\n",
      "tensor(23)\n",
      "tensor([[0.1530, 0.0420],\n",
      "        [0.5466, 0.0573],\n",
      "        [0.0744, 0.6031],\n",
      "        [0.1547, 0.1025],\n",
      "        [0.9515, 0.2401],\n",
      "        [0.9456, 0.1992],\n",
      "        [0.4771, 0.6511],\n",
      "        [0.5055, 0.6351],\n",
      "        [0.0250, 0.5712],\n",
      "        [0.6465, 0.9467],\n",
      "        [0.0000, 0.4163],\n",
      "        [0.6216, 0.4634],\n",
      "        [0.4363, 0.5452],\n",
      "        [0.1213, 0.5717],\n",
      "        [0.5417, 0.8638],\n",
      "        [0.5500, 0.9493],\n",
      "        [0.3301, 0.5759],\n",
      "        [0.5141, 0.6900],\n",
      "        [0.5521, 0.2047],\n",
      "        [0.6679, 0.9667],\n",
      "        [0.5659, 0.9428],\n",
      "        [0.4166, 0.5707],\n",
      "        [0.2065, 0.5940],\n",
      "        [0.2311, 0.6083],\n",
      "        [0.4005, 0.5085],\n",
      "        [0.5798, 0.5458],\n",
      "        [0.5803, 0.7937],\n",
      "        [0.3944, 0.6574],\n",
      "        [0.0500, 0.6080],\n",
      "        [0.6235, 0.5004],\n",
      "        [0.0968, 0.4231],\n",
      "        [0.2366, 0.0093],\n",
      "        [0.0744, 0.6031],\n",
      "        [0.3306, 0.5704],\n",
      "        [0.1703, 0.5641],\n",
      "        [0.9544, 0.1931],\n",
      "        [0.9745, 0.1441],\n",
      "        [0.9114, 0.2726],\n",
      "        [0.6511, 0.8692],\n",
      "        [0.4110, 0.4161]], requires_grad=True)\n",
      "tensor(10)\n",
      "tensor([[0.1530, 0.0420],\n",
      "        [0.5466, 0.0573],\n",
      "        [0.0744, 0.6031],\n",
      "        [0.1547, 0.1025],\n",
      "        [0.9515, 0.2401],\n",
      "        [0.9456, 0.1992],\n",
      "        [0.4771, 0.6511],\n",
      "        [0.5055, 0.6351],\n",
      "        [0.0250, 0.5712],\n",
      "        [0.6465, 0.9467],\n",
      "        [0.0438, 0.4379],\n",
      "        [0.6216, 0.4634],\n",
      "        [0.4363, 0.5452],\n",
      "        [0.1213, 0.5717],\n",
      "        [0.5417, 0.8638],\n",
      "        [0.5500, 0.9493],\n",
      "        [0.3301, 0.5759],\n",
      "        [0.5141, 0.6900],\n",
      "        [0.5521, 0.2047],\n",
      "        [0.6679, 0.9667],\n",
      "        [0.5659, 0.9428],\n",
      "        [0.4166, 0.5707],\n",
      "        [0.2065, 0.5940],\n",
      "        [0.2311, 0.6083],\n",
      "        [0.4005, 0.5085],\n",
      "        [0.5798, 0.5458],\n",
      "        [0.5803, 0.7937],\n",
      "        [0.3944, 0.6574],\n",
      "        [0.0500, 0.6080],\n",
      "        [0.6235, 0.5004],\n",
      "        [0.0968, 0.4231],\n",
      "        [0.2366, 0.0093],\n",
      "        [0.0744, 0.6031],\n",
      "        [0.3306, 0.5704],\n",
      "        [0.1703, 0.5641],\n",
      "        [0.9544, 0.1931],\n",
      "        [0.9745, 0.1441],\n",
      "        [0.9114, 0.2726],\n",
      "        [0.6511, 0.8692],\n",
      "        [0.4110, 0.4161]], requires_grad=True)\n"
     ]
    }
   ],
   "source": [
    "self.pts.requires_grad = True\n",
    "# torch.autograd.set_detect_anomaly(True)\n",
    "\n",
    "u_index = np.argsort(-self.weights)[0]\n",
    "for u_index in np.argsort(-self.weights):  # largest to smallest\n",
    "    print(u_index)\n",
    "    binary_mask = torch.zeros_like(self.pts)\n",
    "    _ = binary_mask[u_index].fill_(1.)\n",
    "    pts_temp = self.pts * binary_mask\n",
    "    #if other values are needed\n",
    "    pts_temp += self.pts.detach() * binary_mask.logical_not()\n",
    "\n",
    "    orig = self.pts\n",
    "    self.pts = pts_temp\n",
    "\n",
    "\n",
    "    # foo = self.pts[0]\n",
    "    # foo.requires_grad = True\n",
    "    optimizer = torch.optim.SGD((orig,), lr=0.001, momentum=0.9)\n",
    "\n",
    "    optimizer.zero_grad()\n",
    "    p_u_to_vs2 = mcmc.MCMC_girg.get_p_u_to_vs_pytorch(\n",
    "        self.weights, self.pts, self.alpha, self.const_in,\n",
    "        u_index, self.failure_prob, self.cl_mixin_prob,\n",
    "        self.c_cl)\n",
    "    u_ll_new = self.p_u_to_vs_to_ll_pytorch(self.g, u_index, p_u_to_vs2)\n",
    "\n",
    "    u_ll_new.backward()\n",
    "    optimizer.step()\n",
    "\n",
    "    self.pts = orig\n",
    "    print(self.pts)"
   ],
   "metadata": {
    "collapsed": false,
    "ExecuteTime": {
     "start_time": "2023-08-29T10:08:29.812926Z",
     "end_time": "2023-08-29T10:08:30.811085Z"
    }
   }
  },
  {
   "cell_type": "code",
   "execution_count": null,
   "outputs": [],
   "source": [],
   "metadata": {
    "collapsed": false
   }
  },
  {
   "cell_type": "code",
   "execution_count": 47,
   "outputs": [
    {
     "data": {
      "text/plain": "[2, 3, 6, 7, 22, 24, 28, 32, 39]"
     },
     "execution_count": 47,
     "metadata": {},
     "output_type": "execute_result"
    }
   ],
   "source": [
    "list(g.iterNeighbors(8))"
   ],
   "metadata": {
    "collapsed": false,
    "ExecuteTime": {
     "start_time": "2023-08-29T10:08:32.460775Z",
     "end_time": "2023-08-29T10:08:32.472356Z"
    }
   }
  },
  {
   "cell_type": "code",
   "execution_count": 50,
   "outputs": [
    {
     "data": {
      "text/plain": "array([[204, 180],\n       [238, 978]])"
     },
     "execution_count": 50,
     "metadata": {},
     "output_type": "execute_result"
    },
    {
     "data": {
      "text/plain": "0.53125"
     },
     "execution_count": 50,
     "metadata": {},
     "output_type": "execute_result"
    }
   ],
   "source": [
    "MC.pts = MC.pts.detach()\n",
    "g_out, A_out, out, pec, pfew = MC.get_CM(MC.A)\n",
    "out\n",
    "pec"
   ],
   "metadata": {
    "collapsed": false,
    "ExecuteTime": {
     "start_time": "2023-08-29T10:09:18.720335Z",
     "end_time": "2023-08-29T10:09:18.740059Z"
    }
   }
  },
  {
   "cell_type": "code",
   "execution_count": 48,
   "outputs": [],
   "source": [
    "# for u_index in np.argsort(-self.weights):  # largest to smallest"
   ],
   "metadata": {
    "collapsed": false,
    "ExecuteTime": {
     "start_time": "2023-08-29T10:08:32.899848Z",
     "end_time": "2023-08-29T10:08:32.906402Z"
    }
   }
  },
  {
   "cell_type": "code",
   "execution_count": 104,
   "outputs": [],
   "source": [
    "u_index = 0\n",
    "\n",
    "self.pts.requires_grad = True\n",
    "\n",
    "binary_mask = torch.zeros_like(self.pts)\n",
    "_ = binary_mask[u_index].fill_(1.)\n",
    "pts_temp = self.pts * binary_mask\n",
    "#if other values are needed\n",
    "pts_temp += self.pts.detach() * binary_mask.logical_not()\n",
    "\n",
    "orig = self.pts\n",
    "self.pts = pts_temp\n",
    "\n",
    "\n",
    "# foo = self.pts[0]\n",
    "# foo.requires_grad = True\n",
    "optimizer = torch.optim.SGD((orig,), lr=0.001, momentum=0.9)\n",
    "\n",
    "optimizer.zero_grad()\n",
    "p_u_to_vs2 = mcmc.MCMC_girg.get_p_u_to_vs_pytorch(\n",
    "    self.weights, self.pts, self.alpha, self.const_in,\n",
    "    u_index, self.failure_prob, self.cl_mixin_prob,\n",
    "    self.c_cl)\n",
    "u_ll_new = self.p_u_to_vs_to_ll_pytorch(self.g, u_index, p_u_to_vs2)\n",
    "\n",
    "_ = u_ll_new.backward()\n",
    "_ = optimizer.step()\n",
    "\n",
    "self.pts = orig"
   ],
   "metadata": {
    "collapsed": false,
    "ExecuteTime": {
     "start_time": "2023-08-28T19:16:07.685203Z",
     "end_time": "2023-08-28T19:16:07.709273Z"
    }
   }
  },
  {
   "cell_type": "code",
   "execution_count": 94,
   "outputs": [
    {
     "data": {
      "text/plain": "tensor([[0.7754, 0.0945],\n        [0.4923, 0.3916],\n        [0.7403, 0.1974],\n        [0.1634, 0.6636],\n        [0.6291, 0.0500],\n        [0.6147, 0.2716],\n        [0.9500, 0.9500],\n        [0.4847, 0.3239],\n        [0.7973, 0.2650],\n        [0.5965, 0.1223],\n        [0.5598, 0.5929],\n        [0.0000, 0.6893],\n        [0.5113, 0.3339],\n        [0.3522, 0.4270],\n        [0.5656, 0.2706],\n        [0.9500, 0.9500],\n        [0.4621, 0.6494],\n        [0.7349, 0.0000],\n        [0.0500, 0.6114],\n        [0.6990, 0.1725]], requires_grad=True)"
     },
     "execution_count": 94,
     "metadata": {},
     "output_type": "execute_result"
    }
   ],
   "source": [
    "orig"
   ],
   "metadata": {
    "collapsed": false,
    "ExecuteTime": {
     "start_time": "2023-08-28T19:13:30.526506Z",
     "end_time": "2023-08-28T19:13:30.539422Z"
    }
   }
  },
  {
   "cell_type": "code",
   "execution_count": 95,
   "outputs": [
    {
     "data": {
      "text/plain": "True"
     },
     "execution_count": 95,
     "metadata": {},
     "output_type": "execute_result"
    }
   ],
   "source": [
    "self.pts.requires_grad"
   ],
   "metadata": {
    "collapsed": false,
    "ExecuteTime": {
     "start_time": "2023-08-28T19:13:46.469421Z",
     "end_time": "2023-08-28T19:13:46.484134Z"
    }
   }
  },
  {
   "cell_type": "code",
   "execution_count": 96,
   "outputs": [
    {
     "data": {
      "text/plain": "tensor([1., 1.])"
     },
     "execution_count": 96,
     "metadata": {},
     "output_type": "execute_result"
    }
   ],
   "source": [
    "u_index = 1\n",
    "\n",
    "binary_mask = torch.zeros_like(self.pts)\n",
    "binary_mask[u_index].fill_(1.)\n",
    "pts_temp = self.pts * binary_mask\n",
    "#if other values are needed\n",
    "pts_temp += self.pts.detach() * binary_mask.logical_not()\n",
    "\n",
    "orig = self.pts\n",
    "self.pts = pts_temp\n",
    "\n",
    "\n",
    "# foo = self.pts[0]\n",
    "# foo.requires_grad = True\n",
    "optimizer = torch.optim.SGD((orig,), lr=0.001, momentum=0.9)\n",
    "\n",
    "optimizer.zero_grad()\n",
    "p_u_to_vs2 = mcmc.MCMC_girg.get_p_u_to_vs_pytorch(\n",
    "    self.weights, self.pts, self.alpha, self.const_in,\n",
    "    u_index, self.failure_prob, self.cl_mixin_prob,\n",
    "    self.c_cl)\n",
    "u_ll_new = self.p_u_to_vs_to_ll_pytorch(self.g, u_index, p_u_to_vs2)\n",
    "\n",
    "u_ll_new.backward()\n",
    "optimizer.step()\n",
    "\n",
    "self.pts = orig"
   ],
   "metadata": {
    "collapsed": false,
    "ExecuteTime": {
     "start_time": "2023-08-28T19:13:54.584958Z",
     "end_time": "2023-08-28T19:13:54.621049Z"
    }
   }
  },
  {
   "cell_type": "code",
   "execution_count": 97,
   "outputs": [
    {
     "data": {
      "text/plain": "tensor([[0.7754, 0.0945],\n        [0.4905, 0.3978],\n        [0.7403, 0.1974],\n        [0.1634, 0.6636],\n        [0.6291, 0.0500],\n        [0.6147, 0.2716],\n        [0.9500, 0.9500],\n        [0.4847, 0.3239],\n        [0.7973, 0.2650],\n        [0.5965, 0.1223],\n        [0.5598, 0.5929],\n        [0.0000, 0.6893],\n        [0.5113, 0.3339],\n        [0.3522, 0.4270],\n        [0.5656, 0.2706],\n        [0.9500, 0.9500],\n        [0.4621, 0.6494],\n        [0.7349, 0.0000],\n        [0.0500, 0.6114],\n        [0.6990, 0.1725]], requires_grad=True)"
     },
     "execution_count": 97,
     "metadata": {},
     "output_type": "execute_result"
    }
   ],
   "source": [
    "orig"
   ],
   "metadata": {
    "collapsed": false,
    "ExecuteTime": {
     "start_time": "2023-08-28T19:14:01.269219Z",
     "end_time": "2023-08-28T19:14:01.301818Z"
    }
   }
  },
  {
   "cell_type": "code",
   "execution_count": null,
   "outputs": [],
   "source": [
    "\n",
    "\n",
    "self.pts.requires_grad = True\n",
    "\n",
    "\n",
    "for u_index in np.argsort(-self.weights):\n",
    "\n",
    "    binary_mask = torch.zeros_like(self.pts)\n",
    "    binary_mask[u_index].fill_(1.)\n",
    "    pts_temp = self.pts * binary_mask\n",
    "    #if other values are needed\n",
    "    pts_temp += self.pts.detach() * binary_mask.logical_not()\n",
    "\n",
    "    orig = self.pts\n",
    "    self.pts = pts_temp\n",
    "\n",
    "\n",
    "    # foo = self.pts[0]\n",
    "    # foo.requires_grad = True\n",
    "    optimizer = torch.optim.SGD((orig,), lr=0.001, momentum=0.9)\n",
    "\n",
    "    optimizer.zero_grad()\n",
    "    p_u_to_vs2 = mcmc.MCMC_girg.get_p_u_to_vs_pytorch(\n",
    "        self.weights, self.pts, self.alpha, self.const_in,\n",
    "        u_index, self.failure_prob, self.cl_mixin_prob,\n",
    "        self.c_cl)\n",
    "    u_ll_new = self.p_u_to_vs_to_ll_pytorch(self.g, u_index, p_u_to_vs2)\n",
    "\n",
    "    u_ll_new.backward()\n",
    "    optimizer.step()\n",
    "\n",
    "    self.pts = orig"
   ],
   "metadata": {
    "collapsed": false
   }
  },
  {
   "cell_type": "code",
   "execution_count": null,
   "outputs": [],
   "source": [],
   "metadata": {
    "collapsed": false
   }
  },
  {
   "cell_type": "code",
   "execution_count": null,
   "outputs": [],
   "source": [],
   "metadata": {
    "collapsed": false
   }
  },
  {
   "cell_type": "code",
   "execution_count": null,
   "outputs": [],
   "source": [],
   "metadata": {
    "collapsed": false
   }
  },
  {
   "cell_type": "code",
   "execution_count": 117,
   "outputs": [],
   "source": [
    "MC.pts = MC.pts.detach()"
   ],
   "metadata": {
    "collapsed": false,
    "ExecuteTime": {
     "start_time": "2023-08-28T19:17:20.155891Z",
     "end_time": "2023-08-28T19:17:20.204411Z"
    }
   }
  },
  {
   "cell_type": "code",
   "execution_count": 118,
   "outputs": [
    {
     "data": {
      "text/plain": "(<networkit.graph.Graph at 0x2abb66260ea0>,\n array([[0, 1, 0, 0, 1, 1, 0, 1, 1, 1, 0, 0, 1, 0, 0, 0, 1, 1, 0, 1],\n        [1, 0, 0, 0, 1, 1, 0, 1, 1, 0, 0, 0, 1, 0, 1, 0, 0, 0, 0, 1],\n        [0, 0, 0, 0, 1, 0, 0, 1, 1, 1, 0, 0, 1, 1, 1, 0, 1, 1, 1, 1],\n        [0, 0, 0, 0, 0, 1, 0, 1, 0, 0, 0, 1, 0, 1, 1, 0, 0, 1, 1, 1],\n        [1, 1, 1, 0, 0, 0, 0, 1, 0, 0, 0, 0, 1, 0, 1, 0, 0, 0, 0, 1],\n        [1, 1, 0, 1, 0, 0, 1, 0, 0, 1, 1, 0, 1, 1, 1, 0, 1, 1, 0, 1],\n        [0, 0, 0, 0, 0, 1, 0, 0, 0, 0, 0, 0, 1, 0, 1, 0, 0, 0, 0, 1],\n        [1, 1, 1, 1, 1, 0, 0, 0, 0, 1, 1, 1, 0, 1, 1, 0, 0, 1, 1, 1],\n        [1, 1, 1, 0, 0, 0, 0, 0, 0, 1, 0, 0, 1, 0, 1, 0, 0, 0, 0, 1],\n        [1, 0, 1, 0, 0, 1, 0, 1, 1, 0, 0, 0, 1, 0, 0, 0, 0, 1, 0, 1],\n        [0, 0, 0, 0, 0, 1, 0, 1, 0, 0, 0, 0, 0, 1, 0, 0, 0, 0, 0, 0],\n        [0, 0, 0, 1, 0, 0, 0, 1, 0, 0, 0, 0, 1, 0, 0, 0, 0, 0, 1, 0],\n        [1, 1, 1, 0, 1, 1, 1, 0, 1, 1, 0, 1, 0, 1, 1, 0, 0, 1, 1, 1],\n        [0, 0, 1, 1, 0, 1, 0, 1, 0, 0, 1, 0, 1, 0, 1, 0, 1, 0, 0, 0],\n        [0, 1, 1, 1, 1, 1, 1, 1, 1, 0, 0, 0, 1, 1, 0, 0, 0, 0, 0, 1],\n        [0, 0, 0, 0, 0, 0, 0, 0, 0, 0, 0, 0, 0, 0, 0, 0, 0, 0, 0, 0],\n        [1, 0, 1, 0, 0, 1, 0, 0, 0, 0, 0, 0, 0, 1, 0, 0, 0, 0, 0, 0],\n        [1, 0, 1, 1, 0, 1, 0, 1, 0, 1, 0, 0, 1, 0, 0, 0, 0, 0, 0, 1],\n        [0, 0, 1, 1, 0, 0, 0, 1, 0, 0, 0, 1, 1, 0, 0, 0, 0, 0, 0, 1],\n        [1, 1, 1, 1, 1, 1, 1, 1, 1, 1, 0, 0, 1, 0, 1, 0, 0, 1, 1, 0]]),\n array([[ 88,  44],\n        [ 72, 196]]),\n 0.6666666666666666,\n 0.45)"
     },
     "execution_count": 118,
     "metadata": {},
     "output_type": "execute_result"
    }
   ],
   "source": [
    "MC.get_CM(MC.A)"
   ],
   "metadata": {
    "collapsed": false,
    "ExecuteTime": {
     "start_time": "2023-08-28T19:17:20.529835Z",
     "end_time": "2023-08-28T19:17:20.552992Z"
    }
   }
  },
  {
   "cell_type": "code",
   "execution_count": 23,
   "outputs": [
    {
     "data": {
      "text/plain": "tensor(nan, grad_fn=<AliasBackward>)"
     },
     "execution_count": 23,
     "metadata": {},
     "output_type": "execute_result"
    }
   ],
   "source": [
    " MC.ordered_point_propose_compare_update_pytorch()"
   ],
   "metadata": {
    "collapsed": false,
    "ExecuteTime": {
     "start_time": "2023-08-28T18:59:22.421390Z",
     "end_time": "2023-08-28T18:59:22.983555Z"
    }
   }
  },
  {
   "cell_type": "code",
   "execution_count": 24,
   "outputs": [
    {
     "data": {
      "text/plain": "tensor([[   nan, 0.0500],\n        [   nan, 0.6763],\n        [   nan, 0.5649],\n        [   nan, 0.0200],\n        [   nan, 0.9500],\n        [   nan, 0.8459],\n        [   nan, 0.5603],\n        [   nan, 0.9600],\n        [   nan, 0.4778],\n        [   nan, 0.6753],\n        [   nan, 0.5810],\n        [   nan, 0.5491],\n        [   nan, 0.2201],\n        [   nan, 0.2640],\n        [   nan, 0.0300],\n        [   nan, 0.5864],\n        [   nan, 0.2963],\n        [   nan, 0.5810],\n        [   nan, 0.6168],\n        [   nan, 0.5810],\n        [   nan, 0.1467],\n        [   nan, 0.7824],\n        [   nan, 0.6896],\n        [   nan, 0.5532],\n        [   nan, 0.5630],\n        [   nan, 0.9266],\n        [   nan, 0.0400],\n        [   nan, 0.7655],\n        [   nan, 0.6050],\n        [   nan, 0.4679],\n        [   nan, 0.9700],\n        [   nan, 0.4686],\n        [   nan, 0.1322],\n        [   nan, 0.5810],\n        [   nan, 0.5584],\n        [   nan, 0.5820],\n        [   nan, 0.6100],\n        [   nan, 0.8849],\n        [   nan, 0.8120],\n        [   nan, 0.3210],\n        [   nan, 0.7106],\n        [   nan, 0.5434],\n        [   nan, 0.7866],\n        [   nan, 0.9800],\n        [   nan, 0.7319],\n        [   nan, 0.3250],\n        [   nan, 0.6765],\n        [   nan, 0.5810],\n        [   nan, 0.8576],\n        [   nan, 0.5803],\n        [   nan, 0.7451],\n        [   nan, 0.5951],\n        [   nan, 0.5434],\n        [   nan, 0.6719],\n        [   nan, 0.0100],\n        [   nan, 1.0242],\n        [   nan, 0.6336],\n        [   nan, 0.6691],\n        [   nan, 0.1608],\n        [   nan, 0.5042],\n        [   nan, 0.6852],\n        [   nan, 0.7670],\n        [   nan, 0.5810],\n        [   nan, 0.5684],\n        [   nan, 0.9500],\n        [   nan, 0.5810],\n        [   nan, 0.6300],\n        [   nan, 0.6106],\n        [   nan, 0.9478],\n        [   nan, 0.7157],\n        [   nan, 0.5810],\n        [   nan, 0.6662],\n        [   nan, 0.4689],\n        [   nan, 0.7866],\n        [   nan, 0.7588],\n        [   nan, 0.9900],\n        [   nan, 0.2456],\n        [   nan, 0.7032],\n        [   nan, 0.7320],\n        [   nan, 0.4597],\n        [   nan, 0.5175],\n        [   nan, 0.5810],\n        [   nan, 0.0000],\n        [   nan, 0.8314],\n        [   nan, 0.6800],\n        [   nan, 0.4840],\n        [   nan, 0.7139],\n        [   nan, 0.6591],\n        [   nan, 0.3866],\n        [   nan, 0.5810],\n        [   nan, 0.6235],\n        [   nan, 0.6957],\n        [   nan, 0.8556],\n        [   nan, 0.4991],\n        [   nan, 0.8169],\n        [   nan, 0.7755],\n        [   nan, 0.4810],\n        [   nan, 0.5810],\n        [   nan, 0.5537],\n        [   nan, 0.1896]], requires_grad=True)"
     },
     "execution_count": 24,
     "metadata": {},
     "output_type": "execute_result"
    }
   ],
   "source": [
    "MC.pts"
   ],
   "metadata": {
    "collapsed": false,
    "ExecuteTime": {
     "start_time": "2023-08-28T18:59:35.433852Z",
     "end_time": "2023-08-28T18:59:35.464084Z"
    }
   }
  },
  {
   "cell_type": "code",
   "execution_count": 49,
   "outputs": [
    {
     "data": {
      "text/plain": "<torch.autograd.anomaly_mode.set_detect_anomaly at 0x2aeab8826640>"
     },
     "execution_count": 49,
     "metadata": {},
     "output_type": "execute_result"
    }
   ],
   "source": [
    "\n",
    "torch.autograd.set_detect_anomaly(True)\n",
    "\n",
    "MC.pts.requires_grad = True\n",
    "self = MC\n",
    "u_index = 0\n",
    "\n",
    "x_u = self.pts[u_index]\n",
    "\n",
    "p_u_to_vs2 = mcmc.MCMC_girg.get_p_u_to_vs_pytorch(\n",
    "    self.weights, self.pts, self.alpha, self.const_in,\n",
    "    u_index, self.failure_prob, self.cl_mixin_prob,\n",
    "    self.c_cl)\n",
    "\n",
    "u_ll_new = self.p_u_to_vs_to_ll_pytorch(self.g, u_index, p_u_to_vs2)\n",
    "# u_ll_new = torch.log(p_u_to_vs2).sum()\n",
    "\n",
    "# u_ll_new = MC.ordered_point_propose_compare_update_pytorch()"
   ],
   "metadata": {
    "collapsed": false,
    "ExecuteTime": {
     "start_time": "2023-08-28T18:46:10.640397Z",
     "end_time": "2023-08-28T18:46:10.690574Z"
    }
   }
  },
  {
   "cell_type": "code",
   "execution_count": 50,
   "outputs": [],
   "source": [
    "u_ll_new.backward()"
   ],
   "metadata": {
    "collapsed": false,
    "ExecuteTime": {
     "start_time": "2023-08-28T18:46:12.036596Z",
     "end_time": "2023-08-28T18:46:12.054227Z"
    }
   }
  },
  {
   "cell_type": "code",
   "execution_count": 52,
   "outputs": [
    {
     "data": {
      "text/plain": "tensor([[0.3760, 0.0582],\n        [0.9280, 0.8201],\n        [0.9800, 0.7434],\n        [0.4393, 0.3245],\n        [0.4959, 0.5198],\n        [0.5112, 0.5850],\n        [0.0200, 0.5144],\n        [0.4959, 0.5198],\n        [0.5380, 0.3146],\n        [0.4446, 0.4205],\n        [0.5288, 0.4837],\n        [0.4959, 0.5198],\n        [0.1776, 0.5693],\n        [0.3463, 0.6461],\n        [0.0300, 0.9149],\n        [0.3963, 0.3683],\n        [0.9460, 0.7381],\n        [0.1452, 0.4083],\n        [0.7365, 0.9600],\n        [0.4428, 0.4390],\n        [0.1710, 0.5064],\n        [0.4485, 0.0000],\n        [0.1151, 0.0500],\n        [0.6516, 0.4961],\n        [0.4721, 0.6958],\n        [0.5749, 0.4856],\n        [0.9900, 0.4669],\n        [0.3644, 0.4154],\n        [0.3006, 0.5661],\n        [0.3283, 0.2634],\n        [0.5071, 0.5559],\n        [0.3071, 0.3599],\n        [0.0100, 0.6070],\n        [0.0500, 0.5131],\n        [0.4959, 0.5198],\n        [0.3941, 0.4235],\n        [0.6047, 0.9700],\n        [0.4959, 0.5198],\n        [0.2477, 0.6580],\n        [0.3558, 0.9500],\n        [0.5599, 0.0300],\n        [0.4999, 0.8886],\n        [0.2824, 0.5486],\n        [0.6221, 0.2403],\n        [0.4870, 0.5229],\n        [0.5130, 0.6708],\n        [0.9500, 0.4996],\n        [0.6155, 0.4464],\n        [0.0400, 0.5573],\n        [0.9648, 0.0400],\n        [0.1586, 0.5129],\n        [0.4959, 0.5198],\n        [0.1769, 0.3360],\n        [0.4927, 0.2936],\n        [0.4185, 0.5613],\n        [0.4669, 0.3462],\n        [0.5853, 0.0200],\n        [0.4959, 0.5198],\n        [0.4520, 0.4359],\n        [0.9700, 0.9900],\n        [0.4019, 0.4431],\n        [0.2828, 0.3890],\n        [0.1788, 0.6081],\n        [0.6339, 0.7099],\n        [0.7622, 0.7191],\n        [0.9445, 0.3916],\n        [0.4959, 0.5198],\n        [0.7999, 0.0100],\n        [0.2075, 0.3591],\n        [0.5784, 0.2228],\n        [0.4608, 0.2499],\n        [0.5939, 0.5303],\n        [0.4091, 0.5992],\n        [0.5912, 0.5719],\n        [0.6148, 0.5507],\n        [0.6777, 0.3822],\n        [0.3955, 0.2227],\n        [0.4959, 0.5198],\n        [0.6671, 0.2990],\n        [0.1677, 0.5065],\n        [0.4959, 0.5198],\n        [0.5069, 0.6079],\n        [0.6553, 0.3791],\n        [0.4959, 0.5198],\n        [0.1820, 0.6680],\n        [0.2210, 0.9800],\n        [0.4959, 0.5198],\n        [0.3554, 0.7570],\n        [0.2337, 0.6426],\n        [0.4548, 0.4163],\n        [0.5450, 0.4770],\n        [0.4618, 0.4212],\n        [0.9600, 0.0522],\n        [0.0000, 0.7320],\n        [0.2935, 0.9500],\n        [0.4908, 0.3491],\n        [0.2712, 0.1241],\n        [0.5939, 0.4283],\n        [0.7612, 0.7081],\n        [0.9500, 0.6391]], requires_grad=True)"
     },
     "execution_count": 52,
     "metadata": {},
     "output_type": "execute_result"
    }
   ],
   "source": [
    "MC.pts"
   ],
   "metadata": {
    "collapsed": false,
    "ExecuteTime": {
     "start_time": "2023-08-28T18:46:29.424347Z",
     "end_time": "2023-08-28T18:46:29.438663Z"
    }
   }
  },
  {
   "cell_type": "code",
   "execution_count": 51,
   "outputs": [
    {
     "data": {
      "text/plain": "tensor([[-8.8795,  0.0000],\n        [ 2.9326,  0.0000],\n        [ 1.7782,  0.0000],\n        [ 0.0000,  0.0000],\n        [ 0.0000,  0.0000],\n        [ 0.0000,  0.0000],\n        [ 0.0000,  0.0000],\n        [ 0.0000,  0.0000],\n        [ 0.0000,  0.0000],\n        [ 0.0000,  0.0000],\n        [ 0.0000,  0.0000],\n        [ 0.0000,  0.0000],\n        [ 0.0000,  0.0000],\n        [ 0.0000,  0.0000],\n        [ 0.0000,  0.0000],\n        [ 0.0000,  0.0000],\n        [ 2.3488,  0.0000],\n        [ 0.0000,  0.0000],\n        [ 0.0000,  0.0000],\n        [ 0.0000,  0.0000],\n        [ 0.0000,  0.0000],\n        [ 0.0000,  0.0000],\n        [ 0.0000,  0.0000],\n        [ 0.0000,  0.0000],\n        [ 0.0000,  0.0000],\n        [ 0.0000,  0.0000],\n        [ 0.0000,  0.0000],\n        [ 0.0000,  0.0000],\n        [ 0.0000,  0.0000],\n        [ 0.0000,  0.0000],\n        [ 0.0000,  0.0000],\n        [ 0.0000,  0.0000],\n        [ 0.0000,  0.0000],\n        [ 0.0000,  0.0000],\n        [ 0.0000,  0.0000],\n        [ 0.0000,  0.0000],\n        [ 0.0000,  0.0000],\n        [ 0.0000,  0.0000],\n        [ 0.0000,  0.0000],\n        [ 0.0000,  0.0000],\n        [ 0.0000,  0.0000],\n        [ 0.0000,  0.0000],\n        [ 0.0000,  0.0000],\n        [ 0.0000,  0.0000],\n        [ 0.0000,  0.0000],\n        [ 0.0000,  0.0000],\n        [ 0.0000,  0.0000],\n        [ 0.0000,  0.0000],\n        [ 0.0000,  0.0000],\n        [ 0.0000,  0.0000],\n        [ 0.0000,  0.0000],\n        [ 0.0000,  0.0000],\n        [ 0.0000,  0.0000],\n        [ 0.0000,  0.0000],\n        [ 0.0000,  0.0000],\n        [ 0.0000,  0.0000],\n        [ 0.0000,  0.0000],\n        [ 0.0000,  0.0000],\n        [ 0.0000,  0.0000],\n        [ 1.8200,  0.0000],\n        [ 0.0000,  0.0000],\n        [ 0.0000,  0.0000],\n        [ 0.0000,  0.0000],\n        [ 0.0000,  0.0000],\n        [ 0.0000,  0.0000],\n        [ 0.0000,  0.0000],\n        [ 0.0000,  0.0000],\n        [ 0.0000,  0.0000],\n        [ 0.0000,  0.0000],\n        [ 0.0000,  0.0000],\n        [ 0.0000,  0.0000],\n        [ 0.0000,  0.0000],\n        [ 0.0000,  0.0000],\n        [ 0.0000,  0.0000],\n        [ 0.0000,  0.0000],\n        [ 0.0000,  0.0000],\n        [ 0.0000,  0.0000],\n        [ 0.0000,  0.0000],\n        [ 0.0000,  0.0000],\n        [ 0.0000,  0.0000],\n        [ 0.0000,  0.0000],\n        [ 0.0000,  0.0000],\n        [ 0.0000,  0.0000],\n        [ 0.0000,  0.0000],\n        [ 0.0000,  0.0000],\n        [ 0.0000,  0.0000],\n        [ 0.0000,  0.0000],\n        [ 0.0000,  0.0000],\n        [ 0.0000,  0.0000],\n        [ 0.0000,  0.0000],\n        [ 0.0000,  0.0000],\n        [ 0.0000,  0.0000],\n        [ 0.0000,  0.0000],\n        [ 0.0000,  0.0000],\n        [ 0.0000,  0.0000],\n        [ 0.0000,  0.0000],\n        [ 0.0000,  0.0000],\n        [ 0.0000,  0.0000],\n        [ 0.0000,  0.0000],\n        [ 0.0000,  0.0000]])"
     },
     "execution_count": 51,
     "metadata": {},
     "output_type": "execute_result"
    }
   ],
   "source": [
    "MC.pts.grad"
   ],
   "metadata": {
    "collapsed": false,
    "ExecuteTime": {
     "start_time": "2023-08-28T18:46:20.938026Z",
     "end_time": "2023-08-28T18:46:20.959531Z"
    }
   }
  },
  {
   "cell_type": "code",
   "execution_count": 43,
   "outputs": [],
   "source": [
    "weights, pts, alpha, const_in, u_index, failure_prob, cl_mixin_prob, c_cl = MC.weights, MC.pts, MC.alpha, MC.const_in, u_index, MC.failure_prob, MC.cl_mixin_prob, MC.c_cl\n",
    "\n",
    "eps = 1e-7\n",
    "\n",
    "n, d = pts.shape\n",
    "wuwv = weights[u_index] * weights\n",
    "dists = pts[u_index].dist(pts)\n",
    "p_uv = torch.divide(wuwv, dists ** d)\n",
    "p_uv = torch.pow(p_uv, alpha)\n",
    "# p_uv = torch.minimum(const_in * p_uv, torch.ones_like(p_uv))\n",
    "#\n",
    "# p_u_to_vs = p_uv"
   ],
   "metadata": {
    "collapsed": false,
    "ExecuteTime": {
     "start_time": "2023-08-28T18:43:16.480341Z",
     "end_time": "2023-08-28T18:43:16.519620Z"
    }
   }
  },
  {
   "cell_type": "code",
   "execution_count": 44,
   "outputs": [
    {
     "data": {
      "text/plain": "tensor([       inf, 2.0620e-01, 1.5802e-01, 9.4273e+01, 3.4346e+01, 1.2546e+01,\n        6.2458e-01, 3.4346e+01, 7.3167e+00, 6.0307e+01, 7.1373e+00, 3.4346e+01,\n        6.4651e+00, 9.1422e+02, 5.6542e-01, 1.6645e+03, 1.8373e-01, 1.6194e+00,\n        7.8713e-01, 7.3148e+01, 4.0596e+00, 4.9775e+01, 1.5399e+00, 2.1933e+00,\n        2.3196e+01, 6.3168e+00, 4.3627e-01, 1.0859e+04, 4.2427e+01, 1.8400e+02,\n        2.6526e+01, 7.0641e+01, 5.0679e-01, 9.1514e-01, 3.4346e+01, 4.0244e+03,\n        1.9736e+00, 3.4346e+01, 1.9056e+01, 9.8349e+02, 5.0147e+02, 1.3331e+01,\n        3.5548e+01, 8.7896e+00, 1.5966e+01, 1.1593e+01, 3.9224e-01, 2.3401e+00,\n        1.0723e+00, 1.3802e+03, 2.1793e+00, 3.4346e+01, 4.6878e+00, 3.1165e+01,\n        3.0627e+02, 1.6907e+01, 2.9882e+02, 3.4346e+01, 6.7827e+01, 1.5969e-01,\n        1.5923e+03, 2.1022e+01, 5.7847e+00, 1.6841e+00, 8.1953e-01, 9.1313e-01,\n        3.4346e+01, 1.1320e+02, 4.9427e+00, 1.2177e+01, 3.6662e+01, 6.3341e+00,\n        2.9120e+02, 6.8249e+00, 2.9894e+00, 1.9888e+00, 1.8909e+03, 3.4346e+01,\n        1.8381e+00, 4.2630e+00, 3.4346e+01, 1.7422e+01, 1.2892e+00, 3.4346e+01,\n        2.8310e+00, 6.1385e+00, 3.4346e+01, 9.5766e+02, 1.6405e+01, 5.4495e+01,\n        5.0553e+00, 7.6788e+01, 1.9830e+04, 4.2195e-01, 2.5266e+01, 2.8690e+01,\n        1.7481e+01, 4.6316e+00, 5.0908e-01, 2.4741e-01],\n       grad_fn=<AliasBackward>)"
     },
     "execution_count": 44,
     "metadata": {},
     "output_type": "execute_result"
    }
   ],
   "source": [
    "p_uv"
   ],
   "metadata": {
    "collapsed": false,
    "ExecuteTime": {
     "start_time": "2023-08-28T18:43:20.111220Z",
     "end_time": "2023-08-28T18:43:20.146747Z"
    }
   }
  },
  {
   "cell_type": "code",
   "execution_count": 20,
   "outputs": [
    {
     "data": {
      "text/plain": "[2,\n 4,\n 5,\n 7,\n 8,\n 11,\n 12,\n 18,\n 23,\n 25,\n 26,\n 30,\n 34,\n 37,\n 38,\n 41,\n 42,\n 43,\n 44,\n 45,\n 51,\n 53,\n 54,\n 57,\n 58,\n 60,\n 64,\n 66,\n 69,\n 71,\n 73,\n 74,\n 75,\n 77,\n 80,\n 81,\n 82,\n 83,\n 85,\n 86,\n 97]"
     },
     "execution_count": 20,
     "metadata": {},
     "output_type": "execute_result"
    }
   ],
   "source": [
    "list(MC.g.iterNeighbors(1))"
   ],
   "metadata": {
    "collapsed": false,
    "ExecuteTime": {
     "start_time": "2023-08-28T18:40:05.428578Z",
     "end_time": "2023-08-28T18:40:05.435522Z"
    }
   }
  },
  {
   "cell_type": "code",
   "execution_count": 8,
   "outputs": [],
   "source": [
    "p_u_to_vs2[0].backward()"
   ],
   "metadata": {
    "collapsed": false,
    "ExecuteTime": {
     "start_time": "2023-08-28T18:38:43.573421Z",
     "end_time": "2023-08-28T18:38:43.866716Z"
    }
   }
  },
  {
   "cell_type": "code",
   "execution_count": 9,
   "outputs": [
    {
     "data": {
      "text/plain": "True"
     },
     "execution_count": 9,
     "metadata": {},
     "output_type": "execute_result"
    }
   ],
   "source": [
    "MC.pts.requires_grad"
   ],
   "metadata": {
    "collapsed": false,
    "ExecuteTime": {
     "start_time": "2023-08-28T18:38:44.642126Z",
     "end_time": "2023-08-28T18:38:44.659331Z"
    }
   }
  },
  {
   "cell_type": "code",
   "execution_count": 10,
   "outputs": [
    {
     "data": {
      "text/plain": "tensor([0.3290, 0.5011, 0.4974, 0.5711, 0.7148, 0.5637, 0.4974, 0.7148, 0.5526,\n        0.5342, 0.5269, 0.7148, 0.6263, 0.6300, 0.4790, 0.5563, 0.4974, 0.4790,\n        0.5305, 0.5526, 0.5563, 0.1692, 0.2575, 0.5821, 0.5232, 0.6226, 0.4974,\n        0.6374, 0.5195, 0.5423, 0.7074, 0.5600, 0.4826, 0.5158, 0.7148, 0.6742,\n        0.4974, 0.7148, 0.6153, 0.4863, 0.2511, 0.5379, 0.5784, 0.6448, 0.5232,\n        0.5563, 0.5084, 0.5342, 0.5490, 0.2281, 0.4937, 0.7148, 0.5674, 0.6705,\n        0.5969, 0.3698, 0.3130, 0.7148, 0.5969, 0.4937, 0.6742, 0.5011, 0.6005,\n        0.5158, 0.5637, 0.5232, 0.7148, 0.2264, 0.5121, 0.6595, 0.4686, 0.6779,\n        0.4937, 0.6890, 0.5711, 0.6079, 0.4866, 0.7148, 0.4201, 0.5711, 0.7148,\n        0.6079, 0.5084, 0.7148, 0.4900, 0.5121, 0.7148, 0.4900, 0.6411, 0.5747,\n        0.5158, 0.6963, 0.1923, 0.4716, 0.4863, 0.6411, 0.3025, 0.6079, 0.4974,\n        0.5379], grad_fn=<AliasBackward>)"
     },
     "execution_count": 10,
     "metadata": {},
     "output_type": "execute_result"
    }
   ],
   "source": [
    "p_u_to_vs2"
   ],
   "metadata": {
    "collapsed": false,
    "ExecuteTime": {
     "start_time": "2023-08-28T18:38:45.274097Z",
     "end_time": "2023-08-28T18:38:45.284439Z"
    }
   }
  },
  {
   "cell_type": "code",
   "execution_count": 11,
   "outputs": [
    {
     "name": "stderr",
     "output_type": "stream",
     "text": [
      "/cluster/apps/nss/gcc-6.3.0/python_gpu/3.8.5/torch/tensor.py:995: UserWarning: The .grad attribute of a Tensor that is not a leaf Tensor is being accessed. Its .grad attribute won't be populated during autograd.backward(). If you indeed want the gradient for a non-leaf Tensor, use .retain_grad() on the non-leaf Tensor. If you access the non-leaf Tensor by mistake, make sure you access the leaf Tensor instead. See github.com/pytorch/pytorch/pull/30531 for more informations.\n",
      "  ret = func(*args, **kwargs)\n"
     ]
    }
   ],
   "source": [
    "u_ll_new.grad"
   ],
   "metadata": {
    "collapsed": false,
    "ExecuteTime": {
     "start_time": "2023-08-28T18:38:46.420842Z",
     "end_time": "2023-08-28T18:38:46.425698Z"
    }
   }
  },
  {
   "cell_type": "code",
   "execution_count": 12,
   "outputs": [
    {
     "data": {
      "text/plain": "tensor([[ 0.0000,  0.4562],\n        [    nan, -0.4562],\n        [ 0.0000,  0.0000],\n        [ 0.0000,  0.0000],\n        [ 0.0000,  0.0000],\n        [ 0.0000,  0.0000],\n        [ 0.0000,  0.0000],\n        [ 0.0000,  0.0000],\n        [ 0.0000,  0.0000],\n        [ 0.0000,  0.0000],\n        [ 0.0000,  0.0000],\n        [ 0.0000,  0.0000],\n        [ 0.0000,  0.0000],\n        [ 0.0000,  0.0000],\n        [ 0.0000,  0.0000],\n        [ 0.0000,  0.0000],\n        [ 0.0000,  0.0000],\n        [ 0.0000,  0.0000],\n        [ 0.0000,  0.0000],\n        [ 0.0000,  0.0000],\n        [ 0.0000,  0.0000],\n        [ 0.0000,  0.0000],\n        [ 0.0000,  0.0000],\n        [ 0.0000,  0.0000],\n        [ 0.0000,  0.0000],\n        [ 0.0000,  0.0000],\n        [ 0.0000,  0.0000],\n        [ 0.0000,  0.0000],\n        [ 0.0000,  0.0000],\n        [ 0.0000,  0.0000],\n        [ 0.0000,  0.0000],\n        [ 0.0000,  0.0000],\n        [ 0.0000,  0.0000],\n        [ 0.0000,  0.0000],\n        [ 0.0000,  0.0000],\n        [ 0.0000,  0.0000],\n        [ 0.0000,  0.0000],\n        [ 0.0000,  0.0000],\n        [ 0.0000,  0.0000],\n        [ 0.0000,  0.0000],\n        [ 0.0000,  0.0000],\n        [ 0.0000,  0.0000],\n        [ 0.0000,  0.0000],\n        [ 0.0000,  0.0000],\n        [ 0.0000,  0.0000],\n        [ 0.0000,  0.0000],\n        [ 0.0000,  0.0000],\n        [ 0.0000,  0.0000],\n        [ 0.0000,  0.0000],\n        [ 0.0000,  0.0000],\n        [ 0.0000,  0.0000],\n        [ 0.0000,  0.0000],\n        [ 0.0000,  0.0000],\n        [ 0.0000,  0.0000],\n        [ 0.0000,  0.0000],\n        [ 0.0000,  0.0000],\n        [ 0.0000,  0.0000],\n        [ 0.0000,  0.0000],\n        [ 0.0000,  0.0000],\n        [ 0.0000,  0.0000],\n        [ 0.0000,  0.0000],\n        [ 0.0000,  0.0000],\n        [ 0.0000,  0.0000],\n        [ 0.0000,  0.0000],\n        [ 0.0000,  0.0000],\n        [ 0.0000,  0.0000],\n        [ 0.0000,  0.0000],\n        [ 0.0000,  0.0000],\n        [ 0.0000,  0.0000],\n        [ 0.0000,  0.0000],\n        [ 0.0000,  0.0000],\n        [ 0.0000,  0.0000],\n        [ 0.0000,  0.0000],\n        [ 0.0000,  0.0000],\n        [ 0.0000,  0.0000],\n        [ 0.0000,  0.0000],\n        [ 0.0000,  0.0000],\n        [ 0.0000,  0.0000],\n        [ 0.0000,  0.0000],\n        [ 0.0000,  0.0000],\n        [ 0.0000,  0.0000],\n        [ 0.0000,  0.0000],\n        [ 0.0000,  0.0000],\n        [ 0.0000,  0.0000],\n        [ 0.0000,  0.0000],\n        [ 0.0000,  0.0000],\n        [ 0.0000,  0.0000],\n        [ 0.0000,  0.0000],\n        [ 0.0000,  0.0000],\n        [ 0.0000,  0.0000],\n        [ 0.0000,  0.0000],\n        [ 0.0000,  0.0000],\n        [ 0.0000,  0.0000],\n        [ 0.0000,  0.0000],\n        [ 0.0000,  0.0000],\n        [ 0.0000,  0.0000],\n        [ 0.0000,  0.0000],\n        [ 0.0000,  0.0000],\n        [ 0.0000,  0.0000],\n        [ 0.0000,  0.0000]])"
     },
     "execution_count": 12,
     "metadata": {},
     "output_type": "execute_result"
    }
   ],
   "source": [
    "MC.pts.grad"
   ],
   "metadata": {
    "collapsed": false,
    "ExecuteTime": {
     "start_time": "2023-08-28T18:39:04.113545Z",
     "end_time": "2023-08-28T18:39:04.138131Z"
    }
   }
  },
  {
   "cell_type": "code",
   "execution_count": 106,
   "outputs": [],
   "source": [
    "u_ll_new.backward()"
   ],
   "metadata": {
    "collapsed": false,
    "ExecuteTime": {
     "start_time": "2023-08-28T18:37:01.432221Z",
     "end_time": "2023-08-28T18:37:01.466533Z"
    }
   }
  },
  {
   "cell_type": "code",
   "execution_count": 116,
   "outputs": [
    {
     "data": {
      "text/plain": "tensor([[0., 0.],\n        [nan, 0.],\n        [0., 0.],\n        [0., 0.],\n        [0., 0.],\n        [0., 0.],\n        [0., 0.],\n        [0., 0.],\n        [0., 0.],\n        [0., 0.],\n        [0., 0.],\n        [0., 0.],\n        [0., 0.],\n        [0., 0.],\n        [0., 0.],\n        [0., 0.],\n        [0., 0.],\n        [0., 0.],\n        [0., 0.],\n        [0., 0.],\n        [0., 0.],\n        [0., 0.],\n        [0., 0.],\n        [0., 0.],\n        [0., 0.],\n        [0., 0.],\n        [0., 0.],\n        [0., 0.],\n        [0., 0.],\n        [0., 0.],\n        [0., 0.],\n        [0., 0.],\n        [0., 0.],\n        [0., 0.],\n        [0., 0.],\n        [0., 0.],\n        [0., 0.],\n        [0., 0.],\n        [0., 0.],\n        [0., 0.],\n        [0., 0.],\n        [0., 0.],\n        [0., 0.],\n        [0., 0.],\n        [0., 0.],\n        [0., 0.],\n        [0., 0.],\n        [0., 0.],\n        [0., 0.],\n        [0., 0.],\n        [0., 0.],\n        [0., 0.],\n        [0., 0.],\n        [0., 0.],\n        [0., 0.],\n        [0., 0.],\n        [0., 0.],\n        [0., 0.],\n        [0., 0.],\n        [0., 0.],\n        [0., 0.],\n        [0., 0.],\n        [0., 0.],\n        [0., 0.],\n        [0., 0.],\n        [0., 0.],\n        [0., 0.],\n        [0., 0.],\n        [0., 0.],\n        [0., 0.],\n        [0., 0.],\n        [0., 0.],\n        [0., 0.],\n        [0., 0.],\n        [0., 0.],\n        [0., 0.],\n        [0., 0.],\n        [0., 0.],\n        [0., 0.],\n        [0., 0.],\n        [0., 0.],\n        [0., 0.],\n        [0., 0.],\n        [0., 0.],\n        [0., 0.],\n        [0., 0.],\n        [0., 0.],\n        [0., 0.],\n        [0., 0.],\n        [0., 0.],\n        [0., 0.],\n        [0., 0.],\n        [0., 0.],\n        [0., 0.],\n        [0., 0.],\n        [0., 0.],\n        [0., 0.],\n        [0., 0.],\n        [0., 0.],\n        [0., 0.]])"
     },
     "execution_count": 116,
     "metadata": {},
     "output_type": "execute_result"
    }
   ],
   "source": [
    "MC.pts.grad"
   ],
   "metadata": {
    "collapsed": false,
    "ExecuteTime": {
     "start_time": "2023-08-28T18:37:42.966267Z",
     "end_time": "2023-08-28T18:37:42.992268Z"
    }
   }
  },
  {
   "cell_type": "code",
   "execution_count": 76,
   "outputs": [
    {
     "data": {
      "text/plain": "True"
     },
     "execution_count": 76,
     "metadata": {},
     "output_type": "execute_result"
    }
   ],
   "source": [
    "MC.pts[u_index].grad is None"
   ],
   "metadata": {
    "collapsed": false,
    "ExecuteTime": {
     "start_time": "2023-08-28T18:31:27.479833Z",
     "end_time": "2023-08-28T18:31:27.490843Z"
    }
   }
  },
  {
   "cell_type": "code",
   "execution_count": 42,
   "outputs": [
    {
     "data": {
      "text/plain": "tensor([0.9908, 0.9908, 0.7463, 0.3989, 0.7077, 0.5662, 0.9393, 0.9007, 0.7720,\n        1.0000, 0.4632, 0.8235, 0.6434, 0.6434, 0.6176, 1.0000, 1.0000, 0.6176,\n        1.0000, 0.6434, 1.0000, 0.5404, 0.8621, 0.5147, 1.0000, 1.0000, 1.0000,\n        0.6691, 0.5919, 0.7592, 1.0000, 0.7463, 0.4632, 0.5404, 0.8492, 0.7978,\n        0.7592, 0.6048, 0.4246, 1.0000, 0.4503, 1.0000, 1.0000, 0.5276, 0.9522,\n        0.7978, 0.8750, 0.4890, 0.7978, 0.5533, 0.4890, 0.8364, 0.5404, 0.9007,\n        0.4503, 0.7206, 1.0000, 0.8364, 1.0000, 0.7592, 0.9522, 0.8492, 0.6434,\n        0.4761, 1.0000, 0.5662, 0.5919, 1.0000, 0.7592, 0.5662, 0.6434, 0.7334,\n        0.4632, 1.0000, 0.6562, 0.5404, 0.6434, 0.6305, 0.5276, 0.9650, 0.5404,\n        1.0000, 1.0000, 1.0000, 0.6305, 0.4503, 0.4761, 0.7334, 0.7720, 0.6434,\n        0.7978, 0.7592, 0.5662, 1.0000, 0.7720, 0.9522, 0.4246, 1.0000, 0.6048,\n        0.5662])"
     },
     "execution_count": 42,
     "metadata": {},
     "output_type": "execute_result"
    }
   ],
   "source": [
    "torch.minimum(torch.ones_like(self.weights), self.weights)"
   ],
   "metadata": {
    "collapsed": false,
    "ExecuteTime": {
     "start_time": "2023-08-28T18:20:46.214118Z",
     "end_time": "2023-08-28T18:20:46.237914Z"
    }
   }
  },
  {
   "cell_type": "code",
   "execution_count": 43,
   "outputs": [],
   "source": [
    "self = MC\n",
    "p_u_to_vs2 = mcmc.MCMC_girg.get_p_u_to_vs_pytorch(\n",
    "    self.weights, self.pts, self.alpha, self.const_in,\n",
    "    u_index, self.failure_prob, self.cl_mixin_prob,\n",
    "    self.c_cl)"
   ],
   "metadata": {
    "collapsed": false,
    "ExecuteTime": {
     "start_time": "2023-08-28T18:20:47.118192Z",
     "end_time": "2023-08-28T18:20:47.127377Z"
    }
   }
  },
  {
   "cell_type": "code",
   "execution_count": 44,
   "outputs": [
    {
     "data": {
      "text/plain": "tensor([0.8500, 0.8500, 0.7399, 0.5584, 0.7198, 0.6458, 0.8408, 0.8206, 0.7534,\n        0.8500, 0.5115, 0.7803, 0.6862, 0.6862, 0.6727, 0.8500, 0.8500, 0.6727,\n        0.8500, 0.6862, 0.8500, 0.6324, 0.8004, 0.6189, 0.8500, 0.8500, 0.8500,\n        0.6996, 0.6593, 0.7467, 0.8500, 0.7399, 0.5920, 0.6324, 0.7937, 0.7668,\n        0.7467, 0.6660, 0.5719, 0.8500, 0.5853, 0.8500, 0.8500, 0.6256, 0.8475,\n        0.7668, 0.8072, 0.6055, 0.7668, 0.6391, 0.6055, 0.7870, 0.6324, 0.8206,\n        0.5853, 0.7265, 0.8500, 0.7870, 0.8500, 0.7467, 0.8475, 0.7937, 0.6862,\n        0.5988, 0.8500, 0.6458, 0.6593, 0.8500, 0.7467, 0.6458, 0.6862, 0.7332,\n        0.5920, 0.8500, 0.6929, 0.6324, 0.6862, 0.6794, 0.6212, 0.8500, 0.6324,\n        0.8500, 0.8500, 0.8500, 0.6794, 0.5853, 0.5392, 0.7332, 0.7534, 0.6862,\n        0.7668, 0.7467, 0.6458, 0.8500, 0.7534, 0.8475, 0.5719, 0.8500, 0.6660,\n        0.6458])"
     },
     "execution_count": 44,
     "metadata": {},
     "output_type": "execute_result"
    }
   ],
   "source": [
    "p_u_to_vs2"
   ],
   "metadata": {
    "collapsed": false,
    "ExecuteTime": {
     "start_time": "2023-08-28T18:20:53.465322Z",
     "end_time": "2023-08-28T18:20:53.508805Z"
    }
   }
  },
  {
   "cell_type": "code",
   "execution_count": 11,
   "outputs": [],
   "source": [
    "u_index = 0\n",
    "x_u = MC.pts[u_index].clone()\n",
    "\n",
    "nhbs = list(MC.g.iterNeighbors(u_index))\n",
    "mean_pos = MC.pts[nhbs].mean(axis=0)\n",
    "\n",
    "self = MC\n",
    "num_proposals = 10\n",
    "\n",
    "x_u2s = torch.cat([\n",
    "    # near to current position\n",
    "    self.proposal_pytorch(num_proposals//4, self.d, sigma=3/self.n, x_u=x_u, p_normal=0.7),\n",
    "    # near to mean position\n",
    "    self.proposal_pytorch(num_proposals//4, self.d, sigma=3/self.n, x_u=mean_pos, p_normal=0.7),\n",
    "    # near to neighbours\n",
    "    self.proposal_pytorch(num_proposals//2, self.d, sigma=3/self.n,\n",
    "                  x_u=self.pts[nhbs][np.random.choice(len(nhbs), size=num_proposals//2)],\n",
    "                  p_normal=0.7).view((-1,) + x_u.shape),\n",
    "])"
   ],
   "metadata": {
    "collapsed": false,
    "ExecuteTime": {
     "start_time": "2023-08-28T18:12:27.223028Z",
     "end_time": "2023-08-28T18:12:27.246332Z"
    }
   }
  },
  {
   "cell_type": "code",
   "execution_count": 13,
   "outputs": [
    {
     "data": {
      "text/plain": "torch.Size([29, 2])"
     },
     "execution_count": 13,
     "metadata": {},
     "output_type": "execute_result"
    }
   ],
   "source": [
    "x_u2s.shape"
   ],
   "metadata": {
    "collapsed": false,
    "ExecuteTime": {
     "start_time": "2023-08-28T18:12:32.782886Z",
     "end_time": "2023-08-28T18:12:32.789510Z"
    }
   }
  },
  {
   "cell_type": "code",
   "execution_count": 23,
   "outputs": [
    {
     "data": {
      "text/plain": "PointsCube([0.43323099, 0.23920836])"
     },
     "execution_count": 23,
     "metadata": {},
     "output_type": "execute_result"
    }
   ],
   "source": [
    "x_u"
   ],
   "metadata": {
    "collapsed": false,
    "ExecuteTime": {
     "start_time": "2023-08-28T17:52:14.223875Z",
     "end_time": "2023-08-28T17:52:14.274839Z"
    }
   }
  },
  {
   "cell_type": "code",
   "execution_count": 25,
   "outputs": [
    {
     "ename": "TypeError",
     "evalue": "unsupported operand type(s) for +: 'PointsCube' and 'Tensor'",
     "output_type": "error",
     "traceback": [
      "\u001B[0;31m---------------------------------------------------------------------------\u001B[0m",
      "\u001B[0;31mTypeError\u001B[0m                                 Traceback (most recent call last)",
      "Cell \u001B[0;32mIn[25], line 4\u001B[0m\n\u001B[1;32m      2\u001B[0m sigma\u001B[38;5;241m=\u001B[39m\u001B[38;5;241m0.01\u001B[39m\n\u001B[1;32m      3\u001B[0m uniforms \u001B[38;5;241m=\u001B[39m torch\u001B[38;5;241m.\u001B[39mrand(size\u001B[38;5;241m=\u001B[39msize)\n\u001B[0;32m----> 4\u001B[0m normals \u001B[38;5;241m=\u001B[39m torch\u001B[38;5;241m.\u001B[39mclamp(\u001B[43mx_u\u001B[49m\u001B[43m \u001B[49m\u001B[38;5;241;43m+\u001B[39;49m\u001B[43m \u001B[49m\u001B[43mtorch\u001B[49m\u001B[38;5;241;43m.\u001B[39;49m\u001B[43mnormal\u001B[49m\u001B[43m(\u001B[49m\u001B[38;5;241;43m0\u001B[39;49m\u001B[43m,\u001B[49m\u001B[43m \u001B[49m\u001B[43msigma\u001B[49m\u001B[43m,\u001B[49m\u001B[43msize\u001B[49m\u001B[38;5;241;43m=\u001B[39;49m\u001B[43msize\u001B[49m\u001B[43m)\u001B[49m, \u001B[38;5;241m0\u001B[39m, \u001B[38;5;241m1\u001B[39m)\n\u001B[1;32m      5\u001B[0m masks \u001B[38;5;241m=\u001B[39m torch\u001B[38;5;241m.\u001B[39mbernoulli(torch\u001B[38;5;241m.\u001B[39mones(size) \u001B[38;5;241m*\u001B[39m p_normal)\n",
      "\u001B[0;31mTypeError\u001B[0m: unsupported operand type(s) for +: 'PointsCube' and 'Tensor'"
     ]
    }
   ],
   "source": [
    "size = (4, 2)\n",
    "sigma=0.01\n",
    "uniforms = torch.rand(size=size)\n",
    "normals = torch.clamp(x_u + torch.normal(0, sigma,size=size), 0, 1)\n",
    "masks = torch.bernoulli(torch.ones(size) * p_normal)"
   ],
   "metadata": {
    "collapsed": false
   }
  },
  {
   "cell_type": "code",
   "execution_count": 18,
   "outputs": [
    {
     "data": {
      "text/plain": "tensor([[0.2566, 0.2763],\n        [0.5554, 0.0358],\n        [0.3582, 0.5824]])"
     },
     "execution_count": 18,
     "metadata": {},
     "output_type": "execute_result"
    }
   ],
   "source": [
    "import torch\n",
    "torch.rand(size=(3,2))"
   ],
   "metadata": {
    "collapsed": false,
    "ExecuteTime": {
     "start_time": "2023-08-28T17:48:44.832052Z",
     "end_time": "2023-08-28T17:48:44.871864Z"
    }
   }
  },
  {
   "cell_type": "code",
   "execution_count": 22,
   "outputs": [
    {
     "data": {
      "text/plain": "tensor([[0.0017, 0.0222],\n        [0.0000, 0.0000],\n        [0.0048, 0.0161]])"
     },
     "execution_count": 22,
     "metadata": {},
     "output_type": "execute_result"
    }
   ],
   "source": [
    "torch.clamp(torch.normal(0, 0.01, size=(3,2)), 0, 1)"
   ],
   "metadata": {
    "collapsed": false,
    "ExecuteTime": {
     "start_time": "2023-08-28T17:51:26.436543Z",
     "end_time": "2023-08-28T17:51:26.476265Z"
    }
   }
  },
  {
   "cell_type": "code",
   "execution_count": 15,
   "outputs": [
    {
     "data": {
      "text/plain": "PointsCube([[0.65155597, 0.39935438],\n            [0.53066949, 0.52614558],\n            [0.51379326, 0.56633007],\n            [0.7136102 , 0.6277372 ],\n            [0.54132212, 0.61228731]])"
     },
     "execution_count": 15,
     "metadata": {},
     "output_type": "execute_result"
    }
   ],
   "source": [
    "MC.pts[nhbs][np.random.choice(len(nhbs), size=10//2)]"
   ],
   "metadata": {
    "collapsed": false,
    "ExecuteTime": {
     "start_time": "2023-08-28T17:47:33.080681Z",
     "end_time": "2023-08-28T17:47:33.093392Z"
    }
   }
  },
  {
   "cell_type": "code",
   "execution_count": 65,
   "outputs": [
    {
     "name": "stderr",
     "output_type": "stream",
     "text": [
      "/cluster/home/bdayan/girgs/benji_src/benji_girgs/points.py:239: SyntaxWarning: assertion is always true, perhaps remove parentheses?\n",
      "  assert (n, d == other.shape)\n"
     ]
    },
    {
     "data": {
      "text/plain": "<module 'benji_girgs.points' from '/cluster/home/bdayan/girgs/benji_src/benji_girgs/points.py'>"
     },
     "execution_count": 65,
     "metadata": {},
     "output_type": "execute_result"
    }
   ],
   "source": [
    "import torch\n",
    "pts = torch.Tensor(MC.pts)\n",
    "\n",
    "import importlib\n",
    "importlib.reload(points)\n",
    "\n",
    "HANDLED_FUNCTIONS={}\n",
    "class PointsCubePytorch(points.PointsTrue):\n",
    "    def __new__(cls, input_array):\n",
    "        # Input array is an already formed ndarray instance\n",
    "        # We first cast to be our class type\n",
    "        obj = torch.as_tensor(input_array)\n",
    "        obj.__cls__ = cls\n",
    "\n",
    "        # Finally, we must return the newly created object:\n",
    "        return obj\n",
    "\n",
    "    @classmethod\n",
    "    def __torch_function__(cls, func, types, args=(), kwargs=None):\n",
    "        if kwargs is None:\n",
    "            kwargs = {}\n",
    "        if func not in HANDLED_FUNCTIONS or not all(\n",
    "            issubclass(t, (torch.Tensor, PointsCubePytorch))\n",
    "            for t in types\n",
    "        ):\n",
    "            return NotImplemented\n",
    "        return HANDLED_FUNCTIONS[func](*args, **kwargs)\n",
    "\n",
    "    def tempaaa(self):\n",
    "        print('hi')\n",
    "\n",
    "\n",
    "class PointsCubePytorch(torch.Tensor):\n",
    "    def __new__(cls, x):\n",
    "        return super().__new__(cls, x)\n",
    "\n",
    "    def dist(self, other, b_vec=None):\n",
    "        return 2*get_dist_cube(self.to(torch.float16), other.to(torch.float16), b_vec=b_vec)\n",
    "\n",
    "\n",
    "ptstemp = PointsCubePytorch(MC.pts)"
   ],
   "metadata": {
    "collapsed": false,
    "ExecuteTime": {
     "start_time": "2023-08-28T17:39:22.573560Z",
     "end_time": "2023-08-28T17:39:22.615944Z"
    }
   }
  },
  {
   "cell_type": "code",
   "execution_count": 66,
   "outputs": [],
   "source": [
    "foo = points.PointsCubePytorch(MC.pts)"
   ],
   "metadata": {
    "collapsed": false,
    "ExecuteTime": {
     "start_time": "2023-08-28T17:39:22.883984Z",
     "end_time": "2023-08-28T17:39:22.884114Z"
    }
   }
  },
  {
   "cell_type": "code",
   "execution_count": 67,
   "outputs": [
    {
     "data": {
      "text/plain": "tensor([-0.4826,  0.0928, -0.6153,  0.7554])"
     },
     "execution_count": 67,
     "metadata": {},
     "output_type": "execute_result"
    }
   ],
   "source": [
    "foo[:4].dist(foo[4:8])"
   ],
   "metadata": {
    "collapsed": false,
    "ExecuteTime": {
     "start_time": "2023-08-28T17:39:23.184819Z",
     "end_time": "2023-08-28T17:39:23.194410Z"
    }
   }
  },
  {
   "cell_type": "code",
   "execution_count": 40,
   "outputs": [],
   "source": [
    "foo = PointsCubePytorch(MC.pts)"
   ],
   "metadata": {
    "collapsed": false,
    "ExecuteTime": {
     "start_time": "2023-08-28T17:28:09.164219Z",
     "end_time": "2023-08-28T17:28:09.254629Z"
    }
   }
  },
  {
   "cell_type": "code",
   "execution_count": 52,
   "outputs": [
    {
     "data": {
      "text/plain": "torch.return_types.max"
     },
     "execution_count": 52,
     "metadata": {},
     "output_type": "execute_result"
    }
   ],
   "source": [
    "a = (foo[:4] - foo[4:8]).max(axis=-1)\n"
   ],
   "metadata": {
    "collapsed": false,
    "ExecuteTime": {
     "start_time": "2023-08-28T17:35:14.771748Z",
     "end_time": "2023-08-28T17:35:14.826297Z"
    }
   }
  },
  {
   "cell_type": "code",
   "execution_count": 56,
   "outputs": [
    {
     "data": {
      "text/plain": "__main__.PointsCubePytorch"
     },
     "execution_count": 56,
     "metadata": {},
     "output_type": "execute_result"
    }
   ],
   "source": [
    "type(foo.max(axis=-1).values)"
   ],
   "metadata": {
    "collapsed": false,
    "ExecuteTime": {
     "start_time": "2023-08-28T17:36:22.274467Z",
     "end_time": "2023-08-28T17:36:22.318939Z"
    }
   }
  },
  {
   "cell_type": "code",
   "execution_count": 20,
   "outputs": [],
   "source": [
    "foo = torch.as_tensor(MC.pts)\n",
    "foo.__cls__ = PointsCubePytorch"
   ],
   "metadata": {
    "collapsed": false,
    "ExecuteTime": {
     "start_time": "2023-08-28T17:23:41.752168Z",
     "end_time": "2023-08-28T17:23:41.869358Z"
    }
   }
  },
  {
   "cell_type": "code",
   "execution_count": 11,
   "outputs": [
    {
     "data": {
      "text/plain": "tensor([[0.3048, 0.0400],\n        [0.5747, 0.5539],\n        [0.3184, 0.0659],\n        [0.2707, 0.9800],\n        [0.5461, 0.2844],\n        [0.7471, 0.5075],\n        [0.6261, 0.4642],\n        [0.5636, 0.6023],\n        [0.5175, 0.3814],\n        [0.0000, 0.9810],\n        [0.5882, 0.5308],\n        [0.0100, 0.9730],\n        [0.7805, 0.2310],\n        [0.6553, 0.8335],\n        [0.5172, 0.2835],\n        [0.7558, 0.0000],\n        [0.4442, 0.5323],\n        [0.5281, 0.9500],\n        [0.4364, 0.4377],\n        [0.5922, 0.7466],\n        [0.4739, 0.6585],\n        [0.0637, 0.6662],\n        [0.3597, 0.2179],\n        [0.9800, 0.9900],\n        [0.3862, 0.1139],\n        [0.4716, 0.0300],\n        [0.9700, 0.9424],\n        [0.1858, 0.4113],\n        [0.6526, 0.8218],\n        [0.3600, 0.6341],\n        [0.3635, 0.4050],\n        [0.2338, 0.2396],\n        [0.6007, 0.5199],\n        [0.6170, 0.5422],\n        [0.5747, 0.5539],\n        [0.3112, 0.7113],\n        [0.9500, 0.8390],\n        [0.2984, 0.7310],\n        [0.7168, 0.9482],\n        [0.9081, 0.2264],\n        [0.8274, 0.0100],\n        [0.6321, 0.4264],\n        [0.5747, 0.5539],\n        [0.5747, 0.5539],\n        [0.6898, 0.6753],\n        [0.2805, 0.7622],\n        [0.6062, 0.6335],\n        [0.5312, 0.4139],\n        [0.5155, 0.5606],\n        [0.3236, 0.4220],\n        [0.5747, 0.5539],\n        [0.1368, 0.6591],\n        [0.4183, 0.8682],\n        [0.6289, 0.4854],\n        [0.0500, 0.4564],\n        [0.2746, 0.2762],\n        [0.3756, 0.4366],\n        [0.0300, 0.4937],\n        [0.5747, 0.5539],\n        [0.9900, 0.9700],\n        [0.9500, 0.3310],\n        [0.8186, 0.3753],\n        [0.3152, 0.1626],\n        [0.6106, 0.6580],\n        [0.4534, 0.5744],\n        [0.1454, 0.2526],\n        [0.5747, 0.5539],\n        [0.3047, 0.3441],\n        [0.3732, 0.6697],\n        [0.6266, 0.6244],\n        [0.2406, 0.8221],\n        [0.0644, 0.7912],\n        [0.0902, 0.6511],\n        [0.3288, 0.4466],\n        [0.9600, 0.3971],\n        [0.2681, 0.4211],\n        [0.5747, 0.5539],\n        [0.3275, 0.4705],\n        [0.2986, 0.2433],\n        [0.4332, 0.5098],\n        [0.1863, 0.3522],\n        [0.1096, 0.9600],\n        [0.9189, 0.0200],\n        [0.3881, 0.4175],\n        [0.5747, 0.5539],\n        [0.4492, 0.0500],\n        [0.8399, 0.8282],\n        [0.5747, 0.5539],\n        [0.4220, 0.4360],\n        [0.5105, 0.6144],\n        [0.6915, 0.1406],\n        [0.0200, 0.7344],\n        [0.1669, 0.8710],\n        [0.1773, 0.4592],\n        [0.0400, 0.8371],\n        [0.0995, 0.9500],\n        [0.5810, 0.6342],\n        [0.3507, 0.8451],\n        [0.5901, 0.5095],\n        [0.4575, 0.7004]], dtype=torch.float64)"
     },
     "execution_count": 11,
     "metadata": {},
     "output_type": "execute_result"
    }
   ],
   "source": [
    "torch.as_tensor(MC.pts)"
   ],
   "metadata": {
    "collapsed": false,
    "ExecuteTime": {
     "start_time": "2023-08-28T17:18:22.065421Z",
     "end_time": "2023-08-28T17:18:22.090730Z"
    }
   }
  },
  {
   "cell_type": "code",
   "execution_count": 7,
   "outputs": [
    {
     "data": {
      "text/plain": "190"
     },
     "execution_count": 7,
     "metadata": {},
     "output_type": "execute_result"
    }
   ],
   "source": [
    "num_pt_proposals=int(15 * np.log(g.numberOfNodes()) * d2 ** 0.5)\n",
    "num_alpha_proposals=10\n",
    "num_const_proposals=10\n",
    "num_loops=7 + d2 - 1\n",
    "\n",
    "num_pt_proposals"
   ],
   "metadata": {
    "collapsed": false,
    "ExecuteTime": {
     "start_time": "2023-08-28T16:18:37.545484Z",
     "end_time": "2023-08-28T16:18:37.571715Z"
    }
   }
  },
  {
   "cell_type": "code",
   "execution_count": 8,
   "outputs": [
    {
     "data": {
      "text/plain": "0.03945946118870356"
     },
     "execution_count": 8,
     "metadata": {},
     "output_type": "execute_result"
    }
   ],
   "source": [
    "MC.const"
   ],
   "metadata": {
    "collapsed": false,
    "ExecuteTime": {
     "start_time": "2023-08-28T16:19:15.123983Z",
     "end_time": "2023-08-28T16:19:15.170436Z"
    }
   }
  },
  {
   "cell_type": "code",
   "execution_count": 11,
   "outputs": [],
   "source": [
    "from tqdm import tqdm\n",
    "self = MC\n",
    "def ordered_point_propose_compare_update(self, num_proposals=100):\n",
    "    \"\"\"Similar to mercator, does a round of ordered updates.\n",
    "    top weight nodes are updated first.\n",
    "    \"\"\"\n",
    "    for u_index in tqdm(np.argsort(-self.weights)):  # largest to smallest\n",
    "        x_u = self.pts[u_index].copy()\n",
    "\n",
    "        nhbs = list(self.g.iterNeighbors(u_index))\n",
    "        mean_pos = self.pts[nhbs].mean(axis=0)\n",
    "\n",
    "        x_u2s = np.concatenate([\n",
    "            # near to current position\n",
    "            self.proposal(num_proposals//4, self.d, sigma=0.01, x_u=x_u, p_normal=0.7),\n",
    "            # near to mean position\n",
    "            self.proposal(num_proposals//4, self.d, sigma=0.01, x_u=mean_pos, p_normal=0.7),\n",
    "            # near to neighbours\n",
    "            self.proposal(num_proposals//2, self.d, sigma=0.01,\n",
    "                          x_u=self.pts[nhbs][np.random.choice(len(nhbs), size=num_proposals//2)],\n",
    "                          p_normal=0.7).reshape((-1,) + x_u.shape),\n",
    "        ])\n",
    "\n",
    "        x_u2s = np.concatenate([x_u2s, [mean_pos, x_u]])\n",
    "\n",
    "        lls = []\n",
    "        for x_u2 in x_u2s:\n",
    "            self.pts[u_index] = x_u2\n",
    "            p_u_to_vs2 = mcmc.MCMC_girg.get_p_u_to_vs(\n",
    "                self.weights, self.pts, self.alpha, self.const_in,\n",
    "                u_index, self.failure_prob, self.cl_mixin_prob,\n",
    "                self.c_cl)\n",
    "            u_ll_new = self.p_u_to_vs_to_ll(self.g, u_index, p_u_to_vs2)\n",
    "            lls.append(u_ll_new)\n",
    "\n",
    "\n",
    "        self.pts[u_index] = x_u2s[np.argmax(lls)]"
   ],
   "metadata": {
    "collapsed": false,
    "ExecuteTime": {
     "start_time": "2023-08-28T16:20:34.311073Z",
     "end_time": "2023-08-28T16:20:34.323763Z"
    }
   }
  },
  {
   "cell_type": "code",
   "execution_count": 15,
   "outputs": [
    {
     "name": "stderr",
     "output_type": "stream",
     "text": [
      "  4%|▍         | 322/8000 [01:07<26:40,  4.80it/s]\n"
     ]
    },
    {
     "ename": "KeyboardInterrupt",
     "evalue": "",
     "output_type": "error",
     "traceback": [
      "\u001B[0;31m---------------------------------------------------------------------------\u001B[0m",
      "\u001B[0;31mAttributeError\u001B[0m                            Traceback (most recent call last)",
      "File \u001B[0;32m~/girgs/venvtemp/lib64/python3.8/site-packages/numpy/core/fromnumeric.py:3185\u001B[0m, in \u001B[0;36mndim\u001B[0;34m(a)\u001B[0m\n\u001B[1;32m   3184\u001B[0m \u001B[38;5;28;01mtry\u001B[39;00m:\n\u001B[0;32m-> 3185\u001B[0m     \u001B[38;5;28;01mreturn\u001B[39;00m \u001B[43ma\u001B[49m\u001B[38;5;241;43m.\u001B[39;49m\u001B[43mndim\u001B[49m\n\u001B[1;32m   3186\u001B[0m \u001B[38;5;28;01mexcept\u001B[39;00m \u001B[38;5;167;01mAttributeError\u001B[39;00m:\n",
      "\u001B[0;31mAttributeError\u001B[0m: 'float' object has no attribute 'ndim'",
      "\nDuring handling of the above exception, another exception occurred:\n",
      "\u001B[0;31mKeyboardInterrupt\u001B[0m                         Traceback (most recent call last)",
      "Cell \u001B[0;32mIn[15], line 2\u001B[0m\n\u001B[1;32m      1\u001B[0m MC\u001B[38;5;241m.\u001B[39mordered_point_propose_compare_update \u001B[38;5;241m=\u001B[39m ordered_point_propose_compare_update\n\u001B[0;32m----> 2\u001B[0m \u001B[43mMC\u001B[49m\u001B[38;5;241;43m.\u001B[39;49m\u001B[43mordered_point_propose_compare_update\u001B[49m\u001B[43m(\u001B[49m\u001B[38;5;241;43m20\u001B[39;49m\u001B[43m)\u001B[49m\n",
      "Cell \u001B[0;32mIn[11], line 29\u001B[0m, in \u001B[0;36mordered_point_propose_compare_update\u001B[0;34m(num_proposals)\u001B[0m\n\u001B[1;32m     27\u001B[0m \u001B[38;5;28;01mfor\u001B[39;00m x_u2 \u001B[38;5;129;01min\u001B[39;00m x_u2s:\n\u001B[1;32m     28\u001B[0m     \u001B[38;5;28mself\u001B[39m\u001B[38;5;241m.\u001B[39mpts[u_index] \u001B[38;5;241m=\u001B[39m x_u2\n\u001B[0;32m---> 29\u001B[0m     p_u_to_vs2 \u001B[38;5;241m=\u001B[39m \u001B[43mmcmc\u001B[49m\u001B[38;5;241;43m.\u001B[39;49m\u001B[43mMCMC_girg\u001B[49m\u001B[38;5;241;43m.\u001B[39;49m\u001B[43mget_p_u_to_vs\u001B[49m\u001B[43m(\u001B[49m\n\u001B[1;32m     30\u001B[0m \u001B[43m        \u001B[49m\u001B[38;5;28;43mself\u001B[39;49m\u001B[38;5;241;43m.\u001B[39;49m\u001B[43mweights\u001B[49m\u001B[43m,\u001B[49m\u001B[43m \u001B[49m\u001B[38;5;28;43mself\u001B[39;49m\u001B[38;5;241;43m.\u001B[39;49m\u001B[43mpts\u001B[49m\u001B[43m,\u001B[49m\u001B[43m \u001B[49m\u001B[38;5;28;43mself\u001B[39;49m\u001B[38;5;241;43m.\u001B[39;49m\u001B[43malpha\u001B[49m\u001B[43m,\u001B[49m\u001B[43m \u001B[49m\u001B[38;5;28;43mself\u001B[39;49m\u001B[38;5;241;43m.\u001B[39;49m\u001B[43mconst_in\u001B[49m\u001B[43m,\u001B[49m\n\u001B[1;32m     31\u001B[0m \u001B[43m        \u001B[49m\u001B[43mu_index\u001B[49m\u001B[43m,\u001B[49m\u001B[43m \u001B[49m\u001B[38;5;28;43mself\u001B[39;49m\u001B[38;5;241;43m.\u001B[39;49m\u001B[43mfailure_prob\u001B[49m\u001B[43m,\u001B[49m\u001B[43m \u001B[49m\u001B[38;5;28;43mself\u001B[39;49m\u001B[38;5;241;43m.\u001B[39;49m\u001B[43mcl_mixin_prob\u001B[49m\u001B[43m,\u001B[49m\n\u001B[1;32m     32\u001B[0m \u001B[43m        \u001B[49m\u001B[38;5;28;43mself\u001B[39;49m\u001B[38;5;241;43m.\u001B[39;49m\u001B[43mc_cl\u001B[49m\u001B[43m)\u001B[49m\n\u001B[1;32m     33\u001B[0m     u_ll_new \u001B[38;5;241m=\u001B[39m \u001B[38;5;28mself\u001B[39m\u001B[38;5;241m.\u001B[39mp_u_to_vs_to_ll(\u001B[38;5;28mself\u001B[39m\u001B[38;5;241m.\u001B[39mg, u_index, p_u_to_vs2)\n\u001B[1;32m     34\u001B[0m     lls\u001B[38;5;241m.\u001B[39mappend(u_ll_new)\n",
      "File \u001B[0;32m~/girgs/benji_src/benji_girgs/mcmc.py:286\u001B[0m, in \u001B[0;36mMCMC_girg.get_p_u_to_vs\u001B[0;34m(weights, pts, alpha, const_in, u_index, failure_prob, cl_mixin, c_cl)\u001B[0m\n\u001B[1;32m    284\u001B[0m     p_u_to_vs_cl \u001B[38;5;241m=\u001B[39m np\u001B[38;5;241m.\u001B[39mminimum(\u001B[38;5;241m1\u001B[39m, c_cl \u001B[38;5;241m*\u001B[39m weights[u_index] \u001B[38;5;241m*\u001B[39m weights)\n\u001B[1;32m    285\u001B[0m     p_u_to_vs \u001B[38;5;241m=\u001B[39m (\u001B[38;5;241m1\u001B[39m \u001B[38;5;241m-\u001B[39m cl_mixin) \u001B[38;5;241m*\u001B[39m p_u_to_vs \u001B[38;5;241m+\u001B[39m cl_mixin \u001B[38;5;241m*\u001B[39m p_u_to_vs_cl\n\u001B[0;32m--> 286\u001B[0m p_u_to_vs \u001B[38;5;241m=\u001B[39m \u001B[43mnp\u001B[49m\u001B[38;5;241;43m.\u001B[39;49m\u001B[43mclip\u001B[49m\u001B[43m(\u001B[49m\u001B[43mp_u_to_vs\u001B[49m\u001B[43m,\u001B[49m\u001B[43m \u001B[49m\u001B[43meps\u001B[49m\u001B[43m,\u001B[49m\u001B[43m \u001B[49m\u001B[38;5;241;43m1\u001B[39;49m\u001B[43m \u001B[49m\u001B[38;5;241;43m-\u001B[39;49m\u001B[43m \u001B[49m\u001B[43meps\u001B[49m\u001B[43m)\u001B[49m\n\u001B[1;32m    287\u001B[0m \u001B[38;5;28;01mreturn\u001B[39;00m p_u_to_vs\n",
      "File \u001B[0;32m<__array_function__ internals>:200\u001B[0m, in \u001B[0;36mclip\u001B[0;34m(*args, **kwargs)\u001B[0m\n",
      "File \u001B[0;32m~/girgs/venvtemp/lib64/python3.8/site-packages/numpy/core/fromnumeric.py:2180\u001B[0m, in \u001B[0;36mclip\u001B[0;34m(a, a_min, a_max, out, **kwargs)\u001B[0m\n\u001B[1;32m   2111\u001B[0m \u001B[38;5;129m@array_function_dispatch\u001B[39m(_clip_dispatcher)\n\u001B[1;32m   2112\u001B[0m \u001B[38;5;28;01mdef\u001B[39;00m \u001B[38;5;21mclip\u001B[39m(a, a_min, a_max, out\u001B[38;5;241m=\u001B[39m\u001B[38;5;28;01mNone\u001B[39;00m, \u001B[38;5;241m*\u001B[39m\u001B[38;5;241m*\u001B[39mkwargs):\n\u001B[1;32m   2113\u001B[0m     \u001B[38;5;124;03m\"\"\"\u001B[39;00m\n\u001B[1;32m   2114\u001B[0m \u001B[38;5;124;03m    Clip (limit) the values in an array.\u001B[39;00m\n\u001B[1;32m   2115\u001B[0m \n\u001B[0;32m   (...)\u001B[0m\n\u001B[1;32m   2178\u001B[0m \n\u001B[1;32m   2179\u001B[0m \u001B[38;5;124;03m    \"\"\"\u001B[39;00m\n\u001B[0;32m-> 2180\u001B[0m     \u001B[38;5;28;01mreturn\u001B[39;00m \u001B[43m_wrapfunc\u001B[49m\u001B[43m(\u001B[49m\u001B[43ma\u001B[49m\u001B[43m,\u001B[49m\u001B[43m \u001B[49m\u001B[38;5;124;43m'\u001B[39;49m\u001B[38;5;124;43mclip\u001B[39;49m\u001B[38;5;124;43m'\u001B[39;49m\u001B[43m,\u001B[49m\u001B[43m \u001B[49m\u001B[43ma_min\u001B[49m\u001B[43m,\u001B[49m\u001B[43m \u001B[49m\u001B[43ma_max\u001B[49m\u001B[43m,\u001B[49m\u001B[43m \u001B[49m\u001B[43mout\u001B[49m\u001B[38;5;241;43m=\u001B[39;49m\u001B[43mout\u001B[49m\u001B[43m,\u001B[49m\u001B[43m \u001B[49m\u001B[38;5;241;43m*\u001B[39;49m\u001B[38;5;241;43m*\u001B[39;49m\u001B[43mkwargs\u001B[49m\u001B[43m)\u001B[49m\n",
      "File \u001B[0;32m~/girgs/venvtemp/lib64/python3.8/site-packages/numpy/core/fromnumeric.py:57\u001B[0m, in \u001B[0;36m_wrapfunc\u001B[0;34m(obj, method, *args, **kwds)\u001B[0m\n\u001B[1;32m     54\u001B[0m     \u001B[38;5;28;01mreturn\u001B[39;00m _wrapit(obj, method, \u001B[38;5;241m*\u001B[39margs, \u001B[38;5;241m*\u001B[39m\u001B[38;5;241m*\u001B[39mkwds)\n\u001B[1;32m     56\u001B[0m \u001B[38;5;28;01mtry\u001B[39;00m:\n\u001B[0;32m---> 57\u001B[0m     \u001B[38;5;28;01mreturn\u001B[39;00m \u001B[43mbound\u001B[49m\u001B[43m(\u001B[49m\u001B[38;5;241;43m*\u001B[39;49m\u001B[43margs\u001B[49m\u001B[43m,\u001B[49m\u001B[43m \u001B[49m\u001B[38;5;241;43m*\u001B[39;49m\u001B[38;5;241;43m*\u001B[39;49m\u001B[43mkwds\u001B[49m\u001B[43m)\u001B[49m\n\u001B[1;32m     58\u001B[0m \u001B[38;5;28;01mexcept\u001B[39;00m \u001B[38;5;167;01mTypeError\u001B[39;00m:\n\u001B[1;32m     59\u001B[0m     \u001B[38;5;66;03m# A TypeError occurs if the object does have such a method in its\u001B[39;00m\n\u001B[1;32m     60\u001B[0m     \u001B[38;5;66;03m# class, but its signature is not identical to that of NumPy's. This\u001B[39;00m\n\u001B[0;32m   (...)\u001B[0m\n\u001B[1;32m     64\u001B[0m     \u001B[38;5;66;03m# Call _wrapit from within the except clause to ensure a potential\u001B[39;00m\n\u001B[1;32m     65\u001B[0m     \u001B[38;5;66;03m# exception has a traceback chain.\u001B[39;00m\n\u001B[1;32m     66\u001B[0m     \u001B[38;5;28;01mreturn\u001B[39;00m _wrapit(obj, method, \u001B[38;5;241m*\u001B[39margs, \u001B[38;5;241m*\u001B[39m\u001B[38;5;241m*\u001B[39mkwds)\n",
      "File \u001B[0;32m~/girgs/venvtemp/lib64/python3.8/site-packages/numpy/core/_methods.py:136\u001B[0m, in \u001B[0;36m_clip\u001B[0;34m(a, min, max, out, casting, **kwargs)\u001B[0m\n\u001B[1;32m    134\u001B[0m \u001B[38;5;28;01mif\u001B[39;00m \u001B[38;5;129;01mnot\u001B[39;00m _clip_dep_is_byte_swapped(a) \u001B[38;5;129;01mand\u001B[39;00m \u001B[38;5;129;01mnot\u001B[39;00m _clip_dep_is_byte_swapped(out):\n\u001B[1;32m    135\u001B[0m     using_deprecated_nan \u001B[38;5;241m=\u001B[39m \u001B[38;5;28;01mFalse\u001B[39;00m\n\u001B[0;32m--> 136\u001B[0m     \u001B[38;5;28;01mif\u001B[39;00m \u001B[43m_clip_dep_is_scalar_nan\u001B[49m\u001B[43m(\u001B[49m\u001B[38;5;28;43mmin\u001B[39;49m\u001B[43m)\u001B[49m:\n\u001B[1;32m    137\u001B[0m         \u001B[38;5;28mmin\u001B[39m \u001B[38;5;241m=\u001B[39m \u001B[38;5;241m-\u001B[39m\u001B[38;5;28mfloat\u001B[39m(\u001B[38;5;124m'\u001B[39m\u001B[38;5;124minf\u001B[39m\u001B[38;5;124m'\u001B[39m)\n\u001B[1;32m    138\u001B[0m         using_deprecated_nan \u001B[38;5;241m=\u001B[39m \u001B[38;5;28;01mTrue\u001B[39;00m\n",
      "File \u001B[0;32m~/girgs/venvtemp/lib64/python3.8/site-packages/numpy/core/_methods.py:96\u001B[0m, in \u001B[0;36m_clip_dep_is_scalar_nan\u001B[0;34m(a)\u001B[0m\n\u001B[1;32m     93\u001B[0m \u001B[38;5;28;01mdef\u001B[39;00m \u001B[38;5;21m_clip_dep_is_scalar_nan\u001B[39m(a):\n\u001B[1;32m     94\u001B[0m     \u001B[38;5;66;03m# guarded to protect circular imports\u001B[39;00m\n\u001B[1;32m     95\u001B[0m     \u001B[38;5;28;01mfrom\u001B[39;00m \u001B[38;5;21;01mnumpy\u001B[39;00m\u001B[38;5;21;01m.\u001B[39;00m\u001B[38;5;21;01mcore\u001B[39;00m\u001B[38;5;21;01m.\u001B[39;00m\u001B[38;5;21;01mfromnumeric\u001B[39;00m \u001B[38;5;28;01mimport\u001B[39;00m ndim\n\u001B[0;32m---> 96\u001B[0m     \u001B[38;5;28;01mif\u001B[39;00m \u001B[43mndim\u001B[49m\u001B[43m(\u001B[49m\u001B[43ma\u001B[49m\u001B[43m)\u001B[49m \u001B[38;5;241m!=\u001B[39m \u001B[38;5;241m0\u001B[39m:\n\u001B[1;32m     97\u001B[0m         \u001B[38;5;28;01mreturn\u001B[39;00m \u001B[38;5;28;01mFalse\u001B[39;00m\n\u001B[1;32m     98\u001B[0m     \u001B[38;5;28;01mtry\u001B[39;00m:\n",
      "File \u001B[0;32m<__array_function__ internals>:200\u001B[0m, in \u001B[0;36mndim\u001B[0;34m(*args, **kwargs)\u001B[0m\n",
      "File \u001B[0;32m~/girgs/venvtemp/lib64/python3.8/site-packages/numpy/core/fromnumeric.py:3185\u001B[0m, in \u001B[0;36mndim\u001B[0;34m(a)\u001B[0m\n\u001B[1;32m   3154\u001B[0m \u001B[38;5;124;03m\"\"\"\u001B[39;00m\n\u001B[1;32m   3155\u001B[0m \u001B[38;5;124;03mReturn the number of dimensions of an array.\u001B[39;00m\n\u001B[1;32m   3156\u001B[0m \n\u001B[0;32m   (...)\u001B[0m\n\u001B[1;32m   3182\u001B[0m \n\u001B[1;32m   3183\u001B[0m \u001B[38;5;124;03m\"\"\"\u001B[39;00m\n\u001B[1;32m   3184\u001B[0m \u001B[38;5;28;01mtry\u001B[39;00m:\n\u001B[0;32m-> 3185\u001B[0m     \u001B[38;5;28;01mreturn\u001B[39;00m \u001B[43ma\u001B[49m\u001B[38;5;241;43m.\u001B[39;49m\u001B[43mndim\u001B[49m\n\u001B[1;32m   3186\u001B[0m \u001B[38;5;28;01mexcept\u001B[39;00m \u001B[38;5;167;01mAttributeError\u001B[39;00m:\n\u001B[1;32m   3187\u001B[0m     \u001B[38;5;28;01mreturn\u001B[39;00m asarray(a)\u001B[38;5;241m.\u001B[39mndim\n",
      "\u001B[0;31mKeyboardInterrupt\u001B[0m: "
     ]
    }
   ],
   "source": [
    "MC.ordered_point_propose_compare_update = ordered_point_propose_compare_update\n",
    "MC.ordered_point_propose_compare_update(20)"
   ],
   "metadata": {
    "collapsed": false
   }
  },
  {
   "cell_type": "code",
   "execution_count": 16,
   "outputs": [
    {
     "ename": "ModuleNotFoundError",
     "evalue": "No module named 'pytorch'",
     "output_type": "error",
     "traceback": [
      "\u001B[0;31m---------------------------------------------------------------------------\u001B[0m",
      "\u001B[0;31mModuleNotFoundError\u001B[0m                       Traceback (most recent call last)",
      "Cell \u001B[0;32mIn[16], line 1\u001B[0m\n\u001B[0;32m----> 1\u001B[0m \u001B[38;5;28;01mimport\u001B[39;00m \u001B[38;5;21;01mpytorch\u001B[39;00m\n",
      "\u001B[0;31mModuleNotFoundError\u001B[0m: No module named 'pytorch'"
     ]
    }
   ],
   "source": [
    "import pytorch\n"
   ],
   "metadata": {
    "collapsed": false
   }
  },
  {
   "cell_type": "code",
   "execution_count": 18,
   "outputs": [
    {
     "ename": "ModuleNotFoundError",
     "evalue": "No module named 'torch'",
     "output_type": "error",
     "traceback": [
      "\u001B[0;31m---------------------------------------------------------------------------\u001B[0m",
      "\u001B[0;31mModuleNotFoundError\u001B[0m                       Traceback (most recent call last)",
      "Cell \u001B[0;32mIn[18], line 1\u001B[0m\n\u001B[0;32m----> 1\u001B[0m \u001B[38;5;28;01mimport\u001B[39;00m \u001B[38;5;21;01mtorch\u001B[39;00m\n",
      "\u001B[0;31mModuleNotFoundError\u001B[0m: No module named 'torch'"
     ]
    }
   ],
   "source": [
    "import torch"
   ],
   "metadata": {
    "collapsed": false
   }
  },
  {
   "cell_type": "code",
   "execution_count": 1,
   "outputs": [
    {
     "ename": "ModuleNotFoundError",
     "evalue": "No module named 'torch'",
     "output_type": "error",
     "traceback": [
      "\u001B[0;31m---------------------------------------------------------------------------\u001B[0m",
      "\u001B[0;31mModuleNotFoundError\u001B[0m                       Traceback (most recent call last)",
      "Cell \u001B[0;32mIn[1], line 1\u001B[0m\n\u001B[0;32m----> 1\u001B[0m \u001B[38;5;28;01mimport\u001B[39;00m \u001B[38;5;21;01mtorch\u001B[39;00m\n",
      "\u001B[0;31mModuleNotFoundError\u001B[0m: No module named 'torch'"
     ]
    }
   ],
   "source": [
    "import torch"
   ],
   "metadata": {
    "collapsed": false
   }
  },
  {
   "cell_type": "code",
   "execution_count": null,
   "outputs": [],
   "source": [],
   "metadata": {
    "collapsed": false
   }
  }
 ],
 "metadata": {
  "kernelspec": {
   "name": "girgenv_higherdims",
   "language": "python",
   "display_name": "girgenv_higherdims"
  },
  "language_info": {
   "codemirror_mode": {
    "name": "ipython",
    "version": 2
   },
   "file_extension": ".py",
   "mimetype": "text/x-python",
   "name": "python",
   "nbconvert_exporter": "python",
   "pygments_lexer": "ipython2",
   "version": "2.7.6"
  }
 },
 "nbformat": 4,
 "nbformat_minor": 0
}
