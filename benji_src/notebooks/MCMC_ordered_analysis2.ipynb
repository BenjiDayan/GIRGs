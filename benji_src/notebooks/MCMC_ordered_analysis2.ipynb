{
 "cells": [
  {
   "cell_type": "code",
   "execution_count": 1,
   "metadata": {
    "collapsed": true,
    "ExecuteTime": {
     "start_time": "2023-08-01T10:49:59.249832Z",
     "end_time": "2023-08-01T10:49:59.256483Z"
    }
   },
   "outputs": [],
   "source": [
    "import os\n",
    "os.chdir('/cluster/home/bdayan/girgs/benji_src/notebooks/')"
   ]
  },
  {
   "cell_type": "code",
   "execution_count": 2,
   "outputs": [
    {
     "data": {
      "text/plain": "'/cluster/home/bdayan/girgs/benji_src/notebooks'"
     },
     "execution_count": 2,
     "metadata": {},
     "output_type": "execute_result"
    }
   ],
   "source": [
    "import sys\n",
    "sys.path.append('../')\n",
    "sys.path.append('../../nemo-eva/src/')\n",
    "\n",
    "import os\n",
    "os.getcwd()\n",
    "\n",
    "\n"
   ],
   "metadata": {
    "collapsed": false,
    "ExecuteTime": {
     "start_time": "2023-08-01T10:49:59.255962Z",
     "end_time": "2023-08-01T10:49:59.276478Z"
    }
   }
  },
  {
   "cell_type": "code",
   "execution_count": 3,
   "outputs": [
    {
     "data": {
      "text/html": "\n\t\t\t<script type=\"text/javascript\">\n\t\t\t<!--\n\t\t\t\t\n\t\t\t{\n\t\t\t\tvar element = document.getElementById('NetworKit_script');\n\t\t\t\tif (element) {\n\t\t\t\t\telement.parentNode.removeChild(element);\n\t\t\t\t}\n\t\t\t\telement = document.createElement('script');\n\t\t\t\telement.type = 'text/javascript';\n\t\t\t\telement.innerHTML = 'function NetworKit_pageEmbed(id) { var i, j; var elements; elements = document.getElementById(id).getElementsByClassName(\"Plot\"); for (i=0; i<elements.length; i++) { elements[i].id = id + \"_Plot_\" + i; var data = elements[i].getAttribute(\"data-image\").split(\"|\"); elements[i].removeAttribute(\"data-image\"); var content = \"<div class=\\\\\"Image\\\\\" id=\\\\\"\" + elements[i].id + \"_Image\\\\\" />\"; elements[i].innerHTML = content; elements[i].setAttribute(\"data-image-index\", 0); elements[i].setAttribute(\"data-image-length\", data.length); for (j=0; j<data.length; j++) { elements[i].setAttribute(\"data-image-\" + j, data[j]); } NetworKit_plotUpdate(elements[i]); elements[i].onclick = function (e) { NetworKit_overlayShow((e.target) ? e.target : e.srcElement); } } elements = document.getElementById(id).getElementsByClassName(\"HeatCell\"); for (i=0; i<elements.length; i++) { var data = parseFloat(elements[i].getAttribute(\"data-heat\")); var color = \"#00FF00\"; if (data <= 1 && data > 0) { color = \"hsla(0, 100%, 75%, \" + (data) + \")\"; } else if (data <= 0 && data >= -1) { color = \"hsla(240, 100%, 75%, \" + (-data) + \")\"; } elements[i].style.backgroundColor = color; } elements = document.getElementById(id).getElementsByClassName(\"Details\"); for (i=0; i<elements.length; i++) { elements[i].setAttribute(\"data-title\", \"-\"); NetworKit_toggleDetails(elements[i]); elements[i].onclick = function (e) { NetworKit_toggleDetails((e.target) ? e.target : e.srcElement); } } elements = document.getElementById(id).getElementsByClassName(\"MathValue\"); for (i=elements.length-1; i>=0; i--) { value = elements[i].innerHTML.trim(); if (value === \"nan\") { elements[i].parentNode.innerHTML = \"\" } } elements = document.getElementById(id).getElementsByClassName(\"SubCategory\"); for (i=elements.length-1; i>=0; i--) { value = elements[i].innerHTML.trim(); if (value === \"\") { elements[i].parentNode.removeChild(elements[i]) } } elements = document.getElementById(id).getElementsByClassName(\"Category\"); for (i=elements.length-1; i>=0; i--) { value = elements[i].innerHTML.trim(); if (value === \"\") { elements[i].parentNode.removeChild(elements[i]) } } var isFirefox = false; try { isFirefox = typeof InstallTrigger !== \"undefined\"; } catch (e) {} if (!isFirefox) { alert(\"Currently the function\\'s output is only fully supported by Firefox.\"); } } function NetworKit_plotUpdate(source) { var index = source.getAttribute(\"data-image-index\"); var data = source.getAttribute(\"data-image-\" + index); var image = document.getElementById(source.id + \"_Image\"); image.style.backgroundImage = \"url(\" + data + \")\"; } function NetworKit_showElement(id, show) { var element = document.getElementById(id); element.style.display = (show) ? \"block\" : \"none\"; } function NetworKit_overlayShow(source) { NetworKit_overlayUpdate(source); NetworKit_showElement(\"NetworKit_Overlay\", true); } function NetworKit_overlayUpdate(source) { document.getElementById(\"NetworKit_Overlay_Title\").innerHTML = source.title; var index = source.getAttribute(\"data-image-index\"); var data = source.getAttribute(\"data-image-\" + index); var image = document.getElementById(\"NetworKit_Overlay_Image\"); image.setAttribute(\"data-id\", source.id); image.style.backgroundImage = \"url(\" + data + \")\"; var link = document.getElementById(\"NetworKit_Overlay_Toolbar_Bottom_Save\"); link.href = data; link.download = source.title + \".svg\"; } function NetworKit_overlayImageShift(delta) { var image = document.getElementById(\"NetworKit_Overlay_Image\"); var source = document.getElementById(image.getAttribute(\"data-id\")); var index = parseInt(source.getAttribute(\"data-image-index\")); var length = parseInt(source.getAttribute(\"data-image-length\")); var index = (index+delta) % length; if (index < 0) { index = length + index; } source.setAttribute(\"data-image-index\", index); NetworKit_overlayUpdate(source); } function NetworKit_toggleDetails(source) { var childs = source.children; var show = false; if (source.getAttribute(\"data-title\") == \"-\") { source.setAttribute(\"data-title\", \"+\"); show = false; } else { source.setAttribute(\"data-title\", \"-\"); show = true; } for (i=0; i<childs.length; i++) { if (show) { childs[i].style.display = \"block\"; } else { childs[i].style.display = \"none\"; } } }';\n\t\t\t\telement.setAttribute('id', 'NetworKit_script');\n\t\t\t\tdocument.head.appendChild(element);\n\t\t\t}\n\t\t\n\t\t\t\t\n\t\t\t{\n\t\t\t\tvar element = document.getElementById('NetworKit_style');\n\t\t\t\tif (element) {\n\t\t\t\t\telement.parentNode.removeChild(element);\n\t\t\t\t}\n\t\t\t\telement = document.createElement('style');\n\t\t\t\telement.type = 'text/css';\n\t\t\t\telement.innerHTML = '.NetworKit_Page { font-family: Arial, Helvetica, sans-serif; font-size: 14px; } .NetworKit_Page .Value:before { font-family: Arial, Helvetica, sans-serif; font-size: 1.05em; content: attr(data-title) \":\"; margin-left: -2.5em; padding-right: 0.5em; } .NetworKit_Page .Details .Value:before { display: block; } .NetworKit_Page .Value { font-family: monospace; white-space: pre; padding-left: 2.5em; white-space: -moz-pre-wrap !important; white-space: -pre-wrap; white-space: -o-pre-wrap; white-space: pre-wrap; word-wrap: break-word; tab-size: 4; -moz-tab-size: 4; } .NetworKit_Page .Category { clear: both; padding-left: 1em; margin-bottom: 1.5em; } .NetworKit_Page .Category:before { content: attr(data-title); font-size: 1.75em; display: block; margin-left: -0.8em; margin-bottom: 0.5em; } .NetworKit_Page .SubCategory { margin-bottom: 1.5em; padding-left: 1em; } .NetworKit_Page .SubCategory:before { font-size: 1.6em; display: block; margin-left: -0.8em; margin-bottom: 0.5em; } .NetworKit_Page .SubCategory[data-title]:before { content: attr(data-title); } .NetworKit_Page .Block { display: block; } .NetworKit_Page .Block:after { content: \".\"; visibility: hidden; display: block; height: 0; clear: both; } .NetworKit_Page .Block .Thumbnail_Overview, .NetworKit_Page .Block .Thumbnail_ScatterPlot { width: 260px; float: left; } .NetworKit_Page .Block .Thumbnail_Overview img, .NetworKit_Page .Block .Thumbnail_ScatterPlot img { width: 260px; } .NetworKit_Page .Block .Thumbnail_Overview:before, .NetworKit_Page .Block .Thumbnail_ScatterPlot:before { display: block; text-align: center; font-weight: bold; } .NetworKit_Page .Block .Thumbnail_Overview:before { content: attr(data-title); } .NetworKit_Page .HeatCell { font-family: \"Courier New\", Courier, monospace; cursor: pointer; } .NetworKit_Page .HeatCell, .NetworKit_Page .HeatCellName { display: inline; padding: 0.1em; margin-right: 2px; background-color: #FFFFFF } .NetworKit_Page .HeatCellName { margin-left: 0.25em; } .NetworKit_Page .HeatCell:before { content: attr(data-heat); display: inline-block; color: #000000; width: 4em; text-align: center; } .NetworKit_Page .Measure { clear: both; } .NetworKit_Page .Measure .Details { cursor: pointer; } .NetworKit_Page .Measure .Details:before { content: \"[\" attr(data-title) \"]\"; display: block; } .NetworKit_Page .Measure .Details .Value { border-left: 1px dotted black; margin-left: 0.4em; padding-left: 3.5em; pointer-events: none; } .NetworKit_Page .Measure .Details .Spacer:before { content: \".\"; opacity: 0.0; pointer-events: none; } .NetworKit_Page .Measure .Plot { width: 440px; height: 440px; cursor: pointer; float: left; margin-left: -0.9em; margin-right: 20px; } .NetworKit_Page .Measure .Plot .Image { background-repeat: no-repeat; background-position: center center; background-size: contain; height: 100%; pointer-events: none; } .NetworKit_Page .Measure .Stat { width: 500px; float: left; } .NetworKit_Page .Measure .Stat .Group { padding-left: 1.25em; margin-bottom: 0.75em; } .NetworKit_Page .Measure .Stat .Group .Title { font-size: 1.1em; display: block; margin-bottom: 0.3em; margin-left: -0.75em; border-right-style: dotted; border-right-width: 1px; border-bottom-style: dotted; border-bottom-width: 1px; background-color: #D0D0D0; padding-left: 0.2em; } .NetworKit_Page .Measure .Stat .Group .List { -webkit-column-count: 3; -moz-column-count: 3; column-count: 3; } .NetworKit_Page .Measure .Stat .Group .List .Entry { position: relative; line-height: 1.75em; } .NetworKit_Page .Measure .Stat .Group .List .Entry[data-tooltip]:before { position: absolute; left: 0; top: -40px; background-color: #808080; color: #ffffff; height: 30px; line-height: 30px; border-radius: 5px; padding: 0 15px; content: attr(data-tooltip); white-space: nowrap; display: none; } .NetworKit_Page .Measure .Stat .Group .List .Entry[data-tooltip]:after { position: absolute; left: 15px; top: -10px; border-top: 7px solid #808080; border-left: 7px solid transparent; border-right: 7px solid transparent; content: \"\"; display: none; } .NetworKit_Page .Measure .Stat .Group .List .Entry[data-tooltip]:hover:after, .NetworKit_Page .Measure .Stat .Group .List .Entry[data-tooltip]:hover:before { display: block; } .NetworKit_Page .Measure .Stat .Group .List .Entry .MathValue { font-family: \"Courier New\", Courier, monospace; } .NetworKit_Page .Measure:after { content: \".\"; visibility: hidden; display: block; height: 0; clear: both; } .NetworKit_Page .PartitionPie { clear: both; } .NetworKit_Page .PartitionPie img { width: 600px; } #NetworKit_Overlay { left: 0px; top: 0px; display: none; position: absolute; width: 100%; height: 100%; background-color: rgba(0,0,0,0.6); z-index: 1000; } #NetworKit_Overlay_Title { position: absolute; color: white; transform: rotate(-90deg); width: 32em; height: 32em; padding-right: 0.5em; padding-top: 0.5em; text-align: right; font-size: 40px; } #NetworKit_Overlay .button { background: white; cursor: pointer; } #NetworKit_Overlay .button:before { size: 13px; display: inline-block; text-align: center; margin-top: 0.5em; margin-bottom: 0.5em; width: 1.5em; height: 1.5em; } #NetworKit_Overlay .icon-close:before { content: \"X\"; } #NetworKit_Overlay .icon-previous:before { content: \"P\"; } #NetworKit_Overlay .icon-next:before { content: \"N\"; } #NetworKit_Overlay .icon-save:before { content: \"S\"; } #NetworKit_Overlay_Toolbar_Top, #NetworKit_Overlay_Toolbar_Bottom { position: absolute; width: 40px; right: 13px; text-align: right; z-index: 1100; } #NetworKit_Overlay_Toolbar_Top { top: 0.5em; } #NetworKit_Overlay_Toolbar_Bottom { Bottom: 0.5em; } #NetworKit_Overlay_ImageContainer { position: absolute; top: 5%; left: 5%; height: 90%; width: 90%; background-repeat: no-repeat; background-position: center center; background-size: contain; } #NetworKit_Overlay_Image { height: 100%; width: 100%; background-repeat: no-repeat; background-position: center center; background-size: contain; }';\n\t\t\t\telement.setAttribute('id', 'NetworKit_style');\n\t\t\t\tdocument.head.appendChild(element);\n\t\t\t}\n\t\t\n\t\t\t\t\n\t\t\t{\n\t\t\t\tvar element = document.getElementById('NetworKit_Overlay');\n\t\t\t\tif (element) {\n\t\t\t\t\telement.parentNode.removeChild(element);\n\t\t\t\t}\n\t\t\t\telement = document.createElement('div');\n\t\t\t\telement.innerHTML = '<div id=\"NetworKit_Overlay_Toolbar_Top\"><div class=\"button icon-close\" id=\"NetworKit_Overlay_Close\" /></div><div id=\"NetworKit_Overlay_Title\" /> <div id=\"NetworKit_Overlay_ImageContainer\"> <div id=\"NetworKit_Overlay_Image\" /> </div> <div id=\"NetworKit_Overlay_Toolbar_Bottom\"> <div class=\"button icon-previous\" onclick=\"NetworKit_overlayImageShift(-1)\" /> <div class=\"button icon-next\" onclick=\"NetworKit_overlayImageShift(1)\" /> <a id=\"NetworKit_Overlay_Toolbar_Bottom_Save\"><div class=\"button icon-save\" /></a> </div>';\n\t\t\t\telement.setAttribute('id', 'NetworKit_Overlay');\n\t\t\t\tdocument.body.appendChild(element);\n\t\t\t\tdocument.getElementById('NetworKit_Overlay_Close').onclick = function (e) {\n\t\t\t\t\tdocument.getElementById('NetworKit_Overlay').style.display = 'none';\n\t\t\t\t}\n\t\t\t}\n\t\t\n\t\t\t-->\n\t\t\t</script>\n\t\t"
     },
     "metadata": {},
     "output_type": "display_data"
    },
    {
     "name": "stdout",
     "output_type": "stream",
     "text": [
      "/cluster/scratch/bdayan/GIRG_data/socfb-Berkeley13.SpaceOne\n",
      "/cluster/scratch/bdayan/GIRG_data/socfb-American75.SpaceOne\n",
      "/cluster/scratch/bdayan/GIRG_data/socfb-UConn.SpaceOne\n",
      "/cluster/scratch/bdayan/GIRG_data/socfb-MSU24.SpaceOne\n",
      "/cluster/scratch/bdayan/GIRG_data/socfb-Brandeis99.SpaceOne\n",
      "/cluster/scratch/bdayan/GIRG_data/socfb-Virginia63.SpaceOne\n",
      "/cluster/scratch/bdayan/GIRG_data/socfb-Duke14.SpaceOne\n",
      "/cluster/scratch/bdayan/GIRG_data/socfb-Indiana69.SpaceOne\n",
      "/cluster/scratch/bdayan/GIRG_data/socfb-Swarthmore42.SpaceOne\n",
      "/cluster/scratch/bdayan/GIRG_data/socfb-Simmons81.SpaceOne\n",
      "/cluster/scratch/bdayan/GIRG_data/socfb-Georgetown15.SpaceOne\n",
      "/cluster/scratch/bdayan/GIRG_data/socfb-Reed98.SpaceOne\n",
      "/cluster/scratch/bdayan/GIRG_data/socfb-UC64.SpaceOne\n",
      "/cluster/scratch/bdayan/GIRG_data/socfb-Bowdoin47.SpaceOne\n",
      "/cluster/scratch/bdayan/GIRG_data/socfb-UChicago30.SpaceOne\n",
      "/cluster/scratch/bdayan/GIRG_data/socfb-Middlebury45.SpaceOne\n",
      "/cluster/scratch/bdayan/GIRG_data/socfb-MIT.SpaceOne\n",
      "/cluster/scratch/bdayan/GIRG_data/socfb-FSU53.SpaceOne\n",
      "/cluster/scratch/bdayan/GIRG_data/socfb-Michigan23.SpaceOne\n",
      "/cluster/scratch/bdayan/GIRG_data/socfb-Tennessee95.SpaceOne\n",
      "/cluster/scratch/bdayan/GIRG_data/socfb-WashU32.SpaceOne\n",
      "/cluster/scratch/bdayan/GIRG_data/socfb-Stanford3.SpaceOne\n",
      "/cluster/scratch/bdayan/GIRG_data/socfb-UC33.SpaceOne\n",
      "/cluster/scratch/bdayan/GIRG_data/socfb-William77.SpaceOne\n",
      "/cluster/scratch/bdayan/GIRG_data/socfb-MU78.SpaceOne\n",
      "/cluster/scratch/bdayan/GIRG_data/socfb-NYU9.SpaceOne\n",
      "/cluster/scratch/bdayan/GIRG_data/socfb-UPenn7.SpaceOne\n",
      "/cluster/scratch/bdayan/GIRG_data/socfb-Wellesley22.SpaceOne\n",
      "/cluster/scratch/bdayan/GIRG_data/socfb-Pepperdine86.SpaceOne\n",
      "/cluster/scratch/bdayan/GIRG_data/socfb-Texas80.SpaceOne\n",
      "/cluster/scratch/bdayan/GIRG_data/socfb-Brown11.SpaceOne\n",
      "/cluster/scratch/bdayan/GIRG_data/socfb-Rochester38.SpaceOne\n",
      "/cluster/scratch/bdayan/GIRG_data/socfb-USF51.SpaceOne\n",
      "/cluster/scratch/bdayan/GIRG_data/socfb-Harvard1.SpaceOne\n",
      "/cluster/scratch/bdayan/GIRG_data/socfb-Emory27.SpaceOne\n",
      "/cluster/scratch/bdayan/GIRG_data/socfb-Wisconsin87.SpaceOne\n",
      "/cluster/scratch/bdayan/GIRG_data/socfb-Lehigh96.SpaceOne\n",
      "/cluster/scratch/bdayan/GIRG_data/socfb-Carnegie49.SpaceOne\n",
      "/cluster/scratch/bdayan/GIRG_data/socfb-UIllinois.SpaceOne\n",
      "/cluster/scratch/bdayan/GIRG_data/socfb-UGA50.SpaceOne\n",
      "/cluster/scratch/bdayan/GIRG_data/socfb-JMU79.SpaceOne\n",
      "/cluster/scratch/bdayan/GIRG_data/socfb-Howard90.SpaceOne\n",
      "/cluster/scratch/bdayan/GIRG_data/socfb-Mich67.SpaceOne\n",
      "/cluster/scratch/bdayan/GIRG_data/socfb-Princeton12.SpaceOne\n",
      "/cluster/scratch/bdayan/GIRG_data/socfb-MIT8.SpaceOne\n",
      "/cluster/scratch/bdayan/GIRG_data/socfb-wosn-friends.SpaceOne\n",
      "/cluster/scratch/bdayan/GIRG_data/socfb-Maryland58.SpaceOne\n",
      "/cluster/scratch/bdayan/GIRG_data/socfb-JohnsHopkins55.SpaceOne\n",
      "/cluster/scratch/bdayan/GIRG_data/socfb-Rice31.SpaceOne\n",
      "/cluster/scratch/bdayan/GIRG_data/socfb-GWU54.SpaceOne\n",
      "/cluster/scratch/bdayan/GIRG_data/socfb-Tufts18.SpaceOne\n",
      "/cluster/scratch/bdayan/GIRG_data/socfb-Vermont70.SpaceOne\n",
      "/cluster/scratch/bdayan/GIRG_data/socfb-Temple83.SpaceOne\n",
      "/cluster/scratch/bdayan/GIRG_data/socfb-Columbia2.SpaceOne\n",
      "/cluster/scratch/bdayan/GIRG_data/socfb-Williams40.SpaceOne\n",
      "/cluster/scratch/bdayan/GIRG_data/socfb-UCSB37.SpaceOne\n",
      "/cluster/scratch/bdayan/GIRG_data/socfb-NotreDame57.SpaceOne\n",
      "/cluster/scratch/bdayan/GIRG_data/socfb-UNC28.SpaceOne\n",
      "/cluster/scratch/bdayan/GIRG_data/socfb-Vanderbilt48.SpaceOne\n",
      "/cluster/scratch/bdayan/GIRG_data/socfb-CMU.SpaceOne\n",
      "/cluster/scratch/bdayan/GIRG_data/socfb-USC35.SpaceOne\n",
      "/cluster/scratch/bdayan/GIRG_data/socfb-UIllinois20.SpaceOne\n",
      "/cluster/scratch/bdayan/GIRG_data/socfb-UCLA.SpaceOne\n",
      "/cluster/scratch/bdayan/GIRG_data/socfb-Penn94.SpaceOne\n",
      "/cluster/scratch/bdayan/GIRG_data/socfb-Texas84.SpaceOne\n",
      "/cluster/scratch/bdayan/GIRG_data/socfb-Hamilton46.SpaceOne\n",
      "/cluster/scratch/bdayan/GIRG_data/socfb-Rutgers89.SpaceOne\n",
      "/cluster/scratch/bdayan/GIRG_data/socfb-UC61.SpaceOne\n",
      "/cluster/scratch/bdayan/GIRG_data/socfb-Yale4.SpaceOne\n",
      "/cluster/scratch/bdayan/GIRG_data/socfb-BC17.SpaceOne\n",
      "/cluster/scratch/bdayan/GIRG_data/socfb-UCSD34.SpaceOne\n",
      "/cluster/scratch/bdayan/GIRG_data/socfb-USFCA72.SpaceOne\n",
      "/cluster/scratch/bdayan/GIRG_data/socfb-Haverford76.SpaceOne\n",
      "/cluster/scratch/bdayan/GIRG_data/socfb-UConn91.SpaceOne\n",
      "/cluster/scratch/bdayan/GIRG_data/socfb-UF21.SpaceOne\n",
      "/cluster/scratch/bdayan/GIRG_data/socfb-Colgate88.SpaceOne\n",
      "/cluster/scratch/bdayan/GIRG_data/socfb-Bingham82.SpaceOne\n",
      "/cluster/scratch/bdayan/GIRG_data/socfb-Santa74.SpaceOne\n",
      "/cluster/scratch/bdayan/GIRG_data/socfb-Maine59.SpaceOne\n",
      "/cluster/scratch/bdayan/GIRG_data/socfb-Caltech36.SpaceOne\n",
      "/cluster/scratch/bdayan/GIRG_data/socfb-Mississippi66.SpaceOne\n",
      "/cluster/scratch/bdayan/GIRG_data/socfb-Northwestern25.SpaceOne\n",
      "/cluster/scratch/bdayan/GIRG_data/socfb-UCLA26.SpaceOne\n",
      "/cluster/scratch/bdayan/GIRG_data/socfb-Villanova62.SpaceOne\n",
      "/cluster/scratch/bdayan/GIRG_data/socfb-Tulane29.SpaceOne\n",
      "/cluster/scratch/bdayan/GIRG_data/socfb-UF.SpaceOne\n",
      "/cluster/scratch/bdayan/GIRG_data/socfb-Baylor93.SpaceOne\n",
      "/cluster/scratch/bdayan/GIRG_data/socfb-Oklahoma97.SpaceOne\n",
      "/cluster/scratch/bdayan/GIRG_data/socfb-Bucknell39.SpaceOne\n",
      "/cluster/scratch/bdayan/GIRG_data/socfb-Auburn71.SpaceOne\n",
      "/cluster/scratch/bdayan/GIRG_data/socfb-Cal65.SpaceOne\n",
      "/cluster/scratch/bdayan/GIRG_data/socfb-Wesleyan43.SpaceOne\n",
      "/cluster/scratch/bdayan/GIRG_data/socfb-Trinity100.SpaceOne\n",
      "/cluster/scratch/bdayan/GIRG_data/socfb-OR.SpaceOne\n",
      "/cluster/scratch/bdayan/GIRG_data/socfb-UCSC68.SpaceOne\n",
      "/cluster/scratch/bdayan/GIRG_data/socfb-UVA16.SpaceOne\n",
      "/cluster/scratch/bdayan/GIRG_data/socfb-Wake73.SpaceOne\n",
      "/cluster/scratch/bdayan/GIRG_data/socfb-UMass92.SpaceOne\n",
      "/cluster/scratch/bdayan/GIRG_data/socfb-Smith60.SpaceOne\n",
      "/cluster/scratch/bdayan/GIRG_data/socfb-Dartmouth6.SpaceOne\n",
      "/cluster/scratch/bdayan/GIRG_data/socfb-Cornell5.SpaceOne\n",
      "/cluster/scratch/bdayan/GIRG_data/socfb-Oberlin44.SpaceOne\n",
      "/cluster/scratch/bdayan/GIRG_data/socfb-Syracuse56.SpaceOne\n",
      "/cluster/scratch/bdayan/GIRG_data/socfb-Amherst41.SpaceOne\n",
      "/cluster/scratch/bdayan/GIRG_data/socfb-Indiana.SpaceOne\n",
      "/cluster/scratch/bdayan/GIRG_data/socfb-Vassar85.SpaceOne\n",
      "/cluster/scratch/bdayan/GIRG_data/socfb-UCF52.SpaceOne\n",
      "/cluster/scratch/bdayan/GIRG_data/socfb-BU10.SpaceOne\n",
      "/cluster/scratch/bdayan/GIRG_data/socfb-Northeastern19.SpaceOne\n"
     ]
    }
   ],
   "source": [
    "from benji_girgs import utils, generation, points, fitting, mcmc\n",
    "import os\n",
    "import glob\n",
    "import pandas as pd\n",
    "import networkit\n",
    "\n",
    "import networkit as nk\n",
    "\n",
    "from girg_sampling import girgs\n",
    "\n",
    "from IPython.core.interactiveshell import InteractiveShell\n",
    "InteractiveShell.ast_node_interactivity = \"all\"\n",
    "\n",
    "import numpy as np\n",
    "import matplotlib.pyplot as plt\n",
    "\n",
    "import do_feature_extract\n",
    "import networkx as nx\n",
    "\n",
    "import seaborn as sns"
   ],
   "metadata": {
    "collapsed": false,
    "ExecuteTime": {
     "start_time": "2023-08-01T10:49:59.275618Z",
     "end_time": "2023-08-01T10:50:00.801141Z"
    }
   }
  },
  {
   "cell_type": "code",
   "execution_count": 60,
   "outputs": [
    {
     "name": "stderr",
     "output_type": "stream",
     "text": [
      "../benji_girgs/generation.py:140: RuntimeWarning: divide by zero encountered in divide\n",
      "  p_uv = np.divide(outer, dists**d)\n"
     ]
    }
   ],
   "source": [
    "n, d, tau, alpha = 10000, 2, 2.4, 1.5\n",
    "\n",
    "g, edges, weights, pts, const = generation.generate_GIRG_nk(\n",
    "    n, d, tau, alpha, weights=None, pts=None, desiredAvgDegree=200,\n",
    "    points_type=points.PointsTorus2)"
   ],
   "metadata": {
    "collapsed": false,
    "ExecuteTime": {
     "start_time": "2023-08-01T11:51:13.141170Z",
     "end_time": "2023-08-01T11:51:35.842659Z"
    }
   }
  },
  {
   "cell_type": "code",
   "execution_count": 62,
   "outputs": [
    {
     "data": {
      "text/plain": "[<matplotlib.lines.Line2D at 0x2ade144e6e50>]"
     },
     "execution_count": 62,
     "metadata": {},
     "output_type": "execute_result"
    },
    {
     "data": {
      "text/plain": "<Figure size 640x480 with 1 Axes>",
      "image/png": "[encoded data removed]"
     },
     "metadata": {},
     "output_type": "display_data"
    }
   ],
   "source": [
    "dists = pts[0].dist(pts)\n",
    "_ = plt.hist(dists, bins=30, density=True)\n",
    "x = np.linspace(0, 1, 100)\n",
    "plt.plot(x, 2.0* x**2)"
   ],
   "metadata": {
    "collapsed": false,
    "ExecuteTime": {
     "start_time": "2023-08-01T11:51:49.856782Z",
     "end_time": "2023-08-01T11:51:50.294453Z"
    }
   }
  },
  {
   "cell_type": "code",
   "execution_count": 66,
   "outputs": [
    {
     "name": "stdout",
     "output_type": "stream",
     "text": [
      "411\n"
     ]
    },
    {
     "data": {
      "text/plain": "<Figure size 640x480 with 1 Axes>",
      "image/png": "[encoded data removed]"
     },
     "metadata": {},
     "output_type": "display_data"
    }
   ],
   "source": [
    "i = 7\n",
    "print(g.degree(i))\n",
    "dists = pts[i].dist(pts[list(g.iterNeighbors(i))])\n",
    "_ = plt.hist(dists, bins=50)"
   ],
   "metadata": {
    "collapsed": false,
    "ExecuteTime": {
     "start_time": "2023-08-01T11:55:05.805400Z",
     "end_time": "2023-08-01T11:55:06.077125Z"
    }
   }
  },
  {
   "cell_type": "code",
   "execution_count": 63,
   "outputs": [
    {
     "data": {
      "text/plain": "array([ 1.9093495 ,  2.03666722,  1.08929625,  3.15136599, 98.51393174,\n        1.07955198,  1.20566043,  6.4025619 ,  1.08537103,  1.57061636,\n        1.28371074,  5.77738868,  1.15383618, 22.17316714,  2.26202434,\n        3.25766267,  1.65496752,  1.64933134,  1.87754807,  1.21393985])"
     },
     "execution_count": 63,
     "metadata": {},
     "output_type": "execute_result"
    }
   ],
   "source": [
    "weights[:20]"
   ],
   "metadata": {
    "collapsed": false,
    "ExecuteTime": {
     "start_time": "2023-08-01T11:54:36.513679Z",
     "end_time": "2023-08-01T11:54:36.569873Z"
    }
   }
  },
  {
   "cell_type": "code",
   "execution_count": 4,
   "outputs": [
    {
     "name": "stderr",
     "output_type": "stream",
     "text": [
      "../benji_girgs/generation.py:140: RuntimeWarning: divide by zero encountered in divide\n",
      "  p_uv = np.divide(outer, dists**d)\n",
      "../benji_girgs/generation.py:153: RuntimeWarning: divide by zero encountered in divide\n",
      "  p_uv = np.divide(wuwv, dists**d)\n"
     ]
    }
   ],
   "source": [
    "n, d, tau, alpha = 4000, 2, 2.1, 1.5\n",
    "\n",
    "g, edges, weights, pts, const = generation.generate_GIRG_nk(\n",
    "    n, d, tau, alpha, weights=None, pts=None, desiredAvgDegree=60,\n",
    "    points_type=points.PointsCube)\n",
    "\n",
    "a, B, pts = utils.get_diffmap_and_points(g, ds=2, process='restrict_uniform_edges')\n",
    "pts = points.PointsCube(pts)\n",
    "\n",
    "\n",
    "MC = mcmc.MCMC_girg(g, weights.copy(), alpha, const, pts.copy(), pool=False, graph_name='test',\n",
    "                                    failure_prob=0.3, cl_mixin_prob=0.5)"
   ],
   "metadata": {
    "collapsed": false,
    "ExecuteTime": {
     "start_time": "2023-08-01T10:50:00.800489Z",
     "end_time": "2023-08-01T10:50:07.212311Z"
    }
   }
  },
  {
   "cell_type": "code",
   "execution_count": 5,
   "outputs": [],
   "source": [
    "%load_ext line_profiler"
   ],
   "metadata": {
    "collapsed": false,
    "ExecuteTime": {
     "start_time": "2023-08-01T10:50:09.047941Z",
     "end_time": "2023-08-01T10:50:09.087334Z"
    }
   }
  },
  {
   "cell_type": "code",
   "execution_count": 6,
   "outputs": [
    {
     "name": "stdout",
     "output_type": "stream",
     "text": [
      "\n",
      "*** Profile printout saved to text file 'lprof1'. \n"
     ]
    }
   ],
   "source": [
    "%lprun -T lprof1 -f MC.ordered_point_propose_compare_update MC.ordered_point_propose_compare_update(3)"
   ],
   "metadata": {
    "collapsed": false,
    "ExecuteTime": {
     "start_time": "2023-08-01T10:50:09.349140Z",
     "end_time": "2023-08-01T10:50:11.613178Z"
    }
   }
  },
  {
   "cell_type": "code",
   "execution_count": 7,
   "outputs": [],
   "source": [
    "self = MC\n",
    "u_index = 0\n",
    "\n",
    "num_proposals=20\n",
    "\n",
    "x_u = self.pts[u_index].copy()\n",
    "\n",
    "nhbs = list(self.g.iterNeighbors(u_index))\n",
    "mean_pos = self.pts[nhbs].mean(axis=0)\n",
    "\n",
    "x_u2s = np.concatenate([\n",
    "    # near to current position\n",
    "    self.proposal(num_proposals//4, self.d, sigma=0.01, x_u=x_u, p_normal=0.7),\n",
    "    # near to mean position\n",
    "    self.proposal(num_proposals//4, self.d, sigma=0.01, x_u=mean_pos, p_normal=0.7),\n",
    "    # near to neighbours\n",
    "    self.proposal(num_proposals//2, self.d, sigma=0.01,\n",
    "                  x_u=self.pts[nhbs][np.random.choice(len(nhbs), size=num_proposals//2)],\n",
    "                  p_normal=0.7),\n",
    "])\n",
    "\n",
    "x_u2s = np.concatenate([x_u2s, [mean_pos, x_u]])\n"
   ],
   "metadata": {
    "collapsed": false,
    "ExecuteTime": {
     "start_time": "2023-08-01T10:51:04.080046Z",
     "end_time": "2023-08-01T10:51:04.119980Z"
    }
   }
  },
  {
   "cell_type": "code",
   "execution_count": 8,
   "outputs": [
    {
     "data": {
      "text/plain": "(22, 2)"
     },
     "execution_count": 8,
     "metadata": {},
     "output_type": "execute_result"
    }
   ],
   "source": [
    "x_u2s.shape"
   ],
   "metadata": {
    "collapsed": false,
    "ExecuteTime": {
     "start_time": "2023-08-01T10:51:06.493362Z",
     "end_time": "2023-08-01T10:51:06.520763Z"
    }
   }
  },
  {
   "cell_type": "code",
   "execution_count": 9,
   "outputs": [],
   "source": [
    "x_u2 = x_u2s[0]"
   ],
   "metadata": {
    "collapsed": false,
    "ExecuteTime": {
     "start_time": "2023-08-01T10:51:19.340693Z",
     "end_time": "2023-08-01T10:51:19.360105Z"
    }
   }
  },
  {
   "cell_type": "code",
   "execution_count": null,
   "outputs": [],
   "source": [
    "def p_u_to_vs2 = mcmc.MCMC_girg.get_p_u_to_vs(\n",
    "                    self.weights, self.pts, self.alpha, self.const_in,\n",
    "                    u_index, self.failure_prob, self.cl_mixin_prob,\n",
    "                    self.c_cl)"
   ],
   "metadata": {
    "collapsed": false
   }
  },
  {
   "cell_type": "code",
   "execution_count": 12,
   "outputs": [
    {
     "name": "stdout",
     "output_type": "stream",
     "text": [
      "\n",
      "*** Profile printout saved to text file 'lprof-get_p_u_to_vs'. \n"
     ]
    }
   ],
   "source": [
    "%lprun -T lprof-get_p_u_to_vs -f mcmc.MCMC_girg.get_p_u_to_vs mcmc.MCMC_girg.get_p_u_to_vs(self.weights, self.pts, self.alpha, self.const_in, u_index, self.failure_prob, self.cl_mixin_prob, self.c_cl)"
   ],
   "metadata": {
    "collapsed": false,
    "ExecuteTime": {
     "start_time": "2023-08-01T10:53:03.697426Z",
     "end_time": "2023-08-01T10:53:03.766258Z"
    }
   }
  },
  {
   "cell_type": "code",
   "execution_count": 15,
   "outputs": [
    {
     "name": "stdout",
     "output_type": "stream",
     "text": [
      "\n",
      "*** Profile printout saved to text file 'lprof-get_probs_u'. \n"
     ]
    }
   ],
   "source": [
    "%lprun -T lprof-get_probs_u -f generation.get_probs_u generation.get_probs_u(self.weights, self.pts, self.alpha, self.const_in, u_index)"
   ],
   "metadata": {
    "collapsed": false,
    "ExecuteTime": {
     "start_time": "2023-08-01T10:55:53.660245Z",
     "end_time": "2023-08-01T10:55:53.716320Z"
    }
   }
  },
  {
   "cell_type": "code",
   "execution_count": null,
   "outputs": [],
   "source": [
    "%lprun -T lprof -f generation.get_probs_u generation.get_probs_u(self.weights, self.pts, self.alpha, self.const_in, u_index)"
   ],
   "metadata": {
    "collapsed": false
   }
  },
  {
   "cell_type": "code",
   "execution_count": 18,
   "outputs": [
    {
     "data": {
      "text/plain": "array([0.    , 0.3174, 0.992 , ..., 0.2964, 0.5137, 0.51  ], dtype=float16)"
     },
     "execution_count": 18,
     "metadata": {},
     "output_type": "execute_result"
    }
   ],
   "source": [
    "MC.pts[0].dist(MC.pts)"
   ],
   "metadata": {
    "collapsed": false,
    "ExecuteTime": {
     "start_time": "2023-08-01T11:26:22.631760Z",
     "end_time": "2023-08-01T11:26:22.664262Z"
    }
   }
  },
  {
   "cell_type": "code",
   "execution_count": 20,
   "outputs": [
    {
     "name": "stdout",
     "output_type": "stream",
     "text": [
      "12 µs ± 140 ns per loop (mean ± std. dev. of 7 runs, 100,000 loops each)\n"
     ]
    }
   ],
   "source": [
    "%timeit MC.pts.astype(np.float16)"
   ],
   "metadata": {
    "collapsed": false,
    "ExecuteTime": {
     "start_time": "2023-08-01T11:27:08.063482Z",
     "end_time": "2023-08-01T11:27:17.818322Z"
    }
   }
  },
  {
   "cell_type": "code",
   "execution_count": 31,
   "outputs": [
    {
     "name": "stdout",
     "output_type": "stream",
     "text": [
      "148 µs ± 1.15 µs per loop (mean ± std. dev. of 7 runs, 10,000 loops each)\n"
     ]
    }
   ],
   "source": [
    "%timeit dists = MC.pts[0].dist(MC.pts)"
   ],
   "metadata": {
    "collapsed": false,
    "ExecuteTime": {
     "start_time": "2023-08-01T11:31:41.574321Z",
     "end_time": "2023-08-01T11:31:53.564326Z"
    }
   }
  },
  {
   "cell_type": "code",
   "execution_count": 21,
   "outputs": [
    {
     "name": "stdout",
     "output_type": "stream",
     "text": [
      "109 µs ± 818 ns per loop (mean ± std. dev. of 7 runs, 10,000 loops each)\n"
     ]
    }
   ],
   "source": [
    "a = MC.pts[0].astype(np.float16)\n",
    "b = MC.pts.astype(np.float16)\n",
    "\n",
    "%timeit points.get_dist_cube(a, b)"
   ],
   "metadata": {
    "collapsed": false,
    "ExecuteTime": {
     "start_time": "2023-08-01T11:27:51.923470Z",
     "end_time": "2023-08-01T11:28:00.799926Z"
    }
   }
  },
  {
   "cell_type": "code",
   "execution_count": 22,
   "outputs": [
    {
     "name": "stdout",
     "output_type": "stream",
     "text": [
      "107 µs ± 1.19 µs per loop (mean ± std. dev. of 7 runs, 10,000 loops each)\n"
     ]
    }
   ],
   "source": [
    "%timeit np.linalg.norm(a - b, ord=np.inf, axis=-1)"
   ],
   "metadata": {
    "collapsed": false,
    "ExecuteTime": {
     "start_time": "2023-08-01T11:28:29.494256Z",
     "end_time": "2023-08-01T11:28:38.181798Z"
    }
   }
  },
  {
   "cell_type": "code",
   "execution_count": 30,
   "outputs": [
    {
     "name": "stdout",
     "output_type": "stream",
     "text": [
      "107 µs ± 613 ns per loop (mean ± std. dev. of 7 runs, 10,000 loops each)\n"
     ]
    }
   ],
   "source": [
    "%timeit np.abs(a-b).max(axis=-1)"
   ],
   "metadata": {
    "collapsed": false,
    "ExecuteTime": {
     "start_time": "2023-08-01T11:29:53.795349Z",
     "end_time": "2023-08-01T11:30:02.467068Z"
    }
   }
  },
  {
   "cell_type": "code",
   "execution_count": 26,
   "outputs": [
    {
     "data": {
      "text/plain": "PointsCube([0.1743, 0.9414], dtype=float16)"
     },
     "execution_count": 26,
     "metadata": {},
     "output_type": "execute_result"
    }
   ],
   "source": [
    "MC.pts[0].astype(np.float16)"
   ],
   "metadata": {
    "collapsed": false,
    "ExecuteTime": {
     "start_time": "2023-08-01T11:29:28.534707Z",
     "end_time": "2023-08-01T11:29:28.579488Z"
    }
   }
  },
  {
   "cell_type": "code",
   "execution_count": 29,
   "outputs": [
    {
     "data": {
      "text/plain": "(1500,)"
     },
     "execution_count": 29,
     "metadata": {},
     "output_type": "execute_result"
    }
   ],
   "source": [
    "np.abs(a-b).max(axis=-1).shape"
   ],
   "metadata": {
    "collapsed": false,
    "ExecuteTime": {
     "start_time": "2023-08-01T11:29:47.797444Z",
     "end_time": "2023-08-01T11:29:47.805709Z"
    }
   }
  },
  {
   "cell_type": "code",
   "execution_count": 11,
   "outputs": [
    {
     "name": "stdout",
     "output_type": "stream",
     "text": [
      "CPU times: user 6.36 s, sys: 890 µs, total: 6.37 s\n",
      "Wall time: 6.38 s\n"
     ]
    }
   ],
   "source": [
    "%time MC.ordered_point_propose_compare_update(10)"
   ],
   "metadata": {
    "collapsed": false,
    "ExecuteTime": {
     "start_time": "2023-08-01T10:20:16.522805Z",
     "end_time": "2023-08-01T10:20:22.910954Z"
    }
   }
  },
  {
   "cell_type": "code",
   "execution_count": 12,
   "outputs": [
    {
     "name": "stdout",
     "output_type": "stream",
     "text": [
      "CPU times: user 27.9 s, sys: 17.9 ms, total: 27.9 s\n",
      "Wall time: 28 s\n"
     ]
    }
   ],
   "source": [
    "%time MC.ordered_point_propose_compare_update(50)"
   ],
   "metadata": {
    "collapsed": false,
    "ExecuteTime": {
     "start_time": "2023-08-01T10:20:34.646833Z",
     "end_time": "2023-08-01T10:21:02.736904Z"
    }
   }
  },
  {
   "cell_type": "code",
   "execution_count": 13,
   "outputs": [
    {
     "name": "stdout",
     "output_type": "stream",
     "text": [
      "CPU times: user 1.66 s, sys: 1.94 ms, total: 1.66 s\n",
      "Wall time: 1.66 s\n"
     ]
    }
   ],
   "source": [
    "%time MC.alpha_update(3)"
   ],
   "metadata": {
    "collapsed": false,
    "ExecuteTime": {
     "start_time": "2023-08-01T10:21:05.844212Z",
     "end_time": "2023-08-01T10:21:07.514304Z"
    }
   }
  },
  {
   "cell_type": "code",
   "execution_count": 14,
   "outputs": [
    {
     "name": "stdout",
     "output_type": "stream",
     "text": [
      "CPU times: user 1.68 s, sys: 0 ns, total: 1.68 s\n",
      "Wall time: 1.69 s\n"
     ]
    }
   ],
   "source": [
    "def temp(num_const_proposals):\n",
    "    for _ in range(num_const_proposals):\n",
    "        MC.ll, MC.expected_num_edges = MC.calculate_ll()\n",
    "        MC.calibrate_const()\n",
    "\n",
    "%time temp(3)"
   ],
   "metadata": {
    "collapsed": false,
    "ExecuteTime": {
     "start_time": "2023-08-01T10:21:56.982945Z",
     "end_time": "2023-08-01T10:21:58.694060Z"
    }
   }
  },
  {
   "cell_type": "code",
   "execution_count": 15,
   "outputs": [
    {
     "name": "stderr",
     "output_type": "stream",
     "text": [
      "../benji_girgs/generation.py:630: RuntimeWarning: divide by zero encountered in divide\n",
      "  puv = np.stack([np.ones(original_edge_dists.shape), const_in * ((wu * wv / W) / original_edge_dists ** d) ** alpha]).min(axis=0)\n",
      "../benji_girgs/generation.py:631: RuntimeWarning: divide by zero encountered in divide\n",
      "  puv_cube = np.stack([np.ones(cube_edge_dists.shape), const_in * ((wu * wv / W) / cube_edge_dists ** d) ** alpha]).min(axis=0)\n"
     ]
    }
   ],
   "source": [
    "n, d, tau, alpha = 3000, 2, 2.1, 1.5\n",
    "\n",
    "g, edges, weights, pts, const = generation.generate_GIRG_nk(\n",
    "    n, d, tau, alpha, weights=None, pts=None, desiredAvgDegree=60,\n",
    "    points_type=points.PointsCube)\n",
    "\n",
    "a, B, pts = utils.get_diffmap_and_points(g, ds=2, process='restrict_uniform_edges')\n",
    "pts = points.PointsCube(pts)\n",
    "\n",
    "MC = mcmc.MCMC_girg(g, weights.copy(), alpha, const, pts.copy(), pool=False, graph_name='test',\n",
    "                    failure_prob=0.3, cl_mixin_prob=0.5)\n"
   ],
   "metadata": {
    "collapsed": false,
    "ExecuteTime": {
     "start_time": "2023-08-01T10:23:06.421927Z",
     "end_time": "2023-08-01T10:23:28.537972Z"
    }
   }
  },
  {
   "cell_type": "code",
   "execution_count": 19,
   "outputs": [
    {
     "name": "stdout",
     "output_type": "stream",
     "text": [
      "CPU times: user 11.8 s, sys: 8.63 ms, total: 11.9 s\n",
      "Wall time: 11.9 s\n"
     ]
    }
   ],
   "source": [
    "%time MC.ordered_point_propose_compare_update(5)"
   ],
   "metadata": {
    "collapsed": false,
    "ExecuteTime": {
     "start_time": "2023-08-01T10:23:58.213249Z",
     "end_time": "2023-08-01T10:24:10.112995Z"
    }
   }
  },
  {
   "cell_type": "code",
   "execution_count": null,
   "outputs": [],
   "source": [
    "%time MC.ordered_point_propose_compare_update(50)"
   ],
   "metadata": {
    "collapsed": false
   }
  },
  {
   "cell_type": "code",
   "execution_count": 20,
   "outputs": [
    {
     "name": "stdout",
     "output_type": "stream",
     "text": [
      "CPU times: user 5.47 s, sys: 1.95 ms, total: 5.47 s\n",
      "Wall time: 5.48 s\n"
     ]
    }
   ],
   "source": [
    "%time MC.alpha_update(3)\n"
   ],
   "metadata": {
    "collapsed": false,
    "ExecuteTime": {
     "start_time": "2023-08-01T10:24:10.107968Z",
     "end_time": "2023-08-01T10:24:15.595444Z"
    }
   }
  },
  {
   "cell_type": "code",
   "execution_count": 21,
   "outputs": [
    {
     "name": "stdout",
     "output_type": "stream",
     "text": [
      "CPU times: user 5.5 s, sys: 1.99 ms, total: 5.5 s\n",
      "Wall time: 5.52 s\n"
     ]
    }
   ],
   "source": [
    "def temp(num_const_proposals):\n",
    "    for _ in range(num_const_proposals):\n",
    "        MC.ll, MC.expected_num_edges = MC.calculate_ll()\n",
    "        MC.calibrate_const()\n",
    "\n",
    "%time temp(3)"
   ],
   "metadata": {
    "collapsed": false,
    "ExecuteTime": {
     "start_time": "2023-08-01T10:24:15.599160Z",
     "end_time": "2023-08-01T10:24:21.142746Z"
    }
   }
  },
  {
   "cell_type": "code",
   "execution_count": 28,
   "outputs": [],
   "source": [
    "def ordered_point_propose_compare_update(self, num_proposals=100):\n",
    "    \"\"\"Similar to mercator, does a round of ordered updates.\n",
    "    top weight nodes are updated first.\n",
    "    \"\"\"\n",
    "    for u_index in np.argsort(-self.weights):  # largest to smallest\n",
    "        x_u = self.pts[u_index].copy()\n",
    "\n",
    "        nhbs = list(self.g.iterNeighbors(u_index))\n",
    "        mean_pos = self.pts[nhbs].mean(axis=0)\n",
    "\n",
    "        x_u2s = np.concatenate([\n",
    "            # near to current position\n",
    "            self.proposal(num_proposals//4, self.d, sigma=0.01, x_u=x_u, p_normal=0.7),\n",
    "            # near to mean position\n",
    "            self.proposal(num_proposals//4, self.d, sigma=0.01, x_u=mean_pos, p_normal=0.7),\n",
    "            # near to neighbours\n",
    "            self.proposal(num_proposals//2, self.d, sigma=0.01,\n",
    "                          x_u=self.pts[nhbs][np.random.choice(len(nhbs), size=num_proposals//2)],\n",
    "                          p_normal=0.7),\n",
    "        ])\n",
    "\n",
    "        x_u2s = np.concatenate([x_u2s, [mean_pos, x_u]])\n",
    "\n",
    "        lls = []\n",
    "        for x_u2 in x_u2s:\n",
    "            self.pts[u_index] = x_u2\n",
    "            p_u_to_vs2 = mcmc.MCMC_girg.get_p_u_to_vs(\n",
    "                self.weights, self.pts, self.alpha, self.const_in,\n",
    "                u_index, self.failure_prob, self.cl_mixin_prob,\n",
    "                self.c_cl)\n",
    "            u_ll_new = self.p_u_to_vs_to_ll(self.g, u_index, p_u_to_vs2)\n",
    "            lls.append(u_ll_new)\n",
    "\n",
    "\n",
    "        self.pts[u_index] = x_u2s[np.argmax(lls)]"
   ],
   "metadata": {
    "collapsed": false,
    "ExecuteTime": {
     "start_time": "2023-08-01T10:28:02.169598Z",
     "end_time": "2023-08-01T10:28:02.222080Z"
    }
   }
  },
  {
   "cell_type": "code",
   "execution_count": null,
   "outputs": [],
   "source": [
    "ordered_point_propose_compare_update(MC)"
   ],
   "metadata": {
    "collapsed": false
   }
  },
  {
   "cell_type": "code",
   "execution_count": 26,
   "outputs": [],
   "source": [
    "%load_ext line_profiler"
   ],
   "metadata": {
    "collapsed": false,
    "ExecuteTime": {
     "start_time": "2023-08-01T10:27:34.095776Z",
     "end_time": "2023-08-01T10:27:34.141472Z"
    }
   }
  },
  {
   "cell_type": "code",
   "execution_count": 29,
   "outputs": [],
   "source": [
    "ordered_point_propose_compare_update(MC, 3)"
   ],
   "metadata": {
    "collapsed": false,
    "ExecuteTime": {
     "start_time": "2023-08-01T10:28:10.846414Z",
     "end_time": "2023-08-01T10:28:12.894287Z"
    }
   }
  },
  {
   "cell_type": "code",
   "execution_count": 43,
   "outputs": [
    {
     "name": "stderr",
     "output_type": "stream",
     "text": [
      "UsageError: Could not find module ordered_point_propose_compare_update(MC,.\n",
      "SyntaxError: unexpected EOF while parsing (<string>, line 1)\n"
     ]
    }
   ],
   "source": [
    "%lprun -f ordered_point_propose_compare_update(MC, 3)"
   ],
   "metadata": {
    "collapsed": false,
    "ExecuteTime": {
     "start_time": "2023-08-01T10:27:08.302247Z",
     "end_time": "2023-08-01T10:27:08.340396Z"
    }
   }
  },
  {
   "cell_type": "code",
   "execution_count": 33,
   "outputs": [],
   "source": [
    "import line_profiler"
   ],
   "metadata": {
    "collapsed": false,
    "ExecuteTime": {
     "start_time": "2023-08-01T10:28:59.752911Z",
     "end_time": "2023-08-01T10:28:59.758988Z"
    }
   }
  },
  {
   "cell_type": "code",
   "execution_count": 4,
   "outputs": [],
   "source": [
    "def sum_of_lists(N):\n",
    "    total = 0\n",
    "    for i in range(5):\n",
    "        L = [j ^ (j >> i) for j in range(N)]\n",
    "        total += sum(L)\n",
    "    return total"
   ],
   "metadata": {
    "collapsed": false,
    "ExecuteTime": {
     "start_time": "2023-08-01T10:32:01.144428Z",
     "end_time": "2023-08-01T10:32:01.162677Z"
    }
   }
  },
  {
   "cell_type": "code",
   "execution_count": 10,
   "outputs": [
    {
     "name": "stdout",
     "output_type": "stream",
     "text": [
      " "
     ]
    }
   ],
   "source": [
    "%prun sum_of_lists(1000)"
   ],
   "metadata": {
    "collapsed": false,
    "ExecuteTime": {
     "start_time": "2023-08-01T10:33:16.657078Z",
     "end_time": "2023-08-01T10:33:16.664382Z"
    }
   }
  },
  {
   "cell_type": "code",
   "execution_count": 5,
   "outputs": [],
   "source": [
    "%load_ext line_profiler"
   ],
   "metadata": {
    "collapsed": false,
    "ExecuteTime": {
     "start_time": "2023-08-01T10:41:13.329107Z",
     "end_time": "2023-08-01T10:41:13.362045Z"
    }
   }
  },
  {
   "cell_type": "code",
   "execution_count": 13,
   "outputs": [
    {
     "name": "stdout",
     "output_type": "stream",
     "text": [
      " "
     ]
    }
   ],
   "source": [
    "%prun MC.ordered_point_propose_compare_update(3)"
   ],
   "metadata": {
    "collapsed": false,
    "ExecuteTime": {
     "start_time": "2023-08-01T10:34:03.272113Z",
     "end_time": "2023-08-01T10:34:05.488949Z"
    }
   }
  },
  {
   "cell_type": "code",
   "execution_count": 14,
   "outputs": [
    {
     "name": "stdout",
     "output_type": "stream",
     "text": [
      "Writing simulation.py\n"
     ]
    }
   ],
   "source": [
    "%%writefile simulation.py\n",
    "import numpy as np\n",
    "\n",
    "def step(*shape):\n",
    "    # Create a random n-vector with +1 or -1 values.\n",
    "    return 2 * (np.random.random_sample(shape)<.5) - 1\n",
    "\n",
    "def simulate(iterations, n=10000):\n",
    "    s = step(iterations, n)\n",
    "    x = np.cumsum(s, axis=0)\n",
    "    bins = np.arange(-30, 30, 1)\n",
    "    y = np.vstack([np.histogram(x[i,:], bins)[0]\n",
    "                   for i in range(iterations)])\n",
    "    return y"
   ],
   "metadata": {
    "collapsed": false,
    "ExecuteTime": {
     "start_time": "2023-08-01T10:38:13.654696Z",
     "end_time": "2023-08-01T10:38:13.703457Z"
    }
   }
  },
  {
   "cell_type": "code",
   "execution_count": 17,
   "outputs": [],
   "source": [
    "from simulation import simulate"
   ],
   "metadata": {
    "collapsed": false,
    "ExecuteTime": {
     "start_time": "2023-08-01T10:38:45.436358Z",
     "end_time": "2023-08-01T10:38:45.454222Z"
    }
   }
  },
  {
   "cell_type": "code",
   "execution_count": 18,
   "outputs": [
    {
     "name": "stdout",
     "output_type": "stream",
     "text": [
      "\n",
      "*** Profile printout saved to text file 'lprof0'. \n"
     ]
    }
   ],
   "source": [
    "%lprun -T lprof0 -f simulate simulate(50)"
   ],
   "metadata": {
    "collapsed": false,
    "ExecuteTime": {
     "start_time": "2023-08-01T10:38:59.603992Z",
     "end_time": "2023-08-01T10:38:59.650174Z"
    }
   }
  },
  {
   "cell_type": "code",
   "execution_count": 19,
   "outputs": [
    {
     "name": "stdout",
     "output_type": "stream",
     "text": [
      "Writing simulation2.py\n"
     ]
    }
   ],
   "source": [
    "%%writefile simulation2.py\n",
    "\n",
    "import numpy as np\n",
    "from benji_girgs import mcmc\n",
    "\n",
    "def ordered_point_propose_compare_update(self, num_proposals=100):\n",
    "    \"\"\"Similar to mercator, does a round of ordered updates.\n",
    "    top weight nodes are updated first.\n",
    "    \"\"\"\n",
    "    for u_index in np.argsort(-self.weights):  # largest to smallest\n",
    "        x_u = self.pts[u_index].copy()\n",
    "\n",
    "        nhbs = list(self.g.iterNeighbors(u_index))\n",
    "        mean_pos = self.pts[nhbs].mean(axis=0)\n",
    "\n",
    "        x_u2s = np.concatenate([\n",
    "            # near to current position\n",
    "            self.proposal(num_proposals//4, self.d, sigma=0.01, x_u=x_u, p_normal=0.7),\n",
    "            # near to mean position\n",
    "            self.proposal(num_proposals//4, self.d, sigma=0.01, x_u=mean_pos, p_normal=0.7),\n",
    "            # near to neighbours\n",
    "            self.proposal(num_proposals//2, self.d, sigma=0.01,\n",
    "                          x_u=self.pts[nhbs][np.random.choice(len(nhbs), size=num_proposals//2)],\n",
    "                          p_normal=0.7),\n",
    "        ])\n",
    "\n",
    "        x_u2s = np.concatenate([x_u2s, [mean_pos, x_u]])\n",
    "\n",
    "        lls = []\n",
    "        for x_u2 in x_u2s:\n",
    "            self.pts[u_index] = x_u2\n",
    "            p_u_to_vs2 = mcmc.MCMC_girg.get_p_u_to_vs(\n",
    "                self.weights, self.pts, self.alpha, self.const_in,\n",
    "                u_index, self.failure_prob, self.cl_mixin_prob,\n",
    "                self.c_cl)\n",
    "            u_ll_new = self.p_u_to_vs_to_ll(self.g, u_index, p_u_to_vs2)\n",
    "            lls.append(u_ll_new)\n",
    "\n",
    "\n",
    "        self.pts[u_index] = x_u2s[np.argmax(lls)]"
   ],
   "metadata": {
    "collapsed": false,
    "ExecuteTime": {
     "start_time": "2023-08-01T10:40:18.197621Z",
     "end_time": "2023-08-01T10:40:18.236537Z"
    }
   }
  },
  {
   "cell_type": "code",
   "execution_count": 6,
   "outputs": [],
   "source": [
    "from simulation2 import ordered_point_propose_compare_update"
   ],
   "metadata": {
    "collapsed": false,
    "ExecuteTime": {
     "start_time": "2023-08-01T10:41:16.982852Z",
     "end_time": "2023-08-01T10:41:17.005030Z"
    }
   }
  },
  {
   "cell_type": "code",
   "execution_count": 7,
   "outputs": [],
   "source": [
    "ordered_point_propose_compare_update(MC, 3)"
   ],
   "metadata": {
    "collapsed": false,
    "ExecuteTime": {
     "start_time": "2023-08-01T10:41:22.285537Z",
     "end_time": "2023-08-01T10:41:24.427008Z"
    }
   }
  },
  {
   "cell_type": "code",
   "execution_count": 9,
   "outputs": [
    {
     "name": "stdout",
     "output_type": "stream",
     "text": [
      "\n",
      "*** Profile printout saved to text file 'lprof1'. \n"
     ]
    }
   ],
   "source": [
    "%lprun -T lprof1 -f ordered_point_propose_compare_update ordered_point_propose_compare_update(MC, 3)"
   ],
   "metadata": {
    "collapsed": false,
    "ExecuteTime": {
     "start_time": "2023-08-01T10:48:30.961347Z",
     "end_time": "2023-08-01T10:48:33.277064Z"
    }
   }
  },
  {
   "cell_type": "code",
   "execution_count": 10,
   "outputs": [
    {
     "name": "stdout",
     "output_type": "stream",
     "text": [
      "\n",
      "*** Profile printout saved to text file 'lprof1'. \n"
     ]
    }
   ],
   "source": [
    "%lprun -T lprof1 -f MC.ordered_point_propose_compare_update MC.ordered_point_propose_compare_update(3)"
   ],
   "metadata": {
    "collapsed": false,
    "ExecuteTime": {
     "start_time": "2023-08-01T10:49:23.200026Z",
     "end_time": "2023-08-01T10:49:25.477368Z"
    }
   }
  },
  {
   "cell_type": "code",
   "execution_count": null,
   "outputs": [],
   "source": [],
   "metadata": {
    "collapsed": false
   }
  }
 ],
 "metadata": {
  "kernelspec": {
   "name": "girgenv_higherdims",
   "language": "python",
   "display_name": "girgenv_higherdims"
  },
  "language_info": {
   "codemirror_mode": {
    "name": "ipython",
    "version": 2
   },
   "file_extension": ".py",
   "mimetype": "text/x-python",
   "name": "python",
   "nbconvert_exporter": "python",
   "pygments_lexer": "ipython2",
   "version": "2.7.6"
  }
 },
 "nbformat": 4,
 "nbformat_minor": 0
}
