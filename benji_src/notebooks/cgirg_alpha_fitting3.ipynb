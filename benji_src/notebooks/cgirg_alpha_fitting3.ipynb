{
 "cells": [
  {
   "cell_type": "code",
   "execution_count": 1,
   "metadata": {
    "tags": []
   },
   "outputs": [],
   "source": [
    "import os\n",
    "os.chdir('/cluster/home/bdayan/girgs/benji_src/')\n",
    "import sys\n",
    "sys.path.append('../')\n",
    "sys.path.append('../nemo-eva/src/')"
   ]
  },
  {
   "cell_type": "code",
   "execution_count": 2,
   "metadata": {},
   "outputs": [
    {
     "data": {
      "text/html": [
       "\n",
       "\t\t\t<script type=\"text/javascript\">\n",
       "\t\t\t<!--\n",
       "\t\t\t\t\n",
       "\t\t\t{\n",
       "\t\t\t\tvar element = document.getElementById('NetworKit_script');\n",
       "\t\t\t\tif (element) {\n",
       "\t\t\t\t\telement.parentNode.removeChild(element);\n",
       "\t\t\t\t}\n",
       "\t\t\t\telement = document.createElement('script');\n",
       "\t\t\t\telement.type = 'text/javascript';\n",
       "\t\t\t\telement.innerHTML = 'function NetworKit_pageEmbed(id) { var i, j; var elements; elements = document.getElementById(id).getElementsByClassName(\"Plot\"); for (i=0; i<elements.length; i++) { elements[i].id = id + \"_Plot_\" + i; var data = elements[i].getAttribute(\"data-image\").split(\"|\"); elements[i].removeAttribute(\"data-image\"); var content = \"<div class=\\\\\"Image\\\\\" id=\\\\\"\" + elements[i].id + \"_Image\\\\\" />\"; elements[i].innerHTML = content; elements[i].setAttribute(\"data-image-index\", 0); elements[i].setAttribute(\"data-image-length\", data.length); for (j=0; j<data.length; j++) { elements[i].setAttribute(\"data-image-\" + j, data[j]); } NetworKit_plotUpdate(elements[i]); elements[i].onclick = function (e) { NetworKit_overlayShow((e.target) ? e.target : e.srcElement); } } elements = document.getElementById(id).getElementsByClassName(\"HeatCell\"); for (i=0; i<elements.length; i++) { var data = parseFloat(elements[i].getAttribute(\"data-heat\")); var color = \"#00FF00\"; if (data <= 1 && data > 0) { color = \"hsla(0, 100%, 75%, \" + (data) + \")\"; } else if (data <= 0 && data >= -1) { color = \"hsla(240, 100%, 75%, \" + (-data) + \")\"; } elements[i].style.backgroundColor = color; } elements = document.getElementById(id).getElementsByClassName(\"Details\"); for (i=0; i<elements.length; i++) { elements[i].setAttribute(\"data-title\", \"-\"); NetworKit_toggleDetails(elements[i]); elements[i].onclick = function (e) { NetworKit_toggleDetails((e.target) ? e.target : e.srcElement); } } elements = document.getElementById(id).getElementsByClassName(\"MathValue\"); for (i=elements.length-1; i>=0; i--) { value = elements[i].innerHTML.trim(); if (value === \"nan\") { elements[i].parentNode.innerHTML = \"\" } } elements = document.getElementById(id).getElementsByClassName(\"SubCategory\"); for (i=elements.length-1; i>=0; i--) { value = elements[i].innerHTML.trim(); if (value === \"\") { elements[i].parentNode.removeChild(elements[i]) } } elements = document.getElementById(id).getElementsByClassName(\"Category\"); for (i=elements.length-1; i>=0; i--) { value = elements[i].innerHTML.trim(); if (value === \"\") { elements[i].parentNode.removeChild(elements[i]) } } var isFirefox = false; try { isFirefox = typeof InstallTrigger !== \"undefined\"; } catch (e) {} if (!isFirefox) { alert(\"Currently the function\\'s output is only fully supported by Firefox.\"); } } function NetworKit_plotUpdate(source) { var index = source.getAttribute(\"data-image-index\"); var data = source.getAttribute(\"data-image-\" + index); var image = document.getElementById(source.id + \"_Image\"); image.style.backgroundImage = \"url(\" + data + \")\"; } function NetworKit_showElement(id, show) { var element = document.getElementById(id); element.style.display = (show) ? \"block\" : \"none\"; } function NetworKit_overlayShow(source) { NetworKit_overlayUpdate(source); NetworKit_showElement(\"NetworKit_Overlay\", true); } function NetworKit_overlayUpdate(source) { document.getElementById(\"NetworKit_Overlay_Title\").innerHTML = source.title; var index = source.getAttribute(\"data-image-index\"); var data = source.getAttribute(\"data-image-\" + index); var image = document.getElementById(\"NetworKit_Overlay_Image\"); image.setAttribute(\"data-id\", source.id); image.style.backgroundImage = \"url(\" + data + \")\"; var link = document.getElementById(\"NetworKit_Overlay_Toolbar_Bottom_Save\"); link.href = data; link.download = source.title + \".svg\"; } function NetworKit_overlayImageShift(delta) { var image = document.getElementById(\"NetworKit_Overlay_Image\"); var source = document.getElementById(image.getAttribute(\"data-id\")); var index = parseInt(source.getAttribute(\"data-image-index\")); var length = parseInt(source.getAttribute(\"data-image-length\")); var index = (index+delta) % length; if (index < 0) { index = length + index; } source.setAttribute(\"data-image-index\", index); NetworKit_overlayUpdate(source); } function NetworKit_toggleDetails(source) { var childs = source.children; var show = false; if (source.getAttribute(\"data-title\") == \"-\") { source.setAttribute(\"data-title\", \"+\"); show = false; } else { source.setAttribute(\"data-title\", \"-\"); show = true; } for (i=0; i<childs.length; i++) { if (show) { childs[i].style.display = \"block\"; } else { childs[i].style.display = \"none\"; } } }';\n",
       "\t\t\t\telement.setAttribute('id', 'NetworKit_script');\n",
       "\t\t\t\tdocument.head.appendChild(element);\n",
       "\t\t\t}\n",
       "\t\t\n",
       "\t\t\t\t\n",
       "\t\t\t{\n",
       "\t\t\t\tvar element = document.getElementById('NetworKit_style');\n",
       "\t\t\t\tif (element) {\n",
       "\t\t\t\t\telement.parentNode.removeChild(element);\n",
       "\t\t\t\t}\n",
       "\t\t\t\telement = document.createElement('style');\n",
       "\t\t\t\telement.type = 'text/css';\n",
       "\t\t\t\telement.innerHTML = '.NetworKit_Page { font-family: Arial, Helvetica, sans-serif; font-size: 14px; } .NetworKit_Page .Value:before { font-family: Arial, Helvetica, sans-serif; font-size: 1.05em; content: attr(data-title) \":\"; margin-left: -2.5em; padding-right: 0.5em; } .NetworKit_Page .Details .Value:before { display: block; } .NetworKit_Page .Value { font-family: monospace; white-space: pre; padding-left: 2.5em; white-space: -moz-pre-wrap !important; white-space: -pre-wrap; white-space: -o-pre-wrap; white-space: pre-wrap; word-wrap: break-word; tab-size: 4; -moz-tab-size: 4; } .NetworKit_Page .Category { clear: both; padding-left: 1em; margin-bottom: 1.5em; } .NetworKit_Page .Category:before { content: attr(data-title); font-size: 1.75em; display: block; margin-left: -0.8em; margin-bottom: 0.5em; } .NetworKit_Page .SubCategory { margin-bottom: 1.5em; padding-left: 1em; } .NetworKit_Page .SubCategory:before { font-size: 1.6em; display: block; margin-left: -0.8em; margin-bottom: 0.5em; } .NetworKit_Page .SubCategory[data-title]:before { content: attr(data-title); } .NetworKit_Page .Block { display: block; } .NetworKit_Page .Block:after { content: \".\"; visibility: hidden; display: block; height: 0; clear: both; } .NetworKit_Page .Block .Thumbnail_Overview, .NetworKit_Page .Block .Thumbnail_ScatterPlot { width: 260px; float: left; } .NetworKit_Page .Block .Thumbnail_Overview img, .NetworKit_Page .Block .Thumbnail_ScatterPlot img { width: 260px; } .NetworKit_Page .Block .Thumbnail_Overview:before, .NetworKit_Page .Block .Thumbnail_ScatterPlot:before { display: block; text-align: center; font-weight: bold; } .NetworKit_Page .Block .Thumbnail_Overview:before { content: attr(data-title); } .NetworKit_Page .HeatCell { font-family: \"Courier New\", Courier, monospace; cursor: pointer; } .NetworKit_Page .HeatCell, .NetworKit_Page .HeatCellName { display: inline; padding: 0.1em; margin-right: 2px; background-color: #FFFFFF } .NetworKit_Page .HeatCellName { margin-left: 0.25em; } .NetworKit_Page .HeatCell:before { content: attr(data-heat); display: inline-block; color: #000000; width: 4em; text-align: center; } .NetworKit_Page .Measure { clear: both; } .NetworKit_Page .Measure .Details { cursor: pointer; } .NetworKit_Page .Measure .Details:before { content: \"[\" attr(data-title) \"]\"; display: block; } .NetworKit_Page .Measure .Details .Value { border-left: 1px dotted black; margin-left: 0.4em; padding-left: 3.5em; pointer-events: none; } .NetworKit_Page .Measure .Details .Spacer:before { content: \".\"; opacity: 0.0; pointer-events: none; } .NetworKit_Page .Measure .Plot { width: 440px; height: 440px; cursor: pointer; float: left; margin-left: -0.9em; margin-right: 20px; } .NetworKit_Page .Measure .Plot .Image { background-repeat: no-repeat; background-position: center center; background-size: contain; height: 100%; pointer-events: none; } .NetworKit_Page .Measure .Stat { width: 500px; float: left; } .NetworKit_Page .Measure .Stat .Group { padding-left: 1.25em; margin-bottom: 0.75em; } .NetworKit_Page .Measure .Stat .Group .Title { font-size: 1.1em; display: block; margin-bottom: 0.3em; margin-left: -0.75em; border-right-style: dotted; border-right-width: 1px; border-bottom-style: dotted; border-bottom-width: 1px; background-color: #D0D0D0; padding-left: 0.2em; } .NetworKit_Page .Measure .Stat .Group .List { -webkit-column-count: 3; -moz-column-count: 3; column-count: 3; } .NetworKit_Page .Measure .Stat .Group .List .Entry { position: relative; line-height: 1.75em; } .NetworKit_Page .Measure .Stat .Group .List .Entry[data-tooltip]:before { position: absolute; left: 0; top: -40px; background-color: #808080; color: #ffffff; height: 30px; line-height: 30px; border-radius: 5px; padding: 0 15px; content: attr(data-tooltip); white-space: nowrap; display: none; } .NetworKit_Page .Measure .Stat .Group .List .Entry[data-tooltip]:after { position: absolute; left: 15px; top: -10px; border-top: 7px solid #808080; border-left: 7px solid transparent; border-right: 7px solid transparent; content: \"\"; display: none; } .NetworKit_Page .Measure .Stat .Group .List .Entry[data-tooltip]:hover:after, .NetworKit_Page .Measure .Stat .Group .List .Entry[data-tooltip]:hover:before { display: block; } .NetworKit_Page .Measure .Stat .Group .List .Entry .MathValue { font-family: \"Courier New\", Courier, monospace; } .NetworKit_Page .Measure:after { content: \".\"; visibility: hidden; display: block; height: 0; clear: both; } .NetworKit_Page .PartitionPie { clear: both; } .NetworKit_Page .PartitionPie img { width: 600px; } #NetworKit_Overlay { left: 0px; top: 0px; display: none; position: absolute; width: 100%; height: 100%; background-color: rgba(0,0,0,0.6); z-index: 1000; } #NetworKit_Overlay_Title { position: absolute; color: white; transform: rotate(-90deg); width: 32em; height: 32em; padding-right: 0.5em; padding-top: 0.5em; text-align: right; font-size: 40px; } #NetworKit_Overlay .button { background: white; cursor: pointer; } #NetworKit_Overlay .button:before { size: 13px; display: inline-block; text-align: center; margin-top: 0.5em; margin-bottom: 0.5em; width: 1.5em; height: 1.5em; } #NetworKit_Overlay .icon-close:before { content: \"X\"; } #NetworKit_Overlay .icon-previous:before { content: \"P\"; } #NetworKit_Overlay .icon-next:before { content: \"N\"; } #NetworKit_Overlay .icon-save:before { content: \"S\"; } #NetworKit_Overlay_Toolbar_Top, #NetworKit_Overlay_Toolbar_Bottom { position: absolute; width: 40px; right: 13px; text-align: right; z-index: 1100; } #NetworKit_Overlay_Toolbar_Top { top: 0.5em; } #NetworKit_Overlay_Toolbar_Bottom { Bottom: 0.5em; } #NetworKit_Overlay_ImageContainer { position: absolute; top: 5%; left: 5%; height: 90%; width: 90%; background-repeat: no-repeat; background-position: center center; background-size: contain; } #NetworKit_Overlay_Image { height: 100%; width: 100%; background-repeat: no-repeat; background-position: center center; background-size: contain; }';\n",
       "\t\t\t\telement.setAttribute('id', 'NetworKit_style');\n",
       "\t\t\t\tdocument.head.appendChild(element);\n",
       "\t\t\t}\n",
       "\t\t\n",
       "\t\t\t\t\n",
       "\t\t\t{\n",
       "\t\t\t\tvar element = document.getElementById('NetworKit_Overlay');\n",
       "\t\t\t\tif (element) {\n",
       "\t\t\t\t\telement.parentNode.removeChild(element);\n",
       "\t\t\t\t}\n",
       "\t\t\t\telement = document.createElement('div');\n",
       "\t\t\t\telement.innerHTML = '<div id=\"NetworKit_Overlay_Toolbar_Top\"><div class=\"button icon-close\" id=\"NetworKit_Overlay_Close\" /></div><div id=\"NetworKit_Overlay_Title\" /> <div id=\"NetworKit_Overlay_ImageContainer\"> <div id=\"NetworKit_Overlay_Image\" /> </div> <div id=\"NetworKit_Overlay_Toolbar_Bottom\"> <div class=\"button icon-previous\" onclick=\"NetworKit_overlayImageShift(-1)\" /> <div class=\"button icon-next\" onclick=\"NetworKit_overlayImageShift(1)\" /> <a id=\"NetworKit_Overlay_Toolbar_Bottom_Save\"><div class=\"button icon-save\" /></a> </div>';\n",
       "\t\t\t\telement.setAttribute('id', 'NetworKit_Overlay');\n",
       "\t\t\t\tdocument.body.appendChild(element);\n",
       "\t\t\t\tdocument.getElementById('NetworKit_Overlay_Close').onclick = function (e) {\n",
       "\t\t\t\t\tdocument.getElementById('NetworKit_Overlay').style.display = 'none';\n",
       "\t\t\t\t}\n",
       "\t\t\t}\n",
       "\t\t\n",
       "\t\t\t-->\n",
       "\t\t\t</script>\n",
       "\t\t"
      ]
     },
     "metadata": {},
     "output_type": "display_data"
    }
   ],
   "source": [
    "import numpy as np\n",
    "import pandas as pd\n",
    "\n",
    "import networkit as nk\n",
    "from benji_girgs import fitting, utils, generation, plotting\n",
    "\n",
    "import seaborn as sns\n",
    "import powerlaw\n",
    "import matplotlib.pyplot as plt\n",
    "import inspect\n",
    "import powerlaw\n",
    "import glob\n",
    "\n",
    "from girg_sampling import girgs\n",
    "import feature_extractor\n",
    "\n",
    "from IPython.core.interactiveshell import InteractiveShell\n",
    "InteractiveShell.ast_node_interactivity = \"all\""
   ]
  },
  {
   "cell_type": "code",
   "execution_count": 44,
   "metadata": {},
   "outputs": [
    {
     "data": {
      "text/plain": [
       "<module 'feature_extractor' from '../nemo-eva/src/feature_extractor.py'>"
      ]
     },
     "execution_count": 44,
     "metadata": {},
     "output_type": "execute_result"
    }
   ],
   "source": [
    "import importlib\n",
    "importlib.reload(feature_extractor)"
   ]
  },
  {
   "cell_type": "code",
   "execution_count": 45,
   "metadata": {},
   "outputs": [
    {
     "data": {
      "text/plain": [
       "['/cluster/scratch/bdayan/GIRG_data/bio-dmela.SpaceOne',\n",
       " '/cluster/scratch/bdayan/GIRG_data/bio-celegans-dir.SpaceOne',\n",
       " '/cluster/scratch/bdayan/GIRG_data/bio-diseasome.SpaceOne',\n",
       " '/cluster/scratch/bdayan/GIRG_data/bio-yeast-protein-inter.SpaceOne',\n",
       " '/cluster/scratch/bdayan/GIRG_data/bio-celegans.SpaceOne',\n",
       " '/cluster/scratch/bdayan/GIRG_data/bio-yeast.SpaceOne']"
      ]
     },
     "execution_count": 45,
     "metadata": {},
     "output_type": "execute_result"
    },
    {
     "name": "stdout",
     "output_type": "stream",
     "text": [
      "Network Properties:\n",
      "nodes, edges\t\t\t1458, 1948\n",
      "directed?\t\t\tFalse\n",
      "weighted?\t\t\tFalse\n",
      "isolated nodes\t\t\t0\n",
      "self-loops\t\t\t0\n",
      "density\t\t\t\t0.001834\n",
      "clustering coefficient\t\t0.070830\n",
      "min/max/avg degree\t\t1, 56, 2.672154\n",
      "degree assortativity\t\t-0.205456\n",
      "number of connected components\t1\n",
      "size of largest component\t1458 (100.00 %)\n"
     ]
    }
   ],
   "source": [
    "data_path = '/cluster/scratch/bdayan/GIRG_data/'\n",
    "glob.glob(data_path + 'bio*')\n",
    "\n",
    "greal = nk.readGraph('/cluster/scratch/bdayan/GIRG_data/bio-yeast.SpaceOne', nk.Format.EdgeListSpaceOne)\n",
    "fe = feature_extractor.FeatureExtractor([])\n",
    "nk.overview(greal)"
   ]
  },
  {
   "cell_type": "code",
   "execution_count": 14,
   "metadata": {},
   "outputs": [
    {
     "name": "stdout",
     "output_type": "stream",
     "text": [
      "Network Properties:\n",
      "nodes, edges\t\t\t2619, 1803\n",
      "directed?\t\t\tFalse\n",
      "weighted?\t\t\tFalse\n",
      "isolated nodes\t\t\t793\n",
      "self-loops\t\t\t0\n",
      "density\t\t\t\t0.000526\n",
      "clustering coefficient\t\t0.049344\n",
      "min/max/avg degree\t\t0, 17, 1.376861\n",
      "degree assortativity\t\t-0.000807\n",
      "number of connected components\t1022\n",
      "size of largest component\t1117 (42.65 %)\n"
     ]
    }
   ],
   "source": [
    "info, ghyp = fe.fit_hyperbolic(greal)\n",
    "nk.overview(ghyp)"
   ]
  },
  {
   "cell_type": "code",
   "execution_count": 28,
   "metadata": {},
   "outputs": [
    {
     "data": {
      "text/plain": [
       "0.1411013636758447"
      ]
     },
     "execution_count": 28,
     "metadata": {},
     "output_type": "execute_result"
    },
    {
     "data": {
      "text/plain": [
       "0.14153565534613047"
      ]
     },
     "execution_count": 28,
     "metadata": {},
     "output_type": "execute_result"
    },
    {
     "data": {
      "text/plain": [
       "0.1083557717362981"
      ]
     },
     "execution_count": 28,
     "metadata": {},
     "output_type": "execute_result"
    },
    {
     "data": {
      "text/plain": [
       "0.07769477981412316"
      ]
     },
     "execution_count": 28,
     "metadata": {},
     "output_type": "execute_result"
    },
    {
     "data": {
      "text/plain": [
       "0.09966993833058282"
      ]
     },
     "execution_count": 28,
     "metadata": {},
     "output_type": "execute_result"
    },
    {
     "data": {
      "text/plain": [
       "0.11400156345001303"
      ]
     },
     "execution_count": 28,
     "metadata": {},
     "output_type": "execute_result"
    },
    {
     "data": {
      "text/plain": [
       "0.12034222183618518"
      ]
     },
     "execution_count": 28,
     "metadata": {},
     "output_type": "execute_result"
    }
   ],
   "source": [
    "nk.globals.clustering(ghyp)\n",
    "nk.globals.clustering(greal)\n",
    "for info, ggirg in ggirgs:\n",
    "    nk.globals.clustering(ggirg)"
   ]
  },
  {
   "cell_type": "code",
   "execution_count": 29,
   "metadata": {},
   "outputs": [
    {
     "data": {
      "text/plain": [
       "0.05185033184082525"
      ]
     },
     "execution_count": 29,
     "metadata": {},
     "output_type": "execute_result"
    }
   ],
   "source": [
    "utils.LCC(ggirgs[1][1])"
   ]
  },
  {
   "cell_type": "code",
   "execution_count": 51,
   "metadata": {},
   "outputs": [
    {
     "data": {
      "text/plain": [
       "0.0818639798488665"
      ]
     },
     "execution_count": 51,
     "metadata": {},
     "output_type": "execute_result"
    }
   ],
   "source": [
    "nk.globals.clustering(ggirgs[1][1])"
   ]
  },
  {
   "cell_type": "code",
   "execution_count": 71,
   "metadata": {},
   "outputs": [
    {
     "data": {
      "text/plain": [
       "[1, 2, 3]"
      ]
     },
     "execution_count": 71,
     "metadata": {},
     "output_type": "execute_result"
    }
   ],
   "source": [
    "list(range(1, 4))"
   ]
  },
  {
   "cell_type": "code",
   "execution_count": 25,
   "metadata": {
    "collapsed": true,
    "jupyter": {
     "outputs_hidden": true
    },
    "tags": []
   },
   "outputs": [
    {
     "name": "stdout",
     "output_type": "stream",
     "text": [
      "Calculating best minimal value for power law fit\n",
      "target_avg_degree: 2.672\n",
      "target_lcc: 0.071\n",
      "fit tau: 2.985\n",
      "const: 0.141\n",
      "lcc: 0.156 -> lcc2: 0.13; overshoot: False, scale:0.330, alpha: 1.210\n",
      "const: 0.121\n",
      "lcc: 0.131 -> lcc2: 0.09; overshoot: False, scale:0.363, alpha: 1.141\n",
      "const: 0.102\n",
      "lcc: 0.090 -> lcc2: 0.07; overshoot: False, scale:0.399, alpha: 1.090\n",
      "const: 0.091\n",
      "lcc: 0.075 -> lcc2: 0.09; overshoot: False, scale:0.439, alpha: 1.054\n",
      "const: 0.086\n",
      "lcc: 0.087 -> lcc2: 0.06; overshoot: True, scale:0.220, alpha: 1.030\n",
      "const: 0.086\n",
      "lcc: 0.058 -> lcc2: 0.06; overshoot: False, scale:0.242, alpha: 1.039\n",
      "const: 0.089\n",
      "lcc: 0.056 -> lcc2: 0.07; overshoot: False, scale:0.266, alpha: 1.051\n",
      "Fit! fit_count: -1; post_fit_steps: 2\n",
      "const: 0.099\n",
      "lcc: 0.070 -> lcc2: 0.08; overshoot: True, scale:0.133, alpha: 1.069\n",
      "const: 0.095\n",
      "lcc: 0.080 -> lcc2: 0.06; overshoot: True, scale:0.066, alpha: 1.060\n",
      "const: 0.095\n",
      "lcc: 0.064 -> lcc2: 0.07; overshoot: False, scale:0.073, alpha: 1.065\n",
      "Fit! fit_count: 2; post_fit_steps: 2\n",
      "Calculating best minimal value for power law fit\n",
      "target_avg_degree: 2.672\n",
      "target_lcc: 0.071\n",
      "fit tau: 2.985\n",
      "const: 0.068\n",
      "lcc: 0.150 -> lcc2: 0.11; overshoot: False, scale:0.330, alpha: 1.210\n",
      "const: 0.061\n",
      "lcc: 0.114 -> lcc2: 0.10; overshoot: False, scale:0.363, alpha: 1.141\n",
      "const: 0.053\n",
      "lcc: 0.096 -> lcc2: 0.09; overshoot: False, scale:0.399, alpha: 1.090\n",
      "const: 0.045\n",
      "lcc: 0.087 -> lcc2: 0.10; overshoot: False, scale:0.439, alpha: 1.054\n",
      "const: 0.042\n",
      "lcc: 0.096 -> lcc2: 0.06; overshoot: True, scale:0.220, alpha: 1.030\n",
      "const: 0.043\n",
      "lcc: 0.058 -> lcc2: 0.07; overshoot: True, scale:0.110, alpha: 1.039\n",
      "Fit! fit_count: -1; post_fit_steps: 2\n",
      "const: 0.041\n",
      "lcc: 0.073 -> lcc2: 0.07; overshoot: False, scale:0.121, alpha: 1.034\n",
      "Fit! fit_count: 0; post_fit_steps: 2\n",
      "const: 0.041\n",
      "lcc: 0.071 -> lcc2: 0.05; overshoot: True, scale:0.060, alpha: 1.030\n",
      "const: 0.043\n",
      "lcc: 0.048 -> lcc2: 0.05; overshoot: False, scale:0.066, alpha: 1.032\n",
      "const: 0.041\n",
      "lcc: 0.051 -> lcc2: 0.06; overshoot: False, scale:0.073, alpha: 1.035\n",
      "const: 0.043\n",
      "lcc: 0.064 -> lcc2: 0.06; overshoot: False, scale:0.080, alpha: 1.037\n",
      "const: 0.043\n",
      "lcc: 0.059 -> lcc2: 0.07; overshoot: True, scale:0.040, alpha: 1.040\n",
      "Fit! fit_count: 2; post_fit_steps: 2\n",
      "Calculating best minimal value for power law fit\n",
      "target_avg_degree: 2.672\n",
      "target_lcc: 0.071\n",
      "fit tau: 2.985\n",
      "const: 0.035\n",
      "lcc: 0.132 -> lcc2: 0.10; overshoot: False, scale:0.330, alpha: 1.210\n",
      "const: 0.030\n",
      "lcc: 0.102 -> lcc2: 0.08; overshoot: False, scale:0.363, alpha: 1.141\n",
      "const: 0.026\n",
      "lcc: 0.082 -> lcc2: 0.07; overshoot: True, scale:0.182, alpha: 1.090\n",
      "const: 0.027\n",
      "lcc: 0.067 -> lcc2: 0.06; overshoot: False, scale:0.200, alpha: 1.110\n",
      "const: 0.030\n",
      "lcc: 0.060 -> lcc2: 0.08; overshoot: True, scale:0.100, alpha: 1.137\n",
      "const: 0.028\n",
      "lcc: 0.075 -> lcc2: 0.09; overshoot: False, scale:0.110, alpha: 1.123\n",
      "const: 0.028\n",
      "lcc: 0.086 -> lcc2: 0.09; overshoot: False, scale:0.121, alpha: 1.110\n",
      "const: 0.027\n",
      "lcc: 0.086 -> lcc2: 0.07; overshoot: True, scale:0.060, alpha: 1.096\n",
      "const: 0.027\n",
      "lcc: 0.067 -> lcc2: 0.07; overshoot: False, scale:0.066, alpha: 1.103\n",
      "Fit! fit_count: -1; post_fit_steps: 2\n",
      "const: 0.027\n",
      "lcc: 0.070 -> lcc2: 0.09; overshoot: True, scale:0.033, alpha: 1.110\n",
      "const: 0.028\n",
      "lcc: 0.092 -> lcc2: 0.08; overshoot: False, scale:0.037, alpha: 1.106\n",
      "const: 0.027\n",
      "lcc: 0.078 -> lcc2: 0.06; overshoot: True, scale:0.018, alpha: 1.102\n",
      "const: 0.026\n",
      "lcc: 0.059 -> lcc2: 0.08; overshoot: True, scale:0.009, alpha: 1.104\n",
      "const: 0.027\n",
      "lcc: 0.077 -> lcc2: 0.07; overshoot: True, scale:0.005, alpha: 1.103\n",
      "Max fit steps exceeded\n",
      "Calculating best minimal value for power law fit\n",
      "target_avg_degree: 2.672\n",
      "target_lcc: 0.071\n",
      "fit tau: 2.985\n",
      "const: 0.018\n",
      "lcc: 0.121 -> lcc2: 0.08; overshoot: False, scale:0.330, alpha: 1.210\n",
      "const: 0.015\n",
      "lcc: 0.084 -> lcc2: 0.07; overshoot: True, scale:0.165, alpha: 1.141\n",
      "const: 0.016\n",
      "lcc: 0.068 -> lcc2: 0.08; overshoot: True, scale:0.083, alpha: 1.169\n",
      "const: 0.015\n",
      "lcc: 0.076 -> lcc2: 0.06; overshoot: True, scale:0.041, alpha: 1.155\n",
      "const: 0.016\n",
      "lcc: 0.059 -> lcc2: 0.09; overshoot: True, scale:0.021, alpha: 1.161\n",
      "const: 0.015\n",
      "lcc: 0.088 -> lcc2: 0.08; overshoot: False, scale:0.023, alpha: 1.158\n",
      "const: 0.016\n",
      "lcc: 0.077 -> lcc2: 0.09; overshoot: False, scale:0.025, alpha: 1.154\n",
      "const: 0.016\n",
      "lcc: 0.088 -> lcc2: 0.05; overshoot: True, scale:0.012, alpha: 1.150\n",
      "const: 0.016\n",
      "lcc: 0.055 -> lcc2: 0.07; overshoot: True, scale:0.006, alpha: 1.152\n",
      "Fit! fit_count: -1; post_fit_steps: 2\n",
      "const: 0.016\n",
      "lcc: 0.072 -> lcc2: 0.06; overshoot: True, scale:0.003, alpha: 1.151\n",
      "const: 0.015\n",
      "lcc: 0.058 -> lcc2: 0.06; overshoot: False, scale:0.003, alpha: 1.152\n",
      "const: 0.016\n",
      "lcc: 0.063 -> lcc2: 0.08; overshoot: True, scale:0.002, alpha: 1.152\n",
      "const: 0.015\n",
      "lcc: 0.081 -> lcc2: 0.07; overshoot: True, scale:0.001, alpha: 1.152\n",
      "const: 0.016\n",
      "lcc: 0.066 -> lcc2: 0.07; overshoot: False, scale:0.001, alpha: 1.152\n",
      "Max fit steps exceeded\n",
      "Calculating best minimal value for power law fit\n",
      "target_avg_degree: 2.672\n",
      "target_lcc: 0.071\n",
      "fit tau: 2.985\n",
      "const: 0.013\n",
      "lcc: 0.070 -> lcc2: 0.10; overshoot: True, scale:0.150, alpha: 1.429\n",
      "const: 0.012\n",
      "lcc: 0.098 -> lcc2: 0.10; overshoot: False, scale:0.165, alpha: 1.364\n",
      "const: 0.011\n",
      "lcc: 0.097 -> lcc2: 0.09; overshoot: False, scale:0.182, alpha: 1.304\n",
      "const: 0.009\n",
      "lcc: 0.090 -> lcc2: 0.08; overshoot: False, scale:0.200, alpha: 1.249\n",
      "const: 0.009\n",
      "lcc: 0.083 -> lcc2: 0.07; overshoot: True, scale:0.100, alpha: 1.199\n",
      "const: 0.009\n",
      "lcc: 0.068 -> lcc2: 0.05; overshoot: False, scale:0.110, alpha: 1.221\n",
      "const: 0.010\n",
      "lcc: 0.053 -> lcc2: 0.09; overshoot: True, scale:0.055, alpha: 1.249\n",
      "const: 0.009\n",
      "lcc: 0.087 -> lcc2: 0.07; overshoot: True, scale:0.027, alpha: 1.235\n",
      "Fit! fit_count: -1; post_fit_steps: 2\n",
      "const: 0.010\n",
      "lcc: 0.070 -> lcc2: 0.06; overshoot: False, scale:0.030, alpha: 1.242\n",
      "const: 0.010\n",
      "lcc: 0.057 -> lcc2: 0.07; overshoot: True, scale:0.015, alpha: 1.249\n",
      "Fit! fit_count: 1; post_fit_steps: 2\n",
      "const: 0.010\n",
      "lcc: 0.071 -> lcc2: 0.07; overshoot: True, scale:0.008, alpha: 1.245\n",
      "const: 0.010\n",
      "lcc: 0.067 -> lcc2: 0.06; overshoot: False, scale:0.008, alpha: 1.247\n",
      "const: 0.010\n",
      "lcc: 0.059 -> lcc2: 0.08; overshoot: True, scale:0.004, alpha: 1.249\n",
      "const: 0.010\n",
      "lcc: 0.076 -> lcc2: 0.08; overshoot: False, scale:0.005, alpha: 1.248\n",
      "Max fit steps exceeded\n"
     ]
    }
   ],
   "source": [
    "ggirgs = []\n",
    "for d in range(1, 6):\n",
    "    ggirg = fe.fit_ndgirg(d)(greal, verbose=True)\n",
    "    ggirgs.append(ggirg)"
   ]
  },
  {
   "cell_type": "code",
   "execution_count": 69,
   "metadata": {},
   "outputs": [],
   "source": [
    "info, ggirg = fe.fit_ndgirg_binsearch(2)(greal)"
   ]
  },
  {
   "cell_type": "code",
   "execution_count": 70,
   "metadata": {},
   "outputs": [
    {
     "data": {
      "text/plain": [
       "'tau=2.9848742153573937|alpha=1.142653097661132|const=0.05983496628832446|lcc=0.11595587596629897|target_lcc=0.14253452618778772|fitting_time=2.3227791786193848'"
      ]
     },
     "execution_count": 70,
     "metadata": {},
     "output_type": "execute_result"
    }
   ],
   "source": [
    "info"
   ]
  },
  {
   "cell_type": "code",
   "execution_count": 60,
   "metadata": {},
   "outputs": [
    {
     "name": "stdout",
     "output_type": "stream",
     "text": [
      "CPU times: user 12.2 s, sys: 6.93 ms, total: 12.2 s\n",
      "Wall time: 12.2 s\n"
     ]
    },
    {
     "data": {
      "text/plain": [
       "('tau=2.9848742153573937|alpha=1.1527377521613833|const=0.03146904304253916|lcc=0.12672630938938592|target_lcc=0.13771388864761575',\n",
       " <networkit.graph.Graph at 0x2b7da22af030>)"
      ]
     },
     "execution_count": 60,
     "metadata": {},
     "output_type": "execute_result"
    }
   ],
   "source": [
    "%time fe.fit_ndgirg_binsearch(3)(greal)"
   ]
  },
  {
   "cell_type": "code",
   "execution_count": 62,
   "metadata": {},
   "outputs": [
    {
     "name": "stdout",
     "output_type": "stream",
     "text": [
      "CPU times: user 1min 29s, sys: 198 ms, total: 1min 29s\n",
      "Wall time: 1min 29s\n"
     ]
    },
    {
     "data": {
      "text/plain": [
       "('tau=2.9848742153573937|alpha=1.2171928489920123|const=0.017851126065590018|lcc=0.12585772604881437|target_lcc=0.13701902197515853',\n",
       " <networkit.graph.Graph at 0x2b7da13f2810>)"
      ]
     },
     "execution_count": 62,
     "metadata": {},
     "output_type": "execute_result"
    }
   ],
   "source": [
    "%time fe.fit_ndgirg_binsearch(4)(greal)"
   ]
  },
  {
   "cell_type": "code",
   "execution_count": 63,
   "metadata": {},
   "outputs": [
    {
     "name": "stdout",
     "output_type": "stream",
     "text": [
      "Network Properties:\n",
      "nodes, edges\t\t\t7393, 25569\n",
      "directed?\t\t\tFalse\n",
      "weighted?\t\t\tFalse\n",
      "isolated nodes\t\t\t0\n",
      "self-loops\t\t\t0\n",
      "density\t\t\t\t0.000936\n",
      "clustering coefficient\t\t0.011850\n",
      "min/max/avg degree\t\t1, 190, 6.917084\n",
      "degree assortativity\t\t0.036530\n",
      "number of connected components\t1\n",
      "size of largest component\t7393 (100.00 %)\n"
     ]
    },
    {
     "name": "stderr",
     "output_type": "stream",
     "text": [
      "IOStream.flush timed out\n"
     ]
    }
   ],
   "source": [
    "greal = nk.readGraph('/cluster/scratch/bdayan/GIRG_data/bio-dmela.SpaceOne', nk.Format.EdgeListSpaceOne)\n",
    "fe = feature_extractor.FeatureExtractor([])\n",
    "nk.overview(greal)"
   ]
  },
  {
   "cell_type": "code",
   "execution_count": 64,
   "metadata": {},
   "outputs": [
    {
     "name": "stdout",
     "output_type": "stream",
     "text": [
      "CPU times: user 5.96 s, sys: 112 ms, total: 6.07 s\n",
      "Wall time: 6.08 s\n"
     ]
    },
    {
     "data": {
      "text/plain": [
       "('tau=5.059543451012543|alpha=1.0101010101010102|const=0.1335478169873875|lcc=0.059497958829149655|target_lcc=0.01598193346651611',\n",
       " <networkit.graph.Graph at 0x2b7da22afd50>)"
      ]
     },
     "execution_count": 64,
     "metadata": {},
     "output_type": "execute_result"
    }
   ],
   "source": [
    "%time fe.fit_ndgirg_binsearch(2)(greal)"
   ]
  },
  {
   "cell_type": "code",
   "execution_count": 65,
   "metadata": {},
   "outputs": [
    {
     "name": "stdout",
     "output_type": "stream",
     "text": [
      "CPU times: user 27.9 s, sys: 87.7 ms, total: 28 s\n",
      "Wall time: 27.9 s\n"
     ]
    },
    {
     "data": {
      "text/plain": [
       "('tau=5.059543451012543|alpha=1.0179735963098457|const=0.06966334583406018|lcc=0.04725093372709111|target_lcc=0.016329366802744723',\n",
       " <networkit.graph.Graph at 0x2b7da13f22d0>)"
      ]
     },
     "execution_count": 65,
     "metadata": {},
     "output_type": "execute_result"
    }
   ],
   "source": [
    "%time fe.fit_ndgirg_binsearch(3)(greal)"
   ]
  },
  {
   "cell_type": "code",
   "execution_count": 66,
   "metadata": {},
   "outputs": [
    {
     "data": {
      "text/plain": [
       "1.0101010101010102"
      ]
     },
     "execution_count": 66,
     "metadata": {},
     "output_type": "execute_result"
    }
   ],
   "source": [
    "1/0.99"
   ]
  },
  {
   "cell_type": "code",
   "execution_count": null,
   "metadata": {},
   "outputs": [],
   "source": []
  },
  {
   "cell_type": "code",
   "execution_count": 36,
   "metadata": {},
   "outputs": [],
   "source": [
    "ggirg = generation.cgirg_gen(241, 1, 4.396, 887710, desiredAvgDegree=22.7)[0]"
   ]
  },
  {
   "cell_type": "code",
   "execution_count": 37,
   "metadata": {},
   "outputs": [
    {
     "name": "stdout",
     "output_type": "stream",
     "text": [
      "Network Properties:\n",
      "nodes, edges\t\t\t241, 2807\n",
      "directed?\t\t\tFalse\n",
      "weighted?\t\t\tFalse\n",
      "isolated nodes\t\t\t0\n",
      "self-loops\t\t\t0\n",
      "density\t\t\t\t0.097061\n",
      "clustering coefficient\t\t0.768644\n",
      "min/max/avg degree\t\t7, 111, 23.294606\n",
      "degree assortativity\t\t0.261899\n",
      "number of connected components\t1\n",
      "size of largest component\t241 (100.00 %)\n"
     ]
    }
   ],
   "source": [
    "nk.overview(ggirg)"
   ]
  },
  {
   "cell_type": "code",
   "execution_count": 46,
   "metadata": {},
   "outputs": [
    {
     "name": "stdout",
     "output_type": "stream",
     "text": [
      "tau=2.604100935449141\n",
      "alpha=2.6356429527437455\n",
      "const=1.2612787763386788\n",
      "target_lcc=0.652349517936246\n",
      "fit_lcc=0.6618605055155042\n",
      "fitting_time=0.2845001220703125\n",
      "hist=[(2.0, 0.630200642751672), (3.9215686274509802, 0.7309128810909407), (2.6490066225165565, 0.6635976721966472), (2.2792022792022792, 0.6404933553374447), (2.4502297090352223, 0.7032919308607661), (2.5457438345266508, 0.6947363849561365), (2.5963488843813387, 0.6821419265178494), (2.6224134398688794, 0.7247893685399114), (2.6356429527437455, 0.6572570138104751), (2.6423078907983695, 0.7427690436897421), (2.6356429527437455, 0.6572570138104751)]\n"
     ]
    }
   ],
   "source": [
    "g_real = nk.readGraph('/cluster/scratch/bdayan/GIRG_data/bio-celegans.SpaceOne', nk.Format.EdgeListSpaceOne)\n",
    "info, g_out = fe.fit_ndgirg_binsearch(1)(g_real)\n",
    "print('\\n'.join(info.split('|')))"
   ]
  },
  {
   "cell_type": "code",
   "execution_count": 50,
   "metadata": {},
   "outputs": [
    {
     "name": "stdout",
     "output_type": "stream",
     "text": [
      "tau=2.604100935449141\n",
      "alpha=14.035087719298245\n",
      "const=0.4351963996887207\n",
      "target_lcc=0.6547381221228177\n",
      "fit_lcc=0.6600364805003041\n",
      "fitting_time=1.1701622009277344\n",
      "hist=[(2.0, 0.4630417788586815), (3.9215686274509802, 0.5899852340832102), (7.547169811320754, 0.5914618257621819), (14.035087719298245, 0.646095717884131), (24.615384615384613, 0.6050117258750977), (17.877094972067038, 0.6195170676626423), (15.724815724815723, 0.579562233996352), (14.831981460023174, 0.6803613306696777), (14.422535211267606, 0.578737079822809), (14.226173937204779, 0.6958655432988795), (14.035087719298245, 0.646095717884131)]\n"
     ]
    }
   ],
   "source": [
    "info, g_out = fe.fit_ndgirg_binsearch(3)(g_real)\n",
    "print('\\n'.join(info.split('|')))"
   ]
  },
  {
   "cell_type": "code",
   "execution_count": 51,
   "metadata": {},
   "outputs": [
    {
     "data": {
      "text/plain": [
       "0.07142857142857142"
      ]
     },
     "execution_count": 51,
     "metadata": {},
     "output_type": "execute_result"
    }
   ],
   "source": [
    "1/14"
   ]
  },
  {
   "cell_type": "code",
   "execution_count": 86,
   "metadata": {},
   "outputs": [
    {
     "data": {
      "text/plain": [
       "(0.6666380231478328, 0.5284413630108364)"
      ]
     },
     "execution_count": 86,
     "metadata": {},
     "output_type": "execute_result"
    }
   ],
   "source": [
    "a, b = 0.01, 0.07\n",
    "\n",
    "\n",
    "\n",
    "g=g_real\n",
    "d=3\n",
    "\n",
    "n = g.numberOfNodes()\n",
    "target_avg_degree = utils.avg_degree(g)\n",
    "tau = utils.powerlaw_fit_graph(g)\n",
    "# TODO is this a good idea? Or even cap also at 3.0?\n",
    "tau = max(tau, 2.1)\n",
    "\n",
    "def criterium(g):\n",
    "#     return nk.globals.clustering(g)\n",
    "    return utils.LCC(g)\n",
    "\n",
    "def guess_goal(t):\n",
    "    alpha = 1 / t\n",
    "    g_out, _, _, _, _, _ = generation.cgirg_gen(n, d, tau, alpha, desiredAvgDegree=target_avg_degree)\n",
    "    return criterium(g_out)\n",
    "\n",
    "guess_goal(a),  guess_goal(b)"
   ]
  },
  {
   "cell_type": "code",
   "execution_count": 53,
   "metadata": {},
   "outputs": [],
   "source": [
    "import networkit\n",
    "\n",
    "d=3\n",
    "\n",
    "g = g_real\n",
    "\n",
    "n = g.numberOfNodes()\n",
    "target_avg_degree = utils.avg_degree(g)\n",
    "tau = utils.powerlaw_fit_graph(g)\n",
    "# TODO is this a good idea? Or even cap also at 3.0?\n",
    "tau = max(tau, 2.1)\n",
    "\n",
    "def criterium(g):\n",
    "    return networkit.globals.clustering(g)\n",
    "\n",
    "\n",
    "def guess_goal(t):\n",
    "    alpha = 1 / t\n",
    "    g_out, _, _, _, _, _ = generation.cgirg_gen(n, d, tau, alpha, desiredAvgDegree=target_avg_degree)\n",
    "    return criterium(g_out)\n",
    "\n",
    "goal = criterium(g)"
   ]
  },
  {
   "cell_type": "code",
   "execution_count": 93,
   "metadata": {},
   "outputs": [
    {
     "data": {
      "text/plain": [
       "2.604100935449141"
      ]
     },
     "execution_count": 93,
     "metadata": {},
     "output_type": "execute_result"
    }
   ],
   "source": [
    "tau"
   ]
  },
  {
   "cell_type": "code",
   "execution_count": 94,
   "metadata": {},
   "outputs": [
    {
     "data": {
      "text/plain": [
       "(0.6800573265004777, 0.20502909754190915)"
      ]
     },
     "execution_count": 94,
     "metadata": {},
     "output_type": "execute_result"
    }
   ],
   "source": [
    "a=0.01\n",
    "b=0.99\n",
    "goal_f = guess_goal\n",
    "f_a = goal_f(a)\n",
    "f_b = goal_f(b)\n",
    "f_a, f_b"
   ]
  },
  {
   "cell_type": "code",
   "execution_count": 95,
   "metadata": {},
   "outputs": [
    {
     "data": {
      "text/plain": [
       "0.6530878137757318"
      ]
     },
     "execution_count": 95,
     "metadata": {},
     "output_type": "execute_result"
    }
   ],
   "source": [
    "goal"
   ]
  },
  {
   "cell_type": "code",
   "execution_count": 71,
   "metadata": {},
   "outputs": [],
   "source": [
    "g_web_edu = nk.readGraph('/cluster/scratch/bdayan/GIRG_data/web-edu.SpaceOne', nk.Format.EdgeListSpaceOne)\n",
    "g_web_google = nk.readGraph('/cluster/scratch/bdayan/GIRG_data/web-google.SpaceOne', nk.Format.EdgeListSpaceOne)"
   ]
  },
  {
   "cell_type": "code",
   "execution_count": 79,
   "metadata": {},
   "outputs": [],
   "source": [
    "foo = fe.fit_ndgirg_binsearch(1)"
   ]
  },
  {
   "cell_type": "code",
   "execution_count": 82,
   "metadata": {},
   "outputs": [
    {
     "data": {
      "text/plain": [
       "0.5872963190897171"
      ]
     },
     "execution_count": 82,
     "metadata": {},
     "output_type": "execute_result"
    },
    {
     "name": "stdout",
     "output_type": "stream",
     "text": [
      "tau=6.549734367979868\n",
      "alpha=3.162055335968379\n",
      "const=1.193605421901186\n",
      "target_lcc=0.6428385303569878\n",
      "fit_lcc=0.6476591678971597\n",
      "fitting_time=0.7980811595916748\n",
      "hist=[(2.0, 0.47207504560062535), (3.9215686274509802, 0.681881351515678), (2.6490066225165565, 0.5897246590810388), (3.162055335968379, 0.6335446886128724), (3.50109409190372, 0.6541735429514461), (3.162055335968379, 0.6335446886128724)]\n"
     ]
    }
   ],
   "source": [
    "info, g_out = foo(g_web_edu)\n",
    "utils.LCC(g_out)\n",
    "print('\\n'.join(info.split('|')))"
   ]
  },
  {
   "cell_type": "code",
   "execution_count": 81,
   "metadata": {},
   "outputs": [
    {
     "data": {
      "text/plain": [
       "0.5174153113033867"
      ]
     },
     "execution_count": 81,
     "metadata": {},
     "output_type": "execute_result"
    },
    {
     "name": "stdout",
     "output_type": "stream",
     "text": [
      "tau=4.044798837643981\n",
      "alpha=2.6290115532734273\n",
      "const=0.8963485413982053\n",
      "target_lcc=0.6024494050204117\n",
      "fit_lcc=0.5815599756796664\n",
      "fitting_time=0.3883681297302246\n",
      "hist=[(2.0, 0.5344393294536611), (3.9215686274509802, 0.6963432641361939), (2.6490066225165565, 0.6116998175974985), (2.2792022792022792, 0.5653174672109789), (2.4502297090352223, 0.5723095631025797), (2.5457438345266508, 0.5831668548597237), (2.5963488843813387, 0.5934161382784678), (2.6224134398688794, 0.5987144966559541), (2.6356429527437455, 0.6111352384261269), (2.6290115532734273, 0.5705723964214366)]\n"
     ]
    }
   ],
   "source": [
    "info, g_out = foo(g_web_google)\n",
    "utils.LCC(g_out)\n",
    "print('\\n'.join(info.split('|')))"
   ]
  },
  {
   "cell_type": "code",
   "execution_count": 65,
   "metadata": {},
   "outputs": [
    {
     "name": "stderr",
     "output_type": "stream",
     "text": [
      "Values less than or equal to 0 in data. Throwing out 0 or negative values\n"
     ]
    },
    {
     "data": {
      "text/plain": [
       "0.45396361981295474"
      ]
     },
     "execution_count": 65,
     "metadata": {},
     "output_type": "execute_result"
    },
    {
     "data": {
      "text/plain": [
       "'tau=4.39604106110032|alpha=1.6402439817740624|const=3.5359494231359503|fit=True|target_lcc=0.44888828810455567|hist=[(1.3, 0.3534979182956845), (1.4285714285714286, 0.3814440298148356), (1.6396588486140726, 0.45093518323713755), (1.5341151385927505, 0.41240761083708277), (1.582141840428066, 0.42140900833398615), (1.6402439817740624, 0.4436796265411436)]'"
      ]
     },
     "execution_count": 65,
     "metadata": {},
     "output_type": "execute_result"
    }
   ],
   "source": [
    "info, g_out = fe.fit_ndgirg(1)(greal)\n",
    "utils.LCC(g_out)\n",
    "info"
   ]
  },
  {
   "cell_type": "code",
   "execution_count": 58,
   "metadata": {},
   "outputs": [
    {
     "data": {
      "text/plain": [
       "2.6937478113299034"
      ]
     },
     "execution_count": 58,
     "metadata": {},
     "output_type": "execute_result"
    }
   ],
   "source": [
    "1/0.37123"
   ]
  },
  {
   "cell_type": "code",
   "execution_count": 10,
   "metadata": {},
   "outputs": [
    {
     "name": "stdout",
     "output_type": "stream",
     "text": [
      "CPU times: user 7.2 ms, sys: 2.91 ms, total: 10.1 ms\n",
      "Wall time: 8.27 ms\n"
     ]
    },
    {
     "data": {
      "text/plain": [
       "0.6405367845044732"
      ]
     },
     "execution_count": 10,
     "metadata": {},
     "output_type": "execute_result"
    }
   ],
   "source": [
    "%time nk.globals.clustering(ggirg)"
   ]
  },
  {
   "cell_type": "code",
   "execution_count": 11,
   "metadata": {},
   "outputs": [
    {
     "name": "stdout",
     "output_type": "stream",
     "text": [
      "CPU times: user 317 ms, sys: 948 µs, total: 318 ms\n",
      "Wall time: 315 ms\n"
     ]
    },
    {
     "data": {
      "text/plain": [
       "0.6335153173419726"
      ]
     },
     "execution_count": 11,
     "metadata": {},
     "output_type": "execute_result"
    }
   ],
   "source": [
    "%time utils.LCC(ggirg)"
   ]
  },
  {
   "cell_type": "code",
   "execution_count": 12,
   "metadata": {},
   "outputs": [
    {
     "name": "stdout",
     "output_type": "stream",
     "text": [
      "Help on built-in function clustering in module networkit.globals:\n",
      "\n",
      "clustering(...)\n",
      "    clustering(G, error=0.01)\n",
      "    \n",
      "    Returns approximate average local clustering coefficient. The maximum error can be given as a parameter \n",
      "    and determines the number of samples taken.\n",
      "    \n",
      "    For details see: Schank, Wagner: Approximating Clustering Coefficient and Transitivity\n",
      "    \n",
      "    Parameters\n",
      "    ----------\n",
      "    G : networkit.Graph\n",
      "            The input graph.\n",
      "    error : float\n",
      "            Maximum allowed error.\n",
      "\n"
     ]
    }
   ],
   "source": [
    "help(nk.globals.clustering)"
   ]
  },
  {
   "cell_type": "code",
   "execution_count": 66,
   "metadata": {
    "collapsed": true,
    "jupyter": {
     "outputs_hidden": true
    },
    "tags": []
   },
   "outputs": [
    {
     "name": "stdout",
     "output_type": "stream",
     "text": [
      "/cluster/scratch/bdayan/GIRG_data/ia-enron-only.SpaceOne\n",
      "/cluster/scratch/bdayan/GIRG_data/bn-macaque-rhesus_brain_1.SpaceOne\n",
      "/cluster/scratch/bdayan/GIRG_data/inf-USAir97.SpaceOne\n",
      "/cluster/scratch/bdayan/GIRG_data/ca-netscience.SpaceOne\n",
      "/cluster/scratch/bdayan/GIRG_data/ia-infect-dublin.SpaceOne\n",
      "/cluster/scratch/bdayan/GIRG_data/bio-celegans.SpaceOne\n",
      "/cluster/scratch/bdayan/GIRG_data/bio-celegans-dir.SpaceOne\n",
      "/cluster/scratch/bdayan/GIRG_data/bio-diseasome.SpaceOne\n",
      "/cluster/scratch/bdayan/GIRG_data/web-polblogs.SpaceOne\n",
      "/cluster/scratch/bdayan/GIRG_data/rt-twitter-copen.SpaceOne\n",
      "/cluster/scratch/bdayan/GIRG_data/socfb-Caltech36.SpaceOne\n",
      "/cluster/scratch/bdayan/GIRG_data/soc-wiki-Vote.SpaceOne\n",
      "/cluster/scratch/bdayan/GIRG_data/socfb-Reed98.SpaceOne\n",
      "/cluster/scratch/bdayan/GIRG_data/inf-euroroad.SpaceOne\n",
      "/cluster/scratch/bdayan/GIRG_data/ia-email-univ.SpaceOne\n",
      "/cluster/scratch/bdayan/GIRG_data/ia-fb-messages.SpaceOne\n",
      "/cluster/scratch/bdayan/GIRG_data/web-google.SpaceOne\n",
      "/cluster/scratch/bdayan/GIRG_data/socfb-Haverford76.SpaceOne\n",
      "/cluster/scratch/bdayan/GIRG_data/bio-yeast.SpaceOne\n",
      "/cluster/scratch/bdayan/GIRG_data/bio-yeast-protein-inter.SpaceOne\n",
      "/cluster/scratch/bdayan/GIRG_data/socfb-Simmons81.SpaceOne\n",
      "/cluster/scratch/bdayan/GIRG_data/socfb-Swarthmore42.SpaceOne\n",
      "/cluster/scratch/bdayan/GIRG_data/bn-fly-drosophila_medulla_1.SpaceOne\n",
      "/cluster/scratch/bdayan/GIRG_data/soc-hamsterster.SpaceOne\n",
      "/cluster/scratch/bdayan/GIRG_data/tech-routers-rf.SpaceOne\n",
      "/cluster/scratch/bdayan/GIRG_data/socfb-Amherst41.SpaceOne\n",
      "/cluster/scratch/bdayan/GIRG_data/socfb-Bowdoin47.SpaceOne\n",
      "/cluster/scratch/bdayan/GIRG_data/socfb-Hamilton46.SpaceOne\n",
      "/cluster/scratch/bdayan/GIRG_data/socfb-Trinity100.SpaceOne\n",
      "/cluster/scratch/bdayan/GIRG_data/socfb-USFCA72.SpaceOne\n",
      "/cluster/scratch/bdayan/GIRG_data/socfb-Williams40.SpaceOne\n",
      "/cluster/scratch/bdayan/GIRG_data/socfb-nips-ego.SpaceOne\n",
      "/cluster/scratch/bdayan/GIRG_data/inf-openflights.SpaceOne\n",
      "/cluster/scratch/bdayan/GIRG_data/socfb-Oberlin44.SpaceOne\n",
      "/cluster/scratch/bdayan/GIRG_data/socfb-Wellesley22.SpaceOne\n",
      "/cluster/scratch/bdayan/GIRG_data/socfb-Smith60.SpaceOne\n",
      "/cluster/scratch/bdayan/GIRG_data/web-edu.SpaceOne\n",
      "/cluster/scratch/bdayan/GIRG_data/socfb-Vassar85.SpaceOne\n",
      "/cluster/scratch/bdayan/GIRG_data/socfb-Middlebury45.SpaceOne\n",
      "/cluster/scratch/bdayan/GIRG_data/socfb-Pepperdine86.SpaceOne\n",
      "/cluster/scratch/bdayan/GIRG_data/socfb-Colgate88.SpaceOne\n",
      "/cluster/scratch/bdayan/GIRG_data/socfb-Santa74.SpaceOne\n",
      "/cluster/scratch/bdayan/GIRG_data/socfb-Wesleyan43.SpaceOne\n",
      "/cluster/scratch/bdayan/GIRG_data/socfb-Mich67.SpaceOne\n",
      "/cluster/scratch/bdayan/GIRG_data/socfb-Bucknell39.SpaceOne\n",
      "/cluster/scratch/bdayan/GIRG_data/socfb-Brandeis99.SpaceOne\n",
      "/cluster/scratch/bdayan/GIRG_data/socfb-Howard90.SpaceOne\n",
      "/cluster/scratch/bdayan/GIRG_data/socfb-Rice31.SpaceOne\n",
      "/cluster/scratch/bdayan/GIRG_data/ca-GrQc.SpaceOne\n",
      "/cluster/scratch/bdayan/GIRG_data/web-EPA.SpaceOne\n",
      "/cluster/scratch/bdayan/GIRG_data/socfb-Rochester38.SpaceOne\n",
      "/cluster/scratch/bdayan/GIRG_data/web-spam.SpaceOne\n",
      "/cluster/scratch/bdayan/GIRG_data/inf-power.SpaceOne\n",
      "/cluster/scratch/bdayan/GIRG_data/ca-Erdos992.SpaceOne\n",
      "/cluster/scratch/bdayan/GIRG_data/soc-advogato.SpaceOne\n",
      "/cluster/scratch/bdayan/GIRG_data/socfb-Lehigh96.SpaceOne\n",
      "/cluster/scratch/bdayan/GIRG_data/socfb-JohnsHopkins55.SpaceOne\n",
      "/cluster/scratch/bdayan/GIRG_data/socfb-Wake73.SpaceOne\n",
      "/cluster/scratch/bdayan/GIRG_data/socfb-American75.SpaceOne\n",
      "/cluster/scratch/bdayan/GIRG_data/socfb-MIT8.SpaceOne\n",
      "/cluster/scratch/bdayan/GIRG_data/socfb-MIT.SpaceOne\n",
      "/cluster/scratch/bdayan/GIRG_data/socfb-William77.SpaceOne\n",
      "/cluster/scratch/bdayan/GIRG_data/socfb-UChicago30.SpaceOne\n",
      "/cluster/scratch/bdayan/GIRG_data/socfb-Princeton12.SpaceOne\n",
      "/cluster/scratch/bdayan/GIRG_data/socfb-Carnegie49.SpaceOne\n",
      "/cluster/scratch/bdayan/GIRG_data/socfb-CMU.SpaceOne\n",
      "/cluster/scratch/bdayan/GIRG_data/socfb-Tufts18.SpaceOne\n",
      "/cluster/scratch/bdayan/GIRG_data/ia-reality.SpaceOne\n",
      "/cluster/scratch/bdayan/GIRG_data/socfb-UC64.SpaceOne\n",
      "/cluster/scratch/bdayan/GIRG_data/soc-wiki-elec.SpaceOne\n",
      "/cluster/scratch/bdayan/GIRG_data/socfb-Vermont70.SpaceOne\n",
      "/cluster/scratch/bdayan/GIRG_data/bio-dmela.SpaceOne\n",
      "/cluster/scratch/bdayan/GIRG_data/socfb-Emory27.SpaceOne\n",
      "/cluster/scratch/bdayan/GIRG_data/tech-WHOIS.SpaceOne\n",
      "/cluster/scratch/bdayan/GIRG_data/rec-movielens-user-movies-10m.SpaceOne\n",
      "/cluster/scratch/bdayan/GIRG_data/socfb-Dartmouth6.SpaceOne\n",
      "/cluster/scratch/bdayan/GIRG_data/socfb-WashU32.SpaceOne\n",
      "/cluster/scratch/bdayan/GIRG_data/socfb-Tulane29.SpaceOne\n",
      "/cluster/scratch/bdayan/GIRG_data/socfb-Villanova62.SpaceOne\n",
      "/cluster/scratch/bdayan/GIRG_data/socfb-Vanderbilt48.SpaceOne\n",
      "/cluster/scratch/bdayan/GIRG_data/socfb-Yale4.SpaceOne\n",
      "/cluster/scratch/bdayan/GIRG_data/socfb-Brown11.SpaceOne\n",
      "/cluster/scratch/bdayan/GIRG_data/socfb-UCSC68.SpaceOne\n",
      "/cluster/scratch/bdayan/GIRG_data/socfb-Maine59.SpaceOne\n",
      "/cluster/scratch/bdayan/GIRG_data/socfb-Georgetown15.SpaceOne\n",
      "/cluster/scratch/bdayan/GIRG_data/socfb-Duke14.SpaceOne\n",
      "/cluster/scratch/bdayan/GIRG_data/socfb-Bingham82.SpaceOne\n",
      "/cluster/scratch/bdayan/GIRG_data/ia-escorts-dynamic.SpaceOne\n",
      "/cluster/scratch/bdayan/GIRG_data/socfb-Mississippi66.SpaceOne\n",
      "/cluster/scratch/bdayan/GIRG_data/socfb-Northwestern25.SpaceOne\n",
      "/cluster/scratch/bdayan/GIRG_data/tech-pgp.SpaceOne\n",
      "/cluster/scratch/bdayan/GIRG_data/ca-HepPh.SpaceOne\n",
      "/cluster/scratch/bdayan/GIRG_data/socfb-Cal65.SpaceOne\n",
      "/cluster/scratch/bdayan/GIRG_data/web-indochina-2004.SpaceOne\n",
      "/cluster/scratch/bdayan/GIRG_data/bn-human-BNU_1_0025889_session_2.SpaceOne\n",
      "/cluster/scratch/bdayan/GIRG_data/socfb-BC17.SpaceOne\n",
      "/cluster/scratch/bdayan/GIRG_data/socfb-Stanford3.SpaceOne\n",
      "/cluster/scratch/bdayan/GIRG_data/socfb-Columbia2.SpaceOne\n",
      "/cluster/scratch/bdayan/GIRG_data/socfb-NotreDame57.SpaceOne\n",
      "/cluster/scratch/bdayan/GIRG_data/socfb-GWU54.SpaceOne\n",
      "/cluster/scratch/bdayan/GIRG_data/web-BerkStan.SpaceOne\n",
      "/cluster/scratch/bdayan/GIRG_data/soc-anybeat.SpaceOne\n",
      "/cluster/scratch/bdayan/GIRG_data/socfb-Baylor93.SpaceOne\n",
      "/cluster/scratch/bdayan/GIRG_data/socfb-USF51.SpaceOne\n",
      "/cluster/scratch/bdayan/GIRG_data/socfb-Syracuse56.SpaceOne\n",
      "/cluster/scratch/bdayan/GIRG_data/socfb-Temple83.SpaceOne\n",
      "/cluster/scratch/bdayan/GIRG_data/socfb-UC61.SpaceOne\n",
      "/cluster/scratch/bdayan/GIRG_data/socfb-Northeastern19.SpaceOne\n",
      "/cluster/scratch/bdayan/GIRG_data/socfb-JMU79.SpaceOne\n",
      "/cluster/scratch/bdayan/GIRG_data/socfb-UPenn7.SpaceOne\n",
      "/cluster/scratch/bdayan/GIRG_data/socfb-UCSB37.SpaceOne\n",
      "/cluster/scratch/bdayan/GIRG_data/socfb-UCSD34.SpaceOne\n",
      "/cluster/scratch/bdayan/GIRG_data/socfb-UCF52.SpaceOne\n",
      "/cluster/scratch/bdayan/GIRG_data/socfb-Harvard1.SpaceOne\n",
      "/cluster/scratch/bdayan/GIRG_data/socfb-MU78.SpaceOne\n",
      "/cluster/scratch/bdayan/GIRG_data/web-webbase-2001.SpaceOne\n",
      "/cluster/scratch/bdayan/GIRG_data/socfb-UMass92.SpaceOne\n",
      "/cluster/scratch/bdayan/GIRG_data/rec-movielens-tag-movies-10m.SpaceOne\n",
      "/cluster/scratch/bdayan/GIRG_data/socfb-UC33.SpaceOne\n",
      "/cluster/scratch/bdayan/GIRG_data/socfb-Tennessee95.SpaceOne\n",
      "/cluster/scratch/bdayan/GIRG_data/socfb-UVA16.SpaceOne\n",
      "/cluster/scratch/bdayan/GIRG_data/socfb-UConn.SpaceOne\n",
      "/cluster/scratch/bdayan/GIRG_data/socfb-UConn91.SpaceOne\n",
      "/cluster/scratch/bdayan/GIRG_data/socfb-Oklahoma97.SpaceOne\n",
      "/cluster/scratch/bdayan/GIRG_data/socfb-USC35.SpaceOne\n",
      "/cluster/scratch/bdayan/GIRG_data/ca-AstroPh.SpaceOne\n",
      "/cluster/scratch/bdayan/GIRG_data/socfb-UNC28.SpaceOne\n",
      "/cluster/scratch/bdayan/GIRG_data/socfb-Auburn71.SpaceOne\n",
      "/cluster/scratch/bdayan/GIRG_data/socfb-Cornell5.SpaceOne\n",
      "/cluster/scratch/bdayan/GIRG_data/socfb-BU10.SpaceOne\n",
      "/cluster/scratch/bdayan/GIRG_data/socfb-UCLA26.SpaceOne\n",
      "/cluster/scratch/bdayan/GIRG_data/socfb-UCLA.SpaceOne\n",
      "/cluster/scratch/bdayan/GIRG_data/socfb-Maryland58.SpaceOne\n",
      "/cluster/scratch/bdayan/GIRG_data/socfb-Virginia63.SpaceOne\n",
      "/cluster/scratch/bdayan/GIRG_data/ca-CondMat.SpaceOne\n",
      "/cluster/scratch/bdayan/GIRG_data/socfb-NYU9.SpaceOne\n",
      "/cluster/scratch/bdayan/GIRG_data/socfb-Berkeley13.SpaceOne\n",
      "/cluster/scratch/bdayan/GIRG_data/soc-gplus.SpaceOne\n",
      "/cluster/scratch/bdayan/GIRG_data/socfb-Wisconsin87.SpaceOne\n",
      "/cluster/scratch/bdayan/GIRG_data/socfb-UGA50.SpaceOne\n",
      "/cluster/scratch/bdayan/GIRG_data/socfb-Rutgers89.SpaceOne\n",
      "/cluster/scratch/bdayan/GIRG_data/web-frwikinews-user-edits.SpaceOne\n",
      "/cluster/scratch/bdayan/GIRG_data/tech-as-caida2007.SpaceOne\n",
      "/cluster/scratch/bdayan/GIRG_data/soc-epinions.SpaceOne\n",
      "/cluster/scratch/bdayan/GIRG_data/socfb-FSU53.SpaceOne\n",
      "/cluster/scratch/bdayan/GIRG_data/socfb-Indiana.SpaceOne\n",
      "/cluster/scratch/bdayan/GIRG_data/socfb-Indiana69.SpaceOne\n",
      "/cluster/scratch/bdayan/GIRG_data/socfb-Michigan23.SpaceOne\n",
      "/cluster/scratch/bdayan/GIRG_data/socfb-UIllinois20.SpaceOne\n",
      "/cluster/scratch/bdayan/GIRG_data/socfb-UIllinois.SpaceOne\n",
      "/cluster/scratch/bdayan/GIRG_data/socfb-Texas80.SpaceOne\n",
      "/cluster/scratch/bdayan/GIRG_data/socfb-MSU24.SpaceOne\n",
      "/cluster/scratch/bdayan/GIRG_data/ia-email-EU.SpaceOne\n",
      "/cluster/scratch/bdayan/GIRG_data/ia-enron-large.SpaceOne\n",
      "/cluster/scratch/bdayan/GIRG_data/socfb-UF.SpaceOne\n",
      "/cluster/scratch/bdayan/GIRG_data/socfb-UF21.SpaceOne\n",
      "/cluster/scratch/bdayan/GIRG_data/socfb-Texas84.SpaceOne\n",
      "/cluster/scratch/bdayan/GIRG_data/tech-internet-as.SpaceOne\n",
      "/cluster/scratch/bdayan/GIRG_data/socfb-Penn94.SpaceOne\n",
      "/cluster/scratch/bdayan/GIRG_data/rec-yelp-user-business.SpaceOne\n",
      "/cluster/scratch/bdayan/GIRG_data/soc-brightkite.SpaceOne\n",
      "/cluster/scratch/bdayan/GIRG_data/soc-loc-brightkite.SpaceOne\n",
      "/cluster/scratch/bdayan/GIRG_data/rec-eachmovie.SpaceOne\n",
      "/cluster/scratch/bdayan/GIRG_data/tech-p2p-gnutella.SpaceOne\n",
      "/cluster/scratch/bdayan/GIRG_data/socfb-wosn-friends.SpaceOne\n",
      "/cluster/scratch/bdayan/GIRG_data/socfb-OR.SpaceOne\n",
      "/cluster/scratch/bdayan/GIRG_data/soc-themarker.SpaceOne\n",
      "/cluster/scratch/bdayan/GIRG_data/soc-slashdot.SpaceOne\n",
      "/cluster/scratch/bdayan/GIRG_data/rec-movielens.SpaceOne\n",
      "/cluster/scratch/bdayan/GIRG_data/soc-sign-Slashdot081106.SpaceOne\n",
      "/cluster/scratch/bdayan/GIRG_data/soc-Slashdot0811.SpaceOne\n",
      "/cluster/scratch/bdayan/GIRG_data/soc-slashdot-trust-all.SpaceOne\n",
      "/cluster/scratch/bdayan/GIRG_data/soc-slashdot-zoo.SpaceOne\n",
      "/cluster/scratch/bdayan/GIRG_data/soc-sign-Slashdot090216.SpaceOne\n",
      "/cluster/scratch/bdayan/GIRG_data/soc-sign-Slashdot090221.SpaceOne\n",
      "/cluster/scratch/bdayan/GIRG_data/soc-Slashdot0902.SpaceOne\n",
      "/cluster/scratch/bdayan/GIRG_data/ia-enron-email-dynamic.SpaceOne\n",
      "/cluster/scratch/bdayan/GIRG_data/rec-amazon.SpaceOne\n",
      "/cluster/scratch/bdayan/GIRG_data/bn-human-BNU_1_0025873_session_1-bg.SpaceOne\n",
      "/cluster/scratch/bdayan/GIRG_data/ia-wiki-Talk.SpaceOne\n",
      "/cluster/scratch/bdayan/GIRG_data/ia-wikiquote-user-edits.SpaceOne\n",
      "/cluster/scratch/bdayan/GIRG_data/soc-buzznet.SpaceOne\n",
      "/cluster/scratch/bdayan/GIRG_data/soc-LiveMocha.SpaceOne\n",
      "/cluster/scratch/bdayan/GIRG_data/soc-sign-epinions.SpaceOne\n",
      "/cluster/scratch/bdayan/GIRG_data/rec-github.SpaceOne\n",
      "/cluster/scratch/bdayan/GIRG_data/web-sk-2005.SpaceOne\n",
      "/cluster/scratch/bdayan/GIRG_data/ia-wiki-trust-dir.SpaceOne\n",
      "/cluster/scratch/bdayan/GIRG_data/soc-catster.SpaceOne\n",
      "/cluster/scratch/bdayan/GIRG_data/soc-douban.SpaceOne\n",
      "/cluster/scratch/bdayan/GIRG_data/web-arabic-2005.SpaceOne\n",
      "/cluster/scratch/bdayan/GIRG_data/rec-dating.SpaceOne\n",
      "/cluster/scratch/bdayan/GIRG_data/tech-RL-caida.SpaceOne\n",
      "/cluster/scratch/bdayan/GIRG_data/soc-gowalla.SpaceOne\n",
      "/cluster/scratch/bdayan/GIRG_data/soc-academia.SpaceOne\n",
      "/cluster/scratch/bdayan/GIRG_data/soc-google-plus.SpaceOne\n",
      "/cluster/scratch/bdayan/GIRG_data/ia-email-EU-dir.SpaceOne\n",
      "/cluster/scratch/bdayan/GIRG_data/ca-dblp-2010.SpaceOne\n",
      "/cluster/scratch/bdayan/GIRG_data/ca-citeseer.SpaceOne\n",
      "/cluster/scratch/bdayan/GIRG_data/web-Stanford.SpaceOne\n",
      "/cluster/scratch/bdayan/GIRG_data/ca-dblp-2012.SpaceOne\n",
      "/cluster/scratch/bdayan/GIRG_data/web-italycnr-2000.SpaceOne\n",
      "/cluster/scratch/bdayan/GIRG_data/web-NotreDame.SpaceOne\n",
      "/cluster/scratch/bdayan/GIRG_data/ca-MathSciNet.SpaceOne\n",
      "/cluster/scratch/bdayan/GIRG_data/ia-dbpedia-team-bi.SpaceOne\n",
      "/cluster/scratch/bdayan/GIRG_data/web-baidu-baike-related.SpaceOne\n",
      "/cluster/scratch/bdayan/GIRG_data/soc-twitter-follows.SpaceOne\n",
      "/cluster/scratch/bdayan/GIRG_data/rt-higgs.SpaceOne\n",
      "/cluster/scratch/bdayan/GIRG_data/soc-dogster.SpaceOne\n",
      "/cluster/scratch/bdayan/GIRG_data/soc-twitter-higgs.SpaceOne\n",
      "/cluster/scratch/bdayan/GIRG_data/soc-twitter-follows-mun.SpaceOne\n",
      "/cluster/scratch/bdayan/GIRG_data/soc-youtube.SpaceOne\n",
      "/cluster/scratch/bdayan/GIRG_data/soc-flickr.SpaceOne\n",
      "/cluster/scratch/bdayan/GIRG_data/soc-delicious.SpaceOne\n",
      "/cluster/scratch/bdayan/GIRG_data/ca-coauthors-dblp.SpaceOne\n",
      "/cluster/scratch/bdayan/GIRG_data/web-BerkStan-dir.SpaceOne\n",
      "/cluster/scratch/bdayan/GIRG_data/web-google-dir.SpaceOne\n",
      "/cluster/scratch/bdayan/GIRG_data/ca-IMDB.SpaceOne\n",
      "/cluster/scratch/bdayan/GIRG_data/rt-retweet-crawl.SpaceOne\n",
      "/cluster/scratch/bdayan/GIRG_data/tech-as-skitter.SpaceOne\n"
     ]
    }
   ],
   "source": [
    "data_dir = '/cluster/scratch/bdayan/GIRG_data/'\n",
    "\n",
    "results_csv = '/cluster/home/bdayan/girgs/nemo-eva/data-paper/3-cleaned_features/results.csv'\n",
    "df = pd.read_csv(results_csv)\n",
    "\n",
    "df = df.loc[df.Model == 'real-world']\n",
    "\n",
    "df = df.sort_values('Nodes')\n",
    "\n",
    "\n",
    "# array([['ia-enron-only', 'ia'],\n",
    "#        ['bn-macaque-rhesus_brain_1', 'bn'],\n",
    "#        ['inf-USAir97', 'inf'],\n",
    "# ....\n",
    "graph_name_group_pairs = df[['Graph', 'Type']].to_numpy()\n",
    "graph_dicts = []\n",
    "for graph_name, group in graph_name_group_pairs:\n",
    "    fn = glob.glob(data_dir + graph_name + '.*')[0]\n",
    "    print(fn)\n",
    "    graph_dict = {\"Group\": group, \"FullPath\": fn, \"Name\": graph_name}\n",
    "    graph_dicts.append(graph_dict)"
   ]
  },
  {
   "cell_type": "code",
   "execution_count": null,
   "metadata": {},
   "outputs": [],
   "source": []
  }
 ],
 "metadata": {
  "kernelspec": {
   "display_name": "girgenv2",
   "language": "python",
   "name": "girgenv2"
  },
  "language_info": {
   "codemirror_mode": {
    "name": "ipython",
    "version": 3
   },
   "file_extension": ".py",
   "mimetype": "text/x-python",
   "name": "python",
   "nbconvert_exporter": "python",
   "pygments_lexer": "ipython3",
   "version": "3.8.5"
  }
 },
 "nbformat": 4,
 "nbformat_minor": 4
}
