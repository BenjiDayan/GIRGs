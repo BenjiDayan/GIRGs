{
 "cells": [
  {
   "cell_type": "code",
   "execution_count": 2,
   "metadata": {},
   "outputs": [],
   "source": [
    "import sys\n",
    "sys.path.append('../')"
   ]
  },
  {
   "cell_type": "code",
   "execution_count": 31,
   "metadata": {},
   "outputs": [],
   "source": [
    "from benji_girgs import generation, utils\n",
    "import networkit as nk\n",
    "import seaborn as sns\n",
    "import matplotlib.pyplot as plt\n",
    "import numpy as np"
   ]
  },
  {
   "cell_type": "code",
   "execution_count": 20,
   "metadata": {},
   "outputs": [
    {
     "name": "stdout",
     "output_type": "stream",
     "text": [
      "2472\n"
     ]
    }
   ],
   "source": [
    "n = 2500\n",
    "d = 1\n",
    "targetDeg = 15.0\n",
    "tau=2.1\n",
    "alpha=1.9\n",
    "\n",
    "g = generation.cgirg_gen(n, d, tau, alpha, targetDeg)[0]\n",
    "g = utils.get_largest_component(g)\n",
    "print(g.numberOfNodes())"
   ]
  },
  {
   "cell_type": "code",
   "execution_count": 50,
   "metadata": {},
   "outputs": [
    {
     "name": "stdout",
     "output_type": "stream",
     "text": [
      "2485\n",
      "edout: 3.062374245472837\n",
      "2475\n",
      "edout: 3.067070707070707\n",
      "2475\n",
      "edout: 3.0816161616161617\n",
      "2488\n",
      "edout: 3.0687299035369775\n",
      "2482\n",
      "edout: 3.0684931506849313\n",
      "2480\n",
      "edout: 3.1903225806451614\n",
      "2481\n",
      "edout: 3.006852075775897\n",
      "2473\n",
      "edout: 2.995147594015366\n",
      "2481\n",
      "edout: 3.05683192261185\n",
      "2472\n",
      "edout: 3.0570388349514563\n",
      "2473\n",
      "edout: 3.1932875050545895\n",
      "2475\n",
      "edout: 3.097777777777778\n",
      "2480\n",
      "edout: 3.0350806451612904\n",
      "2493\n",
      "edout: 3.027276373846771\n",
      "2482\n",
      "edout: 3.1813053988718774\n",
      "2485\n",
      "edout: 3.075251509054326\n",
      "2479\n",
      "edout: 3.0415490116982653\n",
      "2457\n",
      "edout: 3.068783068783069\n",
      "2488\n",
      "edout: 3.1032958199356915\n",
      "2486\n",
      "edout: 3.1331456154465003\n",
      "2487\n",
      "edout: 3.2010454362685965\n",
      "2489\n",
      "edout: 3.0827641623141826\n",
      "2487\n",
      "edout: 3.12464817048653\n",
      "2484\n",
      "edout: 2.973429951690821\n",
      "2478\n",
      "edout: 3.048829701372074\n",
      "2483\n",
      "edout: 3.140153040676601\n",
      "2479\n",
      "edout: 3.0322710770471963\n",
      "2477\n",
      "edout: 3.1324182478805005\n",
      "2485\n",
      "edout: 2.9879275653923543\n",
      "2478\n",
      "edout: 3.062953995157385\n",
      "2481\n",
      "edout: 3.105602579604998\n",
      "2482\n",
      "edout: 3.120870265914585\n",
      "2486\n",
      "edout: 3.1037811745776347\n",
      "2490\n",
      "edout: 3.0196787148594377\n",
      "2480\n",
      "edout: 3.0443548387096775\n",
      "2485\n",
      "edout: 3.0317907444668006\n",
      "2480\n",
      "edout: 3.041935483870968\n",
      "2476\n",
      "edout: 3.0609854604200324\n",
      "2483\n",
      "edout: 3.120821586790173\n",
      "2482\n",
      "edout: 2.9552780016116036\n",
      "2481\n",
      "edout: 3.0910923014913343\n",
      "2480\n",
      "edout: 3.0423387096774195\n",
      "2475\n",
      "edout: 3.149090909090909\n",
      "2490\n",
      "edout: 3.0365461847389557\n",
      "2488\n",
      "edout: 3.112540192926045\n",
      "2490\n",
      "edout: 3.048995983935743\n",
      "2481\n",
      "edout: 3.01813784764208\n",
      "2487\n",
      "edout: 3.0036188178528347\n",
      "2486\n",
      "edout: 3.0249396621078035\n",
      "2484\n",
      "edout: 3.0760869565217392\n",
      "2479\n",
      "edout: 3.0951996772892296\n",
      "2481\n",
      "edout: 3.0846432889963724\n",
      "2487\n",
      "edout: 3.1073582629674306\n",
      "2482\n",
      "edout: 3.09508460918614\n",
      "2482\n",
      "edout: 3.063658340048348\n",
      "2486\n",
      "edout: 3.093322606596943\n",
      "2481\n",
      "edout: 3.072148327287384\n",
      "2489\n",
      "edout: 3.2663720369626357\n",
      "2473\n",
      "edout: 3.1738778811160535\n",
      "2490\n",
      "edout: 3.0176706827309236\n"
     ]
    }
   ],
   "source": [
    "def f(m, **kwargs):\n",
    "    outs = []\n",
    "    for i in range(m):\n",
    "        g = generation.cgirg_gen(**kwargs)[0]\n",
    "        g = utils.get_largest_component(g)\n",
    "        print(g.numberOfNodes())\n",
    "        ed = nk.distance.EffectiveDiameter(g)\n",
    "        _ = ed.run()\n",
    "        edout = ed.getEffectiveDiameter()\n",
    "        print(f'edout: {edout}')\n",
    "        outs.append(edout)\n",
    "        \n",
    "    return outs\n",
    "     \n",
    "outs = []\n",
    "for d in [1,2,3,4]:\n",
    "    outs.append(f(15, n=n, d=d, tau=tau, alpha=alpha, desiredAvgDegree=targetDeg))\n",
    "    "
   ]
  },
  {
   "cell_type": "code",
   "execution_count": 51,
   "metadata": {},
   "outputs": [
    {
     "data": {
      "text/plain": [
       "<AxesSubplot: >"
      ]
     },
     "execution_count": 51,
     "metadata": {},
     "output_type": "execute_result"
    },
    {
     "data": {
      "image/png": "[encoded data removed]",
      "text/plain": [
       "<Figure size 640x480 with 1 Axes>"
      ]
     },
     "metadata": {},
     "output_type": "display_data"
    }
   ],
   "source": [
    "outs = np.array(outs)\n",
    "a, b = outs.shape\n",
    "ds = np.tile(np.arange(a), (b, 1)).T + 1\n",
    "sns.swarmplot(x=ds.flatten(), y = outs.flatten())"
   ]
  },
  {
   "cell_type": "code",
   "execution_count": 57,
   "metadata": {},
   "outputs": [
    {
     "name": "stdout",
     "output_type": "stream",
     "text": [
      "[3.06707071 3.07525151 3.06098546 3.07608696]\n",
      "[3.07928033 3.08056442 3.06911381 3.082741  ]\n"
     ]
    }
   ],
   "source": [
    "print(np.median(outs.reshape(a,b), axis=1))\n",
    "print(np.mean(outs.reshape(a,b), axis=1))"
   ]
  },
  {
   "cell_type": "code",
   "execution_count": null,
   "metadata": {},
   "outputs": [],
   "source": []
  }
 ],
 "metadata": {
  "kernelspec": {
   "display_name": "girgenv2",
   "language": "python",
   "name": "girgenv2"
  },
  "language_info": {
   "codemirror_mode": {
    "name": "ipython",
    "version": 3
   },
   "file_extension": ".py",
   "mimetype": "text/x-python",
   "name": "python",
   "nbconvert_exporter": "python",
   "pygments_lexer": "ipython3",
   "version": "3.8.5"
  }
 },
 "nbformat": 4,
 "nbformat_minor": 4
}
