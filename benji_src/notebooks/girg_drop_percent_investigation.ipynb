{
 "cells": [
  {
   "cell_type": "markdown",
   "source": [
    "# What is this?\n",
    "\n",
    "Basically the idea is that the connection probability should be\n",
    "\n",
    "p_uv = e min(1, c(wu wv/W / r_uv^d)^alpha)\n",
    "\n",
    "So now there's 2 constants: e, c\n",
    "\n",
    "We try to estimate e by seeing that the top 10 or so degree nodes of the GIRG probably should all connect to each other. I.e. a full clique. But in fact they might not. Maybe because of e??"
   ],
   "metadata": {
    "collapsed": false
   }
  },
  {
   "cell_type": "code",
   "execution_count": 1,
   "outputs": [
    {
     "data": {
      "text/plain": "'/cluster/home/bdayan/girgs/benji_src/notebooks'"
     },
     "execution_count": 1,
     "metadata": {},
     "output_type": "execute_result"
    }
   ],
   "source": [
    "import os\n",
    "os.chdir('/cluster/home/bdayan/girgs/benji_src/notebooks/')\n",
    "\n",
    "import sys\n",
    "sys.path.append('../')\n",
    "sys.path.append('../../nemo-eva/src/')\n",
    "\n",
    "import os\n",
    "os.getcwd()\n"
   ],
   "metadata": {
    "collapsed": false,
    "ExecuteTime": {
     "start_time": "2023-06-08T14:49:36.843194Z",
     "end_time": "2023-06-08T14:49:40.456767Z"
    }
   }
  },
  {
   "cell_type": "code",
   "execution_count": 2,
   "outputs": [
    {
     "data": {
      "text/html": "\n\t\t\t<script type=\"text/javascript\">\n\t\t\t<!--\n\t\t\t\t\n\t\t\t{\n\t\t\t\tvar element = document.getElementById('NetworKit_script');\n\t\t\t\tif (element) {\n\t\t\t\t\telement.parentNode.removeChild(element);\n\t\t\t\t}\n\t\t\t\telement = document.createElement('script');\n\t\t\t\telement.type = 'text/javascript';\n\t\t\t\telement.innerHTML = 'function NetworKit_pageEmbed(id) { var i, j; var elements; elements = document.getElementById(id).getElementsByClassName(\"Plot\"); for (i=0; i<elements.length; i++) { elements[i].id = id + \"_Plot_\" + i; var data = elements[i].getAttribute(\"data-image\").split(\"|\"); elements[i].removeAttribute(\"data-image\"); var content = \"<div class=\\\\\"Image\\\\\" id=\\\\\"\" + elements[i].id + \"_Image\\\\\" />\"; elements[i].innerHTML = content; elements[i].setAttribute(\"data-image-index\", 0); elements[i].setAttribute(\"data-image-length\", data.length); for (j=0; j<data.length; j++) { elements[i].setAttribute(\"data-image-\" + j, data[j]); } NetworKit_plotUpdate(elements[i]); elements[i].onclick = function (e) { NetworKit_overlayShow((e.target) ? e.target : e.srcElement); } } elements = document.getElementById(id).getElementsByClassName(\"HeatCell\"); for (i=0; i<elements.length; i++) { var data = parseFloat(elements[i].getAttribute(\"data-heat\")); var color = \"#00FF00\"; if (data <= 1 && data > 0) { color = \"hsla(0, 100%, 75%, \" + (data) + \")\"; } else if (data <= 0 && data >= -1) { color = \"hsla(240, 100%, 75%, \" + (-data) + \")\"; } elements[i].style.backgroundColor = color; } elements = document.getElementById(id).getElementsByClassName(\"Details\"); for (i=0; i<elements.length; i++) { elements[i].setAttribute(\"data-title\", \"-\"); NetworKit_toggleDetails(elements[i]); elements[i].onclick = function (e) { NetworKit_toggleDetails((e.target) ? e.target : e.srcElement); } } elements = document.getElementById(id).getElementsByClassName(\"MathValue\"); for (i=elements.length-1; i>=0; i--) { value = elements[i].innerHTML.trim(); if (value === \"nan\") { elements[i].parentNode.innerHTML = \"\" } } elements = document.getElementById(id).getElementsByClassName(\"SubCategory\"); for (i=elements.length-1; i>=0; i--) { value = elements[i].innerHTML.trim(); if (value === \"\") { elements[i].parentNode.removeChild(elements[i]) } } elements = document.getElementById(id).getElementsByClassName(\"Category\"); for (i=elements.length-1; i>=0; i--) { value = elements[i].innerHTML.trim(); if (value === \"\") { elements[i].parentNode.removeChild(elements[i]) } } var isFirefox = false; try { isFirefox = typeof InstallTrigger !== \"undefined\"; } catch (e) {} if (!isFirefox) { alert(\"Currently the function\\'s output is only fully supported by Firefox.\"); } } function NetworKit_plotUpdate(source) { var index = source.getAttribute(\"data-image-index\"); var data = source.getAttribute(\"data-image-\" + index); var image = document.getElementById(source.id + \"_Image\"); image.style.backgroundImage = \"url(\" + data + \")\"; } function NetworKit_showElement(id, show) { var element = document.getElementById(id); element.style.display = (show) ? \"block\" : \"none\"; } function NetworKit_overlayShow(source) { NetworKit_overlayUpdate(source); NetworKit_showElement(\"NetworKit_Overlay\", true); } function NetworKit_overlayUpdate(source) { document.getElementById(\"NetworKit_Overlay_Title\").innerHTML = source.title; var index = source.getAttribute(\"data-image-index\"); var data = source.getAttribute(\"data-image-\" + index); var image = document.getElementById(\"NetworKit_Overlay_Image\"); image.setAttribute(\"data-id\", source.id); image.style.backgroundImage = \"url(\" + data + \")\"; var link = document.getElementById(\"NetworKit_Overlay_Toolbar_Bottom_Save\"); link.href = data; link.download = source.title + \".svg\"; } function NetworKit_overlayImageShift(delta) { var image = document.getElementById(\"NetworKit_Overlay_Image\"); var source = document.getElementById(image.getAttribute(\"data-id\")); var index = parseInt(source.getAttribute(\"data-image-index\")); var length = parseInt(source.getAttribute(\"data-image-length\")); var index = (index+delta) % length; if (index < 0) { index = length + index; } source.setAttribute(\"data-image-index\", index); NetworKit_overlayUpdate(source); } function NetworKit_toggleDetails(source) { var childs = source.children; var show = false; if (source.getAttribute(\"data-title\") == \"-\") { source.setAttribute(\"data-title\", \"+\"); show = false; } else { source.setAttribute(\"data-title\", \"-\"); show = true; } for (i=0; i<childs.length; i++) { if (show) { childs[i].style.display = \"block\"; } else { childs[i].style.display = \"none\"; } } }';\n\t\t\t\telement.setAttribute('id', 'NetworKit_script');\n\t\t\t\tdocument.head.appendChild(element);\n\t\t\t}\n\t\t\n\t\t\t\t\n\t\t\t{\n\t\t\t\tvar element = document.getElementById('NetworKit_style');\n\t\t\t\tif (element) {\n\t\t\t\t\telement.parentNode.removeChild(element);\n\t\t\t\t}\n\t\t\t\telement = document.createElement('style');\n\t\t\t\telement.type = 'text/css';\n\t\t\t\telement.innerHTML = '.NetworKit_Page { font-family: Arial, Helvetica, sans-serif; font-size: 14px; } .NetworKit_Page .Value:before { font-family: Arial, Helvetica, sans-serif; font-size: 1.05em; content: attr(data-title) \":\"; margin-left: -2.5em; padding-right: 0.5em; } .NetworKit_Page .Details .Value:before { display: block; } .NetworKit_Page .Value { font-family: monospace; white-space: pre; padding-left: 2.5em; white-space: -moz-pre-wrap !important; white-space: -pre-wrap; white-space: -o-pre-wrap; white-space: pre-wrap; word-wrap: break-word; tab-size: 4; -moz-tab-size: 4; } .NetworKit_Page .Category { clear: both; padding-left: 1em; margin-bottom: 1.5em; } .NetworKit_Page .Category:before { content: attr(data-title); font-size: 1.75em; display: block; margin-left: -0.8em; margin-bottom: 0.5em; } .NetworKit_Page .SubCategory { margin-bottom: 1.5em; padding-left: 1em; } .NetworKit_Page .SubCategory:before { font-size: 1.6em; display: block; margin-left: -0.8em; margin-bottom: 0.5em; } .NetworKit_Page .SubCategory[data-title]:before { content: attr(data-title); } .NetworKit_Page .Block { display: block; } .NetworKit_Page .Block:after { content: \".\"; visibility: hidden; display: block; height: 0; clear: both; } .NetworKit_Page .Block .Thumbnail_Overview, .NetworKit_Page .Block .Thumbnail_ScatterPlot { width: 260px; float: left; } .NetworKit_Page .Block .Thumbnail_Overview img, .NetworKit_Page .Block .Thumbnail_ScatterPlot img { width: 260px; } .NetworKit_Page .Block .Thumbnail_Overview:before, .NetworKit_Page .Block .Thumbnail_ScatterPlot:before { display: block; text-align: center; font-weight: bold; } .NetworKit_Page .Block .Thumbnail_Overview:before { content: attr(data-title); } .NetworKit_Page .HeatCell { font-family: \"Courier New\", Courier, monospace; cursor: pointer; } .NetworKit_Page .HeatCell, .NetworKit_Page .HeatCellName { display: inline; padding: 0.1em; margin-right: 2px; background-color: #FFFFFF } .NetworKit_Page .HeatCellName { margin-left: 0.25em; } .NetworKit_Page .HeatCell:before { content: attr(data-heat); display: inline-block; color: #000000; width: 4em; text-align: center; } .NetworKit_Page .Measure { clear: both; } .NetworKit_Page .Measure .Details { cursor: pointer; } .NetworKit_Page .Measure .Details:before { content: \"[\" attr(data-title) \"]\"; display: block; } .NetworKit_Page .Measure .Details .Value { border-left: 1px dotted black; margin-left: 0.4em; padding-left: 3.5em; pointer-events: none; } .NetworKit_Page .Measure .Details .Spacer:before { content: \".\"; opacity: 0.0; pointer-events: none; } .NetworKit_Page .Measure .Plot { width: 440px; height: 440px; cursor: pointer; float: left; margin-left: -0.9em; margin-right: 20px; } .NetworKit_Page .Measure .Plot .Image { background-repeat: no-repeat; background-position: center center; background-size: contain; height: 100%; pointer-events: none; } .NetworKit_Page .Measure .Stat { width: 500px; float: left; } .NetworKit_Page .Measure .Stat .Group { padding-left: 1.25em; margin-bottom: 0.75em; } .NetworKit_Page .Measure .Stat .Group .Title { font-size: 1.1em; display: block; margin-bottom: 0.3em; margin-left: -0.75em; border-right-style: dotted; border-right-width: 1px; border-bottom-style: dotted; border-bottom-width: 1px; background-color: #D0D0D0; padding-left: 0.2em; } .NetworKit_Page .Measure .Stat .Group .List { -webkit-column-count: 3; -moz-column-count: 3; column-count: 3; } .NetworKit_Page .Measure .Stat .Group .List .Entry { position: relative; line-height: 1.75em; } .NetworKit_Page .Measure .Stat .Group .List .Entry[data-tooltip]:before { position: absolute; left: 0; top: -40px; background-color: #808080; color: #ffffff; height: 30px; line-height: 30px; border-radius: 5px; padding: 0 15px; content: attr(data-tooltip); white-space: nowrap; display: none; } .NetworKit_Page .Measure .Stat .Group .List .Entry[data-tooltip]:after { position: absolute; left: 15px; top: -10px; border-top: 7px solid #808080; border-left: 7px solid transparent; border-right: 7px solid transparent; content: \"\"; display: none; } .NetworKit_Page .Measure .Stat .Group .List .Entry[data-tooltip]:hover:after, .NetworKit_Page .Measure .Stat .Group .List .Entry[data-tooltip]:hover:before { display: block; } .NetworKit_Page .Measure .Stat .Group .List .Entry .MathValue { font-family: \"Courier New\", Courier, monospace; } .NetworKit_Page .Measure:after { content: \".\"; visibility: hidden; display: block; height: 0; clear: both; } .NetworKit_Page .PartitionPie { clear: both; } .NetworKit_Page .PartitionPie img { width: 600px; } #NetworKit_Overlay { left: 0px; top: 0px; display: none; position: absolute; width: 100%; height: 100%; background-color: rgba(0,0,0,0.6); z-index: 1000; } #NetworKit_Overlay_Title { position: absolute; color: white; transform: rotate(-90deg); width: 32em; height: 32em; padding-right: 0.5em; padding-top: 0.5em; text-align: right; font-size: 40px; } #NetworKit_Overlay .button { background: white; cursor: pointer; } #NetworKit_Overlay .button:before { size: 13px; display: inline-block; text-align: center; margin-top: 0.5em; margin-bottom: 0.5em; width: 1.5em; height: 1.5em; } #NetworKit_Overlay .icon-close:before { content: \"X\"; } #NetworKit_Overlay .icon-previous:before { content: \"P\"; } #NetworKit_Overlay .icon-next:before { content: \"N\"; } #NetworKit_Overlay .icon-save:before { content: \"S\"; } #NetworKit_Overlay_Toolbar_Top, #NetworKit_Overlay_Toolbar_Bottom { position: absolute; width: 40px; right: 13px; text-align: right; z-index: 1100; } #NetworKit_Overlay_Toolbar_Top { top: 0.5em; } #NetworKit_Overlay_Toolbar_Bottom { Bottom: 0.5em; } #NetworKit_Overlay_ImageContainer { position: absolute; top: 5%; left: 5%; height: 90%; width: 90%; background-repeat: no-repeat; background-position: center center; background-size: contain; } #NetworKit_Overlay_Image { height: 100%; width: 100%; background-repeat: no-repeat; background-position: center center; background-size: contain; }';\n\t\t\t\telement.setAttribute('id', 'NetworKit_style');\n\t\t\t\tdocument.head.appendChild(element);\n\t\t\t}\n\t\t\n\t\t\t\t\n\t\t\t{\n\t\t\t\tvar element = document.getElementById('NetworKit_Overlay');\n\t\t\t\tif (element) {\n\t\t\t\t\telement.parentNode.removeChild(element);\n\t\t\t\t}\n\t\t\t\telement = document.createElement('div');\n\t\t\t\telement.innerHTML = '<div id=\"NetworKit_Overlay_Toolbar_Top\"><div class=\"button icon-close\" id=\"NetworKit_Overlay_Close\" /></div><div id=\"NetworKit_Overlay_Title\" /> <div id=\"NetworKit_Overlay_ImageContainer\"> <div id=\"NetworKit_Overlay_Image\" /> </div> <div id=\"NetworKit_Overlay_Toolbar_Bottom\"> <div class=\"button icon-previous\" onclick=\"NetworKit_overlayImageShift(-1)\" /> <div class=\"button icon-next\" onclick=\"NetworKit_overlayImageShift(1)\" /> <a id=\"NetworKit_Overlay_Toolbar_Bottom_Save\"><div class=\"button icon-save\" /></a> </div>';\n\t\t\t\telement.setAttribute('id', 'NetworKit_Overlay');\n\t\t\t\tdocument.body.appendChild(element);\n\t\t\t\tdocument.getElementById('NetworKit_Overlay_Close').onclick = function (e) {\n\t\t\t\t\tdocument.getElementById('NetworKit_Overlay').style.display = 'none';\n\t\t\t\t}\n\t\t\t}\n\t\t\n\t\t\t-->\n\t\t\t</script>\n\t\t"
     },
     "metadata": {},
     "output_type": "display_data"
    },
    {
     "name": "stdout",
     "output_type": "stream",
     "text": [
      "/cluster/scratch/bdayan/GIRG_data/socfb-Caltech36.SpaceOne\n",
      "/cluster/scratch/bdayan/GIRG_data/socfb-Reed98.SpaceOne\n",
      "/cluster/scratch/bdayan/GIRG_data/socfb-Haverford76.SpaceOne\n",
      "/cluster/scratch/bdayan/GIRG_data/socfb-Simmons81.SpaceOne\n",
      "/cluster/scratch/bdayan/GIRG_data/socfb-Swarthmore42.SpaceOne\n",
      "/cluster/scratch/bdayan/GIRG_data/socfb-Amherst41.SpaceOne\n",
      "/cluster/scratch/bdayan/GIRG_data/socfb-Bowdoin47.SpaceOne\n",
      "/cluster/scratch/bdayan/GIRG_data/socfb-Hamilton46.SpaceOne\n",
      "/cluster/scratch/bdayan/GIRG_data/socfb-Trinity100.SpaceOne\n",
      "/cluster/scratch/bdayan/GIRG_data/socfb-USFCA72.SpaceOne\n",
      "/cluster/scratch/bdayan/GIRG_data/socfb-Williams40.SpaceOne\n",
      "/cluster/scratch/bdayan/GIRG_data/socfb-Oberlin44.SpaceOne\n",
      "/cluster/scratch/bdayan/GIRG_data/socfb-Wellesley22.SpaceOne\n",
      "/cluster/scratch/bdayan/GIRG_data/socfb-Smith60.SpaceOne\n",
      "/cluster/scratch/bdayan/GIRG_data/socfb-Vassar85.SpaceOne\n",
      "/cluster/scratch/bdayan/GIRG_data/socfb-Middlebury45.SpaceOne\n",
      "/cluster/scratch/bdayan/GIRG_data/socfb-Pepperdine86.SpaceOne\n",
      "/cluster/scratch/bdayan/GIRG_data/socfb-Colgate88.SpaceOne\n",
      "/cluster/scratch/bdayan/GIRG_data/socfb-Santa74.SpaceOne\n",
      "/cluster/scratch/bdayan/GIRG_data/socfb-Wesleyan43.SpaceOne\n",
      "/cluster/scratch/bdayan/GIRG_data/socfb-Mich67.SpaceOne\n",
      "/cluster/scratch/bdayan/GIRG_data/socfb-Bucknell39.SpaceOne\n",
      "/cluster/scratch/bdayan/GIRG_data/socfb-Brandeis99.SpaceOne\n",
      "/cluster/scratch/bdayan/GIRG_data/socfb-Howard90.SpaceOne\n",
      "/cluster/scratch/bdayan/GIRG_data/socfb-Rice31.SpaceOne\n",
      "/cluster/scratch/bdayan/GIRG_data/socfb-Rochester38.SpaceOne\n",
      "/cluster/scratch/bdayan/GIRG_data/socfb-Lehigh96.SpaceOne\n",
      "/cluster/scratch/bdayan/GIRG_data/socfb-JohnsHopkins55.SpaceOne\n",
      "/cluster/scratch/bdayan/GIRG_data/socfb-Wake73.SpaceOne\n",
      "/cluster/scratch/bdayan/GIRG_data/socfb-American75.SpaceOne\n",
      "/cluster/scratch/bdayan/GIRG_data/socfb-MIT8.SpaceOne\n",
      "/cluster/scratch/bdayan/GIRG_data/socfb-MIT.SpaceOne\n",
      "/cluster/scratch/bdayan/GIRG_data/socfb-William77.SpaceOne\n",
      "/cluster/scratch/bdayan/GIRG_data/socfb-UChicago30.SpaceOne\n",
      "/cluster/scratch/bdayan/GIRG_data/socfb-Princeton12.SpaceOne\n",
      "/cluster/scratch/bdayan/GIRG_data/socfb-CMU.SpaceOne\n",
      "/cluster/scratch/bdayan/GIRG_data/socfb-Carnegie49.SpaceOne\n",
      "/cluster/scratch/bdayan/GIRG_data/socfb-Tufts18.SpaceOne\n",
      "/cluster/scratch/bdayan/GIRG_data/socfb-UC64.SpaceOne\n",
      "/cluster/scratch/bdayan/GIRG_data/socfb-Vermont70.SpaceOne\n",
      "/cluster/scratch/bdayan/GIRG_data/socfb-Emory27.SpaceOne\n",
      "/cluster/scratch/bdayan/GIRG_data/socfb-Dartmouth6.SpaceOne\n",
      "/cluster/scratch/bdayan/GIRG_data/socfb-WashU32.SpaceOne\n",
      "/cluster/scratch/bdayan/GIRG_data/socfb-Tulane29.SpaceOne\n",
      "/cluster/scratch/bdayan/GIRG_data/socfb-Villanova62.SpaceOne\n",
      "/cluster/scratch/bdayan/GIRG_data/socfb-Vanderbilt48.SpaceOne\n",
      "/cluster/scratch/bdayan/GIRG_data/socfb-Yale4.SpaceOne\n",
      "/cluster/scratch/bdayan/GIRG_data/socfb-Brown11.SpaceOne\n",
      "/cluster/scratch/bdayan/GIRG_data/socfb-UCSC68.SpaceOne\n",
      "/cluster/scratch/bdayan/GIRG_data/socfb-Maine59.SpaceOne\n",
      "/cluster/scratch/bdayan/GIRG_data/socfb-Georgetown15.SpaceOne\n",
      "/cluster/scratch/bdayan/GIRG_data/socfb-Duke14.SpaceOne\n",
      "/cluster/scratch/bdayan/GIRG_data/socfb-Bingham82.SpaceOne\n",
      "/cluster/scratch/bdayan/GIRG_data/socfb-Mississippi66.SpaceOne\n",
      "/cluster/scratch/bdayan/GIRG_data/socfb-Northwestern25.SpaceOne\n",
      "/cluster/scratch/bdayan/GIRG_data/socfb-Cal65.SpaceOne\n",
      "/cluster/scratch/bdayan/GIRG_data/socfb-BC17.SpaceOne\n",
      "/cluster/scratch/bdayan/GIRG_data/socfb-Stanford3.SpaceOne\n",
      "/cluster/scratch/bdayan/GIRG_data/socfb-Columbia2.SpaceOne\n",
      "/cluster/scratch/bdayan/GIRG_data/socfb-NotreDame57.SpaceOne\n",
      "/cluster/scratch/bdayan/GIRG_data/socfb-GWU54.SpaceOne\n",
      "/cluster/scratch/bdayan/GIRG_data/socfb-Baylor93.SpaceOne\n",
      "/cluster/scratch/bdayan/GIRG_data/socfb-USF51.SpaceOne\n",
      "/cluster/scratch/bdayan/GIRG_data/socfb-Syracuse56.SpaceOne\n",
      "/cluster/scratch/bdayan/GIRG_data/socfb-Temple83.SpaceOne\n",
      "/cluster/scratch/bdayan/GIRG_data/socfb-UC61.SpaceOne\n",
      "/cluster/scratch/bdayan/GIRG_data/socfb-Northeastern19.SpaceOne\n",
      "/cluster/scratch/bdayan/GIRG_data/socfb-JMU79.SpaceOne\n",
      "/cluster/scratch/bdayan/GIRG_data/socfb-UPenn7.SpaceOne\n",
      "/cluster/scratch/bdayan/GIRG_data/socfb-UCSB37.SpaceOne\n",
      "/cluster/scratch/bdayan/GIRG_data/socfb-UCF52.SpaceOne\n",
      "/cluster/scratch/bdayan/GIRG_data/socfb-UCSD34.SpaceOne\n",
      "/cluster/scratch/bdayan/GIRG_data/socfb-Harvard1.SpaceOne\n",
      "/cluster/scratch/bdayan/GIRG_data/socfb-MU78.SpaceOne\n",
      "/cluster/scratch/bdayan/GIRG_data/socfb-UMass92.SpaceOne\n",
      "/cluster/scratch/bdayan/GIRG_data/socfb-UC33.SpaceOne\n",
      "/cluster/scratch/bdayan/GIRG_data/socfb-Tennessee95.SpaceOne\n",
      "/cluster/scratch/bdayan/GIRG_data/socfb-UVA16.SpaceOne\n",
      "/cluster/scratch/bdayan/GIRG_data/socfb-UConn91.SpaceOne\n",
      "/cluster/scratch/bdayan/GIRG_data/socfb-UConn.SpaceOne\n",
      "/cluster/scratch/bdayan/GIRG_data/socfb-Oklahoma97.SpaceOne\n",
      "/cluster/scratch/bdayan/GIRG_data/socfb-USC35.SpaceOne\n",
      "/cluster/scratch/bdayan/GIRG_data/socfb-UNC28.SpaceOne\n",
      "/cluster/scratch/bdayan/GIRG_data/socfb-Auburn71.SpaceOne\n",
      "/cluster/scratch/bdayan/GIRG_data/socfb-Cornell5.SpaceOne\n",
      "/cluster/scratch/bdayan/GIRG_data/socfb-BU10.SpaceOne\n",
      "/cluster/scratch/bdayan/GIRG_data/socfb-UCLA.SpaceOne\n",
      "/cluster/scratch/bdayan/GIRG_data/socfb-UCLA26.SpaceOne\n",
      "/cluster/scratch/bdayan/GIRG_data/socfb-Maryland58.SpaceOne\n",
      "/cluster/scratch/bdayan/GIRG_data/socfb-Virginia63.SpaceOne\n",
      "/cluster/scratch/bdayan/GIRG_data/socfb-NYU9.SpaceOne\n",
      "/cluster/scratch/bdayan/GIRG_data/socfb-Berkeley13.SpaceOne\n",
      "/cluster/scratch/bdayan/GIRG_data/socfb-Wisconsin87.SpaceOne\n",
      "/cluster/scratch/bdayan/GIRG_data/socfb-UGA50.SpaceOne\n",
      "/cluster/scratch/bdayan/GIRG_data/socfb-Rutgers89.SpaceOne\n",
      "/cluster/scratch/bdayan/GIRG_data/socfb-FSU53.SpaceOne\n",
      "/cluster/scratch/bdayan/GIRG_data/socfb-Indiana.SpaceOne\n",
      "/cluster/scratch/bdayan/GIRG_data/socfb-Indiana69.SpaceOne\n",
      "/cluster/scratch/bdayan/GIRG_data/socfb-Michigan23.SpaceOne\n",
      "/cluster/scratch/bdayan/GIRG_data/socfb-UIllinois20.SpaceOne\n",
      "/cluster/scratch/bdayan/GIRG_data/socfb-UIllinois.SpaceOne\n",
      "/cluster/scratch/bdayan/GIRG_data/socfb-Texas80.SpaceOne\n",
      "/cluster/scratch/bdayan/GIRG_data/socfb-MSU24.SpaceOne\n",
      "/cluster/scratch/bdayan/GIRG_data/socfb-UF21.SpaceOne\n",
      "/cluster/scratch/bdayan/GIRG_data/socfb-UF.SpaceOne\n",
      "/cluster/scratch/bdayan/GIRG_data/socfb-Texas84.SpaceOne\n",
      "/cluster/scratch/bdayan/GIRG_data/socfb-Penn94.SpaceOne\n",
      "/cluster/scratch/bdayan/GIRG_data/socfb-wosn-friends.SpaceOne\n",
      "/cluster/scratch/bdayan/GIRG_data/socfb-OR.SpaceOne\n"
     ]
    }
   ],
   "source": [
    "from benji_girgs import utils, generation, points, fitting\n",
    "import os\n",
    "import glob\n",
    "import pandas as pd\n",
    "import networkit\n",
    "\n",
    "import networkit as nk\n",
    "\n",
    "from girg_sampling import girgs\n",
    "\n",
    "from IPython.core.interactiveshell import InteractiveShell\n",
    "InteractiveShell.ast_node_interactivity = \"all\"\n",
    "\n",
    "import numpy as np\n",
    "import matplotlib.pyplot as plt\n",
    "\n",
    "import networkx as nx\n",
    "\n",
    "import do_feature_extract\n"
   ],
   "metadata": {
    "collapsed": false,
    "ExecuteTime": {
     "start_time": "2023-06-09T10:20:12.259276Z",
     "end_time": "2023-06-09T10:20:14.932359Z"
    }
   }
  },
  {
   "cell_type": "code",
   "execution_count": 3,
   "outputs": [],
   "source": [
    "tau = 2.1\n",
    "n = 2500\n",
    "maxes = []\n",
    "sums = []\n",
    "for _ in range(20):\n",
    "    ws = generation.powerlaw_dist(tau, n=n)\n",
    "    maxes.append(np.max(ws))\n",
    "    sums.append(np.sum(ws))"
   ],
   "metadata": {
    "collapsed": false,
    "ExecuteTime": {
     "start_time": "2023-06-08T14:49:45.520889Z",
     "end_time": "2023-06-08T14:49:45.548319Z"
    }
   }
  },
  {
   "cell_type": "code",
   "execution_count": 4,
   "outputs": [
    {
     "data": {
      "text/plain": "[3758.9229290498392,\n 3985.775496414103,\n 7541.3994356716685,\n 22290.01099330204,\n 17969.64567797938,\n 1574.4794223110064,\n 2293.6761027725875,\n 22446.20100510466,\n 47888.1400382922,\n 8005.189995311369,\n 6774.932081818262,\n 2385.1560310765462,\n 6277.740779347841,\n 3373.678754795584,\n 6429.571637058569,\n 82487.08713894073,\n 7574.575903732994,\n 5570.178431846531,\n 10695.728191423668,\n 21843.902638247382]"
     },
     "execution_count": 4,
     "metadata": {},
     "output_type": "execute_result"
    }
   ],
   "source": [
    "maxes"
   ],
   "metadata": {
    "collapsed": false,
    "ExecuteTime": {
     "start_time": "2023-06-08T14:11:49.981714Z",
     "end_time": "2023-06-08T14:11:50.036728Z"
    }
   }
  },
  {
   "cell_type": "code",
   "execution_count": 5,
   "outputs": [
    {
     "data": {
      "text/plain": "80.30857221391513"
     },
     "execution_count": 5,
     "metadata": {},
     "output_type": "execute_result"
    }
   ],
   "source": [
    "n**(1/tau)"
   ],
   "metadata": {
    "collapsed": false,
    "ExecuteTime": {
     "start_time": "2023-06-08T14:11:50.989809Z",
     "end_time": "2023-06-08T14:11:50.998521Z"
    }
   }
  },
  {
   "cell_type": "code",
   "execution_count": 11,
   "outputs": [
    {
     "data": {
      "text/plain": "array([3.80037904, 1.59982612, 8.57281111, ..., 1.43639066, 1.10180733,\n       1.23739241])"
     },
     "execution_count": 11,
     "metadata": {},
     "output_type": "execute_result"
    }
   ],
   "source": [
    "ws"
   ],
   "metadata": {
    "collapsed": false,
    "ExecuteTime": {
     "start_time": "2023-06-08T11:59:04.879902Z",
     "end_time": "2023-06-08T11:59:04.901485Z"
    }
   }
  },
  {
   "cell_type": "code",
   "execution_count": 12,
   "outputs": [
    {
     "data": {
      "text/plain": "array([3.80037904, 1.59982612, 8.57281111, ..., 1.43639066, 1.10180733,\n       1.23739241])"
     },
     "execution_count": 12,
     "metadata": {},
     "output_type": "execute_result"
    }
   ],
   "source": [
    "ws"
   ],
   "metadata": {
    "collapsed": false,
    "ExecuteTime": {
     "start_time": "2023-06-08T11:59:46.445074Z",
     "end_time": "2023-06-08T11:59:46.484947Z"
    }
   }
  },
  {
   "cell_type": "code",
   "execution_count": 17,
   "outputs": [
    {
     "data": {
      "text/plain": "(array([9.935e+03, 3.800e+01, 6.000e+00, 6.000e+00, 2.000e+00, 1.000e+00,\n        2.000e+00, 1.000e+00, 1.000e+00, 0.000e+00, 1.000e+00, 1.000e+00,\n        0.000e+00, 1.000e+00, 0.000e+00, 1.000e+00, 0.000e+00, 0.000e+00,\n        0.000e+00, 0.000e+00, 1.000e+00, 0.000e+00, 1.000e+00, 0.000e+00,\n        0.000e+00, 0.000e+00, 0.000e+00, 0.000e+00, 0.000e+00, 0.000e+00,\n        0.000e+00, 0.000e+00, 0.000e+00, 0.000e+00, 0.000e+00, 0.000e+00,\n        0.000e+00, 0.000e+00, 0.000e+00, 0.000e+00, 0.000e+00, 0.000e+00,\n        0.000e+00, 0.000e+00, 0.000e+00, 1.000e+00, 0.000e+00, 0.000e+00,\n        0.000e+00, 1.000e+00]),\n array([1.00010892e+00, 9.45372294e+01, 1.88074350e+02, 2.81611470e+02,\n        3.75148591e+02, 4.68685711e+02, 5.62222832e+02, 6.55759953e+02,\n        7.49297073e+02, 8.42834194e+02, 9.36371314e+02, 1.02990843e+03,\n        1.12344556e+03, 1.21698268e+03, 1.31051980e+03, 1.40405692e+03,\n        1.49759404e+03, 1.59113116e+03, 1.68466828e+03, 1.77820540e+03,\n        1.87174252e+03, 1.96527964e+03, 2.05881676e+03, 2.15235388e+03,\n        2.24589100e+03, 2.33942812e+03, 2.43296524e+03, 2.52650236e+03,\n        2.62003948e+03, 2.71357660e+03, 2.80711372e+03, 2.90065084e+03,\n        2.99418797e+03, 3.08772509e+03, 3.18126221e+03, 3.27479933e+03,\n        3.36833645e+03, 3.46187357e+03, 3.55541069e+03, 3.64894781e+03,\n        3.74248493e+03, 3.83602205e+03, 3.92955917e+03, 4.02309629e+03,\n        4.11663341e+03, 4.21017053e+03, 4.30370765e+03, 4.39724477e+03,\n        4.49078189e+03, 4.58431901e+03, 4.67785613e+03]),\n <BarContainer object of 50 artists>)"
     },
     "execution_count": 17,
     "metadata": {},
     "output_type": "execute_result"
    },
    {
     "data": {
      "text/plain": "<Figure size 640x480 with 1 Axes>",
      "image/png": "[encoded data removed]"
     },
     "metadata": {},
     "output_type": "display_data"
    }
   ],
   "source": [
    "plt.hist(ws, bins=50)"
   ],
   "metadata": {
    "collapsed": false,
    "ExecuteTime": {
     "start_time": "2023-06-08T12:00:05.174128Z",
     "end_time": "2023-06-08T12:00:05.438400Z"
    }
   }
  },
  {
   "cell_type": "code",
   "execution_count": 39,
   "outputs": [
    {
     "data": {
      "text/plain": "108394.40887147917"
     },
     "execution_count": 39,
     "metadata": {},
     "output_type": "execute_result"
    }
   ],
   "source": [
    "np.max(ws)"
   ],
   "metadata": {
    "collapsed": false,
    "ExecuteTime": {
     "start_time": "2023-06-08T12:08:12.850524Z",
     "end_time": "2023-06-08T12:08:12.867501Z"
    }
   }
  },
  {
   "cell_type": "code",
   "execution_count": 29,
   "outputs": [
    {
     "data": {
      "text/plain": "70944.13448141377"
     },
     "execution_count": 29,
     "metadata": {},
     "output_type": "execute_result"
    }
   ],
   "source": [
    "((tau - 1)/(tau - 2)) * n**( + 2/tau)"
   ],
   "metadata": {
    "collapsed": false,
    "ExecuteTime": {
     "start_time": "2023-06-08T12:05:23.353129Z",
     "end_time": "2023-06-08T12:05:23.359301Z"
    }
   }
  },
  {
   "cell_type": "code",
   "execution_count": 22,
   "outputs": [
    {
     "data": {
      "text/plain": "0.9523809523809523"
     },
     "execution_count": 22,
     "metadata": {},
     "output_type": "execute_result"
    }
   ],
   "source": [
    "2/tau"
   ],
   "metadata": {
    "collapsed": false,
    "ExecuteTime": {
     "start_time": "2023-06-08T12:03:45.148863Z",
     "end_time": "2023-06-08T12:03:45.309999Z"
    }
   }
  },
  {
   "cell_type": "code",
   "execution_count": 23,
   "outputs": [
    {
     "data": {
      "text/plain": "0.6449466771037621"
     },
     "execution_count": 23,
     "metadata": {},
     "output_type": "execute_result"
    }
   ],
   "source": [
    "n**((2-tau)/tau)"
   ],
   "metadata": {
    "collapsed": false,
    "ExecuteTime": {
     "start_time": "2023-06-08T12:04:41.245865Z",
     "end_time": "2023-06-08T12:04:41.290046Z"
    }
   }
  },
  {
   "cell_type": "code",
   "execution_count": 25,
   "outputs": [
    {
     "data": {
      "text/plain": "-0.04761904761904766"
     },
     "execution_count": 25,
     "metadata": {},
     "output_type": "execute_result"
    }
   ],
   "source": [
    "(2-tau)/tau"
   ],
   "metadata": {
    "collapsed": false,
    "ExecuteTime": {
     "start_time": "2023-06-08T12:04:47.718818Z",
     "end_time": "2023-06-08T12:04:47.726327Z"
    }
   }
  },
  {
   "cell_type": "code",
   "execution_count": 33,
   "outputs": [
    {
     "data": {
      "text/plain": "(array([4., 7., 2., 0., 2., 3., 0., 0., 1., 1.]),\n array([  993.10937714,  3395.1869299 ,  5797.26448266,  8199.34203542,\n        10601.41958818, 13003.49714094, 15405.5746937 , 17807.65224645,\n        20209.72979921, 22611.80735197, 25013.88490473]),\n <BarContainer object of 10 artists>)"
     },
     "execution_count": 33,
     "metadata": {},
     "output_type": "execute_result"
    },
    {
     "data": {
      "text/plain": "<Figure size 640x480 with 1 Axes>",
      "image/png": "[encoded data removed]"
     },
     "metadata": {},
     "output_type": "display_data"
    }
   ],
   "source": [
    "plt.xscale('log')\n",
    "plt.hist(maxes)"
   ],
   "metadata": {
    "collapsed": false,
    "ExecuteTime": {
     "start_time": "2023-06-08T12:06:18.254124Z",
     "end_time": "2023-06-08T12:06:18.643884Z"
    }
   }
  },
  {
   "cell_type": "code",
   "execution_count": 34,
   "outputs": [
    {
     "data": {
      "text/plain": "80.30857221391513"
     },
     "execution_count": 34,
     "metadata": {},
     "output_type": "execute_result"
    }
   ],
   "source": [
    "n**(1/tau)"
   ],
   "metadata": {
    "collapsed": false,
    "ExecuteTime": {
     "start_time": "2023-06-08T12:07:09.178679Z",
     "end_time": "2023-06-08T12:07:09.220520Z"
    }
   }
  },
  {
   "cell_type": "code",
   "execution_count": 40,
   "outputs": [
    {
     "data": {
      "text/plain": "4506.539696916535"
     },
     "execution_count": 40,
     "metadata": {},
     "output_type": "execute_result"
    }
   ],
   "source": [
    "ws2 = ws[ws < 108390]\n",
    "np.max(ws2)"
   ],
   "metadata": {
    "collapsed": false,
    "ExecuteTime": {
     "start_time": "2023-06-08T12:08:21.804747Z",
     "end_time": "2023-06-08T12:08:21.812325Z"
    }
   }
  },
  {
   "cell_type": "code",
   "execution_count": 42,
   "outputs": [
    {
     "data": {
      "text/plain": "70944.13448141376"
     },
     "execution_count": 42,
     "metadata": {},
     "output_type": "execute_result"
    }
   ],
   "source": [
    "def f(k, n, tau):\n",
    "    return ((tau-1)/(tau-2)) * (k/n)**(-1 + (2-tau)*(-1/tau))\n",
    "\n",
    "f(1, n, tau)"
   ],
   "metadata": {
    "collapsed": false,
    "ExecuteTime": {
     "start_time": "2023-06-08T12:14:33.575951Z",
     "end_time": "2023-06-08T12:14:33.597479Z"
    }
   }
  },
  {
   "cell_type": "code",
   "execution_count": 44,
   "outputs": [
    {
     "data": {
      "text/plain": "24918.12153474709"
     },
     "execution_count": 44,
     "metadata": {},
     "output_type": "execute_result"
    }
   ],
   "source": [
    "f(3, n, tau)"
   ],
   "metadata": {
    "collapsed": false,
    "ExecuteTime": {
     "start_time": "2023-06-08T12:14:40.629901Z",
     "end_time": "2023-06-08T12:14:40.639379Z"
    }
   }
  },
  {
   "cell_type": "code",
   "execution_count": 46,
   "outputs": [
    {
     "data": {
      "text/plain": "175801.4138812999"
     },
     "execution_count": 46,
     "metadata": {},
     "output_type": "execute_result"
    }
   ],
   "source": [
    "np.sum(ws)"
   ],
   "metadata": {
    "collapsed": false,
    "ExecuteTime": {
     "start_time": "2023-06-08T12:14:53.997148Z",
     "end_time": "2023-06-08T12:14:54.003440Z"
    }
   }
  },
  {
   "cell_type": "code",
   "execution_count": 49,
   "outputs": [
    {
     "data": {
      "text/plain": "(array([5., 9., 3., 1., 1., 0., 0., 0., 0., 1.]),\n array([ 55953.14704893,  68787.72439082,  81622.3017327 ,  94456.87907458,\n        107291.45641646, 120126.03375834, 132960.61110023, 145795.18844211,\n        158629.76578399, 171464.34312587, 184298.92046776]),\n <BarContainer object of 10 artists>)"
     },
     "execution_count": 49,
     "metadata": {},
     "output_type": "execute_result"
    },
    {
     "data": {
      "text/plain": "<Figure size 640x480 with 1 Axes>",
      "image/png": "[encoded data removed]"
     },
     "metadata": {},
     "output_type": "display_data"
    }
   ],
   "source": [
    "plt.hist(sums)"
   ],
   "metadata": {
    "collapsed": false,
    "ExecuteTime": {
     "start_time": "2023-06-08T12:15:16.822762Z",
     "end_time": "2023-06-08T12:15:17.065956Z"
    }
   }
  },
  {
   "cell_type": "code",
   "execution_count": 52,
   "outputs": [
    {
     "data": {
      "text/plain": "626.716436186975"
     },
     "execution_count": 52,
     "metadata": {},
     "output_type": "execute_result"
    }
   ],
   "source": [
    "f(10, n, tau)**2 / 100000"
   ],
   "metadata": {
    "collapsed": false,
    "ExecuteTime": {
     "start_time": "2023-06-08T12:15:58.027208Z",
     "end_time": "2023-06-08T12:15:58.031531Z"
    }
   }
  },
  {
   "cell_type": "code",
   "execution_count": 54,
   "outputs": [
    {
     "data": {
      "text/plain": "[796.6933702004009,\n 901.1999180405858,\n 1106.2811705333895,\n 1156.0407685950786,\n 1285.7471988737643,\n 3508.048177415622,\n 3611.621296427049,\n 7659.028052819373,\n 15685.245737874517,\n 92206.33485634011]"
     },
     "execution_count": 54,
     "metadata": {},
     "output_type": "execute_result"
    }
   ],
   "source": [
    "sorted(ws)[-10:]"
   ],
   "metadata": {
    "collapsed": false,
    "ExecuteTime": {
     "start_time": "2023-06-08T12:19:27.156721Z",
     "end_time": "2023-06-08T12:19:27.162817Z"
    }
   }
  },
  {
   "cell_type": "code",
   "execution_count": 56,
   "outputs": [
    {
     "data": {
      "text/plain": "7.17196"
     },
     "execution_count": 56,
     "metadata": {},
     "output_type": "execute_result"
    }
   ],
   "source": [
    "796*901/100000"
   ],
   "metadata": {
    "collapsed": false,
    "ExecuteTime": {
     "start_time": "2023-06-08T12:19:42.602934Z",
     "end_time": "2023-06-08T12:19:42.614540Z"
    }
   }
  },
  {
   "cell_type": "code",
   "execution_count": 57,
   "outputs": [
    {
     "data": {
      "text/plain": "80.30857221391513"
     },
     "execution_count": 57,
     "metadata": {},
     "output_type": "execute_result"
    }
   ],
   "source": [
    "n**(1/tau)"
   ],
   "metadata": {
    "collapsed": false,
    "ExecuteTime": {
     "start_time": "2023-06-08T12:20:07.098641Z",
     "end_time": "2023-06-08T12:20:07.179333Z"
    }
   }
  },
  {
   "cell_type": "code",
   "execution_count": 58,
   "outputs": [
    {
     "data": {
      "text/plain": "18.4298920467755"
     },
     "execution_count": 58,
     "metadata": {},
     "output_type": "execute_result"
    }
   ],
   "source": [
    "np.mean(ws)"
   ],
   "metadata": {
    "collapsed": false,
    "ExecuteTime": {
     "start_time": "2023-06-08T12:21:40.101202Z",
     "end_time": "2023-06-08T12:21:40.148237Z"
    }
   }
  },
  {
   "cell_type": "code",
   "execution_count": 59,
   "outputs": [
    {
     "data": {
      "text/plain": "10.999999999999991"
     },
     "execution_count": 59,
     "metadata": {},
     "output_type": "execute_result"
    }
   ],
   "source": [
    "(tau-1)/(tau-2)"
   ],
   "metadata": {
    "collapsed": false,
    "ExecuteTime": {
     "start_time": "2023-06-08T12:21:53.730125Z",
     "end_time": "2023-06-08T12:21:53.752492Z"
    }
   }
  },
  {
   "cell_type": "code",
   "execution_count": 62,
   "outputs": [
    {
     "data": {
      "text/plain": "533.6699231206309"
     },
     "execution_count": 62,
     "metadata": {},
     "output_type": "execute_result"
    }
   ],
   "source": [
    "k = 10\n",
    "n**(1/(tau-1)) * k**(-1/(tau-1))"
   ],
   "metadata": {
    "collapsed": false,
    "ExecuteTime": {
     "start_time": "2023-06-08T12:30:52.430656Z",
     "end_time": "2023-06-08T12:30:52.439719Z"
    }
   }
  },
  {
   "cell_type": "code",
   "execution_count": 63,
   "outputs": [
    {
     "data": {
      "text/plain": "16.87462083299284"
     },
     "execution_count": 63,
     "metadata": {},
     "output_type": "execute_result"
    }
   ],
   "source": [
    "((tau-1)/(tau-2)) **((tau-1)/(-2)) * n**((tau-3)/(-2))"
   ],
   "metadata": {
    "collapsed": false,
    "ExecuteTime": {
     "start_time": "2023-06-08T12:34:27.004656Z",
     "end_time": "2023-06-08T12:34:27.042454Z"
    }
   }
  },
  {
   "cell_type": "code",
   "execution_count": 7,
   "outputs": [],
   "source": [
    "def max_k(n, tau):\n",
    "    \"\"\"\n",
    "    The smallest of the top k weights is about (k/n)^(1/(1-tau)) = w_k\n",
    "    hence we solve for w_k^2/W = 1\n",
    "    where W = n<w> = n(tau-1)/(tau-2)\n",
    "    Essentially we get const * n^[(3-tau)/2]\n",
    "    We therefore theorise that probably k = n^[(3-tau)/3] is fine?\n",
    "    \"\"\"\n",
    "    return ((tau-1)/(tau-2)) **((tau-1)/(-2)) * n**((tau-3)/(-2))\n",
    "\n",
    "\n",
    "def max_k(n, tau):\n",
    "    return n**((3-tau)/3)"
   ],
   "metadata": {
    "collapsed": false,
    "ExecuteTime": {
     "start_time": "2023-06-08T12:53:07.556014Z",
     "end_time": "2023-06-08T12:53:07.596223Z"
    }
   }
  },
  {
   "cell_type": "code",
   "execution_count": null,
   "outputs": [],
   "source": [
    "n**((3-tau)/3)"
   ],
   "metadata": {
    "collapsed": false,
    "ExecuteTime": {
     "start_time": "2023-06-08T12:39:20.157664Z",
     "end_time": "2023-06-08T12:39:20.197277Z"
    }
   }
  },
  {
   "cell_type": "code",
   "execution_count": 186,
   "outputs": [
    {
     "data": {
      "text/plain": "<module 'benji_girgs.generation' from '../benji_girgs/generation.py'>"
     },
     "execution_count": 186,
     "metadata": {},
     "output_type": "execute_result"
    }
   ],
   "source": [
    "import importlib\n",
    "importlib.reload(generation)"
   ],
   "metadata": {
    "collapsed": false,
    "ExecuteTime": {
     "start_time": "2023-06-09T13:20:43.669589Z",
     "end_time": "2023-06-09T13:20:43.669873Z"
    }
   }
  },
  {
   "cell_type": "code",
   "execution_count": 190,
   "outputs": [
    {
     "name": "stdout",
     "output_type": "stream",
     "text": [
      "0\n",
      "1\n",
      "2\n",
      "3\n",
      "4\n",
      "5\n",
      "6\n",
      "7\n",
      "8\n",
      "9\n"
     ]
    }
   ],
   "source": [
    "n = 2500\n",
    "d=2\n",
    "tau=2.1\n",
    "alpha=1.2\n",
    "desiredAvgDegree=10.0\n",
    "e=1.0\n",
    "k = 10\n",
    "\n",
    "top_k_edges = []\n",
    "\n",
    "for _ in range(10):\n",
    "    print(_)\n",
    "    g, edges, weights, pts, const = generation.generate_GIRG_nk(n, d, tau, alpha, desiredAvgDegree=desiredAvgDegree, points_type=points.PointsTorus2, e=e)\n",
    "\n",
    "    g2 = utils.get_top_k_clique(g, k)\n",
    "    top_k_edges.append(g2.numberOfEdges())"
   ],
   "metadata": {
    "collapsed": false,
    "ExecuteTime": {
     "start_time": "2023-06-09T13:22:12.766514Z",
     "end_time": "2023-06-09T13:22:25.671292Z"
    }
   }
  },
  {
   "cell_type": "code",
   "execution_count": 191,
   "outputs": [
    {
     "data": {
      "text/plain": "[45, 43, 45, 45, 45, 45, 45, 45, 45, 45]"
     },
     "execution_count": 191,
     "metadata": {},
     "output_type": "execute_result"
    }
   ],
   "source": [
    "top_k_edges"
   ],
   "metadata": {
    "collapsed": false,
    "ExecuteTime": {
     "start_time": "2023-06-09T13:22:26.575513Z",
     "end_time": "2023-06-09T13:22:26.588748Z"
    }
   }
  },
  {
   "cell_type": "code",
   "execution_count": null,
   "outputs": [],
   "source": [],
   "metadata": {
    "collapsed": false
   }
  },
  {
   "cell_type": "code",
   "execution_count": 58,
   "outputs": [
    {
     "name": "stdout",
     "output_type": "stream",
     "text": [
      "Network Properties:\n",
      "nodes, edges\t\t\t10, 45\n",
      "directed?\t\t\tFalse\n",
      "weighted?\t\t\tFalse\n",
      "isolated nodes\t\t\t0\n",
      "self-loops\t\t\t0\n",
      "density\t\t\t\t1.000000\n",
      "clustering coefficient\t\t1.000000\n",
      "min/max/avg degree\t\t9, 9, 9.000000\n",
      "degree assortativity\t\tnan\n",
      "number of connected components\t1\n",
      "size of largest component\t10 (100.00 %)\n"
     ]
    }
   ],
   "source": [
    "g2 = utils.get_top_k_clique(g, 10)\n",
    "nk.overview(g2)"
   ],
   "metadata": {
    "collapsed": false,
    "ExecuteTime": {
     "start_time": "2023-06-09T11:17:00.817513Z",
     "end_time": "2023-06-09T11:17:00.839289Z"
    }
   }
  },
  {
   "cell_type": "code",
   "execution_count": 52,
   "outputs": [
    {
     "data": {
      "text/plain": "0.5415555728578408"
     },
     "execution_count": 52,
     "metadata": {},
     "output_type": "execute_result"
    }
   ],
   "source": [
    "utils.LCC(g)"
   ],
   "metadata": {
    "collapsed": false,
    "ExecuteTime": {
     "start_time": "2023-06-09T11:05:13.823408Z",
     "end_time": "2023-06-09T11:05:13.829568Z"
    }
   }
  },
  {
   "cell_type": "code",
   "execution_count": 33,
   "outputs": [
    {
     "data": {
      "text/plain": "<module 'benji_girgs.generation' from '../benji_girgs/generation.py'>"
     },
     "execution_count": 33,
     "metadata": {},
     "output_type": "execute_result"
    }
   ],
   "source": [
    "import importlib\n",
    "importlib.reload(generation)"
   ],
   "metadata": {
    "collapsed": false,
    "ExecuteTime": {
     "start_time": "2023-06-09T11:00:19.113559Z",
     "end_time": "2023-06-09T11:00:19.113878Z"
    }
   }
  },
  {
   "cell_type": "code",
   "execution_count": 34,
   "outputs": [
    {
     "data": {
      "text/plain": "(0, 30.0)"
     },
     "execution_count": 34,
     "metadata": {},
     "output_type": "execute_result"
    },
    {
     "ename": "ZeroDivisionError",
     "evalue": "float division by zero",
     "output_type": "error",
     "traceback": [
      "\u001B[0;31m---------------------------------------------------------------------------\u001B[0m",
      "\u001B[0;31mZeroDivisionError\u001B[0m                         Traceback (most recent call last)",
      "Cell \u001B[0;32mIn[34], line 3\u001B[0m\n\u001B[1;32m      1\u001B[0m num_missing, num_triangles \u001B[38;5;241m=\u001B[39m generation\u001B[38;5;241m.\u001B[39me_statistic(g, \u001B[38;5;241m0.05\u001B[39m)\n\u001B[1;32m      2\u001B[0m num_missing, num_triangles\n\u001B[0;32m----> 3\u001B[0m L \u001B[38;5;241m=\u001B[39m \u001B[43mnum_triangles\u001B[49m\u001B[38;5;241;43m/\u001B[39;49m\u001B[43mnum_missing\u001B[49m\n\u001B[1;32m      4\u001B[0m f \u001B[38;5;241m=\u001B[39m \u001B[38;5;241m0.4\u001B[39m\n\u001B[1;32m      5\u001B[0m h \u001B[38;5;241m=\u001B[39m \u001B[38;5;241m0.3\u001B[39m\n",
      "\u001B[0;31mZeroDivisionError\u001B[0m: float division by zero"
     ]
    }
   ],
   "source": [
    "num_missing, num_triangles = generation.e_statistic(g, 0.05)\n",
    "num_missing, num_triangles\n",
    "L = num_triangles/num_missing\n",
    "f = 0.4\n",
    "h = 0.3\n",
    "A = f + h*(1-f)\n",
    "B = f + h*h*(1-f)\n",
    "C = (2*A*L) / (B + 2*B*L)\n",
    "\n",
    "L\n",
    "A, B, C"
   ],
   "metadata": {
    "collapsed": false,
    "ExecuteTime": {
     "start_time": "2023-06-09T10:59:46.276359Z",
     "end_time": "2023-06-09T10:59:46.340088Z"
    }
   }
  },
  {
   "cell_type": "code",
   "execution_count": 35,
   "outputs": [
    {
     "data": {
      "text/plain": "0.4"
     },
     "execution_count": 35,
     "metadata": {},
     "output_type": "execute_result"
    }
   ],
   "source": [
    "f"
   ],
   "metadata": {
    "collapsed": false,
    "ExecuteTime": {
     "start_time": "2023-06-09T10:20:36.723844Z",
     "end_time": "2023-06-09T10:20:36.751077Z"
    }
   }
  },
  {
   "cell_type": "code",
   "execution_count": 36,
   "outputs": [],
   "source": [
    "out_list, probs = generation.characterise_girg_edges(g, edges, weights, pts, const, alpha, d)"
   ],
   "metadata": {
    "collapsed": false,
    "ExecuteTime": {
     "start_time": "2023-06-09T11:00:19.418891Z",
     "end_time": "2023-06-09T11:00:20.755642Z"
    }
   }
  },
  {
   "cell_type": "code",
   "execution_count": 37,
   "outputs": [],
   "source": [
    "out_list2 = []\n",
    "for u, v, wu, wv, puv in out_list:\n",
    "    out_list2.append((u, v, wu, wv, degrees[u], degrees[v], puv))"
   ],
   "metadata": {
    "collapsed": false,
    "ExecuteTime": {
     "start_time": "2023-06-09T11:00:20.762786Z",
     "end_time": "2023-06-09T11:00:20.769729Z"
    }
   }
  },
  {
   "cell_type": "code",
   "execution_count": 38,
   "outputs": [
    {
     "data": {
      "text/plain": "(250, 4.0, 30.0)"
     },
     "execution_count": 38,
     "metadata": {},
     "output_type": "execute_result"
    }
   ],
   "source": [
    "degrees_sorted = sorted(degrees)\n",
    "k = n//10\n",
    "small_d = degrees_sorted[k]\n",
    "big_d = degrees_sorted[-k]\n",
    "k, small_d, big_d\n",
    "\n",
    "out_list3 = []\n",
    "for u, v, wu, wv, du, dv, puv in out_list2:\n",
    "    if du <=small_d and dv >= big_d:\n",
    "        out_list3.append((u, v, wu, wv, du, dv, puv))\n",
    "\n",
    "foo = np.array(out_list3)\n",
    "bar = np.array(out_list2)\n"
   ],
   "metadata": {
    "collapsed": false,
    "ExecuteTime": {
     "start_time": "2023-06-09T11:00:25.649858Z",
     "end_time": "2023-06-09T11:00:25.731523Z"
    }
   }
  },
  {
   "cell_type": "code",
   "execution_count": 39,
   "outputs": [
    {
     "data": {
      "text/plain": "array([ 4. , 29.1])"
     },
     "execution_count": 39,
     "metadata": {},
     "output_type": "execute_result"
    }
   ],
   "source": [
    "np.quantile(degrees, [0.1, 0.9])"
   ],
   "metadata": {
    "collapsed": false,
    "ExecuteTime": {
     "start_time": "2023-06-09T11:00:26.231906Z",
     "end_time": "2023-06-09T11:00:26.240223Z"
    }
   }
  },
  {
   "cell_type": "code",
   "execution_count": 40,
   "outputs": [
    {
     "data": {
      "text/plain": "(array([  7.,   4.,   6.,   5.,   5.,   4.,   5.,   3.,   0., 441.]),\n array([0.00476831, 0.10429148, 0.20381465, 0.30333782, 0.40286099,\n        0.50238416, 0.60190733, 0.70143049, 0.80095366, 0.90047683,\n        1.        ]),\n <BarContainer object of 10 artists>)"
     },
     "execution_count": 40,
     "metadata": {},
     "output_type": "execute_result"
    },
    {
     "data": {
      "text/plain": "<Figure size 640x480 with 1 Axes>",
      "image/png": "[encoded data removed]"
     },
     "metadata": {},
     "output_type": "display_data"
    }
   ],
   "source": [
    "plt.hist(foo[:, 6])"
   ],
   "metadata": {
    "collapsed": false,
    "ExecuteTime": {
     "start_time": "2023-06-09T11:00:26.536061Z",
     "end_time": "2023-06-09T11:00:26.749242Z"
    }
   }
  },
  {
   "cell_type": "code",
   "execution_count": 41,
   "outputs": [
    {
     "data": {
      "text/plain": "(array([  549.,   444.,   432.,   386.,   401.,   352.,   355.,   309.,\n          320., 20964.]),\n array([3.08005761e-04, 1.00277205e-01, 2.00246405e-01, 3.00215604e-01,\n        4.00184803e-01, 5.00154003e-01, 6.00123202e-01, 7.00092402e-01,\n        8.00061601e-01, 9.00030801e-01, 1.00000000e+00]),\n <BarContainer object of 10 artists>)"
     },
     "execution_count": 41,
     "metadata": {},
     "output_type": "execute_result"
    },
    {
     "data": {
      "text/plain": "<Figure size 640x480 with 1 Axes>",
      "image/png": "[encoded data removed]"
     },
     "metadata": {},
     "output_type": "display_data"
    }
   ],
   "source": [
    "plt.hist(bar[:, 6])"
   ],
   "metadata": {
    "collapsed": false,
    "ExecuteTime": {
     "start_time": "2023-06-09T11:00:47.656491Z",
     "end_time": "2023-06-09T11:00:47.898662Z"
    }
   }
  },
  {
   "cell_type": "code",
   "execution_count": 13,
   "outputs": [
    {
     "data": {
      "text/plain": "0.38250550015255896"
     },
     "execution_count": 13,
     "metadata": {},
     "output_type": "execute_result"
    }
   ],
   "source": [
    "np.mean(bar[:, 6]>= 0.99)"
   ],
   "metadata": {
    "collapsed": false,
    "ExecuteTime": {
     "start_time": "2023-06-09T10:20:49.344084Z",
     "end_time": "2023-06-09T10:20:49.350174Z"
    }
   }
  },
  {
   "cell_type": "code",
   "execution_count": 14,
   "outputs": [
    {
     "data": {
      "text/plain": "0.31843203167711387"
     },
     "execution_count": 14,
     "metadata": {},
     "output_type": "execute_result"
    }
   ],
   "source": [
    "temp = bar[:, 6]\n",
    "np.mean(temp[temp <0.99])"
   ],
   "metadata": {
    "collapsed": false,
    "ExecuteTime": {
     "start_time": "2023-06-09T10:28:44.447347Z",
     "end_time": "2023-06-09T10:28:44.488733Z"
    }
   }
  },
  {
   "cell_type": "code",
   "execution_count": 26,
   "outputs": [
    {
     "data": {
      "text/plain": "[11,\n 293,\n 462,\n 635,\n 1152,\n 1155,\n 1309,\n 1345,\n 1587,\n 1733,\n 1863,\n 1875,\n 1989,\n 2043,\n 2347,\n 2474,\n 2531,\n 2581,\n 2814,\n 3151,\n 3293,\n 3323,\n 3417,\n 3428,\n 3469,\n 3747,\n 3939,\n 4212,\n 4241,\n 4252,\n 4271,\n 4535,\n 4843,\n 4884,\n 4958]"
     },
     "execution_count": 26,
     "metadata": {},
     "output_type": "execute_result"
    }
   ],
   "source": [
    "list(g.iterNeighbors(0))"
   ],
   "metadata": {
    "collapsed": false,
    "ExecuteTime": {
     "start_time": "2023-06-08T14:59:42.978343Z",
     "end_time": "2023-06-08T14:59:43.061354Z"
    }
   }
  },
  {
   "cell_type": "code",
   "execution_count": 29,
   "outputs": [
    {
     "data": {
      "text/plain": "False"
     },
     "execution_count": 29,
     "metadata": {},
     "output_type": "execute_result"
    }
   ],
   "source": [
    "g.hasEdge(0, 4213)"
   ],
   "metadata": {
    "collapsed": false,
    "ExecuteTime": {
     "start_time": "2023-06-08T15:03:17.276019Z",
     "end_time": "2023-06-08T15:03:17.310222Z"
    }
   }
  },
  {
   "cell_type": "code",
   "execution_count": 19,
   "outputs": [],
   "source": [
    "edge_list = generation.upper_triangular_to_edgelist_fastest(edges)\n",
    "edge_list2 = []\n",
    "for u, v in edge_list:\n",
    "    edge_list2.append((u, v, weights[u], weights[v], probs[u, v]))"
   ],
   "metadata": {
    "collapsed": false,
    "ExecuteTime": {
     "start_time": "2023-06-08T14:14:53.496300Z",
     "end_time": "2023-06-08T14:14:53.640569Z"
    }
   }
  },
  {
   "cell_type": "code",
   "execution_count": 20,
   "outputs": [
    {
     "data": {
      "text/plain": "[(0, 58, 1.4000691436004415, 120.63195640713168, 1.0),\n (0, 100, 1.4000691436004415, 1.2793195974839178, 0.09250307562426816),\n (0, 171, 1.4000691436004415, 4.156664549201526, 0.04355855724681885),\n (0, 177, 1.4000691436004415, 466.4117864582465, 1.0),\n (0, 247, 1.4000691436004415, 49.938740996142286, 0.12473857070211677),\n (0, 267, 1.4000691436004415, 7.89697915851434, 1.0),\n (0, 277, 1.4000691436004415, 3.4162240611435446, 1.0),\n (0, 300, 1.4000691436004415, 1.3449149476427096, 0.006023189814784173),\n (0, 310, 1.4000691436004415, 2.4640190073506454, 0.1074722198019579),\n (0, 318, 1.4000691436004415, 3.2094103356621244, 0.11828794950881787),\n (0, 341, 1.4000691436004415, 2.045023061834384, 1.0),\n (0, 477, 1.4000691436004415, 1.3820038780250765, 0.39664290543438874),\n (0, 509, 1.4000691436004415, 28.129830113371334, 0.2143685684724456),\n (0, 511, 1.4000691436004415, 183.32746877222314, 1.0),\n (0, 574, 1.4000691436004415, 9.93367040966227, 1.0),\n (0, 580, 1.4000691436004415, 96.53740891644874, 0.36896871811492155),\n (0, 602, 1.4000691436004415, 54.594896418395685, 0.24969541328898703),\n (0, 676, 1.4000691436004415, 12.182964305199702, 0.43282804227275856),\n (0, 720, 1.4000691436004415, 3.997171095543985, 0.5223455141010004),\n (0, 721, 1.4000691436004415, 16.11961593310937, 1.0),\n (0, 725, 1.4000691436004415, 1.4338380206524226, 0.13722437942257978),\n (0, 727, 1.4000691436004415, 10.422887478147432, 0.1713389450576797),\n (0, 755, 1.4000691436004415, 1.4730667731379665, 0.7375121000383648),\n (0, 856, 1.4000691436004415, 68.19024841964165, 1.0),\n (0, 917, 1.4000691436004415, 5.138417365505865, 0.22739358199605247),\n (0, 925, 1.4000691436004415, 2.0158369686311937, 0.11639609776155295),\n (0, 950, 1.4000691436004415, 8.489831705705797, 1.0),\n (0, 984, 1.4000691436004415, 16.764406152529837, 0.1401131462550219),\n (0, 986, 1.4000691436004415, 1.9807517489625057, 0.2957366427905183),\n (0, 1112, 1.4000691436004415, 6.20246999243087, 0.1738550076628381),\n (0, 1123, 1.4000691436004415, 1.8884428356033043, 0.008163525034711263),\n (0, 1190, 1.4000691436004415, 1.0035776549162545, 0.008031459172206656),\n (0, 1192, 1.4000691436004415, 3.865864292071134, 0.08508912629325995),\n (0, 1236, 1.4000691436004415, 10.556697495670441, 0.17131251712031442),\n (0, 1244, 1.4000691436004415, 16.495948481998244, 0.17234962768868167),\n (0, 1249, 1.4000691436004415, 1.9134164419434727, 0.009195263248420843),\n (0, 1276, 1.4000691436004415, 72.19702397800118, 0.22281797644448056),\n (0, 1314, 1.4000691436004415, 4.0276094195936265, 1.0),\n (0, 1359, 1.4000691436004415, 267.678704507991, 0.9052576285946985),\n (0, 1376, 1.4000691436004415, 23.087445103250968, 1.0),\n (0, 1382, 1.4000691436004415, 2.455456427497694, 1.0),\n (0, 1393, 1.4000691436004415, 5.835044747228837, 0.4508119794713425),\n (0, 1396, 1.4000691436004415, 192.72693585189592, 1.0),\n (0, 1398, 1.4000691436004415, 16.523333259448226, 0.07869807440258049),\n (0, 1402, 1.4000691436004415, 29.698750629684454, 0.35603890163650065),\n (0, 1439, 1.4000691436004415, 1.2788423056780815, 0.06149590441007912),\n (0, 1483, 1.4000691436004415, 3.0154603857760214, 1.0),\n (1, 38, 1.93135645203674, 2.950549513169862, 1.0),\n (1, 74, 1.93135645203674, 3.6985304785020463, 0.008147609957892746),\n (1, 81, 1.93135645203674, 5.828165127505063, 1.0),\n (1, 94, 1.93135645203674, 9.405748810789405, 0.17835843014720884),\n (1, 139, 1.93135645203674, 4.221332542933911, 0.18452693767592368),\n (1, 177, 1.93135645203674, 466.4117864582465, 1.0),\n (1, 221, 1.93135645203674, 5.342369010541258, 0.006028001611280765),\n (1, 265, 1.93135645203674, 8.20365753814611, 0.03272383591787201),\n (1, 317, 1.93135645203674, 2.610084557792073, 0.6740987162389978),\n (1, 322, 1.93135645203674, 31.575823472851607, 0.06647701392326952),\n (1, 344, 1.93135645203674, 12.576958309723077, 0.06083141905737458),\n (1, 350, 1.93135645203674, 31.14447272338575, 0.2523171744209546),\n (1, 363, 1.93135645203674, 16.565415557545528, 0.18709442440814492),\n (1, 371, 1.93135645203674, 7.85447989476831, 1.0),\n (1, 379, 1.93135645203674, 14.21479914873521, 0.18263391721630798),\n (1, 388, 1.93135645203674, 10.282919466291503, 1.0),\n (1, 411, 1.93135645203674, 1.5423203355601833, 0.0038876511067934263),\n (1, 418, 1.93135645203674, 1.3093166956771498, 1.0),\n (1, 429, 1.93135645203674, 14.61959378798566, 1.0),\n (1, 440, 1.93135645203674, 50.02842380716766, 0.4119792776460676),\n (1, 459, 1.93135645203674, 1.4405792661827186, 0.026566182367701252),\n (1, 511, 1.93135645203674, 183.32746877222314, 1.0),\n (1, 512, 1.93135645203674, 1.0453373178155057, 0.0014492193863085367),\n (1, 530, 1.93135645203674, 7.482160552590204, 0.05197751086385399),\n (1, 536, 1.93135645203674, 2.6264046225205884, 0.005182330528218918),\n (1, 588, 1.93135645203674, 2.2953046744940213, 1.0),\n (1, 620, 1.93135645203674, 1.6523611453323406, 0.6029923615528038),\n (1, 637, 1.93135645203674, 6.4608612320926175, 1.0),\n (1, 648, 1.93135645203674, 50.14020000751376, 0.2672194495737801),\n (1, 650, 1.93135645203674, 2.6186556830969496, 0.010390825791258837),\n (1, 691, 1.93135645203674, 29.469965380948068, 0.5469082009902104),\n (1, 712, 1.93135645203674, 4.12560616104999, 1.0),\n (1, 751, 1.93135645203674, 5.400123174482788, 0.5173223168447685),\n (1, 758, 1.93135645203674, 100.46447295685273, 1.0),\n (1, 822, 1.93135645203674, 1.374174920315606, 0.2533043842781076),\n (1, 846, 1.93135645203674, 69.83813344047309, 1.0),\n (1, 856, 1.93135645203674, 68.19024841964165, 0.2995627789741206),\n (1, 872, 1.93135645203674, 32.468634253095175, 0.05810251855641286),\n (1, 899, 1.93135645203674, 1.8973191311265276, 1.0),\n (1, 941, 1.93135645203674, 1.3919659213215403, 0.30943085805536724),\n (1, 966, 1.93135645203674, 18.867797464318237, 0.11264827020601549),\n (1, 1030, 1.93135645203674, 32.377778967200356, 0.20981195829972538),\n (1, 1031, 1.93135645203674, 48.31724185321258, 0.08328279604419422),\n (1, 1049, 1.93135645203674, 2.725845965554441, 0.03149737602346298),\n (1, 1122, 1.93135645203674, 1.0709278712444903, 0.18371382315633786),\n (1, 1131, 1.93135645203674, 1.873914388555314, 1.0),\n (1, 1132, 1.93135645203674, 8.649814552953924, 1.0),\n (1, 1145, 1.93135645203674, 8.527872349488336, 0.21158638582907788),\n (1, 1157, 1.93135645203674, 54.62709264543894, 1.0),\n (1, 1159, 1.93135645203674, 11.669484434198477, 1.0),\n (1, 1208, 1.93135645203674, 33.45007397046972, 0.607537794718348),\n (1, 1230, 1.93135645203674, 3.1795738607645276, 0.04836232975127505),\n (1, 1269, 1.93135645203674, 6.701894739747617, 0.038501084210041524),\n (1, 1275, 1.93135645203674, 4.706111740602973, 0.03237380459819584),\n (1, 1311, 1.93135645203674, 3.0012103024620282, 0.014950584309908335),\n (1, 1359, 1.93135645203674, 267.678704507991, 0.9069249408212997),\n (1, 1365, 1.93135645203674, 13.150919308378269, 1.0),\n (1, 1394, 1.93135645203674, 3.3171253686616913, 0.0036653901384485254),\n (1, 1396, 1.93135645203674, 192.72693585189592, 1.0),\n (1, 1407, 1.93135645203674, 2.001566251305194, 0.5024904152648543),\n (1, 1436, 1.93135645203674, 8.34525977243528, 0.1797537110532851),\n (1, 1491, 1.93135645203674, 34.482066391862446, 0.17512849208759895),\n (1, 1496, 1.93135645203674, 27.049763034980128, 0.30923181101446917),\n (2, 18, 1.3738312245050925, 20.222477958310662, 1.0),\n (2, 23, 1.3738312245050925, 1.1793116360451703, 0.07023907042055053),\n (2, 62, 1.3738312245050925, 32.54864066891083, 0.05936367071083973),\n (2, 94, 1.3738312245050925, 9.405748810789405, 1.0),\n (2, 99, 1.3738312245050925, 3.6370094200748233, 1.0),\n (2, 177, 1.3738312245050925, 466.4117864582465, 0.8487454373463098),\n (2, 312, 1.3738312245050925, 4.419385220208854, 0.9303572850048124),\n (2, 325, 1.3738312245050925, 6.734091394736665, 0.31130689247681365),\n (2, 327, 1.3738312245050925, 1.5643010264230266, 0.6411702851794473),\n (2, 363, 1.3738312245050925, 16.565415557545528, 1.0),\n (2, 379, 1.3738312245050925, 14.21479914873521, 1.0),\n (2, 420, 1.3738312245050925, 2.8120020457528034, 0.2852995917924197),\n (2, 440, 1.3738312245050925, 50.02842380716766, 0.24431288484672906),\n (2, 488, 1.3738312245050925, 96.94210796612053, 1.0),\n (2, 511, 1.3738312245050925, 183.32746877222314, 0.27877311565887786),\n (2, 537, 1.3738312245050925, 25.898779950664032, 0.06753470946286971),\n (2, 540, 1.3738312245050925, 19.602286544026622, 0.3463129325547542),\n (2, 572, 1.3738312245050925, 3.29798178695006, 1.0),\n (2, 580, 1.3738312245050925, 96.53740891644874, 0.8199308490015277),\n (2, 611, 1.3738312245050925, 13.094204618041655, 0.10486688904373871),\n (2, 644, 1.3738312245050925, 1.4921669896713967, 0.1944136866783643),\n (2, 840, 1.3738312245050925, 4.614231798096206, 0.02212239059159951),\n (2, 846, 1.3738312245050925, 69.83813344047309, 1.0),\n (2, 852, 1.3738312245050925, 1.880825308307153, 1.0),\n (2, 966, 1.3738312245050925, 18.867797464318237, 1.0),\n (2, 1012, 1.3738312245050925, 6.057447180048849, 1.0),\n (2, 1157, 1.3738312245050925, 54.62709264543894, 0.5444019195394705),\n (2, 1208, 1.3738312245050925, 33.45007397046972, 1.0),\n (2, 1286, 1.3738312245050925, 2.8351688200514533, 0.4606267313700186),\n (2, 1369, 1.3738312245050925, 1.72053020905208, 0.004316392400227152),\n (2, 1396, 1.3738312245050925, 192.72693585189592, 1.0),\n (2, 1436, 1.3738312245050925, 8.34525977243528, 1.0),\n (2, 1464, 1.3738312245050925, 12.976790173871235, 0.017278746778235862),\n (2, 1489, 1.3738312245050925, 11.62308303610424, 1.0),\n (3, 21, 1.6438941169472536, 2.7627737852961625, 1.0),\n (3, 55, 1.6438941169472536, 1.4164049485372967, 0.07183440512173138),\n (3, 58, 1.6438941169472536, 120.63195640713168, 1.0),\n (3, 62, 1.6438941169472536, 32.54864066891083, 0.06542738838722666),\n (3, 72, 1.6438941169472536, 1.826419880693773, 0.10241516074387051),\n (3, 90, 1.6438941169472536, 11.583545219638363, 1.0),\n (3, 91, 1.6438941169472536, 2.263137202053032, 0.35190614027139416),\n (3, 104, 1.6438941169472536, 5.304606975041011, 0.020777827157808834),\n (3, 177, 1.6438941169472536, 466.4117864582465, 1.0),\n (3, 234, 1.6438941169472536, 1.5958142456155362, 1.0),\n (3, 247, 1.6438941169472536, 49.938740996142286, 0.19944630660227786),\n (3, 248, 1.6438941169472536, 5.421754816177959, 1.0),\n (3, 271, 1.6438941169472536, 15.880729057039638, 1.0),\n (3, 295, 1.6438941169472536, 1.8645589667913731, 1.0),\n (3, 350, 1.6438941169472536, 31.14447272338575, 1.0),\n (3, 423, 1.6438941169472536, 6.044530872398675, 0.5228673687990719),\n (3, 457, 1.6438941169472536, 1.1044335032203243, 1.0),\n (3, 488, 1.6438941169472536, 96.94210796612053, 0.7077870703634531),\n (3, 492, 1.6438941169472536, 1.1067212609283992, 0.003634638855602144),\n (3, 511, 1.6438941169472536, 183.32746877222314, 0.9740866102003549),\n (3, 628, 1.6438941169472536, 5.971780123291156, 0.3927489499021174),\n (3, 647, 1.6438941169472536, 1.2864521248778775, 0.047296236094178226),\n (3, 654, 1.6438941169472536, 12.404361994756316, 1.0),\n (3, 661, 1.6438941169472536, 109.05417457212458, 0.19254046798273744),\n (3, 678, 1.6438941169472536, 18.190894571915717, 0.12440035112062331),\n (3, 685, 1.6438941169472536, 2.876894858807936, 0.21625688875553903),\n (3, 745, 1.6438941169472536, 1.7759137076699267, 0.2467893923359691),\n (3, 789, 1.6438941169472536, 3.9699062506318863, 1.0),\n (3, 834, 1.6438941169472536, 4.08899857592938, 1.0),\n (3, 846, 1.6438941169472536, 69.83813344047309, 0.5116797415784187),\n (3, 866, 1.6438941169472536, 4.99892669400464, 0.06687358821055964),\n (3, 945, 1.6438941169472536, 54.42007732254331, 0.09230246831083518),\n (3, 967, 1.6438941169472536, 1.3589794110135507, 0.15379949910112645),\n (3, 969, 1.6438941169472536, 2.615313893351614, 0.8030050681645406),\n (3, 1004, 1.6438941169472536, 2.8439699804389496, 1.0),\n (3, 1031, 1.6438941169472536, 48.31724185321258, 0.18997625158798645),\n (3, 1049, 1.6438941169472536, 2.725845965554441, 0.34410877123484646),\n (3, 1138, 1.6438941169472536, 1.5699660696800142, 1.0),\n (3, 1143, 1.6438941169472536, 15.81747401784808, 0.6912246086299759),\n (3, 1181, 1.6438941169472536, 5.886502470857835, 0.165060003930174),\n (3, 1208, 1.6438941169472536, 33.45007397046972, 0.7233472695634757),\n (3, 1210, 1.6438941169472536, 2.3994103087766123, 0.19436497754040463),\n (3, 1220, 1.6438941169472536, 1.3403453525676645, 0.17802124219561336),\n (3, 1230, 1.6438941169472536, 3.1795738607645276, 0.3560663032617796),\n (3, 1327, 1.6438941169472536, 1.2499266885911349, 1.0),\n (3, 1352, 1.6438941169472536, 1.3373830362198533, 1.0),\n (3, 1359, 1.6438941169472536, 267.678704507991, 0.7503909607228363),\n (3, 1373, 1.6438941169472536, 20.681692792241, 0.544417560197498),\n (3, 1388, 1.6438941169472536, 11.985347043434064, 1.0),\n (3, 1396, 1.6438941169472536, 192.72693585189592, 1.0),\n (3, 1448, 1.6438941169472536, 11.705248579067689, 0.049303389885461575),\n (3, 1489, 1.6438941169472536, 11.62308303610424, 0.29734617765983473),\n (4, 21, 1.3609025230800278, 2.7627737852961625, 1.0),\n (4, 58, 1.3609025230800278, 120.63195640713168, 1.0),\n (4, 68, 1.3609025230800278, 2.822651030672469, 0.06300634146165203),\n (4, 77, 1.3609025230800278, 10.621342528467462, 0.24515791678768928),\n (4, 90, 1.3609025230800278, 11.583545219638363, 1.0),\n (4, 177, 1.3609025230800278, 466.4117864582465, 1.0),\n (4, 248, 1.3609025230800278, 5.421754816177959, 0.33639279857914656),\n (4, 253, 1.3609025230800278, 2.5755958443026077, 0.007740826212127342),\n (4, 271, 1.3609025230800278, 15.880729057039638, 1.0),\n (4, 295, 1.3609025230800278, 1.8645589667913731, 0.15093657853152292),\n (4, 312, 1.3609025230800278, 4.419385220208854, 0.15045576548679385),\n (4, 350, 1.3609025230800278, 31.14447272338575, 1.0),\n (4, 457, 1.3609025230800278, 1.1044335032203243, 0.3387944562414303),\n (4, 459, 1.3609025230800278, 1.4405792661827186, 0.13407941280793),\n (4, 471, 1.3609025230800278, 1.506873476714028, 1.0),\n (4, 497, 1.3609025230800278, 5.117042204238104, 0.12728915796789342),\n (4, 511, 1.3609025230800278, 183.32746877222314, 0.5824455932382456),\n (4, 528, 1.3609025230800278, 30.413792048486407, 0.051917511344577484),\n (4, 540, 1.3609025230800278, 19.602286544026622, 0.16779206749712863),\n (4, 628, 1.3609025230800278, 5.971780123291156, 1.0),\n (4, 654, 1.3609025230800278, 12.404361994756316, 0.42988625155281757),\n (4, 691, 1.3609025230800278, 29.469965380948068, 0.07362171950129287),\n (4, 710, 1.3609025230800278, 1.9146690568794857, 0.25339831176213395),\n (4, 712, 1.3609025230800278, 4.12560616104999, 0.034026370304909036),\n (4, 732, 1.3609025230800278, 1.032856079043034, 0.0286190272926837),\n (4, 745, 1.3609025230800278, 1.7759137076699267, 1.0),\n (4, 789, 1.3609025230800278, 3.9699062506318863, 0.22303775683075433),\n (4, 834, 1.3609025230800278, 4.08899857592938, 1.0),\n (4, 846, 1.3609025230800278, 69.83813344047309, 0.580503277145664),\n (4, 859, 1.3609025230800278, 2.7175794709726984, 0.5198529172917049),\n (4, 874, 1.3609025230800278, 7.4399623016628595, 0.01479217538502796),\n (4, 967, 1.3609025230800278, 1.3589794110135507, 0.04002223210323613),\n (4, 1004, 1.3609025230800278, 2.8439699804389496, 0.5219456089727659),\n (4, 1024, 1.3609025230800278, 1.6834685760433103, 0.013735073358113832),\n (4, 1049, 1.3609025230800278, 2.725845965554441, 1.0),\n (4, 1106, 1.3609025230800278, 4.61659327469602, 0.009097411918642908),\n (4, 1136, 1.3609025230800278, 2.193814149441119, 0.00409882814948745),\n (4, 1138, 1.3609025230800278, 1.5699660696800142, 0.14578458400740374),\n (4, 1143, 1.3609025230800278, 15.81747401784808, 0.27994240961300887),\n (4, 1208, 1.3609025230800278, 33.45007397046972, 1.0),\n (4, 1230, 1.3609025230800278, 3.1795738607645276, 1.0),\n (4, 1359, 1.3609025230800278, 267.678704507991, 0.48176819409037325),\n (4, 1396, 1.3609025230800278, 192.72693585189592, 1.0),\n (4, 1398, 1.3609025230800278, 16.523333259448226, 0.21979018723660718),\n (4, 1445, 1.3609025230800278, 4.180396635778427, 0.00450052630628892),\n (4, 1489, 1.3609025230800278, 11.62308303610424, 0.5007982131528985),\n (4, 1491, 1.3609025230800278, 34.482066391862446, 0.08578585590874464),\n (5, 48, 1.5230778823995093, 3.262206319201641, 1.0),\n (5, 96, 1.5230778823995093, 13.130944492695034, 1.0),\n (5, 118, 1.5230778823995093, 2.3168743587390916, 0.31987215874746444),\n (5, 159, 1.5230778823995093, 6.882721001649771, 1.0),\n (5, 177, 1.5230778823995093, 466.4117864582465, 1.0),\n (5, 188, 1.5230778823995093, 4.646932121570792, 0.1458262358859729),\n (5, 347, 1.5230778823995093, 10.206556421539668, 1.0),\n (5, 364, 1.5230778823995093, 12.202331237815333, 0.3703196652461962),\n (5, 368, 1.5230778823995093, 2.0620030544215857, 0.0046406921532364045),\n (5, 383, 1.5230778823995093, 1.027850473791039, 0.020803093219166853),\n (5, 395, 1.5230778823995093, 11.856978682157523, 0.17980967469467996),\n (5, 481, 1.5230778823995093, 3.249872430182245, 0.42839062423660473),\n (5, 488, 1.5230778823995093, 96.94210796612053, 0.6244913345106172),\n (5, 511, 1.5230778823995093, 183.32746877222314, 1.0),\n (5, 537, 1.5230778823995093, 25.898779950664032, 1.0),\n (5, 574, 1.5230778823995093, 9.93367040966227, 0.09659864962061912),\n (5, 580, 1.5230778823995093, 96.53740891644874, 1.0),\n (5, 581, 1.5230778823995093, 1.8856473614763454, 1.0),\n (5, 602, 1.5230778823995093, 54.594896418395685, 0.6034366368849736),\n (5, 620, 1.5230778823995093, 1.6523611453323406, 0.001596612885409356),\n (5, 706, 1.5230778823995093, 2.1950534957377883, 1.0),\n (5, 715, 1.5230778823995093, 1.1215559820441383, 1.0),\n (5, 731, 1.5230778823995093, 1.5796524413188329, 0.12948557266422403),\n (5, 856, 1.5230778823995093, 68.19024841964165, 1.0),\n (5, 863, 1.5230778823995093, 2.516826503208273, 1.0),\n (5, 869, 1.5230778823995093, 2.638445173847452, 0.003139047978114891),\n (5, 915, 1.5230778823995093, 1.933526315939457, 0.4294491702593095),\n (5, 965, 1.5230778823995093, 1.1060568220296725, 1.0),\n (5, 1128, 1.5230778823995093, 3.3406795601049972, 0.9213470061813168),\n (5, 1136, 1.5230778823995093, 2.193814149441119, 0.0068016665730566365),\n (5, 1137, 1.5230778823995093, 2.637694515486833, 0.0037353911151487736),\n (5, 1216, 1.5230778823995093, 1.808346602996067, 1.0),\n (5, 1244, 1.5230778823995093, 16.495948481998244, 0.516051274061984),\n (5, 1256, 1.5230778823995093, 9.025609681427042, 0.12765124636491193),\n (5, 1359, 1.5230778823995093, 267.678704507991, 1.0),\n (5, 1369, 1.5230778823995093, 1.72053020905208, 0.09429291813612703),\n (5, 1376, 1.5230778823995093, 23.087445103250968, 0.7025226902210044),\n (5, 1402, 1.5230778823995093, 29.698750629684454, 0.3647986489939329),\n (5, 1412, 1.5230778823995093, 3.827702444984255, 0.012382660953865603),\n (5, 1432, 1.5230778823995093, 29.279507059610644, 1.0),\n (5, 1433, 1.5230778823995093, 1.0886049458773464, 0.023220418595201655),\n (5, 1441, 1.5230778823995093, 9.576252161571153, 1.0),\n (5, 1482, 1.5230778823995093, 4.742214485901258, 0.1316856210417467),\n (5, 1495, 1.5230778823995093, 6.596713120684502, 1.0),\n (6, 47, 2.549577880804479, 8.591686673874516, 0.11676682923957102),\n (6, 50, 2.549577880804479, 1.2120231479387722, 1.0),\n (6, 56, 2.549577880804479, 55.534164632608956, 0.6552029840755004),\n (6, 58, 2.549577880804479, 120.63195640713168, 1.0),\n (6, 96, 2.549577880804479, 13.130944492695034, 0.04742079793892336),\n (6, 116, 2.549577880804479, 6.491012363096759, 0.08999226940319614),\n (6, 140, 2.549577880804479, 14.05196840805303, 1.0),\n (6, 142, 2.549577880804479, 1.6346303745141446, 0.002455570072144573),\n (6, 167, 2.549577880804479, 1.5893806972409406, 0.4404142100794983),\n (6, 177, 2.549577880804479, 466.4117864582465, 1.0),\n (6, 189, 2.549577880804479, 1.1485724790140437, 1.0),\n (6, 245, 2.549577880804479, 2.017762052986555, 0.012043761131247463),\n (6, 247, 2.549577880804479, 49.938740996142286, 1.0),\n (6, 259, 2.549577880804479, 2.2372031229733933, 1.0),\n (6, 263, 2.549577880804479, 4.663587396259348, 0.08835165939897122),\n (6, 264, 2.549577880804479, 1.5692540392295016, 0.03080886534313441),\n (6, 291, 2.549577880804479, 5.872083330186063, 0.1711958220569142),\n (6, 350, 2.549577880804479, 31.14447272338575, 0.20776016583497453),\n (6, 378, 2.549577880804479, 19.778902931120808, 0.5159797594898188),\n (6, 404, 2.549577880804479, 11.352203728897194, 0.034355075161768146),\n (6, 410, 2.549577880804479, 2.298983519190734, 0.4681689318219526),\n (6, 413, 2.549577880804479, 8.195361159239763, 0.3377297614323948),\n (6, 424, 2.549577880804479, 4.109099006627011, 0.0701212570390933),\n (6, 443, 2.549577880804479, 1.752963122123276, 0.02377901026982144),\n (6, 450, 2.549577880804479, 2.0670133658370244, 0.008292959140899425),\n (6, 478, 2.549577880804479, 3.9100658538840647, 0.3494951956268198),\n (6, 511, 2.549577880804479, 183.32746877222314, 0.6238851900692766),\n (6, 513, 2.549577880804479, 5.8381971614127925, 0.37052474186893414),\n (6, 517, 2.549577880804479, 15.43745484502779, 1.0),\n (6, 548, 2.549577880804479, 1.1540643391075094, 1.0),\n (6, 572, 2.549577880804479, 3.29798178695006, 0.005510258419073113),\n (6, 586, 2.549577880804479, 30.03945254573582, 1.0),\n (6, 614, 2.549577880804479, 6.636833734522973, 0.6796394452193145),\n (6, 657, 2.549577880804479, 17.984294580482665, 1.0),\n (6, 661, 2.549577880804479, 109.05417457212458, 1.0),\n (6, 693, 2.549577880804479, 39.597672636516656, 1.0),\n (6, 736, 2.549577880804479, 21.856753552962388, 0.2582062525371396),\n (6, 749, 2.549577880804479, 4.834402916476239, 0.23297847511992295),\n (6, 758, 2.549577880804479, 100.46447295685273, 0.8059990919593746),\n (6, 762, 2.549577880804479, 6.436834380332719, 0.33852848994504475),\n (6, 794, 2.549577880804479, 1.2260125845458614, 0.007581649187437642),\n (6, 796, 2.549577880804479, 1.1188310318371748, 0.15884016875334245),\n (6, 804, 2.549577880804479, 3.106799904639562, 1.0),\n (6, 816, 2.549577880804479, 6.252087284807849, 1.0),\n (6, 848, 2.549577880804479, 10.365112557485979, 0.3143186369717417),\n (6, 877, 2.549577880804479, 2.216531398526748, 0.49712897547633333),\n (6, 927, 2.549577880804479, 6.8054638701841546, 0.024908248628007956),\n (6, 940, 2.549577880804479, 134.39919811877974, 1.0),\n (6, 963, 2.549577880804479, 2.497404018813588, 0.5511547963907669),\n (6, 984, 2.549577880804479, 16.764406152529837, 0.04905478700776866),\n (6, 1030, 2.549577880804479, 32.377778967200356, 1.0),\n (6, 1031, 2.549577880804479, 48.31724185321258, 1.0),\n (6, 1086, 2.549577880804479, 9.430590513043674, 0.18329059653945712),\n (6, 1090, 2.549577880804479, 7.781383271430789, 1.0),\n (6, 1140, 2.549577880804479, 6.750378177171235, 1.0),\n (6, 1181, 2.549577880804479, 5.886502470857835, 0.024512822153390373),\n (6, 1218, 2.549577880804479, 1.0161807959395315, 0.010886448580367062),\n (6, 1270, 2.549577880804479, 1.674552460646877, 0.24889403715502914),\n (6, 1359, 2.549577880804479, 267.678704507991, 1.0),\n (6, 1377, 2.549577880804479, 1.5053505714312185, 1.0),\n (6, 1401, 2.549577880804479, 7.0989379905371015, 0.36484567580561844),\n (6, 1416, 2.549577880804479, 10.365098219265075, 0.1085820032783065),\n (6, 1418, 2.549577880804479, 9.907268245032933, 1.0),\n (6, 1419, 2.549577880804479, 2.968979263025459, 1.0),\n (6, 1434, 2.549577880804479, 1.8158231429202796, 0.8531556851193345),\n (6, 1441, 2.549577880804479, 9.576252161571153, 0.016684364496572374),\n (6, 1444, 2.549577880804479, 18.428651577148337, 1.0),\n (6, 1462, 2.549577880804479, 34.78334873898705, 0.7199756352619878),\n (6, 1464, 2.549577880804479, 12.976790173871235, 1.0),\n (6, 1480, 2.549577880804479, 2.7214918642632484, 0.2635406938045831),\n (6, 1491, 2.549577880804479, 34.482066391862446, 0.28475814822903345),\n (6, 1496, 2.549577880804479, 27.049763034980128, 0.3270018351309328),\n (7, 27, 1.3170671849062707, 1.6802310508478242, 0.25100097493862844),\n (7, 56, 1.3170671849062707, 55.534164632608956, 1.0),\n (7, 62, 1.3170671849062707, 32.54864066891083, 0.6049918339506517),\n (7, 79, 1.3170671849062707, 17.612908032694477, 0.523434206757469),\n (7, 104, 1.3170671849062707, 5.304606975041011, 0.01969006497220597),\n (7, 136, 1.3170671849062707, 4.708052211001533, 0.023194123694536196),\n (7, 177, 1.3170671849062707, 466.4117864582465, 0.8383007057921181),\n (7, 229, 1.3170671849062707, 1.2453556799629368, 0.8611681538951559),\n (7, 252, 1.3170671849062707, 20.20945905191147, 0.15917083072799515),\n (7, 253, 1.3170671849062707, 2.5755958443026077, 0.009575011900462272),\n (7, 301, 1.3170671849062707, 9.953588577820936, 0.07173457262519035),\n (7, 322, 1.3170671849062707, 31.575823472851607, 1.0),\n (7, 334, 1.3170671849062707, 11.757243299710415, 0.642615644175369),\n (7, 371, 1.3170671849062707, 7.85447989476831, 0.011168835047165622),\n (7, 380, 1.3170671849062707, 7.96640801729827, 1.0),\n (7, 402, 1.3170671849062707, 17.12399087734628, 0.8622890468456991),\n (7, 440, 1.3170671849062707, 50.02842380716766, 0.5991688464910949),\n (7, 456, 1.3170671849062707, 1.1799607607275135, 0.5689182653668995),\n (7, 464, 1.3170671849062707, 2.125266228629148, 1.0),\n (7, 482, 1.3170671849062707, 2.2140050827303455, 1.0),\n (7, 518, 1.3170671849062707, 8.180979023503198, 0.06481496459628955),\n (7, 528, 1.3170671849062707, 30.413792048486407, 1.0),\n (7, 580, 1.3170671849062707, 96.53740891644874, 0.5358870789035919),\n (7, 587, 1.3170671849062707, 14.258166514801223, 0.10298385986380905),\n (7, 661, 1.3170671849062707, 109.05417457212458, 1.0),\n (7, 680, 1.3170671849062707, 1.4842544018804484, 0.006514040671350738),\n (7, 699, 1.3170671849062707, 29.527767022420537, 0.14950680256036372),\n (7, 708, 1.3170671849062707, 1.4470809698077038, 0.5760054584478599),\n (7, 781, 1.3170671849062707, 1.1963620423331474, 0.059664283717093695),\n (7, 815, 1.3170671849062707, 1.6796235351776105, 0.7147041367621261),\n (7, 831, 1.3170671849062707, 7.689475488847328, 0.0245454898514265),\n (7, 846, 1.3170671849062707, 69.83813344047309, 0.3143643769173051),\n (7, 853, 1.3170671849062707, 7.054837109431313, 0.09505865823212037),\n (7, 860, 1.3170671849062707, 1.2388721349091634, 0.06967504469351711),\n (7, 872, 1.3170671849062707, 32.468634253095175, 1.0),\n (7, 927, 1.3170671849062707, 6.8054638701841546, 1.0),\n (7, 938, 1.3170671849062707, 2.395466612286012, 1.0),\n (7, 940, 1.3170671849062707, 134.39919811877974, 1.0),\n (7, 945, 1.3170671849062707, 54.42007732254331, 1.0),\n (7, 961, 1.3170671849062707, 1.8398681732305455, 0.03029878923073571),\n (7, 966, 1.3170671849062707, 18.867797464318237, 0.029636926535672205),\n (7, 1006, 1.3170671849062707, 5.412454209424099, 1.0),\n (7, 1031, 1.3170671849062707, 48.31724185321258, 0.2856054476612376),\n (7, 1037, 1.3170671849062707, 3.473552850484865, 0.011679504558957986),\n (7, 1052, 1.3170671849062707, 1.6544887640188444, 0.06731241990597955),\n (7, 1096, 1.3170671849062707, 1.2158097300771147, 0.8367093300424704),\n (7, 1113, 1.3170671849062707, 19.74467751098306, 1.0),\n (7, 1130, 1.3170671849062707, 5.360568173274033, 0.18016808826358235),\n (7, 1140, 1.3170671849062707, 6.750378177171235, 0.022307980555362504),\n (7, 1164, 1.3170671849062707, 35.73931289068025, 0.9786554571807646),\n (7, 1186, 1.3170671849062707, 23.821755258852736, 1.0),\n (7, 1233, 1.3170671849062707, 3.328101628160258, 1.0),\n (7, 1276, 1.3170671849062707, 72.19702397800118, 1.0),\n (7, 1309, 1.3170671849062707, 6.449002169075887, 0.3982969318107372),\n (7, 1332, 1.3170671849062707, 1.1274753313804486, 0.046972622940769156),\n (7, 1354, 1.3170671849062707, 1.2680749932120243, 0.6460269461143101),\n (7, 1359, 1.3170671849062707, 267.678704507991, 1.0),\n (7, 1374, 1.3170671849062707, 6.619195410656653, 0.006095010267833573),\n (7, 1399, 1.3170671849062707, 4.474525939552455, 0.2493697276527369),\n (7, 1487, 1.3170671849062707, 2.9052345751972095, 0.10129090303668456),\n (8, 10, 1.7743952083678307, 2.1969532756802432, 0.940861109875509),\n (8, 35, 1.7743952083678307, 2.1665401232118495, 0.18026577989817213),\n (8, 58, 1.7743952083678307, 120.63195640713168, 1.0),\n (8, 103, 1.7743952083678307, 2.362522844429462, 0.0027178494787638992),\n (8, 177, 1.7743952083678307, 466.4117864582465, 1.0),\n (8, 186, 1.7743952083678307, 1.5784220512848166, 0.5594406662733894),\n (8, 195, 1.7743952083678307, 1.726633955761609, 0.027145747927943695),\n (8, 221, 1.7743952083678307, 5.342369010541258, 0.0680237158840737),\n (8, 247, 1.7743952083678307, 49.938740996142286, 0.7735536717901333),\n (8, 248, 1.7743952083678307, 5.421754816177959, 0.01891874888889698),\n (8, 291, 1.7743952083678307, 5.872083330186063, 0.8111959817367416),\n (8, 325, 1.7743952083678307, 6.734091394736665, 0.008014965471689102),\n (8, 378, 1.7743952083678307, 19.778902931120808, 0.9906245627791161),\n (8, 403, 1.7743952083678307, 3.3944083176572817, 0.49569425355972724),\n (8, 458, 1.7743952083678307, 8.383618609734292, 0.011784546357525431),\n (8, 478, 1.7743952083678307, 3.9100658538840647, 1.0),\n (8, 488, 1.7743952083678307, 96.94210796612053, 0.2916138388950954),\n (8, 511, 1.7743952083678307, 183.32746877222314, 0.7687882836558437),\n (8, 513, 1.7743952083678307, 5.8381971614127925, 1.0),\n (8, 517, 1.7743952083678307, 15.43745484502779, 1.0),\n (8, 518, 1.7743952083678307, 8.180979023503198, 0.2896273381646635),\n (8, 533, 1.7743952083678307, 1.9870906099368175, 0.07773024439986177),\n (8, 567, 1.7743952083678307, 9.914649568977348, 1.0),\n (8, 570, 1.7743952083678307, 5.01040557763004, 0.4470779246722346),\n (8, 586, 1.7743952083678307, 30.03945254573582, 1.0),\n (8, 614, 1.7743952083678307, 6.636833734522973, 1.0),\n (8, 657, 1.7743952083678307, 17.984294580482665, 0.661655702081909),\n (8, 677, 1.7743952083678307, 8.958785857657238, 0.3108059115038281),\n (8, 688, 1.7743952083678307, 1.145921989748446, 0.008006136481010215),\n (8, 691, 1.7743952083678307, 29.469965380948068, 0.07257413492657365),\n (8, 692, 1.7743952083678307, 3.507161853587704, 1.0),\n (8, 693, 1.7743952083678307, 39.597672636516656, 1.0),\n (8, 758, 1.7743952083678307, 100.46447295685273, 0.25274075415110536),\n (8, 798, 1.7743952083678307, 2.1845620971331665, 1.0),\n (8, 808, 1.7743952083678307, 8.340988151005712, 0.5252168973227648),\n (8, 892, 1.7743952083678307, 1.0912313985140834, 1.0),\n (8, 913, 1.7743952083678307, 1.0833551178731937, 0.004843306827183441),\n (8, 940, 1.7743952083678307, 134.39919811877974, 1.0),\n (8, 957, 1.7743952083678307, 5.970131427266918, 0.014098208621650706),\n (8, 980, 1.7743952083678307, 1.3454618818796056, 1.0),\n (8, 1020, 1.7743952083678307, 6.272543960950495, 0.13876504011420032),\n (8, 1023, 1.7743952083678307, 2.0671205671013015, 0.7026871428884611),\n (8, 1031, 1.7743952083678307, 48.31724185321258, 1.0),\n (8, 1109, 1.7743952083678307, 15.670984136934168, 0.23288333800921135),\n (8, 1140, 1.7743952083678307, 6.750378177171235, 1.0),\n (8, 1187, 1.7743952083678307, 6.22832528116633, 1.0),\n (8, 1257, 1.7743952083678307, 1.310356840813153, 0.8947473911524145),\n (8, 1296, 1.7743952083678307, 25.5724202098957, 0.7408695065431861),\n (8, 1359, 1.7743952083678307, 267.678704507991, 1.0),\n (8, 1396, 1.7743952083678307, 192.72693585189592, 0.823463814378619),\n (8, 1425, 1.7743952083678307, 3.269972398562484, 0.028787499774747934),\n (9, 58, 2.137233907907448, 120.63195640713168, 1.0),\n (9, 107, 2.137233907907448, 1.4758123050763896, 0.04374084903723902),\n (9, 159, 2.137233907907448, 6.882721001649771, 0.024399619546209082),\n (9, 177, 2.137233907907448, 466.4117864582465, 1.0),\n (9, 195, 2.137233907907448, 1.726633955761609, 0.11112757509173588),\n (9, 213, 2.137233907907448, 1.530111622945979, 0.36467363592580687),\n (9, 247, 2.137233907907448, 49.938740996142286, 1.0),\n (9, 258, 2.137233907907448, 2.969894257019809, 0.4038323221361356),\n (9, 276, 2.137233907907448, 10.312354117962238, 0.9149754189080441),\n (9, 291, 2.137233907907448, 5.872083330186063, 1.0),\n (9, 308, 2.137233907907448, 1.2111919404308877, 0.6615206352879583),\n (9, 350, 2.137233907907448, 31.14447272338575, 0.47898612876032437),\n (9, 364, 2.137233907907448, 12.202331237815333, 0.06260629102786283),\n (9, 378, 2.137233907907448, 19.778902931120808, 0.44767435689960633),\n (9, 450, 2.137233907907448, 2.0670133658370244, 0.045097845243911854),\n (9, 478, 2.137233907907448, 3.9100658538840647, 0.3707678005694976),\n (9, 486, 2.137233907907448, 3.25923561047111, 0.13737156522328448),\n (9, 509, 2.137233907907448, 28.129830113371334, 0.0700621491640546),\n (9, 511, 2.137233907907448, 183.32746877222314, 1.0),\n (9, 512, 2.137233907907448, 1.0453373178155057, 1.0),\n (9, 513, 2.137233907907448, 5.8381971614127925, 1.0),\n (9, 517, 2.137233907907448, 15.43745484502779, 1.0),\n (9, 527, 2.137233907907448, 2.314799263760714, 0.3747414641966521),\n (9, 534, 2.137233907907448, 4.198653362223589, 1.0),\n (9, 536, 2.137233907907448, 2.6264046225205884, 1.0),\n (9, 542, 2.137233907907448, 13.186381195470066, 0.02266655562775442),\n (9, 567, 2.137233907907448, 9.914649568977348, 1.0),\n (9, 570, 2.137233907907448, 5.01040557763004, 1.0),\n (9, 582, 2.137233907907448, 1.7349631425903913, 1.0),\n (9, 586, 2.137233907907448, 30.03945254573582, 0.6063952166844211),\n (9, 601, 2.137233907907448, 1.4743849501374497, 0.0037616696825967227),\n (9, 614, 2.137233907907448, 6.636833734522973, 0.6771449368665154),\n (9, 618, 2.137233907907448, 8.732177807641929, 1.0),\n (9, 648, 2.137233907907448, 50.14020000751376, 0.2257470721719949),\n (9, 654, 2.137233907907448, 12.404361994756316, 0.18994775596568741),\n (9, 657, 2.137233907907448, 17.984294580482665, 0.6628739023444554),\n (9, 661, 2.137233907907448, 109.05417457212458, 0.30409960275125225),\n (9, 699, 2.137233907907448, 29.527767022420537, 0.20429588072636773),\n (9, 721, 2.137233907907448, 16.11961593310937, 0.2241015979007716),\n (9, 734, 2.137233907907448, 3.4264538492463275, 0.8513292859245577),\n (9, 777, 2.137233907907448, 1.7220218959907854, 0.18407953678528666),\n (9, 798, 2.137233907907448, 2.1845620971331665, 0.1979490708654288),\n (9, 848, 2.137233907907448, 10.365112557485979, 0.6108371433290822),\n (9, 856, 2.137233907907448, 68.19024841964165, 1.0),\n (9, 865, 2.137233907907448, 1.0366159169060953, 1.0),\n (9, 911, 2.137233907907448, 1.2215378949471565, 1.0),\n (9, 926, 2.137233907907448, 1.174526668755887, 0.3415341699989566),\n (9, 928, 2.137233907907448, 8.274904598646119, 0.15650626601486653),\n (9, 940, 2.137233907907448, 134.39919811877974, 1.0),\n (9, 970, 2.137233907907448, 1.7179449480662863, 0.03535568126108037),\n (9, 971, 2.137233907907448, 1.1208052579970127, 1.0),\n (9, 1020, 2.137233907907448, 6.272543960950495, 0.5995393903455902),\n (9, 1031, 2.137233907907448, 48.31724185321258, 1.0),\n (9, 1061, 2.137233907907448, 8.43922081494918, 1.0),\n (9, 1095, 2.137233907907448, 2.1097517031549216, 0.030239375956500156),\n (9, 1102, 2.137233907907448, 3.9669798745832137, 0.014650203976610624),\n (9, 1124, 2.137233907907448, 2.4122847708311297, 0.03145022851177199),\n (9, 1138, 2.137233907907448, 1.5699660696800142, 0.009047435530978708),\n (9, 1140, 2.137233907907448, 6.750378177171235, 0.36601725997409496),\n (9, 1157, 2.137233907907448, 54.62709264543894, 0.14568469136798984),\n (9, 1215, 2.137233907907448, 3.40818058738204, 1.0),\n (9, 1223, 2.137233907907448, 2.0508300003655244, 0.021443028635743),\n (9, 1234, 2.137233907907448, 1.7286075948614152, 1.0),\n (9, 1236, 2.137233907907448, 10.556697495670441, 0.03343263173950391),\n (9, 1296, 2.137233907907448, 25.5724202098957, 0.41245736498716085),\n (9, 1335, 2.137233907907448, 4.205417767925451, 0.006989324810071509),\n (9, 1343, 2.137233907907448, 5.793834935284962, 0.05628991389319095),\n (9, 1347, 2.137233907907448, 5.211361942843686, 0.029234856653782514),\n (9, 1357, 2.137233907907448, 1.1827787854387022, 0.09267595110967833),\n (9, 1359, 2.137233907907448, 267.678704507991, 1.0),\n (9, 1391, 2.137233907907448, 2.803407047360405, 0.010808226586749984),\n (9, 1396, 2.137233907907448, 192.72693585189592, 1.0),\n (9, 1401, 2.137233907907448, 7.0989379905371015, 1.0),\n (9, 1402, 2.137233907907448, 29.698750629684454, 0.0927102665820408),\n (9, 1418, 2.137233907907448, 9.907268245032933, 0.08797454740402255),\n (9, 1419, 2.137233907907448, 2.968979263025459, 0.03578320856693215),\n (9, 1432, 2.137233907907448, 29.279507059610644, 0.40238439858334807),\n (9, 1447, 2.137233907907448, 6.858795450369307, 0.07780154642385596),\n (9, 1464, 2.137233907907448, 12.976790173871235, 0.29153152633197466),\n (9, 1470, 2.137233907907448, 2.4786241129180446, 0.9621600890446024),\n (10, 47, 2.1969532756802432, 8.591686673874516, 0.13194850706277814),\n (10, 50, 2.1969532756802432, 1.2120231479387722, 0.04242802993023024),\n (10, 56, 2.1969532756802432, 55.534164632608956, 0.2736364293604764),\n (10, 58, 2.1969532756802432, 120.63195640713168, 1.0),\n (10, 79, 2.1969532756802432, 17.612908032694477, 0.21792884252959077),\n (10, 84, 2.1969532756802432, 4.145823655808757, 1.0),\n (10, 107, 2.1969532756802432, 1.4758123050763896, 0.7663882189277796),\n (10, 113, 2.1969532756802432, 1.425639063719296, 0.19259102896697589),\n (10, 177, 2.1969532756802432, 466.4117864582465, 1.0),\n (10, 198, 2.1969532756802432, 1.025071586766945, 0.4834057084731585),\n (10, 208, 2.1969532756802432, 4.647432152041042, 0.23703758438486006),\n (10, 219, 2.1969532756802432, 14.423004709918665, 0.05774623764828926),\n (10, 247, 2.1969532756802432, 49.938740996142286, 0.6539462133004436),\n (10, 259, 2.1969532756802432, 2.2372031229733933, 0.07087893186633883),\n (10, 348, 2.1969532756802432, 1.4021228352036597, 0.01955445200899634),\n (10, 350, 2.1969532756802432, 31.14447272338575, 0.16654000965094293),\n (10, 378, 2.1969532756802432, 19.778902931120808, 1.0),\n (10, 381, 2.1969532756802432, 1.525947541009104, 0.006650854407652633),\n (10, 402, 2.1969532756802432, 17.12399087734628, 0.09685553300184878),\n (10, 413, 2.1969532756802432, 8.195361159239763, 0.38119052435326445),\n (10, 414, 2.1969532756802432, 1.4436025804002837, 0.04999263893064607),\n (10, 444, 2.1969532756802432, 1.292158198609258, 0.015470525935215057),\n (10, 461, 2.1969532756802432, 6.5342929041976845, 0.16115121653794554),\n (10, 478, 2.1969532756802432, 3.9100658538840647, 0.9763863003924951),\n (10, 511, 2.1969532756802432, 183.32746877222314, 0.8432464315454213),\n (10, 513, 2.1969532756802432, 5.8381971614127925, 0.7840898132592581),\n (10, 517, 2.1969532756802432, 15.43745484502779, 1.0),\n (10, 518, 2.1969532756802432, 8.180979023503198, 0.9347834566184926),\n (10, 533, 2.1969532756802432, 1.9870906099368175, 0.30685663081228237),\n (10, 580, 2.1969532756802432, 96.53740891644874, 0.2535542735631595),\n (10, 586, 2.1969532756802432, 30.03945254573582, 1.0),\n (10, 618, 2.1969532756802432, 8.732177807641929, 0.32043233084873435),\n (10, 693, 2.1969532756802432, 39.597672636516656, 1.0),\n (10, 699, 2.1969532756802432, 29.527767022420537, 0.7641561103847629),\n (10, 741, 2.1969532756802432, 9.285923351725861, 0.06706477593763031),\n (10, 791, 2.1969532756802432, 1.3778961328173815, 1.0),\n (10, 798, 2.1969532756802432, 2.1845620971331665, 0.30060567735140264),\n (10, 816, 2.1969532756802432, 6.252087284807849, 0.5169738202390785),\n (10, 845, 2.1969532756802432, 12.038683381043157, 0.29491319509041913),\n (10, 856, 2.1969532756802432, 68.19024841964165, 0.774830656574001),\n (10, 892, 2.1969532756802432, 1.0912313985140834, 0.892129593981875),\n (10, 904, 2.1969532756802432, 1.0964580348769652, 1.0),\n (10, 940, 2.1969532756802432, 134.39919811877974, 1.0),\n (10, 953, 2.1969532756802432, 3.0165181923052957, 0.06326282471159597),\n (10, 960, 2.1969532756802432, 1.6003899114697848, 0.7751812878680002),\n (10, 963, 2.1969532756802432, 2.497404018813588, 0.05256470997449002),\n (10, 1004, 2.1969532756802432, 2.8439699804389496, 0.006869265127322469),\n (10, 1031, 2.1969532756802432, 48.31724185321258, 1.0),\n (10, 1061, 2.1969532756802432, 8.43922081494918, 0.1667333104690449),\n (10, 1090, 2.1969532756802432, 7.781383271430789, 0.16254720496849484),\n (10, 1109, 2.1969532756802432, 15.670984136934168, 0.529934132646241),\n (10, 1140, 2.1969532756802432, 6.750378177171235, 1.0),\n (10, 1164, 2.1969532756802432, 35.73931289068025, 0.18543731365773955),\n (10, 1167, 2.1969532756802432, 2.9003001833771163, 0.00635843713646126),\n (10, 1187, 2.1969532756802432, 6.22832528116633, 1.0),\n (10, 1201, 2.1969532756802432, 1.276271073515607, 0.002737983971131204),\n (10, 1208, 2.1969532756802432, 33.45007397046972, 0.06987410567946763),\n (10, 1211, 2.1969532756802432, 23.3327589049216, 1.0),\n (10, 1296, 2.1969532756802432, 25.5724202098957, 1.0),\n (10, 1359, 2.1969532756802432, 267.678704507991, 1.0),\n (10, 1395, 2.1969532756802432, 5.09429167517996, 0.797581328489572),\n (10, 1396, 2.1969532756802432, 192.72693585189592, 0.9039313147304674),\n (10, 1403, 2.1969532756802432, 5.957772724726205, 0.4421666398220028),\n (10, 1457, 2.1969532756802432, 3.041886082692047, 0.057454814007831825),\n (10, 1472, 2.1969532756802432, 1.109944489356476, 0.6105969442198109),\n (10, 1480, 2.1969532756802432, 2.7214918642632484, 1.0),\n (11, 18, 1.5493481958340733, 20.222477958310662, 0.06806490561532061),\n (11, 58, 1.5493481958340733, 120.63195640713168, 0.27197059811744195),\n (11, 74, 1.5493481958340733, 3.6985304785020463, 0.00773541898482719),\n (11, 79, 1.5493481958340733, 17.612908032694477, 0.019296104985419487),\n (11, 97, 1.5493481958340733, 34.4204617347474, 0.23560133843688355),\n (11, 105, 1.5493481958340733, 1.5685719262876427, 0.20023838074431705),\n (11, 106, 1.5493481958340733, 1.284225399663818, 0.006826583343877233),\n (11, 175, 1.5493481958340733, 3.2354838816757234, 0.0026978965442010865),\n (11, 177, 1.5493481958340733, 466.4117864582465, 1.0),\n (11, 209, 1.5493481958340733, 7.290504219365555, 1.0),\n (11, 333, 1.5493481958340733, 2.0082039089252213, 1.0),\n (11, 388, 1.5493481958340733, 10.282919466291503, 1.0),\n (11, 412, 1.5493481958340733, 2.862208256916649, 0.37163686313980016),\n (11, 429, 1.5493481958340733, 14.61959378798566, 0.7796346983802933),\n (11, 431, 1.5493481958340733, 1.8427915041104388, 1.0),\n (11, 440, 1.5493481958340733, 50.02842380716766, 0.16625368275835975),\n (11, 480, 1.5493481958340733, 1.476877481452276, 1.0),\n (11, 509, 1.5493481958340733, 28.129830113371334, 1.0),\n (11, 511, 1.5493481958340733, 183.32746877222314, 1.0),\n (11, 514, 1.5493481958340733, 3.9448368426447535, 0.036354092118291714),\n (11, 542, 1.5493481958340733, 13.186381195470066, 1.0),\n (11, 595, 1.5493481958340733, 1.7997723862847192, 0.9093804700779949),\n (11, 613, 1.5493481958340733, 2.910111377718282, 0.6043927788845497),\n (11, 620, 1.5493481958340733, 1.6523611453323406, 0.4839434042414792),\n (11, 626, 1.5493481958340733, 2.9392610440091875, 0.8364552683417782),\n (11, 637, 1.5493481958340733, 6.4608612320926175, 0.3656349458524719),\n (11, 664, 1.5493481958340733, 3.360864148181224, 1.0),\n (11, 691, 1.5493481958340733, 29.469965380948068, 0.9981430690740891),\n (11, 712, 1.5493481958340733, 4.12560616104999, 1.0),\n (11, 758, 1.5493481958340733, 100.46447295685273, 1.0),\n (11, 767, 1.5493481958340733, 3.301312392700772, 1.0),\n (11, 775, 1.5493481958340733, 16.206358584709506, 0.7569305678182735),\n (11, 846, 1.5493481958340733, 69.83813344047309, 0.5544528680781137),\n (11, 988, 1.5493481958340733, 4.238573359949953, 0.1671955301644735),\n (11, 1020, 1.5493481958340733, 6.272543960950495, 0.013394283494957212),\n (11, 1030, 1.5493481958340733, 32.377778967200356, 0.21377047054774836),\n (11, 1060, 1.5493481958340733, 6.388313233295235, 0.3188931966845253),\n (11, 1094, 1.5493481958340733, 2.432269327058643, 0.05050533239234388),\n (11, 1131, 1.5493481958340733, 1.873914388555314, 0.0670539259300415),\n (11, 1132, 1.5493481958340733, 8.649814552953924, 0.4202741429355017),\n (11, 1145, 1.5493481958340733, 8.527872349488336, 1.0),\n (11, 1157, 1.5493481958340733, 54.62709264543894, 1.0),\n (11, 1159, 1.5493481958340733, 11.669484434198477, 0.19775788429471813),\n (11, 1165, 1.5493481958340733, 2.167889615365189, 0.0033092264985673443),\n (11, 1208, 1.5493481958340733, 33.45007397046972, 0.2505013957579685),\n (11, 1218, 1.5493481958340733, 1.0161807959395315, 0.001032607764238132),\n (11, 1230, 1.5493481958340733, 3.1795738607645276, 0.024347245655985405),\n (11, 1269, 1.5493481958340733, 6.701894739747617, 0.07273229470630369),\n (11, 1302, 1.5493481958340733, 3.4614920391850927, 0.3029502340121352),\n (11, 1312, 1.5493481958340733, 1.4883655392801072, 1.0),\n (11, 1359, 1.5493481958340733, 267.678704507991, 1.0),\n (11, 1365, 1.5493481958340733, 13.150919308378269, 0.9908067829785184),\n (11, 1396, 1.5493481958340733, 192.72693585189592, 1.0),\n (11, 1461, 1.5493481958340733, 6.706885225251929, 0.01588524644062655),\n (11, 1473, 1.5493481958340733, 1.4771136393671118, 0.11374769840481619),\n (12, 16, 1.102400759180518, 2.9657851755477873, 1.0),\n (12, 35, 1.102400759180518, 2.1665401232118495, 0.036268941453084166),\n (12, 58, 1.102400759180518, 120.63195640713168, 1.0),\n (12, 177, 1.102400759180518, 466.4117864582465, 1.0),\n (12, 184, 1.102400759180518, 2.5163059904382767, 1.0),\n (12, 200, 1.102400759180518, 1.3196514255447533, 0.3353916438799662),\n (12, 247, 1.102400759180518, 49.938740996142286, 1.0),\n (12, 258, 1.102400759180518, 2.969894257019809, 0.14126474641694736),\n (12, 298, 1.102400759180518, 3.4697697177500606, 0.07629371116958904),\n (12, 357, 1.102400759180518, 1.3478727818383587, 0.008224442477409772),\n (12, 448, 1.102400759180518, 8.426584853872289, 0.24903626449640617),\n (12, 454, 1.102400759180518, 2.2650116934836277, 0.3694683068016616),\n (12, 486, 1.102400759180518, 3.25923561047111, 1.0),\n (12, 488, 1.102400759180518, 96.94210796612053, 0.15199603157700303),\n (12, 491, 1.102400759180518, 1.108598554329445, 1.0),\n (12, 540, 1.102400759180518, 19.602286544026622, 0.014462296946971466),\n (12, 541, 1.102400759180518, 1.2100640660155488, 0.26200042228282194),\n (12, 602, 1.102400759180518, 54.594896418395685, 0.06943380328675913),\n (12, 651, 1.102400759180518, 16.398819265454996, 0.020598962917445212),\n (12, 657, 1.102400759180518, 17.984294580482665, 1.0),\n (12, 693, 1.102400759180518, 39.597672636516656, 0.2784797897036991),\n (12, 775, 1.102400759180518, 16.206358584709506, 0.01264576977269965),\n (12, 793, 1.102400759180518, 1.0554262924082043, 1.0),\n (12, 800, 1.102400759180518, 1.4078217443372107, 0.014115037710388618),\n (12, 830, 1.102400759180518, 4.482711875585369, 0.0034663130082471993),\n (12, 848, 1.102400759180518, 10.365112557485979, 0.6533543569485719),\n (12, 856, 1.102400759180518, 68.19024841964165, 0.3112326114191869),\n (12, 901, 1.102400759180518, 1.9698425081710058, 1.0),\n (12, 918, 1.102400759180518, 1.3661713916396985, 0.4908300894609497),\n (12, 926, 1.102400759180518, 1.174526668755887, 0.07608249182276496),\n (12, 928, 1.102400759180518, 8.274904598646119, 0.8075483970943608),\n (12, 942, 1.102400759180518, 2.256654742645558, 0.0075256493881761255),\n (12, 984, 1.102400759180518, 16.764406152529837, 0.01190260703789486),\n (12, 1106, 1.102400759180518, 4.61659327469602, 1.0),\n (12, 1141, 1.102400759180518, 1.1612902002192311, 0.1657377984043479),\n (12, 1143, 1.102400759180518, 15.81747401784808, 0.18655899232296042),\n (12, 1147, 1.102400759180518, 1.5585655570347094, 0.0013735424798341728),\n (12, 1177, 1.102400759180518, 1.6200821495564826, 1.0),\n (12, 1280, 1.102400759180518, 1.5413613562913022, 0.08995328110874194),\n (12, 1309, 1.102400759180518, 6.449002169075887, 0.004321125701144994),\n (12, 1316, 1.102400759180518, 10.108008453607708, 0.7104123710738282),\n (12, 1359, 1.102400759180518, 267.678704507991, 0.8886411208517796),\n (12, 1379, 1.102400759180518, 4.658388078118299, 1.0),\n (12, 1432, 1.102400759180518, 29.279507059610644, 0.07704591522659744),\n (12, 1464, 1.102400759180518, 12.976790173871235, 0.97043522666368),\n (12, 1470, 1.102400759180518, 2.4786241129180446, 0.02819948669787616),\n (13, 23, 1.7795320650411381, 1.1793116360451703, 0.22447886211470203),\n (13, 31, 1.7795320650411381, 1.2993281739741998, 0.0026779164245385764),\n (13, 40, 1.7795320650411381, 8.644763557879088, 0.2908337099288075),\n (13, 94, 1.7795320650411381, 9.405748810789405, 1.0),\n (13, 123, 1.7795320650411381, 2.396913121981544, 0.29224031221714464),\n (13, 155, 1.7795320650411381, 7.260686957149799, 0.0216564306102982),\n (13, 177, 1.7795320650411381, 466.4117864582465, 1.0),\n (13, 252, 1.7795320650411381, 20.20945905191147, 0.06743781540011817),\n (13, 363, 1.7795320650411381, 16.565415557545528, 0.30416445787939517),\n (13, 366, 1.7795320650411381, 3.300063060844254, 0.011867659296752233),\n (13, 370, 1.7795320650411381, 5.162273038196235, 0.7475609308906371),\n (13, 379, 1.7795320650411381, 14.21479914873521, 1.0),\n (13, 380, 1.7795320650411381, 7.96640801729827, 0.027358481124519055),\n (13, 420, 1.7795320650411381, 2.8120020457528034, 1.0),\n (13, 440, 1.7795320650411381, 50.02842380716766, 0.9048295542995639),\n (13, 476, 1.7795320650411381, 1.1622412606203487, 1.0),\n (13, 488, 1.7795320650411381, 96.94210796612053, 1.0),\n (13, 511, 1.7795320650411381, 183.32746877222314, 0.4895966431262658),\n (13, 536, 1.7795320650411381, 2.6264046225205884, 0.0028038279083700854),\n (13, 540, 1.7795320650411381, 19.602286544026622, 1.0),\n (13, 553, 1.7795320650411381, 4.256716949347462, 0.0072048196048547335),\n (13, 572, 1.7795320650411381, 3.29798178695006, 0.5417903502933382),\n (13, 578, 1.7795320650411381, 1.1927666910083832, 0.02110778157354702),\n (13, 579, 1.7795320650411381, 3.427995357540807, 1.0),\n (13, 580, 1.7795320650411381, 96.53740891644874, 1.0),\n (13, 599, 1.7795320650411381, 2.0685333559064554, 0.7945383872192734),\n (13, 602, 1.7795320650411381, 54.594896418395685, 0.643904209350843),\n (13, 605, 1.7795320650411381, 9.780591157296595, 0.1521220207009407),\n (13, 648, 1.7795320650411381, 50.14020000751376, 0.17526685906536954),\n (13, 661, 1.7795320650411381, 109.05417457212458, 0.799810550888463),\n (13, 668, 1.7795320650411381, 20.208698733694437, 0.8016366581252539),\n (13, 760, 1.7795320650411381, 2.2932269556932603, 0.5775623830471311),\n (13, 786, 1.7795320650411381, 2.7643218743775377, 0.10892022625047759),\n (13, 790, 1.7795320650411381, 5.899142730461406, 1.0),\n (13, 846, 1.7795320650411381, 69.83813344047309, 1.0),\n (13, 937, 1.7795320650411381, 1.8749401988277639, 0.4422575984069375),\n (13, 966, 1.7795320650411381, 18.867797464318237, 1.0),\n (13, 1001, 1.7795320650411381, 6.52968269257894, 0.07140659857610879),\n (13, 1087, 1.7795320650411381, 2.289060834568242, 0.01979954280360787),\n (13, 1111, 1.7795320650411381, 9.392103089013318, 0.5381625822083119),\n (13, 1202, 1.7795320650411381, 1.406702498010141, 0.30562388911962163),\n (13, 1208, 1.7795320650411381, 33.45007397046972, 1.0),\n (13, 1211, 1.7795320650411381, 23.3327589049216, 0.07201912780187797),\n (13, 1254, 1.7795320650411381, 4.5943423474135985, 1.0),\n (13, 1276, 1.7795320650411381, 72.19702397800118, 1.0),\n (13, 1295, 1.7795320650411381, 13.170707285572007, 0.026743778545829846),\n (13, 1328, 1.7795320650411381, 11.16543957963716, 0.4924896465440585),\n (13, 1359, 1.7795320650411381, 267.678704507991, 1.0),\n (13, 1396, 1.7795320650411381, 192.72693585189592, 1.0),\n (13, 1441, 1.7795320650411381, 9.576252161571153, 0.04354458352126325),\n (13, 1466, 1.7795320650411381, 5.935505751666273, 0.008083932933001308),\n (13, 1486, 1.7795320650411381, 5.71280613716615, 0.007803204148999502),\n (13, 1489, 1.7795320650411381, 11.62308303610424, 0.5454877889380386),\n (13, 1492, 1.7795320650411381, 11.432752851051013, 0.1126796369305142),\n (14, 21, 1.7540136717638999, 2.7627737852961625, 0.17681404487717778),\n (14, 58, 1.7540136717638999, 120.63195640713168, 0.8300311932769303),\n (14, 70, 1.7540136717638999, 1.5689208298626856, 1.0),\n (14, 116, 1.7540136717638999, 6.491012363096759, 0.03463570865172349),\n (14, 171, 1.7540136717638999, 4.156664549201526, 0.5459680612563241),\n (14, 177, 1.7540136717638999, 466.4117864582465, 1.0),\n (14, 248, 1.7540136717638999, 5.421754816177959, 0.1410054412383069),\n (14, 271, 1.7540136717638999, 15.880729057039638, 1.0),\n (14, 350, 1.7540136717638999, 31.14447272338575, 0.9221851646009842),\n (14, 462, 1.7540136717638999, 1.1289807496744257, 1.0),\n (14, 488, 1.7540136717638999, 96.94210796612053, 0.516154475191611),\n (14, 509, 1.7540136717638999, 28.129830113371334, 0.704884362432145),\n (14, 511, 1.7540136717638999, 183.32746877222314, 1.0),\n (14, 547, 1.7540136717638999, 1.4081647031951436, 0.8803554065773186),\n (14, 612, 1.7540136717638999, 1.9994939031238177, 0.5865644483419571),\n (14, 637, 1.7540136717638999, 6.4608612320926175, 1.0),\n (14, 647, 1.7540136717638999, 1.2864521248778775, 0.269829562634688),\n (14, 661, 1.7540136717638999, 109.05417457212458, 0.266271127050773),\n (14, 758, 1.7540136717638999, 100.46447295685273, 1.0),\n (14, 775, 1.7540136717638999, 16.206358584709506, 0.46059464311662246),\n (14, 846, 1.7540136717638999, 69.83813344047309, 0.9009337803472287),\n (14, 862, 1.7540136717638999, 3.879536312799424, 0.24283949903817356),\n (14, 872, 1.7540136717638999, 32.468634253095175, 0.06693125574987156),\n (14, 962, 1.7540136717638999, 2.6994461628434725, 0.31906554206947907),\n (14, 998, 1.7540136717638999, 1.0160155876554233, 0.21929236846232858),\n (14, 1034, 1.7540136717638999, 1.6068846227063744, 0.02142597376823634),\n (14, 1060, 1.7540136717638999, 6.388313233295235, 0.0738134097637512),\n (14, 1066, 1.7540136717638999, 1.3444395966319513, 1.0),\n (14, 1075, 1.7540136717638999, 6.395136098014123, 0.1312842587926806),\n (14, 1078, 1.7540136717638999, 1.3403367385624594, 1.0),\n (14, 1112, 1.7540136717638999, 6.20246999243087, 0.2636757325362926),\n (14, 1157, 1.7540136717638999, 54.62709264543894, 1.0),\n (14, 1224, 1.7540136717638999, 1.1019907523699835, 0.0009856692391953352),\n (14, 1225, 1.7540136717638999, 1.7802560270258538, 0.010020587038204234),\n (14, 1230, 1.7540136717638999, 3.1795738607645276, 0.12584957101263125),\n (14, 1249, 1.7540136717638999, 1.9134164419434727, 1.0),\n (14, 1252, 1.7540136717638999, 2.9321791199840885, 0.45318492976077923),\n (14, 1327, 1.7540136717638999, 1.2499266885911349, 0.04378883573967091),\n (14, 1359, 1.7540136717638999, 267.678704507991, 1.0),\n (14, 1365, 1.7540136717638999, 13.150919308378269, 0.4893729943545306),\n (14, 1373, 1.7540136717638999, 20.681692792241, 0.1401228882030054),\n (14, 1396, 1.7540136717638999, 192.72693585189592, 1.0),\n (14, 1400, 1.7540136717638999, 5.958311365875602, 0.022746581214425497),\n (15, 16, 2.5393639769645304, 2.9657851755477873, 0.25607273349181997),\n (15, 35, 2.5393639769645304, 2.1665401232118495, 0.10459860090175566),\n (15, 56, 2.5393639769645304, 55.534164632608956, 0.2179554470304052),\n (15, 58, 2.5393639769645304, 120.63195640713168, 1.0),\n (15, 66, 2.5393639769645304, 12.398436323149545, 0.1397939314358413),\n (15, 77, 2.5393639769645304, 10.621342528467462, 0.2793594875325749),\n (15, 82, 2.5393639769645304, 2.819062180291053, 1.0),\n (15, 116, 2.5393639769645304, 6.491012363096759, 1.0),\n (15, 127, 2.5393639769645304, 2.0332771434037733, 0.08827140046938906),\n (15, 157, 2.5393639769645304, 1.53989678499736, 0.8669600801744288),\n (15, 177, 2.5393639769645304, 466.4117864582465, 1.0),\n (15, 247, 2.5393639769645304, 49.938740996142286, 1.0),\n (15, 276, 2.5393639769645304, 10.312354117962238, 1.0),\n (15, 291, 2.5393639769645304, 5.872083330186063, 0.2878395411320842),\n (15, 298, 2.5393639769645304, 3.4697697177500606, 1.0),\n (15, 350, 2.5393639769645304, 31.14447272338575, 0.9906692155040964),\n (15, 361, 2.5393639769645304, 1.476738767132972, 1.0),\n (15, 424, 2.5393639769645304, 4.109099006627011, 0.14524320068597382),\n (15, 443, 2.5393639769645304, 1.752963122123276, 0.6250585472866154),\n (15, 448, 2.5393639769645304, 8.426584853872289, 0.18445054850163503),\n (15, 463, 2.5393639769645304, 4.834128302515201, 0.023957459760926468),\n (15, 488, 2.5393639769645304, 96.94210796612053, 0.4070890675189371),\n (15, 511, 2.5393639769645304, 183.32746877222314, 1.0),\n (15, 526, 2.5393639769645304, 2.9128980008723135, 1.0),\n (15, 527, 2.5393639769645304, 2.314799263760714, 1.0),\n (15, 544, 2.5393639769645304, 5.622136259891745, 0.12929616374023498),\n (15, 560, 2.5393639769645304, 1.1498783222440558, 0.16931334051795982),\n (15, 562, 2.5393639769645304, 3.9578487139746437, 1.0),\n (15, 567, 2.5393639769645304, 9.914649568977348, 0.5382716984230984),\n (15, 574, 2.5393639769645304, 9.93367040966227, 0.07105802510747167),\n (15, 580, 2.5393639769645304, 96.53740891644874, 0.31005377718129723),\n (15, 586, 2.5393639769645304, 30.03945254573582, 0.9747545271222782),\n (15, 619, 2.5393639769645304, 6.154905766105783, 0.11706502373466869),\n (15, 647, 2.5393639769645304, 1.2864521248778775, 0.007191823444569851),\n (15, 651, 2.5393639769645304, 16.398819265454996, 0.057046721505231386),\n (15, 654, 2.5393639769645304, 12.404361994756316, 0.19039552765260537),\n (15, 657, 2.5393639769645304, 17.984294580482665, 1.0),\n (15, 691, 2.5393639769645304, 29.469965380948068, 0.08989510323660464),\n (15, 693, 2.5393639769645304, 39.597672636516656, 0.7823149177503743),\n (15, 721, 2.5393639769645304, 16.11961593310937, 0.22144961843895494),\n (15, 722, 2.5393639769645304, 1.1976474556117103, 0.01869081291852264),\n (15, 734, 2.5393639769645304, 3.4264538492463275, 1.0),\n (15, 750, 2.5393639769645304, 1.2232728503844656, 0.08527119858146515),\n (15, 758, 2.5393639769645304, 100.46447295685273, 0.3187845533908686),\n (15, 759, 2.5393639769645304, 1.433371277357542, 0.2128047800424303),\n (15, 789, 2.5393639769645304, 3.9699062506318863, 0.10777852550245023),\n (15, 793, 2.5393639769645304, 1.0554262924082043, 0.24265228643784678),\n (15, 836, 2.5393639769645304, 22.953098254746497, 1.0),\n (15, 846, 2.5393639769645304, 69.83813344047309, 0.22945846955640994),\n (15, 848, 2.5393639769645304, 10.365112557485979, 1.0),\n (15, 856, 2.5393639769645304, 68.19024841964165, 1.0),\n (15, 884, 2.5393639769645304, 5.519230059617788, 0.27307405111427396),\n (15, 894, 2.5393639769645304, 1.585689292122517, 1.0),\n (15, 901, 2.5393639769645304, 1.9698425081710058, 0.26602618970888753),\n (15, 926, 2.5393639769645304, 1.174526668755887, 0.2308893369665132),\n (15, 940, 2.5393639769645304, 134.39919811877974, 1.0),\n (15, 944, 2.5393639769645304, 1.0479035313849188, 0.0026944527284485324),\n (15, 950, 2.5393639769645304, 8.489831705705797, 0.07297845463112759),\n (15, 953, 2.5393639769645304, 3.0165181923052957, 0.43843216843491384),\n (15, 1018, 2.5393639769645304, 1.6321665035936277, 0.1874668595808332),\n (15, 1030, 2.5393639769645304, 32.377778967200356, 0.22464838986929284),\n (15, 1031, 2.5393639769645304, 48.31724185321258, 1.0),\n (15, 1061, 2.5393639769645304, 8.43922081494918, 1.0),\n (15, 1064, 2.5393639769645304, 1.1823543096193552, 0.23756059588278464),\n (15, 1081, 2.5393639769645304, 2.0353859784293387, 0.0565639478926163),\n (15, 1093, 2.5393639769645304, 1.3514867518463063, 0.6394250102641694),\n (15, 1106, 2.5393639769645304, 4.61659327469602, 0.3351491047480326),\n (15, 1113, 2.5393639769645304, 19.74467751098306, 0.08223622982128269),\n (15, 1115, 2.5393639769645304, 1.333205039302055, 1.0),\n (15, 1121, 2.5393639769645304, 1.7046624705502256, 0.01806572600575527),\n (15, 1143, 2.5393639769645304, 15.81747401784808, 0.5337956919049044),\n (15, 1189, 2.5393639769645304, 1.517821865530707, 1.0),\n (15, 1207, 2.5393639769645304, 1.7240300535211301, 0.057658921538593505),\n (15, 1223, 2.5393639769645304, 2.0508300003655244, 0.02434877274997435),\n (15, 1244, 2.5393639769645304, 16.495948481998244, 0.04978334448396942),\n (15, 1256, 2.5393639769645304, 9.025609681427042, 0.017432148580311554),\n (15, 1310, 2.5393639769645304, 4.187837688493102, 0.0069460314960643355),\n (15, 1316, 2.5393639769645304, 10.108008453607708, 1.0),\n (15, 1344, 2.5393639769645304, 2.042936439542797, 0.19330376106334565),\n (15, 1355, 2.5393639769645304, 6.591268639417001, 0.8471921081389227),\n (15, 1357, 2.5393639769645304, 1.1827787854387022, 1.0),\n (15, 1359, 2.5393639769645304, 267.678704507991, 1.0),\n (15, 1373, 2.5393639769645304, 20.681692792241, 0.4819397034371581),\n (15, 1375, 2.5393639769645304, 1.1310046753346894, 0.7247949759006816),\n (15, 1376, 2.5393639769645304, 23.087445103250968, 0.4597059266254944),\n (15, 1388, 2.5393639769645304, 11.985347043434064, 0.42758520618696083),\n (15, 1396, 2.5393639769645304, 192.72693585189592, 1.0),\n (15, 1397, 2.5393639769645304, 1.1001161791793013, 0.20711456660481473),\n (15, 1398, 2.5393639769645304, 16.523333259448226, 0.6687650369931902),\n (15, 1401, 2.5393639769645304, 7.0989379905371015, 0.5310417390030541),\n (15, 1406, 2.5393639769645304, 1.2329890598767315, 1.0),\n (15, 1444, 2.5393639769645304, 18.428651577148337, 0.3538867800742379),\n (15, 1481, 2.5393639769645304, 1.4023860413339575, 0.03298464093536642),\n (16, 58, 2.9657851755477873, 120.63195640713168, 1.0),\n (16, 82, 2.9657851755477873, 2.819062180291053, 1.0),\n (16, 97, 2.9657851755477873, 34.4204617347474, 0.2928386051644751),\n (16, 108, 2.9657851755477873, 2.315324474021109, 1.0),\n (16, 112, 2.9657851755477873, 1.3077329495938372, 1.0),\n (16, 140, 2.9657851755477873, 14.05196840805303, 0.6837571201875171),\n (16, 165, 2.9657851755477873, 4.277296334860277, 0.06738691539420164),\n (16, 177, 2.9657851755477873, 466.4117864582465, 1.0),\n (16, 179, 2.9657851755477873, 1.5784657652469043, 0.05240427897232962),\n (16, 184, 2.9657851755477873, 2.5163059904382767, 0.970093220572171),\n (16, 200, 2.9657851755477873, 1.3196514255447533, 1.0),\n (16, 247, 2.9657851755477873, 49.938740996142286, 1.0),\n (16, 258, 2.9657851755477873, 2.969894257019809, 1.0),\n (16, 314, 2.9657851755477873, 4.865433753344849, 0.108531414192317),\n (16, 344, 2.9657851755477873, 12.576958309723077, 0.2241657765869007),\n (16, 350, 2.9657851755477873, 31.14447272338575, 0.42216236960195197),\n (16, 361, 2.9657851755477873, 1.476738767132972, 0.4221389070608019),\n (16, 430, 2.9657851755477873, 2.6730486772209368, 0.12381186582223588),\n (16, 454, 2.9657851755477873, 2.2650116934836277, 0.4519122299250809),\n (16, 475, 2.9657851755477873, 5.217604388442967, 0.057015228719673954),\n (16, 486, 2.9657851755477873, 3.25923561047111, 1.0),\n (16, 488, 2.9657851755477873, 96.94210796612053, 0.43955949322438703),\n (16, 491, 2.9657851755477873, 1.108598554329445, 0.6832988347536264),\n (16, 511, 2.9657851755477873, 183.32746877222314, 1.0),\n (16, 513, 2.9657851755477873, 5.8381971614127925, 0.28651072151160106),\n (16, 526, 2.9657851755477873, 2.9128980008723135, 0.16904220155461783),\n (16, 527, 2.9657851755477873, 2.314799263760714, 0.09274886052163496),\n (16, 534, 2.9657851755477873, 4.198653362223589, 0.6855000059540763),\n (16, 559, 2.9657851755477873, 7.793959030785943, 0.18911489894772002),\n (16, 562, 2.9657851755477873, 3.9578487139746437, 0.4110117277115584),\n (16, 567, 2.9657851755477873, 9.914649568977348, 0.5564489652108666),\n (16, 580, 2.9657851755477873, 96.53740891644874, 0.4152097436063891),\n (16, 586, 2.9657851755477873, 30.03945254573582, 1.0),\n (16, 647, 2.9657851755477873, 1.2864521248778775, 0.004273917989002642),\n (16, 648, 2.9657851755477873, 50.14020000751376, 0.6427348974284302),\n (16, 657, 2.9657851755477873, 17.984294580482665, 1.0),\n (16, 661, 2.9657851755477873, 109.05417457212458, 0.8553688699989375),\n (16, 693, 2.9657851755477873, 39.597672636516656, 1.0),\n (16, 699, 2.9657851755477873, 29.527767022420537, 0.1616406483375657),\n (16, 734, 2.9657851755477873, 3.4264538492463275, 0.36430530567125274),\n (16, 755, 2.9657851755477873, 1.4730667731379665, 0.007797290630132857),\n (16, 758, 2.9657851755477873, 100.46447295685273, 0.6337806125205503),\n (16, 759, 2.9657851755477873, 1.433371277357542, 1.0),\n (16, 793, 2.9657851755477873, 1.0554262924082043, 0.8557438005048534),\n (16, 800, 2.9657851755477873, 1.4078217443372107, 0.034999404132806666),\n (16, 804, 2.9657851755477873, 3.106799904639562, 1.0),\n (16, 827, 2.9657851755477873, 3.645928807848054, 0.023463672947781403),\n (16, 836, 2.9657851755477873, 22.953098254746497, 1.0),\n (16, 848, 2.9657851755477873, 10.365112557485979, 1.0),\n (16, 856, 2.9657851755477873, 68.19024841964165, 0.8781888604260022),\n (16, 901, 2.9657851755477873, 1.9698425081710058, 1.0),\n (16, 908, 2.9657851755477873, 1.0260377689942062, 0.0038899054555140214),\n (16, 918, 2.9657851755477873, 1.3661713916396985, 0.43513975935598),\n (16, 926, 2.9657851755477873, 1.174526668755887, 0.20229563573791584),\n (16, 928, 2.9657851755477873, 8.274904598646119, 1.0),\n (16, 940, 2.9657851755477873, 134.39919811877974, 1.0),\n (16, 945, 2.9657851755477873, 54.42007732254331, 0.20463100587698632),\n (16, 953, 2.9657851755477873, 3.0165181923052957, 1.0),\n (16, 954, 2.9657851755477873, 2.16085616271416, 0.06816518667100517),\n (16, 1030, 2.9657851755477873, 32.377778967200356, 0.6081879749660878),\n (16, 1031, 2.9657851755477873, 48.31724185321258, 1.0),\n (16, 1061, 2.9657851755477873, 8.43922081494918, 0.8719897418342503),\n (16, 1064, 2.9657851755477873, 1.1823543096193552, 1.0),\n (16, 1081, 2.9657851755477873, 2.0353859784293387, 0.07768096200960033),\n (16, 1090, 2.9657851755477873, 7.781383271430789, 0.4044590316967438),\n (16, 1095, 2.9657851755477873, 2.1097517031549216, 0.2402746990458691),\n (16, 1106, 2.9657851755477873, 4.61659327469602, 1.0),\n (16, 1124, 2.9657851755477873, 2.4122847708311297, 0.4564503691436654),\n (16, 1136, 2.9657851755477873, 2.193814149441119, 0.004588485323240632),\n (16, 1143, 2.9657851755477873, 15.81747401784808, 0.477897921603483),\n (16, 1177, 2.9657851755477873, 1.6200821495564826, 1.0),\n (16, 1183, 2.9657851755477873, 4.335661018968859, 0.016645127717784924),\n (16, 1186, 2.9657851755477873, 23.821755258852736, 0.08599317296028441),\n (16, 1208, 2.9657851755477873, 33.45007397046972, 0.2485851730390144),\n (16, 1213, 2.9657851755477873, 1.249152887418092, 1.0),\n (16, 1299, 2.9657851755477873, 1.662706322974348, 0.38001796822992545),\n (16, 1301, 2.9657851755477873, 5.028004833452673, 0.04365974124828624),\n (16, 1316, 2.9657851755477873, 10.108008453607708, 1.0),\n (16, 1359, 2.9657851755477873, 267.678704507991, 1.0),\n (16, 1373, 2.9657851755477873, 20.681692792241, 0.4531744006291766),\n (16, 1379, 2.9657851755477873, 4.658388078118299, 1.0),\n (16, 1396, 2.9657851755477873, 192.72693585189592, 1.0),\n (16, 1398, 2.9657851755477873, 16.523333259448226, 0.588888717789445),\n (16, 1401, 2.9657851755477873, 7.0989379905371015, 1.0),\n (16, 1416, 2.9657851755477873, 10.365098219265075, 0.07482265654506534),\n (16, 1418, 2.9657851755477873, 9.907268245032933, 0.5825297415700261),\n (16, 1444, 2.9657851755477873, 18.428651577148337, 1.0),\n (16, 1462, 2.9657851755477873, 34.78334873898705, 1.0),\n (16, 1463, 2.9657851755477873, 1.1091185697311907, 0.4750584625857173),\n (16, 1464, 2.9657851755477873, 12.976790173871235, 1.0),\n (16, 1470, 2.9657851755477873, 2.4786241129180446, 0.06984289711703394),\n (16, 1478, 2.9657851755477873, 2.3981740396860007, 0.003983891734093917),\n (17, 81, 1.1071467487342193, 5.828165127505063, 0.3508556082747344),\n ...]"
     },
     "execution_count": 20,
     "metadata": {},
     "output_type": "execute_result"
    }
   ],
   "source": [
    "edge_list2"
   ],
   "metadata": {
    "collapsed": false,
    "ExecuteTime": {
     "start_time": "2023-06-08T14:14:56.335951Z",
     "end_time": "2023-06-08T14:14:56.470929Z"
    }
   }
  },
  {
   "cell_type": "code",
   "execution_count": 30,
   "outputs": [
    {
     "data": {
      "text/plain": "4.0"
     },
     "execution_count": 30,
     "metadata": {},
     "output_type": "execute_result"
    }
   ],
   "source": [
    "8/2"
   ],
   "metadata": {
    "collapsed": false,
    "ExecuteTime": {
     "start_time": "2023-06-08T15:07:33.665171Z",
     "end_time": "2023-06-08T15:07:33.732273Z"
    }
   }
  },
  {
   "cell_type": "code",
   "execution_count": 69,
   "outputs": [
    {
     "data": {
      "text/plain": "8.97072157632721"
     },
     "execution_count": 69,
     "metadata": {},
     "output_type": "execute_result"
    }
   ],
   "source": [
    "n**((3-tau)/3)"
   ],
   "metadata": {
    "collapsed": false,
    "ExecuteTime": {
     "start_time": "2023-06-08T12:39:58.310719Z",
     "end_time": "2023-06-08T12:39:58.352473Z"
    }
   }
  },
  {
   "cell_type": "code",
   "execution_count": 75,
   "outputs": [
    {
     "data": {
      "text/plain": "array([  89,  154, 1104,  778, 1446, 1467, 1095, 1033])"
     },
     "execution_count": 75,
     "metadata": {},
     "output_type": "execute_result"
    }
   ],
   "source": [
    "degrees = utils.graph_degrees_to_weights(g)\n",
    "argsorted = np.argsort(degrees)\n",
    "argsorted[-8:]"
   ],
   "metadata": {
    "collapsed": false,
    "ExecuteTime": {
     "start_time": "2023-06-08T12:41:53.032939Z",
     "end_time": "2023-06-08T12:41:53.054569Z"
    }
   }
  },
  {
   "cell_type": "code",
   "execution_count": 76,
   "outputs": [],
   "source": [
    "g2 = utils.quick_subgraph(g, argsorted[-8:])"
   ],
   "metadata": {
    "collapsed": false,
    "ExecuteTime": {
     "start_time": "2023-06-08T12:42:19.335095Z",
     "end_time": "2023-06-08T12:42:19.374744Z"
    }
   }
  },
  {
   "cell_type": "code",
   "execution_count": 77,
   "outputs": [
    {
     "name": "stdout",
     "output_type": "stream",
     "text": [
      "Network Properties:\n",
      "nodes, edges\t\t\t8, 28\n",
      "directed?\t\t\tFalse\n",
      "weighted?\t\t\tFalse\n",
      "isolated nodes\t\t\t0\n",
      "self-loops\t\t\t0\n",
      "density\t\t\t\t1.000000\n",
      "clustering coefficient\t\t1.000000\n",
      "min/max/avg degree\t\t7, 7, 7.000000\n",
      "degree assortativity\t\tnan\n",
      "number of connected components\t1\n",
      "size of largest component\t8 (100.00 %)\n"
     ]
    }
   ],
   "source": [
    "nk.overview(g2)"
   ],
   "metadata": {
    "collapsed": false,
    "ExecuteTime": {
     "start_time": "2023-06-08T12:42:23.770419Z",
     "end_time": "2023-06-08T12:42:23.789051Z"
    }
   }
  },
  {
   "cell_type": "code",
   "execution_count": 15,
   "outputs": [
    {
     "data": {
      "text/plain": "<module 'benji_girgs.utils' from '../benji_girgs/utils.py'>"
     },
     "execution_count": 15,
     "metadata": {},
     "output_type": "execute_result"
    }
   ],
   "source": [
    "import importlib\n",
    "importlib.reload(utils)"
   ],
   "metadata": {
    "collapsed": false,
    "ExecuteTime": {
     "start_time": "2023-06-08T12:55:46.908015Z",
     "end_time": "2023-06-08T12:55:46.970782Z"
    }
   }
  },
  {
   "cell_type": "code",
   "execution_count": 79,
   "outputs": [
    {
     "data": {
      "text/plain": "7.0"
     },
     "execution_count": 79,
     "metadata": {},
     "output_type": "execute_result"
    }
   ],
   "source": [
    "utils.avg_degree(g2)"
   ],
   "metadata": {
    "collapsed": false,
    "ExecuteTime": {
     "start_time": "2023-06-08T12:44:58.567733Z",
     "end_time": "2023-06-08T12:44:58.611789Z"
    }
   }
  },
  {
   "cell_type": "code",
   "execution_count": 83,
   "outputs": [
    {
     "name": "stdout",
     "output_type": "stream",
     "text": [
      "33\n"
     ]
    }
   ],
   "source": [
    "for k in range(2, 40):\n",
    "    g2 = utils.get_top_k_clique(g, k)\n",
    "    avg_degree = utils.avg_degree(g2)\n",
    "    if avg_degree < k-1:\n",
    "        print(k)\n",
    "        break"
   ],
   "metadata": {
    "collapsed": false,
    "ExecuteTime": {
     "start_time": "2023-06-08T12:45:56.471667Z",
     "end_time": "2023-06-08T12:45:56.564797Z"
    }
   }
  },
  {
   "cell_type": "code",
   "execution_count": 82,
   "outputs": [
    {
     "name": "stdout",
     "output_type": "stream",
     "text": [
      "Network Properties:\n",
      "nodes, edges\t\t\t19, 171\n",
      "directed?\t\t\tFalse\n",
      "weighted?\t\t\tFalse\n",
      "isolated nodes\t\t\t0\n",
      "self-loops\t\t\t0\n",
      "density\t\t\t\t1.000000\n",
      "clustering coefficient\t\t1.000000\n",
      "min/max/avg degree\t\t18, 18, 18.000000\n",
      "degree assortativity\t\tnan\n",
      "number of connected components\t1\n",
      "size of largest component\t19 (100.00 %)\n"
     ]
    }
   ],
   "source": [
    "nk.overview(g2)"
   ],
   "metadata": {
    "collapsed": false,
    "ExecuteTime": {
     "start_time": "2023-06-08T12:45:49.856956Z",
     "end_time": "2023-06-08T12:45:49.881756Z"
    }
   }
  },
  {
   "cell_type": "code",
   "execution_count": 87,
   "outputs": [
    {
     "data": {
      "text/plain": "'/cluster/home/bdayan/girgs/benji_src/notebooks'"
     },
     "execution_count": 87,
     "metadata": {},
     "output_type": "execute_result"
    },
    {
     "data": {
      "text/plain": "                  Graph                    Model  Nodes  \\\n2       socfb-Caltech36  2d-copyweight-cube-girg    757   \n5          socfb-Reed98  2d-copyweight-cube-girg    954   \n13    socfb-Haverford76  2d-copyweight-cube-girg   1445   \n12      socfb-Simmons81  2d-copyweight-cube-girg   1501   \n17   socfb-Swarthmore42  2d-copyweight-cube-girg   1653   \n..                  ...                      ...    ...   \n203         socfb-MSU24  2d-copyweight-cube-girg  32142   \n211            socfb-UF  2d-copyweight-cube-girg  34887   \n213          socfb-UF21  2d-copyweight-cube-girg  34908   \n194       socfb-Texas84  2d-copyweight-cube-girg  36162   \n214        socfb-Penn94  2d-copyweight-cube-girg  41193   \n\n                                                  Info  \n2    {'tau': 7.3017225936374555, 'alpha': 1.1949215...  \n5    {'tau': 4.381732472502371, 'alpha': 1.04234527...  \n13   {'tau': 6.5461700448727616, 'alpha': 1.0259698...  \n12   {'tau': 4.739342146243066, 'alpha': 1.13274336...  \n17   {'tau': 5.598783007439967, 'alpha': 1.01797359...  \n..                                                 ...  \n203  {'tau': 5.112979295133962, 'alpha': 1.11343075...  \n211  {'tau': 4.918454781144023, 'alpha': 1.11343075...  \n213  {'tau': 4.918454781144023, 'alpha': 1.11819690...  \n194  {'tau': 4.774843344808111, 'alpha': 1.07229622...  \n214  {'tau': 4.159945099786496, 'alpha': 1.12300403...  \n\n[90 rows x 4 columns]",
      "text/html": "<div>\n<style scoped>\n    .dataframe tbody tr th:only-of-type {\n        vertical-align: middle;\n    }\n\n    .dataframe tbody tr th {\n        vertical-align: top;\n    }\n\n    .dataframe thead th {\n        text-align: right;\n    }\n</style>\n<table border=\"1\" class=\"dataframe\">\n  <thead>\n    <tr style=\"text-align: right;\">\n      <th></th>\n      <th>Graph</th>\n      <th>Model</th>\n      <th>Nodes</th>\n      <th>Info</th>\n    </tr>\n  </thead>\n  <tbody>\n    <tr>\n      <th>2</th>\n      <td>socfb-Caltech36</td>\n      <td>2d-copyweight-cube-girg</td>\n      <td>757</td>\n      <td>{'tau': 7.3017225936374555, 'alpha': 1.1949215...</td>\n    </tr>\n    <tr>\n      <th>5</th>\n      <td>socfb-Reed98</td>\n      <td>2d-copyweight-cube-girg</td>\n      <td>954</td>\n      <td>{'tau': 4.381732472502371, 'alpha': 1.04234527...</td>\n    </tr>\n    <tr>\n      <th>13</th>\n      <td>socfb-Haverford76</td>\n      <td>2d-copyweight-cube-girg</td>\n      <td>1445</td>\n      <td>{'tau': 6.5461700448727616, 'alpha': 1.0259698...</td>\n    </tr>\n    <tr>\n      <th>12</th>\n      <td>socfb-Simmons81</td>\n      <td>2d-copyweight-cube-girg</td>\n      <td>1501</td>\n      <td>{'tau': 4.739342146243066, 'alpha': 1.13274336...</td>\n    </tr>\n    <tr>\n      <th>17</th>\n      <td>socfb-Swarthmore42</td>\n      <td>2d-copyweight-cube-girg</td>\n      <td>1653</td>\n      <td>{'tau': 5.598783007439967, 'alpha': 1.01797359...</td>\n    </tr>\n    <tr>\n      <th>...</th>\n      <td>...</td>\n      <td>...</td>\n      <td>...</td>\n      <td>...</td>\n    </tr>\n    <tr>\n      <th>203</th>\n      <td>socfb-MSU24</td>\n      <td>2d-copyweight-cube-girg</td>\n      <td>32142</td>\n      <td>{'tau': 5.112979295133962, 'alpha': 1.11343075...</td>\n    </tr>\n    <tr>\n      <th>211</th>\n      <td>socfb-UF</td>\n      <td>2d-copyweight-cube-girg</td>\n      <td>34887</td>\n      <td>{'tau': 4.918454781144023, 'alpha': 1.11343075...</td>\n    </tr>\n    <tr>\n      <th>213</th>\n      <td>socfb-UF21</td>\n      <td>2d-copyweight-cube-girg</td>\n      <td>34908</td>\n      <td>{'tau': 4.918454781144023, 'alpha': 1.11819690...</td>\n    </tr>\n    <tr>\n      <th>194</th>\n      <td>socfb-Texas84</td>\n      <td>2d-copyweight-cube-girg</td>\n      <td>36162</td>\n      <td>{'tau': 4.774843344808111, 'alpha': 1.07229622...</td>\n    </tr>\n    <tr>\n      <th>214</th>\n      <td>socfb-Penn94</td>\n      <td>2d-copyweight-cube-girg</td>\n      <td>41193</td>\n      <td>{'tau': 4.159945099786496, 'alpha': 1.12300403...</td>\n    </tr>\n  </tbody>\n</table>\n<p>90 rows × 4 columns</p>\n</div>"
     },
     "execution_count": 87,
     "metadata": {},
     "output_type": "execute_result"
    }
   ],
   "source": [
    "import os\n",
    "os.getcwd()\n",
    "os.environ['DATA_PATH'] = '../../FE_FB_copyweights_cube/'\n",
    "\n",
    "df = pd.read_csv(os.environ['DATA_PATH'] + '2-features/results.csv')\n",
    "\n",
    "df.Info = df.Info.apply(lambda temp: {key: eval(var) for key, var in [x.split('=') for x in temp.split('|')]} if (type(temp) is str and '|' in temp) else {\n",
    "    })\n",
    "df['alpha'] = df.Info.apply(lambda x: x['alpha'] if 'alpha' in x else 1/float(x['t']) if 't' in x else None)\n",
    "\n",
    "df.loc[df.Model == '2d-copyweight-cube-girg'].sort_values('Nodes').loc[:,['Graph', 'Model', 'Nodes', 'Info'] ]"
   ],
   "metadata": {
    "collapsed": false,
    "ExecuteTime": {
     "start_time": "2023-06-09T11:28:57.527806Z",
     "end_time": "2023-06-09T11:28:57.659484Z"
    }
   }
  },
  {
   "cell_type": "code",
   "execution_count": null,
   "outputs": [],
   "source": [
    "df.iloc[]"
   ],
   "metadata": {
    "collapsed": false
   }
  },
  {
   "cell_type": "code",
   "execution_count": 208,
   "outputs": [
    {
     "data": {
      "text/plain": "{'tau': 6.5461700448727616,\n 'alpha': 1.0259698621353,\n 'const': 0.06818292723176347,\n 'target_lcc': 0.3229582156709487,\n 'fit_lcc': 0.3183240891192266,\n 'fitting_time': 66.06458711624146,\n 'hist': [(2.0, 0.5886219593246151),\n  (1.342281879194631, 0.4468903490047813),\n  (1.1527377521613833, 0.3751120232700809),\n  (1.0767160161507403, 0.34511005758833657),\n  (1.0423452768729642, 0.33017084213539916),\n  (1.0259698621353, 0.321984683191723),\n  (1.0340927451930846, 0.3285057575382607),\n  (1.0259698621353, 0.321984683191723)]}"
     },
     "execution_count": 208,
     "metadata": {},
     "output_type": "execute_result"
    }
   ],
   "source": [
    "df.iloc[13].Info"
   ],
   "metadata": {
    "collapsed": false,
    "ExecuteTime": {
     "start_time": "2023-06-09T13:27:45.433537Z",
     "end_time": "2023-06-09T13:27:45.465333Z"
    }
   }
  },
  {
   "cell_type": "code",
   "execution_count": 145,
   "outputs": [
    {
     "data": {
      "text/plain": "<module 'benji_girgs.generation' from '../benji_girgs/generation.py'>"
     },
     "execution_count": 145,
     "metadata": {},
     "output_type": "execute_result"
    }
   ],
   "source": [
    "import importlib\n",
    "importlib.reload(generation)"
   ],
   "metadata": {
    "collapsed": false,
    "ExecuteTime": {
     "start_time": "2023-06-09T11:37:27.209811Z",
     "end_time": "2023-06-09T11:37:27.267823Z"
    }
   }
  },
  {
   "cell_type": "code",
   "execution_count": 209,
   "outputs": [
    {
     "data": {
      "text/plain": "'/cluster/scratch/bdayan/GIRG_data/socfb-Haverford76.SpaceOne'"
     },
     "execution_count": 209,
     "metadata": {},
     "output_type": "execute_result"
    },
    {
     "name": "stdout",
     "output_type": "stream",
     "text": [
      "Network Properties:\n",
      "nodes, edges\t\t\t1446, 59589\n",
      "directed?\t\t\tFalse\n",
      "weighted?\t\t\tFalse\n",
      "isolated nodes\t\t\t0\n",
      "self-loops\t\t\t0\n",
      "density\t\t\t\t0.057037\n",
      "clustering coefficient\t\t0.322958\n",
      "min/max/avg degree\t\t1, 375, 82.419087\n",
      "degree assortativity\t\t0.068390\n",
      "number of connected components\t1\n",
      "size of largest component\t1446 (100.00 %)\n"
     ]
    }
   ],
   "source": [
    "gd = list(filter(lambda x: x['Name'] == 'socfb-Haverford76', do_feature_extract.graph_dicts))[0]\n",
    "in_path = gd['FullPath']\n",
    "in_path\n",
    "name = gd['Name']\n",
    "g = networkit.readGraph(in_path, networkit.Format.EdgeListSpaceOne)\n",
    "g = utils.get_largest_component(g)\n",
    "nk.overview(g)\n",
    "\n",
    "\n",
    "n = g.numberOfNodes()\n",
    "\n",
    "alpha=1.025\n",
    "d=2\n",
    "k=20"
   ],
   "metadata": {
    "collapsed": false,
    "ExecuteTime": {
     "start_time": "2023-06-09T13:27:57.511435Z",
     "end_time": "2023-06-09T13:27:57.606153Z"
    }
   }
  },
  {
   "cell_type": "code",
   "execution_count": 216,
   "outputs": [
    {
     "name": "stdout",
     "output_type": "stream",
     "text": [
      "0\n",
      "1\n",
      "2\n",
      "3\n",
      "4\n",
      "[21, 25, 29, 22, 27]\n",
      "24.8\n",
      "0\n",
      "1\n",
      "2\n",
      "3\n",
      "4\n",
      "[21, 25, 29, 22, 27, 21, 18, 25, 25, 23]\n",
      "23.6\n"
     ]
    }
   ],
   "source": [
    "# n = 2500\n",
    "d=2\n",
    "tau=2.1\n",
    "alpha=1.2\n",
    "# desiredAvgDegree=10.0\n",
    "e=1.0\n",
    "k = 10\n",
    "\n",
    "top_k_edges = []\n",
    "degrees = utils.graph_degrees_to_weights(g)\n",
    "\n",
    "for _ in range(5):\n",
    "    print(_)\n",
    "    g_girg, edges, weights, pts, const = generation.generate_GIRG_nk(n, d, tau, alpha, weights = degrees, points_type=points.PointsTorus2, e=e, desiredAvgDegree=82.4)\n",
    "\n",
    "    g2 = utils.get_top_k_clique(g_girg, k)\n",
    "    top_k_edges.append(g2.numberOfEdges())\n",
    "\n",
    "print(top_k_edges)\n",
    "print(np.mean(top_k_edges))\n",
    "\n",
    "e = 0.5\n",
    "\n",
    "for _ in range(5):\n",
    "    print(_)\n",
    "    g_girg, edges, weights, pts, const = generation.generate_GIRG_nk(n, d, tau, alpha, weights = degrees, points_type=points.PointsTorus2, e=e, desiredAvgDegree=82.4 * (1/e))\n",
    "\n",
    "    g2 = utils.get_top_k_clique(g_girg, k)\n",
    "    top_k_edges.append(g2.numberOfEdges())\n",
    "\n",
    "print(top_k_edges)\n",
    "print(np.mean(top_k_edges))\n",
    "\n"
   ],
   "metadata": {
    "collapsed": false,
    "ExecuteTime": {
     "start_time": "2023-06-09T13:31:14.097663Z",
     "end_time": "2023-06-09T13:31:18.761624Z"
    }
   }
  },
  {
   "cell_type": "code",
   "execution_count": 211,
   "outputs": [
    {
     "name": "stdout",
     "output_type": "stream",
     "text": [
      "Network Properties:\n",
      "nodes, edges\t\t\t1446, 63555\n",
      "directed?\t\t\tFalse\n",
      "weighted?\t\t\tFalse\n",
      "isolated nodes\t\t\t5\n",
      "self-loops\t\t\t0\n",
      "density\t\t\t\t0.060834\n",
      "clustering coefficient\t\t0.201152\n",
      "min/max/avg degree\t\t0, 296, 87.904564\n",
      "degree assortativity\t\t-0.023502\n",
      "number of connected components\t6\n",
      "size of largest component\t1441 (99.65 %)\n"
     ]
    }
   ],
   "source": [
    "nk.overview(g_girg)"
   ],
   "metadata": {
    "collapsed": false,
    "ExecuteTime": {
     "start_time": "2023-06-09T13:29:01.627018Z",
     "end_time": "2023-06-09T13:29:01.673810Z"
    }
   }
  },
  {
   "cell_type": "code",
   "execution_count": 207,
   "outputs": [
    {
     "name": "stdout",
     "output_type": "stream",
     "text": [
      "Network Properties:\n",
      "nodes, edges\t\t\t3440, 151739\n",
      "directed?\t\t\tFalse\n",
      "weighted?\t\t\tFalse\n",
      "isolated nodes\t\t\t29\n",
      "self-loops\t\t\t0\n",
      "density\t\t\t\t0.025653\n",
      "clustering coefficient\t\t0.175749\n",
      "min/max/avg degree\t\t0, 458, 88.220349\n",
      "degree assortativity\t\t-0.024257\n",
      "number of connected components\t30\n",
      "size of largest component\t3411 (99.16 %)\n"
     ]
    }
   ],
   "source": [
    "g_girg, edges, weights, pts, const = generation.generate_GIRG_nk(n, d, tau, alpha, weights = degrees, desiredAvgDegree=88.3  * 2 , points_type=points.PointsTorus2, e=0.5)\n",
    "nk.overview(g_girg)"
   ],
   "metadata": {
    "collapsed": false,
    "ExecuteTime": {
     "start_time": "2023-06-09T13:26:57.828724Z",
     "end_time": "2023-06-09T13:27:00.408763Z"
    }
   }
  },
  {
   "cell_type": "code",
   "execution_count": 200,
   "outputs": [
    {
     "name": "stdout",
     "output_type": "stream",
     "text": [
      "Network Properties:\n",
      "nodes, edges\t\t\t3440, 151936\n",
      "directed?\t\t\tFalse\n",
      "weighted?\t\t\tFalse\n",
      "isolated nodes\t\t\t35\n",
      "self-loops\t\t\t0\n",
      "density\t\t\t\t0.025686\n",
      "clustering coefficient\t\t0.304460\n",
      "min/max/avg degree\t\t0, 533, 88.334884\n",
      "degree assortativity\t\t-0.014070\n",
      "number of connected components\t36\n",
      "size of largest component\t3405 (98.98 %)\n"
     ]
    }
   ],
   "source": [
    "nk.overview(g_girg)"
   ],
   "metadata": {
    "collapsed": false,
    "ExecuteTime": {
     "start_time": "2023-06-09T13:25:11.736003Z",
     "end_time": "2023-06-09T13:25:11.767504Z"
    }
   }
  },
  {
   "cell_type": "code",
   "execution_count": 212,
   "outputs": [],
   "source": [
    "g2 = utils.get_top_k_clique(g, k)"
   ],
   "metadata": {
    "collapsed": false,
    "ExecuteTime": {
     "start_time": "2023-06-09T13:29:26.906536Z",
     "end_time": "2023-06-09T13:29:26.945925Z"
    }
   }
  },
  {
   "cell_type": "code",
   "execution_count": 213,
   "outputs": [
    {
     "name": "stdout",
     "output_type": "stream",
     "text": [
      "Network Properties:\n",
      "nodes, edges\t\t\t10, 26\n",
      "directed?\t\t\tFalse\n",
      "weighted?\t\t\tFalse\n",
      "isolated nodes\t\t\t0\n",
      "self-loops\t\t\t0\n",
      "density\t\t\t\t0.577778\n",
      "clustering coefficient\t\t0.723810\n",
      "min/max/avg degree\t\t2, 8, 5.200000\n",
      "degree assortativity\t\t-0.120406\n",
      "number of connected components\t1\n",
      "size of largest component\t10 (100.00 %)\n"
     ]
    }
   ],
   "source": [
    "nk.overview(g2)"
   ],
   "metadata": {
    "collapsed": false,
    "ExecuteTime": {
     "start_time": "2023-06-09T13:29:27.315665Z",
     "end_time": "2023-06-09T13:29:27.355949Z"
    }
   }
  },
  {
   "cell_type": "code",
   "execution_count": 179,
   "outputs": [
    {
     "data": {
      "text/plain": "{'Group': 'socfb',\n 'FullPath': '/cluster/scratch/bdayan/GIRG_data/socfb-Northwestern25.SpaceOne',\n 'Name': 'socfb-Northwestern25'}"
     },
     "execution_count": 179,
     "metadata": {},
     "output_type": "execute_result"
    }
   ],
   "source": [
    "np.random.choice(do_feature_extract.graph_dicts)"
   ],
   "metadata": {
    "collapsed": false,
    "ExecuteTime": {
     "start_time": "2023-06-09T11:47:10.859032Z",
     "end_time": "2023-06-09T11:47:10.883775Z"
    }
   }
  },
  {
   "cell_type": "code",
   "execution_count": 215,
   "outputs": [
    {
     "data": {
      "text/plain": "82.41908713692946"
     },
     "execution_count": 215,
     "metadata": {},
     "output_type": "execute_result"
    }
   ],
   "source": [
    "utils.avg_degree(g)"
   ],
   "metadata": {
    "collapsed": false,
    "ExecuteTime": {
     "start_time": "2023-06-09T13:31:01.309790Z",
     "end_time": "2023-06-09T13:31:01.351551Z"
    }
   }
  },
  {
   "cell_type": "code",
   "execution_count": 214,
   "outputs": [
    {
     "name": "stdout",
     "output_type": "stream",
     "text": [
      "socfb-Haverford76\n",
      "Network Properties:\n",
      "nodes, edges\t\t\t1446, 59589\n",
      "directed?\t\t\tFalse\n",
      "weighted?\t\t\tFalse\n",
      "isolated nodes\t\t\t0\n",
      "self-loops\t\t\t0\n",
      "density\t\t\t\t0.057037\n",
      "clustering coefficient\t\t0.322958\n",
      "min/max/avg degree\t\t1, 375, 82.419087\n",
      "degree assortativity\t\t0.068390\n",
      "number of connected components\t1\n",
      "size of largest component\t1446 (100.00 %)\n",
      "top 10 in real graph number edges: 26\n",
      "MC sampled in GIRGs avg number edges: 21.1\n",
      "\n",
      "socfb-Haverford76\n",
      "Network Properties:\n",
      "nodes, edges\t\t\t1446, 59589\n",
      "directed?\t\t\tFalse\n",
      "weighted?\t\t\tFalse\n",
      "isolated nodes\t\t\t0\n",
      "self-loops\t\t\t0\n",
      "density\t\t\t\t0.057037\n",
      "clustering coefficient\t\t0.322958\n",
      "min/max/avg degree\t\t1, 375, 82.419087\n",
      "degree assortativity\t\t0.068390\n",
      "number of connected components\t1\n",
      "size of largest component\t1446 (100.00 %)\n",
      "top 10 in real graph number edges: 26\n",
      "MC sampled in GIRGs avg number edges: 21.1\n",
      "\n",
      "socfb-Haverford76\n",
      "Network Properties:\n",
      "nodes, edges\t\t\t1446, 59589\n",
      "directed?\t\t\tFalse\n",
      "weighted?\t\t\tFalse\n",
      "isolated nodes\t\t\t0\n",
      "self-loops\t\t\t0\n",
      "density\t\t\t\t0.057037\n",
      "clustering coefficient\t\t0.322958\n",
      "min/max/avg degree\t\t1, 375, 82.419087\n",
      "degree assortativity\t\t0.068390\n",
      "number of connected components\t1\n",
      "size of largest component\t1446 (100.00 %)\n",
      "top 10 in real graph number edges: 26\n",
      "MC sampled in GIRGs avg number edges: 22.4\n",
      "\n",
      "socfb-Haverford76\n",
      "Network Properties:\n",
      "nodes, edges\t\t\t1446, 59589\n",
      "directed?\t\t\tFalse\n",
      "weighted?\t\t\tFalse\n",
      "isolated nodes\t\t\t0\n",
      "self-loops\t\t\t0\n",
      "density\t\t\t\t0.057037\n",
      "clustering coefficient\t\t0.322958\n",
      "min/max/avg degree\t\t1, 375, 82.419087\n",
      "degree assortativity\t\t0.068390\n",
      "number of connected components\t1\n",
      "size of largest component\t1446 (100.00 %)\n",
      "top 10 in real graph number edges: 26\n",
      "MC sampled in GIRGs avg number edges: 21.3\n",
      "\n",
      "socfb-Haverford76\n",
      "Network Properties:\n",
      "nodes, edges\t\t\t1446, 59589\n",
      "directed?\t\t\tFalse\n",
      "weighted?\t\t\tFalse\n",
      "isolated nodes\t\t\t0\n",
      "self-loops\t\t\t0\n",
      "density\t\t\t\t0.057037\n",
      "clustering coefficient\t\t0.322958\n",
      "min/max/avg degree\t\t1, 375, 82.419087\n",
      "degree assortativity\t\t0.068390\n",
      "number of connected components\t1\n",
      "size of largest component\t1446 (100.00 %)\n",
      "top 10 in real graph number edges: 26\n",
      "MC sampled in GIRGs avg number edges: 21.3\n",
      "\n",
      "socfb-Haverford76\n",
      "Network Properties:\n",
      "nodes, edges\t\t\t1446, 59589\n",
      "directed?\t\t\tFalse\n",
      "weighted?\t\t\tFalse\n",
      "isolated nodes\t\t\t0\n",
      "self-loops\t\t\t0\n",
      "density\t\t\t\t0.057037\n",
      "clustering coefficient\t\t0.322958\n",
      "min/max/avg degree\t\t1, 375, 82.419087\n",
      "degree assortativity\t\t0.068390\n",
      "number of connected components\t1\n",
      "size of largest component\t1446 (100.00 %)\n",
      "top 10 in real graph number edges: 26\n",
      "MC sampled in GIRGs avg number edges: 21.2\n",
      "\n",
      "socfb-Haverford76\n",
      "Network Properties:\n",
      "nodes, edges\t\t\t1446, 59589\n",
      "directed?\t\t\tFalse\n",
      "weighted?\t\t\tFalse\n",
      "isolated nodes\t\t\t0\n",
      "self-loops\t\t\t0\n",
      "density\t\t\t\t0.057037\n",
      "clustering coefficient\t\t0.322958\n",
      "min/max/avg degree\t\t1, 375, 82.419087\n",
      "degree assortativity\t\t0.068390\n",
      "number of connected components\t1\n",
      "size of largest component\t1446 (100.00 %)\n",
      "top 10 in real graph number edges: 26\n",
      "MC sampled in GIRGs avg number edges: 21.7\n",
      "\n",
      "socfb-Haverford76\n",
      "Network Properties:\n",
      "nodes, edges\t\t\t1446, 59589\n",
      "directed?\t\t\tFalse\n",
      "weighted?\t\t\tFalse\n",
      "isolated nodes\t\t\t0\n",
      "self-loops\t\t\t0\n",
      "density\t\t\t\t0.057037\n",
      "clustering coefficient\t\t0.322958\n",
      "min/max/avg degree\t\t1, 375, 82.419087\n",
      "degree assortativity\t\t0.068390\n",
      "number of connected components\t1\n",
      "size of largest component\t1446 (100.00 %)\n",
      "top 10 in real graph number edges: 26\n",
      "MC sampled in GIRGs avg number edges: 21.4\n",
      "\n",
      "socfb-Haverford76\n",
      "Network Properties:\n",
      "nodes, edges\t\t\t1446, 59589\n",
      "directed?\t\t\tFalse\n",
      "weighted?\t\t\tFalse\n",
      "isolated nodes\t\t\t0\n",
      "self-loops\t\t\t0\n",
      "density\t\t\t\t0.057037\n",
      "clustering coefficient\t\t0.322958\n",
      "min/max/avg degree\t\t1, 375, 82.419087\n",
      "degree assortativity\t\t0.068390\n",
      "number of connected components\t1\n",
      "size of largest component\t1446 (100.00 %)\n",
      "top 10 in real graph number edges: 26\n",
      "MC sampled in GIRGs avg number edges: 21.4\n",
      "\n",
      "socfb-Haverford76\n",
      "Network Properties:\n",
      "nodes, edges\t\t\t1446, 59589\n",
      "directed?\t\t\tFalse\n",
      "weighted?\t\t\tFalse\n",
      "isolated nodes\t\t\t0\n",
      "self-loops\t\t\t0\n",
      "density\t\t\t\t0.057037\n",
      "clustering coefficient\t\t0.322958\n",
      "min/max/avg degree\t\t1, 375, 82.419087\n",
      "degree assortativity\t\t0.068390\n",
      "number of connected components\t1\n",
      "size of largest component\t1446 (100.00 %)\n",
      "top 10 in real graph number edges: 26\n",
      "MC sampled in GIRGs avg number edges: 21.2\n",
      "\n"
     ]
    }
   ],
   "source": [
    "for i in range(10):\n",
    "    # gd = np.random.choice(do_feature_extract.graph_dicts)\n",
    "    gd = list(filter(lambda x: x['Name'] == 'socfb-Haverford76', do_feature_extract.graph_dicts))[0]\n",
    "\n",
    "    in_path = gd['FullPath']\n",
    "    # in_path\n",
    "    name = gd['Name']\n",
    "    g = networkit.readGraph(in_path, networkit.Format.EdgeListSpaceOne)\n",
    "    g = utils.get_largest_component(g)\n",
    "\n",
    "\n",
    "    n = g.numberOfNodes()\n",
    "    if n > 10000:\n",
    "        continue\n",
    "\n",
    "\n",
    "    alpha=1.025\n",
    "    d=2\n",
    "    k=10\n",
    "\n",
    "    degrees = np.array(utils.graph_degrees_to_weights(g))\n",
    "    argsorted = np.argsort(degrees)\n",
    "    g_girg, _, _, _, girg_const= generation.generate_GIRG_nk(n, d, tau, alpha, weights=degrees, desiredAvgDegree=utils.avg_degree(g), points_type=points.PointsTorus2)\n",
    "\n",
    "    edges = []\n",
    "    for _ in range(10):\n",
    "        top_k_sample, _, _, _, _ = generation.generate_GIRG_nk(k, d, tau, alpha, weights = degrees[argsorted[-k:]], weights_sum=np.sum(degrees), const=girg_const, points_type=points.PointsCube)\n",
    "        edges.append(top_k_sample.numberOfEdges())\n",
    "\n",
    "    print(name)\n",
    "    nk.overview(g)\n",
    "    g2 = utils.get_top_k_clique(g, k=k)\n",
    "    print(f'top {k} in real graph number edges: {g2.numberOfEdges()}')\n",
    "    print(f'MC sampled in GIRGs avg number edges: {np.mean(edges)}')\n",
    "    print()\n"
   ],
   "metadata": {
    "collapsed": false,
    "ExecuteTime": {
     "start_time": "2023-06-09T13:30:32.966048Z",
     "end_time": "2023-06-09T13:30:38.115801Z"
    }
   }
  },
  {
   "cell_type": "code",
   "execution_count": 218,
   "outputs": [
    {
     "name": "stdout",
     "output_type": "stream",
     "text": [
      "socfb-Vassar85\n",
      "3068\n",
      "top 10 in real graph number edges: 29\n",
      "MC sampled in GIRGs avg number edges: 14.8\n",
      "\n",
      "socfb-WashU32\n",
      "7730\n",
      "top 10 in real graph number edges: 19\n",
      "MC sampled in GIRGs avg number edges: 16.7\n",
      "\n",
      "socfb-Villanova62\n",
      "7755\n",
      "top 10 in real graph number edges: 31\n",
      "MC sampled in GIRGs avg number edges: 16.4\n",
      "\n",
      "socfb-Wesleyan43\n",
      "3591\n",
      "top 10 in real graph number edges: 15\n",
      "MC sampled in GIRGs avg number edges: 13.6\n",
      "\n",
      "socfb-Swarthmore42\n",
      "1657\n",
      "top 10 in real graph number edges: 40\n",
      "MC sampled in GIRGs avg number edges: 25.1\n",
      "\n",
      "socfb-Duke14\n",
      "9885\n",
      "top 10 in real graph number edges: 16\n",
      "MC sampled in GIRGs avg number edges: 12.1\n",
      "\n",
      "socfb-Santa74\n",
      "3578\n",
      "top 10 in real graph number edges: 25\n",
      "MC sampled in GIRGs avg number edges: 17.0\n",
      "\n"
     ]
    }
   ],
   "source": [
    "for i in range(10):\n",
    "    gd = np.random.choice(do_feature_extract.graph_dicts)\n",
    "    # gd = list(filter(lambda x: x['Name'] == 'socfb-Haverford76', do_feature_extract.graph_dicts))[0]\n",
    "\n",
    "    in_path = gd['FullPath']\n",
    "    # in_path\n",
    "    name = gd['Name']\n",
    "    g = networkit.readGraph(in_path, networkit.Format.EdgeListSpaceOne)\n",
    "    g = utils.get_largest_component(g)\n",
    "\n",
    "\n",
    "    n = g.numberOfNodes()\n",
    "    if n > 10000:\n",
    "        continue\n",
    "\n",
    "\n",
    "    alpha=1.025\n",
    "    d=2\n",
    "    k=10\n",
    "\n",
    "    degrees = np.array(utils.graph_degrees_to_weights(g))\n",
    "    argsorted = np.argsort(degrees)\n",
    "    g_girg, _, _, _, girg_const= generation.generate_GIRG_nk(n, d, tau, alpha, weights=degrees, desiredAvgDegree=utils.avg_degree(g), points_type=points.PointsTorus2)\n",
    "\n",
    "    edges = []\n",
    "    for _ in range(10):\n",
    "        top_k_sample, _, _, _, _ = generation.generate_GIRG_nk(k, d, tau, alpha, weights = degrees[argsorted[-k:]], weights_sum=np.sum(degrees), const=girg_const, points_type=points.PointsCube)\n",
    "        edges.append(top_k_sample.numberOfEdges())\n",
    "\n",
    "    print(name)\n",
    "    # nk.overview(g)\n",
    "    print(g.numberOfNodes())\n",
    "    g2 = utils.get_top_k_clique(g, k=k)\n",
    "    print(f'top {k} in real graph number edges: {g2.numberOfEdges()}')\n",
    "    print(f'MC sampled in GIRGs avg number edges: {np.mean(edges)}')\n",
    "    print()\n"
   ],
   "metadata": {
    "collapsed": false,
    "ExecuteTime": {
     "start_time": "2023-06-09T13:42:50.116754Z",
     "end_time": "2023-06-09T13:43:47.695146Z"
    }
   }
  },
  {
   "cell_type": "code",
   "execution_count": 180,
   "outputs": [
    {
     "data": {
      "text/plain": "88.37383720930232"
     },
     "execution_count": 180,
     "metadata": {},
     "output_type": "execute_result"
    }
   ],
   "source": [
    "utils.avg_degree(g)"
   ],
   "metadata": {
    "collapsed": false,
    "ExecuteTime": {
     "start_time": "2023-06-09T11:47:41.957084Z",
     "end_time": "2023-06-09T11:47:41.997733Z"
    }
   }
  },
  {
   "cell_type": "code",
   "execution_count": 168,
   "outputs": [
    {
     "name": "stdout",
     "output_type": "stream",
     "text": [
      "Network Properties:\n",
      "nodes, edges\t\t\t20, 99\n",
      "directed?\t\t\tFalse\n",
      "weighted?\t\t\tFalse\n",
      "isolated nodes\t\t\t0\n",
      "self-loops\t\t\t0\n",
      "density\t\t\t\t0.521053\n",
      "clustering coefficient\t\t0.637484\n",
      "min/max/avg degree\t\t2, 16, 9.900000\n",
      "degree assortativity\t\t0.193241\n",
      "number of connected components\t1\n",
      "size of largest component\t20 (100.00 %)\n"
     ]
    }
   ],
   "source": [
    "g2 = utils.get_top_k_clique(g, k=k)\n",
    "nk.overview(g2)"
   ],
   "metadata": {
    "collapsed": false,
    "ExecuteTime": {
     "start_time": "2023-06-09T11:44:40.156364Z",
     "end_time": "2023-06-09T11:44:40.170006Z"
    }
   }
  },
  {
   "cell_type": "code",
   "execution_count": 169,
   "outputs": [
    {
     "name": "stdout",
     "output_type": "stream",
     "text": [
      "Network Properties:\n",
      "nodes, edges\t\t\t3440, 152003\n",
      "directed?\t\t\tFalse\n",
      "weighted?\t\t\tFalse\n",
      "isolated nodes\t\t\t0\n",
      "self-loops\t\t\t0\n",
      "density\t\t\t\t0.025698\n",
      "clustering coefficient\t\t0.276976\n",
      "min/max/avg degree\t\t1, 674, 88.373837\n",
      "degree assortativity\t\t0.055527\n",
      "number of connected components\t1\n",
      "size of largest component\t3440 (100.00 %)\n"
     ]
    }
   ],
   "source": [
    "nk.overview(g)"
   ],
   "metadata": {
    "collapsed": false,
    "ExecuteTime": {
     "start_time": "2023-06-09T11:44:45.699500Z",
     "end_time": "2023-06-09T11:44:45.734154Z"
    }
   }
  },
  {
   "cell_type": "code",
   "execution_count": 172,
   "outputs": [],
   "source": [
    "degrees = np.array(utils.graph_degrees_to_weights(g))\n",
    "argsorted = np.argsort(degrees)\n",
    "g_girg, _, _, _, girg_const= generation.generate_GIRG_nk(n, d, tau, alpha, weights=degrees, desiredAvgDegree=110, points_type=points.PointsCube)"
   ],
   "metadata": {
    "collapsed": false,
    "ExecuteTime": {
     "start_time": "2023-06-09T11:44:58.793639Z",
     "end_time": "2023-06-09T11:45:01.910322Z"
    }
   }
  },
  {
   "cell_type": "code",
   "execution_count": 173,
   "outputs": [
    {
     "name": "stdout",
     "output_type": "stream",
     "text": [
      "Network Properties:\n",
      "nodes, edges\t\t\t3440, 154245\n",
      "directed?\t\t\tFalse\n",
      "weighted?\t\t\tFalse\n",
      "isolated nodes\t\t\t9\n",
      "self-loops\t\t\t0\n",
      "density\t\t\t\t0.026077\n",
      "clustering coefficient\t\t0.281703\n",
      "min/max/avg degree\t\t0, 404, 89.677326\n",
      "degree assortativity\t\t0.024095\n",
      "number of connected components\t10\n",
      "size of largest component\t3431 (99.74 %)\n"
     ]
    }
   ],
   "source": [
    "nk.overview(g_girg)"
   ],
   "metadata": {
    "collapsed": false,
    "ExecuteTime": {
     "start_time": "2023-06-09T11:45:01.910194Z",
     "end_time": "2023-06-09T11:45:01.910974Z"
    }
   }
  },
  {
   "cell_type": "code",
   "execution_count": 174,
   "outputs": [
    {
     "name": "stdout",
     "output_type": "stream",
     "text": [
      "Network Properties:\n",
      "nodes, edges\t\t\t20, 79\n",
      "directed?\t\t\tFalse\n",
      "weighted?\t\t\tFalse\n",
      "isolated nodes\t\t\t0\n",
      "self-loops\t\t\t0\n",
      "density\t\t\t\t0.415789\n",
      "clustering coefficient\t\t0.579163\n",
      "min/max/avg degree\t\t3, 11, 7.900000\n",
      "degree assortativity\t\t0.153568\n",
      "number of connected components\t1\n",
      "size of largest component\t20 (100.00 %)\n"
     ]
    }
   ],
   "source": [
    "g_girg_k = utils.get_top_k_clique(g_girg, k)\n",
    "nk.overview(g_girg_k)"
   ],
   "metadata": {
    "collapsed": false,
    "ExecuteTime": {
     "start_time": "2023-06-09T11:45:06.423478Z",
     "end_time": "2023-06-09T11:45:06.462229Z"
    }
   }
  },
  {
   "cell_type": "code",
   "execution_count": 176,
   "outputs": [],
   "source": [
    "edges = []\n",
    "for _ in range(10):\n",
    "    top_k_sample, _, _, _, _ = generation.generate_GIRG_nk(k, d, tau, alpha, weights = degrees[argsorted[-k:]], weights_sum=np.sum(degrees), const=girg_const, points_type=points.PointsCube)\n",
    "    edges.append(top_k_sample.numberOfEdges())"
   ],
   "metadata": {
    "collapsed": false,
    "ExecuteTime": {
     "start_time": "2023-06-09T11:45:21.365763Z",
     "end_time": "2023-06-09T11:45:21.392848Z"
    }
   }
  },
  {
   "cell_type": "code",
   "execution_count": 178,
   "outputs": [
    {
     "name": "stdout",
     "output_type": "stream",
     "text": [
      "[90, 81, 82, 81, 96, 87, 76, 88, 77, 90]\n",
      "84.8\n"
     ]
    }
   ],
   "source": [
    "print(edges)\n",
    "print(np.mean(edges))"
   ],
   "metadata": {
    "collapsed": false,
    "ExecuteTime": {
     "start_time": "2023-06-09T11:45:53.068127Z",
     "end_time": "2023-06-09T11:45:53.227803Z"
    }
   }
  },
  {
   "cell_type": "code",
   "execution_count": 127,
   "outputs": [
    {
     "name": "stdout",
     "output_type": "stream",
     "text": [
      "Network Properties:\n",
      "nodes, edges\t\t\t10, 45\n",
      "directed?\t\t\tFalse\n",
      "weighted?\t\t\tFalse\n",
      "isolated nodes\t\t\t0\n",
      "self-loops\t\t\t0\n",
      "density\t\t\t\t1.000000\n",
      "clustering coefficient\t\t1.000000\n",
      "min/max/avg degree\t\t9, 9, 9.000000\n",
      "degree assortativity\t\tnan\n",
      "number of connected components\t1\n",
      "size of largest component\t10 (100.00 %)\n"
     ]
    }
   ],
   "source": [
    "nk.overview(top_k_sample)"
   ],
   "metadata": {
    "collapsed": false,
    "ExecuteTime": {
     "start_time": "2023-06-09T11:33:31.837700Z",
     "end_time": "2023-06-09T11:33:31.851902Z"
    }
   }
  },
  {
   "cell_type": "code",
   "execution_count": null,
   "outputs": [],
   "source": [],
   "metadata": {
    "collapsed": false
   }
  },
  {
   "cell_type": "code",
   "execution_count": 121,
   "outputs": [
    {
     "data": {
      "text/plain": "array([331., 335., 338., 346., 352., 361., 371., 456., 467., 467.])"
     },
     "execution_count": 121,
     "metadata": {},
     "output_type": "execute_result"
    }
   ],
   "source": [
    "degrees[argsorted[-10:]]"
   ],
   "metadata": {
    "collapsed": false,
    "ExecuteTime": {
     "start_time": "2023-06-09T11:32:57.011933Z",
     "end_time": "2023-06-09T11:32:57.075577Z"
    }
   }
  },
  {
   "cell_type": "code",
   "execution_count": null,
   "outputs": [],
   "source": [],
   "metadata": {
    "collapsed": false
   }
  },
  {
   "cell_type": "code",
   "execution_count": null,
   "outputs": [],
   "source": [
    "n = g.numberOfNodes()\n",
    "alpha = 1.5\n",
    "c = 0.2\n"
   ],
   "metadata": {
    "collapsed": false
   }
  },
  {
   "cell_type": "code",
   "execution_count": null,
   "outputs": [],
   "source": [],
   "metadata": {
    "collapsed": false
   }
  },
  {
   "cell_type": "code",
   "execution_count": null,
   "outputs": [],
   "source": [],
   "metadata": {
    "collapsed": false
   }
  },
  {
   "cell_type": "code",
   "execution_count": 12,
   "outputs": [],
   "source": [
    "ws = utils.graph_degrees_to_weights(g)\n",
    "sorted_ws = sorted(ws)\n",
    "tot = np.sum(ws)"
   ],
   "metadata": {
    "collapsed": false,
    "ExecuteTime": {
     "start_time": "2023-06-08T12:53:16.594189Z",
     "end_time": "2023-06-08T12:53:16.605006Z"
    }
   }
  },
  {
   "cell_type": "code",
   "execution_count": 14,
   "outputs": [
    {
     "name": "stdout",
     "output_type": "stream",
     "text": [
      "2\n",
      "467.0 467.0\n",
      "1.198897244761088\n",
      "3\n",
      "456.0 467.0\n",
      "1.1706576950986214\n",
      "4\n",
      "371.0 456.0\n",
      "0.9300085757635728\n",
      "5\n",
      "361.0 371.0\n",
      "0.7362567891461618\n",
      "6\n",
      "352.0 361.0\n",
      "0.6985509158475713\n",
      "7\n",
      "346.0 352.0\n",
      "0.669525254524265\n",
      "8\n",
      "338.0 346.0\n",
      "0.6428964091738681\n",
      "9\n",
      "335.0 338.0\n",
      "0.62245750599204\n",
      "10\n",
      "331.0 335.0\n",
      "0.6095663742111397\n",
      "11\n",
      "325.0 331.0\n",
      "0.5913703630406579\n",
      "12\n",
      "322.0 325.0\n",
      "0.5752908063416672\n",
      "13\n",
      "320.0 322.0\n",
      "0.5664401785517954\n",
      "14\n",
      "313.0 320.0\n",
      "0.5506079996481738\n",
      "15\n",
      "312.0 313.0\n",
      "0.5368427996569695\n",
      "16\n",
      "312.0 312.0\n",
      "0.5351276469424104\n",
      "17\n",
      "311.0 312.0\n",
      "0.5334124942278514\n",
      "18\n",
      "310.0 311.0\n",
      "0.5299931833674165\n",
      "19\n",
      "305.0 310.0\n",
      "0.5197682344921609\n"
     ]
    }
   ],
   "source": [
    "for k in range(2, 20):\n",
    "    a, b = sorted_ws[-k], sorted_ws[-k + 1]\n",
    "    print(k)\n",
    "    print(a, b)\n",
    "    print(a*b/tot)"
   ],
   "metadata": {
    "collapsed": false,
    "ExecuteTime": {
     "start_time": "2023-06-08T12:53:28.557598Z",
     "end_time": "2023-06-08T12:53:28.565697Z"
    }
   }
  },
  {
   "cell_type": "code",
   "execution_count": 16,
   "outputs": [],
   "source": [
    "outs = utils.empirical_graph_top_k(g)"
   ],
   "metadata": {
    "collapsed": false,
    "ExecuteTime": {
     "start_time": "2023-06-08T12:55:56.646875Z",
     "end_time": "2023-06-08T12:55:56.674851Z"
    }
   }
  },
  {
   "cell_type": "code",
   "execution_count": 17,
   "outputs": [
    {
     "data": {
      "text/plain": "[(2, 467.0, 467.0, 1.198897244761088),\n (3, 456.0, 467.0, 1.1706576950986214),\n (4, 371.0, 456.0, 0.9300085757635728),\n (5, 361.0, 371.0, 0.7362567891461618),\n (6, 352.0, 361.0, 0.6985509158475713),\n (7, 346.0, 352.0, 0.669525254524265),\n (8, 338.0, 346.0, 0.6428964091738681),\n (9, 335.0, 338.0, 0.62245750599204),\n (10, 331.0, 335.0, 0.6095663742111397),\n (11, 325.0, 331.0, 0.5913703630406579),\n (12, 322.0, 325.0, 0.5752908063416672),\n (13, 320.0, 322.0, 0.5664401785517954),\n (14, 313.0, 320.0, 0.5506079996481738),\n (15, 312.0, 313.0, 0.5368427996569695),\n (16, 312.0, 312.0, 0.5351276469424104),\n (17, 311.0, 312.0, 0.5334124942278514),\n (18, 310.0, 311.0, 0.5299931833674165),\n (19, 305.0, 310.0, 0.5197682344921609)]"
     },
     "execution_count": 17,
     "metadata": {},
     "output_type": "execute_result"
    }
   ],
   "source": [
    "outs"
   ],
   "metadata": {
    "collapsed": false,
    "ExecuteTime": {
     "start_time": "2023-06-08T12:55:57.551156Z",
     "end_time": "2023-06-08T12:55:57.558452Z"
    }
   }
  },
  {
   "cell_type": "code",
   "execution_count": 26,
   "outputs": [
    {
     "data": {
      "text/plain": "'/cluster/scratch/bdayan/GIRG_data/socfb-Penn94.SpaceOne'"
     },
     "execution_count": 26,
     "metadata": {},
     "output_type": "execute_result"
    },
    {
     "name": "stdout",
     "output_type": "stream",
     "text": [
      "Network Properties:\n",
      "nodes, edges\t\t\t41536, 1362220\n",
      "directed?\t\t\tFalse\n",
      "weighted?\t\t\tFalse\n",
      "isolated nodes\t\t\t0\n",
      "self-loops\t\t\t0\n",
      "density\t\t\t\t0.001579\n",
      "clustering coefficient\t\t0.211836\n",
      "min/max/avg degree\t\t1, 4410, 65.592257\n",
      "degree assortativity\t\t-0.001198\n",
      "number of connected components\t1\n",
      "size of largest component\t41536 (100.00 %)\n"
     ]
    },
    {
     "data": {
      "text/plain": "'/cluster/scratch/bdayan/GIRG_data/socfb-Texas84.SpaceOne'"
     },
     "execution_count": 26,
     "metadata": {},
     "output_type": "execute_result"
    },
    {
     "name": "stdout",
     "output_type": "stream",
     "text": [
      "Network Properties:\n",
      "nodes, edges\t\t\t36364, 1590651\n",
      "directed?\t\t\tFalse\n",
      "weighted?\t\t\tFalse\n",
      "isolated nodes\t\t\t0\n",
      "self-loops\t\t\t0\n",
      "density\t\t\t\t0.002406\n",
      "clustering coefficient\t\t0.193727\n",
      "min/max/avg degree\t\t1, 6312, 87.484930\n",
      "degree assortativity\t\t-0.001452\n",
      "number of connected components\t1\n",
      "size of largest component\t36364 (100.00 %)\n"
     ]
    },
    {
     "data": {
      "text/plain": "'/cluster/scratch/bdayan/GIRG_data/socfb-UF21.SpaceOne'"
     },
     "execution_count": 26,
     "metadata": {},
     "output_type": "execute_result"
    },
    {
     "name": "stdout",
     "output_type": "stream",
     "text": [
      "Network Properties:\n",
      "nodes, edges\t\t\t35111, 1465654\n",
      "directed?\t\t\tFalse\n",
      "weighted?\t\t\tFalse\n",
      "isolated nodes\t\t\t0\n",
      "self-loops\t\t\t0\n",
      "density\t\t\t\t0.002378\n",
      "clustering coefficient\t\t0.221154\n",
      "min/max/avg degree\t\t1, 8246, 83.486884\n",
      "degree assortativity\t\t-0.009827\n",
      "number of connected components\t1\n",
      "size of largest component\t35111 (100.00 %)\n"
     ]
    },
    {
     "data": {
      "text/plain": "'/cluster/scratch/bdayan/GIRG_data/socfb-UF.SpaceOne'"
     },
     "execution_count": 26,
     "metadata": {},
     "output_type": "execute_result"
    },
    {
     "name": "stdout",
     "output_type": "stream",
     "text": [
      "Network Properties:\n",
      "nodes, edges\t\t\t35111, 1465654\n",
      "directed?\t\t\tFalse\n",
      "weighted?\t\t\tFalse\n",
      "isolated nodes\t\t\t0\n",
      "self-loops\t\t\t0\n",
      "density\t\t\t\t0.002378\n",
      "clustering coefficient\t\t0.221154\n",
      "min/max/avg degree\t\t1, 8246, 83.486884\n",
      "degree assortativity\t\t-0.009827\n",
      "number of connected components\t1\n",
      "size of largest component\t35111 (100.00 %)\n"
     ]
    },
    {
     "data": {
      "text/plain": "'/cluster/scratch/bdayan/GIRG_data/socfb-MSU24.SpaceOne'"
     },
     "execution_count": 26,
     "metadata": {},
     "output_type": "execute_result"
    },
    {
     "name": "stdout",
     "output_type": "stream",
     "text": [
      "Network Properties:\n",
      "nodes, edges\t\t\t32361, 1118767\n",
      "directed?\t\t\tFalse\n",
      "weighted?\t\t\tFalse\n",
      "isolated nodes\t\t\t0\n",
      "self-loops\t\t\t0\n",
      "density\t\t\t\t0.002137\n",
      "clustering coefficient\t\t0.204241\n",
      "min/max/avg degree\t\t1, 5267, 69.142919\n",
      "degree assortativity\t\t0.009708\n",
      "number of connected components\t1\n",
      "size of largest component\t32361 (100.00 %)\n"
     ]
    },
    {
     "data": {
      "text/plain": "'/cluster/scratch/bdayan/GIRG_data/socfb-Texas80.SpaceOne'"
     },
     "execution_count": 26,
     "metadata": {},
     "output_type": "execute_result"
    },
    {
     "name": "stdout",
     "output_type": "stream",
     "text": [
      "Network Properties:\n",
      "nodes, edges\t\t\t31538, 1219639\n",
      "directed?\t\t\tFalse\n",
      "weighted?\t\t\tFalse\n",
      "isolated nodes\t\t\t0\n",
      "self-loops\t\t\t0\n",
      "density\t\t\t\t0.002452\n",
      "clustering coefficient\t\t0.216780\n",
      "min/max/avg degree\t\t1, 1796, 77.344093\n",
      "degree assortativity\t\t0.164652\n",
      "number of connected components\t1\n",
      "size of largest component\t31538 (100.00 %)\n"
     ]
    },
    {
     "data": {
      "text/plain": "'/cluster/scratch/bdayan/GIRG_data/socfb-UIllinois20.SpaceOne'"
     },
     "execution_count": 26,
     "metadata": {},
     "output_type": "execute_result"
    },
    {
     "name": "stdout",
     "output_type": "stream",
     "text": [
      "Network Properties:\n",
      "nodes, edges\t\t\t30795, 1264421\n",
      "directed?\t\t\tFalse\n",
      "weighted?\t\t\tFalse\n",
      "isolated nodes\t\t\t0\n",
      "self-loops\t\t\t0\n",
      "density\t\t\t\t0.002667\n",
      "clustering coefficient\t\t0.214819\n",
      "min/max/avg degree\t\t1, 4632, 82.118591\n",
      "degree assortativity\t\t0.028971\n",
      "number of connected components\t1\n",
      "size of largest component\t30795 (100.00 %)\n"
     ]
    },
    {
     "data": {
      "text/plain": "'/cluster/scratch/bdayan/GIRG_data/socfb-UIllinois.SpaceOne'"
     },
     "execution_count": 26,
     "metadata": {},
     "output_type": "execute_result"
    },
    {
     "name": "stdout",
     "output_type": "stream",
     "text": [
      "Network Properties:\n",
      "nodes, edges\t\t\t30795, 1264421\n",
      "directed?\t\t\tFalse\n",
      "weighted?\t\t\tFalse\n",
      "isolated nodes\t\t\t0\n",
      "self-loops\t\t\t0\n",
      "density\t\t\t\t0.002667\n",
      "clustering coefficient\t\t0.214819\n",
      "min/max/avg degree\t\t1, 4632, 82.118591\n",
      "degree assortativity\t\t0.028971\n",
      "number of connected components\t1\n",
      "size of largest component\t30795 (100.00 %)\n"
     ]
    },
    {
     "data": {
      "text/plain": "'/cluster/scratch/bdayan/GIRG_data/socfb-Michigan23.SpaceOne'"
     },
     "execution_count": 26,
     "metadata": {},
     "output_type": "execute_result"
    },
    {
     "name": "stdout",
     "output_type": "stream",
     "text": [
      "Network Properties:\n",
      "nodes, edges\t\t\t30106, 1176489\n",
      "directed?\t\t\tFalse\n",
      "weighted?\t\t\tFalse\n",
      "isolated nodes\t\t\t0\n",
      "self-loops\t\t\t0\n",
      "density\t\t\t\t0.002596\n",
      "clustering coefficient\t\t0.209972\n",
      "min/max/avg degree\t\t1, 2031, 78.156447\n",
      "degree assortativity\t\t0.115535\n",
      "number of connected components\t1\n",
      "size of largest component\t30106 (100.00 %)\n"
     ]
    }
   ],
   "source": [
    "df_mini = df.loc[df.Model == '1d-copyweight-cube-girg'].sort_values('Nodes')\n",
    "\n",
    "outs = []\n",
    "for i in range(-1, -10, -1):\n",
    "    gd = list(filter(lambda x: x['Name'] == df_mini.iloc[i].Graph, do_feature_extract.graph_dicts))[0]\n",
    "    in_path = gd['FullPath']\n",
    "    in_path\n",
    "    name = gd['Name']\n",
    "    g = networkit.readGraph(in_path, networkit.Format.EdgeListSpaceOne)\n",
    "    g = utils.get_largest_component(g)\n",
    "    nk.overview(g)\n",
    "    n = g.numberOfNodes()\n",
    "    k_things = utils.empirical_graph_top_k(g)\n",
    "    outs.append((name, n, k_things))"
   ],
   "metadata": {
    "collapsed": false,
    "ExecuteTime": {
     "start_time": "2023-06-08T13:16:11.288610Z",
     "end_time": "2023-06-08T13:16:17.911541Z"
    }
   }
  },
  {
   "cell_type": "code",
   "execution_count": 27,
   "outputs": [
    {
     "data": {
      "text/plain": "('socfb-Michigan23',\n 30106,\n [(2, 1621.0, 2031.0, 1.399184777758228),\n  (3, 1492.0, 1621.0, 1.027860013990781),\n  (4, 1192.0, 1492.0, 0.7558353711764411),\n  (5, 1147.0, 1192.0, 0.5810611063936849),\n  (6, 1119.0, 1147.0, 0.5454759883007831),\n  (7, 1076.0, 1119.0, 0.5117106917276745),\n  (8, 917.0, 1076.0, 0.4193375373675402),\n  (9, 866.0, 917.0, 0.337496568178708),\n  (10, 842.0, 866.0, 0.30989325017063485),\n  (11, 825.0, 842.0, 0.2952216297814939),\n  (12, 825.0, 825.0, 0.2892610980638153),\n  (13, 820.0, 825.0, 0.2875080004997922),\n  (14, 774.0, 820.0, 0.2697347786507141),\n  (15, 730.0, 774.0, 0.24012974196953818),\n  (16, 708.0, 730.0, 0.2196535624217481),\n  (17, 706.0, 708.0, 0.2124320754380194),\n  (18, 704.0, 706.0, 0.21123189422085545),\n  (19, 688.0, 704.0, 0.20584637850417642)])"
     },
     "execution_count": 27,
     "metadata": {},
     "output_type": "execute_result"
    }
   ],
   "source": [
    "outs[-1]"
   ],
   "metadata": {
    "collapsed": false,
    "ExecuteTime": {
     "start_time": "2023-06-08T13:16:21.496650Z",
     "end_time": "2023-06-08T13:16:21.551829Z"
    }
   }
  },
  {
   "cell_type": "code",
   "execution_count": 28,
   "outputs": [
    {
     "data": {
      "text/plain": "('socfb-UIllinois',\n 30795,\n [(2, 1487.0, 4632.0, 2.723690922564557),\n  (3, 1446.0, 1487.0, 0.8502713890389356),\n  (4, 1088.0, 1446.0, 0.6221219040177283),\n  (5, 1083.0, 1088.0, 0.4659460733410786),\n  (6, 1007.0, 1083.0, 0.43125707339564906),\n  (7, 930.0, 1007.0, 0.37033155887161),\n  (8, 929.0, 930.0, 0.341646492742528),\n  (9, 869.0, 929.0, 0.31923742171317937),\n  (10, 851.0, 869.0, 0.29243384916890813),\n  (11, 841.0, 851.0, 0.28301135460420224),\n  (12, 833.0, 841.0, 0.2770252154938901),\n  (13, 772.0, 833.0, 0.25429663063172786),\n  (14, 766.0, 772.0, 0.23384300007671496),\n  (15, 686.0, 766.0, 0.20779313219252132),\n  (16, 685.0, 686.0, 0.18582022917999622),\n  (17, 630.0, 685.0, 0.17065123087958836),\n  (18, 612.0, 630.0, 0.15246504131139865),\n  (19, 610.0, 612.0, 0.14762488126976694)])"
     },
     "execution_count": 28,
     "metadata": {},
     "output_type": "execute_result"
    }
   ],
   "source": [
    "outs[-2]"
   ],
   "metadata": {
    "collapsed": false,
    "ExecuteTime": {
     "start_time": "2023-06-08T13:16:28.820226Z",
     "end_time": "2023-06-08T13:16:28.849534Z"
    }
   }
  },
  {
   "cell_type": "code",
   "execution_count": 21,
   "outputs": [
    {
     "data": {
      "text/plain": "('socfb-Wesleyan43',\n 3591,\n [(2, 397.0, 549.0, 0.789490270513062),\n  (3, 382.0, 397.0, 0.549335670921657),\n  (4, 371.0, 382.0, 0.5133590274859817),\n  (5, 364.0, 371.0, 0.4891693350913543),\n  (6, 362.0, 364.0, 0.47730269353927296),\n  (7, 335.0, 362.0, 0.4392758305924627),\n  (8, 332.0, 335.0, 0.40287175623397137),\n  (9, 327.0, 332.0, 0.3932509381746526),\n  (10, 326.0, 327.0, 0.38614399350884565),\n  (11, 316.0, 326.0, 0.37315444021038296),\n  (12, 315.0, 316.0, 0.3605633394670878),\n  (13, 311.0, 315.0, 0.3548582233362795),\n  (14, 302.0, 311.0, 0.34021328078589336),\n  (15, 298.0, 302.0, 0.3259921468623672),\n  (16, 294.0, 298.0, 0.31735659330309923),\n  (17, 291.0, 294.0, 0.30990190822550967),\n  (18, 283.0, 291.0, 0.29830693887013343),\n  (19, 282.0, 283.0, 0.28908095107002624)])"
     },
     "execution_count": 21,
     "metadata": {},
     "output_type": "execute_result"
    }
   ],
   "source": [
    "outs[-1]"
   ],
   "metadata": {
    "collapsed": false,
    "ExecuteTime": {
     "start_time": "2023-06-08T12:57:44.108911Z",
     "end_time": "2023-06-08T12:57:44.158415Z"
    }
   }
  },
  {
   "cell_type": "code",
   "execution_count": null,
   "outputs": [],
   "source": [],
   "metadata": {
    "collapsed": false
   }
  }
 ],
 "metadata": {
  "kernelspec": {
   "name": "girgenv_higherdims",
   "language": "python",
   "display_name": "girgenv_higherdims"
  },
  "language_info": {
   "codemirror_mode": {
    "name": "ipython",
    "version": 2
   },
   "file_extension": ".py",
   "mimetype": "text/x-python",
   "name": "python",
   "nbconvert_exporter": "python",
   "pygments_lexer": "ipython2",
   "version": "2.7.6"
  }
 },
 "nbformat": 4,
 "nbformat_minor": 0
}
