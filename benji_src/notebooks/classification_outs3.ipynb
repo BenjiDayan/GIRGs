{
 "cells": [
  {
   "cell_type": "code",
   "execution_count": 1,
   "metadata": {
    "collapsed": true,
    "ExecuteTime": {
     "start_time": "2023-08-25T14:37:55.785459Z",
     "end_time": "2023-08-25T14:37:55.790424Z"
    }
   },
   "outputs": [],
   "source": [
    "import os\n",
    "os.chdir('/cluster/home/bdayan/girgs/benji_src/notebooks/')\n",
    "os.environ['DATA_PATH'] = '/cluster/home/bdayan/girgs/FE_FB_chunglu_with_tau/'\n",
    "\n",
    "import pandas as pd\n",
    "pd.set_option('display.max_rows', 100)\n",
    "\n",
    "import scipy\n",
    "import seaborn as sns\n",
    "import sys\n",
    "sys.path.append('../nemo-eva/src/')\n",
    "\n",
    "from IPython.core.interactiveshell import InteractiveShell\n",
    "InteractiveShell.ast_node_interactivity = \"all\""
   ]
  },
  {
   "cell_type": "code",
   "execution_count": 2,
   "outputs": [],
   "source": [
    "DP = os.environ['DATA_PATH']\n",
    "all_df = pd.read_csv(DP + '4-classification_results/accuracies/all_1d_base.csv').T\n",
    "# small_deg_df = pd.read_csv(DP + '4-classification_results/accuracies/avg-degree-le-30.csv').T\n",
    "# large_deg_df = pd.read_csv(DP + '4-classification_results/accuracies/avg-degree-gt-30.csv').T\n",
    "# socfb_df = pd.read_csv(DP + '4-classification_results/accuracies/socfb.csv').T\n",
    "# not_socfb_df = pd.read_csv(DP + '4-classification_results/accuracies/not-socfb.csv').T\n",
    "# for df in [all_df, small_deg_df, large_deg_df, socfb_df, not_socfb_df]:\n",
    "for df in [all_df]:\n",
    "    df.columns = df.iloc[0]\n",
    "    df.drop(df.index[0], inplace=True)\n",
    "    # df.reset_index(inplace=True)\n",
    "    df['~features'] = df.index\n",
    "    # df.drop(columns=['index'], inplace=True)\n",
    "\n",
    "all_df = all_df.reindex(sorted(all_df.columns), axis=1)"
   ],
   "metadata": {
    "collapsed": false,
    "ExecuteTime": {
     "start_time": "2023-08-27T14:24:56.551594Z",
     "end_time": "2023-08-27T14:24:56.587144Z"
    }
   }
  },
  {
   "cell_type": "code",
   "execution_count": null,
   "outputs": [],
   "source": [],
   "metadata": {
    "collapsed": false
   }
  },
  {
   "cell_type": "code",
   "execution_count": 11,
   "outputs": [],
   "source": [
    "df = pd.read_csv(DP + '3-cleaned_features/results.csv')\n",
    "df.Info = df.Info.apply(lambda temp: {key: var for key, var in [x.split('=') for x in temp.split('|')]} if (type(temp) is str and '|' in temp) else {\n",
    "    })\n",
    "df['alpha'] = df.Info.apply(lambda x: x['alpha'] if 'alpha' in x else 1/float(x['t']) if 't' in x else None)"
   ],
   "metadata": {
    "collapsed": false,
    "ExecuteTime": {
     "start_time": "2023-08-27T14:27:11.854032Z",
     "end_time": "2023-08-27T14:27:12.078589Z"
    }
   }
  },
  {
   "cell_type": "code",
   "execution_count": 24,
   "outputs": [
    {
     "data": {
      "text/plain": "                   Graph               alpha\n13       socfb-Colgate88    1.24031007751938\n44         socfb-Brown11   1.194921583271098\n75         socfb-Indiana  1.2643224022125643\n106   socfb-Swarthmore42    1.24031007751938\n137         socfb-UCLA26  1.2766806303610614\n...                  ...                 ...\n3020      socfb-Howard90  1.1376766509643588\n3051           socfb-CMU    1.35621953803772\n3082    socfb-Bucknell39  1.3021363173957274\n3113      socfb-Temple83  1.2522011348072783\n3144          socfb-UC61  1.3776773221397052\n\n[102 rows x 2 columns]",
      "text/html": "<div>\n<style scoped>\n    .dataframe tbody tr th:only-of-type {\n        vertical-align: middle;\n    }\n\n    .dataframe tbody tr th {\n        vertical-align: top;\n    }\n\n    .dataframe thead th {\n        text-align: right;\n    }\n</style>\n<table border=\"1\" class=\"dataframe\">\n  <thead>\n    <tr style=\"text-align: right;\">\n      <th></th>\n      <th>Graph</th>\n      <th>alpha</th>\n    </tr>\n  </thead>\n  <tbody>\n    <tr>\n      <th>13</th>\n      <td>socfb-Colgate88</td>\n      <td>1.24031007751938</td>\n    </tr>\n    <tr>\n      <th>44</th>\n      <td>socfb-Brown11</td>\n      <td>1.194921583271098</td>\n    </tr>\n    <tr>\n      <th>75</th>\n      <td>socfb-Indiana</td>\n      <td>1.2643224022125643</td>\n    </tr>\n    <tr>\n      <th>106</th>\n      <td>socfb-Swarthmore42</td>\n      <td>1.24031007751938</td>\n    </tr>\n    <tr>\n      <th>137</th>\n      <td>socfb-UCLA26</td>\n      <td>1.2766806303610614</td>\n    </tr>\n    <tr>\n      <th>...</th>\n      <td>...</td>\n      <td>...</td>\n    </tr>\n    <tr>\n      <th>3020</th>\n      <td>socfb-Howard90</td>\n      <td>1.1376766509643588</td>\n    </tr>\n    <tr>\n      <th>3051</th>\n      <td>socfb-CMU</td>\n      <td>1.35621953803772</td>\n    </tr>\n    <tr>\n      <th>3082</th>\n      <td>socfb-Bucknell39</td>\n      <td>1.3021363173957274</td>\n    </tr>\n    <tr>\n      <th>3113</th>\n      <td>socfb-Temple83</td>\n      <td>1.2522011348072783</td>\n    </tr>\n    <tr>\n      <th>3144</th>\n      <td>socfb-UC61</td>\n      <td>1.3776773221397052</td>\n    </tr>\n  </tbody>\n</table>\n<p>102 rows × 2 columns</p>\n</div>"
     },
     "execution_count": 24,
     "metadata": {},
     "output_type": "execute_result"
    }
   ],
   "source": [
    "df.loc[df.Model == '2d-cube-girg'].loc[:, ['Graph', 'alpha']]"
   ],
   "metadata": {
    "collapsed": false,
    "ExecuteTime": {
     "start_time": "2023-08-27T14:29:07.037593Z",
     "end_time": "2023-08-27T14:29:07.058992Z"
    }
   }
  },
  {
   "cell_type": "code",
   "execution_count": 34,
   "outputs": [
    {
     "data": {
      "text/plain": "                   Graph  Nodes  Centrality.Degree.Location.Arithmetic Mean\n2977     socfb-Caltech36    762                                   43.703412\n1365        socfb-Reed98    962                                   39.110187\n156    socfb-Haverford76   1446                                   82.419087\n900      socfb-Simmons81   1510                                   43.687417\n94    socfb-Swarthmore42   1657                                   73.686180\n...                  ...    ...                                         ...\n466      socfb-UIllinois  30795                                   82.118591\n2419   socfb-UIllinois20  30795                                   82.118591\n1985       socfb-Texas80  31538                                   77.344093\n2450         socfb-MSU24  32361                                   69.142919\n2667          socfb-UF21  35111                                   83.486884\n\n[102 rows x 3 columns]",
      "text/html": "<div>\n<style scoped>\n    .dataframe tbody tr th:only-of-type {\n        vertical-align: middle;\n    }\n\n    .dataframe tbody tr th {\n        vertical-align: top;\n    }\n\n    .dataframe thead th {\n        text-align: right;\n    }\n</style>\n<table border=\"1\" class=\"dataframe\">\n  <thead>\n    <tr style=\"text-align: right;\">\n      <th></th>\n      <th>Graph</th>\n      <th>Nodes</th>\n      <th>Centrality.Degree.Location.Arithmetic Mean</th>\n    </tr>\n  </thead>\n  <tbody>\n    <tr>\n      <th>2977</th>\n      <td>socfb-Caltech36</td>\n      <td>762</td>\n      <td>43.703412</td>\n    </tr>\n    <tr>\n      <th>1365</th>\n      <td>socfb-Reed98</td>\n      <td>962</td>\n      <td>39.110187</td>\n    </tr>\n    <tr>\n      <th>156</th>\n      <td>socfb-Haverford76</td>\n      <td>1446</td>\n      <td>82.419087</td>\n    </tr>\n    <tr>\n      <th>900</th>\n      <td>socfb-Simmons81</td>\n      <td>1510</td>\n      <td>43.687417</td>\n    </tr>\n    <tr>\n      <th>94</th>\n      <td>socfb-Swarthmore42</td>\n      <td>1657</td>\n      <td>73.686180</td>\n    </tr>\n    <tr>\n      <th>...</th>\n      <td>...</td>\n      <td>...</td>\n      <td>...</td>\n    </tr>\n    <tr>\n      <th>466</th>\n      <td>socfb-UIllinois</td>\n      <td>30795</td>\n      <td>82.118591</td>\n    </tr>\n    <tr>\n      <th>2419</th>\n      <td>socfb-UIllinois20</td>\n      <td>30795</td>\n      <td>82.118591</td>\n    </tr>\n    <tr>\n      <th>1985</th>\n      <td>socfb-Texas80</td>\n      <td>31538</td>\n      <td>77.344093</td>\n    </tr>\n    <tr>\n      <th>2450</th>\n      <td>socfb-MSU24</td>\n      <td>32361</td>\n      <td>69.142919</td>\n    </tr>\n    <tr>\n      <th>2667</th>\n      <td>socfb-UF21</td>\n      <td>35111</td>\n      <td>83.486884</td>\n    </tr>\n  </tbody>\n</table>\n<p>102 rows × 3 columns</p>\n</div>"
     },
     "execution_count": 34,
     "metadata": {},
     "output_type": "execute_result"
    }
   ],
   "source": [
    "df.loc[df.Model == 'real-world'].sort_values('Nodes').loc[:, ['Graph', 'Nodes', 'Centrality.Degree.Location.Arithmetic Mean']]"
   ],
   "metadata": {
    "collapsed": false,
    "ExecuteTime": {
     "start_time": "2023-08-27T14:51:47.406631Z",
     "end_time": "2023-08-27T14:51:47.413175Z"
    }
   }
  },
  {
   "cell_type": "code",
   "execution_count": 35,
   "outputs": [
    {
     "data": {
      "text/plain": "<AxesSubplot:xlabel='Nodes', ylabel='Centrality.Degree.Location.Arithmetic Mean'>"
     },
     "execution_count": 35,
     "metadata": {},
     "output_type": "execute_result"
    },
    {
     "data": {
      "text/plain": "<Figure size 432x288 with 1 Axes>",
      "image/png": "[encoded data removed]"
     },
     "metadata": {},
     "output_type": "display_data"
    }
   ],
   "source": [
    "df.loc[df.Model == 'real-world'].plot(x='Nodes', y='Centrality.Degree.Location.Arithmetic Mean', kind='scatter')"
   ],
   "metadata": {
    "collapsed": false,
    "ExecuteTime": {
     "start_time": "2023-08-27T14:52:11.401325Z",
     "end_time": "2023-08-27T14:52:11.782863Z"
    }
   }
  },
  {
   "cell_type": "code",
   "execution_count": 36,
   "outputs": [
    {
     "data": {
      "text/plain": "77.12470879690576"
     },
     "execution_count": 36,
     "metadata": {},
     "output_type": "execute_result"
    }
   ],
   "source": [
    "df.loc[df.Model == 'real-world', 'Centrality.Degree.Location.Arithmetic Mean'].mean()"
   ],
   "metadata": {
    "collapsed": false,
    "ExecuteTime": {
     "start_time": "2023-08-27T14:52:40.713044Z",
     "end_time": "2023-08-27T14:52:40.753133Z"
    }
   }
  },
  {
   "cell_type": "code",
   "execution_count": 38,
   "outputs": [
    {
     "data": {
      "text/plain": "array([[1.        , 0.10507406],\n       [0.10507406, 1.        ]])"
     },
     "execution_count": 38,
     "metadata": {},
     "output_type": "execute_result"
    }
   ],
   "source": [
    "import numpy as np\n",
    "\n",
    "np.corrcoef(df.loc[df.Model == 'real-world', 'Nodes'], df.loc[df.Model == 'real-world', 'Centrality.Degree.Location.Arithmetic Mean'])"
   ],
   "metadata": {
    "collapsed": false,
    "ExecuteTime": {
     "start_time": "2023-08-27T14:54:31.216119Z",
     "end_time": "2023-08-27T14:54:31.227946Z"
    }
   }
  },
  {
   "cell_type": "code",
   "execution_count": 6,
   "outputs": [
    {
     "data": {
      "text/plain": "['Betweenness,Closeness,Diameter Max - mean',\n 'Betweenness,Closeness,Effective Diameter - mean',\n 'ClusteringCoefficient,Degree Distribution.Powerlaw.Alpha,Diameter Max - mean',\n 'ClusteringCoefficient,Degree Distribution.Powerlaw.Alpha,Effective Diameter - mean',\n 'Nodes,Edges - mean',\n 'Nodes,Edges,Betweenness - mean',\n 'Nodes,Edges,Betweenness,Closeness,Diameter Max - mean',\n 'Nodes,Edges,Betweenness,Closeness,Effective Diameter - mean',\n 'Nodes,Edges,Centrality.CoreDecomposition - mean',\n 'Nodes,Edges,Centrality.CoreDecomposition,ClusteringCoefficient - mean',\n 'Nodes,Edges,Centrality.CoreDecomposition,Degree - mean',\n 'Nodes,Edges,Closeness - mean',\n 'Nodes,Edges,Closeness,ClusteringCoefficient - mean',\n 'Nodes,Edges,Closeness,Degree - mean',\n 'Nodes,Edges,ClusteringCoefficient - mean',\n 'Nodes,Edges,ClusteringCoefficient,Betweenness - mean',\n 'Nodes,Edges,ClusteringCoefficient,Degree Distribution.Powerlaw.Alpha - mean',\n 'Nodes,Edges,ClusteringCoefficient,Degree Distribution.Powerlaw.Alpha,Diameter Max - mean',\n 'Nodes,Edges,ClusteringCoefficient,Degree Distribution.Powerlaw.Alpha,Effective Diameter - mean',\n 'Nodes,Edges,ClusteringCoefficient,Diameter Max - mean',\n 'Nodes,Edges,ClusteringCoefficient,Effective Diameter - mean',\n 'Nodes,Edges,Degree - mean',\n 'Nodes,Edges,Degree Distribution.Powerlaw.Alpha - mean',\n 'Nodes,Edges,Degree,Betweenness - mean',\n 'Nodes,Edges,Degree,ClusteringCoefficient - mean',\n 'Nodes,Edges,Diameter Max - mean',\n 'Nodes,Edges,Effective Diameter - mean',\n 'Nodes,Edges,Katz - mean',\n 'Nodes,Edges,Katz,ClusteringCoefficient - mean',\n 'Nodes,Edges,Katz,Degree - mean',\n 'Nodes,Edges,PageRank - mean',\n 'Nodes,Edges,PageRank,ClusteringCoefficient - mean',\n 'Nodes,Edges,PageRank,Degree - mean']"
     },
     "execution_count": 6,
     "metadata": {},
     "output_type": "execute_result"
    }
   ],
   "source": [
    "indices = sorted([x for x in all_df.index if x[-4:] == 'mean'])\n",
    "indices = [x for x in indices if not 'Partition' in x]\n",
    "indices"
   ],
   "metadata": {
    "collapsed": false,
    "ExecuteTime": {
     "start_time": "2023-08-25T14:38:39.682852Z",
     "end_time": "2023-08-25T14:38:39.735182Z"
    }
   }
  },
  {
   "cell_type": "code",
   "execution_count": 15,
   "outputs": [
    {
     "data": {
      "text/plain": "['1d-copyweight-girg',\n '2d-copyweight-girg',\n '3d-copyweight-girg',\n '4d-copyweight-girg',\n '5d-copyweight-girg',\n 'chung-lu',\n '1-2-34-mixed-girg',\n '1-23-mixed-girg',\n '1-234-mixed-girg',\n '12-34-mixed-girg',\n '2d-min-girg',\n '3d-min-girg',\n '4d-min-girg',\n '5d-min-girg',\n '1d-cube-girg',\n '2d-cube-girg',\n '3d-cube-girg',\n '2d-girg',\n '3d-girg',\n '4d-girg',\n '5d-girg',\n '6d-girg',\n '7d-girg',\n 'hyperbolic',\n 'chung-lu-tau',\n 'BA full',\n 'ER',\n 'real-world']"
     },
     "execution_count": 15,
     "metadata": {},
     "output_type": "execute_result"
    }
   ],
   "source": [
    "columns = \"\"\"1d-copyweight-girg\t2d-copyweight-girg\t3d-copyweight-girg\t4d-copyweight-girg\t5d-copyweight-girg\tchung-lu\t1-2-34-mixed-girg\t1-23-mixed-girg\t1-234-mixed-girg\t12-34-mixed-girg\t2d-min-girg\t3d-min-girg\t4d-min-girg\t5d-min-girg\t1d-cube-girg\t2d-cube-girg\t3d-cube-girg\\t1d-girg\t2d-girg\t3d-girg\t4d-girg\t5d-girg\t6d-girg\t7d-girg\\thyperbolic\\tchung-lu-tau\\tBA full\tER\"\"\".split('\\t')\n",
    "\n",
    "columns = \"\"\"1d-copyweight-girg\t2d-copyweight-girg\t3d-copyweight-girg\t4d-copyweight-girg\t5d-copyweight-girg\tchung-lu\t1-2-34-mixed-girg\t1-23-mixed-girg\t1-234-mixed-girg\t12-34-mixed-girg\t2d-min-girg\t3d-min-girg\t4d-min-girg\t5d-min-girg\t1d-cube-girg\t2d-cube-girg\t3d-cube-girg\\t2d-girg\t3d-girg\t4d-girg\t5d-girg\t6d-girg\t7d-girg\\thyperbolic\\tchung-lu-tau\\tBA full\\tER\\treal-world\"\"\".split('\\t')\n",
    "columns"
   ],
   "metadata": {
    "collapsed": false,
    "ExecuteTime": {
     "start_time": "2023-08-25T14:44:59.491299Z",
     "end_time": "2023-08-25T14:44:59.542320Z"
    }
   }
  },
  {
   "cell_type": "code",
   "execution_count": 16,
   "outputs": [
    {
     "data": {
      "text/plain": "True"
     },
     "execution_count": 16,
     "metadata": {},
     "output_type": "execute_result"
    }
   ],
   "source": [
    "'real-world' in all_df.columns"
   ],
   "metadata": {
    "collapsed": false,
    "ExecuteTime": {
     "start_time": "2023-08-25T14:45:00.164144Z",
     "end_time": "2023-08-25T14:45:00.176630Z"
    }
   }
  },
  {
   "cell_type": "code",
   "execution_count": 17,
   "outputs": [
    {
     "data": {
      "text/plain": "{'1d-copyweight-girg': '1ccu',\n '2d-copyweight-girg': '2ccu',\n '3d-copyweight-girg': '3ccu',\n '4d-copyweight-girg': '4ccu',\n '5d-copyweight-girg': '5ccu',\n 'chung-lu': 'CL-c',\n '1-2-34-mixed-girg': '1-23',\n '1-23-mixed-girg': '1-234',\n '1-234-mixed-girg': '12-34',\n '12-34-mixed-girg': '1-2-34',\n '2d-min-girg': '2m',\n '3d-min-girg': '3m',\n '4d-min-girg': '4m',\n '5d-min-girg': '5m',\n '1d-cube-girg': '1cu',\n '2d-cube-girg': '2cu',\n '3d-cube-girg': '3cu',\n '2d-girg': '2d',\n '3d-girg': '3d',\n '4d-girg': '4d',\n '5d-girg': '5d',\n '6d-girg': '6d',\n '7d-girg': '7d',\n 'hyperbolic': 'hyper',\n 'chung-lu-tau': 'CL',\n 'BA full': 'BA',\n 'ER': 'ER',\n 'real-world': 'real-world'}"
     },
     "execution_count": 17,
     "metadata": {},
     "output_type": "execute_result"
    }
   ],
   "source": [
    "columns2 = ['1ccu', '2ccu', '3ccu', '4ccu', '5ccu', 'CL-c', '1-23', '1-234', '12-34', '1-2-34', '2m', '3m', '4m', '5m', '1cu', '2cu', '3cu', '2d', '3d', '4d', '5d', '6d', '7d', 'hyper', 'CL', 'BA', 'ER', 'real-world']\n",
    "\n",
    "{a:b for a, b in zip(columns, columns2)}"
   ],
   "metadata": {
    "collapsed": false,
    "ExecuteTime": {
     "start_time": "2023-08-25T14:45:00.426961Z",
     "end_time": "2023-08-25T14:45:00.467511Z"
    }
   }
  },
  {
   "cell_type": "code",
   "execution_count": 18,
   "outputs": [],
   "source": [
    "out_df = all_df.reindex(columns=columns).rename(columns={a:b for a, b in zip(columns, columns2)}).loc[indices]\n",
    "out_df.to_csv('blasius_mean_1d.csv', index=False)"
   ],
   "metadata": {
    "collapsed": false,
    "ExecuteTime": {
     "start_time": "2023-08-25T14:45:01.072027Z",
     "end_time": "2023-08-25T14:45:01.084149Z"
    }
   }
  },
  {
   "cell_type": "code",
   "execution_count": 20,
   "outputs": [
    {
     "data": {
      "text/plain": "Index(['1ccu', '2ccu', '3ccu', '4ccu', '5ccu', 'CL-c', '1-23', '1-234',\n       '12-34', '1-2-34', '2m', '3m', '4m', '5m', '1cu', '2cu', '3cu', '2d',\n       '3d', '4d', '5d', '6d', '7d', 'hyper', 'CL', 'BA', 'ER', 'real-world'],\n      dtype='object', name='features')"
     },
     "execution_count": 20,
     "metadata": {},
     "output_type": "execute_result"
    }
   ],
   "source": [
    "out_df.columns"
   ],
   "metadata": {
    "collapsed": false,
    "ExecuteTime": {
     "start_time": "2023-08-25T14:46:48.518969Z",
     "end_time": "2023-08-25T14:46:48.545991Z"
    }
   }
  },
  {
   "cell_type": "code",
   "execution_count": 12,
   "outputs": [
    {
     "data": {
      "text/plain": "'/cluster/home/bdayan/girgs/benji_src/notebooks'"
     },
     "execution_count": 12,
     "metadata": {},
     "output_type": "execute_result"
    }
   ],
   "source": [
    "os.getcwd()"
   ],
   "metadata": {
    "collapsed": false,
    "ExecuteTime": {
     "start_time": "2023-08-25T14:39:39.789271Z",
     "end_time": "2023-08-25T14:39:39.800617Z"
    }
   }
  },
  {
   "cell_type": "code",
   "execution_count": 37,
   "outputs": [
    {
     "data": {
      "text/plain": "['1d-copyweight-girg',\n '2d-copyweight-girg',\n '3d-copyweight-girg',\n '4d-copyweight-girg',\n '5d-copyweight-girg',\n 'chung-lu',\n '1-2-34-mixed-girg',\n '1-23-mixed-girg',\n '1-234-mixed-girg',\n '12-34-mixed-girg',\n '2d-min-girg',\n '3d-min-girg',\n '4d-min-girg',\n '5d-min-girg',\n '1d-cube-girg',\n '2d-cube-girg',\n '3d-cube-girg',\n '1d-girg',\n '2d-girg',\n '3d-girg',\n '4d-girg',\n '5d-girg',\n '6d-girg',\n '7d-girg',\n 'chung-lu-tau',\n 'BA full',\n 'ER',\n 'hyperbolic']"
     },
     "execution_count": 37,
     "metadata": {},
     "output_type": "execute_result"
    }
   ],
   "source": [
    "columns"
   ],
   "metadata": {
    "collapsed": false,
    "ExecuteTime": {
     "start_time": "2023-08-18T10:11:12.660392Z",
     "end_time": "2023-08-18T10:11:12.681027Z"
    }
   }
  },
  {
   "cell_type": "code",
   "execution_count": 32,
   "outputs": [
    {
     "data": {
      "text/plain": "Index(['1-2-34-mixed-girg', '1-23-mixed-girg', '1-234-mixed-girg',\n       '12-34-mixed-girg', '1d-copyweight-girg', '1d-cube-girg', '1d-girg',\n       '1d-min-girg', '2d-copyweight-girg', '2d-cube-girg', '2d-girg',\n       '2d-min-girg', '3d-copyweight-girg', '3d-cube-girg', '3d-girg',\n       '3d-min-girg', '4d-copyweight-girg', '4d-girg', '4d-min-girg',\n       '5d-copyweight-girg', '5d-girg', '5d-min-girg', '6d-girg', '7d-girg',\n       'BA circle', 'BA full', 'ER', 'chung-lu', 'chung-lu-tau', 'hyperbolic',\n       '~features'],\n      dtype='object', name='features')"
     },
     "execution_count": 32,
     "metadata": {},
     "output_type": "execute_result"
    }
   ],
   "source": [
    "all_df.columns"
   ],
   "metadata": {
    "collapsed": false,
    "ExecuteTime": {
     "start_time": "2023-08-18T10:10:55.133007Z",
     "end_time": "2023-08-18T10:10:55.139298Z"
    }
   }
  },
  {
   "cell_type": "code",
   "execution_count": 13,
   "outputs": [
    {
     "name": "stdout",
     "output_type": "stream",
     "text": [
      "Betweenness,Closeness,Diameter Max - mean\n",
      "Betweenness,Closeness,Effective Diameter - mean\n",
      "ClusteringCoefficient,Degree Distribution.Powerlaw.Alpha,Diameter Max - mean\n",
      "ClusteringCoefficient,Degree Distribution.Powerlaw.Alpha,Effective Diameter - mean\n",
      "Nodes,Edges - mean\n",
      "Nodes,Edges,Betweenness - mean\n",
      "Nodes,Edges,Betweenness,Closeness,Diameter Max - mean\n",
      "Nodes,Edges,Betweenness,Closeness,Effective Diameter - mean\n",
      "Nodes,Edges,Centrality.CoreDecomposition - mean\n",
      "Nodes,Edges,Centrality.CoreDecomposition,ClusteringCoefficient - mean\n",
      "Nodes,Edges,Centrality.CoreDecomposition,Degree - mean\n",
      "Nodes,Edges,Closeness - mean\n",
      "Nodes,Edges,Closeness,ClusteringCoefficient - mean\n",
      "Nodes,Edges,Closeness,Degree - mean\n",
      "Nodes,Edges,ClusteringCoefficient - mean\n",
      "Nodes,Edges,ClusteringCoefficient,Betweenness - mean\n",
      "Nodes,Edges,ClusteringCoefficient,Degree Distribution.Powerlaw.Alpha - mean\n",
      "Nodes,Edges,ClusteringCoefficient,Degree Distribution.Powerlaw.Alpha,Diameter Max - mean\n",
      "Nodes,Edges,ClusteringCoefficient,Degree Distribution.Powerlaw.Alpha,Effective Diameter - mean\n",
      "Nodes,Edges,ClusteringCoefficient,Diameter Max - mean\n",
      "Nodes,Edges,ClusteringCoefficient,Effective Diameter - mean\n",
      "Nodes,Edges,Degree - mean\n",
      "Nodes,Edges,Degree Distribution.Powerlaw.Alpha - mean\n",
      "Nodes,Edges,Degree,Betweenness - mean\n",
      "Nodes,Edges,Degree,ClusteringCoefficient - mean\n",
      "Nodes,Edges,Diameter Max - mean\n",
      "Nodes,Edges,Effective Diameter - mean\n",
      "Nodes,Edges,Katz - mean\n",
      "Nodes,Edges,Katz,ClusteringCoefficient - mean\n",
      "Nodes,Edges,Katz,Degree - mean\n",
      "Nodes,Edges,PageRank - mean\n",
      "Nodes,Edges,PageRank,ClusteringCoefficient - mean\n",
      "Nodes,Edges,PageRank,Degree - mean\n"
     ]
    }
   ],
   "source": [
    "print('\\n'.join(indices))"
   ],
   "metadata": {
    "collapsed": false,
    "ExecuteTime": {
     "start_time": "2023-08-25T14:41:18.178525Z",
     "end_time": "2023-08-25T14:41:18.210502Z"
    }
   }
  },
  {
   "cell_type": "code",
   "execution_count": 27,
   "outputs": [
    {
     "data": {
      "text/plain": "28"
     },
     "execution_count": 27,
     "metadata": {},
     "output_type": "execute_result"
    }
   ],
   "source": [
    "temp = '0.931372549019608,0.9460784313725491,0.9705882352941176,0.9509803921568628,0.9411764705882352,0.9901960784313726,1.0,1.0,1.0,1.0,1.0,1.0,1.0,1.0,1.0,0.9950980392156864,0.9950980392156864,1.0,1.0,1.0,1.0,1.0,1.0,1.0,1.0,,1.0,1.0'\n",
    "temp = temp.split(',')\n",
    "len(temp)"
   ],
   "metadata": {
    "collapsed": false,
    "ExecuteTime": {
     "start_time": "2023-08-18T10:05:16.938010Z",
     "end_time": "2023-08-18T10:05:16.978062Z"
    }
   }
  },
  {
   "cell_type": "code",
   "execution_count": 28,
   "outputs": [
    {
     "data": {
      "text/plain": "28"
     },
     "execution_count": 28,
     "metadata": {},
     "output_type": "execute_result"
    }
   ],
   "source": [
    "len(columns)"
   ],
   "metadata": {
    "collapsed": false,
    "ExecuteTime": {
     "start_time": "2023-08-18T10:05:19.666327Z",
     "end_time": "2023-08-18T10:05:19.672314Z"
    }
   }
  },
  {
   "cell_type": "code",
   "execution_count": 39,
   "outputs": [
    {
     "data": {
      "text/plain": "28"
     },
     "execution_count": 39,
     "metadata": {},
     "output_type": "execute_result"
    }
   ],
   "source": [
    "temp = '1ccu,2ccu,3ccu,4ccu,5ccu,CL-c,1-23,1-234,12-34,1-2-34,2m,3m,4m,5m,1cu,2cu,3cu,1d,2d,3d,4d,5d,6d,7d,CL,BA,ER,hyper'\n",
    "len(temp.split(','))"
   ],
   "metadata": {
    "collapsed": false,
    "ExecuteTime": {
     "start_time": "2023-08-18T10:24:14.666667Z",
     "end_time": "2023-08-18T10:24:14.705709Z"
    }
   }
  },
  {
   "cell_type": "code",
   "execution_count": 40,
   "outputs": [
    {
     "data": {
      "text/plain": "28"
     },
     "execution_count": 40,
     "metadata": {},
     "output_type": "execute_result"
    }
   ],
   "source": [
    "temp2='0.5294117647058824,0.5098039215686274,0.5343137254901961,0.5245098039215687,0.5245098039215687,0.5343137254901961,0.5196078431372549,0.5098039215686274,0.5098039215686274,0.5098039215686274,0.5196078431372549,0.5441176470588235,0.5588235294117647,0.5294117647058824,0.5294117647058824,0.5147058823529411,0.5147058823529411,0.5049019607843137,0.5049019607843137,0.5049019607843137,0.5049019607843137,0.5196078431372549,0.5343137254901961,0.5294117647058824,0.5,0.5196078431372549,0.5049019607843137,0.5588235294117647'\n",
    "temp2 = temp2.split(',')\n",
    "len(temp2)"
   ],
   "metadata": {
    "collapsed": false,
    "ExecuteTime": {
     "start_time": "2023-08-18T10:24:35.192947Z",
     "end_time": "2023-08-18T10:24:35.217442Z"
    }
   }
  },
  {
   "cell_type": "code",
   "execution_count": 41,
   "outputs": [
    {
     "data": {
      "text/plain": "False"
     },
     "execution_count": 41,
     "metadata": {},
     "output_type": "execute_result"
    }
   ],
   "source": [
    "',,' in temp2"
   ],
   "metadata": {
    "collapsed": false,
    "ExecuteTime": {
     "start_time": "2023-08-18T10:24:39.556753Z",
     "end_time": "2023-08-18T10:24:39.563624Z"
    }
   }
  },
  {
   "cell_type": "code",
   "execution_count": 42,
   "outputs": [
    {
     "data": {
      "text/plain": "'1ccu 2ccu 3ccu 4ccu 5ccu CL-c 1-23 1-234 12-34 1-2-34 2m 3m 4m 5m 1cu 2cu 3cu 1d 2d 3d 4d 5d 6d 7d CL BA ER hyper'"
     },
     "execution_count": 42,
     "metadata": {},
     "output_type": "execute_result"
    }
   ],
   "source": [
    "temp.replace(',', ' ')"
   ],
   "metadata": {
    "collapsed": false,
    "ExecuteTime": {
     "start_time": "2023-08-18T10:26:00.711630Z",
     "end_time": "2023-08-18T10:26:00.720005Z"
    }
   }
  },
  {
   "cell_type": "code",
   "execution_count": null,
   "outputs": [],
   "source": [],
   "metadata": {
    "collapsed": false
   }
  }
 ],
 "metadata": {
  "kernelspec": {
   "display_name": "Python 3",
   "language": "python",
   "name": "python3"
  },
  "language_info": {
   "codemirror_mode": {
    "name": "ipython",
    "version": 2
   },
   "file_extension": ".py",
   "mimetype": "text/x-python",
   "name": "python",
   "nbconvert_exporter": "python",
   "pygments_lexer": "ipython2",
   "version": "2.7.6"
  }
 },
 "nbformat": 4,
 "nbformat_minor": 0
}
