{
 "cells": [
  {
   "cell_type": "code",
   "execution_count": 1,
   "outputs": [],
   "source": [
    "import os\n",
    "os.chdir('/cluster/home/bdayan/girgs/benji_src/notebooks/')"
   ],
   "metadata": {
    "collapsed": false,
    "ExecuteTime": {
     "start_time": "2023-08-16T14:21:11.388527Z",
     "end_time": "2023-08-16T14:21:11.388887Z"
    }
   }
  },
  {
   "cell_type": "code",
   "execution_count": 2,
   "outputs": [
    {
     "data": {
      "text/plain": "'/cluster/home/bdayan/girgs/benji_src/notebooks'"
     },
     "execution_count": 2,
     "metadata": {},
     "output_type": "execute_result"
    }
   ],
   "source": [
    "import sys\n",
    "sys.path.append('../')\n",
    "sys.path.append('../../nemo-eva/src/')\n",
    "\n",
    "import os\n",
    "os.getcwd()\n",
    "\n",
    "\n"
   ],
   "metadata": {
    "collapsed": false,
    "ExecuteTime": {
     "start_time": "2023-08-16T14:21:11.388661Z",
     "end_time": "2023-08-16T14:21:11.397139Z"
    }
   }
  },
  {
   "cell_type": "code",
   "execution_count": 3,
   "outputs": [
    {
     "data": {
      "text/html": "\n\t\t\t<script type=\"text/javascript\">\n\t\t\t<!--\n\t\t\t\t\n\t\t\t{\n\t\t\t\tvar element = document.getElementById('NetworKit_script');\n\t\t\t\tif (element) {\n\t\t\t\t\telement.parentNode.removeChild(element);\n\t\t\t\t}\n\t\t\t\telement = document.createElement('script');\n\t\t\t\telement.type = 'text/javascript';\n\t\t\t\telement.innerHTML = 'function NetworKit_pageEmbed(id) { var i, j; var elements; elements = document.getElementById(id).getElementsByClassName(\"Plot\"); for (i=0; i<elements.length; i++) { elements[i].id = id + \"_Plot_\" + i; var data = elements[i].getAttribute(\"data-image\").split(\"|\"); elements[i].removeAttribute(\"data-image\"); var content = \"<div class=\\\\\"Image\\\\\" id=\\\\\"\" + elements[i].id + \"_Image\\\\\" />\"; elements[i].innerHTML = content; elements[i].setAttribute(\"data-image-index\", 0); elements[i].setAttribute(\"data-image-length\", data.length); for (j=0; j<data.length; j++) { elements[i].setAttribute(\"data-image-\" + j, data[j]); } NetworKit_plotUpdate(elements[i]); elements[i].onclick = function (e) { NetworKit_overlayShow((e.target) ? e.target : e.srcElement); } } elements = document.getElementById(id).getElementsByClassName(\"HeatCell\"); for (i=0; i<elements.length; i++) { var data = parseFloat(elements[i].getAttribute(\"data-heat\")); var color = \"#00FF00\"; if (data <= 1 && data > 0) { color = \"hsla(0, 100%, 75%, \" + (data) + \")\"; } else if (data <= 0 && data >= -1) { color = \"hsla(240, 100%, 75%, \" + (-data) + \")\"; } elements[i].style.backgroundColor = color; } elements = document.getElementById(id).getElementsByClassName(\"Details\"); for (i=0; i<elements.length; i++) { elements[i].setAttribute(\"data-title\", \"-\"); NetworKit_toggleDetails(elements[i]); elements[i].onclick = function (e) { NetworKit_toggleDetails((e.target) ? e.target : e.srcElement); } } elements = document.getElementById(id).getElementsByClassName(\"MathValue\"); for (i=elements.length-1; i>=0; i--) { value = elements[i].innerHTML.trim(); if (value === \"nan\") { elements[i].parentNode.innerHTML = \"\" } } elements = document.getElementById(id).getElementsByClassName(\"SubCategory\"); for (i=elements.length-1; i>=0; i--) { value = elements[i].innerHTML.trim(); if (value === \"\") { elements[i].parentNode.removeChild(elements[i]) } } elements = document.getElementById(id).getElementsByClassName(\"Category\"); for (i=elements.length-1; i>=0; i--) { value = elements[i].innerHTML.trim(); if (value === \"\") { elements[i].parentNode.removeChild(elements[i]) } } var isFirefox = false; try { isFirefox = typeof InstallTrigger !== \"undefined\"; } catch (e) {} if (!isFirefox) { alert(\"Currently the function\\'s output is only fully supported by Firefox.\"); } } function NetworKit_plotUpdate(source) { var index = source.getAttribute(\"data-image-index\"); var data = source.getAttribute(\"data-image-\" + index); var image = document.getElementById(source.id + \"_Image\"); image.style.backgroundImage = \"url(\" + data + \")\"; } function NetworKit_showElement(id, show) { var element = document.getElementById(id); element.style.display = (show) ? \"block\" : \"none\"; } function NetworKit_overlayShow(source) { NetworKit_overlayUpdate(source); NetworKit_showElement(\"NetworKit_Overlay\", true); } function NetworKit_overlayUpdate(source) { document.getElementById(\"NetworKit_Overlay_Title\").innerHTML = source.title; var index = source.getAttribute(\"data-image-index\"); var data = source.getAttribute(\"data-image-\" + index); var image = document.getElementById(\"NetworKit_Overlay_Image\"); image.setAttribute(\"data-id\", source.id); image.style.backgroundImage = \"url(\" + data + \")\"; var link = document.getElementById(\"NetworKit_Overlay_Toolbar_Bottom_Save\"); link.href = data; link.download = source.title + \".svg\"; } function NetworKit_overlayImageShift(delta) { var image = document.getElementById(\"NetworKit_Overlay_Image\"); var source = document.getElementById(image.getAttribute(\"data-id\")); var index = parseInt(source.getAttribute(\"data-image-index\")); var length = parseInt(source.getAttribute(\"data-image-length\")); var index = (index+delta) % length; if (index < 0) { index = length + index; } source.setAttribute(\"data-image-index\", index); NetworKit_overlayUpdate(source); } function NetworKit_toggleDetails(source) { var childs = source.children; var show = false; if (source.getAttribute(\"data-title\") == \"-\") { source.setAttribute(\"data-title\", \"+\"); show = false; } else { source.setAttribute(\"data-title\", \"-\"); show = true; } for (i=0; i<childs.length; i++) { if (show) { childs[i].style.display = \"block\"; } else { childs[i].style.display = \"none\"; } } }';\n\t\t\t\telement.setAttribute('id', 'NetworKit_script');\n\t\t\t\tdocument.head.appendChild(element);\n\t\t\t}\n\t\t\n\t\t\t\t\n\t\t\t{\n\t\t\t\tvar element = document.getElementById('NetworKit_style');\n\t\t\t\tif (element) {\n\t\t\t\t\telement.parentNode.removeChild(element);\n\t\t\t\t}\n\t\t\t\telement = document.createElement('style');\n\t\t\t\telement.type = 'text/css';\n\t\t\t\telement.innerHTML = '.NetworKit_Page { font-family: Arial, Helvetica, sans-serif; font-size: 14px; } .NetworKit_Page .Value:before { font-family: Arial, Helvetica, sans-serif; font-size: 1.05em; content: attr(data-title) \":\"; margin-left: -2.5em; padding-right: 0.5em; } .NetworKit_Page .Details .Value:before { display: block; } .NetworKit_Page .Value { font-family: monospace; white-space: pre; padding-left: 2.5em; white-space: -moz-pre-wrap !important; white-space: -pre-wrap; white-space: -o-pre-wrap; white-space: pre-wrap; word-wrap: break-word; tab-size: 4; -moz-tab-size: 4; } .NetworKit_Page .Category { clear: both; padding-left: 1em; margin-bottom: 1.5em; } .NetworKit_Page .Category:before { content: attr(data-title); font-size: 1.75em; display: block; margin-left: -0.8em; margin-bottom: 0.5em; } .NetworKit_Page .SubCategory { margin-bottom: 1.5em; padding-left: 1em; } .NetworKit_Page .SubCategory:before { font-size: 1.6em; display: block; margin-left: -0.8em; margin-bottom: 0.5em; } .NetworKit_Page .SubCategory[data-title]:before { content: attr(data-title); } .NetworKit_Page .Block { display: block; } .NetworKit_Page .Block:after { content: \".\"; visibility: hidden; display: block; height: 0; clear: both; } .NetworKit_Page .Block .Thumbnail_Overview, .NetworKit_Page .Block .Thumbnail_ScatterPlot { width: 260px; float: left; } .NetworKit_Page .Block .Thumbnail_Overview img, .NetworKit_Page .Block .Thumbnail_ScatterPlot img { width: 260px; } .NetworKit_Page .Block .Thumbnail_Overview:before, .NetworKit_Page .Block .Thumbnail_ScatterPlot:before { display: block; text-align: center; font-weight: bold; } .NetworKit_Page .Block .Thumbnail_Overview:before { content: attr(data-title); } .NetworKit_Page .HeatCell { font-family: \"Courier New\", Courier, monospace; cursor: pointer; } .NetworKit_Page .HeatCell, .NetworKit_Page .HeatCellName { display: inline; padding: 0.1em; margin-right: 2px; background-color: #FFFFFF } .NetworKit_Page .HeatCellName { margin-left: 0.25em; } .NetworKit_Page .HeatCell:before { content: attr(data-heat); display: inline-block; color: #000000; width: 4em; text-align: center; } .NetworKit_Page .Measure { clear: both; } .NetworKit_Page .Measure .Details { cursor: pointer; } .NetworKit_Page .Measure .Details:before { content: \"[\" attr(data-title) \"]\"; display: block; } .NetworKit_Page .Measure .Details .Value { border-left: 1px dotted black; margin-left: 0.4em; padding-left: 3.5em; pointer-events: none; } .NetworKit_Page .Measure .Details .Spacer:before { content: \".\"; opacity: 0.0; pointer-events: none; } .NetworKit_Page .Measure .Plot { width: 440px; height: 440px; cursor: pointer; float: left; margin-left: -0.9em; margin-right: 20px; } .NetworKit_Page .Measure .Plot .Image { background-repeat: no-repeat; background-position: center center; background-size: contain; height: 100%; pointer-events: none; } .NetworKit_Page .Measure .Stat { width: 500px; float: left; } .NetworKit_Page .Measure .Stat .Group { padding-left: 1.25em; margin-bottom: 0.75em; } .NetworKit_Page .Measure .Stat .Group .Title { font-size: 1.1em; display: block; margin-bottom: 0.3em; margin-left: -0.75em; border-right-style: dotted; border-right-width: 1px; border-bottom-style: dotted; border-bottom-width: 1px; background-color: #D0D0D0; padding-left: 0.2em; } .NetworKit_Page .Measure .Stat .Group .List { -webkit-column-count: 3; -moz-column-count: 3; column-count: 3; } .NetworKit_Page .Measure .Stat .Group .List .Entry { position: relative; line-height: 1.75em; } .NetworKit_Page .Measure .Stat .Group .List .Entry[data-tooltip]:before { position: absolute; left: 0; top: -40px; background-color: #808080; color: #ffffff; height: 30px; line-height: 30px; border-radius: 5px; padding: 0 15px; content: attr(data-tooltip); white-space: nowrap; display: none; } .NetworKit_Page .Measure .Stat .Group .List .Entry[data-tooltip]:after { position: absolute; left: 15px; top: -10px; border-top: 7px solid #808080; border-left: 7px solid transparent; border-right: 7px solid transparent; content: \"\"; display: none; } .NetworKit_Page .Measure .Stat .Group .List .Entry[data-tooltip]:hover:after, .NetworKit_Page .Measure .Stat .Group .List .Entry[data-tooltip]:hover:before { display: block; } .NetworKit_Page .Measure .Stat .Group .List .Entry .MathValue { font-family: \"Courier New\", Courier, monospace; } .NetworKit_Page .Measure:after { content: \".\"; visibility: hidden; display: block; height: 0; clear: both; } .NetworKit_Page .PartitionPie { clear: both; } .NetworKit_Page .PartitionPie img { width: 600px; } #NetworKit_Overlay { left: 0px; top: 0px; display: none; position: absolute; width: 100%; height: 100%; background-color: rgba(0,0,0,0.6); z-index: 1000; } #NetworKit_Overlay_Title { position: absolute; color: white; transform: rotate(-90deg); width: 32em; height: 32em; padding-right: 0.5em; padding-top: 0.5em; text-align: right; font-size: 40px; } #NetworKit_Overlay .button { background: white; cursor: pointer; } #NetworKit_Overlay .button:before { size: 13px; display: inline-block; text-align: center; margin-top: 0.5em; margin-bottom: 0.5em; width: 1.5em; height: 1.5em; } #NetworKit_Overlay .icon-close:before { content: \"X\"; } #NetworKit_Overlay .icon-previous:before { content: \"P\"; } #NetworKit_Overlay .icon-next:before { content: \"N\"; } #NetworKit_Overlay .icon-save:before { content: \"S\"; } #NetworKit_Overlay_Toolbar_Top, #NetworKit_Overlay_Toolbar_Bottom { position: absolute; width: 40px; right: 13px; text-align: right; z-index: 1100; } #NetworKit_Overlay_Toolbar_Top { top: 0.5em; } #NetworKit_Overlay_Toolbar_Bottom { Bottom: 0.5em; } #NetworKit_Overlay_ImageContainer { position: absolute; top: 5%; left: 5%; height: 90%; width: 90%; background-repeat: no-repeat; background-position: center center; background-size: contain; } #NetworKit_Overlay_Image { height: 100%; width: 100%; background-repeat: no-repeat; background-position: center center; background-size: contain; }';\n\t\t\t\telement.setAttribute('id', 'NetworKit_style');\n\t\t\t\tdocument.head.appendChild(element);\n\t\t\t}\n\t\t\n\t\t\t\t\n\t\t\t{\n\t\t\t\tvar element = document.getElementById('NetworKit_Overlay');\n\t\t\t\tif (element) {\n\t\t\t\t\telement.parentNode.removeChild(element);\n\t\t\t\t}\n\t\t\t\telement = document.createElement('div');\n\t\t\t\telement.innerHTML = '<div id=\"NetworKit_Overlay_Toolbar_Top\"><div class=\"button icon-close\" id=\"NetworKit_Overlay_Close\" /></div><div id=\"NetworKit_Overlay_Title\" /> <div id=\"NetworKit_Overlay_ImageContainer\"> <div id=\"NetworKit_Overlay_Image\" /> </div> <div id=\"NetworKit_Overlay_Toolbar_Bottom\"> <div class=\"button icon-previous\" onclick=\"NetworKit_overlayImageShift(-1)\" /> <div class=\"button icon-next\" onclick=\"NetworKit_overlayImageShift(1)\" /> <a id=\"NetworKit_Overlay_Toolbar_Bottom_Save\"><div class=\"button icon-save\" /></a> </div>';\n\t\t\t\telement.setAttribute('id', 'NetworKit_Overlay');\n\t\t\t\tdocument.body.appendChild(element);\n\t\t\t\tdocument.getElementById('NetworKit_Overlay_Close').onclick = function (e) {\n\t\t\t\t\tdocument.getElementById('NetworKit_Overlay').style.display = 'none';\n\t\t\t\t}\n\t\t\t}\n\t\t\n\t\t\t-->\n\t\t\t</script>\n\t\t"
     },
     "metadata": {},
     "output_type": "display_data"
    },
    {
     "name": "stdout",
     "output_type": "stream",
     "text": [
      "/cluster/scratch/bdayan/GIRG_data/socfb-Berkeley13.SpaceOne\n",
      "/cluster/scratch/bdayan/GIRG_data/socfb-American75.SpaceOne\n",
      "/cluster/scratch/bdayan/GIRG_data/socfb-UConn.SpaceOne\n",
      "/cluster/scratch/bdayan/GIRG_data/socfb-MSU24.SpaceOne\n",
      "/cluster/scratch/bdayan/GIRG_data/socfb-Brandeis99.SpaceOne\n",
      "/cluster/scratch/bdayan/GIRG_data/socfb-Virginia63.SpaceOne\n",
      "/cluster/scratch/bdayan/GIRG_data/socfb-Duke14.SpaceOne\n",
      "/cluster/scratch/bdayan/GIRG_data/socfb-Indiana69.SpaceOne\n",
      "/cluster/scratch/bdayan/GIRG_data/socfb-Swarthmore42.SpaceOne\n",
      "/cluster/scratch/bdayan/GIRG_data/socfb-Simmons81.SpaceOne\n",
      "/cluster/scratch/bdayan/GIRG_data/socfb-Georgetown15.SpaceOne\n",
      "/cluster/scratch/bdayan/GIRG_data/socfb-Reed98.SpaceOne\n",
      "/cluster/scratch/bdayan/GIRG_data/socfb-UC64.SpaceOne\n",
      "/cluster/scratch/bdayan/GIRG_data/socfb-Bowdoin47.SpaceOne\n",
      "/cluster/scratch/bdayan/GIRG_data/socfb-UChicago30.SpaceOne\n",
      "/cluster/scratch/bdayan/GIRG_data/socfb-Middlebury45.SpaceOne\n",
      "/cluster/scratch/bdayan/GIRG_data/socfb-MIT.SpaceOne\n",
      "/cluster/scratch/bdayan/GIRG_data/socfb-FSU53.SpaceOne\n",
      "/cluster/scratch/bdayan/GIRG_data/socfb-Michigan23.SpaceOne\n",
      "/cluster/scratch/bdayan/GIRG_data/socfb-Tennessee95.SpaceOne\n",
      "/cluster/scratch/bdayan/GIRG_data/socfb-WashU32.SpaceOne\n",
      "/cluster/scratch/bdayan/GIRG_data/socfb-Stanford3.SpaceOne\n",
      "/cluster/scratch/bdayan/GIRG_data/socfb-UC33.SpaceOne\n",
      "/cluster/scratch/bdayan/GIRG_data/socfb-William77.SpaceOne\n",
      "/cluster/scratch/bdayan/GIRG_data/socfb-MU78.SpaceOne\n",
      "/cluster/scratch/bdayan/GIRG_data/socfb-NYU9.SpaceOne\n",
      "/cluster/scratch/bdayan/GIRG_data/socfb-UPenn7.SpaceOne\n",
      "/cluster/scratch/bdayan/GIRG_data/socfb-Wellesley22.SpaceOne\n",
      "/cluster/scratch/bdayan/GIRG_data/socfb-Pepperdine86.SpaceOne\n",
      "/cluster/scratch/bdayan/GIRG_data/socfb-Texas80.SpaceOne\n",
      "/cluster/scratch/bdayan/GIRG_data/socfb-Brown11.SpaceOne\n",
      "/cluster/scratch/bdayan/GIRG_data/socfb-Rochester38.SpaceOne\n",
      "/cluster/scratch/bdayan/GIRG_data/socfb-USF51.SpaceOne\n",
      "/cluster/scratch/bdayan/GIRG_data/socfb-Harvard1.SpaceOne\n",
      "/cluster/scratch/bdayan/GIRG_data/socfb-Emory27.SpaceOne\n",
      "/cluster/scratch/bdayan/GIRG_data/socfb-Wisconsin87.SpaceOne\n",
      "/cluster/scratch/bdayan/GIRG_data/socfb-Lehigh96.SpaceOne\n",
      "/cluster/scratch/bdayan/GIRG_data/socfb-Carnegie49.SpaceOne\n",
      "/cluster/scratch/bdayan/GIRG_data/socfb-UIllinois.SpaceOne\n",
      "/cluster/scratch/bdayan/GIRG_data/socfb-UGA50.SpaceOne\n",
      "/cluster/scratch/bdayan/GIRG_data/socfb-JMU79.SpaceOne\n",
      "/cluster/scratch/bdayan/GIRG_data/socfb-Howard90.SpaceOne\n",
      "/cluster/scratch/bdayan/GIRG_data/socfb-Mich67.SpaceOne\n",
      "/cluster/scratch/bdayan/GIRG_data/socfb-Princeton12.SpaceOne\n",
      "/cluster/scratch/bdayan/GIRG_data/socfb-MIT8.SpaceOne\n",
      "/cluster/scratch/bdayan/GIRG_data/socfb-wosn-friends.SpaceOne\n",
      "/cluster/scratch/bdayan/GIRG_data/socfb-Maryland58.SpaceOne\n",
      "/cluster/scratch/bdayan/GIRG_data/socfb-JohnsHopkins55.SpaceOne\n",
      "/cluster/scratch/bdayan/GIRG_data/socfb-Rice31.SpaceOne\n",
      "/cluster/scratch/bdayan/GIRG_data/socfb-GWU54.SpaceOne\n",
      "/cluster/scratch/bdayan/GIRG_data/socfb-Tufts18.SpaceOne\n",
      "/cluster/scratch/bdayan/GIRG_data/socfb-Vermont70.SpaceOne\n",
      "/cluster/scratch/bdayan/GIRG_data/socfb-Temple83.SpaceOne\n",
      "/cluster/scratch/bdayan/GIRG_data/socfb-Columbia2.SpaceOne\n",
      "/cluster/scratch/bdayan/GIRG_data/socfb-Williams40.SpaceOne\n",
      "/cluster/scratch/bdayan/GIRG_data/socfb-UCSB37.SpaceOne\n",
      "/cluster/scratch/bdayan/GIRG_data/socfb-NotreDame57.SpaceOne\n",
      "/cluster/scratch/bdayan/GIRG_data/socfb-UNC28.SpaceOne\n",
      "/cluster/scratch/bdayan/GIRG_data/socfb-Vanderbilt48.SpaceOne\n",
      "/cluster/scratch/bdayan/GIRG_data/socfb-CMU.SpaceOne\n",
      "/cluster/scratch/bdayan/GIRG_data/socfb-USC35.SpaceOne\n",
      "/cluster/scratch/bdayan/GIRG_data/socfb-UIllinois20.SpaceOne\n",
      "/cluster/scratch/bdayan/GIRG_data/socfb-UCLA.SpaceOne\n",
      "/cluster/scratch/bdayan/GIRG_data/socfb-Penn94.SpaceOne\n",
      "/cluster/scratch/bdayan/GIRG_data/socfb-Texas84.SpaceOne\n",
      "/cluster/scratch/bdayan/GIRG_data/socfb-Hamilton46.SpaceOne\n",
      "/cluster/scratch/bdayan/GIRG_data/socfb-Rutgers89.SpaceOne\n",
      "/cluster/scratch/bdayan/GIRG_data/socfb-UC61.SpaceOne\n",
      "/cluster/scratch/bdayan/GIRG_data/socfb-Yale4.SpaceOne\n",
      "/cluster/scratch/bdayan/GIRG_data/socfb-BC17.SpaceOne\n",
      "/cluster/scratch/bdayan/GIRG_data/socfb-UCSD34.SpaceOne\n",
      "/cluster/scratch/bdayan/GIRG_data/socfb-USFCA72.SpaceOne\n",
      "/cluster/scratch/bdayan/GIRG_data/socfb-Haverford76.SpaceOne\n",
      "/cluster/scratch/bdayan/GIRG_data/socfb-UConn91.SpaceOne\n",
      "/cluster/scratch/bdayan/GIRG_data/socfb-UF21.SpaceOne\n",
      "/cluster/scratch/bdayan/GIRG_data/socfb-Colgate88.SpaceOne\n",
      "/cluster/scratch/bdayan/GIRG_data/socfb-Bingham82.SpaceOne\n",
      "/cluster/scratch/bdayan/GIRG_data/socfb-Santa74.SpaceOne\n",
      "/cluster/scratch/bdayan/GIRG_data/socfb-Maine59.SpaceOne\n",
      "/cluster/scratch/bdayan/GIRG_data/socfb-Caltech36.SpaceOne\n",
      "/cluster/scratch/bdayan/GIRG_data/socfb-Mississippi66.SpaceOne\n",
      "/cluster/scratch/bdayan/GIRG_data/socfb-Northwestern25.SpaceOne\n",
      "/cluster/scratch/bdayan/GIRG_data/socfb-UCLA26.SpaceOne\n",
      "/cluster/scratch/bdayan/GIRG_data/socfb-Villanova62.SpaceOne\n",
      "/cluster/scratch/bdayan/GIRG_data/socfb-Tulane29.SpaceOne\n",
      "/cluster/scratch/bdayan/GIRG_data/socfb-UF.SpaceOne\n",
      "/cluster/scratch/bdayan/GIRG_data/socfb-Baylor93.SpaceOne\n",
      "/cluster/scratch/bdayan/GIRG_data/socfb-Oklahoma97.SpaceOne\n",
      "/cluster/scratch/bdayan/GIRG_data/socfb-Bucknell39.SpaceOne\n",
      "/cluster/scratch/bdayan/GIRG_data/socfb-Auburn71.SpaceOne\n",
      "/cluster/scratch/bdayan/GIRG_data/socfb-Cal65.SpaceOne\n",
      "/cluster/scratch/bdayan/GIRG_data/socfb-Wesleyan43.SpaceOne\n",
      "/cluster/scratch/bdayan/GIRG_data/socfb-Trinity100.SpaceOne\n",
      "/cluster/scratch/bdayan/GIRG_data/socfb-OR.SpaceOne\n",
      "/cluster/scratch/bdayan/GIRG_data/socfb-UCSC68.SpaceOne\n",
      "/cluster/scratch/bdayan/GIRG_data/socfb-UVA16.SpaceOne\n",
      "/cluster/scratch/bdayan/GIRG_data/socfb-Wake73.SpaceOne\n",
      "/cluster/scratch/bdayan/GIRG_data/socfb-UMass92.SpaceOne\n",
      "/cluster/scratch/bdayan/GIRG_data/socfb-Smith60.SpaceOne\n",
      "/cluster/scratch/bdayan/GIRG_data/socfb-Dartmouth6.SpaceOne\n",
      "/cluster/scratch/bdayan/GIRG_data/socfb-Cornell5.SpaceOne\n",
      "/cluster/scratch/bdayan/GIRG_data/socfb-Oberlin44.SpaceOne\n",
      "/cluster/scratch/bdayan/GIRG_data/socfb-Syracuse56.SpaceOne\n",
      "/cluster/scratch/bdayan/GIRG_data/socfb-Amherst41.SpaceOne\n",
      "/cluster/scratch/bdayan/GIRG_data/socfb-Indiana.SpaceOne\n",
      "/cluster/scratch/bdayan/GIRG_data/socfb-Vassar85.SpaceOne\n",
      "/cluster/scratch/bdayan/GIRG_data/socfb-UCF52.SpaceOne\n",
      "/cluster/scratch/bdayan/GIRG_data/socfb-BU10.SpaceOne\n",
      "/cluster/scratch/bdayan/GIRG_data/socfb-Northeastern19.SpaceOne\n"
     ]
    }
   ],
   "source": [
    "from benji_girgs import utils, generation, points, fitting, mcmc\n",
    "import os\n",
    "import glob\n",
    "import pandas as pd\n",
    "import networkit\n",
    "\n",
    "import networkit as nk\n",
    "\n",
    "from girg_sampling import girgs\n",
    "\n",
    "from IPython.core.interactiveshell import InteractiveShell\n",
    "InteractiveShell.ast_node_interactivity = \"all\"\n",
    "\n",
    "import numpy as np\n",
    "import matplotlib.pyplot as plt\n",
    "\n",
    "import do_feature_extract\n",
    "import networkx as nx\n",
    "\n",
    "import seaborn as sns"
   ],
   "metadata": {
    "collapsed": false,
    "ExecuteTime": {
     "start_time": "2023-08-16T14:21:11.394573Z",
     "end_time": "2023-08-16T14:21:13.019888Z"
    }
   }
  },
  {
   "cell_type": "code",
   "execution_count": 13,
   "outputs": [
    {
     "data": {
      "text/plain": "                   graph  d  nodes  \\\n6        socfb-Caltech36  1    762   \n11     socfb-Haverford76  1   1446   \n36    socfb-Swarthmore42  1   1657   \n0        socfb-Bowdoin47  1   2250   \n39      socfb-Trinity100  1   2613   \n48      socfb-Williams40  1   2788   \n33         socfb-Smith60  1   2970   \n19    socfb-Middlebury45  1   3069   \n23    socfb-Pepperdine86  1   3440   \n30         socfb-Santa74  1   3578   \n16          socfb-Mich67  1   3745   \n1       socfb-Brandeis99  1   3887   \n27          socfb-Rice31  1   4083   \n14        socfb-Lehigh96  1   5073   \n44          socfb-Wake73  1   5366   \n22             socfb-MIT  1   6402   \n47       socfb-William77  1   6472   \n26     socfb-Princeton12  1   6575   \n9              socfb-CMU  1   6621   \n42            socfb-UC64  1   6810   \n10         socfb-Emory27  1   7449   \n46         socfb-WashU32  1   7730   \n43     socfb-Villanova62  1   7755   \n51           socfb-Yale4  1   8561   \n52          socfb-UCSC68  1   8979   \n63    socfb-Georgetown15  1   9388   \n64       socfb-Bingham82  1  10001   \n72   socfb-Mississippi66  1  10519   \n75            socfb-BC17  1  11498   \n76       socfb-Columbia2  1  11706   \n77           socfb-GWU54  1  12164   \n78           socfb-USF51  1  13367   \n79        socfb-Temple83  1  13653   \n85  socfb-Northeastern19  1  13868   \n87          socfb-UPenn7  1  14888   \n\n                                                   ll  \\\n6   0   -86273.374115\n1   -83295.443279\n2   -82699...   \n11  0   -340634.747945\n1   -331833.937129\n2   -329...   \n36  0   -374095.656674\n1   -362400.910029\n2   -359...   \n0   0   -560396.175707\n1   -530639.545912\n2   -525...   \n39  0   -744636.543714\n1   -709978.832677\n2   -701...   \n48  0   -763681.188205\n1   -737302.593720\n2   -731...   \n33  0   -714189.762641\n1   -669093.376517\n2   -659...   \n19  0   -852149.730326\n1   -816747.056992\n2   -809...   \n23  0   -1.050110e+06\n1   -1.010516e+06\n2   -1.002...   \n30  0   -1.082252e+06\n1   -1.027087e+06\n2   -1.016...   \n16  0   -648308.119396\n1   -613369.178278\n2   -604...   \n1   0   -1.032980e+06\n1   -9.791972e+05\n2   -9.685...   \n27  0   -1.303713e+06\n1   -1.231228e+06\n2   -1.223...   \n14  0   -1.528767e+06\n1   -1.456106e+06\n2   -1.443...   \n44  0   -2.067715e+06\n1   -1.973314e+06\n2   -1.952...   \n22  0   -1.982155e+06\n1   -1.880185e+06\n2   -1.855...   \n47  0   -2.203819e+06\n1   -2.067621e+06\n2   -2.041...   \n26  0   -2.365159e+06\n1   -2.255773e+06\n2   -2.233...   \n9   0   -1.969616e+06\n1   -1.867124e+06\n2   -1.848...   \n42  0   -1.339715e+06\n1   -1.257540e+06\n2   -1.241...   \n10  0   -2.639862e+06\n1   -2.510220e+06\n2   -2.481...   \n46  0   -2.984849e+06\n1   -2.837298e+06\n2   -2.804...   \n43  0   -2.604170e+06\n1   -2.498719e+06\n2   -2.473...   \n51  0   -3.359953e+06\n1   -3.205175e+06\n2   -3.173...   \n52  0   -2.119100e+06\n1   -1.990804e+06\n2   -1.958...   \n63  0   -3.603366e+06\n1   -3.445454e+06\n2   -3.412...   \n64  0   -3.309622e+06\n1   -3.136400e+06\n2   -3.099...   \n72  0   -5.032920e+06\n1   -4.753717e+06\n2   -4.692...   \n75  0   -4.312920e+06\n1   -4.141227e+06\n2   -4.096...   \n76  0   -3.944704e+06\n1   -3.742841e+06\n2   -3.696...   \n77  0   -4.370752e+06\n1   -4.129734e+06\n2   -4.068...   \n78  0   -3.091265e+06\n1   -2.908785e+06\n2   -2.869...   \n79  0   -3.507493e+06\n1   -3.331967e+06\n2   -3.280...   \n85  0   -3.904803e+06\n1   -3.679381e+06\n2   -3.618...   \n87  0   -6.454171e+06\n1   -6.147135e+06\n2   -6.064...   \n\n                                                   CM  \\\n6   0    [[ 11282  22020]\\n [ 22012 525330]]\n1    ...   \n11  0    [[  33528   85650]\\n [  85910 1885828]]\n1...   \n36  0    [[  29376   92722]\\n [  92148 2531403]]\n1...   \n0   0    [[  38104  130668]\\n [ 131094 4762634]]\n1...   \n39  0    [[  50344  173648]\\n [ 173952 6429825]]\n1...   \n48  0    [[  51254  174716]\\n [ 175712 7371262]]\n1...   \n33  0    [[  39826  154440]\\n [ 155038 8471596]]\n1...   \n19  0    [[  56440  192774]\\n [ 193374 8976173]]\n1...   \n23  0    [[   64970   239036]\\n [  237384 11292210...   \n30  0    [[   60422   243072]\\n [  243580 12255010...   \n16  0    [[   31994   131808]\\n [  131070 13730153...   \n1   0    [[   49040   226082]\\n [  226302 14607345...   \n27  0    [[   82650   287002]\\n [  286712 16014525...   \n14  0    [[   76638   320054]\\n [  319738 25018899...   \n44  0    [[  105970   452402]\\n [  453544 27782040...   \n22  0    [[   82756   419704]\\n [  419626 40063518...   \n47  0    [[   79056   453700]\\n [  455200 40898828...   \n26  0    [[   87510   499104]\\n [  498544 42145467...   \n9   0    [[   90060   409858]\\n [  409552 42928171...   \n42  0    [[   57032   253608]\\n [  253406 45812054...   \n10  0    [[  127872   532144]\\n [  531462 54296123...   \n46  0    [[  118214   616838]\\n [  618334 58399514...   \n43  0    [[  101658   528302]\\n [  530540 58979525...   \n51  0    [[  121664   689216]\\n [  690906 71788935...   \n52  0    [[   61786   387370]\\n [  387772 79785513...   \n63  0    [[  126604   724634]\\n [  725620 86557686...   \n64  0    [[  104280   621504]\\n [  623234 98670983...   \n72  0    [[   205092   1016728]\\n [  1015372 10841...   \n75  0    [[   131710    842212]\\n [   844536 13038...   \n76  0    [[   117622    770968]\\n [   772902 13536...   \n77  0    [[   117924    821098]\\n [   822714 14620...   \n78  0    [[    91856    550562]\\n [   551596 17748...   \n79  0    [[    86830    634718]\\n [   635732 18504...   \n85  0    [[    78004    685834]\\n [   684370 19087...   \n87  0    [[   157028   1215942]\\n [  1218184 21906...   \n\n                                                  pec  \\\n6   0    0.338778\n1    0.367606\n2    0.371749\n3   ...   \n11  0    0.281327\n1    0.310242\n2    0.310561\n3   ...   \n36  0    0.240594\n1    0.268850\n2    0.272846\n3   ...   \n0   0    0.225772\n1    0.275508\n2    0.284087\n3   ...   \n39  0    0.224758\n1    0.268769\n2    0.282715\n3   ...   \n48  0    0.226818\n1    0.259928\n2    0.268044\n3   ...   \n33  0    0.205008\n1    0.264617\n2    0.275468\n3   ...   \n19  0    0.226472\n1    0.264841\n2    0.272112\n3   ...   \n23  0    0.213713\n1    0.249114\n2    0.256390\n3   ...   \n30  0    0.199088\n1    0.247774\n2    0.258641\n3   ...   \n16  0    0.195321\n1    0.246273\n2    0.259472\n3   ...   \n1   0    0.178248\n1    0.228902\n2    0.238934\n3   ...   \n27  0    0.223589\n1    0.279246\n2    0.284278\n3   ...   \n14  0    0.193193\n1    0.239284\n2    0.247366\n3   ...   \n44  0    0.189784\n1    0.232404\n2    0.242537\n3   ...   \n22  0    0.164702\n1    0.215989\n2    0.228492\n3   ...   \n47  0    0.148391\n1    0.213302\n2    0.227046\n3   ...   \n26  0    0.149178\n1    0.193991\n2    0.203660\n3   ...   \n9   0    0.180150\n1    0.232254\n2    0.242448\n3   ...   \n42  0    0.183595\n1    0.244869\n2    0.257230\n3   ...   \n10  0    0.193741\n1    0.241009\n2    0.250697\n3   ...   \n46  0    0.160824\n1    0.209787\n2    0.222286\n3   ...   \n43  0    0.161372\n1    0.205080\n2    0.214715\n3   ...   \n51  0    0.150039\n1    0.196172\n2    0.205850\n3   ...   \n52  0    0.137560\n1    0.197281\n2    0.213338\n3   ...   \n63  0    0.148729\n1    0.194742\n2    0.202834\n3   ...   \n64  0    0.143679\n1    0.194149\n2    0.209916\n3   ...   \n72  0    0.167858\n1    0.221807\n2    0.235427\n3   ...   \n75  0    0.135237\n1    0.177992\n2    0.190311\n3   ...   \n76  0    0.132369\n1    0.179066\n2    0.191447\n3   ...   \n77  0    0.125582\n1    0.178952\n2    0.194083\n3   ...   \n78  0    0.142985\n1    0.202024\n2    0.217877\n3   ...   \n79  0    0.120338\n1    0.166800\n2    0.182934\n3   ...   \n85  0    0.102121\n1    0.156109\n2    0.174312\n3   ...   \n87  0    0.114371\n1    0.163130\n2    0.176840\n3   ...   \n\n                                                alpha  final_pec  \\\n6   0    1.262849\n1    1.219152\n2    1.219152\n3   ...   0.373371   \n11  0    1.109010\n1    1.147509\n2    1.147509\n3   ...   0.309789   \n36  0    1.031739\n1    1.045512\n2    1.057517\n3   ...   0.277384   \n0   0    1.094766\n1    1.092660\n2    1.130548\n3   ...   0.294622   \n39  0    1.113431\n1    1.114453\n2    1.151552\n3   ...   0.285242   \n48  0    1.121260\n1    1.157555\n2    1.157555\n3   ...   0.274205   \n33  0    1.137677\n1    1.137677\n2    1.137677\n3   ...   0.281181   \n19  0    1.146931\n1    1.129382\n2    1.125115\n3   ...   0.278171   \n23  0    1.149762\n1    1.149762\n2    1.149762\n3   ...   0.261883   \n30  0    1.054004\n1    1.062060\n2    1.071624\n3   ...   0.265837   \n16  0    1.123004\n1    1.123004\n2    1.138001\n3   ...   0.265870   \n1   0    1.041088\n1    1.089323\n2    1.102333\n3   ...   0.247941   \n27  0    1.127853\n1    1.127853\n2    1.127853\n3   ...   0.288861   \n14  0    1.096207\n1    1.043069\n2    1.041408\n3   ...   0.251868   \n44  0    1.072070\n1    1.034406\n2    1.013457\n3   ...   0.256639   \n22  0    1.065305\n1    1.065305\n2    1.065305\n3   ...   0.237635   \n47  0    1.022813\n1    1.033902\n2    1.026119\n3   ...   0.235053   \n26  0    1.003592\n1    1.008707\n2    1.024220\n3   ...   0.216302   \n9   0    1.056614\n1    1.069330\n2    1.069330\n3   ...   0.249257   \n42  0    1.134439\n1    1.182646\n2    1.182646\n3   ...   0.264454   \n10  0    1.187844\n1    1.187844\n2    1.187844\n3   ...   0.262003   \n46  0    1.018453\n1    1.024772\n2    1.017150\n3   ...   0.230599   \n43  0    1.036198\n1    1.061049\n2    1.061049\n3   ...   0.221773   \n51  0    1.005043\n1    1.008926\n2    1.008427\n3   ...   0.213869   \n52  0    1.108705\n1    1.116878\n2    1.124304\n3   ...   0.229933   \n63  0    1.023860\n1    1.057415\n2    1.057415\n3   ...   0.209114   \n64  0    1.004509\n1    1.011402\n2    1.033711\n3   ...   0.219305   \n72  0    1.088814\n1    1.054760\n2    1.054760\n3   ...   0.244314   \n75  0    1.000956\n1    1.002725\n2    1.007338\n3   ...   0.205947   \n76  0    1.002015\n1    1.003993\n2    1.011773\n3   ...   0.201744   \n77  0    1.011670\n1    1.017946\n2    1.015188\n3   ...   0.205288   \n78  0    1.014865\n1    1.044492\n2    1.091082\n3   ...   0.229312   \n79  0    1.003588\n1    1.008783\n2    1.025427\n3   ...   0.202451   \n85  0    1.001537\n1    1.003928\n2    1.010291\n3   ...   0.190622   \n87  0    1.000554\n1    1.000037\n2    1.000003\n3   ...   0.189318   \n\n        final_ll  final_alpha  \n6  -8.216017e+04     1.223201  \n11 -3.281807e+05     1.147509  \n36 -3.576541e+05     1.057432  \n0  -5.187688e+05     1.143041  \n39 -6.978613e+05     1.180822  \n48 -7.266907e+05     1.157555  \n33 -6.537856e+05     1.137677  \n19 -8.031259e+05     1.124965  \n23 -9.954463e+05     1.142459  \n30 -1.009238e+06     1.071624  \n16 -5.982952e+05     1.133991  \n1  -9.588554e+05     1.102333  \n27 -1.218041e+06     1.132064  \n14 -1.433515e+06     1.020872  \n44 -1.924050e+06     1.009186  \n22 -1.838782e+06     1.080174  \n47 -2.024606e+06     1.011546  \n26 -2.212733e+06     1.054046  \n9  -1.834056e+06     1.069330  \n42 -1.228642e+06     1.169261  \n10 -2.453822e+06     1.218211  \n46 -2.778544e+06     1.007042  \n43 -2.453912e+06     1.051884  \n51 -3.147389e+06     1.004952  \n52 -1.925246e+06     1.113070  \n63 -3.380491e+06     1.057415  \n64 -3.069836e+06     1.037347  \n72 -4.650304e+06     1.049495  \n75 -4.048885e+06     1.021388  \n76 -3.660169e+06     1.009962  \n77 -4.022104e+06     1.004696  \n78 -2.834902e+06     1.122376  \n79 -3.227486e+06     1.054641  \n85 -3.564846e+06     1.019116  \n87 -5.992433e+06     1.000000  ",
      "text/html": "<div>\n<style scoped>\n    .dataframe tbody tr th:only-of-type {\n        vertical-align: middle;\n    }\n\n    .dataframe tbody tr th {\n        vertical-align: top;\n    }\n\n    .dataframe thead th {\n        text-align: right;\n    }\n</style>\n<table border=\"1\" class=\"dataframe\">\n  <thead>\n    <tr style=\"text-align: right;\">\n      <th></th>\n      <th>graph</th>\n      <th>d</th>\n      <th>nodes</th>\n      <th>ll</th>\n      <th>CM</th>\n      <th>pec</th>\n      <th>alpha</th>\n      <th>final_pec</th>\n      <th>final_ll</th>\n      <th>final_alpha</th>\n    </tr>\n  </thead>\n  <tbody>\n    <tr>\n      <th>6</th>\n      <td>socfb-Caltech36</td>\n      <td>1</td>\n      <td>762</td>\n      <td>0   -86273.374115\n1   -83295.443279\n2   -82699...</td>\n      <td>0    [[ 11282  22020]\\n [ 22012 525330]]\n1    ...</td>\n      <td>0    0.338778\n1    0.367606\n2    0.371749\n3   ...</td>\n      <td>0    1.262849\n1    1.219152\n2    1.219152\n3   ...</td>\n      <td>0.373371</td>\n      <td>-8.216017e+04</td>\n      <td>1.223201</td>\n    </tr>\n    <tr>\n      <th>11</th>\n      <td>socfb-Haverford76</td>\n      <td>1</td>\n      <td>1446</td>\n      <td>0   -340634.747945\n1   -331833.937129\n2   -329...</td>\n      <td>0    [[  33528   85650]\\n [  85910 1885828]]\n1...</td>\n      <td>0    0.281327\n1    0.310242\n2    0.310561\n3   ...</td>\n      <td>0    1.109010\n1    1.147509\n2    1.147509\n3   ...</td>\n      <td>0.309789</td>\n      <td>-3.281807e+05</td>\n      <td>1.147509</td>\n    </tr>\n    <tr>\n      <th>36</th>\n      <td>socfb-Swarthmore42</td>\n      <td>1</td>\n      <td>1657</td>\n      <td>0   -374095.656674\n1   -362400.910029\n2   -359...</td>\n      <td>0    [[  29376   92722]\\n [  92148 2531403]]\n1...</td>\n      <td>0    0.240594\n1    0.268850\n2    0.272846\n3   ...</td>\n      <td>0    1.031739\n1    1.045512\n2    1.057517\n3   ...</td>\n      <td>0.277384</td>\n      <td>-3.576541e+05</td>\n      <td>1.057432</td>\n    </tr>\n    <tr>\n      <th>0</th>\n      <td>socfb-Bowdoin47</td>\n      <td>1</td>\n      <td>2250</td>\n      <td>0   -560396.175707\n1   -530639.545912\n2   -525...</td>\n      <td>0    [[  38104  130668]\\n [ 131094 4762634]]\n1...</td>\n      <td>0    0.225772\n1    0.275508\n2    0.284087\n3   ...</td>\n      <td>0    1.094766\n1    1.092660\n2    1.130548\n3   ...</td>\n      <td>0.294622</td>\n      <td>-5.187688e+05</td>\n      <td>1.143041</td>\n    </tr>\n    <tr>\n      <th>39</th>\n      <td>socfb-Trinity100</td>\n      <td>1</td>\n      <td>2613</td>\n      <td>0   -744636.543714\n1   -709978.832677\n2   -701...</td>\n      <td>0    [[  50344  173648]\\n [ 173952 6429825]]\n1...</td>\n      <td>0    0.224758\n1    0.268769\n2    0.282715\n3   ...</td>\n      <td>0    1.113431\n1    1.114453\n2    1.151552\n3   ...</td>\n      <td>0.285242</td>\n      <td>-6.978613e+05</td>\n      <td>1.180822</td>\n    </tr>\n    <tr>\n      <th>48</th>\n      <td>socfb-Williams40</td>\n      <td>1</td>\n      <td>2788</td>\n      <td>0   -763681.188205\n1   -737302.593720\n2   -731...</td>\n      <td>0    [[  51254  174716]\\n [ 175712 7371262]]\n1...</td>\n      <td>0    0.226818\n1    0.259928\n2    0.268044\n3   ...</td>\n      <td>0    1.121260\n1    1.157555\n2    1.157555\n3   ...</td>\n      <td>0.274205</td>\n      <td>-7.266907e+05</td>\n      <td>1.157555</td>\n    </tr>\n    <tr>\n      <th>33</th>\n      <td>socfb-Smith60</td>\n      <td>1</td>\n      <td>2970</td>\n      <td>0   -714189.762641\n1   -669093.376517\n2   -659...</td>\n      <td>0    [[  39826  154440]\\n [ 155038 8471596]]\n1...</td>\n      <td>0    0.205008\n1    0.264617\n2    0.275468\n3   ...</td>\n      <td>0    1.137677\n1    1.137677\n2    1.137677\n3   ...</td>\n      <td>0.281181</td>\n      <td>-6.537856e+05</td>\n      <td>1.137677</td>\n    </tr>\n    <tr>\n      <th>19</th>\n      <td>socfb-Middlebury45</td>\n      <td>1</td>\n      <td>3069</td>\n      <td>0   -852149.730326\n1   -816747.056992\n2   -809...</td>\n      <td>0    [[  56440  192774]\\n [ 193374 8976173]]\n1...</td>\n      <td>0    0.226472\n1    0.264841\n2    0.272112\n3   ...</td>\n      <td>0    1.146931\n1    1.129382\n2    1.125115\n3   ...</td>\n      <td>0.278171</td>\n      <td>-8.031259e+05</td>\n      <td>1.124965</td>\n    </tr>\n    <tr>\n      <th>23</th>\n      <td>socfb-Pepperdine86</td>\n      <td>1</td>\n      <td>3440</td>\n      <td>0   -1.050110e+06\n1   -1.010516e+06\n2   -1.002...</td>\n      <td>0    [[   64970   239036]\\n [  237384 11292210...</td>\n      <td>0    0.213713\n1    0.249114\n2    0.256390\n3   ...</td>\n      <td>0    1.149762\n1    1.149762\n2    1.149762\n3   ...</td>\n      <td>0.261883</td>\n      <td>-9.954463e+05</td>\n      <td>1.142459</td>\n    </tr>\n    <tr>\n      <th>30</th>\n      <td>socfb-Santa74</td>\n      <td>1</td>\n      <td>3578</td>\n      <td>0   -1.082252e+06\n1   -1.027087e+06\n2   -1.016...</td>\n      <td>0    [[   60422   243072]\\n [  243580 12255010...</td>\n      <td>0    0.199088\n1    0.247774\n2    0.258641\n3   ...</td>\n      <td>0    1.054004\n1    1.062060\n2    1.071624\n3   ...</td>\n      <td>0.265837</td>\n      <td>-1.009238e+06</td>\n      <td>1.071624</td>\n    </tr>\n    <tr>\n      <th>16</th>\n      <td>socfb-Mich67</td>\n      <td>1</td>\n      <td>3745</td>\n      <td>0   -648308.119396\n1   -613369.178278\n2   -604...</td>\n      <td>0    [[   31994   131808]\\n [  131070 13730153...</td>\n      <td>0    0.195321\n1    0.246273\n2    0.259472\n3   ...</td>\n      <td>0    1.123004\n1    1.123004\n2    1.138001\n3   ...</td>\n      <td>0.265870</td>\n      <td>-5.982952e+05</td>\n      <td>1.133991</td>\n    </tr>\n    <tr>\n      <th>1</th>\n      <td>socfb-Brandeis99</td>\n      <td>1</td>\n      <td>3887</td>\n      <td>0   -1.032980e+06\n1   -9.791972e+05\n2   -9.685...</td>\n      <td>0    [[   49040   226082]\\n [  226302 14607345...</td>\n      <td>0    0.178248\n1    0.228902\n2    0.238934\n3   ...</td>\n      <td>0    1.041088\n1    1.089323\n2    1.102333\n3   ...</td>\n      <td>0.247941</td>\n      <td>-9.588554e+05</td>\n      <td>1.102333</td>\n    </tr>\n    <tr>\n      <th>27</th>\n      <td>socfb-Rice31</td>\n      <td>1</td>\n      <td>4083</td>\n      <td>0   -1.303713e+06\n1   -1.231228e+06\n2   -1.223...</td>\n      <td>0    [[   82650   287002]\\n [  286712 16014525...</td>\n      <td>0    0.223589\n1    0.279246\n2    0.284278\n3   ...</td>\n      <td>0    1.127853\n1    1.127853\n2    1.127853\n3   ...</td>\n      <td>0.288861</td>\n      <td>-1.218041e+06</td>\n      <td>1.132064</td>\n    </tr>\n    <tr>\n      <th>14</th>\n      <td>socfb-Lehigh96</td>\n      <td>1</td>\n      <td>5073</td>\n      <td>0   -1.528767e+06\n1   -1.456106e+06\n2   -1.443...</td>\n      <td>0    [[   76638   320054]\\n [  319738 25018899...</td>\n      <td>0    0.193193\n1    0.239284\n2    0.247366\n3   ...</td>\n      <td>0    1.096207\n1    1.043069\n2    1.041408\n3   ...</td>\n      <td>0.251868</td>\n      <td>-1.433515e+06</td>\n      <td>1.020872</td>\n    </tr>\n    <tr>\n      <th>44</th>\n      <td>socfb-Wake73</td>\n      <td>1</td>\n      <td>5366</td>\n      <td>0   -2.067715e+06\n1   -1.973314e+06\n2   -1.952...</td>\n      <td>0    [[  105970   452402]\\n [  453544 27782040...</td>\n      <td>0    0.189784\n1    0.232404\n2    0.242537\n3   ...</td>\n      <td>0    1.072070\n1    1.034406\n2    1.013457\n3   ...</td>\n      <td>0.256639</td>\n      <td>-1.924050e+06</td>\n      <td>1.009186</td>\n    </tr>\n    <tr>\n      <th>22</th>\n      <td>socfb-MIT</td>\n      <td>1</td>\n      <td>6402</td>\n      <td>0   -1.982155e+06\n1   -1.880185e+06\n2   -1.855...</td>\n      <td>0    [[   82756   419704]\\n [  419626 40063518...</td>\n      <td>0    0.164702\n1    0.215989\n2    0.228492\n3   ...</td>\n      <td>0    1.065305\n1    1.065305\n2    1.065305\n3   ...</td>\n      <td>0.237635</td>\n      <td>-1.838782e+06</td>\n      <td>1.080174</td>\n    </tr>\n    <tr>\n      <th>47</th>\n      <td>socfb-William77</td>\n      <td>1</td>\n      <td>6472</td>\n      <td>0   -2.203819e+06\n1   -2.067621e+06\n2   -2.041...</td>\n      <td>0    [[   79056   453700]\\n [  455200 40898828...</td>\n      <td>0    0.148391\n1    0.213302\n2    0.227046\n3   ...</td>\n      <td>0    1.022813\n1    1.033902\n2    1.026119\n3   ...</td>\n      <td>0.235053</td>\n      <td>-2.024606e+06</td>\n      <td>1.011546</td>\n    </tr>\n    <tr>\n      <th>26</th>\n      <td>socfb-Princeton12</td>\n      <td>1</td>\n      <td>6575</td>\n      <td>0   -2.365159e+06\n1   -2.255773e+06\n2   -2.233...</td>\n      <td>0    [[   87510   499104]\\n [  498544 42145467...</td>\n      <td>0    0.149178\n1    0.193991\n2    0.203660\n3   ...</td>\n      <td>0    1.003592\n1    1.008707\n2    1.024220\n3   ...</td>\n      <td>0.216302</td>\n      <td>-2.212733e+06</td>\n      <td>1.054046</td>\n    </tr>\n    <tr>\n      <th>9</th>\n      <td>socfb-CMU</td>\n      <td>1</td>\n      <td>6621</td>\n      <td>0   -1.969616e+06\n1   -1.867124e+06\n2   -1.848...</td>\n      <td>0    [[   90060   409858]\\n [  409552 42928171...</td>\n      <td>0    0.180150\n1    0.232254\n2    0.242448\n3   ...</td>\n      <td>0    1.056614\n1    1.069330\n2    1.069330\n3   ...</td>\n      <td>0.249257</td>\n      <td>-1.834056e+06</td>\n      <td>1.069330</td>\n    </tr>\n    <tr>\n      <th>42</th>\n      <td>socfb-UC64</td>\n      <td>1</td>\n      <td>6810</td>\n      <td>0   -1.339715e+06\n1   -1.257540e+06\n2   -1.241...</td>\n      <td>0    [[   57032   253608]\\n [  253406 45812054...</td>\n      <td>0    0.183595\n1    0.244869\n2    0.257230\n3   ...</td>\n      <td>0    1.134439\n1    1.182646\n2    1.182646\n3   ...</td>\n      <td>0.264454</td>\n      <td>-1.228642e+06</td>\n      <td>1.169261</td>\n    </tr>\n    <tr>\n      <th>10</th>\n      <td>socfb-Emory27</td>\n      <td>1</td>\n      <td>7449</td>\n      <td>0   -2.639862e+06\n1   -2.510220e+06\n2   -2.481...</td>\n      <td>0    [[  127872   532144]\\n [  531462 54296123...</td>\n      <td>0    0.193741\n1    0.241009\n2    0.250697\n3   ...</td>\n      <td>0    1.187844\n1    1.187844\n2    1.187844\n3   ...</td>\n      <td>0.262003</td>\n      <td>-2.453822e+06</td>\n      <td>1.218211</td>\n    </tr>\n    <tr>\n      <th>46</th>\n      <td>socfb-WashU32</td>\n      <td>1</td>\n      <td>7730</td>\n      <td>0   -2.984849e+06\n1   -2.837298e+06\n2   -2.804...</td>\n      <td>0    [[  118214   616838]\\n [  618334 58399514...</td>\n      <td>0    0.160824\n1    0.209787\n2    0.222286\n3   ...</td>\n      <td>0    1.018453\n1    1.024772\n2    1.017150\n3   ...</td>\n      <td>0.230599</td>\n      <td>-2.778544e+06</td>\n      <td>1.007042</td>\n    </tr>\n    <tr>\n      <th>43</th>\n      <td>socfb-Villanova62</td>\n      <td>1</td>\n      <td>7755</td>\n      <td>0   -2.604170e+06\n1   -2.498719e+06\n2   -2.473...</td>\n      <td>0    [[  101658   528302]\\n [  530540 58979525...</td>\n      <td>0    0.161372\n1    0.205080\n2    0.214715\n3   ...</td>\n      <td>0    1.036198\n1    1.061049\n2    1.061049\n3   ...</td>\n      <td>0.221773</td>\n      <td>-2.453912e+06</td>\n      <td>1.051884</td>\n    </tr>\n    <tr>\n      <th>51</th>\n      <td>socfb-Yale4</td>\n      <td>1</td>\n      <td>8561</td>\n      <td>0   -3.359953e+06\n1   -3.205175e+06\n2   -3.173...</td>\n      <td>0    [[  121664   689216]\\n [  690906 71788935...</td>\n      <td>0    0.150039\n1    0.196172\n2    0.205850\n3   ...</td>\n      <td>0    1.005043\n1    1.008926\n2    1.008427\n3   ...</td>\n      <td>0.213869</td>\n      <td>-3.147389e+06</td>\n      <td>1.004952</td>\n    </tr>\n    <tr>\n      <th>52</th>\n      <td>socfb-UCSC68</td>\n      <td>1</td>\n      <td>8979</td>\n      <td>0   -2.119100e+06\n1   -1.990804e+06\n2   -1.958...</td>\n      <td>0    [[   61786   387370]\\n [  387772 79785513...</td>\n      <td>0    0.137560\n1    0.197281\n2    0.213338\n3   ...</td>\n      <td>0    1.108705\n1    1.116878\n2    1.124304\n3   ...</td>\n      <td>0.229933</td>\n      <td>-1.925246e+06</td>\n      <td>1.113070</td>\n    </tr>\n    <tr>\n      <th>63</th>\n      <td>socfb-Georgetown15</td>\n      <td>1</td>\n      <td>9388</td>\n      <td>0   -3.603366e+06\n1   -3.445454e+06\n2   -3.412...</td>\n      <td>0    [[  126604   724634]\\n [  725620 86557686...</td>\n      <td>0    0.148729\n1    0.194742\n2    0.202834\n3   ...</td>\n      <td>0    1.023860\n1    1.057415\n2    1.057415\n3   ...</td>\n      <td>0.209114</td>\n      <td>-3.380491e+06</td>\n      <td>1.057415</td>\n    </tr>\n    <tr>\n      <th>64</th>\n      <td>socfb-Bingham82</td>\n      <td>1</td>\n      <td>10001</td>\n      <td>0   -3.309622e+06\n1   -3.136400e+06\n2   -3.099...</td>\n      <td>0    [[  104280   621504]\\n [  623234 98670983...</td>\n      <td>0    0.143679\n1    0.194149\n2    0.209916\n3   ...</td>\n      <td>0    1.004509\n1    1.011402\n2    1.033711\n3   ...</td>\n      <td>0.219305</td>\n      <td>-3.069836e+06</td>\n      <td>1.037347</td>\n    </tr>\n    <tr>\n      <th>72</th>\n      <td>socfb-Mississippi66</td>\n      <td>1</td>\n      <td>10519</td>\n      <td>0   -5.032920e+06\n1   -4.753717e+06\n2   -4.692...</td>\n      <td>0    [[   205092   1016728]\\n [  1015372 10841...</td>\n      <td>0    0.167858\n1    0.221807\n2    0.235427\n3   ...</td>\n      <td>0    1.088814\n1    1.054760\n2    1.054760\n3   ...</td>\n      <td>0.244314</td>\n      <td>-4.650304e+06</td>\n      <td>1.049495</td>\n    </tr>\n    <tr>\n      <th>75</th>\n      <td>socfb-BC17</td>\n      <td>1</td>\n      <td>11498</td>\n      <td>0   -4.312920e+06\n1   -4.141227e+06\n2   -4.096...</td>\n      <td>0    [[   131710    842212]\\n [   844536 13038...</td>\n      <td>0    0.135237\n1    0.177992\n2    0.190311\n3   ...</td>\n      <td>0    1.000956\n1    1.002725\n2    1.007338\n3   ...</td>\n      <td>0.205947</td>\n      <td>-4.048885e+06</td>\n      <td>1.021388</td>\n    </tr>\n    <tr>\n      <th>76</th>\n      <td>socfb-Columbia2</td>\n      <td>1</td>\n      <td>11706</td>\n      <td>0   -3.944704e+06\n1   -3.742841e+06\n2   -3.696...</td>\n      <td>0    [[   117622    770968]\\n [   772902 13536...</td>\n      <td>0    0.132369\n1    0.179066\n2    0.191447\n3   ...</td>\n      <td>0    1.002015\n1    1.003993\n2    1.011773\n3   ...</td>\n      <td>0.201744</td>\n      <td>-3.660169e+06</td>\n      <td>1.009962</td>\n    </tr>\n    <tr>\n      <th>77</th>\n      <td>socfb-GWU54</td>\n      <td>1</td>\n      <td>12164</td>\n      <td>0   -4.370752e+06\n1   -4.129734e+06\n2   -4.068...</td>\n      <td>0    [[   117924    821098]\\n [   822714 14620...</td>\n      <td>0    0.125582\n1    0.178952\n2    0.194083\n3   ...</td>\n      <td>0    1.011670\n1    1.017946\n2    1.015188\n3   ...</td>\n      <td>0.205288</td>\n      <td>-4.022104e+06</td>\n      <td>1.004696</td>\n    </tr>\n    <tr>\n      <th>78</th>\n      <td>socfb-USF51</td>\n      <td>1</td>\n      <td>13367</td>\n      <td>0   -3.091265e+06\n1   -2.908785e+06\n2   -2.869...</td>\n      <td>0    [[    91856    550562]\\n [   551596 17748...</td>\n      <td>0    0.142985\n1    0.202024\n2    0.217877\n3   ...</td>\n      <td>0    1.014865\n1    1.044492\n2    1.091082\n3   ...</td>\n      <td>0.229312</td>\n      <td>-2.834902e+06</td>\n      <td>1.122376</td>\n    </tr>\n    <tr>\n      <th>79</th>\n      <td>socfb-Temple83</td>\n      <td>1</td>\n      <td>13653</td>\n      <td>0   -3.507493e+06\n1   -3.331967e+06\n2   -3.280...</td>\n      <td>0    [[    86830    634718]\\n [   635732 18504...</td>\n      <td>0    0.120338\n1    0.166800\n2    0.182934\n3   ...</td>\n      <td>0    1.003588\n1    1.008783\n2    1.025427\n3   ...</td>\n      <td>0.202451</td>\n      <td>-3.227486e+06</td>\n      <td>1.054641</td>\n    </tr>\n    <tr>\n      <th>85</th>\n      <td>socfb-Northeastern19</td>\n      <td>1</td>\n      <td>13868</td>\n      <td>0   -3.904803e+06\n1   -3.679381e+06\n2   -3.618...</td>\n      <td>0    [[    78004    685834]\\n [   684370 19087...</td>\n      <td>0    0.102121\n1    0.156109\n2    0.174312\n3   ...</td>\n      <td>0    1.001537\n1    1.003928\n2    1.010291\n3   ...</td>\n      <td>0.190622</td>\n      <td>-3.564846e+06</td>\n      <td>1.019116</td>\n    </tr>\n    <tr>\n      <th>87</th>\n      <td>socfb-UPenn7</td>\n      <td>1</td>\n      <td>14888</td>\n      <td>0   -6.454171e+06\n1   -6.147135e+06\n2   -6.064...</td>\n      <td>0    [[   157028   1215942]\\n [  1218184 21906...</td>\n      <td>0    0.114371\n1    0.163130\n2    0.176840\n3   ...</td>\n      <td>0    1.000554\n1    1.000037\n2    1.000003\n3   ...</td>\n      <td>0.189318</td>\n      <td>-5.992433e+06</td>\n      <td>1.000000</td>\n    </tr>\n  </tbody>\n</table>\n</div>"
     },
     "execution_count": 13,
     "metadata": {},
     "output_type": "execute_result"
    }
   ],
   "source": [
    "df_out[df_out.d == 1].sort_values('nodes')"
   ],
   "metadata": {
    "collapsed": false,
    "ExecuteTime": {
     "start_time": "2023-08-16T14:26:15.804139Z",
     "end_time": "2023-08-16T14:26:15.974798Z"
    }
   }
  },
  {
   "cell_type": "code",
   "execution_count": 17,
   "outputs": [
    {
     "data": {
      "text/plain": "['/cluster/home/bdayan/girgs/MCMC_ordered6/pickles/Icon\\r',\n '/cluster/home/bdayan/girgs/MCMC_ordered6/pickles/socfb-Caltech36-1d.pkl',\n '/cluster/home/bdayan/girgs/MCMC_ordered6/pickles/socfb-Caltech36-2d.pkl',\n '/cluster/home/bdayan/girgs/MCMC_ordered6/pickles/socfb-Caltech36-3d.pkl']"
     },
     "execution_count": 17,
     "metadata": {},
     "output_type": "execute_result"
    }
   ],
   "source": [
    "fn_pickles2 = sorted(glob.glob(folder + 'pickles/*'), key=os.path.getsize)\n",
    "fn_pickles2[:4]"
   ],
   "metadata": {
    "collapsed": false,
    "ExecuteTime": {
     "start_time": "2023-08-16T14:36:03.140295Z",
     "end_time": "2023-08-16T14:36:03.180538Z"
    }
   }
  },
  {
   "cell_type": "code",
   "execution_count": 5,
   "outputs": [],
   "source": [
    "import pickle\n",
    "import glob\n",
    "folder = '/cluster/home/bdayan/girgs/MCMC_ordered6/'\n",
    "fn_pickles = glob.glob(folder + 'pickles/*')\n",
    "fn_dfs = glob.glob(folder + 'dfs/*')\n",
    "\n",
    "# i = 1\n",
    "# fn = fn_pickles[i]\n",
    "# print(fn)\n",
    "# with open(fn, 'rb') as f:\n",
    "#     MC = pickle.load(f)\n",
    "# fn = fn_dfs[i]\n",
    "# print(fn)\n",
    "# df = pd.read_csv(fn)\n",
    "\n",
    "import re\n",
    "df_out = pd.DataFrame(columns=['graph', 'd', 'nodes', 'll', 'CM', 'pec', 'alpha'])\n",
    "\n",
    "for fn_df in fn_dfs:\n",
    "    name, d, nodes = re.match(f'.*(socfb-.*)-(\\d)d_nodes_(\\d*).csv', fn_df).groups()\n",
    "    d, nodes = int(d), int(nodes)\n",
    "    df = pd.read_csv(fn_df)\n",
    "    ll, CM, pec, alpha = df.ll, df.out, df.pec, df.alpha\n",
    "    df_out = df_out.append({'graph': name, 'd': d, 'nodes': nodes, 'll': ll, 'CM': CM, 'pec': pec, 'alpha': alpha}, ignore_index=True)\n",
    "\n",
    "df_out['final_pec'] = df_out.pec.apply(lambda x: x.iloc[-1])\n",
    "df_out['final_ll'] = df_out.ll.apply(lambda x: x.iloc[-1])\n",
    "df_out['final_alpha'] = df_out.alpha.apply(lambda x: x.iloc[-1])\n"
   ],
   "metadata": {
    "collapsed": false,
    "ExecuteTime": {
     "start_time": "2023-08-16T14:21:42.107470Z",
     "end_time": "2023-08-16T14:21:42.706864Z"
    }
   }
  },
  {
   "cell_type": "code",
   "execution_count": 10,
   "outputs": [
    {
     "name": "stdout",
     "output_type": "stream",
     "text": [
      "16585\n",
      "16651\n",
      "0.4805717374331872\n"
     ]
    }
   ],
   "source": [
    "def fix_fn(fn):\n",
    "    with open(fn, 'rb') as file:\n",
    "        MC = pickle.load(file)\n",
    "\n",
    "    name = MC.graph_name[:-3]\n",
    "    name\n",
    "    MC.percent_edges_captureds[-1]\n",
    "    g = nk.readGraph(f'/cluster/scratch/bdayan/GIRG_data/{name}.SpaceOne', nk.Format.EdgeListSpaceOne)\n",
    "    g = utils.get_largest_component(g)\n",
    "    MC.g = g\n",
    "    gnx = nk.nxadapter.nk2nx(g)\n",
    "    A = nx.adjacency_matrix(gnx).todense()\n",
    "    MC.A = A\n",
    "\n",
    "    MC.failure_prob = 0.0\n",
    "    MC.cl_mixin_prob = 0.0\n",
    "    for _ in range(8):\n",
    "        MC.ll, MC.expected_num_edges = MC.calculate_ll()\n",
    "        MC.calibrate_const()\n",
    "        MC.const\n",
    "\n",
    "    g_out, _, out, pec, pefw = MC.get_CM(A, failure_prob=0.0)\n",
    "    print(g_out.numberOfEdges())\n",
    "    print(g.numberOfEdges())\n",
    "    print(pec)\n",
    "    return out, pec\n",
    "\n",
    "out, pec = fix_fn(fn_pickles[0])"
   ],
   "metadata": {
    "collapsed": false,
    "ExecuteTime": {
     "start_time": "2023-08-16T14:23:57.858210Z",
     "end_time": "2023-08-16T14:24:00.500245Z"
    }
   }
  },
  {
   "cell_type": "code",
   "execution_count": 16,
   "metadata": {
    "collapsed": true,
    "ExecuteTime": {
     "start_time": "2023-08-16T14:21:46.021509Z",
     "end_time": "2023-08-16T14:21:46.608134Z"
    }
   },
   "outputs": [
    {
     "data": {
      "text/plain": "<module 'benji_girgs.mcmc' from '../benji_girgs/mcmc.py'>"
     },
     "execution_count": 16,
     "metadata": {},
     "output_type": "execute_result"
    },
    {
     "ename": "EOFError",
     "evalue": "Ran out of input",
     "output_type": "error",
     "traceback": [
      "\u001B[0;31m---------------------------------------------------------------------------\u001B[0m",
      "\u001B[0;31mEOFError\u001B[0m                                  Traceback (most recent call last)",
      "Cell \u001B[0;32mIn[16], line 5\u001B[0m\n\u001B[1;32m      3\u001B[0m fn \u001B[38;5;241m=\u001B[39m fn_pickles2[\u001B[38;5;241m0\u001B[39m]\n\u001B[1;32m      4\u001B[0m \u001B[38;5;28;01mwith\u001B[39;00m \u001B[38;5;28mopen\u001B[39m(fn, \u001B[38;5;124m'\u001B[39m\u001B[38;5;124mrb\u001B[39m\u001B[38;5;124m'\u001B[39m) \u001B[38;5;28;01mas\u001B[39;00m file:\n\u001B[0;32m----> 5\u001B[0m     MC \u001B[38;5;241m=\u001B[39m \u001B[43mpickle\u001B[49m\u001B[38;5;241;43m.\u001B[39;49m\u001B[43mload\u001B[49m\u001B[43m(\u001B[49m\u001B[43mfile\u001B[49m\u001B[43m)\u001B[49m\n\u001B[1;32m      7\u001B[0m name \u001B[38;5;241m=\u001B[39m MC\u001B[38;5;241m.\u001B[39mgraph_name[:\u001B[38;5;241m-\u001B[39m\u001B[38;5;241m3\u001B[39m]\n\u001B[1;32m      8\u001B[0m name\n",
      "\u001B[0;31mEOFError\u001B[0m: Ran out of input"
     ]
    }
   ],
   "source": [
    "import importlib\n",
    "importlib.reload(mcmc)\n",
    "fn = fn_pickles2[0]\n",
    "with open(fn, 'rb') as file:\n",
    "    MC = pickle.load(file)\n",
    "\n",
    "name = MC.graph_name[:-3]\n",
    "name\n",
    "MC.percent_edges_captureds[-1]\n",
    "g = nk.readGraph(f'/cluster/scratch/bdayan/GIRG_data/{name}.SpaceOne', nk.Format.EdgeListSpaceOne)\n",
    "g = utils.get_largest_component(g)\n",
    "MC.g = g\n",
    "gnx = nk.nxadapter.nk2nx(g)\n",
    "A = nx.adjacency_matrix(gnx).todense()\n",
    "MC.A = A\n",
    "\n",
    "_, _, a, b, c = MC.get_CM(A, failure_prob=0.0)\n",
    "b\n",
    "a"
   ]
  },
  {
   "cell_type": "code",
   "execution_count": 8,
   "outputs": [
    {
     "data": {
      "text/plain": "0.0"
     },
     "execution_count": 8,
     "metadata": {},
     "output_type": "execute_result"
    },
    {
     "data": {
      "text/plain": "0.0"
     },
     "execution_count": 8,
     "metadata": {},
     "output_type": "execute_result"
    },
    {
     "data": {
      "text/plain": "0.019761788543447335"
     },
     "execution_count": 8,
     "metadata": {},
     "output_type": "execute_result"
    },
    {
     "data": {
      "text/plain": "(-143935.37412418076, 16712.517814898223)"
     },
     "execution_count": 8,
     "metadata": {},
     "output_type": "execute_result"
    },
    {
     "data": {
      "text/plain": "0.0197389700065779"
     },
     "execution_count": 8,
     "metadata": {},
     "output_type": "execute_result"
    },
    {
     "data": {
      "text/plain": "0.019731825115882454"
     },
     "execution_count": 8,
     "metadata": {},
     "output_type": "execute_result"
    },
    {
     "data": {
      "text/plain": "0.01972958690628537"
     },
     "execution_count": 8,
     "metadata": {},
     "output_type": "execute_result"
    },
    {
     "data": {
      "text/plain": "0.01972888551919849"
     },
     "execution_count": 8,
     "metadata": {},
     "output_type": "execute_result"
    },
    {
     "data": {
      "text/plain": "0.019728665695617067"
     },
     "execution_count": 8,
     "metadata": {},
     "output_type": "execute_result"
    },
    {
     "data": {
      "text/plain": "0.019728596797169044"
     },
     "execution_count": 8,
     "metadata": {},
     "output_type": "execute_result"
    },
    {
     "data": {
      "text/plain": "0.01972857520230651"
     },
     "execution_count": 8,
     "metadata": {},
     "output_type": "execute_result"
    }
   ],
   "source": [
    "MC.failure_prob\n",
    "MC.cl_mixin_prob\n",
    "MC.const\n",
    "MC.ll, MC.expected_num_edges\n",
    "\n",
    "MC.failure_prob = 0.0\n",
    "MC.cl_mixin_prob = 0.0\n",
    "for _ in range(7):\n",
    "    MC.ll, MC.expected_num_edges = MC.calculate_ll()\n",
    "    MC.calibrate_const()\n",
    "    MC.const"
   ],
   "metadata": {
    "collapsed": false,
    "ExecuteTime": {
     "start_time": "2023-08-16T14:22:13.074828Z",
     "end_time": "2023-08-16T14:22:15.087203Z"
    }
   }
  },
  {
   "cell_type": "code",
   "execution_count": 9,
   "outputs": [
    {
     "name": "stderr",
     "output_type": "stream",
     "text": [
      "../benji_girgs/generation.py:155: RuntimeWarning: divide by zero encountered in divide\n",
      "  p_uv = np.divide(outer, dists**d)\n",
      "../benji_girgs/generation.py:645: RuntimeWarning: divide by zero encountered in divide\n",
      "  puv = np.stack([np.ones(original_edge_dists.shape), const_in * ((wu * wv / W) / original_edge_dists ** d) ** alpha]).min(axis=0)\n",
      "../benji_girgs/generation.py:646: RuntimeWarning: divide by zero encountered in divide\n",
      "  puv_cube = np.stack([np.ones(cube_edge_dists.shape), const_in * ((wu * wv / W) / cube_edge_dists ** d) ** alpha]).min(axis=0)\n"
     ]
    },
    {
     "data": {
      "text/plain": "0.47877004384121075"
     },
     "execution_count": 9,
     "metadata": {},
     "output_type": "execute_result"
    },
    {
     "data": {
      "text/plain": "array([[ 15944,  17358],\n       [ 17254, 530088]])"
     },
     "execution_count": 9,
     "metadata": {},
     "output_type": "execute_result"
    }
   ],
   "source": [
    "g_out, _, a, b, c = MC.get_CM(A, failure_prob=0.0)\n",
    "b\n",
    "a"
   ],
   "metadata": {
    "collapsed": false,
    "ExecuteTime": {
     "start_time": "2023-08-16T14:22:21.220235Z",
     "end_time": "2023-08-16T14:22:21.612885Z"
    }
   }
  },
  {
   "cell_type": "code",
   "execution_count": null,
   "outputs": [],
   "source": [],
   "metadata": {
    "collapsed": false
   }
  }
 ],
 "metadata": {
  "kernelspec": {
   "name": "girgenv_higherdims",
   "language": "python",
   "display_name": "girgenv_higherdims"
  },
  "language_info": {
   "codemirror_mode": {
    "name": "ipython",
    "version": 2
   },
   "file_extension": ".py",
   "mimetype": "text/x-python",
   "name": "python",
   "nbconvert_exporter": "python",
   "pygments_lexer": "ipython2",
   "version": "2.7.6"
  }
 },
 "nbformat": 4,
 "nbformat_minor": 0
}
