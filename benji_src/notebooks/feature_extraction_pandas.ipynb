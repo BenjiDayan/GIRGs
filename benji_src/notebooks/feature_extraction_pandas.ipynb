{
 "cells": [
  {
   "cell_type": "code",
   "execution_count": 1,
   "metadata": {
    "ExecuteTime": {
     "start_time": "2023-04-29T11:26:13.243993Z",
     "end_time": "2023-04-29T11:26:13.245672Z"
    }
   },
   "outputs": [],
   "source": [
    "import sys\n",
    "sys.path.append('../nemo-eva/src/')\n",
    "import numpy"
   ]
  },
  {
   "cell_type": "markdown",
   "source": [],
   "metadata": {
    "collapsed": false
   }
  },
  {
   "cell_type": "code",
   "execution_count": 18,
   "outputs": [],
   "source": [
    "import os\n",
    "os.environ['DATA_PATH'] = '../../FeatureExtractionOutLCCMini3/'\n"
   ],
   "metadata": {
    "collapsed": false,
    "ExecuteTime": {
     "start_time": "2023-04-29T11:28:40.146539Z",
     "end_time": "2023-04-29T11:28:40.155299Z"
    }
   }
  },
  {
   "cell_type": "code",
   "execution_count": 3,
   "metadata": {
    "ExecuteTime": {
     "start_time": "2023-04-29T11:26:16.813737Z",
     "end_time": "2023-04-29T11:26:16.821965Z"
    }
   },
   "outputs": [],
   "source": [
    "import pandas as pd\n",
    "pd.set_option('display.max_rows', 100)\n",
    "\n",
    "from IPython.core.interactiveshell import InteractiveShell\n",
    "InteractiveShell.ast_node_interactivity = \"all\""
   ]
  },
  {
   "cell_type": "code",
   "execution_count": 4,
   "metadata": {
    "ExecuteTime": {
     "start_time": "2023-04-29T11:26:17.178367Z",
     "end_time": "2023-04-29T11:26:17.233876Z"
    }
   },
   "outputs": [
    {
     "data": {
      "text/plain": "           Graph       Model  Nodes\n1133  ia-reality  real-world   6809",
      "text/html": "<div>\n<style scoped>\n    .dataframe tbody tr th:only-of-type {\n        vertical-align: middle;\n    }\n\n    .dataframe tbody tr th {\n        vertical-align: top;\n    }\n\n    .dataframe thead th {\n        text-align: right;\n    }\n</style>\n<table border=\"1\" class=\"dataframe\">\n  <thead>\n    <tr style=\"text-align: right;\">\n      <th></th>\n      <th>Graph</th>\n      <th>Model</th>\n      <th>Nodes</th>\n    </tr>\n  </thead>\n  <tbody>\n    <tr>\n      <th>1133</th>\n      <td>ia-reality</td>\n      <td>real-world</td>\n      <td>6809</td>\n    </tr>\n  </tbody>\n</table>\n</div>"
     },
     "execution_count": 4,
     "metadata": {},
     "output_type": "execute_result"
    }
   ],
   "source": [
    "in_df = pd.read_csv('../../nemo-eva/data-paper/3-cleaned_features/results.csv')\n",
    "\n",
    "in_df = in_df.loc[in_df.Model == 'real-world']\n",
    "\n",
    "in_df = in_df.sort_values('Nodes')\n",
    "in_df.loc[in_df.Graph == 'ia-reality', ['Graph', 'Model', 'Nodes']].head(10)"
   ]
  },
  {
   "cell_type": "code",
   "execution_count": 5,
   "outputs": [
    {
     "data": {
      "text/plain": "socfb    110\nsoc       33\nweb       17\nia        14\nca        12\ntech       8\nrec        8\nbio        6\nbn         4\ninf        4\nrt         3\nName: Type, dtype: int64"
     },
     "execution_count": 5,
     "metadata": {},
     "output_type": "execute_result"
    }
   ],
   "source": [
    "in_df.Type.value_counts()"
   ],
   "metadata": {
    "collapsed": false,
    "ExecuteTime": {
     "start_time": "2023-04-28T13:01:47.442914Z",
     "end_time": "2023-04-28T13:01:47.462488Z"
    }
   }
  },
  {
   "cell_type": "code",
   "execution_count": 6,
   "metadata": {
    "ExecuteTime": {
     "start_time": "2023-04-28T13:01:49.994281Z",
     "end_time": "2023-04-28T13:01:50.002948Z"
    }
   },
   "outputs": [],
   "source": [
    "in_df_mini = in_df.loc[:, ['Graph', 'Model', 'Type', 'Nodes', 'Info']]\n"
   ]
  },
  {
   "cell_type": "code",
   "execution_count": 22,
   "outputs": [
    {
     "data": {
      "text/plain": "(181, 5)"
     },
     "execution_count": 22,
     "metadata": {},
     "output_type": "execute_result"
    },
    {
     "data": {
      "text/plain": "                                    Graph       Model Type  Nodes     Info\n725                         ia-enron-only  real-world   ia    143  no info\n827             bn-macaque-rhesus_brain_1  real-world   bn    242  no info\n59                            inf-USAir97  real-world  inf    332  no info\n395                         ca-netscience  real-world   ca    379  no info\n215                      ia-infect-dublin  real-world   ia    410  no info\n...                                   ...         ...  ...    ...      ...\n275                ia-enron-email-dynamic  real-world   ia  84384  no info\n23                             rec-amazon  real-world  rec  91813  no info\n1079  bn-human-BNU_1_0025873_session_1-bg  real-world   bn  92043  no info\n683                          ia-wiki-Talk  real-world   ia  92117  no info\n245               ia-wikiquote-user-edits  real-world   ia  93410  no info\n\n[181 rows x 5 columns]",
      "text/html": "<div>\n<style scoped>\n    .dataframe tbody tr th:only-of-type {\n        vertical-align: middle;\n    }\n\n    .dataframe tbody tr th {\n        vertical-align: top;\n    }\n\n    .dataframe thead th {\n        text-align: right;\n    }\n</style>\n<table border=\"1\" class=\"dataframe\">\n  <thead>\n    <tr style=\"text-align: right;\">\n      <th></th>\n      <th>Graph</th>\n      <th>Model</th>\n      <th>Type</th>\n      <th>Nodes</th>\n      <th>Info</th>\n    </tr>\n  </thead>\n  <tbody>\n    <tr>\n      <th>725</th>\n      <td>ia-enron-only</td>\n      <td>real-world</td>\n      <td>ia</td>\n      <td>143</td>\n      <td>no info</td>\n    </tr>\n    <tr>\n      <th>827</th>\n      <td>bn-macaque-rhesus_brain_1</td>\n      <td>real-world</td>\n      <td>bn</td>\n      <td>242</td>\n      <td>no info</td>\n    </tr>\n    <tr>\n      <th>59</th>\n      <td>inf-USAir97</td>\n      <td>real-world</td>\n      <td>inf</td>\n      <td>332</td>\n      <td>no info</td>\n    </tr>\n    <tr>\n      <th>395</th>\n      <td>ca-netscience</td>\n      <td>real-world</td>\n      <td>ca</td>\n      <td>379</td>\n      <td>no info</td>\n    </tr>\n    <tr>\n      <th>215</th>\n      <td>ia-infect-dublin</td>\n      <td>real-world</td>\n      <td>ia</td>\n      <td>410</td>\n      <td>no info</td>\n    </tr>\n    <tr>\n      <th>...</th>\n      <td>...</td>\n      <td>...</td>\n      <td>...</td>\n      <td>...</td>\n      <td>...</td>\n    </tr>\n    <tr>\n      <th>275</th>\n      <td>ia-enron-email-dynamic</td>\n      <td>real-world</td>\n      <td>ia</td>\n      <td>84384</td>\n      <td>no info</td>\n    </tr>\n    <tr>\n      <th>23</th>\n      <td>rec-amazon</td>\n      <td>real-world</td>\n      <td>rec</td>\n      <td>91813</td>\n      <td>no info</td>\n    </tr>\n    <tr>\n      <th>1079</th>\n      <td>bn-human-BNU_1_0025873_session_1-bg</td>\n      <td>real-world</td>\n      <td>bn</td>\n      <td>92043</td>\n      <td>no info</td>\n    </tr>\n    <tr>\n      <th>683</th>\n      <td>ia-wiki-Talk</td>\n      <td>real-world</td>\n      <td>ia</td>\n      <td>92117</td>\n      <td>no info</td>\n    </tr>\n    <tr>\n      <th>245</th>\n      <td>ia-wikiquote-user-edits</td>\n      <td>real-world</td>\n      <td>ia</td>\n      <td>93410</td>\n      <td>no info</td>\n    </tr>\n  </tbody>\n</table>\n<p>181 rows × 5 columns</p>\n</div>"
     },
     "execution_count": 22,
     "metadata": {},
     "output_type": "execute_result"
    }
   ],
   "source": [
    "max_number_of_nodes = 100000\n",
    "in_df_mini.loc[in_df_mini.Nodes < max_number_of_nodes].sort_values('Nodes').shape\n",
    "in_df_mini.loc[in_df_mini.Nodes < max_number_of_nodes].sort_values('Nodes')"
   ],
   "metadata": {
    "collapsed": false,
    "ExecuteTime": {
     "start_time": "2023-04-28T13:03:52.713762Z",
     "end_time": "2023-04-28T13:03:52.723312Z"
    }
   }
  },
  {
   "cell_type": "code",
   "execution_count": 8,
   "outputs": [
    {
     "data": {
      "text/plain": "2172"
     },
     "execution_count": 8,
     "metadata": {},
     "output_type": "execute_result"
    }
   ],
   "source": [
    "181*12"
   ],
   "metadata": {
    "collapsed": false,
    "ExecuteTime": {
     "start_time": "2023-04-28T13:01:51.635931Z",
     "end_time": "2023-04-28T13:01:51.658235Z"
    }
   }
  },
  {
   "cell_type": "code",
   "execution_count": 46,
   "metadata": {
    "ExecuteTime": {
     "start_time": "2023-04-29T11:44:35.459197Z",
     "end_time": "2023-04-29T11:44:35.537666Z"
    }
   },
   "outputs": [],
   "source": [
    "df = pd.read_csv(os.environ['DATA_PATH'] + '2-features/results.csv')\n",
    "df_mini = df.loc[:, ['Graph', 'Model', 'Type', 'Nodes', 'Edges', 'Info']]\n"
   ]
  },
  {
   "cell_type": "code",
   "execution_count": 57,
   "outputs": [],
   "source": [
    "import numpy as np\n",
    "df = df.drop(labels=np.argwhere((df.Model == '3d-cube-girg').values).reshape(-1), axis=0)"
   ],
   "metadata": {
    "collapsed": false,
    "ExecuteTime": {
     "start_time": "2023-04-29T11:47:01.879184Z",
     "end_time": "2023-04-29T11:47:01.890227Z"
    }
   }
  },
  {
   "cell_type": "code",
   "execution_count": 7,
   "outputs": [],
   "source": [
    "df.Info = df.Info.apply(lambda temp: {key: var for key, var in [x.split('=') for x in temp.split('|')]} if (type(temp) is str and '|' in temp) else {\n",
    "    })\n",
    "df['alpha'] = df.Info.apply(lambda x: x['alpha'] if 'alpha' in x else 1/float(x['t']) if 't' in x else None)"
   ],
   "metadata": {
    "collapsed": false,
    "ExecuteTime": {
     "start_time": "2023-04-29T11:26:30.516435Z",
     "end_time": "2023-04-29T11:26:30.532940Z"
    }
   }
  },
  {
   "cell_type": "code",
   "execution_count": 8,
   "metadata": {
    "ExecuteTime": {
     "start_time": "2023-04-28T13:01:59.584196Z",
     "end_time": "2023-04-28T13:01:59.605574Z"
    }
   },
   "outputs": [
    {
     "ename": "TypeError",
     "evalue": "'<' not supported between instances of 'int' and 'str'",
     "output_type": "error",
     "traceback": [
      "\u001B[0;31m---------------------------------------------------------------------------\u001B[0m",
      "\u001B[0;31mTypeError\u001B[0m                                 Traceback (most recent call last)",
      "Input \u001B[0;32mIn [8]\u001B[0m, in \u001B[0;36m<cell line: 1>\u001B[0;34m()\u001B[0m\n\u001B[0;32m----> 1\u001B[0m \u001B[43mdf_mini\u001B[49m\u001B[38;5;241;43m.\u001B[39;49m\u001B[43msort_values\u001B[49m\u001B[43m(\u001B[49m\u001B[38;5;124;43m'\u001B[39;49m\u001B[38;5;124;43mNodes\u001B[39;49m\u001B[38;5;124;43m'\u001B[39;49m\u001B[43m)\u001B[49m\u001B[38;5;241m.\u001B[39mtail(\u001B[38;5;241m30\u001B[39m)\n",
      "File \u001B[0;32m/opt/homebrew/anaconda3/lib/python3.9/site-packages/pandas/util/_decorators.py:311\u001B[0m, in \u001B[0;36mdeprecate_nonkeyword_arguments.<locals>.decorate.<locals>.wrapper\u001B[0;34m(*args, **kwargs)\u001B[0m\n\u001B[1;32m    305\u001B[0m \u001B[38;5;28;01mif\u001B[39;00m \u001B[38;5;28mlen\u001B[39m(args) \u001B[38;5;241m>\u001B[39m num_allow_args:\n\u001B[1;32m    306\u001B[0m     warnings\u001B[38;5;241m.\u001B[39mwarn(\n\u001B[1;32m    307\u001B[0m         msg\u001B[38;5;241m.\u001B[39mformat(arguments\u001B[38;5;241m=\u001B[39marguments),\n\u001B[1;32m    308\u001B[0m         \u001B[38;5;167;01mFutureWarning\u001B[39;00m,\n\u001B[1;32m    309\u001B[0m         stacklevel\u001B[38;5;241m=\u001B[39mstacklevel,\n\u001B[1;32m    310\u001B[0m     )\n\u001B[0;32m--> 311\u001B[0m \u001B[38;5;28;01mreturn\u001B[39;00m \u001B[43mfunc\u001B[49m\u001B[43m(\u001B[49m\u001B[38;5;241;43m*\u001B[39;49m\u001B[43margs\u001B[49m\u001B[43m,\u001B[49m\u001B[43m \u001B[49m\u001B[38;5;241;43m*\u001B[39;49m\u001B[38;5;241;43m*\u001B[39;49m\u001B[43mkwargs\u001B[49m\u001B[43m)\u001B[49m\n",
      "File \u001B[0;32m/opt/homebrew/anaconda3/lib/python3.9/site-packages/pandas/core/frame.py:6333\u001B[0m, in \u001B[0;36mDataFrame.sort_values\u001B[0;34m(self, by, axis, ascending, inplace, kind, na_position, ignore_index, key)\u001B[0m\n\u001B[1;32m   6330\u001B[0m     \u001B[38;5;28;01mif\u001B[39;00m \u001B[38;5;28misinstance\u001B[39m(ascending, (\u001B[38;5;28mtuple\u001B[39m, \u001B[38;5;28mlist\u001B[39m)):\n\u001B[1;32m   6331\u001B[0m         ascending \u001B[38;5;241m=\u001B[39m ascending[\u001B[38;5;241m0\u001B[39m]\n\u001B[0;32m-> 6333\u001B[0m     indexer \u001B[38;5;241m=\u001B[39m \u001B[43mnargsort\u001B[49m\u001B[43m(\u001B[49m\n\u001B[1;32m   6334\u001B[0m \u001B[43m        \u001B[49m\u001B[43mk\u001B[49m\u001B[43m,\u001B[49m\u001B[43m \u001B[49m\u001B[43mkind\u001B[49m\u001B[38;5;241;43m=\u001B[39;49m\u001B[43mkind\u001B[49m\u001B[43m,\u001B[49m\u001B[43m \u001B[49m\u001B[43mascending\u001B[49m\u001B[38;5;241;43m=\u001B[39;49m\u001B[43mascending\u001B[49m\u001B[43m,\u001B[49m\u001B[43m \u001B[49m\u001B[43mna_position\u001B[49m\u001B[38;5;241;43m=\u001B[39;49m\u001B[43mna_position\u001B[49m\u001B[43m,\u001B[49m\u001B[43m \u001B[49m\u001B[43mkey\u001B[49m\u001B[38;5;241;43m=\u001B[39;49m\u001B[43mkey\u001B[49m\n\u001B[1;32m   6335\u001B[0m \u001B[43m    \u001B[49m\u001B[43m)\u001B[49m\n\u001B[1;32m   6336\u001B[0m \u001B[38;5;28;01melse\u001B[39;00m:\n\u001B[1;32m   6337\u001B[0m     \u001B[38;5;28;01mreturn\u001B[39;00m \u001B[38;5;28mself\u001B[39m\u001B[38;5;241m.\u001B[39mcopy()\n",
      "File \u001B[0;32m/opt/homebrew/anaconda3/lib/python3.9/site-packages/pandas/core/sorting.py:417\u001B[0m, in \u001B[0;36mnargsort\u001B[0;34m(items, kind, ascending, na_position, key, mask)\u001B[0m\n\u001B[1;32m    415\u001B[0m     non_nans \u001B[38;5;241m=\u001B[39m non_nans[::\u001B[38;5;241m-\u001B[39m\u001B[38;5;241m1\u001B[39m]\n\u001B[1;32m    416\u001B[0m     non_nan_idx \u001B[38;5;241m=\u001B[39m non_nan_idx[::\u001B[38;5;241m-\u001B[39m\u001B[38;5;241m1\u001B[39m]\n\u001B[0;32m--> 417\u001B[0m indexer \u001B[38;5;241m=\u001B[39m non_nan_idx[\u001B[43mnon_nans\u001B[49m\u001B[38;5;241;43m.\u001B[39;49m\u001B[43margsort\u001B[49m\u001B[43m(\u001B[49m\u001B[43mkind\u001B[49m\u001B[38;5;241;43m=\u001B[39;49m\u001B[43mkind\u001B[49m\u001B[43m)\u001B[49m]\n\u001B[1;32m    418\u001B[0m \u001B[38;5;28;01mif\u001B[39;00m \u001B[38;5;129;01mnot\u001B[39;00m ascending:\n\u001B[1;32m    419\u001B[0m     indexer \u001B[38;5;241m=\u001B[39m indexer[::\u001B[38;5;241m-\u001B[39m\u001B[38;5;241m1\u001B[39m]\n",
      "\u001B[0;31mTypeError\u001B[0m: '<' not supported between instances of 'int' and 'str'"
     ]
    }
   ],
   "source": [
    "df_mini.sort_values('Nodes').tail(30)"
   ]
  },
  {
   "cell_type": "code",
   "execution_count": 13,
   "outputs": [
    {
     "data": {
      "text/plain": "                 Graph         Model Type  Nodes  Edges  \\\n101       bio-celegans  1d-cube-girg  bio    444   1649   \n69        bio-celegans       1d-girg  bio    453   2096   \n114       bio-celegans  2d-cube-girg  bio    435   1637   \n80        bio-celegans       2d-girg  bio    450   2045   \n173       bio-celegans  3d-cube-girg  bio    446   1858   \n...                ...           ...  ...    ...    ...   \n1596  web-webbase-2001       BA full  web  16062  25593   \n1594  web-webbase-2001            ER  web  15340  25625   \n1597  web-webbase-2001      chung-lu  web  11704  25084   \n1599  web-webbase-2001    hyperbolic  web  14096  19802   \n1593  web-webbase-2001    real-world  web  16062  25593   \n\n                                                   Info  \\\n101   {'tau': '2.604100935449141', 'alpha': '2.33784...   \n69    {'tau': '2.604100935449141', 'alpha': '2.41903...   \n114   {'tau': '2.604100935449141', 'alpha': '2.0', '...   \n80    {'tau': '2.604100935449141', 'alpha': '3.46051...   \n173   {'tau': '2.604100935449141', 'alpha': '12.6732...   \n...                                                 ...   \n1596                                                 {}   \n1594                                                 {}   \n1597                                                 {}   \n1599  {'n': '31004', 'k': '1.6510015159823244', 'gam...   \n1593                                                 {}   \n\n      Centrality.ClusteringCoefficient.Location.Arithmetic Mean  \\\n101                                            0.606983           \n69                                             0.627487           \n114                                            0.550821           \n80                                             0.670343           \n173                                            0.566108           \n...                                                 ...           \n1596                                           0.001381           \n1594                                           0.000194           \n1597                                           0.036669           \n1599                                           0.223127           \n1593                                           0.224316           \n\n      Centrality.Degree.Location.Arithmetic Mean  \n101                                     7.427928  \n69                                      9.253863  \n114                                     7.526437  \n80                                      9.088889  \n173                                     8.331839  \n...                                          ...  \n1596                                    3.186776  \n1594                                    3.340939  \n1597                                    4.286398  \n1599                                    2.809591  \n1593                                    3.186776  \n\n[1665 rows x 8 columns]",
      "text/html": "<div>\n<style scoped>\n    .dataframe tbody tr th:only-of-type {\n        vertical-align: middle;\n    }\n\n    .dataframe tbody tr th {\n        vertical-align: top;\n    }\n\n    .dataframe thead th {\n        text-align: right;\n    }\n</style>\n<table border=\"1\" class=\"dataframe\">\n  <thead>\n    <tr style=\"text-align: right;\">\n      <th></th>\n      <th>Graph</th>\n      <th>Model</th>\n      <th>Type</th>\n      <th>Nodes</th>\n      <th>Edges</th>\n      <th>Info</th>\n      <th>Centrality.ClusteringCoefficient.Location.Arithmetic Mean</th>\n      <th>Centrality.Degree.Location.Arithmetic Mean</th>\n    </tr>\n  </thead>\n  <tbody>\n    <tr>\n      <th>101</th>\n      <td>bio-celegans</td>\n      <td>1d-cube-girg</td>\n      <td>bio</td>\n      <td>444</td>\n      <td>1649</td>\n      <td>{'tau': '2.604100935449141', 'alpha': '2.33784...</td>\n      <td>0.606983</td>\n      <td>7.427928</td>\n    </tr>\n    <tr>\n      <th>69</th>\n      <td>bio-celegans</td>\n      <td>1d-girg</td>\n      <td>bio</td>\n      <td>453</td>\n      <td>2096</td>\n      <td>{'tau': '2.604100935449141', 'alpha': '2.41903...</td>\n      <td>0.627487</td>\n      <td>9.253863</td>\n    </tr>\n    <tr>\n      <th>114</th>\n      <td>bio-celegans</td>\n      <td>2d-cube-girg</td>\n      <td>bio</td>\n      <td>435</td>\n      <td>1637</td>\n      <td>{'tau': '2.604100935449141', 'alpha': '2.0', '...</td>\n      <td>0.550821</td>\n      <td>7.526437</td>\n    </tr>\n    <tr>\n      <th>80</th>\n      <td>bio-celegans</td>\n      <td>2d-girg</td>\n      <td>bio</td>\n      <td>450</td>\n      <td>2045</td>\n      <td>{'tau': '2.604100935449141', 'alpha': '3.46051...</td>\n      <td>0.670343</td>\n      <td>9.088889</td>\n    </tr>\n    <tr>\n      <th>173</th>\n      <td>bio-celegans</td>\n      <td>3d-cube-girg</td>\n      <td>bio</td>\n      <td>446</td>\n      <td>1858</td>\n      <td>{'tau': '2.604100935449141', 'alpha': '12.6732...</td>\n      <td>0.566108</td>\n      <td>8.331839</td>\n    </tr>\n    <tr>\n      <th>...</th>\n      <td>...</td>\n      <td>...</td>\n      <td>...</td>\n      <td>...</td>\n      <td>...</td>\n      <td>...</td>\n      <td>...</td>\n      <td>...</td>\n    </tr>\n    <tr>\n      <th>1596</th>\n      <td>web-webbase-2001</td>\n      <td>BA full</td>\n      <td>web</td>\n      <td>16062</td>\n      <td>25593</td>\n      <td>{}</td>\n      <td>0.001381</td>\n      <td>3.186776</td>\n    </tr>\n    <tr>\n      <th>1594</th>\n      <td>web-webbase-2001</td>\n      <td>ER</td>\n      <td>web</td>\n      <td>15340</td>\n      <td>25625</td>\n      <td>{}</td>\n      <td>0.000194</td>\n      <td>3.340939</td>\n    </tr>\n    <tr>\n      <th>1597</th>\n      <td>web-webbase-2001</td>\n      <td>chung-lu</td>\n      <td>web</td>\n      <td>11704</td>\n      <td>25084</td>\n      <td>{}</td>\n      <td>0.036669</td>\n      <td>4.286398</td>\n    </tr>\n    <tr>\n      <th>1599</th>\n      <td>web-webbase-2001</td>\n      <td>hyperbolic</td>\n      <td>web</td>\n      <td>14096</td>\n      <td>19802</td>\n      <td>{'n': '31004', 'k': '1.6510015159823244', 'gam...</td>\n      <td>0.223127</td>\n      <td>2.809591</td>\n    </tr>\n    <tr>\n      <th>1593</th>\n      <td>web-webbase-2001</td>\n      <td>real-world</td>\n      <td>web</td>\n      <td>16062</td>\n      <td>25593</td>\n      <td>{}</td>\n      <td>0.224316</td>\n      <td>3.186776</td>\n    </tr>\n  </tbody>\n</table>\n<p>1665 rows × 8 columns</p>\n</div>"
     },
     "execution_count": 13,
     "metadata": {},
     "output_type": "execute_result"
    }
   ],
   "source": [
    "df.loc[:, ['Graph', 'Model', 'Type', 'Nodes', 'Edges', 'Info', 'Centrality.ClusteringCoefficient.Location.Arithmetic Mean', 'Centrality.Degree.Location.Arithmetic Mean']].sort_values(['Graph', 'Model'])"
   ],
   "metadata": {
    "collapsed": false,
    "ExecuteTime": {
     "start_time": "2023-04-28T13:02:19.843749Z",
     "end_time": "2023-04-28T13:02:19.899246Z"
    }
   }
  },
  {
   "cell_type": "code",
   "execution_count": 14,
   "outputs": [
    {
     "data": {
      "text/plain": "                       Graph         Model Type   Nodes   Edges  \\\n501  ia-wikiquote-user-edits  1d-cube-girg   ia   84539  225062   \n356  ia-wikiquote-user-edits       1d-girg   ia   85077  238058   \n676  ia-wikiquote-user-edits  2d-cube-girg   ia   85983  241505   \n383  ia-wikiquote-user-edits       2d-girg   ia   85299  238031   \n470  ia-wikiquote-user-edits       3d-girg   ia   85800  237117   \n115  ia-wikiquote-user-edits     BA circle   ia   93410  238403   \n130  ia-wikiquote-user-edits       BA full   ia   93410  238403   \n109  ia-wikiquote-user-edits            ER   ia   92785  238551   \n132  ia-wikiquote-user-edits      chung-lu   ia   69396  206032   \n344  ia-wikiquote-user-edits    hyperbolic   ia  130298  214142   \n94   ia-wikiquote-user-edits    real-world   ia   93410  238403   \n\n                                                  Info  \\\n501  {'tau': '2.379045024857282', 'alpha': '1.06140...   \n356  {'tau': '2.379045024857282', 'alpha': '1.06900...   \n676  {'tau': '2.379045024857282', 'alpha': '1.04757...   \n383  {'tau': '2.379045024857282', 'alpha': '1.07949...   \n470  {'tau': '2.379045024857282', 'alpha': '1.08792...   \n115                                                 {}   \n130                                                 {}   \n109                                                 {}   \n132                                                 {}   \n344  {'n': '188347', 'k': '2.531543011266499', 'gam...   \n94                                                  {}   \n\n     Centrality.ClusteringCoefficient.Location.Arithmetic Mean  \\\n501                                           0.113749           \n356                                           0.152772           \n676                                           0.113567           \n383                                           0.128166           \n470                                           0.107111           \n115                                           0.000670           \n130                                           0.000595           \n109                                           0.000045           \n132                                           0.148545           \n344                                           0.106447           \n94                                            0.107538           \n\n     Centrality.Degree.Location.Arithmetic Mean  \n501                                    5.324454  \n356                                    5.596295  \n676                                    5.617506  \n383                                    5.581097  \n470                                    5.527203  \n115                                    5.104443  \n130                                    5.104443  \n109                                    5.142016  \n132                                    5.937864  \n344                                    3.286958  \n94                                     5.104443  ",
      "text/html": "<div>\n<style scoped>\n    .dataframe tbody tr th:only-of-type {\n        vertical-align: middle;\n    }\n\n    .dataframe tbody tr th {\n        vertical-align: top;\n    }\n\n    .dataframe thead th {\n        text-align: right;\n    }\n</style>\n<table border=\"1\" class=\"dataframe\">\n  <thead>\n    <tr style=\"text-align: right;\">\n      <th></th>\n      <th>Graph</th>\n      <th>Model</th>\n      <th>Type</th>\n      <th>Nodes</th>\n      <th>Edges</th>\n      <th>Info</th>\n      <th>Centrality.ClusteringCoefficient.Location.Arithmetic Mean</th>\n      <th>Centrality.Degree.Location.Arithmetic Mean</th>\n    </tr>\n  </thead>\n  <tbody>\n    <tr>\n      <th>501</th>\n      <td>ia-wikiquote-user-edits</td>\n      <td>1d-cube-girg</td>\n      <td>ia</td>\n      <td>84539</td>\n      <td>225062</td>\n      <td>{'tau': '2.379045024857282', 'alpha': '1.06140...</td>\n      <td>0.113749</td>\n      <td>5.324454</td>\n    </tr>\n    <tr>\n      <th>356</th>\n      <td>ia-wikiquote-user-edits</td>\n      <td>1d-girg</td>\n      <td>ia</td>\n      <td>85077</td>\n      <td>238058</td>\n      <td>{'tau': '2.379045024857282', 'alpha': '1.06900...</td>\n      <td>0.152772</td>\n      <td>5.596295</td>\n    </tr>\n    <tr>\n      <th>676</th>\n      <td>ia-wikiquote-user-edits</td>\n      <td>2d-cube-girg</td>\n      <td>ia</td>\n      <td>85983</td>\n      <td>241505</td>\n      <td>{'tau': '2.379045024857282', 'alpha': '1.04757...</td>\n      <td>0.113567</td>\n      <td>5.617506</td>\n    </tr>\n    <tr>\n      <th>383</th>\n      <td>ia-wikiquote-user-edits</td>\n      <td>2d-girg</td>\n      <td>ia</td>\n      <td>85299</td>\n      <td>238031</td>\n      <td>{'tau': '2.379045024857282', 'alpha': '1.07949...</td>\n      <td>0.128166</td>\n      <td>5.581097</td>\n    </tr>\n    <tr>\n      <th>470</th>\n      <td>ia-wikiquote-user-edits</td>\n      <td>3d-girg</td>\n      <td>ia</td>\n      <td>85800</td>\n      <td>237117</td>\n      <td>{'tau': '2.379045024857282', 'alpha': '1.08792...</td>\n      <td>0.107111</td>\n      <td>5.527203</td>\n    </tr>\n    <tr>\n      <th>115</th>\n      <td>ia-wikiquote-user-edits</td>\n      <td>BA circle</td>\n      <td>ia</td>\n      <td>93410</td>\n      <td>238403</td>\n      <td>{}</td>\n      <td>0.000670</td>\n      <td>5.104443</td>\n    </tr>\n    <tr>\n      <th>130</th>\n      <td>ia-wikiquote-user-edits</td>\n      <td>BA full</td>\n      <td>ia</td>\n      <td>93410</td>\n      <td>238403</td>\n      <td>{}</td>\n      <td>0.000595</td>\n      <td>5.104443</td>\n    </tr>\n    <tr>\n      <th>109</th>\n      <td>ia-wikiquote-user-edits</td>\n      <td>ER</td>\n      <td>ia</td>\n      <td>92785</td>\n      <td>238551</td>\n      <td>{}</td>\n      <td>0.000045</td>\n      <td>5.142016</td>\n    </tr>\n    <tr>\n      <th>132</th>\n      <td>ia-wikiquote-user-edits</td>\n      <td>chung-lu</td>\n      <td>ia</td>\n      <td>69396</td>\n      <td>206032</td>\n      <td>{}</td>\n      <td>0.148545</td>\n      <td>5.937864</td>\n    </tr>\n    <tr>\n      <th>344</th>\n      <td>ia-wikiquote-user-edits</td>\n      <td>hyperbolic</td>\n      <td>ia</td>\n      <td>130298</td>\n      <td>214142</td>\n      <td>{'n': '188347', 'k': '2.531543011266499', 'gam...</td>\n      <td>0.106447</td>\n      <td>3.286958</td>\n    </tr>\n    <tr>\n      <th>94</th>\n      <td>ia-wikiquote-user-edits</td>\n      <td>real-world</td>\n      <td>ia</td>\n      <td>93410</td>\n      <td>238403</td>\n      <td>{}</td>\n      <td>0.107538</td>\n      <td>5.104443</td>\n    </tr>\n  </tbody>\n</table>\n</div>"
     },
     "execution_count": 14,
     "metadata": {},
     "output_type": "execute_result"
    }
   ],
   "source": [
    "df.loc[df.Graph=='ia-wikiquote-user-edits', ['Graph', 'Model', 'Type', 'Nodes', 'Edges', 'Info', 'Centrality.ClusteringCoefficient.Location.Arithmetic Mean', 'Centrality.Degree.Location.Arithmetic Mean']].sort_values(['Graph', 'Model'])"
   ],
   "metadata": {
    "collapsed": false,
    "ExecuteTime": {
     "start_time": "2023-04-28T13:02:28.883622Z",
     "end_time": "2023-04-28T13:02:28.902732Z"
    }
   }
  },
  {
   "cell_type": "code",
   "execution_count": 60,
   "outputs": [
    {
     "data": {
      "text/plain": "Empty DataFrame\nColumns: [Graph, Model, Type, Nodes, Edges, Info, Centrality.ClusteringCoefficient.Location.Arithmetic Mean, Centrality.Degree.Location.Arithmetic Mean]\nIndex: []",
      "text/html": "<div>\n<style scoped>\n    .dataframe tbody tr th:only-of-type {\n        vertical-align: middle;\n    }\n\n    .dataframe tbody tr th {\n        vertical-align: top;\n    }\n\n    .dataframe thead th {\n        text-align: right;\n    }\n</style>\n<table border=\"1\" class=\"dataframe\">\n  <thead>\n    <tr style=\"text-align: right;\">\n      <th></th>\n      <th>Graph</th>\n      <th>Model</th>\n      <th>Type</th>\n      <th>Nodes</th>\n      <th>Edges</th>\n      <th>Info</th>\n      <th>Centrality.ClusteringCoefficient.Location.Arithmetic Mean</th>\n      <th>Centrality.Degree.Location.Arithmetic Mean</th>\n    </tr>\n  </thead>\n  <tbody>\n  </tbody>\n</table>\n</div>"
     },
     "execution_count": 60,
     "metadata": {},
     "output_type": "execute_result"
    }
   ],
   "source": [
    "df_clean.loc[df_clean.Graph=='ia-wikiquote-user-edits', ['Graph', 'Model', 'Type', 'Nodes', 'Edges', 'Info', 'Centrality.ClusteringCoefficient.Location.Arithmetic Mean', 'Centrality.Degree.Location.Arithmetic Mean']].sort_values(['Graph', 'Model'])"
   ],
   "metadata": {
    "collapsed": false,
    "ExecuteTime": {
     "start_time": "2023-04-27T10:14:45.786606Z",
     "end_time": "2023-04-27T10:14:45.813857Z"
    }
   }
  },
  {
   "cell_type": "code",
   "execution_count": 63,
   "outputs": [
    {
     "data": {
      "text/plain": "                             Graph       Model   Type  Nodes   Edges  \\\n720                    ca-Erdos992  real-world     ca   4991    7428   \n396                 socfb-Lehigh96  real-world  socfb   5073  198346   \n180           socfb-JohnsHopkins55  real-world  socfb   5157  186572   \n0                     socfb-Wake73  real-world  socfb   5366  279186   \n528               socfb-American75  real-world  socfb   6370  217654   \n252                      socfb-MIT  real-world  socfb   6402  251230   \n648                     socfb-MIT8  real-world  socfb   6402  251230   \n468                socfb-William77  real-world  socfb   6472  266378   \n456               socfb-UChicago30  real-world  socfb   6561  208088   \n900              socfb-Princeton12  real-world  socfb   6575  293307   \n156                      socfb-CMU  real-world  socfb   6621  249959   \n492               socfb-Carnegie49  real-world  socfb   6621  249959   \n744                  socfb-Tufts18  real-world  socfb   6672  249722   \n708                     ia-reality  real-world     ia   6809    7680   \n948                     socfb-UC64  real-world  socfb   6810  155320   \n888                  soc-wiki-elec  real-world    soc   7066  100727   \n420                socfb-Vermont70  real-world  socfb   7322  191220   \n204                      bio-dmela  real-world    bio   7393   25569   \n240                  socfb-Emory27  real-world  socfb   7449  330008   \n732                     tech-WHOIS  real-world   tech   7476   56943   \n828  rec-movielens-user-movies-10m  real-world    rec   7601   55384   \n264               socfb-Dartmouth6  real-world  socfb   7677  304065   \n408                  socfb-WashU32  real-world  socfb   7730  367526   \n192                 socfb-Tulane29  real-world  socfb   7740  283912   \n504              socfb-Villanova62  real-world  socfb   7755  314980   \n120               soc-Slashdot0811  real-world    soc  77360  469180   \n312               soc-slashdot-zoo  real-world    soc  79120  467869   \n144         soc-slashdot-trust-all  real-world    soc  79120  467869   \n552               soc-Slashdot0902  real-world    soc  82168  504230   \n360                     rec-amazon  real-world    rec  91813  125704   \n\n               Info  \\\n720  {'Info': '{}'}   \n396  {'Info': '{}'}   \n180  {'Info': '{}'}   \n0    {'Info': '{}'}   \n528  {'Info': '{}'}   \n252  {'Info': '{}'}   \n648  {'Info': '{}'}   \n468  {'Info': '{}'}   \n456  {'Info': '{}'}   \n900  {'Info': '{}'}   \n156  {'Info': '{}'}   \n492  {'Info': '{}'}   \n744  {'Info': '{}'}   \n708  {'Info': '{}'}   \n948  {'Info': '{}'}   \n888  {'Info': '{}'}   \n420  {'Info': '{}'}   \n204  {'Info': '{}'}   \n240  {'Info': '{}'}   \n732  {'Info': '{}'}   \n828  {'Info': '{}'}   \n264  {'Info': '{}'}   \n408  {'Info': '{}'}   \n192  {'Info': '{}'}   \n504  {'Info': '{}'}   \n120  {'Info': '{}'}   \n312  {'Info': '{}'}   \n144  {'Info': '{}'}   \n552  {'Info': '{}'}   \n360  {'Info': '{}'}   \n\n     Centrality.ClusteringCoefficient.Location.Arithmetic Mean  \\\n720                                           0.083525           \n396                                           0.266552           \n180                                           0.269008           \n0                                             0.275584           \n528                                           0.240782           \n252                                           0.272360           \n648                                           0.272360           \n468                                           0.253614           \n456                                           0.253007           \n900                                           0.237203           \n156                                           0.278772           \n492                                           0.278772           \n744                                           0.229428           \n708                                           0.017771           \n948                                           0.271171           \n888                                           0.141839           \n420                                           0.229423           \n204                                           0.011850           \n240                                           0.256228           \n732                                           0.488923           \n828                                           0.119810           \n264                                           0.243600           \n408                                           0.261745           \n192                                           0.255320           \n504                                           0.235524           \n120                                           0.055499           \n312                                           0.058407           \n144                                           0.058407           \n552                                           0.060345           \n360                                           0.268215           \n\n     Centrality.Degree.Location.Arithmetic Mean  \n720                                    2.976558  \n396                                   78.196728  \n180                                   72.356797  \n0                                    104.057398  \n528                                   68.337206  \n252                                   78.484848  \n648                                   78.484848  \n468                                   82.317058  \n456                                   63.431794  \n900                                   89.218859  \n156                                   75.504909  \n492                                   75.504909  \n744                                   74.856715  \n708                                    2.255838  \n948                                   45.615272  \n888                                   28.510331  \n420                                   52.231631  \n204                                    6.917084  \n240                                   88.604645  \n732                                   15.233547  \n828                                   14.572819  \n264                                   79.214537  \n408                                   95.090815  \n192                                   73.362274  \n504                                   81.232753  \n120                                   12.129783  \n312                                   11.826820  \n144                                   11.826820  \n552                                   12.273148  \n360                                    2.738261  ",
      "text/html": "<div>\n<style scoped>\n    .dataframe tbody tr th:only-of-type {\n        vertical-align: middle;\n    }\n\n    .dataframe tbody tr th {\n        vertical-align: top;\n    }\n\n    .dataframe thead th {\n        text-align: right;\n    }\n</style>\n<table border=\"1\" class=\"dataframe\">\n  <thead>\n    <tr style=\"text-align: right;\">\n      <th></th>\n      <th>Graph</th>\n      <th>Model</th>\n      <th>Type</th>\n      <th>Nodes</th>\n      <th>Edges</th>\n      <th>Info</th>\n      <th>Centrality.ClusteringCoefficient.Location.Arithmetic Mean</th>\n      <th>Centrality.Degree.Location.Arithmetic Mean</th>\n    </tr>\n  </thead>\n  <tbody>\n    <tr>\n      <th>720</th>\n      <td>ca-Erdos992</td>\n      <td>real-world</td>\n      <td>ca</td>\n      <td>4991</td>\n      <td>7428</td>\n      <td>{'Info': '{}'}</td>\n      <td>0.083525</td>\n      <td>2.976558</td>\n    </tr>\n    <tr>\n      <th>396</th>\n      <td>socfb-Lehigh96</td>\n      <td>real-world</td>\n      <td>socfb</td>\n      <td>5073</td>\n      <td>198346</td>\n      <td>{'Info': '{}'}</td>\n      <td>0.266552</td>\n      <td>78.196728</td>\n    </tr>\n    <tr>\n      <th>180</th>\n      <td>socfb-JohnsHopkins55</td>\n      <td>real-world</td>\n      <td>socfb</td>\n      <td>5157</td>\n      <td>186572</td>\n      <td>{'Info': '{}'}</td>\n      <td>0.269008</td>\n      <td>72.356797</td>\n    </tr>\n    <tr>\n      <th>0</th>\n      <td>socfb-Wake73</td>\n      <td>real-world</td>\n      <td>socfb</td>\n      <td>5366</td>\n      <td>279186</td>\n      <td>{'Info': '{}'}</td>\n      <td>0.275584</td>\n      <td>104.057398</td>\n    </tr>\n    <tr>\n      <th>528</th>\n      <td>socfb-American75</td>\n      <td>real-world</td>\n      <td>socfb</td>\n      <td>6370</td>\n      <td>217654</td>\n      <td>{'Info': '{}'}</td>\n      <td>0.240782</td>\n      <td>68.337206</td>\n    </tr>\n    <tr>\n      <th>252</th>\n      <td>socfb-MIT</td>\n      <td>real-world</td>\n      <td>socfb</td>\n      <td>6402</td>\n      <td>251230</td>\n      <td>{'Info': '{}'}</td>\n      <td>0.272360</td>\n      <td>78.484848</td>\n    </tr>\n    <tr>\n      <th>648</th>\n      <td>socfb-MIT8</td>\n      <td>real-world</td>\n      <td>socfb</td>\n      <td>6402</td>\n      <td>251230</td>\n      <td>{'Info': '{}'}</td>\n      <td>0.272360</td>\n      <td>78.484848</td>\n    </tr>\n    <tr>\n      <th>468</th>\n      <td>socfb-William77</td>\n      <td>real-world</td>\n      <td>socfb</td>\n      <td>6472</td>\n      <td>266378</td>\n      <td>{'Info': '{}'}</td>\n      <td>0.253614</td>\n      <td>82.317058</td>\n    </tr>\n    <tr>\n      <th>456</th>\n      <td>socfb-UChicago30</td>\n      <td>real-world</td>\n      <td>socfb</td>\n      <td>6561</td>\n      <td>208088</td>\n      <td>{'Info': '{}'}</td>\n      <td>0.253007</td>\n      <td>63.431794</td>\n    </tr>\n    <tr>\n      <th>900</th>\n      <td>socfb-Princeton12</td>\n      <td>real-world</td>\n      <td>socfb</td>\n      <td>6575</td>\n      <td>293307</td>\n      <td>{'Info': '{}'}</td>\n      <td>0.237203</td>\n      <td>89.218859</td>\n    </tr>\n    <tr>\n      <th>156</th>\n      <td>socfb-CMU</td>\n      <td>real-world</td>\n      <td>socfb</td>\n      <td>6621</td>\n      <td>249959</td>\n      <td>{'Info': '{}'}</td>\n      <td>0.278772</td>\n      <td>75.504909</td>\n    </tr>\n    <tr>\n      <th>492</th>\n      <td>socfb-Carnegie49</td>\n      <td>real-world</td>\n      <td>socfb</td>\n      <td>6621</td>\n      <td>249959</td>\n      <td>{'Info': '{}'}</td>\n      <td>0.278772</td>\n      <td>75.504909</td>\n    </tr>\n    <tr>\n      <th>744</th>\n      <td>socfb-Tufts18</td>\n      <td>real-world</td>\n      <td>socfb</td>\n      <td>6672</td>\n      <td>249722</td>\n      <td>{'Info': '{}'}</td>\n      <td>0.229428</td>\n      <td>74.856715</td>\n    </tr>\n    <tr>\n      <th>708</th>\n      <td>ia-reality</td>\n      <td>real-world</td>\n      <td>ia</td>\n      <td>6809</td>\n      <td>7680</td>\n      <td>{'Info': '{}'}</td>\n      <td>0.017771</td>\n      <td>2.255838</td>\n    </tr>\n    <tr>\n      <th>948</th>\n      <td>socfb-UC64</td>\n      <td>real-world</td>\n      <td>socfb</td>\n      <td>6810</td>\n      <td>155320</td>\n      <td>{'Info': '{}'}</td>\n      <td>0.271171</td>\n      <td>45.615272</td>\n    </tr>\n    <tr>\n      <th>888</th>\n      <td>soc-wiki-elec</td>\n      <td>real-world</td>\n      <td>soc</td>\n      <td>7066</td>\n      <td>100727</td>\n      <td>{'Info': '{}'}</td>\n      <td>0.141839</td>\n      <td>28.510331</td>\n    </tr>\n    <tr>\n      <th>420</th>\n      <td>socfb-Vermont70</td>\n      <td>real-world</td>\n      <td>socfb</td>\n      <td>7322</td>\n      <td>191220</td>\n      <td>{'Info': '{}'}</td>\n      <td>0.229423</td>\n      <td>52.231631</td>\n    </tr>\n    <tr>\n      <th>204</th>\n      <td>bio-dmela</td>\n      <td>real-world</td>\n      <td>bio</td>\n      <td>7393</td>\n      <td>25569</td>\n      <td>{'Info': '{}'}</td>\n      <td>0.011850</td>\n      <td>6.917084</td>\n    </tr>\n    <tr>\n      <th>240</th>\n      <td>socfb-Emory27</td>\n      <td>real-world</td>\n      <td>socfb</td>\n      <td>7449</td>\n      <td>330008</td>\n      <td>{'Info': '{}'}</td>\n      <td>0.256228</td>\n      <td>88.604645</td>\n    </tr>\n    <tr>\n      <th>732</th>\n      <td>tech-WHOIS</td>\n      <td>real-world</td>\n      <td>tech</td>\n      <td>7476</td>\n      <td>56943</td>\n      <td>{'Info': '{}'}</td>\n      <td>0.488923</td>\n      <td>15.233547</td>\n    </tr>\n    <tr>\n      <th>828</th>\n      <td>rec-movielens-user-movies-10m</td>\n      <td>real-world</td>\n      <td>rec</td>\n      <td>7601</td>\n      <td>55384</td>\n      <td>{'Info': '{}'}</td>\n      <td>0.119810</td>\n      <td>14.572819</td>\n    </tr>\n    <tr>\n      <th>264</th>\n      <td>socfb-Dartmouth6</td>\n      <td>real-world</td>\n      <td>socfb</td>\n      <td>7677</td>\n      <td>304065</td>\n      <td>{'Info': '{}'}</td>\n      <td>0.243600</td>\n      <td>79.214537</td>\n    </tr>\n    <tr>\n      <th>408</th>\n      <td>socfb-WashU32</td>\n      <td>real-world</td>\n      <td>socfb</td>\n      <td>7730</td>\n      <td>367526</td>\n      <td>{'Info': '{}'}</td>\n      <td>0.261745</td>\n      <td>95.090815</td>\n    </tr>\n    <tr>\n      <th>192</th>\n      <td>socfb-Tulane29</td>\n      <td>real-world</td>\n      <td>socfb</td>\n      <td>7740</td>\n      <td>283912</td>\n      <td>{'Info': '{}'}</td>\n      <td>0.255320</td>\n      <td>73.362274</td>\n    </tr>\n    <tr>\n      <th>504</th>\n      <td>socfb-Villanova62</td>\n      <td>real-world</td>\n      <td>socfb</td>\n      <td>7755</td>\n      <td>314980</td>\n      <td>{'Info': '{}'}</td>\n      <td>0.235524</td>\n      <td>81.232753</td>\n    </tr>\n    <tr>\n      <th>120</th>\n      <td>soc-Slashdot0811</td>\n      <td>real-world</td>\n      <td>soc</td>\n      <td>77360</td>\n      <td>469180</td>\n      <td>{'Info': '{}'}</td>\n      <td>0.055499</td>\n      <td>12.129783</td>\n    </tr>\n    <tr>\n      <th>312</th>\n      <td>soc-slashdot-zoo</td>\n      <td>real-world</td>\n      <td>soc</td>\n      <td>79120</td>\n      <td>467869</td>\n      <td>{'Info': '{}'}</td>\n      <td>0.058407</td>\n      <td>11.826820</td>\n    </tr>\n    <tr>\n      <th>144</th>\n      <td>soc-slashdot-trust-all</td>\n      <td>real-world</td>\n      <td>soc</td>\n      <td>79120</td>\n      <td>467869</td>\n      <td>{'Info': '{}'}</td>\n      <td>0.058407</td>\n      <td>11.826820</td>\n    </tr>\n    <tr>\n      <th>552</th>\n      <td>soc-Slashdot0902</td>\n      <td>real-world</td>\n      <td>soc</td>\n      <td>82168</td>\n      <td>504230</td>\n      <td>{'Info': '{}'}</td>\n      <td>0.060345</td>\n      <td>12.273148</td>\n    </tr>\n    <tr>\n      <th>360</th>\n      <td>rec-amazon</td>\n      <td>real-world</td>\n      <td>rec</td>\n      <td>91813</td>\n      <td>125704</td>\n      <td>{'Info': '{}'}</td>\n      <td>0.268215</td>\n      <td>2.738261</td>\n    </tr>\n  </tbody>\n</table>\n</div>"
     },
     "execution_count": 63,
     "metadata": {},
     "output_type": "execute_result"
    }
   ],
   "source": [
    "df_real.sort_values('Nodes').tail(30).loc[:, ['Graph', 'Model', 'Type', 'Nodes', 'Edges', 'Info', 'Centrality.ClusteringCoefficient.Location.Arithmetic Mean', 'Centrality.Degree.Location.Arithmetic Mean']]"
   ],
   "metadata": {
    "collapsed": false,
    "ExecuteTime": {
     "start_time": "2023-04-27T10:15:51.663111Z",
     "end_time": "2023-04-27T10:15:51.674608Z"
    }
   }
  },
  {
   "cell_type": "code",
   "execution_count": 64,
   "outputs": [
    {
     "data": {
      "text/plain": "2.738261466241164"
     },
     "execution_count": 64,
     "metadata": {},
     "output_type": "execute_result"
    }
   ],
   "source": [
    "125704*2/91813"
   ],
   "metadata": {
    "collapsed": false,
    "ExecuteTime": {
     "start_time": "2023-04-27T10:18:38.581965Z",
     "end_time": "2023-04-27T10:18:38.597973Z"
    }
   }
  },
  {
   "cell_type": "code",
   "execution_count": 50,
   "outputs": [
    {
     "data": {
      "text/plain": "{'tau': '5.570812076027258',\n 'alpha': '1.8157960066673757',\n 'const': '0.24279521797875966',\n 'target_lcc': '0.26821546694549436',\n 'fit_lcc': '0.2680021094327154',\n 'fitting_time': '2414.9225883483887',\n 'hist': '[(2.0, 0.29646015430737926), (1.342281879194631, 0.13960433073638545), (1.6064257028112447, 0.2216477491642654), (1.7817371937639197, 0.25807663985653306), (1.884570082449941, 0.27582300155023315), (1.8317115054378936, 0.27070333435250205), (1.8063787750493931, 0.2660150087214589), (1.8189569418786413, 0.2698797988716578), (1.812646038377115, 0.26639900847355175), (1.8157960066673757, 0.26739098183173715), (1.8157960066673757, 0.26739098183173715)]'}"
     },
     "execution_count": 50,
     "metadata": {},
     "output_type": "execute_result"
    }
   ],
   "source": [
    "df.iloc[437].Info"
   ],
   "metadata": {
    "collapsed": false,
    "ExecuteTime": {
     "start_time": "2023-04-26T14:29:09.894275Z",
     "end_time": "2023-04-26T14:29:09.902519Z"
    }
   }
  },
  {
   "cell_type": "code",
   "execution_count": 53,
   "outputs": [
    {
     "data": {
      "text/plain": "{'tau': '5.570812076027258',\n 'alpha': '2.4559888713004274',\n 'const': '0.15787887592274774',\n 'target_lcc': '0.26821546694549436',\n 'fit_lcc': '0.2719377713050574',\n 'fitting_time': '277.28635025024414',\n 'hist': '[(2.0, 0.23885653283482253), (3.9215686274509802, 0.3028378741067161), (2.6490066225165565, 0.2760459750608506), (2.2792022792022792, 0.259216362456682), (2.4502297090352223, 0.26378378191512547), (2.5457438345266508, 0.2724404671144037), (2.497073741708935, 0.2697068657695453), (2.473429951690821, 0.26945473512359686), (2.4617751706894895, 0.26904089018700883), (2.4559888713004274, 0.26828133575192975), (2.4559888713004274, 0.26828133575192975)]'}"
     },
     "execution_count": 53,
     "metadata": {},
     "output_type": "execute_result"
    }
   ],
   "source": [
    "df.iloc[320].Info"
   ],
   "metadata": {
    "collapsed": false,
    "ExecuteTime": {
     "start_time": "2023-04-26T14:29:40.144796Z",
     "end_time": "2023-04-26T14:29:40.191436Z"
    }
   }
  },
  {
   "cell_type": "code",
   "execution_count": 9,
   "metadata": {
    "ExecuteTime": {
     "start_time": "2023-04-29T11:26:40.498630Z",
     "end_time": "2023-04-29T11:26:40.518268Z"
    }
   },
   "outputs": [
    {
     "name": "stderr",
     "output_type": "stream",
     "text": [
      "/var/folders/60/0t2c_bns6n3c7kjhdk4d4wk80000gn/T/ipykernel_95096/585130793.py:2: DeprecationWarning: the imp module is deprecated in favour of importlib; see the module's documentation for alternative uses\n",
      "  import imp\n"
     ]
    },
    {
     "data": {
      "text/plain": "<module 'feature_cleaner' from '/Users/benjidayan/GDrive/eth_courses/GIRG/nemo-eva/src/feature_cleaner.py'>"
     },
     "execution_count": 9,
     "metadata": {},
     "output_type": "execute_result"
    }
   ],
   "source": [
    "import feature_cleaner\n",
    "import imp\n",
    "imp.reload(feature_cleaner)"
   ]
  },
  {
   "cell_type": "code",
   "execution_count": 58,
   "metadata": {
    "ExecuteTime": {
     "start_time": "2023-04-29T11:47:10.585875Z",
     "end_time": "2023-04-29T11:47:10.841890Z"
    }
   },
   "outputs": [],
   "source": [
    "graph_dicts = df.to_dict('records')\n",
    "fc = feature_cleaner.FeatureCleaner(graph_dicts)"
   ]
  },
  {
   "cell_type": "code",
   "execution_count": 59,
   "outputs": [
    {
     "name": "stdout",
     "output_type": "stream",
     "text": [
      "Feature: 296 ( unfiltered: 346 )\n",
      "missing graphs for ER model: {'bn-human-BNU_1_0025873_session_1-bg', 'bn-human-BNU_1_0025889_session_2'}\n",
      "missing graphs for chung-lu model: {'bn-human-BNU_1_0025873_session_1-bg', 'bn-human-BNU_1_0025889_session_2'}\n",
      "missing graphs for 1d-girg model: {'bn-human-BNU_1_0025873_session_1-bg', 'bn-human-BNU_1_0025889_session_2'}\n",
      "missing graphs for 2d-girg model: {'bn-human-BNU_1_0025873_session_1-bg', 'bn-human-BNU_1_0025889_session_2'}\n",
      "missing graphs for hyperbolic model: {'bn-human-BNU_1_0025873_session_1-bg', 'bn-human-BNU_1_0025889_session_2'}\n",
      "missing graphs for 2d-cube-girg model: {'bn-human-BNU_1_0025873_session_1-bg', 'bn-human-BNU_1_0025889_session_2'}\n",
      "missing graphs for 3d-girg model: {'bn-human-BNU_1_0025873_session_1-bg', 'bn-human-BNU_1_0025889_session_2'}\n",
      "missing graphs for BA circle model: {'bn-human-BNU_1_0025873_session_1-bg', 'bn-human-BNU_1_0025889_session_2'}\n",
      "missing graphs for 1d-cube-girg model: {'bn-human-BNU_1_0025873_session_1-bg', 'bn-human-BNU_1_0025889_session_2'}\n",
      "missing graphs for BA full model: {'bn-human-BNU_1_0025873_session_1-bg', 'bn-human-BNU_1_0025889_session_2'}\n",
      "Graph: 1881 ( unfiltered: 1939 )\n",
      "\n",
      "Filter graphs with rules:\n",
      "total            171\n",
      "--------------------\n",
      "CC = 0             0 []\n",
      "edges < 50         0 []\n",
      "nodes < 100        0 []\n",
      "--------------------\n",
      "to filter          0 []\n",
      "--------------------\n",
      "total filtered   171\n",
      "\n",
      "filter originally weighted graphs []\n",
      "filtering cols (notfinite):\n",
      "    Centrality.Betweenness.Location.Harmonic Mean\n",
      "    Centrality.ClusteringCoefficient.Dispersion.Coefficient Of Variation\n",
      "    Centrality.ClusteringCoefficient.Dispersion.Uncorrected Coefficient Of Variation\n",
      "    Centrality.ClusteringCoefficient.Location.Harmonic Mean\n",
      "    Centrality.ClusteringCoefficient.Shape.Kurtosis\n",
      "    Centrality.ClusteringCoefficient.Shape.Skewness M\n",
      "    Centrality.ClusteringCoefficient.Shape.Skewness YP\n",
      "    Centrality.CoreDecomposition.Shape.Kurtosis\n",
      "    Centrality.CoreDecomposition.Shape.Skewness M\n",
      "    Centrality.CoreDecomposition.Shape.Skewness YP\n",
      "    Partition.ConnectedComponents.Dispersion.Coefficient Of Variation\n",
      "    Partition.ConnectedComponents.Dispersion.Coefficient Of Variation (Rank)\n",
      "    Partition.ConnectedComponents.Dispersion.Standard Deviation\n",
      "    Partition.ConnectedComponents.Dispersion.Standard Deviation (Rank)\n",
      "    Partition.ConnectedComponents.Dispersion.Variance\n",
      "    Partition.ConnectedComponents.Dispersion.Variance (Rank)\n",
      "    Partition.ConnectedComponents.Shape.Kurtosis\n",
      "    Partition.ConnectedComponents.Shape.Skewness M\n",
      "    Partition.ConnectedComponents.Shape.Skewness YP\n",
      "    Partition.CoreDecomposition.Dispersion.Coefficient Of Variation\n",
      "    Partition.CoreDecomposition.Dispersion.Coefficient Of Variation (Rank)\n",
      "    Partition.CoreDecomposition.Dispersion.Standard Deviation\n",
      "    Partition.CoreDecomposition.Dispersion.Standard Deviation (Rank)\n",
      "    Partition.CoreDecomposition.Dispersion.Variance\n",
      "    Partition.CoreDecomposition.Dispersion.Variance (Rank)\n",
      "    Partition.CoreDecomposition.Shape.Kurtosis\n",
      "    Partition.CoreDecomposition.Shape.Skewness M\n",
      "    Partition.CoreDecomposition.Shape.Skewness YP\n",
      "filtering cols (low variation):\n",
      "    Centrality.Betweenness.Dispersion.Coefficient Of Variation (Rank)\n",
      "    Centrality.Betweenness.Dispersion.Uncorrected Coefficient Of Variation (Rank)\n",
      "    Centrality.Closeness.Dispersion.Coefficient Of Variation (Rank)\n",
      "    Centrality.Closeness.Dispersion.Uncorrected Coefficient Of Variation (Rank)\n",
      "    Centrality.Closeness.Shape.Skewness M\n",
      "    Centrality.Closeness.Shape.Skewness YP\n",
      "    Centrality.ClusteringCoefficient.Dispersion.Coefficient Of Variation (Rank)\n",
      "    Centrality.ClusteringCoefficient.Dispersion.Uncorrected Coefficient Of Variation (Rank)\n",
      "    Centrality.Degree.Dispersion.Coefficient Of Variation (Rank)\n",
      "    Centrality.Degree.Dispersion.Uncorrected Coefficient Of Variation (Rank)\n",
      "    Centrality.Katz.Dispersion.Coefficient Of Variation (Rank)\n",
      "    Centrality.Katz.Dispersion.Uncorrected Coefficient Of Variation (Rank)\n",
      "    Centrality.Katz.Shape.Skewness YP\n",
      "    Centrality.PageRank.Dispersion.Coefficient Of Variation (Rank)\n",
      "    Centrality.PageRank.Dispersion.Uncorrected Coefficient Of Variation (Rank)\n",
      "    Centrality.PageRank.Shape.Skewness YP\n",
      "    Connected Components\n",
      "    Directed\n",
      "    Partition.Communities.Dispersion.Coefficient Of Variation (Rank)\n",
      "    Partition.Communities.Dispersion.Uncorrected Coefficient Of Variation (Rank)\n",
      "    Partition.ConnectedComponents.Dispersion.Uncorrected Coefficient Of Variation\n",
      "    Partition.ConnectedComponents.Dispersion.Uncorrected Coefficient Of Variation (Rank)\n",
      "    Partition.ConnectedComponents.Dispersion.Uncorrected Standard Deviation\n",
      "    Partition.ConnectedComponents.Dispersion.Uncorrected Standard Deviation (Rank)\n",
      "    Partition.ConnectedComponents.Dispersion.Uncorrected Variance\n",
      "    Partition.ConnectedComponents.Dispersion.Uncorrected Variance (Rank)\n",
      "    Partition.ConnectedComponents.Location.Arithmetic Mean (Rank)\n",
      "    Partition.ConnectedComponents.Properties.Size\n",
      "    Partition.CoreDecomposition.Dispersion.Uncorrected Coefficient Of Variation (Rank)\n",
      "    Self Loops\n",
      "    Weighted\n"
     ]
    },
    {
     "name": "stderr",
     "output_type": "stream",
     "text": [
      "/Users/benjidayan/GDrive/eth_courses/GIRG/nemo-eva/src/feature_cleaner.py:47: FutureWarning: Passing a set as an indexer is deprecated and will raise in a future version. Use a list instead.\n",
      "  df_real = df_real.loc[complete_graphs]\n",
      "/Users/benjidayan/GDrive/eth_courses/GIRG/nemo-eva/src/feature_cleaner.py:48: FutureWarning: Passing a set as an indexer is deprecated and will raise in a future version. Use a list instead.\n",
      "  df_cleaned = df_features_cleaned.loc[complete_graphs]\n",
      "/Users/benjidayan/GDrive/eth_courses/GIRG/nemo-eva/src/feature_cleaner.py:99: FutureWarning: Dropping of nuisance columns in DataFrame reductions (with 'numeric_only=None') is deprecated; in a future version this will raise TypeError.  Select only valid columns before calling the reduction.\n",
      "  variation = df_finite_filtered.std() / df_finite_filtered.mean() / (len(df_finite_filtered)-1)**0.5\n",
      "/Users/benjidayan/GDrive/eth_courses/GIRG/nemo-eva/src/feature_cleaner.py:106: SettingWithCopyWarning: \n",
      "A value is trying to be set on a copy of a slice from a DataFrame.\n",
      "Try using .loc[row_indexer,col_indexer] = value instead\n",
      "\n",
      "See the caveats in the documentation: https://pandas.pydata.org/pandas-docs/stable/user_guide/indexing.html#returning-a-view-versus-a-copy\n",
      "  df_final[\"Graph\"] = df_final.index\n"
     ]
    }
   ],
   "source": [
    "fc.execute()"
   ],
   "metadata": {
    "collapsed": false,
    "ExecuteTime": {
     "start_time": "2023-04-29T11:47:10.916210Z",
     "end_time": "2023-04-29T11:47:12.003403Z"
    }
   }
  },
  {
   "cell_type": "code",
   "execution_count": 52,
   "metadata": {
    "ExecuteTime": {
     "start_time": "2023-04-27T10:13:05.987775Z",
     "end_time": "2023-04-27T10:13:06.660154Z"
    }
   },
   "outputs": [
    {
     "name": "stdout",
     "output_type": "stream",
     "text": [
      "Feature: 297 ( unfiltered: 347 )\n",
      "missing graphs for BA full model: {'bn-human-BNU_1_0025873_session_1-bg'}\n",
      "missing graphs for BA circle model: {'bn-human-BNU_1_0025873_session_1-bg'}\n",
      "missing graphs for 2d-cube-girg model: {'tech-p2p-gnutella', 'socfb-wosn-friends', 'bn-human-BNU_1_0025873_session_1-bg'}\n",
      "missing graphs for ER model: {'bn-human-BNU_1_0025873_session_1-bg'}\n",
      "missing graphs for 3d-girg model: {'bn-human-BNU_1_0025873_session_1-bg'}\n",
      "missing graphs for hyperbolic model: {'bn-human-BNU_1_0025873_session_1-bg'}\n",
      "missing graphs for 1d-girg model: {'bn-human-BNU_1_0025873_session_1-bg'}\n",
      "missing graphs for 2d-girg model: {'bn-human-BNU_1_0025873_session_1-bg'}\n",
      "missing graphs for 1d-cube-girg model: {'tech-p2p-gnutella', 'bn-human-BNU_1_0025873_session_1-bg'}\n",
      "missing graphs for 3d-cube-girg model: {'soc-themarker', 'socfb-Vanderbilt48', 'ia-wikiquote-user-edits', 'bn-human-BNU_1_0025873_session_1-bg', 'socfb-Brown11', 'socfb-OR', 'socfb-Yale4', 'tech-p2p-gnutella', 'socfb-UCSC68', 'socfb-wosn-friends', 'ia-wiki-Talk', 'ia-enron-email-dynamic', 'soc-slashdot', 'socfb-Georgetown15', 'socfb-Maine59'}\n",
      "missing graphs for chung-lu model: {'bn-human-BNU_1_0025873_session_1-bg'}\n",
      "Graph: 984 ( unfiltered: 1188 )\n",
      "\n",
      "Filter graphs with rules:\n",
      "total             82\n",
      "--------------------\n",
      "CC = 0             0 []\n",
      "edges < 50         0 []\n",
      "nodes < 100        0 []\n",
      "--------------------\n",
      "to filter          0 []\n",
      "--------------------\n",
      "total filtered    82\n",
      "\n",
      "filter originally weighted graphs []\n",
      "filtering cols (notfinite):\n",
      "    Centrality.Betweenness.Location.Harmonic Mean\n",
      "    Centrality.ClusteringCoefficient.Dispersion.Coefficient Of Variation\n",
      "    Centrality.ClusteringCoefficient.Dispersion.Uncorrected Coefficient Of Variation\n",
      "    Centrality.ClusteringCoefficient.Location.Harmonic Mean\n",
      "    Centrality.ClusteringCoefficient.Shape.Kurtosis\n",
      "    Centrality.ClusteringCoefficient.Shape.Skewness M\n",
      "    Centrality.ClusteringCoefficient.Shape.Skewness YP\n",
      "    Centrality.CoreDecomposition.Shape.Kurtosis\n",
      "    Centrality.CoreDecomposition.Shape.Skewness M\n",
      "    Centrality.CoreDecomposition.Shape.Skewness YP\n",
      "    Partition.ConnectedComponents.Dispersion.Coefficient Of Variation\n",
      "    Partition.ConnectedComponents.Dispersion.Coefficient Of Variation (Rank)\n",
      "    Partition.ConnectedComponents.Dispersion.Standard Deviation\n",
      "    Partition.ConnectedComponents.Dispersion.Standard Deviation (Rank)\n",
      "    Partition.ConnectedComponents.Dispersion.Variance\n",
      "    Partition.ConnectedComponents.Dispersion.Variance (Rank)\n",
      "    Partition.ConnectedComponents.Shape.Kurtosis\n",
      "    Partition.ConnectedComponents.Shape.Skewness M\n",
      "    Partition.ConnectedComponents.Shape.Skewness YP\n",
      "    Partition.CoreDecomposition.Dispersion.Coefficient Of Variation\n",
      "    Partition.CoreDecomposition.Dispersion.Coefficient Of Variation (Rank)\n",
      "    Partition.CoreDecomposition.Dispersion.Standard Deviation\n",
      "    Partition.CoreDecomposition.Dispersion.Standard Deviation (Rank)\n",
      "    Partition.CoreDecomposition.Dispersion.Variance\n",
      "    Partition.CoreDecomposition.Dispersion.Variance (Rank)\n",
      "    Partition.CoreDecomposition.Shape.Kurtosis\n",
      "    Partition.CoreDecomposition.Shape.Skewness M\n",
      "    Partition.CoreDecomposition.Shape.Skewness YP\n",
      "    alpha\n",
      "filtering cols (low variation):\n",
      "    Centrality.Betweenness.Dispersion.Coefficient Of Variation (Rank)\n",
      "    Centrality.Betweenness.Dispersion.Uncorrected Coefficient Of Variation (Rank)\n",
      "    Centrality.Closeness.Dispersion.Coefficient Of Variation (Rank)\n",
      "    Centrality.Closeness.Dispersion.Uncorrected Coefficient Of Variation (Rank)\n",
      "    Centrality.Closeness.Shape.Skewness M\n",
      "    Centrality.ClusteringCoefficient.Dispersion.Coefficient Of Variation (Rank)\n",
      "    Centrality.ClusteringCoefficient.Dispersion.Uncorrected Coefficient Of Variation (Rank)\n",
      "    Centrality.Degree.Dispersion.Coefficient Of Variation (Rank)\n",
      "    Centrality.Degree.Dispersion.Uncorrected Coefficient Of Variation (Rank)\n",
      "    Centrality.Katz.Dispersion.Coefficient Of Variation (Rank)\n",
      "    Centrality.Katz.Dispersion.Uncorrected Coefficient Of Variation (Rank)\n",
      "    Centrality.PageRank.Dispersion.Coefficient Of Variation (Rank)\n",
      "    Centrality.PageRank.Dispersion.Uncorrected Coefficient Of Variation (Rank)\n",
      "    Connected Components\n",
      "    Directed\n",
      "    Partition.Communities.Dispersion.Coefficient Of Variation (Rank)\n",
      "    Partition.Communities.Dispersion.Uncorrected Coefficient Of Variation (Rank)\n",
      "    Partition.Communities.Shape.Kurtosis\n",
      "    Partition.ConnectedComponents.Dispersion.Uncorrected Coefficient Of Variation\n",
      "    Partition.ConnectedComponents.Dispersion.Uncorrected Coefficient Of Variation (Rank)\n",
      "    Partition.ConnectedComponents.Dispersion.Uncorrected Standard Deviation\n",
      "    Partition.ConnectedComponents.Dispersion.Uncorrected Standard Deviation (Rank)\n",
      "    Partition.ConnectedComponents.Dispersion.Uncorrected Variance\n",
      "    Partition.ConnectedComponents.Dispersion.Uncorrected Variance (Rank)\n",
      "    Partition.ConnectedComponents.Location.Arithmetic Mean (Rank)\n",
      "    Partition.ConnectedComponents.Properties.Size\n",
      "    Self Loops\n",
      "    Weighted\n"
     ]
    },
    {
     "name": "stderr",
     "output_type": "stream",
     "text": [
      "/Users/benjidayan/GDrive/eth_courses/GIRG/nemo-eva/src/feature_cleaner.py:47: FutureWarning: Passing a set as an indexer is deprecated and will raise in a future version. Use a list instead.\n",
      "  df_real = df_real.loc[complete_graphs]\n",
      "/Users/benjidayan/GDrive/eth_courses/GIRG/nemo-eva/src/feature_cleaner.py:48: FutureWarning: Passing a set as an indexer is deprecated and will raise in a future version. Use a list instead.\n",
      "  df_cleaned = df_features_cleaned.loc[complete_graphs]\n",
      "/Users/benjidayan/GDrive/eth_courses/GIRG/nemo-eva/src/feature_cleaner.py:99: FutureWarning: Dropping of nuisance columns in DataFrame reductions (with 'numeric_only=None') is deprecated; in a future version this will raise TypeError.  Select only valid columns before calling the reduction.\n",
      "  variation = df_finite_filtered.std() / df_finite_filtered.mean() / (len(df_finite_filtered)-1)**0.5\n",
      "/Users/benjidayan/GDrive/eth_courses/GIRG/nemo-eva/src/feature_cleaner.py:106: SettingWithCopyWarning: \n",
      "A value is trying to be set on a copy of a slice from a DataFrame.\n",
      "Try using .loc[row_indexer,col_indexer] = value instead\n",
      "\n",
      "See the caveats in the documentation: https://pandas.pydata.org/pandas-docs/stable/user_guide/indexing.html#returning-a-view-versus-a-copy\n",
      "  df_final[\"Graph\"] = df_final.index\n"
     ]
    }
   ],
   "source": [
    "fc.execute()"
   ]
  },
  {
   "cell_type": "code",
   "execution_count": 53,
   "outputs": [
    {
     "data": {
      "text/plain": "'../../FeatureExtractionOutLCCMini2/3-cleaned_features/results.csv'"
     },
     "execution_count": 53,
     "metadata": {},
     "output_type": "execute_result"
    }
   ],
   "source": [],
   "metadata": {
    "collapsed": false,
    "ExecuteTime": {
     "start_time": "2023-04-27T10:13:09.993952Z",
     "end_time": "2023-04-27T10:13:10.019050Z"
    }
   }
  },
  {
   "cell_type": "code",
   "execution_count": 18,
   "outputs": [
    {
     "data": {
      "text/plain": "True"
     },
     "execution_count": 18,
     "metadata": {},
     "output_type": "execute_result"
    }
   ],
   "source": [
    "os.environ['DATA_PATH'] + '3-cleaned_features/results.csv' == fc.resultspath"
   ],
   "metadata": {
    "collapsed": false,
    "ExecuteTime": {
     "start_time": "2023-04-28T13:03:33.986814Z",
     "end_time": "2023-04-28T13:03:34.003665Z"
    }
   }
  },
  {
   "cell_type": "code",
   "execution_count": 60,
   "metadata": {
    "ExecuteTime": {
     "start_time": "2023-04-29T15:48:43.008741Z",
     "end_time": "2023-04-29T15:48:43.076186Z"
    }
   },
   "outputs": [],
   "source": [
    "df_clean = pd.read_csv(os.environ['DATA_PATH'] + '3-cleaned_features/results.csv')\n",
    "df_clean.Info = df_clean.Info.apply(lambda temp: {'Info': temp} if '|' not in temp else {key: var for key, var in [x.split('=') for x in temp.split('|')]})\n",
    "df_real = df_clean.loc[df_clean.Model == 'real-world']\n",
    "df_clean['alpha'] = df_clean.Info.apply(lambda x: x['alpha'] if 'alpha' in x else 1/float(x['t']) if 't' in x else None)"
   ]
  },
  {
   "cell_type": "code",
   "execution_count": 61,
   "outputs": [
    {
     "data": {
      "text/plain": "(1881, 238)"
     },
     "execution_count": 61,
     "metadata": {},
     "output_type": "execute_result"
    }
   ],
   "source": [
    "df_clean.shape"
   ],
   "metadata": {
    "collapsed": false,
    "ExecuteTime": {
     "start_time": "2023-04-29T15:48:44.056539Z",
     "end_time": "2023-04-29T15:48:44.063069Z"
    }
   }
  },
  {
   "cell_type": "code",
   "execution_count": 62,
   "outputs": [
    {
     "data": {
      "text/plain": "(171, 237)"
     },
     "execution_count": 62,
     "metadata": {},
     "output_type": "execute_result"
    }
   ],
   "source": [
    "df_real.shape"
   ],
   "metadata": {
    "collapsed": false,
    "ExecuteTime": {
     "start_time": "2023-04-29T15:48:46.246935Z",
     "end_time": "2023-04-29T15:48:46.257232Z"
    }
   }
  },
  {
   "cell_type": "code",
   "execution_count": 25,
   "outputs": [
    {
     "data": {
      "text/plain": "['socfb-Wake73',\n 'ia-email-univ',\n 'socfb-Reed98',\n 'socfb-Bucknell39',\n 'bn-macaque-rhesus_brain_1',\n 'tech-routers-rf',\n 'socfb-Williams40',\n 'socfb-Middlebury45',\n 'bio-diseasome',\n 'socfb-Wesleyan43',\n 'soc-Slashdot0811',\n 'bio-yeast',\n 'soc-slashdot-trust-all',\n 'socfb-CMU',\n 'socfb-Rice31',\n 'socfb-JohnsHopkins55',\n 'socfb-Tulane29',\n 'bio-dmela',\n 'rt-twitter-copen',\n 'bio-yeast-protein-inter',\n 'socfb-Emory27',\n 'socfb-MIT',\n 'socfb-Dartmouth6',\n 'socfb-Simmons81',\n 'socfb-Amherst41',\n 'ia-fb-messages',\n 'soc-slashdot-zoo',\n 'socfb-Mich67',\n 'socfb-Trinity100',\n 'socfb-Wellesley22',\n 'rec-amazon',\n 'ca-netscience',\n 'socfb-Bowdoin47',\n 'socfb-Lehigh96',\n 'socfb-WashU32',\n 'socfb-Vermont70',\n 'web-spam',\n 'socfb-Smith60',\n 'socfb-UChicago30',\n 'socfb-William77',\n 'socfb-Howard90',\n 'socfb-Carnegie49',\n 'socfb-Villanova62',\n 'ca-GrQc',\n 'socfb-American75',\n 'inf-power',\n 'soc-Slashdot0902',\n 'bn-fly-drosophila_medulla_1',\n 'web-EPA',\n 'bio-celegans',\n 'socfb-Hamilton46',\n 'socfb-Swarthmore42',\n 'inf-euroroad',\n 'socfb-Vassar85',\n 'socfb-MIT8',\n 'socfb-Haverford76',\n 'bio-celegans-dir',\n 'socfb-Rochester38',\n 'ia-enron-only',\n 'ia-reality',\n 'ca-Erdos992',\n 'tech-WHOIS',\n 'socfb-Tufts18',\n 'inf-openflights',\n 'socfb-Colgate88',\n 'socfb-USFCA72',\n 'socfb-Santa74',\n 'web-google',\n 'soc-hamsterster',\n 'rec-movielens-user-movies-10m',\n 'socfb-Oberlin44',\n 'web-edu',\n 'web-polblogs',\n 'socfb-Pepperdine86',\n 'soc-wiki-elec',\n 'socfb-Princeton12',\n 'ia-infect-dublin',\n 'socfb-nips-ego',\n 'soc-wiki-Vote',\n 'socfb-UC64',\n 'socfb-Caltech36',\n 'socfb-Brandeis99']"
     },
     "execution_count": 25,
     "metadata": {},
     "output_type": "execute_result"
    }
   ],
   "source": [
    "missing = ['soc-themarker', 'socfb-Vanderbilt48', 'ia-wikiquote-user-edits', 'bn-human-BNU_1_0025873_session_1-bg', 'socfb-Brown11', 'socfb-OR', 'socfb-Yale4', 'tech-p2p-gnutella', 'socfb-UCSC68', 'socfb-wosn-friends', 'ia-wiki-Talk', 'ia-enron-email-dynamic', 'soc-slashdot', 'socfb-Georgetown15', 'socfb-Maine59']\n",
    "present = list(df_real.loc[:, 'Graph'])\n",
    "present"
   ],
   "metadata": {
    "collapsed": false,
    "ExecuteTime": {
     "start_time": "2023-04-27T10:02:27.793045Z",
     "end_time": "2023-04-27T10:02:27.802631Z"
    }
   }
  },
  {
   "cell_type": "code",
   "execution_count": 35,
   "outputs": [
    {
     "data": {
      "text/plain": "['socfb-NYU9.SpaceOne',\n 'socfb-Middlebury45.SpaceOne',\n 'socfb-Bucknell39.SpaceOne',\n 'soc-hamsterster.SpaceOne',\n 'soc-gplus.SpaceOne',\n 'ca-Erdos992.SpaceOne',\n 'web-sk-2005.SpaceOne',\n 'soc-slashdot.SpaceOne',\n 'socfb-William77.SpaceOne',\n 'socfb-UMass92.SpaceOne',\n 'soc-Slashdot0811.SpaceOne',\n 'socfb-UCSC68.SpaceOne',\n 'socfb-UF.SpaceOne',\n 'socfb-UC64.SpaceOne',\n 'socfb-Vassar85.SpaceOne',\n 'socfb-Oberlin44.SpaceOne',\n 'soc-gowalla.SpaceOne',\n 'soc-slashdot-zoo.SpaceOne',\n 'socfb-Maryland58.SpaceOne',\n 'tech-WHOIS.SpaceOne',\n 'socfb-Texas84.SpaceOne',\n 'soc-sign-Slashdot090216.SpaceOne',\n 'socfb-Dartmouth6.SpaceOne',\n 'rec-eachmovie.SpaceOne',\n 'tech-p2p-gnutella.SpaceOne',\n 'socfb-BU10.SpaceOne',\n 'soc-brightkite.SpaceOne',\n 'tech-as-skitter.SpaceOne',\n 'soc-sign-Slashdot081106.SpaceOne',\n 'rec-movielens-user-movies-10m.SpaceOne',\n 'ia-reality.SpaceOne',\n 'socfb-Pepperdine86.SpaceOne',\n 'bn-human-BNU_1_0025889_session_2.SpaceOne',\n 'socfb-Emory27.SpaceOne',\n 'socfb-Rutgers89.SpaceOne',\n 'ia-enron-only.SpaceOne',\n 'socfb-Virginia63.SpaceOne',\n 'rec-yelp-user-business.SpaceOne',\n 'ca-AstroPh.SpaceOne',\n 'ca-coauthors-dblp.SpaceOne',\n 'socfb-CMU.SpaceOne',\n 'socfb-UPenn7.SpaceOne',\n 'tech-RL-caida.SpaceOne',\n 'socfb-Cal65.SpaceOne',\n 'soc-loc-brightkite.SpaceOne',\n 'inf-power.SpaceOne',\n 'bn-macaque-rhesus_brain_1.SpaceOne',\n 'socfb-UCLA26.SpaceOne',\n 'socfb-Auburn71.SpaceOne',\n 'socfb-UCLA.SpaceOne',\n 'bn-fly-drosophila_medulla_1.SpaceOne',\n 'socfb-Stanford3.SpaceOne',\n 'socfb-Syracuse56.SpaceOne',\n 'socfb-Maine59.SpaceOne',\n 'soc-twitter-follows.SpaceOne',\n 'ca-netscience.SpaceOne',\n 'inf-euroroad.SpaceOne',\n 'socfb-Colgate88.SpaceOne',\n 'socfb-UNC28.SpaceOne',\n 'ia-email-univ.SpaceOne',\n 'socfb-Oklahoma97.SpaceOne',\n 'rec-dating.SpaceOne',\n 'soc-catster.SpaceOne',\n 'soc-LiveMocha.SpaceOne',\n 'socfb-Harvard1.SpaceOne',\n 'web-polblogs.SpaceOne',\n 'socfb-Howard90.SpaceOne',\n 'socfb-American75.SpaceOne',\n 'socfb-Northeastern19.SpaceOne',\n 'rec-github.SpaceOne',\n 'socfb-Brown11.SpaceOne',\n 'web-indochina-2004.SpaceOne',\n 'socfb-Michigan23.SpaceOne',\n 'socfb-UF21.SpaceOne',\n 'socfb-Princeton12.SpaceOne',\n 'soc-epinions.SpaceOne',\n 'socfb-UConn91.SpaceOne',\n 'socfb-Yale4.SpaceOne',\n 'socfb-Cornell5.SpaceOne',\n 'socfb-Wake73.SpaceOne',\n 'bio-yeast-protein-inter.SpaceOne',\n 'socfb-Smith60.SpaceOne',\n 'socfb-Rochester38.SpaceOne',\n 'socfb-GWU54.SpaceOne',\n 'soc-twitter-follows-mun.SpaceOne',\n 'tech-pgp.SpaceOne',\n 'socfb-Williams40.SpaceOne',\n 'socfb-UIllinois20.SpaceOne',\n 'ca-citeseer.SpaceOne',\n 'soc-Slashdot0902.SpaceOne',\n 'tech-routers-rf.SpaceOne',\n 'web-baidu-baike-related.SpaceOne',\n 'ia-dbpedia-team-bi.SpaceOne',\n 'soc-dogster.SpaceOne',\n 'soc-wiki-Vote.SpaceOne',\n 'socfb-Simmons81.SpaceOne',\n 'socfb-Columbia2.SpaceOne',\n 'soc-wiki-elec.SpaceOne',\n 'socfb-BC17.SpaceOne',\n 'ca-dblp-2010.SpaceOne',\n 'socfb-Mich67.SpaceOne',\n 'socfb-Vanderbilt48.SpaceOne',\n 'rec-amazon.SpaceOne',\n 'soc-youtube.SpaceOne',\n 'ia-enron-large.SpaceOne',\n 'socfb-USF51.SpaceOne',\n 'socfb-Indiana69.SpaceOne',\n 'ca-HepPh.SpaceOne',\n 'socfb-Carnegie49.SpaceOne',\n 'soc-themarker.SpaceOne',\n 'socfb-Caltech36.SpaceOne',\n 'socfb-MIT.SpaceOne',\n 'bio-yeast.SpaceOne',\n 'socfb-Hamilton46.SpaceOne',\n 'socfb-Tufts18.SpaceOne',\n 'soc-advogato.SpaceOne',\n 'web-frwikinews-user-edits.SpaceOne',\n 'socfb-Mississippi66.SpaceOne',\n 'ia-wiki-Talk.SpaceOne',\n 'socfb-Amherst41.SpaceOne',\n 'rec-movielens-tag-movies-10m.SpaceOne',\n 'soc-google-plus.SpaceOne',\n 'inf-openflights.SpaceOne',\n 'socfb-Georgetown15.SpaceOne',\n 'ca-CondMat.SpaceOne',\n 'socfb-Wisconsin87.SpaceOne',\n 'socfb-NotreDame57.SpaceOne',\n 'web-italycnr-2000.SpaceOne',\n 'socfb-Wesleyan43.SpaceOne',\n 'socfb-UChicago30.SpaceOne',\n 'socfb-UCF52.SpaceOne',\n 'socfb-UC33.SpaceOne',\n 'socfb-wosn-friends.SpaceOne',\n 'soc-sign-epinions.SpaceOne',\n 'socfb-UCSB37.SpaceOne',\n 'socfb-Duke14.SpaceOne',\n 'ia-wiki-trust-dir.SpaceOne',\n 'socfb-WashU32.SpaceOne',\n 'socfb-Rice31.SpaceOne',\n 'socfb-FSU53.SpaceOne',\n 'web-arabic-2005.SpaceOne',\n 'web-EPA.SpaceOne',\n 'ca-IMDB.SpaceOne',\n 'socfb-nips-ego.SpaceOne',\n 'web-BerkStan.SpaceOne',\n 'ia-escorts-dynamic.SpaceOne',\n 'soc-anybeat.SpaceOne',\n 'socfb-OR.SpaceOne',\n 'socfb-Swarthmore42.SpaceOne',\n 'soc-sign-Slashdot090221.SpaceOne',\n 'socfb-USFCA72.SpaceOne',\n 'socfb-Wellesley22.SpaceOne',\n 'rec-movielens.SpaceOne',\n 'ia-infect-dublin.SpaceOne',\n 'ia-email-EU-dir.SpaceOne',\n 'soc-academia.SpaceOne',\n 'socfb-Temple83.SpaceOne',\n 'socfb-JohnsHopkins55.SpaceOne',\n 'tech-as-caida2007.SpaceOne',\n 'socfb-USC35.SpaceOne',\n 'soc-delicious.SpaceOne',\n 'soc-slashdot-trust-all.SpaceOne',\n 'ia-fb-messages.SpaceOne',\n 'bio-diseasome.SpaceOne',\n 'soc-douban.SpaceOne',\n 'inf-USAir97.SpaceOne',\n 'socfb-Northwestern25.SpaceOne',\n 'socfb-MSU24.SpaceOne',\n 'socfb-UC61.SpaceOne',\n 'socfb-Bingham82.SpaceOne',\n 'web-webbase-2001.SpaceOne',\n 'socfb-Trinity100.SpaceOne',\n 'tech-internet-as.SpaceOne',\n 'web-google-dir.SpaceOne',\n 'web-BerkStan-dir.SpaceOne',\n 'ia-email-EU.SpaceOne',\n 'socfb-Villanova62.SpaceOne',\n 'socfb-Berkeley13.SpaceOne',\n 'socfb-Texas80.SpaceOne',\n 'socfb-MIT8.SpaceOne',\n 'socfb-Tennessee95.SpaceOne',\n 'socfb-UGA50.SpaceOne',\n 'soc-buzznet.SpaceOne',\n 'ca-dblp-2012.SpaceOne',\n 'socfb-UConn.SpaceOne',\n 'bn-human-BNU_1_0025873_session_1-bg.SpaceOne',\n 'socfb-Baylor93.SpaceOne',\n 'socfb-Brandeis99.SpaceOne',\n 'bio-celegans-dir.SpaceOne',\n 'socfb-JMU79.SpaceOne',\n 'rt-higgs.SpaceOne',\n 'web-Stanford.SpaceOne',\n 'socfb-Santa74.SpaceOne',\n 'rt-twitter-copen.SpaceOne',\n 'ca-GrQc.SpaceOne',\n 'socfb-Penn94.SpaceOne',\n 'bio-dmela.SpaceOne',\n 'socfb-Lehigh96.SpaceOne',\n 'rt-retweet-crawl.SpaceOne',\n 'web-spam.SpaceOne',\n 'web-NotreDame.SpaceOne',\n 'socfb-MU78.SpaceOne',\n 'socfb-Vermont70.SpaceOne',\n 'socfb-UIllinois.SpaceOne',\n 'web-google.SpaceOne',\n 'socfb-Tulane29.SpaceOne',\n 'socfb-Haverford76.SpaceOne',\n 'bio-celegans.SpaceOne',\n 'socfb-Bowdoin47.SpaceOne',\n 'ia-enron-email-dynamic.SpaceOne',\n 'soc-flickr.SpaceOne',\n 'socfb-Indiana.SpaceOne',\n 'socfb-UVA16.SpaceOne',\n 'soc-twitter-higgs.SpaceOne',\n 'ca-MathSciNet.SpaceOne',\n 'ia-wikiquote-user-edits.SpaceOne',\n 'socfb-UCSD34.SpaceOne',\n 'socfb-Reed98.SpaceOne',\n 'web-edu.SpaceOne']"
     },
     "execution_count": 35,
     "metadata": {},
     "output_type": "execute_result"
    }
   ],
   "source": [
    "os.listdir(data_dir)"
   ],
   "metadata": {
    "collapsed": false,
    "ExecuteTime": {
     "start_time": "2023-04-27T10:07:18.596459Z",
     "end_time": "2023-04-27T10:07:18.617017Z"
    }
   }
  },
  {
   "cell_type": "code",
   "execution_count": 36,
   "outputs": [
    {
     "name": "stdout",
     "output_type": "stream",
     "text": [
      "/Users/benjidayan/Documents/GIRG_data/ia-enron-only.SpaceOne\n",
      "/Users/benjidayan/Documents/GIRG_data/bn-macaque-rhesus_brain_1.SpaceOne\n",
      "/Users/benjidayan/Documents/GIRG_data/inf-USAir97.SpaceOne\n",
      "/Users/benjidayan/Documents/GIRG_data/ca-netscience.SpaceOne\n",
      "/Users/benjidayan/Documents/GIRG_data/ia-infect-dublin.SpaceOne\n",
      "/Users/benjidayan/Documents/GIRG_data/bio-celegans.SpaceOne\n",
      "/Users/benjidayan/Documents/GIRG_data/bio-celegans-dir.SpaceOne\n",
      "/Users/benjidayan/Documents/GIRG_data/bio-diseasome.SpaceOne\n",
      "/Users/benjidayan/Documents/GIRG_data/web-polblogs.SpaceOne\n",
      "/Users/benjidayan/Documents/GIRG_data/rt-twitter-copen.SpaceOne\n",
      "/Users/benjidayan/Documents/GIRG_data/socfb-Caltech36.SpaceOne\n",
      "/Users/benjidayan/Documents/GIRG_data/soc-wiki-Vote.SpaceOne\n",
      "/Users/benjidayan/Documents/GIRG_data/socfb-Reed98.SpaceOne\n",
      "/Users/benjidayan/Documents/GIRG_data/inf-euroroad.SpaceOne\n",
      "/Users/benjidayan/Documents/GIRG_data/ia-email-univ.SpaceOne\n",
      "/Users/benjidayan/Documents/GIRG_data/ia-fb-messages.SpaceOne\n",
      "/Users/benjidayan/Documents/GIRG_data/web-google.SpaceOne\n",
      "/Users/benjidayan/Documents/GIRG_data/socfb-Haverford76.SpaceOne\n",
      "/Users/benjidayan/Documents/GIRG_data/bio-yeast.SpaceOne\n",
      "/Users/benjidayan/Documents/GIRG_data/bio-yeast-protein-inter.SpaceOne\n",
      "/Users/benjidayan/Documents/GIRG_data/socfb-Simmons81.SpaceOne\n",
      "/Users/benjidayan/Documents/GIRG_data/socfb-Swarthmore42.SpaceOne\n",
      "/Users/benjidayan/Documents/GIRG_data/bn-fly-drosophila_medulla_1.SpaceOne\n",
      "/Users/benjidayan/Documents/GIRG_data/soc-hamsterster.SpaceOne\n",
      "/Users/benjidayan/Documents/GIRG_data/tech-routers-rf.SpaceOne\n",
      "/Users/benjidayan/Documents/GIRG_data/socfb-Amherst41.SpaceOne\n",
      "/Users/benjidayan/Documents/GIRG_data/socfb-Bowdoin47.SpaceOne\n",
      "/Users/benjidayan/Documents/GIRG_data/socfb-Hamilton46.SpaceOne\n",
      "/Users/benjidayan/Documents/GIRG_data/socfb-Trinity100.SpaceOne\n",
      "/Users/benjidayan/Documents/GIRG_data/socfb-USFCA72.SpaceOne\n",
      "/Users/benjidayan/Documents/GIRG_data/socfb-Williams40.SpaceOne\n",
      "/Users/benjidayan/Documents/GIRG_data/socfb-nips-ego.SpaceOne\n",
      "/Users/benjidayan/Documents/GIRG_data/inf-openflights.SpaceOne\n",
      "/Users/benjidayan/Documents/GIRG_data/socfb-Oberlin44.SpaceOne\n",
      "/Users/benjidayan/Documents/GIRG_data/socfb-Wellesley22.SpaceOne\n",
      "/Users/benjidayan/Documents/GIRG_data/socfb-Smith60.SpaceOne\n",
      "/Users/benjidayan/Documents/GIRG_data/web-edu.SpaceOne\n",
      "/Users/benjidayan/Documents/GIRG_data/socfb-Vassar85.SpaceOne\n",
      "/Users/benjidayan/Documents/GIRG_data/socfb-Middlebury45.SpaceOne\n",
      "/Users/benjidayan/Documents/GIRG_data/socfb-Pepperdine86.SpaceOne\n",
      "/Users/benjidayan/Documents/GIRG_data/socfb-Colgate88.SpaceOne\n",
      "/Users/benjidayan/Documents/GIRG_data/socfb-Santa74.SpaceOne\n",
      "/Users/benjidayan/Documents/GIRG_data/socfb-Wesleyan43.SpaceOne\n",
      "/Users/benjidayan/Documents/GIRG_data/socfb-Mich67.SpaceOne\n",
      "/Users/benjidayan/Documents/GIRG_data/socfb-Bucknell39.SpaceOne\n",
      "/Users/benjidayan/Documents/GIRG_data/socfb-Brandeis99.SpaceOne\n",
      "/Users/benjidayan/Documents/GIRG_data/socfb-Howard90.SpaceOne\n",
      "/Users/benjidayan/Documents/GIRG_data/socfb-Rice31.SpaceOne\n",
      "/Users/benjidayan/Documents/GIRG_data/ca-GrQc.SpaceOne\n",
      "/Users/benjidayan/Documents/GIRG_data/web-EPA.SpaceOne\n",
      "/Users/benjidayan/Documents/GIRG_data/socfb-Rochester38.SpaceOne\n",
      "/Users/benjidayan/Documents/GIRG_data/web-spam.SpaceOne\n",
      "/Users/benjidayan/Documents/GIRG_data/inf-power.SpaceOne\n",
      "/Users/benjidayan/Documents/GIRG_data/ca-Erdos992.SpaceOne\n",
      "/Users/benjidayan/Documents/GIRG_data/soc-advogato.SpaceOne\n",
      "/Users/benjidayan/Documents/GIRG_data/socfb-Lehigh96.SpaceOne\n",
      "/Users/benjidayan/Documents/GIRG_data/socfb-JohnsHopkins55.SpaceOne\n",
      "/Users/benjidayan/Documents/GIRG_data/socfb-Wake73.SpaceOne\n",
      "/Users/benjidayan/Documents/GIRG_data/socfb-American75.SpaceOne\n",
      "/Users/benjidayan/Documents/GIRG_data/socfb-MIT8.SpaceOne\n",
      "/Users/benjidayan/Documents/GIRG_data/socfb-MIT.SpaceOne\n",
      "/Users/benjidayan/Documents/GIRG_data/socfb-William77.SpaceOne\n",
      "/Users/benjidayan/Documents/GIRG_data/socfb-UChicago30.SpaceOne\n",
      "/Users/benjidayan/Documents/GIRG_data/socfb-Princeton12.SpaceOne\n",
      "/Users/benjidayan/Documents/GIRG_data/socfb-Carnegie49.SpaceOne\n",
      "/Users/benjidayan/Documents/GIRG_data/socfb-CMU.SpaceOne\n",
      "/Users/benjidayan/Documents/GIRG_data/socfb-Tufts18.SpaceOne\n",
      "/Users/benjidayan/Documents/GIRG_data/ia-reality.SpaceOne\n",
      "/Users/benjidayan/Documents/GIRG_data/socfb-UC64.SpaceOne\n",
      "/Users/benjidayan/Documents/GIRG_data/soc-wiki-elec.SpaceOne\n",
      "/Users/benjidayan/Documents/GIRG_data/socfb-Vermont70.SpaceOne\n",
      "/Users/benjidayan/Documents/GIRG_data/bio-dmela.SpaceOne\n",
      "/Users/benjidayan/Documents/GIRG_data/socfb-Emory27.SpaceOne\n",
      "/Users/benjidayan/Documents/GIRG_data/tech-WHOIS.SpaceOne\n",
      "/Users/benjidayan/Documents/GIRG_data/rec-movielens-user-movies-10m.SpaceOne\n",
      "/Users/benjidayan/Documents/GIRG_data/socfb-Dartmouth6.SpaceOne\n",
      "/Users/benjidayan/Documents/GIRG_data/socfb-WashU32.SpaceOne\n",
      "/Users/benjidayan/Documents/GIRG_data/socfb-Tulane29.SpaceOne\n",
      "/Users/benjidayan/Documents/GIRG_data/socfb-Villanova62.SpaceOne\n",
      "/Users/benjidayan/Documents/GIRG_data/socfb-Vanderbilt48.SpaceOne\n",
      "/Users/benjidayan/Documents/GIRG_data/socfb-Yale4.SpaceOne\n",
      "/Users/benjidayan/Documents/GIRG_data/socfb-Brown11.SpaceOne\n",
      "/Users/benjidayan/Documents/GIRG_data/socfb-UCSC68.SpaceOne\n",
      "/Users/benjidayan/Documents/GIRG_data/socfb-Maine59.SpaceOne\n",
      "/Users/benjidayan/Documents/GIRG_data/socfb-Georgetown15.SpaceOne\n",
      "/Users/benjidayan/Documents/GIRG_data/socfb-Duke14.SpaceOne\n",
      "/Users/benjidayan/Documents/GIRG_data/socfb-Bingham82.SpaceOne\n",
      "/Users/benjidayan/Documents/GIRG_data/ia-escorts-dynamic.SpaceOne\n",
      "/Users/benjidayan/Documents/GIRG_data/socfb-Mississippi66.SpaceOne\n",
      "/Users/benjidayan/Documents/GIRG_data/socfb-Northwestern25.SpaceOne\n",
      "/Users/benjidayan/Documents/GIRG_data/tech-pgp.SpaceOne\n",
      "/Users/benjidayan/Documents/GIRG_data/ca-HepPh.SpaceOne\n",
      "/Users/benjidayan/Documents/GIRG_data/socfb-Cal65.SpaceOne\n",
      "/Users/benjidayan/Documents/GIRG_data/web-indochina-2004.SpaceOne\n",
      "/Users/benjidayan/Documents/GIRG_data/bn-human-BNU_1_0025889_session_2.SpaceOne\n",
      "/Users/benjidayan/Documents/GIRG_data/socfb-BC17.SpaceOne\n",
      "/Users/benjidayan/Documents/GIRG_data/socfb-Stanford3.SpaceOne\n",
      "/Users/benjidayan/Documents/GIRG_data/socfb-Columbia2.SpaceOne\n",
      "/Users/benjidayan/Documents/GIRG_data/socfb-NotreDame57.SpaceOne\n",
      "/Users/benjidayan/Documents/GIRG_data/socfb-GWU54.SpaceOne\n",
      "/Users/benjidayan/Documents/GIRG_data/web-BerkStan.SpaceOne\n",
      "/Users/benjidayan/Documents/GIRG_data/soc-anybeat.SpaceOne\n",
      "/Users/benjidayan/Documents/GIRG_data/socfb-Baylor93.SpaceOne\n",
      "/Users/benjidayan/Documents/GIRG_data/socfb-USF51.SpaceOne\n",
      "/Users/benjidayan/Documents/GIRG_data/socfb-Syracuse56.SpaceOne\n",
      "/Users/benjidayan/Documents/GIRG_data/socfb-Temple83.SpaceOne\n",
      "/Users/benjidayan/Documents/GIRG_data/socfb-UC61.SpaceOne\n",
      "/Users/benjidayan/Documents/GIRG_data/socfb-Northeastern19.SpaceOne\n",
      "/Users/benjidayan/Documents/GIRG_data/socfb-JMU79.SpaceOne\n",
      "/Users/benjidayan/Documents/GIRG_data/socfb-UPenn7.SpaceOne\n",
      "/Users/benjidayan/Documents/GIRG_data/socfb-UCSB37.SpaceOne\n",
      "/Users/benjidayan/Documents/GIRG_data/socfb-UCSD34.SpaceOne\n",
      "/Users/benjidayan/Documents/GIRG_data/socfb-UCF52.SpaceOne\n",
      "/Users/benjidayan/Documents/GIRG_data/socfb-Harvard1.SpaceOne\n",
      "/Users/benjidayan/Documents/GIRG_data/socfb-MU78.SpaceOne\n",
      "/Users/benjidayan/Documents/GIRG_data/web-webbase-2001.SpaceOne\n",
      "/Users/benjidayan/Documents/GIRG_data/socfb-UMass92.SpaceOne\n",
      "/Users/benjidayan/Documents/GIRG_data/rec-movielens-tag-movies-10m.SpaceOne\n",
      "/Users/benjidayan/Documents/GIRG_data/socfb-UC33.SpaceOne\n",
      "/Users/benjidayan/Documents/GIRG_data/socfb-Tennessee95.SpaceOne\n",
      "/Users/benjidayan/Documents/GIRG_data/socfb-UVA16.SpaceOne\n",
      "/Users/benjidayan/Documents/GIRG_data/socfb-UConn.SpaceOne\n",
      "/Users/benjidayan/Documents/GIRG_data/socfb-UConn91.SpaceOne\n",
      "/Users/benjidayan/Documents/GIRG_data/socfb-Oklahoma97.SpaceOne\n",
      "/Users/benjidayan/Documents/GIRG_data/socfb-USC35.SpaceOne\n",
      "/Users/benjidayan/Documents/GIRG_data/ca-AstroPh.SpaceOne\n",
      "/Users/benjidayan/Documents/GIRG_data/socfb-UNC28.SpaceOne\n",
      "/Users/benjidayan/Documents/GIRG_data/socfb-Auburn71.SpaceOne\n",
      "/Users/benjidayan/Documents/GIRG_data/socfb-Cornell5.SpaceOne\n",
      "/Users/benjidayan/Documents/GIRG_data/socfb-BU10.SpaceOne\n",
      "/Users/benjidayan/Documents/GIRG_data/socfb-UCLA26.SpaceOne\n",
      "/Users/benjidayan/Documents/GIRG_data/socfb-UCLA.SpaceOne\n",
      "/Users/benjidayan/Documents/GIRG_data/socfb-Maryland58.SpaceOne\n",
      "/Users/benjidayan/Documents/GIRG_data/socfb-Virginia63.SpaceOne\n",
      "/Users/benjidayan/Documents/GIRG_data/ca-CondMat.SpaceOne\n",
      "/Users/benjidayan/Documents/GIRG_data/socfb-NYU9.SpaceOne\n",
      "/Users/benjidayan/Documents/GIRG_data/socfb-Berkeley13.SpaceOne\n",
      "/Users/benjidayan/Documents/GIRG_data/soc-gplus.SpaceOne\n",
      "/Users/benjidayan/Documents/GIRG_data/socfb-Wisconsin87.SpaceOne\n",
      "/Users/benjidayan/Documents/GIRG_data/socfb-UGA50.SpaceOne\n",
      "/Users/benjidayan/Documents/GIRG_data/socfb-Rutgers89.SpaceOne\n",
      "/Users/benjidayan/Documents/GIRG_data/web-frwikinews-user-edits.SpaceOne\n",
      "/Users/benjidayan/Documents/GIRG_data/tech-as-caida2007.SpaceOne\n",
      "/Users/benjidayan/Documents/GIRG_data/soc-epinions.SpaceOne\n",
      "/Users/benjidayan/Documents/GIRG_data/socfb-FSU53.SpaceOne\n",
      "/Users/benjidayan/Documents/GIRG_data/socfb-Indiana.SpaceOne\n",
      "/Users/benjidayan/Documents/GIRG_data/socfb-Indiana69.SpaceOne\n",
      "/Users/benjidayan/Documents/GIRG_data/socfb-Michigan23.SpaceOne\n",
      "/Users/benjidayan/Documents/GIRG_data/socfb-UIllinois20.SpaceOne\n",
      "/Users/benjidayan/Documents/GIRG_data/socfb-UIllinois.SpaceOne\n",
      "/Users/benjidayan/Documents/GIRG_data/socfb-Texas80.SpaceOne\n",
      "/Users/benjidayan/Documents/GIRG_data/socfb-MSU24.SpaceOne\n",
      "/Users/benjidayan/Documents/GIRG_data/ia-email-EU.SpaceOne\n",
      "/Users/benjidayan/Documents/GIRG_data/ia-enron-large.SpaceOne\n",
      "/Users/benjidayan/Documents/GIRG_data/socfb-UF.SpaceOne\n",
      "/Users/benjidayan/Documents/GIRG_data/socfb-UF21.SpaceOne\n",
      "/Users/benjidayan/Documents/GIRG_data/socfb-Texas84.SpaceOne\n",
      "/Users/benjidayan/Documents/GIRG_data/tech-internet-as.SpaceOne\n",
      "/Users/benjidayan/Documents/GIRG_data/socfb-Penn94.SpaceOne\n",
      "/Users/benjidayan/Documents/GIRG_data/rec-yelp-user-business.SpaceOne\n",
      "/Users/benjidayan/Documents/GIRG_data/soc-brightkite.SpaceOne\n",
      "/Users/benjidayan/Documents/GIRG_data/soc-loc-brightkite.SpaceOne\n",
      "/Users/benjidayan/Documents/GIRG_data/rec-eachmovie.SpaceOne\n",
      "/Users/benjidayan/Documents/GIRG_data/tech-p2p-gnutella.SpaceOne\n",
      "/Users/benjidayan/Documents/GIRG_data/socfb-wosn-friends.SpaceOne\n",
      "/Users/benjidayan/Documents/GIRG_data/socfb-OR.SpaceOne\n",
      "/Users/benjidayan/Documents/GIRG_data/soc-themarker.SpaceOne\n",
      "/Users/benjidayan/Documents/GIRG_data/soc-slashdot.SpaceOne\n",
      "/Users/benjidayan/Documents/GIRG_data/rec-movielens.SpaceOne\n",
      "/Users/benjidayan/Documents/GIRG_data/soc-sign-Slashdot081106.SpaceOne\n",
      "/Users/benjidayan/Documents/GIRG_data/soc-Slashdot0811.SpaceOne\n",
      "/Users/benjidayan/Documents/GIRG_data/soc-slashdot-trust-all.SpaceOne\n",
      "/Users/benjidayan/Documents/GIRG_data/soc-slashdot-zoo.SpaceOne\n",
      "/Users/benjidayan/Documents/GIRG_data/soc-sign-Slashdot090216.SpaceOne\n",
      "/Users/benjidayan/Documents/GIRG_data/soc-sign-Slashdot090221.SpaceOne\n",
      "/Users/benjidayan/Documents/GIRG_data/soc-Slashdot0902.SpaceOne\n",
      "/Users/benjidayan/Documents/GIRG_data/ia-enron-email-dynamic.SpaceOne\n",
      "/Users/benjidayan/Documents/GIRG_data/rec-amazon.SpaceOne\n",
      "/Users/benjidayan/Documents/GIRG_data/bn-human-BNU_1_0025873_session_1-bg.SpaceOne\n",
      "/Users/benjidayan/Documents/GIRG_data/ia-wiki-Talk.SpaceOne\n",
      "/Users/benjidayan/Documents/GIRG_data/ia-wikiquote-user-edits.SpaceOne\n",
      "/Users/benjidayan/Documents/GIRG_data/soc-buzznet.SpaceOne\n",
      "/Users/benjidayan/Documents/GIRG_data/soc-LiveMocha.SpaceOne\n",
      "/Users/benjidayan/Documents/GIRG_data/soc-sign-epinions.SpaceOne\n",
      "/Users/benjidayan/Documents/GIRG_data/rec-github.SpaceOne\n",
      "/Users/benjidayan/Documents/GIRG_data/web-sk-2005.SpaceOne\n",
      "/Users/benjidayan/Documents/GIRG_data/ia-wiki-trust-dir.SpaceOne\n",
      "/Users/benjidayan/Documents/GIRG_data/soc-catster.SpaceOne\n",
      "/Users/benjidayan/Documents/GIRG_data/soc-douban.SpaceOne\n",
      "/Users/benjidayan/Documents/GIRG_data/web-arabic-2005.SpaceOne\n",
      "/Users/benjidayan/Documents/GIRG_data/rec-dating.SpaceOne\n",
      "/Users/benjidayan/Documents/GIRG_data/tech-RL-caida.SpaceOne\n",
      "/Users/benjidayan/Documents/GIRG_data/soc-gowalla.SpaceOne\n",
      "/Users/benjidayan/Documents/GIRG_data/soc-academia.SpaceOne\n",
      "/Users/benjidayan/Documents/GIRG_data/soc-google-plus.SpaceOne\n",
      "/Users/benjidayan/Documents/GIRG_data/ia-email-EU-dir.SpaceOne\n",
      "/Users/benjidayan/Documents/GIRG_data/ca-dblp-2010.SpaceOne\n",
      "/Users/benjidayan/Documents/GIRG_data/ca-citeseer.SpaceOne\n",
      "/Users/benjidayan/Documents/GIRG_data/web-Stanford.SpaceOne\n",
      "/Users/benjidayan/Documents/GIRG_data/ca-dblp-2012.SpaceOne\n",
      "/Users/benjidayan/Documents/GIRG_data/web-italycnr-2000.SpaceOne\n",
      "/Users/benjidayan/Documents/GIRG_data/web-NotreDame.SpaceOne\n",
      "/Users/benjidayan/Documents/GIRG_data/ca-MathSciNet.SpaceOne\n",
      "/Users/benjidayan/Documents/GIRG_data/ia-dbpedia-team-bi.SpaceOne\n",
      "/Users/benjidayan/Documents/GIRG_data/web-baidu-baike-related.SpaceOne\n",
      "/Users/benjidayan/Documents/GIRG_data/soc-twitter-follows.SpaceOne\n",
      "/Users/benjidayan/Documents/GIRG_data/rt-higgs.SpaceOne\n",
      "/Users/benjidayan/Documents/GIRG_data/soc-dogster.SpaceOne\n",
      "/Users/benjidayan/Documents/GIRG_data/soc-twitter-higgs.SpaceOne\n",
      "/Users/benjidayan/Documents/GIRG_data/soc-twitter-follows-mun.SpaceOne\n",
      "/Users/benjidayan/Documents/GIRG_data/soc-youtube.SpaceOne\n",
      "/Users/benjidayan/Documents/GIRG_data/soc-flickr.SpaceOne\n",
      "/Users/benjidayan/Documents/GIRG_data/soc-delicious.SpaceOne\n",
      "/Users/benjidayan/Documents/GIRG_data/ca-coauthors-dblp.SpaceOne\n",
      "/Users/benjidayan/Documents/GIRG_data/web-BerkStan-dir.SpaceOne\n",
      "/Users/benjidayan/Documents/GIRG_data/web-google-dir.SpaceOne\n",
      "/Users/benjidayan/Documents/GIRG_data/ca-IMDB.SpaceOne\n",
      "/Users/benjidayan/Documents/GIRG_data/rt-retweet-crawl.SpaceOne\n",
      "/Users/benjidayan/Documents/GIRG_data/tech-as-skitter.SpaceOne\n"
     ]
    }
   ],
   "source": [
    "import glob\n",
    "data_dir = '/Users/benjidayan/Documents/GIRG_data/'\n",
    "max_number_of_nodes = 100000\n",
    "\n",
    "\n",
    "# array([['ia-enron-only', 'ia'],\n",
    "#        ['bn-macaque-rhesus_brain_1', 'bn'],\n",
    "#        ['inf-USAir97', 'inf'],\n",
    "# ....\n",
    "graph_name_group_pairs = in_df_mini[['Graph', 'Type']].to_numpy()\n",
    "graph_dicts = []\n",
    "for graph_name, group in graph_name_group_pairs:\n",
    "    fn = glob.glob(data_dir + graph_name + '.*')[0]\n",
    "    print(fn)\n",
    "    graph_dict = {\"Group\": group, \"FullPath\": fn, \"Name\": graph_name}\n",
    "    graph_dicts.append(graph_dict)\n",
    "\n",
    "def quick_mixin(my_list, end_per_begin=5):\n",
    "    \"\"\"[1,2,3,4,5,6,7,8,9,10], 3 -> [1,2,10,3,4,9,5,6,8,7] roughly\"\"\"\n",
    "    i = 0\n",
    "    j = len(my_list)-1\n",
    "    out = []\n",
    "    end_went = False\n",
    "    while i < j:\n",
    "        if i % (end_per_begin-1) == 0 and not end_went:\n",
    "            out.append(my_list[j])\n",
    "            j -= 1\n",
    "            end_went = True\n",
    "        else:\n",
    "            out.append(my_list[i])\n",
    "            i += 1\n",
    "            end_went = False\n",
    "\n",
    "    out.append(my_list[i])\n",
    "    return out\n",
    "\n",
    "\n",
    "graph_dicts = quick_mixin(graph_dicts, end_per_begin=6)\n"
   ],
   "metadata": {
    "collapsed": false,
    "ExecuteTime": {
     "start_time": "2023-04-27T10:08:40.135677Z",
     "end_time": "2023-04-27T10:08:40.188894Z"
    }
   }
  },
  {
   "cell_type": "code",
   "execution_count": 37,
   "outputs": [
    {
     "data": {
      "text/plain": "[0,\n 3,\n 6,\n 12,\n 18,\n 24,\n 30,\n 36,\n 42,\n 48,\n 54,\n 60,\n 65,\n 66,\n 72,\n 78,\n 84,\n 90,\n 95,\n 96,\n 97,\n 98,\n 99,\n 100,\n 101,\n 102,\n 103,\n 104,\n 105,\n 106,\n 107,\n 108,\n 109,\n 110,\n 111,\n 112,\n 113,\n 114,\n 115,\n 116,\n 117,\n 118,\n 119,\n 120,\n 121,\n 122,\n 123,\n 124,\n 125,\n 126,\n 127,\n 128,\n 129,\n 130,\n 131,\n 132,\n 133,\n 134,\n 135,\n 136,\n 137,\n 138,\n 139,\n 140,\n 141,\n 142,\n 143,\n 144,\n 145,\n 146,\n 147,\n 148,\n 149,\n 150,\n 151,\n 152,\n 153,\n 154,\n 155,\n 156,\n 157,\n 158,\n 159,\n 160,\n 161,\n 162,\n 163,\n 164,\n 165,\n 166,\n 167,\n 168,\n 169,\n 170,\n 171,\n 172,\n 173,\n 174,\n 175,\n 176,\n 177,\n 178,\n 179,\n 180,\n 181,\n 182,\n 183,\n 184,\n 185,\n 186,\n 187,\n 188,\n 189,\n 190,\n 191,\n 192,\n 193,\n 194,\n 195,\n 196,\n 197,\n 198,\n 199,\n 200,\n 201,\n 202,\n 203,\n 204,\n 208,\n 209,\n 210,\n 212,\n 214,\n 215,\n 216,\n 217,\n 218]"
     },
     "execution_count": 37,
     "metadata": {},
     "output_type": "execute_result"
    }
   ],
   "source": [
    "names = [x['Name'] for x in graph_dicts]\n",
    "idxs = [names.index(x) for x in names if x not in present]\n",
    "idxs = sorted(idxs)\n",
    "idxs"
   ],
   "metadata": {
    "collapsed": false,
    "ExecuteTime": {
     "start_time": "2023-04-27T10:08:43.751745Z",
     "end_time": "2023-04-27T10:08:43.760440Z"
    }
   }
  },
  {
   "cell_type": "code",
   "execution_count": 39,
   "outputs": [
    {
     "data": {
      "text/plain": "                 Graph       Model   Type    Nodes     Info\n725      ia-enron-only  real-world     ia      143  no info\n395      ca-netscience  real-world     ca      379  no info\n1283  bio-celegans-dir  real-world    bio      453  no info\n605       socfb-Reed98  real-world  socfb      962  no info\n185          bio-yeast  real-world    bio     1458  no info\n...                ...         ...    ...      ...      ...\n83    web-BerkStan-dir  real-world    web   654782  no info\n143     web-google-dir  real-world    web   855802  no info\n179            ca-IMDB  real-world     ca   896305  no info\n1313  rt-retweet-crawl  real-world     rt  1112702  no info\n1307   tech-as-skitter  real-world   tech  1694616  no info\n\n[137 rows x 5 columns]",
      "text/html": "<div>\n<style scoped>\n    .dataframe tbody tr th:only-of-type {\n        vertical-align: middle;\n    }\n\n    .dataframe tbody tr th {\n        vertical-align: top;\n    }\n\n    .dataframe thead th {\n        text-align: right;\n    }\n</style>\n<table border=\"1\" class=\"dataframe\">\n  <thead>\n    <tr style=\"text-align: right;\">\n      <th></th>\n      <th>Graph</th>\n      <th>Model</th>\n      <th>Type</th>\n      <th>Nodes</th>\n      <th>Info</th>\n    </tr>\n  </thead>\n  <tbody>\n    <tr>\n      <th>725</th>\n      <td>ia-enron-only</td>\n      <td>real-world</td>\n      <td>ia</td>\n      <td>143</td>\n      <td>no info</td>\n    </tr>\n    <tr>\n      <th>395</th>\n      <td>ca-netscience</td>\n      <td>real-world</td>\n      <td>ca</td>\n      <td>379</td>\n      <td>no info</td>\n    </tr>\n    <tr>\n      <th>1283</th>\n      <td>bio-celegans-dir</td>\n      <td>real-world</td>\n      <td>bio</td>\n      <td>453</td>\n      <td>no info</td>\n    </tr>\n    <tr>\n      <th>605</th>\n      <td>socfb-Reed98</td>\n      <td>real-world</td>\n      <td>socfb</td>\n      <td>962</td>\n      <td>no info</td>\n    </tr>\n    <tr>\n      <th>185</th>\n      <td>bio-yeast</td>\n      <td>real-world</td>\n      <td>bio</td>\n      <td>1458</td>\n      <td>no info</td>\n    </tr>\n    <tr>\n      <th>...</th>\n      <td>...</td>\n      <td>...</td>\n      <td>...</td>\n      <td>...</td>\n      <td>...</td>\n    </tr>\n    <tr>\n      <th>83</th>\n      <td>web-BerkStan-dir</td>\n      <td>real-world</td>\n      <td>web</td>\n      <td>654782</td>\n      <td>no info</td>\n    </tr>\n    <tr>\n      <th>143</th>\n      <td>web-google-dir</td>\n      <td>real-world</td>\n      <td>web</td>\n      <td>855802</td>\n      <td>no info</td>\n    </tr>\n    <tr>\n      <th>179</th>\n      <td>ca-IMDB</td>\n      <td>real-world</td>\n      <td>ca</td>\n      <td>896305</td>\n      <td>no info</td>\n    </tr>\n    <tr>\n      <th>1313</th>\n      <td>rt-retweet-crawl</td>\n      <td>real-world</td>\n      <td>rt</td>\n      <td>1112702</td>\n      <td>no info</td>\n    </tr>\n    <tr>\n      <th>1307</th>\n      <td>tech-as-skitter</td>\n      <td>real-world</td>\n      <td>tech</td>\n      <td>1694616</td>\n      <td>no info</td>\n    </tr>\n  </tbody>\n</table>\n<p>137 rows × 5 columns</p>\n</div>"
     },
     "execution_count": 39,
     "metadata": {},
     "output_type": "execute_result"
    }
   ],
   "source": [
    "in_df_mini.iloc[idxs]"
   ],
   "metadata": {
    "collapsed": false,
    "ExecuteTime": {
     "start_time": "2023-04-27T10:09:33.101851Z",
     "end_time": "2023-04-27T10:09:33.112556Z"
    }
   }
  },
  {
   "cell_type": "code",
   "execution_count": 42,
   "outputs": [
    {
     "data": {
      "text/plain": "Empty DataFrame\nColumns: [Centrality.Betweenness.Binning.Number CDF, Centrality.Betweenness.Binning.Number Histogram, Centrality.Betweenness.Dispersion.Coefficient Of Variation, Centrality.Betweenness.Dispersion.Coefficient Of Variation (Rank), Centrality.Betweenness.Dispersion.Interquartile Range, Centrality.Betweenness.Dispersion.Sample Range, Centrality.Betweenness.Dispersion.Standard Deviation, Centrality.Betweenness.Dispersion.Standard Deviation (Rank), Centrality.Betweenness.Dispersion.Uncorrected Coefficient Of Variation, Centrality.Betweenness.Dispersion.Uncorrected Coefficient Of Variation (Rank), Centrality.Betweenness.Dispersion.Uncorrected Standard Deviation, Centrality.Betweenness.Dispersion.Uncorrected Standard Deviation (Rank), Centrality.Betweenness.Dispersion.Uncorrected Variance, Centrality.Betweenness.Dispersion.Uncorrected Variance (Rank), Centrality.Betweenness.Dispersion.Variance, Centrality.Betweenness.Dispersion.Variance (Rank), Centrality.Betweenness.Location.1st Quartile, Centrality.Betweenness.Location.3rd Quartile, Centrality.Betweenness.Location.Arithmetic Mean, Centrality.Betweenness.Location.Arithmetic Mean (Rank), Centrality.Betweenness.Location.Cubic Mean, Centrality.Betweenness.Location.Harmonic Mean, Centrality.Betweenness.Location.Interquartile Mean, Centrality.Betweenness.Location.Max, Centrality.Betweenness.Location.Median, Centrality.Betweenness.Location.Mid-Range, Centrality.Betweenness.Location.Min, Centrality.Betweenness.Location.Quadratic Mean, Centrality.Betweenness.Properties.Bessel's Correction, Centrality.Betweenness.Properties.Size, Centrality.Betweenness.Shape.Kurtosis, Centrality.Betweenness.Shape.Skewness M, Centrality.Betweenness.Shape.Skewness YP, Centrality.Closeness.Binning.Number CDF, Centrality.Closeness.Binning.Number Histogram, Centrality.Closeness.Dispersion.Coefficient Of Variation, Centrality.Closeness.Dispersion.Coefficient Of Variation (Rank), Centrality.Closeness.Dispersion.Interquartile Range, Centrality.Closeness.Dispersion.Sample Range, Centrality.Closeness.Dispersion.Standard Deviation, Centrality.Closeness.Dispersion.Standard Deviation (Rank), Centrality.Closeness.Dispersion.Uncorrected Coefficient Of Variation, Centrality.Closeness.Dispersion.Uncorrected Coefficient Of Variation (Rank), Centrality.Closeness.Dispersion.Uncorrected Standard Deviation, Centrality.Closeness.Dispersion.Uncorrected Standard Deviation (Rank), Centrality.Closeness.Dispersion.Uncorrected Variance, Centrality.Closeness.Dispersion.Uncorrected Variance (Rank), Centrality.Closeness.Dispersion.Variance, Centrality.Closeness.Dispersion.Variance (Rank), Centrality.Closeness.Location.1st Quartile, Centrality.Closeness.Location.3rd Quartile, Centrality.Closeness.Location.Arithmetic Mean, Centrality.Closeness.Location.Arithmetic Mean (Rank), Centrality.Closeness.Location.Cubic Mean, Centrality.Closeness.Location.Harmonic Mean, Centrality.Closeness.Location.Interquartile Mean, Centrality.Closeness.Location.Max, Centrality.Closeness.Location.Median, Centrality.Closeness.Location.Mid-Range, Centrality.Closeness.Location.Min, Centrality.Closeness.Location.Quadratic Mean, Centrality.Closeness.Properties.Bessel's Correction, Centrality.Closeness.Properties.Size, Centrality.Closeness.Shape.Kurtosis, Centrality.Closeness.Shape.Skewness M, Centrality.Closeness.Shape.Skewness YP, Centrality.ClusteringCoefficient.Binning.Number CDF, Centrality.ClusteringCoefficient.Binning.Number Histogram, Centrality.ClusteringCoefficient.Dispersion.Coefficient Of Variation, Centrality.ClusteringCoefficient.Dispersion.Coefficient Of Variation (Rank), Centrality.ClusteringCoefficient.Dispersion.Interquartile Range, Centrality.ClusteringCoefficient.Dispersion.Sample Range, Centrality.ClusteringCoefficient.Dispersion.Standard Deviation, Centrality.ClusteringCoefficient.Dispersion.Standard Deviation (Rank), Centrality.ClusteringCoefficient.Dispersion.Uncorrected Coefficient Of Variation, Centrality.ClusteringCoefficient.Dispersion.Uncorrected Coefficient Of Variation (Rank), Centrality.ClusteringCoefficient.Dispersion.Uncorrected Standard Deviation, Centrality.ClusteringCoefficient.Dispersion.Uncorrected Standard Deviation (Rank), Centrality.ClusteringCoefficient.Dispersion.Uncorrected Variance, Centrality.ClusteringCoefficient.Dispersion.Uncorrected Variance (Rank), Centrality.ClusteringCoefficient.Dispersion.Variance, Centrality.ClusteringCoefficient.Dispersion.Variance (Rank), Centrality.ClusteringCoefficient.Location.1st Quartile, Centrality.ClusteringCoefficient.Location.3rd Quartile, Centrality.ClusteringCoefficient.Location.Arithmetic Mean, Centrality.ClusteringCoefficient.Location.Arithmetic Mean (Rank), Centrality.ClusteringCoefficient.Location.Cubic Mean, Centrality.ClusteringCoefficient.Location.Harmonic Mean, Centrality.ClusteringCoefficient.Location.Interquartile Mean, Centrality.ClusteringCoefficient.Location.Max, Centrality.ClusteringCoefficient.Location.Median, Centrality.ClusteringCoefficient.Location.Mid-Range, Centrality.ClusteringCoefficient.Location.Min, Centrality.ClusteringCoefficient.Location.Quadratic Mean, Centrality.ClusteringCoefficient.Properties.Bessel's Correction, Centrality.ClusteringCoefficient.Properties.Size, Centrality.ClusteringCoefficient.Shape.Kurtosis, Centrality.ClusteringCoefficient.Shape.Skewness M, Centrality.ClusteringCoefficient.Shape.Skewness YP, Centrality.CoreDecomposition.Binning.Number CDF, ...]\nIndex: []\n\n[0 rows x 347 columns]",
      "text/html": "<div>\n<style scoped>\n    .dataframe tbody tr th:only-of-type {\n        vertical-align: middle;\n    }\n\n    .dataframe tbody tr th {\n        vertical-align: top;\n    }\n\n    .dataframe thead th {\n        text-align: right;\n    }\n</style>\n<table border=\"1\" class=\"dataframe\">\n  <thead>\n    <tr style=\"text-align: right;\">\n      <th></th>\n      <th>Centrality.Betweenness.Binning.Number CDF</th>\n      <th>Centrality.Betweenness.Binning.Number Histogram</th>\n      <th>Centrality.Betweenness.Dispersion.Coefficient Of Variation</th>\n      <th>Centrality.Betweenness.Dispersion.Coefficient Of Variation (Rank)</th>\n      <th>Centrality.Betweenness.Dispersion.Interquartile Range</th>\n      <th>Centrality.Betweenness.Dispersion.Sample Range</th>\n      <th>Centrality.Betweenness.Dispersion.Standard Deviation</th>\n      <th>Centrality.Betweenness.Dispersion.Standard Deviation (Rank)</th>\n      <th>Centrality.Betweenness.Dispersion.Uncorrected Coefficient Of Variation</th>\n      <th>Centrality.Betweenness.Dispersion.Uncorrected Coefficient Of Variation (Rank)</th>\n      <th>...</th>\n      <th>Partition.CoreDecomposition.Location.Min</th>\n      <th>Partition.CoreDecomposition.Location.Quadratic Mean</th>\n      <th>Partition.CoreDecomposition.Properties.Bessel's Correction</th>\n      <th>Partition.CoreDecomposition.Properties.Size</th>\n      <th>Partition.CoreDecomposition.Shape.Kurtosis</th>\n      <th>Partition.CoreDecomposition.Shape.Skewness M</th>\n      <th>Partition.CoreDecomposition.Shape.Skewness YP</th>\n      <th>Self Loops</th>\n      <th>Type</th>\n      <th>Weighted</th>\n    </tr>\n  </thead>\n  <tbody>\n  </tbody>\n</table>\n<p>0 rows × 347 columns</p>\n</div>"
     },
     "execution_count": 42,
     "metadata": {},
     "output_type": "execute_result"
    }
   ],
   "source": [
    "df.loc[df.Graph == 'ia-enron-early']"
   ],
   "metadata": {
    "collapsed": false,
    "ExecuteTime": {
     "start_time": "2023-04-27T10:10:34.837008Z",
     "end_time": "2023-04-27T10:10:34.843287Z"
    }
   }
  },
  {
   "cell_type": "code",
   "execution_count": 63,
   "outputs": [
    {
     "data": {
      "text/plain": "                 Graph         Model Type  Nodes  Edges               alpha  \\\n1164      bio-celegans  1d-cube-girg  bio    444   1649    2.33784616789571   \n1161      bio-celegans       1d-girg  bio    453   2096  2.4190309702109567   \n1165      bio-celegans  2d-cube-girg  bio    435   1637                 2.0   \n1162      bio-celegans       2d-girg  bio    450   2045   3.460511642053326   \n1163      bio-celegans       3d-girg  bio    453   2035               100.0   \n...                ...           ...  ...    ...    ...                 ...   \n1191  web-webbase-2001       BA full  web  16062  25593                None   \n1189  web-webbase-2001            ER  web  15340  25625                None   \n1192  web-webbase-2001      chung-lu  web  11704  25084                None   \n1193  web-webbase-2001    hyperbolic  web  14096  19802            1.795735   \n1188  web-webbase-2001    real-world  web  16062  25593                None   \n\n      Centrality.ClusteringCoefficient.Location.Arithmetic Mean  \\\n1164                                           0.606983           \n1161                                           0.627487           \n1165                                           0.550821           \n1162                                           0.670343           \n1163                                           0.525261           \n...                                                 ...           \n1191                                           0.001381           \n1189                                           0.000194           \n1192                                           0.036669           \n1193                                           0.223127           \n1188                                           0.224316           \n\n      Centrality.Degree.Location.Arithmetic Mean  \n1164                                    7.427928  \n1161                                    9.253863  \n1165                                    7.526437  \n1162                                    9.088889  \n1163                                    8.984547  \n...                                          ...  \n1191                                    3.186776  \n1189                                    3.340939  \n1192                                    4.286398  \n1193                                    2.809591  \n1188                                    3.186776  \n\n[1881 rows x 8 columns]",
      "text/html": "<div>\n<style scoped>\n    .dataframe tbody tr th:only-of-type {\n        vertical-align: middle;\n    }\n\n    .dataframe tbody tr th {\n        vertical-align: top;\n    }\n\n    .dataframe thead th {\n        text-align: right;\n    }\n</style>\n<table border=\"1\" class=\"dataframe\">\n  <thead>\n    <tr style=\"text-align: right;\">\n      <th></th>\n      <th>Graph</th>\n      <th>Model</th>\n      <th>Type</th>\n      <th>Nodes</th>\n      <th>Edges</th>\n      <th>alpha</th>\n      <th>Centrality.ClusteringCoefficient.Location.Arithmetic Mean</th>\n      <th>Centrality.Degree.Location.Arithmetic Mean</th>\n    </tr>\n  </thead>\n  <tbody>\n    <tr>\n      <th>1164</th>\n      <td>bio-celegans</td>\n      <td>1d-cube-girg</td>\n      <td>bio</td>\n      <td>444</td>\n      <td>1649</td>\n      <td>2.33784616789571</td>\n      <td>0.606983</td>\n      <td>7.427928</td>\n    </tr>\n    <tr>\n      <th>1161</th>\n      <td>bio-celegans</td>\n      <td>1d-girg</td>\n      <td>bio</td>\n      <td>453</td>\n      <td>2096</td>\n      <td>2.4190309702109567</td>\n      <td>0.627487</td>\n      <td>9.253863</td>\n    </tr>\n    <tr>\n      <th>1165</th>\n      <td>bio-celegans</td>\n      <td>2d-cube-girg</td>\n      <td>bio</td>\n      <td>435</td>\n      <td>1637</td>\n      <td>2.0</td>\n      <td>0.550821</td>\n      <td>7.526437</td>\n    </tr>\n    <tr>\n      <th>1162</th>\n      <td>bio-celegans</td>\n      <td>2d-girg</td>\n      <td>bio</td>\n      <td>450</td>\n      <td>2045</td>\n      <td>3.460511642053326</td>\n      <td>0.670343</td>\n      <td>9.088889</td>\n    </tr>\n    <tr>\n      <th>1163</th>\n      <td>bio-celegans</td>\n      <td>3d-girg</td>\n      <td>bio</td>\n      <td>453</td>\n      <td>2035</td>\n      <td>100.0</td>\n      <td>0.525261</td>\n      <td>8.984547</td>\n    </tr>\n    <tr>\n      <th>...</th>\n      <td>...</td>\n      <td>...</td>\n      <td>...</td>\n      <td>...</td>\n      <td>...</td>\n      <td>...</td>\n      <td>...</td>\n      <td>...</td>\n    </tr>\n    <tr>\n      <th>1191</th>\n      <td>web-webbase-2001</td>\n      <td>BA full</td>\n      <td>web</td>\n      <td>16062</td>\n      <td>25593</td>\n      <td>None</td>\n      <td>0.001381</td>\n      <td>3.186776</td>\n    </tr>\n    <tr>\n      <th>1189</th>\n      <td>web-webbase-2001</td>\n      <td>ER</td>\n      <td>web</td>\n      <td>15340</td>\n      <td>25625</td>\n      <td>None</td>\n      <td>0.000194</td>\n      <td>3.340939</td>\n    </tr>\n    <tr>\n      <th>1192</th>\n      <td>web-webbase-2001</td>\n      <td>chung-lu</td>\n      <td>web</td>\n      <td>11704</td>\n      <td>25084</td>\n      <td>None</td>\n      <td>0.036669</td>\n      <td>4.286398</td>\n    </tr>\n    <tr>\n      <th>1193</th>\n      <td>web-webbase-2001</td>\n      <td>hyperbolic</td>\n      <td>web</td>\n      <td>14096</td>\n      <td>19802</td>\n      <td>1.795735</td>\n      <td>0.223127</td>\n      <td>2.809591</td>\n    </tr>\n    <tr>\n      <th>1188</th>\n      <td>web-webbase-2001</td>\n      <td>real-world</td>\n      <td>web</td>\n      <td>16062</td>\n      <td>25593</td>\n      <td>None</td>\n      <td>0.224316</td>\n      <td>3.186776</td>\n    </tr>\n  </tbody>\n</table>\n<p>1881 rows × 8 columns</p>\n</div>"
     },
     "execution_count": 63,
     "metadata": {},
     "output_type": "execute_result"
    }
   ],
   "source": [
    "df_clean.loc[:, ['Graph', 'Model', 'Type', 'Nodes', 'Edges', 'alpha', 'Centrality.ClusteringCoefficient.Location.Arithmetic Mean', 'Centrality.Degree.Location.Arithmetic Mean']].sort_values(['Graph', 'Model'])"
   ],
   "metadata": {
    "collapsed": false,
    "ExecuteTime": {
     "start_time": "2023-04-29T15:49:02.451642Z",
     "end_time": "2023-04-29T15:49:02.461037Z"
    }
   }
  },
  {
   "cell_type": "code",
   "execution_count": 65,
   "outputs": [
    {
     "name": "stdout",
     "output_type": "stream",
     "text": [
      "17828\n"
     ]
    },
    {
     "data": {
      "text/plain": "{'tau': '4.49577559644138',\n 'alpha': '83.9344262295082',\n 'const': '3.999271392822266',\n 'target_lcc': '0.6328232091518612',\n 'fit_lcc': '0.6058653909230828',\n 'fitting_time': '1196.9207427501678',\n 'hist': '[(2.0, 0.43272513079338915), (3.9215686274509802, 0.567407030518778), (7.547169811320754, 0.5958440428223724), (14.035087719298245, 0.6026214759704791), (24.615384615384613, 0.6047555580818434), (39.50617283950617, 0.6053000804223438), (56.637168141592916, 0.6059030023776318), (72.31638418079096, 0.6053872079918319), (83.9344262295082, 0.6071038061953791), (91.2655971479501, 0.6059939548518191), (83.9344262295082, 0.6071038061953791)]'}"
     },
     "execution_count": 65,
     "metadata": {},
     "output_type": "execute_result"
    }
   ],
   "source": [
    "i = 1132\n",
    "print(df_clean.iloc[i].Nodes)\n",
    "df_clean.iloc[i].Info\n"
   ],
   "metadata": {
    "collapsed": false,
    "ExecuteTime": {
     "start_time": "2023-04-29T15:51:51.888532Z",
     "end_time": "2023-04-29T15:51:51.893625Z"
    }
   }
  },
  {
   "cell_type": "code",
   "execution_count": 66,
   "outputs": [
    {
     "name": "stdout",
     "output_type": "stream",
     "text": [
      "18103\n"
     ]
    },
    {
     "data": {
      "text/plain": "{'tau': '4.49577559644138',\n 'alpha': '2.8670623810057116',\n 'const': '5.168801679775355',\n 'target_lcc': '0.6328232091518612',\n 'fit_lcc': '0.6315057039927164',\n 'fitting_time': '406.5365333557129',\n 'hist': '[(2.0, 0.4952713091459663), (3.9215686274509802, 0.6960227154049581), (2.6490066225165565, 0.6077905134872841), (3.162055335968379, 0.655744531822641), (2.8828828828828823, 0.6332203794360496), (2.76100086281277, 0.6193127141473733), (2.820625826355222, 0.6269979996136376), (2.8514145689463133, 0.6307765987067093), (2.8670623810057116, 0.6329153458745397), (2.8592170659518623, 0.630105531343397), (2.8670623810057116, 0.6329153458745397)]'}"
     },
     "execution_count": 66,
     "metadata": {},
     "output_type": "execute_result"
    }
   ],
   "source": [
    "i = 1131\n",
    "print(df_clean.iloc[i].Nodes)\n",
    "df_clean.iloc[i].Info\n"
   ],
   "metadata": {
    "collapsed": false,
    "ExecuteTime": {
     "start_time": "2023-04-29T15:52:12.367808Z",
     "end_time": "2023-04-29T15:52:12.378033Z"
    }
   }
  },
  {
   "cell_type": "code",
   "execution_count": 88,
   "outputs": [],
   "source": [
    "def diff(name='hyperbolic'):\n",
    "    def func(x):\n",
    "        a = x.loc[x.Model == 'real-world', 'Centrality.ClusteringCoefficient.Location.Arithmetic Mean'].values[0]\n",
    "        b = x.loc[x.Model == name, 'Centrality.ClusteringCoefficient.Location.Arithmetic Mean'].values[0]\n",
    "        return 1 - b/a\n",
    "    return func\n",
    "\n",
    "diffs_hyp = df_clean.groupby('Graph').apply(diff('hyperbolic'))\n",
    "diffs = [df_clean.groupby('Graph').apply(diff(name)) for name in ['hyperbolic', '1d-girg', '2d-girg', '1d-cube-girg', '2d-cube-girg']]\n"
   ],
   "metadata": {
    "collapsed": false,
    "ExecuteTime": {
     "start_time": "2023-04-29T16:15:14.986801Z",
     "end_time": "2023-04-29T16:15:15.157048Z"
    }
   }
  },
  {
   "cell_type": "code",
   "execution_count": 89,
   "outputs": [
    {
     "data": {
      "text/plain": "<AxesSubplot:>"
     },
     "execution_count": 89,
     "metadata": {},
     "output_type": "execute_result"
    },
    {
     "data": {
      "text/plain": "<Figure size 640x480 with 1 Axes>",
      "image/png": "[encoded data removed]"
     },
     "metadata": {},
     "output_type": "display_data"
    }
   ],
   "source": [
    "diffs[0].hist(bins=30)"
   ],
   "metadata": {
    "collapsed": false,
    "ExecuteTime": {
     "start_time": "2023-04-29T16:15:15.561621Z",
     "end_time": "2023-04-29T16:15:15.639881Z"
    }
   }
  },
  {
   "cell_type": "code",
   "execution_count": 90,
   "outputs": [
    {
     "data": {
      "text/plain": "<AxesSubplot:>"
     },
     "execution_count": 90,
     "metadata": {},
     "output_type": "execute_result"
    },
    {
     "data": {
      "text/plain": "<Figure size 640x480 with 1 Axes>",
      "image/png": "[encoded data removed]"
     },
     "metadata": {},
     "output_type": "display_data"
    }
   ],
   "source": [
    "diffs[1].hist(bins=30)"
   ],
   "metadata": {
    "collapsed": false,
    "ExecuteTime": {
     "start_time": "2023-04-29T16:15:28.806802Z",
     "end_time": "2023-04-29T16:15:28.868046Z"
    }
   }
  },
  {
   "cell_type": "code",
   "execution_count": 91,
   "outputs": [
    {
     "data": {
      "text/plain": "<AxesSubplot:>"
     },
     "execution_count": 91,
     "metadata": {},
     "output_type": "execute_result"
    },
    {
     "data": {
      "text/plain": "<Figure size 640x480 with 1 Axes>",
      "image/png": "[encoded data removed]"
     },
     "metadata": {},
     "output_type": "display_data"
    }
   ],
   "source": [
    "diffs[2].hist(bins=30)"
   ],
   "metadata": {
    "collapsed": false,
    "ExecuteTime": {
     "start_time": "2023-04-29T16:15:34.142305Z",
     "end_time": "2023-04-29T16:15:34.208210Z"
    }
   }
  },
  {
   "cell_type": "code",
   "execution_count": 92,
   "outputs": [
    {
     "data": {
      "text/plain": "<AxesSubplot:>"
     },
     "execution_count": 92,
     "metadata": {},
     "output_type": "execute_result"
    },
    {
     "data": {
      "text/plain": "<Figure size 640x480 with 1 Axes>",
      "image/png": "[encoded data removed]"
     },
     "metadata": {},
     "output_type": "display_data"
    }
   ],
   "source": [
    "diffs[3].hist(bins=30)"
   ],
   "metadata": {
    "collapsed": false,
    "ExecuteTime": {
     "start_time": "2023-04-29T16:15:41.158000Z",
     "end_time": "2023-04-29T16:15:41.240024Z"
    }
   }
  },
  {
   "cell_type": "code",
   "execution_count": 76,
   "outputs": [
    {
     "name": "stderr",
     "output_type": "stream",
     "text": [
      "/opt/homebrew/anaconda3/lib/python3.9/site-packages/seaborn/_decorators.py:36: FutureWarning: Pass the following variable as a keyword arg: x. From version 0.12, the only valid positional argument will be `data`, and passing other arguments without an explicit keyword will result in an error or misinterpretation.\n",
      "  warnings.warn(\n",
      "/opt/homebrew/anaconda3/lib/python3.9/site-packages/seaborn/categorical.py:1296: UserWarning: 59.6% of the points cannot be placed; you may want to decrease the size of the markers or use stripplot.\n",
      "  warnings.warn(msg, UserWarning)\n"
     ]
    },
    {
     "data": {
      "text/plain": "<AxesSubplot:>"
     },
     "execution_count": 76,
     "metadata": {},
     "output_type": "execute_result"
    },
    {
     "data": {
      "text/plain": "<Figure size 640x480 with 1 Axes>",
      "image/png": "[encoded data removed]"
     },
     "metadata": {},
     "output_type": "display_data"
    }
   ],
   "source": [
    "import seaborn as sns\n",
    "sns.swarmplot(diffs)"
   ],
   "metadata": {
    "collapsed": false,
    "ExecuteTime": {
     "start_time": "2023-04-29T16:10:03.016961Z",
     "end_time": "2023-04-29T16:10:03.231101Z"
    }
   }
  },
  {
   "cell_type": "code",
   "execution_count": 191,
   "outputs": [
    {
     "data": {
      "text/html": "\n\t\t\t<script type=\"text/javascript\">\n\t\t\t<!--\n\t\t\t\t\n\t\t\t{\n\t\t\t\tvar element = document.getElementById('NetworKit_script');\n\t\t\t\tif (element) {\n\t\t\t\t\telement.parentNode.removeChild(element);\n\t\t\t\t}\n\t\t\t\telement = document.createElement('script');\n\t\t\t\telement.type = 'text/javascript';\n\t\t\t\telement.innerHTML = 'function NetworKit_pageEmbed(id) { var i, j; var elements; elements = document.getElementById(id).getElementsByClassName(\"Plot\"); for (i=0; i<elements.length; i++) { elements[i].id = id + \"_Plot_\" + i; var data = elements[i].getAttribute(\"data-image\").split(\"|\"); elements[i].removeAttribute(\"data-image\"); var content = \"<div class=\\\\\"Image\\\\\" id=\\\\\"\" + elements[i].id + \"_Image\\\\\" />\"; elements[i].innerHTML = content; elements[i].setAttribute(\"data-image-index\", 0); elements[i].setAttribute(\"data-image-length\", data.length); for (j=0; j<data.length; j++) { elements[i].setAttribute(\"data-image-\" + j, data[j]); } NetworKit_plotUpdate(elements[i]); elements[i].onclick = function (e) { NetworKit_overlayShow((e.target) ? e.target : e.srcElement); } } elements = document.getElementById(id).getElementsByClassName(\"HeatCell\"); for (i=0; i<elements.length; i++) { var data = parseFloat(elements[i].getAttribute(\"data-heat\")); var color = \"#00FF00\"; if (data <= 1 && data > 0) { color = \"hsla(0, 100%, 75%, \" + (data) + \")\"; } else if (data <= 0 && data >= -1) { color = \"hsla(240, 100%, 75%, \" + (-data) + \")\"; } elements[i].style.backgroundColor = color; } elements = document.getElementById(id).getElementsByClassName(\"Details\"); for (i=0; i<elements.length; i++) { elements[i].setAttribute(\"data-title\", \"-\"); NetworKit_toggleDetails(elements[i]); elements[i].onclick = function (e) { NetworKit_toggleDetails((e.target) ? e.target : e.srcElement); } } elements = document.getElementById(id).getElementsByClassName(\"MathValue\"); for (i=elements.length-1; i>=0; i--) { value = elements[i].innerHTML.trim(); if (value === \"nan\") { elements[i].parentNode.innerHTML = \"\" } } elements = document.getElementById(id).getElementsByClassName(\"SubCategory\"); for (i=elements.length-1; i>=0; i--) { value = elements[i].innerHTML.trim(); if (value === \"\") { elements[i].parentNode.removeChild(elements[i]) } } elements = document.getElementById(id).getElementsByClassName(\"Category\"); for (i=elements.length-1; i>=0; i--) { value = elements[i].innerHTML.trim(); if (value === \"\") { elements[i].parentNode.removeChild(elements[i]) } } var isFirefox = false; try { isFirefox = typeof InstallTrigger !== \"undefined\"; } catch (e) {} if (!isFirefox) { alert(\"Currently the function\\'s output is only fully supported by Firefox.\"); } } function NetworKit_plotUpdate(source) { var index = source.getAttribute(\"data-image-index\"); var data = source.getAttribute(\"data-image-\" + index); var image = document.getElementById(source.id + \"_Image\"); image.style.backgroundImage = \"url(\" + data + \")\"; } function NetworKit_showElement(id, show) { var element = document.getElementById(id); element.style.display = (show) ? \"block\" : \"none\"; } function NetworKit_overlayShow(source) { NetworKit_overlayUpdate(source); NetworKit_showElement(\"NetworKit_Overlay\", true); } function NetworKit_overlayUpdate(source) { document.getElementById(\"NetworKit_Overlay_Title\").innerHTML = source.title; var index = source.getAttribute(\"data-image-index\"); var data = source.getAttribute(\"data-image-\" + index); var image = document.getElementById(\"NetworKit_Overlay_Image\"); image.setAttribute(\"data-id\", source.id); image.style.backgroundImage = \"url(\" + data + \")\"; var link = document.getElementById(\"NetworKit_Overlay_Toolbar_Bottom_Save\"); link.href = data; link.download = source.title + \".svg\"; } function NetworKit_overlayImageShift(delta) { var image = document.getElementById(\"NetworKit_Overlay_Image\"); var source = document.getElementById(image.getAttribute(\"data-id\")); var index = parseInt(source.getAttribute(\"data-image-index\")); var length = parseInt(source.getAttribute(\"data-image-length\")); var index = (index+delta) % length; if (index < 0) { index = length + index; } source.setAttribute(\"data-image-index\", index); NetworKit_overlayUpdate(source); } function NetworKit_toggleDetails(source) { var childs = source.children; var show = false; if (source.getAttribute(\"data-title\") == \"-\") { source.setAttribute(\"data-title\", \"+\"); show = false; } else { source.setAttribute(\"data-title\", \"-\"); show = true; } for (i=0; i<childs.length; i++) { if (show) { childs[i].style.display = \"block\"; } else { childs[i].style.display = \"none\"; } } }';\n\t\t\t\telement.setAttribute('id', 'NetworKit_script');\n\t\t\t\tdocument.head.appendChild(element);\n\t\t\t}\n\t\t\n\t\t\t\t\n\t\t\t{\n\t\t\t\tvar element = document.getElementById('NetworKit_style');\n\t\t\t\tif (element) {\n\t\t\t\t\telement.parentNode.removeChild(element);\n\t\t\t\t}\n\t\t\t\telement = document.createElement('style');\n\t\t\t\telement.type = 'text/css';\n\t\t\t\telement.innerHTML = '.NetworKit_Page { font-family: Arial, Helvetica, sans-serif; font-size: 14px; } .NetworKit_Page .Value:before { font-family: Arial, Helvetica, sans-serif; font-size: 1.05em; content: attr(data-title) \":\"; margin-left: -2.5em; padding-right: 0.5em; } .NetworKit_Page .Details .Value:before { display: block; } .NetworKit_Page .Value { font-family: monospace; white-space: pre; padding-left: 2.5em; white-space: -moz-pre-wrap !important; white-space: -pre-wrap; white-space: -o-pre-wrap; white-space: pre-wrap; word-wrap: break-word; tab-size: 4; -moz-tab-size: 4; } .NetworKit_Page .Category { clear: both; padding-left: 1em; margin-bottom: 1.5em; } .NetworKit_Page .Category:before { content: attr(data-title); font-size: 1.75em; display: block; margin-left: -0.8em; margin-bottom: 0.5em; } .NetworKit_Page .SubCategory { margin-bottom: 1.5em; padding-left: 1em; } .NetworKit_Page .SubCategory:before { font-size: 1.6em; display: block; margin-left: -0.8em; margin-bottom: 0.5em; } .NetworKit_Page .SubCategory[data-title]:before { content: attr(data-title); } .NetworKit_Page .Block { display: block; } .NetworKit_Page .Block:after { content: \".\"; visibility: hidden; display: block; height: 0; clear: both; } .NetworKit_Page .Block .Thumbnail_Overview, .NetworKit_Page .Block .Thumbnail_ScatterPlot { width: 260px; float: left; } .NetworKit_Page .Block .Thumbnail_Overview img, .NetworKit_Page .Block .Thumbnail_ScatterPlot img { width: 260px; } .NetworKit_Page .Block .Thumbnail_Overview:before, .NetworKit_Page .Block .Thumbnail_ScatterPlot:before { display: block; text-align: center; font-weight: bold; } .NetworKit_Page .Block .Thumbnail_Overview:before { content: attr(data-title); } .NetworKit_Page .HeatCell { font-family: \"Courier New\", Courier, monospace; cursor: pointer; } .NetworKit_Page .HeatCell, .NetworKit_Page .HeatCellName { display: inline; padding: 0.1em; margin-right: 2px; background-color: #FFFFFF } .NetworKit_Page .HeatCellName { margin-left: 0.25em; } .NetworKit_Page .HeatCell:before { content: attr(data-heat); display: inline-block; color: #000000; width: 4em; text-align: center; } .NetworKit_Page .Measure { clear: both; } .NetworKit_Page .Measure .Details { cursor: pointer; } .NetworKit_Page .Measure .Details:before { content: \"[\" attr(data-title) \"]\"; display: block; } .NetworKit_Page .Measure .Details .Value { border-left: 1px dotted black; margin-left: 0.4em; padding-left: 3.5em; pointer-events: none; } .NetworKit_Page .Measure .Details .Spacer:before { content: \".\"; opacity: 0.0; pointer-events: none; } .NetworKit_Page .Measure .Plot { width: 440px; height: 440px; cursor: pointer; float: left; margin-left: -0.9em; margin-right: 20px; } .NetworKit_Page .Measure .Plot .Image { background-repeat: no-repeat; background-position: center center; background-size: contain; height: 100%; pointer-events: none; } .NetworKit_Page .Measure .Stat { width: 500px; float: left; } .NetworKit_Page .Measure .Stat .Group { padding-left: 1.25em; margin-bottom: 0.75em; } .NetworKit_Page .Measure .Stat .Group .Title { font-size: 1.1em; display: block; margin-bottom: 0.3em; margin-left: -0.75em; border-right-style: dotted; border-right-width: 1px; border-bottom-style: dotted; border-bottom-width: 1px; background-color: #D0D0D0; padding-left: 0.2em; } .NetworKit_Page .Measure .Stat .Group .List { -webkit-column-count: 3; -moz-column-count: 3; column-count: 3; } .NetworKit_Page .Measure .Stat .Group .List .Entry { position: relative; line-height: 1.75em; } .NetworKit_Page .Measure .Stat .Group .List .Entry[data-tooltip]:before { position: absolute; left: 0; top: -40px; background-color: #808080; color: #ffffff; height: 30px; line-height: 30px; border-radius: 5px; padding: 0 15px; content: attr(data-tooltip); white-space: nowrap; display: none; } .NetworKit_Page .Measure .Stat .Group .List .Entry[data-tooltip]:after { position: absolute; left: 15px; top: -10px; border-top: 7px solid #808080; border-left: 7px solid transparent; border-right: 7px solid transparent; content: \"\"; display: none; } .NetworKit_Page .Measure .Stat .Group .List .Entry[data-tooltip]:hover:after, .NetworKit_Page .Measure .Stat .Group .List .Entry[data-tooltip]:hover:before { display: block; } .NetworKit_Page .Measure .Stat .Group .List .Entry .MathValue { font-family: \"Courier New\", Courier, monospace; } .NetworKit_Page .Measure:after { content: \".\"; visibility: hidden; display: block; height: 0; clear: both; } .NetworKit_Page .PartitionPie { clear: both; } .NetworKit_Page .PartitionPie img { width: 600px; } #NetworKit_Overlay { left: 0px; top: 0px; display: none; position: absolute; width: 100%; height: 100%; background-color: rgba(0,0,0,0.6); z-index: 1000; } #NetworKit_Overlay_Title { position: absolute; color: white; transform: rotate(-90deg); width: 32em; height: 32em; padding-right: 0.5em; padding-top: 0.5em; text-align: right; font-size: 40px; } #NetworKit_Overlay .button { background: white; cursor: pointer; } #NetworKit_Overlay .button:before { size: 13px; display: inline-block; text-align: center; margin-top: 0.5em; margin-bottom: 0.5em; width: 1.5em; height: 1.5em; } #NetworKit_Overlay .icon-close:before { content: \"X\"; } #NetworKit_Overlay .icon-previous:before { content: \"P\"; } #NetworKit_Overlay .icon-next:before { content: \"N\"; } #NetworKit_Overlay .icon-save:before { content: \"S\"; } #NetworKit_Overlay_Toolbar_Top, #NetworKit_Overlay_Toolbar_Bottom { position: absolute; width: 40px; right: 13px; text-align: right; z-index: 1100; } #NetworKit_Overlay_Toolbar_Top { top: 0.5em; } #NetworKit_Overlay_Toolbar_Bottom { Bottom: 0.5em; } #NetworKit_Overlay_ImageContainer { position: absolute; top: 5%; left: 5%; height: 90%; width: 90%; background-repeat: no-repeat; background-position: center center; background-size: contain; } #NetworKit_Overlay_Image { height: 100%; width: 100%; background-repeat: no-repeat; background-position: center center; background-size: contain; }';\n\t\t\t\telement.setAttribute('id', 'NetworKit_style');\n\t\t\t\tdocument.head.appendChild(element);\n\t\t\t}\n\t\t\n\t\t\t\t\n\t\t\t{\n\t\t\t\tvar element = document.getElementById('NetworKit_Overlay');\n\t\t\t\tif (element) {\n\t\t\t\t\telement.parentNode.removeChild(element);\n\t\t\t\t}\n\t\t\t\telement = document.createElement('div');\n\t\t\t\telement.innerHTML = '<div id=\"NetworKit_Overlay_Toolbar_Top\"><div class=\"button icon-close\" id=\"NetworKit_Overlay_Close\" /></div><div id=\"NetworKit_Overlay_Title\" /> <div id=\"NetworKit_Overlay_ImageContainer\"> <div id=\"NetworKit_Overlay_Image\" /> </div> <div id=\"NetworKit_Overlay_Toolbar_Bottom\"> <div class=\"button icon-previous\" onclick=\"NetworKit_overlayImageShift(-1)\" /> <div class=\"button icon-next\" onclick=\"NetworKit_overlayImageShift(1)\" /> <a id=\"NetworKit_Overlay_Toolbar_Bottom_Save\"><div class=\"button icon-save\" /></a> </div>';\n\t\t\t\telement.setAttribute('id', 'NetworKit_Overlay');\n\t\t\t\tdocument.body.appendChild(element);\n\t\t\t\tdocument.getElementById('NetworKit_Overlay_Close').onclick = function (e) {\n\t\t\t\t\tdocument.getElementById('NetworKit_Overlay').style.display = 'none';\n\t\t\t\t}\n\t\t\t}\n\t\t\n\t\t\t-->\n\t\t\t</script>\n\t\t"
     },
     "metadata": {},
     "output_type": "display_data"
    },
    {
     "name": "stdout",
     "output_type": "stream",
     "text": [
      "path expanded to: /Users/benjidayan/Documents/GIRG_data/ca-erdos992.SpaceOne\n"
     ]
    }
   ],
   "source": [
    "import networkit as nk\n",
    "g = nk.readGraph('~/Documents/GIRG_data/ca-erdos992.SpaceOne', nk.Format.EdgeListSpaceOne)"
   ],
   "metadata": {
    "collapsed": false,
    "ExecuteTime": {
     "start_time": "2023-04-21T16:18:41.835702Z",
     "end_time": "2023-04-21T16:18:44.998092Z"
    }
   }
  },
  {
   "cell_type": "code",
   "execution_count": 216,
   "outputs": [
    {
     "data": {
      "text/plain": "0.27920611482671764"
     },
     "execution_count": 216,
     "metadata": {},
     "output_type": "execute_result"
    }
   ],
   "source": [
    "nk.globals.clustering(g)"
   ],
   "metadata": {
    "collapsed": false,
    "ExecuteTime": {
     "start_time": "2023-04-21T16:27:52.417126Z",
     "end_time": "2023-04-21T16:27:52.427055Z"
    }
   }
  },
  {
   "cell_type": "code",
   "execution_count": 196,
   "outputs": [
    {
     "data": {
      "text/plain": "0.06833959351369637"
     },
     "execution_count": 196,
     "metadata": {},
     "output_type": "execute_result"
    }
   ],
   "source": [
    "from benji_girgs import utils, generation\n",
    "utils.LCC(g)"
   ],
   "metadata": {
    "collapsed": false,
    "ExecuteTime": {
     "start_time": "2023-04-21T16:20:31.286331Z",
     "end_time": "2023-04-21T16:20:41.288656Z"
    }
   }
  },
  {
   "cell_type": "code",
   "execution_count": 199,
   "outputs": [
    {
     "data": {
      "text/plain": "{'tau': '8.902429112335973',\n 'alpha': '1.4917545597575899',\n 'const': '0.43518606491233985',\n 'target_lcc': '0.2869365065578042',\n 'fit_lcc': '0.27590549813254583',\n 'fitting_time': '1.588066816329956',\n 'hist': '[(2.0, 0.4563536871362807), (1.342281879194631, 0.21814470598453922), (1.6064257028112447, 0.3334491444454095), (1.462522851919561, 0.26882654390688787), (1.5311004784688993, 0.3262399027186659), (1.496026180458158, 0.29149656909580474), (1.4790848162699328, 0.2693042647442022), (1.4875072632190585, 0.28250673152088945), (1.4917545597575899, 0.2894553982454616), (1.489627883971953, 0.3026144358551203), (1.4917545597575899, 0.2894553982454616)]'}"
     },
     "execution_count": 199,
     "metadata": {},
     "output_type": "execute_result"
    }
   ],
   "source": [
    "df_clean.iloc[222].Info\n"
   ],
   "metadata": {
    "collapsed": false,
    "ExecuteTime": {
     "start_time": "2023-04-21T16:21:14.417440Z",
     "end_time": "2023-04-21T16:21:14.433225Z"
    }
   }
  },
  {
   "cell_type": "code",
   "execution_count": 203,
   "outputs": [
    {
     "name": "stderr",
     "output_type": "stream",
     "text": [
      "/Users/benjidayan/GDrive/eth_courses/GIRG/benji_src/benji_girgs/generation.py:160: RuntimeWarning: divide by zero encountered in divide\n",
      "  p_uv = np.divide(outer, dists**d)\n"
     ]
    }
   ],
   "source": [
    "g_out = generation.generate_GIRG_nk(4461, 1, 8.902, 1.49, const=0.43)[0]"
   ],
   "metadata": {
    "collapsed": false,
    "ExecuteTime": {
     "start_time": "2023-04-21T16:23:15.023598Z",
     "end_time": "2023-04-21T16:23:16.344307Z"
    }
   }
  },
  {
   "cell_type": "code",
   "execution_count": 204,
   "outputs": [
    {
     "name": "stdout",
     "output_type": "stream",
     "text": [
      "Network Properties:\n",
      "nodes, edges\t\t\t4461, 10166\n",
      "directed?\t\t\tFalse\n",
      "weighted?\t\t\tFalse\n",
      "isolated nodes\t\t\t60\n",
      "self-loops\t\t\t0\n",
      "density\t\t\t\t0.001022\n",
      "clustering coefficient\t\t0.287901\n",
      "min/max/avg degree\t\t0, 21, 4.557722\n",
      "degree assortativity\t\t0.328840\n",
      "number of connected components\t72\n",
      "size of largest component\t4376 (98.09 %)\n"
     ]
    }
   ],
   "source": [
    "nk.overview(g_out)"
   ],
   "metadata": {
    "collapsed": false,
    "ExecuteTime": {
     "start_time": "2023-04-21T16:23:16.346173Z",
     "end_time": "2023-04-21T16:23:16.350693Z"
    }
   }
  },
  {
   "cell_type": "code",
   "execution_count": null,
   "outputs": [],
   "source": [],
   "metadata": {
    "collapsed": false
   }
  },
  {
   "cell_type": "code",
   "execution_count": null,
   "outputs": [],
   "source": [],
   "metadata": {
    "collapsed": false
   }
  },
  {
   "cell_type": "code",
   "execution_count": null,
   "outputs": [],
   "source": [],
   "metadata": {
    "collapsed": false
   }
  },
  {
   "cell_type": "code",
   "execution_count": null,
   "outputs": [],
   "source": [],
   "metadata": {
    "collapsed": false
   }
  },
  {
   "cell_type": "code",
   "execution_count": null,
   "outputs": [],
   "source": [],
   "metadata": {
    "collapsed": false
   }
  },
  {
   "cell_type": "code",
   "execution_count": 186,
   "outputs": [
    {
     "data": {
      "text/plain": "{'tau': '8.902429112335973',\n 'alpha': '2.031101237702317',\n 'const': '0.1638894187667534',\n 'target_lcc': '0.2793798314948319',\n 'fit_lcc': '0.31668548597237905',\n 'fitting_time': '14.881464719772339',\n 'hist': '[(2.0, 0.3139060192825502), (3.9215686274509802, 0.38695387822461563), (2.6490066225165565, 0.37205767393381395), (2.2792022792022792, 0.3400069486667246), (2.130492676431425, 0.3333188569443238), (2.0631850419084463, 0.3241118735342656), (2.031101237702317, 0.308998523408321), (2.0154306408439617, 0.3350994527924954), (2.0232355963012725, 0.3311908277599236), (2.0271607871085244, 0.32150612351255103), (2.031101237702317, 0.308998523408321)]'}"
     },
     "execution_count": 186,
     "metadata": {},
     "output_type": "execute_result"
    }
   ],
   "source": [
    "info = df_clean.iloc[224].Info\n",
    "info\n",
    "# info['hist']"
   ],
   "metadata": {
    "collapsed": false,
    "ExecuteTime": {
     "start_time": "2023-04-21T16:14:14.375009Z",
     "end_time": "2023-04-21T16:14:14.383555Z"
    }
   }
  },
  {
   "cell_type": "code",
   "execution_count": 189,
   "outputs": [
    {
     "data": {
      "text/plain": "{'n': '11390',\n 'k': '1.3044165422776364',\n 'gamma': '9.707211653293294',\n 't': '0.433125',\n 'target_lcc': '0.2865890732215756',\n 'fit_lcc': '0.3803960740033006',\n 'hist': '[(2.0202020202020203, 0.19523809523809518), (4.040404040404041, 0.4822222222222222), (2.6936026936026938, 0.45151515151515154), (2.308802308802309, 0.2592592592592593), (2.4864024864024867, 0.3606060606060606), (2.308802308802309, 0.2592592592592593)]'}"
     },
     "execution_count": 189,
     "metadata": {},
     "output_type": "execute_result"
    }
   ],
   "source": [
    "info = df_clean.iloc[221].Info\n",
    "info\n",
    "# info['hist']"
   ],
   "metadata": {
    "collapsed": false,
    "ExecuteTime": {
     "start_time": "2023-04-21T16:15:13.148438Z",
     "end_time": "2023-04-21T16:15:13.159612Z"
    }
   }
  },
  {
   "cell_type": "code",
   "execution_count": 172,
   "outputs": [
    {
     "data": {
      "text/plain": "['125.94942450523376', '225.24509477615356', '893.8294241428375']"
     },
     "execution_count": 172,
     "metadata": {},
     "output_type": "execute_result"
    }
   ],
   "source": [
    "[df_clean.iloc[i].Info['fitting_time'] for i in [420, 421, 422]]"
   ],
   "metadata": {
    "collapsed": false,
    "ExecuteTime": {
     "start_time": "2023-04-21T11:08:45.625570Z",
     "end_time": "2023-04-21T11:08:45.646337Z"
    }
   }
  },
  {
   "cell_type": "code",
   "execution_count": 155,
   "outputs": [
    {
     "data": {
      "text/plain": "{'n': '2619',\n 'k': '1.4881588999236057',\n 'gamma': '3.5097267779775976',\n 't': '0.7347656249999999',\n 'target_lcc': '0.13714930947624424',\n 'fit_lcc': '0.14027620950230174',\n 'hist': '[(2.0202020202020203, 0.38673673238947276), (1.3468013468013469, 0.13597672196647267), (1.6161616161616164, 0.23964214366368453), (1.4692378328741966, 0.20133761834448016), (1.4053579270970578, 0.1698080430817337), (1.375456694605631, 0.14887518457395987), (1.3609782030834665, 0.11308955094241292)]'}"
     },
     "execution_count": 155,
     "metadata": {},
     "output_type": "execute_result"
    }
   ],
   "source": [
    "info = df_clean.iloc[581].Info\n",
    "info\n",
    "# info['hist']"
   ],
   "metadata": {
    "collapsed": false,
    "ExecuteTime": {
     "start_time": "2023-04-21T10:58:04.349496Z",
     "end_time": "2023-04-21T10:58:04.358359Z"
    }
   }
  },
  {
   "cell_type": "code",
   "execution_count": 296,
   "outputs": [],
   "source": [
    "graph_names = df_clean.Graph.unique()\n",
    "bad_graph_names = []\n",
    "for gn in graph_names:\n",
    "    sub_df = df_clean.loc[(df_clean.Graph == gn) & (df_clean.Model.isin(['real-world', '1d-girg', '2d-girg', '3d-girg']))]\n",
    "    coeffs = sub_df['Centrality.ClusteringCoefficient.Location.Arithmetic Mean'].to_numpy()\n",
    "    if coeffs.min() / coeffs.max() < 0.5:\n",
    "        bad_graph_names.append(gn)\n"
   ],
   "metadata": {
    "collapsed": false,
    "ExecuteTime": {
     "start_time": "2023-04-24T10:26:17.611566Z",
     "end_time": "2023-04-24T10:26:17.674520Z"
    }
   }
  },
  {
   "cell_type": "code",
   "execution_count": 294,
   "outputs": [],
   "source": [
    "graph_names = df_clean.Graph.unique()\n",
    "bad_graph_names = []\n",
    "for gn in graph_names:\n",
    "    real_df = df_clean.loc[(df_clean.Graph == gn) & (df_clean.Model == 'real-world')]\n",
    "    one_d_df = df_clean.loc[(df_clean.Graph == gn) & (df_clean.Model == '1d-girg')]\n",
    "    real_lcc = real_df['Centrality.ClusteringCoefficient.Location.Arithmetic Mean'].to_numpy()[0]\n",
    "    target_lcc = float(one_d_df.Info.values[0]['target_lcc'])\n",
    "    if min(real_lcc, target_lcc) / max(real_lcc, target_lcc) < 0.7:\n",
    "        bad_graph_names.append(gn)\n"
   ],
   "metadata": {
    "collapsed": false,
    "ExecuteTime": {
     "start_time": "2023-04-24T10:25:59.349234Z",
     "end_time": "2023-04-24T10:25:59.468383Z"
    }
   }
  },
  {
   "cell_type": "code",
   "execution_count": 258,
   "outputs": [
    {
     "ename": "NameError",
     "evalue": "name 'target' is not defined",
     "output_type": "error",
     "traceback": [
      "\u001B[0;31m---------------------------------------------------------------------------\u001B[0m",
      "\u001B[0;31mNameError\u001B[0m                                 Traceback (most recent call last)",
      "Input \u001B[0;32mIn [258]\u001B[0m, in \u001B[0;36m<cell line: 1>\u001B[0;34m()\u001B[0m\n\u001B[0;32m----> 1\u001B[0m \u001B[43mtarget\u001B[49m\n",
      "\u001B[0;31mNameError\u001B[0m: name 'target' is not defined"
     ]
    }
   ],
   "source": [
    "target"
   ],
   "metadata": {
    "collapsed": false,
    "ExecuteTime": {
     "start_time": "2023-04-21T16:36:00.492251Z",
     "end_time": "2023-04-21T16:36:00.510800Z"
    }
   }
  },
  {
   "cell_type": "code",
   "execution_count": null,
   "outputs": [],
   "source": [],
   "metadata": {
    "collapsed": false
   }
  },
  {
   "cell_type": "code",
   "execution_count": 297,
   "outputs": [
    {
     "name": "stdout",
     "output_type": "stream",
     "text": [
      "200 14\n"
     ]
    }
   ],
   "source": [
    "print(len(graph_names), len(bad_graph_names))"
   ],
   "metadata": {
    "collapsed": false,
    "ExecuteTime": {
     "start_time": "2023-04-24T10:26:20.377319Z",
     "end_time": "2023-04-24T10:26:20.409485Z"
    }
   }
  },
  {
   "cell_type": "code",
   "execution_count": 298,
   "outputs": [
    {
     "data": {
      "text/plain": "['rt-twitter-copen',\n 'bio-dmela',\n 'soc-LiveMocha',\n 'socfb-nips-ego',\n 'ia-dbpedia-team-bi',\n 'tech-p2p-gnutella',\n 'soc-douban',\n 'ia-wiki-Talk',\n 'rec-movielens-tag-movies-10m',\n 'ca-IMDB',\n 'ia-escorts-dynamic',\n 'ia-reality',\n 'rec-github',\n 'inf-euroroad']"
     },
     "execution_count": 298,
     "metadata": {},
     "output_type": "execute_result"
    }
   ],
   "source": [
    "bad_graph_names"
   ],
   "metadata": {
    "collapsed": false,
    "ExecuteTime": {
     "start_time": "2023-04-24T10:26:25.254631Z",
     "end_time": "2023-04-24T10:26:25.272782Z"
    }
   }
  },
  {
   "cell_type": "code",
   "execution_count": 222,
   "metadata": {
    "ExecuteTime": {
     "start_time": "2023-04-21T16:29:59.060234Z",
     "end_time": "2023-04-21T16:29:59.072097Z"
    }
   },
   "outputs": [
    {
     "data": {
      "text/plain": "              Graph       Model   Type   Nodes    Edges               alpha  \\\n33        bio-dmela     1d-girg    bio    7375    25717  1.0105894776318256   \n34        bio-dmela     2d-girg    bio    7382    25401  1.0140220232908184   \n35        bio-dmela     3d-girg    bio    7377    25706  1.0101010101010102   \n32        bio-dmela  hyperbolic    bio    4744     4986                None   \n27        bio-dmela  real-world    bio    7393    25569                None   \n222     ca-Erdos992     1d-girg     ca    4461     7186  1.4917545597575899   \n223     ca-Erdos992     2d-girg     ca    4419     7182  1.5299795305472965   \n224     ca-Erdos992     3d-girg     ca    4358     7143   2.031101237702317   \n221     ca-Erdos992  hyperbolic     ca      34       46                None   \n216     ca-Erdos992  real-world     ca    4991     7428                None   \n681      ia-reality     1d-girg     ia    5038     7225  1.3202341352724274   \n682      ia-reality     2d-girg     ia    5156     7332   1.342281879194631   \n683      ia-reality     3d-girg     ia    4889     6987  1.4584401526804531   \n680      ia-reality  hyperbolic     ia      19       25                None   \n675      ia-reality  real-world     ia    6809     7680                None   \n735    inf-euroroad     1d-girg    inf     887     1218  1.0101010101010102   \n736    inf-euroroad     2d-girg    inf     899     1263   1.012057718916782   \n737    inf-euroroad     3d-girg    inf     903     1263  1.0110784178202572   \n734    inf-euroroad  hyperbolic    inf      38       38                None   \n729    inf-euroroad  real-world    inf    1039     1305                None   \n429   soc-delicious     1d-girg    soc  515731  1367213  1.0722962218312808   \n430   soc-delicious     2d-girg    soc  514918  1358882  1.0722962218312808   \n431   soc-delicious     3d-girg    soc  514921  1362432  1.0767160161507403   \n428   soc-delicious  hyperbolic    soc  808177  1240043                None   \n423   soc-delicious  real-world    soc  536108  1365961                None   \n573      soc-flickr     1d-girg    soc  513948  3190919  1.5821024658550151   \n574      soc-flickr     2d-girg    soc  513943  3191870   2.007685671712023   \n575      soc-flickr     3d-girg    soc  513952  3187556  2.0550694388697117   \n572      soc-flickr  hyperbolic    soc  978049  3190471                None   \n567      soc-flickr  real-world    soc  513969  3190452                None   \n87   socfb-nips-ego     1d-girg  socfb    1319     2788               100.0   \n88   socfb-nips-ego     2d-girg  socfb    1463     2831   95.43336439888164   \n89   socfb-nips-ego     3d-girg  socfb    1365     2821  3.9215686274509802   \n86   socfb-nips-ego  hyperbolic  socfb      17       16                None   \n81   socfb-nips-ego  real-world  socfb    2888     2981                None   \n\n     Centrality.ClusteringCoefficient.Location.Arithmetic Mean  \\\n33                                            0.061084           \n34                                            0.060247           \n35                                            0.052927           \n32                                            0.014351           \n27                                            0.011850           \n222                                           0.230801           \n223                                           0.234742           \n224                                           0.269959           \n221                                           0.320588           \n216                                           0.083525           \n681                                           0.169008           \n682                                           0.156800           \n683                                           0.176448           \n680                                           0.254386           \n675                                           0.017771           \n735                                           0.060946           \n736                                           0.053828           \n737                                           0.049144           \n734                                           0.000000           \n729                                           0.018906           \n429                                           0.067987           \n430                                           0.063545           \n431                                           0.061487           \n428                                           0.053856           \n423                                           0.032175           \n573                                           0.347511           \n574                                           0.421356           \n575                                           0.344175           \n572                                           0.337376           \n567                                           0.167599           \n87                                            0.414304           \n88                                            0.418454           \n89                                            0.379958           \n86                                            0.000000           \n81                                            0.027247           \n\n     Centrality.Degree.Location.Arithmetic Mean  \n33                                     6.974102  \n34                                     6.881875  \n35                                     6.969229  \n32                                     2.102024  \n27                                     6.917084  \n222                                    3.221699  \n223                                    3.250509  \n224                                    3.278109  \n221                                    2.705882  \n216                                    2.976558  \n681                                    2.868202  \n682                                    2.844065  \n683                                    2.858253  \n680                                    2.631579  \n675                                    2.255838  \n735                                    2.746336  \n736                                    2.809789  \n737                                    2.797342  \n734                                    2.000000  \n729                                    2.512031  \n429                                    5.302039  \n430                                    5.278052  \n431                                    5.291810  \n428                                    3.068741  \n423                                    5.095843  \n573                                   12.417283  \n574                                   12.421105  \n575                                   12.404100  \n572                                    6.524154  \n567                                   12.414959  \n87                                     4.227445  \n88                                     3.870130  \n89                                     4.133333  \n86                                     1.882353  \n81                                     2.064404  ",
      "text/html": "<div>\n<style scoped>\n    .dataframe tbody tr th:only-of-type {\n        vertical-align: middle;\n    }\n\n    .dataframe tbody tr th {\n        vertical-align: top;\n    }\n\n    .dataframe thead th {\n        text-align: right;\n    }\n</style>\n<table border=\"1\" class=\"dataframe\">\n  <thead>\n    <tr style=\"text-align: right;\">\n      <th></th>\n      <th>Graph</th>\n      <th>Model</th>\n      <th>Type</th>\n      <th>Nodes</th>\n      <th>Edges</th>\n      <th>alpha</th>\n      <th>Centrality.ClusteringCoefficient.Location.Arithmetic Mean</th>\n      <th>Centrality.Degree.Location.Arithmetic Mean</th>\n    </tr>\n  </thead>\n  <tbody>\n    <tr>\n      <th>33</th>\n      <td>bio-dmela</td>\n      <td>1d-girg</td>\n      <td>bio</td>\n      <td>7375</td>\n      <td>25717</td>\n      <td>1.0105894776318256</td>\n      <td>0.061084</td>\n      <td>6.974102</td>\n    </tr>\n    <tr>\n      <th>34</th>\n      <td>bio-dmela</td>\n      <td>2d-girg</td>\n      <td>bio</td>\n      <td>7382</td>\n      <td>25401</td>\n      <td>1.0140220232908184</td>\n      <td>0.060247</td>\n      <td>6.881875</td>\n    </tr>\n    <tr>\n      <th>35</th>\n      <td>bio-dmela</td>\n      <td>3d-girg</td>\n      <td>bio</td>\n      <td>7377</td>\n      <td>25706</td>\n      <td>1.0101010101010102</td>\n      <td>0.052927</td>\n      <td>6.969229</td>\n    </tr>\n    <tr>\n      <th>32</th>\n      <td>bio-dmela</td>\n      <td>hyperbolic</td>\n      <td>bio</td>\n      <td>4744</td>\n      <td>4986</td>\n      <td>None</td>\n      <td>0.014351</td>\n      <td>2.102024</td>\n    </tr>\n    <tr>\n      <th>27</th>\n      <td>bio-dmela</td>\n      <td>real-world</td>\n      <td>bio</td>\n      <td>7393</td>\n      <td>25569</td>\n      <td>None</td>\n      <td>0.011850</td>\n      <td>6.917084</td>\n    </tr>\n    <tr>\n      <th>222</th>\n      <td>ca-Erdos992</td>\n      <td>1d-girg</td>\n      <td>ca</td>\n      <td>4461</td>\n      <td>7186</td>\n      <td>1.4917545597575899</td>\n      <td>0.230801</td>\n      <td>3.221699</td>\n    </tr>\n    <tr>\n      <th>223</th>\n      <td>ca-Erdos992</td>\n      <td>2d-girg</td>\n      <td>ca</td>\n      <td>4419</td>\n      <td>7182</td>\n      <td>1.5299795305472965</td>\n      <td>0.234742</td>\n      <td>3.250509</td>\n    </tr>\n    <tr>\n      <th>224</th>\n      <td>ca-Erdos992</td>\n      <td>3d-girg</td>\n      <td>ca</td>\n      <td>4358</td>\n      <td>7143</td>\n      <td>2.031101237702317</td>\n      <td>0.269959</td>\n      <td>3.278109</td>\n    </tr>\n    <tr>\n      <th>221</th>\n      <td>ca-Erdos992</td>\n      <td>hyperbolic</td>\n      <td>ca</td>\n      <td>34</td>\n      <td>46</td>\n      <td>None</td>\n      <td>0.320588</td>\n      <td>2.705882</td>\n    </tr>\n    <tr>\n      <th>216</th>\n      <td>ca-Erdos992</td>\n      <td>real-world</td>\n      <td>ca</td>\n      <td>4991</td>\n      <td>7428</td>\n      <td>None</td>\n      <td>0.083525</td>\n      <td>2.976558</td>\n    </tr>\n    <tr>\n      <th>681</th>\n      <td>ia-reality</td>\n      <td>1d-girg</td>\n      <td>ia</td>\n      <td>5038</td>\n      <td>7225</td>\n      <td>1.3202341352724274</td>\n      <td>0.169008</td>\n      <td>2.868202</td>\n    </tr>\n    <tr>\n      <th>682</th>\n      <td>ia-reality</td>\n      <td>2d-girg</td>\n      <td>ia</td>\n      <td>5156</td>\n      <td>7332</td>\n      <td>1.342281879194631</td>\n      <td>0.156800</td>\n      <td>2.844065</td>\n    </tr>\n    <tr>\n      <th>683</th>\n      <td>ia-reality</td>\n      <td>3d-girg</td>\n      <td>ia</td>\n      <td>4889</td>\n      <td>6987</td>\n      <td>1.4584401526804531</td>\n      <td>0.176448</td>\n      <td>2.858253</td>\n    </tr>\n    <tr>\n      <th>680</th>\n      <td>ia-reality</td>\n      <td>hyperbolic</td>\n      <td>ia</td>\n      <td>19</td>\n      <td>25</td>\n      <td>None</td>\n      <td>0.254386</td>\n      <td>2.631579</td>\n    </tr>\n    <tr>\n      <th>675</th>\n      <td>ia-reality</td>\n      <td>real-world</td>\n      <td>ia</td>\n      <td>6809</td>\n      <td>7680</td>\n      <td>None</td>\n      <td>0.017771</td>\n      <td>2.255838</td>\n    </tr>\n    <tr>\n      <th>735</th>\n      <td>inf-euroroad</td>\n      <td>1d-girg</td>\n      <td>inf</td>\n      <td>887</td>\n      <td>1218</td>\n      <td>1.0101010101010102</td>\n      <td>0.060946</td>\n      <td>2.746336</td>\n    </tr>\n    <tr>\n      <th>736</th>\n      <td>inf-euroroad</td>\n      <td>2d-girg</td>\n      <td>inf</td>\n      <td>899</td>\n      <td>1263</td>\n      <td>1.012057718916782</td>\n      <td>0.053828</td>\n      <td>2.809789</td>\n    </tr>\n    <tr>\n      <th>737</th>\n      <td>inf-euroroad</td>\n      <td>3d-girg</td>\n      <td>inf</td>\n      <td>903</td>\n      <td>1263</td>\n      <td>1.0110784178202572</td>\n      <td>0.049144</td>\n      <td>2.797342</td>\n    </tr>\n    <tr>\n      <th>734</th>\n      <td>inf-euroroad</td>\n      <td>hyperbolic</td>\n      <td>inf</td>\n      <td>38</td>\n      <td>38</td>\n      <td>None</td>\n      <td>0.000000</td>\n      <td>2.000000</td>\n    </tr>\n    <tr>\n      <th>729</th>\n      <td>inf-euroroad</td>\n      <td>real-world</td>\n      <td>inf</td>\n      <td>1039</td>\n      <td>1305</td>\n      <td>None</td>\n      <td>0.018906</td>\n      <td>2.512031</td>\n    </tr>\n    <tr>\n      <th>429</th>\n      <td>soc-delicious</td>\n      <td>1d-girg</td>\n      <td>soc</td>\n      <td>515731</td>\n      <td>1367213</td>\n      <td>1.0722962218312808</td>\n      <td>0.067987</td>\n      <td>5.302039</td>\n    </tr>\n    <tr>\n      <th>430</th>\n      <td>soc-delicious</td>\n      <td>2d-girg</td>\n      <td>soc</td>\n      <td>514918</td>\n      <td>1358882</td>\n      <td>1.0722962218312808</td>\n      <td>0.063545</td>\n      <td>5.278052</td>\n    </tr>\n    <tr>\n      <th>431</th>\n      <td>soc-delicious</td>\n      <td>3d-girg</td>\n      <td>soc</td>\n      <td>514921</td>\n      <td>1362432</td>\n      <td>1.0767160161507403</td>\n      <td>0.061487</td>\n      <td>5.291810</td>\n    </tr>\n    <tr>\n      <th>428</th>\n      <td>soc-delicious</td>\n      <td>hyperbolic</td>\n      <td>soc</td>\n      <td>808177</td>\n      <td>1240043</td>\n      <td>None</td>\n      <td>0.053856</td>\n      <td>3.068741</td>\n    </tr>\n    <tr>\n      <th>423</th>\n      <td>soc-delicious</td>\n      <td>real-world</td>\n      <td>soc</td>\n      <td>536108</td>\n      <td>1365961</td>\n      <td>None</td>\n      <td>0.032175</td>\n      <td>5.095843</td>\n    </tr>\n    <tr>\n      <th>573</th>\n      <td>soc-flickr</td>\n      <td>1d-girg</td>\n      <td>soc</td>\n      <td>513948</td>\n      <td>3190919</td>\n      <td>1.5821024658550151</td>\n      <td>0.347511</td>\n      <td>12.417283</td>\n    </tr>\n    <tr>\n      <th>574</th>\n      <td>soc-flickr</td>\n      <td>2d-girg</td>\n      <td>soc</td>\n      <td>513943</td>\n      <td>3191870</td>\n      <td>2.007685671712023</td>\n      <td>0.421356</td>\n      <td>12.421105</td>\n    </tr>\n    <tr>\n      <th>575</th>\n      <td>soc-flickr</td>\n      <td>3d-girg</td>\n      <td>soc</td>\n      <td>513952</td>\n      <td>3187556</td>\n      <td>2.0550694388697117</td>\n      <td>0.344175</td>\n      <td>12.404100</td>\n    </tr>\n    <tr>\n      <th>572</th>\n      <td>soc-flickr</td>\n      <td>hyperbolic</td>\n      <td>soc</td>\n      <td>978049</td>\n      <td>3190471</td>\n      <td>None</td>\n      <td>0.337376</td>\n      <td>6.524154</td>\n    </tr>\n    <tr>\n      <th>567</th>\n      <td>soc-flickr</td>\n      <td>real-world</td>\n      <td>soc</td>\n      <td>513969</td>\n      <td>3190452</td>\n      <td>None</td>\n      <td>0.167599</td>\n      <td>12.414959</td>\n    </tr>\n    <tr>\n      <th>87</th>\n      <td>socfb-nips-ego</td>\n      <td>1d-girg</td>\n      <td>socfb</td>\n      <td>1319</td>\n      <td>2788</td>\n      <td>100.0</td>\n      <td>0.414304</td>\n      <td>4.227445</td>\n    </tr>\n    <tr>\n      <th>88</th>\n      <td>socfb-nips-ego</td>\n      <td>2d-girg</td>\n      <td>socfb</td>\n      <td>1463</td>\n      <td>2831</td>\n      <td>95.43336439888164</td>\n      <td>0.418454</td>\n      <td>3.870130</td>\n    </tr>\n    <tr>\n      <th>89</th>\n      <td>socfb-nips-ego</td>\n      <td>3d-girg</td>\n      <td>socfb</td>\n      <td>1365</td>\n      <td>2821</td>\n      <td>3.9215686274509802</td>\n      <td>0.379958</td>\n      <td>4.133333</td>\n    </tr>\n    <tr>\n      <th>86</th>\n      <td>socfb-nips-ego</td>\n      <td>hyperbolic</td>\n      <td>socfb</td>\n      <td>17</td>\n      <td>16</td>\n      <td>None</td>\n      <td>0.000000</td>\n      <td>1.882353</td>\n    </tr>\n    <tr>\n      <th>81</th>\n      <td>socfb-nips-ego</td>\n      <td>real-world</td>\n      <td>socfb</td>\n      <td>2888</td>\n      <td>2981</td>\n      <td>None</td>\n      <td>0.027247</td>\n      <td>2.064404</td>\n    </tr>\n  </tbody>\n</table>\n</div>"
     },
     "execution_count": 222,
     "metadata": {},
     "output_type": "execute_result"
    }
   ],
   "source": [
    "df_clean.loc[df_clean.Model.isin(['real-world', '1d-girg', '2d-girg', '3d-girg', 'hyperbolic']) & df_clean.Graph.isin(bad_graph_names), ['Graph', 'Model', 'Type', 'Nodes', 'Edges', 'alpha', 'Centrality.ClusteringCoefficient.Location.Arithmetic Mean', 'Centrality.Degree.Location.Arithmetic Mean']].sort_values(['Graph', 'Model'])"
   ]
  },
  {
   "cell_type": "code",
   "execution_count": 223,
   "outputs": [
    {
     "data": {
      "text/plain": "{'tau': '4.522693545250537',\n 'alpha': '1.5821024658550151',\n 'const': '1.6363980337704853',\n 'target_lcc': '0.3474333362286111',\n 'fit_lcc': '0.3474333362286111',\n 'fitting_time': '350.8872694969177',\n 'hist': '[(2.0, 0.4935290541127421), (1.342281879194631, 0.2156258142968818), (1.6064257028112447, 0.3574654738122123), (1.462522851919561, 0.2904976982541475), (1.5311004784688993, 0.3224181360201511), (1.5678588926996568, 0.33874750282289584), (1.5869080089263574, 0.3559888821332407), (1.5773259396179913, 0.3458264570485538), (1.5821024658550151, 0.3480847737340398), (1.5797105920829349, 0.3511248154260401), (1.5821024658550151, 0.3480847737340398)]'}"
     },
     "execution_count": 223,
     "metadata": {},
     "output_type": "execute_result"
    }
   ],
   "source": [
    "info = df_clean.iloc[573].Info\n",
    "info\n",
    "# info['hist']"
   ],
   "metadata": {
    "collapsed": false,
    "ExecuteTime": {
     "start_time": "2023-04-21T16:31:29.702580Z",
     "end_time": "2023-04-21T16:31:29.715125Z"
    }
   }
  },
  {
   "cell_type": "code",
   "execution_count": 136,
   "outputs": [
    {
     "data": {
      "text/plain": "                         Graph  Nodes\n0             rt-twitter-copen    761\n63               bio-diseasome    516\n72             socfb-Caltech36    762\n117                ca-Erdos992   4991\n126                  bio-yeast   1458\n180           bio-celegans-dir    453\n198              ca-netscience    379\n243            soc-hamsterster   2000\n315             socfb-nips-ego   2888\n369  bn-macaque-rhesus_brain_1    241\n378           ia-infect-dublin    410\n423                 web-google   1299\n441               bio-celegans    453\n468               inf-euroroad   1039\n477                    web-edu   3031",
      "text/html": "<div>\n<style scoped>\n    .dataframe tbody tr th:only-of-type {\n        vertical-align: middle;\n    }\n\n    .dataframe tbody tr th {\n        vertical-align: top;\n    }\n\n    .dataframe thead th {\n        text-align: right;\n    }\n</style>\n<table border=\"1\" class=\"dataframe\">\n  <thead>\n    <tr style=\"text-align: right;\">\n      <th></th>\n      <th>Graph</th>\n      <th>Nodes</th>\n    </tr>\n  </thead>\n  <tbody>\n    <tr>\n      <th>0</th>\n      <td>rt-twitter-copen</td>\n      <td>761</td>\n    </tr>\n    <tr>\n      <th>63</th>\n      <td>bio-diseasome</td>\n      <td>516</td>\n    </tr>\n    <tr>\n      <th>72</th>\n      <td>socfb-Caltech36</td>\n      <td>762</td>\n    </tr>\n    <tr>\n      <th>117</th>\n      <td>ca-Erdos992</td>\n      <td>4991</td>\n    </tr>\n    <tr>\n      <th>126</th>\n      <td>bio-yeast</td>\n      <td>1458</td>\n    </tr>\n    <tr>\n      <th>180</th>\n      <td>bio-celegans-dir</td>\n      <td>453</td>\n    </tr>\n    <tr>\n      <th>198</th>\n      <td>ca-netscience</td>\n      <td>379</td>\n    </tr>\n    <tr>\n      <th>243</th>\n      <td>soc-hamsterster</td>\n      <td>2000</td>\n    </tr>\n    <tr>\n      <th>315</th>\n      <td>socfb-nips-ego</td>\n      <td>2888</td>\n    </tr>\n    <tr>\n      <th>369</th>\n      <td>bn-macaque-rhesus_brain_1</td>\n      <td>241</td>\n    </tr>\n    <tr>\n      <th>378</th>\n      <td>ia-infect-dublin</td>\n      <td>410</td>\n    </tr>\n    <tr>\n      <th>423</th>\n      <td>web-google</td>\n      <td>1299</td>\n    </tr>\n    <tr>\n      <th>441</th>\n      <td>bio-celegans</td>\n      <td>453</td>\n    </tr>\n    <tr>\n      <th>468</th>\n      <td>inf-euroroad</td>\n      <td>1039</td>\n    </tr>\n    <tr>\n      <th>477</th>\n      <td>web-edu</td>\n      <td>3031</td>\n    </tr>\n  </tbody>\n</table>\n</div>"
     },
     "execution_count": 136,
     "metadata": {},
     "output_type": "execute_result"
    }
   ],
   "source": [
    "df_real.loc[df_real.Graph.isin(bad_graph_names), ['Graph', 'Nodes']]"
   ],
   "metadata": {
    "collapsed": false,
    "ExecuteTime": {
     "start_time": "2023-04-20T17:15:37.855789Z",
     "end_time": "2023-04-20T17:15:37.859851Z"
    }
   }
  },
  {
   "cell_type": "code",
   "execution_count": null,
   "outputs": [],
   "source": [],
   "metadata": {
    "collapsed": false
   }
  },
  {
   "cell_type": "code",
   "execution_count": null,
   "outputs": [],
   "source": [],
   "metadata": {
    "collapsed": false
   }
  },
  {
   "cell_type": "code",
   "execution_count": null,
   "outputs": [],
   "source": [],
   "metadata": {
    "collapsed": false
   }
  },
  {
   "cell_type": "code",
   "execution_count": 92,
   "metadata": {
    "ExecuteTime": {
     "start_time": "2023-04-20T17:03:24.873753Z",
     "end_time": "2023-04-20T17:03:24.879158Z"
    }
   },
   "outputs": [
    {
     "data": {
      "text/plain": "{'tau': '2.604100935449141',\n 'alpha': '1.0101010101010102',\n 'const': '0.07791057985860345',\n 'target_lcc': '0.656345001302875',\n 'fit_lcc': '0.1828367931903066',\n 'fitting_time': '1.1812002658843994',\n 'hist': '[(2.0, 0.4251281160427343), (1.342281879194631, 0.38126465734387216), (1.1527377521613833, 0.22969686441414053), (1.0767160161507403, 0.21501780595848172), (1.0101010101010102, 0.1658994180491618)]'}"
     },
     "execution_count": 92,
     "metadata": {},
     "output_type": "execute_result"
    }
   ],
   "source": [
    "info = df_clean.iloc[375].Info\n",
    "info"
   ]
  },
  {
   "cell_type": "code",
   "execution_count": 25,
   "metadata": {},
   "outputs": [],
   "source": [
    "import seaborn as sns"
   ]
  },
  {
   "cell_type": "code",
   "execution_count": 33,
   "metadata": {},
   "outputs": [
    {
     "data": {
      "image/png": "[encoded data removed]",
      "text/plain": [
       "<Figure size 640x480 with 1 Axes>"
      ]
     },
     "metadata": {},
     "output_type": "display_data"
    }
   ],
   "source": [
    "sns.scatterplot(x='Nodes', y='Edges', data=df_real, hue='Type')\n",
    "plt.show()"
   ]
  },
  {
   "cell_type": "code",
   "execution_count": 53,
   "metadata": {},
   "outputs": [],
   "source": [
    "df_clean_modsubset = df_clean.loc[df_clean.Model.isin(['real-world', 'chung-lu', 'hyperbolic', '1d-girg', '3d-girg'])]"
   ]
  },
  {
   "cell_type": "code",
   "execution_count": 54,
   "metadata": {},
   "outputs": [
    {
     "data": {
      "image/png": "[encoded data removed]",
      "text/plain": [
       "<Figure size 640x480 with 1 Axes>"
      ]
     },
     "metadata": {},
     "output_type": "display_data"
    }
   ],
   "source": [
    "sns.scatterplot(x='Edges', y='Centrality.ClusteringCoefficient.Location.Arithmetic Mean', data=df_clean_modsubset, hue='Model')\n",
    "plt.show()"
   ]
  },
  {
   "cell_type": "code",
   "execution_count": 63,
   "metadata": {},
   "outputs": [],
   "source": [
    "CC = 'Centrality.ClusteringCoefficient.Location.Arithmetic Mean'"
   ]
  },
  {
   "cell_type": "code",
   "execution_count": null,
   "metadata": {},
   "outputs": [],
   "source": []
  },
  {
   "cell_type": "code",
   "execution_count": 59,
   "metadata": {},
   "outputs": [
    {
     "data": {
      "text/html": [
       "<div>\n",
       "<style scoped>\n",
       "    .dataframe tbody tr th:only-of-type {\n",
       "        vertical-align: middle;\n",
       "    }\n",
       "\n",
       "    .dataframe tbody tr th {\n",
       "        vertical-align: top;\n",
       "    }\n",
       "\n",
       "    .dataframe thead th {\n",
       "        text-align: right;\n",
       "    }\n",
       "</style>\n",
       "<table border=\"1\" class=\"dataframe\">\n",
       "  <thead>\n",
       "    <tr style=\"text-align: right;\">\n",
       "      <th></th>\n",
       "      <th>Graph</th>\n",
       "      <th>Model</th>\n",
       "      <th>Edges</th>\n",
       "      <th>Centrality.ClusteringCoefficient.Location.Arithmetic Mean</th>\n",
       "    </tr>\n",
       "  </thead>\n",
       "  <tbody>\n",
       "    <tr>\n",
       "      <th>666</th>\n",
       "      <td>bio-celegans</td>\n",
       "      <td>1d-girg</td>\n",
       "      <td>1976</td>\n",
       "      <td>0.383038</td>\n",
       "    </tr>\n",
       "    <tr>\n",
       "      <th>668</th>\n",
       "      <td>bio-celegans</td>\n",
       "      <td>3d-girg</td>\n",
       "      <td>2200</td>\n",
       "      <td>0.393607</td>\n",
       "    </tr>\n",
       "    <tr>\n",
       "      <th>664</th>\n",
       "      <td>bio-celegans</td>\n",
       "      <td>chung-lu</td>\n",
       "      <td>1880</td>\n",
       "      <td>0.194926</td>\n",
       "    </tr>\n",
       "    <tr>\n",
       "      <th>665</th>\n",
       "      <td>bio-celegans</td>\n",
       "      <td>hyperbolic</td>\n",
       "      <td>1683</td>\n",
       "      <td>0.606415</td>\n",
       "    </tr>\n",
       "    <tr>\n",
       "      <th>660</th>\n",
       "      <td>bio-celegans</td>\n",
       "      <td>real-world</td>\n",
       "      <td>2025</td>\n",
       "      <td>0.646463</td>\n",
       "    </tr>\n",
       "    <tr>\n",
       "      <th>523</th>\n",
       "      <td>bio-celegans-dir</td>\n",
       "      <td>1d-girg</td>\n",
       "      <td>1976</td>\n",
       "      <td>0.383038</td>\n",
       "    </tr>\n",
       "    <tr>\n",
       "      <th>525</th>\n",
       "      <td>bio-celegans-dir</td>\n",
       "      <td>3d-girg</td>\n",
       "      <td>2200</td>\n",
       "      <td>0.393607</td>\n",
       "    </tr>\n",
       "    <tr>\n",
       "      <th>521</th>\n",
       "      <td>bio-celegans-dir</td>\n",
       "      <td>chung-lu</td>\n",
       "      <td>1880</td>\n",
       "      <td>0.194926</td>\n",
       "    </tr>\n",
       "    <tr>\n",
       "      <th>522</th>\n",
       "      <td>bio-celegans-dir</td>\n",
       "      <td>hyperbolic</td>\n",
       "      <td>1749</td>\n",
       "      <td>0.612589</td>\n",
       "    </tr>\n",
       "    <tr>\n",
       "      <th>517</th>\n",
       "      <td>bio-celegans-dir</td>\n",
       "      <td>real-world</td>\n",
       "      <td>2025</td>\n",
       "      <td>0.646463</td>\n",
       "    </tr>\n",
       "    <tr>\n",
       "      <th>380</th>\n",
       "      <td>bio-diseasome</td>\n",
       "      <td>1d-girg</td>\n",
       "      <td>1233</td>\n",
       "      <td>0.276340</td>\n",
       "    </tr>\n",
       "    <tr>\n",
       "      <th>382</th>\n",
       "      <td>bio-diseasome</td>\n",
       "      <td>3d-girg</td>\n",
       "      <td>1173</td>\n",
       "      <td>0.256291</td>\n",
       "    </tr>\n",
       "    <tr>\n",
       "      <th>378</th>\n",
       "      <td>bio-diseasome</td>\n",
       "      <td>chung-lu</td>\n",
       "      <td>1215</td>\n",
       "      <td>0.029229</td>\n",
       "    </tr>\n",
       "    <tr>\n",
       "      <th>379</th>\n",
       "      <td>bio-diseasome</td>\n",
       "      <td>hyperbolic</td>\n",
       "      <td>228</td>\n",
       "      <td>0.714339</td>\n",
       "    </tr>\n",
       "    <tr>\n",
       "      <th>374</th>\n",
       "      <td>bio-diseasome</td>\n",
       "      <td>real-world</td>\n",
       "      <td>1188</td>\n",
       "      <td>0.635830</td>\n",
       "    </tr>\n",
       "    <tr>\n",
       "      <th>446</th>\n",
       "      <td>bio-yeast</td>\n",
       "      <td>1d-girg</td>\n",
       "      <td>2088</td>\n",
       "      <td>0.128377</td>\n",
       "    </tr>\n",
       "    <tr>\n",
       "      <th>448</th>\n",
       "      <td>bio-yeast</td>\n",
       "      <td>3d-girg</td>\n",
       "      <td>1762</td>\n",
       "      <td>0.086947</td>\n",
       "    </tr>\n",
       "    <tr>\n",
       "      <th>444</th>\n",
       "      <td>bio-yeast</td>\n",
       "      <td>chung-lu</td>\n",
       "      <td>1912</td>\n",
       "      <td>0.011022</td>\n",
       "    </tr>\n",
       "    <tr>\n",
       "      <th>445</th>\n",
       "      <td>bio-yeast</td>\n",
       "      <td>hyperbolic</td>\n",
       "      <td>1299</td>\n",
       "      <td>0.081096</td>\n",
       "    </tr>\n",
       "    <tr>\n",
       "      <th>440</th>\n",
       "      <td>bio-yeast</td>\n",
       "      <td>real-world</td>\n",
       "      <td>1948</td>\n",
       "      <td>0.070830</td>\n",
       "    </tr>\n",
       "  </tbody>\n",
       "</table>\n",
       "</div>"
      ],
      "text/plain": [
       "                Graph       Model  Edges  \\\n",
       "666      bio-celegans     1d-girg   1976   \n",
       "668      bio-celegans     3d-girg   2200   \n",
       "664      bio-celegans    chung-lu   1880   \n",
       "665      bio-celegans  hyperbolic   1683   \n",
       "660      bio-celegans  real-world   2025   \n",
       "523  bio-celegans-dir     1d-girg   1976   \n",
       "525  bio-celegans-dir     3d-girg   2200   \n",
       "521  bio-celegans-dir    chung-lu   1880   \n",
       "522  bio-celegans-dir  hyperbolic   1749   \n",
       "517  bio-celegans-dir  real-world   2025   \n",
       "380     bio-diseasome     1d-girg   1233   \n",
       "382     bio-diseasome     3d-girg   1173   \n",
       "378     bio-diseasome    chung-lu   1215   \n",
       "379     bio-diseasome  hyperbolic    228   \n",
       "374     bio-diseasome  real-world   1188   \n",
       "446         bio-yeast     1d-girg   2088   \n",
       "448         bio-yeast     3d-girg   1762   \n",
       "444         bio-yeast    chung-lu   1912   \n",
       "445         bio-yeast  hyperbolic   1299   \n",
       "440         bio-yeast  real-world   1948   \n",
       "\n",
       "     Centrality.ClusteringCoefficient.Location.Arithmetic Mean  \n",
       "666                                           0.383038          \n",
       "668                                           0.393607          \n",
       "664                                           0.194926          \n",
       "665                                           0.606415          \n",
       "660                                           0.646463          \n",
       "523                                           0.383038          \n",
       "525                                           0.393607          \n",
       "521                                           0.194926          \n",
       "522                                           0.612589          \n",
       "517                                           0.646463          \n",
       "380                                           0.276340          \n",
       "382                                           0.256291          \n",
       "378                                           0.029229          \n",
       "379                                           0.714339          \n",
       "374                                           0.635830          \n",
       "446                                           0.128377          \n",
       "448                                           0.086947          \n",
       "444                                           0.011022          \n",
       "445                                           0.081096          \n",
       "440                                           0.070830          "
      ]
     },
     "execution_count": 59,
     "metadata": {},
     "output_type": "execute_result"
    }
   ],
   "source": [
    "temp = df_clean_modsubset.sort_values(['Graph', 'Model']).loc[:, ['Graph', 'Model', 'Edges', 'Centrality.ClusteringCoefficient.Location.Arithmetic Mean']]\n",
    "temp.head(20)"
   ]
  },
  {
   "cell_type": "code",
   "execution_count": 67,
   "metadata": {},
   "outputs": [
    {
     "data": {
      "text/html": [
       "<div>\n",
       "<style scoped>\n",
       "    .dataframe tbody tr th:only-of-type {\n",
       "        vertical-align: middle;\n",
       "    }\n",
       "\n",
       "    .dataframe tbody tr th {\n",
       "        vertical-align: top;\n",
       "    }\n",
       "\n",
       "    .dataframe thead th {\n",
       "        text-align: right;\n",
       "    }\n",
       "</style>\n",
       "<table border=\"1\" class=\"dataframe\">\n",
       "  <thead>\n",
       "    <tr style=\"text-align: right;\">\n",
       "      <th></th>\n",
       "      <th>Graph</th>\n",
       "      <th>Model</th>\n",
       "      <th>Nodes</th>\n",
       "      <th>Edges</th>\n",
       "      <th>Info</th>\n",
       "    </tr>\n",
       "  </thead>\n",
       "  <tbody>\n",
       "    <tr>\n",
       "      <th>159</th>\n",
       "      <td>bio-yeast</td>\n",
       "      <td>real-world</td>\n",
       "      <td>1458</td>\n",
       "      <td>1948</td>\n",
       "      <td>NaN</td>\n",
       "    </tr>\n",
       "    <tr>\n",
       "      <th>161</th>\n",
       "      <td>bio-yeast</td>\n",
       "      <td>ER</td>\n",
       "      <td>1333</td>\n",
       "      <td>1958</td>\n",
       "      <td>NaN</td>\n",
       "    </tr>\n",
       "    <tr>\n",
       "      <th>163</th>\n",
       "      <td>bio-yeast</td>\n",
       "      <td>BA circle</td>\n",
       "      <td>1458</td>\n",
       "      <td>1948</td>\n",
       "      <td>NaN</td>\n",
       "    </tr>\n",
       "    <tr>\n",
       "      <th>164</th>\n",
       "      <td>bio-yeast</td>\n",
       "      <td>BA full</td>\n",
       "      <td>1458</td>\n",
       "      <td>1948</td>\n",
       "      <td>NaN</td>\n",
       "    </tr>\n",
       "    <tr>\n",
       "      <th>166</th>\n",
       "      <td>bio-yeast</td>\n",
       "      <td>chung-lu</td>\n",
       "      <td>1090</td>\n",
       "      <td>1912</td>\n",
       "      <td>NaN</td>\n",
       "    </tr>\n",
       "    <tr>\n",
       "      <th>175</th>\n",
       "      <td>bio-yeast</td>\n",
       "      <td>hyperbolic</td>\n",
       "      <td>1117</td>\n",
       "      <td>1299</td>\n",
       "      <td>n=2619|k=1.4881588999236057|gamma=3.5097267779...</td>\n",
       "    </tr>\n",
       "    <tr>\n",
       "      <th>526</th>\n",
       "      <td>bio-yeast</td>\n",
       "      <td>1d-girg</td>\n",
       "      <td>1210</td>\n",
       "      <td>2088</td>\n",
       "      <td>tau=2.9848742153573937|alpha=1.216198502940622...</td>\n",
       "    </tr>\n",
       "    <tr>\n",
       "      <th>569</th>\n",
       "      <td>bio-yeast</td>\n",
       "      <td>2d-girg</td>\n",
       "      <td>1183</td>\n",
       "      <td>1886</td>\n",
       "      <td>tau=2.9848742153573937|alpha=1.218209034912959...</td>\n",
       "    </tr>\n",
       "    <tr>\n",
       "      <th>586</th>\n",
       "      <td>bio-yeast</td>\n",
       "      <td>3d-girg</td>\n",
       "      <td>1190</td>\n",
       "      <td>1762</td>\n",
       "      <td>tau=2.9848742153573937|alpha=1.190647662316176...</td>\n",
       "    </tr>\n",
       "    <tr>\n",
       "      <th>610</th>\n",
       "      <td>bio-yeast</td>\n",
       "      <td>4d-girg</td>\n",
       "      <td>1195</td>\n",
       "      <td>1921</td>\n",
       "      <td>tau=2.9848742153573937|alpha=1.271468827051778...</td>\n",
       "    </tr>\n",
       "    <tr>\n",
       "      <th>673</th>\n",
       "      <td>bio-yeast</td>\n",
       "      <td>5d-girg</td>\n",
       "      <td>1207</td>\n",
       "      <td>1920</td>\n",
       "      <td>tau=2.9848742153573937|alpha=1.241887215658408...</td>\n",
       "    </tr>\n",
       "  </tbody>\n",
       "</table>\n",
       "</div>"
      ],
      "text/plain": [
       "         Graph       Model  Nodes  Edges  \\\n",
       "159  bio-yeast  real-world   1458   1948   \n",
       "161  bio-yeast          ER   1333   1958   \n",
       "163  bio-yeast   BA circle   1458   1948   \n",
       "164  bio-yeast     BA full   1458   1948   \n",
       "166  bio-yeast    chung-lu   1090   1912   \n",
       "175  bio-yeast  hyperbolic   1117   1299   \n",
       "526  bio-yeast     1d-girg   1210   2088   \n",
       "569  bio-yeast     2d-girg   1183   1886   \n",
       "586  bio-yeast     3d-girg   1190   1762   \n",
       "610  bio-yeast     4d-girg   1195   1921   \n",
       "673  bio-yeast     5d-girg   1207   1920   \n",
       "\n",
       "                                                  Info  \n",
       "159                                                NaN  \n",
       "161                                                NaN  \n",
       "163                                                NaN  \n",
       "164                                                NaN  \n",
       "166                                                NaN  \n",
       "175  n=2619|k=1.4881588999236057|gamma=3.5097267779...  \n",
       "526  tau=2.9848742153573937|alpha=1.216198502940622...  \n",
       "569  tau=2.9848742153573937|alpha=1.218209034912959...  \n",
       "586  tau=2.9848742153573937|alpha=1.190647662316176...  \n",
       "610  tau=2.9848742153573937|alpha=1.271468827051778...  \n",
       "673  tau=2.9848742153573937|alpha=1.241887215658408...  "
      ]
     },
     "execution_count": 67,
     "metadata": {},
     "output_type": "execute_result"
    }
   ],
   "source": [
    "df_mini.loc[df_mini.Graph == 'bio-yeast']"
   ]
  },
  {
   "cell_type": "code",
   "execution_count": 65,
   "metadata": {},
   "outputs": [
    {
     "data": {
      "text/plain": [
       "'tau=2.9848742153573937|alpha=1.2161985029406228|const=0.009379502054907412|fit=False|target_lcc=0.07083049680177281|hist=[(1.3, 0.0869233995475262), (1.21, 0.06308578011143054), (1.2470588235294118, 0.07934482809704911), (1.2285294117647059, 0.07414259381607802), (1.2096757352941176, 0.07596798581818996), (1.1906476623161764, 0.07357763887208847), (1.171616259425464, 0.06032005926157338), (1.1806320569689255, 0.059610676592134426), (1.1911255673365813, 0.06240266684098817), (1.2034103579190385, 0.06752975874920675), (1.2178852455499798, 0.07344035069685631), (1.2106478017345093, 0.06552270185631895), (1.2142054074770923, 0.0659045487022762), (1.2181915984041534, 0.07132316111655816), (1.2161985029406228, 0.06903175462599452)]'"
      ]
     },
     "execution_count": 65,
     "metadata": {},
     "output_type": "execute_result"
    }
   ],
   "source": [
    "df.loc[526, 'Info']"
   ]
  },
  {
   "cell_type": "code",
   "execution_count": null,
   "metadata": {},
   "outputs": [],
   "source": []
  },
  {
   "cell_type": "code",
   "execution_count": 62,
   "metadata": {},
   "outputs": [
    {
     "data": {
      "text/plain": [
       "[(1.3, 0.0869233995475262),\n",
       " (1.21, 0.06308578011143054),\n",
       " (1.2470588235294118, 0.07934482809704911),\n",
       " (1.2285294117647059, 0.07414259381607802),\n",
       " (1.2096757352941176, 0.07596798581818996),\n",
       " (1.1906476623161764, 0.07357763887208847),\n",
       " (1.171616259425464, 0.06032005926157338),\n",
       " (1.1806320569689255, 0.059610676592134426),\n",
       " (1.1911255673365813, 0.06240266684098817),\n",
       " (1.2034103579190385, 0.06752975874920675),\n",
       " (1.2178852455499798, 0.07344035069685631),\n",
       " (1.2106478017345093, 0.06552270185631895),\n",
       " (1.2142054074770923, 0.0659045487022762),\n",
       " (1.2181915984041534, 0.07132316111655816),\n",
       " (1.2161985029406228, 0.06903175462599452)]"
      ]
     },
     "execution_count": 62,
     "metadata": {},
     "output_type": "execute_result"
    }
   ],
   "source": [
    "hist = get_hist(526)\n",
    "hist"
   ]
  },
  {
   "cell_type": "code",
   "execution_count": 41,
   "metadata": {
    "collapsed": true,
    "jupyter": {
     "outputs_hidden": true
    },
    "tags": []
   },
   "outputs": [
    {
     "name": "stdout",
     "output_type": "stream",
     "text": [
      "/cluster/scratch/bdayan/GIRG_data/ia-enron-only.SpaceOne\n",
      "/cluster/scratch/bdayan/GIRG_data/bn-macaque-rhesus_brain_1.SpaceOne\n",
      "/cluster/scratch/bdayan/GIRG_data/inf-USAir97.SpaceOne\n",
      "/cluster/scratch/bdayan/GIRG_data/ca-netscience.SpaceOne\n",
      "/cluster/scratch/bdayan/GIRG_data/ia-infect-dublin.SpaceOne\n",
      "/cluster/scratch/bdayan/GIRG_data/bio-celegans.SpaceOne\n",
      "/cluster/scratch/bdayan/GIRG_data/bio-celegans-dir.SpaceOne\n",
      "/cluster/scratch/bdayan/GIRG_data/bio-diseasome.SpaceOne\n",
      "/cluster/scratch/bdayan/GIRG_data/web-polblogs.SpaceOne\n",
      "/cluster/scratch/bdayan/GIRG_data/rt-twitter-copen.SpaceOne\n",
      "/cluster/scratch/bdayan/GIRG_data/socfb-Caltech36.SpaceOne\n",
      "/cluster/scratch/bdayan/GIRG_data/soc-wiki-Vote.SpaceOne\n",
      "/cluster/scratch/bdayan/GIRG_data/socfb-Reed98.SpaceOne\n",
      "/cluster/scratch/bdayan/GIRG_data/inf-euroroad.SpaceOne\n",
      "/cluster/scratch/bdayan/GIRG_data/ia-email-univ.SpaceOne\n",
      "/cluster/scratch/bdayan/GIRG_data/ia-fb-messages.SpaceOne\n",
      "/cluster/scratch/bdayan/GIRG_data/web-google.SpaceOne\n",
      "/cluster/scratch/bdayan/GIRG_data/socfb-Haverford76.SpaceOne\n",
      "/cluster/scratch/bdayan/GIRG_data/bio-yeast.SpaceOne\n",
      "/cluster/scratch/bdayan/GIRG_data/bio-yeast-protein-inter.SpaceOne\n",
      "/cluster/scratch/bdayan/GIRG_data/socfb-Simmons81.SpaceOne\n",
      "/cluster/scratch/bdayan/GIRG_data/socfb-Swarthmore42.SpaceOne\n",
      "/cluster/scratch/bdayan/GIRG_data/bn-fly-drosophila_medulla_1.SpaceOne\n",
      "/cluster/scratch/bdayan/GIRG_data/soc-hamsterster.SpaceOne\n",
      "/cluster/scratch/bdayan/GIRG_data/tech-routers-rf.SpaceOne\n",
      "/cluster/scratch/bdayan/GIRG_data/socfb-Amherst41.SpaceOne\n",
      "/cluster/scratch/bdayan/GIRG_data/socfb-Bowdoin47.SpaceOne\n",
      "/cluster/scratch/bdayan/GIRG_data/socfb-Hamilton46.SpaceOne\n",
      "/cluster/scratch/bdayan/GIRG_data/socfb-Trinity100.SpaceOne\n",
      "/cluster/scratch/bdayan/GIRG_data/socfb-USFCA72.SpaceOne\n",
      "/cluster/scratch/bdayan/GIRG_data/socfb-Williams40.SpaceOne\n",
      "/cluster/scratch/bdayan/GIRG_data/socfb-nips-ego.SpaceOne\n",
      "/cluster/scratch/bdayan/GIRG_data/inf-openflights.SpaceOne\n",
      "/cluster/scratch/bdayan/GIRG_data/socfb-Oberlin44.SpaceOne\n",
      "/cluster/scratch/bdayan/GIRG_data/socfb-Wellesley22.SpaceOne\n",
      "/cluster/scratch/bdayan/GIRG_data/socfb-Smith60.SpaceOne\n",
      "/cluster/scratch/bdayan/GIRG_data/web-edu.SpaceOne\n",
      "/cluster/scratch/bdayan/GIRG_data/socfb-Vassar85.SpaceOne\n",
      "/cluster/scratch/bdayan/GIRG_data/socfb-Middlebury45.SpaceOne\n",
      "/cluster/scratch/bdayan/GIRG_data/socfb-Pepperdine86.SpaceOne\n",
      "/cluster/scratch/bdayan/GIRG_data/socfb-Colgate88.SpaceOne\n",
      "/cluster/scratch/bdayan/GIRG_data/socfb-Santa74.SpaceOne\n",
      "/cluster/scratch/bdayan/GIRG_data/socfb-Wesleyan43.SpaceOne\n",
      "/cluster/scratch/bdayan/GIRG_data/socfb-Mich67.SpaceOne\n",
      "/cluster/scratch/bdayan/GIRG_data/socfb-Bucknell39.SpaceOne\n",
      "/cluster/scratch/bdayan/GIRG_data/socfb-Brandeis99.SpaceOne\n",
      "/cluster/scratch/bdayan/GIRG_data/socfb-Howard90.SpaceOne\n",
      "/cluster/scratch/bdayan/GIRG_data/socfb-Rice31.SpaceOne\n",
      "/cluster/scratch/bdayan/GIRG_data/ca-GrQc.SpaceOne\n",
      "/cluster/scratch/bdayan/GIRG_data/web-EPA.SpaceOne\n",
      "/cluster/scratch/bdayan/GIRG_data/socfb-Rochester38.SpaceOne\n",
      "/cluster/scratch/bdayan/GIRG_data/web-spam.SpaceOne\n",
      "/cluster/scratch/bdayan/GIRG_data/inf-power.SpaceOne\n",
      "/cluster/scratch/bdayan/GIRG_data/ca-Erdos992.SpaceOne\n",
      "/cluster/scratch/bdayan/GIRG_data/soc-advogato.SpaceOne\n",
      "/cluster/scratch/bdayan/GIRG_data/socfb-Lehigh96.SpaceOne\n",
      "/cluster/scratch/bdayan/GIRG_data/socfb-JohnsHopkins55.SpaceOne\n",
      "/cluster/scratch/bdayan/GIRG_data/socfb-Wake73.SpaceOne\n",
      "/cluster/scratch/bdayan/GIRG_data/socfb-American75.SpaceOne\n",
      "/cluster/scratch/bdayan/GIRG_data/socfb-MIT8.SpaceOne\n",
      "/cluster/scratch/bdayan/GIRG_data/socfb-MIT.SpaceOne\n",
      "/cluster/scratch/bdayan/GIRG_data/socfb-William77.SpaceOne\n",
      "/cluster/scratch/bdayan/GIRG_data/socfb-UChicago30.SpaceOne\n",
      "/cluster/scratch/bdayan/GIRG_data/socfb-Princeton12.SpaceOne\n",
      "/cluster/scratch/bdayan/GIRG_data/socfb-Carnegie49.SpaceOne\n",
      "/cluster/scratch/bdayan/GIRG_data/socfb-CMU.SpaceOne\n",
      "/cluster/scratch/bdayan/GIRG_data/socfb-Tufts18.SpaceOne\n",
      "/cluster/scratch/bdayan/GIRG_data/ia-reality.SpaceOne\n",
      "/cluster/scratch/bdayan/GIRG_data/socfb-UC64.SpaceOne\n",
      "/cluster/scratch/bdayan/GIRG_data/soc-wiki-elec.SpaceOne\n",
      "/cluster/scratch/bdayan/GIRG_data/socfb-Vermont70.SpaceOne\n",
      "/cluster/scratch/bdayan/GIRG_data/bio-dmela.SpaceOne\n",
      "/cluster/scratch/bdayan/GIRG_data/socfb-Emory27.SpaceOne\n",
      "/cluster/scratch/bdayan/GIRG_data/tech-WHOIS.SpaceOne\n",
      "/cluster/scratch/bdayan/GIRG_data/rec-movielens-user-movies-10m.SpaceOne\n",
      "/cluster/scratch/bdayan/GIRG_data/socfb-Dartmouth6.SpaceOne\n",
      "/cluster/scratch/bdayan/GIRG_data/socfb-WashU32.SpaceOne\n",
      "/cluster/scratch/bdayan/GIRG_data/socfb-Tulane29.SpaceOne\n",
      "/cluster/scratch/bdayan/GIRG_data/socfb-Villanova62.SpaceOne\n",
      "/cluster/scratch/bdayan/GIRG_data/socfb-Vanderbilt48.SpaceOne\n",
      "/cluster/scratch/bdayan/GIRG_data/socfb-Yale4.SpaceOne\n",
      "/cluster/scratch/bdayan/GIRG_data/socfb-Brown11.SpaceOne\n",
      "/cluster/scratch/bdayan/GIRG_data/socfb-UCSC68.SpaceOne\n",
      "/cluster/scratch/bdayan/GIRG_data/socfb-Maine59.SpaceOne\n",
      "/cluster/scratch/bdayan/GIRG_data/socfb-Georgetown15.SpaceOne\n",
      "/cluster/scratch/bdayan/GIRG_data/socfb-Duke14.SpaceOne\n",
      "/cluster/scratch/bdayan/GIRG_data/socfb-Bingham82.SpaceOne\n",
      "/cluster/scratch/bdayan/GIRG_data/ia-escorts-dynamic.SpaceOne\n",
      "/cluster/scratch/bdayan/GIRG_data/socfb-Mississippi66.SpaceOne\n",
      "/cluster/scratch/bdayan/GIRG_data/socfb-Northwestern25.SpaceOne\n",
      "/cluster/scratch/bdayan/GIRG_data/tech-pgp.SpaceOne\n",
      "/cluster/scratch/bdayan/GIRG_data/ca-HepPh.SpaceOne\n",
      "/cluster/scratch/bdayan/GIRG_data/socfb-Cal65.SpaceOne\n",
      "/cluster/scratch/bdayan/GIRG_data/web-indochina-2004.SpaceOne\n",
      "/cluster/scratch/bdayan/GIRG_data/bn-human-BNU_1_0025889_session_2.SpaceOne\n",
      "/cluster/scratch/bdayan/GIRG_data/socfb-BC17.SpaceOne\n",
      "/cluster/scratch/bdayan/GIRG_data/socfb-Stanford3.SpaceOne\n",
      "/cluster/scratch/bdayan/GIRG_data/socfb-Columbia2.SpaceOne\n",
      "/cluster/scratch/bdayan/GIRG_data/socfb-NotreDame57.SpaceOne\n",
      "/cluster/scratch/bdayan/GIRG_data/socfb-GWU54.SpaceOne\n",
      "/cluster/scratch/bdayan/GIRG_data/web-BerkStan.SpaceOne\n",
      "/cluster/scratch/bdayan/GIRG_data/soc-anybeat.SpaceOne\n",
      "/cluster/scratch/bdayan/GIRG_data/socfb-Baylor93.SpaceOne\n",
      "/cluster/scratch/bdayan/GIRG_data/socfb-USF51.SpaceOne\n",
      "/cluster/scratch/bdayan/GIRG_data/socfb-Syracuse56.SpaceOne\n",
      "/cluster/scratch/bdayan/GIRG_data/socfb-Temple83.SpaceOne\n",
      "/cluster/scratch/bdayan/GIRG_data/socfb-UC61.SpaceOne\n",
      "/cluster/scratch/bdayan/GIRG_data/socfb-Northeastern19.SpaceOne\n",
      "/cluster/scratch/bdayan/GIRG_data/socfb-JMU79.SpaceOne\n",
      "/cluster/scratch/bdayan/GIRG_data/socfb-UPenn7.SpaceOne\n",
      "/cluster/scratch/bdayan/GIRG_data/socfb-UCSB37.SpaceOne\n",
      "/cluster/scratch/bdayan/GIRG_data/socfb-UCSD34.SpaceOne\n",
      "/cluster/scratch/bdayan/GIRG_data/socfb-UCF52.SpaceOne\n",
      "/cluster/scratch/bdayan/GIRG_data/socfb-Harvard1.SpaceOne\n",
      "/cluster/scratch/bdayan/GIRG_data/socfb-MU78.SpaceOne\n",
      "/cluster/scratch/bdayan/GIRG_data/web-webbase-2001.SpaceOne\n",
      "/cluster/scratch/bdayan/GIRG_data/socfb-UMass92.SpaceOne\n",
      "/cluster/scratch/bdayan/GIRG_data/rec-movielens-tag-movies-10m.SpaceOne\n",
      "/cluster/scratch/bdayan/GIRG_data/socfb-UC33.SpaceOne\n",
      "/cluster/scratch/bdayan/GIRG_data/socfb-Tennessee95.SpaceOne\n",
      "/cluster/scratch/bdayan/GIRG_data/socfb-UVA16.SpaceOne\n",
      "/cluster/scratch/bdayan/GIRG_data/socfb-UConn.SpaceOne\n",
      "/cluster/scratch/bdayan/GIRG_data/socfb-UConn91.SpaceOne\n",
      "/cluster/scratch/bdayan/GIRG_data/socfb-Oklahoma97.SpaceOne\n",
      "/cluster/scratch/bdayan/GIRG_data/socfb-USC35.SpaceOne\n",
      "/cluster/scratch/bdayan/GIRG_data/ca-AstroPh.SpaceOne\n",
      "/cluster/scratch/bdayan/GIRG_data/socfb-UNC28.SpaceOne\n",
      "/cluster/scratch/bdayan/GIRG_data/socfb-Auburn71.SpaceOne\n",
      "/cluster/scratch/bdayan/GIRG_data/socfb-Cornell5.SpaceOne\n",
      "/cluster/scratch/bdayan/GIRG_data/socfb-BU10.SpaceOne\n",
      "/cluster/scratch/bdayan/GIRG_data/socfb-UCLA26.SpaceOne\n",
      "/cluster/scratch/bdayan/GIRG_data/socfb-UCLA.SpaceOne\n",
      "/cluster/scratch/bdayan/GIRG_data/socfb-Maryland58.SpaceOne\n",
      "/cluster/scratch/bdayan/GIRG_data/socfb-Virginia63.SpaceOne\n",
      "/cluster/scratch/bdayan/GIRG_data/ca-CondMat.SpaceOne\n",
      "/cluster/scratch/bdayan/GIRG_data/socfb-NYU9.SpaceOne\n",
      "/cluster/scratch/bdayan/GIRG_data/socfb-Berkeley13.SpaceOne\n",
      "/cluster/scratch/bdayan/GIRG_data/soc-gplus.SpaceOne\n",
      "/cluster/scratch/bdayan/GIRG_data/socfb-Wisconsin87.SpaceOne\n",
      "/cluster/scratch/bdayan/GIRG_data/socfb-UGA50.SpaceOne\n",
      "/cluster/scratch/bdayan/GIRG_data/socfb-Rutgers89.SpaceOne\n",
      "/cluster/scratch/bdayan/GIRG_data/web-frwikinews-user-edits.SpaceOne\n",
      "/cluster/scratch/bdayan/GIRG_data/tech-as-caida2007.SpaceOne\n",
      "/cluster/scratch/bdayan/GIRG_data/soc-epinions.SpaceOne\n",
      "/cluster/scratch/bdayan/GIRG_data/socfb-FSU53.SpaceOne\n",
      "/cluster/scratch/bdayan/GIRG_data/socfb-Indiana.SpaceOne\n",
      "/cluster/scratch/bdayan/GIRG_data/socfb-Indiana69.SpaceOne\n",
      "/cluster/scratch/bdayan/GIRG_data/socfb-Michigan23.SpaceOne\n",
      "/cluster/scratch/bdayan/GIRG_data/socfb-UIllinois20.SpaceOne\n",
      "/cluster/scratch/bdayan/GIRG_data/socfb-UIllinois.SpaceOne\n",
      "/cluster/scratch/bdayan/GIRG_data/socfb-Texas80.SpaceOne\n",
      "/cluster/scratch/bdayan/GIRG_data/socfb-MSU24.SpaceOne\n",
      "/cluster/scratch/bdayan/GIRG_data/ia-email-EU.SpaceOne\n",
      "/cluster/scratch/bdayan/GIRG_data/ia-enron-large.SpaceOne\n",
      "/cluster/scratch/bdayan/GIRG_data/socfb-UF.SpaceOne\n",
      "/cluster/scratch/bdayan/GIRG_data/socfb-UF21.SpaceOne\n",
      "/cluster/scratch/bdayan/GIRG_data/socfb-Texas84.SpaceOne\n",
      "/cluster/scratch/bdayan/GIRG_data/tech-internet-as.SpaceOne\n",
      "/cluster/scratch/bdayan/GIRG_data/socfb-Penn94.SpaceOne\n",
      "/cluster/scratch/bdayan/GIRG_data/rec-yelp-user-business.SpaceOne\n",
      "/cluster/scratch/bdayan/GIRG_data/soc-brightkite.SpaceOne\n",
      "/cluster/scratch/bdayan/GIRG_data/soc-loc-brightkite.SpaceOne\n",
      "/cluster/scratch/bdayan/GIRG_data/rec-eachmovie.SpaceOne\n",
      "/cluster/scratch/bdayan/GIRG_data/tech-p2p-gnutella.SpaceOne\n",
      "/cluster/scratch/bdayan/GIRG_data/socfb-wosn-friends.SpaceOne\n",
      "/cluster/scratch/bdayan/GIRG_data/socfb-OR.SpaceOne\n",
      "/cluster/scratch/bdayan/GIRG_data/soc-themarker.SpaceOne\n",
      "/cluster/scratch/bdayan/GIRG_data/soc-slashdot.SpaceOne\n",
      "/cluster/scratch/bdayan/GIRG_data/rec-movielens.SpaceOne\n",
      "/cluster/scratch/bdayan/GIRG_data/soc-sign-Slashdot081106.SpaceOne\n",
      "/cluster/scratch/bdayan/GIRG_data/soc-Slashdot0811.SpaceOne\n",
      "/cluster/scratch/bdayan/GIRG_data/soc-slashdot-trust-all.SpaceOne\n",
      "/cluster/scratch/bdayan/GIRG_data/soc-slashdot-zoo.SpaceOne\n",
      "/cluster/scratch/bdayan/GIRG_data/soc-sign-Slashdot090216.SpaceOne\n",
      "/cluster/scratch/bdayan/GIRG_data/soc-sign-Slashdot090221.SpaceOne\n",
      "/cluster/scratch/bdayan/GIRG_data/soc-Slashdot0902.SpaceOne\n",
      "/cluster/scratch/bdayan/GIRG_data/ia-enron-email-dynamic.SpaceOne\n",
      "/cluster/scratch/bdayan/GIRG_data/rec-amazon.SpaceOne\n",
      "/cluster/scratch/bdayan/GIRG_data/bn-human-BNU_1_0025873_session_1-bg.SpaceOne\n",
      "/cluster/scratch/bdayan/GIRG_data/ia-wiki-Talk.SpaceOne\n",
      "/cluster/scratch/bdayan/GIRG_data/ia-wikiquote-user-edits.SpaceOne\n",
      "/cluster/scratch/bdayan/GIRG_data/soc-buzznet.SpaceOne\n",
      "/cluster/scratch/bdayan/GIRG_data/soc-LiveMocha.SpaceOne\n",
      "/cluster/scratch/bdayan/GIRG_data/soc-sign-epinions.SpaceOne\n",
      "/cluster/scratch/bdayan/GIRG_data/rec-github.SpaceOne\n",
      "/cluster/scratch/bdayan/GIRG_data/web-sk-2005.SpaceOne\n",
      "/cluster/scratch/bdayan/GIRG_data/ia-wiki-trust-dir.SpaceOne\n",
      "/cluster/scratch/bdayan/GIRG_data/soc-catster.SpaceOne\n",
      "/cluster/scratch/bdayan/GIRG_data/soc-douban.SpaceOne\n",
      "/cluster/scratch/bdayan/GIRG_data/web-arabic-2005.SpaceOne\n",
      "/cluster/scratch/bdayan/GIRG_data/rec-dating.SpaceOne\n",
      "/cluster/scratch/bdayan/GIRG_data/tech-RL-caida.SpaceOne\n",
      "/cluster/scratch/bdayan/GIRG_data/soc-gowalla.SpaceOne\n",
      "/cluster/scratch/bdayan/GIRG_data/soc-academia.SpaceOne\n",
      "/cluster/scratch/bdayan/GIRG_data/soc-google-plus.SpaceOne\n",
      "/cluster/scratch/bdayan/GIRG_data/ia-email-EU-dir.SpaceOne\n",
      "/cluster/scratch/bdayan/GIRG_data/ca-dblp-2010.SpaceOne\n",
      "/cluster/scratch/bdayan/GIRG_data/ca-citeseer.SpaceOne\n",
      "/cluster/scratch/bdayan/GIRG_data/web-Stanford.SpaceOne\n",
      "/cluster/scratch/bdayan/GIRG_data/ca-dblp-2012.SpaceOne\n",
      "/cluster/scratch/bdayan/GIRG_data/web-italycnr-2000.SpaceOne\n",
      "/cluster/scratch/bdayan/GIRG_data/web-NotreDame.SpaceOne\n",
      "/cluster/scratch/bdayan/GIRG_data/ca-MathSciNet.SpaceOne\n",
      "/cluster/scratch/bdayan/GIRG_data/ia-dbpedia-team-bi.SpaceOne\n",
      "/cluster/scratch/bdayan/GIRG_data/web-baidu-baike-related.SpaceOne\n",
      "/cluster/scratch/bdayan/GIRG_data/soc-twitter-follows.SpaceOne\n",
      "/cluster/scratch/bdayan/GIRG_data/rt-higgs.SpaceOne\n",
      "/cluster/scratch/bdayan/GIRG_data/soc-dogster.SpaceOne\n",
      "/cluster/scratch/bdayan/GIRG_data/soc-twitter-higgs.SpaceOne\n",
      "/cluster/scratch/bdayan/GIRG_data/soc-twitter-follows-mun.SpaceOne\n",
      "/cluster/scratch/bdayan/GIRG_data/soc-youtube.SpaceOne\n",
      "/cluster/scratch/bdayan/GIRG_data/soc-flickr.SpaceOne\n",
      "/cluster/scratch/bdayan/GIRG_data/soc-delicious.SpaceOne\n",
      "/cluster/scratch/bdayan/GIRG_data/ca-coauthors-dblp.SpaceOne\n",
      "/cluster/scratch/bdayan/GIRG_data/web-BerkStan-dir.SpaceOne\n",
      "/cluster/scratch/bdayan/GIRG_data/web-google-dir.SpaceOne\n",
      "/cluster/scratch/bdayan/GIRG_data/ca-IMDB.SpaceOne\n",
      "/cluster/scratch/bdayan/GIRG_data/rt-retweet-crawl.SpaceOne\n",
      "/cluster/scratch/bdayan/GIRG_data/tech-as-skitter.SpaceOne\n"
     ]
    }
   ],
   "source": [
    "import glob\n",
    "data_dir = '/cluster/scratch/bdayan/GIRG_data/'\n",
    "\n",
    "graph_name_group_pairs = in_df[['Graph', 'Type']].to_numpy()\n",
    "graph_dicts = []\n",
    "for graph_name, group in graph_name_group_pairs:\n",
    "    fn = glob.glob(data_dir + graph_name + '.*')[0]\n",
    "    print(fn)\n",
    "    graph_dict = {\"Group\": group, \"FullPath\": fn, \"Name\": graph_name}\n",
    "    graph_dicts.append(graph_dict)"
   ]
  },
  {
   "cell_type": "code",
   "execution_count": 42,
   "metadata": {},
   "outputs": [
    {
     "data": {
      "text/plain": [
       "[{'Group': 'bn',\n",
       "  'FullPath': '/cluster/scratch/bdayan/GIRG_data/bn-macaque-rhesus_brain_1.SpaceOne',\n",
       "  'Name': 'bn-macaque-rhesus_brain_1'},\n",
       " {'Group': 'bn',\n",
       "  'FullPath': '/cluster/scratch/bdayan/GIRG_data/bn-fly-drosophila_medulla_1.SpaceOne',\n",
       "  'Name': 'bn-fly-drosophila_medulla_1'},\n",
       " {'Group': 'bn',\n",
       "  'FullPath': '/cluster/scratch/bdayan/GIRG_data/bn-human-BNU_1_0025889_session_2.SpaceOne',\n",
       "  'Name': 'bn-human-BNU_1_0025889_session_2'},\n",
       " {'Group': 'bn',\n",
       "  'FullPath': '/cluster/scratch/bdayan/GIRG_data/bn-human-BNU_1_0025873_session_1-bg.SpaceOne',\n",
       "  'Name': 'bn-human-BNU_1_0025873_session_1-bg'}]"
      ]
     },
     "execution_count": 42,
     "metadata": {},
     "output_type": "execute_result"
    }
   ],
   "source": [
    "graph_dicts_bn = [x for x in graph_dicts if x['Group'] == 'bn']\n",
    "graph_dicts_bn"
   ]
  },
  {
   "cell_type": "code",
   "execution_count": 43,
   "metadata": {},
   "outputs": [],
   "source": [
    "import networkit as nk\n",
    "\n",
    "g = nk.readGraph('/cluster/scratch/bdayan/GIRG_data/bio-yeast.SpaceOne', nk.Format.EdgeListSpaceOne)"
   ]
  },
  {
   "cell_type": "code",
   "execution_count": 44,
   "metadata": {},
   "outputs": [
    {
     "data": {
      "text/plain": [
       "1827236"
      ]
     },
     "execution_count": 44,
     "metadata": {},
     "output_type": "execute_result"
    }
   ],
   "source": [
    "g.numberOfNodes()"
   ]
  },
  {
   "cell_type": "code",
   "execution_count": 46,
   "metadata": {},
   "outputs": [
    {
     "data": {
      "text/plain": [
       "1827151"
      ]
     },
     "execution_count": 46,
     "metadata": {},
     "output_type": "execute_result"
    }
   ],
   "source": [
    "g = nk.readGraph('/cluster/scratch/bdayan/GIRG_data/bn-human-BNU_1_0025873_session_1-bg.SpaceOne', nk.Format.EdgeListSpaceOne)\n",
    "g.numberOfNodes()"
   ]
  },
  {
   "cell_type": "code",
   "execution_count": 45,
   "metadata": {},
   "outputs": [
    {
     "data": {
      "text/html": [
       "<div>\n",
       "<style scoped>\n",
       "    .dataframe tbody tr th:only-of-type {\n",
       "        vertical-align: middle;\n",
       "    }\n",
       "\n",
       "    .dataframe tbody tr th {\n",
       "        vertical-align: top;\n",
       "    }\n",
       "\n",
       "    .dataframe thead th {\n",
       "        text-align: right;\n",
       "    }\n",
       "</style>\n",
       "<table border=\"1\" class=\"dataframe\">\n",
       "  <thead>\n",
       "    <tr style=\"text-align: right;\">\n",
       "      <th></th>\n",
       "      <th>Graph</th>\n",
       "      <th>Model</th>\n",
       "      <th>Type</th>\n",
       "      <th>Nodes</th>\n",
       "      <th>Info</th>\n",
       "    </tr>\n",
       "  </thead>\n",
       "  <tbody>\n",
       "    <tr>\n",
       "      <th>1259</th>\n",
       "      <td>web-baidu-baike-related</td>\n",
       "      <td>real-world</td>\n",
       "      <td>web</td>\n",
       "      <td>372840</td>\n",
       "      <td>no info</td>\n",
       "    </tr>\n",
       "    <tr>\n",
       "      <th>1193</th>\n",
       "      <td>soc-twitter-follows</td>\n",
       "      <td>real-world</td>\n",
       "      <td>soc</td>\n",
       "      <td>404719</td>\n",
       "      <td>no info</td>\n",
       "    </tr>\n",
       "    <tr>\n",
       "      <th>821</th>\n",
       "      <td>rt-higgs</td>\n",
       "      <td>real-world</td>\n",
       "      <td>rt</td>\n",
       "      <td>424075</td>\n",
       "      <td>no info</td>\n",
       "    </tr>\n",
       "    <tr>\n",
       "      <th>1055</th>\n",
       "      <td>soc-dogster</td>\n",
       "      <td>real-world</td>\n",
       "      <td>soc</td>\n",
       "      <td>426485</td>\n",
       "      <td>no info</td>\n",
       "    </tr>\n",
       "    <tr>\n",
       "      <th>1109</th>\n",
       "      <td>soc-twitter-higgs</td>\n",
       "      <td>real-world</td>\n",
       "      <td>soc</td>\n",
       "      <td>456293</td>\n",
       "      <td>no info</td>\n",
       "    </tr>\n",
       "    <tr>\n",
       "      <th>905</th>\n",
       "      <td>soc-twitter-follows-mun</td>\n",
       "      <td>real-world</td>\n",
       "      <td>soc</td>\n",
       "      <td>465017</td>\n",
       "      <td>no info</td>\n",
       "    </tr>\n",
       "    <tr>\n",
       "      <th>755</th>\n",
       "      <td>soc-youtube</td>\n",
       "      <td>real-world</td>\n",
       "      <td>soc</td>\n",
       "      <td>495957</td>\n",
       "      <td>no info</td>\n",
       "    </tr>\n",
       "    <tr>\n",
       "      <th>929</th>\n",
       "      <td>soc-flickr</td>\n",
       "      <td>real-world</td>\n",
       "      <td>soc</td>\n",
       "      <td>513969</td>\n",
       "      <td>no info</td>\n",
       "    </tr>\n",
       "    <tr>\n",
       "      <th>701</th>\n",
       "      <td>soc-delicious</td>\n",
       "      <td>real-world</td>\n",
       "      <td>soc</td>\n",
       "      <td>536108</td>\n",
       "      <td>no info</td>\n",
       "    </tr>\n",
       "    <tr>\n",
       "      <th>1301</th>\n",
       "      <td>ca-coauthors-dblp</td>\n",
       "      <td>real-world</td>\n",
       "      <td>ca</td>\n",
       "      <td>540486</td>\n",
       "      <td>no info</td>\n",
       "    </tr>\n",
       "    <tr>\n",
       "      <th>83</th>\n",
       "      <td>web-BerkStan-dir</td>\n",
       "      <td>real-world</td>\n",
       "      <td>web</td>\n",
       "      <td>654782</td>\n",
       "      <td>no info</td>\n",
       "    </tr>\n",
       "    <tr>\n",
       "      <th>143</th>\n",
       "      <td>web-google-dir</td>\n",
       "      <td>real-world</td>\n",
       "      <td>web</td>\n",
       "      <td>855802</td>\n",
       "      <td>no info</td>\n",
       "    </tr>\n",
       "    <tr>\n",
       "      <th>179</th>\n",
       "      <td>ca-IMDB</td>\n",
       "      <td>real-world</td>\n",
       "      <td>ca</td>\n",
       "      <td>896305</td>\n",
       "      <td>no info</td>\n",
       "    </tr>\n",
       "    <tr>\n",
       "      <th>1313</th>\n",
       "      <td>rt-retweet-crawl</td>\n",
       "      <td>real-world</td>\n",
       "      <td>rt</td>\n",
       "      <td>1112702</td>\n",
       "      <td>no info</td>\n",
       "    </tr>\n",
       "    <tr>\n",
       "      <th>1307</th>\n",
       "      <td>tech-as-skitter</td>\n",
       "      <td>real-world</td>\n",
       "      <td>tech</td>\n",
       "      <td>1694616</td>\n",
       "      <td>no info</td>\n",
       "    </tr>\n",
       "  </tbody>\n",
       "</table>\n",
       "</div>"
      ],
      "text/plain": [
       "                        Graph       Model  Type    Nodes     Info\n",
       "1259  web-baidu-baike-related  real-world   web   372840  no info\n",
       "1193      soc-twitter-follows  real-world   soc   404719  no info\n",
       "821                  rt-higgs  real-world    rt   424075  no info\n",
       "1055              soc-dogster  real-world   soc   426485  no info\n",
       "1109        soc-twitter-higgs  real-world   soc   456293  no info\n",
       "905   soc-twitter-follows-mun  real-world   soc   465017  no info\n",
       "755               soc-youtube  real-world   soc   495957  no info\n",
       "929                soc-flickr  real-world   soc   513969  no info\n",
       "701             soc-delicious  real-world   soc   536108  no info\n",
       "1301        ca-coauthors-dblp  real-world    ca   540486  no info\n",
       "83           web-BerkStan-dir  real-world   web   654782  no info\n",
       "143            web-google-dir  real-world   web   855802  no info\n",
       "179                   ca-IMDB  real-world    ca   896305  no info\n",
       "1313         rt-retweet-crawl  real-world    rt  1112702  no info\n",
       "1307          tech-as-skitter  real-world  tech  1694616  no info"
      ]
     },
     "execution_count": 45,
     "metadata": {},
     "output_type": "execute_result"
    }
   ],
   "source": []
  },
  {
   "cell_type": "code",
   "execution_count": 49,
   "metadata": {},
   "outputs": [
    {
     "data": {
      "text/html": [
       "<div>\n",
       "<style scoped>\n",
       "    .dataframe tbody tr th:only-of-type {\n",
       "        vertical-align: middle;\n",
       "    }\n",
       "\n",
       "    .dataframe tbody tr th {\n",
       "        vertical-align: top;\n",
       "    }\n",
       "\n",
       "    .dataframe thead th {\n",
       "        text-align: right;\n",
       "    }\n",
       "</style>\n",
       "<table border=\"1\" class=\"dataframe\">\n",
       "  <thead>\n",
       "    <tr style=\"text-align: right;\">\n",
       "      <th></th>\n",
       "      <th>Graph</th>\n",
       "      <th>Model</th>\n",
       "      <th>Type</th>\n",
       "      <th>Nodes</th>\n",
       "      <th>Info</th>\n",
       "    </tr>\n",
       "  </thead>\n",
       "  <tbody>\n",
       "    <tr>\n",
       "      <th>827</th>\n",
       "      <td>bn-macaque-rhesus_brain_1</td>\n",
       "      <td>real-world</td>\n",
       "      <td>bn</td>\n",
       "      <td>242</td>\n",
       "      <td>no info</td>\n",
       "    </tr>\n",
       "    <tr>\n",
       "      <th>923</th>\n",
       "      <td>bn-fly-drosophila_medulla_1</td>\n",
       "      <td>real-world</td>\n",
       "      <td>bn</td>\n",
       "      <td>1770</td>\n",
       "      <td>no info</td>\n",
       "    </tr>\n",
       "    <tr>\n",
       "      <th>611</th>\n",
       "      <td>bn-human-BNU_1_0025889_session_2</td>\n",
       "      <td>real-world</td>\n",
       "      <td>bn</td>\n",
       "      <td>11382</td>\n",
       "      <td>no info</td>\n",
       "    </tr>\n",
       "    <tr>\n",
       "      <th>1079</th>\n",
       "      <td>bn-human-BNU_1_0025873_session_1-bg</td>\n",
       "      <td>real-world</td>\n",
       "      <td>bn</td>\n",
       "      <td>92043</td>\n",
       "      <td>no info</td>\n",
       "    </tr>\n",
       "  </tbody>\n",
       "</table>\n",
       "</div>"
      ],
      "text/plain": [
       "                                    Graph       Model Type  Nodes     Info\n",
       "827             bn-macaque-rhesus_brain_1  real-world   bn    242  no info\n",
       "923           bn-fly-drosophila_medulla_1  real-world   bn   1770  no info\n",
       "611      bn-human-BNU_1_0025889_session_2  real-world   bn  11382  no info\n",
       "1079  bn-human-BNU_1_0025873_session_1-bg  real-world   bn  92043  no info"
      ]
     },
     "execution_count": 49,
     "metadata": {},
     "output_type": "execute_result"
    }
   ],
   "source": [
    "in_df_mini.loc[in_df.Type == 'bn']"
   ]
  },
  {
   "cell_type": "code",
   "execution_count": null,
   "metadata": {},
   "outputs": [],
   "source": [
    "alpha = 1.3\n",
    "for _ in range(10):\n",
    "    alpha = utils.scale_param()"
   ]
  },
  {
   "cell_type": "code",
   "execution_count": 39,
   "metadata": {},
   "outputs": [],
   "source": [
    "df2 = pd.read_csv('/cluster/home/bdayan/girgs/nemo-eva/data-paper/3-cleaned_features/results.csv')"
   ]
  },
  {
   "cell_type": "code",
   "execution_count": 40,
   "metadata": {},
   "outputs": [
    {
     "data": {
      "text/plain": [
       "(1314, 243)"
      ]
     },
     "execution_count": 40,
     "metadata": {},
     "output_type": "execute_result"
    }
   ],
   "source": [
    "df2.shape"
   ]
  },
  {
   "cell_type": "code",
   "execution_count": 41,
   "metadata": {},
   "outputs": [],
   "source": [
    "df2 = df2.loc[df2.Model == 'real-world']"
   ]
  },
  {
   "cell_type": "code",
   "execution_count": 42,
   "metadata": {},
   "outputs": [],
   "source": [
    "df2 = df2.sort_values('Nodes')"
   ]
  },
  {
   "cell_type": "code",
   "execution_count": 43,
   "metadata": {},
   "outputs": [
    {
     "data": {
      "text/html": [
       "<div>\n",
       "<style scoped>\n",
       "    .dataframe tbody tr th:only-of-type {\n",
       "        vertical-align: middle;\n",
       "    }\n",
       "\n",
       "    .dataframe tbody tr th {\n",
       "        vertical-align: top;\n",
       "    }\n",
       "\n",
       "    .dataframe thead th {\n",
       "        text-align: right;\n",
       "    }\n",
       "</style>\n",
       "<table border=\"1\" class=\"dataframe\">\n",
       "  <thead>\n",
       "    <tr style=\"text-align: right;\">\n",
       "      <th></th>\n",
       "      <th>Graph</th>\n",
       "      <th>Model</th>\n",
       "      <th>Nodes</th>\n",
       "      <th>Info</th>\n",
       "    </tr>\n",
       "  </thead>\n",
       "  <tbody>\n",
       "    <tr>\n",
       "      <th>725</th>\n",
       "      <td>ia-enron-only</td>\n",
       "      <td>real-world</td>\n",
       "      <td>143</td>\n",
       "      <td>no info</td>\n",
       "    </tr>\n",
       "    <tr>\n",
       "      <th>827</th>\n",
       "      <td>bn-macaque-rhesus_brain_1</td>\n",
       "      <td>real-world</td>\n",
       "      <td>242</td>\n",
       "      <td>no info</td>\n",
       "    </tr>\n",
       "    <tr>\n",
       "      <th>59</th>\n",
       "      <td>inf-USAir97</td>\n",
       "      <td>real-world</td>\n",
       "      <td>332</td>\n",
       "      <td>no info</td>\n",
       "    </tr>\n",
       "    <tr>\n",
       "      <th>395</th>\n",
       "      <td>ca-netscience</td>\n",
       "      <td>real-world</td>\n",
       "      <td>379</td>\n",
       "      <td>no info</td>\n",
       "    </tr>\n",
       "    <tr>\n",
       "      <th>215</th>\n",
       "      <td>ia-infect-dublin</td>\n",
       "      <td>real-world</td>\n",
       "      <td>410</td>\n",
       "      <td>no info</td>\n",
       "    </tr>\n",
       "    <tr>\n",
       "      <th>...</th>\n",
       "      <td>...</td>\n",
       "      <td>...</td>\n",
       "      <td>...</td>\n",
       "      <td>...</td>\n",
       "    </tr>\n",
       "    <tr>\n",
       "      <th>83</th>\n",
       "      <td>web-BerkStan-dir</td>\n",
       "      <td>real-world</td>\n",
       "      <td>654782</td>\n",
       "      <td>no info</td>\n",
       "    </tr>\n",
       "    <tr>\n",
       "      <th>143</th>\n",
       "      <td>web-google-dir</td>\n",
       "      <td>real-world</td>\n",
       "      <td>855802</td>\n",
       "      <td>no info</td>\n",
       "    </tr>\n",
       "    <tr>\n",
       "      <th>179</th>\n",
       "      <td>ca-IMDB</td>\n",
       "      <td>real-world</td>\n",
       "      <td>896305</td>\n",
       "      <td>no info</td>\n",
       "    </tr>\n",
       "    <tr>\n",
       "      <th>1313</th>\n",
       "      <td>rt-retweet-crawl</td>\n",
       "      <td>real-world</td>\n",
       "      <td>1112702</td>\n",
       "      <td>no info</td>\n",
       "    </tr>\n",
       "    <tr>\n",
       "      <th>1307</th>\n",
       "      <td>tech-as-skitter</td>\n",
       "      <td>real-world</td>\n",
       "      <td>1694616</td>\n",
       "      <td>no info</td>\n",
       "    </tr>\n",
       "  </tbody>\n",
       "</table>\n",
       "<p>219 rows × 4 columns</p>\n",
       "</div>"
      ],
      "text/plain": [
       "                          Graph       Model    Nodes     Info\n",
       "725               ia-enron-only  real-world      143  no info\n",
       "827   bn-macaque-rhesus_brain_1  real-world      242  no info\n",
       "59                  inf-USAir97  real-world      332  no info\n",
       "395               ca-netscience  real-world      379  no info\n",
       "215            ia-infect-dublin  real-world      410  no info\n",
       "...                         ...         ...      ...      ...\n",
       "83             web-BerkStan-dir  real-world   654782  no info\n",
       "143              web-google-dir  real-world   855802  no info\n",
       "179                     ca-IMDB  real-world   896305  no info\n",
       "1313           rt-retweet-crawl  real-world  1112702  no info\n",
       "1307            tech-as-skitter  real-world  1694616  no info\n",
       "\n",
       "[219 rows x 4 columns]"
      ]
     },
     "execution_count": 43,
     "metadata": {},
     "output_type": "execute_result"
    }
   ],
   "source": [
    "df2.loc[:, ['Graph', 'Model', 'Nodes', 'Info']]"
   ]
  },
  {
   "cell_type": "code",
   "execution_count": 55,
   "metadata": {},
   "outputs": [
    {
     "data": {
      "text/plain": [
       "array([['ia-enron-only', 'ia'],\n",
       "       ['bn-macaque-rhesus_brain_1', 'bn'],\n",
       "       ['inf-USAir97', 'inf'],\n",
       "       ['ca-netscience', 'ca'],\n",
       "       ['ia-infect-dublin', 'ia'],\n",
       "       ['bio-celegans', 'bio'],\n",
       "       ['bio-celegans-dir', 'bio'],\n",
       "       ['bio-diseasome', 'bio'],\n",
       "       ['web-polblogs', 'web'],\n",
       "       ['rt-twitter-copen', 'rt'],\n",
       "       ['socfb-Caltech36', 'socfb'],\n",
       "       ['soc-wiki-Vote', 'soc'],\n",
       "       ['socfb-Reed98', 'socfb'],\n",
       "       ['inf-euroroad', 'inf'],\n",
       "       ['ia-email-univ', 'ia'],\n",
       "       ['ia-fb-messages', 'ia'],\n",
       "       ['web-google', 'web'],\n",
       "       ['socfb-Haverford76', 'socfb'],\n",
       "       ['bio-yeast', 'bio'],\n",
       "       ['bio-yeast-protein-inter', 'bio'],\n",
       "       ['socfb-Simmons81', 'socfb'],\n",
       "       ['socfb-Swarthmore42', 'socfb'],\n",
       "       ['bn-fly-drosophila_medulla_1', 'bn'],\n",
       "       ['soc-hamsterster', 'soc'],\n",
       "       ['tech-routers-rf', 'tech'],\n",
       "       ['socfb-Amherst41', 'socfb'],\n",
       "       ['socfb-Bowdoin47', 'socfb'],\n",
       "       ['socfb-Hamilton46', 'socfb'],\n",
       "       ['socfb-Trinity100', 'socfb'],\n",
       "       ['socfb-USFCA72', 'socfb'],\n",
       "       ['socfb-Williams40', 'socfb'],\n",
       "       ['socfb-nips-ego', 'socfb'],\n",
       "       ['inf-openflights', 'inf'],\n",
       "       ['socfb-Oberlin44', 'socfb'],\n",
       "       ['socfb-Wellesley22', 'socfb'],\n",
       "       ['socfb-Smith60', 'socfb'],\n",
       "       ['web-edu', 'web'],\n",
       "       ['socfb-Vassar85', 'socfb'],\n",
       "       ['socfb-Middlebury45', 'socfb'],\n",
       "       ['socfb-Pepperdine86', 'socfb'],\n",
       "       ['socfb-Colgate88', 'socfb'],\n",
       "       ['socfb-Santa74', 'socfb'],\n",
       "       ['socfb-Wesleyan43', 'socfb'],\n",
       "       ['socfb-Mich67', 'socfb'],\n",
       "       ['socfb-Bucknell39', 'socfb'],\n",
       "       ['socfb-Brandeis99', 'socfb'],\n",
       "       ['socfb-Howard90', 'socfb'],\n",
       "       ['socfb-Rice31', 'socfb'],\n",
       "       ['ca-GrQc', 'ca'],\n",
       "       ['web-EPA', 'web'],\n",
       "       ['socfb-Rochester38', 'socfb'],\n",
       "       ['web-spam', 'web'],\n",
       "       ['inf-power', 'inf'],\n",
       "       ['ca-Erdos992', 'ca'],\n",
       "       ['soc-advogato', 'soc'],\n",
       "       ['socfb-Lehigh96', 'socfb'],\n",
       "       ['socfb-JohnsHopkins55', 'socfb'],\n",
       "       ['socfb-Wake73', 'socfb'],\n",
       "       ['socfb-American75', 'socfb'],\n",
       "       ['socfb-MIT8', 'socfb'],\n",
       "       ['socfb-MIT', 'socfb'],\n",
       "       ['socfb-William77', 'socfb'],\n",
       "       ['socfb-UChicago30', 'socfb'],\n",
       "       ['socfb-Princeton12', 'socfb'],\n",
       "       ['socfb-Carnegie49', 'socfb'],\n",
       "       ['socfb-CMU', 'socfb'],\n",
       "       ['socfb-Tufts18', 'socfb'],\n",
       "       ['ia-reality', 'ia'],\n",
       "       ['socfb-UC64', 'socfb'],\n",
       "       ['soc-wiki-elec', 'soc'],\n",
       "       ['socfb-Vermont70', 'socfb'],\n",
       "       ['bio-dmela', 'bio'],\n",
       "       ['socfb-Emory27', 'socfb'],\n",
       "       ['tech-WHOIS', 'tech'],\n",
       "       ['rec-movielens-user-movies-10m', 'rec'],\n",
       "       ['socfb-Dartmouth6', 'socfb'],\n",
       "       ['socfb-WashU32', 'socfb'],\n",
       "       ['socfb-Tulane29', 'socfb'],\n",
       "       ['socfb-Villanova62', 'socfb'],\n",
       "       ['socfb-Vanderbilt48', 'socfb'],\n",
       "       ['socfb-Yale4', 'socfb'],\n",
       "       ['socfb-Brown11', 'socfb'],\n",
       "       ['socfb-UCSC68', 'socfb'],\n",
       "       ['socfb-Maine59', 'socfb'],\n",
       "       ['socfb-Georgetown15', 'socfb'],\n",
       "       ['socfb-Duke14', 'socfb'],\n",
       "       ['socfb-Bingham82', 'socfb'],\n",
       "       ['ia-escorts-dynamic', 'ia'],\n",
       "       ['socfb-Mississippi66', 'socfb'],\n",
       "       ['socfb-Northwestern25', 'socfb'],\n",
       "       ['tech-pgp', 'tech'],\n",
       "       ['ca-HepPh', 'ca'],\n",
       "       ['socfb-Cal65', 'socfb'],\n",
       "       ['web-indochina-2004', 'web'],\n",
       "       ['bn-human-BNU_1_0025889_session_2', 'bn'],\n",
       "       ['socfb-BC17', 'socfb'],\n",
       "       ['socfb-Stanford3', 'socfb'],\n",
       "       ['socfb-Columbia2', 'socfb'],\n",
       "       ['socfb-NotreDame57', 'socfb'],\n",
       "       ['socfb-GWU54', 'socfb'],\n",
       "       ['web-BerkStan', 'web'],\n",
       "       ['soc-anybeat', 'soc'],\n",
       "       ['socfb-Baylor93', 'socfb'],\n",
       "       ['socfb-USF51', 'socfb'],\n",
       "       ['socfb-Syracuse56', 'socfb'],\n",
       "       ['socfb-Temple83', 'socfb'],\n",
       "       ['socfb-UC61', 'socfb'],\n",
       "       ['socfb-Northeastern19', 'socfb'],\n",
       "       ['socfb-JMU79', 'socfb'],\n",
       "       ['socfb-UPenn7', 'socfb'],\n",
       "       ['socfb-UCSB37', 'socfb'],\n",
       "       ['socfb-UCSD34', 'socfb'],\n",
       "       ['socfb-UCF52', 'socfb'],\n",
       "       ['socfb-Harvard1', 'socfb'],\n",
       "       ['socfb-MU78', 'socfb'],\n",
       "       ['web-webbase-2001', 'web'],\n",
       "       ['socfb-UMass92', 'socfb'],\n",
       "       ['rec-movielens-tag-movies-10m', 'rec'],\n",
       "       ['socfb-UC33', 'socfb'],\n",
       "       ['socfb-Tennessee95', 'socfb'],\n",
       "       ['socfb-UVA16', 'socfb'],\n",
       "       ['socfb-UConn', 'socfb'],\n",
       "       ['socfb-UConn91', 'socfb'],\n",
       "       ['socfb-Oklahoma97', 'socfb'],\n",
       "       ['socfb-USC35', 'socfb'],\n",
       "       ['ca-AstroPh', 'ca'],\n",
       "       ['socfb-UNC28', 'socfb'],\n",
       "       ['socfb-Auburn71', 'socfb'],\n",
       "       ['socfb-Cornell5', 'socfb'],\n",
       "       ['socfb-BU10', 'socfb'],\n",
       "       ['socfb-UCLA26', 'socfb'],\n",
       "       ['socfb-UCLA', 'socfb'],\n",
       "       ['socfb-Maryland58', 'socfb'],\n",
       "       ['socfb-Virginia63', 'socfb'],\n",
       "       ['ca-CondMat', 'ca'],\n",
       "       ['socfb-NYU9', 'socfb'],\n",
       "       ['socfb-Berkeley13', 'socfb'],\n",
       "       ['soc-gplus', 'soc'],\n",
       "       ['socfb-Wisconsin87', 'socfb'],\n",
       "       ['socfb-UGA50', 'socfb'],\n",
       "       ['socfb-Rutgers89', 'socfb'],\n",
       "       ['web-frwikinews-user-edits', 'web'],\n",
       "       ['tech-as-caida2007', 'tech'],\n",
       "       ['soc-epinions', 'soc'],\n",
       "       ['socfb-FSU53', 'socfb'],\n",
       "       ['socfb-Indiana', 'socfb'],\n",
       "       ['socfb-Indiana69', 'socfb'],\n",
       "       ['socfb-Michigan23', 'socfb'],\n",
       "       ['socfb-UIllinois20', 'socfb'],\n",
       "       ['socfb-UIllinois', 'socfb'],\n",
       "       ['socfb-Texas80', 'socfb'],\n",
       "       ['socfb-MSU24', 'socfb'],\n",
       "       ['ia-email-EU', 'ia'],\n",
       "       ['ia-enron-large', 'ia'],\n",
       "       ['socfb-UF', 'socfb'],\n",
       "       ['socfb-UF21', 'socfb'],\n",
       "       ['socfb-Texas84', 'socfb'],\n",
       "       ['tech-internet-as', 'tech'],\n",
       "       ['socfb-Penn94', 'socfb'],\n",
       "       ['rec-yelp-user-business', 'rec'],\n",
       "       ['soc-brightkite', 'soc'],\n",
       "       ['soc-loc-brightkite', 'soc'],\n",
       "       ['rec-eachmovie', 'rec'],\n",
       "       ['tech-p2p-gnutella', 'tech'],\n",
       "       ['socfb-wosn-friends', 'socfb'],\n",
       "       ['socfb-OR', 'socfb'],\n",
       "       ['soc-themarker', 'soc'],\n",
       "       ['soc-slashdot', 'soc'],\n",
       "       ['rec-movielens', 'rec'],\n",
       "       ['soc-sign-Slashdot081106', 'soc'],\n",
       "       ['soc-Slashdot0811', 'soc'],\n",
       "       ['soc-slashdot-trust-all', 'soc'],\n",
       "       ['soc-slashdot-zoo', 'soc'],\n",
       "       ['soc-sign-Slashdot090216', 'soc'],\n",
       "       ['soc-sign-Slashdot090221', 'soc'],\n",
       "       ['soc-Slashdot0902', 'soc'],\n",
       "       ['ia-enron-email-dynamic', 'ia'],\n",
       "       ['rec-amazon', 'rec'],\n",
       "       ['bn-human-BNU_1_0025873_session_1-bg', 'bn'],\n",
       "       ['ia-wiki-Talk', 'ia'],\n",
       "       ['ia-wikiquote-user-edits', 'ia'],\n",
       "       ['soc-buzznet', 'soc'],\n",
       "       ['soc-LiveMocha', 'soc'],\n",
       "       ['soc-sign-epinions', 'soc'],\n",
       "       ['rec-github', 'rec'],\n",
       "       ['web-sk-2005', 'web'],\n",
       "       ['ia-wiki-trust-dir', 'ia'],\n",
       "       ['soc-catster', 'soc'],\n",
       "       ['soc-douban', 'soc'],\n",
       "       ['web-arabic-2005', 'web'],\n",
       "       ['rec-dating', 'rec'],\n",
       "       ['tech-RL-caida', 'tech'],\n",
       "       ['soc-gowalla', 'soc'],\n",
       "       ['soc-academia', 'soc'],\n",
       "       ['soc-google-plus', 'soc'],\n",
       "       ['ia-email-EU-dir', 'ia'],\n",
       "       ['ca-dblp-2010', 'ca'],\n",
       "       ['ca-citeseer', 'ca'],\n",
       "       ['web-Stanford', 'web'],\n",
       "       ['ca-dblp-2012', 'ca'],\n",
       "       ['web-italycnr-2000', 'web'],\n",
       "       ['web-NotreDame', 'web'],\n",
       "       ['ca-MathSciNet', 'ca'],\n",
       "       ['ia-dbpedia-team-bi', 'ia'],\n",
       "       ['web-baidu-baike-related', 'web'],\n",
       "       ['soc-twitter-follows', 'soc'],\n",
       "       ['rt-higgs', 'rt'],\n",
       "       ['soc-dogster', 'soc'],\n",
       "       ['soc-twitter-higgs', 'soc'],\n",
       "       ['soc-twitter-follows-mun', 'soc'],\n",
       "       ['soc-youtube', 'soc'],\n",
       "       ['soc-flickr', 'soc'],\n",
       "       ['soc-delicious', 'soc'],\n",
       "       ['ca-coauthors-dblp', 'ca'],\n",
       "       ['web-BerkStan-dir', 'web'],\n",
       "       ['web-google-dir', 'web'],\n",
       "       ['ca-IMDB', 'ca'],\n",
       "       ['rt-retweet-crawl', 'rt'],\n",
       "       ['tech-as-skitter', 'tech']], dtype=object)"
      ]
     },
     "execution_count": 55,
     "metadata": {},
     "output_type": "execute_result"
    }
   ],
   "source": [
    "pairs"
   ]
  },
  {
   "cell_type": "code",
   "execution_count": 54,
   "metadata": {},
   "outputs": [
    {
     "name": "stdout",
     "output_type": "stream",
     "text": [
      "ia-enron-only ia\n",
      "bn-macaque-rhesus_brain_1 bn\n",
      "inf-USAir97 inf\n",
      "ca-netscience ca\n",
      "ia-infect-dublin ia\n",
      "bio-celegans bio\n",
      "bio-celegans-dir bio\n",
      "bio-diseasome bio\n",
      "web-polblogs web\n",
      "rt-twitter-copen rt\n",
      "socfb-Caltech36 socfb\n",
      "soc-wiki-Vote soc\n",
      "socfb-Reed98 socfb\n",
      "inf-euroroad inf\n",
      "ia-email-univ ia\n",
      "ia-fb-messages ia\n",
      "web-google web\n",
      "socfb-Haverford76 socfb\n",
      "bio-yeast bio\n",
      "bio-yeast-protein-inter bio\n",
      "socfb-Simmons81 socfb\n",
      "socfb-Swarthmore42 socfb\n",
      "bn-fly-drosophila_medulla_1 bn\n",
      "soc-hamsterster soc\n",
      "tech-routers-rf tech\n",
      "socfb-Amherst41 socfb\n",
      "socfb-Bowdoin47 socfb\n",
      "socfb-Hamilton46 socfb\n",
      "socfb-Trinity100 socfb\n",
      "socfb-USFCA72 socfb\n",
      "socfb-Williams40 socfb\n",
      "socfb-nips-ego socfb\n",
      "inf-openflights inf\n",
      "socfb-Oberlin44 socfb\n",
      "socfb-Wellesley22 socfb\n",
      "socfb-Smith60 socfb\n",
      "web-edu web\n",
      "socfb-Vassar85 socfb\n",
      "socfb-Middlebury45 socfb\n",
      "socfb-Pepperdine86 socfb\n",
      "socfb-Colgate88 socfb\n",
      "socfb-Santa74 socfb\n",
      "socfb-Wesleyan43 socfb\n",
      "socfb-Mich67 socfb\n",
      "socfb-Bucknell39 socfb\n",
      "socfb-Brandeis99 socfb\n",
      "socfb-Howard90 socfb\n",
      "socfb-Rice31 socfb\n",
      "ca-GrQc ca\n",
      "web-EPA web\n",
      "socfb-Rochester38 socfb\n",
      "web-spam web\n",
      "inf-power inf\n",
      "ca-Erdos992 ca\n",
      "soc-advogato soc\n",
      "socfb-Lehigh96 socfb\n",
      "socfb-JohnsHopkins55 socfb\n",
      "socfb-Wake73 socfb\n",
      "socfb-American75 socfb\n",
      "socfb-MIT8 socfb\n",
      "socfb-MIT socfb\n",
      "socfb-William77 socfb\n",
      "socfb-UChicago30 socfb\n",
      "socfb-Princeton12 socfb\n",
      "socfb-Carnegie49 socfb\n",
      "socfb-CMU socfb\n",
      "socfb-Tufts18 socfb\n",
      "ia-reality ia\n",
      "socfb-UC64 socfb\n",
      "soc-wiki-elec soc\n",
      "socfb-Vermont70 socfb\n",
      "bio-dmela bio\n",
      "socfb-Emory27 socfb\n",
      "tech-WHOIS tech\n",
      "rec-movielens-user-movies-10m rec\n",
      "socfb-Dartmouth6 socfb\n",
      "socfb-WashU32 socfb\n",
      "socfb-Tulane29 socfb\n",
      "socfb-Villanova62 socfb\n",
      "socfb-Vanderbilt48 socfb\n",
      "socfb-Yale4 socfb\n",
      "socfb-Brown11 socfb\n",
      "socfb-UCSC68 socfb\n",
      "socfb-Maine59 socfb\n",
      "socfb-Georgetown15 socfb\n",
      "socfb-Duke14 socfb\n",
      "socfb-Bingham82 socfb\n",
      "ia-escorts-dynamic ia\n",
      "socfb-Mississippi66 socfb\n",
      "socfb-Northwestern25 socfb\n",
      "tech-pgp tech\n",
      "ca-HepPh ca\n",
      "socfb-Cal65 socfb\n",
      "web-indochina-2004 web\n",
      "bn-human-BNU_1_0025889_session_2 bn\n",
      "socfb-BC17 socfb\n",
      "socfb-Stanford3 socfb\n",
      "socfb-Columbia2 socfb\n",
      "socfb-NotreDame57 socfb\n",
      "socfb-GWU54 socfb\n",
      "web-BerkStan web\n",
      "soc-anybeat soc\n",
      "socfb-Baylor93 socfb\n",
      "socfb-USF51 socfb\n",
      "socfb-Syracuse56 socfb\n",
      "socfb-Temple83 socfb\n",
      "socfb-UC61 socfb\n",
      "socfb-Northeastern19 socfb\n",
      "socfb-JMU79 socfb\n",
      "socfb-UPenn7 socfb\n",
      "socfb-UCSB37 socfb\n",
      "socfb-UCSD34 socfb\n",
      "socfb-UCF52 socfb\n",
      "socfb-Harvard1 socfb\n",
      "socfb-MU78 socfb\n",
      "web-webbase-2001 web\n",
      "socfb-UMass92 socfb\n",
      "rec-movielens-tag-movies-10m rec\n",
      "socfb-UC33 socfb\n",
      "socfb-Tennessee95 socfb\n",
      "socfb-UVA16 socfb\n",
      "socfb-UConn socfb\n",
      "socfb-UConn91 socfb\n",
      "socfb-Oklahoma97 socfb\n",
      "socfb-USC35 socfb\n",
      "ca-AstroPh ca\n",
      "socfb-UNC28 socfb\n",
      "socfb-Auburn71 socfb\n",
      "socfb-Cornell5 socfb\n",
      "socfb-BU10 socfb\n",
      "socfb-UCLA26 socfb\n",
      "socfb-UCLA socfb\n",
      "socfb-Maryland58 socfb\n",
      "socfb-Virginia63 socfb\n",
      "ca-CondMat ca\n",
      "socfb-NYU9 socfb\n",
      "socfb-Berkeley13 socfb\n",
      "soc-gplus soc\n",
      "socfb-Wisconsin87 socfb\n",
      "socfb-UGA50 socfb\n",
      "socfb-Rutgers89 socfb\n",
      "web-frwikinews-user-edits web\n",
      "tech-as-caida2007 tech\n",
      "soc-epinions soc\n",
      "socfb-FSU53 socfb\n",
      "socfb-Indiana socfb\n",
      "socfb-Indiana69 socfb\n",
      "socfb-Michigan23 socfb\n",
      "socfb-UIllinois20 socfb\n",
      "socfb-UIllinois socfb\n",
      "socfb-Texas80 socfb\n",
      "socfb-MSU24 socfb\n",
      "ia-email-EU ia\n",
      "ia-enron-large ia\n",
      "socfb-UF socfb\n",
      "socfb-UF21 socfb\n",
      "socfb-Texas84 socfb\n",
      "tech-internet-as tech\n",
      "socfb-Penn94 socfb\n",
      "rec-yelp-user-business rec\n",
      "soc-brightkite soc\n",
      "soc-loc-brightkite soc\n",
      "rec-eachmovie rec\n",
      "tech-p2p-gnutella tech\n",
      "socfb-wosn-friends socfb\n",
      "socfb-OR socfb\n",
      "soc-themarker soc\n",
      "soc-slashdot soc\n",
      "rec-movielens rec\n",
      "soc-sign-Slashdot081106 soc\n",
      "soc-Slashdot0811 soc\n",
      "soc-slashdot-trust-all soc\n",
      "soc-slashdot-zoo soc\n",
      "soc-sign-Slashdot090216 soc\n",
      "soc-sign-Slashdot090221 soc\n",
      "soc-Slashdot0902 soc\n",
      "ia-enron-email-dynamic ia\n",
      "rec-amazon rec\n",
      "bn-human-BNU_1_0025873_session_1-bg bn\n",
      "ia-wiki-Talk ia\n",
      "ia-wikiquote-user-edits ia\n",
      "soc-buzznet soc\n",
      "soc-LiveMocha soc\n",
      "soc-sign-epinions soc\n",
      "rec-github rec\n",
      "web-sk-2005 web\n",
      "ia-wiki-trust-dir ia\n",
      "soc-catster soc\n",
      "soc-douban soc\n",
      "web-arabic-2005 web\n",
      "rec-dating rec\n",
      "tech-RL-caida tech\n",
      "soc-gowalla soc\n",
      "soc-academia soc\n",
      "soc-google-plus soc\n",
      "ia-email-EU-dir ia\n",
      "ca-dblp-2010 ca\n",
      "ca-citeseer ca\n",
      "web-Stanford web\n",
      "ca-dblp-2012 ca\n",
      "web-italycnr-2000 web\n",
      "web-NotreDame web\n",
      "ca-MathSciNet ca\n",
      "ia-dbpedia-team-bi ia\n",
      "web-baidu-baike-related web\n",
      "soc-twitter-follows soc\n",
      "rt-higgs rt\n",
      "soc-dogster soc\n",
      "soc-twitter-higgs soc\n",
      "soc-twitter-follows-mun soc\n",
      "soc-youtube soc\n",
      "soc-flickr soc\n",
      "soc-delicious soc\n",
      "ca-coauthors-dblp ca\n",
      "web-BerkStan-dir web\n",
      "web-google-dir web\n",
      "ca-IMDB ca\n",
      "rt-retweet-crawl rt\n",
      "tech-as-skitter tech\n"
     ]
    }
   ],
   "source": [
    "pairs = df2[['Graph', 'Type']].to_numpy()\n",
    "for a, b in pairs:\n",
    "    print(a, b)"
   ]
  },
  {
   "cell_type": "code",
   "execution_count": 46,
   "metadata": {},
   "outputs": [
    {
     "ename": "AttributeError",
     "evalue": "'DataFrame' object has no attribute 'rows'",
     "output_type": "error",
     "traceback": [
      "\u001B[0;31m---------------------------------------------------------------------------\u001B[0m",
      "\u001B[0;31mAttributeError\u001B[0m                            Traceback (most recent call last)",
      "Cell \u001B[0;32mIn[46], line 1\u001B[0m\n\u001B[0;32m----> 1\u001B[0m \u001B[38;5;28;01mfor\u001B[39;00m a, b \u001B[38;5;129;01min\u001B[39;00m \u001B[43mdf2\u001B[49m\u001B[38;5;241;43m.\u001B[39;49m\u001B[43mloc\u001B[49m\u001B[43m[\u001B[49m\u001B[43m:\u001B[49m\u001B[43m,\u001B[49m\u001B[43m \u001B[49m\u001B[43m[\u001B[49m\u001B[38;5;124;43m'\u001B[39;49m\u001B[38;5;124;43mGraph\u001B[39;49m\u001B[38;5;124;43m'\u001B[39;49m\u001B[43m,\u001B[49m\u001B[43m \u001B[49m\u001B[38;5;124;43m'\u001B[39;49m\u001B[38;5;124;43mModel\u001B[39;49m\u001B[38;5;124;43m'\u001B[39;49m\u001B[43m]\u001B[49m\u001B[43m]\u001B[49m\u001B[38;5;241;43m.\u001B[39;49m\u001B[43mrows\u001B[49m:\n\u001B[1;32m      2\u001B[0m     \u001B[38;5;28mprint\u001B[39m(a, b)\n",
      "File \u001B[0;32m~/girgs/venv/lib64/python3.8/site-packages/pandas/core/generic.py:5902\u001B[0m, in \u001B[0;36mNDFrame.__getattr__\u001B[0;34m(self, name)\u001B[0m\n\u001B[1;32m   5895\u001B[0m \u001B[38;5;28;01mif\u001B[39;00m (\n\u001B[1;32m   5896\u001B[0m     name \u001B[38;5;129;01mnot\u001B[39;00m \u001B[38;5;129;01min\u001B[39;00m \u001B[38;5;28mself\u001B[39m\u001B[38;5;241m.\u001B[39m_internal_names_set\n\u001B[1;32m   5897\u001B[0m     \u001B[38;5;129;01mand\u001B[39;00m name \u001B[38;5;129;01mnot\u001B[39;00m \u001B[38;5;129;01min\u001B[39;00m \u001B[38;5;28mself\u001B[39m\u001B[38;5;241m.\u001B[39m_metadata\n\u001B[1;32m   5898\u001B[0m     \u001B[38;5;129;01mand\u001B[39;00m name \u001B[38;5;129;01mnot\u001B[39;00m \u001B[38;5;129;01min\u001B[39;00m \u001B[38;5;28mself\u001B[39m\u001B[38;5;241m.\u001B[39m_accessors\n\u001B[1;32m   5899\u001B[0m     \u001B[38;5;129;01mand\u001B[39;00m \u001B[38;5;28mself\u001B[39m\u001B[38;5;241m.\u001B[39m_info_axis\u001B[38;5;241m.\u001B[39m_can_hold_identifiers_and_holds_name(name)\n\u001B[1;32m   5900\u001B[0m ):\n\u001B[1;32m   5901\u001B[0m     \u001B[38;5;28;01mreturn\u001B[39;00m \u001B[38;5;28mself\u001B[39m[name]\n\u001B[0;32m-> 5902\u001B[0m \u001B[38;5;28;01mreturn\u001B[39;00m \u001B[38;5;28;43mobject\u001B[39;49m\u001B[38;5;241;43m.\u001B[39;49m\u001B[38;5;21;43m__getattribute__\u001B[39;49m\u001B[43m(\u001B[49m\u001B[38;5;28;43mself\u001B[39;49m\u001B[43m,\u001B[49m\u001B[43m \u001B[49m\u001B[43mname\u001B[49m\u001B[43m)\u001B[49m\n",
      "\u001B[0;31mAttributeError\u001B[0m: 'DataFrame' object has no attribute 'rows'"
     ]
    }
   ],
   "source": [
    "for a, b in df2.loc[:, ['Graph', 'Model']].rows:\n",
    "    print(a, b)"
   ]
  },
  {
   "cell_type": "code",
   "execution_count": null,
   "metadata": {},
   "outputs": [],
   "source": []
  }
 ],
 "metadata": {
  "kernelspec": {
   "name": "python3",
   "language": "python",
   "display_name": "Python 3 (ipykernel)"
  },
  "language_info": {
   "codemirror_mode": {
    "name": "ipython",
    "version": 3
   },
   "file_extension": ".py",
   "mimetype": "text/x-python",
   "name": "python",
   "nbconvert_exporter": "python",
   "pygments_lexer": "ipython3",
   "version": "3.8.5"
  }
 },
 "nbformat": 4,
 "nbformat_minor": 4
}
