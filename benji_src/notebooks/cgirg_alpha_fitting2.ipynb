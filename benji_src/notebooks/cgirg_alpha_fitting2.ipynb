{
 "cells": [
  {
   "cell_type": "code",
   "execution_count": 1,
   "metadata": {},
   "outputs": [],
   "source": [
    "import sys\n",
    "sys.path.append('../')\n",
    "sys.path.append('../nemo-eva/src/')"
   ]
  },
  {
   "cell_type": "code",
   "execution_count": 2,
   "metadata": {},
   "outputs": [
    {
     "data": {
      "text/plain": [
       "['/cluster/home/bdayan/girgs/benji_src',\n",
       " '/cluster/apps/nss/gcc-6.3.0/python/3.8.5/x86_64/lib64/python38.zip',\n",
       " '/cluster/apps/nss/gcc-6.3.0/python/3.8.5/x86_64/lib64/python3.8',\n",
       " '/cluster/apps/nss/gcc-6.3.0/python/3.8.5/x86_64/lib64/python3.8/lib-dynload',\n",
       " '',\n",
       " '/cluster/home/bdayan/girgs/venv/lib64/python3.8/site-packages',\n",
       " '/cluster/home/bdayan/girgs/girg-sampling',\n",
       " '../',\n",
       " '../nemo-eva/src/']"
      ]
     },
     "execution_count": 2,
     "metadata": {},
     "output_type": "execute_result"
    }
   ],
   "source": [
    "import os\n",
    "os.getcwd()\n",
    "sys.path"
   ]
  },
  {
   "cell_type": "code",
   "execution_count": 9,
   "metadata": {},
   "outputs": [],
   "source": [
    "import numpy as np\n",
    "import pandas as pd\n",
    "\n",
    "import networkit as nk\n",
    "from benji_girgs import fitting, utils, generation, plotting\n",
    "\n",
    "import seaborn as sns\n",
    "import powerlaw\n",
    "import matplotlib.pyplot as plt\n",
    "import inspect\n",
    "import powerlaw\n",
    "\n",
    "from girg_sampling import girgs\n",
    "\n",
    "from IPython.core.interactiveshell import InteractiveShell\n",
    "InteractiveShell.ast_node_interactivity = \"all\""
   ]
  },
  {
   "cell_type": "code",
   "execution_count": 87,
   "metadata": {},
   "outputs": [
    {
     "data": {
      "text/plain": [
       "<module 'benji_girgs.fitting' from '/cluster/home/bdayan/girgs/benji_src/benji_girgs/fitting.py'>"
      ]
     },
     "execution_count": 87,
     "metadata": {},
     "output_type": "execute_result"
    },
    {
     "data": {
      "text/plain": [
       "<module 'benji_girgs.plotting' from '/cluster/home/bdayan/girgs/benji_src/benji_girgs/plotting.py'>"
      ]
     },
     "execution_count": 87,
     "metadata": {},
     "output_type": "execute_result"
    },
    {
     "data": {
      "text/plain": [
       "<module 'benji_girgs.generation' from '/cluster/home/bdayan/girgs/benji_src/benji_girgs/generation.py'>"
      ]
     },
     "execution_count": 87,
     "metadata": {},
     "output_type": "execute_result"
    }
   ],
   "source": [
    "import imp\n",
    "imp.reload(fitting)\n",
    "imp.reload(plotting)\n",
    "imp.reload(generation)\n",
    "from benji_girgs import generation"
   ]
  },
  {
   "cell_type": "code",
   "execution_count": 46,
   "metadata": {},
   "outputs": [
    {
     "name": "stdout",
     "output_type": "stream",
     "text": [
      "CPU times: user 5 µs, sys: 0 ns, total: 5 µs\n",
      "Wall time: 9.06 µs\n",
      "Network Properties:\n",
      "nodes, edges\t\t\t1458, 119\n",
      "directed?\t\t\tFalse\n",
      "weighted?\t\t\tFalse\n",
      "isolated nodes\t\t\t1259\n",
      "self-loops\t\t\t0\n",
      "density\t\t\t\t0.000112\n",
      "clustering coefficient\t\t0.005075\n",
      "min/max/avg degree\t\t0, 6, 0.163237\n",
      "degree assortativity\t\t0.188199\n",
      "number of connected components\t1342\n",
      "size of largest component\t9 (0.62 %)\n"
     ]
    }
   ],
   "source": [
    "%time\n",
    "n = 1458\n",
    "d = 1\n",
    "tau = 2.9848742153573937\n",
    "alpha=1.2161985029406228\n",
    "target_degree = 20.0\n",
    "const=0.009379502054907412\n",
    "\n",
    "g, edges, weights, pts, const, id2gnk = generation.cgirg_gen(n, d, tau, alpha, const=const)\n",
    "nk.overview(g)"
   ]
  },
  {
   "cell_type": "code",
   "execution_count": 36,
   "metadata": {},
   "outputs": [
    {
     "name": "stdout",
     "output_type": "stream",
     "text": [
      "Network Properties:\n",
      "nodes, edges\t\t\t1458, 149\n",
      "directed?\t\t\tFalse\n",
      "weighted?\t\t\tFalse\n",
      "isolated nodes\t\t\t1205\n",
      "self-loops\t\t\t0\n",
      "density\t\t\t\t0.000140\n",
      "clustering coefficient\t\t0.003544\n",
      "min/max/avg degree\t\t0, 8, 0.204390\n",
      "degree assortativity\t\t-0.016005\n",
      "number of connected components\t1311\n",
      "size of largest component\t11 (0.75 %)\n"
     ]
    }
   ],
   "source": [
    "nk.overview(g)"
   ]
  },
  {
   "cell_type": "code",
   "execution_count": 37,
   "metadata": {},
   "outputs": [
    {
     "data": {
      "text/plain": [
       "0.003543667123914038"
      ]
     },
     "execution_count": 37,
     "metadata": {},
     "output_type": "execute_result"
    }
   ],
   "source": [
    "utils.LCC(g)"
   ]
  },
  {
   "cell_type": "code",
   "execution_count": 38,
   "metadata": {},
   "outputs": [
    {
     "data": {
      "text/plain": [
       "0.16472683053939025"
      ]
     },
     "execution_count": 38,
     "metadata": {},
     "output_type": "execute_result"
    }
   ],
   "source": [
    "nk.globals.clustering(g)"
   ]
  },
  {
   "cell_type": "code",
   "execution_count": 40,
   "metadata": {},
   "outputs": [
    {
     "name": "stdout",
     "output_type": "stream",
     "text": [
      "Network Properties:\n",
      "nodes, edges\t\t\t1458, 1948\n",
      "directed?\t\t\tFalse\n",
      "weighted?\t\t\tFalse\n",
      "isolated nodes\t\t\t0\n",
      "self-loops\t\t\t0\n",
      "density\t\t\t\t0.001834\n",
      "clustering coefficient\t\t0.070830\n",
      "min/max/avg degree\t\t1, 56, 2.672154\n",
      "degree assortativity\t\t-0.205456\n",
      "number of connected components\t1\n",
      "size of largest component\t1458 (100.00 %)\n"
     ]
    }
   ],
   "source": [
    "g2 = nk.readGraph('/cluster/scratch/bdayan/GIRG_data/bio-yeast.SpaceOne', nk.Format.EdgeListSpaceOne)\n",
    "nk.overview(g2)"
   ]
  },
  {
   "cell_type": "code",
   "execution_count": null,
   "metadata": {},
   "outputs": [],
   "source": []
  },
  {
   "cell_type": "code",
   "execution_count": 22,
   "metadata": {},
   "outputs": [
    {
     "data": {
      "text/plain": [
       "['__class__',\n",
       " '__delattr__',\n",
       " '__dir__',\n",
       " '__doc__',\n",
       " '__eq__',\n",
       " '__format__',\n",
       " '__ge__',\n",
       " '__getattribute__',\n",
       " '__gt__',\n",
       " '__hash__',\n",
       " '__init__',\n",
       " '__init_subclass__',\n",
       " '__le__',\n",
       " '__lt__',\n",
       " '__ne__',\n",
       " '__new__',\n",
       " '__reduce__',\n",
       " '__reduce_ex__',\n",
       " '__repr__',\n",
       " '__setattr__',\n",
       " '__setstate__',\n",
       " '__sizeof__',\n",
       " '__str__',\n",
       " '__subclasshook__',\n",
       " 'centralization',\n",
       " 'hasFinished',\n",
       " 'maximum',\n",
       " 'ranking',\n",
       " 'run',\n",
       " 'score',\n",
       " 'scores']"
      ]
     },
     "execution_count": 22,
     "metadata": {},
     "output_type": "execute_result"
    }
   ],
   "source": [
    "dir(nk.centrality.LocalClusteringCoefficient(g))"
   ]
  },
  {
   "cell_type": "code",
   "execution_count": 30,
   "metadata": {},
   "outputs": [],
   "source": [
    "def get_largest_component(g):\n",
    "    \"\"\"Return the largest connected component of g\"\"\"\n",
    "    components = nk.components.ConnectedComponents(g)\n",
    "    components.run()\n",
    "    newGraph = components.extractLargestConnectedComponent(g, True)\n",
    "    return newGraph"
   ]
  },
  {
   "cell_type": "code",
   "execution_count": 31,
   "metadata": {},
   "outputs": [],
   "source": [
    "g2 = get_largest_component(g)"
   ]
  },
  {
   "cell_type": "code",
   "execution_count": 34,
   "metadata": {},
   "outputs": [
    {
     "name": "stdout",
     "output_type": "stream",
     "text": [
      "Network Properties:\n",
      "nodes, edges\t\t\t1458, 145\n",
      "directed?\t\t\tFalse\n",
      "weighted?\t\t\tFalse\n",
      "isolated nodes\t\t\t1238\n",
      "self-loops\t\t\t0\n",
      "density\t\t\t\t0.000137\n",
      "clustering coefficient\t\t0.003431\n",
      "min/max/avg degree\t\t0, 30, 0.198903\n",
      "degree assortativity\t\t0.032596\n",
      "number of connected components\t1315\n",
      "size of largest component\t55 (3.77 %)\n"
     ]
    }
   ],
   "source": [
    "nk.overview(g)"
   ]
  },
  {
   "cell_type": "code",
   "execution_count": 32,
   "metadata": {},
   "outputs": [
    {
     "data": {
      "text/plain": [
       "<networkit.centrality.LocalClusteringCoefficient at 0x2b41b1bc93d0>"
      ]
     },
     "execution_count": 32,
     "metadata": {},
     "output_type": "execute_result"
    },
    {
     "data": {
      "text/plain": [
       "[0.0,\n",
       " 0.0022988505747126436,\n",
       " 0.0,\n",
       " 0.0,\n",
       " 0.0,\n",
       " 0.0,\n",
       " 0.0,\n",
       " 0.0,\n",
       " 0.0,\n",
       " 0.0,\n",
       " 0.0,\n",
       " 0.0,\n",
       " 0.0,\n",
       " 0.0,\n",
       " 0.0,\n",
       " 0.0,\n",
       " 0.0,\n",
       " 0.0,\n",
       " 0.0,\n",
       " 0.0,\n",
       " 0.0,\n",
       " 0.0,\n",
       " 0.0,\n",
       " 0.0,\n",
       " 0.0,\n",
       " 0.0,\n",
       " 0.0,\n",
       " 1.0,\n",
       " 0.0,\n",
       " 0.0,\n",
       " 0.0,\n",
       " 0.0,\n",
       " 0.0,\n",
       " 0.0,\n",
       " 1.0,\n",
       " 0.0,\n",
       " 0.0,\n",
       " 0.0,\n",
       " 0.0,\n",
       " 0.0,\n",
       " 0.0,\n",
       " 0.0,\n",
       " 0.0,\n",
       " 0.0,\n",
       " 0.0,\n",
       " 0.0,\n",
       " 0.0,\n",
       " 0.0,\n",
       " 0.0,\n",
       " 0.0,\n",
       " 0.0,\n",
       " 0.0,\n",
       " 0.0,\n",
       " 0.0,\n",
       " 0.0]"
      ]
     },
     "execution_count": 32,
     "metadata": {},
     "output_type": "execute_result"
    }
   ],
   "source": [
    "foo = nk.centrality.LocalClusteringCoefficient(g2)\n",
    "foo.run()\n",
    "foo.scores()"
   ]
  },
  {
   "cell_type": "code",
   "execution_count": 11,
   "metadata": {},
   "outputs": [
    {
     "name": "stdout",
     "output_type": "stream",
     "text": [
      "CPU times: user 4min 2s, sys: 1.61 s, total: 4min 3s\n",
      "Wall time: 4min 1s\n"
     ]
    }
   ],
   "source": [
    "n=5000\n",
    "%time g, edges, weights, pts, const, id2gnk = generation.cgirg_gen(n, d, tau, alpha, desiredAvgDegree=target_degree)"
   ]
  },
  {
   "cell_type": "code",
   "execution_count": 10,
   "metadata": {},
   "outputs": [
    {
     "name": "stdout",
     "output_type": "stream",
     "text": [
      "CPU times: user 2.69 s, sys: 14.1 ms, total: 2.7 s\n",
      "Wall time: 2.68 s\n"
     ]
    }
   ],
   "source": [
    "scaled_weights = list(np.array(weights)*const)\n",
    "%time edges = girgs.generateEdges(scaled_weights, pts, alpha)"
   ]
  },
  {
   "cell_type": "code",
   "execution_count": 92,
   "metadata": {},
   "outputs": [
    {
     "name": "stdout",
     "output_type": "stream",
     "text": [
      "Calculating best minimal value for power law fit\n",
      "2.2411792804140456\n",
      "Calculating best minimal value for power law fit\n",
      "2.2411792804140456\n"
     ]
    },
    {
     "name": "stderr",
     "output_type": "stream",
     "text": [
      "Values less than or equal to 0 in data. Throwing out 0 or negative values\n",
      "Values less than or equal to 0 in data. Throwing out 0 or negative values\n"
     ]
    }
   ],
   "source": [
    "degrees = nk.centrality.DegreeCentrality(g).run().scores()\n",
    "fit = powerlaw.Fit(degrees, fit_method='Likelihood')\n",
    "print(fit.alpha)\n",
    "fit = powerlaw.Fit(degrees)\n",
    "print(fit.alpha)"
   ]
  },
  {
   "cell_type": "code",
   "execution_count": 14,
   "metadata": {},
   "outputs": [
    {
     "name": "stderr",
     "output_type": "stream",
     "text": [
      "Values less than or equal to 0 in data. Throwing out 0 or negative values\n"
     ]
    },
    {
     "name": "stdout",
     "output_type": "stream",
     "text": [
      "Calculating best minimal value for power law fit\n",
      "target_avg_degree: 19.790\n",
      "target_lcc: 0.626\n",
      "fit tau: 2.199\n",
      "const: 0.456\n",
      "lcc: 0.477 -> lcc2: 0.54; overshoot: False, scale:0.330, alpha: 1.429\n",
      "const: 0.512\n",
      "lcc: 0.542 -> lcc2: 0.68; overshoot: True, scale:0.165, alpha: 1.640\n",
      "const: 0.524\n",
      "lcc: 0.679 -> lcc2: 0.60; overshoot: True, scale:0.083, alpha: 1.534\n",
      "Fit! fit_count: -1; post_fit_steps: 2\n",
      "const: 0.564\n",
      "lcc: 0.602 -> lcc2: 0.60; overshoot: False, scale:0.091, alpha: 1.582\n",
      "const: 0.565\n",
      "lcc: 0.601 -> lcc2: 0.57; overshoot: False, scale:0.100, alpha: 1.640\n",
      "const: 0.628\n",
      "lcc: 0.569 -> lcc2: 0.61; overshoot: False, scale:0.110, alpha: 1.711\n",
      "const: 0.635\n",
      "lcc: 0.614 -> lcc2: 0.66; overshoot: True, scale:0.055, alpha: 1.799\n",
      "const: 0.577\n",
      "lcc: 0.664 -> lcc2: 0.65; overshoot: False, scale:0.060, alpha: 1.755\n",
      "const: 0.585\n",
      "lcc: 0.649 -> lcc2: 0.65; overshoot: False, scale:0.066, alpha: 1.710\n",
      "const: 0.630\n",
      "lcc: 0.651 -> lcc2: 0.62; overshoot: True, scale:0.033, alpha: 1.662\n",
      "const: 0.584\n",
      "lcc: 0.616 -> lcc2: 0.62; overshoot: False, scale:0.037, alpha: 1.685\n",
      "Fit! fit_count: 2; post_fit_steps: 2\n",
      "const: 0.621\n",
      "lcc: 0.616 -> lcc2: 0.55; overshoot: False, scale:0.040, alpha: 1.711\n",
      "const: 0.543\n",
      "lcc: 0.551 -> lcc2: 0.65; overshoot: True, scale:0.020, alpha: 1.741\n",
      "Fit! fit_count: 0; post_fit_steps: 2\n",
      "const: 0.600\n",
      "lcc: 0.648 -> lcc2: 0.59; overshoot: True, scale:0.010, alpha: 1.726\n",
      "const: 0.590\n",
      "lcc: 0.595 -> lcc2: 0.62; overshoot: False, scale:0.011, alpha: 1.733\n",
      "Fit! fit_count: 2; post_fit_steps: 2\n"
     ]
    }
   ],
   "source": []
  },
  {
   "cell_type": "code",
   "execution_count": 18,
   "metadata": {},
   "outputs": [],
   "source": [
    "n = 2000\n",
    "d = 2\n",
    "tau = 2.1\n",
    "alpha = 1.8\n",
    "target_degree = 6.0"
   ]
  },
  {
   "cell_type": "code",
   "execution_count": null,
   "metadata": {},
   "outputs": [],
   "source": []
  },
  {
   "cell_type": "code",
   "execution_count": 22,
   "metadata": {
    "collapsed": true,
    "jupyter": {
     "outputs_hidden": true
    },
    "tags": []
   },
   "outputs": [
    {
     "name": "stdout",
     "output_type": "stream",
     "text": [
      "1.02\n",
      "1.1\n",
      "1.3\n",
      "1.6\n",
      "2.0\n"
     ]
    },
    {
     "ename": "ValueError",
     "evalue": "Could not interpret value `LCC` for parameter `y`",
     "output_type": "error",
     "traceback": [
      "\u001b[0;31m---------------------------------------------------------------------------\u001b[0m",
      "\u001b[0;31mValueError\u001b[0m                                Traceback (most recent call last)",
      "Cell \u001b[0;32mIn[22], line 6\u001b[0m\n\u001b[1;32m      3\u001b[0m     lcc\u001b[38;5;241m.\u001b[39mrun()\n\u001b[1;32m      4\u001b[0m     \u001b[38;5;28;01mreturn\u001b[39;00m(np\u001b[38;5;241m.\u001b[39mmean(lcc\u001b[38;5;241m.\u001b[39mscores()))\n\u001b[0;32m----> 6\u001b[0m lcc_df \u001b[38;5;241m=\u001b[39m \u001b[43mplotting\u001b[49m\u001b[38;5;241;43m.\u001b[39;49m\u001b[43mmetric_func_alphas_plot\u001b[49m\u001b[43m(\u001b[49m\u001b[43mn\u001b[49m\u001b[43m,\u001b[49m\u001b[43m \u001b[49m\u001b[43md\u001b[49m\u001b[43m,\u001b[49m\u001b[43m \u001b[49m\u001b[43mtau\u001b[49m\u001b[43m,\u001b[49m\u001b[43m \u001b[49m\u001b[43mtarget_degree\u001b[49m\u001b[43m,\u001b[49m\u001b[43m \u001b[49m\u001b[43mLCC\u001b[49m\u001b[43m,\u001b[49m\u001b[43m \u001b[49m\u001b[38;5;124;43m'\u001b[39;49m\u001b[38;5;124;43mLCC\u001b[39;49m\u001b[38;5;124;43m'\u001b[39;49m\u001b[43m)\u001b[49m\n\u001b[1;32m      7\u001b[0m plt\u001b[38;5;241m.\u001b[39mshow()\n",
      "File \u001b[0;32m~/girgs/benji_src/benji_girgs/plotting.py:122\u001b[0m, in \u001b[0;36mmetric_func_alphas_plot\u001b[0;34m(n, d, tau, target_degree, metric_func, metric_func_name, alphas)\u001b[0m\n\u001b[1;32m    117\u001b[0m \u001b[38;5;66;03m# df['mean_std_gdist'] = df.std_gdists.apply(lambda x: np.mean(x))\u001b[39;00m\n\u001b[1;32m    118\u001b[0m \u001b[38;5;66;03m# df['std_std_gdist'] = df.std_gdists.apply(lambda x: np.std(x))\u001b[39;00m\n\u001b[1;32m    120\u001b[0m df[\u001b[38;5;124m'\u001b[39m\u001b[38;5;124malpha2\u001b[39m\u001b[38;5;124m'\u001b[39m] \u001b[38;5;241m=\u001b[39m df\u001b[38;5;241m.\u001b[39malpha\u001b[38;5;241m.\u001b[39mapply(\u001b[38;5;28;01mlambda\u001b[39;00m x: \u001b[38;5;28mstr\u001b[39m(x))\n\u001b[0;32m--> 122\u001b[0m sns\u001b[38;5;241m.\u001b[39mswarmplot(data\u001b[38;5;241m=\u001b[39mdf, x\u001b[38;5;241m=\u001b[39m\u001b[38;5;124m'\u001b[39m\u001b[38;5;124malpha2\u001b[39m\u001b[38;5;124m'\u001b[39m, y\u001b[38;5;241m=\u001b[39mmetric_func_name)\n\u001b[1;32m    123\u001b[0m \u001b[38;5;28;01mreturn\u001b[39;00m df\n",
      "File \u001b[0;32m~/girgs/venv/lib64/python3.8/site-packages/seaborn/categorical.py:2625\u001b[0m, in \u001b[0;36mswarmplot\u001b[0;34m(data, x, y, hue, order, hue_order, dodge, orient, color, palette, size, edgecolor, linewidth, hue_norm, native_scale, formatter, legend, warn_thresh, ax, **kwargs)\u001b[0m\n\u001b[1;32m   2617\u001b[0m \u001b[38;5;28;01mdef\u001b[39;00m \u001b[38;5;21mswarmplot\u001b[39m(\n\u001b[1;32m   2618\u001b[0m     data\u001b[38;5;241m=\u001b[39m\u001b[38;5;28;01mNone\u001b[39;00m, \u001b[38;5;241m*\u001b[39m, x\u001b[38;5;241m=\u001b[39m\u001b[38;5;28;01mNone\u001b[39;00m, y\u001b[38;5;241m=\u001b[39m\u001b[38;5;28;01mNone\u001b[39;00m, hue\u001b[38;5;241m=\u001b[39m\u001b[38;5;28;01mNone\u001b[39;00m, order\u001b[38;5;241m=\u001b[39m\u001b[38;5;28;01mNone\u001b[39;00m, hue_order\u001b[38;5;241m=\u001b[39m\u001b[38;5;28;01mNone\u001b[39;00m,\n\u001b[1;32m   2619\u001b[0m     dodge\u001b[38;5;241m=\u001b[39m\u001b[38;5;28;01mFalse\u001b[39;00m, orient\u001b[38;5;241m=\u001b[39m\u001b[38;5;28;01mNone\u001b[39;00m, color\u001b[38;5;241m=\u001b[39m\u001b[38;5;28;01mNone\u001b[39;00m, palette\u001b[38;5;241m=\u001b[39m\u001b[38;5;28;01mNone\u001b[39;00m,\n\u001b[0;32m   (...)\u001b[0m\n\u001b[1;32m   2622\u001b[0m     ax\u001b[38;5;241m=\u001b[39m\u001b[38;5;28;01mNone\u001b[39;00m, \u001b[38;5;241m*\u001b[39m\u001b[38;5;241m*\u001b[39mkwargs\n\u001b[1;32m   2623\u001b[0m ):\n\u001b[0;32m-> 2625\u001b[0m     p \u001b[38;5;241m=\u001b[39m \u001b[43m_CategoricalPlotterNew\u001b[49m\u001b[43m(\u001b[49m\n\u001b[1;32m   2626\u001b[0m \u001b[43m        \u001b[49m\u001b[43mdata\u001b[49m\u001b[38;5;241;43m=\u001b[39;49m\u001b[43mdata\u001b[49m\u001b[43m,\u001b[49m\n\u001b[1;32m   2627\u001b[0m \u001b[43m        \u001b[49m\u001b[43mvariables\u001b[49m\u001b[38;5;241;43m=\u001b[39;49m\u001b[43m_CategoricalPlotterNew\u001b[49m\u001b[38;5;241;43m.\u001b[39;49m\u001b[43mget_semantics\u001b[49m\u001b[43m(\u001b[49m\u001b[38;5;28;43mlocals\u001b[39;49m\u001b[43m(\u001b[49m\u001b[43m)\u001b[49m\u001b[43m)\u001b[49m\u001b[43m,\u001b[49m\n\u001b[1;32m   2628\u001b[0m \u001b[43m        \u001b[49m\u001b[43morder\u001b[49m\u001b[38;5;241;43m=\u001b[39;49m\u001b[43morder\u001b[49m\u001b[43m,\u001b[49m\n\u001b[1;32m   2629\u001b[0m \u001b[43m        \u001b[49m\u001b[43morient\u001b[49m\u001b[38;5;241;43m=\u001b[39;49m\u001b[43morient\u001b[49m\u001b[43m,\u001b[49m\n\u001b[1;32m   2630\u001b[0m \u001b[43m        \u001b[49m\u001b[43mrequire_numeric\u001b[49m\u001b[38;5;241;43m=\u001b[39;49m\u001b[38;5;28;43;01mFalse\u001b[39;49;00m\u001b[43m,\u001b[49m\n\u001b[1;32m   2631\u001b[0m \u001b[43m        \u001b[49m\u001b[43mlegend\u001b[49m\u001b[38;5;241;43m=\u001b[39;49m\u001b[43mlegend\u001b[49m\u001b[43m,\u001b[49m\n\u001b[1;32m   2632\u001b[0m \u001b[43m    \u001b[49m\u001b[43m)\u001b[49m\n\u001b[1;32m   2634\u001b[0m     \u001b[38;5;28;01mif\u001b[39;00m ax \u001b[38;5;129;01mis\u001b[39;00m \u001b[38;5;28;01mNone\u001b[39;00m:\n\u001b[1;32m   2635\u001b[0m         ax \u001b[38;5;241m=\u001b[39m plt\u001b[38;5;241m.\u001b[39mgca()\n",
      "File \u001b[0;32m~/girgs/venv/lib64/python3.8/site-packages/seaborn/categorical.py:66\u001b[0m, in \u001b[0;36m_CategoricalPlotterNew.__init__\u001b[0;34m(self, data, variables, order, orient, require_numeric, legend)\u001b[0m\n\u001b[1;32m     56\u001b[0m \u001b[38;5;28;01mdef\u001b[39;00m \u001b[38;5;21m__init__\u001b[39m(\n\u001b[1;32m     57\u001b[0m     \u001b[38;5;28mself\u001b[39m,\n\u001b[1;32m     58\u001b[0m     data\u001b[38;5;241m=\u001b[39m\u001b[38;5;28;01mNone\u001b[39;00m,\n\u001b[0;32m   (...)\u001b[0m\n\u001b[1;32m     63\u001b[0m     legend\u001b[38;5;241m=\u001b[39m\u001b[38;5;124m\"\u001b[39m\u001b[38;5;124mauto\u001b[39m\u001b[38;5;124m\"\u001b[39m,\n\u001b[1;32m     64\u001b[0m ):\n\u001b[0;32m---> 66\u001b[0m     \u001b[38;5;28;43msuper\u001b[39;49m\u001b[43m(\u001b[49m\u001b[43m)\u001b[49m\u001b[38;5;241;43m.\u001b[39;49m\u001b[38;5;21;43m__init__\u001b[39;49m\u001b[43m(\u001b[49m\u001b[43mdata\u001b[49m\u001b[38;5;241;43m=\u001b[39;49m\u001b[43mdata\u001b[49m\u001b[43m,\u001b[49m\u001b[43m \u001b[49m\u001b[43mvariables\u001b[49m\u001b[38;5;241;43m=\u001b[39;49m\u001b[43mvariables\u001b[49m\u001b[43m)\u001b[49m\n\u001b[1;32m     68\u001b[0m     \u001b[38;5;66;03m# This method takes care of some bookkeeping that is necessary because the\u001b[39;00m\n\u001b[1;32m     69\u001b[0m     \u001b[38;5;66;03m# original categorical plots (prior to the 2021 refactor) had some rules that\u001b[39;00m\n\u001b[1;32m     70\u001b[0m     \u001b[38;5;66;03m# don't fit exactly into the logic of _core. It may be wise to have a second\u001b[39;00m\n\u001b[0;32m   (...)\u001b[0m\n\u001b[1;32m     75\u001b[0m     \u001b[38;5;66;03m# wide_structure rules in _core. If we do decide to make orient part of the\u001b[39;00m\n\u001b[1;32m     76\u001b[0m     \u001b[38;5;66;03m# _core variable assignment, we'll want to figure out how to express that.\u001b[39;00m\n\u001b[1;32m     77\u001b[0m     \u001b[38;5;28;01mif\u001b[39;00m \u001b[38;5;28mself\u001b[39m\u001b[38;5;241m.\u001b[39minput_format \u001b[38;5;241m==\u001b[39m \u001b[38;5;124m\"\u001b[39m\u001b[38;5;124mwide\u001b[39m\u001b[38;5;124m\"\u001b[39m \u001b[38;5;129;01mand\u001b[39;00m orient \u001b[38;5;241m==\u001b[39m \u001b[38;5;124m\"\u001b[39m\u001b[38;5;124mh\u001b[39m\u001b[38;5;124m\"\u001b[39m:\n",
      "File \u001b[0;32m~/girgs/venv/lib64/python3.8/site-packages/seaborn/_oldcore.py:640\u001b[0m, in \u001b[0;36mVectorPlotter.__init__\u001b[0;34m(self, data, variables)\u001b[0m\n\u001b[1;32m    635\u001b[0m \u001b[38;5;66;03m# var_ordered is relevant only for categorical axis variables, and may\u001b[39;00m\n\u001b[1;32m    636\u001b[0m \u001b[38;5;66;03m# be better handled by an internal axis information object that tracks\u001b[39;00m\n\u001b[1;32m    637\u001b[0m \u001b[38;5;66;03m# such information and is set up by the scale_* methods. The analogous\u001b[39;00m\n\u001b[1;32m    638\u001b[0m \u001b[38;5;66;03m# information for numeric axes would be information about log scales.\u001b[39;00m\n\u001b[1;32m    639\u001b[0m \u001b[38;5;28mself\u001b[39m\u001b[38;5;241m.\u001b[39m_var_ordered \u001b[38;5;241m=\u001b[39m {\u001b[38;5;124m\"\u001b[39m\u001b[38;5;124mx\u001b[39m\u001b[38;5;124m\"\u001b[39m: \u001b[38;5;28;01mFalse\u001b[39;00m, \u001b[38;5;124m\"\u001b[39m\u001b[38;5;124my\u001b[39m\u001b[38;5;124m\"\u001b[39m: \u001b[38;5;28;01mFalse\u001b[39;00m}  \u001b[38;5;66;03m# alt., used DefaultDict\u001b[39;00m\n\u001b[0;32m--> 640\u001b[0m \u001b[38;5;28;43mself\u001b[39;49m\u001b[38;5;241;43m.\u001b[39;49m\u001b[43massign_variables\u001b[49m\u001b[43m(\u001b[49m\u001b[43mdata\u001b[49m\u001b[43m,\u001b[49m\u001b[43m \u001b[49m\u001b[43mvariables\u001b[49m\u001b[43m)\u001b[49m\n\u001b[1;32m    642\u001b[0m \u001b[38;5;28;01mfor\u001b[39;00m var, \u001b[38;5;28mcls\u001b[39m \u001b[38;5;129;01min\u001b[39;00m \u001b[38;5;28mself\u001b[39m\u001b[38;5;241m.\u001b[39m_semantic_mappings\u001b[38;5;241m.\u001b[39mitems():\n\u001b[1;32m    643\u001b[0m \n\u001b[1;32m    644\u001b[0m     \u001b[38;5;66;03m# Create the mapping function\u001b[39;00m\n\u001b[1;32m    645\u001b[0m     map_func \u001b[38;5;241m=\u001b[39m partial(\u001b[38;5;28mcls\u001b[39m\u001b[38;5;241m.\u001b[39mmap, plotter\u001b[38;5;241m=\u001b[39m\u001b[38;5;28mself\u001b[39m)\n",
      "File \u001b[0;32m~/girgs/venv/lib64/python3.8/site-packages/seaborn/_oldcore.py:701\u001b[0m, in \u001b[0;36mVectorPlotter.assign_variables\u001b[0;34m(self, data, variables)\u001b[0m\n\u001b[1;32m    699\u001b[0m \u001b[38;5;28;01melse\u001b[39;00m:\n\u001b[1;32m    700\u001b[0m     \u001b[38;5;28mself\u001b[39m\u001b[38;5;241m.\u001b[39minput_format \u001b[38;5;241m=\u001b[39m \u001b[38;5;124m\"\u001b[39m\u001b[38;5;124mlong\u001b[39m\u001b[38;5;124m\"\u001b[39m\n\u001b[0;32m--> 701\u001b[0m     plot_data, variables \u001b[38;5;241m=\u001b[39m \u001b[38;5;28;43mself\u001b[39;49m\u001b[38;5;241;43m.\u001b[39;49m\u001b[43m_assign_variables_longform\u001b[49m\u001b[43m(\u001b[49m\n\u001b[1;32m    702\u001b[0m \u001b[43m        \u001b[49m\u001b[43mdata\u001b[49m\u001b[43m,\u001b[49m\u001b[43m \u001b[49m\u001b[38;5;241;43m*\u001b[39;49m\u001b[38;5;241;43m*\u001b[39;49m\u001b[43mvariables\u001b[49m\u001b[43m,\u001b[49m\n\u001b[1;32m    703\u001b[0m \u001b[43m    \u001b[49m\u001b[43m)\u001b[49m\n\u001b[1;32m    705\u001b[0m \u001b[38;5;28mself\u001b[39m\u001b[38;5;241m.\u001b[39mplot_data \u001b[38;5;241m=\u001b[39m plot_data\n\u001b[1;32m    706\u001b[0m \u001b[38;5;28mself\u001b[39m\u001b[38;5;241m.\u001b[39mvariables \u001b[38;5;241m=\u001b[39m variables\n",
      "File \u001b[0;32m~/girgs/venv/lib64/python3.8/site-packages/seaborn/_oldcore.py:938\u001b[0m, in \u001b[0;36mVectorPlotter._assign_variables_longform\u001b[0;34m(self, data, **kwargs)\u001b[0m\n\u001b[1;32m    933\u001b[0m \u001b[38;5;28;01melif\u001b[39;00m \u001b[38;5;28misinstance\u001b[39m(val, (\u001b[38;5;28mstr\u001b[39m, \u001b[38;5;28mbytes\u001b[39m)):\n\u001b[1;32m    934\u001b[0m \n\u001b[1;32m    935\u001b[0m     \u001b[38;5;66;03m# This looks like a column name but we don't know what it means!\u001b[39;00m\n\u001b[1;32m    937\u001b[0m     err \u001b[38;5;241m=\u001b[39m \u001b[38;5;124mf\u001b[39m\u001b[38;5;124m\"\u001b[39m\u001b[38;5;124mCould not interpret value `\u001b[39m\u001b[38;5;132;01m{\u001b[39;00mval\u001b[38;5;132;01m}\u001b[39;00m\u001b[38;5;124m` for parameter `\u001b[39m\u001b[38;5;132;01m{\u001b[39;00mkey\u001b[38;5;132;01m}\u001b[39;00m\u001b[38;5;124m`\u001b[39m\u001b[38;5;124m\"\u001b[39m\n\u001b[0;32m--> 938\u001b[0m     \u001b[38;5;28;01mraise\u001b[39;00m \u001b[38;5;167;01mValueError\u001b[39;00m(err)\n\u001b[1;32m    940\u001b[0m \u001b[38;5;28;01melse\u001b[39;00m:\n\u001b[1;32m    941\u001b[0m \n\u001b[1;32m    942\u001b[0m     \u001b[38;5;66;03m# Otherwise, assume the value is itself data\u001b[39;00m\n\u001b[1;32m    943\u001b[0m \n\u001b[1;32m    944\u001b[0m     \u001b[38;5;66;03m# Raise when data object is present and a vector can't matched\u001b[39;00m\n\u001b[1;32m    945\u001b[0m     \u001b[38;5;28;01mif\u001b[39;00m \u001b[38;5;28misinstance\u001b[39m(data, pd\u001b[38;5;241m.\u001b[39mDataFrame) \u001b[38;5;129;01mand\u001b[39;00m \u001b[38;5;129;01mnot\u001b[39;00m \u001b[38;5;28misinstance\u001b[39m(val, pd\u001b[38;5;241m.\u001b[39mSeries):\n",
      "\u001b[0;31mValueError\u001b[0m: Could not interpret value `LCC` for parameter `y`"
     ]
    }
   ],
   "source": [
    "def LCC(g):\n",
    "    lcc = nk.centrality.LocalClusteringCoefficient(g)\n",
    "    lcc.run()\n",
    "    return(np.mean(lcc.scores()))\n",
    "\n",
    "lcc_df = plotting.metric_func_alphas_plot(n, d, tau, target_degree, LCC, 'LCC')\n",
    "plt.show()"
   ]
  },
  {
   "cell_type": "code",
   "execution_count": null,
   "metadata": {},
   "outputs": [],
   "source": [
    "std_gdist_df = plotting.metric_func_alphas_plot(n, d, tau, target_degree, fitting.regularised_std_graph_distance, 'std_gdist')\n",
    "plt.show()"
   ]
  },
  {
   "cell_type": "code",
   "execution_count": 26,
   "metadata": {},
   "outputs": [],
   "source": [
    "import os\n",
    "os.environ['DATA_PATH'] = '/cluster/home/bdayan/girgs/'\n",
    "import glob\n",
    "\n",
    "data_dir = '/cluster/scratch/bdayan/GIRG_data/'\n",
    "\n",
    "results_csv = '/cluster/home/bdayan/girgs/nemo-eva/data-paper/3-cleaned_features/results.csv'\n",
    "df = pd.read_csv(results_csv)\n",
    "\n",
    "graph_name_group_pairs = df.groupby('Graph').Type.unique()\n",
    "graph_name_group_pairs = graph_name_group_pairs.apply(lambda x: x[0])\n",
    "graph_name_group_pairs = graph_name_group_pairs.reset_index()\n",
    "\n",
    "graph_names = sorted(df['Graph'].unique())\n",
    "\n",
    "graph_dicts = []\n",
    "for i in range(len(graph_name_group_pairs)):\n",
    "    stuff = graph_name_group_pairs.iloc[i]\n",
    "    fn = glob.glob(data_dir + stuff.Graph + '.*')[0]\n",
    "#     print(fn)\n",
    "    graph_dict = {\"Group\": stuff.Type, \"FullPath\": fn, \"Name\": stuff.Graph}\n",
    "    graph_dicts.append(graph_dict)"
   ]
  },
  {
   "cell_type": "code",
   "execution_count": 27,
   "metadata": {},
   "outputs": [
    {
     "data": {
      "text/plain": [
       "[{'Group': 'bio',\n",
       "  'FullPath': '/cluster/scratch/bdayan/GIRG_data/bio-celegans.SpaceOne',\n",
       "  'Name': 'bio-celegans'},\n",
       " {'Group': 'bio',\n",
       "  'FullPath': '/cluster/scratch/bdayan/GIRG_data/bio-celegans-dir.SpaceOne',\n",
       "  'Name': 'bio-celegans-dir'},\n",
       " {'Group': 'bio',\n",
       "  'FullPath': '/cluster/scratch/bdayan/GIRG_data/bio-diseasome.SpaceOne',\n",
       "  'Name': 'bio-diseasome'},\n",
       " {'Group': 'bio',\n",
       "  'FullPath': '/cluster/scratch/bdayan/GIRG_data/bio-dmela.SpaceOne',\n",
       "  'Name': 'bio-dmela'},\n",
       " {'Group': 'bio',\n",
       "  'FullPath': '/cluster/scratch/bdayan/GIRG_data/bio-yeast.SpaceOne',\n",
       "  'Name': 'bio-yeast'},\n",
       " {'Group': 'bio',\n",
       "  'FullPath': '/cluster/scratch/bdayan/GIRG_data/bio-yeast-protein-inter.SpaceOne',\n",
       "  'Name': 'bio-yeast-protein-inter'},\n",
       " {'Group': 'bn',\n",
       "  'FullPath': '/cluster/scratch/bdayan/GIRG_data/bn-fly-drosophila_medulla_1.SpaceOne',\n",
       "  'Name': 'bn-fly-drosophila_medulla_1'}]"
      ]
     },
     "execution_count": 27,
     "metadata": {},
     "output_type": "execute_result"
    }
   ],
   "source": [
    "graph_dicts[:7]"
   ]
  },
  {
   "cell_type": "code",
   "execution_count": 36,
   "metadata": {},
   "outputs": [
    {
     "data": {
      "text/plain": [
       "Index(['Graph', 'Centrality.Betweenness.Dispersion.Coefficient Of Variation',\n",
       "       'Centrality.Betweenness.Dispersion.Standard Deviation',\n",
       "       'Centrality.Betweenness.Dispersion.Standard Deviation (Rank)',\n",
       "       'Centrality.Betweenness.Dispersion.Uncorrected Coefficient Of Variation',\n",
       "       'Centrality.Betweenness.Dispersion.Uncorrected Standard Deviation',\n",
       "       'Centrality.Betweenness.Dispersion.Uncorrected Standard Deviation (Rank)',\n",
       "       'Centrality.Betweenness.Dispersion.Uncorrected Variance',\n",
       "       'Centrality.Betweenness.Dispersion.Uncorrected Variance (Rank)',\n",
       "       'Centrality.Betweenness.Dispersion.Variance',\n",
       "       ...\n",
       "       'Partition.CoreDecomposition.Location.Cubic Mean',\n",
       "       'Partition.CoreDecomposition.Location.Harmonic Mean',\n",
       "       'Partition.CoreDecomposition.Location.Interquartile Mean',\n",
       "       'Partition.CoreDecomposition.Location.Max',\n",
       "       'Partition.CoreDecomposition.Location.Median',\n",
       "       'Partition.CoreDecomposition.Location.Mid-Range',\n",
       "       'Partition.CoreDecomposition.Location.Min',\n",
       "       'Partition.CoreDecomposition.Location.Quadratic Mean',\n",
       "       'Partition.CoreDecomposition.Properties.Size', 'Type'],\n",
       "      dtype='object', length=243)"
      ]
     },
     "execution_count": 36,
     "metadata": {},
     "output_type": "execute_result"
    }
   ],
   "source": []
  },
  {
   "cell_type": "code",
   "execution_count": 39,
   "metadata": {},
   "outputs": [
    {
     "data": {
      "text/html": [
       "<div>\n",
       "<style scoped>\n",
       "    .dataframe tbody tr th:only-of-type {\n",
       "        vertical-align: middle;\n",
       "    }\n",
       "\n",
       "    .dataframe tbody tr th {\n",
       "        vertical-align: top;\n",
       "    }\n",
       "\n",
       "    .dataframe thead th {\n",
       "        text-align: right;\n",
       "    }\n",
       "</style>\n",
       "<table border=\"1\" class=\"dataframe\">\n",
       "  <thead>\n",
       "    <tr style=\"text-align: right;\">\n",
       "      <th></th>\n",
       "      <th>Graph</th>\n",
       "      <th>Nodes</th>\n",
       "    </tr>\n",
       "  </thead>\n",
       "  <tbody>\n",
       "    <tr>\n",
       "      <th>48</th>\n",
       "      <td>bio-yeast-protein-inter</td>\n",
       "      <td>1458</td>\n",
       "    </tr>\n",
       "    <tr>\n",
       "      <th>49</th>\n",
       "      <td>bio-yeast-protein-inter</td>\n",
       "      <td>1458</td>\n",
       "    </tr>\n",
       "    <tr>\n",
       "      <th>50</th>\n",
       "      <td>bio-yeast-protein-inter</td>\n",
       "      <td>1328</td>\n",
       "    </tr>\n",
       "    <tr>\n",
       "      <th>51</th>\n",
       "      <td>bio-yeast-protein-inter</td>\n",
       "      <td>1106</td>\n",
       "    </tr>\n",
       "    <tr>\n",
       "      <th>52</th>\n",
       "      <td>bio-yeast-protein-inter</td>\n",
       "      <td>1108</td>\n",
       "    </tr>\n",
       "    <tr>\n",
       "      <th>53</th>\n",
       "      <td>bio-yeast-protein-inter</td>\n",
       "      <td>1458</td>\n",
       "    </tr>\n",
       "    <tr>\n",
       "      <th>168</th>\n",
       "      <td>bio-diseasome</td>\n",
       "      <td>516</td>\n",
       "    </tr>\n",
       "    <tr>\n",
       "      <th>169</th>\n",
       "      <td>bio-diseasome</td>\n",
       "      <td>516</td>\n",
       "    </tr>\n",
       "    <tr>\n",
       "      <th>170</th>\n",
       "      <td>bio-diseasome</td>\n",
       "      <td>512</td>\n",
       "    </tr>\n",
       "    <tr>\n",
       "      <th>171</th>\n",
       "      <td>bio-diseasome</td>\n",
       "      <td>459</td>\n",
       "    </tr>\n",
       "    <tr>\n",
       "      <th>172</th>\n",
       "      <td>bio-diseasome</td>\n",
       "      <td>96</td>\n",
       "    </tr>\n",
       "    <tr>\n",
       "      <th>173</th>\n",
       "      <td>bio-diseasome</td>\n",
       "      <td>516</td>\n",
       "    </tr>\n",
       "    <tr>\n",
       "      <th>180</th>\n",
       "      <td>bio-yeast</td>\n",
       "      <td>1458</td>\n",
       "    </tr>\n",
       "    <tr>\n",
       "      <th>181</th>\n",
       "      <td>bio-yeast</td>\n",
       "      <td>1458</td>\n",
       "    </tr>\n",
       "    <tr>\n",
       "      <th>182</th>\n",
       "      <td>bio-yeast</td>\n",
       "      <td>1328</td>\n",
       "    </tr>\n",
       "    <tr>\n",
       "      <th>183</th>\n",
       "      <td>bio-yeast</td>\n",
       "      <td>1106</td>\n",
       "    </tr>\n",
       "    <tr>\n",
       "      <th>184</th>\n",
       "      <td>bio-yeast</td>\n",
       "      <td>1117</td>\n",
       "    </tr>\n",
       "    <tr>\n",
       "      <th>185</th>\n",
       "      <td>bio-yeast</td>\n",
       "      <td>1458</td>\n",
       "    </tr>\n",
       "    <tr>\n",
       "      <th>258</th>\n",
       "      <td>bio-dmela</td>\n",
       "      <td>7393</td>\n",
       "    </tr>\n",
       "    <tr>\n",
       "      <th>259</th>\n",
       "      <td>bio-dmela</td>\n",
       "      <td>7393</td>\n",
       "    </tr>\n",
       "    <tr>\n",
       "      <th>260</th>\n",
       "      <td>bio-dmela</td>\n",
       "      <td>7386</td>\n",
       "    </tr>\n",
       "    <tr>\n",
       "      <th>261</th>\n",
       "      <td>bio-dmela</td>\n",
       "      <td>6399</td>\n",
       "    </tr>\n",
       "    <tr>\n",
       "      <th>262</th>\n",
       "      <td>bio-dmela</td>\n",
       "      <td>4744</td>\n",
       "    </tr>\n",
       "    <tr>\n",
       "      <th>263</th>\n",
       "      <td>bio-dmela</td>\n",
       "      <td>7393</td>\n",
       "    </tr>\n",
       "    <tr>\n",
       "      <th>786</th>\n",
       "      <td>bio-celegans</td>\n",
       "      <td>453</td>\n",
       "    </tr>\n",
       "    <tr>\n",
       "      <th>787</th>\n",
       "      <td>bio-celegans</td>\n",
       "      <td>453</td>\n",
       "    </tr>\n",
       "    <tr>\n",
       "      <th>788</th>\n",
       "      <td>bio-celegans</td>\n",
       "      <td>453</td>\n",
       "    </tr>\n",
       "    <tr>\n",
       "      <th>789</th>\n",
       "      <td>bio-celegans</td>\n",
       "      <td>439</td>\n",
       "    </tr>\n",
       "    <tr>\n",
       "      <th>790</th>\n",
       "      <td>bio-celegans</td>\n",
       "      <td>452</td>\n",
       "    </tr>\n",
       "    <tr>\n",
       "      <th>791</th>\n",
       "      <td>bio-celegans</td>\n",
       "      <td>453</td>\n",
       "    </tr>\n",
       "    <tr>\n",
       "      <th>918</th>\n",
       "      <td>bn-fly-drosophila_medulla_1</td>\n",
       "      <td>1770</td>\n",
       "    </tr>\n",
       "    <tr>\n",
       "      <th>919</th>\n",
       "      <td>bn-fly-drosophila_medulla_1</td>\n",
       "      <td>1770</td>\n",
       "    </tr>\n",
       "    <tr>\n",
       "      <th>920</th>\n",
       "      <td>bn-fly-drosophila_medulla_1</td>\n",
       "      <td>1770</td>\n",
       "    </tr>\n",
       "    <tr>\n",
       "      <th>921</th>\n",
       "      <td>bn-fly-drosophila_medulla_1</td>\n",
       "      <td>1576</td>\n",
       "    </tr>\n",
       "    <tr>\n",
       "      <th>922</th>\n",
       "      <td>bn-fly-drosophila_medulla_1</td>\n",
       "      <td>2278</td>\n",
       "    </tr>\n",
       "    <tr>\n",
       "      <th>923</th>\n",
       "      <td>bn-fly-drosophila_medulla_1</td>\n",
       "      <td>1770</td>\n",
       "    </tr>\n",
       "    <tr>\n",
       "      <th>1278</th>\n",
       "      <td>bio-celegans-dir</td>\n",
       "      <td>453</td>\n",
       "    </tr>\n",
       "    <tr>\n",
       "      <th>1279</th>\n",
       "      <td>bio-celegans-dir</td>\n",
       "      <td>453</td>\n",
       "    </tr>\n",
       "    <tr>\n",
       "      <th>1280</th>\n",
       "      <td>bio-celegans-dir</td>\n",
       "      <td>453</td>\n",
       "    </tr>\n",
       "    <tr>\n",
       "      <th>1281</th>\n",
       "      <td>bio-celegans-dir</td>\n",
       "      <td>445</td>\n",
       "    </tr>\n",
       "    <tr>\n",
       "      <th>1282</th>\n",
       "      <td>bio-celegans-dir</td>\n",
       "      <td>453</td>\n",
       "    </tr>\n",
       "    <tr>\n",
       "      <th>1283</th>\n",
       "      <td>bio-celegans-dir</td>\n",
       "      <td>453</td>\n",
       "    </tr>\n",
       "  </tbody>\n",
       "</table>\n",
       "</div>"
      ],
      "text/plain": [
       "                            Graph  Nodes\n",
       "48        bio-yeast-protein-inter   1458\n",
       "49        bio-yeast-protein-inter   1458\n",
       "50        bio-yeast-protein-inter   1328\n",
       "51        bio-yeast-protein-inter   1106\n",
       "52        bio-yeast-protein-inter   1108\n",
       "53        bio-yeast-protein-inter   1458\n",
       "168                 bio-diseasome    516\n",
       "169                 bio-diseasome    516\n",
       "170                 bio-diseasome    512\n",
       "171                 bio-diseasome    459\n",
       "172                 bio-diseasome     96\n",
       "173                 bio-diseasome    516\n",
       "180                     bio-yeast   1458\n",
       "181                     bio-yeast   1458\n",
       "182                     bio-yeast   1328\n",
       "183                     bio-yeast   1106\n",
       "184                     bio-yeast   1117\n",
       "185                     bio-yeast   1458\n",
       "258                     bio-dmela   7393\n",
       "259                     bio-dmela   7393\n",
       "260                     bio-dmela   7386\n",
       "261                     bio-dmela   6399\n",
       "262                     bio-dmela   4744\n",
       "263                     bio-dmela   7393\n",
       "786                  bio-celegans    453\n",
       "787                  bio-celegans    453\n",
       "788                  bio-celegans    453\n",
       "789                  bio-celegans    439\n",
       "790                  bio-celegans    452\n",
       "791                  bio-celegans    453\n",
       "918   bn-fly-drosophila_medulla_1   1770\n",
       "919   bn-fly-drosophila_medulla_1   1770\n",
       "920   bn-fly-drosophila_medulla_1   1770\n",
       "921   bn-fly-drosophila_medulla_1   1576\n",
       "922   bn-fly-drosophila_medulla_1   2278\n",
       "923   bn-fly-drosophila_medulla_1   1770\n",
       "1278             bio-celegans-dir    453\n",
       "1279             bio-celegans-dir    453\n",
       "1280             bio-celegans-dir    453\n",
       "1281             bio-celegans-dir    445\n",
       "1282             bio-celegans-dir    453\n",
       "1283             bio-celegans-dir    453"
      ]
     },
     "execution_count": 39,
     "metadata": {},
     "output_type": "execute_result"
    }
   ],
   "source": [
    "df.loc[df.Graph.isin([x['Name'] for x in graph_dicts[:7]]), ['Graph', 'Nodes']]"
   ]
  },
  {
   "cell_type": "code",
   "execution_count": 80,
   "metadata": {},
   "outputs": [],
   "source": [
    "in_path = '/cluster/scratch/bdayan/GIRG_data/bio-diseasome.SpaceOne'\n",
    "g = nk.readGraph(in_path, nk.Format.EdgeListSpaceOne)"
   ]
  },
  {
   "cell_type": "code",
   "execution_count": 81,
   "metadata": {},
   "outputs": [],
   "source": [
    "from feature_extractor import FeatureExtractor\n",
    "fe = FeatureExtractor([])"
   ]
  },
  {
   "cell_type": "code",
   "execution_count": null,
   "metadata": {},
   "outputs": [],
   "source": []
  },
  {
   "cell_type": "code",
   "execution_count": 88,
   "metadata": {
    "tags": []
   },
   "outputs": [
    {
     "name": "stdout",
     "output_type": "stream",
     "text": [
      "Calculating best minimal value for power law fit\n",
      "target_avg_degree: 4.605\n",
      "target_lcc: 0.636\n",
      "fit tau: 3.400\n",
      "const: 0.226\n",
      "lcc: 0.224 -> lcc2: 0.27; overshoot: False, scale:0.330, alpha: 1.429\n",
      "const: 0.270\n",
      "lcc: 0.265 -> lcc2: 0.34; overshoot: False, scale:0.363, alpha: 1.640\n",
      "const: 0.352\n",
      "lcc: 0.341 -> lcc2: 0.41; overshoot: False, scale:0.399, alpha: 2.004\n",
      "const: 0.399\n",
      "lcc: 0.414 -> lcc2: 0.49; overshoot: False, scale:0.439, alpha: 2.672\n",
      "const: 0.513\n",
      "lcc: 0.494 -> lcc2: 0.50; overshoot: False, scale:0.483, alpha: 3.981\n",
      "const: 0.536\n",
      "lcc: 0.497 -> lcc2: 0.54; overshoot: False, scale:0.531, alpha: 6.768\n",
      "const: 0.667\n",
      "lcc: 0.535 -> lcc2: 0.58; overshoot: False, scale:0.585, alpha: 13.310\n",
      "const: 0.679\n",
      "lcc: 0.581 -> lcc2: 0.53; overshoot: False, scale:0.643, alpha: 30.636\n",
      "const: 0.689\n",
      "lcc: 0.526 -> lcc2: 0.57; overshoot: False, scale:0.707, alpha: 84.031\n",
      "const: 0.715\n",
      "lcc: 0.574 -> lcc2: 0.56; overshoot: False, scale:0.778, alpha: 284.754\n",
      "const: 0.660\n",
      "lcc: 0.561 -> lcc2: 0.55; overshoot: False, scale:0.856, alpha: 1279.879\n",
      "const: 0.667\n",
      "lcc: 0.552 -> lcc2: 0.57; overshoot: False, scale:0.900, alpha: 8878.100\n",
      "const: 0.692\n",
      "lcc: 0.566 -> lcc2: 0.57; overshoot: False, scale:0.900, alpha: 88771.996\n",
      "const: 0.648\n",
      "lcc: 0.565 -> lcc2: 0.56; overshoot: False, scale:0.900, alpha: 887710.964\n",
      "const: 0.660\n",
      "lcc: 0.559 -> lcc2: 0.54; overshoot: False, scale:0.900, alpha: 8877100.640\n",
      "const: 0.629\n",
      "lcc: 0.543 -> lcc2: 0.56; overshoot: False, scale:0.900, alpha: 88770997.402\n",
      "const: 0.689\n",
      "lcc: 0.563 -> lcc2: 0.52; overshoot: False, scale:0.900, alpha: 887709965.018\n",
      "const: 0.705\n",
      "lcc: 0.517 -> lcc2: 0.51; overshoot: False, scale:0.900, alpha: 8877099641.177\n",
      "const: 0.686\n",
      "lcc: 0.511 -> lcc2: 0.58; overshoot: False, scale:0.900, alpha: 88770996402.771\n",
      "const: 0.692\n",
      "lcc: 0.576 -> lcc2: 0.54; overshoot: False, scale:0.900, alpha: 887709964018.712\n",
      "const: 0.641\n",
      "lcc: 0.537 -> lcc2: 0.58; overshoot: False, scale:0.900, alpha: 8877099640178.123\n",
      "const: 0.667\n",
      "lcc: 0.580 -> lcc2: 0.53; overshoot: False, scale:0.900, alpha: 88770996401772.250\n",
      "const: 0.641\n",
      "lcc: 0.532 -> lcc2: 0.57; overshoot: False, scale:0.900, alpha: 887709964017713.625\n",
      "const: 0.679\n",
      "lcc: 0.566 -> lcc2: 0.57; overshoot: False, scale:0.900, alpha: 8877099640177129.000\n",
      "const: 0.705\n",
      "lcc: 0.571 -> lcc2: 0.55; overshoot: False, scale:0.900, alpha: 88770996401771296.000\n",
      "const: 0.673\n",
      "lcc: 0.554 -> lcc2: 0.57; overshoot: False, scale:0.900, alpha: 887709964017713152.000\n",
      "Max fit steps exceeded\n"
     ]
    }
   ],
   "source": [
    "d = 2\n",
    "n = g.numberOfNodes()\n",
    "alpha, const, tau, hist, fit = fitting.fit_cgirg(g, d, verbose=True)"
   ]
  },
  {
   "cell_type": "code",
   "execution_count": 83,
   "metadata": {},
   "outputs": [
    {
     "name": "stdout",
     "output_type": "stream",
     "text": [
      "Network Properties:\n",
      "nodes, edges\t\t\t516, 1188\n",
      "directed?\t\t\tFalse\n",
      "weighted?\t\t\tFalse\n",
      "isolated nodes\t\t\t0\n",
      "self-loops\t\t\t0\n",
      "density\t\t\t\t0.008941\n",
      "clustering coefficient\t\t0.635830\n",
      "min/max/avg degree\t\t1, 50, 4.604651\n",
      "degree assortativity\t\t0.087761\n",
      "number of connected components\t1\n",
      "size of largest component\t516 (100.00 %)\n"
     ]
    }
   ],
   "source": [
    "nk.overview(g)"
   ]
  },
  {
   "cell_type": "code",
   "execution_count": 55,
   "metadata": {},
   "outputs": [
    {
     "name": "stdout",
     "output_type": "stream",
     "text": [
      "Calculating best minimal value for power law fit\n",
      "xmin progress: 98%\r"
     ]
    }
   ],
   "source": [
    "d = 1\n",
    "n = g.numberOfNodes()\n",
    "\n",
    "dd = sorted(nk.centrality.DegreeCentrality(g).run().scores(), reverse=True)\n",
    "fit = powerlaw.Fit(dd, discrete=True)\n",
    "tau = fit.power_law.alpha\n",
    "\n",
    "\n",
    "target_avg_degree = utils.avg_degree(g)\n",
    "\n",
    "target_lcc = utils.LCC(g)\n",
    "\n",
    "def girg_and_const_gen_func(alpha):\n",
    "    g, edges, weights, pts, c, id2gnk = generation.cgirg_gen(n, d, tau, alpha, desiredAvgDegree=target_avg_degree, weights=None)\n",
    "    return g, c\n",
    "\n",
    "caf = fitting.CGirgAlphaFitter(target_lcc, target_avg_degree, girg_and_const_gen_func)\n",
    "caf.verbose=True"
   ]
  },
  {
   "cell_type": "code",
   "execution_count": 53,
   "metadata": {},
   "outputs": [
    {
     "data": {
      "text/plain": [
       "(0.011850175241937459, 6.917083727850669)"
      ]
     },
     "execution_count": 53,
     "metadata": {},
     "output_type": "execute_result"
    }
   ],
   "source": [
    "target_lcc, target_avg_degree"
   ]
  },
  {
   "cell_type": "code",
   "execution_count": 56,
   "metadata": {},
   "outputs": [
    {
     "name": "stdout",
     "output_type": "stream",
     "text": [
      "const: 0.527\n",
      "lcc: 0.204 -> lcc2: 0.15; overshoot: False, scale:0.330, alpha: 1.210\n"
     ]
    }
   ],
   "source": [
    "caf.step()"
   ]
  },
  {
   "cell_type": "code",
   "execution_count": 57,
   "metadata": {},
   "outputs": [
    {
     "name": "stdout",
     "output_type": "stream",
     "text": [
      "const: 0.435\n",
      "lcc: 0.154 -> lcc2: 0.12; overshoot: False, scale:0.363, alpha: 1.141\n"
     ]
    }
   ],
   "source": [
    "caf.step()"
   ]
  },
  {
   "cell_type": "code",
   "execution_count": 58,
   "metadata": {},
   "outputs": [
    {
     "name": "stdout",
     "output_type": "stream",
     "text": [
      "const: 0.366\n",
      "lcc: 0.120 -> lcc2: 0.10; overshoot: False, scale:0.399, alpha: 1.090\n",
      "const: 0.322\n",
      "lcc: 0.096 -> lcc2: 0.08; overshoot: False, scale:0.439, alpha: 1.054\n",
      "const: 0.292\n",
      "lcc: 0.078 -> lcc2: 0.07; overshoot: False, scale:0.483, alpha: 1.030\n",
      "const: 0.273\n",
      "lcc: 0.070 -> lcc2: 0.06; overshoot: False, scale:0.531, alpha: 1.016\n",
      "const: 0.264\n",
      "lcc: 0.063 -> lcc2: 0.06; overshoot: False, scale:0.585, alpha: 1.007\n",
      "const: 0.259\n",
      "lcc: 0.058 -> lcc2: 0.06; overshoot: False, scale:0.643, alpha: 1.003\n",
      "const: 0.256\n",
      "lcc: 0.060 -> lcc2: 0.06; overshoot: False, scale:0.707, alpha: 1.001\n",
      "const: 0.254\n",
      "lcc: 0.058 -> lcc2: 0.06; overshoot: False, scale:0.778, alpha: 1.000\n",
      "const: 0.256\n",
      "lcc: 0.057 -> lcc2: 0.06; overshoot: False, scale:0.856, alpha: 1.000\n",
      "const: 0.256\n",
      "lcc: 0.060 -> lcc2: 0.06; overshoot: False, scale:0.900, alpha: 1.000\n"
     ]
    }
   ],
   "source": [
    "caf.step_n(10)"
   ]
  },
  {
   "cell_type": "code",
   "execution_count": 70,
   "metadata": {},
   "outputs": [
    {
     "name": "stdout",
     "output_type": "stream",
     "text": [
      "Unexpected exception formatting exception. Falling back to standard exception\n"
     ]
    },
    {
     "name": "stderr",
     "output_type": "stream",
     "text": [
      "Traceback (most recent call last):\n",
      "  File \"/cluster/home/bdayan/girgs/venv/lib64/python3.8/site-packages/IPython/core/interactiveshell.py\", line 3460, in run_code\n",
      "    exec(code_obj, self.user_global_ns, self.user_ns)\n",
      "  File \"/scratch/tmp.14570310.bdayan/ipykernel_78067/2063847991.py\", line 1, in <module>\n",
      "    caf.step()\n",
      "  File \"/cluster/home/bdayan/girgs/benji_src/benji_girgs/fitting.py\", line 208, in step\n",
      "  File \"/cluster/home/bdayan/girgs/benji_src/benji_girgs/fitting.py\", line 385, in girg_gen_func\n",
      "    def girg_gen_func(self, alpha):\n",
      "  File \"/scratch/tmp.14570310.bdayan/ipykernel_78067/1602537128.py\", line 14, in girg_and_const_gen_func\n",
      "    g, edges, weights, pts, c, id2gnk = generation.cgirg_gen(n, d, tau, alpha, desiredAvgDegree=target_avg_degree, weights=None)\n",
      "  File \"/cluster/home/bdayan/girgs/benji_src/benji_girgs/generation.py\", line 254, in cgirg_gen\n",
      "    const = girgs.scaleWeights(weights, desiredAvgDegree, d, alpha)\n",
      "  File \"/cluster/home/bdayan/girgs/girg-sampling/girg_sampling/girgs.py\", line 34, in scaleWeights\n",
      "    return _libgirgs_wrapper.scaleWeights(weights, desiredAvgDegree, dimension, alpha)\n",
      "RuntimeError: Caught an unknown exception!\n",
      "\n",
      "During handling of the above exception, another exception occurred:\n",
      "\n",
      "Traceback (most recent call last):\n",
      "  File \"/cluster/home/bdayan/girgs/venv/lib64/python3.8/site-packages/IPython/core/interactiveshell.py\", line 2057, in showtraceback\n",
      "    stb = self.InteractiveTB.structured_traceback(\n",
      "  File \"/cluster/home/bdayan/girgs/venv/lib64/python3.8/site-packages/IPython/core/ultratb.py\", line 1288, in structured_traceback\n",
      "    return FormattedTB.structured_traceback(\n",
      "  File \"/cluster/home/bdayan/girgs/venv/lib64/python3.8/site-packages/IPython/core/ultratb.py\", line 1177, in structured_traceback\n",
      "    return VerboseTB.structured_traceback(\n",
      "  File \"/cluster/home/bdayan/girgs/venv/lib64/python3.8/site-packages/IPython/core/ultratb.py\", line 1030, in structured_traceback\n",
      "    formatted_exception = self.format_exception_as_a_whole(etype, evalue, etb, number_of_lines_of_context,\n",
      "  File \"/cluster/home/bdayan/girgs/venv/lib64/python3.8/site-packages/IPython/core/ultratb.py\", line 960, in format_exception_as_a_whole\n",
      "    frames.append(self.format_record(record))\n",
      "  File \"/cluster/home/bdayan/girgs/venv/lib64/python3.8/site-packages/IPython/core/ultratb.py\", line 870, in format_record\n",
      "    frame_info.lines, Colors, self.has_colors, lvals\n",
      "  File \"/cluster/home/bdayan/girgs/venv/lib64/python3.8/site-packages/IPython/core/ultratb.py\", line 704, in lines\n",
      "    return self._sd.lines\n",
      "  File \"/cluster/home/bdayan/girgs/venv/lib64/python3.8/site-packages/stack_data/utils.py\", line 144, in cached_property_wrapper\n",
      "    value = obj.__dict__[self.func.__name__] = self.func(obj)\n",
      "  File \"/cluster/home/bdayan/girgs/venv/lib64/python3.8/site-packages/stack_data/core.py\", line 734, in lines\n",
      "    pieces = self.included_pieces\n",
      "  File \"/cluster/home/bdayan/girgs/venv/lib64/python3.8/site-packages/stack_data/utils.py\", line 144, in cached_property_wrapper\n",
      "    value = obj.__dict__[self.func.__name__] = self.func(obj)\n",
      "  File \"/cluster/home/bdayan/girgs/venv/lib64/python3.8/site-packages/stack_data/core.py\", line 681, in included_pieces\n",
      "    pos = scope_pieces.index(self.executing_piece)\n",
      "  File \"/cluster/home/bdayan/girgs/venv/lib64/python3.8/site-packages/stack_data/utils.py\", line 144, in cached_property_wrapper\n",
      "    value = obj.__dict__[self.func.__name__] = self.func(obj)\n",
      "  File \"/cluster/home/bdayan/girgs/venv/lib64/python3.8/site-packages/stack_data/core.py\", line 660, in executing_piece\n",
      "    return only(\n",
      "  File \"/cluster/home/bdayan/girgs/venv/lib64/python3.8/site-packages/executing/executing.py\", line 190, in only\n",
      "    raise NotOneValueFound('Expected one value, found 0')\n",
      "executing.executing.NotOneValueFound: Expected one value, found 0\n"
     ]
    }
   ],
   "source": [
    "caf.step()"
   ]
  },
  {
   "cell_type": "code",
   "execution_count": 77,
   "metadata": {},
   "outputs": [
    {
     "ename": "RuntimeError",
     "evalue": "Caught an unknown exception!",
     "output_type": "error",
     "traceback": [
      "\u001b[0;31m---------------------------------------------------------------------------\u001b[0m",
      "\u001b[0;31mRuntimeError\u001b[0m                              Traceback (most recent call last)",
      "Cell \u001b[0;32mIn[77], line 1\u001b[0m\n\u001b[0;32m----> 1\u001b[0m ggirg \u001b[38;5;241m=\u001b[39m \u001b[43mcaf\u001b[49m\u001b[38;5;241;43m.\u001b[39;49m\u001b[43mgirg_gen_func\u001b[49m\u001b[43m(\u001b[49m\u001b[43mcaf\u001b[49m\u001b[38;5;241;43m.\u001b[39;49m\u001b[43mparam\u001b[49m\u001b[43m)\u001b[49m\n",
      "File \u001b[0;32m~/girgs/benji_src/benji_girgs/fitting.py:385\u001b[0m, in \u001b[0;36mgirg_gen_func\u001b[0;34m(self, alpha)\u001b[0m\n\u001b[1;32m    375\u001b[0m     \u001b[38;5;28mself\u001b[39m\u001b[38;5;241m.\u001b[39mtarget_avg_degree \u001b[38;5;241m=\u001b[39m target_avg_degree\n\u001b[1;32m    377\u001b[0m     \u001b[38;5;28msuper\u001b[39m()\u001b[38;5;241m.\u001b[39m\u001b[38;5;21m__init__\u001b[39m(target_std_gdist,\n\u001b[1;32m    378\u001b[0m                             \u001b[38;5;28mself\u001b[39m\u001b[38;5;241m.\u001b[39mgirg_gen_func,\n\u001b[1;32m    379\u001b[0m                             metric_func\u001b[38;5;241m=\u001b[39mutils\u001b[38;5;241m.\u001b[39mLCC, \n\u001b[0;32m   (...)\u001b[0m\n\u001b[1;32m    382\u001b[0m                             param_base\u001b[38;5;241m=\u001b[39m\u001b[38;5;241m1.0\u001b[39m,\n\u001b[1;32m    383\u001b[0m                             param_name\u001b[38;5;241m=\u001b[39m\u001b[38;5;124m'\u001b[39m\u001b[38;5;124malpha\u001b[39m\u001b[38;5;124m'\u001b[39m)\n\u001b[0;32m--> 385\u001b[0m \u001b[38;5;28;01mdef\u001b[39;00m \u001b[38;5;21mgirg_gen_func\u001b[39m(\u001b[38;5;28mself\u001b[39m, alpha):\n\u001b[1;32m    386\u001b[0m     girg, const \u001b[38;5;241m=\u001b[39m \u001b[38;5;28mself\u001b[39m\u001b[38;5;241m.\u001b[39mgirg_and_const_gen_func(alpha)\n\u001b[1;32m    387\u001b[0m     \u001b[38;5;28mself\u001b[39m\u001b[38;5;241m.\u001b[39mconst \u001b[38;5;241m=\u001b[39m const\n",
      "Cell \u001b[0;32mIn[55], line 14\u001b[0m, in \u001b[0;36mgirg_and_const_gen_func\u001b[0;34m(alpha)\u001b[0m\n\u001b[1;32m     13\u001b[0m \u001b[38;5;28;01mdef\u001b[39;00m \u001b[38;5;21mgirg_and_const_gen_func\u001b[39m(alpha):\n\u001b[0;32m---> 14\u001b[0m     g, edges, weights, pts, c, id2gnk \u001b[38;5;241m=\u001b[39m \u001b[43mgeneration\u001b[49m\u001b[38;5;241;43m.\u001b[39;49m\u001b[43mcgirg_gen\u001b[49m\u001b[43m(\u001b[49m\u001b[43mn\u001b[49m\u001b[43m,\u001b[49m\u001b[43m \u001b[49m\u001b[43md\u001b[49m\u001b[43m,\u001b[49m\u001b[43m \u001b[49m\u001b[43mtau\u001b[49m\u001b[43m,\u001b[49m\u001b[43m \u001b[49m\u001b[43malpha\u001b[49m\u001b[43m,\u001b[49m\u001b[43m \u001b[49m\u001b[43mdesiredAvgDegree\u001b[49m\u001b[38;5;241;43m=\u001b[39;49m\u001b[43mtarget_avg_degree\u001b[49m\u001b[43m,\u001b[49m\u001b[43m \u001b[49m\u001b[43mweights\u001b[49m\u001b[38;5;241;43m=\u001b[39;49m\u001b[38;5;28;43;01mNone\u001b[39;49;00m\u001b[43m)\u001b[49m\n\u001b[1;32m     15\u001b[0m     \u001b[38;5;28;01mreturn\u001b[39;00m g, c\n",
      "File \u001b[0;32m~/girgs/benji_src/benji_girgs/generation.py:254\u001b[0m, in \u001b[0;36mcgirg_gen\u001b[0;34m(n, d, tau, alpha, desiredAvgDegree, const, weights)\u001b[0m\n\u001b[1;32m    252\u001b[0m \u001b[38;5;28;01mif\u001b[39;00m const \u001b[38;5;129;01mis\u001b[39;00m \u001b[38;5;28;01mNone\u001b[39;00m:\n\u001b[1;32m    253\u001b[0m     \u001b[38;5;28;01mif\u001b[39;00m desiredAvgDegree \u001b[38;5;129;01mis\u001b[39;00m \u001b[38;5;129;01mnot\u001b[39;00m \u001b[38;5;28;01mNone\u001b[39;00m:\n\u001b[0;32m--> 254\u001b[0m         const \u001b[38;5;241m=\u001b[39m \u001b[43mgirgs\u001b[49m\u001b[38;5;241;43m.\u001b[39;49m\u001b[43mscaleWeights\u001b[49m\u001b[43m(\u001b[49m\u001b[43mweights\u001b[49m\u001b[43m,\u001b[49m\u001b[43m \u001b[49m\u001b[43mdesiredAvgDegree\u001b[49m\u001b[43m,\u001b[49m\u001b[43m \u001b[49m\u001b[43md\u001b[49m\u001b[43m,\u001b[49m\u001b[43m \u001b[49m\u001b[43malpha\u001b[49m\u001b[43m)\u001b[49m\n\u001b[1;32m    255\u001b[0m     \u001b[38;5;28;01melse\u001b[39;00m:  \n\u001b[1;32m    256\u001b[0m         const\u001b[38;5;241m=\u001b[39m\u001b[38;5;241m1.0\u001b[39m\n",
      "File \u001b[0;32m~/girgs/girg-sampling/girg_sampling/girgs.py:34\u001b[0m, in \u001b[0;36mscaleWeights\u001b[0;34m(weights, desiredAvgDegree, dimension, alpha)\u001b[0m\n\u001b[1;32m     31\u001b[0m \u001b[38;5;28;01mdef\u001b[39;00m \u001b[38;5;21mscaleWeights\u001b[39m(\n\u001b[1;32m     32\u001b[0m     weights: List[\u001b[38;5;28mfloat\u001b[39m], desiredAvgDegree: \u001b[38;5;28mfloat\u001b[39m, dimension: \u001b[38;5;28mint\u001b[39m, alpha: \u001b[38;5;28mfloat\u001b[39m\n\u001b[1;32m     33\u001b[0m ) \u001b[38;5;241m-\u001b[39m\u001b[38;5;241m>\u001b[39m \u001b[38;5;28mfloat\u001b[39m:\n\u001b[0;32m---> 34\u001b[0m     \u001b[38;5;28;01mreturn\u001b[39;00m \u001b[43m_libgirgs_wrapper\u001b[49m\u001b[38;5;241;43m.\u001b[39;49m\u001b[43mscaleWeights\u001b[49m\u001b[43m(\u001b[49m\u001b[43mweights\u001b[49m\u001b[43m,\u001b[49m\u001b[43m \u001b[49m\u001b[43mdesiredAvgDegree\u001b[49m\u001b[43m,\u001b[49m\u001b[43m \u001b[49m\u001b[43mdimension\u001b[49m\u001b[43m,\u001b[49m\u001b[43m \u001b[49m\u001b[43malpha\u001b[49m\u001b[43m)\u001b[49m\n",
      "\u001b[0;31mRuntimeError\u001b[0m: Caught an unknown exception!"
     ]
    }
   ],
   "source": [
    "ggirg = caf.girg_gen_func(caf.param)"
   ]
  },
  {
   "cell_type": "code",
   "execution_count": 75,
   "metadata": {},
   "outputs": [
    {
     "data": {
      "text/plain": [
       "True"
      ]
     },
     "execution_count": 75,
     "metadata": {},
     "output_type": "execute_result"
    }
   ],
   "source": [
    "caf.param == 1.0"
   ]
  },
  {
   "cell_type": "code",
   "execution_count": null,
   "metadata": {},
   "outputs": [],
   "source": []
  },
  {
   "cell_type": "code",
   "execution_count": 62,
   "metadata": {},
   "outputs": [
    {
     "name": "stdout",
     "output_type": "stream",
     "text": [
      "1.02\n"
     ]
    },
    {
     "ename": "KeyboardInterrupt",
     "evalue": "",
     "output_type": "error",
     "traceback": [
      "\u001b[0;31m---------------------------------------------------------------------------\u001b[0m",
      "\u001b[0;31mKeyboardInterrupt\u001b[0m                         Traceback (most recent call last)",
      "Cell \u001b[0;32mIn[62], line 14\u001b[0m\n\u001b[1;32m     11\u001b[0m     distances, std_distances, unique_dists, dist_counts \u001b[38;5;241m=\u001b[39m fitting\u001b[38;5;241m.\u001b[39mgraph_distances(g_sub, n_samples)\n\u001b[1;32m     12\u001b[0m     \u001b[38;5;28;01mreturn\u001b[39;00m np\u001b[38;5;241m.\u001b[39mmean(distances)\n\u001b[0;32m---> 14\u001b[0m mean_gdist_df \u001b[38;5;241m=\u001b[39m \u001b[43mplotting\u001b[49m\u001b[38;5;241;43m.\u001b[39;49m\u001b[43mmetric_func_alphas_plot\u001b[49m\u001b[43m(\u001b[49m\u001b[43mn\u001b[49m\u001b[43m,\u001b[49m\u001b[43m \u001b[49m\u001b[43md\u001b[49m\u001b[43m,\u001b[49m\u001b[43m \u001b[49m\u001b[43mtau\u001b[49m\u001b[43m,\u001b[49m\u001b[43m \u001b[49m\u001b[38;5;241;43m20.0\u001b[39;49m\u001b[43m,\u001b[49m\u001b[43m \u001b[49m\u001b[43mmean_gdist\u001b[49m\u001b[43m,\u001b[49m\u001b[43m \u001b[49m\u001b[38;5;124;43m'\u001b[39;49m\u001b[38;5;124;43mmean_gdist\u001b[39;49m\u001b[38;5;124;43m'\u001b[39;49m\u001b[43m)\u001b[49m\n\u001b[1;32m     15\u001b[0m plt\u001b[38;5;241m.\u001b[39mshow()\n",
      "File \u001b[0;32m~/girgs/benji_src/benji_girgs/plotting.py:110\u001b[0m, in \u001b[0;36mmetric_func_alphas_plot\u001b[0;34m(n, d, tau, target_degree, metric_func, metric_func_name, alphas)\u001b[0m\n\u001b[1;32m    108\u001b[0m g, edges, weights, pts, c, id2gnk \u001b[38;5;241m=\u001b[39m generation\u001b[38;5;241m.\u001b[39mcgirg_gen(n, d, tau, alpha, desiredAvgDegree\u001b[38;5;241m=\u001b[39mtarget_degree, weights\u001b[38;5;241m=\u001b[39m\u001b[38;5;28;01mNone\u001b[39;00m)\n\u001b[1;32m    109\u001b[0m \u001b[38;5;28;01mtry\u001b[39;00m:\n\u001b[0;32m--> 110\u001b[0m     metric \u001b[38;5;241m=\u001b[39m metric_func(g)\n\u001b[1;32m    111\u001b[0m     df\u001b[38;5;241m.\u001b[39mloc[i] \u001b[38;5;241m=\u001b[39m [alpha, metric]\n\u001b[1;32m    112\u001b[0m \u001b[38;5;28;01mexcept\u001b[39;00m \u001b[38;5;167;01mException\u001b[39;00m:\n",
      "Cell \u001b[0;32mIn[62], line 5\u001b[0m, in \u001b[0;36mmean_gdist\u001b[0;34m(g, degree_percentile, n_samples)\u001b[0m\n\u001b[1;32m      3\u001b[0m dd \u001b[38;5;241m=\u001b[39m np\u001b[38;5;241m.\u001b[39marray(dd)\n\u001b[1;32m      4\u001b[0m bot_percentile_degree_indices \u001b[38;5;241m=\u001b[39m np\u001b[38;5;241m.\u001b[39margsort(dd)[:\u001b[38;5;28mint\u001b[39m(degree_percentile\u001b[38;5;241m*\u001b[39m\u001b[38;5;28mlen\u001b[39m(dd))]\n\u001b[0;32m----> 5\u001b[0m g_sub \u001b[38;5;241m=\u001b[39m \u001b[43mutils\u001b[49m\u001b[38;5;241;43m.\u001b[39;49m\u001b[43mquick_subgraph\u001b[49m\u001b[43m(\u001b[49m\u001b[43mg\u001b[49m\u001b[43m,\u001b[49m\u001b[43m \u001b[49m\u001b[43mbot_percentile_degree_indices\u001b[49m\u001b[43m)\u001b[49m\n\u001b[1;32m      6\u001b[0m cc \u001b[38;5;241m=\u001b[39m nk\u001b[38;5;241m.\u001b[39mcomponents\u001b[38;5;241m.\u001b[39mConnectedComponents(g_sub)\n\u001b[1;32m      7\u001b[0m \u001b[38;5;66;03m# cc.run()\u001b[39;00m\n",
      "File \u001b[0;32m~/girgs/benji_src/benji_girgs/utils.py:381\u001b[0m, in \u001b[0;36mquick_subgraph\u001b[0;34m(g, indices)\u001b[0m\n\u001b[1;32m    379\u001b[0m \u001b[38;5;66;03m# g2 = nk.graphtools.subgraphFromNodes(g, indices)\u001b[39;00m\n\u001b[1;32m    380\u001b[0m indices_set \u001b[38;5;241m=\u001b[39m \u001b[38;5;28mset\u001b[39m(indices)\n\u001b[0;32m--> 381\u001b[0m edges \u001b[38;5;241m=\u001b[39m [(u, nhb) \u001b[38;5;28;01mfor\u001b[39;00m u \u001b[38;5;129;01min\u001b[39;00m indices \u001b[38;5;28;01mfor\u001b[39;00m nhb \u001b[38;5;129;01min\u001b[39;00m g\u001b[38;5;241m.\u001b[39miterNeighbors(u) \u001b[38;5;28;01mif\u001b[39;00m nhb \u001b[38;5;129;01min\u001b[39;00m indices_set]\n\u001b[1;32m    382\u001b[0m old2new_nodes \u001b[38;5;241m=\u001b[39m {}\n\u001b[1;32m    383\u001b[0m i \u001b[38;5;241m=\u001b[39m \u001b[38;5;241m0\u001b[39m\n",
      "File \u001b[0;32m~/girgs/benji_src/benji_girgs/utils.py:381\u001b[0m, in \u001b[0;36m<listcomp>\u001b[0;34m(.0)\u001b[0m\n\u001b[1;32m    379\u001b[0m \u001b[38;5;66;03m# g2 = nk.graphtools.subgraphFromNodes(g, indices)\u001b[39;00m\n\u001b[1;32m    380\u001b[0m indices_set \u001b[38;5;241m=\u001b[39m \u001b[38;5;28mset\u001b[39m(indices)\n\u001b[0;32m--> 381\u001b[0m edges \u001b[38;5;241m=\u001b[39m [(u, nhb) \u001b[38;5;28;01mfor\u001b[39;00m u \u001b[38;5;129;01min\u001b[39;00m indices \u001b[38;5;28;01mfor\u001b[39;00m nhb \u001b[38;5;129;01min\u001b[39;00m g\u001b[38;5;241m.\u001b[39miterNeighbors(u) \u001b[38;5;28;01mif\u001b[39;00m \u001b[43mnhb\u001b[49m\u001b[43m \u001b[49m\u001b[38;5;129;43;01min\u001b[39;49;00m\u001b[43m \u001b[49m\u001b[43mindices_set\u001b[49m]\n\u001b[1;32m    382\u001b[0m old2new_nodes \u001b[38;5;241m=\u001b[39m {}\n\u001b[1;32m    383\u001b[0m i \u001b[38;5;241m=\u001b[39m \u001b[38;5;241m0\u001b[39m\n",
      "\u001b[0;31mKeyboardInterrupt\u001b[0m: "
     ]
    }
   ],
   "source": [
    "def mean_gdist(g, degree_percentile=0.9, n_samples=1000):\n",
    "    dd = nk.centrality.DegreeCentrality(g).run().scores()\n",
    "    dd = np.array(dd)\n",
    "    bot_percentile_degree_indices = np.argsort(dd)[:int(degree_percentile*len(dd))]\n",
    "    g_sub = utils.quick_subgraph(g, bot_percentile_degree_indices)\n",
    "    cc = nk.components.ConnectedComponents(g_sub)\n",
    "    # cc.run()\n",
    "    g_sub = cc.extractLargestConnectedComponent(g_sub, True)\n",
    "    if g_sub.numberOfNodes() < degree_percentile*0.15*len(dd):\n",
    "        raise ValueError('Too many nodes removed')\n",
    "    distances, std_distances, unique_dists, dist_counts = fitting.graph_distances(g_sub, n_samples)\n",
    "    return np.mean(distances)\n",
    "    \n",
    "mean_gdist_df = plotting.metric_func_alphas_plot(n, d, tau, 20.0, mean_gdist, 'mean_gdist')\n",
    "plt.show()"
   ]
  },
  {
   "cell_type": "code",
   "execution_count": 45,
   "metadata": {},
   "outputs": [
    {
     "data": {
      "text/plain": [
       "4.538"
      ]
     },
     "execution_count": 45,
     "metadata": {},
     "output_type": "execute_result"
    }
   ],
   "source": []
  },
  {
   "cell_type": "code",
   "execution_count": 8,
   "metadata": {},
   "outputs": [
    {
     "data": {
      "text/plain": [
       "<networkit.centrality.LocalClusteringCoefficient at 0x2b3db7675c10>"
      ]
     },
     "execution_count": 8,
     "metadata": {},
     "output_type": "execute_result"
    }
   ],
   "source": [
    "std_gdist_df = plotting.metric_func_alphas_plot(n, d, tau, 20.0, fitting.regularised_std_graph_distance, 'std_gdist')\n",
    "plt.show()"
   ]
  },
  {
   "cell_type": "code",
   "execution_count": 14,
   "metadata": {},
   "outputs": [
    {
     "data": {
      "text/plain": [
       "2000"
      ]
     },
     "execution_count": 14,
     "metadata": {},
     "output_type": "execute_result"
    }
   ],
   "source": [
    "len(lcc.scores())"
   ]
  },
  {
   "cell_type": "code",
   "execution_count": 103,
   "metadata": {},
   "outputs": [
    {
     "name": "stderr",
     "output_type": "stream",
     "text": [
      "Values less than or equal to 0 in data. Throwing out 0 or negative values\n"
     ]
    },
    {
     "name": "stdout",
     "output_type": "stream",
     "text": [
      "Calculating best minimal value for power law fit\n",
      "target_avg_degree: 20.021\n",
      "target_std_gdist: 1.251\n",
      "fit tau: 2.247\n",
      "const: 0.309\n",
      "std_gdist: 1.395 -> std_gdist2: 1.18; overshoot: True, scale:0.150, alpha: 1.210\n",
      "const: 0.331\n",
      "std_gdist: 1.182 -> std_gdist2: 1.20; overshoot: False, scale:0.165, alpha: 1.247\n",
      "const: 0.379\n",
      "std_gdist: 1.200 -> std_gdist2: 1.25; overshoot: True, scale:0.083, alpha: 1.296\n",
      "Fit! fit_count: -1; post_fit_steps: 2\n",
      "const: 0.330\n",
      "std_gdist: 1.253 -> std_gdist2: 1.28; overshoot: False, scale:0.091, alpha: 1.271\n",
      "const: 0.328\n",
      "std_gdist: 1.279 -> std_gdist2: 1.34; overshoot: False, scale:0.100, alpha: 1.247\n",
      "const: 0.317\n",
      "std_gdist: 1.340 -> std_gdist2: 1.10; overshoot: True, scale:0.050, alpha: 1.222\n",
      "const: 0.316\n",
      "std_gdist: 1.100 -> std_gdist2: 1.25; overshoot: False, scale:0.055, alpha: 1.234\n",
      "Fit! fit_count: 2; post_fit_steps: 2\n",
      "const: 0.336\n",
      "std_gdist: 1.250 -> std_gdist2: 1.29; overshoot: True, scale:0.027, alpha: 1.247\n",
      "Fit! fit_count: 2; post_fit_steps: 2\n"
     ]
    }
   ],
   "source": [
    "n = 2000\n",
    "d = 2\n",
    "tau = 2.1\n",
    "alpha = 1.08\n",
    "target_degree = 20.0\n",
    "\n",
    "alpha, const, hist, fit = fitting.fit_cgirg(g, d, verbose=True)"
   ]
  },
  {
   "cell_type": "code",
   "execution_count": 106,
   "metadata": {},
   "outputs": [
    {
     "data": {
      "text/plain": [
       "'[(1.3, 1.3947584020180699), (1.21, 1.1818963575542485), (1.2470588235294118, 1.1995961820546113), (1.295878830574146, 1.253248179731373), (1.2714688270517789, 1.2792185114357906), (1.24683303099683, 1.3398567087565745), (1.2221929236775715, 1.1002381560371375), (1.233865747815408, 1.2499903999631357), (1.2474517783933732, 1.2904413973520843)]'"
      ]
     },
     "execution_count": 106,
     "metadata": {},
     "output_type": "execute_result"
    }
   ],
   "source": [
    "str(hist)"
   ]
  },
  {
   "cell_type": "code",
   "execution_count": 83,
   "metadata": {},
   "outputs": [
    {
     "name": "stdout",
     "output_type": "stream",
     "text": [
      "const: 0.237\n",
      "target_avg_degree: 20.010\n",
      "target_std_gdist: 0.982\n",
      "Calculating best minimal value for power law fit\n",
      "tau2: 2.3474322977206734\n"
     ]
    },
    {
     "name": "stderr",
     "output_type": "stream",
     "text": [
      "Values less than or equal to 0 in data. Throwing out 0 or negative values\n"
     ]
    },
    {
     "name": "stdout",
     "output_type": "stream",
     "text": [
      "Fit! fit_count: -1; post_fit_steps: 2\n",
      "const: 0.559\n",
      "std_gdist: 0.961 -> std_gdist2: 1.20; overshoot: True, scale:0.150, alpha: 1.429\n",
      "const: 0.520\n",
      "std_gdist: 1.196 -> std_gdist2: 1.09; overshoot: False, scale:0.165, alpha: 1.364\n",
      "const: 0.470\n",
      "std_gdist: 1.091 -> std_gdist2: 1.02; overshoot: False, scale:0.182, alpha: 1.304\n",
      "const: 0.458\n",
      "std_gdist: 1.021 -> std_gdist2: 1.04; overshoot: False, scale:0.200, alpha: 1.249\n",
      "const: 0.378\n",
      "std_gdist: 1.036 -> std_gdist2: 0.97; overshoot: True, scale:0.100, alpha: 1.199\n",
      "const: 0.416\n",
      "std_gdist: 0.969 -> std_gdist2: 0.90; overshoot: False, scale:0.110, alpha: 1.221\n",
      "const: 0.391\n",
      "std_gdist: 0.904 -> std_gdist2: 1.05; overshoot: True, scale:0.055, alpha: 1.249\n",
      "const: 0.438\n",
      "std_gdist: 1.055 -> std_gdist2: 0.91; overshoot: True, scale:0.027, alpha: 1.235\n",
      "const: 0.419\n",
      "std_gdist: 0.905 -> std_gdist2: 0.99; overshoot: True, scale:0.014, alpha: 1.242\n",
      "const: 0.442\n",
      "std_gdist: 0.994 -> std_gdist2: 0.95; overshoot: True, scale:0.007, alpha: 1.238\n",
      "Fit! fit_count: 2; post_fit_steps: 2\n",
      "const: 0.430\n",
      "std_gdist: 0.951 -> std_gdist2: 1.01; overshoot: True, scale:0.003, alpha: 1.240\n",
      "Fit! fit_count: 2; post_fit_steps: 2\n"
     ]
    }
   ],
   "source": [
    "n = 2000\n",
    "d = 2\n",
    "tau = 2.1\n",
    "alpha = 1.08\n",
    "target_degree = 20.0\n",
    "\n",
    "g, edges, weights, pts, const, id2gnk = generation.cgirg_gen(n, d, tau, alpha, desiredAvgDegree=target_degree)\n",
    "print(f'const: {const:.3f}')\n",
    "verbose=True\n",
    "\n",
    "target_avg_degree = utils.avg_degree(g)\n",
    "target_std_gdist = fitting.regularised_std_graph_distance(g)\n",
    "if verbose:\n",
    "    print(f'target_avg_degree: {target_avg_degree:.3f}')\n",
    "    print(f'target_std_gdist: {target_std_gdist:.3f}')\n",
    "\n",
    "dd = sorted(nk.centrality.DegreeCentrality(g).run().scores(), reverse=True)\n",
    "fit = powerlaw.Fit(dd, discrete=True)\n",
    "tau2 = fit.power_law.alpha\n",
    "print(f'tau2: {tau2}')\n",
    "\n",
    "n = g.numberOfNodes()\n",
    "\n",
    "\n",
    "def girg_and_const_gen_func(alpha):\n",
    "    g, edges, weights, pts, c, id2gnk = generation.cgirg_gen(n, d, tau2, alpha, desiredAvgDegree=target_avg_degree, weights=None)\n",
    "    return g, c\n",
    "\n",
    "caf = fitting.CGirgAlphaFitter(target_std_gdist, target_avg_degree, girg_and_const_gen_func)\n",
    "# Try to be quite lenient in allowing fitting to occur :)\n",
    "caf.fit_percent=0.04\n",
    "caf.max_fit_steps = 50\n",
    "caf.post_fit_steps = 2\n",
    "caf.verbose = verbose\n",
    "\n",
    "caf.fit()"
   ]
  },
  {
   "cell_type": "code",
   "execution_count": 84,
   "metadata": {},
   "outputs": [
    {
     "name": "stdout",
     "output_type": "stream",
     "text": [
      "1.02\n",
      "1.08\n",
      "1.3\n",
      "1.6\n",
      "2.0\n"
     ]
    },
    {
     "data": {
      "image/png": "[encoded data removed]",
      "text/plain": [
       "<Figure size 640x480 with 1 Axes>"
      ]
     },
     "metadata": {},
     "output_type": "display_data"
    }
   ],
   "source": [
    "df = fitting.reg_std_gdist_alphas_plot(n, d, tau)\n",
    "plt.show()"
   ]
  },
  {
   "cell_type": "code",
   "execution_count": 89,
   "metadata": {},
   "outputs": [
    {
     "name": "stdout",
     "output_type": "stream",
     "text": [
      "1.02\n",
      "1.08\n",
      "1.3\n",
      "1.6\n",
      "2.0\n"
     ]
    },
    {
     "data": {
      "image/png": "[encoded data removed]",
      "text/plain": [
       "<Figure size 640x480 with 1 Axes>"
      ]
     },
     "metadata": {},
     "output_type": "display_data"
    }
   ],
   "source": [
    "df = fitting.reg_std_gdist_alphas_plot(n, d, tau2)\n",
    "plt.show()"
   ]
  },
  {
   "cell_type": "code",
   "execution_count": 92,
   "metadata": {},
   "outputs": [
    {
     "name": "stderr",
     "output_type": "stream",
     "text": [
      "Values less than or equal to 0 in data. Throwing out 0 or negative values\n"
     ]
    },
    {
     "name": "stdout",
     "output_type": "stream",
     "text": [
      "Calculating best minimal value for power law fit\n",
      "powerlaw alpha: 2.347\n"
     ]
    },
    {
     "data": {
      "image/png": "[encoded data removed]",
      "text/plain": [
       "<Figure size 640x480 with 2 Axes>"
      ]
     },
     "metadata": {},
     "output_type": "display_data"
    }
   ],
   "source": [
    "plotting.plot_degree_dist(g, pl_fit=True, vlines=6)"
   ]
  },
  {
   "cell_type": "code",
   "execution_count": null,
   "metadata": {},
   "outputs": [],
   "source": [
    "n = 10000\n",
    "d = 2\n",
    "tau = 2.1\n",
    "alpha = 1.08\n",
    "target_degree = 20.0\n",
    "\n",
    "g, edges, weights, pts, const, id2gnk = generation.cgirg_gen(n, d, tau, alpha, desiredAvgDegree=target_degree)"
   ]
  },
  {
   "cell_type": "code",
   "execution_count": null,
   "metadata": {},
   "outputs": [],
   "source": [
    "g.isWeighted()"
   ]
  },
  {
   "cell_type": "code",
   "execution_count": 100,
   "metadata": {},
   "outputs": [
    {
     "name": "stderr",
     "output_type": "stream",
     "text": [
      "Values less than or equal to 0 in data. Throwing out 0 or negative values\n"
     ]
    },
    {
     "name": "stdout",
     "output_type": "stream",
     "text": [
      "Calculating best minimal value for power law fit\n",
      "powerlaw alpha: 2.247\n"
     ]
    },
    {
     "data": {
      "image/png": "[encoded data removed]",
      "text/plain": [
       "<Figure size 640x480 with 2 Axes>"
      ]
     },
     "metadata": {},
     "output_type": "display_data"
    }
   ],
   "source": [
    "plotting.plot_degree_dist(g, pl_fit=True, vlines=6)"
   ]
  },
  {
   "cell_type": "code",
   "execution_count": null,
   "metadata": {},
   "outputs": [],
   "source": []
  },
  {
   "cell_type": "code",
   "execution_count": null,
   "metadata": {},
   "outputs": [],
   "source": []
  },
  {
   "cell_type": "code",
   "execution_count": null,
   "metadata": {},
   "outputs": [],
   "source": []
  },
  {
   "cell_type": "code",
   "execution_count": 88,
   "metadata": {},
   "outputs": [
    {
     "data": {
      "text/plain": [
       "1.2399770696227301"
      ]
     },
     "execution_count": 88,
     "metadata": {},
     "output_type": "execute_result"
    },
    {
     "ename": "AttributeError",
     "evalue": "'CGirgAlphaFitter' object has no attribute 'tau'",
     "output_type": "error",
     "traceback": [
      "\u001b[0;31m---------------------------------------------------------------------------\u001b[0m",
      "\u001b[0;31mAttributeError\u001b[0m                            Traceback (most recent call last)",
      "Cell \u001b[0;32mIn[88], line 2\u001b[0m\n\u001b[1;32m      1\u001b[0m caf\u001b[38;5;241m.\u001b[39mparam\n\u001b[0;32m----> 2\u001b[0m \u001b[43mcaf\u001b[49m\u001b[38;5;241;43m.\u001b[39;49m\u001b[43mtau\u001b[49m\n",
      "\u001b[0;31mAttributeError\u001b[0m: 'CGirgAlphaFitter' object has no attribute 'tau'"
     ]
    }
   ],
   "source": [
    "caf.param\n",
    "caf.tau"
   ]
  },
  {
   "cell_type": "code",
   "execution_count": null,
   "metadata": {},
   "outputs": [],
   "source": []
  },
  {
   "cell_type": "code",
   "execution_count": 78,
   "metadata": {},
   "outputs": [
    {
     "data": {
      "text/plain": [
       "1.1884753089568163"
      ]
     },
     "execution_count": 78,
     "metadata": {},
     "output_type": "execute_result"
    }
   ],
   "source": [
    "fitting.regularised_std_graph_distance(g, n_samples=5000)"
   ]
  },
  {
   "cell_type": "code",
   "execution_count": 79,
   "metadata": {},
   "outputs": [
    {
     "name": "stdout",
     "output_type": "stream",
     "text": [
      "2000 2 2.32063440309481 1.08 20.0\n"
     ]
    }
   ],
   "source": [
    "print(n, d, tau, alpha,target_degree)"
   ]
  },
  {
   "cell_type": "code",
   "execution_count": 80,
   "metadata": {},
   "outputs": [
    {
     "data": {
      "text/plain": [
       "2.32063440309481"
      ]
     },
     "execution_count": 80,
     "metadata": {},
     "output_type": "execute_result"
    }
   ],
   "source": [
    "tau"
   ]
  },
  {
   "cell_type": "code",
   "execution_count": null,
   "metadata": {},
   "outputs": [],
   "source": []
  },
  {
   "cell_type": "code",
   "execution_count": 30,
   "metadata": {},
   "outputs": [
    {
     "data": {
      "text/plain": [
       "<Axes: xlabel='x', ylabel='y'>"
      ]
     },
     "execution_count": 30,
     "metadata": {},
     "output_type": "execute_result"
    }
   ],
   "source": [
    "df = pd.DataFrame(data={'x': [1,2], 'y': [3,4]})\n",
    "sns.swarmplot(data=df, x='x', y='y')"
   ]
  },
  {
   "cell_type": "code",
   "execution_count": 14,
   "metadata": {},
   "outputs": [
    {
     "name": "stdout",
     "output_type": "stream",
     "text": [
      "def reg_std_gdist_alphas_plot(n, d, tau, alphas=[1.02, 1.08, 1.3, 1.6, 2.0], target_degree=20.0):\n",
      "    \"\"\"\n",
      "    Plot the regularised standard graph distance as a function of alpha\n",
      "    \"\"\"\n",
      "    df = pd.DataFrame(columns=['alpha', 'std_gdist'])\n",
      "    i=0\n",
      "    for alpha in alphas:\n",
      "        print(alpha)\n",
      "        for _ in range(8):\n",
      "            g, edges, weights, pts, c, id2gnk = cgirg_gen(n, d, tau, alpha, desiredAvgDegree=target_degree, weights=None)\n",
      "            try:\n",
      "                std_gdist = regularised_std_graph_distance(g)\n",
      "                df.loc[i] = [alpha, std_gdist]\n",
      "            except ValueError:\n",
      "                pass\n",
      "            i += 1\n",
      "        \n",
      "        \n",
      "    # df['mean_std_gdist'] = df.std_gdists.apply(lambda x: np.mean(x))\n",
      "    # df['std_std_gdist'] = df.std_gdists.apply(lambda x: np.std(x))\n",
      "\n",
      "    df['alpha2'] = df.alpha.apply(lambda x: str(x))\n",
      "\n",
      "    sns.swarmplot(data=df, x='alpha2', y='std_gdist')\n",
      "\n"
     ]
    }
   ],
   "source": [
    "print(inspect.getsource(fitting.reg_std_gdist_alphas_plot))"
   ]
  },
  {
   "cell_type": "code",
   "execution_count": 37,
   "metadata": {},
   "outputs": [
    {
     "name": "stdout",
     "output_type": "stream",
     "text": [
      "1.02\n",
      "1.08\n",
      "1.3\n",
      "1.6\n",
      "2.0\n"
     ]
    },
    {
     "data": {
      "image/png": "[encoded data removed]",
      "text/plain": [
       "<Figure size 640x480 with 1 Axes>"
      ]
     },
     "metadata": {},
     "output_type": "display_data"
    }
   ],
   "source": [
    "def reg_std_gdist_alphas_plot(n, d, tau, alphas=[1.02, 1.08, 1.3, 1.6, 2.0], target_degree=20.0):\n",
    "    \"\"\"\n",
    "    Plot the regularised standard graph distance as a function of alpha\n",
    "    \"\"\"\n",
    "    df = pd.DataFrame(columns=['alpha', 'std_gdist'])\n",
    "    i=0\n",
    "    for alpha in alphas:\n",
    "        print(alpha)\n",
    "        for _ in range(8):\n",
    "            g, edges, weights, pts, c, id2gnk = generation.cgirg_gen(n, d, tau, alpha, desiredAvgDegree=target_degree, weights=None)\n",
    "            try:\n",
    "                std_gdist = fitting.regularised_std_graph_distance(g)\n",
    "                df.loc[i] = [alpha, std_gdist]\n",
    "            except ValueError:\n",
    "                pass\n",
    "            i += 1\n",
    "        \n",
    "        \n",
    "    # df['mean_std_gdist'] = df.std_gdists.apply(lambda x: np.mean(x))\n",
    "    # df['std_std_gdist'] = df.std_gdists.apply(lambda x: np.std(x))\n",
    "\n",
    "    df['alpha2'] = df.alpha.apply(lambda x: str(x))\n",
    "\n",
    "    sns.swarmplot(data=df, x='alpha2', y='std_gdist')\n",
    "    \n",
    "reg_std_gdist_alphas_plot(100, 2, 2.1)\n",
    "plt.show()"
   ]
  },
  {
   "cell_type": "code",
   "execution_count": 34,
   "metadata": {},
   "outputs": [
    {
     "name": "stdout",
     "output_type": "stream",
     "text": [
      "1.02\n",
      "1.08\n",
      "1.3\n",
      "1.6\n",
      "2.0\n"
     ]
    },
    {
     "data": {
      "text/plain": [
       "<Axes: xlabel='x', ylabel='y'>"
      ]
     },
     "execution_count": 34,
     "metadata": {},
     "output_type": "execute_result"
    },
    {
     "data": {
      "image/png": "[encoded data removed]",
      "text/plain": [
       "<Figure size 640x480 with 1 Axes>"
      ]
     },
     "metadata": {},
     "output_type": "display_data"
    },
    {
     "name": "stderr",
     "output_type": "stream",
     "text": [
      "/cluster/home/bdayan/girgs/venv/lib64/python3.8/site-packages/seaborn/categorical.py:3544: UserWarning: 12.5% of the points cannot be placed; you may want to decrease the size of the markers or use stripplot.\n",
      "  warnings.warn(msg, UserWarning)\n"
     ]
    },
    {
     "data": {
      "image/png": "[encoded data removed]",
      "text/plain": [
       "<Figure size 640x480 with 1 Axes>"
      ]
     },
     "metadata": {},
     "output_type": "display_data"
    }
   ],
   "source": [
    "df = pd.DataFrame(columns=['alpha', 'std_gdist'])\n",
    "i=0\n",
    "alphas = [1.02, 1.08, 1.3, 1.6, 2.0]\n",
    "for alpha in alphas:\n",
    "    print(alpha)\n",
    "    for _ in range(8):\n",
    "        g, edges, weights, pts, c, id2gnk = generation.cgirg_gen(100, d, tau, alpha, desiredAvgDegree=target_degree, weights=None)\n",
    "        try:\n",
    "            std_gdist = fitting.regularised_std_graph_distance(g, 0.9, n_samples=1000)\n",
    "            df.loc[i] = [alpha, std_gdist]\n",
    "        except ValueError:\n",
    "            pass\n",
    "        i += 1\n",
    "\n",
    "\n",
    "# df['mean_std_gdist'] = df.std_gdists.apply(lambda x: np.mean(x))\n",
    "# df['std_std_gdist'] = df.std_gdists.apply(lambda x: np.std(x))\n",
    "\n",
    "df['alpha2'] = df.alpha.apply(lambda x: str(x))\n",
    "\n",
    "sns.swarmplot(data=df, x='alpha2', y='std_gdist')\n",
    "plt.show()"
   ]
  },
  {
   "cell_type": "code",
   "execution_count": 7,
   "metadata": {},
   "outputs": [
    {
     "name": "stdout",
     "output_type": "stream",
     "text": [
      "const: 0.454\n"
     ]
    },
    {
     "data": {
      "text/plain": [
       "1.1766864493143447"
      ]
     },
     "execution_count": 7,
     "metadata": {},
     "output_type": "execute_result"
    },
    {
     "data": {
      "text/plain": [
       "1.2484854824946905"
      ]
     },
     "execution_count": 7,
     "metadata": {},
     "output_type": "execute_result"
    }
   ],
   "source": [
    "ggirg = caf.girg_gen_func(caf.param)\n",
    "# nk.overview(ggirg)\n",
    "fitting.regularised_std_graph_distance(ggirg, degree_percentile=0.9)\n",
    "caf.metric_func(ggirg)"
   ]
  },
  {
   "cell_type": "code",
   "execution_count": 6,
   "metadata": {},
   "outputs": [
    {
     "data": {
      "text/plain": [
       "1.7304785465298322"
      ]
     },
     "execution_count": 6,
     "metadata": {},
     "output_type": "execute_result"
    }
   ],
   "source": [
    "fitting.regularised_std_graph_distance(g, degree_percentile=0.9)"
   ]
  },
  {
   "cell_type": "code",
   "execution_count": 7,
   "metadata": {},
   "outputs": [
    {
     "data": {
      "text/plain": [
       "2.0"
      ]
     },
     "execution_count": 7,
     "metadata": {},
     "output_type": "execute_result"
    }
   ],
   "source": [
    "alpha"
   ]
  },
  {
   "cell_type": "code",
   "execution_count": null,
   "metadata": {},
   "outputs": [],
   "source": []
  },
  {
   "cell_type": "code",
   "execution_count": null,
   "metadata": {},
   "outputs": [],
   "source": []
  },
  {
   "cell_type": "code",
   "execution_count": 44,
   "metadata": {},
   "outputs": [
    {
     "name": "stdout",
     "output_type": "stream",
     "text": [
      "    def fit(self):\n",
      "        \"\"\"Steps until the average degree is within 3% of the target average degree\n",
      "        Some extra steps are taken once the fit is acheived to confirm that the fit is stable.\n",
      "        These extra steps may be repeated if the fit is not stable.\"\"\"\n",
      "        num_steps = 0\n",
      "        while True:\n",
      "            if self.fit_count == -1:\n",
      "                while not self.check_fit():\n",
      "                    self.step()\n",
      "                self.fit_count = 0\n",
      "            if self.fit_count == self.post_fit_steps:\n",
      "                if self.check_fit():\n",
      "                    break\n",
      "                else:\n",
      "                    self.fit_count = 0\n",
      "            self.step()\n",
      "            self.fit_count += 1\n",
      "\n",
      "        while True:\n",
      "            self.step()\n",
      "            num_steps +=1 \n",
      "            if num_steps > self.max_fit_steps:\n",
      "                raise NotImplementedError('Max fit steps exceeded')\n",
      "            now_fit = self.check_fit()\n",
      "            if self.fit_count == -1:\n",
      "                if now_fit:\n",
      "                    self.fit_count = 0\n",
      "            elif self.fit_count == self.post_fit_steps:\n",
      "                if now_fit:\n",
      "                    break\n",
      "                else:\n",
      "                    self.fit_count = 0\n",
      "            else:\n",
      "                self.fit_count += 1\n",
      "\n"
     ]
    }
   ],
   "source": [
    "import inspect\n",
    "print(inspect.getsource(caf.metric_func))"
   ]
  },
  {
   "cell_type": "code",
   "execution_count": 4,
   "metadata": {},
   "outputs": [],
   "source": [
    "n = 1000\n",
    "d = 3\n",
    "tau = 2.1\n",
    "alpha = 1.9\n",
    "const = 0.2\n",
    "weights=None\n",
    "std_gdists = []\n",
    "avg_degs = []\n",
    "for _ in range(5):\n",
    "    g, edges, weights, pts, c, id2gnk = generation.cgirg_gen(n, d, tau, alpha, const=const, weights=weights)\n",
    "    std_gdists.append(fitting.regularised_std_graph_distance(g))\n",
    "    avg_degs.append(utils.avg_degree(g))\n"
   ]
  },
  {
   "cell_type": "code",
   "execution_count": 20,
   "metadata": {
    "tags": []
   },
   "outputs": [
    {
     "name": "stdout",
     "output_type": "stream",
     "text": [
      "const: 0.144\n",
      "std_gdist: 1.257 -> std_gdist2: 1.72; overshoot: False, scale:0.330, alpha: 1.429\n",
      "const: 0.175\n",
      "std_gdist: 1.721 -> std_gdist2: 1.83; overshoot: False, scale:0.363, alpha: 1.640\n",
      "const: 0.227\n",
      "std_gdist: 1.835 -> std_gdist2: 1.73; overshoot: False, scale:0.399, alpha: 2.004\n",
      "const: 0.301\n",
      "std_gdist: 1.730 -> std_gdist2: 2.17; overshoot: True, scale:0.200, alpha: 2.672\n",
      "const: 0.271\n",
      "std_gdist: 2.170 -> std_gdist2: 2.69; overshoot: False, scale:0.220, alpha: 2.338\n",
      "const: 0.233\n",
      "std_gdist: 2.693 -> std_gdist2: 1.91; overshoot: True, scale:0.110, alpha: 2.044\n",
      "const: 0.274\n",
      "std_gdist: 1.905 -> std_gdist2: 2.00; overshoot: False, scale:0.121, alpha: 2.173\n",
      "Fit! fit_count: -1; post_fit_steps: 2\n",
      "const: 0.247\n",
      "std_gdist: 2.003 -> std_gdist2: 2.24; overshoot: True, scale:0.060, alpha: 2.334\n",
      "const: 0.265\n",
      "std_gdist: 2.238 -> std_gdist2: 2.04; overshoot: True, scale:0.030, alpha: 2.253\n",
      "Fit! fit_count: 2; post_fit_steps: 2\n"
     ]
    }
   ],
   "source": [
    "target_avg_degree=14.73\n",
    "target_std_gdist = 2.05\n",
    "\n",
    "weights=None\n",
    "# weights = list(degrees))\n",
    "def girg_and_const_gen_func(alpha):\n",
    "    g, edges, weights, pts, c, id2gnk = generation.cgirg_gen(n, d, tau, alpha, desiredAvgDegree=target_avg_degree, weights=None)\n",
    "    return g, c\n",
    "\n",
    "caf = fitting.CGirgAlphaFitter(target_std_gdist, target_avg_degree, girg_and_const_gen_func)\n",
    "caf.verbose=True\n",
    "caf.post_fit_steps=2\n",
    "# caf.fit_percent=fitting.get_fit_percent(target_std_gdist)\n",
    "caf.fit_percent = 0.03\n",
    "caf.fit()\n",
    "# for _ in range(15):\n",
    "#     caf.step()\n",
    "#     girg = caf.girg_gen_func(caf.param)\n",
    "#     print(f'avg degree: {utils.avg_degree(girg):.3f}')"
   ]
  },
  {
   "cell_type": "code",
   "execution_count": 18,
   "metadata": {},
   "outputs": [
    {
     "name": "stdout",
     "output_type": "stream",
     "text": [
      "const: 0.252\n",
      "caf girg: 2.221 rep girg: 2.846\n",
      "const: 0.252\n",
      "caf girg: 2.504 rep girg: 4.230\n",
      "const: 0.243\n",
      "caf girg: 3.149 rep girg: 2.463\n",
      "const: 0.246\n",
      "caf girg: 2.160 rep girg: 2.310\n",
      "const: 0.233\n",
      "caf girg: 2.480 rep girg: 2.124\n",
      "const: 0.243\n",
      "caf girg: 2.475 rep girg: 2.127\n",
      "const: 0.266\n",
      "caf girg: 1.967 rep girg: 1.700\n",
      "const: 0.256\n",
      "caf girg: 2.007 rep girg: 2.234\n",
      "const: 0.218\n",
      "caf girg: 2.797 rep girg: 3.505\n",
      "const: 0.223\n",
      "caf girg: 1.829 rep girg: 2.206\n"
     ]
    }
   ],
   "source": [
    "caf.verbose=True\n",
    "for _ in range(10):\n",
    "    girg = caf.girg_gen_func(caf.param)\n",
    "#     print(caf.metric_func(girg))\n",
    "    g, edges, weights, pts, c, id2gnk = generation.cgirg_gen(n, d, tau, caf.param, const=caf.const, weights=None)\n",
    "    print(f'caf girg: {fitting.regularised_std_graph_distance(girg):.3f} rep girg: {fitting.regularised_std_graph_distance(g):.3f}')"
   ]
  },
  {
   "cell_type": "code",
   "execution_count": 15,
   "metadata": {},
   "outputs": [
    {
     "data": {
      "text/plain": [
       "(1.9, 2.1542134724545616)"
      ]
     },
     "execution_count": 15,
     "metadata": {},
     "output_type": "execute_result"
    }
   ],
   "source": [
    "alpha, caf.param"
   ]
  },
  {
   "cell_type": "code",
   "execution_count": 10,
   "metadata": {},
   "outputs": [
    {
     "name": "stdout",
     "output_type": "stream",
     "text": [
      "2.42794542772279\n",
      "2.432920878286016\n",
      "2.2723993927124693\n",
      "2.3330460775561206\n",
      "2.3962938050247513\n"
     ]
    }
   ],
   "source": [
    "for _ in range(5):\n",
    "    g, edges, weights, pts, c, id2gnk = generation.cgirg_gen(n, d, tau, alpha, const=const, weights=weights)\n",
    "    print(fitting.regularised_std_graph_distance(g))"
   ]
  },
  {
   "cell_type": "code",
   "execution_count": 7,
   "metadata": {},
   "outputs": [],
   "source": [
    "target_avg_degree=14.73\n",
    "target_std_gdist = 2.05\n",
    "\n",
    "weights=None\n",
    "# weights = list(degrees))\n",
    "def girg_and_const_gen_func(alpha):\n",
    "    g, edges, weights, pts, c, id2gnk = generation.cgirg_gen(n, d, tau, alpha, desiredAvgDegree=target_avg_degree, weights=None)\n",
    "    return g, c\n",
    "\n",
    "g, c = girg_and_const_gen_func(1.5)"
   ]
  },
  {
   "cell_type": "code",
   "execution_count": 16,
   "metadata": {},
   "outputs": [],
   "source": [
    "caf = fitting.CGirgAlphaFitter(target_std_gdist, target_avg_degree, girg_and_const_gen_func)\n",
    "caf.verbose=True\n",
    "caf.post_fit_steps=2\n",
    "# caf.fit_percent=fitting.get_fit_percent(target_std_gdist)\n",
    "caf.fit_percent = 0.03\n",
    "\n",
    "self = caf"
   ]
  },
  {
   "cell_type": "code",
   "execution_count": 11,
   "metadata": {},
   "outputs": [
    {
     "name": "stdout",
     "output_type": "stream",
     "text": [
      "const: 0.177\n"
     ]
    },
    {
     "data": {
      "text/plain": [
       "15.096"
      ]
     },
     "execution_count": 11,
     "metadata": {},
     "output_type": "execute_result"
    }
   ],
   "source": [
    "utils.avg_degree(caf.girg_gen_func(1.5))"
   ]
  },
  {
   "cell_type": "code",
   "execution_count": 17,
   "metadata": {},
   "outputs": [
    {
     "data": {
      "text/plain": [
       "1.4285714285714286"
      ]
     },
     "execution_count": 17,
     "metadata": {},
     "output_type": "execute_result"
    }
   ],
   "source": [
    "fitting.scale_param(self.param, self.scale, self.param_base, self.larger)\n"
   ]
  },
  {
   "cell_type": "code",
   "execution_count": 18,
   "metadata": {},
   "outputs": [
    {
     "name": "stdout",
     "output_type": "stream",
     "text": [
      "const: 0.137\n"
     ]
    }
   ],
   "source": [
    "girg = self.girg_gen_func(self.param)"
   ]
  },
  {
   "cell_type": "code",
   "execution_count": 21,
   "metadata": {},
   "outputs": [],
   "source": [
    "metric = self.metric_func(girg)"
   ]
  },
  {
   "cell_type": "code",
   "execution_count": 22,
   "metadata": {},
   "outputs": [],
   "source": [
    "larger = metric < self.target_metric\n",
    "\n",
    "self.overshoot = (larger != self.larger)\n",
    "self.scale *= (self.scale_down if self.overshoot else self.scale_up)\n",
    "self.scale = min(self.scale, 0.9)"
   ]
  },
  {
   "cell_type": "code",
   "execution_count": 23,
   "metadata": {},
   "outputs": [
    {
     "name": "stdout",
     "output_type": "stream",
     "text": [
      "const: 0.161\n",
      "std_gdist: 1.564 -> std_gdist2: 1.56; overshoot: False, scale:0.363, alpha: 1.448\n"
     ]
    }
   ],
   "source": [
    "caf.step()"
   ]
  },
  {
   "cell_type": "code",
   "execution_count": null,
   "metadata": {},
   "outputs": [],
   "source": [
    "girg = caf.girg_gen_func(caf.alpha)"
   ]
  },
  {
   "cell_type": "code",
   "execution_count": null,
   "metadata": {},
   "outputs": [],
   "source": []
  },
  {
   "cell_type": "code",
   "execution_count": null,
   "metadata": {},
   "outputs": [],
   "source": []
  },
  {
   "cell_type": "code",
   "execution_count": null,
   "metadata": {},
   "outputs": [],
   "source": []
  },
  {
   "cell_type": "code",
   "execution_count": null,
   "metadata": {},
   "outputs": [],
   "source": []
  },
  {
   "cell_type": "code",
   "execution_count": 43,
   "metadata": {},
   "outputs": [
    {
     "data": {
      "text/plain": [
       "[(1.1, 0.1),\n",
       " (1.1, 1.0),\n",
       " (1.1, 5.0),\n",
       " (1.3, 0.1),\n",
       " (1.3, 1.0),\n",
       " (1.3, 5.0),\n",
       " (2.0, 0.1),\n",
       " (2.0, 1.0),\n",
       " (2.0, 5.0)]"
      ]
     },
     "execution_count": 43,
     "metadata": {},
     "output_type": "execute_result"
    }
   ],
   "source": [
    "alphas = 1.1, 1.3, 2.0\n",
    "consts = 0.1, 1.0, 5.0\n",
    "\n",
    "[(alpha, const) for alpha in alphas for const in consts]"
   ]
  },
  {
   "cell_type": "code",
   "execution_count": null,
   "metadata": {},
   "outputs": [],
   "source": []
  },
  {
   "cell_type": "code",
   "execution_count": null,
   "metadata": {},
   "outputs": [],
   "source": [
    "n = 500\n",
    "d = 2\n",
    "tau = 2.1\n",
    "alpha = 1.1\n",
    "target_degree = 10.0\n",
    "weights=None\n",
    "\n",
    "df = pd.DataFrame(columns=['alpha', 'std_gdist', 'mean_gedist'])\n",
    "i=0\n",
    "for alpha in alphas:\n",
    "    print(alpha)\n",
    "    for _ in range(8):\n",
    "        g, edges, weights, pts, c, id2gnk = generation.cgirg_gen(n, d, tau, alpha, desiredAvgDegree=target_degree, weights=weights)\n",
    "        try:\n",
    "            std_gdist = fitting.regularised_std_graph_distance(g, 1.0, n_samples=1000)\n",
    "            df.loc[2*i] = [alpha, std_gdist, False]\n",
    "        except ValueError:\n",
    "            pass\n",
    "        try:\n",
    "            std_gdist2 = fitting.regularised_std_graph_distance(g, 1.0, n_samples=4000)\n",
    "            df.loc[2*i + 1] = [alpha, std_gdist, True]\n",
    "        except ValueError:\n",
    "            continue\n",
    "        i += 1\n",
    "    \n",
    "    \n",
    "# df['mean_std_gdist'] = df.std_gdists.apply(lambda x: np.mean(x))\n",
    "# df['std_std_gdist'] = df.std_gdists.apply(lambda x: np.std(x))\n",
    "df['alpha2'] = df.alpha.apply(lambda x: str(x))\n",
    "\n",
    "sns.swarmplot(data=df, x='alpha2', y='std_gdist', hue='all')\n",
    "\n"
   ]
  },
  {
   "cell_type": "code",
   "execution_count": 47,
   "metadata": {},
   "outputs": [
    {
     "data": {
      "text/plain": [
       "<Axes: xlabel='mean_dist', ylabel='std_gdist'>"
      ]
     },
     "execution_count": 47,
     "metadata": {},
     "output_type": "execute_result"
    },
    {
     "data": {
      "image/png": "[encoded data removed]",
      "text/plain": [
       "<Figure size 640x480 with 1 Axes>"
      ]
     },
     "metadata": {},
     "output_type": "display_data"
    }
   ],
   "source": [
    "n = 500\n",
    "d = 2\n",
    "tau = 2.1\n",
    "alphas = 1.02, 1.1, 1.3, 1.6, 2.0\n",
    "target_degree = 10.0\n",
    "weights=None\n",
    "\n",
    "df = pd.DataFrame(columns=['alpha', 'std_gdist', 'mean_dist', 'degree_percentile'])\n",
    "i=0\n",
    "# for alpha in alphas:\n",
    "#     print(alpha)\n",
    "for degree_percentile in 0.8, 0.9, 1.0:\n",
    "    for _ in range(8):\n",
    "        g, edges, weights, pts, c, id2gnk = generation.cgirg_gen(n, d, tau, alpha, desiredAvgDegree=target_degree, weights=weights)\n",
    "        try:\n",
    "#             degree_percentile=1.0\n",
    "            n_samples=1000\n",
    "            dd = nk.centrality.DegreeCentrality(g).run().scores()\n",
    "            dd = np.array(dd)\n",
    "            bot_percentile_degree_indices = np.argsort(dd)[:int(degree_percentile*len(dd))]\n",
    "            g_sub = utils.quick_subgraph(g, bot_percentile_degree_indices)\n",
    "            cc = nk.components.ConnectedComponents(g_sub)\n",
    "            # cc.run()\n",
    "            g_sub = cc.extractLargestConnectedComponent(g_sub, True)\n",
    "            if g_sub.numberOfNodes() < degree_percentile*0.15*len(dd):\n",
    "                raise ValueError('Too many nodes removed')\n",
    "            distances, std_distances, unique_dists, dist_counts = fitting.graph_distances(g_sub, n_samples)\n",
    "            mean_dist = np.mean(distances)\n",
    "            df.loc[i] = [alpha, std_distances, mean_dist, degree_percentile]\n",
    "        except ValueError:\n",
    "            continue\n",
    "        i += 1\n",
    "    \n",
    "    \n",
    "# df['mean_std_gdist'] = df.std_gdists.apply(lambda x: np.mean(x))\n",
    "# df['std_std_gdist'] = df.std_gdists.apply(lambda x: np.std(x))\n",
    "df['alpha2'] = df.alpha.apply(lambda x: str(x))\n",
    "\n",
    "sns.swarmplot(data=df, x='mean_dist', y='std_gdist', hue='degree_percentile')\n",
    "\n"
   ]
  },
  {
   "cell_type": "code",
   "execution_count": 17,
   "metadata": {},
   "outputs": [
    {
     "name": "stdout",
     "output_type": "stream",
     "text": [
      "1.02\n",
      "1.08\n",
      "1.3\n",
      "1.6\n",
      "2.0\n"
     ]
    },
    {
     "data": {
      "text/plain": [
       "<Axes: xlabel='alpha2', ylabel='std_gdist'>"
      ]
     },
     "execution_count": 17,
     "metadata": {},
     "output_type": "execute_result"
    },
    {
     "data": {
      "image/png": "[encoded data removed]",
      "text/plain": [
       "<Figure size 640x480 with 1 Axes>"
      ]
     },
     "metadata": {},
     "output_type": "display_data"
    }
   ],
   "source": [
    "n = 2000\n",
    "d = 2\n",
    "tau = 2.1\n",
    "alpha = 1.08\n",
    "alphas = 1.02, 1.08, 1.3, 1.6, 2.0\n",
    "target_degree = 17.1\n",
    "weights=None\n",
    "\n",
    "df = pd.DataFrame(columns=['alpha', 'std_gdist', '4000 samples (or 500)'])\n",
    "i=0\n",
    "for alpha in alphas:\n",
    "    print(alpha)\n",
    "    for _ in range(8):\n",
    "        g, edges, weights, pts, c, id2gnk = generation.cgirg_gen(n, d, tau, alpha, desiredAvgDegree=target_degree, weights=weights)\n",
    "        try:\n",
    "            std_gdist = fitting.regularised_std_graph_distance(g, 0.9, n_samples=1000)\n",
    "            df.loc[2*i] = [alpha, std_gdist, False]\n",
    "        except ValueError:\n",
    "            pass\n",
    "        \n",
    "#         try:\n",
    "#             std_gdist = fitting.regularised_std_graph_distance(g, 0.85, n_samples=4000)\n",
    "#             df.loc[2*i+1] = [alpha, std_gdist, True]\n",
    "#         except ValueError:\n",
    "#             pass\n",
    "        i += 1\n",
    "    \n",
    "    \n",
    "# df['mean_std_gdist'] = df.std_gdists.apply(lambda x: np.mean(x))\n",
    "# df['std_std_gdist'] = df.std_gdists.apply(lambda x: np.std(x))\n",
    "df['alpha2'] = df.alpha.apply(lambda x: str(x))\n",
    "\n",
    "sns.swarmplot(data=df, x='alpha2', y='std_gdist', hue='4000 samples (or 500)')\n",
    "\n"
   ]
  },
  {
   "cell_type": "code",
   "execution_count": 26,
   "metadata": {},
   "outputs": [
    {
     "name": "stdout",
     "output_type": "stream",
     "text": [
      "1.02\n",
      "1.1\n"
     ]
    },
    {
     "name": "stderr",
     "output_type": "stream",
     "text": [
      "/cluster/home/bdayan/girgs/benji_src/benji_girgs/fitting.py:91: RuntimeWarning: invalid value encountered in cast\n",
      "  fixed_infinite_dist = False\n",
      "/cluster/home/bdayan/girgs/benji_src/benji_girgs/fitting.py:91: RuntimeWarning: invalid value encountered in cast\n",
      "  fixed_infinite_dist = False\n",
      "/cluster/home/bdayan/girgs/benji_src/benji_girgs/fitting.py:91: RuntimeWarning: invalid value encountered in cast\n",
      "  fixed_infinite_dist = False\n"
     ]
    },
    {
     "name": "stdout",
     "output_type": "stream",
     "text": [
      "1.3\n"
     ]
    },
    {
     "name": "stderr",
     "output_type": "stream",
     "text": [
      "/cluster/home/bdayan/girgs/benji_src/benji_girgs/fitting.py:91: RuntimeWarning: invalid value encountered in cast\n",
      "  fixed_infinite_dist = False\n",
      "/cluster/home/bdayan/girgs/benji_src/benji_girgs/fitting.py:91: RuntimeWarning: invalid value encountered in cast\n",
      "  fixed_infinite_dist = False\n",
      "/cluster/home/bdayan/girgs/benji_src/benji_girgs/fitting.py:91: RuntimeWarning: invalid value encountered in cast\n",
      "  fixed_infinite_dist = False\n",
      "/cluster/home/bdayan/girgs/benji_src/benji_girgs/fitting.py:91: RuntimeWarning: invalid value encountered in cast\n",
      "  fixed_infinite_dist = False\n"
     ]
    },
    {
     "name": "stdout",
     "output_type": "stream",
     "text": [
      "1.6\n"
     ]
    },
    {
     "name": "stderr",
     "output_type": "stream",
     "text": [
      "/cluster/home/bdayan/girgs/benji_src/benji_girgs/fitting.py:91: RuntimeWarning: invalid value encountered in cast\n",
      "  fixed_infinite_dist = False\n",
      "/cluster/home/bdayan/girgs/benji_src/benji_girgs/fitting.py:91: RuntimeWarning: invalid value encountered in cast\n",
      "  fixed_infinite_dist = False\n",
      "/cluster/home/bdayan/girgs/benji_src/benji_girgs/fitting.py:91: RuntimeWarning: invalid value encountered in cast\n",
      "  fixed_infinite_dist = False\n",
      "/cluster/home/bdayan/girgs/benji_src/benji_girgs/fitting.py:91: RuntimeWarning: invalid value encountered in cast\n",
      "  fixed_infinite_dist = False\n",
      "/cluster/home/bdayan/girgs/benji_src/benji_girgs/fitting.py:91: RuntimeWarning: invalid value encountered in cast\n",
      "  fixed_infinite_dist = False\n"
     ]
    },
    {
     "name": "stdout",
     "output_type": "stream",
     "text": [
      "2.0\n"
     ]
    },
    {
     "name": "stderr",
     "output_type": "stream",
     "text": [
      "/cluster/home/bdayan/girgs/benji_src/benji_girgs/fitting.py:91: RuntimeWarning: invalid value encountered in cast\n",
      "  fixed_infinite_dist = False\n",
      "/cluster/home/bdayan/girgs/benji_src/benji_girgs/fitting.py:91: RuntimeWarning: invalid value encountered in cast\n",
      "  fixed_infinite_dist = False\n",
      "/cluster/home/bdayan/girgs/benji_src/benji_girgs/fitting.py:91: RuntimeWarning: invalid value encountered in cast\n",
      "  fixed_infinite_dist = False\n",
      "/cluster/home/bdayan/girgs/benji_src/benji_girgs/fitting.py:91: RuntimeWarning: invalid value encountered in cast\n",
      "  fixed_infinite_dist = False\n",
      "/cluster/home/bdayan/girgs/benji_src/benji_girgs/fitting.py:91: RuntimeWarning: invalid value encountered in cast\n",
      "  fixed_infinite_dist = False\n"
     ]
    },
    {
     "data": {
      "text/plain": [
       "<Axes: xlabel='alpha2', ylabel='std_gdist'>"
      ]
     },
     "execution_count": 26,
     "metadata": {},
     "output_type": "execute_result"
    },
    {
     "data": {
      "text/plain": [
       "<Axes: xlabel='alpha2', ylabel='std_gdist'>"
      ]
     },
     "execution_count": 26,
     "metadata": {},
     "output_type": "execute_result"
    },
    {
     "data": {
      "image/png": "[encoded data removed]",
      "text/plain": [
       "<Figure size 640x480 with 1 Axes>"
      ]
     },
     "metadata": {},
     "output_type": "display_data"
    }
   ],
   "source": [
    "n =4000\n",
    "d = 2\n",
    "tau = 2.1\n",
    "alphas = 1.02, 1.1, 1.3, 1.6, 2.0\n",
    "target_degree = 20.0\n",
    "weights=None\n",
    "\n",
    "df = pd.DataFrame(columns=['alpha', 'std_gdist', 'non_reg_std_gdist'])\n",
    "i=0\n",
    "for alpha in alphas:\n",
    "    print(alpha)\n",
    "    try:\n",
    "        for _ in range(5):\n",
    "            g, edges, weights, pts, c, id2gnk = generation.cgirg_gen(n, d, tau, alpha, desiredAvgDegree=target_degree, weights=weights)\n",
    "            std_gdist = fitting.regularised_std_graph_distance(g)\n",
    "            _, non_reg_std_gdist, _, _ = fitting.graph_distances(g)\n",
    "            df.loc[i] = [alpha, std_gdist, non_reg_std_gdist]\n",
    "            i += 1\n",
    "    except ValueError:\n",
    "        continue\n",
    "    \n",
    "    \n",
    "# df['mean_std_gdist'] = df.std_gdists.apply(lambda x: np.mean(x))\n",
    "# df['std_std_gdist'] = df.std_gdists.apply(lambda x: np.std(x))\n",
    "df['alpha2'] = df.alpha.apply(lambda x: str(x))\n",
    "\n",
    "sns.swarmplot(data=df, x='alpha2', y='std_gdist') # , hue_order=_genders, aspect=1.61)\n",
    "sns.swarmplot(data=df, x='alpha2', y='non_reg_std_gdist') # , hue_order=_genders, aspect=1.61)\n",
    "\n"
   ]
  },
  {
   "cell_type": "code",
   "execution_count": 25,
   "metadata": {},
   "outputs": [
    {
     "name": "stdout",
     "output_type": "stream",
     "text": [
      "1.02\n",
      "1.1\n",
      "1.3\n",
      "1.6\n",
      "2.0\n"
     ]
    },
    {
     "data": {
      "image/png": "[encoded data removed]",
      "text/plain": [
       "<Figure size 640x480 with 1 Axes>"
      ]
     },
     "metadata": {},
     "output_type": "display_data"
    }
   ],
   "source": [
    "n =1000\n",
    "d = 2\n",
    "tau = 2.1\n",
    "alphas = 1.02, 1.1, 1.3, 1.6, 2.0\n",
    "target_degree = 5.0\n",
    "weights=None\n",
    "\n",
    "df = pd.DataFrame(columns=['alpha', 'std_gdist'])\n",
    "i=0\n",
    "for alpha in alphas:\n",
    "    print(alpha)\n",
    "    try:\n",
    "        for _ in range(9):\n",
    "            g, edges, weights, pts, c, id2gnk = generation.cgirg_gen(n, d, tau, alpha, desiredAvgDegree=target_degree, weights=weights)\n",
    "            std_gdist = fitting.regularised_std_graph_distance(g)\n",
    "            df.loc[i] = [alpha, std_gdist]\n",
    "            i += 1\n",
    "    except ValueError:\n",
    "        continue\n",
    "    \n",
    "    \n",
    "# df['mean_std_gdist'] = df.std_gdists.apply(lambda x: np.mean(x))\n",
    "# df['std_std_gdist'] = df.std_gdists.apply(lambda x: np.std(x))\n",
    "df['alpha2'] = df.alpha.apply(lambda x: str(x))\n",
    "\n",
    "g = sns.swarmplot(data=df, x='alpha2', y='std_gdist') # , hue_order=_genders, aspect=1.61)\n",
    "\n"
   ]
  },
  {
   "cell_type": "code",
   "execution_count": 55,
   "metadata": {},
   "outputs": [
    {
     "name": "stdout",
     "output_type": "stream",
     "text": [
      "1.02 5.0\n",
      "1.02 10.0\n",
      "1.02 20.0\n",
      "1.02 40.0\n",
      "1.02 80.0\n",
      "1.1 5.0\n",
      "1.1 10.0\n",
      "1.1 20.0\n",
      "1.1 40.0\n",
      "1.1 80.0\n",
      "1.3 5.0\n",
      "1.3 10.0\n",
      "1.3 20.0\n",
      "1.3 40.0\n",
      "1.3 80.0\n",
      "2.0 5.0\n",
      "2.0 10.0\n",
      "2.0 20.0\n",
      "2.0 40.0\n",
      "2.0 80.0\n"
     ]
    }
   ],
   "source": [
    "n =1000\n",
    "d = 2\n",
    "tau = 2.1\n",
    "alphas = 1.02, 1.1, 1.3, 2.0\n",
    "target_degrees = 5.0, 10.0, 20.0, 40.0, 80.0\n",
    "weights=None\n",
    "\n",
    "df = pd.DataFrame(columns=['alpha', 'target_degree', 'std_gdists', 'avg_degs'])\n",
    "\n",
    "for i, (alpha, target_degree) in enumerate([(alpha, target_degree) for alpha in alphas for target_degree in target_degrees]):\n",
    "    print(alpha, target_degree)\n",
    "    std_gdists = []\n",
    "    avg_degs = []\n",
    "    try:\n",
    "        for _ in range(8):\n",
    "            g, edges, weights, pts, c, id2gnk = generation.cgirg_gen(n, d, tau, alpha, desiredAvgDegree=target_degree, weights=weights)\n",
    "            std_gdists.append(fitting.regularised_std_graph_distance(g))\n",
    "            avg_degs.append(utils.avg_degree(g))\n",
    "    except ValueError:\n",
    "        continue\n",
    "        \n",
    "    df.loc[i] = [alpha, target_degree, std_gdists, avg_degs]\n",
    "    \n",
    "    \n",
    "df['mean_std_gdist'] = df.std_gdists.apply(lambda x: np.mean(x))\n",
    "df['std_std_gdist'] = df.std_gdists.apply(lambda x: np.std(x))\n",
    "df['avg_degree'] = df.avg_degs.apply(lambda x: np.mean(x))\n",
    "df['target_degree2'] = df.target_degree.apply(lambda x: str(x))\n"
   ]
  },
  {
   "cell_type": "code",
   "execution_count": 64,
   "metadata": {},
   "outputs": [
    {
     "data": {
      "text/plain": [
       "[<matplotlib.lines.Line2D at 0x2aaf3c104460>]"
      ]
     },
     "execution_count": 64,
     "metadata": {},
     "output_type": "execute_result"
    },
    {
     "data": {
      "image/png": "[encoded data removed]",
      "text/plain": [
       "<Figure size 629.222x500 with 1 Axes>"
      ]
     },
     "metadata": {},
     "output_type": "display_data"
    }
   ],
   "source": [
    "import seaborn as sns\n",
    "\n",
    "\n",
    "g = sns.relplot(data=df, x='mean_std_gdist', y='std_std_gdist', hue='target_degree2', style='alpha')# , hue_order=_genders, aspect=1.61)\n",
    "\n",
    "# g = sns.relplot(...)\n",
    "# g.set(xscale=\"log\")\n",
    "g.set(yscale=\"log\")\n",
    "\n",
    "means = np.linspace(0.5, 6, 10)\n",
    "ys = np.exp(means * 0.85)/100\n",
    "def get_std_std_gdist(std_gdist):\n",
    "    return np.exp(std_gdist * 0.85) / 100\n",
    "\n",
    "def gaussian_kernel(x, x_i, bandwidth):\n",
    "    return np.exp(-0.5 * ((x - x_i) / bandwidth) ** 2) / (bandwidth * np.sqrt(2 * np.pi))\n",
    "\n",
    "def kernel_regression(X, y, x, bandwidth):\n",
    "    weights = gaussian_kernel(x, X, bandwidth)\n",
    "    return np.dot(weights, y) / np.sum(weights)\n",
    "\n",
    "x_plot = np.linspace(0.4, 8, num=100)\n",
    "y_plot = [kernel_regression(df.mean_std_gdist, df.std_std_gdist, x, 0.5) for x in x_plot]\n",
    "plt.plot(x_plot, y_plot)\n",
    "\n",
    "\n",
    "# plt.plot(means, ys)"
   ]
  },
  {
   "cell_type": "code",
   "execution_count": 65,
   "metadata": {},
   "outputs": [
    {
     "name": "stdout",
     "output_type": "stream",
     "text": [
      "1.02 5.0\n",
      "1.02 10.0\n",
      "1.02 20.0\n",
      "1.02 40.0\n",
      "1.02 80.0\n",
      "1.1 5.0\n",
      "1.1 10.0\n",
      "1.1 20.0\n",
      "1.1 40.0\n",
      "1.1 80.0\n",
      "1.3 5.0\n",
      "1.3 10.0\n",
      "1.3 20.0\n",
      "1.3 40.0\n",
      "1.3 80.0\n",
      "2.0 5.0\n",
      "2.0 10.0\n",
      "2.0 20.0\n",
      "2.0 40.0\n",
      "2.0 80.0\n"
     ]
    }
   ],
   "source": [
    "n =200\n",
    "d = 2\n",
    "tau = 2.1\n",
    "alphas = 1.02, 1.1, 1.3, 2.0\n",
    "target_degrees = 5.0, 10.0, 20.0, 40.0, 80.0\n",
    "weights=None\n",
    "\n",
    "df = pd.DataFrame(columns=['alpha', 'target_degree', 'std_gdists', 'avg_degs'])\n",
    "\n",
    "for i, (alpha, target_degree) in enumerate([(alpha, target_degree) for alpha in alphas for target_degree in target_degrees]):\n",
    "    print(alpha, target_degree)\n",
    "    std_gdists = []\n",
    "    avg_degs = []\n",
    "    try:\n",
    "        for _ in range(8):\n",
    "            g, edges, weights, pts, c, id2gnk = generation.cgirg_gen(n, d, tau, alpha, desiredAvgDegree=target_degree, weights=weights)\n",
    "            std_gdists.append(fitting.regularised_std_graph_distance(g))\n",
    "            avg_degs.append(utils.avg_degree(g))\n",
    "    except ValueError:\n",
    "        continue\n",
    "        \n",
    "    df.loc[i] = [alpha, target_degree, std_gdists, avg_degs]\n",
    "    \n",
    "    \n",
    "df['mean_std_gdist'] = df.std_gdists.apply(lambda x: np.mean(x))\n",
    "df['std_std_gdist'] = df.std_gdists.apply(lambda x: np.std(x))\n",
    "df['avg_degree'] = df.avg_degs.apply(lambda x: np.mean(x))\n",
    "df['target_degree2'] = df.target_degree.apply(lambda x: str(x))\n"
   ]
  },
  {
   "cell_type": "code",
   "execution_count": 66,
   "metadata": {},
   "outputs": [
    {
     "data": {
      "text/plain": [
       "[<matplotlib.lines.Line2D at 0x2aaf4d4c39d0>]"
      ]
     },
     "execution_count": 66,
     "metadata": {},
     "output_type": "execute_result"
    },
    {
     "data": {
      "image/png": "[encoded data removed]",
      "text/plain": [
       "<Figure size 629.222x500 with 1 Axes>"
      ]
     },
     "metadata": {},
     "output_type": "display_data"
    }
   ],
   "source": [
    "import seaborn as sns\n",
    "\n",
    "\n",
    "g = sns.relplot(data=df, x='mean_std_gdist', y='std_std_gdist', hue='target_degree2', style='alpha')# , hue_order=_genders, aspect=1.61)\n",
    "\n",
    "# g = sns.relplot(...)\n",
    "# g.set(xscale=\"log\")\n",
    "g.set(yscale=\"log\")\n",
    "\n",
    "means = np.linspace(0.5, 6, 10)\n",
    "ys = np.exp(means * 0.85)/100\n",
    "def get_std_std_gdist(std_gdist):\n",
    "    return np.exp(std_gdist * 0.85) / 100\n",
    "\n",
    "def gaussian_kernel(x, x_i, bandwidth):\n",
    "    return np.exp(-0.5 * ((x - x_i) / bandwidth) ** 2) / (bandwidth * np.sqrt(2 * np.pi))\n",
    "\n",
    "def kernel_regression(X, y, x, bandwidth):\n",
    "    weights = gaussian_kernel(x, X, bandwidth)\n",
    "    return np.dot(weights, y) / np.sum(weights)\n",
    "\n",
    "x_plot = np.linspace(0.4, 8, num=100)\n",
    "y_plot = [kernel_regression(df.mean_std_gdist, df.std_std_gdist, x, 0.5) for x in x_plot]\n",
    "plt.plot(x_plot, y_plot)\n",
    "\n",
    "\n",
    "# plt.plot(means, ys)"
   ]
  },
  {
   "cell_type": "code",
   "execution_count": 25,
   "metadata": {},
   "outputs": [
    {
     "data": {
      "text/plain": [
       "0.0426903459422101"
      ]
     },
     "execution_count": 25,
     "metadata": {},
     "output_type": "execute_result"
    }
   ],
   "source": [
    "get_std_std_gdist(3.0) / 3.0"
   ]
  },
  {
   "cell_type": "code",
   "execution_count": 21,
   "metadata": {},
   "outputs": [],
   "source": [
    "gtemp2, edges, weights, pts, c, id2gnk = generation.cgirg_gen(n, d, tau, alpha, desiredAvgDegree=target_avg_degree, weights=None)"
   ]
  },
  {
   "cell_type": "code",
   "execution_count": 33,
   "metadata": {},
   "outputs": [],
   "source": [
    "gtemp2, edges, weights, pts, c, id2gnk = generation.cgirg_gen(n, d, tau, alpha, const=0.000000001, weights=None)"
   ]
  },
  {
   "cell_type": "code",
   "execution_count": 34,
   "metadata": {},
   "outputs": [
    {
     "name": "stdout",
     "output_type": "stream",
     "text": [
      "Network Properties:\n",
      "nodes, edges\t\t\t1000, 25157\n",
      "directed?\t\t\tFalse\n",
      "weighted?\t\t\tFalse\n",
      "isolated nodes\t\t\t0\n",
      "self-loops\t\t\t0\n",
      "density\t\t\t\t0.050364\n",
      "clustering coefficient\t\t0.633974\n",
      "min/max/avg degree\t\t8, 853, 50.314000\n",
      "degree assortativity\t\t-0.243087\n",
      "number of connected components\t1\n",
      "size of largest component\t1000 (100.00 %)\n"
     ]
    }
   ],
   "source": [
    "nk.overview(gtemp2)"
   ]
  },
  {
   "cell_type": "code",
   "execution_count": null,
   "metadata": {},
   "outputs": [],
   "source": []
  }
 ],
 "metadata": {
  "kernelspec": {
   "display_name": "girg_env",
   "language": "python",
   "name": "girg_env"
  },
  "language_info": {
   "codemirror_mode": {
    "name": "ipython",
    "version": 3
   },
   "file_extension": ".py",
   "mimetype": "text/x-python",
   "name": "python",
   "nbconvert_exporter": "python",
   "pygments_lexer": "ipython3",
   "version": "3.8.5"
  }
 },
 "nbformat": 4,
 "nbformat_minor": 4
}
