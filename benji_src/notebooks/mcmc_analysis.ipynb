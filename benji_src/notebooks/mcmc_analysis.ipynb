{
 "cells": [
  {
   "cell_type": "code",
   "execution_count": 1,
   "metadata": {
    "collapsed": true,
    "ExecuteTime": {
     "start_time": "2023-07-16T13:33:04.618223Z",
     "end_time": "2023-07-16T13:33:04.626312Z"
    }
   },
   "outputs": [],
   "source": [
    "import os\n",
    "os.chdir('/cluster/home/bdayan/girgs/benji_src/notebooks/')"
   ]
  },
  {
   "cell_type": "code",
   "execution_count": 2,
   "outputs": [
    {
     "data": {
      "text/plain": "'/cluster/home/bdayan/girgs/benji_src/notebooks'"
     },
     "execution_count": 2,
     "metadata": {},
     "output_type": "execute_result"
    }
   ],
   "source": [
    "import sys\n",
    "sys.path.append('../')\n",
    "sys.path.append('../../nemo-eva/src/')\n",
    "\n",
    "import os\n",
    "os.getcwd()\n",
    "\n"
   ],
   "metadata": {
    "collapsed": false,
    "ExecuteTime": {
     "start_time": "2023-07-16T13:33:05.287602Z",
     "end_time": "2023-07-16T13:33:05.344293Z"
    }
   }
  },
  {
   "cell_type": "code",
   "execution_count": 3,
   "outputs": [
    {
     "data": {
      "text/html": "\n\t\t\t<script type=\"text/javascript\">\n\t\t\t<!--\n\t\t\t\t\n\t\t\t{\n\t\t\t\tvar element = document.getElementById('NetworKit_script');\n\t\t\t\tif (element) {\n\t\t\t\t\telement.parentNode.removeChild(element);\n\t\t\t\t}\n\t\t\t\telement = document.createElement('script');\n\t\t\t\telement.type = 'text/javascript';\n\t\t\t\telement.innerHTML = 'function NetworKit_pageEmbed(id) { var i, j; var elements; elements = document.getElementById(id).getElementsByClassName(\"Plot\"); for (i=0; i<elements.length; i++) { elements[i].id = id + \"_Plot_\" + i; var data = elements[i].getAttribute(\"data-image\").split(\"|\"); elements[i].removeAttribute(\"data-image\"); var content = \"<div class=\\\\\"Image\\\\\" id=\\\\\"\" + elements[i].id + \"_Image\\\\\" />\"; elements[i].innerHTML = content; elements[i].setAttribute(\"data-image-index\", 0); elements[i].setAttribute(\"data-image-length\", data.length); for (j=0; j<data.length; j++) { elements[i].setAttribute(\"data-image-\" + j, data[j]); } NetworKit_plotUpdate(elements[i]); elements[i].onclick = function (e) { NetworKit_overlayShow((e.target) ? e.target : e.srcElement); } } elements = document.getElementById(id).getElementsByClassName(\"HeatCell\"); for (i=0; i<elements.length; i++) { var data = parseFloat(elements[i].getAttribute(\"data-heat\")); var color = \"#00FF00\"; if (data <= 1 && data > 0) { color = \"hsla(0, 100%, 75%, \" + (data) + \")\"; } else if (data <= 0 && data >= -1) { color = \"hsla(240, 100%, 75%, \" + (-data) + \")\"; } elements[i].style.backgroundColor = color; } elements = document.getElementById(id).getElementsByClassName(\"Details\"); for (i=0; i<elements.length; i++) { elements[i].setAttribute(\"data-title\", \"-\"); NetworKit_toggleDetails(elements[i]); elements[i].onclick = function (e) { NetworKit_toggleDetails((e.target) ? e.target : e.srcElement); } } elements = document.getElementById(id).getElementsByClassName(\"MathValue\"); for (i=elements.length-1; i>=0; i--) { value = elements[i].innerHTML.trim(); if (value === \"nan\") { elements[i].parentNode.innerHTML = \"\" } } elements = document.getElementById(id).getElementsByClassName(\"SubCategory\"); for (i=elements.length-1; i>=0; i--) { value = elements[i].innerHTML.trim(); if (value === \"\") { elements[i].parentNode.removeChild(elements[i]) } } elements = document.getElementById(id).getElementsByClassName(\"Category\"); for (i=elements.length-1; i>=0; i--) { value = elements[i].innerHTML.trim(); if (value === \"\") { elements[i].parentNode.removeChild(elements[i]) } } var isFirefox = false; try { isFirefox = typeof InstallTrigger !== \"undefined\"; } catch (e) {} if (!isFirefox) { alert(\"Currently the function\\'s output is only fully supported by Firefox.\"); } } function NetworKit_plotUpdate(source) { var index = source.getAttribute(\"data-image-index\"); var data = source.getAttribute(\"data-image-\" + index); var image = document.getElementById(source.id + \"_Image\"); image.style.backgroundImage = \"url(\" + data + \")\"; } function NetworKit_showElement(id, show) { var element = document.getElementById(id); element.style.display = (show) ? \"block\" : \"none\"; } function NetworKit_overlayShow(source) { NetworKit_overlayUpdate(source); NetworKit_showElement(\"NetworKit_Overlay\", true); } function NetworKit_overlayUpdate(source) { document.getElementById(\"NetworKit_Overlay_Title\").innerHTML = source.title; var index = source.getAttribute(\"data-image-index\"); var data = source.getAttribute(\"data-image-\" + index); var image = document.getElementById(\"NetworKit_Overlay_Image\"); image.setAttribute(\"data-id\", source.id); image.style.backgroundImage = \"url(\" + data + \")\"; var link = document.getElementById(\"NetworKit_Overlay_Toolbar_Bottom_Save\"); link.href = data; link.download = source.title + \".svg\"; } function NetworKit_overlayImageShift(delta) { var image = document.getElementById(\"NetworKit_Overlay_Image\"); var source = document.getElementById(image.getAttribute(\"data-id\")); var index = parseInt(source.getAttribute(\"data-image-index\")); var length = parseInt(source.getAttribute(\"data-image-length\")); var index = (index+delta) % length; if (index < 0) { index = length + index; } source.setAttribute(\"data-image-index\", index); NetworKit_overlayUpdate(source); } function NetworKit_toggleDetails(source) { var childs = source.children; var show = false; if (source.getAttribute(\"data-title\") == \"-\") { source.setAttribute(\"data-title\", \"+\"); show = false; } else { source.setAttribute(\"data-title\", \"-\"); show = true; } for (i=0; i<childs.length; i++) { if (show) { childs[i].style.display = \"block\"; } else { childs[i].style.display = \"none\"; } } }';\n\t\t\t\telement.setAttribute('id', 'NetworKit_script');\n\t\t\t\tdocument.head.appendChild(element);\n\t\t\t}\n\t\t\n\t\t\t\t\n\t\t\t{\n\t\t\t\tvar element = document.getElementById('NetworKit_style');\n\t\t\t\tif (element) {\n\t\t\t\t\telement.parentNode.removeChild(element);\n\t\t\t\t}\n\t\t\t\telement = document.createElement('style');\n\t\t\t\telement.type = 'text/css';\n\t\t\t\telement.innerHTML = '.NetworKit_Page { font-family: Arial, Helvetica, sans-serif; font-size: 14px; } .NetworKit_Page .Value:before { font-family: Arial, Helvetica, sans-serif; font-size: 1.05em; content: attr(data-title) \":\"; margin-left: -2.5em; padding-right: 0.5em; } .NetworKit_Page .Details .Value:before { display: block; } .NetworKit_Page .Value { font-family: monospace; white-space: pre; padding-left: 2.5em; white-space: -moz-pre-wrap !important; white-space: -pre-wrap; white-space: -o-pre-wrap; white-space: pre-wrap; word-wrap: break-word; tab-size: 4; -moz-tab-size: 4; } .NetworKit_Page .Category { clear: both; padding-left: 1em; margin-bottom: 1.5em; } .NetworKit_Page .Category:before { content: attr(data-title); font-size: 1.75em; display: block; margin-left: -0.8em; margin-bottom: 0.5em; } .NetworKit_Page .SubCategory { margin-bottom: 1.5em; padding-left: 1em; } .NetworKit_Page .SubCategory:before { font-size: 1.6em; display: block; margin-left: -0.8em; margin-bottom: 0.5em; } .NetworKit_Page .SubCategory[data-title]:before { content: attr(data-title); } .NetworKit_Page .Block { display: block; } .NetworKit_Page .Block:after { content: \".\"; visibility: hidden; display: block; height: 0; clear: both; } .NetworKit_Page .Block .Thumbnail_Overview, .NetworKit_Page .Block .Thumbnail_ScatterPlot { width: 260px; float: left; } .NetworKit_Page .Block .Thumbnail_Overview img, .NetworKit_Page .Block .Thumbnail_ScatterPlot img { width: 260px; } .NetworKit_Page .Block .Thumbnail_Overview:before, .NetworKit_Page .Block .Thumbnail_ScatterPlot:before { display: block; text-align: center; font-weight: bold; } .NetworKit_Page .Block .Thumbnail_Overview:before { content: attr(data-title); } .NetworKit_Page .HeatCell { font-family: \"Courier New\", Courier, monospace; cursor: pointer; } .NetworKit_Page .HeatCell, .NetworKit_Page .HeatCellName { display: inline; padding: 0.1em; margin-right: 2px; background-color: #FFFFFF } .NetworKit_Page .HeatCellName { margin-left: 0.25em; } .NetworKit_Page .HeatCell:before { content: attr(data-heat); display: inline-block; color: #000000; width: 4em; text-align: center; } .NetworKit_Page .Measure { clear: both; } .NetworKit_Page .Measure .Details { cursor: pointer; } .NetworKit_Page .Measure .Details:before { content: \"[\" attr(data-title) \"]\"; display: block; } .NetworKit_Page .Measure .Details .Value { border-left: 1px dotted black; margin-left: 0.4em; padding-left: 3.5em; pointer-events: none; } .NetworKit_Page .Measure .Details .Spacer:before { content: \".\"; opacity: 0.0; pointer-events: none; } .NetworKit_Page .Measure .Plot { width: 440px; height: 440px; cursor: pointer; float: left; margin-left: -0.9em; margin-right: 20px; } .NetworKit_Page .Measure .Plot .Image { background-repeat: no-repeat; background-position: center center; background-size: contain; height: 100%; pointer-events: none; } .NetworKit_Page .Measure .Stat { width: 500px; float: left; } .NetworKit_Page .Measure .Stat .Group { padding-left: 1.25em; margin-bottom: 0.75em; } .NetworKit_Page .Measure .Stat .Group .Title { font-size: 1.1em; display: block; margin-bottom: 0.3em; margin-left: -0.75em; border-right-style: dotted; border-right-width: 1px; border-bottom-style: dotted; border-bottom-width: 1px; background-color: #D0D0D0; padding-left: 0.2em; } .NetworKit_Page .Measure .Stat .Group .List { -webkit-column-count: 3; -moz-column-count: 3; column-count: 3; } .NetworKit_Page .Measure .Stat .Group .List .Entry { position: relative; line-height: 1.75em; } .NetworKit_Page .Measure .Stat .Group .List .Entry[data-tooltip]:before { position: absolute; left: 0; top: -40px; background-color: #808080; color: #ffffff; height: 30px; line-height: 30px; border-radius: 5px; padding: 0 15px; content: attr(data-tooltip); white-space: nowrap; display: none; } .NetworKit_Page .Measure .Stat .Group .List .Entry[data-tooltip]:after { position: absolute; left: 15px; top: -10px; border-top: 7px solid #808080; border-left: 7px solid transparent; border-right: 7px solid transparent; content: \"\"; display: none; } .NetworKit_Page .Measure .Stat .Group .List .Entry[data-tooltip]:hover:after, .NetworKit_Page .Measure .Stat .Group .List .Entry[data-tooltip]:hover:before { display: block; } .NetworKit_Page .Measure .Stat .Group .List .Entry .MathValue { font-family: \"Courier New\", Courier, monospace; } .NetworKit_Page .Measure:after { content: \".\"; visibility: hidden; display: block; height: 0; clear: both; } .NetworKit_Page .PartitionPie { clear: both; } .NetworKit_Page .PartitionPie img { width: 600px; } #NetworKit_Overlay { left: 0px; top: 0px; display: none; position: absolute; width: 100%; height: 100%; background-color: rgba(0,0,0,0.6); z-index: 1000; } #NetworKit_Overlay_Title { position: absolute; color: white; transform: rotate(-90deg); width: 32em; height: 32em; padding-right: 0.5em; padding-top: 0.5em; text-align: right; font-size: 40px; } #NetworKit_Overlay .button { background: white; cursor: pointer; } #NetworKit_Overlay .button:before { size: 13px; display: inline-block; text-align: center; margin-top: 0.5em; margin-bottom: 0.5em; width: 1.5em; height: 1.5em; } #NetworKit_Overlay .icon-close:before { content: \"X\"; } #NetworKit_Overlay .icon-previous:before { content: \"P\"; } #NetworKit_Overlay .icon-next:before { content: \"N\"; } #NetworKit_Overlay .icon-save:before { content: \"S\"; } #NetworKit_Overlay_Toolbar_Top, #NetworKit_Overlay_Toolbar_Bottom { position: absolute; width: 40px; right: 13px; text-align: right; z-index: 1100; } #NetworKit_Overlay_Toolbar_Top { top: 0.5em; } #NetworKit_Overlay_Toolbar_Bottom { Bottom: 0.5em; } #NetworKit_Overlay_ImageContainer { position: absolute; top: 5%; left: 5%; height: 90%; width: 90%; background-repeat: no-repeat; background-position: center center; background-size: contain; } #NetworKit_Overlay_Image { height: 100%; width: 100%; background-repeat: no-repeat; background-position: center center; background-size: contain; }';\n\t\t\t\telement.setAttribute('id', 'NetworKit_style');\n\t\t\t\tdocument.head.appendChild(element);\n\t\t\t}\n\t\t\n\t\t\t\t\n\t\t\t{\n\t\t\t\tvar element = document.getElementById('NetworKit_Overlay');\n\t\t\t\tif (element) {\n\t\t\t\t\telement.parentNode.removeChild(element);\n\t\t\t\t}\n\t\t\t\telement = document.createElement('div');\n\t\t\t\telement.innerHTML = '<div id=\"NetworKit_Overlay_Toolbar_Top\"><div class=\"button icon-close\" id=\"NetworKit_Overlay_Close\" /></div><div id=\"NetworKit_Overlay_Title\" /> <div id=\"NetworKit_Overlay_ImageContainer\"> <div id=\"NetworKit_Overlay_Image\" /> </div> <div id=\"NetworKit_Overlay_Toolbar_Bottom\"> <div class=\"button icon-previous\" onclick=\"NetworKit_overlayImageShift(-1)\" /> <div class=\"button icon-next\" onclick=\"NetworKit_overlayImageShift(1)\" /> <a id=\"NetworKit_Overlay_Toolbar_Bottom_Save\"><div class=\"button icon-save\" /></a> </div>';\n\t\t\t\telement.setAttribute('id', 'NetworKit_Overlay');\n\t\t\t\tdocument.body.appendChild(element);\n\t\t\t\tdocument.getElementById('NetworKit_Overlay_Close').onclick = function (e) {\n\t\t\t\t\tdocument.getElementById('NetworKit_Overlay').style.display = 'none';\n\t\t\t\t}\n\t\t\t}\n\t\t\n\t\t\t-->\n\t\t\t</script>\n\t\t"
     },
     "metadata": {},
     "output_type": "display_data"
    },
    {
     "name": "stdout",
     "output_type": "stream",
     "text": [
      "/cluster/scratch/bdayan/GIRG_data/socfb-American75.SpaceOne\n",
      "/cluster/scratch/bdayan/GIRG_data/socfb-UConn.SpaceOne\n",
      "/cluster/scratch/bdayan/GIRG_data/socfb-Brandeis99.SpaceOne\n",
      "/cluster/scratch/bdayan/GIRG_data/socfb-Duke14.SpaceOne\n",
      "/cluster/scratch/bdayan/GIRG_data/socfb-Indiana69.SpaceOne\n",
      "/cluster/scratch/bdayan/GIRG_data/socfb-Swarthmore42.SpaceOne\n",
      "/cluster/scratch/bdayan/GIRG_data/socfb-Simmons81.SpaceOne\n",
      "/cluster/scratch/bdayan/GIRG_data/socfb-Georgetown15.SpaceOne\n",
      "/cluster/scratch/bdayan/GIRG_data/socfb-Reed98.SpaceOne\n",
      "/cluster/scratch/bdayan/GIRG_data/socfb-UC64.SpaceOne\n",
      "/cluster/scratch/bdayan/GIRG_data/socfb-Bowdoin47.SpaceOne\n",
      "/cluster/scratch/bdayan/GIRG_data/socfb-UChicago30.SpaceOne\n",
      "/cluster/scratch/bdayan/GIRG_data/socfb-Middlebury45.SpaceOne\n",
      "/cluster/scratch/bdayan/GIRG_data/socfb-MIT.SpaceOne\n",
      "/cluster/scratch/bdayan/GIRG_data/socfb-FSU53.SpaceOne\n",
      "/cluster/scratch/bdayan/GIRG_data/socfb-Tennessee95.SpaceOne\n",
      "/cluster/scratch/bdayan/GIRG_data/socfb-WashU32.SpaceOne\n",
      "/cluster/scratch/bdayan/GIRG_data/socfb-Stanford3.SpaceOne\n",
      "/cluster/scratch/bdayan/GIRG_data/socfb-UC33.SpaceOne\n",
      "/cluster/scratch/bdayan/GIRG_data/socfb-William77.SpaceOne\n",
      "/cluster/scratch/bdayan/GIRG_data/socfb-MU78.SpaceOne\n",
      "/cluster/scratch/bdayan/GIRG_data/socfb-UPenn7.SpaceOne\n",
      "/cluster/scratch/bdayan/GIRG_data/socfb-Wellesley22.SpaceOne\n",
      "/cluster/scratch/bdayan/GIRG_data/socfb-Pepperdine86.SpaceOne\n",
      "/cluster/scratch/bdayan/GIRG_data/socfb-Brown11.SpaceOne\n",
      "/cluster/scratch/bdayan/GIRG_data/socfb-Rochester38.SpaceOne\n",
      "/cluster/scratch/bdayan/GIRG_data/socfb-USF51.SpaceOne\n",
      "/cluster/scratch/bdayan/GIRG_data/socfb-Harvard1.SpaceOne\n",
      "/cluster/scratch/bdayan/GIRG_data/socfb-Emory27.SpaceOne\n",
      "/cluster/scratch/bdayan/GIRG_data/socfb-Lehigh96.SpaceOne\n",
      "/cluster/scratch/bdayan/GIRG_data/socfb-Carnegie49.SpaceOne\n",
      "/cluster/scratch/bdayan/GIRG_data/socfb-JMU79.SpaceOne\n",
      "/cluster/scratch/bdayan/GIRG_data/socfb-Howard90.SpaceOne\n",
      "/cluster/scratch/bdayan/GIRG_data/socfb-Mich67.SpaceOne\n",
      "/cluster/scratch/bdayan/GIRG_data/socfb-Princeton12.SpaceOne\n",
      "/cluster/scratch/bdayan/GIRG_data/socfb-MIT8.SpaceOne\n",
      "/cluster/scratch/bdayan/GIRG_data/socfb-JohnsHopkins55.SpaceOne\n",
      "/cluster/scratch/bdayan/GIRG_data/socfb-Rice31.SpaceOne\n",
      "/cluster/scratch/bdayan/GIRG_data/socfb-GWU54.SpaceOne\n",
      "/cluster/scratch/bdayan/GIRG_data/socfb-Tufts18.SpaceOne\n",
      "/cluster/scratch/bdayan/GIRG_data/socfb-Vermont70.SpaceOne\n",
      "/cluster/scratch/bdayan/GIRG_data/socfb-Temple83.SpaceOne\n",
      "/cluster/scratch/bdayan/GIRG_data/socfb-Columbia2.SpaceOne\n",
      "/cluster/scratch/bdayan/GIRG_data/socfb-Williams40.SpaceOne\n",
      "/cluster/scratch/bdayan/GIRG_data/socfb-UCSB37.SpaceOne\n",
      "/cluster/scratch/bdayan/GIRG_data/socfb-NotreDame57.SpaceOne\n",
      "/cluster/scratch/bdayan/GIRG_data/socfb-Vanderbilt48.SpaceOne\n",
      "/cluster/scratch/bdayan/GIRG_data/socfb-CMU.SpaceOne\n",
      "/cluster/scratch/bdayan/GIRG_data/socfb-USC35.SpaceOne\n",
      "/cluster/scratch/bdayan/GIRG_data/socfb-Hamilton46.SpaceOne\n",
      "/cluster/scratch/bdayan/GIRG_data/socfb-UC61.SpaceOne\n",
      "/cluster/scratch/bdayan/GIRG_data/socfb-Yale4.SpaceOne\n",
      "/cluster/scratch/bdayan/GIRG_data/socfb-BC17.SpaceOne\n",
      "/cluster/scratch/bdayan/GIRG_data/socfb-UCSD34.SpaceOne\n",
      "/cluster/scratch/bdayan/GIRG_data/socfb-USFCA72.SpaceOne\n",
      "/cluster/scratch/bdayan/GIRG_data/socfb-Haverford76.SpaceOne\n",
      "/cluster/scratch/bdayan/GIRG_data/socfb-UConn91.SpaceOne\n",
      "/cluster/scratch/bdayan/GIRG_data/socfb-Colgate88.SpaceOne\n",
      "/cluster/scratch/bdayan/GIRG_data/socfb-Bingham82.SpaceOne\n",
      "/cluster/scratch/bdayan/GIRG_data/socfb-Santa74.SpaceOne\n",
      "/cluster/scratch/bdayan/GIRG_data/socfb-Maine59.SpaceOne\n",
      "/cluster/scratch/bdayan/GIRG_data/socfb-Caltech36.SpaceOne\n",
      "/cluster/scratch/bdayan/GIRG_data/socfb-Mississippi66.SpaceOne\n",
      "/cluster/scratch/bdayan/GIRG_data/socfb-Northwestern25.SpaceOne\n",
      "/cluster/scratch/bdayan/GIRG_data/socfb-Villanova62.SpaceOne\n",
      "/cluster/scratch/bdayan/GIRG_data/socfb-Tulane29.SpaceOne\n",
      "/cluster/scratch/bdayan/GIRG_data/socfb-Baylor93.SpaceOne\n",
      "/cluster/scratch/bdayan/GIRG_data/socfb-Oklahoma97.SpaceOne\n",
      "/cluster/scratch/bdayan/GIRG_data/socfb-Bucknell39.SpaceOne\n",
      "/cluster/scratch/bdayan/GIRG_data/socfb-Cal65.SpaceOne\n",
      "/cluster/scratch/bdayan/GIRG_data/socfb-Wesleyan43.SpaceOne\n",
      "/cluster/scratch/bdayan/GIRG_data/socfb-Trinity100.SpaceOne\n",
      "/cluster/scratch/bdayan/GIRG_data/socfb-UCSC68.SpaceOne\n",
      "/cluster/scratch/bdayan/GIRG_data/socfb-UVA16.SpaceOne\n",
      "/cluster/scratch/bdayan/GIRG_data/socfb-Wake73.SpaceOne\n",
      "/cluster/scratch/bdayan/GIRG_data/socfb-UMass92.SpaceOne\n",
      "/cluster/scratch/bdayan/GIRG_data/socfb-Smith60.SpaceOne\n",
      "/cluster/scratch/bdayan/GIRG_data/socfb-Dartmouth6.SpaceOne\n",
      "/cluster/scratch/bdayan/GIRG_data/socfb-Oberlin44.SpaceOne\n",
      "/cluster/scratch/bdayan/GIRG_data/socfb-Syracuse56.SpaceOne\n",
      "/cluster/scratch/bdayan/GIRG_data/socfb-Amherst41.SpaceOne\n",
      "/cluster/scratch/bdayan/GIRG_data/socfb-Indiana.SpaceOne\n",
      "/cluster/scratch/bdayan/GIRG_data/socfb-Vassar85.SpaceOne\n",
      "/cluster/scratch/bdayan/GIRG_data/socfb-UCF52.SpaceOne\n",
      "/cluster/scratch/bdayan/GIRG_data/socfb-Northeastern19.SpaceOne\n"
     ]
    }
   ],
   "source": [
    "from benji_girgs import utils, generation, points, fitting, mcmc\n",
    "import os\n",
    "import glob\n",
    "import pandas as pd\n",
    "import networkit\n",
    "\n",
    "import networkit as nk\n",
    "\n",
    "from girg_sampling import girgs\n",
    "\n",
    "from IPython.core.interactiveshell import InteractiveShell\n",
    "InteractiveShell.ast_node_interactivity = \"all\"\n",
    "\n",
    "import numpy as np\n",
    "import matplotlib.pyplot as plt\n",
    "\n",
    "import do_feature_extract\n",
    "import networkx as nx\n"
   ],
   "metadata": {
    "collapsed": false,
    "ExecuteTime": {
     "start_time": "2023-07-16T13:33:06.093956Z",
     "end_time": "2023-07-16T13:33:07.583269Z"
    }
   }
  },
  {
   "cell_type": "code",
   "execution_count": 4,
   "outputs": [
    {
     "data": {
      "text/plain": "['socfb-Caltech36-1d.pkl',\n 'socfb-Caltech36-2d.pkl',\n 'socfb-Reed98-1d.pkl',\n 'socfb-Reed98-2d.pkl',\n 'socfb-Haverford76-1d.pkl',\n 'socfb-Haverford76-2d.pkl',\n 'socfb-Simmons81-1d.pkl',\n 'socfb-Simmons81-2d.pkl',\n 'socfb-Swarthmore42-1d.pkl',\n 'socfb-Swarthmore42-2d.pkl',\n 'socfb-Amherst41-1d.pkl',\n 'socfb-Amherst41-2d.pkl',\n 'socfb-Bowdoin47-1d.pkl',\n 'socfb-Bowdoin47-2d.pkl',\n 'socfb-Hamilton46-1d.pkl',\n 'socfb-Hamilton46-2d.pkl',\n 'socfb-Trinity100-1d.pkl',\n 'socfb-Trinity100-2d.pkl',\n 'socfb-USFCA72-1d.pkl',\n 'socfb-USFCA72-2d.pkl',\n 'socfb-Williams40-1d.pkl',\n 'socfb-Williams40-2d.pkl',\n 'socfb-Oberlin44-1d.pkl',\n 'socfb-Oberlin44-2d.pkl',\n 'socfb-Smith60-1d.pkl',\n 'socfb-Smith60-2d.pkl']"
     },
     "execution_count": 4,
     "metadata": {},
     "output_type": "execute_result"
    }
   ],
   "source": [
    "fn = '../../MCMC_run_fp_0p3_cl_0p5_v2/pickles'\n",
    "os.listdir(fn)"
   ],
   "metadata": {
    "collapsed": false,
    "ExecuteTime": {
     "start_time": "2023-07-16T13:33:40.993930Z",
     "end_time": "2023-07-16T13:33:41.017373Z"
    }
   }
  },
  {
   "cell_type": "code",
   "execution_count": 13,
   "outputs": [
    {
     "name": "stdout",
     "output_type": "stream",
     "text": [
      "../../MCMC_run_fp_0p3_cl_0p5_v2/pickles/socfb-Caltech36-1d.pkl\n",
      "../../MCMC_run_fp_0p3_cl_0p5_v2/pickles/socfb-Caltech36-2d.pkl\n",
      "../../MCMC_run_fp_0p3_cl_0p5_v2/pickles/socfb-Reed98-1d.pkl\n",
      "../../MCMC_run_fp_0p3_cl_0p5_v2/pickles/socfb-Reed98-2d.pkl\n",
      "../../MCMC_run_fp_0p3_cl_0p5_v2/pickles/socfb-Haverford76-1d.pkl\n",
      "../../MCMC_run_fp_0p3_cl_0p5_v2/pickles/socfb-Haverford76-2d.pkl\n",
      "../../MCMC_run_fp_0p3_cl_0p5_v2/pickles/socfb-Simmons81-1d.pkl\n",
      "../../MCMC_run_fp_0p3_cl_0p5_v2/pickles/socfb-Simmons81-2d.pkl\n",
      "../../MCMC_run_fp_0p3_cl_0p5_v2/pickles/socfb-Swarthmore42-1d.pkl\n",
      "../../MCMC_run_fp_0p3_cl_0p5_v2/pickles/socfb-Swarthmore42-2d.pkl\n",
      "../../MCMC_run_fp_0p3_cl_0p5_v2/pickles/socfb-Amherst41-1d.pkl\n",
      "../../MCMC_run_fp_0p3_cl_0p5_v2/pickles/socfb-Amherst41-2d.pkl\n",
      "../../MCMC_run_fp_0p3_cl_0p5_v2/pickles/socfb-Bowdoin47-1d.pkl\n",
      "../../MCMC_run_fp_0p3_cl_0p5_v2/pickles/socfb-Bowdoin47-2d.pkl\n",
      "../../MCMC_run_fp_0p3_cl_0p5_v2/pickles/socfb-Hamilton46-1d.pkl\n",
      "../../MCMC_run_fp_0p3_cl_0p5_v2/pickles/socfb-Hamilton46-2d.pkl\n",
      "../../MCMC_run_fp_0p3_cl_0p5_v2/pickles/socfb-Trinity100-1d.pkl\n",
      "../../MCMC_run_fp_0p3_cl_0p5_v2/pickles/socfb-Trinity100-2d.pkl\n",
      "../../MCMC_run_fp_0p3_cl_0p5_v2/pickles/socfb-USFCA72-1d.pkl\n",
      "../../MCMC_run_fp_0p3_cl_0p5_v2/pickles/socfb-USFCA72-2d.pkl\n",
      "../../MCMC_run_fp_0p3_cl_0p5_v2/pickles/socfb-Williams40-1d.pkl\n",
      "../../MCMC_run_fp_0p3_cl_0p5_v2/pickles/socfb-Williams40-2d.pkl\n",
      "../../MCMC_run_fp_0p3_cl_0p5_v2/pickles/socfb-Oberlin44-1d.pkl\n",
      "../../MCMC_run_fp_0p3_cl_0p5_v2/pickles/socfb-Oberlin44-2d.pkl\n",
      "../../MCMC_run_fp_0p3_cl_0p5_v2/pickles/socfb-Smith60-1d.pkl\n",
      "../../MCMC_run_fp_0p3_cl_0p5_v2/pickles/socfb-Smith60-2d.pkl\n",
      "pickle data was truncated\n"
     ]
    }
   ],
   "source": [
    "import pickle\n",
    "\n",
    "outputs = []\n",
    "\n",
    "for path in os.listdir(fn):\n",
    "    pickle_path = fn + '/' + path\n",
    "    print(pickle_path)\n",
    "    try:\n",
    "        with open(pickle_path, 'rb') as file:\n",
    "            MC = pickle.load(file)\n",
    "    except Exception as e:\n",
    "        print(e)\n",
    "        continue\n",
    "\n",
    "    outputs.append((path, MC.percent_edges_captureds[-1], MC.percent_edges_captured_cl))"
   ],
   "metadata": {
    "collapsed": false,
    "ExecuteTime": {
     "start_time": "2023-07-16T13:35:47.946217Z",
     "end_time": "2023-07-16T13:35:53.725914Z"
    }
   }
  },
  {
   "cell_type": "code",
   "execution_count": 14,
   "outputs": [
    {
     "data": {
      "text/plain": "[('socfb-Caltech36-1d.pkl', (0.218725602065942, 134400), 0.0571737433187196),\n ('socfb-Caltech36-2d.pkl', (0.23139751366284309, 274400), 0.0571737433187196),\n ('socfb-Reed98-1d.pkl', (0.17260259408887943, 173600), 0.03933659366361897),\n ('socfb-Reed98-2d.pkl', (0.1908356368275569, 347200), 0.03933659366361897),\n ('socfb-Haverford76-1d.pkl',\n  (0.2107100303747336, 257600),\n  0.058752454312037454),\n ('socfb-Haverford76-2d.pkl',\n  (0.2382151068150162, 520800),\n  0.058752454312037454),\n ('socfb-Simmons81-1d.pkl',\n  (0.16883943730293477, 268800),\n  0.030439000727625516),\n ('socfb-Simmons81-2d.pkl',\n  (0.19403347077370847, 543200),\n  0.030439000727625516),\n ('socfb-Swarthmore42-1d.pkl',\n  (0.18165735720486823, 296800),\n  0.044275909515307375),\n ('socfb-Swarthmore42-2d.pkl',\n  (0.2011007551311242, 593600),\n  0.044275909515307375),\n ('socfb-Amherst41-1d.pkl',\n  (0.18171823119379027, 403200),\n  0.03374233128834356),\n ('socfb-Amherst41-2d.pkl',\n  (0.20144248741121887, 800800),\n  0.03374233128834356),\n ('socfb-Bowdoin47-1d.pkl', (0.132770838764724, 403200), 0.033619320740407174),\n ('socfb-Bowdoin47-2d.pkl',\n  (0.17140283933353873, 806400),\n  0.033619320740407174),\n ('socfb-Hamilton46-1d.pkl',\n  (0.147925679250568, 414400),\n  0.036735032626850496),\n ('socfb-Hamilton46-2d.pkl',\n  (0.17098751984065233, 828800),\n  0.036735032626850496),\n ('socfb-Trinity100-1d.pkl',\n  (0.1407996714168363, 470400),\n  0.033099396407014536),\n ('socfb-Trinity100-2d.pkl',\n  (0.18365834494089076, 940800),\n  0.033099396407014536),\n ('socfb-USFCA72-1d.pkl', (0.12016430629636442, 481600), 0.017380908589295568),\n ('socfb-USFCA72-2d.pkl', (0.14266445956716325, 963200), 0.017380908589295568),\n ('socfb-Williams40-1d.pkl',\n  (0.12764526264548393, 498400),\n  0.0291897154489534),\n ('socfb-Williams40-2d.pkl',\n  (0.1667654998451122, 1002400),\n  0.0291897154489534),\n ('socfb-Oberlin44-1d.pkl',\n  (0.11204288637779161, 526400),\n  0.020820357683067888),\n ('socfb-Oberlin44-2d.pkl',\n  (0.11931666518373521, 1047200),\n  0.020820357683067888),\n ('socfb-Smith60-1d.pkl', (0.08830160707483553, 532000), 0.021486003726848755)]"
     },
     "execution_count": 14,
     "metadata": {},
     "output_type": "execute_result"
    }
   ],
   "source": [
    "outputs"
   ],
   "metadata": {
    "collapsed": false,
    "ExecuteTime": {
     "start_time": "2023-07-16T13:35:57.896521Z",
     "end_time": "2023-07-16T13:35:57.963651Z"
    }
   }
  },
  {
   "cell_type": "code",
   "execution_count": 21,
   "outputs": [],
   "source": [
    "df = pd.DataFrame(outputs)\n",
    "df.columns = ['name', 'PEC', 'PEC_cl']\n",
    "df['run_length'] = df.PEC.apply(lambda x: x[1])\n",
    "df.PEC = df.PEC.apply(lambda x: x[0])"
   ],
   "metadata": {
    "collapsed": false,
    "ExecuteTime": {
     "start_time": "2023-07-16T13:39:40.508583Z",
     "end_time": "2023-07-16T13:39:40.547766Z"
    }
   }
  },
  {
   "cell_type": "code",
   "execution_count": 30,
   "outputs": [
    {
     "data": {
      "text/plain": "                         name       PEC    PEC_cl  run_length\n0      socfb-Caltech36-1d.pkl  0.218726  0.057174      134400\n2         socfb-Reed98-1d.pkl  0.172603  0.039337      173600\n4    socfb-Haverford76-1d.pkl  0.210710  0.058752      257600\n6      socfb-Simmons81-1d.pkl  0.168839  0.030439      268800\n8   socfb-Swarthmore42-1d.pkl  0.181657  0.044276      296800\n10     socfb-Amherst41-1d.pkl  0.181718  0.033742      403200\n12     socfb-Bowdoin47-1d.pkl  0.132771  0.033619      403200\n14    socfb-Hamilton46-1d.pkl  0.147926  0.036735      414400\n16    socfb-Trinity100-1d.pkl  0.140800  0.033099      470400\n18       socfb-USFCA72-1d.pkl  0.120164  0.017381      481600\n20    socfb-Williams40-1d.pkl  0.127645  0.029190      498400\n22     socfb-Oberlin44-1d.pkl  0.112043  0.020820      526400\n24       socfb-Smith60-1d.pkl  0.088302  0.021486      532000",
      "text/html": "<div>\n<style scoped>\n    .dataframe tbody tr th:only-of-type {\n        vertical-align: middle;\n    }\n\n    .dataframe tbody tr th {\n        vertical-align: top;\n    }\n\n    .dataframe thead th {\n        text-align: right;\n    }\n</style>\n<table border=\"1\" class=\"dataframe\">\n  <thead>\n    <tr style=\"text-align: right;\">\n      <th></th>\n      <th>name</th>\n      <th>PEC</th>\n      <th>PEC_cl</th>\n      <th>run_length</th>\n    </tr>\n  </thead>\n  <tbody>\n    <tr>\n      <th>0</th>\n      <td>socfb-Caltech36-1d.pkl</td>\n      <td>0.218726</td>\n      <td>0.057174</td>\n      <td>134400</td>\n    </tr>\n    <tr>\n      <th>2</th>\n      <td>socfb-Reed98-1d.pkl</td>\n      <td>0.172603</td>\n      <td>0.039337</td>\n      <td>173600</td>\n    </tr>\n    <tr>\n      <th>4</th>\n      <td>socfb-Haverford76-1d.pkl</td>\n      <td>0.210710</td>\n      <td>0.058752</td>\n      <td>257600</td>\n    </tr>\n    <tr>\n      <th>6</th>\n      <td>socfb-Simmons81-1d.pkl</td>\n      <td>0.168839</td>\n      <td>0.030439</td>\n      <td>268800</td>\n    </tr>\n    <tr>\n      <th>8</th>\n      <td>socfb-Swarthmore42-1d.pkl</td>\n      <td>0.181657</td>\n      <td>0.044276</td>\n      <td>296800</td>\n    </tr>\n    <tr>\n      <th>10</th>\n      <td>socfb-Amherst41-1d.pkl</td>\n      <td>0.181718</td>\n      <td>0.033742</td>\n      <td>403200</td>\n    </tr>\n    <tr>\n      <th>12</th>\n      <td>socfb-Bowdoin47-1d.pkl</td>\n      <td>0.132771</td>\n      <td>0.033619</td>\n      <td>403200</td>\n    </tr>\n    <tr>\n      <th>14</th>\n      <td>socfb-Hamilton46-1d.pkl</td>\n      <td>0.147926</td>\n      <td>0.036735</td>\n      <td>414400</td>\n    </tr>\n    <tr>\n      <th>16</th>\n      <td>socfb-Trinity100-1d.pkl</td>\n      <td>0.140800</td>\n      <td>0.033099</td>\n      <td>470400</td>\n    </tr>\n    <tr>\n      <th>18</th>\n      <td>socfb-USFCA72-1d.pkl</td>\n      <td>0.120164</td>\n      <td>0.017381</td>\n      <td>481600</td>\n    </tr>\n    <tr>\n      <th>20</th>\n      <td>socfb-Williams40-1d.pkl</td>\n      <td>0.127645</td>\n      <td>0.029190</td>\n      <td>498400</td>\n    </tr>\n    <tr>\n      <th>22</th>\n      <td>socfb-Oberlin44-1d.pkl</td>\n      <td>0.112043</td>\n      <td>0.020820</td>\n      <td>526400</td>\n    </tr>\n    <tr>\n      <th>24</th>\n      <td>socfb-Smith60-1d.pkl</td>\n      <td>0.088302</td>\n      <td>0.021486</td>\n      <td>532000</td>\n    </tr>\n  </tbody>\n</table>\n</div>"
     },
     "execution_count": 30,
     "metadata": {},
     "output_type": "execute_result"
    }
   ],
   "source": [
    "df.loc[df.name.str.contains('1d')]"
   ],
   "metadata": {
    "collapsed": false,
    "ExecuteTime": {
     "start_time": "2023-07-16T13:41:49.947758Z",
     "end_time": "2023-07-16T13:41:49.964057Z"
    }
   }
  },
  {
   "cell_type": "code",
   "execution_count": 31,
   "outputs": [
    {
     "data": {
      "text/plain": "                         name       PEC    PEC_cl  run_length\n1      socfb-Caltech36-2d.pkl  0.231398  0.057174      274400\n3         socfb-Reed98-2d.pkl  0.190836  0.039337      347200\n5    socfb-Haverford76-2d.pkl  0.238215  0.058752      520800\n7      socfb-Simmons81-2d.pkl  0.194033  0.030439      543200\n9   socfb-Swarthmore42-2d.pkl  0.201101  0.044276      593600\n11     socfb-Amherst41-2d.pkl  0.201442  0.033742      800800\n13     socfb-Bowdoin47-2d.pkl  0.171403  0.033619      806400\n15    socfb-Hamilton46-2d.pkl  0.170988  0.036735      828800\n17    socfb-Trinity100-2d.pkl  0.183658  0.033099      940800\n19       socfb-USFCA72-2d.pkl  0.142664  0.017381      963200\n21    socfb-Williams40-2d.pkl  0.166765  0.029190     1002400\n23     socfb-Oberlin44-2d.pkl  0.119317  0.020820     1047200",
      "text/html": "<div>\n<style scoped>\n    .dataframe tbody tr th:only-of-type {\n        vertical-align: middle;\n    }\n\n    .dataframe tbody tr th {\n        vertical-align: top;\n    }\n\n    .dataframe thead th {\n        text-align: right;\n    }\n</style>\n<table border=\"1\" class=\"dataframe\">\n  <thead>\n    <tr style=\"text-align: right;\">\n      <th></th>\n      <th>name</th>\n      <th>PEC</th>\n      <th>PEC_cl</th>\n      <th>run_length</th>\n    </tr>\n  </thead>\n  <tbody>\n    <tr>\n      <th>1</th>\n      <td>socfb-Caltech36-2d.pkl</td>\n      <td>0.231398</td>\n      <td>0.057174</td>\n      <td>274400</td>\n    </tr>\n    <tr>\n      <th>3</th>\n      <td>socfb-Reed98-2d.pkl</td>\n      <td>0.190836</td>\n      <td>0.039337</td>\n      <td>347200</td>\n    </tr>\n    <tr>\n      <th>5</th>\n      <td>socfb-Haverford76-2d.pkl</td>\n      <td>0.238215</td>\n      <td>0.058752</td>\n      <td>520800</td>\n    </tr>\n    <tr>\n      <th>7</th>\n      <td>socfb-Simmons81-2d.pkl</td>\n      <td>0.194033</td>\n      <td>0.030439</td>\n      <td>543200</td>\n    </tr>\n    <tr>\n      <th>9</th>\n      <td>socfb-Swarthmore42-2d.pkl</td>\n      <td>0.201101</td>\n      <td>0.044276</td>\n      <td>593600</td>\n    </tr>\n    <tr>\n      <th>11</th>\n      <td>socfb-Amherst41-2d.pkl</td>\n      <td>0.201442</td>\n      <td>0.033742</td>\n      <td>800800</td>\n    </tr>\n    <tr>\n      <th>13</th>\n      <td>socfb-Bowdoin47-2d.pkl</td>\n      <td>0.171403</td>\n      <td>0.033619</td>\n      <td>806400</td>\n    </tr>\n    <tr>\n      <th>15</th>\n      <td>socfb-Hamilton46-2d.pkl</td>\n      <td>0.170988</td>\n      <td>0.036735</td>\n      <td>828800</td>\n    </tr>\n    <tr>\n      <th>17</th>\n      <td>socfb-Trinity100-2d.pkl</td>\n      <td>0.183658</td>\n      <td>0.033099</td>\n      <td>940800</td>\n    </tr>\n    <tr>\n      <th>19</th>\n      <td>socfb-USFCA72-2d.pkl</td>\n      <td>0.142664</td>\n      <td>0.017381</td>\n      <td>963200</td>\n    </tr>\n    <tr>\n      <th>21</th>\n      <td>socfb-Williams40-2d.pkl</td>\n      <td>0.166765</td>\n      <td>0.029190</td>\n      <td>1002400</td>\n    </tr>\n    <tr>\n      <th>23</th>\n      <td>socfb-Oberlin44-2d.pkl</td>\n      <td>0.119317</td>\n      <td>0.020820</td>\n      <td>1047200</td>\n    </tr>\n  </tbody>\n</table>\n</div>"
     },
     "execution_count": 31,
     "metadata": {},
     "output_type": "execute_result"
    }
   ],
   "source": [
    "df.loc[df.name.str.contains('2d')]"
   ],
   "metadata": {
    "collapsed": false,
    "ExecuteTime": {
     "start_time": "2023-07-16T13:42:31.904355Z",
     "end_time": "2023-07-16T13:42:31.944870Z"
    }
   }
  },
  {
   "cell_type": "code",
   "execution_count": null,
   "outputs": [],
   "source": [],
   "metadata": {
    "collapsed": false
   }
  },
  {
   "cell_type": "code",
   "execution_count": null,
   "outputs": [],
   "source": [],
   "metadata": {
    "collapsed": false
   }
  },
  {
   "cell_type": "code",
   "execution_count": 28,
   "outputs": [
    {
     "data": {
      "text/plain": "0      True\n1     False\n2      True\n3     False\n4      True\n5     False\n6      True\n7     False\n8      True\n9     False\n10     True\n11    False\n12     True\n13    False\n14     True\n15    False\n16     True\n17    False\n18     True\n19    False\n20     True\n21    False\n22     True\n23    False\n24     True\nName: name, dtype: bool"
     },
     "execution_count": 28,
     "metadata": {},
     "output_type": "execute_result"
    }
   ],
   "source": [
    "df.name.str.contains('1d')"
   ],
   "metadata": {
    "collapsed": false,
    "ExecuteTime": {
     "start_time": "2023-07-16T13:41:42.967610Z",
     "end_time": "2023-07-16T13:41:42.977007Z"
    }
   }
  },
  {
   "cell_type": "code",
   "execution_count": 9,
   "outputs": [
    {
     "data": {
      "text/plain": "(0.218725602065942, 134400)"
     },
     "execution_count": 9,
     "metadata": {},
     "output_type": "execute_result"
    }
   ],
   "source": [
    "MC.percent_edges_captureds[-1]"
   ],
   "metadata": {
    "collapsed": false,
    "ExecuteTime": {
     "start_time": "2023-07-16T13:34:39.884856Z",
     "end_time": "2023-07-16T13:34:39.892294Z"
    }
   }
  },
  {
   "cell_type": "code",
   "execution_count": 11,
   "outputs": [
    {
     "data": {
      "text/plain": "0.0571737433187196"
     },
     "execution_count": 11,
     "metadata": {},
     "output_type": "execute_result"
    }
   ],
   "source": [
    "MC.percent_edges_captured_cl"
   ],
   "metadata": {
    "collapsed": false,
    "ExecuteTime": {
     "start_time": "2023-07-16T13:35:26.562135Z",
     "end_time": "2023-07-16T13:35:26.569870Z"
    }
   }
  },
  {
   "cell_type": "code",
   "execution_count": 7,
   "outputs": [
    {
     "data": {
      "text/plain": "['socfb-Caltech36-1d.pkl',\n 'socfb-Caltech36-2d.pkl',\n 'socfb-Caltech36-3d.pkl',\n 'socfb-Reed98-1d.pkl',\n 'socfb-Reed98-2d.pkl',\n 'socfb-Reed98-3d.pkl',\n 'socfb-Haverford76-1d.pkl',\n 'socfb-Haverford76-2d.pkl',\n 'socfb-Haverford76-3d.pkl',\n 'socfb-Simmons81-1d.pkl',\n 'socfb-Simmons81-2d.pkl',\n 'socfb-Simmons81-3d.pkl',\n 'socfb-Swarthmore42-1d.pkl',\n 'socfb-Swarthmore42-2d.pkl',\n 'socfb-Swarthmore42-3d.pkl',\n 'socfb-Amherst41-1d.pkl',\n 'socfb-Amherst41-2d.pkl',\n 'socfb-Amherst41-3d.pkl',\n 'socfb-Bowdoin47-1d.pkl',\n 'socfb-Bowdoin47-2d.pkl',\n 'socfb-Bowdoin47-3d.pkl',\n 'socfb-Hamilton46-1d.pkl',\n 'socfb-Hamilton46-2d.pkl',\n 'socfb-Hamilton46-3d.pkl',\n 'socfb-Trinity100-1d.pkl',\n 'socfb-Trinity100-2d.pkl',\n 'socfb-Trinity100-3d.pkl',\n 'socfb-USFCA72-1d.pkl',\n 'socfb-USFCA72-2d.pkl',\n 'socfb-USFCA72-3d.pkl',\n 'socfb-Williams40-1d.pkl',\n 'socfb-Williams40-2d.pkl',\n 'socfb-Williams40-3d.pkl',\n 'socfb-Oberlin44-1d.pkl',\n 'socfb-Oberlin44-2d.pkl',\n 'socfb-Oberlin44-3d.pkl',\n 'socfb-Smith60-1d.pkl',\n 'socfb-Smith60-2d.pkl',\n 'socfb-Smith60-3d.pkl',\n 'socfb-Wellesley22-1d.pkl',\n 'socfb-Wellesley22-2d.pkl',\n 'socfb-Wellesley22-3d.pkl',\n 'socfb-Middlebury45-1d.pkl',\n 'socfb-Middlebury45-2d.pkl',\n 'socfb-Middlebury45-3d.pkl',\n 'socfb-Vassar85-1d.pkl',\n 'socfb-Vassar85-2d.pkl',\n 'socfb-Vassar85-3d.pkl',\n 'socfb-Pepperdine86-1d.pkl',\n 'socfb-Pepperdine86-2d.pkl',\n 'socfb-Pepperdine86-3d.pkl',\n 'socfb-Colgate88-1d.pkl',\n 'socfb-Colgate88-2d.pkl',\n 'socfb-Colgate88-3d.pkl',\n 'socfb-Santa74-1d.pkl',\n 'socfb-Santa74-2d.pkl']"
     },
     "execution_count": 7,
     "metadata": {},
     "output_type": "execute_result"
    }
   ],
   "source": [
    "fn = '../../MCMC_run_failure_probs_0p3/pickles'\n",
    "os.listdir(fn)"
   ],
   "metadata": {
    "collapsed": false,
    "ExecuteTime": {
     "start_time": "2023-06-22T14:41:44.929057Z",
     "end_time": "2023-06-22T14:41:44.938556Z"
    }
   }
  },
  {
   "cell_type": "code",
   "execution_count": 16,
   "outputs": [
    {
     "name": "stdout",
     "output_type": "stream",
     "text": [
      "../../MCMC_run_failure_probs_0p3/pickles/socfb-Caltech36-1d.pkl\n",
      "../../MCMC_run_failure_probs_0p3/pickles/socfb-Caltech36-2d.pkl\n",
      "../../MCMC_run_failure_probs_0p3/pickles/socfb-Caltech36-3d.pkl\n",
      "../../MCMC_run_failure_probs_0p3/pickles/socfb-Reed98-1d.pkl\n",
      "../../MCMC_run_failure_probs_0p3/pickles/socfb-Reed98-2d.pkl\n",
      "../../MCMC_run_failure_probs_0p3/pickles/socfb-Reed98-3d.pkl\n",
      "../../MCMC_run_failure_probs_0p3/pickles/socfb-Haverford76-1d.pkl\n",
      "../../MCMC_run_failure_probs_0p3/pickles/socfb-Haverford76-2d.pkl\n",
      "../../MCMC_run_failure_probs_0p3/pickles/socfb-Haverford76-3d.pkl\n",
      "../../MCMC_run_failure_probs_0p3/pickles/socfb-Simmons81-1d.pkl\n",
      "../../MCMC_run_failure_probs_0p3/pickles/socfb-Simmons81-2d.pkl\n",
      "../../MCMC_run_failure_probs_0p3/pickles/socfb-Simmons81-3d.pkl\n",
      "../../MCMC_run_failure_probs_0p3/pickles/socfb-Swarthmore42-1d.pkl\n",
      "../../MCMC_run_failure_probs_0p3/pickles/socfb-Swarthmore42-2d.pkl\n",
      "../../MCMC_run_failure_probs_0p3/pickles/socfb-Swarthmore42-3d.pkl\n",
      "../../MCMC_run_failure_probs_0p3/pickles/socfb-Amherst41-1d.pkl\n",
      "../../MCMC_run_failure_probs_0p3/pickles/socfb-Amherst41-2d.pkl\n",
      "../../MCMC_run_failure_probs_0p3/pickles/socfb-Amherst41-3d.pkl\n",
      "../../MCMC_run_failure_probs_0p3/pickles/socfb-Bowdoin47-1d.pkl\n",
      "../../MCMC_run_failure_probs_0p3/pickles/socfb-Bowdoin47-2d.pkl\n",
      "../../MCMC_run_failure_probs_0p3/pickles/socfb-Bowdoin47-3d.pkl\n",
      "../../MCMC_run_failure_probs_0p3/pickles/socfb-Hamilton46-1d.pkl\n",
      "../../MCMC_run_failure_probs_0p3/pickles/socfb-Hamilton46-2d.pkl\n",
      "../../MCMC_run_failure_probs_0p3/pickles/socfb-Hamilton46-3d.pkl\n",
      "../../MCMC_run_failure_probs_0p3/pickles/socfb-Trinity100-1d.pkl\n",
      "../../MCMC_run_failure_probs_0p3/pickles/socfb-Trinity100-2d.pkl\n",
      "../../MCMC_run_failure_probs_0p3/pickles/socfb-Trinity100-3d.pkl\n",
      "../../MCMC_run_failure_probs_0p3/pickles/socfb-USFCA72-1d.pkl\n",
      "../../MCMC_run_failure_probs_0p3/pickles/socfb-USFCA72-2d.pkl\n",
      "../../MCMC_run_failure_probs_0p3/pickles/socfb-USFCA72-3d.pkl\n",
      "../../MCMC_run_failure_probs_0p3/pickles/socfb-Williams40-1d.pkl\n",
      "../../MCMC_run_failure_probs_0p3/pickles/socfb-Williams40-2d.pkl\n",
      "../../MCMC_run_failure_probs_0p3/pickles/socfb-Williams40-3d.pkl\n",
      "../../MCMC_run_failure_probs_0p3/pickles/socfb-Oberlin44-1d.pkl\n",
      "../../MCMC_run_failure_probs_0p3/pickles/socfb-Oberlin44-2d.pkl\n",
      "../../MCMC_run_failure_probs_0p3/pickles/socfb-Oberlin44-3d.pkl\n",
      "../../MCMC_run_failure_probs_0p3/pickles/socfb-Smith60-1d.pkl\n",
      "../../MCMC_run_failure_probs_0p3/pickles/socfb-Smith60-2d.pkl\n",
      "../../MCMC_run_failure_probs_0p3/pickles/socfb-Smith60-3d.pkl\n",
      "../../MCMC_run_failure_probs_0p3/pickles/socfb-Wellesley22-1d.pkl\n",
      "../../MCMC_run_failure_probs_0p3/pickles/socfb-Wellesley22-2d.pkl\n",
      "../../MCMC_run_failure_probs_0p3/pickles/socfb-Wellesley22-3d.pkl\n",
      "../../MCMC_run_failure_probs_0p3/pickles/socfb-Middlebury45-1d.pkl\n",
      "../../MCMC_run_failure_probs_0p3/pickles/socfb-Middlebury45-2d.pkl\n",
      "../../MCMC_run_failure_probs_0p3/pickles/socfb-Middlebury45-3d.pkl\n",
      "../../MCMC_run_failure_probs_0p3/pickles/socfb-Vassar85-1d.pkl\n",
      "../../MCMC_run_failure_probs_0p3/pickles/socfb-Vassar85-2d.pkl\n",
      "../../MCMC_run_failure_probs_0p3/pickles/socfb-Vassar85-3d.pkl\n",
      "../../MCMC_run_failure_probs_0p3/pickles/socfb-Pepperdine86-1d.pkl\n",
      "../../MCMC_run_failure_probs_0p3/pickles/socfb-Pepperdine86-2d.pkl\n",
      "../../MCMC_run_failure_probs_0p3/pickles/socfb-Pepperdine86-3d.pkl\n",
      "../../MCMC_run_failure_probs_0p3/pickles/socfb-Colgate88-1d.pkl\n",
      "../../MCMC_run_failure_probs_0p3/pickles/socfb-Colgate88-2d.pkl\n",
      "../../MCMC_run_failure_probs_0p3/pickles/socfb-Colgate88-3d.pkl\n",
      "../../MCMC_run_failure_probs_0p3/pickles/socfb-Santa74-1d.pkl\n",
      "../../MCMC_run_failure_probs_0p3/pickles/socfb-Santa74-2d.pkl\n"
     ]
    }
   ],
   "source": [
    "import pickle\n",
    "\n",
    "outputs = []\n",
    "\n",
    "for path in os.listdir(fn):\n",
    "    pickle_path = fn + '/' + path\n",
    "    print(pickle_path)\n",
    "    try:\n",
    "        with open(pickle_path, 'rb') as file:\n",
    "            MC = pickle.load(file)\n",
    "    except Exception as e:\n",
    "        print(e)\n",
    "        continue\n",
    "    foo = np.mean(MC.lls[-len(MC.lls)//10:])\n",
    "    outputs.append((path, foo))"
   ],
   "metadata": {
    "collapsed": false,
    "ExecuteTime": {
     "start_time": "2023-06-22T14:46:20.839267Z",
     "end_time": "2023-06-22T14:46:34.521134Z"
    }
   }
  },
  {
   "cell_type": "code",
   "execution_count": 17,
   "outputs": [
    {
     "data": {
      "text/plain": "[('socfb-Caltech36-1d.pkl', -113477.55774883712),\n ('socfb-Caltech36-2d.pkl', -110275.74461806292),\n ('socfb-Caltech36-3d.pkl', -113977.7268865081),\n ('socfb-Reed98-1d.pkl', -137476.0106582583),\n ('socfb-Reed98-2d.pkl', -138585.46841864387),\n ('socfb-Reed98-3d.pkl', -144293.68550892037),\n ('socfb-Haverford76-1d.pkl', -395003.08758423454),\n ('socfb-Haverford76-2d.pkl', -391642.4485418559),\n ('socfb-Haverford76-3d.pkl', -418518.16051918257),\n ('socfb-Simmons81-1d.pkl', -251559.59073063268),\n ('socfb-Simmons81-2d.pkl', -248458.0626223539),\n ('socfb-Simmons81-3d.pkl', -275765.2392466533),\n ('socfb-Swarthmore42-1d.pkl', -443621.0244009561),\n ('socfb-Swarthmore42-2d.pkl', -445702.00706774864),\n ('socfb-Swarthmore42-3d.pkl', -472689.99996839307),\n ('socfb-Amherst41-1d.pkl', -656439.7030780016),\n ('socfb-Amherst41-2d.pkl', -674767.5618816935),\n ('socfb-Amherst41-3d.pkl', -716326.3747526222),\n ('socfb-Bowdoin47-1d.pkl', -713040.7701194168),\n ('socfb-Bowdoin47-2d.pkl', -666751.5537182394),\n ('socfb-Bowdoin47-3d.pkl', -687440.053030383),\n ('socfb-Hamilton46-1d.pkl', -773956.0733948975),\n ('socfb-Hamilton46-2d.pkl', -767924.3282425776),\n ('socfb-Hamilton46-3d.pkl', -803912.795497437),\n ('socfb-Trinity100-1d.pkl', -907635.982818877),\n ('socfb-Trinity100-2d.pkl', -870785.3261915034),\n ('socfb-Trinity100-3d.pkl', -902420.123412985),\n ('socfb-USFCA72-1d.pkl', -578507.3503930164),\n ('socfb-USFCA72-2d.pkl', -570060.5477336209),\n ('socfb-USFCA72-3d.pkl', -597859.1602723895),\n ('socfb-Williams40-1d.pkl', -960695.1073466075),\n ('socfb-Williams40-2d.pkl', -940731.0615061083),\n ('socfb-Williams40-3d.pkl', -974918.455945137),\n ('socfb-Oberlin44-1d.pkl', -838854.2842707258),\n ('socfb-Oberlin44-2d.pkl', -860174.5768376571),\n ('socfb-Oberlin44-3d.pkl', -911398.6636635181),\n ('socfb-Smith60-1d.pkl', -950713.3412402335),\n ('socfb-Smith60-2d.pkl', -935131.241639424),\n ('socfb-Smith60-3d.pkl', -944377.2082756663),\n ('socfb-Wellesley22-1d.pkl', -857321.5947950123),\n ('socfb-Wellesley22-2d.pkl', -858821.5952757904),\n ('socfb-Wellesley22-3d.pkl', -932563.4556608453),\n ('socfb-Middlebury45-1d.pkl', -1039383.3009584139),\n ('socfb-Middlebury45-2d.pkl', -1027479.792462732),\n ('socfb-Middlebury45-3d.pkl', -1127980.7951983798),\n ('socfb-Vassar85-1d.pkl', -1080974.6277441103),\n ('socfb-Vassar85-2d.pkl', -1029341.5072960813),\n ('socfb-Vassar85-3d.pkl', -1084737.4473434873),\n ('socfb-Pepperdine86-1d.pkl', -1359353.6671747402),\n ('socfb-Pepperdine86-2d.pkl', -1216517.0512624425),\n ('socfb-Pepperdine86-3d.pkl', -1253501.5875590083),\n ('socfb-Colgate88-1d.pkl', -1304209.759364394),\n ('socfb-Colgate88-2d.pkl', -1276104.367065688),\n ('socfb-Colgate88-3d.pkl', -1364862.114229229),\n ('socfb-Santa74-1d.pkl', -1374839.0766183438),\n ('socfb-Santa74-2d.pkl', -1339558.6882952987)]"
     },
     "execution_count": 17,
     "metadata": {},
     "output_type": "execute_result"
    }
   ],
   "source": [
    "outputs"
   ],
   "metadata": {
    "collapsed": false,
    "ExecuteTime": {
     "start_time": "2023-06-22T14:46:36.466923Z",
     "end_time": "2023-06-22T14:46:36.484567Z"
    }
   }
  },
  {
   "cell_type": "code",
   "execution_count": 23,
   "outputs": [],
   "source": [
    "df = pd.DataFrame(outputs)\n",
    "df.columns = ['name', 'll']"
   ],
   "metadata": {
    "collapsed": false,
    "ExecuteTime": {
     "start_time": "2023-06-22T14:48:01.124306Z",
     "end_time": "2023-06-22T14:48:01.163642Z"
    }
   }
  },
  {
   "cell_type": "code",
   "execution_count": 24,
   "outputs": [],
   "source": [
    "df['d'] = df['name'].apply(lambda x: int(x.split('-')[2][0]))\n",
    "df['name'] = df['name'].apply(lambda x: x.split('-')[0] + '-' + x.split('-')[1])"
   ],
   "metadata": {
    "collapsed": false,
    "ExecuteTime": {
     "start_time": "2023-06-22T14:48:01.350820Z",
     "end_time": "2023-06-22T14:48:01.393346Z"
    }
   }
  },
  {
   "cell_type": "code",
   "execution_count": 25,
   "outputs": [
    {
     "data": {
      "text/plain": "                  name            ll  d\n0      socfb-Caltech36 -1.134776e+05  1\n1      socfb-Caltech36 -1.102757e+05  2\n2      socfb-Caltech36 -1.139777e+05  3\n3         socfb-Reed98 -1.374760e+05  1\n4         socfb-Reed98 -1.385855e+05  2\n5         socfb-Reed98 -1.442937e+05  3\n6    socfb-Haverford76 -3.950031e+05  1\n7    socfb-Haverford76 -3.916424e+05  2\n8    socfb-Haverford76 -4.185182e+05  3\n9      socfb-Simmons81 -2.515596e+05  1\n10     socfb-Simmons81 -2.484581e+05  2\n11     socfb-Simmons81 -2.757652e+05  3\n12  socfb-Swarthmore42 -4.436210e+05  1\n13  socfb-Swarthmore42 -4.457020e+05  2\n14  socfb-Swarthmore42 -4.726900e+05  3\n15     socfb-Amherst41 -6.564397e+05  1\n16     socfb-Amherst41 -6.747676e+05  2\n17     socfb-Amherst41 -7.163264e+05  3\n18     socfb-Bowdoin47 -7.130408e+05  1\n19     socfb-Bowdoin47 -6.667516e+05  2\n20     socfb-Bowdoin47 -6.874401e+05  3\n21    socfb-Hamilton46 -7.739561e+05  1\n22    socfb-Hamilton46 -7.679243e+05  2\n23    socfb-Hamilton46 -8.039128e+05  3\n24    socfb-Trinity100 -9.076360e+05  1\n25    socfb-Trinity100 -8.707853e+05  2\n26    socfb-Trinity100 -9.024201e+05  3\n27       socfb-USFCA72 -5.785074e+05  1\n28       socfb-USFCA72 -5.700605e+05  2\n29       socfb-USFCA72 -5.978592e+05  3\n30    socfb-Williams40 -9.606951e+05  1\n31    socfb-Williams40 -9.407311e+05  2\n32    socfb-Williams40 -9.749185e+05  3\n33     socfb-Oberlin44 -8.388543e+05  1\n34     socfb-Oberlin44 -8.601746e+05  2\n35     socfb-Oberlin44 -9.113987e+05  3\n36       socfb-Smith60 -9.507133e+05  1\n37       socfb-Smith60 -9.351312e+05  2\n38       socfb-Smith60 -9.443772e+05  3\n39   socfb-Wellesley22 -8.573216e+05  1\n40   socfb-Wellesley22 -8.588216e+05  2\n41   socfb-Wellesley22 -9.325635e+05  3\n42  socfb-Middlebury45 -1.039383e+06  1\n43  socfb-Middlebury45 -1.027480e+06  2\n44  socfb-Middlebury45 -1.127981e+06  3\n45      socfb-Vassar85 -1.080975e+06  1\n46      socfb-Vassar85 -1.029342e+06  2\n47      socfb-Vassar85 -1.084737e+06  3\n48  socfb-Pepperdine86 -1.359354e+06  1\n49  socfb-Pepperdine86 -1.216517e+06  2\n50  socfb-Pepperdine86 -1.253502e+06  3\n51     socfb-Colgate88 -1.304210e+06  1\n52     socfb-Colgate88 -1.276104e+06  2\n53     socfb-Colgate88 -1.364862e+06  3\n54       socfb-Santa74 -1.374839e+06  1\n55       socfb-Santa74 -1.339559e+06  2",
      "text/html": "<div>\n<style scoped>\n    .dataframe tbody tr th:only-of-type {\n        vertical-align: middle;\n    }\n\n    .dataframe tbody tr th {\n        vertical-align: top;\n    }\n\n    .dataframe thead th {\n        text-align: right;\n    }\n</style>\n<table border=\"1\" class=\"dataframe\">\n  <thead>\n    <tr style=\"text-align: right;\">\n      <th></th>\n      <th>name</th>\n      <th>ll</th>\n      <th>d</th>\n    </tr>\n  </thead>\n  <tbody>\n    <tr>\n      <th>0</th>\n      <td>socfb-Caltech36</td>\n      <td>-1.134776e+05</td>\n      <td>1</td>\n    </tr>\n    <tr>\n      <th>1</th>\n      <td>socfb-Caltech36</td>\n      <td>-1.102757e+05</td>\n      <td>2</td>\n    </tr>\n    <tr>\n      <th>2</th>\n      <td>socfb-Caltech36</td>\n      <td>-1.139777e+05</td>\n      <td>3</td>\n    </tr>\n    <tr>\n      <th>3</th>\n      <td>socfb-Reed98</td>\n      <td>-1.374760e+05</td>\n      <td>1</td>\n    </tr>\n    <tr>\n      <th>4</th>\n      <td>socfb-Reed98</td>\n      <td>-1.385855e+05</td>\n      <td>2</td>\n    </tr>\n    <tr>\n      <th>5</th>\n      <td>socfb-Reed98</td>\n      <td>-1.442937e+05</td>\n      <td>3</td>\n    </tr>\n    <tr>\n      <th>6</th>\n      <td>socfb-Haverford76</td>\n      <td>-3.950031e+05</td>\n      <td>1</td>\n    </tr>\n    <tr>\n      <th>7</th>\n      <td>socfb-Haverford76</td>\n      <td>-3.916424e+05</td>\n      <td>2</td>\n    </tr>\n    <tr>\n      <th>8</th>\n      <td>socfb-Haverford76</td>\n      <td>-4.185182e+05</td>\n      <td>3</td>\n    </tr>\n    <tr>\n      <th>9</th>\n      <td>socfb-Simmons81</td>\n      <td>-2.515596e+05</td>\n      <td>1</td>\n    </tr>\n    <tr>\n      <th>10</th>\n      <td>socfb-Simmons81</td>\n      <td>-2.484581e+05</td>\n      <td>2</td>\n    </tr>\n    <tr>\n      <th>11</th>\n      <td>socfb-Simmons81</td>\n      <td>-2.757652e+05</td>\n      <td>3</td>\n    </tr>\n    <tr>\n      <th>12</th>\n      <td>socfb-Swarthmore42</td>\n      <td>-4.436210e+05</td>\n      <td>1</td>\n    </tr>\n    <tr>\n      <th>13</th>\n      <td>socfb-Swarthmore42</td>\n      <td>-4.457020e+05</td>\n      <td>2</td>\n    </tr>\n    <tr>\n      <th>14</th>\n      <td>socfb-Swarthmore42</td>\n      <td>-4.726900e+05</td>\n      <td>3</td>\n    </tr>\n    <tr>\n      <th>15</th>\n      <td>socfb-Amherst41</td>\n      <td>-6.564397e+05</td>\n      <td>1</td>\n    </tr>\n    <tr>\n      <th>16</th>\n      <td>socfb-Amherst41</td>\n      <td>-6.747676e+05</td>\n      <td>2</td>\n    </tr>\n    <tr>\n      <th>17</th>\n      <td>socfb-Amherst41</td>\n      <td>-7.163264e+05</td>\n      <td>3</td>\n    </tr>\n    <tr>\n      <th>18</th>\n      <td>socfb-Bowdoin47</td>\n      <td>-7.130408e+05</td>\n      <td>1</td>\n    </tr>\n    <tr>\n      <th>19</th>\n      <td>socfb-Bowdoin47</td>\n      <td>-6.667516e+05</td>\n      <td>2</td>\n    </tr>\n    <tr>\n      <th>20</th>\n      <td>socfb-Bowdoin47</td>\n      <td>-6.874401e+05</td>\n      <td>3</td>\n    </tr>\n    <tr>\n      <th>21</th>\n      <td>socfb-Hamilton46</td>\n      <td>-7.739561e+05</td>\n      <td>1</td>\n    </tr>\n    <tr>\n      <th>22</th>\n      <td>socfb-Hamilton46</td>\n      <td>-7.679243e+05</td>\n      <td>2</td>\n    </tr>\n    <tr>\n      <th>23</th>\n      <td>socfb-Hamilton46</td>\n      <td>-8.039128e+05</td>\n      <td>3</td>\n    </tr>\n    <tr>\n      <th>24</th>\n      <td>socfb-Trinity100</td>\n      <td>-9.076360e+05</td>\n      <td>1</td>\n    </tr>\n    <tr>\n      <th>25</th>\n      <td>socfb-Trinity100</td>\n      <td>-8.707853e+05</td>\n      <td>2</td>\n    </tr>\n    <tr>\n      <th>26</th>\n      <td>socfb-Trinity100</td>\n      <td>-9.024201e+05</td>\n      <td>3</td>\n    </tr>\n    <tr>\n      <th>27</th>\n      <td>socfb-USFCA72</td>\n      <td>-5.785074e+05</td>\n      <td>1</td>\n    </tr>\n    <tr>\n      <th>28</th>\n      <td>socfb-USFCA72</td>\n      <td>-5.700605e+05</td>\n      <td>2</td>\n    </tr>\n    <tr>\n      <th>29</th>\n      <td>socfb-USFCA72</td>\n      <td>-5.978592e+05</td>\n      <td>3</td>\n    </tr>\n    <tr>\n      <th>30</th>\n      <td>socfb-Williams40</td>\n      <td>-9.606951e+05</td>\n      <td>1</td>\n    </tr>\n    <tr>\n      <th>31</th>\n      <td>socfb-Williams40</td>\n      <td>-9.407311e+05</td>\n      <td>2</td>\n    </tr>\n    <tr>\n      <th>32</th>\n      <td>socfb-Williams40</td>\n      <td>-9.749185e+05</td>\n      <td>3</td>\n    </tr>\n    <tr>\n      <th>33</th>\n      <td>socfb-Oberlin44</td>\n      <td>-8.388543e+05</td>\n      <td>1</td>\n    </tr>\n    <tr>\n      <th>34</th>\n      <td>socfb-Oberlin44</td>\n      <td>-8.601746e+05</td>\n      <td>2</td>\n    </tr>\n    <tr>\n      <th>35</th>\n      <td>socfb-Oberlin44</td>\n      <td>-9.113987e+05</td>\n      <td>3</td>\n    </tr>\n    <tr>\n      <th>36</th>\n      <td>socfb-Smith60</td>\n      <td>-9.507133e+05</td>\n      <td>1</td>\n    </tr>\n    <tr>\n      <th>37</th>\n      <td>socfb-Smith60</td>\n      <td>-9.351312e+05</td>\n      <td>2</td>\n    </tr>\n    <tr>\n      <th>38</th>\n      <td>socfb-Smith60</td>\n      <td>-9.443772e+05</td>\n      <td>3</td>\n    </tr>\n    <tr>\n      <th>39</th>\n      <td>socfb-Wellesley22</td>\n      <td>-8.573216e+05</td>\n      <td>1</td>\n    </tr>\n    <tr>\n      <th>40</th>\n      <td>socfb-Wellesley22</td>\n      <td>-8.588216e+05</td>\n      <td>2</td>\n    </tr>\n    <tr>\n      <th>41</th>\n      <td>socfb-Wellesley22</td>\n      <td>-9.325635e+05</td>\n      <td>3</td>\n    </tr>\n    <tr>\n      <th>42</th>\n      <td>socfb-Middlebury45</td>\n      <td>-1.039383e+06</td>\n      <td>1</td>\n    </tr>\n    <tr>\n      <th>43</th>\n      <td>socfb-Middlebury45</td>\n      <td>-1.027480e+06</td>\n      <td>2</td>\n    </tr>\n    <tr>\n      <th>44</th>\n      <td>socfb-Middlebury45</td>\n      <td>-1.127981e+06</td>\n      <td>3</td>\n    </tr>\n    <tr>\n      <th>45</th>\n      <td>socfb-Vassar85</td>\n      <td>-1.080975e+06</td>\n      <td>1</td>\n    </tr>\n    <tr>\n      <th>46</th>\n      <td>socfb-Vassar85</td>\n      <td>-1.029342e+06</td>\n      <td>2</td>\n    </tr>\n    <tr>\n      <th>47</th>\n      <td>socfb-Vassar85</td>\n      <td>-1.084737e+06</td>\n      <td>3</td>\n    </tr>\n    <tr>\n      <th>48</th>\n      <td>socfb-Pepperdine86</td>\n      <td>-1.359354e+06</td>\n      <td>1</td>\n    </tr>\n    <tr>\n      <th>49</th>\n      <td>socfb-Pepperdine86</td>\n      <td>-1.216517e+06</td>\n      <td>2</td>\n    </tr>\n    <tr>\n      <th>50</th>\n      <td>socfb-Pepperdine86</td>\n      <td>-1.253502e+06</td>\n      <td>3</td>\n    </tr>\n    <tr>\n      <th>51</th>\n      <td>socfb-Colgate88</td>\n      <td>-1.304210e+06</td>\n      <td>1</td>\n    </tr>\n    <tr>\n      <th>52</th>\n      <td>socfb-Colgate88</td>\n      <td>-1.276104e+06</td>\n      <td>2</td>\n    </tr>\n    <tr>\n      <th>53</th>\n      <td>socfb-Colgate88</td>\n      <td>-1.364862e+06</td>\n      <td>3</td>\n    </tr>\n    <tr>\n      <th>54</th>\n      <td>socfb-Santa74</td>\n      <td>-1.374839e+06</td>\n      <td>1</td>\n    </tr>\n    <tr>\n      <th>55</th>\n      <td>socfb-Santa74</td>\n      <td>-1.339559e+06</td>\n      <td>2</td>\n    </tr>\n  </tbody>\n</table>\n</div>"
     },
     "execution_count": 25,
     "metadata": {},
     "output_type": "execute_result"
    }
   ],
   "source": [
    "df"
   ],
   "metadata": {
    "collapsed": false,
    "ExecuteTime": {
     "start_time": "2023-06-22T14:48:01.754898Z",
     "end_time": "2023-06-22T14:48:01.798446Z"
    }
   }
  },
  {
   "cell_type": "code",
   "execution_count": 38,
   "outputs": [
    {
     "data": {
      "text/plain": "Index(['socfb-Amherst41', 'socfb-Oberlin44', 'socfb-Reed98',\n       'socfb-Swarthmore42', 'socfb-Wellesley22'],\n      dtype='object', name='name')"
     },
     "execution_count": 38,
     "metadata": {},
     "output_type": "execute_result"
    },
    {
     "data": {
      "text/plain": "Index(['socfb-Bowdoin47', 'socfb-Caltech36', 'socfb-Colgate88',\n       'socfb-Hamilton46', 'socfb-Haverford76', 'socfb-Middlebury45',\n       'socfb-Pepperdine86', 'socfb-Santa74', 'socfb-Simmons81',\n       'socfb-Smith60', 'socfb-Trinity100', 'socfb-USFCA72', 'socfb-Vassar85',\n       'socfb-Williams40'],\n      dtype='object', name='name')"
     },
     "execution_count": 38,
     "metadata": {},
     "output_type": "execute_result"
    }
   ],
   "source": [
    "temp = df.groupby('name').apply(lambda x: x.sort_values('d').ll.argmax())\n",
    "temp.loc[temp == 0].index\n",
    "temp.loc[temp == 1].index"
   ],
   "metadata": {
    "collapsed": false,
    "ExecuteTime": {
     "start_time": "2023-06-22T14:52:43.929159Z",
     "end_time": "2023-06-22T14:52:43.939759Z"
    }
   }
  },
  {
   "cell_type": "code",
   "execution_count": 39,
   "outputs": [
    {
     "data": {
      "text/plain": "3    -137476.010658\n4    -138585.468419\n5    -144293.685509\n12   -443621.024401\n13   -445702.007068\n14   -472689.999968\n15   -656439.703078\n16   -674767.561882\n17   -716326.374753\n33   -838854.284271\n34   -860174.576838\n35   -911398.663664\n39   -857321.594795\n40   -858821.595276\n41   -932563.455661\nName: ll, dtype: float64"
     },
     "execution_count": 39,
     "metadata": {},
     "output_type": "execute_result"
    }
   ],
   "source": [
    "df.loc[df.name.isin(temp.loc[temp == 0].index)].ll"
   ],
   "metadata": {
    "collapsed": false,
    "ExecuteTime": {
     "start_time": "2023-06-22T14:59:30.992934Z",
     "end_time": "2023-06-22T14:59:31.036202Z"
    }
   }
  },
  {
   "cell_type": "code",
   "execution_count": 40,
   "outputs": [
    {
     "data": {
      "text/plain": "0    -1.134776e+05\n1    -1.102757e+05\n2    -1.139777e+05\n6    -3.950031e+05\n7    -3.916424e+05\n8    -4.185182e+05\n9    -2.515596e+05\n10   -2.484581e+05\n11   -2.757652e+05\n18   -7.130408e+05\n19   -6.667516e+05\n20   -6.874401e+05\n21   -7.739561e+05\n22   -7.679243e+05\n23   -8.039128e+05\n24   -9.076360e+05\n25   -8.707853e+05\n26   -9.024201e+05\n27   -5.785074e+05\n28   -5.700605e+05\n29   -5.978592e+05\n30   -9.606951e+05\n31   -9.407311e+05\n32   -9.749185e+05\n36   -9.507133e+05\n37   -9.351312e+05\n38   -9.443772e+05\n42   -1.039383e+06\n43   -1.027480e+06\n44   -1.127981e+06\n45   -1.080975e+06\n46   -1.029342e+06\n47   -1.084737e+06\n48   -1.359354e+06\n49   -1.216517e+06\n50   -1.253502e+06\n51   -1.304210e+06\n52   -1.276104e+06\n53   -1.364862e+06\n54   -1.374839e+06\n55   -1.339559e+06\nName: ll, dtype: float64"
     },
     "execution_count": 40,
     "metadata": {},
     "output_type": "execute_result"
    }
   ],
   "source": [
    "df.loc[df.name.isin(temp.loc[temp == 1].index)].ll"
   ],
   "metadata": {
    "collapsed": false,
    "ExecuteTime": {
     "start_time": "2023-06-22T14:59:39.282652Z",
     "end_time": "2023-06-22T14:59:39.288077Z"
    }
   }
  },
  {
   "cell_type": "code",
   "execution_count": null,
   "outputs": [],
   "source": [],
   "metadata": {
    "collapsed": false
   }
  }
 ],
 "metadata": {
  "kernelspec": {
   "name": "girgenv_higherdims",
   "language": "python",
   "display_name": "girgenv_higherdims"
  },
  "language_info": {
   "codemirror_mode": {
    "name": "ipython",
    "version": 2
   },
   "file_extension": ".py",
   "mimetype": "text/x-python",
   "name": "python",
   "nbconvert_exporter": "python",
   "pygments_lexer": "ipython2",
   "version": "2.7.6"
  }
 },
 "nbformat": 4,
 "nbformat_minor": 0
}
