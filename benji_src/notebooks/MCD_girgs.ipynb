{
 "cells": [
  {
   "cell_type": "code",
   "execution_count": 1,
   "metadata": {},
   "outputs": [
    {
     "data": {
      "text/html": [
       "\n",
       "\t\t\t<script type=\"text/javascript\">\n",
       "\t\t\t<!--\n",
       "\t\t\t\t\n",
       "\t\t\t{\n",
       "\t\t\t\tvar element = document.getElementById('NetworKit_script');\n",
       "\t\t\t\tif (element) {\n",
       "\t\t\t\t\telement.parentNode.removeChild(element);\n",
       "\t\t\t\t}\n",
       "\t\t\t\telement = document.createElement('script');\n",
       "\t\t\t\telement.type = 'text/javascript';\n",
       "\t\t\t\telement.innerHTML = 'function NetworKit_pageEmbed(id) { var i, j; var elements; elements = document.getElementById(id).getElementsByClassName(\"Plot\"); for (i=0; i<elements.length; i++) { elements[i].id = id + \"_Plot_\" + i; var data = elements[i].getAttribute(\"data-image\").split(\"|\"); elements[i].removeAttribute(\"data-image\"); var content = \"<div class=\\\\\"Image\\\\\" id=\\\\\"\" + elements[i].id + \"_Image\\\\\" />\"; elements[i].innerHTML = content; elements[i].setAttribute(\"data-image-index\", 0); elements[i].setAttribute(\"data-image-length\", data.length); for (j=0; j<data.length; j++) { elements[i].setAttribute(\"data-image-\" + j, data[j]); } NetworKit_plotUpdate(elements[i]); elements[i].onclick = function (e) { NetworKit_overlayShow((e.target) ? e.target : e.srcElement); } } elements = document.getElementById(id).getElementsByClassName(\"HeatCell\"); for (i=0; i<elements.length; i++) { var data = parseFloat(elements[i].getAttribute(\"data-heat\")); var color = \"#00FF00\"; if (data <= 1 && data > 0) { color = \"hsla(0, 100%, 75%, \" + (data) + \")\"; } else if (data <= 0 && data >= -1) { color = \"hsla(240, 100%, 75%, \" + (-data) + \")\"; } elements[i].style.backgroundColor = color; } elements = document.getElementById(id).getElementsByClassName(\"Details\"); for (i=0; i<elements.length; i++) { elements[i].setAttribute(\"data-title\", \"-\"); NetworKit_toggleDetails(elements[i]); elements[i].onclick = function (e) { NetworKit_toggleDetails((e.target) ? e.target : e.srcElement); } } elements = document.getElementById(id).getElementsByClassName(\"MathValue\"); for (i=elements.length-1; i>=0; i--) { value = elements[i].innerHTML.trim(); if (value === \"nan\") { elements[i].parentNode.innerHTML = \"\" } } elements = document.getElementById(id).getElementsByClassName(\"SubCategory\"); for (i=elements.length-1; i>=0; i--) { value = elements[i].innerHTML.trim(); if (value === \"\") { elements[i].parentNode.removeChild(elements[i]) } } elements = document.getElementById(id).getElementsByClassName(\"Category\"); for (i=elements.length-1; i>=0; i--) { value = elements[i].innerHTML.trim(); if (value === \"\") { elements[i].parentNode.removeChild(elements[i]) } } var isFirefox = false; try { isFirefox = typeof InstallTrigger !== \"undefined\"; } catch (e) {} if (!isFirefox) { alert(\"Currently the function\\'s output is only fully supported by Firefox.\"); } } function NetworKit_plotUpdate(source) { var index = source.getAttribute(\"data-image-index\"); var data = source.getAttribute(\"data-image-\" + index); var image = document.getElementById(source.id + \"_Image\"); image.style.backgroundImage = \"url(\" + data + \")\"; } function NetworKit_showElement(id, show) { var element = document.getElementById(id); element.style.display = (show) ? \"block\" : \"none\"; } function NetworKit_overlayShow(source) { NetworKit_overlayUpdate(source); NetworKit_showElement(\"NetworKit_Overlay\", true); } function NetworKit_overlayUpdate(source) { document.getElementById(\"NetworKit_Overlay_Title\").innerHTML = source.title; var index = source.getAttribute(\"data-image-index\"); var data = source.getAttribute(\"data-image-\" + index); var image = document.getElementById(\"NetworKit_Overlay_Image\"); image.setAttribute(\"data-id\", source.id); image.style.backgroundImage = \"url(\" + data + \")\"; var link = document.getElementById(\"NetworKit_Overlay_Toolbar_Bottom_Save\"); link.href = data; link.download = source.title + \".svg\"; } function NetworKit_overlayImageShift(delta) { var image = document.getElementById(\"NetworKit_Overlay_Image\"); var source = document.getElementById(image.getAttribute(\"data-id\")); var index = parseInt(source.getAttribute(\"data-image-index\")); var length = parseInt(source.getAttribute(\"data-image-length\")); var index = (index+delta) % length; if (index < 0) { index = length + index; } source.setAttribute(\"data-image-index\", index); NetworKit_overlayUpdate(source); } function NetworKit_toggleDetails(source) { var childs = source.children; var show = false; if (source.getAttribute(\"data-title\") == \"-\") { source.setAttribute(\"data-title\", \"+\"); show = false; } else { source.setAttribute(\"data-title\", \"-\"); show = true; } for (i=0; i<childs.length; i++) { if (show) { childs[i].style.display = \"block\"; } else { childs[i].style.display = \"none\"; } } }';\n",
       "\t\t\t\telement.setAttribute('id', 'NetworKit_script');\n",
       "\t\t\t\tdocument.head.appendChild(element);\n",
       "\t\t\t}\n",
       "\t\t\n",
       "\t\t\t\t\n",
       "\t\t\t{\n",
       "\t\t\t\tvar element = document.getElementById('NetworKit_style');\n",
       "\t\t\t\tif (element) {\n",
       "\t\t\t\t\telement.parentNode.removeChild(element);\n",
       "\t\t\t\t}\n",
       "\t\t\t\telement = document.createElement('style');\n",
       "\t\t\t\telement.type = 'text/css';\n",
       "\t\t\t\telement.innerHTML = '.NetworKit_Page { font-family: Arial, Helvetica, sans-serif; font-size: 14px; } .NetworKit_Page .Value:before { font-family: Arial, Helvetica, sans-serif; font-size: 1.05em; content: attr(data-title) \":\"; margin-left: -2.5em; padding-right: 0.5em; } .NetworKit_Page .Details .Value:before { display: block; } .NetworKit_Page .Value { font-family: monospace; white-space: pre; padding-left: 2.5em; white-space: -moz-pre-wrap !important; white-space: -pre-wrap; white-space: -o-pre-wrap; white-space: pre-wrap; word-wrap: break-word; tab-size: 4; -moz-tab-size: 4; } .NetworKit_Page .Category { clear: both; padding-left: 1em; margin-bottom: 1.5em; } .NetworKit_Page .Category:before { content: attr(data-title); font-size: 1.75em; display: block; margin-left: -0.8em; margin-bottom: 0.5em; } .NetworKit_Page .SubCategory { margin-bottom: 1.5em; padding-left: 1em; } .NetworKit_Page .SubCategory:before { font-size: 1.6em; display: block; margin-left: -0.8em; margin-bottom: 0.5em; } .NetworKit_Page .SubCategory[data-title]:before { content: attr(data-title); } .NetworKit_Page .Block { display: block; } .NetworKit_Page .Block:after { content: \".\"; visibility: hidden; display: block; height: 0; clear: both; } .NetworKit_Page .Block .Thumbnail_Overview, .NetworKit_Page .Block .Thumbnail_ScatterPlot { width: 260px; float: left; } .NetworKit_Page .Block .Thumbnail_Overview img, .NetworKit_Page .Block .Thumbnail_ScatterPlot img { width: 260px; } .NetworKit_Page .Block .Thumbnail_Overview:before, .NetworKit_Page .Block .Thumbnail_ScatterPlot:before { display: block; text-align: center; font-weight: bold; } .NetworKit_Page .Block .Thumbnail_Overview:before { content: attr(data-title); } .NetworKit_Page .HeatCell { font-family: \"Courier New\", Courier, monospace; cursor: pointer; } .NetworKit_Page .HeatCell, .NetworKit_Page .HeatCellName { display: inline; padding: 0.1em; margin-right: 2px; background-color: #FFFFFF } .NetworKit_Page .HeatCellName { margin-left: 0.25em; } .NetworKit_Page .HeatCell:before { content: attr(data-heat); display: inline-block; color: #000000; width: 4em; text-align: center; } .NetworKit_Page .Measure { clear: both; } .NetworKit_Page .Measure .Details { cursor: pointer; } .NetworKit_Page .Measure .Details:before { content: \"[\" attr(data-title) \"]\"; display: block; } .NetworKit_Page .Measure .Details .Value { border-left: 1px dotted black; margin-left: 0.4em; padding-left: 3.5em; pointer-events: none; } .NetworKit_Page .Measure .Details .Spacer:before { content: \".\"; opacity: 0.0; pointer-events: none; } .NetworKit_Page .Measure .Plot { width: 440px; height: 440px; cursor: pointer; float: left; margin-left: -0.9em; margin-right: 20px; } .NetworKit_Page .Measure .Plot .Image { background-repeat: no-repeat; background-position: center center; background-size: contain; height: 100%; pointer-events: none; } .NetworKit_Page .Measure .Stat { width: 500px; float: left; } .NetworKit_Page .Measure .Stat .Group { padding-left: 1.25em; margin-bottom: 0.75em; } .NetworKit_Page .Measure .Stat .Group .Title { font-size: 1.1em; display: block; margin-bottom: 0.3em; margin-left: -0.75em; border-right-style: dotted; border-right-width: 1px; border-bottom-style: dotted; border-bottom-width: 1px; background-color: #D0D0D0; padding-left: 0.2em; } .NetworKit_Page .Measure .Stat .Group .List { -webkit-column-count: 3; -moz-column-count: 3; column-count: 3; } .NetworKit_Page .Measure .Stat .Group .List .Entry { position: relative; line-height: 1.75em; } .NetworKit_Page .Measure .Stat .Group .List .Entry[data-tooltip]:before { position: absolute; left: 0; top: -40px; background-color: #808080; color: #ffffff; height: 30px; line-height: 30px; border-radius: 5px; padding: 0 15px; content: attr(data-tooltip); white-space: nowrap; display: none; } .NetworKit_Page .Measure .Stat .Group .List .Entry[data-tooltip]:after { position: absolute; left: 15px; top: -10px; border-top: 7px solid #808080; border-left: 7px solid transparent; border-right: 7px solid transparent; content: \"\"; display: none; } .NetworKit_Page .Measure .Stat .Group .List .Entry[data-tooltip]:hover:after, .NetworKit_Page .Measure .Stat .Group .List .Entry[data-tooltip]:hover:before { display: block; } .NetworKit_Page .Measure .Stat .Group .List .Entry .MathValue { font-family: \"Courier New\", Courier, monospace; } .NetworKit_Page .Measure:after { content: \".\"; visibility: hidden; display: block; height: 0; clear: both; } .NetworKit_Page .PartitionPie { clear: both; } .NetworKit_Page .PartitionPie img { width: 600px; } #NetworKit_Overlay { left: 0px; top: 0px; display: none; position: absolute; width: 100%; height: 100%; background-color: rgba(0,0,0,0.6); z-index: 1000; } #NetworKit_Overlay_Title { position: absolute; color: white; transform: rotate(-90deg); width: 32em; height: 32em; padding-right: 0.5em; padding-top: 0.5em; text-align: right; font-size: 40px; } #NetworKit_Overlay .button { background: white; cursor: pointer; } #NetworKit_Overlay .button:before { size: 13px; display: inline-block; text-align: center; margin-top: 0.5em; margin-bottom: 0.5em; width: 1.5em; height: 1.5em; } #NetworKit_Overlay .icon-close:before { content: \"X\"; } #NetworKit_Overlay .icon-previous:before { content: \"P\"; } #NetworKit_Overlay .icon-next:before { content: \"N\"; } #NetworKit_Overlay .icon-save:before { content: \"S\"; } #NetworKit_Overlay_Toolbar_Top, #NetworKit_Overlay_Toolbar_Bottom { position: absolute; width: 40px; right: 13px; text-align: right; z-index: 1100; } #NetworKit_Overlay_Toolbar_Top { top: 0.5em; } #NetworKit_Overlay_Toolbar_Bottom { Bottom: 0.5em; } #NetworKit_Overlay_ImageContainer { position: absolute; top: 5%; left: 5%; height: 90%; width: 90%; background-repeat: no-repeat; background-position: center center; background-size: contain; } #NetworKit_Overlay_Image { height: 100%; width: 100%; background-repeat: no-repeat; background-position: center center; background-size: contain; }';\n",
       "\t\t\t\telement.setAttribute('id', 'NetworKit_style');\n",
       "\t\t\t\tdocument.head.appendChild(element);\n",
       "\t\t\t}\n",
       "\t\t\n",
       "\t\t\t\t\n",
       "\t\t\t{\n",
       "\t\t\t\tvar element = document.getElementById('NetworKit_Overlay');\n",
       "\t\t\t\tif (element) {\n",
       "\t\t\t\t\telement.parentNode.removeChild(element);\n",
       "\t\t\t\t}\n",
       "\t\t\t\telement = document.createElement('div');\n",
       "\t\t\t\telement.innerHTML = '<div id=\"NetworKit_Overlay_Toolbar_Top\"><div class=\"button icon-close\" id=\"NetworKit_Overlay_Close\" /></div><div id=\"NetworKit_Overlay_Title\" /> <div id=\"NetworKit_Overlay_ImageContainer\"> <div id=\"NetworKit_Overlay_Image\" /> </div> <div id=\"NetworKit_Overlay_Toolbar_Bottom\"> <div class=\"button icon-previous\" onclick=\"NetworKit_overlayImageShift(-1)\" /> <div class=\"button icon-next\" onclick=\"NetworKit_overlayImageShift(1)\" /> <a id=\"NetworKit_Overlay_Toolbar_Bottom_Save\"><div class=\"button icon-save\" /></a> </div>';\n",
       "\t\t\t\telement.setAttribute('id', 'NetworKit_Overlay');\n",
       "\t\t\t\tdocument.body.appendChild(element);\n",
       "\t\t\t\tdocument.getElementById('NetworKit_Overlay_Close').onclick = function (e) {\n",
       "\t\t\t\t\tdocument.getElementById('NetworKit_Overlay').style.display = 'none';\n",
       "\t\t\t\t}\n",
       "\t\t\t}\n",
       "\t\t\n",
       "\t\t\t-->\n",
       "\t\t\t</script>\n",
       "\t\t"
      ]
     },
     "metadata": {},
     "output_type": "display_data"
    }
   ],
   "source": [
    "import sys\n",
    "sys.path.append('../')\n",
    "from benji_girgs import generation, points, utils\n",
    "import networkit as nk\n",
    "import networkx as nx\n",
    "import numpy as np\n",
    "import os\n",
    "\n",
    "from IPython.core.interactiveshell import InteractiveShell\n",
    "InteractiveShell.ast_node_interactivity = \"all\"\n",
    "\n",
    "from girg_sampling import girgs"
   ]
  },
  {
   "cell_type": "code",
   "execution_count": 82,
   "metadata": {},
   "outputs": [
    {
     "data": {
      "text/plain": [
       "<module 'benji_girgs.generation' from '../benji_girgs/generation.py'>"
      ]
     },
     "execution_count": 82,
     "metadata": {},
     "output_type": "execute_result"
    },
    {
     "data": {
      "text/plain": [
       "<module 'benji_girgs.points' from '../benji_girgs/points.py'>"
      ]
     },
     "execution_count": 82,
     "metadata": {},
     "output_type": "execute_result"
    }
   ],
   "source": [
    "import importlib\n",
    "importlib.reload(generation)\n",
    "importlib.reload(points)"
   ]
  },
  {
   "cell_type": "code",
   "execution_count": 2,
   "metadata": {},
   "outputs": [
    {
     "name": "stdout",
     "output_type": "stream",
     "text": [
      "const_in: 1.6455078125\n",
      "1.5144326256908276\n"
     ]
    },
    {
     "name": "stderr",
     "output_type": "stream",
     "text": [
      "../benji_girgs/generation.py:66: RuntimeWarning: divide by zero encountered in true_divide\n",
      "  p_uv = np.divide(outer, dists**d)\n"
     ]
    },
    {
     "data": {
      "text/plain": [
       "100.072"
      ]
     },
     "execution_count": 2,
     "metadata": {},
     "output_type": "execute_result"
    },
    {
     "name": "stdout",
     "output_type": "stream",
     "text": [
      "\n",
      "const_in: 19.952987613828288\n",
      "1.5144326256908276\n"
     ]
    },
    {
     "data": {
      "text/plain": [
       "99.56666666666666"
      ]
     },
     "execution_count": 2,
     "metadata": {},
     "output_type": "execute_result"
    },
    {
     "name": "stdout",
     "output_type": "stream",
     "text": [
      "const_in: 19.952987613828288\n",
      "1.5144326256908276\n"
     ]
    },
    {
     "data": {
      "text/plain": [
       "100.30933333333333"
      ]
     },
     "execution_count": 2,
     "metadata": {},
     "output_type": "execute_result"
    },
    {
     "name": "stdout",
     "output_type": "stream",
     "text": [
      "const_in: 19.952987613828288\n",
      "1.5144326256908276\n"
     ]
    },
    {
     "data": {
      "text/plain": [
       "99.464"
      ]
     },
     "execution_count": 2,
     "metadata": {},
     "output_type": "execute_result"
    }
   ],
   "source": [
    "n = 1500\n",
    "d = 3\n",
    "tau = 2.1\n",
    "alpha=1.2\n",
    "desiredAvgDegree=100.0\n",
    "\n",
    "g, edges, weights, pts_torus, const = generation.generate_GIRG_nk(n, d, tau, alpha, desiredAvgDegree=desiredAvgDegree, points_type=points.PointsTorus)\n",
    "print(const)\n",
    "utils.avg_degree(g)\n",
    "print()\n",
    "\n",
    "g, edges, weights, pts_torus2, _ = generation.generate_GIRG_nk(n, d, tau, alpha, points_type=points.PointsTorus2, weights=weights, const=const)\n",
    "print(_)\n",
    "utils.avg_degree(g)\n",
    "\n",
    "g, edges, weights, pts_torus2, _ = generation.generate_GIRG_nk(n, d, tau, alpha, points_type=points.PointsMCD, weights=weights, const=const)\n",
    "print(_)\n",
    "utils.avg_degree(g)\n",
    "\n",
    "PointsMixed = points.get_points_simple_mixed_class([[0], [1], [2]])\n",
    "g, edges, weights, pts_mixed, _ = generation.generate_GIRG_nk(n, d, tau, alpha, points_type=PointsMixed, weights=weights, const=const)\n",
    "print(_)\n",
    "utils.avg_degree(g)\n"
   ]
  },
  {
   "cell_type": "code",
   "execution_count": 8,
   "metadata": {},
   "outputs": [
    {
     "data": {
      "text/plain": [
       "<super: benji_girgs.points.PointsTorus, None>"
      ]
     },
     "execution_count": 8,
     "metadata": {},
     "output_type": "execute_result"
    }
   ],
   "source": [
    "super(points.PointsTorus)"
   ]
  },
  {
   "cell_type": "code",
   "execution_count": 12,
   "metadata": {},
   "outputs": [
    {
     "data": {
      "text/plain": [
       "<super: __main__.A, None>"
      ]
     },
     "execution_count": 12,
     "metadata": {},
     "output_type": "execute_result"
    },
    {
     "data": {
      "text/plain": [
       "<super: __main__.B, None>"
      ]
     },
     "execution_count": 12,
     "metadata": {},
     "output_type": "execute_result"
    },
    {
     "data": {
      "text/plain": [
       "(__main__.B, __main__.A, object)"
      ]
     },
     "execution_count": 12,
     "metadata": {},
     "output_type": "execute_result"
    }
   ],
   "source": [
    "class A:\n",
    "    x = 3\n",
    "    \n",
    "class B(A):\n",
    "    x = 4\n",
    "    \n",
    "super(A)\n",
    "super(B)\n",
    "B.__mro__"
   ]
  },
  {
   "cell_type": "code",
   "execution_count": 4,
   "metadata": {},
   "outputs": [
    {
     "name": "stdout",
     "output_type": "stream",
     "text": [
      "const_in: 2.099609375\n",
      "1.85544785144151\n",
      "Network Properties:\n",
      "nodes, edges\t\t\t1500, 75101\n",
      "directed?\t\t\tFalse\n",
      "weighted?\t\t\tFalse\n",
      "isolated nodes\t\t\t0\n",
      "self-loops\t\t\t0\n",
      "density\t\t\t\t0.066801\n",
      "clustering coefficient\t\t0.595532\n",
      "min/max/avg degree\t\t23, 1499, 100.134667\n",
      "degree assortativity\t\t-0.267707\n",
      "number of connected components\t1\n",
      "size of largest component\t1500 (100.00 %)\n",
      "\n",
      "const_in: 25.45930170310434\n",
      "1.85544785144151\n",
      "Network Properties:\n",
      "nodes, edges\t\t\t1500, 75099\n",
      "directed?\t\t\tFalse\n",
      "weighted?\t\t\tFalse\n",
      "isolated nodes\t\t\t0\n",
      "self-loops\t\t\t0\n",
      "density\t\t\t\t0.066799\n",
      "clustering coefficient\t\t0.548746\n",
      "min/max/avg degree\t\t23, 1499, 100.132000\n",
      "degree assortativity\t\t-0.268286\n",
      "number of connected components\t1\n",
      "size of largest component\t1500 (100.00 %)\n",
      "\n",
      "const_in: 25.45930170310434\n",
      "1.85544785144151\n",
      "Network Properties:\n",
      "nodes, edges\t\t\t1500, 75012\n",
      "directed?\t\t\tFalse\n",
      "weighted?\t\t\tFalse\n",
      "isolated nodes\t\t\t0\n",
      "self-loops\t\t\t0\n",
      "density\t\t\t\t0.066722\n",
      "clustering coefficient\t\t0.545847\n",
      "min/max/avg degree\t\t24, 1499, 100.016000\n",
      "degree assortativity\t\t-0.267656\n",
      "number of connected components\t1\n",
      "size of largest component\t1500 (100.00 %)\n"
     ]
    }
   ],
   "source": [
    "g, edges, weights, pts_torus, const = generation.generate_GIRG_nk(n, d, tau, alpha, desiredAvgDegree=desiredAvgDegree, points_type=generation.PointsTorus)\n",
    "print(const)\n",
    "nk.overview(g)\n",
    "print()\n",
    "\n",
    "\n",
    "gmcd, edges, weights, pts_mcd, _ = generation.generate_GIRG_nk(n, d, tau, alpha, points_type=points.PointsMCD, weights=weights, const=const)\n",
    "print(_)\n",
    "nk.overview(gmcd)\n",
    "print()\n",
    "\n",
    "PointsMixed = points.get_points_simple_mixed_class([[0], [1], [2]])\n",
    "\n",
    "gmixed, edges, weights, pts_mixed, _ = generation.generate_GIRG_nk(n, d, tau, alpha, points_type=PointsMixed, weights=weights, const=const)\n",
    "print(_)\n",
    "nk.overview(gmixed)"
   ]
  },
  {
   "cell_type": "code",
   "execution_count": null,
   "metadata": {},
   "outputs": [],
   "source": []
  },
  {
   "cell_type": "code",
   "execution_count": 81,
   "metadata": {},
   "outputs": [
    {
     "name": "stdout",
     "output_type": "stream",
     "text": [
      "1.9967871811125821\n"
     ]
    }
   ],
   "source": [
    "print(const)"
   ]
  },
  {
   "cell_type": "code",
   "execution_count": 80,
   "metadata": {},
   "outputs": [
    {
     "data": {
      "text/plain": [
       "False"
      ]
     },
     "execution_count": 80,
     "metadata": {},
     "output_type": "execute_result"
    },
    {
     "data": {
      "text/plain": [
       "False"
      ]
     },
     "execution_count": 80,
     "metadata": {},
     "output_type": "execute_result"
    },
    {
     "data": {
      "text/plain": [
       "False"
      ]
     },
     "execution_count": 80,
     "metadata": {},
     "output_type": "execute_result"
    },
    {
     "data": {
      "text/plain": [
       "True"
      ]
     },
     "execution_count": 80,
     "metadata": {},
     "output_type": "execute_result"
    }
   ],
   "source": [
    "points_type = PointsMixed\n",
    "points_type is points.PointsMCD\n",
    "points_type is points.PointsTorus2\n",
    "points_type is points.Points\n",
    "points_type is PointsMixed\n"
   ]
  },
  {
   "cell_type": "code",
   "execution_count": 72,
   "metadata": {},
   "outputs": [
    {
     "data": {
      "text/plain": [
       "benji_girgs.points.get_points_simple_mixed_class.<locals>.PointsSimpleMixed"
      ]
     },
     "execution_count": 72,
     "metadata": {},
     "output_type": "execute_result"
    }
   ],
   "source": [
    "type(pts_mixed)"
   ]
  },
  {
   "cell_type": "code",
   "execution_count": 74,
   "metadata": {},
   "outputs": [
    {
     "data": {
      "text/plain": [
       "<super: benji_girgs.points.get_points_simple_mixed_class.<locals>.PointsSimpleMixed,\n",
       "        None>"
      ]
     },
     "execution_count": 74,
     "metadata": {},
     "output_type": "execute_result"
    }
   ],
   "source": [
    "super(PointsMixed)"
   ]
  },
  {
   "cell_type": "code",
   "execution_count": 45,
   "metadata": {},
   "outputs": [
    {
     "data": {
      "text/plain": [
       "PointsSimpleMixed([[0.75264804, 0.1352038 , 0.11783772],\n",
       "                   [0.6327861 , 0.26886542, 0.36455299],\n",
       "                   [0.13189501, 0.61360042, 0.91070511],\n",
       "                   ...,\n",
       "                   [0.5844465 , 0.62881741, 0.13351104],\n",
       "                   [0.40914267, 0.65697185, 0.83048334],\n",
       "                   [0.29107895, 0.53718195, 0.92848699]])"
      ]
     },
     "execution_count": 45,
     "metadata": {},
     "output_type": "execute_result"
    }
   ],
   "source": [
    "pts_mixed\n",
    "pts_mixed2 = points.PointsMCD(pts_mixed)"
   ]
  },
  {
   "cell_type": "code",
   "execution_count": 46,
   "metadata": {},
   "outputs": [
    {
     "data": {
      "text/plain": [
       "array([[0.    , 0.824 , 0.9277, ..., 0.4497, 0.9736, 0.912 ],\n",
       "       [0.824 , 0.    , 0.9897, ..., 0.641 , 0.9404, 0.966 ],\n",
       "       [0.9277, 0.9897, 0.    , ..., 0.4446, 0.618 , 0.4712],\n",
       "       ...,\n",
       "       [0.4497, 0.641 , 0.4446, ..., 0.    , 0.541 , 0.77  ],\n",
       "       [0.9736, 0.9404, 0.618 , ..., 0.541 , 0.    , 0.7837],\n",
       "       [0.912 , 0.966 , 0.4712, ..., 0.77  , 0.7837, 0.    ]],\n",
       "      dtype=float16)"
      ]
     },
     "execution_count": 46,
     "metadata": {},
     "output_type": "execute_result"
    }
   ],
   "source": [
    "pts_mixed.dists()"
   ]
  },
  {
   "cell_type": "code",
   "execution_count": 50,
   "metadata": {},
   "outputs": [
    {
     "data": {
      "text/plain": [
       "array([[0.    , 0.824 , 0.9277, ..., 0.4497, 0.9736, 0.912 ],\n",
       "       [0.824 , 0.    , 0.9897, ..., 0.6406, 0.9404, 0.966 ],\n",
       "       [0.9277, 0.9897, 0.    , ..., 0.4446, 0.618 , 0.4712],\n",
       "       ...,\n",
       "       [0.4497, 0.6406, 0.4446, ..., 0.    , 0.5405, 0.77  ],\n",
       "       [0.9736, 0.9404, 0.618 , ..., 0.5405, 0.    , 0.7837],\n",
       "       [0.912 , 0.966 , 0.4712, ..., 0.77  , 0.7837, 0.    ]],\n",
       "      dtype=float16)"
      ]
     },
     "execution_count": 50,
     "metadata": {},
     "output_type": "execute_result"
    }
   ],
   "source": [
    "pts_mixed2.dists()"
   ]
  },
  {
   "cell_type": "code",
   "execution_count": 48,
   "metadata": {},
   "outputs": [
    {
     "data": {
      "text/plain": [
       "array([[ True,  True,  True, ...,  True,  True,  True],\n",
       "       [ True,  True,  True, ..., False,  True,  True],\n",
       "       [ True,  True,  True, ...,  True,  True,  True],\n",
       "       ...,\n",
       "       [ True, False,  True, ...,  True, False,  True],\n",
       "       [ True,  True,  True, ..., False,  True,  True],\n",
       "       [ True,  True,  True, ...,  True,  True,  True]])"
      ]
     },
     "execution_count": 48,
     "metadata": {},
     "output_type": "execute_result"
    }
   ],
   "source": [
    "pts_mixed2.dists() == pts_mixed.dists()"
   ]
  },
  {
   "cell_type": "code",
   "execution_count": 51,
   "metadata": {},
   "outputs": [
    {
     "data": {
      "text/plain": [
       "PointsSimpleMixed(True)"
      ]
     },
     "execution_count": 51,
     "metadata": {},
     "output_type": "execute_result"
    }
   ],
   "source": [
    "np.all(pts_mixed == pts_mixed2)"
   ]
  },
  {
   "cell_type": "code",
   "execution_count": 53,
   "metadata": {},
   "outputs": [],
   "source": [
    "r1 = points.get_dists_mixed(pts_mixed, pts_mixed.my_groups)\n",
    "r2 = points.get_dists_mcd(pts_mixed)"
   ]
  },
  {
   "cell_type": "code",
   "execution_count": 56,
   "metadata": {},
   "outputs": [
    {
     "data": {
      "text/plain": [
       "True"
      ]
     },
     "execution_count": 56,
     "metadata": {},
     "output_type": "execute_result"
    }
   ],
   "source": [
    "np.all(r1==r2)"
   ]
  },
  {
   "cell_type": "code",
   "execution_count": 62,
   "metadata": {},
   "outputs": [],
   "source": [
    "prod = 1\n",
    "for group in pts_mixed.my_groups:\n",
    "    prod *= (1 - (2*r1)**len(group))\n",
    "out = 1 - prod"
   ]
  },
  {
   "cell_type": "code",
   "execution_count": 63,
   "metadata": {},
   "outputs": [
    {
     "data": {
      "text/plain": [
       "array([[0.    , 0.5596, 0.799 , ..., 0.0908, 0.923 , 0.7593],\n",
       "       [0.5596, 0.    , 0.97  , ..., 0.2632, 0.831 , 0.9004],\n",
       "       [0.799 , 0.97  , 0.    , ..., 0.0879, 0.2363, 0.1045],\n",
       "       ...,\n",
       "       [0.0908, 0.2632, 0.0879, ..., 0.    , 0.1582, 0.456 ],\n",
       "       [0.923 , 0.831 , 0.2363, ..., 0.1582, 0.    , 0.481 ],\n",
       "       [0.7593, 0.9004, 0.1045, ..., 0.456 , 0.481 , 0.    ]],\n",
       "      dtype=float16)"
      ]
     },
     "execution_count": 63,
     "metadata": {},
     "output_type": "execute_result"
    }
   ],
   "source": [
    "out"
   ]
  },
  {
   "cell_type": "code",
   "execution_count": 67,
   "metadata": {},
   "outputs": [
    {
     "data": {
      "text/plain": [
       "0.0004883"
      ]
     },
     "execution_count": 67,
     "metadata": {},
     "output_type": "execute_result"
    }
   ],
   "source": [
    "np.max(np.abs(1 - (1 - 2*r2)**d - out))"
   ]
  },
  {
   "cell_type": "code",
   "execution_count": 65,
   "metadata": {},
   "outputs": [
    {
     "data": {
      "text/plain": [
       "array([[0.     , 0.1196 , 0.207  , ..., 0.01569, 0.287  , 0.189  ],\n",
       "       [0.1196 , 0.     , 0.345  , ..., 0.04834, 0.2236 , 0.2683 ],\n",
       "       [0.207  , 0.345  , 0.     , ..., 0.01514, 0.04297, 0.01807],\n",
       "       ...,\n",
       "       [0.01569, 0.04834, 0.01514, ..., 0.     , 0.02783, 0.0918 ],\n",
       "       [0.287  , 0.2236 , 0.04297, ..., 0.02783, 0.     , 0.09814],\n",
       "       [0.189  , 0.2683 , 0.01807, ..., 0.0918 , 0.09814, 0.     ]],\n",
       "      dtype=float16)"
      ]
     },
     "execution_count": 65,
     "metadata": {},
     "output_type": "execute_result"
    }
   ],
   "source": []
  },
  {
   "cell_type": "code",
   "execution_count": 171,
   "metadata": {},
   "outputs": [
    {
     "name": "stderr",
     "output_type": "stream",
     "text": [
      "/scratch/tmp.16422045.bdayan/ipykernel_83698/2338277511.py:3: RuntimeWarning: divide by zero encountered in true_divide\n",
      "  p_uv = np.divide(outer, dists**d)\n"
     ]
    },
    {
     "data": {
      "text/plain": [
       "array([[          inf,  196.43523835,    4.15165675, ...,   14.27642653,\n",
       "           7.73747536,    3.71263045],\n",
       "       [ 196.43523835,           inf,   16.44582805, ...,   56.55097778,\n",
       "          23.57871262,   14.42412862],\n",
       "       [   4.15165675,   16.44582805,           inf, ..., 1553.31298284,\n",
       "          22.15591491,   52.62068183],\n",
       "       ...,\n",
       "       [  14.27642653,   56.55097778, 1553.31298284, ...,           inf,\n",
       "          70.27803278,  147.69489623],\n",
       "       [   7.73747536,   23.57871262,   22.15591491, ...,   70.27803278,\n",
       "                  inf,   34.67139463],\n",
       "       [   3.71263045,   14.42412862,   52.62068183, ...,  147.69489623,\n",
       "          34.67139463,           inf]])"
      ]
     },
     "execution_count": 171,
     "metadata": {},
     "output_type": "execute_result"
    }
   ],
   "source": [
    "dists = pts_torus2.dists()\n",
    "outer = np.outer(weights, weights)\n",
    "p_uv = np.divide(outer, dists**d)\n",
    "p_uv = np.power(p_uv, alpha)\n",
    "2**alpha * p_uv\n",
    "\n"
   ]
  },
  {
   "cell_type": "code",
   "execution_count": 172,
   "metadata": {},
   "outputs": [
    {
     "name": "stderr",
     "output_type": "stream",
     "text": [
      "/scratch/tmp.16422045.bdayan/ipykernel_83698/3538706781.py:2: RuntimeWarning: divide by zero encountered in true_divide\n",
      "  p_uv = np.divide(outer, temp.dists()**d)\n"
     ]
    },
    {
     "data": {
      "text/plain": [
       "array([[          inf,  196.43523835,    4.15165675, ...,   14.27642653,\n",
       "           7.73747536,    3.71263045],\n",
       "       [ 196.43523835,           inf,   16.44582805, ...,   56.55097778,\n",
       "          23.57871262,   14.42412862],\n",
       "       [   4.15165675,   16.44582805,           inf, ..., 1553.31298284,\n",
       "          22.15591491,   52.62068183],\n",
       "       ...,\n",
       "       [  14.27642653,   56.55097778, 1553.31298284, ...,           inf,\n",
       "          70.27803278,  147.69489623],\n",
       "       [   7.73747536,   23.57871262,   22.15591491, ...,   70.27803278,\n",
       "                  inf,   34.67139463],\n",
       "       [   3.71263045,   14.42412862,   52.62068183, ...,  147.69489623,\n",
       "          34.67139463,           inf]])"
      ]
     },
     "execution_count": 172,
     "metadata": {},
     "output_type": "execute_result"
    }
   ],
   "source": [
    "temp = points.PointsTorus(pts_torus2)\n",
    "p_uv = np.divide(outer, temp.dists()**d)\n",
    "p_uv = np.power(p_uv, alpha)\n",
    "p_uv"
   ]
  },
  {
   "cell_type": "code",
   "execution_count": 170,
   "metadata": {},
   "outputs": [
    {
     "data": {
      "text/plain": [
       "array([[ True,  True,  True, ...,  True,  True,  True],\n",
       "       [ True,  True,  True, ...,  True,  True,  True],\n",
       "       [ True,  True,  True, ...,  True,  True,  True],\n",
       "       ...,\n",
       "       [ True,  True,  True, ...,  True,  True,  True],\n",
       "       [ True,  True,  True, ...,  True,  True,  True],\n",
       "       [ True,  True,  True, ...,  True,  True,  True]])"
      ]
     },
     "execution_count": 170,
     "metadata": {},
     "output_type": "execute_result"
    }
   ],
   "source": [
    "temp.dists() == dists/2"
   ]
  },
  {
   "cell_type": "code",
   "execution_count": 169,
   "metadata": {},
   "outputs": [
    {
     "data": {
      "text/plain": [
       "array([[0.     , 0.04443, 0.4082 , ..., 0.3994 , 0.4138 , 0.46   ],\n",
       "       [0.04443, 0.     , 0.3633 , ..., 0.3555 , 0.4583 , 0.416  ],\n",
       "       [0.4082 , 0.3633 , 0.     , ..., 0.0083 , 0.1782 , 0.05225],\n",
       "       ...,\n",
       "       [0.3994 , 0.3555 , 0.0083 , ..., 0.     , 0.1865 , 0.06055],\n",
       "       [0.4138 , 0.4583 , 0.1782 , ..., 0.1865 , 0.     , 0.126  ],\n",
       "       [0.46   , 0.416  , 0.05225, ..., 0.06055, 0.126  , 0.     ]],\n",
       "      dtype=float16)"
      ]
     },
     "execution_count": 169,
     "metadata": {},
     "output_type": "execute_result"
    }
   ],
   "source": [
    "temp.dists()**1"
   ]
  },
  {
   "cell_type": "code",
   "execution_count": 157,
   "metadata": {},
   "outputs": [
    {
     "data": {
      "text/plain": [
       "array([[0.     , 0.08887, 0.8164 , ..., 0.799  , 0.8276 , 0.92   ],\n",
       "       [0.08887, 0.     , 0.7266 , ..., 0.711  , 0.9165 , 0.832  ],\n",
       "       [0.8164 , 0.7266 , 0.     , ..., 0.0166 , 0.3564 , 0.1045 ],\n",
       "       ...,\n",
       "       [0.799  , 0.711  , 0.0166 , ..., 0.     , 0.373  , 0.1211 ],\n",
       "       [0.8276 , 0.9165 , 0.3564 , ..., 0.373  , 0.     , 0.252  ],\n",
       "       [0.92   , 0.832  , 0.1045 , ..., 0.1211 , 0.252  , 0.     ]],\n",
       "      dtype=float16)"
      ]
     },
     "execution_count": 157,
     "metadata": {},
     "output_type": "execute_result"
    }
   ],
   "source": [
    "pts_torus2.dists()"
   ]
  },
  {
   "cell_type": "code",
   "execution_count": 160,
   "metadata": {},
   "outputs": [
    {
     "data": {
      "text/plain": [
       "PointsTorus([[ 3.90501887, 10.9442259 ,  4.04127405, ..., 11.06786171,\n",
       "               6.88282294,  4.14871081],\n",
       "             [12.64116731, 35.42820032, 13.08224702, ..., 35.82842909,\n",
       "              22.28079281, 13.43003689],\n",
       "             [ 1.44834565,  4.05914094,  1.4988818 , ...,  4.10499664,\n",
       "               2.55279347,  1.53872938],\n",
       "             ...,\n",
       "             [ 3.93139146, 11.01813785,  4.06856684, ..., 11.14260863,\n",
       "               6.92930616,  4.17672917],\n",
       "             [ 3.05698985,  8.56753541,  3.16365533, ...,  8.66432199,\n",
       "               5.38812245,  3.2477607 ],\n",
       "             [ 1.57667073,  4.41878547,  1.63168443, ...,  4.46870403,\n",
       "               2.77897388,  1.67506256]])"
      ]
     },
     "execution_count": 160,
     "metadata": {},
     "output_type": "execute_result"
    }
   ],
   "source": [
    "temp = points.PointsTorus(pts_torus2)\n",
    "np.divide(outer, temp**d)"
   ]
  },
  {
   "cell_type": "code",
   "execution_count": 123,
   "metadata": {},
   "outputs": [
    {
     "ename": "ValueError",
     "evalue": "too many values to unpack (expected 4)",
     "output_type": "error",
     "traceback": [
      "\u001b[0;31m---------------------------------------------------------------------------\u001b[0m",
      "\u001b[0;31mValueError\u001b[0m                                Traceback (most recent call last)",
      "Cell \u001b[0;32mIn[123], line 6\u001b[0m\n\u001b[1;32m      3\u001b[0m tau \u001b[38;5;241m=\u001b[39m \u001b[38;5;241m2.1\u001b[39m\n\u001b[1;32m      4\u001b[0m alpha\u001b[38;5;241m=\u001b[39m\u001b[38;5;241m1.2\u001b[39m\n\u001b[0;32m----> 6\u001b[0m g, edges, weights, pts_torus \u001b[38;5;241m=\u001b[39m generation\u001b[38;5;241m.\u001b[39mgenerate_GIRG_nk(n, d, tau, alpha, points_type\u001b[38;5;241m=\u001b[39mgeneration\u001b[38;5;241m.\u001b[39mPointsTorus)\n\u001b[1;32m      7\u001b[0m nk\u001b[38;5;241m.\u001b[39moverview(g)\n\u001b[1;32m      8\u001b[0m \u001b[38;5;28mprint\u001b[39m()\n",
      "\u001b[0;31mValueError\u001b[0m: too many values to unpack (expected 4)"
     ]
    }
   ],
   "source": [
    "n = 3000\n",
    "d = 1\n",
    "tau = 2.1\n",
    "alpha=1.2\n",
    "\n",
    "g, edges, weights, pts_torus = generation.generate_GIRG_nk(n, d, tau, alpha, points_type=generation.PointsTorus)\n",
    "nk.overview(g)\n",
    "print()\n",
    "\n",
    "gmcd, _, _, pts_mcd = generation.generate_GIRG_nk(n, d, tau, alpha, points_type=generation.PointsMCD)\n",
    "nk.overview(gmcd)"
   ]
  },
  {
   "cell_type": "code",
   "execution_count": null,
   "metadata": {},
   "outputs": [],
   "source": []
  },
  {
   "cell_type": "code",
   "execution_count": null,
   "metadata": {},
   "outputs": [],
   "source": []
  },
  {
   "cell_type": "code",
   "execution_count": 3,
   "metadata": {},
   "outputs": [
    {
     "name": "stdout",
     "output_type": "stream",
     "text": [
      "Network Properties:\n",
      "nodes, edges\t\t\t2000, 70222\n",
      "directed?\t\t\tFalse\n",
      "weighted?\t\t\tFalse\n",
      "isolated nodes\t\t\t0\n",
      "self-loops\t\t\t0\n",
      "density\t\t\t\t0.035129\n",
      "clustering coefficient\t\t0.598088\n",
      "min/max/avg degree\t\t10, 1871, 70.222000\n",
      "degree assortativity\t\t-0.225294\n",
      "number of connected components\t1\n",
      "size of largest component\t2000 (100.00 %)\n"
     ]
    }
   ],
   "source": [
    "gnk, edges, weights, pts, const = generation.cgirg_gen(n, d, tau, alpha, const=1.0)\n",
    "nk.overview(gnk)"
   ]
  },
  {
   "cell_type": "code",
   "execution_count": 27,
   "metadata": {},
   "outputs": [
    {
     "name": "stdout",
     "output_type": "stream",
     "text": [
      "CPU times: user 3.1 s, sys: 553 ms, total: 3.65 s\n",
      "Wall time: 3.66 s\n"
     ]
    }
   ],
   "source": [
    "%time g, edges, weights, pts_torus = generation.generate_GIRG_nk(n, d, tau, alpha, points_type=generation.PointsTorus)"
   ]
  },
  {
   "cell_type": "code",
   "execution_count": 28,
   "metadata": {},
   "outputs": [
    {
     "name": "stdout",
     "output_type": "stream",
     "text": [
      "CPU times: user 1.57 s, sys: 13.1 ms, total: 1.59 s\n",
      "Wall time: 1.58 s\n"
     ]
    }
   ],
   "source": [
    "%time gnk, edges, weights, pts, const = generation.cgirg_gen(n, d, tau, alpha, const=1.0)"
   ]
  },
  {
   "cell_type": "code",
   "execution_count": null,
   "metadata": {},
   "outputs": [],
   "source": []
  },
  {
   "cell_type": "code",
   "execution_count": null,
   "metadata": {},
   "outputs": [],
   "source": []
  },
  {
   "cell_type": "code",
   "execution_count": null,
   "metadata": {},
   "outputs": [],
   "source": []
  },
  {
   "cell_type": "code",
   "execution_count": null,
   "metadata": {},
   "outputs": [],
   "source": []
  },
  {
   "cell_type": "code",
   "execution_count": null,
   "metadata": {},
   "outputs": [],
   "source": []
  },
  {
   "cell_type": "code",
   "execution_count": 12,
   "metadata": {},
   "outputs": [
    {
     "name": "stdout",
     "output_type": "stream",
     "text": [
      "Network Properties:\n",
      "nodes, edges\t\t\t5000, 853351\n",
      "directed?\t\t\tFalse\n",
      "weighted?\t\t\tFalse\n",
      "isolated nodes\t\t\t0\n",
      "self-loops\t\t\t0\n",
      "density\t\t\t\t0.068282\n",
      "clustering coefficient\t\t0.519725\n",
      "min/max/avg degree\t\t89, 4999, 341.340400\n",
      "degree assortativity\t\t-0.250697\n",
      "number of connected components\t1\n",
      "size of largest component\t5000 (100.00 %)\n"
     ]
    }
   ],
   "source": [
    "nk.overview(g)"
   ]
  },
  {
   "cell_type": "code",
   "execution_count": 13,
   "metadata": {},
   "outputs": [
    {
     "name": "stdout",
     "output_type": "stream",
     "text": [
      "Network Properties:\n",
      "nodes, edges\t\t\t5000, 930054\n",
      "directed?\t\t\tFalse\n",
      "weighted?\t\t\tFalse\n",
      "isolated nodes\t\t\t0\n",
      "self-loops\t\t\t0\n",
      "density\t\t\t\t0.074419\n",
      "clustering coefficient\t\t0.523071\n",
      "min/max/avg degree\t\t94, 4999, 372.021600\n",
      "degree assortativity\t\t-0.254009\n",
      "number of connected components\t1\n",
      "size of largest component\t5000 (100.00 %)\n"
     ]
    }
   ],
   "source": [
    "nk.overview(gnk)"
   ]
  },
  {
   "cell_type": "code",
   "execution_count": null,
   "metadata": {},
   "outputs": [],
   "source": []
  },
  {
   "cell_type": "code",
   "execution_count": null,
   "metadata": {},
   "outputs": [],
   "source": []
  },
  {
   "cell_type": "code",
   "execution_count": null,
   "metadata": {},
   "outputs": [],
   "source": []
  },
  {
   "cell_type": "code",
   "execution_count": 47,
   "metadata": {},
   "outputs": [
    {
     "data": {
      "text/plain": [
       "4"
      ]
     },
     "execution_count": 47,
     "metadata": {},
     "output_type": "execute_result"
    },
    {
     "data": {
      "text/plain": [
       "4"
      ]
     },
     "execution_count": 47,
     "metadata": {},
     "output_type": "execute_result"
    },
    {
     "data": {
      "text/plain": [
       "4"
      ]
     },
     "execution_count": 47,
     "metadata": {},
     "output_type": "execute_result"
    },
    {
     "data": {
      "text/plain": [
       "[(0, 1), (0, 4), (1, 3)]"
      ]
     },
     "execution_count": 47,
     "metadata": {},
     "output_type": "execute_result"
    },
    {
     "data": {
      "text/plain": [
       "5"
      ]
     },
     "execution_count": 47,
     "metadata": {},
     "output_type": "execute_result"
    },
    {
     "data": {
      "text/plain": [
       "[0, 1, 2, 3, 4]"
      ]
     },
     "execution_count": 47,
     "metadata": {},
     "output_type": "execute_result"
    }
   ],
   "source": [
    "with open('temp.txt', 'w') as file:\n",
    "    file.write('0 1\\n')\n",
    "    file.write('0 4\\n')\n",
    "    file.write('1 3\\n')\n",
    "\n",
    "gtemp = nk.readGraph(\"temp.txt\", nk.Format.EdgeListSpaceZero)\n",
    "list(gtemp.iterEdges())\n",
    "gtemp.numberOfNodes()\n",
    "list(gtemp.iterNodes())"
   ]
  },
  {
   "cell_type": "code",
   "execution_count": 35,
   "metadata": {},
   "outputs": [
    {
     "data": {
      "text/plain": [
       "False"
      ]
     },
     "execution_count": 35,
     "metadata": {},
     "output_type": "execute_result"
    }
   ],
   "source": [
    "g.hasEdge(0, 370)"
   ]
  },
  {
   "cell_type": "code",
   "execution_count": 36,
   "metadata": {},
   "outputs": [
    {
     "data": {
      "text/plain": [
       "1000"
      ]
     },
     "execution_count": 36,
     "metadata": {},
     "output_type": "execute_result"
    }
   ],
   "source": [
    "g.numberOfNodes()"
   ]
  },
  {
   "cell_type": "code",
   "execution_count": 38,
   "metadata": {},
   "outputs": [
    {
     "data": {
      "text/plain": [
       "1002"
      ]
     },
     "execution_count": 38,
     "metadata": {},
     "output_type": "execute_result"
    }
   ],
   "source": [
    "g.addNodes(3)"
   ]
  },
  {
   "cell_type": "code",
   "execution_count": 39,
   "metadata": {},
   "outputs": [
    {
     "data": {
      "text/plain": [
       "1003"
      ]
     },
     "execution_count": 39,
     "metadata": {},
     "output_type": "execute_result"
    }
   ],
   "source": [
    "g.numberOfNodes()"
   ]
  },
  {
   "cell_type": "code",
   "execution_count": 11,
   "metadata": {},
   "outputs": [],
   "source": [
    "foo = generation.get_points_simple_mixed_class([[0], [1,2]])"
   ]
  },
  {
   "cell_type": "code",
   "execution_count": 25,
   "metadata": {},
   "outputs": [
    {
     "data": {
      "text/plain": [
       "PointsSimpleMixed([[1.22010167, 1.35753903, 0.07077548],\n",
       "                   [0.63908041, 0.6286227 , 1.69046924],\n",
       "                   [0.80439659, 0.58043568, 1.8179019 ],\n",
       "                   [1.2527601 , 0.63847198, 1.40840882],\n",
       "                   [0.82508387, 0.8233363 , 1.64939036],\n",
       "                   [0.67112787, 1.05623239, 0.56008547],\n",
       "                   [0.95013865, 1.6348424 , 0.48463203],\n",
       "                   [0.757315  , 0.3295371 , 0.81775366]])"
      ]
     },
     "execution_count": 25,
     "metadata": {},
     "output_type": "execute_result"
    }
   ],
   "source": [
    "bar = np.random.uniform(0, 2, size=(8, 3))\n",
    "bar2 = foo(bar)\n",
    "bar2"
   ]
  },
  {
   "cell_type": "code",
   "execution_count": 26,
   "metadata": {},
   "outputs": [
    {
     "data": {
      "text/plain": [
       "array([[0.     , 0.5806 , 0.4155 , 0.0332 , 0.3945 , 0.4893 , 0.2695 ,\n",
       "        0.4624 ],\n",
       "       [0.5806 , 0.     , 0.1279 , 0.2822 , 0.186  , 0.03174, 0.311  ,\n",
       "        0.11816],\n",
       "       [0.4155 , 0.1279 , 0.     , 0.4102 , 0.021  , 0.1333 , 0.146  ,\n",
       "        0.04688],\n",
       "       [0.0332 , 0.2822 , 0.4102 , 0.     , 0.2412 , 0.582  , 0.3027 ,\n",
       "        0.4956 ],\n",
       "       [0.3945 , 0.186  , 0.021  , 0.2412 , 0.     , 0.1543 , 0.125  ,\n",
       "        0.0679 ],\n",
       "       [0.4893 , 0.03174, 0.1333 , 0.582  , 0.1543 , 0.     , 0.2793 ,\n",
       "        0.0864 ],\n",
       "       [0.2695 , 0.311  , 0.146  , 0.3027 , 0.125  , 0.2793 , 0.     ,\n",
       "        0.1929 ],\n",
       "       [0.4624 , 0.11816, 0.04688, 0.4956 , 0.0679 , 0.0864 , 0.1929 ,\n",
       "        0.     ]], dtype=float16)"
      ]
     },
     "execution_count": 26,
     "metadata": {},
     "output_type": "execute_result"
    }
   ],
   "source": [
    "bar2.dists()"
   ]
  },
  {
   "cell_type": "code",
   "execution_count": 28,
   "metadata": {},
   "outputs": [
    {
     "data": {
      "text/plain": [
       "0.5489999999999999"
      ]
     },
     "execution_count": 28,
     "metadata": {},
     "output_type": "execute_result"
    }
   ],
   "source": [
    "1.2201 - 0.6711"
   ]
  },
  {
   "cell_type": "code",
   "execution_count": 29,
   "metadata": {},
   "outputs": [
    {
     "data": {
      "text/plain": [
       "0.48930000000000007"
      ]
     },
     "execution_count": 29,
     "metadata": {},
     "output_type": "execute_result"
    }
   ],
   "source": [
    "0.56 - 0.0707"
   ]
  },
  {
   "cell_type": "code",
   "execution_count": 15,
   "metadata": {},
   "outputs": [
    {
     "data": {
      "text/plain": [
       "array([[ 0.  , -1.74],\n",
       "       [-1.74,  0.  ]], dtype=float16)"
      ]
     },
     "execution_count": 15,
     "metadata": {},
     "output_type": "execute_result"
    }
   ],
   "source": [
    "generation.get_dists_mixed(np.arange(6).reshape(2, 3), [[0], [1,2]])"
   ]
  },
  {
   "cell_type": "code",
   "execution_count": 16,
   "metadata": {},
   "outputs": [
    {
     "data": {
      "text/plain": [
       "array([[0, 1, 2],\n",
       "       [3, 4, 5]])"
      ]
     },
     "execution_count": 16,
     "metadata": {},
     "output_type": "execute_result"
    }
   ],
   "source": [
    "np.arange(6).reshape(2, 3)"
   ]
  },
  {
   "cell_type": "code",
   "execution_count": 12,
   "metadata": {},
   "outputs": [],
   "source": [
    "n = 1000\n",
    "d = 3\n",
    "tau = 2.1\n",
    "alpha=1.5\n",
    "\n",
    "g, edges, weights, pts_torus = generation.generate_GIRG_nk(n, d, tau, alpha, points_type=generation.PointsTorus)\n",
    "g, edges, weights, pts_mcd = generation.generate_GIRG_nk(n, d, tau, alpha, points_type=generation.PointsMCD)"
   ]
  },
  {
   "cell_type": "code",
   "execution_count": 84,
   "metadata": {},
   "outputs": [
    {
     "name": "stdout",
     "output_type": "stream",
     "text": [
      "CPU times: user 428 ms, sys: 2.01 ms, total: 430 ms\n",
      "Wall time: 434 ms\n",
      "Network Properties:\n",
      "nodes, edges\t\t\t1000, 208380\n",
      "directed?\t\t\tFalse\n",
      "weighted?\t\t\tFalse\n",
      "isolated nodes\t\t\t0\n",
      "self-loops\t\t\t0\n",
      "density\t\t\t\t0.417177\n",
      "clustering coefficient\t\t0.613198\n",
      "min/max/avg degree\t\t261, 999, 416.760000\n",
      "degree assortativity\t\t-0.094802\n",
      "number of connected components\t1\n",
      "size of largest component\t1000 (100.00 %)\n"
     ]
    }
   ],
   "source": [
    "%time g, edges, weights, pts = generation.generate_GIRG_nk(n, 2, tau, alpha,\\\n",
    "    points_type=generation.PointsMCD)\n",
    "nk.overview(g)"
   ]
  },
  {
   "cell_type": "code",
   "execution_count": 85,
   "metadata": {},
   "outputs": [
    {
     "name": "stdout",
     "output_type": "stream",
     "text": [
      "CPU times: user 205 ms, sys: 1.01 ms, total: 206 ms\n",
      "Wall time: 207 ms\n",
      "Network Properties:\n",
      "nodes, edges\t\t\t1000, 67576\n",
      "directed?\t\t\tFalse\n",
      "weighted?\t\t\tFalse\n",
      "isolated nodes\t\t\t0\n",
      "self-loops\t\t\t0\n",
      "density\t\t\t\t0.135287\n",
      "clustering coefficient\t\t0.668137\n",
      "min/max/avg degree\t\t38, 999, 135.152000\n",
      "degree assortativity\t\t-0.283884\n",
      "number of connected components\t1\n",
      "size of largest component\t1000 (100.00 %)\n"
     ]
    }
   ],
   "source": [
    "%time g, edges, weights, pts = generation.generate_GIRG_nk(n, 2, tau, alpha,\\\n",
    "    points_type=generation.PointsTorus)\n",
    "nk.overview(g)"
   ]
  },
  {
   "cell_type": "code",
   "execution_count": null,
   "metadata": {},
   "outputs": [],
   "source": []
  },
  {
   "cell_type": "code",
   "execution_count": null,
   "metadata": {},
   "outputs": [],
   "source": []
  },
  {
   "cell_type": "code",
   "execution_count": 53,
   "metadata": {},
   "outputs": [
    {
     "data": {
      "text/plain": [
       "(array([  0,   0,   0, ..., 996, 997, 998]),\n",
       " array([  1,   2,   3, ..., 998, 999, 999]))"
      ]
     },
     "execution_count": 53,
     "metadata": {},
     "output_type": "execute_result"
    }
   ],
   "source": [
    "np.nonzero(edges.astype(np.bool))"
   ]
  },
  {
   "cell_type": "code",
   "execution_count": 59,
   "metadata": {},
   "outputs": [
    {
     "name": "stdout",
     "output_type": "stream",
     "text": [
      "CPU times: user 817 ms, sys: 23 ms, total: 840 ms\n",
      "Wall time: 846 ms\n",
      "Network Properties:\n",
      "nodes, edges\t\t\t1000, 401694\n",
      "directed?\t\t\tFalse\n",
      "weighted?\t\t\tFalse\n",
      "isolated nodes\t\t\t0\n",
      "self-loops\t\t\t0\n",
      "density\t\t\t\t0.804192\n",
      "clustering coefficient\t\t0.829399\n",
      "min/max/avg degree\t\t672, 999, 803.388000\n",
      "degree assortativity\t\t-0.041244\n",
      "number of connected components\t1\n",
      "size of largest component\t1000 (100.00 %)\n"
     ]
    }
   ],
   "source": [
    "%time g, edges, weights, pts = generation.generate_GIRG_nk(n, d, tau, alpha,\\\n",
    "    const=1.0, points_type=generation.PointsMCD)\n",
    "nk.overview(g)"
   ]
  },
  {
   "cell_type": "code",
   "execution_count": 66,
   "metadata": {},
   "outputs": [
    {
     "data": {
      "text/plain": [
       "array([  7,   8,   9,  10,  11,  12,  13,  14,  15,  16,  17,  20,  21,\n",
       "        22,  23,  24,  25,  26,  27,  28,  29,  30,  31,  32,  33,  34,\n",
       "        35,  36,  37,  39,  40,  41,  42,  44,  45,  46,  48,  49,  51,\n",
       "        52,  54,  55,  56,  59,  61,  64,  65,  67,  68,  69,  70,  71,\n",
       "        72,  73,  74,  75,  76,  77,  78,  79,  80,  81,  82,  83,  84,\n",
       "        85,  86,  87,  88,  89,  90,  91,  92,  93,  94,  96,  97,  98,\n",
       "        99, 100, 101, 103, 104, 105, 106, 107, 108, 109, 110, 111, 112,\n",
       "       113, 114, 115, 116, 117, 118, 120, 121, 122, 123, 124, 125, 126,\n",
       "       127, 128, 129, 130, 131, 132, 133, 134, 135, 136, 137, 138, 139,\n",
       "       140, 141, 142, 143, 144, 145, 146, 147, 148, 149, 150, 151, 152,\n",
       "       153, 154, 155, 156, 157, 158, 159, 160, 161, 164, 165, 166, 167,\n",
       "       168, 171, 172, 174, 175, 176, 177, 178, 179, 181, 182, 183, 184,\n",
       "       185, 186, 187, 188, 189, 190, 192, 193, 195, 196, 197, 198, 200,\n",
       "       201, 202, 203, 204, 206, 207, 209, 210, 211, 212, 213, 214, 215,\n",
       "       216, 217, 218, 219, 220, 221, 222, 223, 224, 226, 227, 229, 230,\n",
       "       231, 232, 233, 234, 235, 236, 237, 238, 239, 240, 241, 242, 243,\n",
       "       244, 245, 246, 247, 248, 249, 250, 251, 252, 253, 254, 255, 256,\n",
       "       257, 258, 260, 261, 262, 263, 264, 265, 266, 267, 268, 269, 270,\n",
       "       272, 273, 275, 276, 277, 278, 279, 283, 285, 286, 287, 288, 289,\n",
       "       291, 292, 293, 294, 295, 296, 298, 299, 300, 301, 302, 303, 304,\n",
       "       305, 306, 307, 308, 310, 311, 312, 313, 314, 315, 316, 317, 318,\n",
       "       319, 324, 325, 326, 327, 328, 329, 330, 331, 332, 333, 334, 335,\n",
       "       336, 337, 338, 339, 340, 341, 342, 343, 345, 346, 347, 348, 349,\n",
       "       350, 351, 352, 353, 354, 355, 356, 357, 359, 360, 362, 363, 364,\n",
       "       365, 367, 368, 369, 370, 371, 372, 373, 374, 375, 376, 377, 378,\n",
       "       379, 380, 381, 382, 384, 385, 386, 387, 388, 389, 390, 391, 392,\n",
       "       393, 394, 395, 396, 397, 398, 399, 401, 402, 403, 404, 406, 407,\n",
       "       408, 409, 411, 412, 413, 414, 415, 416, 417, 418, 419, 420, 421,\n",
       "       422, 423, 424, 425, 427, 428, 429, 430, 431, 432, 433, 434, 435,\n",
       "       436, 437, 438, 439, 440, 441, 443, 446, 447, 448, 449, 450, 451,\n",
       "       452, 453, 454, 455, 457, 458, 459, 460, 462, 463, 464, 465, 466,\n",
       "       467, 468, 469, 470, 471, 472, 473, 474, 475, 477, 478, 479, 480,\n",
       "       481, 482, 483, 484, 485, 486, 487, 488, 489, 490, 491, 492, 493,\n",
       "       494, 495, 497, 498, 499, 500, 501, 502, 503, 504, 505, 506, 507,\n",
       "       508, 509, 510, 511, 512, 513, 514, 516, 517, 518, 519, 520, 521,\n",
       "       522, 523, 524, 525, 526, 527, 528, 529, 530, 531, 532, 533, 534,\n",
       "       535, 536, 537, 538, 539, 540, 541, 542, 543, 544, 545, 546, 547,\n",
       "       548, 549, 550, 551, 552, 553, 554, 555, 556, 557, 558, 559, 561,\n",
       "       562, 563, 564, 565, 566, 567, 568, 569, 570, 571, 572, 573, 574,\n",
       "       575, 576, 577, 578, 579, 581, 582, 583, 584, 585, 586, 587, 588,\n",
       "       590, 591, 593, 595, 596, 597, 598, 599, 600, 601, 602, 605, 607,\n",
       "       609, 610, 611, 612, 613, 615, 616, 617, 618, 619, 620, 621, 622,\n",
       "       623, 624, 625, 626, 627, 628, 629, 630, 631, 632, 633, 634, 635,\n",
       "       636, 637, 638, 639, 640, 641, 642, 643, 644, 645, 646, 648, 649,\n",
       "       650, 651, 652, 653, 654, 656, 658, 660, 661, 663, 665, 666, 667,\n",
       "       669, 670, 671, 672, 673, 674, 675, 676, 677, 678, 679, 680, 681,\n",
       "       683, 684, 685, 686, 687, 688, 689, 690, 691, 693, 694, 695, 697,\n",
       "       698, 699, 700, 702, 703, 704, 705, 708, 709, 710, 711, 712, 713,\n",
       "       714, 715, 716, 717, 718, 720, 721, 722, 723, 725, 726, 727, 728,\n",
       "       729, 730, 731, 732, 734, 735, 736, 737, 738, 740, 742, 743, 744,\n",
       "       745, 746, 747, 748, 749, 750, 751, 752, 753, 754, 755, 756, 757,\n",
       "       758, 759, 760, 762, 763, 764, 765, 767, 768, 769, 770, 771, 772,\n",
       "       773, 774, 775, 776, 777, 778, 779, 780, 781, 782, 783, 784, 785,\n",
       "       787, 788, 789, 790, 791, 793, 794, 795, 796, 797, 798, 799, 800,\n",
       "       801, 802, 803, 805, 806, 809, 810, 811, 812, 813, 814, 815, 816,\n",
       "       817, 818, 819, 820, 821, 822, 823, 824, 825, 826, 827, 828, 829,\n",
       "       830, 831, 832, 833, 834, 835, 836, 837, 838, 839, 840, 841, 842,\n",
       "       843, 845, 846, 847, 848, 849, 850, 852, 853, 854, 855, 856, 857,\n",
       "       858, 859, 860, 861, 862, 863, 866, 867, 868, 869, 870, 871, 872,\n",
       "       873, 874, 875, 876, 877, 878, 879, 881, 882, 883, 885, 886, 887,\n",
       "       889, 890, 891, 892, 893, 894, 895, 896, 897, 898, 899, 900, 902,\n",
       "       903, 904, 905, 906, 908, 909, 910, 911, 913, 914, 915, 916, 918,\n",
       "       919, 920, 921, 922, 924, 925, 927, 928, 929, 930, 931, 932, 935,\n",
       "       937, 938, 939, 940, 941, 942, 943, 944, 945, 946, 947, 948, 949,\n",
       "       950, 951, 952, 953, 954, 955, 956, 957, 958, 959, 960, 961, 962,\n",
       "       963, 964, 965, 966, 967, 968, 969, 970, 972, 973, 974, 975, 976,\n",
       "       977, 978, 979, 980, 981, 982, 983, 984, 985, 986, 987, 988, 990,\n",
       "       991, 993, 994, 995, 997, 998, 999])"
      ]
     },
     "execution_count": 66,
     "metadata": {},
     "output_type": "execute_result"
    }
   ],
   "source": [
    "np.nonzero(edges[6])[0]"
   ]
  },
  {
   "cell_type": "code",
   "execution_count": 41,
   "metadata": {},
   "outputs": [
    {
     "name": "stdout",
     "output_type": "stream",
     "text": [
      "CPU times: user 835 ms, sys: 31 ms, total: 866 ms\n",
      "Wall time: 871 ms\n",
      "Network Properties:\n",
      "nodes, edges\t\t\t1000, 400314\n",
      "directed?\t\t\tFalse\n",
      "weighted?\t\t\tFalse\n",
      "isolated nodes\t\t\t0\n",
      "self-loops\t\t\t0\n",
      "density\t\t\t\t0.801429\n",
      "clustering coefficient\t\t0.826463\n",
      "min/max/avg degree\t\t667, 999, 800.628000\n",
      "degree assortativity\t\t-0.039739\n",
      "number of connected components\t1\n",
      "size of largest component\t1000 (100.00 %)\n"
     ]
    }
   ],
   "source": [
    "%time g, edges, weights, pts = generation.generate_GIRG_nk(n, d, tau, alpha,\\\n",
    "    const=1.0, points_type=generation.PointsMCD)\n",
    "nk.overview(g)"
   ]
  },
  {
   "cell_type": "code",
   "execution_count": 38,
   "metadata": {},
   "outputs": [
    {
     "name": "stdout",
     "output_type": "stream",
     "text": [
      "CPU times: user 354 ms, sys: 12 ms, total: 366 ms\n",
      "Wall time: 368 ms\n",
      "Network Properties:\n",
      "nodes, edges\t\t\t1000, 100160\n",
      "directed?\t\t\tFalse\n",
      "weighted?\t\t\tFalse\n",
      "isolated nodes\t\t\t0\n",
      "self-loops\t\t\t0\n",
      "density\t\t\t\t0.200521\n",
      "clustering coefficient\t\t0.630926\n",
      "min/max/avg degree\t\t71, 999, 200.320000\n",
      "degree assortativity\t\t-0.272148\n",
      "number of connected components\t1\n",
      "size of largest component\t1000 (100.00 %)\n"
     ]
    }
   ],
   "source": [
    "%time g, edges, weights, pts = generation.generate_GIRG_nk(n, d, tau, alpha,\\\n",
    "    points_type=generation.PointsTorus)\n",
    "nk.overview(g)"
   ]
  },
  {
   "cell_type": "code",
   "execution_count": null,
   "metadata": {},
   "outputs": [],
   "source": []
  },
  {
   "cell_type": "code",
   "execution_count": null,
   "metadata": {},
   "outputs": [],
   "source": []
  },
  {
   "cell_type": "code",
   "execution_count": null,
   "metadata": {},
   "outputs": [],
   "source": []
  },
  {
   "cell_type": "code",
   "execution_count": null,
   "metadata": {},
   "outputs": [],
   "source": []
  },
  {
   "cell_type": "code",
   "execution_count": null,
   "metadata": {},
   "outputs": [],
   "source": []
  },
  {
   "cell_type": "code",
   "execution_count": 16,
   "metadata": {},
   "outputs": [
    {
     "name": "stdout",
     "output_type": "stream",
     "text": [
      "CPU times: user 191 ms, sys: 2.95 ms, total: 194 ms\n",
      "Wall time: 192 ms\n"
     ]
    }
   ],
   "source": [
    "%time edges_torus = generation.generateEdges(weights, pts_torus, alpha)"
   ]
  },
  {
   "cell_type": "code",
   "execution_count": 15,
   "metadata": {},
   "outputs": [
    {
     "name": "stdout",
     "output_type": "stream",
     "text": [
      "CPU times: user 198 ms, sys: 4 ms, total: 202 ms\n",
      "Wall time: 201 ms\n"
     ]
    }
   ],
   "source": [
    "%time edges_mcd = generation.generateEdges(weights, pts_mcd, alpha)"
   ]
  },
  {
   "cell_type": "code",
   "execution_count": 18,
   "metadata": {},
   "outputs": [
    {
     "data": {
      "text/plain": [
       "397495"
      ]
     },
     "execution_count": 18,
     "metadata": {},
     "output_type": "execute_result"
    }
   ],
   "source": [
    "edges_mcd.shape\n",
    "edges_mcd.sum()"
   ]
  },
  {
   "cell_type": "code",
   "execution_count": 20,
   "metadata": {},
   "outputs": [
    {
     "name": "stdout",
     "output_type": "stream",
     "text": [
      "CPU times: user 1.38 s, sys: 42.9 ms, total: 1.42 s\n",
      "Wall time: 1.42 s\n"
     ]
    }
   ],
   "source": [
    "%time g1 = nk.nxadapter.nx2nk(nx.from_numpy_array(edges_mcd))"
   ]
  },
  {
   "cell_type": "code",
   "execution_count": 21,
   "metadata": {},
   "outputs": [
    {
     "name": "stdout",
     "output_type": "stream",
     "text": [
      "CPU times: user 327 ms, sys: 14.1 ms, total: 341 ms\n",
      "Wall time: 339 ms\n"
     ]
    }
   ],
   "source": [
    "%time g2 = nk.nxadapter.nx2nk(nx.from_numpy_array(edges_torus))"
   ]
  },
  {
   "cell_type": "code",
   "execution_count": 25,
   "metadata": {},
   "outputs": [
    {
     "name": "stdout",
     "output_type": "stream",
     "text": [
      "CPU times: user 1.61 s, sys: 20.9 ms, total: 1.63 s\n",
      "Wall time: 1.63 s\n"
     ]
    }
   ],
   "source": [
    "%time edge_list = generation.upper_triangular_to_edgelist(edges_mcd)"
   ]
  },
  {
   "cell_type": "code",
   "execution_count": 26,
   "metadata": {},
   "outputs": [
    {
     "name": "stdout",
     "output_type": "stream",
     "text": [
      "CPU times: user 399 ms, sys: 18.9 ms, total: 418 ms\n",
      "Wall time: 430 ms\n"
     ]
    }
   ],
   "source": [
    "%time edge_list = generation.upper_triangular_to_edgelist_faster(edges_mcd)"
   ]
  },
  {
   "cell_type": "code",
   "execution_count": 27,
   "metadata": {},
   "outputs": [
    {
     "name": "stdout",
     "output_type": "stream",
     "text": [
      "CPU times: user 82 ms, sys: 14 ms, total: 96 ms\n",
      "Wall time: 94.2 ms\n"
     ]
    }
   ],
   "source": [
    "%time edge_list = generation.upper_triangular_to_edgelist_fastest(edges_mcd)"
   ]
  },
  {
   "cell_type": "code",
   "execution_count": null,
   "metadata": {},
   "outputs": [],
   "source": []
  },
  {
   "cell_type": "code",
   "execution_count": 19,
   "metadata": {},
   "outputs": [],
   "source": [
    "import networkx as nx"
   ]
  },
  {
   "cell_type": "code",
   "execution_count": 11,
   "metadata": {},
   "outputs": [
    {
     "name": "stdout",
     "output_type": "stream",
     "text": [
      "CPU times: user 218 µs, sys: 1.01 ms, total: 1.23 ms\n",
      "Wall time: 854 µs\n"
     ]
    },
    {
     "data": {
      "text/plain": [
       "array([[3.92693435, 4.58836006, 3.25621345],\n",
       "       [2.72533896, 9.67319996, 6.79932768],\n",
       "       [0.57288787, 7.58438266, 1.09876933],\n",
       "       ...,\n",
       "       [5.91810748, 7.96035845, 1.06463879],\n",
       "       [5.64371023, 6.21507555, 6.02381359],\n",
       "       [0.20929571, 3.19504931, 3.82947699]])"
      ]
     },
     "execution_count": 11,
     "metadata": {},
     "output_type": "execute_result"
    }
   ],
   "source": [
    "%time generation.generatePositions(n, d)"
   ]
  },
  {
   "cell_type": "code",
   "execution_count": null,
   "metadata": {},
   "outputs": [],
   "source": []
  },
  {
   "cell_type": "code",
   "execution_count": 38,
   "metadata": {},
   "outputs": [],
   "source": [
    "g, edges, weights, pts = generation.generate_GIRG_nk(n, d, tau, alpha, points_type=generation.PointsMCD)"
   ]
  },
  {
   "cell_type": "code",
   "execution_count": 39,
   "metadata": {},
   "outputs": [
    {
     "name": "stdout",
     "output_type": "stream",
     "text": [
      "Network Properties:\n",
      "nodes, edges\t\t\t1000, 397175\n",
      "directed?\t\t\tFalse\n",
      "weighted?\t\t\tFalse\n",
      "isolated nodes\t\t\t0\n",
      "self-loops\t\t\t0\n",
      "density\t\t\t\t0.795145\n",
      "clustering coefficient\t\t0.821629\n",
      "min/max/avg degree\t\t669, 999, 794.350000\n",
      "degree assortativity\t\t-0.041848\n",
      "number of connected components\t1\n",
      "size of largest component\t1000 (100.00 %)\n"
     ]
    }
   ],
   "source": [
    "nk.overview(g)"
   ]
  },
  {
   "cell_type": "code",
   "execution_count": 78,
   "metadata": {},
   "outputs": [
    {
     "name": "stdout",
     "output_type": "stream",
     "text": [
      "CPU times: user 31.7 s, sys: 1.43 s, total: 33.1 s\n",
      "Wall time: 33.1 s\n"
     ]
    }
   ],
   "source": [
    "%time g, edges, weights, pts = generation.generate_GIRG_nk(5000, d, tau, alpha, points_type=generation.PointsMCD)"
   ]
  },
  {
   "cell_type": "code",
   "execution_count": 75,
   "metadata": {},
   "outputs": [
    {
     "name": "stdout",
     "output_type": "stream",
     "text": [
      "CPU times: user 7.8 s, sys: 638 ms, total: 8.43 s\n",
      "Wall time: 8.43 s\n"
     ]
    }
   ],
   "source": [
    "%time g, edges, weights, pts = generation.generate_GIRG_nk(5000, d, tau, alpha, points_type=generation.PointsTorus)"
   ]
  },
  {
   "cell_type": "code",
   "execution_count": 76,
   "metadata": {},
   "outputs": [
    {
     "name": "stdout",
     "output_type": "stream",
     "text": [
      "CPU times: user 735 ms, sys: 71 ms, total: 806 ms\n",
      "Wall time: 801 ms\n"
     ]
    },
    {
     "data": {
      "text/plain": [
       "array([[0.     , 1.232  , 2.766  , ..., 4.17   , 2.396  , 4.555  ],\n",
       "       [1.232  , 0.     , 0.10547, ..., 2.047  , 1.164  , 3.363  ],\n",
       "       [2.766  , 0.10547, 0.     , ..., 0.875  , 2.504  , 3.148  ],\n",
       "       ...,\n",
       "       [4.17   , 2.047  , 0.875  , ..., 0.     , 1.375  , 4.023  ],\n",
       "       [2.396  , 1.164  , 2.504  , ..., 1.375  , 0.     , 0.965  ],\n",
       "       [4.555  , 3.363  , 3.148  , ..., 4.023  , 0.965  , 0.     ]],\n",
       "      dtype=float16)"
      ]
     },
     "execution_count": 76,
     "metadata": {},
     "output_type": "execute_result"
    }
   ],
   "source": [
    "%time generation.get_dists_mcd(pts)"
   ]
  },
  {
   "cell_type": "code",
   "execution_count": 77,
   "metadata": {},
   "outputs": [
    {
     "name": "stdout",
     "output_type": "stream",
     "text": [
      "CPU times: user 769 ms, sys: 138 ms, total: 907 ms\n",
      "Wall time: 902 ms\n"
     ]
    },
    {
     "data": {
      "text/plain": [
       "array([[0.   , 6.22 , 6.938, ..., 5.125, 5.266, 7.945],\n",
       "       [6.22 , 0.   , 4.766, ..., 7.883, 3.422, 7.914],\n",
       "       [6.938, 4.766, 0.   , ..., 7.78 , 4.14 , 5.6  ],\n",
       "       ...,\n",
       "       [5.125, 7.883, 7.78 , ..., 0.   , 6.812, 8.37 ],\n",
       "       [5.266, 3.422, 4.14 , ..., 6.812, 0.   , 7.35 ],\n",
       "       [7.945, 7.914, 5.6  , ..., 8.37 , 7.35 , 0.   ]], dtype=float16)"
      ]
     },
     "execution_count": 77,
     "metadata": {},
     "output_type": "execute_result"
    }
   ],
   "source": [
    "%time generation.get_dists_julia(pts)"
   ]
  },
  {
   "cell_type": "code",
   "execution_count": 57,
   "metadata": {},
   "outputs": [
    {
     "name": "stdout",
     "output_type": "stream",
     "text": [
      "CPU times: user 2.4 s, sys: 928 ms, total: 3.32 s\n",
      "Wall time: 3.32 s\n"
     ]
    },
    {
     "data": {
      "text/plain": [
       "array([[0.        , 1.5444265 , 6.13851183, ..., 6.05848187, 4.52113299,\n",
       "        2.40886363],\n",
       "       [1.5444265 , 0.        , 4.65052628, ..., 4.57049631, 3.25786356,\n",
       "        3.95329013],\n",
       "       [6.13851183, 4.65052628, 0.        , ..., 2.59595139, 2.70662657,\n",
       "        5.11148082],\n",
       "       ...,\n",
       "       [6.05848187, 4.57049631, 2.59595139, ..., 0.        , 4.69742204,\n",
       "        3.97664403],\n",
       "       [4.52113299, 3.25786356, 2.70662657, ..., 4.69742204, 0.        ,\n",
       "        3.73508107],\n",
       "       [2.40886363, 3.95329013, 5.11148082, ..., 3.97664403, 3.73508107,\n",
       "        0.        ]])"
      ]
     },
     "execution_count": 57,
     "metadata": {},
     "output_type": "execute_result"
    }
   ],
   "source": [
    "%time generation.get_dists(pts, n**(1/d))"
   ]
  },
  {
   "cell_type": "code",
   "execution_count": 64,
   "metadata": {},
   "outputs": [
    {
     "data": {
      "text/plain": [
       "dtype('float64')"
      ]
     },
     "execution_count": 64,
     "metadata": {},
     "output_type": "execute_result"
    }
   ],
   "source": [
    "pts.dtype"
   ]
  },
  {
   "cell_type": "code",
   "execution_count": 59,
   "metadata": {},
   "outputs": [
    {
     "name": "stdout",
     "output_type": "stream",
     "text": [
      "CPU times: user 722 ms, sys: 119 ms, total: 842 ms\n",
      "Wall time: 834 ms\n"
     ]
    },
    {
     "data": {
      "text/plain": [
       "array([[0.   , 1.547, 7.516, ..., 7.266, 5.758, 7.594],\n",
       "       [1.547, 0.   , 8.03 , ..., 8.53 , 7.305, 8.55 ],\n",
       "       [7.516, 8.03 , 0.   , ..., 7.453, 7.297, 6.11 ],\n",
       "       ...,\n",
       "       [7.266, 8.53 , 7.453, ..., 0.   , 5.695, 7.855],\n",
       "       [5.758, 7.305, 7.297, ..., 5.695, 0.   , 4.54 ],\n",
       "       [7.594, 8.55 , 6.11 , ..., 7.855, 4.54 , 0.   ]], dtype=float16)"
      ]
     },
     "execution_count": 59,
     "metadata": {},
     "output_type": "execute_result"
    }
   ],
   "source": [
    "%time generation.get_dists_julia(pts)"
   ]
  },
  {
   "cell_type": "code",
   "execution_count": 60,
   "metadata": {},
   "outputs": [
    {
     "name": "stdout",
     "output_type": "stream",
     "text": [
      "CPU times: user 736 ms, sys: 126 ms, total: 862 ms\n",
      "Wall time: 858 ms\n"
     ]
    },
    {
     "data": {
      "text/plain": [
       "array([[0.    , 1.266 , 0.953 , ..., 0.0625, 2.57  , 1.969 ],\n",
       "       [1.266 , 0.    , 2.438 , ..., 1.609 , 3.836 , 0.703 ],\n",
       "       [0.953 , 2.438 , 0.    , ..., 0.0781, 1.758 , 1.984 ],\n",
       "       ...,\n",
       "       [0.0625, 1.609 , 0.0781, ..., 0.    , 2.297 , 6.03  ],\n",
       "       [2.57  , 3.836 , 1.758 , ..., 2.297 , 0.    , 3.734 ],\n",
       "       [1.969 , 0.703 , 1.984 , ..., 6.03  , 3.734 , 0.    ]],\n",
       "      dtype=float16)"
      ]
     },
     "execution_count": 60,
     "metadata": {},
     "output_type": "execute_result"
    }
   ],
   "source": [
    "%time generation.get_dists_mcd(pts)"
   ]
  },
  {
   "cell_type": "code",
   "execution_count": null,
   "metadata": {},
   "outputs": [],
   "source": []
  },
  {
   "cell_type": "code",
   "execution_count": null,
   "metadata": {},
   "outputs": [],
   "source": []
  },
  {
   "cell_type": "code",
   "execution_count": 8,
   "metadata": {},
   "outputs": [
    {
     "name": "stdout",
     "output_type": "stream",
     "text": [
      "CPU times: user 14.2 s, sys: 2.25 s, total: 16.5 s\n",
      "Wall time: 16.5 s\n"
     ]
    }
   ],
   "source": [
    "%time g, edges, weights, pts = generation.generate_GIRG_nk(10000, d, tau, alpha, points_type=generation.PointsTorus)"
   ]
  },
  {
   "cell_type": "code",
   "execution_count": 9,
   "metadata": {},
   "outputs": [
    {
     "name": "stdout",
     "output_type": "stream",
     "text": [
      "CPU times: user 309 ms, sys: 50 ms, total: 359 ms\n",
      "Wall time: 357 ms\n"
     ]
    }
   ],
   "source": [
    "%time g, edges, weights, pts = generation.generate_GIRG_nk(n, d, tau, alpha, points_type=generation.PointsTorus)"
   ]
  },
  {
   "cell_type": "code",
   "execution_count": 10,
   "metadata": {},
   "outputs": [
    {
     "name": "stdout",
     "output_type": "stream",
     "text": [
      "CPU times: user 963 ms, sys: 30.8 ms, total: 994 ms\n",
      "Wall time: 993 ms\n"
     ]
    }
   ],
   "source": [
    "%time g, edges, weights, pts = generation.generate_GIRG_nk(n, 5, tau, alpha, points_type=generation.PointsTorus)"
   ]
  },
  {
   "cell_type": "code",
   "execution_count": 13,
   "metadata": {},
   "outputs": [
    {
     "name": "stdout",
     "output_type": "stream",
     "text": [
      "CPU times: user 2.93 s, sys: 136 ms, total: 3.07 s\n",
      "Wall time: 3.07 s\n"
     ]
    }
   ],
   "source": [
    "%time g, edges, weights, pts = generation.generate_GIRG_nk(2000, 5, tau, alpha, points_type=generation.PointsTorus)"
   ]
  },
  {
   "cell_type": "code",
   "execution_count": null,
   "metadata": {},
   "outputs": [],
   "source": []
  }
 ],
 "metadata": {
  "kernelspec": {
   "display_name": "girgenv_higherdims",
   "language": "python",
   "name": "girgenv_higherdims"
  },
  "language_info": {
   "codemirror_mode": {
    "name": "ipython",
    "version": 3
   },
   "file_extension": ".py",
   "mimetype": "text/x-python",
   "name": "python",
   "nbconvert_exporter": "python",
   "pygments_lexer": "ipython3",
   "version": "3.8.5"
  }
 },
 "nbformat": 4,
 "nbformat_minor": 4
}
