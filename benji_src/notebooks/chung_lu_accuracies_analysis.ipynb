{
 "cells": [
  {
   "cell_type": "code",
   "execution_count": 1,
   "metadata": {
    "collapsed": true,
    "ExecuteTime": {
     "start_time": "2023-06-08T11:28:29.901400Z",
     "end_time": "2023-06-08T11:28:29.908963Z"
    }
   },
   "outputs": [],
   "source": [
    "import re\n",
    "import os"
   ]
  },
  {
   "cell_type": "code",
   "execution_count": 58,
   "outputs": [],
   "source": [
    "os.chdir('/cluster/home/bdayan/girgs/benji_src')\n",
    "fn = 'chung_lu_accuracies_and_ER_LL.out'"
   ],
   "metadata": {
    "collapsed": false,
    "ExecuteTime": {
     "start_time": "2023-06-10T14:30:52.926900Z",
     "end_time": "2023-06-10T14:30:52.935805Z"
    }
   }
  },
  {
   "cell_type": "code",
   "execution_count": 59,
   "outputs": [],
   "source": [
    "with open(fn) as file:\n",
    "    lines = file.readlines()"
   ],
   "metadata": {
    "collapsed": false,
    "ExecuteTime": {
     "start_time": "2023-06-10T14:30:53.221745Z",
     "end_time": "2023-06-10T14:30:53.238955Z"
    }
   }
  },
  {
   "cell_type": "code",
   "execution_count": 60,
   "outputs": [
    {
     "data": {
      "text/plain": "['/cluster/scratch/bdayan/GIRG_data/socfb-Caltech36.SpaceOne\\n',\n '/cluster/scratch/bdayan/GIRG_data/socfb-Reed98.SpaceOne\\n',\n '/cluster/scratch/bdayan/GIRG_data/socfb-Haverford76.SpaceOne\\n',\n '/cluster/scratch/bdayan/GIRG_data/socfb-Simmons81.SpaceOne\\n',\n '/cluster/scratch/bdayan/GIRG_data/socfb-Swarthmore42.SpaceOne\\n',\n '/cluster/scratch/bdayan/GIRG_data/socfb-Amherst41.SpaceOne\\n',\n '/cluster/scratch/bdayan/GIRG_data/socfb-Bowdoin47.SpaceOne\\n',\n '/cluster/scratch/bdayan/GIRG_data/socfb-Hamilton46.SpaceOne\\n',\n '/cluster/scratch/bdayan/GIRG_data/socfb-Trinity100.SpaceOne\\n',\n '/cluster/scratch/bdayan/GIRG_data/socfb-USFCA72.SpaceOne\\n',\n '/cluster/scratch/bdayan/GIRG_data/socfb-Williams40.SpaceOne\\n',\n '/cluster/scratch/bdayan/GIRG_data/socfb-Oberlin44.SpaceOne\\n',\n '/cluster/scratch/bdayan/GIRG_data/socfb-Wellesley22.SpaceOne\\n',\n '/cluster/scratch/bdayan/GIRG_data/socfb-Smith60.SpaceOne\\n',\n '/cluster/scratch/bdayan/GIRG_data/socfb-Vassar85.SpaceOne\\n',\n '/cluster/scratch/bdayan/GIRG_data/socfb-Middlebury45.SpaceOne\\n',\n '/cluster/scratch/bdayan/GIRG_data/socfb-Pepperdine86.SpaceOne\\n',\n '/cluster/scratch/bdayan/GIRG_data/socfb-Colgate88.SpaceOne\\n',\n '/cluster/scratch/bdayan/GIRG_data/socfb-Santa74.SpaceOne\\n',\n '/cluster/scratch/bdayan/GIRG_data/socfb-Wesleyan43.SpaceOne\\n',\n '/cluster/scratch/bdayan/GIRG_data/socfb-Mich67.SpaceOne\\n',\n '/cluster/scratch/bdayan/GIRG_data/socfb-Bucknell39.SpaceOne\\n',\n '/cluster/scratch/bdayan/GIRG_data/socfb-Brandeis99.SpaceOne\\n',\n '/cluster/scratch/bdayan/GIRG_data/socfb-Howard90.SpaceOne\\n',\n '/cluster/scratch/bdayan/GIRG_data/socfb-Rice31.SpaceOne\\n',\n '/cluster/scratch/bdayan/GIRG_data/socfb-Rochester38.SpaceOne\\n',\n '/cluster/scratch/bdayan/GIRG_data/socfb-Lehigh96.SpaceOne\\n',\n '/cluster/scratch/bdayan/GIRG_data/socfb-JohnsHopkins55.SpaceOne\\n',\n '/cluster/scratch/bdayan/GIRG_data/socfb-Wake73.SpaceOne\\n',\n '/cluster/scratch/bdayan/GIRG_data/socfb-American75.SpaceOne\\n',\n '/cluster/scratch/bdayan/GIRG_data/socfb-MIT8.SpaceOne\\n',\n '/cluster/scratch/bdayan/GIRG_data/socfb-MIT.SpaceOne\\n',\n '/cluster/scratch/bdayan/GIRG_data/socfb-William77.SpaceOne\\n',\n '/cluster/scratch/bdayan/GIRG_data/socfb-UChicago30.SpaceOne\\n',\n '/cluster/scratch/bdayan/GIRG_data/socfb-Princeton12.SpaceOne\\n',\n '/cluster/scratch/bdayan/GIRG_data/socfb-CMU.SpaceOne\\n',\n '/cluster/scratch/bdayan/GIRG_data/socfb-Carnegie49.SpaceOne\\n',\n '/cluster/scratch/bdayan/GIRG_data/socfb-Tufts18.SpaceOne\\n',\n '/cluster/scratch/bdayan/GIRG_data/socfb-UC64.SpaceOne\\n',\n '/cluster/scratch/bdayan/GIRG_data/socfb-Vermont70.SpaceOne\\n',\n '/cluster/scratch/bdayan/GIRG_data/socfb-Emory27.SpaceOne\\n',\n '/cluster/scratch/bdayan/GIRG_data/socfb-Dartmouth6.SpaceOne\\n',\n '/cluster/scratch/bdayan/GIRG_data/socfb-WashU32.SpaceOne\\n',\n '/cluster/scratch/bdayan/GIRG_data/socfb-Tulane29.SpaceOne\\n',\n '/cluster/scratch/bdayan/GIRG_data/socfb-Villanova62.SpaceOne\\n',\n '/cluster/scratch/bdayan/GIRG_data/socfb-Vanderbilt48.SpaceOne\\n',\n '/cluster/scratch/bdayan/GIRG_data/socfb-Yale4.SpaceOne\\n',\n '/cluster/scratch/bdayan/GIRG_data/socfb-Brown11.SpaceOne\\n',\n '/cluster/scratch/bdayan/GIRG_data/socfb-UCSC68.SpaceOne\\n',\n '/cluster/scratch/bdayan/GIRG_data/socfb-Maine59.SpaceOne\\n',\n '/cluster/scratch/bdayan/GIRG_data/socfb-Georgetown15.SpaceOne\\n',\n '/cluster/scratch/bdayan/GIRG_data/socfb-Duke14.SpaceOne\\n',\n '/cluster/scratch/bdayan/GIRG_data/socfb-Bingham82.SpaceOne\\n',\n '/cluster/scratch/bdayan/GIRG_data/socfb-Mississippi66.SpaceOne\\n',\n '/cluster/scratch/bdayan/GIRG_data/socfb-Northwestern25.SpaceOne\\n',\n '/cluster/scratch/bdayan/GIRG_data/socfb-Cal65.SpaceOne\\n',\n '/cluster/scratch/bdayan/GIRG_data/socfb-BC17.SpaceOne\\n',\n '/cluster/scratch/bdayan/GIRG_data/socfb-Stanford3.SpaceOne\\n',\n '/cluster/scratch/bdayan/GIRG_data/socfb-Columbia2.SpaceOne\\n',\n '/cluster/scratch/bdayan/GIRG_data/socfb-NotreDame57.SpaceOne\\n',\n '/cluster/scratch/bdayan/GIRG_data/socfb-GWU54.SpaceOne\\n',\n '/cluster/scratch/bdayan/GIRG_data/socfb-Baylor93.SpaceOne\\n',\n '/cluster/scratch/bdayan/GIRG_data/socfb-USF51.SpaceOne\\n',\n '/cluster/scratch/bdayan/GIRG_data/socfb-Syracuse56.SpaceOne\\n',\n '/cluster/scratch/bdayan/GIRG_data/socfb-Temple83.SpaceOne\\n',\n '/cluster/scratch/bdayan/GIRG_data/socfb-UC61.SpaceOne\\n',\n '/cluster/scratch/bdayan/GIRG_data/socfb-Northeastern19.SpaceOne\\n',\n '/cluster/scratch/bdayan/GIRG_data/socfb-JMU79.SpaceOne\\n',\n '/cluster/scratch/bdayan/GIRG_data/socfb-UPenn7.SpaceOne\\n',\n '/cluster/scratch/bdayan/GIRG_data/socfb-UCSB37.SpaceOne\\n',\n '/cluster/scratch/bdayan/GIRG_data/socfb-UCF52.SpaceOne\\n',\n '/cluster/scratch/bdayan/GIRG_data/socfb-UCSD34.SpaceOne\\n',\n '/cluster/scratch/bdayan/GIRG_data/socfb-Harvard1.SpaceOne\\n',\n '/cluster/scratch/bdayan/GIRG_data/socfb-MU78.SpaceOne\\n',\n '/cluster/scratch/bdayan/GIRG_data/socfb-UMass92.SpaceOne\\n',\n '/cluster/scratch/bdayan/GIRG_data/socfb-UC33.SpaceOne\\n',\n '/cluster/scratch/bdayan/GIRG_data/socfb-Tennessee95.SpaceOne\\n',\n '/cluster/scratch/bdayan/GIRG_data/socfb-UVA16.SpaceOne\\n',\n '/cluster/scratch/bdayan/GIRG_data/socfb-UConn91.SpaceOne\\n',\n '/cluster/scratch/bdayan/GIRG_data/socfb-UConn.SpaceOne\\n',\n '/cluster/scratch/bdayan/GIRG_data/socfb-Oklahoma97.SpaceOne\\n',\n '/cluster/scratch/bdayan/GIRG_data/socfb-USC35.SpaceOne\\n',\n '/cluster/scratch/bdayan/GIRG_data/socfb-UNC28.SpaceOne\\n',\n '/cluster/scratch/bdayan/GIRG_data/socfb-Auburn71.SpaceOne\\n',\n '/cluster/scratch/bdayan/GIRG_data/socfb-Cornell5.SpaceOne\\n',\n '/cluster/scratch/bdayan/GIRG_data/socfb-BU10.SpaceOne\\n',\n '/cluster/scratch/bdayan/GIRG_data/socfb-UCLA.SpaceOne\\n',\n '/cluster/scratch/bdayan/GIRG_data/socfb-UCLA26.SpaceOne\\n',\n '/cluster/scratch/bdayan/GIRG_data/socfb-Maryland58.SpaceOne\\n',\n '/cluster/scratch/bdayan/GIRG_data/socfb-Virginia63.SpaceOne\\n',\n '/cluster/scratch/bdayan/GIRG_data/socfb-NYU9.SpaceOne\\n',\n '/cluster/scratch/bdayan/GIRG_data/socfb-Berkeley13.SpaceOne\\n',\n '/cluster/scratch/bdayan/GIRG_data/socfb-Wisconsin87.SpaceOne\\n',\n '/cluster/scratch/bdayan/GIRG_data/socfb-UGA50.SpaceOne\\n',\n '/cluster/scratch/bdayan/GIRG_data/socfb-Rutgers89.SpaceOne\\n',\n '/cluster/scratch/bdayan/GIRG_data/socfb-FSU53.SpaceOne\\n',\n '/cluster/scratch/bdayan/GIRG_data/socfb-Indiana.SpaceOne\\n',\n '/cluster/scratch/bdayan/GIRG_data/socfb-Indiana69.SpaceOne\\n',\n '/cluster/scratch/bdayan/GIRG_data/socfb-Michigan23.SpaceOne\\n',\n '/cluster/scratch/bdayan/GIRG_data/socfb-UIllinois20.SpaceOne\\n',\n '/cluster/scratch/bdayan/GIRG_data/socfb-UIllinois.SpaceOne\\n',\n '/cluster/scratch/bdayan/GIRG_data/socfb-Texas80.SpaceOne\\n',\n '/cluster/scratch/bdayan/GIRG_data/socfb-MSU24.SpaceOne\\n',\n '/cluster/scratch/bdayan/GIRG_data/socfb-UF21.SpaceOne\\n',\n '/cluster/scratch/bdayan/GIRG_data/socfb-UF.SpaceOne\\n',\n '/cluster/scratch/bdayan/GIRG_data/socfb-Texas84.SpaceOne\\n',\n '/cluster/scratch/bdayan/GIRG_data/socfb-Penn94.SpaceOne\\n',\n '/cluster/scratch/bdayan/GIRG_data/socfb-wosn-friends.SpaceOne\\n',\n '/cluster/scratch/bdayan/GIRG_data/socfb-OR.SpaceOne\\n',\n 'running MCMC\\n',\n 'processing: socfb-Caltech36\\n',\n 'Network Properties:\\n',\n 'nodes, edges\\t\\t\\t762, 16651\\n',\n 'directed?\\t\\t\\tFalse\\n',\n 'weighted?\\t\\t\\tFalse\\n',\n 'isolated nodes\\t\\t\\t0\\n',\n 'self-loops\\t\\t\\t0\\n',\n 'density\\t\\t\\t\\t0.057429\\n',\n 'clustering coefficient\\t\\t0.409117\\n',\n 'min/max/avg degree\\t\\t1, 248, 43.703412\\n',\n 'degree assortativity\\t\\t-0.065276\\n',\n 'number of connected components\\t1\\n',\n 'size of largest component\\t762 (100.00 %)\\n',\n 'no results_df\\n',\n '0.17056032670710466 0.8289774780199928\\n',\n '[[  5680  27622]\\n',\n ' [ 27532 519810]]\\n',\n 'chunglu LL: -102799.26666881886\\n',\n 'er LL: -401943.57335746853\\n',\n 'processing: socfb-Reed98\\n',\n 'Network Properties:\\n',\n 'nodes, edges\\t\\t\\t962, 18812\\n',\n 'directed?\\t\\t\\tFalse\\n',\n 'weighted?\\t\\t\\tFalse\\n',\n 'isolated nodes\\t\\t\\t0\\n',\n 'self-loops\\t\\t\\t0\\n',\n 'density\\t\\t\\t\\t0.040697\\n',\n 'clustering coefficient\\t\\t0.318360\\n',\n 'min/max/avg degree\\t\\t1, 313, 39.110187\\n',\n 'degree assortativity\\t\\t0.024395\\n',\n 'number of connected components\\t1\\n',\n 'size of largest component\\t962 (100.00 %)\\n',\n 'no results_df\\n',\n '0.13337231554327025 0.8673399249193676\\n',\n '[[  5018  32606]\\n',\n ' [ 32808 855012]]\\n',\n 'chunglu LL: -128476.06068462232\\n',\n 'er LL: -640802.091778406\\n',\n 'processing: socfb-Haverford76\\n',\n 'Network Properties:\\n',\n 'nodes, edges\\t\\t\\t1446, 59589\\n',\n 'directed?\\t\\t\\tFalse\\n',\n 'weighted?\\t\\t\\tFalse\\n',\n 'isolated nodes\\t\\t\\t0\\n',\n 'self-loops\\t\\t\\t0\\n',\n 'density\\t\\t\\t\\t0.057037\\n',\n 'clustering coefficient\\t\\t0.322958\\n',\n 'min/max/avg degree\\t\\t1, 375, 82.419087\\n',\n 'degree assortativity\\t\\t0.068390\\n',\n 'number of connected components\\t1\\n',\n 'size of largest component\\t1446 (100.00 %)\\n',\n 'no results_df\\n',\n '0.13724009464834114 0.8625615515184109\\n',\n '[[  16356  102822]\\n',\n ' [ 102650 1869088]]\\n',\n 'chunglu LL: -388035.7785495379\\n',\n 'er LL: -1448310.2393645868\\n',\n 'processing: socfb-Simmons81\\n',\n 'Network Properties:\\n',\n 'nodes, edges\\t\\t\\t1510, 32984\\n',\n 'directed?\\t\\t\\tFalse\\n',\n 'weighted?\\t\\t\\tFalse\\n',\n 'isolated nodes\\t\\t\\t0\\n',\n 'self-loops\\t\\t\\t0\\n',\n 'density\\t\\t\\t\\t0.028951\\n',\n 'clustering coefficient\\t\\t0.316606\\n',\n 'min/max/avg degree\\t\\t1, 300, 43.687417\\n',\n 'degree assortativity\\t\\t-0.060695\\n',\n 'number of connected components\\t1\\n',\n 'size of largest component\\t1510 (100.00 %)\\n',\n 'no results_df\\n',\n '0.07834101382488479 0.9214111922141119\\n',\n '[[   5168   60800]\\n',\n ' [  60592 2153540]]\\n',\n 'chunglu LL: -256902.68859759285\\n',\n 'er LL: -1579398.2341520914\\n',\n 'processing: socfb-Swarthmore42\\n',\n 'Network Properties:\\n',\n 'nodes, edges\\t\\t\\t1657, 61049\\n',\n 'directed?\\t\\t\\tFalse\\n',\n 'weighted?\\t\\t\\tFalse\\n',\n 'isolated nodes\\t\\t\\t0\\n',\n 'self-loops\\t\\t\\t0\\n',\n 'density\\t\\t\\t\\t0.044496\\n',\n 'clustering coefficient\\t\\t0.296897\\n',\n 'min/max/avg degree\\t\\t1, 577, 73.686180\\n',\n 'degree assortativity\\t\\t0.061163\\n',\n 'number of connected components\\t1\\n',\n 'size of largest component\\t1657 (100.00 %)\\n',\n 'no results_df\\n',\n '0.12041147275139642 0.8793988811051138\\n',\n '[[  14702  107396]\\n',\n ' [ 107204 2516347]]\\n',\n 'chunglu LL: -423188.28749773686\\n',\n 'er LL: -1901990.3182789893\\n',\n 'processing: socfb-Amherst41\\n',\n 'Network Properties:\\n',\n 'nodes, edges\\t\\t\\t2235, 90954\\n',\n 'directed?\\t\\t\\tFalse\\n',\n 'weighted?\\t\\t\\tFalse\\n',\n 'isolated nodes\\t\\t\\t0\\n',\n 'self-loops\\t\\t\\t0\\n',\n 'density\\t\\t\\t\\t0.036433\\n',\n 'clustering coefficient\\t\\t0.310386\\n',\n 'min/max/avg degree\\t\\t1, 467, 81.390604\\n',\n 'degree assortativity\\t\\t0.058704\\n',\n 'number of connected components\\t1\\n',\n 'size of largest component\\t2235 (100.00 %)\\n',\n 'no results_df\\n',\n '0.09493810057831431 0.9050671181521345\\n',\n '[[  17270  164638]\\n',\n ' [ 164648 4648669]]\\n',\n 'chunglu LL: -670400.0038853943\\n',\n 'er LL: -3460876.941063832\\n',\n 'processing: socfb-Bowdoin47\\n',\n 'Network Properties:\\n',\n 'nodes, edges\\t\\t\\t2250, 84386\\n',\n 'directed?\\t\\t\\tFalse\\n',\n 'weighted?\\t\\t\\tFalse\\n',\n 'isolated nodes\\t\\t\\t0\\n',\n 'self-loops\\t\\t\\t0\\n',\n 'density\\t\\t\\t\\t0.033353\\n',\n 'clustering coefficient\\t\\t0.288976\\n',\n 'min/max/avg degree\\t\\t1, 670, 75.009778\\n',\n 'degree assortativity\\t\\t0.056431\\n',\n 'number of connected components\\t1\\n',\n 'size of largest component\\t2250 (100.00 %)\\n',\n 'no results_df\\n',\n '0.08362761595525324 0.9160969694087434\\n',\n '[[  14114  154658]\\n',\n ' [ 154104 4739624]]\\n',\n 'chunglu LL: -643984.9938777979\\n',\n 'er LL: -3507498.020428368\\n',\n 'processing: socfb-Hamilton46\\n',\n 'Network Properties:\\n',\n 'nodes, edges\\t\\t\\t2312, 96393\\n',\n 'directed?\\t\\t\\tFalse\\n',\n 'weighted?\\t\\t\\tFalse\\n',\n 'isolated nodes\\t\\t\\t0\\n',\n 'self-loops\\t\\t\\t0\\n',\n 'density\\t\\t\\t\\t0.036082\\n',\n 'clustering coefficient\\t\\t0.298319\\n',\n 'min/max/avg degree\\t\\t1, 602, 83.384948\\n',\n 'degree assortativity\\t\\t0.030977\\n',\n 'number of connected components\\t1\\n',\n 'size of largest component\\t2312 (100.00 %)\\n',\n 'no results_df\\n',\n '0.09073272955505068 0.9094729433196704\\n',\n '[[  17492  175294]\\n',\n ' [ 175732 4976826]]\\n',\n 'chunglu LL: -722084.9972419947\\n',\n 'er LL: -3703507.566441783\\n',\n 'processing: socfb-Trinity100\\n',\n 'Network Properties:\\n',\n 'nodes, edges\\t\\t\\t2613, 111996\\n',\n 'directed?\\t\\t\\tFalse\\n',\n 'weighted?\\t\\t\\tFalse\\n',\n 'isolated nodes\\t\\t\\t0\\n',\n 'self-loops\\t\\t\\t0\\n',\n 'density\\t\\t\\t\\t0.032819\\n',\n 'clustering coefficient\\t\\t0.290325\\n',\n 'min/max/avg degree\\t\\t1, 404, 85.722158\\n',\n 'degree assortativity\\t\\t0.072003\\n',\n 'number of connected components\\t1\\n',\n 'size of largest component\\t2613 (100.00 %)\\n',\n 'no results_df\\n',\n '0.07682417229186757 0.9233837934105076\\n',\n '[[  17208  206784]\\n',\n ' [ 207392 6396385]]\\n',\n 'chunglu LL: -865351.5644646822\\n',\n 'er LL: -4730837.638281574\\n',\n 'processing: socfb-USFCA72\\n',\n 'Network Properties:\\n',\n 'nodes, edges\\t\\t\\t2672, 65244\\n',\n 'directed?\\t\\t\\tFalse\\n',\n 'weighted?\\t\\t\\tFalse\\n',\n 'isolated nodes\\t\\t\\t0\\n',\n 'self-loops\\t\\t\\t0\\n',\n 'density\\t\\t\\t\\t0.018284\\n',\n 'clustering coefficient\\t\\t0.266755\\n',\n 'min/max/avg degree\\t\\t1, 405, 48.835329\\n',\n 'degree assortativity\\t\\t0.092786\\n',\n 'number of connected components\\t1\\n',\n 'size of largest component\\t2672 (100.00 %)\\n',\n 'no results_df\\n',\n '0.06641223714057998 0.93358776285942\\n',\n '[[   8666  121822]\\n',\n ' [ 121822 6887274]]\\n',\n 'chunglu LL: -549101.4464208026\\n',\n 'er LL: -4946930.430704585\\n',\n 'processing: socfb-Williams40\\n',\n 'Network Properties:\\n',\n 'nodes, edges\\t\\t\\t2788, 112985\\n',\n 'directed?\\t\\t\\tFalse\\n',\n 'weighted?\\t\\t\\tFalse\\n',\n 'isolated nodes\\t\\t\\t0\\n',\n 'self-loops\\t\\t\\t0\\n',\n 'density\\t\\t\\t\\t0.029082\\n',\n 'clustering coefficient\\t\\t0.291521\\n',\n 'min/max/avg degree\\t\\t1, 610, 81.050933\\n',\n 'degree assortativity\\t\\t0.042037\\n',\n 'number of connected components\\t1\\n',\n 'size of largest component\\t2788 (100.00 %)\\n',\n 'no results_df\\n',\n '0.07483294242598575 0.9253309547570054\\n',\n '[[  16910  209060]\\n',\n ' [ 209556 7337418]]\\n',\n 'chunglu LL: -890662.6224498167\\n',\n 'er LL: -5385861.723910968\\n',\n 'processing: socfb-Oberlin44\\n',\n 'Network Properties:\\n',\n 'nodes, edges\\t\\t\\t2920, 89912\\n',\n 'directed?\\t\\t\\tFalse\\n',\n 'weighted?\\t\\t\\tFalse\\n',\n 'isolated nodes\\t\\t\\t0\\n',\n 'self-loops\\t\\t\\t0\\n',\n 'density\\t\\t\\t\\t0.021097\\n',\n 'clustering coefficient\\t\\t0.263398\\n',\n 'min/max/avg degree\\t\\t1, 478, 61.583562\\n',\n 'degree assortativity\\t\\t0.050334\\n',\n 'number of connected components\\t1\\n',\n 'size of largest component\\t2920 (100.00 %)\\n',\n 'no results_df\\n',\n '0.06674303763680042 0.933140959935826\\n',\n '[[  12002  167822]\\n',\n ' [ 167510 8179066]]\\n',\n 'chunglu LL: -746717.0105372074\\n',\n 'er LL: -5908026.13055895\\n',\n 'processing: socfb-Smith60\\n',\n 'Network Properties:\\n',\n 'nodes, edges\\t\\t\\t2970, 97133\\n',\n 'directed?\\t\\t\\tFalse\\n',\n 'weighted?\\t\\t\\tFalse\\n',\n 'isolated nodes\\t\\t\\t0\\n',\n 'self-loops\\t\\t\\t0\\n',\n 'density\\t\\t\\t\\t0.022031\\n',\n 'clustering coefficient\\t\\t0.283450\\n',\n 'min/max/avg degree\\t\\t1, 349, 65.409428\\n',\n 'degree assortativity\\t\\t0.043831\\n',\n 'number of connected components\\t1\\n',\n 'size of largest component\\t2970 (100.00 %)\\n',\n 'no results_df\\n',\n '0.05485262475162921 0.9452488362294863\\n',\n '[[  10656  183610]\\n',\n ' [ 183970 8442664]]\\n',\n 'chunglu LL: -823432.0244003682\\n',\n 'er LL: -6112123.31787479\\n',\n 'processing: socfb-Wellesley22\\n',\n 'Network Properties:\\n',\n 'nodes, edges\\t\\t\\t2970, 94899\\n',\n 'directed?\\t\\t\\tFalse\\n',\n 'weighted?\\t\\t\\tFalse\\n',\n 'isolated nodes\\t\\t\\t0\\n',\n 'self-loops\\t\\t\\t0\\n',\n 'density\\t\\t\\t\\t0.021524\\n',\n 'clustering coefficient\\t\\t0.264173\\n',\n 'min/max/avg degree\\t\\t1, 746, 63.905051\\n',\n 'degree assortativity\\t\\t0.065263\\n',\n 'number of connected components\\t1\\n',\n 'size of largest component\\t2970 (100.00 %)\\n',\n 'no results_df\\n',\n '0.06832527213142393 0.931754552152405\\n',\n '[[  12968  176830]\\n',\n ' [ 177052 8454050]]\\n',\n 'chunglu LL: -783543.7416416925\\n',\n 'er LL: -6112123.31787479\\n',\n 'processing: socfb-Middlebury45\\n',\n 'Network Properties:\\n',\n 'nodes, edges\\t\\t\\t3069, 124607\\n',\n 'directed?\\t\\t\\tFalse\\n',\n 'weighted?\\t\\t\\tFalse\\n',\n 'isolated nodes\\t\\t\\t0\\n',\n 'self-loops\\t\\t\\t0\\n',\n 'density\\t\\t\\t\\t0.026468\\n',\n 'clustering coefficient\\t\\t0.282180\\n',\n 'min/max/avg degree\\t\\t1, 473, 81.203649\\n',\n 'degree assortativity\\t\\t0.078471\\n',\n 'number of connected components\\t1\\n',\n 'size of largest component\\t3069 (100.00 %)\\n',\n 'no results_df\\n',\n '0.06834286998322726 0.9315983935742972\\n',\n '[[  17032  232182]\\n',\n ' [ 231968 8937579]]\\n',\n 'chunglu LL: -1001305.7990800425\\n',\n 'er LL: -6526460.362821081\\n',\n 'processing: socfb-Vassar85\\n',\n 'Network Properties:\\n',\n 'nodes, edges\\t\\t\\t3068, 119161\\n',\n 'directed?\\t\\t\\tFalse\\n',\n 'weighted?\\t\\t\\tFalse\\n',\n 'isolated nodes\\t\\t\\t0\\n',\n 'self-loops\\t\\t\\t0\\n',\n 'density\\t\\t\\t\\t0.025328\\n',\n 'clustering coefficient\\t\\t0.246050\\n',\n 'min/max/avg degree\\t\\t1, 482, 77.679922\\n',\n 'degree assortativity\\t\\t0.103087\\n',\n 'number of connected components\\t1\\n',\n 'size of largest component\\t3068 (100.00 %)\\n',\n 'no results_df\\n',\n '0.06576816240212821 0.9343794220834136\\n',\n '[[  15674  222648]\\n',\n ' [ 223184 8951118]]\\n',\n 'chunglu LL: -977879.6576266361\\n',\n 'er LL: -6522207.211721161\\n',\n 'processing: socfb-Pepperdine86\\n',\n 'Network Properties:\\n',\n 'nodes, edges\\t\\t\\t3440, 152003\\n',\n 'directed?\\t\\t\\tFalse\\n',\n 'weighted?\\t\\t\\tFalse\\n',\n 'isolated nodes\\t\\t\\t0\\n',\n 'self-loops\\t\\t\\t0\\n',\n 'density\\t\\t\\t\\t0.025698\\n',\n 'clustering coefficient\\t\\t0.276976\\n',\n 'min/max/avg degree\\t\\t1, 674, 88.373837\\n',\n 'degree assortativity\\t\\t0.055527\\n',\n 'number of connected components\\t1\\n',\n 'size of largest component\\t3440 (100.00 %)\\n',\n 'no results_df\\n',\n '0.07861029058637001 0.9215502186273093\\n',\n '[[   23898   280108]\\n',\n ' [  280730 11248864]]\\n',\n 'chunglu LL: -1192736.33456043\\n',\n 'er LL: -8200042.049573385\\n',\n 'processing: socfb-Colgate88\\n',\n 'Network Properties:\\n',\n 'nodes, edges\\t\\t\\t3482, 155043\\n',\n 'directed?\\t\\t\\tFalse\\n',\n 'weighted?\\t\\t\\tFalse\\n',\n 'isolated nodes\\t\\t\\t0\\n',\n 'self-loops\\t\\t\\t0\\n',\n 'density\\t\\t\\t\\t0.025583\\n',\n 'clustering coefficient\\t\\t0.267257\\n',\n 'min/max/avg degree\\t\\t1, 773, 89.053992\\n',\n 'degree assortativity\\t\\t0.068317\\n',\n 'number of connected components\\t1\\n',\n 'size of largest component\\t3482 (100.00 %)\\n',\n 'no results_df\\n',\n '0.059764065452809864 0.9403052382701017\\n',\n '[[   18532   291554]\\n',\n ' [  291914 11522324]]\\n',\n 'chunglu LL: -1286637.7962711249\\n',\n 'er LL: -8401527.458312618\\n',\n 'processing: socfb-Santa74\\n',\n 'Network Properties:\\n',\n 'nodes, edges\\t\\t\\t3578, 151747\\n',\n 'directed?\\t\\t\\tFalse\\n',\n 'weighted?\\t\\t\\tFalse\\n',\n 'isolated nodes\\t\\t\\t0\\n',\n 'self-loops\\t\\t\\t0\\n',\n 'density\\t\\t\\t\\t0.023713\\n',\n 'clustering coefficient\\t\\t0.262967\\n',\n 'min/max/avg degree\\t\\t1, 1129, 84.822247\\n',\n 'degree assortativity\\t\\t0.070634\\n',\n 'number of connected components\\t1\\n',\n 'size of largest component\\t3578 (100.00 %)\\n',\n 'no results_df\\n',\n '0.06887121326945508 0.9312520145508127\\n',\n '[[   20902   282592]\\n',\n ' [  283136 12215454]]\\n',\n 'chunglu LL: -1236282.4648624724\\n',\n 'er LL: -8871248.349279884\\n',\n 'processing: socfb-Wesleyan43\\n',\n 'Network Properties:\\n',\n 'nodes, edges\\t\\t\\t3591, 138034\\n',\n 'directed?\\t\\t\\tFalse\\n',\n 'weighted?\\t\\t\\tFalse\\n',\n 'isolated nodes\\t\\t\\t0\\n',\n 'self-loops\\t\\t\\t0\\n',\n 'density\\t\\t\\t\\t0.021414\\n',\n 'clustering coefficient\\t\\t0.260828\\n',\n 'min/max/avg degree\\t\\t1, 549, 76.877750\\n',\n 'degree assortativity\\t\\t0.095204\\n',\n 'number of connected components\\t1\\n',\n 'size of largest component\\t3591 (100.00 %)\\n',\n 'no results_df\\n',\n '0.05579060231537158 0.9441320923079155\\n',\n '[[   15402   260666]\\n',\n ' [  260284 12358929]]\\n',\n 'chunglu LL: -1168414.194701484\\n',\n 'er LL: -8935838.576152658\\n',\n 'processing: socfb-Mich67\\n',\n 'Network Properties:\\n',\n 'nodes, edges\\t\\t\\t3745, 81901\\n',\n 'directed?\\t\\t\\tFalse\\n',\n 'weighted?\\t\\t\\tFalse\\n',\n 'isolated nodes\\t\\t\\t0\\n',\n 'self-loops\\t\\t\\t0\\n',\n 'density\\t\\t\\t\\t0.011682\\n',\n 'clustering coefficient\\t\\t0.281814\\n',\n 'min/max/avg degree\\t\\t1, 419, 43.738852\\n',\n 'degree assortativity\\t\\t0.142167\\n',\n 'number of connected components\\t1\\n',\n 'size of largest component\\t3745 (100.00 %)\\n',\n 'no results_df\\n',\n '0.0532594229618686 0.9466950177805478\\n',\n '[[    8724   155078]\\n',\n ' [  154938 13706285]]\\n',\n 'chunglu LL: -748251.6179434882\\n',\n 'er LL: -9718810.699841658\\n',\n 'processing: socfb-Bucknell39\\n',\n 'Network Properties:\\n',\n 'nodes, edges\\t\\t\\t3824, 158863\\n',\n 'directed?\\t\\t\\tFalse\\n',\n 'weighted?\\t\\t\\tFalse\\n',\n 'isolated nodes\\t\\t\\t0\\n',\n 'self-loops\\t\\t\\t0\\n',\n 'density\\t\\t\\t\\t0.021734\\n',\n 'clustering coefficient\\t\\t0.278605\\n',\n 'min/max/avg degree\\t\\t1, 506, 83.087343\\n',\n 'degree assortativity\\t\\t0.094494\\n',\n 'number of connected components\\t1\\n',\n 'size of largest component\\t3824 (100.00 %)\\n',\n 'no results_df\\n',\n '0.050949560312974075 0.9491004219621555\\n',\n '[[   16188   301538]\\n',\n ' [  301850 14003400]]\\n',\n 'chunglu LL: -1370733.0211982995\\n',\n 'er LL: -10133223.99097814\\n',\n 'processing: socfb-Brandeis99\\n',\n 'Network Properties:\\n',\n 'nodes, edges\\t\\t\\t3887, 137561\\n',\n 'directed?\\t\\t\\tFalse\\n',\n 'weighted?\\t\\t\\tFalse\\n',\n 'isolated nodes\\t\\t\\t0\\n',\n 'self-loops\\t\\t\\t0\\n',\n 'density\\t\\t\\t\\t0.018214\\n',\n 'clustering coefficient\\t\\t0.262845\\n',\n 'min/max/avg degree\\t\\t1, 1972, 70.780036\\n',\n 'degree assortativity\\t\\t-0.027598\\n',\n 'number of connected components\\t1\\n',\n 'size of largest component\\t3887 (100.00 %)\\n',\n 'no results_df\\n',\n '0.06330282565552736 0.9366299166757632\\n',\n '[[   17416   257706]\\n',\n ' [  257414 14576233]]\\n',\n 'chunglu LL: -1178036.283074172\\n',\n 'er LL: -10469906.370990431\\n',\n 'processing: socfb-Howard90\\n',\n 'Network Properties:\\n',\n 'nodes, edges\\t\\t\\t4047, 204850\\n',\n 'directed?\\t\\t\\tFalse\\n',\n 'weighted?\\t\\t\\tFalse\\n',\n 'isolated nodes\\t\\t\\t0\\n',\n 'self-loops\\t\\t\\t0\\n',\n 'density\\t\\t\\t\\t0.025021\\n',\n 'clustering coefficient\\t\\t0.228390\\n',\n 'min/max/avg degree\\t\\t1, 1215, 101.235483\\n',\n 'degree assortativity\\t\\t0.058811\\n',\n 'number of connected components\\t1\\n',\n 'size of largest component\\t4047 (100.00 %)\\n',\n 'no results_df\\n',\n '0.08507200390529655 0.9147336128738691\\n',\n '[[   34854   374846]\\n',\n ' [  373912 15594597]]\\n',\n 'chunglu LL: -1598213.6821604425\\n',\n 'er LL: -11349704.2243316\\n',\n 'processing: socfb-Rice31\\n',\n 'Network Properties:\\n',\n 'nodes, edges\\t\\t\\t4083, 184826\\n',\n 'directed?\\t\\t\\tFalse\\n',\n 'weighted?\\t\\t\\tFalse\\n',\n 'isolated nodes\\t\\t\\t0\\n',\n 'self-loops\\t\\t\\t0\\n',\n 'density\\t\\t\\t\\t0.022179\\n',\n 'clustering coefficient\\t\\t0.294477\\n',\n 'min/max/avg degree\\t\\t1, 581, 90.534411\\n',\n 'degree assortativity\\t\\t0.065581\\n',\n 'number of connected components\\t1\\n',\n 'size of largest component\\t4083 (100.00 %)\\n',\n 'no results_df\\n',\n '0.06575914644043587 0.9342792563833584\\n',\n '[[   24308   345344]\\n',\n ' [  345560 15955677]]\\n',\n 'chunglu LL: -1525387.7128453227\\n',\n 'er LL: -11552549.587839931\\n',\n 'processing: socfb-Rochester38\\n',\n 'Network Properties:\\n',\n 'nodes, edges\\t\\t\\t4561, 161403\\n',\n 'directed?\\t\\t\\tFalse\\n',\n 'weighted?\\t\\t\\tFalse\\n',\n 'isolated nodes\\t\\t\\t0\\n',\n 'self-loops\\t\\t\\t0\\n',\n 'density\\t\\t\\t\\t0.015521\\n',\n 'clustering coefficient\\t\\t0.293349\\n',\n 'min/max/avg degree\\t\\t1, 1224, 70.775269\\n',\n 'degree assortativity\\t\\t0.026196\\n',\n 'number of connected components\\t1\\n',\n 'size of largest component\\t4561 (100.00 %)\\n',\n 'no results_df\\n',\n '0.04709949629189049 0.9530523390458545\\n',\n '[[   15204   307602]\\n',\n ' [  308646 20171269]]\\n',\n 'chunglu LL: -1454559.0251132443\\n',\n 'er LL: -14416185.96483378\\n',\n 'processing: socfb-Lehigh96\\n',\n 'Network Properties:\\n',\n 'nodes, edges\\t\\t\\t5073, 198346\\n',\n 'directed?\\t\\t\\tFalse\\n',\n 'weighted?\\t\\t\\tFalse\\n',\n 'isolated nodes\\t\\t\\t0\\n',\n 'self-loops\\t\\t\\t0\\n',\n 'density\\t\\t\\t\\t0.015417\\n',\n 'clustering coefficient\\t\\t0.266552\\n',\n 'min/max/avg degree\\t\\t1, 973, 78.196728\\n',\n 'degree assortativity\\t\\t0.035503\\n',\n 'number of connected components\\t1\\n',\n 'size of largest component\\t5073 (100.00 %)\\n',\n 'no results_df\\n',\n '0.044069454387787 0.9557825193998442\\n',\n '[[   17482   379210]\\n',\n ' [  377882 24960755]]\\n',\n 'chunglu LL: -1798071.6014698413\\n',\n 'er LL: -17834854.401487224\\n',\n 'processing: socfb-JohnsHopkins55\\n',\n 'Network Properties:\\n',\n 'nodes, edges\\t\\t\\t5157, 186572\\n',\n 'directed?\\t\\t\\tFalse\\n',\n 'weighted?\\t\\t\\tFalse\\n',\n 'isolated nodes\\t\\t\\t0\\n',\n 'self-loops\\t\\t\\t0\\n',\n 'density\\t\\t\\t\\t0.014034\\n',\n 'clustering coefficient\\t\\t0.269008\\n',\n 'min/max/avg degree\\t\\t1, 886, 72.356797\\n',\n 'degree assortativity\\t\\t0.081212\\n',\n 'number of connected components\\t1\\n',\n 'size of largest component\\t5157 (100.00 %)\\n',\n 'no results_df\\n',\n '0.05338421628111399 0.9467245778350708\\n',\n '[[   19920   353224]\\n',\n ' [  353986 25867519]]\\n',\n 'chunglu LL: -1651774.8718779474\\n',\n 'er LL: -18430431.4123223\\n',\n 'processing: socfb-Wake73\\n',\n 'Network Properties:\\n',\n 'nodes, edges\\t\\t\\t5366, 279186\\n',\n 'directed?\\t\\t\\tFalse\\n',\n 'weighted?\\t\\t\\tFalse\\n',\n 'isolated nodes\\t\\t\\t0\\n',\n 'self-loops\\t\\t\\t0\\n',\n 'density\\t\\t\\t\\t0.019396\\n',\n 'clustering coefficient\\t\\t0.275584\\n',\n 'min/max/avg degree\\t\\t1, 1341, 104.057398\\n',\n 'degree assortativity\\t\\t0.076471\\n',\n 'number of connected components\\t1\\n',\n 'size of largest component\\t5366 (100.00 %)\\n',\n 'no results_df\\n',\n '0.05782166727557972 0.9424354480392821\\n',\n '[[   32286   526086]\\n',\n ' [  528580 27707004]]\\n',\n 'chunglu LL: -2393745.6294861343\\n',\n 'er LL: -19954729.990796234\\n',\n 'processing: socfb-American75\\n',\n 'Network Properties:\\n',\n 'nodes, edges\\t\\t\\t6370, 217654\\n',\n 'directed?\\t\\t\\tFalse\\n',\n 'weighted?\\t\\t\\tFalse\\n',\n 'isolated nodes\\t\\t\\t0\\n',\n 'self-loops\\t\\t\\t0\\n',\n 'density\\t\\t\\t\\t0.010730\\n',\n 'clustering coefficient\\t\\t0.240782\\n',\n 'min/max/avg degree\\t\\t1, 930, 68.337206\\n',\n 'degree assortativity\\t\\t0.066466\\n',\n 'number of connected components\\t1\\n',\n 'size of largest component\\t6370 (100.00 %)\\n',\n 'no results_df\\n',\n '0.03732070166410909 0.9626587108222163\\n',\n '[[   16246   419062]\\n',\n ' [  418822 39722770]]\\n',\n 'chunglu LL: -2079290.8567415322\\n',\n 'er LL: -28121348.48332466\\n',\n 'processing: socfb-MIT\\n',\n 'Network Properties:\\n',\n 'nodes, edges\\t\\t\\t6402, 251230\\n',\n 'directed?\\t\\t\\tFalse\\n',\n 'weighted?\\t\\t\\tFalse\\n',\n 'isolated nodes\\t\\t\\t0\\n',\n 'self-loops\\t\\t\\t0\\n',\n 'density\\t\\t\\t\\t0.012261\\n',\n 'clustering coefficient\\t\\t0.272360\\n',\n 'min/max/avg degree\\t\\t1, 708, 78.484848\\n',\n 'degree assortativity\\t\\t0.119904\\n',\n 'number of connected components\\t1\\n',\n 'size of largest component\\t6402 (100.00 %)\\n',\n 'no results_df\\n',\n '0.053325637861720336 0.9468064831211733\\n',\n '[[   26794   475666]\\n',\n ' [  476914 40006230]]\\n',\n 'chunglu LL: -2252103.036371093\\n',\n 'er LL: -28404618.327894513\\n',\n 'processing: socfb-MIT8\\n',\n 'Network Properties:\\n',\n 'nodes, edges\\t\\t\\t6402, 251230\\n',\n 'directed?\\t\\t\\tFalse\\n',\n 'weighted?\\t\\t\\tFalse\\n',\n 'isolated nodes\\t\\t\\t0\\n',\n 'self-loops\\t\\t\\t0\\n',\n 'density\\t\\t\\t\\t0.012261\\n',\n 'clustering coefficient\\t\\t0.272360\\n',\n 'min/max/avg degree\\t\\t1, 708, 78.484848\\n',\n 'degree assortativity\\t\\t0.119904\\n',\n 'number of connected components\\t1\\n',\n 'size of largest component\\t6402 (100.00 %)\\n',\n 'no results_df\\n',\n '0.053325637861720336 0.9468064831211733\\n',\n '[[   26794   475666]\\n',\n ' [  476914 40006230]]\\n',\n 'chunglu LL: -2252103.036371093\\n',\n 'er LL: -28404618.327894513\\n',\n 'processing: socfb-William77\\n',\n 'Network Properties:\\n',\n 'nodes, edges\\t\\t\\t6472, 266378\\n',\n 'directed?\\t\\t\\tFalse\\n',\n 'weighted?\\t\\t\\tFalse\\n',\n 'isolated nodes\\t\\t\\t0\\n',\n 'self-loops\\t\\t\\t0\\n',\n 'density\\t\\t\\t\\t0.012721\\n',\n 'clustering coefficient\\t\\t0.253614\\n',\n 'min/max/avg degree\\t\\t1, 1124, 82.317058\\n',\n 'degree assortativity\\t\\t0.052543\\n',\n 'number of connected components\\t1\\n',\n 'size of largest component\\t6472 (100.00 %)\\n',\n 'no results_df\\n',\n '0.04120835804758651 0.9588412404995894\\n',\n '[[   21954   510802]\\n',\n ' [  511444 40842584]]\\n',\n 'chunglu LL: -2501150.645610145\\n',\n 'er LL: -29029220.18377528\\n',\n 'processing: socfb-UChicago30\\n',\n 'Network Properties:\\n',\n 'nodes, edges\\t\\t\\t6561, 208088\\n',\n 'directed?\\t\\t\\tFalse\\n',\n 'weighted?\\t\\t\\tFalse\\n',\n 'isolated nodes\\t\\t\\t0\\n',\n 'self-loops\\t\\t\\t0\\n',\n 'density\\t\\t\\t\\t0.009669\\n',\n 'clustering coefficient\\t\\t0.253007\\n',\n 'min/max/avg degree\\t\\t1, 1624, 63.431794\\n',\n 'degree assortativity\\t\\t0.019711\\n',\n 'number of connected components\\t1\\n',\n 'size of largest component\\t6561 (100.00 %)\\n',\n 'no results_df\\n',\n '0.040583791472838415 0.9594144531644231\\n',\n '[[   16890   399286]\\n',\n ' [  399268 42231277]]\\n',\n 'chunglu LL: -1990299.6898438595\\n',\n 'er LL: -29833165.55484836\\n',\n 'processing: socfb-Princeton12\\n',\n 'Network Properties:\\n',\n 'nodes, edges\\t\\t\\t6575, 293307\\n',\n 'directed?\\t\\t\\tFalse\\n',\n 'weighted?\\t\\t\\tFalse\\n',\n 'isolated nodes\\t\\t\\t0\\n',\n 'self-loops\\t\\t\\t0\\n',\n 'density\\t\\t\\t\\t0.013571\\n',\n 'clustering coefficient\\t\\t0.237203\\n',\n 'min/max/avg degree\\t\\t1, 628, 89.218859\\n',\n 'degree assortativity\\t\\t0.091775\\n',\n 'number of connected components\\t1\\n',\n 'size of largest component\\t6575 (100.00 %)\\n',\n 'no results_df\\n',\n '0.043878939132035714 0.9562671813569746\\n',\n '[[   25740   560874]\\n',\n ' [  562834 42081177]]\\n',\n 'chunglu LL: -2662556.9502702993\\n',\n 'er LL: -29960628.389884077\\n',\n 'processing: socfb-Carnegie49\\n',\n 'Network Properties:\\n',\n 'nodes, edges\\t\\t\\t6621, 249959\\n',\n 'directed?\\t\\t\\tFalse\\n',\n 'weighted?\\t\\t\\tFalse\\n',\n 'isolated nodes\\t\\t\\t0\\n',\n 'self-loops\\t\\t\\t0\\n',\n 'density\\t\\t\\t\\t0.011406\\n',\n 'clustering coefficient\\t\\t0.278772\\n',\n 'min/max/avg degree\\t\\t1, 840, 75.504909\\n',\n 'degree assortativity\\t\\t0.122529\\n',\n 'number of connected components\\t1\\n',\n 'size of largest component\\t6621 (100.00 %)\\n',\n 'no results_df\\n',\n '0.04884401041770851 0.9512741204876978\\n',\n '[[   24418   475500]\\n',\n ' [  476712 42861011]]\\n',\n 'chunglu LL: -2302907.6334199966\\n',\n 'er LL: -30381347.9340635\\n',\n 'processing: socfb-CMU\\n',\n 'Network Properties:\\n',\n 'nodes, edges\\t\\t\\t6621, 249959\\n',\n 'directed?\\t\\t\\tFalse\\n',\n 'weighted?\\t\\t\\tFalse\\n',\n 'isolated nodes\\t\\t\\t0\\n',\n 'self-loops\\t\\t\\t0\\n',\n 'density\\t\\t\\t\\t0.011406\\n',\n 'clustering coefficient\\t\\t0.278772\\n',\n 'min/max/avg degree\\t\\t1, 840, 75.504909\\n',\n 'degree assortativity\\t\\t0.122529\\n',\n 'number of connected components\\t1\\n',\n 'size of largest component\\t6621 (100.00 %)\\n',\n 'no results_df\\n',\n '0.04884401041770851 0.9512741204876978\\n',\n '[[   24418   475500]\\n',\n ' [  476712 42861011]]\\n',\n 'chunglu LL: -2302907.6334199966\\n',\n 'er LL: -30381347.9340635\\n',\n 'processing: socfb-Tufts18\\n',\n 'Network Properties:\\n',\n 'nodes, edges\\t\\t\\t6672, 249722\\n',\n 'directed?\\t\\t\\tFalse\\n',\n 'weighted?\\t\\t\\tFalse\\n',\n 'isolated nodes\\t\\t\\t0\\n',\n 'self-loops\\t\\t\\t0\\n',\n 'density\\t\\t\\t\\t0.011221\\n',\n 'clustering coefficient\\t\\t0.229428\\n',\n 'min/max/avg degree\\t\\t1, 827, 74.856715\\n',\n 'degree assortativity\\t\\t0.118216\\n',\n 'number of connected components\\t1\\n',\n 'size of largest component\\t6672 (100.00 %)\\n',\n 'no results_df\\n',\n '0.03828657467103419 0.9617164914191445\\n',\n '[[   19122   480322]\\n',\n ' [  480362 43535778]]\\n',\n 'chunglu LL: -2363191.04213277\\n',\n 'er LL: -30851226.862589024\\n',\n 'processing: socfb-UC64\\n',\n 'Network Properties:\\n',\n 'nodes, edges\\t\\t\\t6810, 155320\\n',\n 'directed?\\t\\t\\tFalse\\n',\n 'weighted?\\t\\t\\tFalse\\n',\n 'isolated nodes\\t\\t\\t0\\n',\n 'self-loops\\t\\t\\t0\\n',\n 'density\\t\\t\\t\\t0.006699\\n',\n 'clustering coefficient\\t\\t0.271171\\n',\n 'min/max/avg degree\\t\\t1, 660, 45.615272\\n',\n 'degree assortativity\\t\\t0.125405\\n',\n 'number of connected components\\t1\\n',\n 'size of largest component\\t6810 (100.00 %)\\n',\n 'no results_df\\n',\n '0.03221735771310842 0.9678870527835713\\n',\n '[[   10008   300632]\\n',\n ' [  301642 45763818]]\\n',\n 'chunglu LL: -1574179.0162801337\\n',\n 'er LL: -32140742.62806861\\n',\n 'processing: socfb-Vermont70\\n',\n 'Network Properties:\\n',\n 'nodes, edges\\t\\t\\t7322, 191220\\n',\n 'directed?\\t\\t\\tFalse\\n',\n 'weighted?\\t\\t\\tFalse\\n',\n 'isolated nodes\\t\\t\\t0\\n',\n 'self-loops\\t\\t\\t0\\n',\n 'density\\t\\t\\t\\t0.007134\\n',\n 'clustering coefficient\\t\\t0.229423\\n',\n 'min/max/avg degree\\t\\t1, 864, 52.231631\\n',\n 'degree assortativity\\t\\t0.077324\\n',\n 'number of connected components\\t1\\n',\n 'size of largest component\\t7322 (100.00 %)\\n',\n 'no results_df\\n',\n '0.026430289718648678 0.9736083550913838\\n',\n '[[   10108   372332]\\n',\n ' [  372892 52856352]]\\n',\n 'chunglu LL: -1980020.7813284341\\n',\n 'er LL: -37155712.386013485\\n',\n 'processing: socfb-Emory27\\n',\n 'Network Properties:\\n',\n 'nodes, edges\\t\\t\\t7449, 330008\\n',\n 'directed?\\t\\t\\tFalse\\n',\n 'weighted?\\t\\t\\tFalse\\n',\n 'isolated nodes\\t\\t\\t0\\n',\n 'self-loops\\t\\t\\t0\\n',\n 'density\\t\\t\\t\\t0.011896\\n',\n 'clustering coefficient\\t\\t0.256228\\n',\n 'min/max/avg degree\\t\\t1, 1095, 88.604645\\n',\n 'degree assortativity\\t\\t0.067056\\n',\n 'number of connected components\\t1\\n',\n 'size of largest component\\t7449 (100.00 %)\\n',\n 'no results_df\\n',\n '0.036786986982133764 0.9633085197375381\\n',\n '[[   24280   635736]\\n',\n ' [  637454 54190131]]\\n',\n 'chunglu LL: -3117876.7362824595\\n',\n 'er LL: -38455910.93583692\\n',\n 'processing: socfb-Dartmouth6\\n',\n 'Network Properties:\\n',\n 'nodes, edges\\t\\t\\t7677, 304065\\n',\n 'directed?\\t\\t\\tFalse\\n',\n 'weighted?\\t\\t\\tFalse\\n',\n 'isolated nodes\\t\\t\\t0\\n',\n 'self-loops\\t\\t\\t0\\n',\n 'density\\t\\t\\t\\t0.010320\\n',\n 'clustering coefficient\\t\\t0.243600\\n',\n 'min/max/avg degree\\t\\t1, 948, 79.214537\\n',\n 'degree assortativity\\t\\t0.044810\\n',\n 'number of connected components\\t1\\n',\n 'size of largest component\\t7677 (100.00 %)\\n',\n 'no results_df\\n',\n '0.038179336654991534 0.9619874328337683\\n',\n '[[   23218   584912]\\n',\n ' [  587580 57740619]]\\n',\n 'chunglu LL: -2882783.993088169\\n',\n 'er LL: -40846228.987996496\\n',\n 'processing: socfb-WashU32\\n',\n 'Network Properties:\\n',\n 'nodes, edges\\t\\t\\t7730, 367526\\n',\n 'directed?\\t\\t\\tFalse\\n',\n 'weighted?\\t\\t\\tFalse\\n',\n 'isolated nodes\\t\\t\\t0\\n',\n 'self-loops\\t\\t\\t0\\n',\n 'density\\t\\t\\t\\t0.012303\\n',\n 'clustering coefficient\\t\\t0.261745\\n',\n 'min/max/avg degree\\t\\t1, 1794, 95.090815\\n',\n 'degree assortativity\\t\\t0.044583\\n',\n 'number of connected components\\t1\\n',\n 'size of largest component\\t7730 (100.00 %)\\n',\n 'no results_df\\n',\n '0.04050597780837274 0.9595399287389623\\n',\n '[[   29774   705278]\\n',\n ' [  706112 58311736]]\\n',\n 'chunglu LL: -3448029.1579531864\\n',\n 'er LL: -41412196.13756945\\n',\n 'processing: socfb-Tulane29\\n',\n 'Network Properties:\\n',\n 'nodes, edges\\t\\t\\t7740, 283912\\n',\n 'directed?\\t\\t\\tFalse\\n',\n 'weighted?\\t\\t\\tFalse\\n',\n 'isolated nodes\\t\\t\\t0\\n',\n 'self-loops\\t\\t\\t0\\n',\n 'density\\t\\t\\t\\t0.009480\\n',\n 'clustering coefficient\\t\\t0.255320\\n',\n 'min/max/avg degree\\t\\t1, 1188, 73.362274\\n',\n 'degree assortativity\\t\\t0.098091\\n',\n 'number of connected components\\t1\\n',\n 'size of largest component\\t7740 (100.00 %)\\n',\n 'no results_df\\n',\n '0.033982360731494264 0.9660511203693278\\n',\n '[[   19296   548528]\\n',\n ' [  549088 58790688]]\\n',\n 'chunglu LL: -2762747.5765928193\\n',\n 'er LL: -41519419.0749358\\n',\n 'processing: socfb-Villanova62\\n',\n 'Network Properties:\\n',\n 'nodes, edges\\t\\t\\t7755, 314980\\n',\n 'directed?\\t\\t\\tFalse\\n',\n 'weighted?\\t\\t\\tFalse\\n',\n 'isolated nodes\\t\\t\\t0\\n',\n 'self-loops\\t\\t\\t0\\n',\n 'density\\t\\t\\t\\t0.010476\\n',\n 'clustering coefficient\\t\\t0.235524\\n',\n 'min/max/avg degree\\t\\t1, 1183, 81.232753\\n',\n 'degree assortativity\\t\\t0.061478\\n',\n 'number of connected components\\t1\\n',\n 'size of largest component\\t7755 (100.00 %)\\n',\n 'no results_df\\n',\n '0.033081465489872376 0.9669554628137963\\n',\n '[[   20840   609120]\\n',\n ' [  609824 58900241]]\\n',\n 'chunglu LL: -3067276.206872673\\n',\n 'er LL: -41680513.41117637\\n',\n 'processing: socfb-Vanderbilt48\\n',\n 'Network Properties:\\n',\n 'nodes, edges\\t\\t\\t8063, 427829\\n',\n 'directed?\\t\\t\\tFalse\\n',\n 'weighted?\\t\\t\\tFalse\\n',\n 'isolated nodes\\t\\t\\t0\\n',\n 'self-loops\\t\\t\\t0\\n',\n 'density\\t\\t\\t\\t0.013163\\n',\n 'clustering coefficient\\t\\t0.250049\\n',\n 'min/max/avg degree\\t\\t1, 2041, 106.121543\\n',\n 'degree assortativity\\t\\t0.042691\\n',\n 'number of connected components\\t1\\n',\n 'size of largest component\\t8063 (100.00 %)\\n',\n 'no results_df\\n',\n '0.04080602296712004 0.9591879672531244\\n',\n '[[   34916   820742]\\n',\n ' [  820616 63335695]]\\n',\n 'chunglu LL: -3974030.390092707\\n',\n 'er LL: -45057274.169281386\\n',\n 'processing: socfb-Yale4\\n',\n 'Network Properties:\\n',\n 'nodes, edges\\t\\t\\t8561, 405440\\n',\n 'directed?\\t\\t\\tFalse\\n',\n 'weighted?\\t\\t\\tFalse\\n',\n 'isolated nodes\\t\\t\\t0\\n',\n 'self-loops\\t\\t\\t0\\n',\n 'density\\t\\t\\t\\t0.011065\\n',\n 'clustering coefficient\\t\\t0.234664\\n',\n 'min/max/avg degree\\t\\t1, 2517, 94.717907\\n',\n 'degree assortativity\\t\\t0.018710\\n',\n 'number of connected components\\t1\\n',\n 'size of largest component\\t8561 (100.00 %)\\n',\n 'no results_df\\n',\n '0.03881955406471981 0.9611891569325156\\n',\n '[[   31478   779402]\\n',\n ...]"
     },
     "execution_count": 60,
     "metadata": {},
     "output_type": "execute_result"
    }
   ],
   "source": [
    "lines"
   ],
   "metadata": {
    "collapsed": false,
    "ExecuteTime": {
     "start_time": "2023-06-10T14:30:53.448378Z",
     "end_time": "2023-06-10T14:30:53.481031Z"
    }
   }
  },
  {
   "cell_type": "code",
   "execution_count": 61,
   "outputs": [
    {
     "ename": "AttributeError",
     "evalue": "'NoneType' object has no attribute 'group'",
     "output_type": "error",
     "traceback": [
      "\u001B[0;31m---------------------------------------------------------------------------\u001B[0m",
      "\u001B[0;31mAttributeError\u001B[0m                            Traceback (most recent call last)",
      "Cell \u001B[0;32mIn[61], line 1\u001B[0m\n\u001B[0;32m----> 1\u001B[0m \u001B[43mre\u001B[49m\u001B[38;5;241;43m.\u001B[39;49m\u001B[43mmatch\u001B[49m\u001B[43m(\u001B[49m\u001B[38;5;124;43m'\u001B[39;49m\u001B[38;5;124;43mnodes, edges.*?(\u001B[39;49m\u001B[38;5;124;43m\\\u001B[39;49m\u001B[38;5;124;43md*)\u001B[39;49m\u001B[38;5;124;43m\\\u001B[39;49m\u001B[38;5;124;43ms.*\u001B[39;49m\u001B[38;5;130;43;01m\\n\u001B[39;49;00m\u001B[38;5;124;43m'\u001B[39;49m\u001B[43m,\u001B[49m\u001B[43m \u001B[49m\u001B[43mlines\u001B[49m\u001B[43m[\u001B[49m\u001B[38;5;241;43m333\u001B[39;49m\u001B[43m]\u001B[49m\u001B[43m)\u001B[49m\u001B[38;5;241;43m.\u001B[39;49m\u001B[43mgroup\u001B[49m(\u001B[38;5;241m1\u001B[39m)\n",
      "\u001B[0;31mAttributeError\u001B[0m: 'NoneType' object has no attribute 'group'"
     ]
    }
   ],
   "source": [
    "re.match('nodes, edges.*?(\\d*)\\s.*\\n', lines[333]).group(1)"
   ],
   "metadata": {
    "collapsed": false,
    "ExecuteTime": {
     "start_time": "2023-06-10T14:30:27.251211Z",
     "end_time": "2023-06-10T14:30:27.282809Z"
    }
   }
  },
  {
   "cell_type": "code",
   "execution_count": 62,
   "outputs": [
    {
     "data": {
      "text/plain": "'0.06674303763680042 0.933140959935826\\n'"
     },
     "execution_count": 62,
     "metadata": {},
     "output_type": "execute_result"
    }
   ],
   "source": [
    "lines[333]"
   ],
   "metadata": {
    "collapsed": false,
    "ExecuteTime": {
     "start_time": "2023-06-10T14:30:53.915641Z",
     "end_time": "2023-06-10T14:30:53.945640Z"
    }
   }
  },
  {
   "cell_type": "code",
   "execution_count": 63,
   "outputs": [
    {
     "ename": "AttributeError",
     "evalue": "'NoneType' object has no attribute 'group'",
     "output_type": "error",
     "traceback": [
      "\u001B[0;31m---------------------------------------------------------------------------\u001B[0m",
      "\u001B[0;31mAttributeError\u001B[0m                            Traceback (most recent call last)",
      "Cell \u001B[0;32mIn[63], line 1\u001B[0m\n\u001B[0;32m----> 1\u001B[0m \u001B[43mre\u001B[49m\u001B[38;5;241;43m.\u001B[39;49m\u001B[43mmatch\u001B[49m\u001B[43m(\u001B[49m\u001B[38;5;124;43m'\u001B[39;49m\u001B[38;5;124;43mprocessing \u001B[39;49m\u001B[38;5;124;43m'\u001B[39;49m\u001B[43m,\u001B[49m\u001B[43m \u001B[49m\u001B[43mlines\u001B[49m\u001B[43m[\u001B[49m\u001B[38;5;241;43m333\u001B[39;49m\u001B[43m]\u001B[49m\u001B[43m)\u001B[49m\u001B[38;5;241;43m.\u001B[39;49m\u001B[43mgroup\u001B[49m(\u001B[38;5;241m1\u001B[39m)\n",
      "\u001B[0;31mAttributeError\u001B[0m: 'NoneType' object has no attribute 'group'"
     ]
    }
   ],
   "source": [
    "re.match('processing ', lines[333]).group(1)"
   ],
   "metadata": {
    "collapsed": false,
    "ExecuteTime": {
     "start_time": "2023-06-08T11:37:47.256514Z",
     "end_time": "2023-06-08T11:37:47.303735Z"
    }
   }
  },
  {
   "cell_type": "code",
   "execution_count": 64,
   "outputs": [
    {
     "data": {
      "text/plain": "['0.06674303763680042 0.933140959935826\\n',\n '[[  12002  167822]\\n',\n ' [ 167510 8179066]]\\n',\n 'chunglu LL: -746717.0105372074\\n',\n 'er LL: -5908026.13055895\\n',\n 'processing: socfb-Smith60\\n',\n 'Network Properties:\\n',\n 'nodes, edges\\t\\t\\t2970, 97133\\n',\n 'directed?\\t\\t\\tFalse\\n',\n 'weighted?\\t\\t\\tFalse\\n',\n 'isolated nodes\\t\\t\\t0\\n',\n 'self-loops\\t\\t\\t0\\n',\n 'density\\t\\t\\t\\t0.022031\\n',\n 'clustering coefficient\\t\\t0.283450\\n',\n 'min/max/avg degree\\t\\t1, 349, 65.409428\\n',\n 'degree assortativity\\t\\t0.043831\\n',\n 'number of connected components\\t1\\n']"
     },
     "execution_count": 64,
     "metadata": {},
     "output_type": "execute_result"
    }
   ],
   "source": [
    "lines[333:350]"
   ],
   "metadata": {
    "collapsed": false,
    "ExecuteTime": {
     "start_time": "2023-06-10T14:30:54.454646Z",
     "end_time": "2023-06-10T14:30:54.454819Z"
    }
   }
  },
  {
   "cell_type": "code",
   "execution_count": 67,
   "outputs": [],
   "source": [
    "outs = [[1,2,3]]\n",
    "matches = {\n",
    "    'name': 'processing: (.*)\\n',\n",
    "    'nodes': 'nodes, edges\\t\\t\\t(\\d*),.*',\n",
    "    'percent': '(0[.]\\d*).*',\n",
    "    'll': 'chunglu LL: (.*)'\n",
    "}\n",
    "for line in lines:\n",
    "    if len(outs[-1]) == 4:\n",
    "        match = re.match(matches['name'], line)\n",
    "        if match:\n",
    "            outs.append([match.group(1)])\n",
    "    elif len(outs[-1]) == 1:\n",
    "        match = re.match(matches['nodes'], line)\n",
    "        if match:\n",
    "            outs[-1].append(match.group(1))\n",
    "    elif len(outs[-1]) == 2:\n",
    "        match = re.match(matches['percent'], line)\n",
    "        if match:\n",
    "            outs[-1].append(match.group(1))\n",
    "    elif len(outs[-1]) == 3:\n",
    "        match = re.match(matches['ll'], line)\n",
    "        if match:\n",
    "            outs[-1].append(match.group(1))\n",
    "\n",
    "\n",
    "\n",
    "outs = outs[1:]\n"
   ],
   "metadata": {
    "collapsed": false,
    "ExecuteTime": {
     "start_time": "2023-06-10T14:31:16.080674Z",
     "end_time": "2023-06-10T14:31:16.086390Z"
    }
   }
  },
  {
   "cell_type": "code",
   "execution_count": 68,
   "outputs": [
    {
     "data": {
      "text/plain": "[['socfb-Reed98', '962', '0.13337231554327025', '-128476.06068462232'],\n ['socfb-Haverford76', '1446', '0.13724009464834114', '-388035.7785495379'],\n ['socfb-Simmons81', '1510', '0.07834101382488479', '-256902.68859759285'],\n ['socfb-Swarthmore42', '1657', '0.12041147275139642', '-423188.28749773686'],\n ['socfb-Amherst41', '2235', '0.09493810057831431', '-670400.0038853943'],\n ['socfb-Bowdoin47', '2250', '0.08362761595525324', '-643984.9938777979'],\n ['socfb-Hamilton46', '2312', '0.09073272955505068', '-722084.9972419947'],\n ['socfb-Trinity100', '2613', '0.07682417229186757', '-865351.5644646822'],\n ['socfb-USFCA72', '2672', '0.06641223714057998', '-549101.4464208026'],\n ['socfb-Williams40', '2788', '0.07483294242598575', '-890662.6224498167'],\n ['socfb-Oberlin44', '2920', '0.06674303763680042', '-746717.0105372074'],\n ['socfb-Smith60', '2970', '0.05485262475162921', '-823432.0244003682'],\n ['socfb-Wellesley22', '2970', '0.06832527213142393', '-783543.7416416925'],\n ['socfb-Middlebury45', '3069', '0.06834286998322726', '-1001305.7990800425'],\n ['socfb-Vassar85', '3068', '0.06576816240212821', '-977879.6576266361'],\n ['socfb-Pepperdine86', '3440', '0.07861029058637001', '-1192736.33456043'],\n ['socfb-Colgate88', '3482', '0.059764065452809864', '-1286637.7962711249'],\n ['socfb-Santa74', '3578', '0.06887121326945508', '-1236282.4648624724'],\n ['socfb-Wesleyan43', '3591', '0.05579060231537158', '-1168414.194701484'],\n ['socfb-Mich67', '3745', '0.0532594229618686', '-748251.6179434882'],\n ['socfb-Bucknell39', '3824', '0.050949560312974075', '-1370733.0211982995'],\n ['socfb-Brandeis99', '3887', '0.06330282565552736', '-1178036.283074172'],\n ['socfb-Howard90', '4047', '0.08507200390529655', '-1598213.6821604425'],\n ['socfb-Rice31', '4083', '0.06575914644043587', '-1525387.7128453227'],\n ['socfb-Rochester38', '4561', '0.04709949629189049', '-1454559.0251132443'],\n ['socfb-Lehigh96', '5073', '0.044069454387787', '-1798071.6014698413'],\n ['socfb-JohnsHopkins55',\n  '5157',\n  '0.05338421628111399',\n  '-1651774.8718779474'],\n ['socfb-Wake73', '5366', '0.05782166727557972', '-2393745.6294861343'],\n ['socfb-American75', '6370', '0.03732070166410909', '-2079290.8567415322'],\n ['socfb-MIT', '6402', '0.053325637861720336', '-2252103.036371093'],\n ['socfb-MIT8', '6402', '0.053325637861720336', '-2252103.036371093'],\n ['socfb-William77', '6472', '0.04120835804758651', '-2501150.645610145'],\n ['socfb-UChicago30', '6561', '0.040583791472838415', '-1990299.6898438595'],\n ['socfb-Princeton12', '6575', '0.043878939132035714', '-2662556.9502702993'],\n ['socfb-Carnegie49', '6621', '0.04884401041770851', '-2302907.6334199966'],\n ['socfb-CMU', '6621', '0.04884401041770851', '-2302907.6334199966'],\n ['socfb-Tufts18', '6672', '0.03828657467103419', '-2363191.04213277'],\n ['socfb-UC64', '6810', '0.03221735771310842', '-1574179.0162801337'],\n ['socfb-Vermont70', '7322', '0.026430289718648678', '-1980020.7813284341'],\n ['socfb-Emory27', '7449', '0.036786986982133764', '-3117876.7362824595'],\n ['socfb-Dartmouth6', '7677', '0.038179336654991534', '-2882783.993088169'],\n ['socfb-WashU32', '7730', '0.04050597780837274', '-3448029.1579531864'],\n ['socfb-Tulane29', '7740', '0.033982360731494264', '-2762747.5765928193'],\n ['socfb-Villanova62', '7755', '0.033081465489872376', '-3067276.206872673'],\n ['socfb-Vanderbilt48', '8063', '0.04080602296712004', '-3974030.390092707'],\n ['socfb-Yale4', '8561', '0.03881955406471981', '-3826654.502976627'],\n ['socfb-Brown11', '8586', '0.034081540834133034', '-3722230.9721432915'],\n ['socfb-UCSC68', '8979', '0.019285059088601734', '-2449708.6808548532'],\n ['socfb-Maine59', '9065', '0.020962404160414397', '-2623508.1798447664'],\n ['socfb-Georgetown15', '9388', '0.03149295496676605', '-4202825.037388055'],\n ['socfb-Duke14', '9885', '0.03536668924268961', '-4872131.541463995'],\n ['socfb-Bingham82', '10001', '0.02247225069717712', '-3807933.0656454046'],\n ['socfb-Northwestern25',\n  '10537',\n  '0.030697209605216273',\n  '-4866271.340427984'],\n ['socfb-Mississippi66', '10519', '0.04428148172398553', '-5715958.732404533'],\n ['socfb-Cal65', '11243', '0.019515818713783172', '-3828671.7969500246'],\n ['socfb-BC17', '11498', '0.024162099223551784', '-5085227.916695785'],\n ['socfb-Stanford3', '11586']]"
     },
     "execution_count": 68,
     "metadata": {},
     "output_type": "execute_result"
    }
   ],
   "source": [
    "outs"
   ],
   "metadata": {
    "collapsed": false,
    "ExecuteTime": {
     "start_time": "2023-06-10T14:31:16.835249Z",
     "end_time": "2023-06-10T14:31:16.854799Z"
    }
   }
  },
  {
   "cell_type": "code",
   "execution_count": 69,
   "outputs": [],
   "source": [
    "import pandas as pd\n",
    "df = pd.DataFrame(data=outs)"
   ],
   "metadata": {
    "collapsed": false,
    "ExecuteTime": {
     "start_time": "2023-06-10T14:31:18.696443Z",
     "end_time": "2023-06-10T14:31:18.712122Z"
    }
   }
  },
  {
   "cell_type": "code",
   "execution_count": 70,
   "outputs": [],
   "source": [
    "df.columns = ['name', 'nodes', 'pec', 'll']\n",
    "df = df.iloc[:-1]"
   ],
   "metadata": {
    "collapsed": false,
    "ExecuteTime": {
     "start_time": "2023-06-10T14:31:22.262750Z",
     "end_time": "2023-06-10T14:31:22.275191Z"
    }
   }
  },
  {
   "cell_type": "code",
   "execution_count": 71,
   "outputs": [],
   "source": [
    "df.nodes = df.nodes.apply(lambda x: int(x))\n",
    "df['pec'] = df['pec'].apply(lambda x: float(x))\n",
    "df['ll'] = df['ll'].apply(lambda x: float(x))\n"
   ],
   "metadata": {
    "collapsed": false,
    "ExecuteTime": {
     "start_time": "2023-06-10T14:31:47.338207Z",
     "end_time": "2023-06-10T14:31:47.391233Z"
    }
   }
  },
  {
   "cell_type": "code",
   "execution_count": 72,
   "outputs": [
    {
     "data": {
      "text/plain": "<AxesSubplot:xlabel='nodes'>"
     },
     "execution_count": 72,
     "metadata": {},
     "output_type": "execute_result"
    },
    {
     "data": {
      "text/plain": "<Figure size 432x288 with 1 Axes>",
      "image/png": "[encoded data removed]"
     },
     "metadata": {},
     "output_type": "display_data"
    }
   ],
   "source": [
    "df.plot(x='nodes', y='pec')"
   ],
   "metadata": {
    "collapsed": false,
    "ExecuteTime": {
     "start_time": "2023-06-10T14:31:47.619373Z",
     "end_time": "2023-06-10T14:31:47.792217Z"
    }
   }
  },
  {
   "cell_type": "code",
   "execution_count": 73,
   "outputs": [
    {
     "data": {
      "text/plain": "['nodes, edges\\t\\t\\t11498, 486961\\n',\n 'directed?\\t\\t\\tFalse\\n',\n 'weighted?\\t\\t\\tFalse\\n',\n 'isolated nodes\\t\\t\\t0\\n',\n 'self-loops\\t\\t\\t0\\n',\n 'density\\t\\t\\t\\t0.007367\\n',\n 'clustering coefficient\\t\\t0.209972\\n',\n 'min/max/avg degree\\t\\t1, 1377, 84.703601\\n',\n 'degree assortativity\\t\\t0.076925\\n',\n 'number of connected components\\t1\\n',\n 'size of largest component\\t11498 (100.00 %)\\n',\n 'no results_df\\n',\n '0.024162099223551784 0.9758377023022566\\n',\n '[[    23532    950390]\\n',\n ' [   950382 130279700]]\\n',\n 'chunglu LL: -5085227.916695785\\n',\n 'er LL: -91628862.82503635\\n',\n 'processing: socfb-Stanford3\\n',\n 'Network Properties:\\n',\n 'nodes, edges\\t\\t\\t11586, 568309\\n',\n 'directed?\\t\\t\\tFalse\\n',\n 'weighted?\\t\\t\\tFalse\\n',\n 'isolated nodes\\t\\t\\t0\\n',\n 'self-loops\\t\\t\\t0\\n',\n 'density\\t\\t\\t\\t0.008468\\n',\n 'clustering coefficient\\t\\t0.241639\\n',\n 'min/max/avg degree\\t\\t1, 1172, 98.102710\\n',\n 'degree assortativity\\t\\t0.102033\\n',\n 'number of connected components\\t1\\n',\n 'size of largest component\\t11586 (100.00 %)\\n']"
     },
     "execution_count": 73,
     "metadata": {},
     "output_type": "execute_result"
    }
   ],
   "source": [
    "lines[-30:]"
   ],
   "metadata": {
    "collapsed": false,
    "ExecuteTime": {
     "start_time": "2023-06-10T14:31:49.191991Z",
     "end_time": "2023-06-10T14:31:49.229880Z"
    }
   }
  },
  {
   "cell_type": "code",
   "execution_count": 74,
   "outputs": [
    {
     "data": {
      "text/plain": "1206"
     },
     "execution_count": 74,
     "metadata": {},
     "output_type": "execute_result"
    }
   ],
   "source": [
    "len(lines)"
   ],
   "metadata": {
    "collapsed": false,
    "ExecuteTime": {
     "start_time": "2023-06-10T14:31:50.869553Z",
     "end_time": "2023-06-10T14:31:50.890685Z"
    }
   }
  },
  {
   "cell_type": "code",
   "execution_count": 75,
   "outputs": [
    {
     "data": {
      "text/plain": "                    name  nodes       pec            ll\n0           socfb-Reed98    962  0.133372 -1.284761e+05\n1      socfb-Haverford76   1446  0.137240 -3.880358e+05\n2        socfb-Simmons81   1510  0.078341 -2.569027e+05\n3     socfb-Swarthmore42   1657  0.120411 -4.231883e+05\n4        socfb-Amherst41   2235  0.094938 -6.704000e+05\n5        socfb-Bowdoin47   2250  0.083628 -6.439850e+05\n6       socfb-Hamilton46   2312  0.090733 -7.220850e+05\n7       socfb-Trinity100   2613  0.076824 -8.653516e+05\n8          socfb-USFCA72   2672  0.066412 -5.491014e+05\n9       socfb-Williams40   2788  0.074833 -8.906626e+05\n10       socfb-Oberlin44   2920  0.066743 -7.467170e+05\n11         socfb-Smith60   2970  0.054853 -8.234320e+05\n12     socfb-Wellesley22   2970  0.068325 -7.835437e+05\n13    socfb-Middlebury45   3069  0.068343 -1.001306e+06\n14        socfb-Vassar85   3068  0.065768 -9.778797e+05\n15    socfb-Pepperdine86   3440  0.078610 -1.192736e+06\n16       socfb-Colgate88   3482  0.059764 -1.286638e+06\n17         socfb-Santa74   3578  0.068871 -1.236282e+06\n18      socfb-Wesleyan43   3591  0.055791 -1.168414e+06\n19          socfb-Mich67   3745  0.053259 -7.482516e+05\n20      socfb-Bucknell39   3824  0.050950 -1.370733e+06\n21      socfb-Brandeis99   3887  0.063303 -1.178036e+06\n22        socfb-Howard90   4047  0.085072 -1.598214e+06\n23          socfb-Rice31   4083  0.065759 -1.525388e+06\n24     socfb-Rochester38   4561  0.047099 -1.454559e+06\n25        socfb-Lehigh96   5073  0.044069 -1.798072e+06\n26  socfb-JohnsHopkins55   5157  0.053384 -1.651775e+06\n27          socfb-Wake73   5366  0.057822 -2.393746e+06\n28      socfb-American75   6370  0.037321 -2.079291e+06\n29             socfb-MIT   6402  0.053326 -2.252103e+06\n30            socfb-MIT8   6402  0.053326 -2.252103e+06\n31       socfb-William77   6472  0.041208 -2.501151e+06\n32      socfb-UChicago30   6561  0.040584 -1.990300e+06\n33     socfb-Princeton12   6575  0.043879 -2.662557e+06\n34      socfb-Carnegie49   6621  0.048844 -2.302908e+06\n35             socfb-CMU   6621  0.048844 -2.302908e+06\n36         socfb-Tufts18   6672  0.038287 -2.363191e+06\n37            socfb-UC64   6810  0.032217 -1.574179e+06\n38       socfb-Vermont70   7322  0.026430 -1.980021e+06\n39         socfb-Emory27   7449  0.036787 -3.117877e+06\n40      socfb-Dartmouth6   7677  0.038179 -2.882784e+06\n41         socfb-WashU32   7730  0.040506 -3.448029e+06\n42        socfb-Tulane29   7740  0.033982 -2.762748e+06\n43     socfb-Villanova62   7755  0.033081 -3.067276e+06\n44    socfb-Vanderbilt48   8063  0.040806 -3.974030e+06\n45           socfb-Yale4   8561  0.038820 -3.826655e+06\n46         socfb-Brown11   8586  0.034082 -3.722231e+06\n47          socfb-UCSC68   8979  0.019285 -2.449709e+06\n48         socfb-Maine59   9065  0.020962 -2.623508e+06\n49    socfb-Georgetown15   9388  0.031493 -4.202825e+06\n50          socfb-Duke14   9885  0.035367 -4.872132e+06\n51       socfb-Bingham82  10001  0.022472 -3.807933e+06\n52  socfb-Northwestern25  10537  0.030697 -4.866271e+06\n53   socfb-Mississippi66  10519  0.044281 -5.715959e+06\n54           socfb-Cal65  11243  0.019516 -3.828672e+06\n55            socfb-BC17  11498  0.024162 -5.085228e+06",
      "text/html": "<div>\n<style scoped>\n    .dataframe tbody tr th:only-of-type {\n        vertical-align: middle;\n    }\n\n    .dataframe tbody tr th {\n        vertical-align: top;\n    }\n\n    .dataframe thead th {\n        text-align: right;\n    }\n</style>\n<table border=\"1\" class=\"dataframe\">\n  <thead>\n    <tr style=\"text-align: right;\">\n      <th></th>\n      <th>name</th>\n      <th>nodes</th>\n      <th>pec</th>\n      <th>ll</th>\n    </tr>\n  </thead>\n  <tbody>\n    <tr>\n      <th>0</th>\n      <td>socfb-Reed98</td>\n      <td>962</td>\n      <td>0.133372</td>\n      <td>-1.284761e+05</td>\n    </tr>\n    <tr>\n      <th>1</th>\n      <td>socfb-Haverford76</td>\n      <td>1446</td>\n      <td>0.137240</td>\n      <td>-3.880358e+05</td>\n    </tr>\n    <tr>\n      <th>2</th>\n      <td>socfb-Simmons81</td>\n      <td>1510</td>\n      <td>0.078341</td>\n      <td>-2.569027e+05</td>\n    </tr>\n    <tr>\n      <th>3</th>\n      <td>socfb-Swarthmore42</td>\n      <td>1657</td>\n      <td>0.120411</td>\n      <td>-4.231883e+05</td>\n    </tr>\n    <tr>\n      <th>4</th>\n      <td>socfb-Amherst41</td>\n      <td>2235</td>\n      <td>0.094938</td>\n      <td>-6.704000e+05</td>\n    </tr>\n    <tr>\n      <th>5</th>\n      <td>socfb-Bowdoin47</td>\n      <td>2250</td>\n      <td>0.083628</td>\n      <td>-6.439850e+05</td>\n    </tr>\n    <tr>\n      <th>6</th>\n      <td>socfb-Hamilton46</td>\n      <td>2312</td>\n      <td>0.090733</td>\n      <td>-7.220850e+05</td>\n    </tr>\n    <tr>\n      <th>7</th>\n      <td>socfb-Trinity100</td>\n      <td>2613</td>\n      <td>0.076824</td>\n      <td>-8.653516e+05</td>\n    </tr>\n    <tr>\n      <th>8</th>\n      <td>socfb-USFCA72</td>\n      <td>2672</td>\n      <td>0.066412</td>\n      <td>-5.491014e+05</td>\n    </tr>\n    <tr>\n      <th>9</th>\n      <td>socfb-Williams40</td>\n      <td>2788</td>\n      <td>0.074833</td>\n      <td>-8.906626e+05</td>\n    </tr>\n    <tr>\n      <th>10</th>\n      <td>socfb-Oberlin44</td>\n      <td>2920</td>\n      <td>0.066743</td>\n      <td>-7.467170e+05</td>\n    </tr>\n    <tr>\n      <th>11</th>\n      <td>socfb-Smith60</td>\n      <td>2970</td>\n      <td>0.054853</td>\n      <td>-8.234320e+05</td>\n    </tr>\n    <tr>\n      <th>12</th>\n      <td>socfb-Wellesley22</td>\n      <td>2970</td>\n      <td>0.068325</td>\n      <td>-7.835437e+05</td>\n    </tr>\n    <tr>\n      <th>13</th>\n      <td>socfb-Middlebury45</td>\n      <td>3069</td>\n      <td>0.068343</td>\n      <td>-1.001306e+06</td>\n    </tr>\n    <tr>\n      <th>14</th>\n      <td>socfb-Vassar85</td>\n      <td>3068</td>\n      <td>0.065768</td>\n      <td>-9.778797e+05</td>\n    </tr>\n    <tr>\n      <th>15</th>\n      <td>socfb-Pepperdine86</td>\n      <td>3440</td>\n      <td>0.078610</td>\n      <td>-1.192736e+06</td>\n    </tr>\n    <tr>\n      <th>16</th>\n      <td>socfb-Colgate88</td>\n      <td>3482</td>\n      <td>0.059764</td>\n      <td>-1.286638e+06</td>\n    </tr>\n    <tr>\n      <th>17</th>\n      <td>socfb-Santa74</td>\n      <td>3578</td>\n      <td>0.068871</td>\n      <td>-1.236282e+06</td>\n    </tr>\n    <tr>\n      <th>18</th>\n      <td>socfb-Wesleyan43</td>\n      <td>3591</td>\n      <td>0.055791</td>\n      <td>-1.168414e+06</td>\n    </tr>\n    <tr>\n      <th>19</th>\n      <td>socfb-Mich67</td>\n      <td>3745</td>\n      <td>0.053259</td>\n      <td>-7.482516e+05</td>\n    </tr>\n    <tr>\n      <th>20</th>\n      <td>socfb-Bucknell39</td>\n      <td>3824</td>\n      <td>0.050950</td>\n      <td>-1.370733e+06</td>\n    </tr>\n    <tr>\n      <th>21</th>\n      <td>socfb-Brandeis99</td>\n      <td>3887</td>\n      <td>0.063303</td>\n      <td>-1.178036e+06</td>\n    </tr>\n    <tr>\n      <th>22</th>\n      <td>socfb-Howard90</td>\n      <td>4047</td>\n      <td>0.085072</td>\n      <td>-1.598214e+06</td>\n    </tr>\n    <tr>\n      <th>23</th>\n      <td>socfb-Rice31</td>\n      <td>4083</td>\n      <td>0.065759</td>\n      <td>-1.525388e+06</td>\n    </tr>\n    <tr>\n      <th>24</th>\n      <td>socfb-Rochester38</td>\n      <td>4561</td>\n      <td>0.047099</td>\n      <td>-1.454559e+06</td>\n    </tr>\n    <tr>\n      <th>25</th>\n      <td>socfb-Lehigh96</td>\n      <td>5073</td>\n      <td>0.044069</td>\n      <td>-1.798072e+06</td>\n    </tr>\n    <tr>\n      <th>26</th>\n      <td>socfb-JohnsHopkins55</td>\n      <td>5157</td>\n      <td>0.053384</td>\n      <td>-1.651775e+06</td>\n    </tr>\n    <tr>\n      <th>27</th>\n      <td>socfb-Wake73</td>\n      <td>5366</td>\n      <td>0.057822</td>\n      <td>-2.393746e+06</td>\n    </tr>\n    <tr>\n      <th>28</th>\n      <td>socfb-American75</td>\n      <td>6370</td>\n      <td>0.037321</td>\n      <td>-2.079291e+06</td>\n    </tr>\n    <tr>\n      <th>29</th>\n      <td>socfb-MIT</td>\n      <td>6402</td>\n      <td>0.053326</td>\n      <td>-2.252103e+06</td>\n    </tr>\n    <tr>\n      <th>30</th>\n      <td>socfb-MIT8</td>\n      <td>6402</td>\n      <td>0.053326</td>\n      <td>-2.252103e+06</td>\n    </tr>\n    <tr>\n      <th>31</th>\n      <td>socfb-William77</td>\n      <td>6472</td>\n      <td>0.041208</td>\n      <td>-2.501151e+06</td>\n    </tr>\n    <tr>\n      <th>32</th>\n      <td>socfb-UChicago30</td>\n      <td>6561</td>\n      <td>0.040584</td>\n      <td>-1.990300e+06</td>\n    </tr>\n    <tr>\n      <th>33</th>\n      <td>socfb-Princeton12</td>\n      <td>6575</td>\n      <td>0.043879</td>\n      <td>-2.662557e+06</td>\n    </tr>\n    <tr>\n      <th>34</th>\n      <td>socfb-Carnegie49</td>\n      <td>6621</td>\n      <td>0.048844</td>\n      <td>-2.302908e+06</td>\n    </tr>\n    <tr>\n      <th>35</th>\n      <td>socfb-CMU</td>\n      <td>6621</td>\n      <td>0.048844</td>\n      <td>-2.302908e+06</td>\n    </tr>\n    <tr>\n      <th>36</th>\n      <td>socfb-Tufts18</td>\n      <td>6672</td>\n      <td>0.038287</td>\n      <td>-2.363191e+06</td>\n    </tr>\n    <tr>\n      <th>37</th>\n      <td>socfb-UC64</td>\n      <td>6810</td>\n      <td>0.032217</td>\n      <td>-1.574179e+06</td>\n    </tr>\n    <tr>\n      <th>38</th>\n      <td>socfb-Vermont70</td>\n      <td>7322</td>\n      <td>0.026430</td>\n      <td>-1.980021e+06</td>\n    </tr>\n    <tr>\n      <th>39</th>\n      <td>socfb-Emory27</td>\n      <td>7449</td>\n      <td>0.036787</td>\n      <td>-3.117877e+06</td>\n    </tr>\n    <tr>\n      <th>40</th>\n      <td>socfb-Dartmouth6</td>\n      <td>7677</td>\n      <td>0.038179</td>\n      <td>-2.882784e+06</td>\n    </tr>\n    <tr>\n      <th>41</th>\n      <td>socfb-WashU32</td>\n      <td>7730</td>\n      <td>0.040506</td>\n      <td>-3.448029e+06</td>\n    </tr>\n    <tr>\n      <th>42</th>\n      <td>socfb-Tulane29</td>\n      <td>7740</td>\n      <td>0.033982</td>\n      <td>-2.762748e+06</td>\n    </tr>\n    <tr>\n      <th>43</th>\n      <td>socfb-Villanova62</td>\n      <td>7755</td>\n      <td>0.033081</td>\n      <td>-3.067276e+06</td>\n    </tr>\n    <tr>\n      <th>44</th>\n      <td>socfb-Vanderbilt48</td>\n      <td>8063</td>\n      <td>0.040806</td>\n      <td>-3.974030e+06</td>\n    </tr>\n    <tr>\n      <th>45</th>\n      <td>socfb-Yale4</td>\n      <td>8561</td>\n      <td>0.038820</td>\n      <td>-3.826655e+06</td>\n    </tr>\n    <tr>\n      <th>46</th>\n      <td>socfb-Brown11</td>\n      <td>8586</td>\n      <td>0.034082</td>\n      <td>-3.722231e+06</td>\n    </tr>\n    <tr>\n      <th>47</th>\n      <td>socfb-UCSC68</td>\n      <td>8979</td>\n      <td>0.019285</td>\n      <td>-2.449709e+06</td>\n    </tr>\n    <tr>\n      <th>48</th>\n      <td>socfb-Maine59</td>\n      <td>9065</td>\n      <td>0.020962</td>\n      <td>-2.623508e+06</td>\n    </tr>\n    <tr>\n      <th>49</th>\n      <td>socfb-Georgetown15</td>\n      <td>9388</td>\n      <td>0.031493</td>\n      <td>-4.202825e+06</td>\n    </tr>\n    <tr>\n      <th>50</th>\n      <td>socfb-Duke14</td>\n      <td>9885</td>\n      <td>0.035367</td>\n      <td>-4.872132e+06</td>\n    </tr>\n    <tr>\n      <th>51</th>\n      <td>socfb-Bingham82</td>\n      <td>10001</td>\n      <td>0.022472</td>\n      <td>-3.807933e+06</td>\n    </tr>\n    <tr>\n      <th>52</th>\n      <td>socfb-Northwestern25</td>\n      <td>10537</td>\n      <td>0.030697</td>\n      <td>-4.866271e+06</td>\n    </tr>\n    <tr>\n      <th>53</th>\n      <td>socfb-Mississippi66</td>\n      <td>10519</td>\n      <td>0.044281</td>\n      <td>-5.715959e+06</td>\n    </tr>\n    <tr>\n      <th>54</th>\n      <td>socfb-Cal65</td>\n      <td>11243</td>\n      <td>0.019516</td>\n      <td>-3.828672e+06</td>\n    </tr>\n    <tr>\n      <th>55</th>\n      <td>socfb-BC17</td>\n      <td>11498</td>\n      <td>0.024162</td>\n      <td>-5.085228e+06</td>\n    </tr>\n  </tbody>\n</table>\n</div>"
     },
     "execution_count": 75,
     "metadata": {},
     "output_type": "execute_result"
    }
   ],
   "source": [
    "df"
   ],
   "metadata": {
    "collapsed": false,
    "ExecuteTime": {
     "start_time": "2023-06-10T14:31:51.654780Z",
     "end_time": "2023-06-10T14:31:51.668550Z"
    }
   }
  },
  {
   "cell_type": "code",
   "execution_count": 76,
   "outputs": [],
   "source": [
    "with open('/cluster/home/bdayan/girgs/benji_src/mcmc_LLs_with_e.out') as file:\n",
    "    lines = file.readlines()\n",
    "\n",
    "outs = [[1,2,3]]\n",
    "matches = {\n",
    "    'name': 'socfb-(.*).pkl\\n',\n",
    "    'nodes': 'nodes, edges\\t\\t\\t(\\d*),.*',\n",
    "    'll': 'final LL: (.*)',\n",
    "    'percent': 'MC pec, pfew after: (0[.]\\d*).*'\n",
    "}\n",
    "for line in lines:\n",
    "    if len(outs[-1]) == 4:\n",
    "        match = re.match(matches['name'], line)\n",
    "        if match:\n",
    "            outs.append([match.group(1)])\n",
    "    elif len(outs[-1]) == 1:\n",
    "        match = re.match(matches['nodes'], line)\n",
    "        if match:\n",
    "            outs[-1].append(match.group(1))\n",
    "    elif len(outs[-1]) == 2:\n",
    "        match = re.match(matches['ll'], line)\n",
    "        if match:\n",
    "            outs[-1].append(match.group(1))\n",
    "    elif len(outs[-1]) == 3:\n",
    "        match = re.match(matches['percent'], line)\n",
    "        if match:\n",
    "            outs[-1].append(match.group(1))\n",
    "\n",
    "\n",
    "outs = outs[1:]\n"
   ],
   "metadata": {
    "collapsed": false,
    "ExecuteTime": {
     "start_time": "2023-06-10T14:55:33.983242Z",
     "end_time": "2023-06-10T14:55:33.983392Z"
    }
   }
  },
  {
   "cell_type": "code",
   "execution_count": 77,
   "outputs": [
    {
     "data": {
      "text/plain": "[['Amherst41-1d', '2235', '-593193.4932570318', '0.19930954108670318'],\n ['Amherst41-2d', '2235', '-612652.4857207256', '0.19866086153440202'],\n ['Amherst41-3d', '2235', '-645270.7351400192', '0.18165226378169183'],\n ['Bowdoin47-1d', '2250', '-606876.1870694098', '0.17004005403739958'],\n ['Bowdoin47-2d', '2250', '-592629.3702927303', '0.18049202474344087'],\n ['Bowdoin47-3d', '2250', '-625639.0911339273', '0.16676936932666556'],\n ['Caltech36-1d', '762', '-91639.30641510898', '0.27103477268632514'],\n ['Caltech36-2d', '762', '-95120.31047722745', '0.2587832562608852'],\n ['Caltech36-3d', '762', '-101373.00824553912', '0.24280823974536064'],\n ['Hamilton46-1d', '2312', '-673908.2194643891', '0.1740271596485222'],\n ['Hamilton46-2d', '2312', '-675752.8267425632', '0.1847125828639009'],\n ['Haverford76-1d', '1446', '-363592.26279438153', '0.21218681300239978'],\n ['Haverford76-2d', '1446', '-371642.1761729029', '0.21065968551242678'],\n ['Haverford76-3d', '1446', '-393593.1231104818', '0.19533806575039017'],\n ['Reed98-1d', '962', '-124403.05985245317', '0.18849670423134168'],\n ['Reed98-2d', '962', '-128478.97363053303', '0.18897512226238572'],\n ['Reed98-3d', '962', '-139177.15209789612', '0.15963214969168615'],\n ['Simmons81-1d', '1510', '-229941.9099301064', '0.17744967256851807'],\n ['Simmons81-2d', '1510', '-248941.5322980973', '0.1641705069124424']]"
     },
     "execution_count": 77,
     "metadata": {},
     "output_type": "execute_result"
    }
   ],
   "source": [
    "outs"
   ],
   "metadata": {
    "collapsed": false,
    "ExecuteTime": {
     "start_time": "2023-06-10T14:55:34.958848Z",
     "end_time": "2023-06-10T14:55:34.980939Z"
    }
   }
  },
  {
   "cell_type": "code",
   "execution_count": 78,
   "outputs": [],
   "source": [
    "import pandas as pd"
   ],
   "metadata": {
    "collapsed": false,
    "ExecuteTime": {
     "start_time": "2023-06-10T14:55:38.230913Z",
     "end_time": "2023-06-10T14:55:38.247380Z"
    }
   }
  },
  {
   "cell_type": "code",
   "execution_count": 85,
   "outputs": [],
   "source": [
    "df_mc = pd.DataFrame(data=outs)\n",
    "df_mc.columns = ['name', 'nodes', 'll', 'pec']\n",
    "df_mc['1d'] = df_mc['name'].apply(lambda x: x[-2] == '1')\n",
    "df_mc['ll'] = df_mc['ll'].apply(lambda x: float(x))\n",
    "df_mc['pec'] = df_mc['pec'].apply(lambda x: float(x))"
   ],
   "metadata": {
    "collapsed": false,
    "ExecuteTime": {
     "start_time": "2023-06-10T14:56:32.051676Z",
     "end_time": "2023-06-10T14:56:32.071477Z"
    }
   }
  },
  {
   "cell_type": "code",
   "execution_count": 86,
   "outputs": [
    {
     "data": {
      "text/plain": "              name nodes             ll       pec     1d\n0     Amherst41-1d  2235 -593193.493257  0.199310   True\n1     Amherst41-2d  2235 -612652.485721  0.198661  False\n2     Amherst41-3d  2235 -645270.735140  0.181652  False\n3     Bowdoin47-1d  2250 -606876.187069  0.170040   True\n4     Bowdoin47-2d  2250 -592629.370293  0.180492  False\n5     Bowdoin47-3d  2250 -625639.091134  0.166769  False\n6     Caltech36-1d   762  -91639.306415  0.271035   True\n7     Caltech36-2d   762  -95120.310477  0.258783  False\n8     Caltech36-3d   762 -101373.008246  0.242808  False\n9    Hamilton46-1d  2312 -673908.219464  0.174027   True\n10   Hamilton46-2d  2312 -675752.826743  0.184713  False\n11  Haverford76-1d  1446 -363592.262794  0.212187   True\n12  Haverford76-2d  1446 -371642.176173  0.210660  False\n13  Haverford76-3d  1446 -393593.123110  0.195338  False\n14       Reed98-1d   962 -124403.059852  0.188497   True\n15       Reed98-2d   962 -128478.973631  0.188975  False\n16       Reed98-3d   962 -139177.152098  0.159632  False\n17    Simmons81-1d  1510 -229941.909930  0.177450   True\n18    Simmons81-2d  1510 -248941.532298  0.164171  False",
      "text/html": "<div>\n<style scoped>\n    .dataframe tbody tr th:only-of-type {\n        vertical-align: middle;\n    }\n\n    .dataframe tbody tr th {\n        vertical-align: top;\n    }\n\n    .dataframe thead th {\n        text-align: right;\n    }\n</style>\n<table border=\"1\" class=\"dataframe\">\n  <thead>\n    <tr style=\"text-align: right;\">\n      <th></th>\n      <th>name</th>\n      <th>nodes</th>\n      <th>ll</th>\n      <th>pec</th>\n      <th>1d</th>\n    </tr>\n  </thead>\n  <tbody>\n    <tr>\n      <th>0</th>\n      <td>Amherst41-1d</td>\n      <td>2235</td>\n      <td>-593193.493257</td>\n      <td>0.199310</td>\n      <td>True</td>\n    </tr>\n    <tr>\n      <th>1</th>\n      <td>Amherst41-2d</td>\n      <td>2235</td>\n      <td>-612652.485721</td>\n      <td>0.198661</td>\n      <td>False</td>\n    </tr>\n    <tr>\n      <th>2</th>\n      <td>Amherst41-3d</td>\n      <td>2235</td>\n      <td>-645270.735140</td>\n      <td>0.181652</td>\n      <td>False</td>\n    </tr>\n    <tr>\n      <th>3</th>\n      <td>Bowdoin47-1d</td>\n      <td>2250</td>\n      <td>-606876.187069</td>\n      <td>0.170040</td>\n      <td>True</td>\n    </tr>\n    <tr>\n      <th>4</th>\n      <td>Bowdoin47-2d</td>\n      <td>2250</td>\n      <td>-592629.370293</td>\n      <td>0.180492</td>\n      <td>False</td>\n    </tr>\n    <tr>\n      <th>5</th>\n      <td>Bowdoin47-3d</td>\n      <td>2250</td>\n      <td>-625639.091134</td>\n      <td>0.166769</td>\n      <td>False</td>\n    </tr>\n    <tr>\n      <th>6</th>\n      <td>Caltech36-1d</td>\n      <td>762</td>\n      <td>-91639.306415</td>\n      <td>0.271035</td>\n      <td>True</td>\n    </tr>\n    <tr>\n      <th>7</th>\n      <td>Caltech36-2d</td>\n      <td>762</td>\n      <td>-95120.310477</td>\n      <td>0.258783</td>\n      <td>False</td>\n    </tr>\n    <tr>\n      <th>8</th>\n      <td>Caltech36-3d</td>\n      <td>762</td>\n      <td>-101373.008246</td>\n      <td>0.242808</td>\n      <td>False</td>\n    </tr>\n    <tr>\n      <th>9</th>\n      <td>Hamilton46-1d</td>\n      <td>2312</td>\n      <td>-673908.219464</td>\n      <td>0.174027</td>\n      <td>True</td>\n    </tr>\n    <tr>\n      <th>10</th>\n      <td>Hamilton46-2d</td>\n      <td>2312</td>\n      <td>-675752.826743</td>\n      <td>0.184713</td>\n      <td>False</td>\n    </tr>\n    <tr>\n      <th>11</th>\n      <td>Haverford76-1d</td>\n      <td>1446</td>\n      <td>-363592.262794</td>\n      <td>0.212187</td>\n      <td>True</td>\n    </tr>\n    <tr>\n      <th>12</th>\n      <td>Haverford76-2d</td>\n      <td>1446</td>\n      <td>-371642.176173</td>\n      <td>0.210660</td>\n      <td>False</td>\n    </tr>\n    <tr>\n      <th>13</th>\n      <td>Haverford76-3d</td>\n      <td>1446</td>\n      <td>-393593.123110</td>\n      <td>0.195338</td>\n      <td>False</td>\n    </tr>\n    <tr>\n      <th>14</th>\n      <td>Reed98-1d</td>\n      <td>962</td>\n      <td>-124403.059852</td>\n      <td>0.188497</td>\n      <td>True</td>\n    </tr>\n    <tr>\n      <th>15</th>\n      <td>Reed98-2d</td>\n      <td>962</td>\n      <td>-128478.973631</td>\n      <td>0.188975</td>\n      <td>False</td>\n    </tr>\n    <tr>\n      <th>16</th>\n      <td>Reed98-3d</td>\n      <td>962</td>\n      <td>-139177.152098</td>\n      <td>0.159632</td>\n      <td>False</td>\n    </tr>\n    <tr>\n      <th>17</th>\n      <td>Simmons81-1d</td>\n      <td>1510</td>\n      <td>-229941.909930</td>\n      <td>0.177450</td>\n      <td>True</td>\n    </tr>\n    <tr>\n      <th>18</th>\n      <td>Simmons81-2d</td>\n      <td>1510</td>\n      <td>-248941.532298</td>\n      <td>0.164171</td>\n      <td>False</td>\n    </tr>\n  </tbody>\n</table>\n</div>"
     },
     "execution_count": 86,
     "metadata": {},
     "output_type": "execute_result"
    }
   ],
   "source": [
    "df_mc"
   ],
   "metadata": {
    "collapsed": false,
    "ExecuteTime": {
     "start_time": "2023-06-10T14:56:32.529910Z",
     "end_time": "2023-06-10T14:56:32.536706Z"
    }
   }
  },
  {
   "cell_type": "code",
   "execution_count": 87,
   "outputs": [
    {
     "data": {
      "text/plain": "              name nodes             ll       pec    1d\n0     Amherst41-1d  2235 -593193.493257  0.199310  True\n3     Bowdoin47-1d  2250 -606876.187069  0.170040  True\n6     Caltech36-1d   762  -91639.306415  0.271035  True\n9    Hamilton46-1d  2312 -673908.219464  0.174027  True\n11  Haverford76-1d  1446 -363592.262794  0.212187  True\n14       Reed98-1d   962 -124403.059852  0.188497  True\n17    Simmons81-1d  1510 -229941.909930  0.177450  True",
      "text/html": "<div>\n<style scoped>\n    .dataframe tbody tr th:only-of-type {\n        vertical-align: middle;\n    }\n\n    .dataframe tbody tr th {\n        vertical-align: top;\n    }\n\n    .dataframe thead th {\n        text-align: right;\n    }\n</style>\n<table border=\"1\" class=\"dataframe\">\n  <thead>\n    <tr style=\"text-align: right;\">\n      <th></th>\n      <th>name</th>\n      <th>nodes</th>\n      <th>ll</th>\n      <th>pec</th>\n      <th>1d</th>\n    </tr>\n  </thead>\n  <tbody>\n    <tr>\n      <th>0</th>\n      <td>Amherst41-1d</td>\n      <td>2235</td>\n      <td>-593193.493257</td>\n      <td>0.199310</td>\n      <td>True</td>\n    </tr>\n    <tr>\n      <th>3</th>\n      <td>Bowdoin47-1d</td>\n      <td>2250</td>\n      <td>-606876.187069</td>\n      <td>0.170040</td>\n      <td>True</td>\n    </tr>\n    <tr>\n      <th>6</th>\n      <td>Caltech36-1d</td>\n      <td>762</td>\n      <td>-91639.306415</td>\n      <td>0.271035</td>\n      <td>True</td>\n    </tr>\n    <tr>\n      <th>9</th>\n      <td>Hamilton46-1d</td>\n      <td>2312</td>\n      <td>-673908.219464</td>\n      <td>0.174027</td>\n      <td>True</td>\n    </tr>\n    <tr>\n      <th>11</th>\n      <td>Haverford76-1d</td>\n      <td>1446</td>\n      <td>-363592.262794</td>\n      <td>0.212187</td>\n      <td>True</td>\n    </tr>\n    <tr>\n      <th>14</th>\n      <td>Reed98-1d</td>\n      <td>962</td>\n      <td>-124403.059852</td>\n      <td>0.188497</td>\n      <td>True</td>\n    </tr>\n    <tr>\n      <th>17</th>\n      <td>Simmons81-1d</td>\n      <td>1510</td>\n      <td>-229941.909930</td>\n      <td>0.177450</td>\n      <td>True</td>\n    </tr>\n  </tbody>\n</table>\n</div>"
     },
     "execution_count": 87,
     "metadata": {},
     "output_type": "execute_result"
    }
   ],
   "source": [
    "df_mc.loc[df_mc['1d']]"
   ],
   "metadata": {
    "collapsed": false,
    "ExecuteTime": {
     "start_time": "2023-06-10T14:56:38.794373Z",
     "end_time": "2023-06-10T14:56:38.901298Z"
    }
   }
  },
  {
   "cell_type": "code",
   "execution_count": 88,
   "outputs": [
    {
     "data": {
      "text/plain": "                    name  nodes       pec            ll\n0           socfb-Reed98    962  0.133372 -1.284761e+05\n1      socfb-Haverford76   1446  0.137240 -3.880358e+05\n2        socfb-Simmons81   1510  0.078341 -2.569027e+05\n3     socfb-Swarthmore42   1657  0.120411 -4.231883e+05\n4        socfb-Amherst41   2235  0.094938 -6.704000e+05\n5        socfb-Bowdoin47   2250  0.083628 -6.439850e+05\n6       socfb-Hamilton46   2312  0.090733 -7.220850e+05\n7       socfb-Trinity100   2613  0.076824 -8.653516e+05\n8          socfb-USFCA72   2672  0.066412 -5.491014e+05\n9       socfb-Williams40   2788  0.074833 -8.906626e+05\n10       socfb-Oberlin44   2920  0.066743 -7.467170e+05\n11         socfb-Smith60   2970  0.054853 -8.234320e+05\n12     socfb-Wellesley22   2970  0.068325 -7.835437e+05\n13    socfb-Middlebury45   3069  0.068343 -1.001306e+06\n14        socfb-Vassar85   3068  0.065768 -9.778797e+05\n15    socfb-Pepperdine86   3440  0.078610 -1.192736e+06\n16       socfb-Colgate88   3482  0.059764 -1.286638e+06\n17         socfb-Santa74   3578  0.068871 -1.236282e+06\n18      socfb-Wesleyan43   3591  0.055791 -1.168414e+06\n19          socfb-Mich67   3745  0.053259 -7.482516e+05\n20      socfb-Bucknell39   3824  0.050950 -1.370733e+06\n21      socfb-Brandeis99   3887  0.063303 -1.178036e+06\n22        socfb-Howard90   4047  0.085072 -1.598214e+06\n23          socfb-Rice31   4083  0.065759 -1.525388e+06\n24     socfb-Rochester38   4561  0.047099 -1.454559e+06\n25        socfb-Lehigh96   5073  0.044069 -1.798072e+06\n26  socfb-JohnsHopkins55   5157  0.053384 -1.651775e+06\n27          socfb-Wake73   5366  0.057822 -2.393746e+06\n28      socfb-American75   6370  0.037321 -2.079291e+06\n29             socfb-MIT   6402  0.053326 -2.252103e+06\n30            socfb-MIT8   6402  0.053326 -2.252103e+06\n31       socfb-William77   6472  0.041208 -2.501151e+06\n32      socfb-UChicago30   6561  0.040584 -1.990300e+06\n33     socfb-Princeton12   6575  0.043879 -2.662557e+06\n34      socfb-Carnegie49   6621  0.048844 -2.302908e+06\n35             socfb-CMU   6621  0.048844 -2.302908e+06\n36         socfb-Tufts18   6672  0.038287 -2.363191e+06\n37            socfb-UC64   6810  0.032217 -1.574179e+06\n38       socfb-Vermont70   7322  0.026430 -1.980021e+06\n39         socfb-Emory27   7449  0.036787 -3.117877e+06\n40      socfb-Dartmouth6   7677  0.038179 -2.882784e+06\n41         socfb-WashU32   7730  0.040506 -3.448029e+06\n42        socfb-Tulane29   7740  0.033982 -2.762748e+06\n43     socfb-Villanova62   7755  0.033081 -3.067276e+06\n44    socfb-Vanderbilt48   8063  0.040806 -3.974030e+06\n45           socfb-Yale4   8561  0.038820 -3.826655e+06\n46         socfb-Brown11   8586  0.034082 -3.722231e+06\n47          socfb-UCSC68   8979  0.019285 -2.449709e+06\n48         socfb-Maine59   9065  0.020962 -2.623508e+06\n49    socfb-Georgetown15   9388  0.031493 -4.202825e+06\n50          socfb-Duke14   9885  0.035367 -4.872132e+06\n51       socfb-Bingham82  10001  0.022472 -3.807933e+06\n52  socfb-Northwestern25  10537  0.030697 -4.866271e+06\n53   socfb-Mississippi66  10519  0.044281 -5.715959e+06\n54           socfb-Cal65  11243  0.019516 -3.828672e+06\n55            socfb-BC17  11498  0.024162 -5.085228e+06",
      "text/html": "<div>\n<style scoped>\n    .dataframe tbody tr th:only-of-type {\n        vertical-align: middle;\n    }\n\n    .dataframe tbody tr th {\n        vertical-align: top;\n    }\n\n    .dataframe thead th {\n        text-align: right;\n    }\n</style>\n<table border=\"1\" class=\"dataframe\">\n  <thead>\n    <tr style=\"text-align: right;\">\n      <th></th>\n      <th>name</th>\n      <th>nodes</th>\n      <th>pec</th>\n      <th>ll</th>\n    </tr>\n  </thead>\n  <tbody>\n    <tr>\n      <th>0</th>\n      <td>socfb-Reed98</td>\n      <td>962</td>\n      <td>0.133372</td>\n      <td>-1.284761e+05</td>\n    </tr>\n    <tr>\n      <th>1</th>\n      <td>socfb-Haverford76</td>\n      <td>1446</td>\n      <td>0.137240</td>\n      <td>-3.880358e+05</td>\n    </tr>\n    <tr>\n      <th>2</th>\n      <td>socfb-Simmons81</td>\n      <td>1510</td>\n      <td>0.078341</td>\n      <td>-2.569027e+05</td>\n    </tr>\n    <tr>\n      <th>3</th>\n      <td>socfb-Swarthmore42</td>\n      <td>1657</td>\n      <td>0.120411</td>\n      <td>-4.231883e+05</td>\n    </tr>\n    <tr>\n      <th>4</th>\n      <td>socfb-Amherst41</td>\n      <td>2235</td>\n      <td>0.094938</td>\n      <td>-6.704000e+05</td>\n    </tr>\n    <tr>\n      <th>5</th>\n      <td>socfb-Bowdoin47</td>\n      <td>2250</td>\n      <td>0.083628</td>\n      <td>-6.439850e+05</td>\n    </tr>\n    <tr>\n      <th>6</th>\n      <td>socfb-Hamilton46</td>\n      <td>2312</td>\n      <td>0.090733</td>\n      <td>-7.220850e+05</td>\n    </tr>\n    <tr>\n      <th>7</th>\n      <td>socfb-Trinity100</td>\n      <td>2613</td>\n      <td>0.076824</td>\n      <td>-8.653516e+05</td>\n    </tr>\n    <tr>\n      <th>8</th>\n      <td>socfb-USFCA72</td>\n      <td>2672</td>\n      <td>0.066412</td>\n      <td>-5.491014e+05</td>\n    </tr>\n    <tr>\n      <th>9</th>\n      <td>socfb-Williams40</td>\n      <td>2788</td>\n      <td>0.074833</td>\n      <td>-8.906626e+05</td>\n    </tr>\n    <tr>\n      <th>10</th>\n      <td>socfb-Oberlin44</td>\n      <td>2920</td>\n      <td>0.066743</td>\n      <td>-7.467170e+05</td>\n    </tr>\n    <tr>\n      <th>11</th>\n      <td>socfb-Smith60</td>\n      <td>2970</td>\n      <td>0.054853</td>\n      <td>-8.234320e+05</td>\n    </tr>\n    <tr>\n      <th>12</th>\n      <td>socfb-Wellesley22</td>\n      <td>2970</td>\n      <td>0.068325</td>\n      <td>-7.835437e+05</td>\n    </tr>\n    <tr>\n      <th>13</th>\n      <td>socfb-Middlebury45</td>\n      <td>3069</td>\n      <td>0.068343</td>\n      <td>-1.001306e+06</td>\n    </tr>\n    <tr>\n      <th>14</th>\n      <td>socfb-Vassar85</td>\n      <td>3068</td>\n      <td>0.065768</td>\n      <td>-9.778797e+05</td>\n    </tr>\n    <tr>\n      <th>15</th>\n      <td>socfb-Pepperdine86</td>\n      <td>3440</td>\n      <td>0.078610</td>\n      <td>-1.192736e+06</td>\n    </tr>\n    <tr>\n      <th>16</th>\n      <td>socfb-Colgate88</td>\n      <td>3482</td>\n      <td>0.059764</td>\n      <td>-1.286638e+06</td>\n    </tr>\n    <tr>\n      <th>17</th>\n      <td>socfb-Santa74</td>\n      <td>3578</td>\n      <td>0.068871</td>\n      <td>-1.236282e+06</td>\n    </tr>\n    <tr>\n      <th>18</th>\n      <td>socfb-Wesleyan43</td>\n      <td>3591</td>\n      <td>0.055791</td>\n      <td>-1.168414e+06</td>\n    </tr>\n    <tr>\n      <th>19</th>\n      <td>socfb-Mich67</td>\n      <td>3745</td>\n      <td>0.053259</td>\n      <td>-7.482516e+05</td>\n    </tr>\n    <tr>\n      <th>20</th>\n      <td>socfb-Bucknell39</td>\n      <td>3824</td>\n      <td>0.050950</td>\n      <td>-1.370733e+06</td>\n    </tr>\n    <tr>\n      <th>21</th>\n      <td>socfb-Brandeis99</td>\n      <td>3887</td>\n      <td>0.063303</td>\n      <td>-1.178036e+06</td>\n    </tr>\n    <tr>\n      <th>22</th>\n      <td>socfb-Howard90</td>\n      <td>4047</td>\n      <td>0.085072</td>\n      <td>-1.598214e+06</td>\n    </tr>\n    <tr>\n      <th>23</th>\n      <td>socfb-Rice31</td>\n      <td>4083</td>\n      <td>0.065759</td>\n      <td>-1.525388e+06</td>\n    </tr>\n    <tr>\n      <th>24</th>\n      <td>socfb-Rochester38</td>\n      <td>4561</td>\n      <td>0.047099</td>\n      <td>-1.454559e+06</td>\n    </tr>\n    <tr>\n      <th>25</th>\n      <td>socfb-Lehigh96</td>\n      <td>5073</td>\n      <td>0.044069</td>\n      <td>-1.798072e+06</td>\n    </tr>\n    <tr>\n      <th>26</th>\n      <td>socfb-JohnsHopkins55</td>\n      <td>5157</td>\n      <td>0.053384</td>\n      <td>-1.651775e+06</td>\n    </tr>\n    <tr>\n      <th>27</th>\n      <td>socfb-Wake73</td>\n      <td>5366</td>\n      <td>0.057822</td>\n      <td>-2.393746e+06</td>\n    </tr>\n    <tr>\n      <th>28</th>\n      <td>socfb-American75</td>\n      <td>6370</td>\n      <td>0.037321</td>\n      <td>-2.079291e+06</td>\n    </tr>\n    <tr>\n      <th>29</th>\n      <td>socfb-MIT</td>\n      <td>6402</td>\n      <td>0.053326</td>\n      <td>-2.252103e+06</td>\n    </tr>\n    <tr>\n      <th>30</th>\n      <td>socfb-MIT8</td>\n      <td>6402</td>\n      <td>0.053326</td>\n      <td>-2.252103e+06</td>\n    </tr>\n    <tr>\n      <th>31</th>\n      <td>socfb-William77</td>\n      <td>6472</td>\n      <td>0.041208</td>\n      <td>-2.501151e+06</td>\n    </tr>\n    <tr>\n      <th>32</th>\n      <td>socfb-UChicago30</td>\n      <td>6561</td>\n      <td>0.040584</td>\n      <td>-1.990300e+06</td>\n    </tr>\n    <tr>\n      <th>33</th>\n      <td>socfb-Princeton12</td>\n      <td>6575</td>\n      <td>0.043879</td>\n      <td>-2.662557e+06</td>\n    </tr>\n    <tr>\n      <th>34</th>\n      <td>socfb-Carnegie49</td>\n      <td>6621</td>\n      <td>0.048844</td>\n      <td>-2.302908e+06</td>\n    </tr>\n    <tr>\n      <th>35</th>\n      <td>socfb-CMU</td>\n      <td>6621</td>\n      <td>0.048844</td>\n      <td>-2.302908e+06</td>\n    </tr>\n    <tr>\n      <th>36</th>\n      <td>socfb-Tufts18</td>\n      <td>6672</td>\n      <td>0.038287</td>\n      <td>-2.363191e+06</td>\n    </tr>\n    <tr>\n      <th>37</th>\n      <td>socfb-UC64</td>\n      <td>6810</td>\n      <td>0.032217</td>\n      <td>-1.574179e+06</td>\n    </tr>\n    <tr>\n      <th>38</th>\n      <td>socfb-Vermont70</td>\n      <td>7322</td>\n      <td>0.026430</td>\n      <td>-1.980021e+06</td>\n    </tr>\n    <tr>\n      <th>39</th>\n      <td>socfb-Emory27</td>\n      <td>7449</td>\n      <td>0.036787</td>\n      <td>-3.117877e+06</td>\n    </tr>\n    <tr>\n      <th>40</th>\n      <td>socfb-Dartmouth6</td>\n      <td>7677</td>\n      <td>0.038179</td>\n      <td>-2.882784e+06</td>\n    </tr>\n    <tr>\n      <th>41</th>\n      <td>socfb-WashU32</td>\n      <td>7730</td>\n      <td>0.040506</td>\n      <td>-3.448029e+06</td>\n    </tr>\n    <tr>\n      <th>42</th>\n      <td>socfb-Tulane29</td>\n      <td>7740</td>\n      <td>0.033982</td>\n      <td>-2.762748e+06</td>\n    </tr>\n    <tr>\n      <th>43</th>\n      <td>socfb-Villanova62</td>\n      <td>7755</td>\n      <td>0.033081</td>\n      <td>-3.067276e+06</td>\n    </tr>\n    <tr>\n      <th>44</th>\n      <td>socfb-Vanderbilt48</td>\n      <td>8063</td>\n      <td>0.040806</td>\n      <td>-3.974030e+06</td>\n    </tr>\n    <tr>\n      <th>45</th>\n      <td>socfb-Yale4</td>\n      <td>8561</td>\n      <td>0.038820</td>\n      <td>-3.826655e+06</td>\n    </tr>\n    <tr>\n      <th>46</th>\n      <td>socfb-Brown11</td>\n      <td>8586</td>\n      <td>0.034082</td>\n      <td>-3.722231e+06</td>\n    </tr>\n    <tr>\n      <th>47</th>\n      <td>socfb-UCSC68</td>\n      <td>8979</td>\n      <td>0.019285</td>\n      <td>-2.449709e+06</td>\n    </tr>\n    <tr>\n      <th>48</th>\n      <td>socfb-Maine59</td>\n      <td>9065</td>\n      <td>0.020962</td>\n      <td>-2.623508e+06</td>\n    </tr>\n    <tr>\n      <th>49</th>\n      <td>socfb-Georgetown15</td>\n      <td>9388</td>\n      <td>0.031493</td>\n      <td>-4.202825e+06</td>\n    </tr>\n    <tr>\n      <th>50</th>\n      <td>socfb-Duke14</td>\n      <td>9885</td>\n      <td>0.035367</td>\n      <td>-4.872132e+06</td>\n    </tr>\n    <tr>\n      <th>51</th>\n      <td>socfb-Bingham82</td>\n      <td>10001</td>\n      <td>0.022472</td>\n      <td>-3.807933e+06</td>\n    </tr>\n    <tr>\n      <th>52</th>\n      <td>socfb-Northwestern25</td>\n      <td>10537</td>\n      <td>0.030697</td>\n      <td>-4.866271e+06</td>\n    </tr>\n    <tr>\n      <th>53</th>\n      <td>socfb-Mississippi66</td>\n      <td>10519</td>\n      <td>0.044281</td>\n      <td>-5.715959e+06</td>\n    </tr>\n    <tr>\n      <th>54</th>\n      <td>socfb-Cal65</td>\n      <td>11243</td>\n      <td>0.019516</td>\n      <td>-3.828672e+06</td>\n    </tr>\n    <tr>\n      <th>55</th>\n      <td>socfb-BC17</td>\n      <td>11498</td>\n      <td>0.024162</td>\n      <td>-5.085228e+06</td>\n    </tr>\n  </tbody>\n</table>\n</div>"
     },
     "execution_count": 88,
     "metadata": {},
     "output_type": "execute_result"
    }
   ],
   "source": [
    "df"
   ],
   "metadata": {
    "collapsed": false,
    "ExecuteTime": {
     "start_time": "2023-06-10T14:56:41.321086Z",
     "end_time": "2023-06-10T14:56:41.336291Z"
    }
   }
  },
  {
   "cell_type": "code",
   "execution_count": null,
   "outputs": [],
   "source": [],
   "metadata": {
    "collapsed": false
   }
  }
 ],
 "metadata": {
  "kernelspec": {
   "display_name": "Python 3",
   "language": "python",
   "name": "python3"
  },
  "language_info": {
   "codemirror_mode": {
    "name": "ipython",
    "version": 2
   },
   "file_extension": ".py",
   "mimetype": "text/x-python",
   "name": "python",
   "nbconvert_exporter": "python",
   "pygments_lexer": "ipython2",
   "version": "2.7.6"
  }
 },
 "nbformat": 4,
 "nbformat_minor": 0
}
