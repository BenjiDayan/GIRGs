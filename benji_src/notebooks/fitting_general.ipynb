{
 "cells": [
  {
   "cell_type": "code",
   "execution_count": 1,
   "metadata": {},
   "outputs": [],
   "source": [
    "import sys\n",
    "sys.path.append('../')\n",
    "sys.path.append('../../nemo-eva/src/')"
   ]
  },
  {
   "cell_type": "code",
   "execution_count": 2,
   "metadata": {},
   "outputs": [
    {
     "name": "stderr",
     "output_type": "stream",
     "text": [
      "/cluster/home/bdayan/girgs/venv/lib64/python3.8/site-packages/scipy/__init__.py:143: UserWarning: A NumPy version >=1.19.5 and <1.27.0 is required for this version of SciPy (detected version 1.19.0)\n",
      "  warnings.warn(f\"A NumPy version >={np_minversion} and <{np_maxversion}\"\n"
     ]
    },
    {
     "data": {
      "text/html": [
       "\n",
       "\t\t\t<script type=\"text/javascript\">\n",
       "\t\t\t<!--\n",
       "\t\t\t\t\n",
       "\t\t\t{\n",
       "\t\t\t\tvar element = document.getElementById('NetworKit_script');\n",
       "\t\t\t\tif (element) {\n",
       "\t\t\t\t\telement.parentNode.removeChild(element);\n",
       "\t\t\t\t}\n",
       "\t\t\t\telement = document.createElement('script');\n",
       "\t\t\t\telement.type = 'text/javascript';\n",
       "\t\t\t\telement.innerHTML = 'function NetworKit_pageEmbed(id) { var i, j; var elements; elements = document.getElementById(id).getElementsByClassName(\"Plot\"); for (i=0; i<elements.length; i++) { elements[i].id = id + \"_Plot_\" + i; var data = elements[i].getAttribute(\"data-image\").split(\"|\"); elements[i].removeAttribute(\"data-image\"); var content = \"<div class=\\\\\"Image\\\\\" id=\\\\\"\" + elements[i].id + \"_Image\\\\\" />\"; elements[i].innerHTML = content; elements[i].setAttribute(\"data-image-index\", 0); elements[i].setAttribute(\"data-image-length\", data.length); for (j=0; j<data.length; j++) { elements[i].setAttribute(\"data-image-\" + j, data[j]); } NetworKit_plotUpdate(elements[i]); elements[i].onclick = function (e) { NetworKit_overlayShow((e.target) ? e.target : e.srcElement); } } elements = document.getElementById(id).getElementsByClassName(\"HeatCell\"); for (i=0; i<elements.length; i++) { var data = parseFloat(elements[i].getAttribute(\"data-heat\")); var color = \"#00FF00\"; if (data <= 1 && data > 0) { color = \"hsla(0, 100%, 75%, \" + (data) + \")\"; } else if (data <= 0 && data >= -1) { color = \"hsla(240, 100%, 75%, \" + (-data) + \")\"; } elements[i].style.backgroundColor = color; } elements = document.getElementById(id).getElementsByClassName(\"Details\"); for (i=0; i<elements.length; i++) { elements[i].setAttribute(\"data-title\", \"-\"); NetworKit_toggleDetails(elements[i]); elements[i].onclick = function (e) { NetworKit_toggleDetails((e.target) ? e.target : e.srcElement); } } elements = document.getElementById(id).getElementsByClassName(\"MathValue\"); for (i=elements.length-1; i>=0; i--) { value = elements[i].innerHTML.trim(); if (value === \"nan\") { elements[i].parentNode.innerHTML = \"\" } } elements = document.getElementById(id).getElementsByClassName(\"SubCategory\"); for (i=elements.length-1; i>=0; i--) { value = elements[i].innerHTML.trim(); if (value === \"\") { elements[i].parentNode.removeChild(elements[i]) } } elements = document.getElementById(id).getElementsByClassName(\"Category\"); for (i=elements.length-1; i>=0; i--) { value = elements[i].innerHTML.trim(); if (value === \"\") { elements[i].parentNode.removeChild(elements[i]) } } var isFirefox = false; try { isFirefox = typeof InstallTrigger !== \"undefined\"; } catch (e) {} if (!isFirefox) { alert(\"Currently the function\\'s output is only fully supported by Firefox.\"); } } function NetworKit_plotUpdate(source) { var index = source.getAttribute(\"data-image-index\"); var data = source.getAttribute(\"data-image-\" + index); var image = document.getElementById(source.id + \"_Image\"); image.style.backgroundImage = \"url(\" + data + \")\"; } function NetworKit_showElement(id, show) { var element = document.getElementById(id); element.style.display = (show) ? \"block\" : \"none\"; } function NetworKit_overlayShow(source) { NetworKit_overlayUpdate(source); NetworKit_showElement(\"NetworKit_Overlay\", true); } function NetworKit_overlayUpdate(source) { document.getElementById(\"NetworKit_Overlay_Title\").innerHTML = source.title; var index = source.getAttribute(\"data-image-index\"); var data = source.getAttribute(\"data-image-\" + index); var image = document.getElementById(\"NetworKit_Overlay_Image\"); image.setAttribute(\"data-id\", source.id); image.style.backgroundImage = \"url(\" + data + \")\"; var link = document.getElementById(\"NetworKit_Overlay_Toolbar_Bottom_Save\"); link.href = data; link.download = source.title + \".svg\"; } function NetworKit_overlayImageShift(delta) { var image = document.getElementById(\"NetworKit_Overlay_Image\"); var source = document.getElementById(image.getAttribute(\"data-id\")); var index = parseInt(source.getAttribute(\"data-image-index\")); var length = parseInt(source.getAttribute(\"data-image-length\")); var index = (index+delta) % length; if (index < 0) { index = length + index; } source.setAttribute(\"data-image-index\", index); NetworKit_overlayUpdate(source); } function NetworKit_toggleDetails(source) { var childs = source.children; var show = false; if (source.getAttribute(\"data-title\") == \"-\") { source.setAttribute(\"data-title\", \"+\"); show = false; } else { source.setAttribute(\"data-title\", \"-\"); show = true; } for (i=0; i<childs.length; i++) { if (show) { childs[i].style.display = \"block\"; } else { childs[i].style.display = \"none\"; } } }';\n",
       "\t\t\t\telement.setAttribute('id', 'NetworKit_script');\n",
       "\t\t\t\tdocument.head.appendChild(element);\n",
       "\t\t\t}\n",
       "\t\t\n",
       "\t\t\t\t\n",
       "\t\t\t{\n",
       "\t\t\t\tvar element = document.getElementById('NetworKit_style');\n",
       "\t\t\t\tif (element) {\n",
       "\t\t\t\t\telement.parentNode.removeChild(element);\n",
       "\t\t\t\t}\n",
       "\t\t\t\telement = document.createElement('style');\n",
       "\t\t\t\telement.type = 'text/css';\n",
       "\t\t\t\telement.innerHTML = '.NetworKit_Page { font-family: Arial, Helvetica, sans-serif; font-size: 14px; } .NetworKit_Page .Value:before { font-family: Arial, Helvetica, sans-serif; font-size: 1.05em; content: attr(data-title) \":\"; margin-left: -2.5em; padding-right: 0.5em; } .NetworKit_Page .Details .Value:before { display: block; } .NetworKit_Page .Value { font-family: monospace; white-space: pre; padding-left: 2.5em; white-space: -moz-pre-wrap !important; white-space: -pre-wrap; white-space: -o-pre-wrap; white-space: pre-wrap; word-wrap: break-word; tab-size: 4; -moz-tab-size: 4; } .NetworKit_Page .Category { clear: both; padding-left: 1em; margin-bottom: 1.5em; } .NetworKit_Page .Category:before { content: attr(data-title); font-size: 1.75em; display: block; margin-left: -0.8em; margin-bottom: 0.5em; } .NetworKit_Page .SubCategory { margin-bottom: 1.5em; padding-left: 1em; } .NetworKit_Page .SubCategory:before { font-size: 1.6em; display: block; margin-left: -0.8em; margin-bottom: 0.5em; } .NetworKit_Page .SubCategory[data-title]:before { content: attr(data-title); } .NetworKit_Page .Block { display: block; } .NetworKit_Page .Block:after { content: \".\"; visibility: hidden; display: block; height: 0; clear: both; } .NetworKit_Page .Block .Thumbnail_Overview, .NetworKit_Page .Block .Thumbnail_ScatterPlot { width: 260px; float: left; } .NetworKit_Page .Block .Thumbnail_Overview img, .NetworKit_Page .Block .Thumbnail_ScatterPlot img { width: 260px; } .NetworKit_Page .Block .Thumbnail_Overview:before, .NetworKit_Page .Block .Thumbnail_ScatterPlot:before { display: block; text-align: center; font-weight: bold; } .NetworKit_Page .Block .Thumbnail_Overview:before { content: attr(data-title); } .NetworKit_Page .HeatCell { font-family: \"Courier New\", Courier, monospace; cursor: pointer; } .NetworKit_Page .HeatCell, .NetworKit_Page .HeatCellName { display: inline; padding: 0.1em; margin-right: 2px; background-color: #FFFFFF } .NetworKit_Page .HeatCellName { margin-left: 0.25em; } .NetworKit_Page .HeatCell:before { content: attr(data-heat); display: inline-block; color: #000000; width: 4em; text-align: center; } .NetworKit_Page .Measure { clear: both; } .NetworKit_Page .Measure .Details { cursor: pointer; } .NetworKit_Page .Measure .Details:before { content: \"[\" attr(data-title) \"]\"; display: block; } .NetworKit_Page .Measure .Details .Value { border-left: 1px dotted black; margin-left: 0.4em; padding-left: 3.5em; pointer-events: none; } .NetworKit_Page .Measure .Details .Spacer:before { content: \".\"; opacity: 0.0; pointer-events: none; } .NetworKit_Page .Measure .Plot { width: 440px; height: 440px; cursor: pointer; float: left; margin-left: -0.9em; margin-right: 20px; } .NetworKit_Page .Measure .Plot .Image { background-repeat: no-repeat; background-position: center center; background-size: contain; height: 100%; pointer-events: none; } .NetworKit_Page .Measure .Stat { width: 500px; float: left; } .NetworKit_Page .Measure .Stat .Group { padding-left: 1.25em; margin-bottom: 0.75em; } .NetworKit_Page .Measure .Stat .Group .Title { font-size: 1.1em; display: block; margin-bottom: 0.3em; margin-left: -0.75em; border-right-style: dotted; border-right-width: 1px; border-bottom-style: dotted; border-bottom-width: 1px; background-color: #D0D0D0; padding-left: 0.2em; } .NetworKit_Page .Measure .Stat .Group .List { -webkit-column-count: 3; -moz-column-count: 3; column-count: 3; } .NetworKit_Page .Measure .Stat .Group .List .Entry { position: relative; line-height: 1.75em; } .NetworKit_Page .Measure .Stat .Group .List .Entry[data-tooltip]:before { position: absolute; left: 0; top: -40px; background-color: #808080; color: #ffffff; height: 30px; line-height: 30px; border-radius: 5px; padding: 0 15px; content: attr(data-tooltip); white-space: nowrap; display: none; } .NetworKit_Page .Measure .Stat .Group .List .Entry[data-tooltip]:after { position: absolute; left: 15px; top: -10px; border-top: 7px solid #808080; border-left: 7px solid transparent; border-right: 7px solid transparent; content: \"\"; display: none; } .NetworKit_Page .Measure .Stat .Group .List .Entry[data-tooltip]:hover:after, .NetworKit_Page .Measure .Stat .Group .List .Entry[data-tooltip]:hover:before { display: block; } .NetworKit_Page .Measure .Stat .Group .List .Entry .MathValue { font-family: \"Courier New\", Courier, monospace; } .NetworKit_Page .Measure:after { content: \".\"; visibility: hidden; display: block; height: 0; clear: both; } .NetworKit_Page .PartitionPie { clear: both; } .NetworKit_Page .PartitionPie img { width: 600px; } #NetworKit_Overlay { left: 0px; top: 0px; display: none; position: absolute; width: 100%; height: 100%; background-color: rgba(0,0,0,0.6); z-index: 1000; } #NetworKit_Overlay_Title { position: absolute; color: white; transform: rotate(-90deg); width: 32em; height: 32em; padding-right: 0.5em; padding-top: 0.5em; text-align: right; font-size: 40px; } #NetworKit_Overlay .button { background: white; cursor: pointer; } #NetworKit_Overlay .button:before { size: 13px; display: inline-block; text-align: center; margin-top: 0.5em; margin-bottom: 0.5em; width: 1.5em; height: 1.5em; } #NetworKit_Overlay .icon-close:before { content: \"X\"; } #NetworKit_Overlay .icon-previous:before { content: \"P\"; } #NetworKit_Overlay .icon-next:before { content: \"N\"; } #NetworKit_Overlay .icon-save:before { content: \"S\"; } #NetworKit_Overlay_Toolbar_Top, #NetworKit_Overlay_Toolbar_Bottom { position: absolute; width: 40px; right: 13px; text-align: right; z-index: 1100; } #NetworKit_Overlay_Toolbar_Top { top: 0.5em; } #NetworKit_Overlay_Toolbar_Bottom { Bottom: 0.5em; } #NetworKit_Overlay_ImageContainer { position: absolute; top: 5%; left: 5%; height: 90%; width: 90%; background-repeat: no-repeat; background-position: center center; background-size: contain; } #NetworKit_Overlay_Image { height: 100%; width: 100%; background-repeat: no-repeat; background-position: center center; background-size: contain; }';\n",
       "\t\t\t\telement.setAttribute('id', 'NetworKit_style');\n",
       "\t\t\t\tdocument.head.appendChild(element);\n",
       "\t\t\t}\n",
       "\t\t\n",
       "\t\t\t\t\n",
       "\t\t\t{\n",
       "\t\t\t\tvar element = document.getElementById('NetworKit_Overlay');\n",
       "\t\t\t\tif (element) {\n",
       "\t\t\t\t\telement.parentNode.removeChild(element);\n",
       "\t\t\t\t}\n",
       "\t\t\t\telement = document.createElement('div');\n",
       "\t\t\t\telement.innerHTML = '<div id=\"NetworKit_Overlay_Toolbar_Top\"><div class=\"button icon-close\" id=\"NetworKit_Overlay_Close\" /></div><div id=\"NetworKit_Overlay_Title\" /> <div id=\"NetworKit_Overlay_ImageContainer\"> <div id=\"NetworKit_Overlay_Image\" /> </div> <div id=\"NetworKit_Overlay_Toolbar_Bottom\"> <div class=\"button icon-previous\" onclick=\"NetworKit_overlayImageShift(-1)\" /> <div class=\"button icon-next\" onclick=\"NetworKit_overlayImageShift(1)\" /> <a id=\"NetworKit_Overlay_Toolbar_Bottom_Save\"><div class=\"button icon-save\" /></a> </div>';\n",
       "\t\t\t\telement.setAttribute('id', 'NetworKit_Overlay');\n",
       "\t\t\t\tdocument.body.appendChild(element);\n",
       "\t\t\t\tdocument.getElementById('NetworKit_Overlay_Close').onclick = function (e) {\n",
       "\t\t\t\t\tdocument.getElementById('NetworKit_Overlay').style.display = 'none';\n",
       "\t\t\t\t}\n",
       "\t\t\t}\n",
       "\t\t\n",
       "\t\t\t-->\n",
       "\t\t\t</script>\n",
       "\t\t"
      ]
     },
     "metadata": {},
     "output_type": "display_data"
    }
   ],
   "source": [
    "import pandas as pd\n",
    "import matplotlib.pyplot as plt\n",
    "import os\n",
    "import numpy as np\n",
    "import networkit as nk\n",
    "from tqdm import tqdm\n",
    "import networkx as nx\n",
    "\n",
    "from benji_girgs import generation, utils, plotting, fitting\n",
    "import geopandas as gpd\n",
    "\n",
    "import feature_extractor\n",
    "from scipy import optimize\n",
    "from girg_sampling import girgs\n",
    "\n",
    "\n",
    "from IPython.core.interactiveshell import InteractiveShell\n",
    "InteractiveShell.ast_node_interactivity = \"all\""
   ]
  },
  {
   "cell_type": "code",
   "execution_count": 3,
   "metadata": {},
   "outputs": [
    {
     "data": {
      "text/plain": [
       "<module 'benji_girgs.fitting' from '../benji_girgs/fitting.py'>"
      ]
     },
     "execution_count": 3,
     "metadata": {},
     "output_type": "execute_result"
    },
    {
     "data": {
      "text/plain": [
       "<module 'benji_girgs.plotting' from '../benji_girgs/plotting.py'>"
      ]
     },
     "execution_count": 3,
     "metadata": {},
     "output_type": "execute_result"
    },
    {
     "data": {
      "text/plain": [
       "<module 'feature_extractor' from '../../nemo-eva/src/feature_extractor.py'>"
      ]
     },
     "execution_count": 3,
     "metadata": {},
     "output_type": "execute_result"
    }
   ],
   "source": [
    "import importlib\n",
    "importlib.reload(fitting)\n",
    "importlib.reload(plotting)\n",
    "importlib.reload(feature_extractor)"
   ]
  },
  {
   "cell_type": "code",
   "execution_count": 4,
   "metadata": {},
   "outputs": [
    {
     "name": "stdout",
     "output_type": "stream",
     "text": [
      "no results_df\n"
     ]
    }
   ],
   "source": [
    "fe = feature_extractor.FeatureExtractor([])"
   ]
  },
  {
   "cell_type": "code",
   "execution_count": 5,
   "metadata": {},
   "outputs": [],
   "source": [
    "n=500\n",
    "d=2\n",
    "tau=2.2\n",
    "alpha=1.3\n",
    "desiredAvgDegree=5.0\n",
    "g, edges, weights, pts, const, id2gnk = generation.cgirg_gen(n, d, tau, alpha, desiredAvgDegree=desiredAvgDegree)"
   ]
  },
  {
   "cell_type": "code",
   "execution_count": 6,
   "metadata": {},
   "outputs": [
    {
     "name": "stdout",
     "output_type": "stream",
     "text": [
      "Network Properties:\n",
      "nodes, edges\t\t\t500, 1303\n",
      "directed?\t\t\tFalse\n",
      "weighted?\t\t\tFalse\n",
      "isolated nodes\t\t\t44\n",
      "self-loops\t\t\t0\n",
      "density\t\t\t\t0.010445\n",
      "clustering coefficient\t\t0.335269\n",
      "min/max/avg degree\t\t0, 127, 5.212000\n",
      "degree assortativity\t\t0.094412\n",
      "number of connected components\t46\n",
      "size of largest component\t454 (90.80 %)\n"
     ]
    }
   ],
   "source": [
    "nk.overview(g)"
   ]
  },
  {
   "cell_type": "code",
   "execution_count": 14,
   "metadata": {},
   "outputs": [
    {
     "name": "stderr",
     "output_type": "stream",
     "text": [
      "Values less than or equal to 0 in data. Throwing out 0 or negative values\n"
     ]
    }
   ],
   "source": [
    "criterium = lambda g: utils.LCC(g)\n",
    "target = criterium(g)\n",
    "fit_girg = fe.fit_ndgirg_general(d, criterium)\n",
    "info, g_out = fit_girg(g, verbose=True)\n",
    "info = {key: eval(var) for key, var in [x.split('=') for x in info.split('|')]}"
   ]
  },
  {
   "cell_type": "code",
   "execution_count": 15,
   "metadata": {},
   "outputs": [
    {
     "data": {
      "text/plain": [
       "{'tau': 2.2537455650820357,\n",
       " 'alpha': 1.4822320330028222,\n",
       " 'const': 0.1433015165669118,\n",
       " 'target_lcc': 0.3352694009034563,\n",
       " 'fit_lcc': 0.3280070169139453,\n",
       " 'fitting_time': 0.8100850582122803,\n",
       " 'hist': [(2.0, 0.46770748498669745),\n",
       "  (1.342281879194631, 0.27835761307705126),\n",
       "  (1.6064257028112447, 0.4156544418388743),\n",
       "  (1.462522851919561, 0.33503129908507595),\n",
       "  (1.5311004784688993, 0.38325956864490435),\n",
       "  (1.496026180458158, 0.34294891901467284),\n",
       "  (1.4790848162699328, 0.30569048087835493),\n",
       "  (1.4875072632190585, 0.3729069697544003),\n",
       "  (1.4832840836664927, 0.3603700933412491),\n",
       "  (1.4811814736598488, 0.327612369606877),\n",
       "  (1.4822320330028222, 0.32767876653839384)]}"
      ]
     },
     "execution_count": 15,
     "metadata": {},
     "output_type": "execute_result"
    }
   ],
   "source": [
    "info"
   ]
  },
  {
   "cell_type": "code",
   "execution_count": 16,
   "metadata": {},
   "outputs": [],
   "source": [
    "def fun_to_optimise(t):\n",
    "    alpha = 1/t[0]\n",
    "    g, edges, weights, pts, const, id2gnk = generation.cgirg_gen(n, d, tau, alpha, desiredAvgDegree=desiredAvgDegree)\n",
    "    return (criterium(g) - target)**2"
   ]
  },
  {
   "cell_type": "code",
   "execution_count": null,
   "metadata": {},
   "outputs": [],
   "source": [
    "# out = optimize.minimize(fun_to_optimise, x0 = 0.5, method='Powell', bounds=[[0.01, 0.99]])\n",
    "# out\n",
    "# 1/out.x[0]"
   ]
  },
  {
   "cell_type": "code",
   "execution_count": 7,
   "metadata": {},
   "outputs": [],
   "source": [
    "from skopt import gp_minimize"
   ]
  },
  {
   "cell_type": "code",
   "execution_count": 25,
   "metadata": {},
   "outputs": [
    {
     "data": {
      "text/plain": [
       "1.4395790662457306"
      ]
     },
     "execution_count": 25,
     "metadata": {},
     "output_type": "execute_result"
    },
    {
     "data": {
      "text/plain": [
       "          fun: 0.0001667582923800636\n",
       "            x: [0.6946475004029433]\n",
       "    func_vals: [ 2.119e-02  1.134e-02  1.046e-03  9.175e-03  4.397e-02\n",
       "                 1.061e-02  9.395e-03  1.668e-04  3.305e-04  6.476e-03]\n",
       "      x_iters: [[0.49131750712460404], [0.5589095186439711], [0.6953136907012869], [0.9144008970825701], [0.010360168209022405], [0.4736703202258625], [0.9723829920676663], [0.6946475004029433], [0.6566592490179133], [0.5689261668100728]]\n",
       "       models: [GaussianProcessRegressor(kernel=1**2 * Matern(length_scale=1, nu=2.5) + WhiteKernel(noise_level=1),\n",
       "                                        n_restarts_optimizer=2, noise='gaussian',\n",
       "                                        normalize_y=True, random_state=1564647388)]\n",
       "        space: Space([Real(low=0.01, high=0.99, prior='uniform', transform='normalize')])\n",
       " random_state: RandomState(MT19937)\n",
       "        specs:     args:                    func: <function fun_to_optimise at 0x2ad742333820>\n",
       "                                      dimensions: Space([Real(low=0.01, high=0.99, prior='uniform', transform='normalize')])\n",
       "                                  base_estimator: GaussianProcessRegressor(kernel=1**2 * Matern(length_scale=1, nu=2.5),\n",
       "                                                                           n_restarts_optimizer=2, noise='gaussian',\n",
       "                                                                           normalize_y=True, random_state=1564647388)\n",
       "                                         n_calls: 10\n",
       "                                 n_random_starts: None\n",
       "                                n_initial_points: 10\n",
       "                         initial_point_generator: random\n",
       "                                        acq_func: gp_hedge\n",
       "                                   acq_optimizer: auto\n",
       "                                              x0: None\n",
       "                                              y0: None\n",
       "                                    random_state: RandomState(MT19937)\n",
       "                                         verbose: False\n",
       "                                        callback: None\n",
       "                                        n_points: 10000\n",
       "                            n_restarts_optimizer: 5\n",
       "                                              xi: 0.01\n",
       "                                           kappa: 1.96\n",
       "                                          n_jobs: 1\n",
       "                                model_queue_size: None\n",
       "               function: base_minimize"
      ]
     },
     "execution_count": 25,
     "metadata": {},
     "output_type": "execute_result"
    }
   ],
   "source": [
    "search_space = [(0.01, 0.99)]\n",
    "result = gp_minimize(func=fun_to_optimise, dimensions=search_space, n_calls=10, noise=\"gaussian\")\n",
    "1/result.x[0]\n",
    "result"
   ]
  },
  {
   "cell_type": "code",
   "execution_count": 32,
   "metadata": {},
   "outputs": [
    {
     "name": "stderr",
     "output_type": "stream",
     "text": [
      "Values less than or equal to 0 in data. Throwing out 0 or negative values\n"
     ]
    },
    {
     "name": "stdout",
     "output_type": "stream",
     "text": [
      "0\n"
     ]
    },
    {
     "name": "stderr",
     "output_type": "stream",
     "text": [
      "Values less than or equal to 0 in data. Throwing out 0 or negative values\n"
     ]
    },
    {
     "name": "stdout",
     "output_type": "stream",
     "text": [
      "1\n"
     ]
    },
    {
     "name": "stderr",
     "output_type": "stream",
     "text": [
      "Values less than or equal to 0 in data. Throwing out 0 or negative values\n"
     ]
    },
    {
     "name": "stdout",
     "output_type": "stream",
     "text": [
      "2\n"
     ]
    },
    {
     "name": "stderr",
     "output_type": "stream",
     "text": [
      "Values less than or equal to 0 in data. Throwing out 0 or negative values\n"
     ]
    },
    {
     "name": "stdout",
     "output_type": "stream",
     "text": [
      "3\n"
     ]
    },
    {
     "name": "stderr",
     "output_type": "stream",
     "text": [
      "Values less than or equal to 0 in data. Throwing out 0 or negative values\n"
     ]
    },
    {
     "name": "stdout",
     "output_type": "stream",
     "text": [
      "4\n"
     ]
    },
    {
     "name": "stderr",
     "output_type": "stream",
     "text": [
      "Values less than or equal to 0 in data. Throwing out 0 or negative values\n"
     ]
    },
    {
     "name": "stdout",
     "output_type": "stream",
     "text": [
      "5\n"
     ]
    },
    {
     "name": "stderr",
     "output_type": "stream",
     "text": [
      "Values less than or equal to 0 in data. Throwing out 0 or negative values\n"
     ]
    },
    {
     "name": "stdout",
     "output_type": "stream",
     "text": [
      "6\n"
     ]
    },
    {
     "name": "stderr",
     "output_type": "stream",
     "text": [
      "Values less than or equal to 0 in data. Throwing out 0 or negative values\n"
     ]
    },
    {
     "name": "stdout",
     "output_type": "stream",
     "text": [
      "7\n"
     ]
    },
    {
     "name": "stderr",
     "output_type": "stream",
     "text": [
      "Values less than or equal to 0 in data. Throwing out 0 or negative values\n"
     ]
    },
    {
     "name": "stdout",
     "output_type": "stream",
     "text": [
      "8\n"
     ]
    },
    {
     "name": "stderr",
     "output_type": "stream",
     "text": [
      "Values less than or equal to 0 in data. Throwing out 0 or negative values\n"
     ]
    },
    {
     "name": "stdout",
     "output_type": "stream",
     "text": [
      "9\n"
     ]
    }
   ],
   "source": [
    "out_bins = []\n",
    "out_gps = []\n",
    "for _ in range(10):\n",
    "    fit_girg = fe.fit_ndgirg_general(d, criterium)\n",
    "    info, g_out = fit_girg(g, verbose=True)\n",
    "    info = {key: eval(var) for key, var in [x.split('=') for x in info.split('|')]}\n",
    "    out_bins.append(info['alpha'])\n",
    "    \n",
    "    result = gp_minimize(func=fun_to_optimise, dimensions=search_space, n_calls=20, noise=\"gaussian\")\n",
    "    out_gps.append(1/result.x[0])\n",
    "    \n",
    "    print(_)\n",
    "    \n",
    "    "
   ]
  },
  {
   "cell_type": "code",
   "execution_count": 30,
   "metadata": {},
   "outputs": [
    {
     "name": "stdout",
     "output_type": "stream",
     "text": [
      "1.02\n",
      "1.1\n",
      "1.3\n",
      "1.6\n",
      "2.0\n",
      "3.5\n"
     ]
    },
    {
     "data": {
      "image/png": "[encoded data removed]",
      "text/plain": [
       "<Figure size 640x480 with 1 Axes>"
      ]
     },
     "metadata": {},
     "output_type": "display_data"
    }
   ],
   "source": [
    "metric_func = utils.LCC\n",
    "metric_func_name = 'LCC'\n",
    "df = plotting.metric_func_alphas_plot(n=1000, d=2, tau=2.1, target_degree=20.0, metric_func=metric_func,\n",
    "                                      metric_func_name=metric_func_name, alphas=[1.02, 1.1, 1.3, 1.6, 2.0, 3.5])"
   ]
  },
  {
   "cell_type": "code",
   "execution_count": 31,
   "metadata": {},
   "outputs": [
    {
     "name": "stdout",
     "output_type": "stream",
     "text": [
      "1.02\n",
      "1.1\n",
      "1.3\n",
      "1.6\n",
      "2.0\n",
      "3.5\n"
     ]
    },
    {
     "data": {
      "image/png": "[encoded data removed]",
      "text/plain": [
       "<Figure size 640x480 with 1 Axes>"
      ]
     },
     "metadata": {},
     "output_type": "display_data"
    }
   ],
   "source": [
    "metric_func = utils.LCC\n",
    "metric_func_name = 'LCC'\n",
    "df = plotting.metric_func_alphas_plot(n=1000, d=2, tau=2.1, target_degree=5.0, metric_func=metric_func,\n",
    "                                      metric_func_name=metric_func_name, alphas=[1.02, 1.1, 1.3, 1.6, 2.0, 3.5])"
   ]
  },
  {
   "cell_type": "code",
   "execution_count": 29,
   "metadata": {},
   "outputs": [
    {
     "data": {
      "text/plain": [
       "<Axes: >"
      ]
     },
     "execution_count": 29,
     "metadata": {},
     "output_type": "execute_result"
    },
    {
     "data": {
      "text/plain": [
       "<Axes: >"
      ]
     },
     "execution_count": 29,
     "metadata": {},
     "output_type": "execute_result"
    },
    {
     "data": {
      "image/png": "[encoded data removed]",
      "text/plain": [
       "<Figure size 640x480 with 1 Axes>"
      ]
     },
     "metadata": {},
     "output_type": "display_data"
    }
   ],
   "source": [
    "import seaborn as sns\n",
    "sns.swarmplot(out_bins)\n",
    "sns.swarmplot(out_gps)"
   ]
  },
  {
   "cell_type": "code",
   "execution_count": 33,
   "metadata": {},
   "outputs": [
    {
     "data": {
      "text/plain": [
       "<Axes: >"
      ]
     },
     "execution_count": 33,
     "metadata": {},
     "output_type": "execute_result"
    },
    {
     "data": {
      "text/plain": [
       "<Axes: >"
      ]
     },
     "execution_count": 33,
     "metadata": {},
     "output_type": "execute_result"
    },
    {
     "data": {
      "image/png": "[encoded data removed]",
      "text/plain": [
       "<Figure size 640x480 with 1 Axes>"
      ]
     },
     "metadata": {},
     "output_type": "display_data"
    }
   ],
   "source": [
    "import seaborn as sns\n",
    "sns.swarmplot(out_bins)\n",
    "sns.swarmplot(out_gps)"
   ]
  },
  {
   "cell_type": "code",
   "execution_count": 141,
   "metadata": {},
   "outputs": [],
   "source": [
    "from skopt.learning import GaussianProcessRegressor\n",
    "from skopt.learning.gaussian_process.kernels import RBF\n",
    "from skopt import gp_minimize\n",
    "\n",
    "kernel = RBF(length_scale = [1.5, 10.0])  # Set the smoothness parameter to a high value\n",
    "gp_model = GaussianProcessRegressor(kernel=kernel)\n",
    "\n",
    "\n",
    "def gp_girg_cube_fitter(g, d, tau, n_calls=30, base_estimator=None):\n",
    "    target_lcc = utils.LCC(g)\n",
    "    target_avg_degree = utils.avg_degree(g)\n",
    "    n = g.numberOfNodes() * 2**d\n",
    "\n",
    "    weights = girgs.generateWeights((2 ** d) * n, tau)\n",
    "    const_guess = girgs.scaleWeights(weights, target_avg_degree, d, alpha) * 1.3\n",
    "\n",
    "    def fun_to_optimise(params):\n",
    "        alpha = 1 / params[0]\n",
    "        const = np.exp(params[1]) * const_guess\n",
    "        g, _ = generation.cgirg_gen_cube(n, d, tau, alpha, const=const)\n",
    "        a, b = utils.LCC(g), target_lcc\n",
    "        x, y = utils.avg_degree(g), target_avg_degree\n",
    "        return np.log(a/b)**2 + 10*np.log(x/y)**2\n",
    "    \n",
    "    result = gp_minimize(fun_to_optimise, dimensions=[(0.01, 0.99), (-1.4, 1.4)], n_calls=n_calls, verbose=False, noise=\"gaussian\", base_estimator=base_estimator)\n",
    "    return result"
   ]
  },
  {
   "cell_type": "code",
   "execution_count": 156,
   "metadata": {},
   "outputs": [],
   "source": [
    "result = gp_girg_cube_fitter(g, d, tau, base_estimator=gp_model, n_calls=50)"
   ]
  },
  {
   "cell_type": "code",
   "execution_count": 157,
   "metadata": {},
   "outputs": [
    {
     "name": "stdout",
     "output_type": "stream",
     "text": [
      "0.2278080627187989\n",
      "0.30062776831371335\n",
      "4.270916334661354\n",
      "1.8512720156555773\n"
     ]
    }
   ],
   "source": [
    "target_lcc = utils.LCC(g)\n",
    "target_avg_degree = utils.avg_degree(g)\n",
    "n = g.numberOfNodes() * 2**d\n",
    "\n",
    "weights = girgs.generateWeights((2 ** d) * n, tau)\n",
    "const_guess = girgs.scaleWeights(weights, target_avg_degree, d, alpha) * 1.3\n",
    "\n",
    "params = result.x\n",
    "alpha = 1 / params[0]\n",
    "const = np.exp(params[1]) * const_guess\n",
    "gout, _ = generation.cgirg_gen_cube(n, d, tau, alpha, const=const)\n",
    "\n",
    "print(utils.LCC(gout))\n",
    "print(target_lcc)\n",
    "print(target_avg_degree)\n",
    "print(utils.avg_degree(gout))"
   ]
  },
  {
   "cell_type": "code",
   "execution_count": 135,
   "metadata": {},
   "outputs": [
    {
     "data": {
      "text/plain": [
       "array([ 0.33297579,  4.13382773,  5.13983166, 15.91614791,  7.56208078,\n",
       "        0.42860005,  1.03348554,  1.11891834,  0.57647378, 12.50357888,\n",
       "        0.43012102,  4.63688417, 16.48540123, 10.15099698,  4.12567637,\n",
       "        0.11681171, 22.36771001, 21.05991279, 11.14469052,  3.5743388 ,\n",
       "       13.992857  , 11.12614237,  0.70516412, 14.33721675, 37.08940933])"
      ]
     },
     "execution_count": 135,
     "metadata": {},
     "output_type": "execute_result"
    }
   ],
   "source": [
    "result.func_vals"
   ]
  },
  {
   "cell_type": "code",
   "execution_count": 140,
   "metadata": {},
   "outputs": [
    {
     "data": {
      "text/plain": [
       "[[0.531570201273757, -0.40648342390222325],\n",
       " [0.6268001688747712, -0.9010233022945724],\n",
       " [0.8693704512795204, -1.3978191004925613],\n",
       " [0.5474474084181169, -0.99058296434855],\n",
       " [0.49364099602941247, -0.9213997419739979],\n",
       " [0.5723069088373677, -0.045831712433352934],\n",
       " [0.5124221537187407, 0.4571045601105843],\n",
       " [0.1140810270292691, 0.40710911719578813],\n",
       " [0.43653615287594855, 0.2796379463968499],\n",
       " [0.8978411911064121, 0.6703335838573867],\n",
       " [0.3982633512893363, 0.19436406109552196],\n",
       " [0.8984274068883304, 0.16473076334119674],\n",
       " [0.8658870962230321, 0.982079090177129],\n",
       " [0.30467219129934026, -0.7984988761929516],\n",
       " [0.5220028689494729, 0.22047578190004824],\n",
       " [0.8845086486218564, -0.645980824596445],\n",
       " [0.8088205820810698, 1.0946962862553389],\n",
       " [0.18491783700355022, -1.2359050046601119],\n",
       " [0.15899275402625954, -0.5245540130008596],\n",
       " [0.2920254827097807, -0.4144135727649175],\n",
       " [0.7644855027956036, 0.8883866957748277],\n",
       " [0.8407474872401136, 0.7487679290551994],\n",
       " [0.46899713266962983, 0.3725819660618115],\n",
       " [0.8501615017831343, 0.796680123516547],\n",
       " [0.038220905766567406, -1.0114308487468677]]"
      ]
     },
     "execution_count": 140,
     "metadata": {},
     "output_type": "execute_result"
    }
   ],
   "source": [
    "result.x_iters"
   ]
  },
  {
   "cell_type": "code",
   "execution_count": 136,
   "metadata": {},
   "outputs": [
    {
     "data": {
      "text/plain": [
       "<Figure size 640x480 with 0 Axes>"
      ]
     },
     "execution_count": 136,
     "metadata": {},
     "output_type": "execute_result"
    },
    {
     "data": {
      "text/plain": [
       "[<matplotlib.lines.Line2D at 0x2b3a5dab90d0>]"
      ]
     },
     "execution_count": 136,
     "metadata": {},
     "output_type": "execute_result"
    },
    {
     "data": {
      "text/plain": [
       "[<matplotlib.lines.Line2D at 0x2b3a62258c10>]"
      ]
     },
     "execution_count": 136,
     "metadata": {},
     "output_type": "execute_result"
    },
    {
     "data": {
      "image/png": "[encoded data removed]",
      "text/plain": [
       "<Figure size 640x480 with 2 Axes>"
      ]
     },
     "metadata": {},
     "output_type": "display_data"
    }
   ],
   "source": [
    "plt.figure()\n",
    "plt.yscale('log')\n",
    "plt.plot(result.func_vals)\n",
    "ax2 = plt.twinx()\n",
    "ax2.plot([x[1] for x in result.x_iters], color='red')"
   ]
  },
  {
   "cell_type": "code",
   "execution_count": 139,
   "metadata": {},
   "outputs": [
    {
     "data": {
      "text/plain": [
       "[0.8845086486218564, -0.645980824596445]"
      ]
     },
     "execution_count": 139,
     "metadata": {},
     "output_type": "execute_result"
    }
   ],
   "source": [
    "result.x"
   ]
  },
  {
   "cell_type": "code",
   "execution_count": 138,
   "metadata": {},
   "outputs": [
    {
     "data": {
      "text/plain": [
       "1.1305711951580004"
      ]
     },
     "execution_count": 138,
     "metadata": {},
     "output_type": "execute_result"
    }
   ],
   "source": [
    "alpha"
   ]
  },
  {
   "cell_type": "code",
   "execution_count": 43,
   "metadata": {},
   "outputs": [
    {
     "name": "stdout",
     "output_type": "stream",
     "text": [
      "Network Properties:\n",
      "nodes, edges\t\t\t504, 630\n",
      "directed?\t\t\tFalse\n",
      "weighted?\t\t\tFalse\n",
      "isolated nodes\t\t\t124\n",
      "self-loops\t\t\t0\n",
      "density\t\t\t\t0.004970\n",
      "clustering coefficient\t\t0.207432\n",
      "min/max/avg degree\t\t0, 68, 2.500000\n",
      "degree assortativity\t\t-0.090538\n",
      "number of connected components\t143\n",
      "size of largest component\t337 (66.87 %)\n"
     ]
    }
   ],
   "source": [
    "nk.overview(gout)"
   ]
  },
  {
   "cell_type": "code",
   "execution_count": 21,
   "metadata": {},
   "outputs": [
    {
     "data": {
      "text/plain": [
       "1.0101010101010102"
      ]
     },
     "execution_count": 21,
     "metadata": {},
     "output_type": "execute_result"
    }
   ],
   "source": [
    "alpha"
   ]
  },
  {
   "cell_type": "code",
   "execution_count": 22,
   "metadata": {},
   "outputs": [],
   "source": [
    "n=1000\n",
    "d=1\n",
    "tau=2.2\n",
    "alpha=1.3\n",
    "desiredAvgDegree=5.0\n",
    "g, const = generation.cgirg_gen_cube(n, d, tau, alpha, desiredAvgDegree=desiredAvgDegree)\n",
    "\n",
    "criterium = lambda g: utils.LCC(g)\n",
    "target = criterium(g)"
   ]
  },
  {
   "cell_type": "code",
   "execution_count": 97,
   "metadata": {},
   "outputs": [
    {
     "name": "stdout",
     "output_type": "stream",
     "text": [
      "Network Properties:\n",
      "nodes, edges\t\t\t502, 1072\n",
      "directed?\t\t\tFalse\n",
      "weighted?\t\t\tFalse\n",
      "isolated nodes\t\t\t39\n",
      "self-loops\t\t\t0\n",
      "density\t\t\t\t0.008525\n",
      "clustering coefficient\t\t0.300628\n",
      "min/max/avg degree\t\t0, 67, 4.270916\n",
      "degree assortativity\t\t-0.086028\n",
      "number of connected components\t46\n",
      "size of largest component\t450 (89.64 %)\n"
     ]
    }
   ],
   "source": [
    "nk.overview(g)"
   ]
  },
  {
   "cell_type": "code",
   "execution_count": null,
   "metadata": {},
   "outputs": [],
   "source": [
    "def fun_to_optimise(t):\n",
    "    alpha = 1/t[0]\n",
    "    g, const = generation.cgirg_gen_cube(n, d, tau, alpha, desiredAvgDegree=desiredAvgDegree)\n",
    "    return (criterium(g) - target)**2"
   ]
  },
  {
   "cell_type": "code",
   "execution_count": null,
   "metadata": {},
   "outputs": [],
   "source": [
    "out_bins = []\n",
    "out_gps = []\n",
    "for _ in range(10):\n",
    "    fit_girg = fe.fit_ndgirg_general(d, criterium)\n",
    "    info, g_out = fit_girg(g, verbose=True)\n",
    "    info = {key: eval(var) for key, var in [x.split('=') for x in info.split('|')]}\n",
    "    out_bins.append(info['alpha'])\n",
    "    \n",
    "    result = gp_minimize(func=fun_to_optimise, dimensions=search_space, n_calls=20, noise=\"gaussian\")\n",
    "    out_gps.append(1/result.x[0])\n",
    "    \n",
    "    print(_)\n",
    "    \n",
    "    "
   ]
  },
  {
   "cell_type": "code",
   "execution_count": 99,
   "metadata": {
    "collapsed": true,
    "jupyter": {
     "outputs_hidden": true
    },
    "tags": []
   },
   "outputs": [
    {
     "name": "stdout",
     "output_type": "stream",
     "text": [
      "no results_df\n",
      "starting search at const=1.02578125; depth=5\n",
      "a: 0.512890625, m: 1.02578125, b: 2.0515625, f_a: 2.8610567514677103, f_m: 6.149377593360996, f_b: 10.253112033195022, goal: 4.270916334661354\n",
      "a: 0.512890625, m: 0.7693359375000001, b: 1.02578125, f_a: 2.8610567514677103, f_m: 4.003937007874016, f_b: 6.149377593360996, goal: 4.270916334661354\n",
      "a: 0.7693359375000001, m: 0.8975585937500001, b: 1.02578125, f_a: 4.003937007874016, f_m: 4.053130929791271, f_b: 6.149377593360996, goal: 4.270916334661354\n",
      "a: 0.8975585937500001, m: 0.9616699218750001, b: 1.02578125, f_a: 4.053130929791271, f_m: 5.1257253384912955, f_b: 6.149377593360996, goal: 4.270916334661354\n"
     ]
    },
    {
     "name": "stderr",
     "output_type": "stream",
     "text": [
      "Values less than or equal to 0 in data. Throwing out 0 or negative values\n"
     ]
    },
    {
     "name": "stdout",
     "output_type": "stream",
     "text": [
      "a: 0.8975585937500001, m: 0.9296142578125002, b: 0.9616699218750001, f_a: 4.053130929791271, f_m: 5.968190854870775, f_b: 5.1257253384912955, goal: 4.270916334661354\n",
      "a: 0.8975585937500001, m: 0.9135864257812502, b: 0.9296142578125002, f_a: 4.053130929791271, f_m: 4.474509803921569, f_b: 5.968190854870775, goal: 4.270916334661354\n",
      "starting search at const=0.14022837881322828; depth=5\n",
      "a: 0.07011418940661414, m: 0.14022837881322828, b: 0.28045675762645655, f_a: 2.7254901960784315, f_m: 4.285714285714286, f_b: 6.810483870967742, goal: 4.270916334661354\n",
      "a: 0.07011418940661414, m: 0.10517128410992121, b: 0.14022837881322828, f_a: 2.7254901960784315, f_m: 4.110476190476191, f_b: 4.285714285714286, goal: 4.270916334661354\n",
      "a: 0.10517128410992121, m: 0.12269983146157475, b: 0.14022837881322828, f_a: 4.110476190476191, f_m: 4.133333333333334, f_b: 4.285714285714286, goal: 4.270916334661354\n",
      "a: 0.12269983146157475, m: 0.1314641051374015, b: 0.14022837881322828, f_a: 4.133333333333334, f_m: 4.299785867237687, f_b: 4.285714285714286, goal: 4.270916334661354\n",
      "a: 0.12269983146157475, m: 0.12708196829948812, b: 0.1314641051374015, f_a: 4.133333333333334, f_m: 4.562248995983936, f_b: 4.299785867237687, goal: 4.270916334661354\n",
      "a: 0.12269983146157475, m: 0.12489089988053143, b: 0.12708196829948812, f_a: 4.133333333333334, f_m: 3.820040899795501, f_b: 4.562248995983936, goal: 4.270916334661354\n",
      "starting search at const=0.5234165107732083; depth=5\n",
      "a: 0.26170825538660414, m: 0.5234165107732083, b: 1.0468330215464166, f_a: 3.1167315175097277, f_m: 5.302231237322515, f_b: 8.623326959847036, goal: 4.270916334661354\n",
      "a: 0.26170825538660414, m: 0.3925623830799062, b: 0.5234165107732083, f_a: 3.1167315175097277, f_m: 3.22020202020202, f_b: 5.302231237322515, goal: 4.270916334661354\n",
      "a: 0.3925623830799062, m: 0.45798944692655724, b: 0.5234165107732083, f_a: 3.22020202020202, f_m: 5.544554455445544, f_b: 5.302231237322515, goal: 4.270916334661354\n",
      "a: 0.3925623830799062, m: 0.4252759150032317, b: 0.45798944692655724, f_a: 3.22020202020202, f_m: 4.01656314699793, f_b: 5.544554455445544, goal: 4.270916334661354\n",
      "a: 0.4252759150032317, m: 0.4416326809648945, b: 0.45798944692655724, f_a: 4.01656314699793, f_m: 5.673786407766991, f_b: 5.544554455445544, goal: 4.270916334661354\n",
      "a: 0.4252759150032317, m: 0.4334542979840631, b: 0.4416326809648945, f_a: 4.01656314699793, f_m: 3.552062868369352, f_b: 5.673786407766991, goal: 4.270916334661354\n",
      "a: 0.01, m: 0.5, b: 0.99, f_a: 0.6531720766427974, f_m: 0.400138465137428, f_b: 0.16862891261117174, goal: 0.30062776831371335\n",
      "starting search at const=0.2920651937806528; depth=5\n",
      "a: 0.1460325968903264, m: 0.2920651937806528, b: 0.5841303875613056, f_a: 2.6504065040650406, f_m: 4.315369261477046, f_b: 11.024574669187146, goal: 4.270916334661354\n",
      "a: 0.1460325968903264, m: 0.2190488953354896, b: 0.2920651937806528, f_a: 2.6504065040650406, f_m: 3.9099804305283756, f_b: 4.315369261477046, goal: 4.270916334661354\n",
      "a: 0.2190488953354896, m: 0.2555570445580712, b: 0.2920651937806528, f_a: 3.9099804305283756, f_m: 3.7509881422924902, f_b: 4.315369261477046, goal: 4.270916334661354\n",
      "a: 0.2555570445580712, m: 0.273811119169362, b: 0.2920651937806528, f_a: 3.7509881422924902, f_m: 4.703933747412008, f_b: 4.315369261477046, goal: 4.270916334661354\n",
      "a: 0.2555570445580712, m: 0.2646840818637166, b: 0.273811119169362, f_a: 3.7509881422924902, f_m: 5.0630975143403445, f_b: 4.703933747412008, goal: 4.270916334661354\n",
      "a: 0.2555570445580712, m: 0.26012056321089394, b: 0.2646840818637166, f_a: 3.7509881422924902, f_m: 4.791208791208791, f_b: 5.0630975143403445, goal: 4.270916334661354\n",
      "a: 0.5, m: 0.745, b: 0.99, f_a: 0.400138465137428, f_m: 0.28207977866302986, f_b: 0.16862891261117174, goal: 0.30062776831371335\n",
      "starting search at const=0.4125292297012568; depth=5\n",
      "a: 0.2062646148506284, m: 0.4125292297012568, b: 0.8250584594025137, f_a: 2.468503937007874, f_m: 5.162426614481409, f_b: 9.427974947807932, goal: 4.270916334661354\n",
      "a: 0.2062646148506284, m: 0.3093969222759426, b: 0.4125292297012568, f_a: 2.468503937007874, f_m: 4.096969696969697, f_b: 5.162426614481409, goal: 4.270916334661354\n",
      "a: 0.3093969222759426, m: 0.3609630759885997, b: 0.4125292297012568, f_a: 4.096969696969697, f_m: 5.0346153846153845, f_b: 5.162426614481409, goal: 4.270916334661354\n",
      "a: 0.3093969222759426, m: 0.33517999913227114, b: 0.3609630759885997, f_a: 4.096969696969697, f_m: 4.611909650924025, f_b: 5.0346153846153845, goal: 4.270916334661354\n",
      "a: 0.3093969222759426, m: 0.3222884607041069, b: 0.33517999913227114, f_a: 4.096969696969697, f_m: 3.497991967871486, f_b: 4.611909650924025, goal: 4.270916334661354\n",
      "a: 0.3222884607041069, m: 0.328734229918189, b: 0.33517999913227114, f_a: 3.497991967871486, f_m: 4.786948176583493, f_b: 4.611909650924025, goal: 4.270916334661354\n",
      "a: 0.5, m: 0.6225, b: 0.745, f_a: 0.400138465137428, f_m: 0.36299721779576444, f_b: 0.28207977866302986, goal: 0.30062776831371335\n",
      "starting search at const=0.33021217539558745; depth=5\n",
      "a: 0.16510608769779372, m: 0.33021217539558745, b: 0.6604243507911749, f_a: 2.72865275142315, f_m: 5.907815631262525, f_b: 9.640316205533598, goal: 4.270916334661354\n",
      "a: 0.16510608769779372, m: 0.2476591315466906, b: 0.33021217539558745, f_a: 2.72865275142315, f_m: 4.936660268714012, f_b: 5.907815631262525, goal: 4.270916334661354\n",
      "a: 0.16510608769779372, m: 0.20638260962224214, b: 0.2476591315466906, f_a: 2.72865275142315, f_m: 2.7169811320754715, f_b: 4.936660268714012, goal: 4.270916334661354\n",
      "a: 0.20638260962224214, m: 0.22702087058446635, b: 0.2476591315466906, f_a: 2.7169811320754715, f_m: 3.090909090909091, f_b: 4.936660268714012, goal: 4.270916334661354\n",
      "a: 0.22702087058446635, m: 0.23734000106557845, b: 0.2476591315466906, f_a: 3.090909090909091, f_m: 3.6437246963562755, f_b: 4.936660268714012, goal: 4.270916334661354\n",
      "a: 0.23734000106557845, m: 0.2424995663061345, b: 0.2476591315466906, f_a: 3.6437246963562755, f_m: 4.381502890173411, f_b: 4.936660268714012, goal: 4.270916334661354\n",
      "a: 0.6225, m: 0.6837500000000001, b: 0.745, f_a: 0.36299721779576444, f_m: 0.3172325907285447, f_b: 0.28207977866302986, goal: 0.30062776831371335\n",
      "starting search at const=0.3358693978996289; depth=5\n",
      "a: 0.16793469894981444, m: 0.3358693978996289, b: 0.6717387957992578, f_a: 2.619433198380567, f_m: 5.948412698412699, f_b: 10.1875, goal: 4.270916334661354\n",
      "a: 0.16793469894981444, m: 0.25190204842472164, b: 0.3358693978996289, f_a: 2.619433198380567, f_m: 4.271457085828343, f_b: 5.948412698412699, goal: 4.270916334661354\n",
      "a: 0.16793469894981444, m: 0.20991837368726804, b: 0.25190204842472164, f_a: 2.619433198380567, f_m: 2.9327902240325865, f_b: 4.271457085828343, goal: 4.270916334661354\n",
      "a: 0.20991837368726804, m: 0.23091021105599485, b: 0.25190204842472164, f_a: 2.9327902240325865, f_m: 3.3703703703703702, f_b: 4.271457085828343, goal: 4.270916334661354\n",
      "a: 0.23091021105599485, m: 0.24140612974035824, b: 0.25190204842472164, f_a: 3.3703703703703702, f_m: 4.028225806451613, f_b: 4.271457085828343, goal: 4.270916334661354\n",
      "a: 0.24140612974035824, m: 0.24665408908253994, b: 0.25190204842472164, f_a: 4.028225806451613, f_m: 4.076612903225806, f_b: 4.271457085828343, goal: 4.270916334661354\n",
      "a: 0.6837500000000001, m: 0.714375, b: 0.745, f_a: 0.3172325907285447, f_m: 0.2975961856449859, f_b: 0.28207977866302986, goal: 0.30062776831371335\n",
      "starting search at const=0.3234693745602287; depth=5\n",
      "a: 0.16173468728011434, m: 0.3234693745602287, b: 0.6469387491204573, f_a: 2.1417624521072796, f_m: 6.040160642570281, f_b: 8.85171102661597, goal: 4.270916334661354\n",
      "a: 0.16173468728011434, m: 0.24260203092017152, b: 0.3234693745602287, f_a: 2.1417624521072796, f_m: 3.032388663967611, f_b: 6.040160642570281, goal: 4.270916334661354\n",
      "a: 0.24260203092017152, m: 0.28303570274020007, b: 0.3234693745602287, f_a: 3.032388663967611, f_m: 3.5555555555555554, f_b: 6.040160642570281, goal: 4.270916334661354\n",
      "a: 0.28303570274020007, m: 0.3032525386502144, b: 0.3234693745602287, f_a: 3.5555555555555554, f_m: 4.973737373737373, f_b: 6.040160642570281, goal: 4.270916334661354\n",
      "a: 0.28303570274020007, m: 0.29314412069520723, b: 0.3032525386502144, f_a: 3.5555555555555554, f_m: 3.9441340782122905, f_b: 4.973737373737373, goal: 4.270916334661354\n",
      "a: 0.29314412069520723, m: 0.2981983296727108, b: 0.3032525386502144, f_a: 3.9441340782122905, f_m: 4.842911877394636, f_b: 4.973737373737373, goal: 4.270916334661354\n",
      "a: 0.6837500000000001, m: 0.6990625, b: 0.714375, f_a: 0.3172325907285447, f_m: 0.4162902414896761, f_b: 0.2975961856449859, goal: 0.30062776831371335\n",
      "starting search at const=0.31211876529203875; depth=5\n",
      "a: 0.15605938264601937, m: 0.31211876529203875, b: 0.6242375305840775, f_a: 2.73767258382643, f_m: 5.992172211350294, f_b: 8.163865546218487, goal: 4.270916334661354\n",
      "a: 0.15605938264601937, m: 0.23408907396902906, b: 0.31211876529203875, f_a: 2.73767258382643, f_m: 3.554192229038855, f_b: 5.992172211350294, goal: 4.270916334661354\n",
      "a: 0.23408907396902906, m: 0.27310391963053393, b: 0.31211876529203875, f_a: 3.554192229038855, f_m: 4.489151873767258, f_b: 5.992172211350294, goal: 4.270916334661354\n",
      "a: 0.23408907396902906, m: 0.25359649679978147, b: 0.27310391963053393, f_a: 3.554192229038855, f_m: 4.243137254901961, f_b: 4.489151873767258, goal: 4.270916334661354\n",
      "a: 0.25359649679978147, m: 0.2633502082151577, b: 0.27310391963053393, f_a: 4.243137254901961, f_m: 5.1029126213592235, f_b: 4.489151873767258, goal: 4.270916334661354\n",
      "a: 0.25359649679978147, m: 0.2584733525074696, b: 0.2633502082151577, f_a: 4.243137254901961, f_m: 4.399239543726236, f_b: 5.1029126213592235, goal: 4.270916334661354\n",
      "a: 0.6990625, m: 0.7067187500000001, b: 0.714375, f_a: 0.4162902414896761, f_m: 0.24369337690443588, f_b: 0.2975961856449859, goal: 0.30062776831371335\n",
      "starting search at const=0.3177844796730923; depth=5\n",
      "a: 0.15889223983654616, m: 0.3177844796730923, b: 0.6355689593461846, f_a: 2.2243713733075436, f_m: 4.769230769230769, f_b: 10.622129436325679, goal: 4.270916334661354\n",
      "a: 0.15889223983654616, m: 0.23833835975481923, b: 0.3177844796730923, f_a: 2.2243713733075436, f_m: 4.429133858267717, f_b: 4.769230769230769, goal: 4.270916334661354\n",
      "a: 0.15889223983654616, m: 0.1986152997956827, b: 0.23833835975481923, f_a: 2.2243713733075436, f_m: 2.796039603960396, f_b: 4.429133858267717, goal: 4.270916334661354\n",
      "a: 0.1986152997956827, m: 0.21847682977525096, b: 0.23833835975481923, f_a: 2.796039603960396, f_m: 3.913757700205339, f_b: 4.429133858267717, goal: 4.270916334661354\n",
      "a: 0.21847682977525096, m: 0.22840759476503508, b: 0.23833835975481923, f_a: 3.913757700205339, f_m: 3.9081836327345307, f_b: 4.429133858267717, goal: 4.270916334661354\n",
      "a: 0.22840759476503508, m: 0.23337297725992717, b: 0.23833835975481923, f_a: 3.9081836327345307, f_m: 3.2868525896414345, f_b: 4.429133858267717, goal: 4.270916334661354\n",
      "a: 0.6990625, m: 0.702890625, b: 0.7067187500000001, f_a: 0.4162902414896761, f_m: 0.3573570816800079, f_b: 0.24369337690443588, goal: 0.30062776831371335\n",
      "starting search at const=0.32620741883241444; depth=5\n",
      "a: 0.16310370941620722, m: 0.32620741883241444, b: 0.6524148376648289, f_a: 3.065040650406504, f_m: 5.862212943632568, f_b: 8.032854209445585, goal: 4.270916334661354\n",
      "a: 0.16310370941620722, m: 0.24465556412431083, b: 0.32620741883241444, f_a: 3.065040650406504, f_m: 2.9893390191897655, f_b: 5.862212943632568, goal: 4.270916334661354\n",
      "a: 0.24465556412431083, m: 0.28543149147836266, b: 0.32620741883241444, f_a: 2.9893390191897655, f_m: 4.016227180527383, f_b: 5.862212943632568, goal: 4.270916334661354\n",
      "a: 0.28543149147836266, m: 0.30581945515538855, b: 0.32620741883241444, f_a: 4.016227180527383, f_m: 4.644268774703558, f_b: 5.862212943632568, goal: 4.270916334661354\n",
      "a: 0.28543149147836266, m: 0.2956254733168756, b: 0.30581945515538855, f_a: 4.016227180527383, f_m: 4.224448897795591, f_b: 4.644268774703558, goal: 4.270916334661354\n",
      "a: 0.2956254733168756, m: 0.3007224642361321, b: 0.30581945515538855, f_a: 4.224448897795591, f_m: 4.708661417322834, f_b: 4.644268774703558, goal: 4.270916334661354\n",
      "a: 0.702890625, m: 0.7048046875, b: 0.7067187500000001, f_a: 0.3573570816800079, f_m: 0.37302855560801573, f_b: 0.24369337690443588, goal: 0.30062776831371335\n",
      "starting search at const=0.3319529399573329; depth=5\n",
      "a: 0.16597646997866644, m: 0.3319529399573329, b: 0.6639058799146658, f_a: 2.764940239043825, f_m: 5.56385068762279, f_b: 10.510121457489879, goal: 4.270916334661354\n",
      "a: 0.16597646997866644, m: 0.24896470496799966, b: 0.3319529399573329, f_a: 2.764940239043825, f_m: 4.066797642436149, f_b: 5.56385068762279, goal: 4.270916334661354\n",
      "a: 0.24896470496799966, m: 0.2904588224626663, b: 0.3319529399573329, f_a: 4.066797642436149, f_m: 4.027667984189724, f_b: 5.56385068762279, goal: 4.270916334661354\n",
      "a: 0.2904588224626663, m: 0.3112058812099996, b: 0.3319529399573329, f_a: 4.027667984189724, f_m: 4.395303326810176, f_b: 5.56385068762279, goal: 4.270916334661354\n",
      "a: 0.2904588224626663, m: 0.30083235183633295, b: 0.3112058812099996, f_a: 4.027667984189724, f_m: 4.729957805907173, f_b: 4.395303326810176, goal: 4.270916334661354\n",
      "a: 0.2904588224626663, m: 0.2956455871494996, b: 0.30083235183633295, f_a: 4.027667984189724, f_m: 4.686159844054581, f_b: 4.729957805907173, goal: 4.270916334661354\n",
      "a: 0.7048046875, m: 0.70576171875, b: 0.7067187500000001, f_a: 0.37302855560801573, f_m: 0.33026927832700925, f_b: 0.24369337690443588, goal: 0.30062776831371335\n",
      "starting search at const=0.33164583528902103; depth=5\n",
      "a: 0.16582291764451051, m: 0.33164583528902103, b: 0.6632916705780421, f_a: 3.143418467583497, f_m: 5.574952561669829, f_b: 9.284584980237154, goal: 4.270916334661354\n",
      "a: 0.16582291764451051, m: 0.24873437646676577, b: 0.33164583528902103, f_a: 3.143418467583497, f_m: 3.6713426853707416, f_b: 5.574952561669829, goal: 4.270916334661354\n",
      "a: 0.24873437646676577, m: 0.2901901058778934, b: 0.33164583528902103, f_a: 3.6713426853707416, f_m: 4.780287474332649, f_b: 5.574952561669829, goal: 4.270916334661354\n",
      "a: 0.24873437646676577, m: 0.2694622411723296, b: 0.2901901058778934, f_a: 3.6713426853707416, f_m: 4.0623781676413255, f_b: 4.780287474332649, goal: 4.270916334661354\n",
      "a: 0.2694622411723296, m: 0.2798261735251115, b: 0.2901901058778934, f_a: 4.0623781676413255, f_m: 4.212058212058212, f_b: 4.780287474332649, goal: 4.270916334661354\n",
      "a: 0.2798261735251115, m: 0.28500813970150246, b: 0.2901901058778934, f_a: 4.212058212058212, f_m: 4.252587991718427, f_b: 4.780287474332649, goal: 4.270916334661354\n",
      "a: 0.70576171875, m: 0.706240234375, b: 0.7067187500000001, f_a: 0.33026927832700925, f_m: 0.33338320561660506, f_b: 0.24369337690443588, goal: 0.30062776831371335\n"
     ]
    }
   ],
   "source": [
    "import feature_extractor\n",
    "fe = feature_extractor.FeatureExtractor([])\n",
    "fit_girg = fe.fit_ndgirg_general(d, criterium, cube=True, verbose=True)\n",
    "info, g_out = fit_girg(g, verbose=True)\n",
    "info = {key: eval(var) for key, var in [x.split('=') for x in info.split('|')]}"
   ]
  },
  {
   "cell_type": "code",
   "execution_count": 95,
   "metadata": {},
   "outputs": [
    {
     "data": {
      "text/plain": [
       "{'tau': 2.484172850921161,\n",
       " 'alpha': 1.3440084000525,\n",
       " 'const': 0.26317441888663523,\n",
       " 'target_lcc': 0.30062776831371335,\n",
       " 'fit_lcc': 0.23688398282027884,\n",
       " 'fitting_time': 4.181824684143066,\n",
       " 'hist': [(2.0, 0.4689389221727632),\n",
       "  (1.342281879194631, 0.22597630812668534),\n",
       "  (1.6064257028112447, 0.33136215010561293),\n",
       "  (1.462522851919561, 0.33924126771038493),\n",
       "  (1.399825021872266, 0.3015615277860275),\n",
       "  (1.3704496788008564, 0.3302838813506157),\n",
       "  (1.35621953803772, 0.31878670307483464),\n",
       "  (1.349214714872984, 0.3113808247150434),\n",
       "  (1.345739368133312, 0.35684607885219705),\n",
       "  (1.3440084000525, 0.3057110512716951),\n",
       "  (1.3440084000525, 0.3057110512716951)]}"
      ]
     },
     "execution_count": 95,
     "metadata": {},
     "output_type": "execute_result"
    }
   ],
   "source": [
    "info"
   ]
  },
  {
   "cell_type": "code",
   "execution_count": 103,
   "metadata": {},
   "outputs": [
    {
     "name": "stdout",
     "output_type": "stream",
     "text": [
      "0.35493997785404807\n",
      "0.30062776831371335\n",
      "4.270916334661354\n",
      "4.646341463414634\n"
     ]
    }
   ],
   "source": [
    "print(utils.LCC(g_out))\n",
    "print(target_lcc)\n",
    "print(target_avg_degree)\n",
    "print(utils.avg_degree(g_out))"
   ]
  },
  {
   "cell_type": "code",
   "execution_count": 102,
   "metadata": {},
   "outputs": [
    {
     "name": "stdout",
     "output_type": "stream",
     "text": [
      "Network Properties:\n",
      "nodes, edges\t\t\t492, 1143\n",
      "directed?\t\t\tFalse\n",
      "weighted?\t\t\tFalse\n",
      "isolated nodes\t\t\t28\n",
      "self-loops\t\t\t0\n",
      "density\t\t\t\t0.009463\n",
      "clustering coefficient\t\t0.354940\n",
      "min/max/avg degree\t\t0, 122, 4.646341\n",
      "degree assortativity\t\t-0.108986\n",
      "number of connected components\t34\n",
      "size of largest component\t451 (91.67 %)\n"
     ]
    }
   ],
   "source": [
    "nk.overview(g_out)"
   ]
  },
  {
   "cell_type": "code",
   "execution_count": null,
   "metadata": {},
   "outputs": [],
   "source": []
  },
  {
   "cell_type": "code",
   "execution_count": 28,
   "metadata": {},
   "outputs": [
    {
     "data": {
      "text/plain": [
       "<matplotlib.collections.PathCollection at 0x2b8377058e50>"
      ]
     },
     "execution_count": 28,
     "metadata": {},
     "output_type": "execute_result"
    },
    {
     "data": {
      "image/png": "[encoded data removed]",
      "text/plain": [
       "<Figure size 640x480 with 1 Axes>"
      ]
     },
     "metadata": {},
     "output_type": "display_data"
    }
   ],
   "source": [
    "plt.scatter([x[0] for x in info['hist']], [x[1] for x in info['hist']])"
   ]
  },
  {
   "cell_type": "code",
   "execution_count": 29,
   "metadata": {},
   "outputs": [
    {
     "name": "stdout",
     "output_type": "stream",
     "text": [
      "1.01\n",
      "1.1\n",
      "1.3\n",
      "1.6\n",
      "2.1\n",
      "3.0\n"
     ]
    }
   ],
   "source": [
    "n = 1000\n",
    "alphas = [1.01, 1.1, 1.3, 1.6, 2.1, 3.0]\n",
    "points = []\n",
    "for alpha in alphas:\n",
    "    print(alpha)\n",
    "    for _ in range(3):\n",
    "        gnk, edges, weights, pts, const, id2gnk = generation.cgirg_gen(n, d, tau, alpha, desiredAvgDegree=20.0)\n",
    "        points.append((alpha, criterium(gnk)))\n"
   ]
  },
  {
   "cell_type": "code",
   "execution_count": 30,
   "metadata": {},
   "outputs": [
    {
     "data": {
      "text/plain": [
       "<matplotlib.collections.PathCollection at 0x2b837beb8400>"
      ]
     },
     "execution_count": 30,
     "metadata": {},
     "output_type": "execute_result"
    },
    {
     "data": {
      "image/png": "[encoded data removed]",
      "text/plain": [
       "<Figure size 640x480 with 1 Axes>"
      ]
     },
     "metadata": {},
     "output_type": "display_data"
    }
   ],
   "source": [
    "plt.scatter([x[0] for x in points], [x[1] for x in points])"
   ]
  },
  {
   "cell_type": "code",
   "execution_count": 32,
   "metadata": {},
   "outputs": [
    {
     "name": "stdout",
     "output_type": "stream",
     "text": [
      "1.01\n",
      "1.1\n",
      "1.3\n",
      "1.6\n",
      "2.1\n",
      "3.0\n"
     ]
    },
    {
     "data": {
      "text/plain": [
       "<matplotlib.collections.PathCollection at 0x2b83790d9d30>"
      ]
     },
     "execution_count": 32,
     "metadata": {},
     "output_type": "execute_result"
    },
    {
     "data": {
      "image/png": "[encoded data removed]",
      "text/plain": [
       "<Figure size 640x480 with 1 Axes>"
      ]
     },
     "metadata": {},
     "output_type": "display_data"
    }
   ],
   "source": [
    "criterium = lambda g: utils.LCC(g)\n",
    "\n",
    "n = 1000\n",
    "alphas = [1.01, 1.1, 1.3, 1.6, 2.1, 3.0]\n",
    "points = []\n",
    "for alpha in alphas:\n",
    "    print(alpha)\n",
    "    for _ in range(3):\n",
    "        gnk, edges, weights, pts, const, id2gnk = generation.cgirg_gen(n, d, tau, alpha, desiredAvgDegree=20.0)\n",
    "        points.append((alpha, criterium(gnk)))\n",
    "plt.scatter([x[0] for x in points], [x[1] for x in points])"
   ]
  },
  {
   "cell_type": "code",
   "execution_count": 33,
   "metadata": {},
   "outputs": [
    {
     "name": "stdout",
     "output_type": "stream",
     "text": [
      "1.01\n",
      "1.1\n",
      "1.3\n",
      "1.6\n",
      "2.1\n",
      "3.0\n"
     ]
    },
    {
     "data": {
      "text/plain": [
       "<matplotlib.collections.PathCollection at 0x2b837beb8c70>"
      ]
     },
     "execution_count": 33,
     "metadata": {},
     "output_type": "execute_result"
    },
    {
     "data": {
      "image/png": "[encoded data removed]",
      "text/plain": [
       "<Figure size 640x480 with 1 Axes>"
      ]
     },
     "metadata": {},
     "output_type": "display_data"
    }
   ],
   "source": [
    "criterium = lambda g: fitting.regularised_std_graph_distance(g)\n",
    "\n",
    "n = 1000\n",
    "alphas = [1.01, 1.1, 1.3, 1.6, 2.1, 3.0]\n",
    "points = []\n",
    "for alpha in alphas:\n",
    "    print(alpha)\n",
    "    for _ in range(3):\n",
    "        gnk, edges, weights, pts, const, id2gnk = generation.cgirg_gen(n, d, tau, alpha, desiredAvgDegree=20.0)\n",
    "        points.append((alpha, criterium(gnk)))\n",
    "plt.scatter([x[0] for x in points], [x[1] for x in points])"
   ]
  },
  {
   "cell_type": "code",
   "execution_count": 50,
   "metadata": {},
   "outputs": [
    {
     "name": "stdout",
     "output_type": "stream",
     "text": [
      "1.02\n",
      "1.1\n",
      "1.3\n",
      "1.6\n",
      "2.0\n",
      "3.5\n"
     ]
    },
    {
     "data": {
      "image/png": "[encoded data removed]",
      "text/plain": [
       "<Figure size 640x480 with 1 Axes>"
      ]
     },
     "metadata": {},
     "output_type": "display_data"
    }
   ],
   "source": [
    "metric_func = lambda g: np.mean(fitting.biBFS_sample(g))\n",
    "metric_func_name = 'mean graph distance'\n",
    "df = plotting.metric_func_alphas_plot(n=1000, d=2, tau=2.1, target_degree=20.0, metric_func=metric_func,\n",
    "                                      metric_func_name=metric_func_name, alphas=[1.02, 1.1, 1.3, 1.6, 2.0, 3.5])"
   ]
  },
  {
   "cell_type": "code",
   "execution_count": 51,
   "metadata": {},
   "outputs": [
    {
     "name": "stdout",
     "output_type": "stream",
     "text": [
      "1.02\n",
      "1.1\n",
      "1.3\n",
      "1.6\n",
      "2.0\n",
      "3.5\n"
     ]
    },
    {
     "data": {
      "image/png": "[encoded data removed]",
      "text/plain": [
       "<Figure size 640x480 with 1 Axes>"
      ]
     },
     "metadata": {},
     "output_type": "display_data"
    }
   ],
   "source": [
    "metric_func = fitting.regularised_mean_graph_distance\n",
    "metric_func_name = 'mean graph distance'\n",
    "df = plotting.metric_func_alphas_plot(n=1000, d=2, tau=2.1, target_degree=20.0, metric_func=metric_func,\n",
    "                                      metric_func_name=metric_func_name, alphas=[1.02, 1.1, 1.3, 1.6, 2.0, 3.5])"
   ]
  },
  {
   "cell_type": "code",
   "execution_count": 52,
   "metadata": {},
   "outputs": [
    {
     "name": "stdout",
     "output_type": "stream",
     "text": [
      "1.02\n",
      "1.1\n",
      "1.3\n",
      "1.6\n",
      "2.0\n",
      "3.5\n"
     ]
    },
    {
     "data": {
      "image/png": "[encoded data removed]",
      "text/plain": [
       "<Figure size 640x480 with 1 Axes>"
      ]
     },
     "metadata": {},
     "output_type": "display_data"
    }
   ],
   "source": [
    "metric_func = utils.LCC\n",
    "metric_func_name = 'LCC'\n",
    "df = plotting.metric_func_alphas_plot(n=1000, d=2, tau=2.1, target_degree=20.0, metric_func=metric_func,\n",
    "                                      metric_func_name=metric_func_name, alphas=[1.02, 1.1, 1.3, 1.6, 2.0, 3.5])"
   ]
  },
  {
   "cell_type": "code",
   "execution_count": 53,
   "metadata": {},
   "outputs": [
    {
     "name": "stdout",
     "output_type": "stream",
     "text": [
      "1.02\n",
      "1.1\n",
      "1.3\n",
      "1.6\n",
      "2.0\n",
      "3.5\n"
     ]
    },
    {
     "data": {
      "image/png": "[encoded data removed]",
      "text/plain": [
       "<Figure size 640x480 with 1 Axes>"
      ]
     },
     "metadata": {},
     "output_type": "display_data"
    }
   ],
   "source": [
    "metric_func = lambda g: np.mean(fitting.biBFS_sample(g))\n",
    "metric_func_name = 'mean graph distance'\n",
    "df = plotting.metric_func_alphas_plot(n=1000, d=3, tau=2.1, target_degree=20.0, metric_func=metric_func,\n",
    "                                      metric_func_name=metric_func_name, alphas=[1.02, 1.1, 1.3, 1.6, 2.0, 3.5])"
   ]
  },
  {
   "cell_type": "code",
   "execution_count": 54,
   "metadata": {},
   "outputs": [
    {
     "name": "stdout",
     "output_type": "stream",
     "text": [
      "1.02\n",
      "1.1\n",
      "1.3\n",
      "1.6\n",
      "2.0\n",
      "3.5\n"
     ]
    },
    {
     "data": {
      "image/png": "[encoded data removed]",
      "text/plain": [
       "<Figure size 640x480 with 1 Axes>"
      ]
     },
     "metadata": {},
     "output_type": "display_data"
    }
   ],
   "source": [
    "metric_func = fitting.regularised_mean_graph_distance\n",
    "metric_func_name = 'mean graph distance'\n",
    "df = plotting.metric_func_alphas_plot(n=1000, d=3, tau=2.1, target_degree=20.0, metric_func=metric_func,\n",
    "                                      metric_func_name=metric_func_name, alphas=[1.02, 1.1, 1.3, 1.6, 2.0, 3.5])"
   ]
  },
  {
   "cell_type": "code",
   "execution_count": 55,
   "metadata": {},
   "outputs": [
    {
     "name": "stdout",
     "output_type": "stream",
     "text": [
      "1.02\n",
      "1.1\n",
      "1.3\n",
      "1.6\n",
      "2.0\n",
      "3.5\n"
     ]
    },
    {
     "data": {
      "image/png": "[encoded data removed]",
      "text/plain": [
       "<Figure size 640x480 with 1 Axes>"
      ]
     },
     "metadata": {},
     "output_type": "display_data"
    }
   ],
   "source": [
    "metric_func = utils.LCC\n",
    "metric_func_name = 'LCC'\n",
    "df = plotting.metric_func_alphas_plot(n=1000, d=3, tau=2.1, target_degree=20.0, metric_func=metric_func,\n",
    "                                      metric_func_name=metric_func_name, alphas=[1.02, 1.1, 1.3, 1.6, 2.0, 3.5])"
   ]
  },
  {
   "cell_type": "code",
   "execution_count": null,
   "metadata": {},
   "outputs": [],
   "source": []
  },
  {
   "cell_type": "code",
   "execution_count": 13,
   "metadata": {},
   "outputs": [
    {
     "name": "stdout",
     "output_type": "stream",
     "text": [
      "1.02\n",
      "1.1\n",
      "1.3\n",
      "1.6\n",
      "2.0\n",
      "3.5\n"
     ]
    },
    {
     "data": {
      "image/png": "[encoded data removed]",
      "text/plain": [
       "<Figure size 640x480 with 1 Axes>"
      ]
     },
     "metadata": {},
     "output_type": "display_data"
    }
   ],
   "source": [
    "metric_func = lambda g: np.mean(fitting.biBFS_sample(g))\n",
    "metric_func_name = 'mean graph distance'\n",
    "df = plotting.metric_func_alphas_plot(n=500, d=5, tau=2.1, target_degree=20.0, metric_func=metric_func,\n",
    "                                      metric_func_name=metric_func_name, alphas=[1.02, 1.1, 1.3, 1.6, 2.0, 3.5], num_points=5)"
   ]
  },
  {
   "cell_type": "code",
   "execution_count": 14,
   "metadata": {},
   "outputs": [
    {
     "name": "stdout",
     "output_type": "stream",
     "text": [
      "1.02\n",
      "1.1\n",
      "1.3\n",
      "1.6\n",
      "2.0\n",
      "3.5\n"
     ]
    },
    {
     "data": {
      "image/png": "[encoded data removed]",
      "text/plain": [
       "<Figure size 640x480 with 1 Axes>"
      ]
     },
     "metadata": {},
     "output_type": "display_data"
    }
   ],
   "source": [
    "metric_func = utils.LCC\n",
    "metric_func_name = 'LCC'\n",
    "df = plotting.metric_func_alphas_plot(n=1000, d=4, tau=2.8, target_degree=60.0, metric_func=metric_func,\n",
    "                                      metric_func_name=metric_func_name, alphas=[1.02, 1.1, 1.3, 1.6, 2.0, 3.5], num_points=6)"
   ]
  },
  {
   "cell_type": "code",
   "execution_count": 15,
   "metadata": {},
   "outputs": [
    {
     "name": "stdout",
     "output_type": "stream",
     "text": [
      "1.02\n",
      "1.1\n",
      "1.3\n",
      "1.6\n",
      "2.0\n",
      "3.5\n"
     ]
    },
    {
     "data": {
      "image/png": "[encoded data removed]",
      "text/plain": [
       "<Figure size 640x480 with 1 Axes>"
      ]
     },
     "metadata": {},
     "output_type": "display_data"
    }
   ],
   "source": [
    "metric_func = fitting.regularised_mean_graph_distance\n",
    "metric_func_name = 'mean graph distance'\n",
    "df = plotting.metric_func_alphas_plot(n=1000, d=4, tau=2.8, target_degree=60.0, metric_func=metric_func,\n",
    "                                      metric_func_name=metric_func_name, alphas=[1.02, 1.1, 1.3, 1.6, 2.0, 3.5], num_points=6)"
   ]
  },
  {
   "cell_type": "code",
   "execution_count": null,
   "metadata": {},
   "outputs": [],
   "source": []
  },
  {
   "cell_type": "code",
   "execution_count": null,
   "metadata": {},
   "outputs": [],
   "source": []
  },
  {
   "cell_type": "code",
   "execution_count": null,
   "metadata": {},
   "outputs": [],
   "source": []
  },
  {
   "cell_type": "code",
   "execution_count": null,
   "metadata": {},
   "outputs": [],
   "source": []
  },
  {
   "cell_type": "code",
   "execution_count": null,
   "metadata": {},
   "outputs": [],
   "source": []
  },
  {
   "cell_type": "code",
   "execution_count": null,
   "metadata": {},
   "outputs": [],
   "source": []
  },
  {
   "cell_type": "code",
   "execution_count": 49,
   "metadata": {},
   "outputs": [
    {
     "name": "stdout",
     "output_type": "stream",
     "text": [
      "1.02\n",
      "1.1\n",
      "1.3\n",
      "1.6\n",
      "2.0\n",
      "3.5\n"
     ]
    },
    {
     "data": {
      "image/png": "[encoded data removed]",
      "text/plain": [
       "<Figure size 640x480 with 1 Axes>"
      ]
     },
     "metadata": {},
     "output_type": "display_data"
    }
   ],
   "source": [
    "metric_func = fitting.regularised_std_graph_distance\n",
    "metric_func_name = 'std graph distance'\n",
    "df = plotting.metric_func_alphas_plot(n=1000, d=1, tau=2.1, target_degree=20.0, metric_func=metric_func,\n",
    "                                      metric_func_name=metric_func_name, alphas=[1.02, 1.1, 1.3, 1.6, 2.0, 3.5])"
   ]
  },
  {
   "cell_type": "code",
   "execution_count": null,
   "metadata": {},
   "outputs": [],
   "source": []
  },
  {
   "cell_type": "code",
   "execution_count": null,
   "metadata": {},
   "outputs": [],
   "source": []
  },
  {
   "cell_type": "code",
   "execution_count": null,
   "metadata": {},
   "outputs": [],
   "source": [
    "metric_func = utils.LCC\n",
    "metric_func_name = 'LCC'\n",
    "df = plotting.metric_func_alphas_plot(1000, 1, 2.1, 20.0, metric_func, metric_func_name, alphas=[1.02, 1.08, 1.3, 1.6, 2.0, 3.5])"
   ]
  },
  {
   "cell_type": "code",
   "execution_count": 24,
   "metadata": {},
   "outputs": [
    {
     "data": {
      "text/plain": [
       "'[(2.0, 28.560561063292), (1.342281879194631, 34.597050691580954), (1.1527377521613833, 30.86568793887819), (1.0767160161507403, 31.877292438763845), (1.1134307585247043, 32.58168665955895), (1.1327433628318584, 35.19560504021906), (1.142653097661132, 31.655936495682237), (1.1476732717654443, 27.109872766814203), (1.150199937098441, 31.41024197458965), (1.1514674463060834, 25.34548488111069), (1.1527377521613833, 30.86568793887819)]'"
      ]
     },
     "execution_count": 24,
     "metadata": {},
     "output_type": "execute_result"
    }
   ],
   "source": [
    "info['hist']"
   ]
  },
  {
   "cell_type": "code",
   "execution_count": 81,
   "metadata": {},
   "outputs": [
    {
     "name": "stdout",
     "output_type": "stream",
     "text": [
      "Network Properties:\n",
      "nodes, edges\t\t\t5000, 102268\n",
      "directed?\t\t\tFalse\n",
      "weighted?\t\t\tFalse\n",
      "isolated nodes\t\t\t0\n",
      "self-loops\t\t\t0\n",
      "density\t\t\t\t0.008183\n",
      "clustering coefficient\t\t0.337606\n",
      "min/max/avg degree\t\t5, 2133, 40.907200\n",
      "degree assortativity\t\t-0.064760\n",
      "number of connected components\t1\n",
      "size of largest component\t5000 (100.00 %)\n"
     ]
    }
   ],
   "source": [
    "n=2000\n",
    "d=2\n",
    "tau=2.5\n",
    "alpha=1.3\n",
    "g, edges, weights, pts = generation.generate_GIRG_nk(n, d, tau, alpha, const=0.3)\n",
    "nk.overview(g)\n",
    "\n",
    "def girg_gen_func(const):\n",
    "    g, edges, weights, pts = generation.generate_GIRG_nk(n, d, tau, alpha, const=const)\n",
    "    return g\n",
    "\n",
    "gcf = fitting.GirgConstFitter(10.0, girg_gen_func)\n",
    "gcf.verbose=True"
   ]
  },
  {
   "cell_type": "code",
   "execution_count": 108,
   "metadata": {},
   "outputs": [
    {
     "name": "stdout",
     "output_type": "stream",
     "text": [
      "Network Properties:\n",
      "nodes, edges\t\t\t2000, 22063\n",
      "directed?\t\t\tFalse\n",
      "weighted?\t\t\tFalse\n",
      "isolated nodes\t\t\t0\n",
      "self-loops\t\t\t0\n",
      "density\t\t\t\t0.011037\n",
      "clustering coefficient\t\t0.754216\n",
      "min/max/avg degree\t\t2, 1546, 22.063000\n",
      "degree assortativity\t\t-0.141511\n",
      "number of connected components\t1\n",
      "size of largest component\t2000 (100.00 %)\n"
     ]
    }
   ],
   "source": [
    "nk.overview(g)"
   ]
  },
  {
   "cell_type": "code",
   "execution_count": 121,
   "metadata": {},
   "outputs": [
    {
     "name": "stderr",
     "output_type": "stream",
     "text": [
      "/Users/benjidayan/GDrive/eth_courses/GIRG/benji_src/benji_girgs/generation.py:155: RuntimeWarning: divide by zero encountered in divide\n",
      "  p_uv = np.divide(outer, dists**d)\n"
     ]
    },
    {
     "name": "stdout",
     "output_type": "stream",
     "text": [
      "fitting\n",
      "done\n"
     ]
    },
    {
     "name": "stderr",
     "output_type": "stream",
     "text": [
      "/Users/benjidayan/GDrive/eth_courses/GIRG/benji_src/benji_girgs/fitting.py:89: RuntimeWarning: invalid value encountered in cast\n",
      "  distances = np.array(np.nan_to_num(distances)).astype(np.int64)\n"
     ]
    },
    {
     "data": {
      "text/plain": [
       "(array([  6.,  26.,  78.,   0., 171., 278.,   0., 306., 119.,  16.]),\n",
       " array([1. , 1.7, 2.4, 3.1, 3.8, 4.5, 5.2, 5.9, 6.6, 7.3, 8. ]),\n",
       " <BarContainer object of 10 artists>)"
      ]
     },
     "execution_count": 121,
     "metadata": {},
     "output_type": "execute_result"
    },
    {
     "name": "stdout",
     "output_type": "stream",
     "text": [
      "alpha: 2.000, std_dist: 1.309\n",
      "fitting\n",
      "done\n"
     ]
    },
    {
     "data": {
      "text/plain": [
       "(array([ 27.,  34.,  47.,  66.,  94., 282., 158., 134.,  90.,  68.]),\n",
       " array([ 1. ,  2.2,  3.4,  4.6,  5.8,  7. ,  8.2,  9.4, 10.6, 11.8, 13. ]),\n",
       " <BarContainer object of 10 artists>)"
      ]
     },
     "execution_count": 121,
     "metadata": {},
     "output_type": "execute_result"
    },
    {
     "name": "stdout",
     "output_type": "stream",
     "text": [
      "alpha: 5.000, std_dist: 2.568\n"
     ]
    },
    {
     "data": {
      "text/plain": [
       "<matplotlib.legend.Legend at 0x2b5f5d760>"
      ]
     },
     "execution_count": 121,
     "metadata": {},
     "output_type": "execute_result"
    },
    {
     "data": {
      "image/png": "[encoded data removed]",
      "text/plain": [
       "<Figure size 640x480 with 1 Axes>"
      ]
     },
     "metadata": {},
     "output_type": "display_data"
    }
   ],
   "source": [
    "n=2000\n",
    "d=2\n",
    "tau=2.5\n",
    "alphas=1.01, 1.3, 2.0, 5.0\n",
    "alphas = 2.0, 5.0\n",
    "for alpha in alphas:\n",
    "    for _ in range(1):\n",
    "        # g, edges, weights, pts = generation.generate_GIRG_nk(n, d, tau, alpha, const=0.03)\n",
    "        def girg_gen_func(const):\n",
    "            g, edges, weights, pts = generation.generate_GIRG_nk(n, d, tau, alpha, const=const)\n",
    "            return g\n",
    "\n",
    "        gcf = fitting.GirgConstFitter(25.0, girg_gen_func)\n",
    "        print('fitting')\n",
    "        gcf.fit()\n",
    "        print('done')\n",
    "        g = gcf.girg_gen_func(gcf.const)\n",
    "\n",
    "        dd = nk.centrality.DegreeCentrality(g).run().scores()\n",
    "        dd = np.array(dd)\n",
    "        bot_90_indices = np.argsort(dd)[:int(0.9*len(dd))]\n",
    "        # len(dd)\n",
    "        # len(bot_90_indices)\n",
    "        g_sub = utils.quick_subgraph(g, bot_90_indices)\n",
    "        distances, std_distances, unique_dists, dist_counts = fitting.graph_distances(g_sub)\n",
    "        plt.hist(distances, alpha=0.5, label=f'alpha: {alpha:.3f}')\n",
    "        print(f'alpha: {alpha:.3f}, std_dist: {std_distances:.3f}')\n",
    "        # print(f'ED: {ed.getEffectiveDiameter():.3f}')\n",
    "\n",
    "plt.legend()\n"
   ]
  },
  {
   "cell_type": "code",
   "execution_count": 123,
   "metadata": {},
   "outputs": [
    {
     "name": "stdout",
     "output_type": "stream",
     "text": [
      "alpha: 1.010, std_dist: 0.668\n",
      "alpha: 1.010, std_dist: 0.677\n",
      "alpha: 1.010, std_dist: 0.718\n",
      "alpha: 1.300, std_dist: 0.837\n",
      "alpha: 1.300, std_dist: 0.802\n",
      "alpha: 1.300, std_dist: 0.767\n",
      "alpha: 2.000, std_dist: 1.330\n",
      "alpha: 2.000, std_dist: 1.550\n",
      "alpha: 2.000, std_dist: 1.340\n",
      "alpha: 5.000, std_dist: 2.324\n",
      "alpha: 5.000, std_dist: 3.045\n"
     ]
    },
    {
     "name": "stderr",
     "output_type": "stream",
     "text": [
      "No artists with labels found to put in legend.  Note that artists whose label start with an underscore are ignored when legend() is called with no argument.\n"
     ]
    },
    {
     "name": "stdout",
     "output_type": "stream",
     "text": [
      "alpha: 5.000, std_dist: 2.361\n"
     ]
    },
    {
     "data": {
      "text/plain": [
       "<matplotlib.legend.Legend at 0x2e9eccdc0>"
      ]
     },
     "execution_count": 123,
     "metadata": {},
     "output_type": "execute_result"
    },
    {
     "data": {
      "image/png": "[encoded data removed]",
      "text/plain": [
       "<Figure size 640x480 with 1 Axes>"
      ]
     },
     "metadata": {},
     "output_type": "display_data"
    }
   ],
   "source": [
    "n=2000\n",
    "d=2\n",
    "tau=2.5\n",
    "alphas=1.01, 1.3, 2.0, 5.0\n",
    "for alpha in alphas:\n",
    "    for _ in range(3):\n",
    "        # g, edges, weights, pts = generation.generate_GIRG_nk(n, d, tau, alpha, const=0.03)\n",
    "        def girg_gen_func(const):\n",
    "            g, edges, weights, pts = generation.generate_GIRG_nk(n, d, tau, alpha, const=const)\n",
    "            return g\n",
    "\n",
    "        gcf = fitting.GirgConstFitter(25.0, girg_gen_func)\n",
    "        # gcf.verbose=True\n",
    "        # print('fitting')\n",
    "        gcf.fit()\n",
    "        # print('done')\n",
    "        g = gcf.girg_gen_func(gcf.const)\n",
    "\n",
    "        dd = nk.centrality.DegreeCentrality(g).run().scores()\n",
    "        dd = np.array(dd)\n",
    "        bot_90_indices = np.argsort(dd)[:int(0.9*len(dd))]\n",
    "        # len(dd)\n",
    "        # len(bot_90_indices)\n",
    "        g_sub = utils.quick_subgraph(g, bot_90_indices)\n",
    "        # g_sub = g\n",
    "        distances, std_distances, unique_dists, dist_counts = fitting.graph_distances(g_sub)\n",
    "        # plt.hist(distances, alpha=0.5, label=f'alpha: {alpha:.3f}')\n",
    "        print(f'alpha: {alpha:.3f}, std_dist: {std_distances:.3f}')\n",
    "        # print(f'ED: {ed.getEffectiveDiameter():.3f}')\n",
    "\n"
   ]
  },
  {
   "cell_type": "code",
   "execution_count": 139,
   "metadata": {},
   "outputs": [
    {
     "name": "stderr",
     "output_type": "stream",
     "text": [
      "/Users/benjidayan/GDrive/eth_courses/GIRG/benji_src/benji_girgs/generation.py:155: RuntimeWarning: divide by zero encountered in divide\n",
      "  p_uv = np.divide(outer, dists**d)\n",
      "/Users/benjidayan/GDrive/eth_courses/GIRG/benji_src/benji_girgs/fitting.py:89: RuntimeWarning: invalid value encountered in cast\n",
      "  distances = np.array(np.nan_to_num(distances)).astype(np.int64)\n"
     ]
    },
    {
     "data": {
      "text/plain": [
       "22.616"
      ]
     },
     "execution_count": 139,
     "metadata": {},
     "output_type": "execute_result"
    },
    {
     "data": {
      "text/plain": [
       "1.2167563437270421"
      ]
     },
     "execution_count": 139,
     "metadata": {},
     "output_type": "execute_result"
    }
   ],
   "source": [
    "n=2000\n",
    "d=2\n",
    "tau=2.5\n",
    "alpha = 1.5\n",
    "const=0.1\n",
    "g, edges, weights, pts = generation.generate_GIRG_nk(n, d, tau, alpha, const=const)\n",
    "target_avg_deg = utils.avg_degree(g)\n",
    "target_std_gdist = fitting.regularised_std_graph_distance(g)\n",
    "target_avg_deg\n",
    "target_std_gdist"
   ]
  },
  {
   "cell_type": "code",
   "execution_count": 142,
   "metadata": {},
   "outputs": [
    {
     "name": "stderr",
     "output_type": "stream",
     "text": [
      "/Users/benjidayan/GDrive/eth_courses/GIRG/benji_src/benji_girgs/generation.py:155: RuntimeWarning: divide by zero encountered in divide\n",
      "  p_uv = np.divide(outer, dists**d)\n"
     ]
    },
    {
     "name": "stdout",
     "output_type": "stream",
     "text": [
      "avgdeg: 68.06 -> avgdeg2: 66.11; overshoot: False, scale:0.330, const: 0.700\n",
      "avgdeg: 66.11 -> avgdeg2: 46.61; overshoot: False, scale:0.363, const: 0.469\n",
      "avgdeg: 46.61 -> avgdeg2: 37.89; overshoot: False, scale:0.399, const: 0.299\n",
      "avgdeg: 37.89 -> avgdeg2: 29.90; overshoot: False, scale:0.439, const: 0.179\n",
      "avgdeg: 29.90 -> avgdeg2: 18.03; overshoot: True, scale:0.220, const: 0.101\n",
      "avgdeg: 18.03 -> avgdeg2: 23.97; overshoot: True, scale:0.110, const: 0.129\n",
      "avgdeg: 23.97 -> avgdeg2: 22.30; overshoot: True, scale:0.055, const: 0.115\n"
     ]
    },
    {
     "name": "stderr",
     "output_type": "stream",
     "text": [
      "/Users/benjidayan/GDrive/eth_courses/GIRG/benji_src/benji_girgs/fitting.py:89: RuntimeWarning: invalid value encountered in cast\n",
      "  distances = np.array(np.nan_to_num(distances)).astype(np.int64)\n"
     ]
    },
    {
     "name": "stdout",
     "output_type": "stream",
     "text": [
      "std_gdist: 0.90 -> std_gdist2: 1.10; overshoot: False, scale:0.330, alpha: 1.429\n",
      "std_gdist: 1.10 -> std_gdist2: 1.27; overshoot: True, scale:0.165, alpha: 1.640\n",
      "std_gdist: 1.27 -> std_gdist2: 1.04; overshoot: True, scale:0.083, alpha: 1.534\n",
      "std_gdist: 1.04 -> std_gdist2: 1.16; overshoot: False, scale:0.091, alpha: 1.582\n",
      "std_gdist: 1.16 -> std_gdist2: 1.20; overshoot: False, scale:0.100, alpha: 1.640\n"
     ]
    }
   ],
   "source": [
    "n=2000\n",
    "d=2\n",
    "tau=2.5\n",
    "\n",
    "def girg_gen_func(const):\n",
    "    g, edges, weights, pts = generation.generate_GIRG_nk(n, d, tau, alpha, const=const)\n",
    "    return g\n",
    "\n",
    "# gcf = fitting.GirgMetricFitter(25.0, girg_gen_func, utils.avg_degree, 'avgdeg', 1.0, 0.0, 'const') \n",
    "gcf = fitting.GirgMetricFitter(target_avg_deg, \n",
    "                               girg_gen_func, \n",
    "                               metric_func=utils.avg_degree,\n",
    "                               metric_name='avgdeg',\n",
    "                               init_param=1.0,\n",
    "                               param_base=0.0,\n",
    "                               param_name='const')\n",
    "\n",
    "gcf.verbose=True\n",
    "# print('fitting')\n",
    "gcf.fit()\n",
    "\n",
    "def girg_gen_func(alpha):\n",
    "    g, edges, weights, pts = generation.generate_GIRG_nk(n, d, tau, alpha, const=gcf.param)\n",
    "    return g \n",
    "\n",
    "\n",
    "gaf = fitting.GirgMetricFitter(target_std_gdist,\n",
    "                                girg_gen_func,\n",
    "                                metric_func=fitting.regularised_std_graph_distance, \n",
    "                                metric_name='std_gdist', \n",
    "                                init_param=1.3,\n",
    "                                param_base=1.0,\n",
    "                                param_name='alpha')\n",
    "gaf.verbose=True\n",
    "gaf.fit()"
   ]
  },
  {
   "cell_type": "code",
   "execution_count": 166,
   "metadata": {},
   "outputs": [
    {
     "name": "stdout",
     "output_type": "stream",
     "text": [
      "avgdeg: 24.77 -> avgdeg2: 22.33; overshoot: True, scale:0.019, const: 0.130\n",
      "std_gdist: 0.82 -> std_gdist2: 0.95; overshoot: False, scale:0.330, alpha: 1.429\n",
      "avgdeg: 20.59 -> avgdeg2: 20.49; overshoot: False, scale:0.031, const: 0.134\n",
      "avgdeg: 20.49 -> avgdeg2: 20.38; overshoot: False, scale:0.034, const: 0.138\n",
      "avgdeg: 20.38 -> avgdeg2: 22.38; overshoot: False, scale:0.037, const: 0.143\n",
      "std_gdist: 0.95 -> std_gdist2: 1.14; overshoot: False, scale:0.363, alpha: 1.640\n",
      "avgdeg: 23.77 -> avgdeg2: 23.16; overshoot: False, scale:0.062, const: 0.135\n",
      "std_gdist: 1.14 -> std_gdist2: 1.45; overshoot: True, scale:0.182, alpha: 2.004\n",
      "std_gdist: 1.45 -> std_gdist2: 1.40; overshoot: False, scale:0.200, alpha: 1.822\n",
      "avgdeg: 20.42 -> avgdeg2: 22.73; overshoot: True, scale:0.069, const: 0.156\n",
      "std_gdist: 1.40 -> std_gdist2: 1.08; overshoot: True, scale:0.100, alpha: 1.658\n",
      "avgdeg: 26.59 -> avgdeg2: 19.42; overshoot: True, scale:0.052, const: 0.140\n",
      "avgdeg: 19.42 -> avgdeg2: 23.09; overshoot: True, scale:0.026, const: 0.148\n",
      "std_gdist: 1.08 -> std_gdist2: 1.17; overshoot: False, scale:0.110, alpha: 1.731\n",
      "std_gdist: 1.17 -> std_gdist2: 1.28; overshoot: True, scale:0.055, alpha: 1.821\n",
      "avgdeg: 23.33 -> avgdeg2: 21.28; overshoot: True, scale:0.029, const: 0.139\n",
      "avgdeg: 21.28 -> avgdeg2: 23.99; overshoot: True, scale:0.015, const: 0.143\n",
      "avgdeg: 23.99 -> avgdeg2: 23.31; overshoot: False, scale:0.016, const: 0.141\n",
      "avgdeg: 23.31 -> avgdeg2: 21.10; overshoot: True, scale:0.008, const: 0.139\n",
      "avgdeg: 21.10 -> avgdeg2: 24.11; overshoot: True, scale:0.004, const: 0.140\n",
      "avgdeg: 24.11 -> avgdeg2: 20.19; overshoot: True, scale:0.002, const: 0.140\n",
      "avgdeg: 20.19 -> avgdeg2: 22.44; overshoot: False, scale:0.002, const: 0.140\n",
      "std_gdist: 1.28 -> std_gdist2: 1.27; overshoot: False, scale:0.060, alpha: 1.776\n",
      "avgdeg: 19.98 -> avgdeg2: 22.47; overshoot: False, scale:0.004, const: 0.140\n",
      "std_gdist: 1.27 -> std_gdist2: 1.26; overshoot: False, scale:0.066, alpha: 1.729\n",
      "avgdeg: 20.86 -> avgdeg2: 26.42; overshoot: True, scale:0.003, const: 0.141\n",
      "avgdeg: 26.42 -> avgdeg2: 20.85; overshoot: True, scale:0.001, const: 0.141\n",
      "avgdeg: 20.85 -> avgdeg2: 23.90; overshoot: True, scale:0.001, const: 0.141\n",
      "avgdeg: 23.90 -> avgdeg2: 24.49; overshoot: False, scale:0.001, const: 0.141\n",
      "avgdeg: 24.49 -> avgdeg2: 21.36; overshoot: True, scale:0.000, const: 0.141\n",
      "avgdeg: 21.36 -> avgdeg2: 19.18; overshoot: False, scale:0.000, const: 0.141\n",
      "avgdeg: 19.18 -> avgdeg2: 19.73; overshoot: False, scale:0.000, const: 0.141\n",
      "avgdeg: 19.73 -> avgdeg2: 21.48; overshoot: False, scale:0.001, const: 0.141\n",
      "avgdeg: 21.48 -> avgdeg2: 23.31; overshoot: True, scale:0.000, const: 0.141\n",
      "avgdeg: 23.31 -> avgdeg2: 22.85; overshoot: False, scale:0.000, const: 0.141\n",
      "std_gdist: 1.26 -> std_gdist2: 1.17; overshoot: True, scale:0.033, alpha: 1.681\n",
      "avgdeg: 24.83 -> avgdeg2: 21.94; overshoot: True, scale:0.000, const: 0.141\n",
      "avgdeg: 21.94 -> avgdeg2: 19.39; overshoot: False, scale:0.000, const: 0.141\n",
      "avgdeg: 19.39 -> avgdeg2: 22.80; overshoot: True, scale:0.000, const: 0.141\n",
      "std_gdist: 1.17 -> std_gdist2: 1.19; overshoot: False, scale:0.037, alpha: 1.704\n"
     ]
    }
   ],
   "source": [
    "def girg_gen_func(alpha, const):\n",
    "    g, edges, weights, pts = generation.generate_GIRG_nk(n, d, tau, alpha, const=const)\n",
    "    return g\n",
    "gaf = fitting.GirgAlphaFitter(target_std_gdist, target_avg_deg, girg_gen_func)\n",
    "gaf.verbose=True\n",
    "gaf.fit()"
   ]
  },
  {
   "cell_type": "code",
   "execution_count": 184,
   "metadata": {},
   "outputs": [
    {
     "data": {
      "text/plain": [
       "[(1.0, 90.386),\n",
       " (0.55, 60.465),\n",
       " (0.27775000000000005, 40.888),\n",
       " (0.12651512500000003, 21.881),\n",
       " (0.17384421161113023, 26.537),\n",
       " (0.15017966830556512, 27.612),\n",
       " (0.12769214022266057, 28.277),\n",
       " (0.10665980819141087, 20.88),\n",
       " (0.11623218220174986, 18.282),\n",
       " (0.12781070581691759, 19.962),\n",
       " (0.1419567382586424, 23.969),\n",
       " (0.13488372203778, 22.343),\n",
       " (0.13488372203778, 24.769),\n",
       " (0.12984327045932825, 22.333),\n",
       " (0.12984327045932825, 20.593),\n",
       " (0.13358727405097, 20.487),\n",
       " (0.13783668440577787, 20.382),\n",
       " (0.1426751179387048, 22.38),\n",
       " (0.1426751179387048, 23.766),\n",
       " (0.13469170260937535, 23.162),\n",
       " (0.13469170260937535, 22.602),\n",
       " (0.13469170260937535, 20.42),\n",
       " (0.15634359040874893, 22.734),\n",
       " (0.15634359040874893, 26.589),\n",
       " (0.14010467455921874, 19.416),\n",
       " (0.14777936282409626, 23.093),\n",
       " (0.14777936282409626, 23.081),\n",
       " (0.14777936282409626, 23.327),\n",
       " (0.13914533852610905, 21.277),\n",
       " (0.1433324448579537, 23.991),\n",
       " (0.14123889169203138, 23.312),\n",
       " (0.13896962012507474, 21.103),\n",
       " (0.14009506704878003, 24.107),\n",
       " (0.1395323435869274, 20.192),\n",
       " (0.1398131391042379, 22.441),\n",
       " (0.1398131391042379, 19.984),\n",
       " (0.14027799213719297, 22.47),\n",
       " (0.14027799213719297, 20.859),\n",
       " (0.14104921651748956, 26.416),\n",
       " (0.14066360432734126, 20.853),\n",
       " (0.1408561465069132, 23.9),\n",
       " (0.14075987541712723, 24.491),\n",
       " (0.14065404959670932, 21.357),\n",
       " (0.14070694260899697, 19.176),\n",
       " (0.14076514899084927, 19.731),\n",
       " (0.14082920514682573, 21.48),\n",
       " (0.14089970219053377, 23.314),\n",
       " (0.14086445366867975, 22.852),\n",
       " (0.14086445366867975, 24.829),\n",
       " (0.14080630815737585, 21.937),\n",
       " (0.14083537491151657, 19.391),\n",
       " (0.14086735560155075, 22.797)]"
      ]
     },
     "execution_count": 184,
     "metadata": {},
     "output_type": "execute_result"
    }
   ],
   "source": [
    "from functools import reduce\n",
    "reduce(lambda x, y: x+y, b)"
   ]
  },
  {
   "cell_type": "code",
   "execution_count": 187,
   "metadata": {},
   "outputs": [
    {
     "data": {
      "text/plain": [
       "[(1.3, 0.8153624960715325),\n",
       " (1.4285714285714286, 0.9510157727398638),\n",
       " (1.6396588486140726, 1.1409535485724212),\n",
       " (2.0041740166625948, 1.4477513598681233),\n",
       " (1.821916432638334, 1.3988534590871196),\n",
       " (1.6578208168620905, 1.0790347538425256),\n",
       " (1.7307699245836539, 1.1667043327253053),\n",
       " (1.8209122460407765, 1.2811241157670867),\n",
       " (1.7758410853122153, 1.2708701743293844),\n",
       " (1.7289848418257336, 1.2644330745436865),\n",
       " (1.680555799999372, 1.166351147810984),\n",
       " (1.7039383576393328, 1.1920989891783316)]"
      ]
     },
     "execution_count": 187,
     "metadata": {},
     "output_type": "execute_result"
    }
   ],
   "source": []
  },
  {
   "cell_type": "code",
   "execution_count": 191,
   "metadata": {},
   "outputs": [
    {
     "data": {
      "text/plain": [
       "Text(0, 0.5, 'alpha')"
      ]
     },
     "execution_count": 191,
     "metadata": {},
     "output_type": "execute_result"
    },
    {
     "data": {
      "text/plain": [
       "[<matplotlib.lines.Line2D at 0x2c5103250>]"
      ]
     },
     "execution_count": 191,
     "metadata": {},
     "output_type": "execute_result"
    },
    {
     "data": {
      "text/plain": [
       "Text(0, 0.5, 'const')"
      ]
     },
     "execution_count": 191,
     "metadata": {},
     "output_type": "execute_result"
    },
    {
     "data": {
      "text/plain": [
       "[<matplotlib.lines.Line2D at 0x2dac4de20>]"
      ]
     },
     "execution_count": 191,
     "metadata": {},
     "output_type": "execute_result"
    },
    {
     "data": {
      "image/png": "[encoded data removed]",
      "text/plain": [
       "<Figure size 640x480 with 2 Axes>"
      ]
     },
     "metadata": {},
     "output_type": "display_data"
    }
   ],
   "source": [
    "a = gaf.hist\n",
    "b = gaf.const_hist\n",
    "lengths = [len(hist) for hist in b]\n",
    "lengths = [0] + lengths\n",
    "from functools import reduce\n",
    "joined_const_hist = reduce(lambda x, y: x+y, b)\n",
    "\n",
    "\n",
    "fig, ax = plt.subplots()\n",
    "ax.set_ylabel('alpha', color='b')\n",
    "ax.plot(np.cumsum(lengths)[:-1], [alpha for alpha, std_gdist in gaf.hist], marker='x')\n",
    "\n",
    "\n",
    "ax2 = ax.twinx()\n",
    "ax2.set_ylabel('const', color='r')\n",
    "ax2.plot([const for const, std_gdist in joined_const_hist], color='r')"
   ]
  },
  {
   "cell_type": "code",
   "execution_count": 181,
   "metadata": {},
   "outputs": [
    {
     "data": {
      "text/plain": [
       "[12, 2, 4, 2, 1, 2, 3, 1, 8, 2, 11, 4]"
      ]
     },
     "execution_count": 181,
     "metadata": {},
     "output_type": "execute_result"
    },
    {
     "data": {
      "text/plain": [
       "array([12, 14, 18, 20, 21, 23, 26, 27, 35, 37, 48, 52])"
      ]
     },
     "execution_count": 181,
     "metadata": {},
     "output_type": "execute_result"
    }
   ],
   "source": [
    "lengths\n",
    "np.cumsum(lengths)"
   ]
  },
  {
   "cell_type": "code",
   "execution_count": 165,
   "metadata": {},
   "outputs": [
    {
     "data": {
      "text/plain": [
       "<module 'benji_girgs' from '/Users/benjidayan/GDrive/eth_courses/GIRG/benji_src/benji_girgs/__init__.py'>"
      ]
     },
     "execution_count": 165,
     "metadata": {},
     "output_type": "execute_result"
    },
    {
     "data": {
      "text/plain": [
       "<module 'benji_girgs.utils' from '/Users/benjidayan/GDrive/eth_courses/GIRG/benji_src/benji_girgs/utils.py'>"
      ]
     },
     "execution_count": 165,
     "metadata": {},
     "output_type": "execute_result"
    },
    {
     "data": {
      "text/plain": [
       "<module 'benji_girgs.fitting' from '/Users/benjidayan/GDrive/eth_courses/GIRG/benji_src/benji_girgs/fitting.py'>"
      ]
     },
     "execution_count": 165,
     "metadata": {},
     "output_type": "execute_result"
    }
   ],
   "source": [
    "import imp\n",
    "import benji_girgs\n",
    "imp.reload(benji_girgs)\n",
    "imp.reload(benji_girgs.utils)\n",
    "imp.reload(benji_girgs.fitting)\n",
    "from benji_girgs import utils, fitting"
   ]
  },
  {
   "cell_type": "code",
   "execution_count": null,
   "metadata": {},
   "outputs": [],
   "source": [
    "n=1000\n",
    "d=2\n",
    "tau=2.5\n",
    "alphas = 1.01, 1.3, 2.5\n",
    "alpha_stds = []\n",
    "alpha_meds = []\n",
    "for alpha in alphas:\n",
    "    for _ in range(1):\n",
    "        gcf = fitting.GirgConstFitter(25.0, girg_gen_func)\n",
    "        print('fitting')\n",
    "        gcf.fit()\n",
    "        print('done')\n",
    "        g = gcf.girg_gen_func(gcf.const)\n",
    "\n",
    "        dd = nk.centrality.DegreeCentrality(g).run().scores()\n",
    "        dd = np.array(dd)\n",
    "        bot_90_indices = np.argsort(dd)[:int(0.9*len(dd))]\n",
    "        # len(dd)\n",
    "        # len(bot_90_indices)\n",
    "        g_sub = utils.quick_subgraph(g, bot_90_indices)\n",
    "        \n",
    "    \n",
    "        distances, std_distances, unique_dists, dist_counts, = fitting.graph_distances(g_sub, 2000)\n",
    "        # plt.plot(unique_dists, dist_counts, label=alpha)\n",
    "        print(f'alpha: {alpha}')\n",
    "        # print(unique_dists)\n",
    "        # print(dist_counts)\n",
    "        print(f'std_distances: {std_distances:.3f}, median_dist: {np.median(distances)}')\n",
    "        alpha_stds.append((alpha, std_distances))\n",
    "        sizes = fitting.biBFS_sample(g, 1000)\n",
    "        alpha_meds.append((alpha, np.median(distances)))\n",
    "\n",
    "df = pd.DataFrame(alpha_stds, columns=['alpha', 'a-b distances std'])\n",
    "df.plot.scatter(x='alpha', y='a-b distances std', marker='x', logx=True)\n",
    "\n",
    "df = pd.DataFrame(alpha_meds, columns=['alpha', 'a<O O>b sizes median'])\n",
    "df.plot.scatter(x='alpha', y='a<O O>b sizes median', marker='x',  logx=True)\n",
    "\n",
    "        \n"
   ]
  },
  {
   "cell_type": "code",
   "execution_count": 76,
   "metadata": {},
   "outputs": [
    {
     "name": "stderr",
     "output_type": "stream",
     "text": [
      "/Users/benjidayan/GDrive/eth_courses/GIRG/benji_src/benji_girgs/generation.py:155: RuntimeWarning: divide by zero encountered in divide\n",
      "  p_uv = np.divide(outer, dists**d)\n"
     ]
    },
    {
     "name": "stdout",
     "output_type": "stream",
     "text": [
      "alpha: 1.01\n",
      "std_distances: 0.468, median_dist: 2.0\n",
      "alpha: 1.3\n",
      "std_distances: 0.421, median_dist: 2.0\n",
      "alpha: 2.5\n",
      "std_distances: 0.549, median_dist: 2.0\n",
      "alpha: 5.0\n",
      "std_distances: 0.494, median_dist: 2.0\n",
      "alpha: 10.0\n",
      "std_distances: 0.551, median_dist: 2.0\n",
      "alpha: 20.0\n",
      "std_distances: 0.552, median_dist: 2.0\n"
     ]
    },
    {
     "data": {
      "text/plain": [
       "<AxesSubplot:xlabel='alpha', ylabel='a-b distances std'>"
      ]
     },
     "execution_count": 76,
     "metadata": {},
     "output_type": "execute_result"
    },
    {
     "ename": "TypeError",
     "evalue": "__init__() got an unexpected keyword argument 'logx'",
     "output_type": "error",
     "traceback": [
      "\u001b[0;31m---------------------------------------------------------------------------\u001b[0m",
      "\u001b[0;31mTypeError\u001b[0m                                 Traceback (most recent call last)",
      "\u001b[1;32m/Users/benjidayan/GDrive/eth_courses/GIRG/benji_src/fitting_general.ipynb Cell 16\u001b[0m in \u001b[0;36m<cell line: 23>\u001b[0;34m()\u001b[0m\n\u001b[1;32m     <a href='vscode-notebook-cell:/Users/benjidayan/GDrive/eth_courses/GIRG/benji_src/fitting_general.ipynb#X14sZmlsZQ%3D%3D?line=19'>20</a>\u001b[0m df \u001b[39m=\u001b[39m pd\u001b[39m.\u001b[39mDataFrame(alpha_stds, columns\u001b[39m=\u001b[39m[\u001b[39m'\u001b[39m\u001b[39malpha\u001b[39m\u001b[39m'\u001b[39m, \u001b[39m'\u001b[39m\u001b[39ma-b distances std\u001b[39m\u001b[39m'\u001b[39m])\n\u001b[1;32m     <a href='vscode-notebook-cell:/Users/benjidayan/GDrive/eth_courses/GIRG/benji_src/fitting_general.ipynb#X14sZmlsZQ%3D%3D?line=20'>21</a>\u001b[0m df\u001b[39m.\u001b[39mplot\u001b[39m.\u001b[39mscatter(x\u001b[39m=\u001b[39m\u001b[39m'\u001b[39m\u001b[39malpha\u001b[39m\u001b[39m'\u001b[39m, y\u001b[39m=\u001b[39m\u001b[39m'\u001b[39m\u001b[39ma-b distances std\u001b[39m\u001b[39m'\u001b[39m, marker\u001b[39m=\u001b[39m\u001b[39m'\u001b[39m\u001b[39mx\u001b[39m\u001b[39m'\u001b[39m, logx\u001b[39m=\u001b[39m\u001b[39mTrue\u001b[39;00m)\n\u001b[0;32m---> <a href='vscode-notebook-cell:/Users/benjidayan/GDrive/eth_courses/GIRG/benji_src/fitting_general.ipynb#X14sZmlsZQ%3D%3D?line=22'>23</a>\u001b[0m df \u001b[39m=\u001b[39m pd\u001b[39m.\u001b[39;49mDataFrame(alpha_meds, columns\u001b[39m=\u001b[39;49m[\u001b[39m'\u001b[39;49m\u001b[39malpha\u001b[39;49m\u001b[39m'\u001b[39;49m, \u001b[39m'\u001b[39;49m\u001b[39ma<O O>b sizes median\u001b[39;49m\u001b[39m'\u001b[39;49m], logx\u001b[39m=\u001b[39;49m\u001b[39mTrue\u001b[39;49;00m)\n\u001b[1;32m     <a href='vscode-notebook-cell:/Users/benjidayan/GDrive/eth_courses/GIRG/benji_src/fitting_general.ipynb#X14sZmlsZQ%3D%3D?line=23'>24</a>\u001b[0m df\u001b[39m.\u001b[39mplot\u001b[39m.\u001b[39mscatter(x\u001b[39m=\u001b[39m\u001b[39m'\u001b[39m\u001b[39malpha\u001b[39m\u001b[39m'\u001b[39m, y\u001b[39m=\u001b[39m\u001b[39m'\u001b[39m\u001b[39ma<O O>b sizes median\u001b[39m\u001b[39m'\u001b[39m, marker\u001b[39m=\u001b[39m\u001b[39m'\u001b[39m\u001b[39mx\u001b[39m\u001b[39m'\u001b[39m)\n",
      "\u001b[0;31mTypeError\u001b[0m: __init__() got an unexpected keyword argument 'logx'"
     ]
    },
    {
     "data": {
      "image/png": "[encoded data removed]",
      "text/plain": [
       "<Figure size 640x480 with 1 Axes>"
      ]
     },
     "metadata": {},
     "output_type": "display_data"
    }
   ],
   "source": [
    "n=1000\n",
    "d=2\n",
    "tau=2.5\n",
    "alphas = 1.01, 1.3, 2.5, 5.0, 10.0, 20.0\n",
    "alpha_stds = []\n",
    "alpha_meds = []\n",
    "for alpha in alphas:\n",
    "    for _ in range(1):\n",
    "        g, edges, weights, pts = generation.generate_GIRG_nk(n, d, tau, alpha, const=0.3)\n",
    "        distances, std_distances, unique_dists, dist_counts, = fitting.graph_distances(g, 2000)\n",
    "        # plt.plot(unique_dists, dist_counts, label=alpha)\n",
    "        print(f'alpha: {alpha}')\n",
    "        # print(unique_dists)\n",
    "        # print(dist_counts)\n",
    "        print(f'std_distances: {std_distances:.3f}, median_dist: {np.median(distances)}')\n",
    "        alpha_stds.append((alpha, std_distances))\n",
    "        sizes = fitting.biBFS_sample(g, 1000)\n",
    "        alpha_meds.append((alpha, np.median(distances)))\n",
    "\n",
    "df = pd.DataFrame(alpha_stds, columns=['alpha', 'a-b distances std'])\n",
    "df.plot.scatter(x='alpha', y='a-b distances std', marker='x', logx=True)\n",
    "\n",
    "df = pd.DataFrame(alpha_meds, columns=['alpha', 'a<O O>b sizes median'])\n",
    "df.plot.scatter(x='alpha', y='a<O O>b sizes median', marker='x',  logx=True)\n",
    "\n",
    "        "
   ]
  },
  {
   "cell_type": "code",
   "execution_count": 77,
   "metadata": {},
   "outputs": [
    {
     "data": {
      "text/plain": [
       "<AxesSubplot:xlabel='alpha', ylabel='a-b distances std'>"
      ]
     },
     "execution_count": 77,
     "metadata": {},
     "output_type": "execute_result"
    },
    {
     "data": {
      "text/plain": [
       "<AxesSubplot:xlabel='alpha', ylabel='a<O O>b sizes median'>"
      ]
     },
     "execution_count": 77,
     "metadata": {},
     "output_type": "execute_result"
    },
    {
     "data": {
      "image/png": "[encoded data removed]",
      "text/plain": [
       "<Figure size 640x480 with 1 Axes>"
      ]
     },
     "metadata": {},
     "output_type": "display_data"
    },
    {
     "data": {
      "image/png": "[encoded data removed]",
      "text/plain": [
       "<Figure size 640x480 with 1 Axes>"
      ]
     },
     "metadata": {},
     "output_type": "display_data"
    }
   ],
   "source": [
    "df = pd.DataFrame(alpha_stds, columns=['alpha', 'a-b distances std'])\n",
    "df.plot.scatter(x='alpha', y='a-b distances std', marker='x', logx=True)\n",
    "\n",
    "df = pd.DataFrame(alpha_meds, columns=['alpha', 'a<O O>b sizes median'])\n",
    "df.plot.scatter(x='alpha', y='a<O O>b sizes median', marker='x',  logx=True)\n"
   ]
  },
  {
   "cell_type": "code",
   "execution_count": 79,
   "metadata": {},
   "outputs": [
    {
     "data": {
      "text/plain": [
       "(array([  48.,    0.,    0., 1043.,    0.,    0.,  898.,    0.,    0.,\n",
       "          11.]),\n",
       " array([1. , 1.3, 1.6, 1.9, 2.2, 2.5, 2.8, 3.1, 3.4, 3.7, 4. ]),\n",
       " <BarContainer object of 10 artists>)"
      ]
     },
     "execution_count": 79,
     "metadata": {},
     "output_type": "execute_result"
    },
    {
     "data": {
      "image/png": "[encoded data removed]",
      "text/plain": [
       "<Figure size 640x480 with 1 Axes>"
      ]
     },
     "metadata": {},
     "output_type": "display_data"
    }
   ],
   "source": [
    "plt.hist(distances)"
   ]
  },
  {
   "cell_type": "code",
   "execution_count": 72,
   "metadata": {},
   "outputs": [
    {
     "data": {
      "text/plain": [
       "<AxesSubplot:xlabel='alpha', ylabel='a-b distances std'>"
      ]
     },
     "execution_count": 72,
     "metadata": {},
     "output_type": "execute_result"
    },
    {
     "data": {
      "text/plain": [
       "<AxesSubplot:xlabel='alpha', ylabel='a<O O>b sizes median'>"
      ]
     },
     "execution_count": 72,
     "metadata": {},
     "output_type": "execute_result"
    },
    {
     "data": {
      "image/png": "[encoded data removed]",
      "text/plain": [
       "<Figure size 640x480 with 1 Axes>"
      ]
     },
     "metadata": {},
     "output_type": "display_data"
    },
    {
     "data": {
      "image/png": "[encoded data removed]",
      "text/plain": [
       "<Figure size 640x480 with 1 Axes>"
      ]
     },
     "metadata": {},
     "output_type": "display_data"
    }
   ],
   "source": [
    "df = pd.DataFrame(alpha_stds, columns=['alpha', 'a-b distances std'])\n",
    "df.plot.scatter(x='alpha', y='a-b distances std', marker='x', logx=True)\n",
    "\n",
    "df = pd.DataFrame(alpha_meds, columns=['alpha', 'a<O O>b sizes median'])\n",
    "df.plot.scatter(x='alpha', y='a<O O>b sizes median', marker='x', logx=True)\n"
   ]
  },
  {
   "cell_type": "code",
   "execution_count": 74,
   "metadata": {},
   "outputs": [
    {
     "data": {
      "text/plain": [
       "[(1.01, 39.0),\n",
       " (1.01, 43.0),\n",
       " (1.01, 38.0),\n",
       " (1.01, 37.5),\n",
       " (1.01, 26.14090909090909),\n",
       " (1.3, 36.0),\n",
       " (1.3, 40.507668711656436),\n",
       " (1.3, 28.0),\n",
       " (1.3, 36.236964536789316),\n",
       " (1.3, 34.29166666666667),\n",
       " (2.5, 40.04708019890348),\n",
       " (2.5, 28.0),\n",
       " (2.5, 33.0),\n",
       " (2.5, 22.416666666666668),\n",
       " (2.5, 34.0),\n",
       " (5.0, 25.0),\n",
       " (5.0, 28.938028317836007),\n",
       " (5.0, 33.0),\n",
       " (5.0, 21.0),\n",
       " (5.0, 30.38437653303673),\n",
       " (10.0, 36.118378150531235),\n",
       " (10.0, 31.0),\n",
       " (10.0, 37.0),\n",
       " (10.0, 32.09762443438914),\n",
       " (10.0, 37.0),\n",
       " (20.0, 22.0),\n",
       " (20.0, 22.875),\n",
       " (20.0, 33.0),\n",
       " (20.0, 34.5),\n",
       " (20.0, 34.495975378787875)]"
      ]
     },
     "execution_count": 74,
     "metadata": {},
     "output_type": "execute_result"
    }
   ],
   "source": [
    "alpha_meds"
   ]
  },
  {
   "cell_type": "code",
   "execution_count": 75,
   "metadata": {},
   "outputs": [
    {
     "data": {
      "text/plain": [
       "[(1.01, 0.47583190309183765),\n",
       " (1.01, 0.48155996511338023),\n",
       " (1.01, 0.43622213378048574),\n",
       " (1.01, 0.4355215264484638),\n",
       " (1.01, 0.3539629217870143),\n",
       " (1.3, 0.49230478364525365),\n",
       " (1.3, 0.5195421060895836),\n",
       " (1.3, 0.37830014538723084),\n",
       " (1.3, 0.48558315456778356),\n",
       " (1.3, 0.4714223159758137),\n",
       " (2.5, 0.600225790848744),\n",
       " (2.5, 0.44161521712912016),\n",
       " (2.5, 0.5386443631933783),\n",
       " (2.5, 0.3303751655315514),\n",
       " (2.5, 0.516600425861226),\n",
       " (5.0, 0.4285043757069465),\n",
       " (5.0, 0.4230599839266295),\n",
       " (5.0, 0.5222487434163915),\n",
       " (5.0, 0.16920328011004984),\n",
       " (5.0, 0.4680168266205821),\n",
       " (10.0, 0.5600990983745644),\n",
       " (10.0, 0.29195847307451106),\n",
       " (10.0, 0.5619250394848052),\n",
       " (10.0, 0.5076315100542913),\n",
       " (10.0, 0.5516149019016799),\n",
       " (20.0, 0.35629166423030445),\n",
       " (20.0, 0.36980941037242415),\n",
       " (20.0, 0.46903491341263714),\n",
       " (20.0, 0.5144800773596583),\n",
       " (20.0, 0.5567133463462143)]"
      ]
     },
     "execution_count": 75,
     "metadata": {},
     "output_type": "execute_result"
    }
   ],
   "source": [
    "alpha_stds"
   ]
  },
  {
   "cell_type": "code",
   "execution_count": 67,
   "metadata": {},
   "outputs": [
    {
     "name": "stderr",
     "output_type": "stream",
     "text": [
      "/Users/benjidayan/GDrive/eth_courses/GIRG/benji_src/benji_girgs/generation.py:155: RuntimeWarning: divide by zero encountered in divide\n",
      "  p_uv = np.divide(outer, dists**d)\n"
     ]
    }
   ],
   "source": [
    "n=2000\n",
    "d=2\n",
    "tau=2.5\n",
    "alpha = 1.2\n",
    "g, edges, weights, pts = generation.generate_GIRG_nk(n, d, tau, alpha, const=0.3)"
   ]
  },
  {
   "cell_type": "code",
   "execution_count": 68,
   "metadata": {},
   "outputs": [
    {
     "name": "stderr",
     "output_type": "stream",
     "text": [
      "100%|██████████| 1000/1000 [00:05<00:00, 167.55it/s]\n"
     ]
    },
    {
     "data": {
      "text/plain": [
       "(array([ 76., 172., 153., 135., 154., 104.,  73.,  51.,  28.,  19.,  14.,\n",
       "          5.,   5.,   2.,   5.,   3.,   0.,   0.,   0.,   1.]),\n",
       " array([  6.65  ,  15.7175,  24.785 ,  33.8525,  42.92  ,  51.9875,\n",
       "         61.055 ,  70.1225,  79.19  ,  88.2575,  97.325 , 106.3925,\n",
       "        115.46  , 124.5275, 133.595 , 142.6625, 151.73  , 160.7975,\n",
       "        169.865 , 178.9325, 188.    ]),\n",
       " <BarContainer object of 20 artists>)"
      ]
     },
     "execution_count": 68,
     "metadata": {},
     "output_type": "execute_result"
    },
    {
     "data": {
      "image/png": "[encoded data removed]",
      "text/plain": [
       "<Figure size 640x480 with 1 Axes>"
      ]
     },
     "metadata": {},
     "output_type": "display_data"
    }
   ],
   "source": [
    "sizes = fitting.biBFS_sample(g, 1000, use_tqdm=True)\n",
    "plt.hist(sizes, bins=20)"
   ]
  },
  {
   "cell_type": "code",
   "execution_count": 69,
   "metadata": {},
   "outputs": [
    {
     "data": {
      "text/plain": [
       "40.8202361729798"
      ]
     },
     "execution_count": 69,
     "metadata": {},
     "output_type": "execute_result"
    }
   ],
   "source": [
    "np.median(sizes)"
   ]
  },
  {
   "cell_type": "code",
   "execution_count": 60,
   "metadata": {},
   "outputs": [
    {
     "data": {
      "text/plain": [
       "(array([ 51.,  72.,  89., 181., 198., 137., 106.,  60.,  44.,  24.,  12.,\n",
       "          9.,   7.,   3.,   2.,   2.,   2.,   0.,   0.,   1.]),\n",
       " array([  5.  ,  14.35,  23.7 ,  33.05,  42.4 ,  51.75,  61.1 ,  70.45,\n",
       "         79.8 ,  89.15,  98.5 , 107.85, 117.2 , 126.55, 135.9 , 145.25,\n",
       "        154.6 , 163.95, 173.3 , 182.65, 192.  ]),\n",
       " <BarContainer object of 20 artists>)"
      ]
     },
     "execution_count": 60,
     "metadata": {},
     "output_type": "execute_result"
    },
    {
     "data": {
      "image/png": "[encoded data removed]",
      "text/plain": [
       "<Figure size 640x480 with 1 Axes>"
      ]
     },
     "metadata": {},
     "output_type": "display_data"
    }
   ],
   "source": [
    "plt.hist(sizes, bins=20)"
   ]
  },
  {
   "cell_type": "code",
   "execution_count": 55,
   "metadata": {},
   "outputs": [],
   "source": [
    "a, b = np.random.choice(nodes, 2, replace=False)\n",
    "new_a, new_b, seen_a, seen_b, dist_a, dist_b, met = utils.bi_bfs(g, a, b)"
   ]
  },
  {
   "cell_type": "code",
   "execution_count": 56,
   "metadata": {},
   "outputs": [
    {
     "data": {
      "text/plain": [
       "(0.4261565836298932, 0.6463414634146342)"
      ]
     },
     "execution_count": 56,
     "metadata": {},
     "output_type": "execute_result"
    },
    {
     "data": {
      "text/plain": [
       "(2.346555323590814, 1.5471698113207546)"
      ]
     },
     "execution_count": 56,
     "metadata": {},
     "output_type": "execute_result"
    },
    {
     "data": {
      "text/plain": [
       "(22, 23)"
      ]
     },
     "execution_count": 56,
     "metadata": {},
     "output_type": "execute_result"
    },
    {
     "data": {
      "text/plain": [
       "(1124, 738)"
      ]
     },
     "execution_count": 56,
     "metadata": {},
     "output_type": "execute_result"
    },
    {
     "data": {
      "text/plain": [
       "48.89372513491157"
      ]
     },
     "execution_count": 56,
     "metadata": {},
     "output_type": "execute_result"
    }
   ],
   "source": [
    "l_a = len(new_a.intersection(seen_b.union(new_b))) / len(new_a)\n",
    "l_b = len(new_b.intersection(seen_a.union(new_a))) / len(new_b)\n",
    "l_a, l_b\n",
    "1/l_a, 1/l_b\n",
    "len(seen_a), len(seen_b)\n",
    "len(new_a), len(new_b)\n",
    "len(seen_a) + len(seen_b) + 1/l_a + 1/l_b"
   ]
  },
  {
   "cell_type": "code",
   "execution_count": 53,
   "metadata": {},
   "outputs": [
    {
     "data": {
      "text/plain": [
       "1"
      ]
     },
     "execution_count": 53,
     "metadata": {},
     "output_type": "execute_result"
    },
    {
     "data": {
      "text/plain": [
       "1"
      ]
     },
     "execution_count": 53,
     "metadata": {},
     "output_type": "execute_result"
    },
    {
     "data": {
      "text/plain": [
       "20"
      ]
     },
     "execution_count": 53,
     "metadata": {},
     "output_type": "execute_result"
    },
    {
     "data": {
      "text/plain": [
       "43"
      ]
     },
     "execution_count": 53,
     "metadata": {},
     "output_type": "execute_result"
    }
   ],
   "source": [
    "len(seen_a)\n",
    "len(seen_b)\n",
    "len(new_a)\n",
    "len(new_b)"
   ]
  },
  {
   "cell_type": "code",
   "execution_count": 184,
   "metadata": {},
   "outputs": [],
   "source": [
    "dists_a = utils.simple_bfs(g, 0, degree_thresh=None)\n",
    "dists_b = utils.simple_bfs(g, 1, degree_thresh=None)"
   ]
  },
  {
   "cell_type": "code",
   "execution_count": 144,
   "metadata": {},
   "outputs": [],
   "source": [
    "dist = 0\n",
    "seen_a = set()\n",
    "seen_b = set()\n",
    "while True:\n",
    "    new_a, new_b = dists_a[dist], dists_b[dist]\n",
    "    if new_a.intersection(seen_b) or new_b.intersection(seen_a) or new_a.intersection(new_b):\n",
    "        break\n",
    "    seen_a.update(new_a)\n",
    "    seen_b.update(new_b)\n",
    "    dist += 1"
   ]
  },
  {
   "cell_type": "code",
   "execution_count": 156,
   "metadata": {},
   "outputs": [
    {
     "data": {
      "text/plain": [
       "[1, 4, 105, 503, 445, 153, 64, 30, 8, 4, 8, 3, 0]"
      ]
     },
     "execution_count": 156,
     "metadata": {},
     "output_type": "execute_result"
    },
    {
     "data": {
      "text/plain": [
       "[1, 6, 103, 550, 418, 149, 62, 23, 5, 8, 3, 0]"
      ]
     },
     "execution_count": 156,
     "metadata": {},
     "output_type": "execute_result"
    }
   ],
   "source": [
    "[len(dists_a[i]) for i in range(len(dists_a))]\n",
    "[len(dists_b[i]) for i in range(len(dists_b))]"
   ]
  },
  {
   "cell_type": "code",
   "execution_count": 120,
   "metadata": {},
   "outputs": [
    {
     "data": {
      "text/plain": [
       "<module 'benji_girgs' from '/Users/benjidayan/GDrive/eth_courses/GIRG/benji_src/benji_girgs/__init__.py'>"
      ]
     },
     "execution_count": 120,
     "metadata": {},
     "output_type": "execute_result"
    },
    {
     "data": {
      "text/plain": [
       "<module 'benji_girgs.utils' from '/Users/benjidayan/GDrive/eth_courses/GIRG/benji_src/benji_girgs/utils.py'>"
      ]
     },
     "execution_count": 120,
     "metadata": {},
     "output_type": "execute_result"
    },
    {
     "data": {
      "text/plain": [
       "<module 'benji_girgs.fitting' from '/Users/benjidayan/GDrive/eth_courses/GIRG/benji_src/benji_girgs/fitting.py'>"
      ]
     },
     "execution_count": 120,
     "metadata": {},
     "output_type": "execute_result"
    }
   ],
   "source": [
    "import imp\n",
    "import benji_girgs\n",
    "imp.reload(benji_girgs)\n",
    "imp.reload(benji_girgs.utils)\n",
    "imp.reload(benji_girgs.fitting)\n",
    "from benji_girgs import utils, fitting"
   ]
  },
  {
   "cell_type": "code",
   "execution_count": 181,
   "metadata": {},
   "outputs": [],
   "source": [
    "new_a, new_b, seen_a, seen_b, dist_a, dist_b, got = utils.bi_bfs(g, 0, 1)"
   ]
  },
  {
   "cell_type": "code",
   "execution_count": 183,
   "metadata": {},
   "outputs": [
    {
     "data": {
      "text/plain": [
       "(2, 2)"
      ]
     },
     "execution_count": 183,
     "metadata": {},
     "output_type": "execute_result"
    }
   ],
   "source": [
    "dist_a, dist_b"
   ]
  },
  {
   "cell_type": "code",
   "execution_count": 187,
   "metadata": {},
   "outputs": [
    {
     "data": {
      "text/plain": [
       "{237, 278, 311, 402, 881, 1065, 1314, 1500, 1758, 1961}"
      ]
     },
     "execution_count": 187,
     "metadata": {},
     "output_type": "execute_result"
    }
   ],
   "source": [
    "dists_a[2].intersection(dists_b[2])"
   ]
  },
  {
   "cell_type": "code",
   "execution_count": 4,
   "metadata": {},
   "outputs": [
    {
     "name": "stderr",
     "output_type": "stream",
     "text": [
      "100%|██████████| 100/100 [00:00<00:00, 516.81it/s]"
     ]
    },
    {
     "name": "stdout",
     "output_type": "stream",
     "text": [
      "1670 719\n",
      "349 600\n",
      "1621 388\n",
      "741 1138\n",
      "437 1039\n",
      "771 90\n",
      "1564 583\n",
      "1035 1601\n",
      "389 566\n",
      "131 1524\n",
      "1865 108\n",
      "891 770\n",
      "491 548\n",
      "562 555\n",
      "867 441\n",
      "1440 1625\n",
      "1928 982\n",
      "883 855\n",
      "1049 1248\n",
      "296 370\n",
      "111 718\n",
      "1844 438\n",
      "1338 347\n",
      "830 744\n",
      "1120 15\n",
      "422 1513\n",
      "1811 378\n",
      "15 1080\n",
      "481 1816\n",
      "1812 1531\n",
      "1891 1\n",
      "1090 1825\n",
      "146 1350\n",
      "811 996\n",
      "466 1167\n",
      "255 500\n",
      "1585 565\n",
      "187 666\n",
      "815 432\n",
      "1564 1731\n",
      "1258 799\n",
      "1475 1521\n",
      "195 756\n",
      "848 1456\n",
      "68 405\n",
      "1329 1193\n",
      "1631 1893\n",
      "1124 1216\n",
      "1082 1645\n",
      "987 607\n",
      "37 1813\n",
      "453 187\n",
      "1675 617\n",
      "430 309\n",
      "1422 1803\n",
      "936 335\n",
      "185 341\n",
      "861 1834\n",
      "1172 1755\n",
      "1376 1752\n",
      "5 1289\n",
      "1225 1054\n",
      "553 1861\n",
      "1545 313\n",
      "182 252\n",
      "945 1073\n",
      "1015 1579\n",
      "1687 215\n",
      "1110 1231\n",
      "135 1009\n",
      "998 469\n",
      "1246 786\n",
      "664 1699\n",
      "824 368\n",
      "1104 1718\n",
      "1248 996\n",
      "1621 623\n",
      "404 291\n",
      "697 572\n",
      "868 934\n",
      "271 546\n",
      "1725 642\n",
      "1679 165\n",
      "222 1171\n",
      "438 1534\n",
      "1592 79\n",
      "1523 40\n",
      "1660 1916\n",
      "384 262\n",
      "1101 1619\n",
      "907 1524\n",
      "962 1246\n",
      "1056 265\n",
      "236 1818\n",
      "1376 1284\n",
      "77 1406\n",
      "1186 985\n",
      "526 1054\n",
      "1960 690\n",
      "1934 461\n"
     ]
    },
    {
     "name": "stderr",
     "output_type": "stream",
     "text": [
      "\n"
     ]
    }
   ],
   "source": [
    "unique_sizes, sizes_counts = fitting.biBFS_sample(g, 1000, use_tqdm=True)"
   ]
  },
  {
   "cell_type": "code",
   "execution_count": 5,
   "metadata": {},
   "outputs": [
    {
     "data": {
      "text/plain": [
       "array([  2,   7,   8,   9,  10,  11,  12,  13,  14,  15,  16,  17,  18,\n",
       "        20,  21,  23,  24,  26,  27,  29,  30,  36,  38,  45,  48,  55,\n",
       "        94, 408, 531])"
      ]
     },
     "execution_count": 5,
     "metadata": {},
     "output_type": "execute_result"
    }
   ],
   "source": [
    "unique_sizes"
   ]
  },
  {
   "cell_type": "code",
   "execution_count": 177,
   "metadata": {},
   "outputs": [
    {
     "name": "stdout",
     "output_type": "stream",
     "text": [
      "Network Properties:\n",
      "nodes, edges\t\t\t2000, 2896\n",
      "directed?\t\t\tFalse\n",
      "weighted?\t\t\tFalse\n",
      "isolated nodes\t\t\t332\n",
      "self-loops\t\t\t0\n",
      "density\t\t\t\t0.001449\n",
      "clustering coefficient\t\t0.385318\n",
      "min/max/avg degree\t\t0, 230, 2.896000\n",
      "degree assortativity\t\t-0.062360\n",
      "number of connected components\t436\n",
      "size of largest component\t1328 (66.40 %)\n"
     ]
    }
   ],
   "source": [
    "nk.overview(g)"
   ]
  },
  {
   "cell_type": "code",
   "execution_count": null,
   "metadata": {},
   "outputs": [],
   "source": []
  }
 ],
 "metadata": {
  "kernelspec": {
   "display_name": "girgenv2",
   "language": "python",
   "name": "girgenv2"
  },
  "language_info": {
   "codemirror_mode": {
    "name": "ipython",
    "version": 3
   },
   "file_extension": ".py",
   "mimetype": "text/x-python",
   "name": "python",
   "nbconvert_exporter": "python",
   "pygments_lexer": "ipython3",
   "version": "3.8.5"
  }
 },
 "nbformat": 4,
 "nbformat_minor": 4
}
