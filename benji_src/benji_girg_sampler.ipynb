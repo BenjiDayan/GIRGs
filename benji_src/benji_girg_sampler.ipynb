{
 "cells": [
  {
   "cell_type": "code",
   "execution_count": 1,
   "metadata": {},
   "outputs": [
    {
     "data": {
      "text/html": [
       "\n",
       "\t\t\t<script type=\"text/javascript\">\n",
       "\t\t\t<!--\n",
       "\t\t\t\t\n",
       "\t\t\t{\n",
       "\t\t\t\tvar element = document.getElementById('NetworKit_script');\n",
       "\t\t\t\tif (element) {\n",
       "\t\t\t\t\telement.parentNode.removeChild(element);\n",
       "\t\t\t\t}\n",
       "\t\t\t\telement = document.createElement('script');\n",
       "\t\t\t\telement.type = 'text/javascript';\n",
       "\t\t\t\telement.innerHTML = 'function NetworKit_pageEmbed(id) { var i, j; var elements; elements = document.getElementById(id).getElementsByClassName(\"Plot\"); for (i=0; i<elements.length; i++) { elements[i].id = id + \"_Plot_\" + i; var data = elements[i].getAttribute(\"data-image\").split(\"|\"); elements[i].removeAttribute(\"data-image\"); var content = \"<div class=\\\\\"Image\\\\\" id=\\\\\"\" + elements[i].id + \"_Image\\\\\" />\"; elements[i].innerHTML = content; elements[i].setAttribute(\"data-image-index\", 0); elements[i].setAttribute(\"data-image-length\", data.length); for (j=0; j<data.length; j++) { elements[i].setAttribute(\"data-image-\" + j, data[j]); } NetworKit_plotUpdate(elements[i]); elements[i].onclick = function (e) { NetworKit_overlayShow((e.target) ? e.target : e.srcElement); } } elements = document.getElementById(id).getElementsByClassName(\"HeatCell\"); for (i=0; i<elements.length; i++) { var data = parseFloat(elements[i].getAttribute(\"data-heat\")); var color = \"#00FF00\"; if (data <= 1 && data > 0) { color = \"hsla(0, 100%, 75%, \" + (data) + \")\"; } else if (data <= 0 && data >= -1) { color = \"hsla(240, 100%, 75%, \" + (-data) + \")\"; } elements[i].style.backgroundColor = color; } elements = document.getElementById(id).getElementsByClassName(\"Details\"); for (i=0; i<elements.length; i++) { elements[i].setAttribute(\"data-title\", \"-\"); NetworKit_toggleDetails(elements[i]); elements[i].onclick = function (e) { NetworKit_toggleDetails((e.target) ? e.target : e.srcElement); } } elements = document.getElementById(id).getElementsByClassName(\"MathValue\"); for (i=elements.length-1; i>=0; i--) { value = elements[i].innerHTML.trim(); if (value === \"nan\") { elements[i].parentNode.innerHTML = \"\" } } elements = document.getElementById(id).getElementsByClassName(\"SubCategory\"); for (i=elements.length-1; i>=0; i--) { value = elements[i].innerHTML.trim(); if (value === \"\") { elements[i].parentNode.removeChild(elements[i]) } } elements = document.getElementById(id).getElementsByClassName(\"Category\"); for (i=elements.length-1; i>=0; i--) { value = elements[i].innerHTML.trim(); if (value === \"\") { elements[i].parentNode.removeChild(elements[i]) } } var isFirefox = false; try { isFirefox = typeof InstallTrigger !== \"undefined\"; } catch (e) {} if (!isFirefox) { alert(\"Currently the function\\'s output is only fully supported by Firefox.\"); } } function NetworKit_plotUpdate(source) { var index = source.getAttribute(\"data-image-index\"); var data = source.getAttribute(\"data-image-\" + index); var image = document.getElementById(source.id + \"_Image\"); image.style.backgroundImage = \"url(\" + data + \")\"; } function NetworKit_showElement(id, show) { var element = document.getElementById(id); element.style.display = (show) ? \"block\" : \"none\"; } function NetworKit_overlayShow(source) { NetworKit_overlayUpdate(source); NetworKit_showElement(\"NetworKit_Overlay\", true); } function NetworKit_overlayUpdate(source) { document.getElementById(\"NetworKit_Overlay_Title\").innerHTML = source.title; var index = source.getAttribute(\"data-image-index\"); var data = source.getAttribute(\"data-image-\" + index); var image = document.getElementById(\"NetworKit_Overlay_Image\"); image.setAttribute(\"data-id\", source.id); image.style.backgroundImage = \"url(\" + data + \")\"; var link = document.getElementById(\"NetworKit_Overlay_Toolbar_Bottom_Save\"); link.href = data; link.download = source.title + \".svg\"; } function NetworKit_overlayImageShift(delta) { var image = document.getElementById(\"NetworKit_Overlay_Image\"); var source = document.getElementById(image.getAttribute(\"data-id\")); var index = parseInt(source.getAttribute(\"data-image-index\")); var length = parseInt(source.getAttribute(\"data-image-length\")); var index = (index+delta) % length; if (index < 0) { index = length + index; } source.setAttribute(\"data-image-index\", index); NetworKit_overlayUpdate(source); } function NetworKit_toggleDetails(source) { var childs = source.children; var show = false; if (source.getAttribute(\"data-title\") == \"-\") { source.setAttribute(\"data-title\", \"+\"); show = false; } else { source.setAttribute(\"data-title\", \"-\"); show = true; } for (i=0; i<childs.length; i++) { if (show) { childs[i].style.display = \"block\"; } else { childs[i].style.display = \"none\"; } } }';\n",
       "\t\t\t\telement.setAttribute('id', 'NetworKit_script');\n",
       "\t\t\t\tdocument.head.appendChild(element);\n",
       "\t\t\t}\n",
       "\t\t\n",
       "\t\t\t\t\n",
       "\t\t\t{\n",
       "\t\t\t\tvar element = document.getElementById('NetworKit_style');\n",
       "\t\t\t\tif (element) {\n",
       "\t\t\t\t\telement.parentNode.removeChild(element);\n",
       "\t\t\t\t}\n",
       "\t\t\t\telement = document.createElement('style');\n",
       "\t\t\t\telement.type = 'text/css';\n",
       "\t\t\t\telement.innerHTML = '.NetworKit_Page { font-family: Arial, Helvetica, sans-serif; font-size: 14px; } .NetworKit_Page .Value:before { font-family: Arial, Helvetica, sans-serif; font-size: 1.05em; content: attr(data-title) \":\"; margin-left: -2.5em; padding-right: 0.5em; } .NetworKit_Page .Details .Value:before { display: block; } .NetworKit_Page .Value { font-family: monospace; white-space: pre; padding-left: 2.5em; white-space: -moz-pre-wrap !important; white-space: -pre-wrap; white-space: -o-pre-wrap; white-space: pre-wrap; word-wrap: break-word; tab-size: 4; -moz-tab-size: 4; } .NetworKit_Page .Category { clear: both; padding-left: 1em; margin-bottom: 1.5em; } .NetworKit_Page .Category:before { content: attr(data-title); font-size: 1.75em; display: block; margin-left: -0.8em; margin-bottom: 0.5em; } .NetworKit_Page .SubCategory { margin-bottom: 1.5em; padding-left: 1em; } .NetworKit_Page .SubCategory:before { font-size: 1.6em; display: block; margin-left: -0.8em; margin-bottom: 0.5em; } .NetworKit_Page .SubCategory[data-title]:before { content: attr(data-title); } .NetworKit_Page .Block { display: block; } .NetworKit_Page .Block:after { content: \".\"; visibility: hidden; display: block; height: 0; clear: both; } .NetworKit_Page .Block .Thumbnail_Overview, .NetworKit_Page .Block .Thumbnail_ScatterPlot { width: 260px; float: left; } .NetworKit_Page .Block .Thumbnail_Overview img, .NetworKit_Page .Block .Thumbnail_ScatterPlot img { width: 260px; } .NetworKit_Page .Block .Thumbnail_Overview:before, .NetworKit_Page .Block .Thumbnail_ScatterPlot:before { display: block; text-align: center; font-weight: bold; } .NetworKit_Page .Block .Thumbnail_Overview:before { content: attr(data-title); } .NetworKit_Page .HeatCell { font-family: \"Courier New\", Courier, monospace; cursor: pointer; } .NetworKit_Page .HeatCell, .NetworKit_Page .HeatCellName { display: inline; padding: 0.1em; margin-right: 2px; background-color: #FFFFFF } .NetworKit_Page .HeatCellName { margin-left: 0.25em; } .NetworKit_Page .HeatCell:before { content: attr(data-heat); display: inline-block; color: #000000; width: 4em; text-align: center; } .NetworKit_Page .Measure { clear: both; } .NetworKit_Page .Measure .Details { cursor: pointer; } .NetworKit_Page .Measure .Details:before { content: \"[\" attr(data-title) \"]\"; display: block; } .NetworKit_Page .Measure .Details .Value { border-left: 1px dotted black; margin-left: 0.4em; padding-left: 3.5em; pointer-events: none; } .NetworKit_Page .Measure .Details .Spacer:before { content: \".\"; opacity: 0.0; pointer-events: none; } .NetworKit_Page .Measure .Plot { width: 440px; height: 440px; cursor: pointer; float: left; margin-left: -0.9em; margin-right: 20px; } .NetworKit_Page .Measure .Plot .Image { background-repeat: no-repeat; background-position: center center; background-size: contain; height: 100%; pointer-events: none; } .NetworKit_Page .Measure .Stat { width: 500px; float: left; } .NetworKit_Page .Measure .Stat .Group { padding-left: 1.25em; margin-bottom: 0.75em; } .NetworKit_Page .Measure .Stat .Group .Title { font-size: 1.1em; display: block; margin-bottom: 0.3em; margin-left: -0.75em; border-right-style: dotted; border-right-width: 1px; border-bottom-style: dotted; border-bottom-width: 1px; background-color: #D0D0D0; padding-left: 0.2em; } .NetworKit_Page .Measure .Stat .Group .List { -webkit-column-count: 3; -moz-column-count: 3; column-count: 3; } .NetworKit_Page .Measure .Stat .Group .List .Entry { position: relative; line-height: 1.75em; } .NetworKit_Page .Measure .Stat .Group .List .Entry[data-tooltip]:before { position: absolute; left: 0; top: -40px; background-color: #808080; color: #ffffff; height: 30px; line-height: 30px; border-radius: 5px; padding: 0 15px; content: attr(data-tooltip); white-space: nowrap; display: none; } .NetworKit_Page .Measure .Stat .Group .List .Entry[data-tooltip]:after { position: absolute; left: 15px; top: -10px; border-top: 7px solid #808080; border-left: 7px solid transparent; border-right: 7px solid transparent; content: \"\"; display: none; } .NetworKit_Page .Measure .Stat .Group .List .Entry[data-tooltip]:hover:after, .NetworKit_Page .Measure .Stat .Group .List .Entry[data-tooltip]:hover:before { display: block; } .NetworKit_Page .Measure .Stat .Group .List .Entry .MathValue { font-family: \"Courier New\", Courier, monospace; } .NetworKit_Page .Measure:after { content: \".\"; visibility: hidden; display: block; height: 0; clear: both; } .NetworKit_Page .PartitionPie { clear: both; } .NetworKit_Page .PartitionPie img { width: 600px; } #NetworKit_Overlay { left: 0px; top: 0px; display: none; position: absolute; width: 100%; height: 100%; background-color: rgba(0,0,0,0.6); z-index: 1000; } #NetworKit_Overlay_Title { position: absolute; color: white; transform: rotate(-90deg); width: 32em; height: 32em; padding-right: 0.5em; padding-top: 0.5em; text-align: right; font-size: 40px; } #NetworKit_Overlay .button { background: white; cursor: pointer; } #NetworKit_Overlay .button:before { size: 13px; display: inline-block; text-align: center; margin-top: 0.5em; margin-bottom: 0.5em; width: 1.5em; height: 1.5em; } #NetworKit_Overlay .icon-close:before { content: \"X\"; } #NetworKit_Overlay .icon-previous:before { content: \"P\"; } #NetworKit_Overlay .icon-next:before { content: \"N\"; } #NetworKit_Overlay .icon-save:before { content: \"S\"; } #NetworKit_Overlay_Toolbar_Top, #NetworKit_Overlay_Toolbar_Bottom { position: absolute; width: 40px; right: 13px; text-align: right; z-index: 1100; } #NetworKit_Overlay_Toolbar_Top { top: 0.5em; } #NetworKit_Overlay_Toolbar_Bottom { Bottom: 0.5em; } #NetworKit_Overlay_ImageContainer { position: absolute; top: 5%; left: 5%; height: 90%; width: 90%; background-repeat: no-repeat; background-position: center center; background-size: contain; } #NetworKit_Overlay_Image { height: 100%; width: 100%; background-repeat: no-repeat; background-position: center center; background-size: contain; }';\n",
       "\t\t\t\telement.setAttribute('id', 'NetworKit_style');\n",
       "\t\t\t\tdocument.head.appendChild(element);\n",
       "\t\t\t}\n",
       "\t\t\n",
       "\t\t\t\t\n",
       "\t\t\t{\n",
       "\t\t\t\tvar element = document.getElementById('NetworKit_Overlay');\n",
       "\t\t\t\tif (element) {\n",
       "\t\t\t\t\telement.parentNode.removeChild(element);\n",
       "\t\t\t\t}\n",
       "\t\t\t\telement = document.createElement('div');\n",
       "\t\t\t\telement.innerHTML = '<div id=\"NetworKit_Overlay_Toolbar_Top\"><div class=\"button icon-close\" id=\"NetworKit_Overlay_Close\" /></div><div id=\"NetworKit_Overlay_Title\" /> <div id=\"NetworKit_Overlay_ImageContainer\"> <div id=\"NetworKit_Overlay_Image\" /> </div> <div id=\"NetworKit_Overlay_Toolbar_Bottom\"> <div class=\"button icon-previous\" onclick=\"NetworKit_overlayImageShift(-1)\" /> <div class=\"button icon-next\" onclick=\"NetworKit_overlayImageShift(1)\" /> <a id=\"NetworKit_Overlay_Toolbar_Bottom_Save\"><div class=\"button icon-save\" /></a> </div>';\n",
       "\t\t\t\telement.setAttribute('id', 'NetworKit_Overlay');\n",
       "\t\t\t\tdocument.body.appendChild(element);\n",
       "\t\t\t\tdocument.getElementById('NetworKit_Overlay_Close').onclick = function (e) {\n",
       "\t\t\t\t\tdocument.getElementById('NetworKit_Overlay').style.display = 'none';\n",
       "\t\t\t\t}\n",
       "\t\t\t}\n",
       "\t\t\n",
       "\t\t\t-->\n",
       "\t\t\t</script>\n",
       "\t\t"
      ]
     },
     "metadata": {},
     "output_type": "display_data"
    },
    {
     "name": "stdout",
     "output_type": "stream",
     "text": [
      "done\n"
     ]
    }
   ],
   "source": [
    "from benji_girgs import *\n",
    "from typing import List, Tuple, Union\n",
    "import random\n",
    "from scipy.spatial.distance import pdist, squareform\n",
    "\n",
    "from IPython.core.interactiveshell import InteractiveShell\n",
    "InteractiveShell.ast_node_interactivity = \"all\"\n",
    "\n",
    "graph_folder = 'data/socfb/'\n",
    "path = graph_folder + 'socfb-Brown11.SpaceOne'\n",
    "g = nk.readGraph(path, nk.Format.EdgeListSpaceOne)\n",
    "\n",
    "data_dir = '/Users/benjidayan/Documents/GIRG_data/'\n",
    "\n",
    "from IPython.core.interactiveshell import InteractiveShell\n",
    "InteractiveShell.ast_node_interactivity = \"all\""
   ]
  },
  {
   "cell_type": "code",
   "execution_count": 2,
   "metadata": {},
   "outputs": [
    {
     "name": "stdout",
     "output_type": "stream",
     "text": [
      "CPU times: user 692 ms, sys: 251 ms, total: 943 ms\n",
      "Wall time: 941 ms\n"
     ]
    }
   ],
   "source": [
    "n = 5000\n",
    "d = 3\n",
    "pts = torus_uniform(d, n)\n",
    "tsl = n**(1/d)\n",
    "%time _ = get_dists(pts, tsl)"
   ]
  },
  {
   "cell_type": "code",
   "execution_count": 4,
   "metadata": {},
   "outputs": [
    {
     "name": "stdout",
     "output_type": "stream",
     "text": [
      "CPU times: user 353 ms, sys: 65.6 ms, total: 418 ms\n",
      "Wall time: 417 ms\n"
     ]
    }
   ],
   "source": [
    "n = 5000\n",
    "d = 3\n",
    "pts = torus_uniform(d, n)\n",
    "tsl = n**(1/d)\n",
    "%time _ = jl.get_dists_novars(pts.astype(np.float16), tsl)"
   ]
  },
  {
   "cell_type": "code",
   "execution_count": 5,
   "metadata": {},
   "outputs": [
    {
     "name": "stdout",
     "output_type": "stream",
     "text": [
      "CPU times: user 314 ms, sys: 76.9 ms, total: 391 ms\n",
      "Wall time: 390 ms\n"
     ]
    }
   ],
   "source": [
    "n = 5000\n",
    "d = 3\n",
    "pts = torus_uniform(d, n)\n",
    "tsl = n**(1/d)\n",
    "%time _ = get_dists_julia(pts, tsl)"
   ]
  },
  {
   "cell_type": "code",
   "execution_count": 3,
   "metadata": {},
   "outputs": [
    {
     "data": {
      "text/plain": [
       "array([[0.        , 5.1171875 , 6.44921875, ..., 6.63100947, 5.15234375,\n",
       "        6.1328125 ],\n",
       "       [5.1171875 , 0.        , 8.3046875 , ..., 6.05078125, 8.5390625 ,\n",
       "        7.390625  ],\n",
       "       [6.44921875, 8.3046875 , 0.        , ..., 8.52163447, 5.88671875,\n",
       "        5.6484375 ],\n",
       "       ...,\n",
       "       [6.63100947, 6.05078125, 8.52163447, ..., 0.        , 8.1875    ,\n",
       "        5.0078125 ],\n",
       "       [5.15234375, 8.5390625 , 5.88671875, ..., 8.1875    , 0.        ,\n",
       "        5.81069697],\n",
       "       [6.1328125 , 7.390625  , 5.6484375 , ..., 5.0078125 , 5.81069697,\n",
       "        0.        ]])"
      ]
     },
     "execution_count": 3,
     "metadata": {},
     "output_type": "execute_result"
    }
   ],
   "source": [
    "jl.get_dists_novars(pts.astype(np.float16), tsl)"
   ]
  },
  {
   "cell_type": "code",
   "execution_count": 14,
   "metadata": {},
   "outputs": [
    {
     "data": {
      "text/plain": [
       "<PyCall.jlwrap Float16>"
      ]
     },
     "execution_count": 14,
     "metadata": {},
     "output_type": "execute_result"
    }
   ],
   "source": [
    "pts16 = pts.astype(np.float16)\n",
    "jl.eval('typeof(convert(Float16, 1.1))')"
   ]
  },
  {
   "cell_type": "code",
   "execution_count": 5,
   "metadata": {},
   "outputs": [
    {
     "data": {
      "text/plain": [
       "dtype('float64')"
      ]
     },
     "execution_count": 5,
     "metadata": {},
     "output_type": "execute_result"
    }
   ],
   "source": [
    "np.array([1.1]).dtype"
   ]
  },
  {
   "cell_type": "code",
   "execution_count": null,
   "metadata": {},
   "outputs": [],
   "source": [
    "jl.get_dists_novars(torus_points.astype(np.float16), )"
   ]
  },
  {
   "cell_type": "code",
   "execution_count": 4,
   "metadata": {},
   "outputs": [
    {
     "ename": "RuntimeError",
     "evalue": "<PyCall.jlwrap (in a Julia function called from Python)\nJULIA: MethodError: no method matching get_dists(::Matrix{Float16}, ::PyObject)\nStacktrace:\n [1] invokelatest(::Any, ::Any, ::Vararg{Any}; kwargs::Base.Pairs{Symbol, Union{}, Tuple{}, NamedTuple{(), Tuple{}}})\n   @ Base ./essentials.jl:729\n [2] invokelatest(::Any, ::Any, ::Vararg{Any})\n   @ Base ./essentials.jl:726\n [3] _pyjlwrap_call(f::Function, args_::Ptr{PyCall.PyObject_struct}, kw_::Ptr{PyCall.PyObject_struct})\n   @ PyCall ~/.julia/packages/PyCall/twYvK/src/callback.jl:28\n [4] pyjlwrap_call(self_::Ptr{PyCall.PyObject_struct}, args_::Ptr{PyCall.PyObject_struct}, kw_::Ptr{PyCall.PyObject_struct})\n   @ PyCall ~/.julia/packages/PyCall/twYvK/src/callback.jl:44>",
     "output_type": "error",
     "traceback": [
      "\u001b[0;31m---------------------------------------------------------------------------\u001b[0m",
      "\u001b[0;31mRuntimeError\u001b[0m                              Traceback (most recent call last)",
      "File \u001b[0;32m<timed exec>:1\u001b[0m, in \u001b[0;36m<module>\u001b[0;34m\u001b[0m\n",
      "File \u001b[0;32m~/My Drive/eth_courses/GIRG/nemo-eva/benji_girgs.py:133\u001b[0m, in \u001b[0;36mget_dists_julia\u001b[0;34m(torus_points, torus_side_length)\u001b[0m\n\u001b[1;32m    131\u001b[0m torus_points \u001b[39m=\u001b[39m torus_points\u001b[39m.\u001b[39mastype(np\u001b[39m.\u001b[39mfloat16)\n\u001b[1;32m    132\u001b[0m torus_side_length \u001b[39m=\u001b[39m np\u001b[39m.\u001b[39mfloat16(torus_side_length)\n\u001b[0;32m--> 133\u001b[0m \u001b[39mreturn\u001b[39;00m jl\u001b[39m.\u001b[39;49mget_dists(torus_points, torus_side_length)\n",
      "\u001b[0;31mRuntimeError\u001b[0m: <PyCall.jlwrap (in a Julia function called from Python)\nJULIA: MethodError: no method matching get_dists(::Matrix{Float16}, ::PyObject)\nStacktrace:\n [1] invokelatest(::Any, ::Any, ::Vararg{Any}; kwargs::Base.Pairs{Symbol, Union{}, Tuple{}, NamedTuple{(), Tuple{}}})\n   @ Base ./essentials.jl:729\n [2] invokelatest(::Any, ::Any, ::Vararg{Any})\n   @ Base ./essentials.jl:726\n [3] _pyjlwrap_call(f::Function, args_::Ptr{PyCall.PyObject_struct}, kw_::Ptr{PyCall.PyObject_struct})\n   @ PyCall ~/.julia/packages/PyCall/twYvK/src/callback.jl:28\n [4] pyjlwrap_call(self_::Ptr{PyCall.PyObject_struct}, args_::Ptr{PyCall.PyObject_struct}, kw_::Ptr{PyCall.PyObject_struct})\n   @ PyCall ~/.julia/packages/PyCall/twYvK/src/callback.jl:44>"
     ]
    }
   ],
   "source": [
    "n = 5000\n",
    "d = 3\n",
    "pts = torus_uniform(d, n)\n",
    "tsl = n**(1/d)\n",
    "%time _ = get_dists_julia(pts, tsl)"
   ]
  },
  {
   "cell_type": "code",
   "execution_count": 5,
   "metadata": {},
   "outputs": [],
   "source": [
    "torus_points, torus_side_length = pts, tsl\n",
    "torus_points = torus_points.astype(np.float16)\n",
    "torus_side_length = np.float16(torus_side_length)"
   ]
  },
  {
   "cell_type": "code",
   "execution_count": null,
   "metadata": {},
   "outputs": [],
   "source": [
    "jl.get_dists_novars(torus_points, torus_side_length)"
   ]
  },
  {
   "cell_type": "code",
   "execution_count": 33,
   "metadata": {},
   "outputs": [
    {
     "name": "stdout",
     "output_type": "stream",
     "text": [
      "CPU times: user 1.76 s, sys: 608 ms, total: 2.37 s\n",
      "Wall time: 2.37 s\n"
     ]
    }
   ],
   "source": [
    "n = 8000\n",
    "d = 3\n",
    "pts = torus_uniform(d, n)\n",
    "tsl = n**(1/d)\n",
    "%time _ = get_dists2(pts, tsl)"
   ]
  },
  {
   "cell_type": "code",
   "execution_count": 34,
   "metadata": {},
   "outputs": [
    {
     "data": {
      "text/plain": [
       "1.1"
      ]
     },
     "execution_count": 34,
     "metadata": {},
     "output_type": "execute_result"
    }
   ],
   "source": [
    "np.float16(1.1)"
   ]
  },
  {
   "cell_type": "code",
   "execution_count": null,
   "metadata": {},
   "outputs": [],
   "source": []
  },
  {
   "cell_type": "code",
   "execution_count": 22,
   "metadata": {},
   "outputs": [
    {
     "name": "stdout",
     "output_type": "stream",
     "text": [
      "1.16 s ± 193 ms per loop (mean ± std. dev. of 7 runs, 1 loop each)\n"
     ]
    }
   ],
   "source": [
    "n = 5000\n",
    "d = 3\n",
    "pts = torus_uniform(d, n)\n",
    "tsl = n**(1/d)\n",
    "%timeit _ = get_dists(pts, tsl)"
   ]
  },
  {
   "cell_type": "code",
   "execution_count": 23,
   "metadata": {},
   "outputs": [
    {
     "name": "stdout",
     "output_type": "stream",
     "text": [
      "671 ms ± 16.1 ms per loop (mean ± std. dev. of 7 runs, 1 loop each)\n"
     ]
    }
   ],
   "source": [
    "n = 5000\n",
    "d = 3\n",
    "pts = torus_uniform(d, n)\n",
    "tsl = n**(1/d)\n",
    "%timeit _ = jl.get_dists(pts, tsl)"
   ]
  },
  {
   "cell_type": "code",
   "execution_count": 24,
   "metadata": {},
   "outputs": [
    {
     "name": "stdout",
     "output_type": "stream",
     "text": [
      "10.3 s ± 1.47 s per loop (mean ± std. dev. of 7 runs, 1 loop each)\n"
     ]
    }
   ],
   "source": [
    "n = 10000\n",
    "d = 3\n",
    "pts = torus_uniform(d, n)\n",
    "tsl = n**(1/d)\n",
    "%timeit _ = get_dists(pts, tsl)"
   ]
  },
  {
   "cell_type": "code",
   "execution_count": 25,
   "metadata": {},
   "outputs": [
    {
     "name": "stdout",
     "output_type": "stream",
     "text": [
      "9.51 s ± 840 ms per loop (mean ± std. dev. of 7 runs, 1 loop each)\n"
     ]
    }
   ],
   "source": [
    "n = 10000\n",
    "d = 3\n",
    "pts = torus_uniform(d, n)\n",
    "tsl = n**(1/d)\n",
    "%timeit _ = get_dists(pts, tsl)"
   ]
  },
  {
   "cell_type": "code",
   "execution_count": 26,
   "metadata": {},
   "outputs": [
    {
     "name": "stdout",
     "output_type": "stream",
     "text": [
      "4.55 s ± 833 ms per loop (mean ± std. dev. of 7 runs, 1 loop each)\n"
     ]
    }
   ],
   "source": [
    "n = 10000\n",
    "d = 3\n",
    "pts = torus_uniform(d, n)\n",
    "tsl = n**(1/d)\n",
    "%timeit _ = jl.get_dists(pts, tsl)"
   ]
  },
  {
   "cell_type": "code",
   "execution_count": 6,
   "metadata": {},
   "outputs": [
    {
     "name": "stdout",
     "output_type": "stream",
     "text": [
      "CPU times: user 2.3 s, sys: 4.05 s, total: 6.36 s\n",
      "Wall time: 9.34 s\n"
     ]
    }
   ],
   "source": [
    "n = 20000\n",
    "d = 3\n",
    "pts = torus_uniform(d, n)\n",
    "tsl = n**(1/d)\n",
    "%time _ = get_dists(pts, tsl);"
   ]
  },
  {
   "cell_type": "code",
   "execution_count": null,
   "metadata": {},
   "outputs": [],
   "source": [
    "n = 20000\n",
    "d = 3\n",
    "pts = torus_uniform(d, n)\n",
    "tsl = n**(1/d)\n",
    "%time _ = jl.get_dists(pts, tsl)"
   ]
  },
  {
   "cell_type": "code",
   "execution_count": 8,
   "metadata": {},
   "outputs": [
    {
     "name": "stdout",
     "output_type": "stream",
     "text": [
      "5.28 s ± 1.49 s per loop (mean ± std. dev. of 7 runs, 1 loop each)\n"
     ]
    }
   ],
   "source": [
    "n = 10000\n",
    "d = 3\n",
    "pts = torus_uniform(d, n)\n",
    "tsl = n**(1/d)\n",
    "%timeit _ = jl.get_dists(pts, tsl)"
   ]
  },
  {
   "cell_type": "code",
   "execution_count": 4,
   "metadata": {},
   "outputs": [
    {
     "name": "stdout",
     "output_type": "stream",
     "text": [
      "Initializing Julia interpreter. This may take some time...\n"
     ]
    }
   ],
   "source": [
    "%load_ext julia.magic"
   ]
  },
  {
   "cell_type": "code",
   "execution_count": 5,
   "metadata": {},
   "outputs": [
    {
     "data": {
      "text/plain": [
       "array([[1.5108341 , 1.40977142],\n",
       "       [1.14144295, 1.21419145],\n",
       "       [1.05694883, 0.6329439 ],\n",
       "       [1.11535841, 0.36854715]])"
      ]
     },
     "execution_count": 5,
     "metadata": {},
     "output_type": "execute_result"
    }
   ],
   "source": [
    "pts = generatePositions(4, 2)\n",
    "tsl = 4"
   ]
  },
  {
   "cell_type": "code",
   "execution_count": 6,
   "metadata": {},
   "outputs": [
    {
     "data": {
      "text/plain": [
       "<PyCall.jlwrap Matrix{Float64}>"
      ]
     },
     "execution_count": 6,
     "metadata": {},
     "output_type": "execute_result"
    }
   ],
   "source": [
    "%julia typeof($pts)"
   ]
  },
  {
   "cell_type": "code",
   "execution_count": 7,
   "metadata": {},
   "outputs": [
    {
     "data": {
      "text/plain": [
       "<PyCall.jlwrap get_dists_jl>"
      ]
     },
     "execution_count": 7,
     "metadata": {},
     "output_type": "execute_result"
    }
   ],
   "source": [
    "jl.eval('include(\"benji_jl_dists.jl\")')\n"
   ]
  },
  {
   "cell_type": "code",
   "execution_count": 17,
   "metadata": {},
   "outputs": [],
   "source": [
    "from julia import Main"
   ]
  },
  {
   "cell_type": "code",
   "execution_count": 20,
   "metadata": {},
   "outputs": [
    {
     "data": {
      "text/plain": [
       "array([[ True,  True,  True, ...,  True,  True,  True],\n",
       "       [ True,  True,  True, ...,  True,  True,  True],\n",
       "       [ True,  True,  True, ...,  True,  True,  True],\n",
       "       ...,\n",
       "       [ True,  True,  True, ...,  True,  True,  True],\n",
       "       [ True,  True,  True, ...,  True,  True,  True],\n",
       "       [ True,  True,  True, ...,  True,  True,  True]])"
      ]
     },
     "execution_count": 20,
     "metadata": {},
     "output_type": "execute_result"
    }
   ],
   "source": [
    "Main.get_dists_jl(pts, tsl) == get_dists(pts, tsl)"
   ]
  },
  {
   "cell_type": "code",
   "execution_count": 9,
   "metadata": {},
   "outputs": [
    {
     "data": {
      "text/plain": [
       "array([[0.        , 0.5362289 , 0.28434169, 0.23989692],\n",
       "       [0.5362289 , 0.        , 0.49972027, 0.77612582],\n",
       "       [0.28434169, 0.49972027, 0.        , 0.27640555],\n",
       "       [0.23989692, 0.77612582, 0.27640555, 0.        ]])"
      ]
     },
     "execution_count": 9,
     "metadata": {},
     "output_type": "execute_result"
    }
   ],
   "source": [
    "%julia get_dists_jl($pts, 4^(1/3))"
   ]
  },
  {
   "cell_type": "code",
   "execution_count": 11,
   "metadata": {},
   "outputs": [],
   "source": [
    "pts = torus_uniform(3, 1000)\n",
    "tsl = 1000**(1/3)"
   ]
  },
  {
   "cell_type": "code",
   "execution_count": 12,
   "metadata": {},
   "outputs": [
    {
     "name": "stdout",
     "output_type": "stream",
     "text": [
      "CPU times: user 26.3 ms, sys: 20.8 ms, total: 47.1 ms\n",
      "Wall time: 61.2 ms\n"
     ]
    },
    {
     "data": {
      "text/plain": [
       "array([[0.        , 4.39187051, 4.46344899, ..., 3.10326406, 2.64633972,\n",
       "        4.13361159],\n",
       "       [4.39187051, 0.        , 4.50341823, ..., 4.65520844, 4.6273303 ,\n",
       "        4.38042642],\n",
       "       [4.46344899, 4.50341823, 0.        , ..., 4.47376293, 4.6989582 ,\n",
       "        4.24515931],\n",
       "       ...,\n",
       "       [3.10326406, 4.65520844, 4.47376293, ..., 0.        , 2.23546218,\n",
       "        3.12106704],\n",
       "       [2.64633972, 4.6273303 , 4.6989582 , ..., 2.23546218, 0.        ,\n",
       "        4.88558922],\n",
       "       [4.13361159, 4.38042642, 4.24515931, ..., 3.12106704, 4.88558922,\n",
       "        0.        ]])"
      ]
     },
     "execution_count": 12,
     "metadata": {},
     "output_type": "execute_result"
    }
   ],
   "source": [
    "%time get_dists(pts, tsl)"
   ]
  },
  {
   "cell_type": "code",
   "execution_count": 15,
   "metadata": {},
   "outputs": [
    {
     "data": {
      "text/plain": [
       "<julia.core.Julia at 0x14f818370>"
      ]
     },
     "execution_count": 15,
     "metadata": {},
     "output_type": "execute_result"
    }
   ],
   "source": [
    "jl"
   ]
  },
  {
   "cell_type": "code",
   "execution_count": 13,
   "metadata": {},
   "outputs": [
    {
     "data": {
      "text/plain": [
       "array([[0.        , 4.39187051, 4.46344899, ..., 3.10326406, 2.64633972,\n",
       "        4.13361159],\n",
       "       [4.39187051, 0.        , 4.50341823, ..., 4.65520844, 4.6273303 ,\n",
       "        4.38042642],\n",
       "       [4.46344899, 4.50341823, 0.        , ..., 4.47376293, 4.6989582 ,\n",
       "        4.24515931],\n",
       "       ...,\n",
       "       [3.10326406, 4.65520844, 4.47376293, ..., 0.        , 2.23546218,\n",
       "        3.12106704],\n",
       "       [2.64633972, 4.6273303 , 4.6989582 , ..., 2.23546218, 0.        ,\n",
       "        4.88558922],\n",
       "       [4.13361159, 4.38042642, 4.24515931, ..., 3.12106704, 4.88558922,\n",
       "        0.        ]])"
      ]
     },
     "execution_count": 13,
     "metadata": {},
     "output_type": "execute_result"
    }
   ],
   "source": [
    "%julia get_dists_jl($pts, $tsl)"
   ]
  },
  {
   "cell_type": "code",
   "execution_count": 28,
   "metadata": {},
   "outputs": [
    {
     "data": {
      "text/plain": [
       "<PyCall.jlwrap Matrix{Float64}>"
      ]
     },
     "execution_count": 28,
     "metadata": {},
     "output_type": "execute_result"
    }
   ],
   "source": [
    "a = get_dists(pts, tsl)\n",
    "b = jl.eval()"
   ]
  },
  {
   "cell_type": "code",
   "execution_count": 3,
   "metadata": {},
   "outputs": [
    {
     "data": {
      "image/png": "[encoded data removed]",
      "text/plain": [
       "<Figure size 640x480 with 2 Axes>"
      ]
     },
     "metadata": {},
     "output_type": "display_data"
    }
   ],
   "source": [
    "plot_degree_dist(g)"
   ]
  },
  {
   "cell_type": "code",
   "execution_count": 84,
   "metadata": {},
   "outputs": [
    {
     "name": "stderr",
     "output_type": "stream",
     "text": [
      "/var/folders/60/0t2c_bns6n3c7kjhdk4d4wk80000gn/T/ipykernel_56711/437605231.py:8: RuntimeWarning: divide by zero encountered in divide\n",
      "  p_uv = np.divide(outer, dists**d)\n"
     ]
    }
   ],
   "source": [
    "n=100\n",
    "weights = generateWeights(n, 2.1)\n",
    "pts = generatePositions(n, 3)\n",
    "alpha=2.0\n",
    "outer = np.outer(weights, weights)\n",
    "n, d = len(weights), pts.shape[1]\n",
    "dists = get_dists(pts, n**(1/d))\n",
    "p_uv = np.divide(outer, dists**d)  \n",
    "p_uv = np.minimum(p_uv, 1)\n",
    "p_uv = np.power(p_uv, alpha)"
   ]
  },
  {
   "cell_type": "code",
   "execution_count": 94,
   "metadata": {},
   "outputs": [
    {
     "name": "stderr",
     "output_type": "stream",
     "text": [
      "/var/folders/60/0t2c_bns6n3c7kjhdk4d4wk80000gn/T/ipykernel_56711/743831212.py:29: RuntimeWarning: divide by zero encountered in divide\n",
      "  p_uv = np.divide(outer, dists**d)\n"
     ]
    },
    {
     "data": {
      "text/plain": [
       "array([[0, 0, 0, ..., 0, 0, 0],\n",
       "       [0, 0, 0, ..., 0, 0, 0],\n",
       "       [0, 0, 0, ..., 1, 1, 1],\n",
       "       ...,\n",
       "       [0, 0, 0, ..., 0, 1, 1],\n",
       "       [0, 0, 0, ..., 0, 0, 1],\n",
       "       [0, 0, 0, ..., 0, 0, 0]], dtype=uint64)"
      ]
     },
     "execution_count": 94,
     "metadata": {},
     "output_type": "execute_result"
    }
   ],
   "source": [
    "edges = generateEdges(weights, pts, 2.0)\n",
    "edges"
   ]
  },
  {
   "cell_type": "code",
   "execution_count": 14,
   "metadata": {},
   "outputs": [],
   "source": [
    "import sklearn\n",
    "def get_dists(torus_points: np.ndarray, torus_side_length):\n",
    "    \"\"\"\n",
    "    torus_points: (n x d) array of points\n",
    "    \"\"\"\n",
    "    # dists = pdist(torus_points, \n",
    "    dists = metrics.pairwise_distances(torus_points,\n",
    "              lambda a,b: np.linalg.norm(get_torus_path(a, b, torus_side_length), ord=np.inf))\n",
    "    return squareform(dists)"
   ]
  },
  {
   "cell_type": "code",
   "execution_count": 24,
   "metadata": {},
   "outputs": [],
   "source": [
    "torus_points = pts\n",
    "torus_side_length = 4**(1/3)\n",
    "\n",
    "n = len(torus_points)\n",
    "lpts = np.tile(pts, (n, 1))\n",
    "rpts = np.repeat(pts, n, axis=0)\n",
    "diff = np.abs(rpts - lpts)\n",
    "dists = np.minimum(diff, torus_side_length - diff)"
   ]
  },
  {
   "cell_type": "code",
   "execution_count": 25,
   "metadata": {},
   "outputs": [
    {
     "data": {
      "text/plain": [
       "array([[0.        , 0.        , 0.        ],\n",
       "       [0.04360303, 0.60301749, 0.19995592],\n",
       "       [0.83661295, 1.44283812, 0.55293604],\n",
       "       [0.30883358, 0.36397892, 1.2330574 ],\n",
       "       [0.04360303, 0.60301749, 0.19995592],\n",
       "       [0.        , 0.        , 0.        ],\n",
       "       [0.79300992, 0.83982063, 0.35298012],\n",
       "       [0.35243661, 0.23903858, 1.03310148],\n",
       "       [0.83661295, 1.44283812, 0.55293604],\n",
       "       [0.79300992, 0.83982063, 0.35298012],\n",
       "       [0.        , 0.        , 0.        ],\n",
       "       [1.14544653, 1.0788592 , 0.68012136],\n",
       "       [0.30883358, 0.36397892, 1.2330574 ],\n",
       "       [0.35243661, 0.23903858, 1.03310148],\n",
       "       [1.14544653, 1.0788592 , 0.68012136],\n",
       "       [0.        , 0.        , 0.        ]])"
      ]
     },
     "execution_count": 25,
     "metadata": {},
     "output_type": "execute_result"
    }
   ],
   "source": [
    "diff"
   ]
  },
  {
   "cell_type": "code",
   "execution_count": 30,
   "metadata": {},
   "outputs": [
    {
     "data": {
      "text/plain": [
       "array([[0.        , 0.60301749, 0.7507881 , 0.36397892],\n",
       "       [0.60301749, 0.        , 0.79300992, 0.55429957],\n",
       "       [0.7507881 , 0.79300992, 0.        , 0.68012136],\n",
       "       [0.36397892, 0.55429957, 0.68012136, 0.        ]])"
      ]
     },
     "execution_count": 30,
     "metadata": {},
     "output_type": "execute_result"
    }
   ],
   "source": [
    "foo = np.linalg.norm(dists, ord=np.inf, axis=1)\n",
    "foo.reshape(n, n)"
   ]
  },
  {
   "cell_type": "code",
   "execution_count": 49,
   "metadata": {},
   "outputs": [
    {
     "name": "stdout",
     "output_type": "stream",
     "text": [
      "[ 0.8516218  -0.62696006  1.71902471]\n",
      "[-1.30281289  1.52747463 -0.43540998]\n"
     ]
    },
    {
     "data": {
      "text/plain": [
       "array([ 0.8516218 , -0.62696006, -0.43540998])"
      ]
     },
     "execution_count": 49,
     "metadata": {},
     "output_type": "execute_result"
    }
   ],
   "source": [
    "a, b = pts[0], pts[3]\n",
    "tsl = 10**(1/3)\n",
    "dist1, dist2 =b-a, (tsl-np.abs(b-a))*(-np.sign(b-a))\n",
    "print(dist1)\n",
    "print(dist2)\n",
    "np.where(np.abs(dist1) < np.abs(dist2), dist1, dist2)\n"
   ]
  },
  {
   "cell_type": "code",
   "execution_count": 33,
   "metadata": {},
   "outputs": [],
   "source": [
    "def get_dists_old(torus_points: np.ndarray, torus_side_length):\n",
    "    \"\"\"\n",
    "    torus_points: (n x d) array of points\n",
    "    \"\"\"\n",
    "    dists = pdist(torus_points, \n",
    "              lambda a,b: np.linalg.norm(get_torus_path(a, b, torus_side_length), ord=np.inf))\n",
    "    return squareform(dists)\n",
    "\n",
    "def get_dists(torus_points: np.ndarray, torus_side_length):\n",
    "    \"\"\"\n",
    "    torus_points: (n x d) array of points\n",
    "    \"\"\"\n",
    "    n = len(torus_points)\n",
    "    lpts = np.tile(pts, (n,1))\n",
    "    rpts = np.repeat(pts, n, axis=0)\n",
    "    diff = np.abs(rpts - lpts)\n",
    "    torus_diff = np.minimum(diff, torus_side_length - diff)\n",
    "    dists = np.linalg.norm(torus_diff, ord=np.inf, axis=1)\n",
    "    return dists.reshape(n, n)"
   ]
  },
  {
   "cell_type": "code",
   "execution_count": 34,
   "metadata": {},
   "outputs": [
    {
     "data": {
      "text/plain": [
       "array([[0.        , 0.60301749, 0.7507881 , 0.36397892],\n",
       "       [0.60301749, 0.        , 0.79300992, 0.55429957],\n",
       "       [0.7507881 , 0.79300992, 0.        , 0.68012136],\n",
       "       [0.36397892, 0.55429957, 0.68012136, 0.        ]])"
      ]
     },
     "execution_count": 34,
     "metadata": {},
     "output_type": "execute_result"
    }
   ],
   "source": [
    "get_dists(pts, 4**(1/3))"
   ]
  },
  {
   "cell_type": "code",
   "execution_count": 35,
   "metadata": {},
   "outputs": [
    {
     "data": {
      "text/plain": [
       "array([[0.        , 0.60301749, 0.7507881 , 0.36397892],\n",
       "       [0.60301749, 0.        , 0.79300992, 0.55429957],\n",
       "       [0.7507881 , 0.79300992, 0.        , 0.68012136],\n",
       "       [0.36397892, 0.55429957, 0.68012136, 0.        ]])"
      ]
     },
     "execution_count": 35,
     "metadata": {},
     "output_type": "execute_result"
    }
   ],
   "source": [
    "get_dists_old(pts, 4**(1/3))\n"
   ]
  },
  {
   "cell_type": "code",
   "execution_count": 41,
   "metadata": {},
   "outputs": [],
   "source": [
    "pts = generatePositions(1000, 3)\n",
    "dists = get_dists_old(pts, 1000**(1/3))"
   ]
  },
  {
   "cell_type": "code",
   "execution_count": 42,
   "metadata": {},
   "outputs": [],
   "source": [
    "# pts = generatePositions(1000, 3)\n",
    "dists2 = get_dists(pts, 1000**(1/3))"
   ]
  },
  {
   "cell_type": "code",
   "execution_count": 44,
   "metadata": {},
   "outputs": [
    {
     "data": {
      "text/plain": [
       "True"
      ]
     },
     "execution_count": 44,
     "metadata": {},
     "output_type": "execute_result"
    }
   ],
   "source": [
    "np.all(dists==dists2)"
   ]
  },
  {
   "cell_type": "code",
   "execution_count": null,
   "metadata": {},
   "outputs": [],
   "source": [
    "from scipy.spåtial.distance import pdist\n",
    "pdist(pts, lambda a,b: np.)"
   ]
  },
  {
   "cell_type": "code",
   "execution_count": 17,
   "metadata": {},
   "outputs": [
    {
     "data": {
      "text/plain": [
       "array([405.01124424, 517.44956568, 123.281343  , 777.93481893,\n",
       "       551.12396407, 704.10011761, 309.1629107 , 445.02028568,\n",
       "       554.35082582, 342.75321042])"
      ]
     },
     "execution_count": 17,
     "metadata": {},
     "output_type": "execute_result"
    }
   ],
   "source": [
    "np.random.uniform(high=1000., size=(10))"
   ]
  },
  {
   "cell_type": "code",
   "execution_count": 13,
   "metadata": {},
   "outputs": [
    {
     "data": {
      "text/plain": [
       "<Figure size 800x400 with 0 Axes>"
      ]
     },
     "execution_count": 13,
     "metadata": {},
     "output_type": "execute_result"
    },
    {
     "data": {
      "image/png": "[encoded data removed]",
      "text/plain": [
       "<Figure size 800x400 with 2 Axes>"
      ]
     },
     "metadata": {},
     "output_type": "display_data"
    }
   ],
   "source": [
    "def powerlaw_dist(tau=2.5, x_min=1, n=1000):\n",
    "    \"\"\"sample from a tau exponent power law distribution\n",
    "    pdf: prop to x^-(a+1), i.e. tau = a+1\n",
    "    mean: ((tau-1) x_min)/(tau - 2) for tau > 2\n",
    "    x_min: support is [x_min, inf]\n",
    "    size: number of samples to draw\n",
    "    \"\"\"\n",
    "    a = tau-1\n",
    "    pareto = (np.random.pareto(a, size=n) + 1) * x_min\n",
    "    return pareto\n",
    "\n",
    "\n",
    "\n",
    "tau = (2 + 1/70)\n",
    "pareto = powerlaw_dist(tau=tau, size=10000)\n",
    "pareto_dd = np.floor(pareto).astype(np.int64)\n",
    "plt.figure(figsize=(8,4))\n",
    "plot_degree_dist(pareto_dd, vlines=8)"
   ]
  },
  {
   "cell_type": "code",
   "execution_count": null,
   "metadata": {},
   "outputs": [],
   "source": []
  }
 ],
 "metadata": {
  "kernelspec": {
   "display_name": "base",
   "language": "python",
   "name": "python3"
  },
  "language_info": {
   "codemirror_mode": {
    "name": "ipython",
    "version": 3
   },
   "file_extension": ".py",
   "mimetype": "text/x-python",
   "name": "python",
   "nbconvert_exporter": "python",
   "pygments_lexer": "ipython3",
   "version": "3.9.13"
  },
  "orig_nbformat": 4
 },
 "nbformat": 4,
 "nbformat_minor": 2
}
