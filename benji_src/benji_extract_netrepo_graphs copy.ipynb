{
 "cells": [
  {
   "cell_type": "code",
   "execution_count": 1,
   "metadata": {},
   "outputs": [
    {
     "data": {
      "text/plain": [
       "3"
      ]
     },
     "execution_count": 1,
     "metadata": {},
     "output_type": "execute_result"
    }
   ],
   "source": [
    "3"
   ]
  },
  {
   "cell_type": "code",
   "execution_count": null,
   "metadata": {},
   "outputs": [],
   "source": []
  },
  {
   "cell_type": "code",
   "execution_count": 1,
   "metadata": {},
   "outputs": [
    {
     "name": "stdout",
     "output_type": "stream",
     "text": [
      "aaaa\n"
     ]
    },
    {
     "ename": "",
     "evalue": "",
     "output_type": "error",
     "traceback": [
      "\u001b[1;31mThe Kernel crashed while executing code in the the current cell or a previous cell. Please review the code in the cell(s) to identify a possible cause of the failure. Click <a href='https://aka.ms/vscodeJupyterKernelCrash'>here</a> for more info. View Jupyter <a href='command:jupyter.viewOutput'>log</a> for further details."
     ]
    },
    {
     "ename": "",
     "evalue": "",
     "output_type": "error",
     "traceback": [
      "\u001b[1;31mCanceled future for execute_request message before replies were done"
     ]
    }
   ],
   "source": [
    "resultspath = 'data-paper/3-cleaned_features/results.csv'\n",
    "import pandas as pd\n",
    "import numpy as np\n",
    "print('aaaa')\n",
    "\n",
    "df = pd.read_csv(resultspath)\n",
    "\n",
    "foo = list(df.Graph.unique())\n",
    "\n",
    "len(foo)\n",
    "\n",
    "import re\n",
    "import os\n",
    "\n",
    "import networkit as nk\n",
    "print('hi')\n"
   ]
  },
  {
   "cell_type": "code",
   "execution_count": 1,
   "metadata": {},
   "outputs": [
    {
     "name": "stdout",
     "output_type": "stream",
     "text": [
      "hi\n"
     ]
    }
   ],
   "source": [
    "print('hi')"
   ]
  },
  {
   "cell_type": "code",
   "execution_count": 1,
   "metadata": {},
   "outputs": [
    {
     "data": {
      "text/html": [
       "\n",
       "\t\t\t<script type=\"text/javascript\">\n",
       "\t\t\t<!--\n",
       "\t\t\t\t\n",
       "\t\t\t{\n",
       "\t\t\t\tvar element = document.getElementById('NetworKit_script');\n",
       "\t\t\t\tif (element) {\n",
       "\t\t\t\t\telement.parentNode.removeChild(element);\n",
       "\t\t\t\t}\n",
       "\t\t\t\telement = document.createElement('script');\n",
       "\t\t\t\telement.type = 'text/javascript';\n",
       "\t\t\t\telement.innerHTML = 'function NetworKit_pageEmbed(id) { var i, j; var elements; elements = document.getElementById(id).getElementsByClassName(\"Plot\"); for (i=0; i<elements.length; i++) { elements[i].id = id + \"_Plot_\" + i; var data = elements[i].getAttribute(\"data-image\").split(\"|\"); elements[i].removeAttribute(\"data-image\"); var content = \"<div class=\\\\\"Image\\\\\" id=\\\\\"\" + elements[i].id + \"_Image\\\\\" />\"; elements[i].innerHTML = content; elements[i].setAttribute(\"data-image-index\", 0); elements[i].setAttribute(\"data-image-length\", data.length); for (j=0; j<data.length; j++) { elements[i].setAttribute(\"data-image-\" + j, data[j]); } NetworKit_plotUpdate(elements[i]); elements[i].onclick = function (e) { NetworKit_overlayShow((e.target) ? e.target : e.srcElement); } } elements = document.getElementById(id).getElementsByClassName(\"HeatCell\"); for (i=0; i<elements.length; i++) { var data = parseFloat(elements[i].getAttribute(\"data-heat\")); var color = \"#00FF00\"; if (data <= 1 && data > 0) { color = \"hsla(0, 100%, 75%, \" + (data) + \")\"; } else if (data <= 0 && data >= -1) { color = \"hsla(240, 100%, 75%, \" + (-data) + \")\"; } elements[i].style.backgroundColor = color; } elements = document.getElementById(id).getElementsByClassName(\"Details\"); for (i=0; i<elements.length; i++) { elements[i].setAttribute(\"data-title\", \"-\"); NetworKit_toggleDetails(elements[i]); elements[i].onclick = function (e) { NetworKit_toggleDetails((e.target) ? e.target : e.srcElement); } } elements = document.getElementById(id).getElementsByClassName(\"MathValue\"); for (i=elements.length-1; i>=0; i--) { value = elements[i].innerHTML.trim(); if (value === \"nan\") { elements[i].parentNode.innerHTML = \"\" } } elements = document.getElementById(id).getElementsByClassName(\"SubCategory\"); for (i=elements.length-1; i>=0; i--) { value = elements[i].innerHTML.trim(); if (value === \"\") { elements[i].parentNode.removeChild(elements[i]) } } elements = document.getElementById(id).getElementsByClassName(\"Category\"); for (i=elements.length-1; i>=0; i--) { value = elements[i].innerHTML.trim(); if (value === \"\") { elements[i].parentNode.removeChild(elements[i]) } } var isFirefox = false; try { isFirefox = typeof InstallTrigger !== \"undefined\"; } catch (e) {} if (!isFirefox) { alert(\"Currently the function\\'s output is only fully supported by Firefox.\"); } } function NetworKit_plotUpdate(source) { var index = source.getAttribute(\"data-image-index\"); var data = source.getAttribute(\"data-image-\" + index); var image = document.getElementById(source.id + \"_Image\"); image.style.backgroundImage = \"url(\" + data + \")\"; } function NetworKit_showElement(id, show) { var element = document.getElementById(id); element.style.display = (show) ? \"block\" : \"none\"; } function NetworKit_overlayShow(source) { NetworKit_overlayUpdate(source); NetworKit_showElement(\"NetworKit_Overlay\", true); } function NetworKit_overlayUpdate(source) { document.getElementById(\"NetworKit_Overlay_Title\").innerHTML = source.title; var index = source.getAttribute(\"data-image-index\"); var data = source.getAttribute(\"data-image-\" + index); var image = document.getElementById(\"NetworKit_Overlay_Image\"); image.setAttribute(\"data-id\", source.id); image.style.backgroundImage = \"url(\" + data + \")\"; var link = document.getElementById(\"NetworKit_Overlay_Toolbar_Bottom_Save\"); link.href = data; link.download = source.title + \".svg\"; } function NetworKit_overlayImageShift(delta) { var image = document.getElementById(\"NetworKit_Overlay_Image\"); var source = document.getElementById(image.getAttribute(\"data-id\")); var index = parseInt(source.getAttribute(\"data-image-index\")); var length = parseInt(source.getAttribute(\"data-image-length\")); var index = (index+delta) % length; if (index < 0) { index = length + index; } source.setAttribute(\"data-image-index\", index); NetworKit_overlayUpdate(source); } function NetworKit_toggleDetails(source) { var childs = source.children; var show = false; if (source.getAttribute(\"data-title\") == \"-\") { source.setAttribute(\"data-title\", \"+\"); show = false; } else { source.setAttribute(\"data-title\", \"-\"); show = true; } for (i=0; i<childs.length; i++) { if (show) { childs[i].style.display = \"block\"; } else { childs[i].style.display = \"none\"; } } }';\n",
       "\t\t\t\telement.setAttribute('id', 'NetworKit_script');\n",
       "\t\t\t\tdocument.head.appendChild(element);\n",
       "\t\t\t}\n",
       "\t\t\n",
       "\t\t\t\t\n",
       "\t\t\t{\n",
       "\t\t\t\tvar element = document.getElementById('NetworKit_style');\n",
       "\t\t\t\tif (element) {\n",
       "\t\t\t\t\telement.parentNode.removeChild(element);\n",
       "\t\t\t\t}\n",
       "\t\t\t\telement = document.createElement('style');\n",
       "\t\t\t\telement.type = 'text/css';\n",
       "\t\t\t\telement.innerHTML = '.NetworKit_Page { font-family: Arial, Helvetica, sans-serif; font-size: 14px; } .NetworKit_Page .Value:before { font-family: Arial, Helvetica, sans-serif; font-size: 1.05em; content: attr(data-title) \":\"; margin-left: -2.5em; padding-right: 0.5em; } .NetworKit_Page .Details .Value:before { display: block; } .NetworKit_Page .Value { font-family: monospace; white-space: pre; padding-left: 2.5em; white-space: -moz-pre-wrap !important; white-space: -pre-wrap; white-space: -o-pre-wrap; white-space: pre-wrap; word-wrap: break-word; tab-size: 4; -moz-tab-size: 4; } .NetworKit_Page .Category { clear: both; padding-left: 1em; margin-bottom: 1.5em; } .NetworKit_Page .Category:before { content: attr(data-title); font-size: 1.75em; display: block; margin-left: -0.8em; margin-bottom: 0.5em; } .NetworKit_Page .SubCategory { margin-bottom: 1.5em; padding-left: 1em; } .NetworKit_Page .SubCategory:before { font-size: 1.6em; display: block; margin-left: -0.8em; margin-bottom: 0.5em; } .NetworKit_Page .SubCategory[data-title]:before { content: attr(data-title); } .NetworKit_Page .Block { display: block; } .NetworKit_Page .Block:after { content: \".\"; visibility: hidden; display: block; height: 0; clear: both; } .NetworKit_Page .Block .Thumbnail_Overview, .NetworKit_Page .Block .Thumbnail_ScatterPlot { width: 260px; float: left; } .NetworKit_Page .Block .Thumbnail_Overview img, .NetworKit_Page .Block .Thumbnail_ScatterPlot img { width: 260px; } .NetworKit_Page .Block .Thumbnail_Overview:before, .NetworKit_Page .Block .Thumbnail_ScatterPlot:before { display: block; text-align: center; font-weight: bold; } .NetworKit_Page .Block .Thumbnail_Overview:before { content: attr(data-title); } .NetworKit_Page .HeatCell { font-family: \"Courier New\", Courier, monospace; cursor: pointer; } .NetworKit_Page .HeatCell, .NetworKit_Page .HeatCellName { display: inline; padding: 0.1em; margin-right: 2px; background-color: #FFFFFF } .NetworKit_Page .HeatCellName { margin-left: 0.25em; } .NetworKit_Page .HeatCell:before { content: attr(data-heat); display: inline-block; color: #000000; width: 4em; text-align: center; } .NetworKit_Page .Measure { clear: both; } .NetworKit_Page .Measure .Details { cursor: pointer; } .NetworKit_Page .Measure .Details:before { content: \"[\" attr(data-title) \"]\"; display: block; } .NetworKit_Page .Measure .Details .Value { border-left: 1px dotted black; margin-left: 0.4em; padding-left: 3.5em; pointer-events: none; } .NetworKit_Page .Measure .Details .Spacer:before { content: \".\"; opacity: 0.0; pointer-events: none; } .NetworKit_Page .Measure .Plot { width: 440px; height: 440px; cursor: pointer; float: left; margin-left: -0.9em; margin-right: 20px; } .NetworKit_Page .Measure .Plot .Image { background-repeat: no-repeat; background-position: center center; background-size: contain; height: 100%; pointer-events: none; } .NetworKit_Page .Measure .Stat { width: 500px; float: left; } .NetworKit_Page .Measure .Stat .Group { padding-left: 1.25em; margin-bottom: 0.75em; } .NetworKit_Page .Measure .Stat .Group .Title { font-size: 1.1em; display: block; margin-bottom: 0.3em; margin-left: -0.75em; border-right-style: dotted; border-right-width: 1px; border-bottom-style: dotted; border-bottom-width: 1px; background-color: #D0D0D0; padding-left: 0.2em; } .NetworKit_Page .Measure .Stat .Group .List { -webkit-column-count: 3; -moz-column-count: 3; column-count: 3; } .NetworKit_Page .Measure .Stat .Group .List .Entry { position: relative; line-height: 1.75em; } .NetworKit_Page .Measure .Stat .Group .List .Entry[data-tooltip]:before { position: absolute; left: 0; top: -40px; background-color: #808080; color: #ffffff; height: 30px; line-height: 30px; border-radius: 5px; padding: 0 15px; content: attr(data-tooltip); white-space: nowrap; display: none; } .NetworKit_Page .Measure .Stat .Group .List .Entry[data-tooltip]:after { position: absolute; left: 15px; top: -10px; border-top: 7px solid #808080; border-left: 7px solid transparent; border-right: 7px solid transparent; content: \"\"; display: none; } .NetworKit_Page .Measure .Stat .Group .List .Entry[data-tooltip]:hover:after, .NetworKit_Page .Measure .Stat .Group .List .Entry[data-tooltip]:hover:before { display: block; } .NetworKit_Page .Measure .Stat .Group .List .Entry .MathValue { font-family: \"Courier New\", Courier, monospace; } .NetworKit_Page .Measure:after { content: \".\"; visibility: hidden; display: block; height: 0; clear: both; } .NetworKit_Page .PartitionPie { clear: both; } .NetworKit_Page .PartitionPie img { width: 600px; } #NetworKit_Overlay { left: 0px; top: 0px; display: none; position: absolute; width: 100%; height: 100%; background-color: rgba(0,0,0,0.6); z-index: 1000; } #NetworKit_Overlay_Title { position: absolute; color: white; transform: rotate(-90deg); width: 32em; height: 32em; padding-right: 0.5em; padding-top: 0.5em; text-align: right; font-size: 40px; } #NetworKit_Overlay .button { background: white; cursor: pointer; } #NetworKit_Overlay .button:before { size: 13px; display: inline-block; text-align: center; margin-top: 0.5em; margin-bottom: 0.5em; width: 1.5em; height: 1.5em; } #NetworKit_Overlay .icon-close:before { content: \"X\"; } #NetworKit_Overlay .icon-previous:before { content: \"P\"; } #NetworKit_Overlay .icon-next:before { content: \"N\"; } #NetworKit_Overlay .icon-save:before { content: \"S\"; } #NetworKit_Overlay_Toolbar_Top, #NetworKit_Overlay_Toolbar_Bottom { position: absolute; width: 40px; right: 13px; text-align: right; z-index: 1100; } #NetworKit_Overlay_Toolbar_Top { top: 0.5em; } #NetworKit_Overlay_Toolbar_Bottom { Bottom: 0.5em; } #NetworKit_Overlay_ImageContainer { position: absolute; top: 5%; left: 5%; height: 90%; width: 90%; background-repeat: no-repeat; background-position: center center; background-size: contain; } #NetworKit_Overlay_Image { height: 100%; width: 100%; background-repeat: no-repeat; background-position: center center; background-size: contain; }';\n",
       "\t\t\t\telement.setAttribute('id', 'NetworKit_style');\n",
       "\t\t\t\tdocument.head.appendChild(element);\n",
       "\t\t\t}\n",
       "\t\t\n",
       "\t\t\t\t\n",
       "\t\t\t{\n",
       "\t\t\t\tvar element = document.getElementById('NetworKit_Overlay');\n",
       "\t\t\t\tif (element) {\n",
       "\t\t\t\t\telement.parentNode.removeChild(element);\n",
       "\t\t\t\t}\n",
       "\t\t\t\telement = document.createElement('div');\n",
       "\t\t\t\telement.innerHTML = '<div id=\"NetworKit_Overlay_Toolbar_Top\"><div class=\"button icon-close\" id=\"NetworKit_Overlay_Close\" /></div><div id=\"NetworKit_Overlay_Title\" /> <div id=\"NetworKit_Overlay_ImageContainer\"> <div id=\"NetworKit_Overlay_Image\" /> </div> <div id=\"NetworKit_Overlay_Toolbar_Bottom\"> <div class=\"button icon-previous\" onclick=\"NetworKit_overlayImageShift(-1)\" /> <div class=\"button icon-next\" onclick=\"NetworKit_overlayImageShift(1)\" /> <a id=\"NetworKit_Overlay_Toolbar_Bottom_Save\"><div class=\"button icon-save\" /></a> </div>';\n",
       "\t\t\t\telement.setAttribute('id', 'NetworKit_Overlay');\n",
       "\t\t\t\tdocument.body.appendChild(element);\n",
       "\t\t\t\tdocument.getElementById('NetworKit_Overlay_Close').onclick = function (e) {\n",
       "\t\t\t\t\tdocument.getElementById('NetworKit_Overlay').style.display = 'none';\n",
       "\t\t\t\t}\n",
       "\t\t\t}\n",
       "\t\t\n",
       "\t\t\t-->\n",
       "\t\t\t</script>\n",
       "\t\t"
      ]
     },
     "metadata": {},
     "output_type": "display_data"
    }
   ],
   "source": [
    "resultspath = 'data-paper/3-cleaned_features/results.csv'\n",
    "import pandas as pd\n",
    "import numpy as np\n",
    "\n",
    "df = pd.read_csv(resultspath)\n",
    "\n",
    "foo = list(df.Graph.unique())\n",
    "len(foo)\n",
    "\n",
    "import re\n",
    "import os\n",
    "\n",
    "import networkit as nk"
   ]
  },
  {
   "cell_type": "code",
   "execution_count": 2,
   "metadata": {},
   "outputs": [
    {
     "data": {
      "text/plain": [
       "184"
      ]
     },
     "execution_count": 2,
     "metadata": {},
     "output_type": "execute_result"
    }
   ],
   "source": [
    "foo.index('soc-twitter-higgs')"
   ]
  },
  {
   "cell_type": "code",
   "execution_count": 3,
   "metadata": {},
   "outputs": [
    {
     "name": "stdout",
     "output_type": "stream",
     "text": [
      "hi\n",
      "hi\n",
      "inf-openflights\n",
      "skipped: 2; output: ./temp_downloads/inf-openflights/inf-openflights.SpaceOne\n",
      "soc-hamsterster\n",
      "skipped: 2; output: ./temp_downloads/soc-hamsterster/soc-hamsterster.SpaceOne\n",
      "socfb-Baylor93\n",
      "skipped: 2; output: ./temp_downloads/socfb-Baylor93/socfb-Baylor93.SpaceOne\n",
      "ia-reality\n",
      "skipped: 2; output: ./temp_downloads/ia-reality/ia-reality.SpaceOne\n",
      "socfb-Georgetown15\n",
      "skipped: 2; output: ./temp_downloads/socfb-Georgetown15/socfb-Georgetown15.SpaceOne\n",
      "socfb-Maine59\n",
      "skipped: 2; output: ./temp_downloads/socfb-Maine59/socfb-Maine59.SpaceOne\n",
      "socfb-MIT\n",
      "skipped: 2; output: ./temp_downloads/socfb-MIT/socfb-MIT.SpaceOne\n",
      "ia-wiki-trust-dir\n",
      "skipped: 3; output: ./temp_downloads/ia-wiki-trust-dir/ia-wiki-trust-dir.SpaceOne\n",
      "socfb-Rutgers89\n",
      "skipped: 2; output: ./temp_downloads/socfb-Rutgers89/socfb-Rutgers89.SpaceOne\n",
      "socfb-Villanova62\n",
      "skipped: 2; output: ./temp_downloads/socfb-Villanova62/socfb-Villanova62.SpaceOne\n",
      "web-frwikinews-user-edits\n",
      "removed: ./temp_downloads/web-frwikinews-user-edits/web-frwikinews-user-edits.SpaceOne\n",
      "skipped: 193619; output: ./temp_downloads/web-frwikinews-user-edits/web-frwikinews-user-edits.SpaceOne\n",
      "socfb-Texas80\n",
      "skipped: 2; output: ./temp_downloads/socfb-Texas80/socfb-Texas80.SpaceOne\n",
      "socfb-Simmons81\n",
      "skipped: 2; output: ./temp_downloads/socfb-Simmons81/socfb-Simmons81.SpaceOne\n",
      "soc-twitter-follows\n",
      "skipped: 2; output: ./temp_downloads/soc-twitter-follows/soc-twitter-follows.SpaceOne\n",
      "socfb-Wellesley22\n",
      "skipped: 2; output: ./temp_downloads/socfb-Wellesley22/socfb-Wellesley22.SpaceOne\n",
      "socfb-Bucknell39\n",
      "skipped: 2; output: ./temp_downloads/socfb-Bucknell39/socfb-Bucknell39.SpaceOne\n",
      "socfb-MU78\n",
      "skipped: 2; output: ./temp_downloads/socfb-MU78/socfb-MU78.SpaceOne\n",
      "socfb-Auburn71\n",
      "skipped: 2; output: ./temp_downloads/socfb-Auburn71/socfb-Auburn71.SpaceOne\n",
      "socfb-Rice31\n",
      "skipped: 2; output: ./temp_downloads/socfb-Rice31/socfb-Rice31.SpaceOne\n",
      "soc-wiki-Vote\n",
      "skipped: 2; output: ./temp_downloads/soc-wiki-Vote/soc-wiki-Vote.SpaceOne\n",
      "socfb-Hamilton46\n",
      "skipped: 2; output: ./temp_downloads/socfb-Hamilton46/socfb-Hamilton46.SpaceOne\n",
      "socfb-UIllinois20\n",
      "skipped: 2; output: ./temp_downloads/socfb-UIllinois20/socfb-UIllinois20.SpaceOne\n",
      "web-NotreDame\n",
      "skipped: 2; output: ./temp_downloads/web-NotreDame/web-NotreDame.SpaceOne\n",
      "web-sk-2005\n",
      "skipped: 2; output: ./temp_downloads/web-sk-2005/web-sk-2005.SpaceOne\n",
      "web-baidu-baike-related\n",
      "skipped: 1; output: ./temp_downloads/web-baidu-baike-related/web-baidu-baike-related.SpaceOne\n",
      "socfb-Cal65\n",
      "skipped: 2; output: ./temp_downloads/socfb-Cal65/socfb-Cal65.SpaceOne\n",
      "socfb-Yale4\n",
      "skipped: 2; output: ./temp_downloads/socfb-Yale4/socfb-Yale4.SpaceOne\n",
      "web-polblogs\n",
      "skipped: 2; output: ./temp_downloads/web-polblogs/web-polblogs.SpaceOne\n",
      "bio-celegans-dir\n",
      "skipped: 0; output: ./temp_downloads/bio-celegans-dir/bio-celegans-dir.SpaceOne\n",
      "socfb-UCSD34\n",
      "skipped: 2; output: ./temp_downloads/socfb-UCSD34/socfb-UCSD34.SpaceOne\n",
      "socfb-Vanderbilt48\n",
      "skipped: 2; output: ./temp_downloads/socfb-Vanderbilt48/socfb-Vanderbilt48.SpaceOne\n",
      "ca-coauthors-dblp\n",
      "skipped: 2; output: ./temp_downloads/ca-coauthors-dblp/ca-coauthors-dblp.SpaceOne\n",
      "tech-as-skitter\n",
      "skipped: 2; output: ./temp_downloads/tech-as-skitter/tech-as-skitter.SpaceOne\n",
      "rt-retweet-crawl\n",
      "skipped: 2; output: ./temp_downloads/rt-retweet-crawl/rt-retweet-crawl.SpaceOne\n"
     ]
    }
   ],
   "source": [
    "print('hi')\n",
    "def path_to_nk(path, new):\n",
    "    with open(path, 'r') as reader, open(new, 'w') as writer:\n",
    "        i = 0\n",
    "        while out := reader.readline():  # read the first line and discard it\n",
    "            a = re.match('^(\\d*) (\\d*)[ \\n]$', out)\n",
    "            if a:\n",
    "                writer.write(out)\n",
    "                break\n",
    "            b = re.match('^(\\d*) (\\d*) (\\d*)[ \\n]$', out)\n",
    "            if b:\n",
    "                i += 1\n",
    "                break\n",
    "            i += 1\n",
    "        for line in reader:\n",
    "            # a = re.match('(\\d*) (\\d*)', line)\n",
    "            # if not a:\n",
    "            #     raise Exceaption('weird file')\n",
    "            writer.write(line)\n",
    "        g = nk.readGraph(new, nk.Format.EdgeListSpaceOne)\n",
    "        if not g.numberOfNodes() >= 1 or not g.numberOfEdges() >= 1:\n",
    "            os.remove(new)\n",
    "            print(f'removed: {new}')\n",
    "\n",
    "        print(f'skipped: {i}; output: {new}')\n",
    "\n",
    "# path_to_nk(in_path2)\n",
    "print('hi')\n",
    "import tqdm\n",
    "for name in foo[185:]:\n",
    "    print(name)\n",
    "    path = f'./temp_downloads/{name}/'\n",
    "    subs = os.listdir(path)\n",
    "    for sub in subs:\n",
    "        if sub.endswith('.mtx'):\n",
    "            path_to_nk(path + sub, path + sub[:-3] + 'SpaceOne')\n",
    "            break\n",
    "        if sub.endswith('.edges'):\n",
    "            path_to_nk(path + sub, path + sub[:-5] + 'SpaceOne')\n",
    "\n",
    "# nk.readGraph(in_path2, nk.Format.EdgeListSpaceOne)"
   ]
  },
  {
   "cell_type": "code",
   "execution_count": 2,
   "metadata": {},
   "outputs": [
    {
     "data": {
      "text/plain": [
       "['socfb-UPenn7',\n",
       " 'bn-fly-drosophila_medulla_1',\n",
       " 'soc-flickr',\n",
       " 'inf-euroroad',\n",
       " 'ca-CondMat',\n",
       " 'rt-twitter-copen',\n",
       " 'soc-sign-Slashdot081106',\n",
       " 'socfb-UC64',\n",
       " 'socfb-Middlebury45',\n",
       " 'tech-p2p-gnutella',\n",
       " 'ca-citeseer',\n",
       " 'soc-loc-brightkite',\n",
       " 'web-Stanford',\n",
       " 'ca-Erdos992',\n",
       " 'socfb-Emory27',\n",
       " 'tech-as-caida2007',\n",
       " 'socfb-Haverford76',\n",
       " 'socfb-nips-ego',\n",
       " 'socfb-Mich67',\n",
       " 'soc-gowalla',\n",
       " 'socfb-Brown11',\n",
       " 'socfb-Indiana',\n",
       " 'socfb-Northeastern19',\n",
       " 'soc-dogster',\n",
       " 'socfb-UConn',\n",
       " 'socfb-NotreDame57',\n",
       " 'socfb-UF',\n",
       " 'bn-human-BNU_1_0025873_session_1-bg',\n",
       " 'inf-power',\n",
       " 'rec-movielens',\n",
       " 'rec-movielens-tag-movies-10m',\n",
       " 'soc-advogato',\n",
       " 'soc-twitter-higgs',\n",
       " 'inf-openflights',\n",
       " 'soc-hamsterster',\n",
       " 'socfb-Baylor93',\n",
       " 'ia-reality',\n",
       " 'socfb-Georgetown15',\n",
       " 'socfb-Maine59',\n",
       " 'socfb-MIT',\n",
       " 'ia-wiki-trust-dir',\n",
       " 'socfb-Rutgers89',\n",
       " 'socfb-Villanova62',\n",
       " 'web-frwikinews-user-edits',\n",
       " 'socfb-Texas80',\n",
       " 'socfb-Simmons81',\n",
       " 'soc-twitter-follows',\n",
       " 'socfb-Wellesley22',\n",
       " 'socfb-Bucknell39',\n",
       " 'socfb-MU78',\n",
       " 'socfb-Auburn71',\n",
       " 'socfb-Rice31',\n",
       " 'soc-wiki-Vote',\n",
       " 'socfb-Hamilton46',\n",
       " 'socfb-UIllinois20',\n",
       " 'web-NotreDame',\n",
       " 'web-sk-2005',\n",
       " 'web-baidu-baike-related',\n",
       " 'socfb-Cal65',\n",
       " 'socfb-Yale4',\n",
       " 'web-polblogs',\n",
       " 'bio-celegans-dir',\n",
       " 'socfb-UCSD34',\n",
       " 'socfb-Vanderbilt48',\n",
       " 'ca-coauthors-dblp',\n",
       " 'tech-as-skitter',\n",
       " 'rt-retweet-crawl']"
      ]
     },
     "execution_count": 2,
     "metadata": {},
     "output_type": "execute_result"
    }
   ],
   "source": [
    "foo[152:]"
   ]
  },
  {
   "cell_type": "code",
   "execution_count": 4,
   "metadata": {},
   "outputs": [],
   "source": [
    "name = foo[137]\n",
    "path = f'./temp_downloads/{name}/'\n",
    "subs = os.listdir(path)"
   ]
  },
  {
   "cell_type": "code",
   "execution_count": 7,
   "metadata": {},
   "outputs": [
    {
     "data": {
      "text/plain": [
       "'bn-macaque-rhesus_brain_1.edges'"
      ]
     },
     "execution_count": 7,
     "metadata": {},
     "output_type": "execute_result"
    }
   ],
   "source": [
    "subs[2]"
   ]
  },
  {
   "cell_type": "code",
   "execution_count": null,
   "metadata": {},
   "outputs": [],
   "source": []
  }
 ],
 "metadata": {
  "kernelspec": {
   "display_name": "base",
   "language": "python",
   "name": "python3"
  },
  "language_info": {
   "codemirror_mode": {
    "name": "ipython",
    "version": 3
   },
   "file_extension": ".py",
   "mimetype": "text/x-python",
   "name": "python",
   "nbconvert_exporter": "python",
   "pygments_lexer": "ipython3",
   "version": "3.9.13"
  },
  "orig_nbformat": 4,
  "vscode": {
   "interpreter": {
    "hash": "38cca0c38332a56087b24af0bc80247f4fced29cb4f7f437d91dc159adec9c4e"
   }
  }
 },
 "nbformat": 4,
 "nbformat_minor": 2
}
