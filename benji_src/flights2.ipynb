{
 "cells": [
  {
   "cell_type": "code",
   "execution_count": 1,
   "metadata": {},
   "outputs": [],
   "source": [
    "import sys\n",
    "sys.path.append('../')"
   ]
  },
  {
   "cell_type": "code",
   "execution_count": 2,
   "metadata": {},
   "outputs": [
    {
     "data": {
      "text/html": [
       "\n",
       "\t\t\t<script type=\"text/javascript\">\n",
       "\t\t\t<!--\n",
       "\t\t\t\t\n",
       "\t\t\t{\n",
       "\t\t\t\tvar element = document.getElementById('NetworKit_script');\n",
       "\t\t\t\tif (element) {\n",
       "\t\t\t\t\telement.parentNode.removeChild(element);\n",
       "\t\t\t\t}\n",
       "\t\t\t\telement = document.createElement('script');\n",
       "\t\t\t\telement.type = 'text/javascript';\n",
       "\t\t\t\telement.innerHTML = 'function NetworKit_pageEmbed(id) { var i, j; var elements; elements = document.getElementById(id).getElementsByClassName(\"Plot\"); for (i=0; i<elements.length; i++) { elements[i].id = id + \"_Plot_\" + i; var data = elements[i].getAttribute(\"data-image\").split(\"|\"); elements[i].removeAttribute(\"data-image\"); var content = \"<div class=\\\\\"Image\\\\\" id=\\\\\"\" + elements[i].id + \"_Image\\\\\" />\"; elements[i].innerHTML = content; elements[i].setAttribute(\"data-image-index\", 0); elements[i].setAttribute(\"data-image-length\", data.length); for (j=0; j<data.length; j++) { elements[i].setAttribute(\"data-image-\" + j, data[j]); } NetworKit_plotUpdate(elements[i]); elements[i].onclick = function (e) { NetworKit_overlayShow((e.target) ? e.target : e.srcElement); } } elements = document.getElementById(id).getElementsByClassName(\"HeatCell\"); for (i=0; i<elements.length; i++) { var data = parseFloat(elements[i].getAttribute(\"data-heat\")); var color = \"#00FF00\"; if (data <= 1 && data > 0) { color = \"hsla(0, 100%, 75%, \" + (data) + \")\"; } else if (data <= 0 && data >= -1) { color = \"hsla(240, 100%, 75%, \" + (-data) + \")\"; } elements[i].style.backgroundColor = color; } elements = document.getElementById(id).getElementsByClassName(\"Details\"); for (i=0; i<elements.length; i++) { elements[i].setAttribute(\"data-title\", \"-\"); NetworKit_toggleDetails(elements[i]); elements[i].onclick = function (e) { NetworKit_toggleDetails((e.target) ? e.target : e.srcElement); } } elements = document.getElementById(id).getElementsByClassName(\"MathValue\"); for (i=elements.length-1; i>=0; i--) { value = elements[i].innerHTML.trim(); if (value === \"nan\") { elements[i].parentNode.innerHTML = \"\" } } elements = document.getElementById(id).getElementsByClassName(\"SubCategory\"); for (i=elements.length-1; i>=0; i--) { value = elements[i].innerHTML.trim(); if (value === \"\") { elements[i].parentNode.removeChild(elements[i]) } } elements = document.getElementById(id).getElementsByClassName(\"Category\"); for (i=elements.length-1; i>=0; i--) { value = elements[i].innerHTML.trim(); if (value === \"\") { elements[i].parentNode.removeChild(elements[i]) } } var isFirefox = false; try { isFirefox = typeof InstallTrigger !== \"undefined\"; } catch (e) {} if (!isFirefox) { alert(\"Currently the function\\'s output is only fully supported by Firefox.\"); } } function NetworKit_plotUpdate(source) { var index = source.getAttribute(\"data-image-index\"); var data = source.getAttribute(\"data-image-\" + index); var image = document.getElementById(source.id + \"_Image\"); image.style.backgroundImage = \"url(\" + data + \")\"; } function NetworKit_showElement(id, show) { var element = document.getElementById(id); element.style.display = (show) ? \"block\" : \"none\"; } function NetworKit_overlayShow(source) { NetworKit_overlayUpdate(source); NetworKit_showElement(\"NetworKit_Overlay\", true); } function NetworKit_overlayUpdate(source) { document.getElementById(\"NetworKit_Overlay_Title\").innerHTML = source.title; var index = source.getAttribute(\"data-image-index\"); var data = source.getAttribute(\"data-image-\" + index); var image = document.getElementById(\"NetworKit_Overlay_Image\"); image.setAttribute(\"data-id\", source.id); image.style.backgroundImage = \"url(\" + data + \")\"; var link = document.getElementById(\"NetworKit_Overlay_Toolbar_Bottom_Save\"); link.href = data; link.download = source.title + \".svg\"; } function NetworKit_overlayImageShift(delta) { var image = document.getElementById(\"NetworKit_Overlay_Image\"); var source = document.getElementById(image.getAttribute(\"data-id\")); var index = parseInt(source.getAttribute(\"data-image-index\")); var length = parseInt(source.getAttribute(\"data-image-length\")); var index = (index+delta) % length; if (index < 0) { index = length + index; } source.setAttribute(\"data-image-index\", index); NetworKit_overlayUpdate(source); } function NetworKit_toggleDetails(source) { var childs = source.children; var show = false; if (source.getAttribute(\"data-title\") == \"-\") { source.setAttribute(\"data-title\", \"+\"); show = false; } else { source.setAttribute(\"data-title\", \"-\"); show = true; } for (i=0; i<childs.length; i++) { if (show) { childs[i].style.display = \"block\"; } else { childs[i].style.display = \"none\"; } } }';\n",
       "\t\t\t\telement.setAttribute('id', 'NetworKit_script');\n",
       "\t\t\t\tdocument.head.appendChild(element);\n",
       "\t\t\t}\n",
       "\t\t\n",
       "\t\t\t\t\n",
       "\t\t\t{\n",
       "\t\t\t\tvar element = document.getElementById('NetworKit_style');\n",
       "\t\t\t\tif (element) {\n",
       "\t\t\t\t\telement.parentNode.removeChild(element);\n",
       "\t\t\t\t}\n",
       "\t\t\t\telement = document.createElement('style');\n",
       "\t\t\t\telement.type = 'text/css';\n",
       "\t\t\t\telement.innerHTML = '.NetworKit_Page { font-family: Arial, Helvetica, sans-serif; font-size: 14px; } .NetworKit_Page .Value:before { font-family: Arial, Helvetica, sans-serif; font-size: 1.05em; content: attr(data-title) \":\"; margin-left: -2.5em; padding-right: 0.5em; } .NetworKit_Page .Details .Value:before { display: block; } .NetworKit_Page .Value { font-family: monospace; white-space: pre; padding-left: 2.5em; white-space: -moz-pre-wrap !important; white-space: -pre-wrap; white-space: -o-pre-wrap; white-space: pre-wrap; word-wrap: break-word; tab-size: 4; -moz-tab-size: 4; } .NetworKit_Page .Category { clear: both; padding-left: 1em; margin-bottom: 1.5em; } .NetworKit_Page .Category:before { content: attr(data-title); font-size: 1.75em; display: block; margin-left: -0.8em; margin-bottom: 0.5em; } .NetworKit_Page .SubCategory { margin-bottom: 1.5em; padding-left: 1em; } .NetworKit_Page .SubCategory:before { font-size: 1.6em; display: block; margin-left: -0.8em; margin-bottom: 0.5em; } .NetworKit_Page .SubCategory[data-title]:before { content: attr(data-title); } .NetworKit_Page .Block { display: block; } .NetworKit_Page .Block:after { content: \".\"; visibility: hidden; display: block; height: 0; clear: both; } .NetworKit_Page .Block .Thumbnail_Overview, .NetworKit_Page .Block .Thumbnail_ScatterPlot { width: 260px; float: left; } .NetworKit_Page .Block .Thumbnail_Overview img, .NetworKit_Page .Block .Thumbnail_ScatterPlot img { width: 260px; } .NetworKit_Page .Block .Thumbnail_Overview:before, .NetworKit_Page .Block .Thumbnail_ScatterPlot:before { display: block; text-align: center; font-weight: bold; } .NetworKit_Page .Block .Thumbnail_Overview:before { content: attr(data-title); } .NetworKit_Page .HeatCell { font-family: \"Courier New\", Courier, monospace; cursor: pointer; } .NetworKit_Page .HeatCell, .NetworKit_Page .HeatCellName { display: inline; padding: 0.1em; margin-right: 2px; background-color: #FFFFFF } .NetworKit_Page .HeatCellName { margin-left: 0.25em; } .NetworKit_Page .HeatCell:before { content: attr(data-heat); display: inline-block; color: #000000; width: 4em; text-align: center; } .NetworKit_Page .Measure { clear: both; } .NetworKit_Page .Measure .Details { cursor: pointer; } .NetworKit_Page .Measure .Details:before { content: \"[\" attr(data-title) \"]\"; display: block; } .NetworKit_Page .Measure .Details .Value { border-left: 1px dotted black; margin-left: 0.4em; padding-left: 3.5em; pointer-events: none; } .NetworKit_Page .Measure .Details .Spacer:before { content: \".\"; opacity: 0.0; pointer-events: none; } .NetworKit_Page .Measure .Plot { width: 440px; height: 440px; cursor: pointer; float: left; margin-left: -0.9em; margin-right: 20px; } .NetworKit_Page .Measure .Plot .Image { background-repeat: no-repeat; background-position: center center; background-size: contain; height: 100%; pointer-events: none; } .NetworKit_Page .Measure .Stat { width: 500px; float: left; } .NetworKit_Page .Measure .Stat .Group { padding-left: 1.25em; margin-bottom: 0.75em; } .NetworKit_Page .Measure .Stat .Group .Title { font-size: 1.1em; display: block; margin-bottom: 0.3em; margin-left: -0.75em; border-right-style: dotted; border-right-width: 1px; border-bottom-style: dotted; border-bottom-width: 1px; background-color: #D0D0D0; padding-left: 0.2em; } .NetworKit_Page .Measure .Stat .Group .List { -webkit-column-count: 3; -moz-column-count: 3; column-count: 3; } .NetworKit_Page .Measure .Stat .Group .List .Entry { position: relative; line-height: 1.75em; } .NetworKit_Page .Measure .Stat .Group .List .Entry[data-tooltip]:before { position: absolute; left: 0; top: -40px; background-color: #808080; color: #ffffff; height: 30px; line-height: 30px; border-radius: 5px; padding: 0 15px; content: attr(data-tooltip); white-space: nowrap; display: none; } .NetworKit_Page .Measure .Stat .Group .List .Entry[data-tooltip]:after { position: absolute; left: 15px; top: -10px; border-top: 7px solid #808080; border-left: 7px solid transparent; border-right: 7px solid transparent; content: \"\"; display: none; } .NetworKit_Page .Measure .Stat .Group .List .Entry[data-tooltip]:hover:after, .NetworKit_Page .Measure .Stat .Group .List .Entry[data-tooltip]:hover:before { display: block; } .NetworKit_Page .Measure .Stat .Group .List .Entry .MathValue { font-family: \"Courier New\", Courier, monospace; } .NetworKit_Page .Measure:after { content: \".\"; visibility: hidden; display: block; height: 0; clear: both; } .NetworKit_Page .PartitionPie { clear: both; } .NetworKit_Page .PartitionPie img { width: 600px; } #NetworKit_Overlay { left: 0px; top: 0px; display: none; position: absolute; width: 100%; height: 100%; background-color: rgba(0,0,0,0.6); z-index: 1000; } #NetworKit_Overlay_Title { position: absolute; color: white; transform: rotate(-90deg); width: 32em; height: 32em; padding-right: 0.5em; padding-top: 0.5em; text-align: right; font-size: 40px; } #NetworKit_Overlay .button { background: white; cursor: pointer; } #NetworKit_Overlay .button:before { size: 13px; display: inline-block; text-align: center; margin-top: 0.5em; margin-bottom: 0.5em; width: 1.5em; height: 1.5em; } #NetworKit_Overlay .icon-close:before { content: \"X\"; } #NetworKit_Overlay .icon-previous:before { content: \"P\"; } #NetworKit_Overlay .icon-next:before { content: \"N\"; } #NetworKit_Overlay .icon-save:before { content: \"S\"; } #NetworKit_Overlay_Toolbar_Top, #NetworKit_Overlay_Toolbar_Bottom { position: absolute; width: 40px; right: 13px; text-align: right; z-index: 1100; } #NetworKit_Overlay_Toolbar_Top { top: 0.5em; } #NetworKit_Overlay_Toolbar_Bottom { Bottom: 0.5em; } #NetworKit_Overlay_ImageContainer { position: absolute; top: 5%; left: 5%; height: 90%; width: 90%; background-repeat: no-repeat; background-position: center center; background-size: contain; } #NetworKit_Overlay_Image { height: 100%; width: 100%; background-repeat: no-repeat; background-position: center center; background-size: contain; }';\n",
       "\t\t\t\telement.setAttribute('id', 'NetworKit_style');\n",
       "\t\t\t\tdocument.head.appendChild(element);\n",
       "\t\t\t}\n",
       "\t\t\n",
       "\t\t\t\t\n",
       "\t\t\t{\n",
       "\t\t\t\tvar element = document.getElementById('NetworKit_Overlay');\n",
       "\t\t\t\tif (element) {\n",
       "\t\t\t\t\telement.parentNode.removeChild(element);\n",
       "\t\t\t\t}\n",
       "\t\t\t\telement = document.createElement('div');\n",
       "\t\t\t\telement.innerHTML = '<div id=\"NetworKit_Overlay_Toolbar_Top\"><div class=\"button icon-close\" id=\"NetworKit_Overlay_Close\" /></div><div id=\"NetworKit_Overlay_Title\" /> <div id=\"NetworKit_Overlay_ImageContainer\"> <div id=\"NetworKit_Overlay_Image\" /> </div> <div id=\"NetworKit_Overlay_Toolbar_Bottom\"> <div class=\"button icon-previous\" onclick=\"NetworKit_overlayImageShift(-1)\" /> <div class=\"button icon-next\" onclick=\"NetworKit_overlayImageShift(1)\" /> <a id=\"NetworKit_Overlay_Toolbar_Bottom_Save\"><div class=\"button icon-save\" /></a> </div>';\n",
       "\t\t\t\telement.setAttribute('id', 'NetworKit_Overlay');\n",
       "\t\t\t\tdocument.body.appendChild(element);\n",
       "\t\t\t\tdocument.getElementById('NetworKit_Overlay_Close').onclick = function (e) {\n",
       "\t\t\t\t\tdocument.getElementById('NetworKit_Overlay').style.display = 'none';\n",
       "\t\t\t\t}\n",
       "\t\t\t}\n",
       "\t\t\n",
       "\t\t\t-->\n",
       "\t\t\t</script>\n",
       "\t\t"
      ]
     },
     "metadata": {},
     "output_type": "display_data"
    }
   ],
   "source": [
    "import pandas as pd\n",
    "import matplotlib.pyplot as plt\n",
    "import os\n",
    "import numpy as np\n",
    "import networkit as nk\n",
    "from tqdm import tqdm\n",
    "import networkx as nx\n",
    "\n",
    "from benji_girgs import generation, utils, plotting\n",
    "import geopandas as gpd\n",
    "\n",
    "\n",
    "from IPython.core.interactiveshell import InteractiveShell\n",
    "InteractiveShell.ast_node_interactivity = \"all\""
   ]
  },
  {
   "cell_type": "code",
   "execution_count": 3,
   "metadata": {},
   "outputs": [
    {
     "data": {
      "text/plain": [
       "['./flights.ipynb', './flights2.ipynb', './flightlist_20190601_20190630.csv']"
      ]
     },
     "execution_count": 3,
     "metadata": {},
     "output_type": "execute_result"
    }
   ],
   "source": [
    "import glob\n",
    "glob.glob('./flight*')"
   ]
  },
  {
   "cell_type": "code",
   "execution_count": 4,
   "metadata": {},
   "outputs": [],
   "source": [
    "fn = './flightlist_20190601_20190630.csv'\n",
    "df = pd.read_csv(fn)"
   ]
  },
  {
   "cell_type": "code",
   "execution_count": 5,
   "metadata": {},
   "outputs": [
    {
     "data": {
      "text/plain": [
       "(2660901, 4)"
      ]
     },
     "execution_count": 5,
     "metadata": {},
     "output_type": "execute_result"
    }
   ],
   "source": [
    "df = df.loc[:, ['aircraft_uid', 'origin', 'destination', 'day']]\n",
    "df.shape\n",
    "df = df.dropna()"
   ]
  },
  {
   "cell_type": "code",
   "execution_count": 6,
   "metadata": {},
   "outputs": [],
   "source": [
    "airports = list(np.union1d(df.origin.unique(), df.destination.unique()))"
   ]
  },
  {
   "cell_type": "code",
   "execution_count": 7,
   "metadata": {},
   "outputs": [],
   "source": [
    "adf = pd.read_csv('./airport-codes_csv.csv')"
   ]
  },
  {
   "cell_type": "code",
   "execution_count": 8,
   "metadata": {},
   "outputs": [],
   "source": [
    "missing_airports = set([a for a in airports if not a in adf.ident.values])\n",
    "present_airports = [a for a in airports if a in adf.ident.values]\n",
    "airports = present_airports\n",
    "a, b = df.origin.apply(lambda x: x in missing_airports), df.destination.apply(lambda x: x in missing_airports)\n",
    "\n",
    "df = df[~(a|b)]\n",
    "df['airport_pair'] = df.apply(lambda x: set([x.origin, x.destination]), axis=1)\n",
    "df = df[df['airport_pair'].apply(len) == 2]\n",
    "df['airport_pair'] = df.airport_pair.apply(frozenset)"
   ]
  },
  {
   "cell_type": "code",
   "execution_count": 9,
   "metadata": {},
   "outputs": [
    {
     "name": "stdout",
     "output_type": "stream",
     "text": [
      "True\n"
     ]
    },
    {
     "name": "stderr",
     "output_type": "stream",
     "text": [
      "130704it [00:10, 12335.51it/s]\n",
      "130704it [00:00, 3256674.55it/s]\n"
     ]
    }
   ],
   "source": [
    "\n",
    "g = nk.Graph(len(airports), weighted=True)\n",
    "print(g.isWeighted())\n",
    "pair_counts = df.groupby(['airport_pair']).aircraft_uid.count()\n",
    "thresh = 1\n",
    "for pair, count in tqdm(pair_counts.items()):\n",
    "    u, v = tuple(pair)\n",
    "    u_id, v_id = airports.index(u), airports.index(v)\n",
    "    _ = g.addEdge(u_id, v_id, w=count)\n",
    "    \n",
    "\n",
    "    \n",
    "weight_thresh = 1\n",
    "gthresh = nk.Graph(len(airports))\n",
    "for u, v, weight in tqdm(g.iterEdgesWeights()):\n",
    "    if weight >= weight_thresh:\n",
    "        _ = gthresh.addEdge(u, v)"
   ]
  },
  {
   "cell_type": "code",
   "execution_count": 10,
   "metadata": {},
   "outputs": [
    {
     "name": "stderr",
     "output_type": "stream",
     "text": [
      "Values less than or equal to 0 in data. Throwing out 0 or negative values\n"
     ]
    },
    {
     "name": "stdout",
     "output_type": "stream",
     "text": [
      "Calculating best minimal value for power law fit\n",
      "powerlaw alpha: 2.103\n"
     ]
    },
    {
     "data": {
      "image/png": "[encoded data removed]",
      "text/plain": [
       "<Figure size 640x480 with 2 Axes>"
      ]
     },
     "metadata": {},
     "output_type": "display_data"
    }
   ],
   "source": [
    "plotting.plot_degree_dist(gthresh, vlines=6, pl_fit=True)"
   ]
  },
  {
   "cell_type": "code",
   "execution_count": 11,
   "metadata": {},
   "outputs": [],
   "source": [
    "adf_mini = adf.set_index('ident')\n",
    "adf_mini = adf_mini.loc[airports]\n",
    "\n",
    "# reversed s.t. latitude then longitude\n",
    "adf_mini['coordinates'] = adf_mini.coordinates.apply(lambda x: tuple(reversed([float(y) for y in x.split(', ')])))\n",
    "\n",
    "adf_mini['lat'] = adf_mini['coordinates'].apply(lambda x: x[0])\n",
    "adf_mini['long'] = adf_mini['coordinates'].apply(lambda x: x[1])\n"
   ]
  },
  {
   "cell_type": "code",
   "execution_count": 12,
   "metadata": {},
   "outputs": [],
   "source": [
    "from geopy import distance"
   ]
  },
  {
   "cell_type": "code",
   "execution_count": 13,
   "metadata": {},
   "outputs": [],
   "source": [
    "dists = pd.read_csv('airport_distances3.csv.gz')"
   ]
  },
  {
   "cell_type": "code",
   "execution_count": 14,
   "metadata": {},
   "outputs": [
    {
     "data": {
      "text/html": [
       "<div>\n",
       "<style scoped>\n",
       "    .dataframe tbody tr th:only-of-type {\n",
       "        vertical-align: middle;\n",
       "    }\n",
       "\n",
       "    .dataframe tbody tr th {\n",
       "        vertical-align: top;\n",
       "    }\n",
       "\n",
       "    .dataframe thead th {\n",
       "        text-align: right;\n",
       "    }\n",
       "</style>\n",
       "<table border=\"1\" class=\"dataframe\">\n",
       "  <thead>\n",
       "    <tr style=\"text-align: right;\">\n",
       "      <th></th>\n",
       "      <th>Unnamed: 0</th>\n",
       "      <th>ident</th>\n",
       "      <th>00AK</th>\n",
       "      <th>00AL</th>\n",
       "      <th>00AZ</th>\n",
       "      <th>00CL</th>\n",
       "      <th>00FA</th>\n",
       "      <th>00GA</th>\n",
       "      <th>00ID</th>\n",
       "      <th>00IL</th>\n",
       "      <th>...</th>\n",
       "      <th>YYNG</th>\n",
       "      <th>YYOR</th>\n",
       "      <th>YYRK</th>\n",
       "      <th>YYRM</th>\n",
       "      <th>YZCE</th>\n",
       "      <th>Z19O</th>\n",
       "      <th>ZGGG</th>\n",
       "      <th>ZGSD</th>\n",
       "      <th>ZGSZ</th>\n",
       "      <th>ZUCK</th>\n",
       "    </tr>\n",
       "  </thead>\n",
       "  <tbody>\n",
       "    <tr>\n",
       "      <th>0</th>\n",
       "      <td>0</td>\n",
       "      <td>00AK</td>\n",
       "      <td>0.000000</td>\n",
       "      <td>5349.974219</td>\n",
       "      <td>4031.313953</td>\n",
       "      <td>3090.913579</td>\n",
       "      <td>6160.861618</td>\n",
       "      <td>5597.685971</td>\n",
       "      <td>2624.290470</td>\n",
       "      <td>4588.083436</td>\n",
       "      <td>...</td>\n",
       "      <td>11793.368335</td>\n",
       "      <td>12335.258127</td>\n",
       "      <td>13092.521568</td>\n",
       "      <td>12279.402422</td>\n",
       "      <td>10940.267793</td>\n",
       "      <td>9538.732344</td>\n",
       "      <td>8055.052259</td>\n",
       "      <td>8181.755727</td>\n",
       "      <td>8098.583026</td>\n",
       "      <td>7805.232639</td>\n",
       "    </tr>\n",
       "    <tr>\n",
       "      <th>1</th>\n",
       "      <td>1</td>\n",
       "      <td>00AL</td>\n",
       "      <td>5349.974219</td>\n",
       "      <td>0.000000</td>\n",
       "      <td>2324.456065</td>\n",
       "      <td>3129.788327</td>\n",
       "      <td>813.072495</td>\n",
       "      <td>276.870514</td>\n",
       "      <td>2840.512023</td>\n",
       "      <td>826.243658</td>\n",
       "      <td>...</td>\n",
       "      <td>15041.578634</td>\n",
       "      <td>16004.551823</td>\n",
       "      <td>17812.910704</td>\n",
       "      <td>15291.485510</td>\n",
       "      <td>14405.932770</td>\n",
       "      <td>10295.357189</td>\n",
       "      <td>13219.621421</td>\n",
       "      <td>13362.340135</td>\n",
       "      <td>13281.442748</td>\n",
       "      <td>12719.047508</td>\n",
       "    </tr>\n",
       "    <tr>\n",
       "      <th>2</th>\n",
       "      <td>2</td>\n",
       "      <td>00AZ</td>\n",
       "      <td>4031.313953</td>\n",
       "      <td>2324.456065</td>\n",
       "      <td>0.000000</td>\n",
       "      <td>1026.459060</td>\n",
       "      <td>2902.851009</td>\n",
       "      <td>2586.987864</td>\n",
       "      <td>1573.474113</td>\n",
       "      <td>2148.411670</td>\n",
       "      <td>...</td>\n",
       "      <td>12838.214527</td>\n",
       "      <td>13767.080535</td>\n",
       "      <td>15490.615548</td>\n",
       "      <td>13155.315096</td>\n",
       "      <td>12139.509525</td>\n",
       "      <td>11708.704794</td>\n",
       "      <td>12021.825087</td>\n",
       "      <td>12137.284974</td>\n",
       "      <td>12054.551262</td>\n",
       "      <td>11834.790477</td>\n",
       "    </tr>\n",
       "    <tr>\n",
       "      <th>3</th>\n",
       "      <td>3</td>\n",
       "      <td>00CL</td>\n",
       "      <td>3090.913579</td>\n",
       "      <td>3129.788327</td>\n",
       "      <td>1026.459060</td>\n",
       "      <td>0.000000</td>\n",
       "      <td>3808.023298</td>\n",
       "      <td>3405.451955</td>\n",
       "      <td>1065.973722</td>\n",
       "      <td>2720.116619</td>\n",
       "      <td>...</td>\n",
       "      <td>12322.898713</td>\n",
       "      <td>13193.702330</td>\n",
       "      <td>14745.928966</td>\n",
       "      <td>12695.771474</td>\n",
       "      <td>11560.525005</td>\n",
       "      <td>11521.142414</td>\n",
       "      <td>11011.046593</td>\n",
       "      <td>11123.670073</td>\n",
       "      <td>11041.193486</td>\n",
       "      <td>10862.957523</td>\n",
       "    </tr>\n",
       "    <tr>\n",
       "      <th>4</th>\n",
       "      <td>4</td>\n",
       "      <td>00FA</td>\n",
       "      <td>6160.861618</td>\n",
       "      <td>813.072495</td>\n",
       "      <td>2902.851009</td>\n",
       "      <td>3808.023298</td>\n",
       "      <td>0.000000</td>\n",
       "      <td>594.573226</td>\n",
       "      <td>3627.065931</td>\n",
       "      <td>1621.317935</td>\n",
       "      <td>...</td>\n",
       "      <td>15237.780207</td>\n",
       "      <td>16215.422832</td>\n",
       "      <td>18165.876494</td>\n",
       "      <td>15404.310732</td>\n",
       "      <td>14706.867858</td>\n",
       "      <td>10469.324110</td>\n",
       "      <td>14012.640431</td>\n",
       "      <td>14157.147004</td>\n",
       "      <td>14076.906000</td>\n",
       "      <td>13477.241248</td>\n",
       "    </tr>\n",
       "  </tbody>\n",
       "</table>\n",
       "<p>5 rows × 10319 columns</p>\n",
       "</div>"
      ],
      "text/plain": [
       "   Unnamed: 0 ident         00AK         00AL         00AZ         00CL  \\\n",
       "0           0  00AK     0.000000  5349.974219  4031.313953  3090.913579   \n",
       "1           1  00AL  5349.974219     0.000000  2324.456065  3129.788327   \n",
       "2           2  00AZ  4031.313953  2324.456065     0.000000  1026.459060   \n",
       "3           3  00CL  3090.913579  3129.788327  1026.459060     0.000000   \n",
       "4           4  00FA  6160.861618   813.072495  2902.851009  3808.023298   \n",
       "\n",
       "          00FA         00GA         00ID         00IL  ...          YYNG  \\\n",
       "0  6160.861618  5597.685971  2624.290470  4588.083436  ...  11793.368335   \n",
       "1   813.072495   276.870514  2840.512023   826.243658  ...  15041.578634   \n",
       "2  2902.851009  2586.987864  1573.474113  2148.411670  ...  12838.214527   \n",
       "3  3808.023298  3405.451955  1065.973722  2720.116619  ...  12322.898713   \n",
       "4     0.000000   594.573226  3627.065931  1621.317935  ...  15237.780207   \n",
       "\n",
       "           YYOR          YYRK          YYRM          YZCE          Z19O  \\\n",
       "0  12335.258127  13092.521568  12279.402422  10940.267793   9538.732344   \n",
       "1  16004.551823  17812.910704  15291.485510  14405.932770  10295.357189   \n",
       "2  13767.080535  15490.615548  13155.315096  12139.509525  11708.704794   \n",
       "3  13193.702330  14745.928966  12695.771474  11560.525005  11521.142414   \n",
       "4  16215.422832  18165.876494  15404.310732  14706.867858  10469.324110   \n",
       "\n",
       "           ZGGG          ZGSD          ZGSZ          ZUCK  \n",
       "0   8055.052259   8181.755727   8098.583026   7805.232639  \n",
       "1  13219.621421  13362.340135  13281.442748  12719.047508  \n",
       "2  12021.825087  12137.284974  12054.551262  11834.790477  \n",
       "3  11011.046593  11123.670073  11041.193486  10862.957523  \n",
       "4  14012.640431  14157.147004  14076.906000  13477.241248  \n",
       "\n",
       "[5 rows x 10319 columns]"
      ]
     },
     "execution_count": 14,
     "metadata": {},
     "output_type": "execute_result"
    }
   ],
   "source": [
    "dists.head()"
   ]
  },
  {
   "cell_type": "code",
   "execution_count": null,
   "metadata": {},
   "outputs": [],
   "source": []
  },
  {
   "cell_type": "code",
   "execution_count": 15,
   "metadata": {},
   "outputs": [],
   "source": [
    "dists = dists.iloc[:, 1:]\n",
    "dists = dists.set_index('ident')"
   ]
  },
  {
   "cell_type": "code",
   "execution_count": 16,
   "metadata": {},
   "outputs": [],
   "source": [
    "dists_np = dists.to_numpy()"
   ]
  },
  {
   "cell_type": "code",
   "execution_count": 17,
   "metadata": {},
   "outputs": [
    {
     "data": {
      "text/plain": [
       "(10317, 10317)"
      ]
     },
     "execution_count": 17,
     "metadata": {},
     "output_type": "execute_result"
    }
   ],
   "source": [
    "dists_np.shape"
   ]
  },
  {
   "cell_type": "code",
   "execution_count": 18,
   "metadata": {},
   "outputs": [
    {
     "data": {
      "text/plain": [
       "((59.94919968, -151.695999146), (34.305599212646484, -112.16500091552734))"
      ]
     },
     "execution_count": 18,
     "metadata": {},
     "output_type": "execute_result"
    },
    {
     "data": {
      "text/plain": [
       "Distance(4031.3139530844023)"
      ]
     },
     "execution_count": 18,
     "metadata": {},
     "output_type": "execute_result"
    }
   ],
   "source": [
    "a, b = adf_mini.loc['00AK'].coordinates, adf_mini.loc['00AZ'].coordinates\n",
    "a, b\n",
    "distance.distance(a, b)"
   ]
  },
  {
   "cell_type": "code",
   "execution_count": 19,
   "metadata": {},
   "outputs": [
    {
     "data": {
      "text/plain": [
       "4031.313953084402"
      ]
     },
     "execution_count": 19,
     "metadata": {},
     "output_type": "execute_result"
    }
   ],
   "source": [
    "dists_np[0, 2]"
   ]
  },
  {
   "cell_type": "code",
   "execution_count": 20,
   "metadata": {},
   "outputs": [],
   "source": [
    "# 0.5 circumference of the earth (and dists_np.max()) is roughly 20000 km\n",
    "dists_np = dists_np * np.sqrt(2)/20000"
   ]
  },
  {
   "cell_type": "code",
   "execution_count": 21,
   "metadata": {},
   "outputs": [
    {
     "data": {
      "text/plain": [
       "1.414097672012551"
      ]
     },
     "execution_count": 21,
     "metadata": {},
     "output_type": "execute_result"
    }
   ],
   "source": [
    "dists_np.max()"
   ]
  },
  {
   "cell_type": "code",
   "execution_count": 44,
   "metadata": {},
   "outputs": [],
   "source": [
    "sub_indices = np.random.choice(dists_np.shape[0], 4000)\n",
    "dists_np2 = dists_np[sub_indices][:, sub_indices]\n",
    "gthresh2 = utils.quick_subgraph(gthresh, sub_indices)"
   ]
  },
  {
   "cell_type": "code",
   "execution_count": 179,
   "metadata": {},
   "outputs": [
    {
     "data": {
      "text/plain": [
       "<module 'benji_src.benji_girgs' from '/Users/benjidayan/GDrive/eth_courses/GIRG/benji_src/../benji_src/benji_girgs/__init__.py'>"
      ]
     },
     "execution_count": 179,
     "metadata": {},
     "output_type": "execute_result"
    },
    {
     "data": {
      "text/plain": [
       "<module 'benji_src.benji_girgs.utils' from '/Users/benjidayan/GDrive/eth_courses/GIRG/benji_src/../benji_src/benji_girgs/utils.py'>"
      ]
     },
     "execution_count": 179,
     "metadata": {},
     "output_type": "execute_result"
    }
   ],
   "source": [
    "import imp\n",
    "import benji_src.benji_girgs\n",
    "imp.reload(benji_src.benji_girgs)\n",
    "imp.reload(benji_src.benji_girgs.utils)\n",
    "from benji_src.benji_girgs import utils"
   ]
  },
  {
   "cell_type": "code",
   "execution_count": 46,
   "metadata": {},
   "outputs": [
    {
     "data": {
      "text/plain": [
       "4000"
      ]
     },
     "execution_count": 46,
     "metadata": {},
     "output_type": "execute_result"
    }
   ],
   "source": [
    "gthresh2.numberOfNodes()"
   ]
  },
  {
   "cell_type": "code",
   "execution_count": 53,
   "metadata": {},
   "outputs": [],
   "source": [
    "delta = 0.001\n",
    "degrees = np.array([gthresh2.degree(i) for i in range(gthresh2.numberOfNodes())]).astype(np.float64)\n",
    "degrees[degrees == 0] += delta\n",
    "weights = degrees / len(degrees)"
   ]
  },
  {
   "cell_type": "code",
   "execution_count": 180,
   "metadata": {},
   "outputs": [
    {
     "name": "stderr",
     "output_type": "stream",
     "text": [
      "/Users/benjidayan/GDrive/eth_courses/GIRG/benji_src/../benji_src/benji_girgs/utils.py:312: FutureWarning: adjacency_matrix will return a scipy.sparse array instead of a matrix in Networkx 3.0.\n",
      "  self.A_true = nx.adjacency_matrix(nk.nxadapter.nk2nx(g_true)).toarray()\n"
     ]
    },
    {
     "name": "stdout",
     "output_type": "stream",
     "text": [
      "percs_true_median: 0.3333333333333333, avg_degree_true: 6.305\n"
     ]
    },
    {
     "name": "stderr",
     "output_type": "stream",
     "text": [
      "/Users/benjidayan/GDrive/eth_courses/GIRG/benji_src/../benji_src/benji_girgs/utils.py:324: RuntimeWarning: divide by zero encountered in divide\n",
      "  self.p_uv_initial = np.nan_to_num(outer / self.dists**self.d)\n"
     ]
    }
   ],
   "source": [
    "asdf = utils.AirportLikelihoodGirgFitter(weights, dists_np2, gthresh2)\n",
    "asdf.num_edges=3000\n",
    "asdf.alpha=1.5\n",
    "asdf.const=1\n",
    "self = asdf\n"
   ]
  },
  {
   "cell_type": "code",
   "execution_count": 181,
   "metadata": {},
   "outputs": [
    {
     "name": "stdout",
     "output_type": "stream",
     "text": [
      "log_likelihood: -1.9689e+05, gradient_c: -4.8420e+10, gradient_alpha: -6.5434e+04\n"
     ]
    }
   ],
   "source": [
    "asdf.alpha=1.5\n",
    "g_girg = self.gen_new_girg()\n",
    "# do some decisions\n",
    "log_likelihood, gradient_c, gradient_alpha = self.log_likelihood()\n",
    "print(f'log_likelihood: {log_likelihood:.4e}, gradient_c: {gradient_c:.4e}, gradient_alpha: {gradient_alpha:.4e}')\n",
    "        "
   ]
  },
  {
   "cell_type": "code",
   "execution_count": 182,
   "metadata": {},
   "outputs": [],
   "source": [
    "A = self.A_true\n",
    "A_bar = -self.A_true + 1\n",
    "np.fill_diagonal(A, 0)\n",
    "np.fill_diagonal(A_bar, 0)\n",
    "\n",
    "# this is all very painful, maybe we can just clip p_uv not to be 0 or 1\n",
    "eps = 1e-7\n",
    "p_uv = np.clip(self.p_uv, eps, 1-eps)\n",
    "\n",
    "# self.p_uv has some 0s and 1s, so np.log gives some -inf. We\n",
    "# do nan_to_num which makes -inf -> large negative number, s.t.\n",
    "# A_ij * ?_ij is 0 and not nan when previously ?_ij was -inf.\n",
    "\n",
    "# of course if A_ij is not 0, i.e. we have an edge, yet still\n",
    "# self.p_uv is 0, we -ve large, and log_likelihood will be\n",
    "# -inf probably. :(\n",
    "log_likelihood = np.sum(\n",
    "    A * np.nan_to_num((np.log(p_uv))) + \n",
    "    A_bar * np.nan_to_num((np.log(1 -p_uv)))\n",
    "    )\n",
    "\n",
    "p_uv_less_than_one = self.p_uv < 1\n",
    "dp_uv_dc = self.p_uv_pow_alpha * p_uv_less_than_one\n",
    "dp_uv_dalpha = p_uv_less_than_one * p_uv * np.log(self.p_uv_initial)\n",
    "\n",
    "# gradient_c = np.sum(np.nan_to_num(A / p_uv) * dp_uv_dc + np.nan_to_num(A_bar / (1 - p_uv)) * (- dp_uv_dc))\n",
    "gradient_c = np.sum(\n",
    "    A / self.const + \n",
    "    A_bar / (1 - p_uv) * (-p_uv / self.const)\n",
    ")\n",
    "gradient_alpha = np.sum(\n",
    "    A / p_uv * dp_uv_dalpha +\n",
    "    A_bar / (1 - p_uv) * (- dp_uv_dalpha)\n",
    ")\n"
   ]
  },
  {
   "cell_type": "code",
   "execution_count": 183,
   "metadata": {},
   "outputs": [
    {
     "data": {
      "text/plain": [
       "-65434.440620426816"
      ]
     },
     "execution_count": 183,
     "metadata": {},
     "output_type": "execute_result"
    }
   ],
   "source": [
    "gradient_alpha"
   ]
  },
  {
   "cell_type": "code",
   "execution_count": 178,
   "metadata": {},
   "outputs": [
    {
     "data": {
      "text/plain": [
       "array([[           -inf, -1.95310116e-06, -1.85136858e-06, ...,\n",
       "        -1.99928399e-06, -1.53529859e-06, -1.73067991e-06],\n",
       "       [-1.95310116e-06,            -inf, -1.65104984e-02, ...,\n",
       "        -1.31649348e-06, -1.07183942e-06, -1.11140781e-06],\n",
       "       [-1.85136858e-06, -1.65104984e-02,            -inf, ...,\n",
       "        -1.21204871e-06, -3.87510370e-06, -2.25036721e-06],\n",
       "       ...,\n",
       "       [-1.99928399e-06, -1.31649348e-06, -1.21204871e-06, ...,\n",
       "                   -inf, -1.49726674e-06, -8.97765572e-06],\n",
       "       [-1.53529859e-06, -1.07183942e-06, -3.87510370e-06, ...,\n",
       "        -1.49726674e-06,            -inf, -1.10422509e-04],\n",
       "       [-1.73067991e-06, -1.11140781e-06, -2.25036721e-06, ...,\n",
       "        -8.97765572e-06, -1.10422509e-04,            -inf]])"
      ]
     },
     "execution_count": 178,
     "metadata": {},
     "output_type": "execute_result"
    }
   ],
   "source": [
    "dp_uv_dalpha"
   ]
  },
  {
   "cell_type": "code",
   "execution_count": 144,
   "metadata": {},
   "outputs": [
    {
     "data": {
      "text/plain": [
       "14180476.947777981"
      ]
     },
     "execution_count": 144,
     "metadata": {},
     "output_type": "execute_result"
    },
    {
     "data": {
      "text/plain": [
       "-198160.03518978835"
      ]
     },
     "execution_count": 144,
     "metadata": {},
     "output_type": "execute_result"
    },
    {
     "data": {
      "text/plain": [
       "14180476.947777981"
      ]
     },
     "execution_count": 144,
     "metadata": {},
     "output_type": "execute_result"
    },
    {
     "data": {
      "text/plain": [
       "-198160.03518978835"
      ]
     },
     "execution_count": 144,
     "metadata": {},
     "output_type": "execute_result"
    }
   ],
   "source": [
    "temp  = self.const * self.alpha * np.power(self.p_uv_initial, self.alpha - 1) * p_uv_less_than_one\n",
    "np.sum(A / p_uv * temp)\n",
    "np.sum(A_bar / (1 - p_uv) * (-temp))\n",
    "\n",
    "np.sum(A / p_uv * dp_uv_dalpha)\n",
    "np.sum(A_bar / (1 - p_uv) * (-dp_uv_dalpha))\n"
   ]
  },
  {
   "cell_type": "code",
   "execution_count": 148,
   "metadata": {},
   "outputs": [
    {
     "data": {
      "text/plain": [
       "0.001"
      ]
     },
     "execution_count": 148,
     "metadata": {},
     "output_type": "execute_result"
    },
    {
     "data": {
      "text/plain": [
       "0.000630957344480193"
      ]
     },
     "execution_count": 148,
     "metadata": {},
     "output_type": "execute_result"
    },
    {
     "data": {
      "text/plain": [
       "0.001584893192461114"
      ]
     },
     "execution_count": 148,
     "metadata": {},
     "output_type": "execute_result"
    },
    {
     "data": {
      "text/plain": [
       "0.15000000000000002"
      ]
     },
     "execution_count": 148,
     "metadata": {},
     "output_type": "execute_result"
    }
   ],
   "source": [
    "c1, r1, a1 = 1, .01, 1.5\n",
    "c1 * r1**a1\n",
    "c1 * r1**(a1+.1)\n",
    "c1 * r1**(a1-.1)\n",
    "c1 * r1**(a1 - 1) * a1"
   ]
  },
  {
   "cell_type": "code",
   "execution_count": 110,
   "metadata": {},
   "outputs": [
    {
     "data": {
      "text/plain": [
       "array([[0.00000000e+00, 1.07023114e-15, 7.25410887e-15, ...,\n",
       "        4.48937614e-16, 2.77156228e-12, 7.02348734e-14],\n",
       "       [1.07023114e-15, 0.00000000e+00, 1.26443704e-02, ...,\n",
       "        1.69925148e-10, 1.69419858e-08, 8.04839823e-09],\n",
       "       [7.25410887e-15, 1.26443704e-02, 0.00000000e+00, ...,\n",
       "        1.21205256e-09, 1.16747928e-07, 5.67954881e-08],\n",
       "       ...,\n",
       "       [4.48937614e-16, 1.69925148e-10, 1.21205256e-09, ...,\n",
       "        0.00000000e+00, 3.31322297e-08, 3.57129893e-07],\n",
       "       [2.77156228e-12, 1.69419858e-08, 1.16747928e-07, ...,\n",
       "        3.31322297e-08, 0.00000000e+00, 1.04668203e-05],\n",
       "       [7.02348734e-14, 8.04839823e-09, 5.67954881e-08, ...,\n",
       "        3.57129893e-07, 1.04668203e-05, 0.00000000e+00]])"
      ]
     },
     "execution_count": 110,
     "metadata": {},
     "output_type": "execute_result"
    }
   ],
   "source": [
    "dp_uv_dalpha"
   ]
  },
  {
   "cell_type": "code",
   "execution_count": 169,
   "metadata": {},
   "outputs": [
    {
     "data": {
      "text/plain": [
       "-16.11809565095832"
      ]
     },
     "execution_count": 169,
     "metadata": {},
     "output_type": "execute_result"
    }
   ],
   "source": [
    "np.log(1e-7)"
   ]
  },
  {
   "cell_type": "code",
   "execution_count": 80,
   "metadata": {},
   "outputs": [
    {
     "data": {
      "text/plain": [
       "181414.42456508943"
      ]
     },
     "execution_count": 80,
     "metadata": {},
     "output_type": "execute_result"
    },
    {
     "data": {
      "text/plain": [
       "170034.66169189458"
      ]
     },
     "execution_count": 80,
     "metadata": {},
     "output_type": "execute_result"
    },
    {
     "data": {
      "text/plain": [
       "-181414437897.3906"
      ]
     },
     "execution_count": 80,
     "metadata": {},
     "output_type": "execute_result"
    },
    {
     "data": {
      "text/plain": [
       "-31378.25460160691"
      ]
     },
     "execution_count": 80,
     "metadata": {},
     "output_type": "execute_result"
    }
   ],
   "source": [
    "np.sum(A / self.const)\n",
    "np.sum(A / self.const * p_uv_less_than_one)\n",
    "np.sum(A_bar / (1 - p_uv) * (-p_uv / self.const))\n",
    "np.sum(A_bar / (1 - p_uv) * (-p_uv / self.const) * p_uv_less_than_one)"
   ]
  },
  {
   "cell_type": "code",
   "execution_count": 236,
   "metadata": {},
   "outputs": [
    {
     "name": "stderr",
     "output_type": "stream",
     "text": [
      "/Users/benjidayan/GDrive/eth_courses/GIRG/benji_src/../benji_src/benji_girgs/utils.py:312: FutureWarning: adjacency_matrix will return a scipy.sparse array instead of a matrix in Networkx 3.0.\n",
      "  self.A_true = nx.adjacency_matrix(nk.nxadapter.nk2nx(g_true)).toarray()\n"
     ]
    },
    {
     "name": "stdout",
     "output_type": "stream",
     "text": [
      "percs_true_median: 0.3333333333333333, avg_degree_true: 6.305\n"
     ]
    },
    {
     "ename": "ValueError",
     "evalue": "operands could not be broadcast together with shapes (10317,10317) (4000,4000) ",
     "output_type": "error",
     "traceback": [
      "\u001b[0;31m---------------------------------------------------------------------------\u001b[0m",
      "\u001b[0;31mValueError\u001b[0m                                Traceback (most recent call last)",
      "\u001b[1;32m/Users/benjidayan/GDrive/eth_courses/GIRG/benji_src/flights2.ipynb Cell 37\u001b[0m in \u001b[0;36m<cell line: 1>\u001b[0;34m()\u001b[0m\n\u001b[0;32m----> <a href='vscode-notebook-cell:/Users/benjidayan/GDrive/eth_courses/GIRG/benji_src/flights2.ipynb#Y210sZmlsZQ%3D%3D?line=0'>1</a>\u001b[0m asdf \u001b[39m=\u001b[39m utils\u001b[39m.\u001b[39;49mAirportLikelihoodGirgFitter(weights, dists_np2, gthresh2)\n\u001b[1;32m      <a href='vscode-notebook-cell:/Users/benjidayan/GDrive/eth_courses/GIRG/benji_src/flights2.ipynb#Y210sZmlsZQ%3D%3D?line=1'>2</a>\u001b[0m asdf\u001b[39m.\u001b[39mnum_edges\u001b[39m=\u001b[39m\u001b[39m3000\u001b[39m\n\u001b[1;32m      <a href='vscode-notebook-cell:/Users/benjidayan/GDrive/eth_courses/GIRG/benji_src/flights2.ipynb#Y210sZmlsZQ%3D%3D?line=2'>3</a>\u001b[0m asdf\u001b[39m.\u001b[39malpha\u001b[39m=\u001b[39m\u001b[39m1.5\u001b[39m\n",
      "File \u001b[0;32m~/GDrive/eth_courses/GIRG/benji_src/../benji_src/benji_girgs/utils.py:324\u001b[0m, in \u001b[0;36mAirportLikelihoodGirgFitter.__init__\u001b[0;34m(self, weights, dists, g_true)\u001b[0m\n\u001b[1;32m    320\u001b[0m outer \u001b[39m=\u001b[39m np\u001b[39m.\u001b[39mouter(\u001b[39mself\u001b[39m\u001b[39m.\u001b[39mweights, \u001b[39mself\u001b[39m\u001b[39m.\u001b[39mweights)\n\u001b[1;32m    321\u001b[0m \u001b[39m# in case some dists are 0 and outer is 0 - set p_uv_initial to 0\u001b[39;00m\n\u001b[1;32m    322\u001b[0m \u001b[39m# if outer isn't 0 we will instead get a massive number, but \u001b[39;00m\n\u001b[1;32m    323\u001b[0m \u001b[39m# that would have happened for very small dists anyway.\u001b[39;00m\n\u001b[0;32m--> 324\u001b[0m \u001b[39mself\u001b[39m\u001b[39m.\u001b[39mp_uv_initial \u001b[39m=\u001b[39m np\u001b[39m.\u001b[39mnan_to_num(outer \u001b[39m/\u001b[39;49m \u001b[39mself\u001b[39;49m\u001b[39m.\u001b[39;49mdists\u001b[39m*\u001b[39;49m\u001b[39m*\u001b[39;49m\u001b[39mself\u001b[39;49m\u001b[39m.\u001b[39;49md)\n\u001b[1;32m    325\u001b[0m \u001b[39mself\u001b[39m\u001b[39m.\u001b[39mp_uv_initial \u001b[39m=\u001b[39m np\u001b[39m.\u001b[39mclip(\u001b[39mself\u001b[39m\u001b[39m.\u001b[39mp_uv_initial, \u001b[39m1e-10\u001b[39m, \u001b[39m1\u001b[39m \u001b[39m-\u001b[39m \u001b[39m1e-10\u001b[39m)\n",
      "\u001b[0;31mValueError\u001b[0m: operands could not be broadcast together with shapes (10317,10317) (4000,4000) "
     ]
    }
   ],
   "source": [
    "asdf = utils.AirportLikelihoodGirgFitter(weights, dists_np2, gthresh2)\n",
    "asdf.num_edges=3000\n",
    "asdf.alpha=1.5\n",
    "asdf.const=1\n",
    "self = asdf\n",
    "\n",
    "# self.alpha_step_size=1e-7\n",
    "\n",
    "# asdf.step_n(5)"
   ]
  },
  {
   "cell_type": "code",
   "execution_count": 185,
   "metadata": {},
   "outputs": [
    {
     "name": "stdout",
     "output_type": "stream",
     "text": [
      "log_likelihood: -1.9689e+05, gradient_c: -4.8420e+10, gradient_alpha: -6.5434e+04\n",
      "g_girg avg deg: 3.89, g_true avg deg 6.30\n",
      "alpha: - c: - \n",
      "alpha: 1.350, const: 7.0000e-01\n",
      "log_likelihood: -1.2067e+05, gradient_c: 1.0618e+04, gradient_alpha: -6.5958e+04\n",
      "g_girg avg deg: 3.06, g_true avg deg 6.30\n",
      "alpha: - c: + \n",
      "alpha: 1.255, const: 9.6081e-01\n",
      "log_likelihood: -1.1966e+05, gradient_c: -1.1335e+05, gradient_alpha: -5.8086e+04\n",
      "g_girg avg deg: 4.45, g_true avg deg 6.30\n",
      "alpha: - c: - \n",
      "alpha: 1.192, const: 7.2482e-01\n",
      "log_likelihood: -1.1049e+05, gradient_c: 4.9866e+03, gradient_alpha: -6.0104e+04\n",
      "g_girg avg deg: 3.56, g_true avg deg 6.30\n",
      "alpha: - c: + \n",
      "alpha: 1.150, const: 9.3194e-01\n",
      "log_likelihood: -1.1145e+05, gradient_c: -6.1292e+04, gradient_alpha: -5.2216e+04\n",
      "g_girg avg deg: 4.84, g_true avg deg 6.30\n",
      "alpha: - c: - \n",
      "alpha: 1.120, const: 7.4453e-01\n"
     ]
    }
   ],
   "source": [
    "asdf.step_n(5)"
   ]
  },
  {
   "cell_type": "code",
   "execution_count": 186,
   "metadata": {},
   "outputs": [
    {
     "name": "stdout",
     "output_type": "stream",
     "text": [
      "log_likelihood: -1.0622e+05, gradient_c: 6.7701e+02, gradient_alpha: -5.5360e+04\n",
      "g_girg avg deg: 4.00, g_true avg deg 6.30\n",
      "alpha: - c: + \n",
      "alpha: 1.098, const: 9.1014e-01\n",
      "log_likelihood: -1.0770e+05, gradient_c: -4.4208e+04, gradient_alpha: -4.8405e+04\n",
      "g_girg avg deg: 4.98, g_true avg deg 6.30\n",
      "alpha: - c: - \n",
      "alpha: 1.082, const: 7.6029e-01\n",
      "log_likelihood: -1.0420e+05, gradient_c: -2.6186e+03, gradient_alpha: -5.1932e+04\n",
      "g_girg avg deg: 4.26, g_true avg deg 6.30\n",
      "alpha: - c: - \n",
      "alpha: 1.070, const: 6.4702e-01\n",
      "log_likelihood: -1.0403e+05, gradient_c: 1.0438e+04, gradient_alpha: -5.4662e+04\n",
      "g_girg avg deg: 3.67, g_true avg deg 6.30\n",
      "alpha: - c: + \n",
      "alpha: 1.060, const: 7.4783e-01\n",
      "log_likelihood: -1.0307e+05, gradient_c: -1.6494e+03, gradient_alpha: -5.0411e+04\n",
      "g_girg avg deg: 4.36, g_true avg deg 6.30\n",
      "alpha: - c: - \n",
      "alpha: 1.053, const: 6.5662e-01\n",
      "log_likelihood: -1.0304e+05, gradient_c: 8.8314e+03, gradient_alpha: -5.2976e+04\n",
      "g_girg avg deg: 3.88, g_true avg deg 6.30\n",
      "alpha: - c: + \n",
      "alpha: 1.047, const: 7.3807e-01\n",
      "log_likelihood: -1.0240e+05, gradient_c: -8.4819e+02, gradient_alpha: -4.9486e+04\n",
      "g_girg avg deg: 4.43, g_true avg deg 6.30\n",
      "alpha: - c: - \n",
      "alpha: 1.042, const: 6.6437e-01\n"
     ]
    }
   ],
   "source": [
    "asdf.step_n(7)"
   ]
  },
  {
   "cell_type": "code",
   "execution_count": 154,
   "metadata": {},
   "outputs": [
    {
     "data": {
      "text/plain": [
       "array([0.3, 0.3])"
      ]
     },
     "execution_count": 154,
     "metadata": {},
     "output_type": "execute_result"
    },
    {
     "data": {
      "text/plain": [
       "array([0.1, 0.1])"
      ]
     },
     "execution_count": 154,
     "metadata": {},
     "output_type": "execute_result"
    }
   ],
   "source": [
    "asdf.scalers\n",
    "asdf.temp_scalers"
   ]
  },
  {
   "cell_type": "code",
   "execution_count": 164,
   "metadata": {},
   "outputs": [
    {
     "name": "stdout",
     "output_type": "stream",
     "text": [
      "log_likelihood: -9.8149e+04, gradient_c: -4.9123e+03, gradient_alpha: nan\n",
      "g_girg avg deg: 5.11, g_true avg deg 6.30\n",
      "alpha: - c: - \n",
      "alpha: 0.951, const: 7.1894e-01\n"
     ]
    }
   ],
   "source": [
    "self.alpha=0.95\n",
    "self.step()"
   ]
  },
  {
   "cell_type": "code",
   "execution_count": 165,
   "metadata": {},
   "outputs": [
    {
     "name": "stdout",
     "output_type": "stream",
     "text": [
      "log_likelihood: -9.6421e+04, gradient_c: -5.9447e+03, gradient_alpha: nan\n",
      "g_girg avg deg: 5.54, g_true avg deg 6.30\n",
      "alpha: - c: - \n",
      "alpha: 0.902, const: 7.0444e-01\n"
     ]
    }
   ],
   "source": [
    "self.alpha=0.90\n",
    "self.step()"
   ]
  },
  {
   "cell_type": "code",
   "execution_count": 166,
   "metadata": {},
   "outputs": [
    {
     "name": "stdout",
     "output_type": "stream",
     "text": [
      "log_likelihood: -9.5186e+04, gradient_c: -8.0833e+03, gradient_alpha: nan\n",
      "g_girg avg deg: 6.02, g_true avg deg 6.30\n",
      "alpha: - c: - \n",
      "alpha: 0.853, const: 6.9159e-01\n"
     ]
    }
   ],
   "source": [
    "self.alpha=0.85\n",
    "self.step()"
   ]
  },
  {
   "cell_type": "code",
   "execution_count": 167,
   "metadata": {},
   "outputs": [
    {
     "name": "stdout",
     "output_type": "stream",
     "text": [
      "log_likelihood: -9.7088e+04, gradient_c: -2.6760e+04, gradient_alpha: nan\n",
      "g_girg avg deg: 9.20, g_true avg deg 6.30\n",
      "alpha: - c: - \n",
      "alpha: 0.705, const: 6.8018e-01\n"
     ]
    }
   ],
   "source": [
    "self.alpha=0.7\n",
    "self.step()"
   ]
  },
  {
   "cell_type": "code",
   "execution_count": 160,
   "metadata": {},
   "outputs": [
    {
     "data": {
      "text/plain": [
       "-80353.6294175103"
      ]
     },
     "execution_count": 160,
     "metadata": {},
     "output_type": "execute_result"
    }
   ],
   "source": [
    "A = self.A_true\n",
    "A_bar = -self.A_true + 1\n",
    "np.sum(self.A_true * self.p_uv) + np.sum(A_bar * np.nan_to_num((np.log(1 -p_uv))))"
   ]
  },
  {
   "cell_type": "code",
   "execution_count": 229,
   "metadata": {},
   "outputs": [
    {
     "data": {
      "text/plain": [
       "264748528791364.88"
      ]
     },
     "execution_count": 229,
     "metadata": {},
     "output_type": "execute_result"
    },
    {
     "data": {
      "text/plain": [
       "-3614178860734198.0"
      ]
     },
     "execution_count": 229,
     "metadata": {},
     "output_type": "execute_result"
    }
   ],
   "source": [
    "np.sum(np.nan_to_num(A / p_uv) * dp_uv_dc)\n",
    "np.sum(np.nan_to_num(A_bar / (1 - p_uv)) * (- dp_uv_dc))"
   ]
  },
  {
   "cell_type": "code",
   "execution_count": 247,
   "metadata": {},
   "outputs": [],
   "source": [
    "foo = np.argwhere((A != 0) & (p_uv < 5e-7))\n",
    "idx = tuple(foo.T)"
   ]
  },
  {
   "cell_type": "code",
   "execution_count": 248,
   "metadata": {},
   "outputs": [
    {
     "data": {
      "text/plain": [
       "array([1.79831904e+10, 1.79831904e+10, 1.79831904e+10, 1.79831904e+10,\n",
       "       1.79831904e+10, 1.79831904e+10, 1.79831904e+10, 1.79831904e+10,\n",
       "       1.79831904e+10, 1.79831904e+10, 1.79831904e+10, 1.79831904e+10,\n",
       "       1.79831904e+10, 1.79831904e+10])"
      ]
     },
     "execution_count": 248,
     "metadata": {},
     "output_type": "execute_result"
    }
   ],
   "source": [
    "dp_uv_dc[idx] * A[idx] / p_uv[idx]"
   ]
  },
  {
   "cell_type": "code",
   "execution_count": 249,
   "metadata": {},
   "outputs": [
    {
     "data": {
      "text/plain": [
       "array([1.67856805e-07, 3.49948937e-07, 3.50065528e-07, 1.67856805e-07,\n",
       "       3.45561647e-07, 4.94046617e-07, 3.45561647e-07, 3.74406207e-07,\n",
       "       3.74406207e-07, 1.39975177e-07, 3.50065528e-07, 3.49948937e-07,\n",
       "       1.39975177e-07, 4.94046617e-07])"
      ]
     },
     "execution_count": 249,
     "metadata": {},
     "output_type": "execute_result"
    }
   ],
   "source": [
    "p_uv[idx]"
   ]
  },
  {
   "cell_type": "code",
   "execution_count": 251,
   "metadata": {},
   "outputs": [
    {
     "data": {
      "text/plain": [
       "array([3018.60087838, 6293.19836139, 6295.29504235, 3018.60087838,\n",
       "       6214.30088328, 8884.53436241, 6214.30088328, 6733.01809638,\n",
       "       6733.01809638, 2517.20025749, 6295.29504235, 6293.19836139,\n",
       "       2517.20025749, 8884.53436241])"
      ]
     },
     "execution_count": 251,
     "metadata": {},
     "output_type": "execute_result"
    }
   ],
   "source": [
    "dp_uv_dc[idx]"
   ]
  },
  {
   "cell_type": "code",
   "execution_count": 259,
   "metadata": {},
   "outputs": [
    {
     "data": {
      "text/plain": [
       "17983190381.15482"
      ]
     },
     "execution_count": 259,
     "metadata": {},
     "output_type": "execute_result"
    }
   ],
   "source": [
    "1/asdf.const"
   ]
  },
  {
   "cell_type": "code",
   "execution_count": null,
   "metadata": {},
   "outputs": [],
   "source": []
  },
  {
   "cell_type": "code",
   "execution_count": 256,
   "metadata": {},
   "outputs": [
    {
     "data": {
      "text/plain": [
       "2.2823093092147247e-05"
      ]
     },
     "execution_count": 256,
     "metadata": {},
     "output_type": "execute_result"
    }
   ],
   "source": [
    "(1.5e-7)**(asdf.alpha - 1)"
   ]
  },
  {
   "cell_type": "code",
   "execution_count": 255,
   "metadata": {},
   "outputs": [
    {
     "data": {
      "text/plain": [
       "1.6431676725154982e-10"
      ]
     },
     "execution_count": 255,
     "metadata": {},
     "output_type": "execute_result"
    }
   ],
   "source": [
    "(3e-7)**1.5"
   ]
  },
  {
   "cell_type": "code",
   "execution_count": null,
   "metadata": {},
   "outputs": [],
   "source": []
  },
  {
   "cell_type": "code",
   "execution_count": 211,
   "metadata": {},
   "outputs": [
    {
     "name": "stdout",
     "output_type": "stream",
     "text": [
      "log_likelihood: -6.3905e+05, gradient_c: -2.0850e+14, gradient_alpha: -1.9506e-04\n"
     ]
    }
   ],
   "source": [
    "g_girg = self.gen_new_girg()\n",
    "# do some decisions\n",
    "log_likelihood, gradient_c, gradient_alpha = self.log_likelihood()\n",
    "print(f'log_likelihood: {log_likelihood:.4e}, gradient_c: {gradient_c:.4e}, gradient_alpha: {gradient_alpha:.4e}')\n",
    "        "
   ]
  },
  {
   "cell_type": "code",
   "execution_count": 214,
   "metadata": {},
   "outputs": [
    {
     "name": "stdout",
     "output_type": "stream",
     "text": [
      "21.13\n"
     ]
    }
   ],
   "source": [
    "print(f'{avg_degree(g_girg):.2f}')"
   ]
  },
  {
   "cell_type": "code",
   "execution_count": 212,
   "metadata": {},
   "outputs": [
    {
     "name": "stdout",
     "output_type": "stream",
     "text": [
      "Network Properties:\n",
      "nodes, edges\t\t\t4000, 42262\n",
      "directed?\t\t\tFalse\n",
      "weighted?\t\t\tFalse\n",
      "isolated nodes\t\t\t1402\n",
      "self-loops\t\t\t0\n",
      "density\t\t\t\t0.005284\n",
      "clustering coefficient\t\t0.393532\n",
      "min/max/avg degree\t\t0, 475, 21.131000\n",
      "degree assortativity\t\t-0.052772\n",
      "number of connected components\t1435\n",
      "size of largest component\t2468 (61.70 %)\n"
     ]
    }
   ],
   "source": [
    "nk.overview(g_girg)"
   ]
  },
  {
   "cell_type": "code",
   "execution_count": 187,
   "metadata": {},
   "outputs": [
    {
     "name": "stdout",
     "output_type": "stream",
     "text": [
      "log_likelihood: -1.3471e+05, gradient_c: 1.6186e+10, gradient_alpha: -5.2978e-02\n"
     ]
    }
   ],
   "source": [
    "asdf.alpha = 1.00001\n",
    "\n",
    "g_girg = self.gen_new_girg()\n",
    "# do some decisions\n",
    "log_likelihood, gradient_c, gradient_alpha = self.log_likelihood()\n",
    "print(f'log_likelihood: {log_likelihood:.4e}, gradient_c: {gradient_c:.4e}, gradient_alpha: {gradient_alpha:.4e}')\n",
    "        "
   ]
  },
  {
   "cell_type": "code",
   "execution_count": 188,
   "metadata": {},
   "outputs": [
    {
     "name": "stdout",
     "output_type": "stream",
     "text": [
      "log_likelihood: -1.3493e+05, gradient_c: -1.8044e+11, gradient_alpha: -4.9491e-02\n"
     ]
    }
   ],
   "source": [
    "asdf.alpha = 1.01\n",
    "\n",
    "\n",
    "g_girg = self.gen_new_girg()\n",
    "# do some decisions\n",
    "log_likelihood, gradient_c, gradient_alpha = self.log_likelihood()\n",
    "print(f'log_likelihood: {log_likelihood:.4e}, gradient_c: {gradient_c:.4e}, gradient_alpha: {gradient_alpha:.4e}')\n",
    "        "
   ]
  },
  {
   "cell_type": "code",
   "execution_count": 189,
   "metadata": {},
   "outputs": [
    {
     "name": "stdout",
     "output_type": "stream",
     "text": [
      "log_likelihood: -1.3997e+05, gradient_c: -5.6675e+11, gradient_alpha: -3.8908e-02\n"
     ]
    }
   ],
   "source": [
    "asdf.alpha = 1.05\n",
    "\n",
    "g_girg = self.gen_new_girg()\n",
    "# do some decisions\n",
    "log_likelihood, gradient_c, gradient_alpha = self.log_likelihood()\n",
    "print(f'log_likelihood: {log_likelihood:.4e}, gradient_c: {gradient_c:.4e}, gradient_alpha: {gradient_alpha:.4e}')\n"
   ]
  },
  {
   "cell_type": "code",
   "execution_count": 197,
   "metadata": {},
   "outputs": [],
   "source": [
    "\n",
    "A = self.A_true\n",
    "A_bar = -self.A_true + 1\n",
    "\n",
    "# this is all very painful, maybe we can just clip p_uv not to be 0 or 1\n",
    "eps = 1e-5\n",
    "p_uv = np.clip(self.p_uv, eps, 1-eps)\n",
    "\n",
    "# self.p_uv has some 0s and 1s, so np.log gives some -inf. We\n",
    "# do nan_to_num which makes -inf -> large negative number, s.t.\n",
    "# A_ij * ?_ij is 0 and not nan when previously ?_ij was -inf.\n",
    "\n",
    "# of course if A_ij is not 0, i.e. we have an edge, yet still\n",
    "# self.p_uv is 0, we -ve large, and log_likelihood will be\n",
    "# -inf probably. :(\n",
    "log_likelihood = np.sum(\n",
    "    A * np.nan_to_num((np.log(p_uv))) + \n",
    "    A_bar * np.nan_to_num((np.log(1 -p_uv)))\n",
    "    )\n",
    "\n",
    "p_uv_less_than_one = self.p_uv < 1\n",
    "dp_uv_dc = self.p_uv_pow_alpha * p_uv_less_than_one\n",
    "dp_uv_dalpha = self.const * np.power(self.p_uv, self.alpha - 1) * self.alpha * p_uv_less_than_one\n",
    "\n",
    "gradient_c = np.sum(np.nan_to_num(A / p_uv) * dp_uv_dc + np.nan_to_num(A_bar / (1 - p_uv)) * (- dp_uv_dc))\n",
    "gradient_alpha = np.sum(np.nan_to_num(A / p_uv) * dp_uv_dalpha + np.nan_to_num(A_bar / (1 - p_uv)) * (- dp_uv_dalpha))\n"
   ]
  },
  {
   "cell_type": "code",
   "execution_count": 198,
   "metadata": {},
   "outputs": [
    {
     "data": {
      "text/plain": [
       "0.25933008243116457"
      ]
     },
     "execution_count": 198,
     "metadata": {},
     "output_type": "execute_result"
    },
    {
     "data": {
      "text/plain": [
       "-0.11803337276726887"
      ]
     },
     "execution_count": 198,
     "metadata": {},
     "output_type": "execute_result"
    }
   ],
   "source": [
    "np.sum(np.nan_to_num(A / p_uv) * dp_uv_dalpha)\n",
    "np.sum(np.nan_to_num(A_bar / (1 - p_uv)) * (- dp_uv_dalpha))"
   ]
  },
  {
   "cell_type": "code",
   "execution_count": 199,
   "metadata": {},
   "outputs": [
    {
     "data": {
      "text/plain": [
       "-145199.4626978061"
      ]
     },
     "execution_count": 199,
     "metadata": {},
     "output_type": "execute_result"
    }
   ],
   "source": [
    "log_likelihood"
   ]
  },
  {
   "cell_type": "code",
   "execution_count": null,
   "metadata": {},
   "outputs": [],
   "source": []
  },
  {
   "cell_type": "code",
   "execution_count": 191,
   "metadata": {},
   "outputs": [
    {
     "data": {
      "text/plain": [
       "-139967.7777605172"
      ]
     },
     "execution_count": 191,
     "metadata": {},
     "output_type": "execute_result"
    }
   ],
   "source": [
    "log_likelihood"
   ]
  },
  {
   "cell_type": "code",
   "execution_count": null,
   "metadata": {},
   "outputs": [],
   "source": []
  },
  {
   "cell_type": "code",
   "execution_count": null,
   "metadata": {},
   "outputs": [],
   "source": []
  },
  {
   "cell_type": "code",
   "execution_count": 181,
   "metadata": {},
   "outputs": [
    {
     "name": "stdout",
     "output_type": "stream",
     "text": [
      "Network Properties:\n",
      "nodes, edges\t\t\t4000, 7352\n",
      "directed?\t\t\tFalse\n",
      "weighted?\t\t\tFalse\n",
      "isolated nodes\t\t\t1922\n",
      "self-loops\t\t\t0\n",
      "density\t\t\t\t0.000919\n",
      "clustering coefficient\t\t0.145136\n",
      "min/max/avg degree\t\t0, 99, 3.676000\n",
      "degree assortativity\t\t-0.003318\n",
      "number of connected components\t1960\n",
      "size of largest component\t1974 (49.35 %)\n"
     ]
    }
   ],
   "source": [
    "nk.overview(g_girg)"
   ]
  },
  {
   "cell_type": "code",
   "execution_count": 177,
   "metadata": {},
   "outputs": [
    {
     "name": "stdout",
     "output_type": "stream",
     "text": [
      "Network Properties:\n",
      "nodes, edges\t\t\t4000, 13494\n",
      "directed?\t\t\tFalse\n",
      "weighted?\t\t\tFalse\n",
      "isolated nodes\t\t\t1231\n",
      "self-loops\t\t\t0\n",
      "density\t\t\t\t0.001687\n",
      "clustering coefficient\t\t0.216992\n",
      "min/max/avg degree\t\t0, 266, 6.747000\n",
      "degree assortativity\t\t-0.031688\n",
      "number of connected components\t1244\n",
      "size of largest component\t2730 (68.25 %)\n"
     ]
    }
   ],
   "source": [
    "nk.overview(asdf.g_true)"
   ]
  },
  {
   "cell_type": "code",
   "execution_count": 159,
   "metadata": {},
   "outputs": [],
   "source": [
    "eps = 1e-3\n",
    "p_uv = np.clip(self.p_uv, eps, 1 - eps)\n",
    "\n",
    "A = self.A_true\n",
    "A_bar = -self.A_true + 1\n",
    "\n",
    "# self.p_uv has some 0s and 1s, so np.log gives some -inf. We\n",
    "# do nan_to_num which makes -inf -> large negative number, s.t.\n",
    "# A_ij * ?_ij is 0 and not nan when previously ?_ij was -inf.\n",
    "log_likelihood = np.sum(\n",
    "    A * np.nan_to_num((np.log(p_uv))) + \n",
    "    A_bar * np.nan_to_num((np.log(1 - p_uv)))\n",
    "    )\n",
    "\n",
    "p_uv_less_than_one = self.p_uv < 1\n",
    "dp_uv_dc = self.p_uv_pow_alpha * p_uv_less_than_one\n",
    "dp_uv_dalpha = self.const * np.power(self.p_uv, self.alpha - 1) * self.alpha * p_uv_less_than_one\n",
    "\n",
    "gradient_c = np.sum((A / p_uv) * dp_uv_dc + (A_bar / (1 - p_uv)) * (- dp_uv_dc))\n",
    "gradient_alpha = np.sum((A / p_uv) * dp_uv_dalpha + (A_bar / (1 - p_uv)) * (- dp_uv_dalpha))\n"
   ]
  },
  {
   "cell_type": "code",
   "execution_count": 160,
   "metadata": {},
   "outputs": [
    {
     "data": {
      "text/plain": [
       "-1080153.3532322454"
      ]
     },
     "execution_count": 160,
     "metadata": {},
     "output_type": "execute_result"
    }
   ],
   "source": [
    "log_likelihood"
   ]
  },
  {
   "cell_type": "code",
   "execution_count": 126,
   "metadata": {},
   "outputs": [],
   "source": [
    "stuff = np.argwhere(A)"
   ]
  },
  {
   "cell_type": "code",
   "execution_count": 127,
   "metadata": {},
   "outputs": [
    {
     "name": "stderr",
     "output_type": "stream",
     "text": [
      "/scratch/tmp.13633927.bdayan/ipykernel_90418/4039006507.py:2: RuntimeWarning: divide by zero encountered in log\n",
      "  a = np.nan_to_num((np.log(self.p_uv)))\n"
     ]
    }
   ],
   "source": [
    "stuff = np.argwhere(A)\n",
    "a = np.nan_to_num((np.log(self.p_uv)))\n",
    "b = tuple(stuff.T)\n",
    "c = a[b]"
   ]
  },
  {
   "cell_type": "code",
   "execution_count": 128,
   "metadata": {},
   "outputs": [
    {
     "data": {
      "text/plain": [
       "-15483.817591245172"
      ]
     },
     "execution_count": 128,
     "metadata": {},
     "output_type": "execute_result"
    }
   ],
   "source": [
    "c.sum()"
   ]
  },
  {
   "cell_type": "code",
   "execution_count": 129,
   "metadata": {},
   "outputs": [
    {
     "name": "stderr",
     "output_type": "stream",
     "text": [
      "/scratch/tmp.13633927.bdayan/ipykernel_90418/3811417342.py:1: RuntimeWarning: divide by zero encountered in log\n",
      "  temp2 = A_bar * (np.log(1 - self.p_uv))\n",
      "/scratch/tmp.13633927.bdayan/ipykernel_90418/3811417342.py:1: RuntimeWarning: invalid value encountered in multiply\n",
      "  temp2 = A_bar * (np.log(1 - self.p_uv))\n"
     ]
    }
   ],
   "source": [
    "temp2 = A_bar * (np.log(1 - self.p_uv))"
   ]
  },
  {
   "cell_type": "code",
   "execution_count": 130,
   "metadata": {},
   "outputs": [
    {
     "name": "stderr",
     "output_type": "stream",
     "text": [
      "/scratch/tmp.13633927.bdayan/ipykernel_90418/3329431709.py:1: RuntimeWarning: divide by zero encountered in log\n",
      "  a = np.nan_to_num((np.log(1 - self.p_uv)))\n"
     ]
    }
   ],
   "source": [
    "a = np.nan_to_num((np.log(1 - self.p_uv)))\n",
    "stuff = np.argwhere(A_bar)\n",
    "b = tuple(stuff.T)\n",
    "c = a[b]"
   ]
  },
  {
   "cell_type": "code",
   "execution_count": 131,
   "metadata": {},
   "outputs": [
    {
     "name": "stderr",
     "output_type": "stream",
     "text": [
      "/cluster/home/bdayan/girgs/venv/lib64/python3.8/site-packages/numpy/core/_methods.py:49: RuntimeWarning: overflow encountered in reduce\n",
      "  return umr_sum(a, axis, dtype, out, keepdims, initial, where)\n"
     ]
    },
    {
     "data": {
      "text/plain": [
       "-inf"
      ]
     },
     "execution_count": 131,
     "metadata": {},
     "output_type": "execute_result"
    }
   ],
   "source": [
    "c.sum()"
   ]
  },
  {
   "cell_type": "code",
   "execution_count": 142,
   "metadata": {},
   "outputs": [
    {
     "data": {
      "text/plain": [
       "999980.1498765249"
      ]
     },
     "execution_count": 142,
     "metadata": {},
     "output_type": "execute_result"
    }
   ],
   "source": [
    "dp_uv_dc"
   ]
  },
  {
   "cell_type": "code",
   "execution_count": 137,
   "metadata": {},
   "outputs": [
    {
     "data": {
      "text/plain": [
       "False"
      ]
     },
     "execution_count": 137,
     "metadata": {},
     "output_type": "execute_result"
    }
   ],
   "source": [
    "dp_uv_dc == np.inf"
   ]
  },
  {
   "cell_type": "code",
   "execution_count": 111,
   "metadata": {},
   "outputs": [
    {
     "data": {
      "text/plain": [
       "nan"
      ]
     },
     "execution_count": 111,
     "metadata": {},
     "output_type": "execute_result"
    }
   ],
   "source": [
    "self.p_uv_pow_alpha[2, 421]"
   ]
  },
  {
   "cell_type": "code",
   "execution_count": 112,
   "metadata": {},
   "outputs": [
    {
     "data": {
      "text/plain": [
       "nan"
      ]
     },
     "execution_count": 112,
     "metadata": {},
     "output_type": "execute_result"
    }
   ],
   "source": [
    "self.p_uv_initial[2, 421]"
   ]
  },
  {
   "cell_type": "code",
   "execution_count": 113,
   "metadata": {},
   "outputs": [
    {
     "data": {
      "text/plain": [
       "0.0"
      ]
     },
     "execution_count": 113,
     "metadata": {},
     "output_type": "execute_result"
    }
   ],
   "source": [
    "self.dists[2, 421]"
   ]
  },
  {
   "cell_type": "code",
   "execution_count": 115,
   "metadata": {},
   "outputs": [
    {
     "data": {
      "text/plain": [
       "10.0"
      ]
     },
     "execution_count": 115,
     "metadata": {},
     "output_type": "execute_result"
    }
   ],
   "source": [
    "self.weights[0]"
   ]
  },
  {
   "cell_type": "code",
   "execution_count": 116,
   "metadata": {},
   "outputs": [
    {
     "data": {
      "text/plain": [
       "0.0"
      ]
     },
     "execution_count": 116,
     "metadata": {},
     "output_type": "execute_result"
    }
   ],
   "source": [
    "self.weights[421]"
   ]
  },
  {
   "cell_type": "code",
   "execution_count": null,
   "metadata": {},
   "outputs": [],
   "source": []
  },
  {
   "cell_type": "code",
   "execution_count": null,
   "metadata": {},
   "outputs": [],
   "source": [
    "\n"
   ]
  },
  {
   "cell_type": "code",
   "execution_count": 100,
   "metadata": {},
   "outputs": [
    {
     "name": "stderr",
     "output_type": "stream",
     "text": [
      "/scratch/tmp.13633927.bdayan/ipykernel_90418/1108141542.py:1: RuntimeWarning: invalid value encountered in divide\n",
      "  np.nan_to_num(A / self.p_uv).sum()\n"
     ]
    },
    {
     "data": {
      "text/plain": [
       "303668.7277771355"
      ]
     },
     "execution_count": 100,
     "metadata": {},
     "output_type": "execute_result"
    }
   ],
   "source": [
    "np.nan_to_num(A / self.p_uv)"
   ]
  },
  {
   "cell_type": "code",
   "execution_count": 101,
   "metadata": {},
   "outputs": [
    {
     "name": "stderr",
     "output_type": "stream",
     "text": [
      "/scratch/tmp.13633927.bdayan/ipykernel_90418/2505616375.py:1: RuntimeWarning: invalid value encountered in divide\n",
      "  gradient_c = np.sum(np.nan_to_num(A / self.p_uv) * dp_uv_dc + np.nan_to_num(A_bar / (1 - self.p_uv)) * (- dp_uv_dc))\n",
      "/scratch/tmp.13633927.bdayan/ipykernel_90418/2505616375.py:1: RuntimeWarning: divide by zero encountered in divide\n",
      "  gradient_c = np.sum(np.nan_to_num(A / self.p_uv) * dp_uv_dc + np.nan_to_num(A_bar / (1 - self.p_uv)) * (- dp_uv_dc))\n",
      "/scratch/tmp.13633927.bdayan/ipykernel_90418/2505616375.py:2: RuntimeWarning: invalid value encountered in divide\n",
      "  gradient_alpha = np.sum(np.nan_to_num(A / self.p_uv) * dp_uv_dalpha + np.nan_to_num(A_bar / (1 - self.p_uv)) * (- dp_uv_dalpha))\n",
      "/scratch/tmp.13633927.bdayan/ipykernel_90418/2505616375.py:2: RuntimeWarning: divide by zero encountered in divide\n",
      "  gradient_alpha = np.sum(np.nan_to_num(A / self.p_uv) * dp_uv_dalpha + np.nan_to_num(A_bar / (1 - self.p_uv)) * (- dp_uv_dalpha))\n"
     ]
    }
   ],
   "source": [
    "gradient_c = np.sum(np.nan_to_num(A / self.p_uv) * dp_uv_dc + np.nan_to_num(A_bar / (1 - self.p_uv)) * (- dp_uv_dc))\n",
    "gradient_alpha = np.sum(np.nan_to_num(A / self.p_uv) * dp_uv_dalpha + np.nan_to_num(A_bar / (1 - self.p_uv)) * (- dp_uv_dalpha))\n"
   ]
  },
  {
   "cell_type": "code",
   "execution_count": 102,
   "metadata": {},
   "outputs": [
    {
     "data": {
      "text/plain": [
       "nan"
      ]
     },
     "execution_count": 102,
     "metadata": {},
     "output_type": "execute_result"
    }
   ],
   "source": [
    "gradient_c"
   ]
  },
  {
   "cell_type": "code",
   "execution_count": 212,
   "metadata": {},
   "outputs": [],
   "source": [
    "gthresh2nx = nk.nxadapter.nk2nx(gthresh2)"
   ]
  },
  {
   "cell_type": "code",
   "execution_count": 218,
   "metadata": {},
   "outputs": [],
   "source": [
    "arr = nx.adjacency_matrix(gthresh2nx)"
   ]
  },
  {
   "cell_type": "code",
   "execution_count": 226,
   "metadata": {},
   "outputs": [],
   "source": [
    "A = arr.toarray()"
   ]
  },
  {
   "cell_type": "code",
   "execution_count": 229,
   "metadata": {},
   "outputs": [
    {
     "data": {
      "text/plain": [
       "array([[1, 1, 1, ..., 1, 1, 1],\n",
       "       [1, 1, 1, ..., 1, 1, 1],\n",
       "       [1, 1, 1, ..., 1, 1, 1],\n",
       "       ...,\n",
       "       [1, 1, 1, ..., 1, 1, 1],\n",
       "       [1, 1, 1, ..., 1, 1, 1],\n",
       "       [1, 1, 1, ..., 1, 1, 1]])"
      ]
     },
     "execution_count": 229,
     "metadata": {},
     "output_type": "execute_result"
    }
   ],
   "source": [
    "-A + 1"
   ]
  },
  {
   "cell_type": "code",
   "execution_count": 193,
   "metadata": {},
   "outputs": [
    {
     "data": {
      "text/plain": [
       "[]"
      ]
     },
     "execution_count": 193,
     "metadata": {},
     "output_type": "execute_result"
    },
    {
     "data": {
      "text/plain": [
       "0"
      ]
     },
     "execution_count": 193,
     "metadata": {},
     "output_type": "execute_result"
    },
    {
     "data": {
      "text/plain": [
       "0"
      ]
     },
     "execution_count": 193,
     "metadata": {},
     "output_type": "execute_result"
    },
    {
     "data": {
      "text/plain": [
       "[0]"
      ]
     },
     "execution_count": 193,
     "metadata": {},
     "output_type": "execute_result"
    },
    {
     "data": {
      "text/plain": [
       "1"
      ]
     },
     "execution_count": 193,
     "metadata": {},
     "output_type": "execute_result"
    },
    {
     "data": {
      "text/plain": [
       "1"
      ]
     },
     "execution_count": 193,
     "metadata": {},
     "output_type": "execute_result"
    },
    {
     "data": {
      "text/plain": [
       "[0, 1]"
      ]
     },
     "execution_count": 193,
     "metadata": {},
     "output_type": "execute_result"
    },
    {
     "data": {
      "text/plain": [
       "2"
      ]
     },
     "execution_count": 193,
     "metadata": {},
     "output_type": "execute_result"
    },
    {
     "data": {
      "text/plain": [
       "2"
      ]
     },
     "execution_count": 193,
     "metadata": {},
     "output_type": "execute_result"
    }
   ],
   "source": [
    "aaa = nk.Graph()\n",
    "for _ in range(3):\n",
    "    list(aaa.iterNodes())\n",
    "    aaa.numberOfNodes()\n",
    "    aaa.addNode()"
   ]
  },
  {
   "cell_type": "code",
   "execution_count": 230,
   "metadata": {},
   "outputs": [
    {
     "data": {
      "text/plain": [
       "array([[0, 1, 2, 3, 4],\n",
       "       [5, 6, 7, 8, 9]])"
      ]
     },
     "execution_count": 230,
     "metadata": {},
     "output_type": "execute_result"
    }
   ],
   "source": [
    "a = np.arange(10).reshape(2, 5)\n",
    "a"
   ]
  },
  {
   "cell_type": "code",
   "execution_count": 233,
   "metadata": {},
   "outputs": [
    {
     "name": "stderr",
     "output_type": "stream",
     "text": [
      "/scratch/tmp.13633927.bdayan/ipykernel_80180/3063000341.py:1: RuntimeWarning: invalid value encountered in divide\n",
      "  a / a\n"
     ]
    },
    {
     "data": {
      "text/plain": [
       "array([[nan,  1.,  1.,  1.,  1.],\n",
       "       [ 1.,  1.,  1.,  1.,  1.]])"
      ]
     },
     "execution_count": 233,
     "metadata": {},
     "output_type": "execute_result"
    }
   ],
   "source": [
    "a / a"
   ]
  },
  {
   "cell_type": "code",
   "execution_count": 234,
   "metadata": {},
   "outputs": [
    {
     "name": "stderr",
     "output_type": "stream",
     "text": [
      "/scratch/tmp.13633927.bdayan/ipykernel_80180/272595227.py:1: RuntimeWarning: invalid value encountered in divide\n",
      "  np.divide(a, a)\n"
     ]
    },
    {
     "data": {
      "text/plain": [
       "array([[nan,  1.,  1.,  1.,  1.],\n",
       "       [ 1.,  1.,  1.,  1.,  1.]])"
      ]
     },
     "execution_count": 234,
     "metadata": {},
     "output_type": "execute_result"
    }
   ],
   "source": [
    "np.divide(a, a)"
   ]
  },
  {
   "cell_type": "code",
   "execution_count": 29,
   "metadata": {
    "collapsed": true,
    "jupyter": {
     "outputs_hidden": true
    },
    "tags": []
   },
   "outputs": [
    {
     "data": {
      "text/plain": [
       "[('InteractiveShell', 65),\n",
       " ('missing_airports', 65),\n",
       " ('present_airports', 65),\n",
       " ('weight_thresh', 62),\n",
       " ('__builtins__', 61),\n",
       " ('__builtin__', 60),\n",
       " ('__package__', 60),\n",
       " ('get_ipython', 60),\n",
       " ('pair_counts', 60),\n",
       " ('__loader__', 59),\n",
       " ('_exit_code', 59),\n",
       " ('generation', 59),\n",
       " ('__name__', 57),\n",
       " ('__spec__', 57),\n",
       " ('adf_mini', 57),\n",
       " ('airports', 57),\n",
       " ('distance', 57),\n",
       " ('dists_np', 57),\n",
       " ('plotting', 57),\n",
       " ('unif_mat', 57),\n",
       " ('__doc__', 56),\n",
       " ('gthresh', 56),\n",
       " ('weights', 56),\n",
       " ('g_girg', 55),\n",
       " ('thresh', 55),\n",
       " ('weight', 55),\n",
       " ('alpha', 54),\n",
       " ('const', 54),\n",
       " ('count', 54),\n",
       " ('dists', 54),\n",
       " ('edges', 54),\n",
       " ('outer', 54),\n",
       " ('utils', 54),\n",
       " ('_i10', 53),\n",
       " ('_i11', 53),\n",
       " ('_i12', 53),\n",
       " ('_i13', 53),\n",
       " ('_i14', 53),\n",
       " ('_i15', 53),\n",
       " ('_i16', 53),\n",
       " ('_i17', 53),\n",
       " ('_i18', 53),\n",
       " ('_i19', 53),\n",
       " ('_i20', 53),\n",
       " ('_i21', 53),\n",
       " ('_i22', 53),\n",
       " ('_i23', 53),\n",
       " ('_i24', 53),\n",
       " ('_i25', 53),\n",
       " ('_i26', 53),\n",
       " ('_i27', 53),\n",
       " ('_i28', 53),\n",
       " ('_i29', 53),\n",
       " ('_iii', 53),\n",
       " ('exit', 53),\n",
       " ('glob', 53),\n",
       " ('open', 53),\n",
       " ('p_uv', 53),\n",
       " ('pair', 53),\n",
       " ('quit', 53),\n",
       " ('tqdm', 53),\n",
       " ('u_id', 53),\n",
       " ('v_id', 53),\n",
       " ('Out', 52),\n",
       " ('_14', 52),\n",
       " ('_17', 52),\n",
       " ('_18', 52),\n",
       " ('_19', 52),\n",
       " ('_21', 52),\n",
       " ('___', 52),\n",
       " ('_dh', 52),\n",
       " ('_i1', 52),\n",
       " ('_i2', 52),\n",
       " ('_i3', 52),\n",
       " ('_i4', 52),\n",
       " ('_i5', 52),\n",
       " ('_i6', 52),\n",
       " ('_i7', 52),\n",
       " ('_i8', 52),\n",
       " ('_i9', 52),\n",
       " ('_ih', 52),\n",
       " ('_ii', 52),\n",
       " ('_oh', 52),\n",
       " ('adf', 52),\n",
       " ('gpd', 52),\n",
       " ('plt', 52),\n",
       " ('sys', 52),\n",
       " ('tau', 52),\n",
       " ('In', 51),\n",
       " ('_3', 51),\n",
       " ('_5', 51),\n",
       " ('__', 51),\n",
       " ('_i', 51),\n",
       " ('df', 51),\n",
       " ('fn', 51),\n",
       " ('nk', 51),\n",
       " ('np', 51),\n",
       " ('nx', 51),\n",
       " ('os', 51),\n",
       " ('pd', 51),\n",
       " ('_', 50),\n",
       " ('a', 50),\n",
       " ('b', 50),\n",
       " ('d', 50),\n",
       " ('g', 50),\n",
       " ('n', 50),\n",
       " ('u', 50),\n",
       " ('v', 50)]"
      ]
     },
     "execution_count": 29,
     "metadata": {},
     "output_type": "execute_result"
    }
   ],
   "source": [
    "import sys; sorted([(x, sys.getsizeof(x)) for x in dir()], key=lambda x: x[1], reverse=True)"
   ]
  },
  {
   "cell_type": "code",
   "execution_count": 31,
   "metadata": {},
   "outputs": [],
   "source": [
    "# These are the usual ipython objects, including this one you are creating\n",
    "ipython_vars = ['In', 'Out', 'exit', 'quit', 'get_ipython', 'ipython_vars']\n",
    "\n",
    "# Get a sorted list of the objects and their sizes\n",
    "memories = sorted([(x, sys.getsizeof(globals().get(x))) for x in dir() if not x.startswith('_') and x not in sys.modules and x not in ipython_vars], key=lambda x: x[1], reverse=True)"
   ]
  },
  {
   "cell_type": "code",
   "execution_count": 33,
   "metadata": {},
   "outputs": [
    {
     "data": {
      "text/plain": [
       "[('dists', 852153265),\n",
       " ('dists_np', 851524040),\n",
       " ('edges', 851524040),\n",
       " ('outer', 851524040),\n",
       " ('p_uv', 851524040),\n",
       " ('unif_mat', 851524040),\n",
       " ('df', 643231735),\n",
       " ('adf', 38647172),\n",
       " ('pair_counts', 28232080),\n",
       " ('adf_mini', 7046457),\n",
       " ('airports', 87616),\n",
       " ('present_airports', 87616),\n",
       " ('weights', 82648),\n",
       " ('missing_airports', 2264),\n",
       " ('InteractiveShell', 1064)]"
      ]
     },
     "execution_count": 33,
     "metadata": {},
     "output_type": "execute_result"
    }
   ],
   "source": [
    "memories[:15]"
   ]
  },
  {
   "cell_type": "code",
   "execution_count": 199,
   "metadata": {},
   "outputs": [],
   "source": [
    "delta = 0.001\n",
    "degrees = np.array([gthresh.degree(i) for i in range(gthresh.numberOfNodes())]).astype(np.float64)\n",
    "degrees[degrees == 0] += delta\n",
    "weights = degrees / len(degrees)"
   ]
  },
  {
   "cell_type": "code",
   "execution_count": 237,
   "metadata": {},
   "outputs": [
    {
     "name": "stdout",
     "output_type": "stream",
     "text": [
      "percs_true_median: 0.40405073649754497, avg_degree_true: 25.337598138993894\n"
     ]
    },
    {
     "name": "stderr",
     "output_type": "stream",
     "text": [
      "/Users/benjidayan/GDrive/eth_courses/GIRG/benji_src/../benji_src/benji_girgs/utils.py:324: RuntimeWarning: divide by zero encountered in divide\n",
      "  self.p_uv_initial = np.nan_to_num(outer / self.dists**self.d)\n"
     ]
    },
    {
     "name": "stdout",
     "output_type": "stream",
     "text": [
      "log_likelihood: -1.0528e+06, gradient_c: -1.6901e+04, gradient_alpha: -4.4320e+05\n",
      "g_girg avg deg: 19.24, g_true avg deg 25.34\n",
      "alpha: - c: - \n",
      "alpha: 1.070, const: 4.9000e-01\n",
      "log_likelihood: -1.0607e+06, gradient_c: 2.3069e+05, gradient_alpha: -5.0455e+05\n",
      "g_girg avg deg: 14.09, g_true avg deg 25.34\n",
      "alpha: - c: + \n",
      "alpha: 1.051, const: 6.7257e-01\n",
      "log_likelihood: -1.0317e+06, gradient_c: -3.8207e+03, gradient_alpha: -4.0432e+05\n",
      "g_girg avg deg: 19.86, g_true avg deg 25.34\n",
      "alpha: - c: - \n",
      "alpha: 1.038, const: 5.0737e-01\n"
     ]
    }
   ],
   "source": [
    "asdf = utils.AirportLikelihoodGirgFitter(weights, dists_np, gthresh)\n",
    "asdf.num_edges=3000\n",
    "asdf.alpha=1.1\n",
    "asdf.const=0.7\n",
    "self = asdf\n",
    "\n",
    "for _ in range(3):\n",
    "    asdf.step()\n",
    "    # asdf.alpha = 1.001"
   ]
  },
  {
   "cell_type": "code",
   "execution_count": 238,
   "metadata": {},
   "outputs": [
    {
     "name": "stdout",
     "output_type": "stream",
     "text": [
      "percs_true_median: 0.40103092783505156, avg_degree_true: 25.337598138993894\n"
     ]
    }
   ],
   "source": [
    "asdf = utils.AirportLikelihoodGirgFitter(weights, dists_np, gthresh)\n",
    "asdf.num_edges=3000\n",
    "asdf.alpha=1.001\n",
    "asdf.const=0.7\n",
    "self = asdf\n",
    "\n",
    "g_girg = asdf.gen_new_girg()"
   ]
  },
  {
   "cell_type": "code",
   "execution_count": 203,
   "metadata": {},
   "outputs": [
    {
     "name": "stdout",
     "output_type": "stream",
     "text": [
      "Network Properties:\n",
      "nodes, edges\t\t\t10317, 115219\n",
      "directed?\t\t\tFalse\n",
      "weighted?\t\t\tFalse\n",
      "isolated nodes\t\t\t1440\n",
      "self-loops\t\t\t0\n",
      "density\t\t\t\t0.002165\n",
      "clustering coefficient\t\t0.202145\n",
      "min/max/avg degree\t\t0, 533, 22.335757\n",
      "degree assortativity\t\t0.018762\n",
      "number of connected components\t1494\n",
      "size of largest component\t8703 (84.36 %)\n"
     ]
    }
   ],
   "source": [
    "nk.overview(g_girg)"
   ]
  },
  {
   "cell_type": "code",
   "execution_count": 204,
   "metadata": {},
   "outputs": [
    {
     "name": "stdout",
     "output_type": "stream",
     "text": [
      "Network Properties:\n",
      "nodes, edges\t\t\t10317, 130704\n",
      "directed?\t\t\tFalse\n",
      "weighted?\t\t\tFalse\n",
      "isolated nodes\t\t\t15\n",
      "self-loops\t\t\t0\n",
      "density\t\t\t\t0.002456\n",
      "clustering coefficient\t\t0.369664\n",
      "min/max/avg degree\t\t0, 864, 25.337598\n",
      "degree assortativity\t\t-0.013060\n",
      "number of connected components\t29\n",
      "size of largest component\t10274 (99.58 %)\n"
     ]
    }
   ],
   "source": [
    "nk.overview(asdf.g_true)"
   ]
  },
  {
   "cell_type": "code",
   "execution_count": 194,
   "metadata": {},
   "outputs": [],
   "source": [
    "def compare_two_graphs(g1, g2):\n",
    "    \"\"\"Compare two graphs, g1 and g2, by computing the fraction of edges that are\n",
    "    in g1 but not in g2, and vice versa. This is a symmetric measure.\"\"\"\n",
    "    edges1 = set()\n",
    "    for u in range(g1.numberOfNodes()):\n",
    "        for v in g1.iterNeighbors(u):\n",
    "            edges1.add((min(u, v), max(u, v)))\n",
    "    edges2 = set()\n",
    "    for u in range(g2.numberOfNodes()):\n",
    "        for v in g2.iterNeighbors(u):\n",
    "            edges2.add((min(u, v), max(u, v)))\n",
    "    return len(edges1 - edges2) / len(edges1), len(edges2 - edges1) / len(edges2)"
   ]
  },
  {
   "cell_type": "code",
   "execution_count": 239,
   "metadata": {},
   "outputs": [
    {
     "name": "stdout",
     "output_type": "stream",
     "text": [
      "22.25433750121159 25.337598138993894\n"
     ]
    },
    {
     "data": {
      "text/plain": [
       "(0.761243564839415, 0.7902971599951034)"
      ]
     },
     "execution_count": 239,
     "metadata": {},
     "output_type": "execute_result"
    }
   ],
   "source": [
    "print(utils.avg_degree(g_girg), utils.avg_degree(asdf.g_true))\n",
    "compare_two_graphs(g_girg, asdf.g_true)"
   ]
  },
  {
   "cell_type": "code",
   "execution_count": 209,
   "metadata": {},
   "outputs": [
    {
     "name": "stdout",
     "output_type": "stream",
     "text": [
      "Network Properties:\n",
      "nodes, edges\t\t\t10317, 130704\n",
      "directed?\t\t\tFalse\n",
      "weighted?\t\t\tFalse\n",
      "isolated nodes\t\t\t15\n",
      "self-loops\t\t\t0\n",
      "density\t\t\t\t0.002456\n",
      "clustering coefficient\t\t0.369664\n",
      "min/max/avg degree\t\t0, 864, 25.337598\n",
      "degree assortativity\t\t-0.013060\n",
      "number of connected components\t29\n",
      "size of largest component\t10274 (99.58 %)\n",
      "Network Properties:\n",
      "nodes, edges\t\t\t10317, 115219\n",
      "directed?\t\t\tFalse\n",
      "weighted?\t\t\tFalse\n",
      "isolated nodes\t\t\t1440\n",
      "self-loops\t\t\t0\n",
      "density\t\t\t\t0.002165\n",
      "clustering coefficient\t\t0.202145\n",
      "min/max/avg degree\t\t0, 533, 22.335757\n",
      "degree assortativity\t\t0.018762\n",
      "number of connected components\t1494\n",
      "size of largest component\t8703 (84.36 %)\n",
      "Network Properties:\n",
      "nodes, edges\t\t\t10317, 130769\n",
      "directed?\t\t\tFalse\n",
      "weighted?\t\t\tFalse\n",
      "isolated nodes\t\t\t0\n",
      "self-loops\t\t\t0\n",
      "density\t\t\t\t0.002457\n",
      "clustering coefficient\t\t0.002409\n",
      "min/max/avg degree\t\t8, 46, 25.350199\n",
      "degree assortativity\t\t0.000630\n",
      "number of connected components\t1\n",
      "size of largest component\t10317 (100.00 %)\n"
     ]
    }
   ],
   "source": [
    "nk.overview(asdf.g_true)\n",
    "p = 25.3 / 10317\n",
    "gerdos = nk.generators.ErdosRenyiGenerator(10317, p)\n",
    "g_erdos = gerdos.generate()\n",
    "nk.overview(g_girg)\n",
    "nk.overview(g_erdos)"
   ]
  },
  {
   "cell_type": "code",
   "execution_count": 240,
   "metadata": {},
   "outputs": [
    {
     "name": "stdout",
     "output_type": "stream",
     "text": [
      "25.337598138993894 25.350198701172822\n"
     ]
    },
    {
     "data": {
      "text/plain": [
       "(0.9974752111641572, 0.9974764661349402)"
      ]
     },
     "execution_count": 240,
     "metadata": {},
     "output_type": "execute_result"
    }
   ],
   "source": [
    "print(utils.avg_degree(gthresh), utils.avg_degree(g_erdos))\n",
    "compare_two_graphs(gthresh, g_erdos)"
   ]
  },
  {
   "cell_type": "code",
   "execution_count": 263,
   "metadata": {},
   "outputs": [
    {
     "data": {
      "text/plain": [
       "25.630900455558788"
      ]
     },
     "execution_count": 263,
     "metadata": {},
     "output_type": "execute_result"
    }
   ],
   "source": [
    "# target is about 25.3\n",
    "(np.sum(dists_np < 0.0041)  - 10317) / 10317"
   ]
  },
  {
   "cell_type": "code",
   "execution_count": 264,
   "metadata": {},
   "outputs": [],
   "source": [
    "adj_temp = (dists_np < 0.0041).astype(np.int64)\n",
    "np.fill_diagonal(adj_temp, 0)\n",
    "ggeom = nk.nxadapter.nx2nk(nx.from_numpy_array(adj_temp))"
   ]
  },
  {
   "cell_type": "code",
   "execution_count": 265,
   "metadata": {},
   "outputs": [
    {
     "name": "stdout",
     "output_type": "stream",
     "text": [
      "25.337598138993894 25.630900455558788\n"
     ]
    },
    {
     "data": {
      "text/plain": [
       "(0.8558881136001959, 0.8575372304620434)"
      ]
     },
     "execution_count": 265,
     "metadata": {},
     "output_type": "execute_result"
    }
   ],
   "source": [
    "print(utils.avg_degree(gthresh), utils.avg_degree(ggeom))\n",
    "compare_two_graphs(gthresh, ggeom)"
   ]
  },
  {
   "cell_type": "code",
   "execution_count": 266,
   "metadata": {},
   "outputs": [
    {
     "name": "stderr",
     "output_type": "stream",
     "text": [
      "/Users/benjidayan/GDrive/eth_courses/GIRG/benji_src/../benji_src/benji_girgs/utils.py:312: FutureWarning: adjacency_matrix will return a scipy.sparse array instead of a matrix in Networkx 3.0.\n",
      "  self.A_true = nx.adjacency_matrix(nk.nxadapter.nk2nx(g_true)).toarray()\n"
     ]
    },
    {
     "name": "stdout",
     "output_type": "stream",
     "text": [
      "percs_true_median: 0.40096618357487923, avg_degree_true: 25.337598138993894\n"
     ]
    },
    {
     "name": "stderr",
     "output_type": "stream",
     "text": [
      "/Users/benjidayan/GDrive/eth_courses/GIRG/benji_src/../benji_src/benji_girgs/utils.py:324: RuntimeWarning: divide by zero encountered in divide\n",
      "  self.p_uv_initial = np.nan_to_num(outer / self.dists**self.d)\n"
     ]
    }
   ],
   "source": [
    "asdf = utils.AirportLikelihoodGirgFitter(weights, dists_np, gthresh)\n",
    "asdf.num_edges=3000\n",
    "asdf.alpha=0.85\n",
    "asdf.const=0.7\n",
    "self = asdf\n",
    "\n",
    "g_girg = asdf.gen_new_girg()"
   ]
  },
  {
   "cell_type": "code",
   "execution_count": 267,
   "metadata": {},
   "outputs": [
    {
     "name": "stdout",
     "output_type": "stream",
     "text": [
      "30.14946205292236 25.337598138993894\n"
     ]
    },
    {
     "data": {
      "text/plain": [
       "(0.8116327816570863, 0.7758599583792386)"
      ]
     },
     "execution_count": 267,
     "metadata": {},
     "output_type": "execute_result"
    }
   ],
   "source": [
    "print(utils.avg_degree(g_girg), utils.avg_degree(gthresh))\n",
    "compare_two_graphs(g_girg, gthresh)"
   ]
  },
  {
   "cell_type": "code",
   "execution_count": 284,
   "metadata": {},
   "outputs": [
    {
     "name": "stdout",
     "output_type": "stream",
     "text": [
      "alpha: 0.800; const: 0.515\n",
      "avg degrees: 25.077, 25.338\n",
      "girg missing %: 0.829, true missing %: 0.831\n",
      "alpha: 0.850; const: 0.576\n",
      "avg degrees: 24.748, 25.338\n",
      "girg missing %: 0.810, true missing %: 0.814\n",
      "alpha: 0.900; const: 0.638\n",
      "avg degrees: 24.463, 25.338\n",
      "girg missing %: 0.793, true missing %: 0.800\n",
      "alpha: 0.950; const: 0.699\n",
      "avg degrees: 24.293, 25.338\n",
      "girg missing %: 0.778, true missing %: 0.787\n",
      "alpha: 1.000; const: 0.760\n",
      "avg degrees: 24.246, 25.338\n",
      "girg missing %: 0.763, true missing %: 0.773\n",
      "alpha: 1.050; const: 0.821\n",
      "avg degrees: 24.185, 25.338\n",
      "girg missing %: 0.750, true missing %: 0.761\n",
      "alpha: 1.100; const: 0.882\n",
      "avg degrees: 24.305, 25.338\n",
      "girg missing %: 0.736, true missing %: 0.747\n",
      "alpha: 1.150; const: 0.943\n",
      "avg degrees: 24.509, 25.338\n",
      "girg missing %: 0.726, true missing %: 0.735\n",
      "alpha: 1.200; const: 1.005\n",
      "avg degrees: 24.619, 25.338\n",
      "girg missing %: 0.716, true missing %: 0.724\n",
      "alpha: 1.250; const: 1.066\n",
      "avg degrees: 24.309, 25.338\n",
      "girg missing %: 0.710, true missing %: 0.721\n"
     ]
    }
   ],
   "source": [
    "alphas = np.arange(0.8, 1.3, step=0.05)\n",
    "consts = np.linspace(0.7* 16/25 * 1.15, 0.7*35/25 * 1.15, 11)\n",
    "for alpha, const in zip(alphas, consts):\n",
    "    asdf.alpha = alpha\n",
    "    asdf.const = const\n",
    "    g_girg = asdf.gen_new_girg()\n",
    "    print(f'alpha: {alpha:.3f}; const: {const:.3f}')\n",
    "    print(f'avg degrees: {utils.avg_degree(g_girg):.3f}, {utils.avg_degree(gthresh):.3f}')\n",
    "    a, b = compare_two_graphs(g_girg, gthresh)\n",
    "    print(f'girg missing %: {a:.3f}, true missing %: {b:.3f}')"
   ]
  },
  {
   "cell_type": "code",
   "execution_count": 285,
   "metadata": {},
   "outputs": [
    {
     "name": "stdout",
     "output_type": "stream",
     "text": [
      "alpha: 1.000; const: 0.805\n",
      "avg degrees: 25.747, 25.338\n",
      "girg missing %: 0.764, true missing %: 0.761\n",
      "alpha: 1.050; const: 0.869\n",
      "avg degrees: 25.663, 25.338\n",
      "girg missing %: 0.750, true missing %: 0.747\n",
      "alpha: 1.100; const: 0.934\n",
      "avg degrees: 25.742, 25.338\n",
      "girg missing %: 0.737, true missing %: 0.732\n",
      "alpha: 1.150; const: 0.998\n",
      "avg degrees: 25.852, 25.338\n",
      "girg missing %: 0.725, true missing %: 0.720\n",
      "alpha: 1.200; const: 1.063\n",
      "avg degrees: 25.395, 25.338\n",
      "girg missing %: 0.718, true missing %: 0.718\n",
      "alpha: 1.250; const: 1.127\n",
      "avg degrees: 25.006, 25.338\n",
      "girg missing %: 0.712, true missing %: 0.716\n",
      "alpha: 1.300; const: 1.191\n",
      "avg degrees: 24.564, 25.338\n",
      "girg missing %: 0.708, true missing %: 0.717\n",
      "alpha: 1.350; const: 1.256\n",
      "avg degrees: 24.209, 25.338\n",
      "girg missing %: 0.703, true missing %: 0.716\n",
      "alpha: 1.400; const: 1.320\n",
      "avg degrees: 23.837, 25.338\n",
      "girg missing %: 0.699, true missing %: 0.716\n",
      "alpha: 1.450; const: 1.385\n",
      "avg degrees: 23.510, 25.338\n",
      "girg missing %: 0.693, true missing %: 0.715\n"
     ]
    }
   ],
   "source": [
    "alphas = np.arange(1.0, 1.5, step=0.05)\n",
    "consts = np.linspace(0.7*1.15, 0.7*45/25 * 1.15, 11)\n",
    "for alpha, const in zip(alphas, consts):\n",
    "    asdf.alpha = alpha\n",
    "    asdf.const = const\n",
    "    g_girg = asdf.gen_new_girg()\n",
    "    print(f'alpha: {alpha:.3f}; const: {const:.3f}')\n",
    "    print(f'avg degrees: {utils.avg_degree(g_girg):.3f}, {utils.avg_degree(gthresh):.3f}')\n",
    "    a, b = compare_two_graphs(g_girg, gthresh)\n",
    "    print(f'girg missing %: {a:.3f}, true missing %: {b:.3f}')"
   ]
  },
  {
   "cell_type": "code",
   "execution_count": 290,
   "metadata": {},
   "outputs": [
    {
     "name": "stdout",
     "output_type": "stream",
     "text": [
      "alpha: 1.300; const: 1.274\n",
      "avg degrees: 25.522, 25.338\n",
      "girg missing %: 0.712, true missing %: 0.710\n",
      "alpha: 1.367; const: 1.456\n",
      "avg degrees: 25.861, 25.338\n",
      "girg missing %: 0.709, true missing %: 0.703\n",
      "alpha: 1.433; const: 1.638\n",
      "avg degrees: 25.999, 25.338\n",
      "girg missing %: 0.707, true missing %: 0.699\n",
      "alpha: 1.500; const: 1.820\n",
      "avg degrees: 25.955, 25.338\n",
      "girg missing %: 0.704, true missing %: 0.697\n",
      "alpha: 1.567; const: 2.002\n",
      "avg degrees: 25.928, 25.338\n",
      "girg missing %: 0.703, true missing %: 0.696\n",
      "alpha: 1.633; const: 2.184\n",
      "avg degrees: 25.700, 25.338\n",
      "girg missing %: 0.696, true missing %: 0.692\n",
      "alpha: 1.700; const: 2.366\n",
      "avg degrees: 25.532, 25.338\n",
      "girg missing %: 0.695, true missing %: 0.693\n",
      "alpha: 1.767; const: 2.548\n",
      "avg degrees: 25.198, 25.338\n",
      "girg missing %: 0.693, true missing %: 0.694\n",
      "alpha: 1.833; const: 2.730\n",
      "avg degrees: 24.966, 25.338\n",
      "girg missing %: 0.689, true missing %: 0.693\n",
      "alpha: 1.900; const: 2.912\n",
      "avg degrees: 24.665, 25.338\n",
      "girg missing %: 0.686, true missing %: 0.695\n"
     ]
    }
   ],
   "source": [
    "alphas = np.linspace(1.3, 1.9, 10)\n",
    "consts = np.linspace(0.7*1.3*35/25 , 0.7*80/25 * 1.3, 10)\n",
    "for alpha, const in zip(alphas, consts):\n",
    "    asdf.alpha = alpha\n",
    "    asdf.const = const\n",
    "    g_girg = asdf.gen_new_girg()\n",
    "    print(f'alpha: {alpha:.3f}; const: {const:.3f}')\n",
    "    print(f'avg degrees: {utils.avg_degree(g_girg):.3f}, {utils.avg_degree(gthresh):.3f}')\n",
    "    a, b = compare_two_graphs(g_girg, gthresh)\n",
    "    print(f'girg missing %: {a:.3f}, true missing %: {b:.3f}')"
   ]
  },
  {
   "cell_type": "code",
   "execution_count": 298,
   "metadata": {},
   "outputs": [
    {
     "name": "stdout",
     "output_type": "stream",
     "text": [
      "alpha: 1.800; const: 2.800\n",
      "avg degrees: 25.724, 25.338\n",
      "girg missing %: 0.695, true missing %: 0.691\n",
      "alpha: 1.837; const: 2.962\n",
      "avg degrees: 25.746, 25.338\n",
      "girg missing %: 0.694, true missing %: 0.689\n",
      "alpha: 1.874; const: 3.124\n",
      "avg degrees: 25.685, 25.338\n",
      "girg missing %: 0.693, true missing %: 0.688\n",
      "alpha: 1.911; const: 3.286\n",
      "avg degrees: 25.768, 25.338\n",
      "girg missing %: 0.692, true missing %: 0.687\n",
      "alpha: 1.947; const: 3.448\n",
      "avg degrees: 25.684, 25.338\n",
      "girg missing %: 0.691, true missing %: 0.686\n",
      "alpha: 1.984; const: 3.611\n",
      "avg degrees: 25.646, 25.338\n",
      "girg missing %: 0.690, true missing %: 0.686\n",
      "alpha: 2.021; const: 3.773\n",
      "avg degrees: 25.541, 25.338\n",
      "girg missing %: 0.690, true missing %: 0.688\n",
      "alpha: 2.058; const: 3.935\n",
      "avg degrees: 25.404, 25.338\n",
      "girg missing %: 0.688, true missing %: 0.688\n",
      "alpha: 2.095; const: 4.097\n",
      "avg degrees: 25.360, 25.338\n",
      "girg missing %: 0.688, true missing %: 0.688\n",
      "alpha: 2.132; const: 4.259\n",
      "avg degrees: 25.243, 25.338\n",
      "girg missing %: 0.686, true missing %: 0.687\n",
      "alpha: 2.168; const: 4.421\n",
      "avg degrees: 25.192, 25.338\n",
      "girg missing %: 0.687, true missing %: 0.689\n",
      "alpha: 2.205; const: 4.583\n",
      "avg degrees: 25.074, 25.338\n",
      "girg missing %: 0.686, true missing %: 0.689\n",
      "alpha: 2.242; const: 4.745\n",
      "avg degrees: 24.941, 25.338\n",
      "girg missing %: 0.684, true missing %: 0.689\n",
      "alpha: 2.279; const: 4.907\n",
      "avg degrees: 24.823, 25.338\n",
      "girg missing %: 0.683, true missing %: 0.689\n",
      "alpha: 2.316; const: 5.069\n",
      "avg degrees: 24.599, 25.338\n",
      "girg missing %: 0.681, true missing %: 0.690\n",
      "alpha: 2.353; const: 5.232\n",
      "avg degrees: 24.530, 25.338\n",
      "girg missing %: 0.680, true missing %: 0.691\n",
      "alpha: 2.389; const: 5.394\n",
      "avg degrees: 24.412, 25.338\n",
      "girg missing %: 0.679, true missing %: 0.691\n",
      "alpha: 2.426; const: 5.556\n",
      "avg degrees: 24.238, 25.338\n",
      "girg missing %: 0.677, true missing %: 0.691\n",
      "alpha: 2.463; const: 5.718\n",
      "avg degrees: 24.174, 25.338\n",
      "girg missing %: 0.677, true missing %: 0.692\n",
      "alpha: 2.500; const: 5.880\n",
      "avg degrees: 24.029, 25.338\n",
      "girg missing %: 0.677, true missing %: 0.694\n"
     ]
    }
   ],
   "source": [
    "alphas = np.linspace(1.8, 2.5, 20)\n",
    "consts = np.linspace(0.7*4, 0.7*4 * 2.1, 20)\n",
    "for alpha, const in zip(alphas, consts):\n",
    "    asdf.alpha = alpha\n",
    "    asdf.const = const\n",
    "    g_girg = asdf.gen_new_girg()\n",
    "    print(f'alpha: {alpha:.3f}; const: {const:.3f}')\n",
    "    print(f'avg degrees: {utils.avg_degree(g_girg):.3f}, {utils.avg_degree(gthresh):.3f}')\n",
    "    a, b = compare_two_graphs(g_girg, gthresh)\n",
    "    print(f'girg missing %: {a:.3f}, true missing %: {b:.3f}')"
   ]
  },
  {
   "cell_type": "code",
   "execution_count": 305,
   "metadata": {},
   "outputs": [
    {
     "name": "stdout",
     "output_type": "stream",
     "text": [
      "alpha: 1.900; const: 3.150\n",
      "avg degrees: 25.447, 25.338\n",
      "girg missing %: 0.6900, true missing %: 0.6886\n",
      "alpha: 1.921; const: 3.262\n",
      "avg degrees: 25.523, 25.338\n",
      "girg missing %: 0.6907, true missing %: 0.6884\n",
      "alpha: 1.943; const: 3.375\n",
      "avg degrees: 25.516, 25.338\n",
      "girg missing %: 0.6899, true missing %: 0.6877\n",
      "alpha: 1.964; const: 3.487\n",
      "avg degrees: 25.579, 25.338\n",
      "girg missing %: 0.6908, true missing %: 0.6878\n",
      "alpha: 1.986; const: 3.600\n",
      "avg degrees: 25.638, 25.338\n",
      "girg missing %: 0.6902, true missing %: 0.6865\n",
      "alpha: 2.007; const: 3.712\n",
      "avg degrees: 25.585, 25.338\n",
      "girg missing %: 0.6896, true missing %: 0.6866\n",
      "alpha: 2.029; const: 3.825\n",
      "avg degrees: 25.498, 25.338\n",
      "girg missing %: 0.6892, true missing %: 0.6872\n",
      "alpha: 2.050; const: 3.938\n",
      "avg degrees: 25.574, 25.338\n",
      "girg missing %: 0.6888, true missing %: 0.6859\n",
      "alpha: 2.071; const: 4.050\n",
      "avg degrees: 25.512, 25.338\n",
      "girg missing %: 0.6884, true missing %: 0.6863\n",
      "alpha: 2.093; const: 4.162\n",
      "avg degrees: 25.555, 25.338\n",
      "girg missing %: 0.6877, true missing %: 0.6850\n",
      "alpha: 2.114; const: 4.275\n",
      "avg degrees: 25.480, 25.338\n",
      "girg missing %: 0.6872, true missing %: 0.6854\n",
      "alpha: 2.136; const: 4.387\n",
      "avg degrees: 25.501, 25.338\n",
      "girg missing %: 0.6882, true missing %: 0.6861\n",
      "alpha: 2.157; const: 4.500\n",
      "avg degrees: 25.449, 25.338\n",
      "girg missing %: 0.6871, true missing %: 0.6858\n",
      "alpha: 2.179; const: 4.612\n",
      "avg degrees: 25.376, 25.338\n",
      "girg missing %: 0.6852, true missing %: 0.6847\n",
      "alpha: 2.200; const: 4.725\n",
      "avg degrees: 25.351, 25.338\n",
      "girg missing %: 0.6856, true missing %: 0.6855\n"
     ]
    }
   ],
   "source": [
    "alphas = np.linspace(1.9, 2.2, 15)\n",
    "consts = np.linspace(0.7*4.5, 0.7*4.5 * 1.5, 15)\n",
    "for alpha, const in zip(alphas, consts):\n",
    "    asdf.alpha = alpha\n",
    "    asdf.const = const\n",
    "    g_girg = asdf.gen_new_girg()\n",
    "    print(f'alpha: {alpha:.3f}; const: {const:.3f}')\n",
    "    print(f'avg degrees: {utils.avg_degree(g_girg):.3f}, {utils.avg_degree(gthresh):.3f}')\n",
    "    a, b = compare_two_graphs(g_girg, gthresh)\n",
    "    print(f'girg missing %: {a:.4f}, true missing %: {b:.4f}')"
   ]
  },
  {
   "cell_type": "code",
   "execution_count": 311,
   "metadata": {},
   "outputs": [
    {
     "name": "stdout",
     "output_type": "stream",
     "text": [
      "alpha: 3.000; const: 13.000\n",
      "avg degrees: 25.053, 25.338\n",
      "girg missing %: 0.6795, true missing %: 0.6831\n"
     ]
    }
   ],
   "source": [
    "asdf.alpha = 3.0\n",
    "asdf.const = 13.0\n",
    "g_girg = asdf.gen_new_girg()\n",
    "print(f'alpha: {asdf.alpha:.3f}; const: {asdf.const:.3f}')\n",
    "print(f'avg degrees: {utils.avg_degree(g_girg):.3f}, {utils.avg_degree(gthresh):.3f}')\n",
    "a, b = compare_two_graphs(g_girg, gthresh)\n",
    "print(f'girg missing %: {a:.4f}, true missing %: {b:.4f}')"
   ]
  },
  {
   "cell_type": "code",
   "execution_count": 316,
   "metadata": {},
   "outputs": [
    {
     "name": "stdout",
     "output_type": "stream",
     "text": [
      "alpha: 10.000; const: 100000.000\n",
      "avg degrees: 25.510, 25.338\n",
      "girg missing %: 0.6777, true missing %: 0.6755\n"
     ]
    }
   ],
   "source": [
    "asdf.alpha = 10.0\n",
    "asdf.const = 100000.0\n",
    "g_girg = asdf.gen_new_girg()\n",
    "print(f'alpha: {asdf.alpha:.3f}; const: {asdf.const:.3f}')\n",
    "print(f'avg degrees: {utils.avg_degree(g_girg):.3f}, {utils.avg_degree(gthresh):.3f}')\n",
    "a, b = compare_two_graphs(g_girg, gthresh)\n",
    "print(f'girg missing %: {a:.4f}, true missing %: {b:.4f}')"
   ]
  },
  {
   "cell_type": "code",
   "execution_count": 326,
   "metadata": {},
   "outputs": [
    {
     "name": "stdout",
     "output_type": "stream",
     "text": [
      "alpha: 100.000; const: 1000000000000000078291540404596243842305360299886116864.000\n",
      "avg degrees: 25.439, 25.338\n",
      "girg missing %: 0.6768, true missing %: 0.6755\n",
      "log likelihood: -5646930.6159\n"
     ]
    }
   ],
   "source": [
    "asdf.alpha = 100.0\n",
    "asdf.const = 1e54\n",
    "g_girg = asdf.gen_new_girg()\n",
    "print(f'alpha: {asdf.alpha:.3f}; const: {asdf.const:.3f}')\n",
    "print(f'avg degrees: {utils.avg_degree(g_girg):.3f}, {utils.avg_degree(gthresh):.3f}')\n",
    "a, b = compare_two_graphs(g_girg, gthresh)\n",
    "print(f'girg missing %: {a:.4f}, true missing %: {b:.4f}')\n",
    "log_like, _, _ = asdf.log_likelihood()\n",
    "print(f'log likelihood: {log_like:.4f}')"
   ]
  },
  {
   "cell_type": "code",
   "execution_count": 328,
   "metadata": {},
   "outputs": [
    {
     "name": "stdout",
     "output_type": "stream",
     "text": [
      "alpha: 0.900; const: 0.650\n",
      "avg degrees: 25.043, 25.338\n",
      "girg missing %: 0.7940, true missing %: 0.7964\n",
      "log likelihood: -986079.1957\n"
     ]
    }
   ],
   "source": [
    "asdf.alpha = 0.9\n",
    "asdf.const = 0.65\n",
    "g_girg = asdf.gen_new_girg()\n",
    "print(f'alpha: {asdf.alpha:.3f}; const: {asdf.const:.3f}')\n",
    "print(f'avg degrees: {utils.avg_degree(g_girg):.3f}, {utils.avg_degree(gthresh):.3f}')\n",
    "a, b = compare_two_graphs(g_girg, gthresh)\n",
    "print(f'girg missing %: {a:.4f}, true missing %: {b:.4f}')\n",
    "log_like, _, _ = asdf.log_likelihood()\n",
    "print(f'log likelihood: {log_like:.4f}')"
   ]
  },
  {
   "cell_type": "code",
   "execution_count": 331,
   "metadata": {},
   "outputs": [],
   "source": [
    "outer = np.outer(weights, weights)"
   ]
  },
  {
   "cell_type": "code",
   "execution_count": 335,
   "metadata": {},
   "outputs": [
    {
     "name": "stderr",
     "output_type": "stream",
     "text": [
      "/var/folders/60/0t2c_bns6n3c7kjhdk4d4wk80000gn/T/ipykernel_99098/792620200.py:1: RuntimeWarning: divide by zero encountered in divide\n",
      "  rho_uv = outer / dists_np**2\n"
     ]
    }
   ],
   "source": [
    "rho_uv = outer / dists_np**2"
   ]
  },
  {
   "cell_type": "code",
   "execution_count": 346,
   "metadata": {},
   "outputs": [],
   "source": [
    "np.fill_diagonal(rho_uv, 0)"
   ]
  },
  {
   "cell_type": "code",
   "execution_count": 358,
   "metadata": {},
   "outputs": [
    {
     "data": {
      "text/plain": [
       "25.47814287098963"
      ]
     },
     "execution_count": 358,
     "metadata": {},
     "output_type": "execute_result"
    }
   ],
   "source": [
    "np.sum(rho_uv > 0.285) / 10317"
   ]
  },
  {
   "cell_type": "code",
   "execution_count": 360,
   "metadata": {},
   "outputs": [
    {
     "name": "stdout",
     "output_type": "stream",
     "text": [
      "25.337598138993894 25.47814287098963\n"
     ]
    },
    {
     "data": {
      "text/plain": [
       "(0.6752662504590525, 0.677057574812256)"
      ]
     },
     "execution_count": 360,
     "metadata": {},
     "output_type": "execute_result"
    }
   ],
   "source": [
    "adj_temp = (rho_uv > 0.285).astype(np.int64)\n",
    "np.fill_diagonal(adj_temp, 0)\n",
    "ggeom = nk.nxadapter.nx2nk(nx.from_numpy_array(adj_temp))\n",
    "\n",
    "\n",
    "print(utils.avg_degree(gthresh), utils.avg_degree(ggeom))\n",
    "compare_two_graphs(gthresh, ggeom)"
   ]
  },
  {
   "cell_type": "code",
   "execution_count": 345,
   "metadata": {},
   "outputs": [
    {
     "name": "stdout",
     "output_type": "stream",
     "text": [
      "Network Properties:\n",
      "nodes, edges\t\t\t10317, 260025\n",
      "directed?\t\t\tFalse\n",
      "weighted?\t\t\tFalse\n",
      "isolated nodes\t\t\t1441\n",
      "self-loops\t\t\t0\n",
      "density\t\t\t\t0.004886\n",
      "clustering coefficient\t\t0.649119\n",
      "min/max/avg degree\t\t0, 1292, 50.407095\n",
      "degree assortativity\t\t-0.011771\n",
      "number of connected components\t1554\n",
      "size of largest component\t6394 (61.98 %)\n"
     ]
    }
   ],
   "source": [
    "nk.overview(ggeom)"
   ]
  },
  {
   "cell_type": "code",
   "execution_count": null,
   "metadata": {},
   "outputs": [],
   "source": [
    "# target is about 25.3\n",
    "(np.sum(dists_np < 0.0041)  - 10317) / 10317\n",
    "\n",
    "adj_temp = (dists_np < 0.0041).astype(np.int64)\n",
    "np.fill_diagonal(adj_temp, 0)\n",
    "ggeom = nk.nxadapter.nx2nk(nx.from_numpy_array(adj_temp))\n",
    "\n",
    "\n",
    "print(utils.avg_degree(gthresh), utils.avg_degree(ggeom))\n",
    "compare_two_graphs(gthresh, ggeom)"
   ]
  }
 ],
 "metadata": {
  "kernelspec": {
   "display_name": "base",
   "language": "python",
   "name": "python3"
  },
  "language_info": {
   "codemirror_mode": {
    "name": "ipython",
    "version": 3
   },
   "file_extension": ".py",
   "mimetype": "text/x-python",
   "name": "python",
   "nbconvert_exporter": "python",
   "pygments_lexer": "ipython3",
   "version": "3.9.13"
  },
  "toc-autonumbering": true,
  "toc-showcode": true,
  "toc-showmarkdowntxt": false
 },
 "nbformat": 4,
 "nbformat_minor": 4
}
