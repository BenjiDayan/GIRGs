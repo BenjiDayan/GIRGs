{
 "cells": [
  {
   "cell_type": "code",
   "execution_count": 1,
   "metadata": {},
   "outputs": [],
   "source": [
    "resultspath = 'data-paper/3-cleaned_features/results.csv'\n",
    "import pandas as pd\n",
    "import numpy as np\n",
    "\n",
    "df = pd.read_csv(resultspath)\n",
    "\n",
    "foo = list(df.Graph.unique())\n",
    "len(foo)"
   ]
  },
  {
   "cell_type": "code",
   "execution_count": 3,
   "metadata": {},
   "outputs": [
    {
     "data": {
      "text/plain": [
       "True"
      ]
     },
     "execution_count": 3,
     "metadata": {},
     "output_type": "execute_result"
    }
   ],
   "source": [
    "np.all(['-' in x for x in foo])"
   ]
  },
  {
   "cell_type": "code",
   "execution_count": 15,
   "metadata": {},
   "outputs": [
    {
     "data": {
      "text/plain": [
       "'https://nrvis.com/download/data/socfb/socfb-UCF52.zip'"
      ]
     },
     "execution_count": 15,
     "metadata": {},
     "output_type": "execute_result"
    }
   ],
   "source": [
    "prefix = 'https://nrvis.com/download/data'\n",
    "var = 'socfb-UCF52'\n",
    "def f(prefix, var):\n",
    "    var_prefix = var[:var.index('-')]\n",
    "    return f'{prefix}/{var_prefix}/{var}.zip'\n",
    "\n",
    "f(prefix, var)"
   ]
  },
  {
   "cell_type": "code",
   "execution_count": null,
   "metadata": {},
   "outputs": [],
   "source": [
    "import wget\n",
    "import os\n",
    "dirname = 'temp_downloads'\n",
    "os.mkdir(dirname)"
   ]
  },
  {
   "cell_type": "code",
   "execution_count": 24,
   "metadata": {},
   "outputs": [
    {
     "name": "stdout",
     "output_type": "stream",
     "text": [
      "socfb-UCF52\n",
      "socfb-UNC28\n",
      "socfb-Princeton12\n",
      "rec-amazon\n",
      "ia-email-EU-dir\n",
      "socfb-Maryland58\n",
      "socfb-UIllinois\n",
      "soc-gplus\n",
      "bio-yeast-protein-inter\n",
      "inf-USAir97\n",
      "socfb-MIT8\n",
      "socfb-Virginia63\n",
      "socfb-UGA50\n",
      "web-BerkStan-dir\n",
      "rec-github\n",
      "soc-sign-Slashdot090221\n",
      "socfb-WashU32\n",
      "soc-sign-Slashdot090216\n",
      "socfb-Northwestern25\n",
      "socfb-Brandeis99\n",
      "soc-academia\n",
      "tech-RL-caida\n",
      "web-EPA\n",
      "web-google-dir\n",
      "soc-anybeat\n",
      "socfb-Oklahoma97\n",
      "socfb-Michigan23\n",
      "tech-WHOIS\n",
      "bio-diseasome\n",
      "ca-IMDB\n",
      "bio-yeast\n",
      "socfb-Harvard1\n",
      "socfb-Howard90\n",
      "socfb-UCLA26\n",
      "ca-dblp-2010\n",
      "ia-infect-dublin\n",
      "socfb-Mississippi66\n",
      "socfb-UVA16\n",
      "ca-dblp-2012\n",
      "rec-eachmovie\n",
      "ia-wikiquote-user-edits\n",
      "web-BerkStan\n",
      "ca-MathSciNet\n",
      "bio-dmela\n",
      "soc-epinions\n",
      "ia-enron-email-dynamic\n",
      "socfb-Smith60\n",
      "soc-themarker\n",
      "socfb-UC33\n",
      "socfb-UCLA\n",
      "socfb-Williams40\n",
      "socfb-UConn91\n",
      "socfb-CMU\n",
      "socfb-Carnegie49\n",
      "soc-sign-epinions\n",
      "socfb-JohnsHopkins55\n",
      "socfb-wosn-friends\n",
      "ia-dbpedia-team-bi\n",
      "rec-yelp-user-business\n",
      "socfb-JMU79\n",
      "socfb-Tulane29\n",
      "socfb-Pepperdine86\n",
      "soc-wiki-elec\n",
      "socfb-Indiana69\n",
      "socfb-Penn94\n",
      "ca-netscience\n",
      "socfb-Dartmouth6\n",
      "rec-movielens-user-movies-10m\n",
      "socfb-Texas84\n",
      "tech-internet-as\n",
      "socfb-Swarthmore42\n",
      "rec-dating\n",
      "soc-Slashdot0902\n",
      "socfb-Colgate88\n",
      "socfb-UCSB37\n",
      "soc-slashdot-zoo\n",
      "soc-slashdot-trust-all\n",
      "socfb-Bingham82\n",
      "socfb-Tufts18\n",
      "socfb-MSU24\n",
      "socfb-GWU54\n",
      "socfb-UCSC68\n",
      "socfb-Vermont70\n",
      "socfb-Cornell5\n",
      "ca-HepPh\n",
      "socfb-Duke14\n",
      "socfb-Stanford3\n",
      "socfb-FSU53\n",
      "socfb-Trinity100\n",
      "socfb-William77\n",
      "web-indochina-2004\n",
      "soc-Slashdot0811\n",
      "soc-douban\n",
      "ia-fb-messages\n",
      "socfb-UF21\n",
      "socfb-USFCA72\n",
      "web-google\n",
      "soc-LiveMocha\n",
      "socfb-Amherst41\n",
      "socfb-Rochester38\n",
      "socfb-Reed98\n",
      "bn-human-BNU_1_0025889_session_2\n",
      "socfb-NYU9\n",
      "socfb-Bowdoin47\n",
      "socfb-Syracuse56\n",
      "ia-enron-large\n",
      "socfb-USF51\n",
      "socfb-BC17\n",
      "web-arabic-2005\n",
      "socfb-American75\n",
      "socfb-Vassar85\n",
      "socfb-Wesleyan43\n",
      "ca-AstroPh\n",
      "ia-wiki-Talk\n",
      "soc-buzznet\n",
      "ia-email-univ\n",
      "soc-delicious\n",
      "socfb-Caltech36\n",
      "socfb-Temple83\n",
      "soc-catster\n",
      "ia-enron-only\n",
      "socfb-Santa74\n",
      "socfb-Columbia2\n",
      "web-edu\n",
      "soc-brightkite\n",
      "soc-youtube\n",
      "socfb-UC61\n",
      "web-webbase-2001\n",
      "soc-google-plus\n",
      "socfb-Oberlin44\n",
      "ia-escorts-dynamic\n",
      "bio-celegans\n",
      "soc-slashdot\n",
      "tech-pgp\n",
      "socfb-Wake73\n",
      "socfb-Lehigh96\n",
      "rt-higgs\n",
      "bn-macaque-rhesus_brain_1\n",
      "socfb-Berkeley13\n",
      "ia-email-EU\n",
      "web-italycnr-2000\n",
      "socfb-BU10\n",
      "ca-GrQc\n",
      "socfb-UChicago30\n",
      "socfb-Tennessee95\n",
      "socfb-USC35\n",
      "socfb-Wisconsin87\n",
      "tech-routers-rf\n",
      "web-spam\n",
      "socfb-OR\n",
      "soc-twitter-follows-mun\n",
      "socfb-UMass92\n",
      "socfb-UPenn7\n",
      "bn-fly-drosophila_medulla_1\n",
      "soc-flickr\n",
      "inf-euroroad\n",
      "ca-CondMat\n",
      "rt-twitter-copen\n",
      "soc-sign-Slashdot081106\n",
      "socfb-UC64\n",
      "socfb-Middlebury45\n",
      "tech-p2p-gnutella\n",
      "ca-citeseer\n",
      "soc-loc-brightkite\n",
      "web-Stanford\n",
      "ca-Erdos992\n",
      "socfb-Emory27\n",
      "tech-as-caida2007\n",
      "socfb-Haverford76\n",
      "socfb-nips-ego\n",
      "socfb-Mich67\n",
      "soc-gowalla\n",
      "socfb-Brown11\n",
      "socfb-Indiana\n",
      "socfb-Northeastern19\n",
      "soc-dogster\n",
      "socfb-UConn\n",
      "socfb-NotreDame57\n",
      "socfb-UF\n",
      "bn-human-BNU_1_0025873_session_1-bg\n",
      "inf-power\n",
      "rec-movielens\n",
      "rec-movielens-tag-movies-10m\n",
      "soc-advogato\n",
      "soc-twitter-higgs\n",
      "inf-openflights\n",
      "soc-hamsterster\n",
      "socfb-Baylor93\n",
      "ia-reality\n",
      "socfb-Georgetown15\n",
      "socfb-Maine59\n",
      "socfb-MIT\n",
      "ia-wiki-trust-dir\n",
      "socfb-Rutgers89\n",
      "socfb-Villanova62\n",
      "web-frwikinews-user-edits\n",
      "socfb-Texas80\n",
      "socfb-Simmons81\n",
      "soc-twitter-follows\n",
      "socfb-Wellesley22\n",
      "socfb-Bucknell39\n",
      "socfb-MU78\n",
      "socfb-Auburn71\n",
      "socfb-Rice31\n",
      "soc-wiki-Vote\n",
      "socfb-Hamilton46\n",
      "socfb-UIllinois20\n",
      "web-NotreDame\n",
      "web-sk-2005\n",
      "web-baidu-baike-related\n",
      "socfb-Cal65\n",
      "socfb-Yale4\n",
      "web-polblogs\n",
      "bio-celegans-dir\n",
      "socfb-UCSD34\n",
      "socfb-Vanderbilt48\n",
      "ca-coauthors-dblp\n",
      "tech-as-skitter\n",
      "rt-retweet-crawl\n"
     ]
    }
   ],
   "source": [
    "\n",
    "for var in foo:\n",
    "    print(var)\n",
    "    url = f(prefix, var)\n",
    "    wget.download(url, out=dirname)\n"
   ]
  },
  {
   "cell_type": "code",
   "execution_count": 21,
   "metadata": {},
   "outputs": [
    {
     "name": "stdout",
     "output_type": "stream",
     "text": [
      "Help on function download in module wget:\n",
      "\n",
      "download(url, out=None, bar=<function bar_adaptive at 0x13672e820>)\n",
      "    High level function, which downloads URL into tmp file in current\n",
      "    directory and then renames it to filename autodetected from either URL\n",
      "    or HTTP headers.\n",
      "    \n",
      "    :param bar: function to track download progress (visualize etc.)\n",
      "    :param out: output filename or directory\n",
      "    :return:    filename where URL is downloaded to\n",
      "\n"
     ]
    }
   ],
   "source": [
    "help(wget.download)"
   ]
  },
  {
   "cell_type": "code",
   "execution_count": 25,
   "metadata": {},
   "outputs": [
    {
     "data": {
      "text/plain": [
       "['socfb-UCF52',\n",
       " 'socfb-UNC28',\n",
       " 'socfb-Princeton12',\n",
       " 'socfb-Maryland58',\n",
       " 'socfb-UIllinois',\n",
       " 'socfb-MIT8',\n",
       " 'socfb-Virginia63',\n",
       " 'socfb-UGA50',\n",
       " 'socfb-WashU32',\n",
       " 'socfb-Northwestern25',\n",
       " 'socfb-Brandeis99',\n",
       " 'socfb-Oklahoma97',\n",
       " 'socfb-Michigan23',\n",
       " 'socfb-Harvard1',\n",
       " 'socfb-Howard90',\n",
       " 'socfb-UCLA26',\n",
       " 'socfb-Mississippi66',\n",
       " 'socfb-UVA16',\n",
       " 'socfb-Smith60',\n",
       " 'socfb-UC33',\n",
       " 'socfb-UCLA',\n",
       " 'socfb-Williams40',\n",
       " 'socfb-UConn91',\n",
       " 'socfb-CMU',\n",
       " 'socfb-Carnegie49',\n",
       " 'socfb-JohnsHopkins55',\n",
       " 'socfb-wosn-friends',\n",
       " 'socfb-JMU79',\n",
       " 'socfb-Tulane29',\n",
       " 'socfb-Pepperdine86',\n",
       " 'socfb-Indiana69',\n",
       " 'socfb-Penn94',\n",
       " 'socfb-Dartmouth6',\n",
       " 'socfb-Texas84',\n",
       " 'socfb-Swarthmore42',\n",
       " 'socfb-Colgate88',\n",
       " 'socfb-UCSB37',\n",
       " 'socfb-Bingham82',\n",
       " 'socfb-Tufts18',\n",
       " 'socfb-MSU24',\n",
       " 'socfb-GWU54',\n",
       " 'socfb-UCSC68',\n",
       " 'socfb-Vermont70',\n",
       " 'socfb-Cornell5',\n",
       " 'socfb-Duke14',\n",
       " 'socfb-Stanford3',\n",
       " 'socfb-FSU53',\n",
       " 'socfb-Trinity100',\n",
       " 'socfb-William77',\n",
       " 'socfb-UF21',\n",
       " 'socfb-USFCA72',\n",
       " 'socfb-Amherst41',\n",
       " 'socfb-Rochester38',\n",
       " 'socfb-Reed98',\n",
       " 'socfb-NYU9',\n",
       " 'socfb-Bowdoin47',\n",
       " 'socfb-Syracuse56',\n",
       " 'socfb-USF51',\n",
       " 'socfb-BC17',\n",
       " 'socfb-American75',\n",
       " 'socfb-Vassar85',\n",
       " 'socfb-Wesleyan43',\n",
       " 'socfb-Caltech36',\n",
       " 'socfb-Temple83',\n",
       " 'socfb-Santa74',\n",
       " 'socfb-Columbia2',\n",
       " 'socfb-UC61',\n",
       " 'socfb-Oberlin44',\n",
       " 'socfb-Wake73',\n",
       " 'socfb-Lehigh96',\n",
       " 'socfb-Berkeley13',\n",
       " 'socfb-BU10',\n",
       " 'socfb-UChicago30',\n",
       " 'socfb-Tennessee95',\n",
       " 'socfb-USC35',\n",
       " 'socfb-Wisconsin87',\n",
       " 'socfb-OR',\n",
       " 'socfb-UMass92',\n",
       " 'socfb-UPenn7',\n",
       " 'socfb-UC64',\n",
       " 'socfb-Middlebury45',\n",
       " 'socfb-Emory27',\n",
       " 'socfb-Haverford76',\n",
       " 'socfb-nips-ego',\n",
       " 'socfb-Mich67',\n",
       " 'socfb-Brown11',\n",
       " 'socfb-Indiana',\n",
       " 'socfb-Northeastern19',\n",
       " 'socfb-UConn',\n",
       " 'socfb-NotreDame57',\n",
       " 'socfb-UF',\n",
       " 'socfb-Baylor93',\n",
       " 'socfb-Georgetown15',\n",
       " 'socfb-Maine59',\n",
       " 'socfb-MIT',\n",
       " 'socfb-Rutgers89',\n",
       " 'socfb-Villanova62',\n",
       " 'socfb-Texas80',\n",
       " 'socfb-Simmons81',\n",
       " 'socfb-Wellesley22',\n",
       " 'socfb-Bucknell39',\n",
       " 'socfb-MU78',\n",
       " 'socfb-Auburn71',\n",
       " 'socfb-Rice31',\n",
       " 'socfb-Hamilton46',\n",
       " 'socfb-UIllinois20',\n",
       " 'socfb-Cal65',\n",
       " 'socfb-Yale4',\n",
       " 'socfb-UCSD34',\n",
       " 'socfb-Vanderbilt48']"
      ]
     },
     "execution_count": 25,
     "metadata": {},
     "output_type": "execute_result"
    }
   ],
   "source": [
    "[x for x in foo if 'socfb' in x]"
   ]
  },
  {
   "cell_type": "code",
   "execution_count": 4,
   "metadata": {},
   "outputs": [
    {
     "data": {
      "text/html": [
       "\n",
       "\t\t\t<script type=\"text/javascript\">\n",
       "\t\t\t<!--\n",
       "\t\t\t\t\n",
       "\t\t\t{\n",
       "\t\t\t\tvar element = document.getElementById('NetworKit_script');\n",
       "\t\t\t\tif (element) {\n",
       "\t\t\t\t\telement.parentNode.removeChild(element);\n",
       "\t\t\t\t}\n",
       "\t\t\t\telement = document.createElement('script');\n",
       "\t\t\t\telement.type = 'text/javascript';\n",
       "\t\t\t\telement.innerHTML = 'function NetworKit_pageEmbed(id) { var i, j; var elements; elements = document.getElementById(id).getElementsByClassName(\"Plot\"); for (i=0; i<elements.length; i++) { elements[i].id = id + \"_Plot_\" + i; var data = elements[i].getAttribute(\"data-image\").split(\"|\"); elements[i].removeAttribute(\"data-image\"); var content = \"<div class=\\\\\"Image\\\\\" id=\\\\\"\" + elements[i].id + \"_Image\\\\\" />\"; elements[i].innerHTML = content; elements[i].setAttribute(\"data-image-index\", 0); elements[i].setAttribute(\"data-image-length\", data.length); for (j=0; j<data.length; j++) { elements[i].setAttribute(\"data-image-\" + j, data[j]); } NetworKit_plotUpdate(elements[i]); elements[i].onclick = function (e) { NetworKit_overlayShow((e.target) ? e.target : e.srcElement); } } elements = document.getElementById(id).getElementsByClassName(\"HeatCell\"); for (i=0; i<elements.length; i++) { var data = parseFloat(elements[i].getAttribute(\"data-heat\")); var color = \"#00FF00\"; if (data <= 1 && data > 0) { color = \"hsla(0, 100%, 75%, \" + (data) + \")\"; } else if (data <= 0 && data >= -1) { color = \"hsla(240, 100%, 75%, \" + (-data) + \")\"; } elements[i].style.backgroundColor = color; } elements = document.getElementById(id).getElementsByClassName(\"Details\"); for (i=0; i<elements.length; i++) { elements[i].setAttribute(\"data-title\", \"-\"); NetworKit_toggleDetails(elements[i]); elements[i].onclick = function (e) { NetworKit_toggleDetails((e.target) ? e.target : e.srcElement); } } elements = document.getElementById(id).getElementsByClassName(\"MathValue\"); for (i=elements.length-1; i>=0; i--) { value = elements[i].innerHTML.trim(); if (value === \"nan\") { elements[i].parentNode.innerHTML = \"\" } } elements = document.getElementById(id).getElementsByClassName(\"SubCategory\"); for (i=elements.length-1; i>=0; i--) { value = elements[i].innerHTML.trim(); if (value === \"\") { elements[i].parentNode.removeChild(elements[i]) } } elements = document.getElementById(id).getElementsByClassName(\"Category\"); for (i=elements.length-1; i>=0; i--) { value = elements[i].innerHTML.trim(); if (value === \"\") { elements[i].parentNode.removeChild(elements[i]) } } var isFirefox = false; try { isFirefox = typeof InstallTrigger !== \"undefined\"; } catch (e) {} if (!isFirefox) { alert(\"Currently the function\\'s output is only fully supported by Firefox.\"); } } function NetworKit_plotUpdate(source) { var index = source.getAttribute(\"data-image-index\"); var data = source.getAttribute(\"data-image-\" + index); var image = document.getElementById(source.id + \"_Image\"); image.style.backgroundImage = \"url(\" + data + \")\"; } function NetworKit_showElement(id, show) { var element = document.getElementById(id); element.style.display = (show) ? \"block\" : \"none\"; } function NetworKit_overlayShow(source) { NetworKit_overlayUpdate(source); NetworKit_showElement(\"NetworKit_Overlay\", true); } function NetworKit_overlayUpdate(source) { document.getElementById(\"NetworKit_Overlay_Title\").innerHTML = source.title; var index = source.getAttribute(\"data-image-index\"); var data = source.getAttribute(\"data-image-\" + index); var image = document.getElementById(\"NetworKit_Overlay_Image\"); image.setAttribute(\"data-id\", source.id); image.style.backgroundImage = \"url(\" + data + \")\"; var link = document.getElementById(\"NetworKit_Overlay_Toolbar_Bottom_Save\"); link.href = data; link.download = source.title + \".svg\"; } function NetworKit_overlayImageShift(delta) { var image = document.getElementById(\"NetworKit_Overlay_Image\"); var source = document.getElementById(image.getAttribute(\"data-id\")); var index = parseInt(source.getAttribute(\"data-image-index\")); var length = parseInt(source.getAttribute(\"data-image-length\")); var index = (index+delta) % length; if (index < 0) { index = length + index; } source.setAttribute(\"data-image-index\", index); NetworKit_overlayUpdate(source); } function NetworKit_toggleDetails(source) { var childs = source.children; var show = false; if (source.getAttribute(\"data-title\") == \"-\") { source.setAttribute(\"data-title\", \"+\"); show = false; } else { source.setAttribute(\"data-title\", \"-\"); show = true; } for (i=0; i<childs.length; i++) { if (show) { childs[i].style.display = \"block\"; } else { childs[i].style.display = \"none\"; } } }';\n",
       "\t\t\t\telement.setAttribute('id', 'NetworKit_script');\n",
       "\t\t\t\tdocument.head.appendChild(element);\n",
       "\t\t\t}\n",
       "\t\t\n",
       "\t\t\t\t\n",
       "\t\t\t{\n",
       "\t\t\t\tvar element = document.getElementById('NetworKit_style');\n",
       "\t\t\t\tif (element) {\n",
       "\t\t\t\t\telement.parentNode.removeChild(element);\n",
       "\t\t\t\t}\n",
       "\t\t\t\telement = document.createElement('style');\n",
       "\t\t\t\telement.type = 'text/css';\n",
       "\t\t\t\telement.innerHTML = '.NetworKit_Page { font-family: Arial, Helvetica, sans-serif; font-size: 14px; } .NetworKit_Page .Value:before { font-family: Arial, Helvetica, sans-serif; font-size: 1.05em; content: attr(data-title) \":\"; margin-left: -2.5em; padding-right: 0.5em; } .NetworKit_Page .Details .Value:before { display: block; } .NetworKit_Page .Value { font-family: monospace; white-space: pre; padding-left: 2.5em; white-space: -moz-pre-wrap !important; white-space: -pre-wrap; white-space: -o-pre-wrap; white-space: pre-wrap; word-wrap: break-word; tab-size: 4; -moz-tab-size: 4; } .NetworKit_Page .Category { clear: both; padding-left: 1em; margin-bottom: 1.5em; } .NetworKit_Page .Category:before { content: attr(data-title); font-size: 1.75em; display: block; margin-left: -0.8em; margin-bottom: 0.5em; } .NetworKit_Page .SubCategory { margin-bottom: 1.5em; padding-left: 1em; } .NetworKit_Page .SubCategory:before { font-size: 1.6em; display: block; margin-left: -0.8em; margin-bottom: 0.5em; } .NetworKit_Page .SubCategory[data-title]:before { content: attr(data-title); } .NetworKit_Page .Block { display: block; } .NetworKit_Page .Block:after { content: \".\"; visibility: hidden; display: block; height: 0; clear: both; } .NetworKit_Page .Block .Thumbnail_Overview, .NetworKit_Page .Block .Thumbnail_ScatterPlot { width: 260px; float: left; } .NetworKit_Page .Block .Thumbnail_Overview img, .NetworKit_Page .Block .Thumbnail_ScatterPlot img { width: 260px; } .NetworKit_Page .Block .Thumbnail_Overview:before, .NetworKit_Page .Block .Thumbnail_ScatterPlot:before { display: block; text-align: center; font-weight: bold; } .NetworKit_Page .Block .Thumbnail_Overview:before { content: attr(data-title); } .NetworKit_Page .HeatCell { font-family: \"Courier New\", Courier, monospace; cursor: pointer; } .NetworKit_Page .HeatCell, .NetworKit_Page .HeatCellName { display: inline; padding: 0.1em; margin-right: 2px; background-color: #FFFFFF } .NetworKit_Page .HeatCellName { margin-left: 0.25em; } .NetworKit_Page .HeatCell:before { content: attr(data-heat); display: inline-block; color: #000000; width: 4em; text-align: center; } .NetworKit_Page .Measure { clear: both; } .NetworKit_Page .Measure .Details { cursor: pointer; } .NetworKit_Page .Measure .Details:before { content: \"[\" attr(data-title) \"]\"; display: block; } .NetworKit_Page .Measure .Details .Value { border-left: 1px dotted black; margin-left: 0.4em; padding-left: 3.5em; pointer-events: none; } .NetworKit_Page .Measure .Details .Spacer:before { content: \".\"; opacity: 0.0; pointer-events: none; } .NetworKit_Page .Measure .Plot { width: 440px; height: 440px; cursor: pointer; float: left; margin-left: -0.9em; margin-right: 20px; } .NetworKit_Page .Measure .Plot .Image { background-repeat: no-repeat; background-position: center center; background-size: contain; height: 100%; pointer-events: none; } .NetworKit_Page .Measure .Stat { width: 500px; float: left; } .NetworKit_Page .Measure .Stat .Group { padding-left: 1.25em; margin-bottom: 0.75em; } .NetworKit_Page .Measure .Stat .Group .Title { font-size: 1.1em; display: block; margin-bottom: 0.3em; margin-left: -0.75em; border-right-style: dotted; border-right-width: 1px; border-bottom-style: dotted; border-bottom-width: 1px; background-color: #D0D0D0; padding-left: 0.2em; } .NetworKit_Page .Measure .Stat .Group .List { -webkit-column-count: 3; -moz-column-count: 3; column-count: 3; } .NetworKit_Page .Measure .Stat .Group .List .Entry { position: relative; line-height: 1.75em; } .NetworKit_Page .Measure .Stat .Group .List .Entry[data-tooltip]:before { position: absolute; left: 0; top: -40px; background-color: #808080; color: #ffffff; height: 30px; line-height: 30px; border-radius: 5px; padding: 0 15px; content: attr(data-tooltip); white-space: nowrap; display: none; } .NetworKit_Page .Measure .Stat .Group .List .Entry[data-tooltip]:after { position: absolute; left: 15px; top: -10px; border-top: 7px solid #808080; border-left: 7px solid transparent; border-right: 7px solid transparent; content: \"\"; display: none; } .NetworKit_Page .Measure .Stat .Group .List .Entry[data-tooltip]:hover:after, .NetworKit_Page .Measure .Stat .Group .List .Entry[data-tooltip]:hover:before { display: block; } .NetworKit_Page .Measure .Stat .Group .List .Entry .MathValue { font-family: \"Courier New\", Courier, monospace; } .NetworKit_Page .Measure:after { content: \".\"; visibility: hidden; display: block; height: 0; clear: both; } .NetworKit_Page .PartitionPie { clear: both; } .NetworKit_Page .PartitionPie img { width: 600px; } #NetworKit_Overlay { left: 0px; top: 0px; display: none; position: absolute; width: 100%; height: 100%; background-color: rgba(0,0,0,0.6); z-index: 1000; } #NetworKit_Overlay_Title { position: absolute; color: white; transform: rotate(-90deg); width: 32em; height: 32em; padding-right: 0.5em; padding-top: 0.5em; text-align: right; font-size: 40px; } #NetworKit_Overlay .button { background: white; cursor: pointer; } #NetworKit_Overlay .button:before { size: 13px; display: inline-block; text-align: center; margin-top: 0.5em; margin-bottom: 0.5em; width: 1.5em; height: 1.5em; } #NetworKit_Overlay .icon-close:before { content: \"X\"; } #NetworKit_Overlay .icon-previous:before { content: \"P\"; } #NetworKit_Overlay .icon-next:before { content: \"N\"; } #NetworKit_Overlay .icon-save:before { content: \"S\"; } #NetworKit_Overlay_Toolbar_Top, #NetworKit_Overlay_Toolbar_Bottom { position: absolute; width: 40px; right: 13px; text-align: right; z-index: 1100; } #NetworKit_Overlay_Toolbar_Top { top: 0.5em; } #NetworKit_Overlay_Toolbar_Bottom { Bottom: 0.5em; } #NetworKit_Overlay_ImageContainer { position: absolute; top: 5%; left: 5%; height: 90%; width: 90%; background-repeat: no-repeat; background-position: center center; background-size: contain; } #NetworKit_Overlay_Image { height: 100%; width: 100%; background-repeat: no-repeat; background-position: center center; background-size: contain; }';\n",
       "\t\t\t\telement.setAttribute('id', 'NetworKit_style');\n",
       "\t\t\t\tdocument.head.appendChild(element);\n",
       "\t\t\t}\n",
       "\t\t\n",
       "\t\t\t\t\n",
       "\t\t\t{\n",
       "\t\t\t\tvar element = document.getElementById('NetworKit_Overlay');\n",
       "\t\t\t\tif (element) {\n",
       "\t\t\t\t\telement.parentNode.removeChild(element);\n",
       "\t\t\t\t}\n",
       "\t\t\t\telement = document.createElement('div');\n",
       "\t\t\t\telement.innerHTML = '<div id=\"NetworKit_Overlay_Toolbar_Top\"><div class=\"button icon-close\" id=\"NetworKit_Overlay_Close\" /></div><div id=\"NetworKit_Overlay_Title\" /> <div id=\"NetworKit_Overlay_ImageContainer\"> <div id=\"NetworKit_Overlay_Image\" /> </div> <div id=\"NetworKit_Overlay_Toolbar_Bottom\"> <div class=\"button icon-previous\" onclick=\"NetworKit_overlayImageShift(-1)\" /> <div class=\"button icon-next\" onclick=\"NetworKit_overlayImageShift(1)\" /> <a id=\"NetworKit_Overlay_Toolbar_Bottom_Save\"><div class=\"button icon-save\" /></a> </div>';\n",
       "\t\t\t\telement.setAttribute('id', 'NetworKit_Overlay');\n",
       "\t\t\t\tdocument.body.appendChild(element);\n",
       "\t\t\t\tdocument.getElementById('NetworKit_Overlay_Close').onclick = function (e) {\n",
       "\t\t\t\t\tdocument.getElementById('NetworKit_Overlay').style.display = 'none';\n",
       "\t\t\t\t}\n",
       "\t\t\t}\n",
       "\t\t\n",
       "\t\t\t-->\n",
       "\t\t\t</script>\n",
       "\t\t"
      ]
     },
     "metadata": {},
     "output_type": "display_data"
    },
    {
     "ename": "OSError",
     "evalue": "./temp_downloads/socfb-American75/socfb-American75.mtx is not a valid Format.EdgeList file: Error in parsing file - pointer is whitespace or separator",
     "output_type": "error",
     "traceback": [
      "\u001b[0;31m---------------------------------------------------------------------------\u001b[0m",
      "\u001b[0;31mRuntimeError\u001b[0m                              Traceback (most recent call last)",
      "File \u001b[0;32mnetworkit/graphio.pyx:1128\u001b[0m, in \u001b[0;36mnetworkit.graphio.readGraph\u001b[0;34m()\u001b[0m\n",
      "File \u001b[0;32mnetworkit/graphio.pyx:79\u001b[0m, in \u001b[0;36mnetworkit.graphio.GraphReader.read\u001b[0;34m()\u001b[0m\n",
      "\u001b[0;31mRuntimeError\u001b[0m: Error in parsing file - pointer is whitespace or separator",
      "\nDuring handling of the above exception, another exception occurred:\n",
      "\u001b[0;31mOSError\u001b[0m                                   Traceback (most recent call last)",
      "\u001b[1;32m/Users/benjidayan/My Drive/eth_courses/GIRG/nemo-eva/benji_extract_netrepo_graphs.ipynb Cell 9\u001b[0m in \u001b[0;36m<cell line: 4>\u001b[0;34m()\u001b[0m\n\u001b[1;32m      <a href='vscode-notebook-cell:/Users/benjidayan/My%20Drive/eth_courses/GIRG/nemo-eva/benji_extract_netrepo_graphs.ipynb#X12sZmlsZQ%3D%3D?line=1'>2</a>\u001b[0m in_path \u001b[39m=\u001b[39m \u001b[39m\"\u001b[39m\u001b[39m./temp_downloads/socfb-American75/socfb-American75.mtx\u001b[39m\u001b[39m\"\u001b[39m\n\u001b[1;32m      <a href='vscode-notebook-cell:/Users/benjidayan/My%20Drive/eth_courses/GIRG/nemo-eva/benji_extract_netrepo_graphs.ipynb#X12sZmlsZQ%3D%3D?line=2'>3</a>\u001b[0m in_path2 \u001b[39m=\u001b[39m \u001b[39m\"\u001b[39m\u001b[39m./temp_downloads/bio-celegans/bio-celegans.mtx\u001b[39m\u001b[39m\"\u001b[39m\n\u001b[0;32m----> <a href='vscode-notebook-cell:/Users/benjidayan/My%20Drive/eth_courses/GIRG/nemo-eva/benji_extract_netrepo_graphs.ipynb#X12sZmlsZQ%3D%3D?line=3'>4</a>\u001b[0m g \u001b[39m=\u001b[39m   nk\u001b[39m.\u001b[39;49mreadGraph(\n\u001b[1;32m      <a href='vscode-notebook-cell:/Users/benjidayan/My%20Drive/eth_courses/GIRG/nemo-eva/benji_extract_netrepo_graphs.ipynb#X12sZmlsZQ%3D%3D?line=4'>5</a>\u001b[0m                 in_path,\n\u001b[1;32m      <a href='vscode-notebook-cell:/Users/benjidayan/My%20Drive/eth_courses/GIRG/nemo-eva/benji_extract_netrepo_graphs.ipynb#X12sZmlsZQ%3D%3D?line=5'>6</a>\u001b[0m                 nk\u001b[39m.\u001b[39;49mFormat\u001b[39m.\u001b[39;49mEdgeList,\n\u001b[1;32m      <a href='vscode-notebook-cell:/Users/benjidayan/My%20Drive/eth_courses/GIRG/nemo-eva/benji_extract_netrepo_graphs.ipynb#X12sZmlsZQ%3D%3D?line=6'>7</a>\u001b[0m                 separator\u001b[39m=\u001b[39;49m\u001b[39m\"\u001b[39;49m\u001b[39m \u001b[39;49m\u001b[39m\"\u001b[39;49m,\n\u001b[1;32m      <a href='vscode-notebook-cell:/Users/benjidayan/My%20Drive/eth_courses/GIRG/nemo-eva/benji_extract_netrepo_graphs.ipynb#X12sZmlsZQ%3D%3D?line=7'>8</a>\u001b[0m                 firstNode\u001b[39m=\u001b[39;49m\u001b[39m1\u001b[39;49m,\n\u001b[1;32m      <a href='vscode-notebook-cell:/Users/benjidayan/My%20Drive/eth_courses/GIRG/nemo-eva/benji_extract_netrepo_graphs.ipynb#X12sZmlsZQ%3D%3D?line=8'>9</a>\u001b[0m                 commentPrefix\u001b[39m=\u001b[39;49m\u001b[39m\"\u001b[39;49m\u001b[39m%\u001b[39;49m\u001b[39m\"\u001b[39;49m,\n\u001b[1;32m     <a href='vscode-notebook-cell:/Users/benjidayan/My%20Drive/eth_courses/GIRG/nemo-eva/benji_extract_netrepo_graphs.ipynb#X12sZmlsZQ%3D%3D?line=9'>10</a>\u001b[0m                 continuous\u001b[39m=\u001b[39;49m\u001b[39mTrue\u001b[39;49;00m)\n",
      "File \u001b[0;32mnetworkit/graphio.pyx:1126\u001b[0m, in \u001b[0;36mnetworkit.graphio.readGraph\u001b[0;34m()\u001b[0m\n",
      "File \u001b[0;32mnetworkit/graphio.pyx:1131\u001b[0m, in \u001b[0;36mnetworkit.graphio.readGraph\u001b[0;34m()\u001b[0m\n",
      "\u001b[0;31mOSError\u001b[0m: ./temp_downloads/socfb-American75/socfb-American75.mtx is not a valid Format.EdgeList file: Error in parsing file - pointer is whitespace or separator"
     ]
    }
   ],
   "source": [
    "import networkit as nk\n",
    "in_path = \"./temp_downloads/socfb-American75/socfb-American75.mtx\"\n",
    "in_path2 = \"./temp_downloads/bio-celegans/bio-celegans.mtx\"\n",
    "g =   nk.readGraph(\n",
    "                in_path,\n",
    "                nk.Format.EdgeList,\n",
    "                separator=\" \",\n",
    "                firstNode=1,\n",
    "                commentPrefix=\"%\",\n",
    "                continuous=True)"
   ]
  },
  {
   "cell_type": "code",
   "execution_count": 116,
   "metadata": {},
   "outputs": [],
   "source": [
    "re.match('^(\\d*) (\\d*)[ \\n]$', '14940 14940 123\\n')"
   ]
  },
  {
   "cell_type": "code",
   "execution_count": 124,
   "metadata": {},
   "outputs": [],
   "source": [
    "temp = nk.readGraph('temp.edges', nk.Format.EdgeListSpaceOne)"
   ]
  },
  {
   "cell_type": "code",
   "execution_count": 126,
   "metadata": {},
   "outputs": [
    {
     "data": {
      "text/plain": [
       "2127"
      ]
     },
     "execution_count": 126,
     "metadata": {},
     "output_type": "execute_result"
    }
   ],
   "source": [
    "temp.numberOfNodes()\n",
    "temp.numberOfEdges()"
   ]
  },
  {
   "cell_type": "code",
   "execution_count": 5,
   "metadata": {},
   "outputs": [
    {
     "data": {
      "text/plain": [
       "['bn-macaque-rhesus_brain_1',\n",
       " 'socfb-Berkeley13',\n",
       " 'ia-email-EU',\n",
       " 'web-italycnr-2000',\n",
       " 'socfb-BU10',\n",
       " 'ca-GrQc',\n",
       " 'socfb-UChicago30',\n",
       " 'socfb-Tennessee95',\n",
       " 'socfb-USC35',\n",
       " 'socfb-Wisconsin87',\n",
       " 'tech-routers-rf',\n",
       " 'web-spam',\n",
       " 'socfb-OR']"
      ]
     },
     "execution_count": 5,
     "metadata": {},
     "output_type": "execute_result"
    }
   ],
   "source": [
    "foo[137:150]"
   ]
  },
  {
   "cell_type": "code",
   "execution_count": 18,
   "metadata": {},
   "outputs": [],
   "source": [
    "g = nk.readGraph('temp_downloads/rt-higgs/rt-higgs.edges', nk.Format.EdgeListSpaceOne)\n",
    "# g2 = nk.readGraph('temp_downloads/rt-higgs/rt-higgs.edges', nk.Format.SNAP)"
   ]
  },
  {
   "cell_type": "code",
   "execution_count": 19,
   "metadata": {},
   "outputs": [
    {
     "data": {
      "text/plain": [
       "732860"
      ]
     },
     "execution_count": 19,
     "metadata": {},
     "output_type": "execute_result"
    }
   ],
   "source": [
    "g.numberOfEdges()\n"
   ]
  },
  {
   "cell_type": "code",
   "execution_count": 20,
   "metadata": {},
   "outputs": [
    {
     "data": {
      "text/plain": [
       "456543"
      ]
     },
     "execution_count": 20,
     "metadata": {},
     "output_type": "execute_result"
    }
   ],
   "source": [
    "g.numberOfNodes()"
   ]
  },
  {
   "cell_type": "code",
   "execution_count": 6,
   "metadata": {},
   "outputs": [],
   "source": [
    "import os\n",
    "import re"
   ]
  },
  {
   "cell_type": "code",
   "execution_count": 7,
   "metadata": {},
   "outputs": [
    {
     "ename": "",
     "evalue": "",
     "output_type": "error",
     "traceback": [
      "\u001b[1;31mThe Kernel crashed while executing code in the the current cell or a previous cell. Please review the code in the cell(s) to identify a possible cause of the failure. Click <a href='https://aka.ms/vscodeJupyterKernelCrash'>here</a> for more info. View Jupyter <a href='command:jupyter.viewOutput'>log</a> for further details."
     ]
    },
    {
     "ename": "",
     "evalue": "",
     "output_type": "error",
     "traceback": [
      "\u001b[1;31mCanceled future for execute_request message before replies were done"
     ]
    }
   ],
   "source": [
    "resultspath = 'data-paper/3-cleaned_features/results.csv'\n",
    "import pandas as pd\n",
    "import numpy as np\n",
    "\n",
    "df = pd.read_csv(resultspath)\n",
    "\n",
    "foo = list(df.Graph.unique())\n",
    "len(foo)\n",
    "\n",
    "import re\n",
    "import os\n",
    "\n",
    "import networkit as nk\n",
    "\n",
    "def path_to_nk(path, new):\n",
    "    with open(path, 'r') as reader, open(new, 'w') as writer:\n",
    "        i = 0\n",
    "        while out := reader.readline():  # read the first line and discard it\n",
    "            a = re.match('^(\\d*) (\\d*)[ \\n]$', out)\n",
    "            if a:\n",
    "                writer.write(out)\n",
    "                break\n",
    "            b = re.match('^(\\d*) (\\d*) (\\d*)[ \\n]$', out)\n",
    "            if b:\n",
    "                i += 1\n",
    "                break\n",
    "            i += 1\n",
    "        for line in reader:\n",
    "            # a = re.match('(\\d*) (\\d*)', line)\n",
    "            # if not a:\n",
    "            #     raise Exceaption('weird file')\n",
    "            writer.write(line)\n",
    "        g = nk.readGraph(new, nk.Format.EdgeListSpaceOne)\n",
    "        if not g.numberOfNodes() >= 1 or not g.numberOfEdges() >= 1:\n",
    "            os.remove(new)\n",
    "            print(f'removed: {new}')\n",
    "\n",
    "        print(f'skipped: {i}; output: {new}')\n",
    "\n",
    "# path_to_nk(in_path2)\n",
    "import tqdm\n",
    "for name in foo[137:]:\n",
    "    print(name)\n",
    "    path = f'./temp_downloads/{name}/'\n",
    "    subs = os.listdir(path)\n",
    "    for sub in subs:\n",
    "        if sub.endswith('.mtx'):\n",
    "            path_to_nk(path + sub, path + sub[:-3] + 'SpaceOne')\n",
    "            break\n",
    "        if sub.endswith('.edges'):\n",
    "            path_to_nk(path + sub, path + sub[:-5] + 'SpaceOne')\n",
    "\n",
    "# nk.readGraph(in_path2, nk.Format.EdgeListSpaceOne)"
   ]
  },
  {
   "cell_type": "code",
   "execution_count": 2,
   "metadata": {},
   "outputs": [
    {
     "ename": "NameError",
     "evalue": "name 'name' is not defined",
     "output_type": "error",
     "traceback": [
      "\u001b[0;31m---------------------------------------------------------------------------\u001b[0m",
      "\u001b[0;31mNameError\u001b[0m                                 Traceback (most recent call last)",
      "\u001b[1;32m/Users/benjidayan/My Drive/eth_courses/GIRG/nemo-eva/benji_extract_netrepo_graphs.ipynb Cell 14\u001b[0m in \u001b[0;36m<cell line: 1>\u001b[0;34m()\u001b[0m\n\u001b[0;32m----> <a href='vscode-notebook-cell:/Users/benjidayan/My%20Drive/eth_courses/GIRG/nemo-eva/benji_extract_netrepo_graphs.ipynb#X40sZmlsZQ%3D%3D?line=0'>1</a>\u001b[0m name\n",
      "\u001b[0;31mNameError\u001b[0m: name 'name' is not defined"
     ]
    }
   ],
   "source": [
    "def path_to_nk(path, new):\n",
    "    with open(path, 'r') as reader, open(new, 'w') as writer:\n",
    "        i = 0\n",
    "        while out := reader.readline():  # read the first line and discard it\n",
    "            a = re.match('^(\\d*) (\\d*)[ \\n]$', out)\n",
    "            if a:\n",
    "                writer.write(out)\n",
    "                break\n",
    "            b = re.match('^(\\d*) (\\d*) (\\d*)[ \\n]$', out)\n",
    "            if b:\n",
    "                i += 1\n",
    "                break\n",
    "            i += 1\n",
    "        for line in reader:\n",
    "            # a = re.match('(\\d*) (\\d*)', line)\n",
    "            # if not a:\n",
    "            #     raise Exceaption('weird file')\n",
    "            writer.write(line)\n",
    "        g = nk.readGraph(new, nk.Format.EdgeListSpaceOne)\n",
    "        if not g.numberOfNodes() >= 1 or not g.numberOfEdges() >= 1:\n",
    "            os.remove(new)\n",
    "            print(f'removed: {new}')\n",
    "\n",
    "        print(f'skipped: {i}; output: {new}')\n",
    "\n",
    "# path_to_nk(in_path2)\n",
    "import tqdm\n",
    "for name in foo[137:]:\n",
    "    print(name)\n",
    "    path = f'./temp_downloads/{name}/'\n",
    "    subs = os.listdir(path)\n",
    "    for sub in subs:\n",
    "        if sub.endswith('.mtx'):\n",
    "            path_to_nk(path + sub, path + sub[:-3] + 'SpaceOne')\n",
    "            break\n",
    "        if sub.endswith('.edges'):\n",
    "            path_to_nk(path + sub, path + sub[:-5] + 'SpaceOne')\n",
    "\n",
    "# nk.readGraph(in_path2, nk.Format.EdgeListSpaceOne)"
   ]
  },
  {
   "cell_type": "code",
   "execution_count": 91,
   "metadata": {},
   "outputs": [],
   "source": [
    "path\n",
    "with open(path) as file:\n",
    "    out = file.readline()\n",
    "    out2 = file.readline()\n",
    "    out3 = file.readline()"
   ]
  },
  {
   "cell_type": "code",
   "execution_count": 99,
   "metadata": {},
   "outputs": [
    {
     "data": {
      "text/plain": [
       "'1 2 \\n'"
      ]
     },
     "execution_count": 99,
     "metadata": {},
     "output_type": "execute_result"
    }
   ],
   "source": [
    "import re\n",
    "pew = '(\\d*) (\\d*)'\n",
    "a = re.match(pew, out3)\n",
    "b = re.match(pew, out2)\n",
    "out3"
   ]
  },
  {
   "cell_type": "code",
   "execution_count": 113,
   "metadata": {},
   "outputs": [
    {
     "data": {
      "text/plain": [
       "'1 2 \\n'"
      ]
     },
     "execution_count": 113,
     "metadata": {},
     "output_type": "execute_result"
    }
   ],
   "source": [
    "out3"
   ]
  },
  {
   "cell_type": "code",
   "execution_count": 84,
   "metadata": {},
   "outputs": [
    {
     "data": {
      "text/plain": [
       "['Icon\\r', 'ia-email-EU-dir.edges', 'readme.html']"
      ]
     },
     "execution_count": 84,
     "metadata": {},
     "output_type": "execute_result"
    }
   ],
   "source": [
    "path = f'./temp_downloads/{name}/'\n",
    "os.listdir(path)"
   ]
  },
  {
   "cell_type": "code",
   "execution_count": 86,
   "metadata": {},
   "outputs": [
    {
     "ename": "SyntaxError",
     "evalue": "unexpected EOF while parsing (160935583.py, line 2)",
     "output_type": "error",
     "traceback": [
      "\u001b[0;36m  Input \u001b[0;32mIn [86]\u001b[0;36m\u001b[0m\n\u001b[0;31m    nk.readGraph(path, nk.graphio.\u001b[0m\n\u001b[0m                                  ^\u001b[0m\n\u001b[0;31mSyntaxError\u001b[0m\u001b[0;31m:\u001b[0m unexpected EOF while parsing\n"
     ]
    }
   ],
   "source": [
    "path = f'./temp_downloads/{name}/{name}.edges'\n",
    "nk.readGraph(path, nk.graphio."
   ]
  },
  {
   "cell_type": "code",
   "execution_count": 76,
   "metadata": {},
   "outputs": [],
   "source": [
    "g = nk.readGraph(in_path2[:-3] + 'SpaceOne', nk.Format.EdgeListSpaceOne)"
   ]
  },
  {
   "cell_type": "code",
   "execution_count": 67,
   "metadata": {},
   "outputs": [],
   "source": [
    "g.num"
   ]
  },
  {
   "cell_type": "code",
   "execution_count": 68,
   "metadata": {},
   "outputs": [
    {
     "data": {
      "text/plain": [
       "[(0, 1), (0, 4), (1, 2), (1, 3), (2, 3)]"
      ]
     },
     "execution_count": 68,
     "metadata": {},
     "output_type": "execute_result"
    }
   ],
   "source": [
    "list(g.iterEdges())"
   ]
  },
  {
   "cell_type": "code",
   "execution_count": 69,
   "metadata": {},
   "outputs": [],
   "source": [
    "nk.writeGraph(g, './temp.SpaceOne', nk.Format.EdgeListSpaceOne)"
   ]
  },
  {
   "cell_type": "code",
   "execution_count": 40,
   "metadata": {},
   "outputs": [],
   "source": [
    "import sys\n",
    "sys.path.append('./src')"
   ]
  },
  {
   "cell_type": "code",
   "execution_count": 41,
   "metadata": {},
   "outputs": [],
   "source": [
    "from src.graph_crawler import GraphCrawler"
   ]
  },
  {
   "cell_type": "code",
   "execution_count": 42,
   "metadata": {},
   "outputs": [],
   "source": [
    "gc = GraphCrawler()\n"
   ]
  },
  {
   "cell_type": "code",
   "execution_count": 46,
   "metadata": {},
   "outputs": [
    {
     "ename": "RuntimeError",
     "evalue": "This event loop is already running",
     "output_type": "error",
     "traceback": [
      "\u001b[0;31m---------------------------------------------------------------------------\u001b[0m",
      "\u001b[0;31mRuntimeError\u001b[0m                              Traceback (most recent call last)",
      "\u001b[1;32m/Users/benjidayan/My Drive/eth_courses/GIRG/nemo-eva/benji_extract_netrepo_graphs.ipynb Cell 14\u001b[0m in \u001b[0;36m<cell line: 1>\u001b[0;34m()\u001b[0m\n\u001b[0;32m----> <a href='vscode-notebook-cell:/Users/benjidayan/My%20Drive/eth_courses/GIRG/nemo-eva/benji_extract_netrepo_graphs.ipynb#X20sZmlsZQ%3D%3D?line=0'>1</a>\u001b[0m gc\u001b[39m.\u001b[39;49mexecute()\n",
      "File \u001b[0;32m~/My Drive/eth_courses/GIRG/nemo-eva/./src/abstract_stage.py:45\u001b[0m, in \u001b[0;36mAbstractStage.execute\u001b[0;34m(self)\u001b[0m\n\u001b[1;32m     44\u001b[0m \u001b[39mdef\u001b[39;00m \u001b[39mexecute\u001b[39m(\u001b[39mself\u001b[39m):\n\u001b[0;32m---> 45\u001b[0m     \u001b[39mself\u001b[39;49m\u001b[39m.\u001b[39;49m_execute()\n\u001b[1;32m     46\u001b[0m     \u001b[39mif\u001b[39;00m \u001b[39mnot\u001b[39;00m os\u001b[39m.\u001b[39mpath\u001b[39m.\u001b[39mexists(\u001b[39mself\u001b[39m\u001b[39m.\u001b[39m_stagepath):\n\u001b[1;32m     47\u001b[0m         os\u001b[39m.\u001b[39mmakedirs(\u001b[39mself\u001b[39m\u001b[39m.\u001b[39m_stagepath)\n",
      "File \u001b[0;32m~/My Drive/eth_courses/GIRG/nemo-eva/src/graph_crawler.py:189\u001b[0m, in \u001b[0;36mGraphCrawler._execute\u001b[0;34m(self)\u001b[0m\n\u001b[1;32m    187\u001b[0m \u001b[39mdef\u001b[39;00m \u001b[39m_execute\u001b[39m(\u001b[39mself\u001b[39m):\n\u001b[1;32m    188\u001b[0m     loop \u001b[39m=\u001b[39m asyncio\u001b[39m.\u001b[39mget_event_loop()\n\u001b[0;32m--> 189\u001b[0m     loop\u001b[39m.\u001b[39;49mrun_until_complete(\u001b[39mself\u001b[39;49m\u001b[39m.\u001b[39;49mcrawl_graphs())\n",
      "File \u001b[0;32m/opt/homebrew/anaconda3/lib/python3.9/asyncio/base_events.py:623\u001b[0m, in \u001b[0;36mBaseEventLoop.run_until_complete\u001b[0;34m(self, future)\u001b[0m\n\u001b[1;32m    612\u001b[0m \u001b[39m\"\"\"Run until the Future is done.\u001b[39;00m\n\u001b[1;32m    613\u001b[0m \n\u001b[1;32m    614\u001b[0m \u001b[39mIf the argument is a coroutine, it is wrapped in a Task.\u001b[39;00m\n\u001b[0;32m   (...)\u001b[0m\n\u001b[1;32m    620\u001b[0m \u001b[39mReturn the Future's result, or raise its exception.\u001b[39;00m\n\u001b[1;32m    621\u001b[0m \u001b[39m\"\"\"\u001b[39;00m\n\u001b[1;32m    622\u001b[0m \u001b[39mself\u001b[39m\u001b[39m.\u001b[39m_check_closed()\n\u001b[0;32m--> 623\u001b[0m \u001b[39mself\u001b[39;49m\u001b[39m.\u001b[39;49m_check_running()\n\u001b[1;32m    625\u001b[0m new_task \u001b[39m=\u001b[39m \u001b[39mnot\u001b[39;00m futures\u001b[39m.\u001b[39misfuture(future)\n\u001b[1;32m    626\u001b[0m future \u001b[39m=\u001b[39m tasks\u001b[39m.\u001b[39mensure_future(future, loop\u001b[39m=\u001b[39m\u001b[39mself\u001b[39m)\n",
      "File \u001b[0;32m/opt/homebrew/anaconda3/lib/python3.9/asyncio/base_events.py:583\u001b[0m, in \u001b[0;36mBaseEventLoop._check_running\u001b[0;34m(self)\u001b[0m\n\u001b[1;32m    581\u001b[0m \u001b[39mdef\u001b[39;00m \u001b[39m_check_running\u001b[39m(\u001b[39mself\u001b[39m):\n\u001b[1;32m    582\u001b[0m     \u001b[39mif\u001b[39;00m \u001b[39mself\u001b[39m\u001b[39m.\u001b[39mis_running():\n\u001b[0;32m--> 583\u001b[0m         \u001b[39mraise\u001b[39;00m \u001b[39mRuntimeError\u001b[39;00m(\u001b[39m'\u001b[39m\u001b[39mThis event loop is already running\u001b[39m\u001b[39m'\u001b[39m)\n\u001b[1;32m    584\u001b[0m     \u001b[39mif\u001b[39;00m events\u001b[39m.\u001b[39m_get_running_loop() \u001b[39mis\u001b[39;00m \u001b[39mnot\u001b[39;00m \u001b[39mNone\u001b[39;00m:\n\u001b[1;32m    585\u001b[0m         \u001b[39mraise\u001b[39;00m \u001b[39mRuntimeError\u001b[39;00m(\n\u001b[1;32m    586\u001b[0m             \u001b[39m'\u001b[39m\u001b[39mCannot run the event loop while another loop is running\u001b[39m\u001b[39m'\u001b[39m)\n",
      "\u001b[0;31mRuntimeError\u001b[0m: This event loop is already running"
     ]
    }
   ],
   "source": [
    "gc.execute()"
   ]
  },
  {
   "cell_type": "code",
   "execution_count": null,
   "metadata": {},
   "outputs": [],
   "source": []
  }
 ],
 "metadata": {
  "kernelspec": {
   "display_name": "base",
   "language": "python",
   "name": "python3"
  },
  "language_info": {
   "codemirror_mode": {
    "name": "ipython",
    "version": 3
   },
   "file_extension": ".py",
   "mimetype": "text/x-python",
   "name": "python",
   "nbconvert_exporter": "python",
   "pygments_lexer": "ipython3",
   "version": "3.9.13"
  },
  "orig_nbformat": 4,
  "vscode": {
   "interpreter": {
    "hash": "38cca0c38332a56087b24af0bc80247f4fced29cb4f7f437d91dc159adec9c4e"
   }
  }
 },
 "nbformat": 4,
 "nbformat_minor": 2
}
