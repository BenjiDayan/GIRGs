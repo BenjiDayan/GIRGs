{
 "cells": [
  {
   "cell_type": "code",
   "execution_count": 2,
   "metadata": {},
   "outputs": [],
   "source": [
    "import sys\n",
    "sys.path.append('../')"
   ]
  },
  {
   "cell_type": "code",
   "execution_count": 3,
   "metadata": {},
   "outputs": [
    {
     "data": {
      "text/html": [
       "\n",
       "\t\t\t<script type=\"text/javascript\">\n",
       "\t\t\t<!--\n",
       "\t\t\t\t\n",
       "\t\t\t{\n",
       "\t\t\t\tvar element = document.getElementById('NetworKit_script');\n",
       "\t\t\t\tif (element) {\n",
       "\t\t\t\t\telement.parentNode.removeChild(element);\n",
       "\t\t\t\t}\n",
       "\t\t\t\telement = document.createElement('script');\n",
       "\t\t\t\telement.type = 'text/javascript';\n",
       "\t\t\t\telement.innerHTML = 'function NetworKit_pageEmbed(id) { var i, j; var elements; elements = document.getElementById(id).getElementsByClassName(\"Plot\"); for (i=0; i<elements.length; i++) { elements[i].id = id + \"_Plot_\" + i; var data = elements[i].getAttribute(\"data-image\").split(\"|\"); elements[i].removeAttribute(\"data-image\"); var content = \"<div class=\\\\\"Image\\\\\" id=\\\\\"\" + elements[i].id + \"_Image\\\\\" />\"; elements[i].innerHTML = content; elements[i].setAttribute(\"data-image-index\", 0); elements[i].setAttribute(\"data-image-length\", data.length); for (j=0; j<data.length; j++) { elements[i].setAttribute(\"data-image-\" + j, data[j]); } NetworKit_plotUpdate(elements[i]); elements[i].onclick = function (e) { NetworKit_overlayShow((e.target) ? e.target : e.srcElement); } } elements = document.getElementById(id).getElementsByClassName(\"HeatCell\"); for (i=0; i<elements.length; i++) { var data = parseFloat(elements[i].getAttribute(\"data-heat\")); var color = \"#00FF00\"; if (data <= 1 && data > 0) { color = \"hsla(0, 100%, 75%, \" + (data) + \")\"; } else if (data <= 0 && data >= -1) { color = \"hsla(240, 100%, 75%, \" + (-data) + \")\"; } elements[i].style.backgroundColor = color; } elements = document.getElementById(id).getElementsByClassName(\"Details\"); for (i=0; i<elements.length; i++) { elements[i].setAttribute(\"data-title\", \"-\"); NetworKit_toggleDetails(elements[i]); elements[i].onclick = function (e) { NetworKit_toggleDetails((e.target) ? e.target : e.srcElement); } } elements = document.getElementById(id).getElementsByClassName(\"MathValue\"); for (i=elements.length-1; i>=0; i--) { value = elements[i].innerHTML.trim(); if (value === \"nan\") { elements[i].parentNode.innerHTML = \"\" } } elements = document.getElementById(id).getElementsByClassName(\"SubCategory\"); for (i=elements.length-1; i>=0; i--) { value = elements[i].innerHTML.trim(); if (value === \"\") { elements[i].parentNode.removeChild(elements[i]) } } elements = document.getElementById(id).getElementsByClassName(\"Category\"); for (i=elements.length-1; i>=0; i--) { value = elements[i].innerHTML.trim(); if (value === \"\") { elements[i].parentNode.removeChild(elements[i]) } } var isFirefox = false; try { isFirefox = typeof InstallTrigger !== \"undefined\"; } catch (e) {} if (!isFirefox) { alert(\"Currently the function\\'s output is only fully supported by Firefox.\"); } } function NetworKit_plotUpdate(source) { var index = source.getAttribute(\"data-image-index\"); var data = source.getAttribute(\"data-image-\" + index); var image = document.getElementById(source.id + \"_Image\"); image.style.backgroundImage = \"url(\" + data + \")\"; } function NetworKit_showElement(id, show) { var element = document.getElementById(id); element.style.display = (show) ? \"block\" : \"none\"; } function NetworKit_overlayShow(source) { NetworKit_overlayUpdate(source); NetworKit_showElement(\"NetworKit_Overlay\", true); } function NetworKit_overlayUpdate(source) { document.getElementById(\"NetworKit_Overlay_Title\").innerHTML = source.title; var index = source.getAttribute(\"data-image-index\"); var data = source.getAttribute(\"data-image-\" + index); var image = document.getElementById(\"NetworKit_Overlay_Image\"); image.setAttribute(\"data-id\", source.id); image.style.backgroundImage = \"url(\" + data + \")\"; var link = document.getElementById(\"NetworKit_Overlay_Toolbar_Bottom_Save\"); link.href = data; link.download = source.title + \".svg\"; } function NetworKit_overlayImageShift(delta) { var image = document.getElementById(\"NetworKit_Overlay_Image\"); var source = document.getElementById(image.getAttribute(\"data-id\")); var index = parseInt(source.getAttribute(\"data-image-index\")); var length = parseInt(source.getAttribute(\"data-image-length\")); var index = (index+delta) % length; if (index < 0) { index = length + index; } source.setAttribute(\"data-image-index\", index); NetworKit_overlayUpdate(source); } function NetworKit_toggleDetails(source) { var childs = source.children; var show = false; if (source.getAttribute(\"data-title\") == \"-\") { source.setAttribute(\"data-title\", \"+\"); show = false; } else { source.setAttribute(\"data-title\", \"-\"); show = true; } for (i=0; i<childs.length; i++) { if (show) { childs[i].style.display = \"block\"; } else { childs[i].style.display = \"none\"; } } }';\n",
       "\t\t\t\telement.setAttribute('id', 'NetworKit_script');\n",
       "\t\t\t\tdocument.head.appendChild(element);\n",
       "\t\t\t}\n",
       "\t\t\n",
       "\t\t\t\t\n",
       "\t\t\t{\n",
       "\t\t\t\tvar element = document.getElementById('NetworKit_style');\n",
       "\t\t\t\tif (element) {\n",
       "\t\t\t\t\telement.parentNode.removeChild(element);\n",
       "\t\t\t\t}\n",
       "\t\t\t\telement = document.createElement('style');\n",
       "\t\t\t\telement.type = 'text/css';\n",
       "\t\t\t\telement.innerHTML = '.NetworKit_Page { font-family: Arial, Helvetica, sans-serif; font-size: 14px; } .NetworKit_Page .Value:before { font-family: Arial, Helvetica, sans-serif; font-size: 1.05em; content: attr(data-title) \":\"; margin-left: -2.5em; padding-right: 0.5em; } .NetworKit_Page .Details .Value:before { display: block; } .NetworKit_Page .Value { font-family: monospace; white-space: pre; padding-left: 2.5em; white-space: -moz-pre-wrap !important; white-space: -pre-wrap; white-space: -o-pre-wrap; white-space: pre-wrap; word-wrap: break-word; tab-size: 4; -moz-tab-size: 4; } .NetworKit_Page .Category { clear: both; padding-left: 1em; margin-bottom: 1.5em; } .NetworKit_Page .Category:before { content: attr(data-title); font-size: 1.75em; display: block; margin-left: -0.8em; margin-bottom: 0.5em; } .NetworKit_Page .SubCategory { margin-bottom: 1.5em; padding-left: 1em; } .NetworKit_Page .SubCategory:before { font-size: 1.6em; display: block; margin-left: -0.8em; margin-bottom: 0.5em; } .NetworKit_Page .SubCategory[data-title]:before { content: attr(data-title); } .NetworKit_Page .Block { display: block; } .NetworKit_Page .Block:after { content: \".\"; visibility: hidden; display: block; height: 0; clear: both; } .NetworKit_Page .Block .Thumbnail_Overview, .NetworKit_Page .Block .Thumbnail_ScatterPlot { width: 260px; float: left; } .NetworKit_Page .Block .Thumbnail_Overview img, .NetworKit_Page .Block .Thumbnail_ScatterPlot img { width: 260px; } .NetworKit_Page .Block .Thumbnail_Overview:before, .NetworKit_Page .Block .Thumbnail_ScatterPlot:before { display: block; text-align: center; font-weight: bold; } .NetworKit_Page .Block .Thumbnail_Overview:before { content: attr(data-title); } .NetworKit_Page .HeatCell { font-family: \"Courier New\", Courier, monospace; cursor: pointer; } .NetworKit_Page .HeatCell, .NetworKit_Page .HeatCellName { display: inline; padding: 0.1em; margin-right: 2px; background-color: #FFFFFF } .NetworKit_Page .HeatCellName { margin-left: 0.25em; } .NetworKit_Page .HeatCell:before { content: attr(data-heat); display: inline-block; color: #000000; width: 4em; text-align: center; } .NetworKit_Page .Measure { clear: both; } .NetworKit_Page .Measure .Details { cursor: pointer; } .NetworKit_Page .Measure .Details:before { content: \"[\" attr(data-title) \"]\"; display: block; } .NetworKit_Page .Measure .Details .Value { border-left: 1px dotted black; margin-left: 0.4em; padding-left: 3.5em; pointer-events: none; } .NetworKit_Page .Measure .Details .Spacer:before { content: \".\"; opacity: 0.0; pointer-events: none; } .NetworKit_Page .Measure .Plot { width: 440px; height: 440px; cursor: pointer; float: left; margin-left: -0.9em; margin-right: 20px; } .NetworKit_Page .Measure .Plot .Image { background-repeat: no-repeat; background-position: center center; background-size: contain; height: 100%; pointer-events: none; } .NetworKit_Page .Measure .Stat { width: 500px; float: left; } .NetworKit_Page .Measure .Stat .Group { padding-left: 1.25em; margin-bottom: 0.75em; } .NetworKit_Page .Measure .Stat .Group .Title { font-size: 1.1em; display: block; margin-bottom: 0.3em; margin-left: -0.75em; border-right-style: dotted; border-right-width: 1px; border-bottom-style: dotted; border-bottom-width: 1px; background-color: #D0D0D0; padding-left: 0.2em; } .NetworKit_Page .Measure .Stat .Group .List { -webkit-column-count: 3; -moz-column-count: 3; column-count: 3; } .NetworKit_Page .Measure .Stat .Group .List .Entry { position: relative; line-height: 1.75em; } .NetworKit_Page .Measure .Stat .Group .List .Entry[data-tooltip]:before { position: absolute; left: 0; top: -40px; background-color: #808080; color: #ffffff; height: 30px; line-height: 30px; border-radius: 5px; padding: 0 15px; content: attr(data-tooltip); white-space: nowrap; display: none; } .NetworKit_Page .Measure .Stat .Group .List .Entry[data-tooltip]:after { position: absolute; left: 15px; top: -10px; border-top: 7px solid #808080; border-left: 7px solid transparent; border-right: 7px solid transparent; content: \"\"; display: none; } .NetworKit_Page .Measure .Stat .Group .List .Entry[data-tooltip]:hover:after, .NetworKit_Page .Measure .Stat .Group .List .Entry[data-tooltip]:hover:before { display: block; } .NetworKit_Page .Measure .Stat .Group .List .Entry .MathValue { font-family: \"Courier New\", Courier, monospace; } .NetworKit_Page .Measure:after { content: \".\"; visibility: hidden; display: block; height: 0; clear: both; } .NetworKit_Page .PartitionPie { clear: both; } .NetworKit_Page .PartitionPie img { width: 600px; } #NetworKit_Overlay { left: 0px; top: 0px; display: none; position: absolute; width: 100%; height: 100%; background-color: rgba(0,0,0,0.6); z-index: 1000; } #NetworKit_Overlay_Title { position: absolute; color: white; transform: rotate(-90deg); width: 32em; height: 32em; padding-right: 0.5em; padding-top: 0.5em; text-align: right; font-size: 40px; } #NetworKit_Overlay .button { background: white; cursor: pointer; } #NetworKit_Overlay .button:before { size: 13px; display: inline-block; text-align: center; margin-top: 0.5em; margin-bottom: 0.5em; width: 1.5em; height: 1.5em; } #NetworKit_Overlay .icon-close:before { content: \"X\"; } #NetworKit_Overlay .icon-previous:before { content: \"P\"; } #NetworKit_Overlay .icon-next:before { content: \"N\"; } #NetworKit_Overlay .icon-save:before { content: \"S\"; } #NetworKit_Overlay_Toolbar_Top, #NetworKit_Overlay_Toolbar_Bottom { position: absolute; width: 40px; right: 13px; text-align: right; z-index: 1100; } #NetworKit_Overlay_Toolbar_Top { top: 0.5em; } #NetworKit_Overlay_Toolbar_Bottom { Bottom: 0.5em; } #NetworKit_Overlay_ImageContainer { position: absolute; top: 5%; left: 5%; height: 90%; width: 90%; background-repeat: no-repeat; background-position: center center; background-size: contain; } #NetworKit_Overlay_Image { height: 100%; width: 100%; background-repeat: no-repeat; background-position: center center; background-size: contain; }';\n",
       "\t\t\t\telement.setAttribute('id', 'NetworKit_style');\n",
       "\t\t\t\tdocument.head.appendChild(element);\n",
       "\t\t\t}\n",
       "\t\t\n",
       "\t\t\t\t\n",
       "\t\t\t{\n",
       "\t\t\t\tvar element = document.getElementById('NetworKit_Overlay');\n",
       "\t\t\t\tif (element) {\n",
       "\t\t\t\t\telement.parentNode.removeChild(element);\n",
       "\t\t\t\t}\n",
       "\t\t\t\telement = document.createElement('div');\n",
       "\t\t\t\telement.innerHTML = '<div id=\"NetworKit_Overlay_Toolbar_Top\"><div class=\"button icon-close\" id=\"NetworKit_Overlay_Close\" /></div><div id=\"NetworKit_Overlay_Title\" /> <div id=\"NetworKit_Overlay_ImageContainer\"> <div id=\"NetworKit_Overlay_Image\" /> </div> <div id=\"NetworKit_Overlay_Toolbar_Bottom\"> <div class=\"button icon-previous\" onclick=\"NetworKit_overlayImageShift(-1)\" /> <div class=\"button icon-next\" onclick=\"NetworKit_overlayImageShift(1)\" /> <a id=\"NetworKit_Overlay_Toolbar_Bottom_Save\"><div class=\"button icon-save\" /></a> </div>';\n",
       "\t\t\t\telement.setAttribute('id', 'NetworKit_Overlay');\n",
       "\t\t\t\tdocument.body.appendChild(element);\n",
       "\t\t\t\tdocument.getElementById('NetworKit_Overlay_Close').onclick = function (e) {\n",
       "\t\t\t\t\tdocument.getElementById('NetworKit_Overlay').style.display = 'none';\n",
       "\t\t\t\t}\n",
       "\t\t\t}\n",
       "\t\t\n",
       "\t\t\t-->\n",
       "\t\t\t</script>\n",
       "\t\t"
      ]
     },
     "metadata": {},
     "output_type": "display_data"
    }
   ],
   "source": [
    "import pandas as pd\n",
    "import matplotlib.pyplot as plt\n",
    "import os\n",
    "import numpy as np\n",
    "import networkit as nk\n",
    "from tqdm import tqdm\n",
    "import networkx as nx\n",
    "\n",
    "from benji_girgs import generation, utils, plotting, fitting\n",
    "import geopandas as gpd\n",
    "\n",
    "\n",
    "from IPython.core.interactiveshell import InteractiveShell\n",
    "InteractiveShell.ast_node_interactivity = \"all\""
   ]
  },
  {
   "cell_type": "code",
   "execution_count": 24,
   "metadata": {},
   "outputs": [
    {
     "name": "stdout",
     "output_type": "stream",
     "text": [
      "Network Properties:\n",
      "nodes, edges\t\t\t2000, 38429\n",
      "directed?\t\t\tFalse\n",
      "weighted?\t\t\tFalse\n",
      "isolated nodes\t\t\t0\n",
      "self-loops\t\t\t0\n",
      "density\t\t\t\t0.019224\n",
      "clustering coefficient\t\t0.426429\n",
      "min/max/avg degree\t\t8, 1962, 38.429000\n",
      "degree assortativity\t\t-0.109212\n",
      "number of connected components\t1\n",
      "size of largest component\t2000 (100.00 %)\n"
     ]
    }
   ],
   "source": [
    "n=2000\n",
    "d=2\n",
    "tau=2.5\n",
    "alpha=1.3\n",
    "g, edges, weights, pts = generation.generate_GIRG_nk(n, d, tau, alpha, const=0.3)\n",
    "nk.overview(g)\n",
    "\n",
    "def girg_gen_func(const):\n",
    "    g, edges, weights, pts = generation.generate_GIRG_nk(n, d, tau, alpha, const=const)\n",
    "    return g\n",
    "\n",
    "gcf = utils.GirgConstFitter(10.0, girg_gen_func)\n",
    "gcf.verbose=True"
   ]
  },
  {
   "cell_type": "code",
   "execution_count": 25,
   "metadata": {},
   "outputs": [
    {
     "name": "stdout",
     "output_type": "stream",
     "text": [
      "mu:83.65 -> mu2:77.43; overshoot: False, scale:0.429, const: 0.700\n",
      "mu:76.43 -> mu2:47.85; overshoot: False, scale:0.612, const: 0.400\n",
      "mu:49.45 -> mu2:24.67; overshoot: False, scale:0.875, const: 0.155\n",
      "mu:25.12 -> mu2:5.47; overshoot: True, scale:0.612, const: 0.019\n",
      "mu:5.67 -> mu2:10.72; overshoot: True, scale:0.429, const: 0.050\n",
      "mu:11.07 -> mu2:7.08; overshoot: True, scale:0.300, const: 0.029\n",
      "mu:9.16 -> mu2:9.33; overshoot: False, scale:0.429, const: 0.041\n",
      "mu:10.48 -> mu2:5.65; overshoot: True, scale:0.300, const: 0.023\n",
      "mu:6.62 -> mu2:7.84; overshoot: False, scale:0.429, const: 0.033\n",
      "mu:7.81 -> mu2:13.05; overshoot: True, scale:0.300, const: 0.058\n",
      "mu:12.87 -> mu2:9.30; overshoot: True, scale:0.210, const: 0.041\n",
      "mu:9.05 -> mu2:12.48; overshoot: True, scale:0.147, const: 0.052\n",
      "mu:11.20 -> mu2:10.56; overshoot: False, scale:0.210, const: 0.044\n",
      "mu:10.76 -> mu2:8.98; overshoot: True, scale:0.147, const: 0.035\n",
      "mu:9.10 -> mu2:10.81; overshoot: True, scale:0.103, const: 0.041\n"
     ]
    }
   ],
   "source": [
    "gcf.step_n(15)"
   ]
  },
  {
   "cell_type": "code",
   "execution_count": 31,
   "metadata": {},
   "outputs": [
    {
     "name": "stdout",
     "output_type": "stream",
     "text": [
      "Calculating best minimal value for power law fit\n",
      "powerlaw alpha: 2.719\n"
     ]
    },
    {
     "data": {
      "image/png": "[encoded data removed]",
      "text/plain": [
       "<Figure size 640x480 with 2 Axes>"
      ]
     },
     "metadata": {},
     "output_type": "display_data"
    }
   ],
   "source": [
    "plotting.plot_degree_dist(g, vlines=6, pl_fit=True)"
   ]
  },
  {
   "cell_type": "code",
   "execution_count": 32,
   "metadata": {},
   "outputs": [
    {
     "name": "stdout",
     "output_type": "stream",
     "text": [
      "Network Properties:\n",
      "nodes, edges\t\t\t2000, 11730\n",
      "directed?\t\t\tFalse\n",
      "weighted?\t\t\tFalse\n",
      "isolated nodes\t\t\t0\n",
      "self-loops\t\t\t0\n",
      "density\t\t\t\t0.005868\n",
      "clustering coefficient\t\t0.439156\n",
      "min/max/avg degree\t\t1, 1375, 11.730000\n",
      "degree assortativity\t\t-0.113254\n",
      "number of connected components\t1\n",
      "size of largest component\t2000 (100.00 %)\n"
     ]
    }
   ],
   "source": [
    "nk.overview(g)"
   ]
  },
  {
   "cell_type": "code",
   "execution_count": 33,
   "metadata": {},
   "outputs": [],
   "source": [
    "edges = list(g.iterEdges())"
   ]
  },
  {
   "cell_type": "code",
   "execution_count": 21,
   "metadata": {},
   "outputs": [
    {
     "data": {
      "text/plain": [
       "<module 'benji_girgs' from '/Users/benjidayan/GDrive/eth_courses/GIRG/benji_src/benji_girgs/__init__.py'>"
      ]
     },
     "execution_count": 21,
     "metadata": {},
     "output_type": "execute_result"
    },
    {
     "data": {
      "text/plain": [
       "<module 'benji_girgs.utils' from '/Users/benjidayan/GDrive/eth_courses/GIRG/benji_src/benji_girgs/utils.py'>"
      ]
     },
     "execution_count": 21,
     "metadata": {},
     "output_type": "execute_result"
    },
    {
     "data": {
      "text/plain": [
       "<module 'benji_girgs.fitting' from '/Users/benjidayan/GDrive/eth_courses/GIRG/benji_src/benji_girgs/fitting.py'>"
      ]
     },
     "execution_count": 21,
     "metadata": {},
     "output_type": "execute_result"
    }
   ],
   "source": [
    "import imp\n",
    "import benji_girgs\n",
    "imp.reload(benji_girgs)\n",
    "imp.reload(benji_girgs.utils)\n",
    "imp.reload(benji_girgs.fitting)\n",
    "from benji_girgs import utils, fitting"
   ]
  },
  {
   "cell_type": "code",
   "execution_count": 93,
   "metadata": {},
   "outputs": [
    {
     "name": "stdout",
     "output_type": "stream",
     "text": [
      "1.01\n",
      "[2 3 4]\n",
      "[7968 1992   40]\n",
      "std_distances: 0.415, median_dist: 2.0\n",
      "1.01\n",
      "[2 3 4]\n",
      "[8791 1205    4]\n",
      "std_distances: 0.328, median_dist: 2.0\n",
      "1.1\n",
      "[ 2  3  4 -1]\n",
      "[8978  995   24    3]\n",
      "std_distances: 0.314, median_dist: 2.0\n",
      "1.1\n",
      "[ 2  3  4  5 -1]\n",
      "[8478 1459   60    1    2]\n",
      "std_distances: 0.382, median_dist: 2.0\n",
      "1.4\n",
      "[ 2  3  4  5  6 -1]\n",
      "[8872  951   99    8    3   67]\n",
      "std_distances: 0.375, median_dist: 2.0\n",
      "1.4\n",
      "[ 2  3  4  5  6 -1]\n",
      "[7834 1480  443   79   16  148]\n",
      "std_distances: 0.611, median_dist: 2.0\n",
      "2.5\n",
      "[ 2  3  4  5  6 -1]\n",
      "[8840  372   58   17   14  699]\n",
      "std_distances: 0.410, median_dist: 2.0\n",
      "2.5\n",
      "[ 2  3  4  5  6 -1]\n",
      "[9035  272   39   16   12  626]\n",
      "std_distances: 0.372, median_dist: 2.0\n",
      "5.0\n",
      "[ 2  3  4  5  7 -1]\n",
      "[8557   95   16   28    2 1302]\n",
      "std_distances: 0.406, median_dist: 2.0\n",
      "5.0\n",
      "[ 2  3  4  5  6 -1]\n",
      "[8998   79   28   23   12  860]\n",
      "std_distances: 0.376, median_dist: 2.0\n"
     ]
    }
   ],
   "source": [
    "n=2000\n",
    "d=2\n",
    "tau=2.5\n",
    "alphas = 1.01, 1.1, 1.4, 2.5, 5.0\n",
    "for alpha in alphas:\n",
    "    for _ in range(2):\n",
    "        g, edges, weights, pts = generation.generate_GIRG_nk(n, d, tau, alpha, const=0.3)\n",
    "        distances, std_distances, unique_dists, dist_counts, = fitting.graph_edge_removed_distances(g, 10000)\n",
    "        # plt.plot(unique_dists, dist_counts, label=alpha)\n",
    "        print(alpha)\n",
    "        print(unique_dists)\n",
    "        print(dist_counts)\n",
    "        print(f'std_distances: {std_distances:.3f}, median_dist: {np.median(distances)}')\n",
    "        "
   ]
  },
  {
   "cell_type": "code",
   "execution_count": 95,
   "metadata": {},
   "outputs": [
    {
     "name": "stderr",
     "output_type": "stream",
     "text": [
      "/Users/benjidayan/GDrive/eth_courses/GIRG/benji_src/benji_girgs/generation.py:114: RuntimeWarning: divide by zero encountered in divide\n",
      "  p_uv = np.divide(outer, dists**d)\n"
     ]
    },
    {
     "name": "stdout",
     "output_type": "stream",
     "text": [
      "1.01\n",
      "[1 2 3 4]\n",
      "[ 106 5671 4142   81]\n",
      "std_distances: 0.530, median_dist: 2.0\n",
      "1.01\n",
      "[1 2 3 4 5]\n",
      "[  78 1812 6989 1118    3]\n",
      "std_distances: 0.564, median_dist: 3.0\n"
     ]
    },
    {
     "name": "stderr",
     "output_type": "stream",
     "text": [
      "/Users/benjidayan/GDrive/eth_courses/GIRG/benji_src/benji_girgs/fitting.py:87: RuntimeWarning: invalid value encountered in cast\n",
      "  distances = np.array(np.nan_to_num(distances)).astype(np.int64)\n"
     ]
    },
    {
     "name": "stdout",
     "output_type": "stream",
     "text": [
      "1.1\n",
      "[ 1  2  3  4  5 -1]\n",
      "[  63 1627 6422 1845   28   15]\n",
      "std_distances: 0.624, median_dist: 3.0\n",
      "1.1\n",
      "[1 2 3 4 5]\n",
      "[  79 2607 6393  918    3]\n",
      "std_distances: 0.593, median_dist: 3.0\n",
      "1.4\n",
      "[ 1  2  3  4  5  6 -1]\n",
      "[  47 2148 5509 1891  208    9  188]\n",
      "std_distances: 0.767, median_dist: 3.0\n",
      "1.4\n",
      "[ 1  2  3  4  5  6  7  8 -1]\n",
      "[  46 1033 4860 3086  581   59   11    1  323]\n",
      "std_distances: 0.890, median_dist: 3.0\n",
      "2.5\n",
      "[ 1  2  3  4  5  6  7  8  9 10 11 -1]\n",
      "[  33  241 1106 2170 2018 1131  463  198   75   29   12 2524]\n",
      "std_distances: 2.049, median_dist: 4.0\n",
      "2.5\n",
      "[ 1  2  3  4  5  6  7  8  9 11 -1]\n",
      "[  18  577 2922 2817 1124  364  120   34    7    1 2016]\n",
      "std_distances: 1.480, median_dist: 3.0\n",
      "5.0\n",
      "[ 1  2  3  4  5  6  7  8  9 10 11 12 13 14 -1]\n",
      "[  17  162  882 1498 1219  643  297  151   74   49   29   17    7    4\n",
      " 4951]\n",
      "std_distances: 2.238, median_dist: 2.0\n",
      "5.0\n",
      "[ 1  2  3  4  5  6  7  8  9 10 12 -1]\n",
      "[  16  397 1380 1530  824  349  131   44   10    3    1 5315]\n",
      "std_distances: 1.728, median_dist: 1.0\n"
     ]
    }
   ],
   "source": [
    "n=2000\n",
    "d=2\n",
    "tau=2.5\n",
    "alphas = 1.01, 1.1, 1.4, 2.5, 5.0\n",
    "for alpha in alphas:\n",
    "    for _ in range(2):\n",
    "        g, edges, weights, pts = generation.generate_GIRG_nk(n, d, tau, alpha, const=0.3)\n",
    "        distances, std_distances, unique_dists, dist_counts, = fitting.graph_distances(g, 10000)\n",
    "        # plt.plot(unique_dists, dist_counts, label=alpha)\n",
    "        print(alpha)\n",
    "        print(unique_dists)\n",
    "        print(dist_counts)\n",
    "        print(f'std_distances: {std_distances:.3f}, median_dist: {np.median(distances)}')\n",
    "        "
   ]
  },
  {
   "cell_type": "code",
   "execution_count": 96,
   "metadata": {},
   "outputs": [
    {
     "name": "stderr",
     "output_type": "stream",
     "text": [
      "/Users/benjidayan/GDrive/eth_courses/GIRG/benji_src/benji_girgs/generation.py:114: RuntimeWarning: divide by zero encountered in divide\n",
      "  p_uv = np.divide(outer, dists**d)\n"
     ]
    },
    {
     "name": "stdout",
     "output_type": "stream",
     "text": [
      "alph: 1.01\n",
      "std_distances: 0.535, median_dist: 3.0\n",
      "alph: 1.01\n",
      "std_distances: 0.524, median_dist: 3.0\n",
      "alph: 1.01\n",
      "std_distances: 0.560, median_dist: 3.0\n",
      "alph: 1.1\n",
      "std_distances: 0.587, median_dist: 3.0\n",
      "alph: 1.1\n",
      "std_distances: 0.610, median_dist: 3.0\n"
     ]
    },
    {
     "name": "stderr",
     "output_type": "stream",
     "text": [
      "/Users/benjidayan/GDrive/eth_courses/GIRG/benji_src/benji_girgs/fitting.py:87: RuntimeWarning: invalid value encountered in cast\n",
      "  distances = np.array(np.nan_to_num(distances)).astype(np.int64)\n"
     ]
    },
    {
     "name": "stdout",
     "output_type": "stream",
     "text": [
      "alph: 1.1\n",
      "std_distances: 0.589, median_dist: 3.0\n",
      "alph: 1.4\n",
      "std_distances: 0.636, median_dist: 3.0\n",
      "alph: 1.4\n",
      "std_distances: 0.860, median_dist: 3.0\n",
      "alph: 1.4\n",
      "std_distances: 0.795, median_dist: 3.0\n",
      "alph: 2.5\n",
      "std_distances: 1.289, median_dist: 3.0\n",
      "alph: 2.5\n",
      "std_distances: 1.514, median_dist: 3.0\n",
      "alph: 2.5\n",
      "std_distances: 2.152, median_dist: 4.0\n",
      "alph: 5.0\n",
      "std_distances: 2.055, median_dist: 3.0\n",
      "alph: 5.0\n",
      "std_distances: 2.261, median_dist: 3.0\n",
      "alph: 5.0\n",
      "std_distances: 1.349, median_dist: 3.0\n"
     ]
    }
   ],
   "source": [
    "n=2000\n",
    "d=2\n",
    "tau=2.5\n",
    "alphas = 1.01, 1.1, 1.4, 2.5, 5.0\n",
    "for alpha in alphas:\n",
    "    for _ in range(3):\n",
    "        g, edges, weights, pts = generation.generate_GIRG_nk(n, d, tau, alpha, const=0.3)\n",
    "        distances, std_distances, unique_dists, dist_counts, = fitting.graph_distances(g, 10000)\n",
    "        # plt.plot(unique_dists, dist_counts, label=alpha)\n",
    "        print(f'alpha: {alpha}')\n",
    "        # print(unique_dists)\n",
    "        # print(dist_counts)\n",
    "        print(f'std_distances: {std_distances:.3f}, median_dist: {np.median(distances)}')\n",
    "        "
   ]
  },
  {
   "cell_type": "code",
   "execution_count": 103,
   "metadata": {},
   "outputs": [
    {
     "name": "stderr",
     "output_type": "stream",
     "text": [
      "/Users/benjidayan/GDrive/eth_courses/GIRG/benji_src/benji_girgs/generation.py:114: RuntimeWarning: divide by zero encountered in divide\n",
      "  p_uv = np.divide(outer, dists**d)\n",
      "/Users/benjidayan/GDrive/eth_courses/GIRG/benji_src/benji_girgs/fitting.py:87: RuntimeWarning: invalid value encountered in cast\n",
      "  distances = np.array(np.nan_to_num(distances)).astype(np.int64)\n"
     ]
    },
    {
     "name": "stdout",
     "output_type": "stream",
     "text": [
      "alpha: 2.5\n",
      "std_distances: 1.372, median_dist: 3.0\n",
      "alpha: 2.5\n",
      "std_distances: 0.896, median_dist: 3.0\n",
      "alpha: 2.5\n",
      "std_distances: 1.929, median_dist: 4.0\n",
      "alpha: 2.5\n",
      "std_distances: 0.866, median_dist: 3.0\n",
      "alpha: 2.5\n",
      "std_distances: 1.782, median_dist: 4.0\n",
      "alpha: 5.0\n",
      "std_distances: 1.754, median_dist: 3.0\n",
      "alpha: 5.0\n",
      "std_distances: 1.784, median_dist: 1.0\n",
      "alpha: 5.0\n",
      "std_distances: 2.686, median_dist: 1.0\n",
      "alpha: 5.0\n",
      "std_distances: 1.429, median_dist: 3.0\n",
      "alpha: 5.0\n",
      "std_distances: 1.931, median_dist: 2.0\n",
      "alpha: 10.0\n",
      "std_distances: 1.899, median_dist: 1.0\n",
      "alpha: 10.0\n",
      "std_distances: 1.943, median_dist: 1.0\n",
      "alpha: 10.0\n",
      "std_distances: 2.686, median_dist: 1.0\n",
      "alpha: 10.0\n",
      "std_distances: 1.557, median_dist: 2.0\n",
      "alpha: 10.0\n",
      "std_distances: 1.406, median_dist: 3.0\n",
      "alpha: 20.0\n",
      "std_distances: 2.507, median_dist: 1.0\n",
      "alpha: 20.0\n",
      "std_distances: 0.050, median_dist: 2.0\n",
      "alpha: 20.0\n",
      "std_distances: 1.141, median_dist: 2.0\n",
      "alpha: 20.0\n",
      "std_distances: 1.275, median_dist: 2.0\n",
      "alpha: 20.0\n",
      "std_distances: 2.169, median_dist: 1.0\n"
     ]
    },
    {
     "data": {
      "text/plain": [
       "<AxesSubplot:xlabel='alpha', ylabel='std_distances'>"
      ]
     },
     "execution_count": 103,
     "metadata": {},
     "output_type": "execute_result"
    },
    {
     "data": {
      "image/png": "[encoded data removed]",
      "text/plain": [
       "<Figure size 640x480 with 1 Axes>"
      ]
     },
     "metadata": {},
     "output_type": "display_data"
    }
   ],
   "source": [
    "n=2000\n",
    "d=2\n",
    "tau=2.5\n",
    "alphas = 2.5, 5.0, 10.0, 20.0\n",
    "plot_pts = []\n",
    "for alpha in alphas:\n",
    "    for _ in range(5):\n",
    "        g, edges, weights, pts = generation.generate_GIRG_nk(n, d, tau, alpha, const=0.3)\n",
    "        distances, std_distances, unique_dists, dist_counts, = fitting.graph_distances(g, 10000)\n",
    "        # plt.plot(unique_dists, dist_counts, label=alpha)\n",
    "        print(f'alpha: {alpha}')\n",
    "        # print(unique_dists)\n",
    "        # print(dist_counts)\n",
    "        print(f'std_distances: {std_distances:.3f}, median_dist: {np.median(distances)}')\n",
    "        plot_pts.append((alpha, std_distances))\n",
    "\n",
    "df = pd.DataFrame(plot_pts, columns=['alpha', 'std_distances'])\n",
    "df.plot.scatter(x='alpha', y='std_distances', marker='x')\n",
    "\n",
    "        "
   ]
  },
  {
   "cell_type": "code",
   "execution_count": 8,
   "metadata": {},
   "outputs": [],
   "source": [
    "n=2000\n",
    "d=2\n",
    "tau=2.5\n",
    "alpha = 1.5\n",
    "g, edges, weights, pts = generation.generate_GIRG_nk(n, d, tau, alpha, const=0.3)"
   ]
  },
  {
   "cell_type": "code",
   "execution_count": 9,
   "metadata": {},
   "outputs": [
    {
     "name": "stderr",
     "output_type": "stream",
     "text": [
      "100%|██████████| 1000/1000 [00:01<00:00, 524.82it/s]\n"
     ]
    }
   ],
   "source": [
    "unique_sizes, sizes_counts = fitting.biBFS_sample(g, 1000, use_tqdm=True)"
   ]
  },
  {
   "cell_type": "code",
   "execution_count": 10,
   "metadata": {},
   "outputs": [
    {
     "data": {
      "text/plain": [
       "array([  2,   4,   5,   6,   7,   8,   9,  10,  11,  12,  13,  14,  15,\n",
       "        16,  17,  18,  19,  20,  21,  22,  23,  24,  25,  26,  27,  28,\n",
       "        29,  30,  31,  32,  33,  34,  35,  36,  37,  38,  39,  41,  42,\n",
       "        44,  46,  48,  50,  52,  54,  59,  63,  65,  76, 152, 158, 164,\n",
       "       338])"
      ]
     },
     "execution_count": 10,
     "metadata": {},
     "output_type": "execute_result"
    }
   ],
   "source": [
    "unique_sizes"
   ]
  },
  {
   "cell_type": "code",
   "execution_count": 11,
   "metadata": {},
   "outputs": [
    {
     "data": {
      "text/plain": [
       "array([419,   2,   2,  16,  25,  46,  34,  44,  51,  56,  46,  34,  38,\n",
       "        26,  30,  20,   9,   8,   9,  10,  10,   3,   6,   6,   3,   2,\n",
       "         3,   1,   4,   3,   1,   2,   2,   3,   2,   2,   1,   2,   1,\n",
       "         1,   1,   3,   2,   1,   1,   1,   2,   1,   1,   1,   1,   1,\n",
       "         1])"
      ]
     },
     "execution_count": 11,
     "metadata": {},
     "output_type": "execute_result"
    }
   ],
   "source": [
    "new_a, new_b, seen_a, seen_b, dist_a, dist_b, met = utils.bi_bfs(g, a, b)"
   ]
  },
  {
   "cell_type": "code",
   "execution_count": 184,
   "metadata": {},
   "outputs": [],
   "source": [
    "dists_a = utils.simple_bfs(g, 0, degree_thresh=None)\n",
    "dists_b = utils.simple_bfs(g, 1, degree_thresh=None)"
   ]
  },
  {
   "cell_type": "code",
   "execution_count": 144,
   "metadata": {},
   "outputs": [],
   "source": [
    "dist = 0\n",
    "seen_a = set()\n",
    "seen_b = set()\n",
    "while True:\n",
    "    new_a, new_b = dists_a[dist], dists_b[dist]\n",
    "    if new_a.intersection(seen_b) or new_b.intersection(seen_a) or new_a.intersection(new_b):\n",
    "        break\n",
    "    seen_a.update(new_a)\n",
    "    seen_b.update(new_b)\n",
    "    dist += 1"
   ]
  },
  {
   "cell_type": "code",
   "execution_count": 156,
   "metadata": {},
   "outputs": [
    {
     "data": {
      "text/plain": [
       "[1, 4, 105, 503, 445, 153, 64, 30, 8, 4, 8, 3, 0]"
      ]
     },
     "execution_count": 156,
     "metadata": {},
     "output_type": "execute_result"
    },
    {
     "data": {
      "text/plain": [
       "[1, 6, 103, 550, 418, 149, 62, 23, 5, 8, 3, 0]"
      ]
     },
     "execution_count": 156,
     "metadata": {},
     "output_type": "execute_result"
    }
   ],
   "source": [
    "[len(dists_a[i]) for i in range(len(dists_a))]\n",
    "[len(dists_b[i]) for i in range(len(dists_b))]"
   ]
  },
  {
   "cell_type": "code",
   "execution_count": 7,
   "metadata": {},
   "outputs": [
    {
     "name": "stderr",
     "output_type": "stream",
     "text": [
      "/var/folders/60/0t2c_bns6n3c7kjhdk4d4wk80000gn/T/ipykernel_24167/852307102.py:1: DeprecationWarning: the imp module is deprecated in favour of importlib; see the module's documentation for alternative uses\n",
      "  import imp\n"
     ]
    },
    {
     "data": {
      "text/plain": [
       "<module 'benji_girgs' from '/Users/benjidayan/GDrive/eth_courses/GIRG/benji_src/benji_girgs/__init__.py'>"
      ]
     },
     "execution_count": 7,
     "metadata": {},
     "output_type": "execute_result"
    },
    {
     "data": {
      "text/plain": [
       "<module 'benji_girgs.utils' from '/Users/benjidayan/GDrive/eth_courses/GIRG/benji_src/benji_girgs/utils.py'>"
      ]
     },
     "execution_count": 7,
     "metadata": {},
     "output_type": "execute_result"
    },
    {
     "data": {
      "text/plain": [
       "<module 'benji_girgs.fitting' from '/Users/benjidayan/GDrive/eth_courses/GIRG/benji_src/benji_girgs/fitting.py'>"
      ]
     },
     "execution_count": 7,
     "metadata": {},
     "output_type": "execute_result"
    }
   ],
   "source": [
    "import imp\n",
    "import benji_girgs\n",
    "imp.reload(benji_girgs)\n",
    "imp.reload(benji_girgs.utils)\n",
    "imp.reload(benji_girgs.fitting)\n",
    "from benji_girgs import utils, fitting"
   ]
  },
  {
   "cell_type": "code",
   "execution_count": 181,
   "metadata": {},
   "outputs": [],
   "source": [
    "new_a, new_b, seen_a, seen_b, dist_a, dist_b, got = utils.bi_bfs(g, 0, 1)"
   ]
  },
  {
   "cell_type": "code",
   "execution_count": 183,
   "metadata": {},
   "outputs": [
    {
     "data": {
      "text/plain": [
       "(2, 2)"
      ]
     },
     "execution_count": 183,
     "metadata": {},
     "output_type": "execute_result"
    }
   ],
   "source": [
    "dist_a, dist_b"
   ]
  },
  {
   "cell_type": "code",
   "execution_count": 187,
   "metadata": {},
   "outputs": [
    {
     "data": {
      "text/plain": [
       "{237, 278, 311, 402, 881, 1065, 1314, 1500, 1758, 1961}"
      ]
     },
     "execution_count": 187,
     "metadata": {},
     "output_type": "execute_result"
    }
   ],
   "source": [
    "dists_a[2].intersection(dists_b[2])"
   ]
  },
  {
   "cell_type": "code",
   "execution_count": 4,
   "metadata": {},
   "outputs": [
    {
     "name": "stderr",
     "output_type": "stream",
     "text": [
      "100%|██████████| 100/100 [00:00<00:00, 516.81it/s]"
     ]
    },
    {
     "name": "stdout",
     "output_type": "stream",
     "text": [
      "1670 719\n",
      "349 600\n",
      "1621 388\n",
      "741 1138\n",
      "437 1039\n",
      "771 90\n",
      "1564 583\n",
      "1035 1601\n",
      "389 566\n",
      "131 1524\n",
      "1865 108\n",
      "891 770\n",
      "491 548\n",
      "562 555\n",
      "867 441\n",
      "1440 1625\n",
      "1928 982\n",
      "883 855\n",
      "1049 1248\n",
      "296 370\n",
      "111 718\n",
      "1844 438\n",
      "1338 347\n",
      "830 744\n",
      "1120 15\n",
      "422 1513\n",
      "1811 378\n",
      "15 1080\n",
      "481 1816\n",
      "1812 1531\n",
      "1891 1\n",
      "1090 1825\n",
      "146 1350\n",
      "811 996\n",
      "466 1167\n",
      "255 500\n",
      "1585 565\n",
      "187 666\n",
      "815 432\n",
      "1564 1731\n",
      "1258 799\n",
      "1475 1521\n",
      "195 756\n",
      "848 1456\n",
      "68 405\n",
      "1329 1193\n",
      "1631 1893\n",
      "1124 1216\n",
      "1082 1645\n",
      "987 607\n",
      "37 1813\n",
      "453 187\n",
      "1675 617\n",
      "430 309\n",
      "1422 1803\n",
      "936 335\n",
      "185 341\n",
      "861 1834\n",
      "1172 1755\n",
      "1376 1752\n",
      "5 1289\n",
      "1225 1054\n",
      "553 1861\n",
      "1545 313\n",
      "182 252\n",
      "945 1073\n",
      "1015 1579\n",
      "1687 215\n",
      "1110 1231\n",
      "135 1009\n",
      "998 469\n",
      "1246 786\n",
      "664 1699\n",
      "824 368\n",
      "1104 1718\n",
      "1248 996\n",
      "1621 623\n",
      "404 291\n",
      "697 572\n",
      "868 934\n",
      "271 546\n",
      "1725 642\n",
      "1679 165\n",
      "222 1171\n",
      "438 1534\n",
      "1592 79\n",
      "1523 40\n",
      "1660 1916\n",
      "384 262\n",
      "1101 1619\n",
      "907 1524\n",
      "962 1246\n",
      "1056 265\n",
      "236 1818\n",
      "1376 1284\n",
      "77 1406\n",
      "1186 985\n",
      "526 1054\n",
      "1960 690\n",
      "1934 461\n"
     ]
    },
    {
     "name": "stderr",
     "output_type": "stream",
     "text": [
      "\n"
     ]
    }
   ],
   "source": [
    "unique_sizes, sizes_counts = fitting.biBFS_sample(g, 1000, use_tqdm=True)"
   ]
  },
  {
   "cell_type": "code",
   "execution_count": 5,
   "metadata": {},
   "outputs": [
    {
     "data": {
      "text/plain": [
       "array([  2,   7,   8,   9,  10,  11,  12,  13,  14,  15,  16,  17,  18,\n",
       "        20,  21,  23,  24,  26,  27,  29,  30,  36,  38,  45,  48,  55,\n",
       "        94, 408, 531])"
      ]
     },
     "execution_count": 5,
     "metadata": {},
     "output_type": "execute_result"
    }
   ],
   "source": [
    "unique_sizes"
   ]
  },
  {
   "cell_type": "code",
   "execution_count": 177,
   "metadata": {},
   "outputs": [
    {
     "name": "stdout",
     "output_type": "stream",
     "text": [
      "Network Properties:\n",
      "nodes, edges\t\t\t2000, 2896\n",
      "directed?\t\t\tFalse\n",
      "weighted?\t\t\tFalse\n",
      "isolated nodes\t\t\t332\n",
      "self-loops\t\t\t0\n",
      "density\t\t\t\t0.001449\n",
      "clustering coefficient\t\t0.385318\n",
      "min/max/avg degree\t\t0, 230, 2.896000\n",
      "degree assortativity\t\t-0.062360\n",
      "number of connected components\t436\n",
      "size of largest component\t1328 (66.40 %)\n"
     ]
    }
   ],
   "source": [
    "nk.overview(g)"
   ]
  },
  {
   "cell_type": "code",
   "execution_count": null,
   "metadata": {},
   "outputs": [],
   "source": []
  }
 ],
 "metadata": {
  "kernelspec": {
   "display_name": "base",
   "language": "python",
   "name": "python3"
  },
  "language_info": {
   "codemirror_mode": {
    "name": "ipython",
    "version": 3
   },
   "file_extension": ".py",
   "mimetype": "text/x-python",
   "name": "python",
   "nbconvert_exporter": "python",
   "pygments_lexer": "ipython3",
   "version": "3.9.13"
  },
  "orig_nbformat": 4
 },
 "nbformat": 4,
 "nbformat_minor": 2
}
