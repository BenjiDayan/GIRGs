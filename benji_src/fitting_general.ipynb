{
 "cells": [
  {
   "cell_type": "code",
   "execution_count": 1,
   "metadata": {},
   "outputs": [],
   "source": [
    "import sys\n",
    "sys.path.append('../')"
   ]
  },
  {
   "cell_type": "code",
   "execution_count": 2,
   "metadata": {},
   "outputs": [
    {
     "data": {
      "text/html": [
       "\n",
       "\t\t\t<script type=\"text/javascript\">\n",
       "\t\t\t<!--\n",
       "\t\t\t\t\n",
       "\t\t\t{\n",
       "\t\t\t\tvar element = document.getElementById('NetworKit_script');\n",
       "\t\t\t\tif (element) {\n",
       "\t\t\t\t\telement.parentNode.removeChild(element);\n",
       "\t\t\t\t}\n",
       "\t\t\t\telement = document.createElement('script');\n",
       "\t\t\t\telement.type = 'text/javascript';\n",
       "\t\t\t\telement.innerHTML = 'function NetworKit_pageEmbed(id) { var i, j; var elements; elements = document.getElementById(id).getElementsByClassName(\"Plot\"); for (i=0; i<elements.length; i++) { elements[i].id = id + \"_Plot_\" + i; var data = elements[i].getAttribute(\"data-image\").split(\"|\"); elements[i].removeAttribute(\"data-image\"); var content = \"<div class=\\\\\"Image\\\\\" id=\\\\\"\" + elements[i].id + \"_Image\\\\\" />\"; elements[i].innerHTML = content; elements[i].setAttribute(\"data-image-index\", 0); elements[i].setAttribute(\"data-image-length\", data.length); for (j=0; j<data.length; j++) { elements[i].setAttribute(\"data-image-\" + j, data[j]); } NetworKit_plotUpdate(elements[i]); elements[i].onclick = function (e) { NetworKit_overlayShow((e.target) ? e.target : e.srcElement); } } elements = document.getElementById(id).getElementsByClassName(\"HeatCell\"); for (i=0; i<elements.length; i++) { var data = parseFloat(elements[i].getAttribute(\"data-heat\")); var color = \"#00FF00\"; if (data <= 1 && data > 0) { color = \"hsla(0, 100%, 75%, \" + (data) + \")\"; } else if (data <= 0 && data >= -1) { color = \"hsla(240, 100%, 75%, \" + (-data) + \")\"; } elements[i].style.backgroundColor = color; } elements = document.getElementById(id).getElementsByClassName(\"Details\"); for (i=0; i<elements.length; i++) { elements[i].setAttribute(\"data-title\", \"-\"); NetworKit_toggleDetails(elements[i]); elements[i].onclick = function (e) { NetworKit_toggleDetails((e.target) ? e.target : e.srcElement); } } elements = document.getElementById(id).getElementsByClassName(\"MathValue\"); for (i=elements.length-1; i>=0; i--) { value = elements[i].innerHTML.trim(); if (value === \"nan\") { elements[i].parentNode.innerHTML = \"\" } } elements = document.getElementById(id).getElementsByClassName(\"SubCategory\"); for (i=elements.length-1; i>=0; i--) { value = elements[i].innerHTML.trim(); if (value === \"\") { elements[i].parentNode.removeChild(elements[i]) } } elements = document.getElementById(id).getElementsByClassName(\"Category\"); for (i=elements.length-1; i>=0; i--) { value = elements[i].innerHTML.trim(); if (value === \"\") { elements[i].parentNode.removeChild(elements[i]) } } var isFirefox = false; try { isFirefox = typeof InstallTrigger !== \"undefined\"; } catch (e) {} if (!isFirefox) { alert(\"Currently the function\\'s output is only fully supported by Firefox.\"); } } function NetworKit_plotUpdate(source) { var index = source.getAttribute(\"data-image-index\"); var data = source.getAttribute(\"data-image-\" + index); var image = document.getElementById(source.id + \"_Image\"); image.style.backgroundImage = \"url(\" + data + \")\"; } function NetworKit_showElement(id, show) { var element = document.getElementById(id); element.style.display = (show) ? \"block\" : \"none\"; } function NetworKit_overlayShow(source) { NetworKit_overlayUpdate(source); NetworKit_showElement(\"NetworKit_Overlay\", true); } function NetworKit_overlayUpdate(source) { document.getElementById(\"NetworKit_Overlay_Title\").innerHTML = source.title; var index = source.getAttribute(\"data-image-index\"); var data = source.getAttribute(\"data-image-\" + index); var image = document.getElementById(\"NetworKit_Overlay_Image\"); image.setAttribute(\"data-id\", source.id); image.style.backgroundImage = \"url(\" + data + \")\"; var link = document.getElementById(\"NetworKit_Overlay_Toolbar_Bottom_Save\"); link.href = data; link.download = source.title + \".svg\"; } function NetworKit_overlayImageShift(delta) { var image = document.getElementById(\"NetworKit_Overlay_Image\"); var source = document.getElementById(image.getAttribute(\"data-id\")); var index = parseInt(source.getAttribute(\"data-image-index\")); var length = parseInt(source.getAttribute(\"data-image-length\")); var index = (index+delta) % length; if (index < 0) { index = length + index; } source.setAttribute(\"data-image-index\", index); NetworKit_overlayUpdate(source); } function NetworKit_toggleDetails(source) { var childs = source.children; var show = false; if (source.getAttribute(\"data-title\") == \"-\") { source.setAttribute(\"data-title\", \"+\"); show = false; } else { source.setAttribute(\"data-title\", \"-\"); show = true; } for (i=0; i<childs.length; i++) { if (show) { childs[i].style.display = \"block\"; } else { childs[i].style.display = \"none\"; } } }';\n",
       "\t\t\t\telement.setAttribute('id', 'NetworKit_script');\n",
       "\t\t\t\tdocument.head.appendChild(element);\n",
       "\t\t\t}\n",
       "\t\t\n",
       "\t\t\t\t\n",
       "\t\t\t{\n",
       "\t\t\t\tvar element = document.getElementById('NetworKit_style');\n",
       "\t\t\t\tif (element) {\n",
       "\t\t\t\t\telement.parentNode.removeChild(element);\n",
       "\t\t\t\t}\n",
       "\t\t\t\telement = document.createElement('style');\n",
       "\t\t\t\telement.type = 'text/css';\n",
       "\t\t\t\telement.innerHTML = '.NetworKit_Page { font-family: Arial, Helvetica, sans-serif; font-size: 14px; } .NetworKit_Page .Value:before { font-family: Arial, Helvetica, sans-serif; font-size: 1.05em; content: attr(data-title) \":\"; margin-left: -2.5em; padding-right: 0.5em; } .NetworKit_Page .Details .Value:before { display: block; } .NetworKit_Page .Value { font-family: monospace; white-space: pre; padding-left: 2.5em; white-space: -moz-pre-wrap !important; white-space: -pre-wrap; white-space: -o-pre-wrap; white-space: pre-wrap; word-wrap: break-word; tab-size: 4; -moz-tab-size: 4; } .NetworKit_Page .Category { clear: both; padding-left: 1em; margin-bottom: 1.5em; } .NetworKit_Page .Category:before { content: attr(data-title); font-size: 1.75em; display: block; margin-left: -0.8em; margin-bottom: 0.5em; } .NetworKit_Page .SubCategory { margin-bottom: 1.5em; padding-left: 1em; } .NetworKit_Page .SubCategory:before { font-size: 1.6em; display: block; margin-left: -0.8em; margin-bottom: 0.5em; } .NetworKit_Page .SubCategory[data-title]:before { content: attr(data-title); } .NetworKit_Page .Block { display: block; } .NetworKit_Page .Block:after { content: \".\"; visibility: hidden; display: block; height: 0; clear: both; } .NetworKit_Page .Block .Thumbnail_Overview, .NetworKit_Page .Block .Thumbnail_ScatterPlot { width: 260px; float: left; } .NetworKit_Page .Block .Thumbnail_Overview img, .NetworKit_Page .Block .Thumbnail_ScatterPlot img { width: 260px; } .NetworKit_Page .Block .Thumbnail_Overview:before, .NetworKit_Page .Block .Thumbnail_ScatterPlot:before { display: block; text-align: center; font-weight: bold; } .NetworKit_Page .Block .Thumbnail_Overview:before { content: attr(data-title); } .NetworKit_Page .HeatCell { font-family: \"Courier New\", Courier, monospace; cursor: pointer; } .NetworKit_Page .HeatCell, .NetworKit_Page .HeatCellName { display: inline; padding: 0.1em; margin-right: 2px; background-color: #FFFFFF } .NetworKit_Page .HeatCellName { margin-left: 0.25em; } .NetworKit_Page .HeatCell:before { content: attr(data-heat); display: inline-block; color: #000000; width: 4em; text-align: center; } .NetworKit_Page .Measure { clear: both; } .NetworKit_Page .Measure .Details { cursor: pointer; } .NetworKit_Page .Measure .Details:before { content: \"[\" attr(data-title) \"]\"; display: block; } .NetworKit_Page .Measure .Details .Value { border-left: 1px dotted black; margin-left: 0.4em; padding-left: 3.5em; pointer-events: none; } .NetworKit_Page .Measure .Details .Spacer:before { content: \".\"; opacity: 0.0; pointer-events: none; } .NetworKit_Page .Measure .Plot { width: 440px; height: 440px; cursor: pointer; float: left; margin-left: -0.9em; margin-right: 20px; } .NetworKit_Page .Measure .Plot .Image { background-repeat: no-repeat; background-position: center center; background-size: contain; height: 100%; pointer-events: none; } .NetworKit_Page .Measure .Stat { width: 500px; float: left; } .NetworKit_Page .Measure .Stat .Group { padding-left: 1.25em; margin-bottom: 0.75em; } .NetworKit_Page .Measure .Stat .Group .Title { font-size: 1.1em; display: block; margin-bottom: 0.3em; margin-left: -0.75em; border-right-style: dotted; border-right-width: 1px; border-bottom-style: dotted; border-bottom-width: 1px; background-color: #D0D0D0; padding-left: 0.2em; } .NetworKit_Page .Measure .Stat .Group .List { -webkit-column-count: 3; -moz-column-count: 3; column-count: 3; } .NetworKit_Page .Measure .Stat .Group .List .Entry { position: relative; line-height: 1.75em; } .NetworKit_Page .Measure .Stat .Group .List .Entry[data-tooltip]:before { position: absolute; left: 0; top: -40px; background-color: #808080; color: #ffffff; height: 30px; line-height: 30px; border-radius: 5px; padding: 0 15px; content: attr(data-tooltip); white-space: nowrap; display: none; } .NetworKit_Page .Measure .Stat .Group .List .Entry[data-tooltip]:after { position: absolute; left: 15px; top: -10px; border-top: 7px solid #808080; border-left: 7px solid transparent; border-right: 7px solid transparent; content: \"\"; display: none; } .NetworKit_Page .Measure .Stat .Group .List .Entry[data-tooltip]:hover:after, .NetworKit_Page .Measure .Stat .Group .List .Entry[data-tooltip]:hover:before { display: block; } .NetworKit_Page .Measure .Stat .Group .List .Entry .MathValue { font-family: \"Courier New\", Courier, monospace; } .NetworKit_Page .Measure:after { content: \".\"; visibility: hidden; display: block; height: 0; clear: both; } .NetworKit_Page .PartitionPie { clear: both; } .NetworKit_Page .PartitionPie img { width: 600px; } #NetworKit_Overlay { left: 0px; top: 0px; display: none; position: absolute; width: 100%; height: 100%; background-color: rgba(0,0,0,0.6); z-index: 1000; } #NetworKit_Overlay_Title { position: absolute; color: white; transform: rotate(-90deg); width: 32em; height: 32em; padding-right: 0.5em; padding-top: 0.5em; text-align: right; font-size: 40px; } #NetworKit_Overlay .button { background: white; cursor: pointer; } #NetworKit_Overlay .button:before { size: 13px; display: inline-block; text-align: center; margin-top: 0.5em; margin-bottom: 0.5em; width: 1.5em; height: 1.5em; } #NetworKit_Overlay .icon-close:before { content: \"X\"; } #NetworKit_Overlay .icon-previous:before { content: \"P\"; } #NetworKit_Overlay .icon-next:before { content: \"N\"; } #NetworKit_Overlay .icon-save:before { content: \"S\"; } #NetworKit_Overlay_Toolbar_Top, #NetworKit_Overlay_Toolbar_Bottom { position: absolute; width: 40px; right: 13px; text-align: right; z-index: 1100; } #NetworKit_Overlay_Toolbar_Top { top: 0.5em; } #NetworKit_Overlay_Toolbar_Bottom { Bottom: 0.5em; } #NetworKit_Overlay_ImageContainer { position: absolute; top: 5%; left: 5%; height: 90%; width: 90%; background-repeat: no-repeat; background-position: center center; background-size: contain; } #NetworKit_Overlay_Image { height: 100%; width: 100%; background-repeat: no-repeat; background-position: center center; background-size: contain; }';\n",
       "\t\t\t\telement.setAttribute('id', 'NetworKit_style');\n",
       "\t\t\t\tdocument.head.appendChild(element);\n",
       "\t\t\t}\n",
       "\t\t\n",
       "\t\t\t\t\n",
       "\t\t\t{\n",
       "\t\t\t\tvar element = document.getElementById('NetworKit_Overlay');\n",
       "\t\t\t\tif (element) {\n",
       "\t\t\t\t\telement.parentNode.removeChild(element);\n",
       "\t\t\t\t}\n",
       "\t\t\t\telement = document.createElement('div');\n",
       "\t\t\t\telement.innerHTML = '<div id=\"NetworKit_Overlay_Toolbar_Top\"><div class=\"button icon-close\" id=\"NetworKit_Overlay_Close\" /></div><div id=\"NetworKit_Overlay_Title\" /> <div id=\"NetworKit_Overlay_ImageContainer\"> <div id=\"NetworKit_Overlay_Image\" /> </div> <div id=\"NetworKit_Overlay_Toolbar_Bottom\"> <div class=\"button icon-previous\" onclick=\"NetworKit_overlayImageShift(-1)\" /> <div class=\"button icon-next\" onclick=\"NetworKit_overlayImageShift(1)\" /> <a id=\"NetworKit_Overlay_Toolbar_Bottom_Save\"><div class=\"button icon-save\" /></a> </div>';\n",
       "\t\t\t\telement.setAttribute('id', 'NetworKit_Overlay');\n",
       "\t\t\t\tdocument.body.appendChild(element);\n",
       "\t\t\t\tdocument.getElementById('NetworKit_Overlay_Close').onclick = function (e) {\n",
       "\t\t\t\t\tdocument.getElementById('NetworKit_Overlay').style.display = 'none';\n",
       "\t\t\t\t}\n",
       "\t\t\t}\n",
       "\t\t\n",
       "\t\t\t-->\n",
       "\t\t\t</script>\n",
       "\t\t"
      ]
     },
     "metadata": {},
     "output_type": "display_data"
    }
   ],
   "source": [
    "import pandas as pd\n",
    "import matplotlib.pyplot as plt\n",
    "import os\n",
    "import numpy as np\n",
    "import networkit as nk\n",
    "from tqdm import tqdm\n",
    "import networkx as nx\n",
    "\n",
    "from benji_girgs import generation, utils, plotting, fitting\n",
    "import geopandas as gpd\n",
    "\n",
    "\n",
    "from IPython.core.interactiveshell import InteractiveShell\n",
    "InteractiveShell.ast_node_interactivity = \"all\""
   ]
  },
  {
   "cell_type": "code",
   "execution_count": 81,
   "metadata": {},
   "outputs": [
    {
     "name": "stdout",
     "output_type": "stream",
     "text": [
      "Network Properties:\n",
      "nodes, edges\t\t\t5000, 102268\n",
      "directed?\t\t\tFalse\n",
      "weighted?\t\t\tFalse\n",
      "isolated nodes\t\t\t0\n",
      "self-loops\t\t\t0\n",
      "density\t\t\t\t0.008183\n",
      "clustering coefficient\t\t0.337606\n",
      "min/max/avg degree\t\t5, 2133, 40.907200\n",
      "degree assortativity\t\t-0.064760\n",
      "number of connected components\t1\n",
      "size of largest component\t5000 (100.00 %)\n"
     ]
    }
   ],
   "source": [
    "n=2000\n",
    "d=2\n",
    "tau=2.5\n",
    "alpha=1.3\n",
    "g, edges, weights, pts = generation.generate_GIRG_nk(n, d, tau, alpha, const=0.3)\n",
    "nk.overview(g)\n",
    "\n",
    "def girg_gen_func(const):\n",
    "    g, edges, weights, pts = generation.generate_GIRG_nk(n, d, tau, alpha, const=const)\n",
    "    return g\n",
    "\n",
    "gcf = fitting.GirgConstFitter(10.0, girg_gen_func)\n",
    "gcf.verbose=True"
   ]
  },
  {
   "cell_type": "code",
   "execution_count": 108,
   "metadata": {},
   "outputs": [
    {
     "name": "stdout",
     "output_type": "stream",
     "text": [
      "Network Properties:\n",
      "nodes, edges\t\t\t2000, 22063\n",
      "directed?\t\t\tFalse\n",
      "weighted?\t\t\tFalse\n",
      "isolated nodes\t\t\t0\n",
      "self-loops\t\t\t0\n",
      "density\t\t\t\t0.011037\n",
      "clustering coefficient\t\t0.754216\n",
      "min/max/avg degree\t\t2, 1546, 22.063000\n",
      "degree assortativity\t\t-0.141511\n",
      "number of connected components\t1\n",
      "size of largest component\t2000 (100.00 %)\n"
     ]
    }
   ],
   "source": [
    "nk.overview(g)"
   ]
  },
  {
   "cell_type": "code",
   "execution_count": 121,
   "metadata": {},
   "outputs": [
    {
     "name": "stderr",
     "output_type": "stream",
     "text": [
      "/Users/benjidayan/GDrive/eth_courses/GIRG/benji_src/benji_girgs/generation.py:155: RuntimeWarning: divide by zero encountered in divide\n",
      "  p_uv = np.divide(outer, dists**d)\n"
     ]
    },
    {
     "name": "stdout",
     "output_type": "stream",
     "text": [
      "fitting\n",
      "done\n"
     ]
    },
    {
     "name": "stderr",
     "output_type": "stream",
     "text": [
      "/Users/benjidayan/GDrive/eth_courses/GIRG/benji_src/benji_girgs/fitting.py:89: RuntimeWarning: invalid value encountered in cast\n",
      "  distances = np.array(np.nan_to_num(distances)).astype(np.int64)\n"
     ]
    },
    {
     "data": {
      "text/plain": [
       "(array([  6.,  26.,  78.,   0., 171., 278.,   0., 306., 119.,  16.]),\n",
       " array([1. , 1.7, 2.4, 3.1, 3.8, 4.5, 5.2, 5.9, 6.6, 7.3, 8. ]),\n",
       " <BarContainer object of 10 artists>)"
      ]
     },
     "execution_count": 121,
     "metadata": {},
     "output_type": "execute_result"
    },
    {
     "name": "stdout",
     "output_type": "stream",
     "text": [
      "alpha: 2.000, std_dist: 1.309\n",
      "fitting\n",
      "done\n"
     ]
    },
    {
     "data": {
      "text/plain": [
       "(array([ 27.,  34.,  47.,  66.,  94., 282., 158., 134.,  90.,  68.]),\n",
       " array([ 1. ,  2.2,  3.4,  4.6,  5.8,  7. ,  8.2,  9.4, 10.6, 11.8, 13. ]),\n",
       " <BarContainer object of 10 artists>)"
      ]
     },
     "execution_count": 121,
     "metadata": {},
     "output_type": "execute_result"
    },
    {
     "name": "stdout",
     "output_type": "stream",
     "text": [
      "alpha: 5.000, std_dist: 2.568\n"
     ]
    },
    {
     "data": {
      "text/plain": [
       "<matplotlib.legend.Legend at 0x2b5f5d760>"
      ]
     },
     "execution_count": 121,
     "metadata": {},
     "output_type": "execute_result"
    },
    {
     "data": {
      "image/png": "[encoded data removed]",
      "text/plain": [
       "<Figure size 640x480 with 1 Axes>"
      ]
     },
     "metadata": {},
     "output_type": "display_data"
    }
   ],
   "source": [
    "n=2000\n",
    "d=2\n",
    "tau=2.5\n",
    "alphas=1.01, 1.3, 2.0, 5.0\n",
    "alphas = 2.0, 5.0\n",
    "for alpha in alphas:\n",
    "    for _ in range(1):\n",
    "        # g, edges, weights, pts = generation.generate_GIRG_nk(n, d, tau, alpha, const=0.03)\n",
    "        def girg_gen_func(const):\n",
    "            g, edges, weights, pts = generation.generate_GIRG_nk(n, d, tau, alpha, const=const)\n",
    "            return g\n",
    "\n",
    "        gcf = fitting.GirgConstFitter(25.0, girg_gen_func)\n",
    "        print('fitting')\n",
    "        gcf.fit()\n",
    "        print('done')\n",
    "        g = gcf.girg_gen_func(gcf.const)\n",
    "\n",
    "        dd = nk.centrality.DegreeCentrality(g).run().scores()\n",
    "        dd = np.array(dd)\n",
    "        bot_90_indices = np.argsort(dd)[:int(0.9*len(dd))]\n",
    "        # len(dd)\n",
    "        # len(bot_90_indices)\n",
    "        g_sub = utils.quick_subgraph(g, bot_90_indices)\n",
    "        distances, std_distances, unique_dists, dist_counts = fitting.graph_distances(g_sub)\n",
    "        plt.hist(distances, alpha=0.5, label=f'alpha: {alpha:.3f}')\n",
    "        print(f'alpha: {alpha:.3f}, std_dist: {std_distances:.3f}')\n",
    "        # print(f'ED: {ed.getEffectiveDiameter():.3f}')\n",
    "\n",
    "plt.legend()\n"
   ]
  },
  {
   "cell_type": "code",
   "execution_count": 123,
   "metadata": {},
   "outputs": [
    {
     "name": "stdout",
     "output_type": "stream",
     "text": [
      "alpha: 1.010, std_dist: 0.668\n",
      "alpha: 1.010, std_dist: 0.677\n",
      "alpha: 1.010, std_dist: 0.718\n",
      "alpha: 1.300, std_dist: 0.837\n",
      "alpha: 1.300, std_dist: 0.802\n",
      "alpha: 1.300, std_dist: 0.767\n",
      "alpha: 2.000, std_dist: 1.330\n",
      "alpha: 2.000, std_dist: 1.550\n",
      "alpha: 2.000, std_dist: 1.340\n",
      "alpha: 5.000, std_dist: 2.324\n",
      "alpha: 5.000, std_dist: 3.045\n"
     ]
    },
    {
     "name": "stderr",
     "output_type": "stream",
     "text": [
      "No artists with labels found to put in legend.  Note that artists whose label start with an underscore are ignored when legend() is called with no argument.\n"
     ]
    },
    {
     "name": "stdout",
     "output_type": "stream",
     "text": [
      "alpha: 5.000, std_dist: 2.361\n"
     ]
    },
    {
     "data": {
      "text/plain": [
       "<matplotlib.legend.Legend at 0x2e9eccdc0>"
      ]
     },
     "execution_count": 123,
     "metadata": {},
     "output_type": "execute_result"
    },
    {
     "data": {
      "image/png": "[encoded data removed]",
      "text/plain": [
       "<Figure size 640x480 with 1 Axes>"
      ]
     },
     "metadata": {},
     "output_type": "display_data"
    }
   ],
   "source": [
    "n=2000\n",
    "d=2\n",
    "tau=2.5\n",
    "alphas=1.01, 1.3, 2.0, 5.0\n",
    "for alpha in alphas:\n",
    "    for _ in range(3):\n",
    "        # g, edges, weights, pts = generation.generate_GIRG_nk(n, d, tau, alpha, const=0.03)\n",
    "        def girg_gen_func(const):\n",
    "            g, edges, weights, pts = generation.generate_GIRG_nk(n, d, tau, alpha, const=const)\n",
    "            return g\n",
    "\n",
    "        gcf = fitting.GirgConstFitter(25.0, girg_gen_func)\n",
    "        # gcf.verbose=True\n",
    "        # print('fitting')\n",
    "        gcf.fit()\n",
    "        # print('done')\n",
    "        g = gcf.girg_gen_func(gcf.const)\n",
    "\n",
    "        dd = nk.centrality.DegreeCentrality(g).run().scores()\n",
    "        dd = np.array(dd)\n",
    "        bot_90_indices = np.argsort(dd)[:int(0.9*len(dd))]\n",
    "        # len(dd)\n",
    "        # len(bot_90_indices)\n",
    "        g_sub = utils.quick_subgraph(g, bot_90_indices)\n",
    "        # g_sub = g\n",
    "        distances, std_distances, unique_dists, dist_counts = fitting.graph_distances(g_sub)\n",
    "        # plt.hist(distances, alpha=0.5, label=f'alpha: {alpha:.3f}')\n",
    "        print(f'alpha: {alpha:.3f}, std_dist: {std_distances:.3f}')\n",
    "        # print(f'ED: {ed.getEffectiveDiameter():.3f}')\n",
    "\n"
   ]
  },
  {
   "cell_type": "code",
   "execution_count": 139,
   "metadata": {},
   "outputs": [
    {
     "name": "stderr",
     "output_type": "stream",
     "text": [
      "/Users/benjidayan/GDrive/eth_courses/GIRG/benji_src/benji_girgs/generation.py:155: RuntimeWarning: divide by zero encountered in divide\n",
      "  p_uv = np.divide(outer, dists**d)\n",
      "/Users/benjidayan/GDrive/eth_courses/GIRG/benji_src/benji_girgs/fitting.py:89: RuntimeWarning: invalid value encountered in cast\n",
      "  distances = np.array(np.nan_to_num(distances)).astype(np.int64)\n"
     ]
    },
    {
     "data": {
      "text/plain": [
       "22.616"
      ]
     },
     "execution_count": 139,
     "metadata": {},
     "output_type": "execute_result"
    },
    {
     "data": {
      "text/plain": [
       "1.2167563437270421"
      ]
     },
     "execution_count": 139,
     "metadata": {},
     "output_type": "execute_result"
    }
   ],
   "source": [
    "n=2000\n",
    "d=2\n",
    "tau=2.5\n",
    "alpha = 1.5\n",
    "const=0.1\n",
    "g, edges, weights, pts = generation.generate_GIRG_nk(n, d, tau, alpha, const=const)\n",
    "target_avg_deg = utils.avg_degree(g)\n",
    "target_std_gdist = fitting.regularised_std_graph_distance(g)\n",
    "target_avg_deg\n",
    "target_std_gdist"
   ]
  },
  {
   "cell_type": "code",
   "execution_count": 142,
   "metadata": {},
   "outputs": [
    {
     "name": "stderr",
     "output_type": "stream",
     "text": [
      "/Users/benjidayan/GDrive/eth_courses/GIRG/benji_src/benji_girgs/generation.py:155: RuntimeWarning: divide by zero encountered in divide\n",
      "  p_uv = np.divide(outer, dists**d)\n"
     ]
    },
    {
     "name": "stdout",
     "output_type": "stream",
     "text": [
      "avgdeg: 68.06 -> avgdeg2: 66.11; overshoot: False, scale:0.330, const: 0.700\n",
      "avgdeg: 66.11 -> avgdeg2: 46.61; overshoot: False, scale:0.363, const: 0.469\n",
      "avgdeg: 46.61 -> avgdeg2: 37.89; overshoot: False, scale:0.399, const: 0.299\n",
      "avgdeg: 37.89 -> avgdeg2: 29.90; overshoot: False, scale:0.439, const: 0.179\n",
      "avgdeg: 29.90 -> avgdeg2: 18.03; overshoot: True, scale:0.220, const: 0.101\n",
      "avgdeg: 18.03 -> avgdeg2: 23.97; overshoot: True, scale:0.110, const: 0.129\n",
      "avgdeg: 23.97 -> avgdeg2: 22.30; overshoot: True, scale:0.055, const: 0.115\n"
     ]
    },
    {
     "name": "stderr",
     "output_type": "stream",
     "text": [
      "/Users/benjidayan/GDrive/eth_courses/GIRG/benji_src/benji_girgs/fitting.py:89: RuntimeWarning: invalid value encountered in cast\n",
      "  distances = np.array(np.nan_to_num(distances)).astype(np.int64)\n"
     ]
    },
    {
     "name": "stdout",
     "output_type": "stream",
     "text": [
      "std_gdist: 0.90 -> std_gdist2: 1.10; overshoot: False, scale:0.330, alpha: 1.429\n",
      "std_gdist: 1.10 -> std_gdist2: 1.27; overshoot: True, scale:0.165, alpha: 1.640\n",
      "std_gdist: 1.27 -> std_gdist2: 1.04; overshoot: True, scale:0.083, alpha: 1.534\n",
      "std_gdist: 1.04 -> std_gdist2: 1.16; overshoot: False, scale:0.091, alpha: 1.582\n",
      "std_gdist: 1.16 -> std_gdist2: 1.20; overshoot: False, scale:0.100, alpha: 1.640\n"
     ]
    }
   ],
   "source": [
    "n=2000\n",
    "d=2\n",
    "tau=2.5\n",
    "\n",
    "def girg_gen_func(const):\n",
    "    g, edges, weights, pts = generation.generate_GIRG_nk(n, d, tau, alpha, const=const)\n",
    "    return g\n",
    "\n",
    "# gcf = fitting.GirgMetricFitter(25.0, girg_gen_func, utils.avg_degree, 'avgdeg', 1.0, 0.0, 'const') \n",
    "gcf = fitting.GirgMetricFitter(target_avg_deg, \n",
    "                               girg_gen_func, \n",
    "                               metric_func=utils.avg_degree,\n",
    "                               metric_name='avgdeg',\n",
    "                               init_param=1.0,\n",
    "                               param_base=0.0,\n",
    "                               param_name='const')\n",
    "\n",
    "gcf.verbose=True\n",
    "# print('fitting')\n",
    "gcf.fit()\n",
    "\n",
    "def girg_gen_func(alpha):\n",
    "    g, edges, weights, pts = generation.generate_GIRG_nk(n, d, tau, alpha, const=gcf.param)\n",
    "    return g \n",
    "\n",
    "\n",
    "gaf = fitting.GirgMetricFitter(target_std_gdist,\n",
    "                                girg_gen_func,\n",
    "                                metric_func=fitting.regularised_std_graph_distance, \n",
    "                                metric_name='std_gdist', \n",
    "                                init_param=1.3,\n",
    "                                param_base=1.0,\n",
    "                                param_name='alpha')\n",
    "gaf.verbose=True\n",
    "gaf.fit()"
   ]
  },
  {
   "cell_type": "code",
   "execution_count": 166,
   "metadata": {},
   "outputs": [
    {
     "name": "stdout",
     "output_type": "stream",
     "text": [
      "avgdeg: 24.77 -> avgdeg2: 22.33; overshoot: True, scale:0.019, const: 0.130\n",
      "std_gdist: 0.82 -> std_gdist2: 0.95; overshoot: False, scale:0.330, alpha: 1.429\n",
      "avgdeg: 20.59 -> avgdeg2: 20.49; overshoot: False, scale:0.031, const: 0.134\n",
      "avgdeg: 20.49 -> avgdeg2: 20.38; overshoot: False, scale:0.034, const: 0.138\n",
      "avgdeg: 20.38 -> avgdeg2: 22.38; overshoot: False, scale:0.037, const: 0.143\n",
      "std_gdist: 0.95 -> std_gdist2: 1.14; overshoot: False, scale:0.363, alpha: 1.640\n",
      "avgdeg: 23.77 -> avgdeg2: 23.16; overshoot: False, scale:0.062, const: 0.135\n",
      "std_gdist: 1.14 -> std_gdist2: 1.45; overshoot: True, scale:0.182, alpha: 2.004\n",
      "std_gdist: 1.45 -> std_gdist2: 1.40; overshoot: False, scale:0.200, alpha: 1.822\n",
      "avgdeg: 20.42 -> avgdeg2: 22.73; overshoot: True, scale:0.069, const: 0.156\n",
      "std_gdist: 1.40 -> std_gdist2: 1.08; overshoot: True, scale:0.100, alpha: 1.658\n",
      "avgdeg: 26.59 -> avgdeg2: 19.42; overshoot: True, scale:0.052, const: 0.140\n",
      "avgdeg: 19.42 -> avgdeg2: 23.09; overshoot: True, scale:0.026, const: 0.148\n",
      "std_gdist: 1.08 -> std_gdist2: 1.17; overshoot: False, scale:0.110, alpha: 1.731\n",
      "std_gdist: 1.17 -> std_gdist2: 1.28; overshoot: True, scale:0.055, alpha: 1.821\n",
      "avgdeg: 23.33 -> avgdeg2: 21.28; overshoot: True, scale:0.029, const: 0.139\n",
      "avgdeg: 21.28 -> avgdeg2: 23.99; overshoot: True, scale:0.015, const: 0.143\n",
      "avgdeg: 23.99 -> avgdeg2: 23.31; overshoot: False, scale:0.016, const: 0.141\n",
      "avgdeg: 23.31 -> avgdeg2: 21.10; overshoot: True, scale:0.008, const: 0.139\n",
      "avgdeg: 21.10 -> avgdeg2: 24.11; overshoot: True, scale:0.004, const: 0.140\n",
      "avgdeg: 24.11 -> avgdeg2: 20.19; overshoot: True, scale:0.002, const: 0.140\n",
      "avgdeg: 20.19 -> avgdeg2: 22.44; overshoot: False, scale:0.002, const: 0.140\n",
      "std_gdist: 1.28 -> std_gdist2: 1.27; overshoot: False, scale:0.060, alpha: 1.776\n",
      "avgdeg: 19.98 -> avgdeg2: 22.47; overshoot: False, scale:0.004, const: 0.140\n",
      "std_gdist: 1.27 -> std_gdist2: 1.26; overshoot: False, scale:0.066, alpha: 1.729\n",
      "avgdeg: 20.86 -> avgdeg2: 26.42; overshoot: True, scale:0.003, const: 0.141\n",
      "avgdeg: 26.42 -> avgdeg2: 20.85; overshoot: True, scale:0.001, const: 0.141\n",
      "avgdeg: 20.85 -> avgdeg2: 23.90; overshoot: True, scale:0.001, const: 0.141\n",
      "avgdeg: 23.90 -> avgdeg2: 24.49; overshoot: False, scale:0.001, const: 0.141\n",
      "avgdeg: 24.49 -> avgdeg2: 21.36; overshoot: True, scale:0.000, const: 0.141\n",
      "avgdeg: 21.36 -> avgdeg2: 19.18; overshoot: False, scale:0.000, const: 0.141\n",
      "avgdeg: 19.18 -> avgdeg2: 19.73; overshoot: False, scale:0.000, const: 0.141\n",
      "avgdeg: 19.73 -> avgdeg2: 21.48; overshoot: False, scale:0.001, const: 0.141\n",
      "avgdeg: 21.48 -> avgdeg2: 23.31; overshoot: True, scale:0.000, const: 0.141\n",
      "avgdeg: 23.31 -> avgdeg2: 22.85; overshoot: False, scale:0.000, const: 0.141\n",
      "std_gdist: 1.26 -> std_gdist2: 1.17; overshoot: True, scale:0.033, alpha: 1.681\n",
      "avgdeg: 24.83 -> avgdeg2: 21.94; overshoot: True, scale:0.000, const: 0.141\n",
      "avgdeg: 21.94 -> avgdeg2: 19.39; overshoot: False, scale:0.000, const: 0.141\n",
      "avgdeg: 19.39 -> avgdeg2: 22.80; overshoot: True, scale:0.000, const: 0.141\n",
      "std_gdist: 1.17 -> std_gdist2: 1.19; overshoot: False, scale:0.037, alpha: 1.704\n"
     ]
    }
   ],
   "source": [
    "def girg_gen_func(alpha, const):\n",
    "    g, edges, weights, pts = generation.generate_GIRG_nk(n, d, tau, alpha, const=const)\n",
    "    return g\n",
    "gaf = fitting.GirgAlphaFitter(target_std_gdist, target_avg_deg, girg_gen_func)\n",
    "gaf.verbose=True\n",
    "gaf.fit()"
   ]
  },
  {
   "cell_type": "code",
   "execution_count": 184,
   "metadata": {},
   "outputs": [
    {
     "data": {
      "text/plain": [
       "[(1.0, 90.386),\n",
       " (0.55, 60.465),\n",
       " (0.27775000000000005, 40.888),\n",
       " (0.12651512500000003, 21.881),\n",
       " (0.17384421161113023, 26.537),\n",
       " (0.15017966830556512, 27.612),\n",
       " (0.12769214022266057, 28.277),\n",
       " (0.10665980819141087, 20.88),\n",
       " (0.11623218220174986, 18.282),\n",
       " (0.12781070581691759, 19.962),\n",
       " (0.1419567382586424, 23.969),\n",
       " (0.13488372203778, 22.343),\n",
       " (0.13488372203778, 24.769),\n",
       " (0.12984327045932825, 22.333),\n",
       " (0.12984327045932825, 20.593),\n",
       " (0.13358727405097, 20.487),\n",
       " (0.13783668440577787, 20.382),\n",
       " (0.1426751179387048, 22.38),\n",
       " (0.1426751179387048, 23.766),\n",
       " (0.13469170260937535, 23.162),\n",
       " (0.13469170260937535, 22.602),\n",
       " (0.13469170260937535, 20.42),\n",
       " (0.15634359040874893, 22.734),\n",
       " (0.15634359040874893, 26.589),\n",
       " (0.14010467455921874, 19.416),\n",
       " (0.14777936282409626, 23.093),\n",
       " (0.14777936282409626, 23.081),\n",
       " (0.14777936282409626, 23.327),\n",
       " (0.13914533852610905, 21.277),\n",
       " (0.1433324448579537, 23.991),\n",
       " (0.14123889169203138, 23.312),\n",
       " (0.13896962012507474, 21.103),\n",
       " (0.14009506704878003, 24.107),\n",
       " (0.1395323435869274, 20.192),\n",
       " (0.1398131391042379, 22.441),\n",
       " (0.1398131391042379, 19.984),\n",
       " (0.14027799213719297, 22.47),\n",
       " (0.14027799213719297, 20.859),\n",
       " (0.14104921651748956, 26.416),\n",
       " (0.14066360432734126, 20.853),\n",
       " (0.1408561465069132, 23.9),\n",
       " (0.14075987541712723, 24.491),\n",
       " (0.14065404959670932, 21.357),\n",
       " (0.14070694260899697, 19.176),\n",
       " (0.14076514899084927, 19.731),\n",
       " (0.14082920514682573, 21.48),\n",
       " (0.14089970219053377, 23.314),\n",
       " (0.14086445366867975, 22.852),\n",
       " (0.14086445366867975, 24.829),\n",
       " (0.14080630815737585, 21.937),\n",
       " (0.14083537491151657, 19.391),\n",
       " (0.14086735560155075, 22.797)]"
      ]
     },
     "execution_count": 184,
     "metadata": {},
     "output_type": "execute_result"
    }
   ],
   "source": [
    "from functools import reduce\n",
    "reduce(lambda x, y: x+y, b)"
   ]
  },
  {
   "cell_type": "code",
   "execution_count": 187,
   "metadata": {},
   "outputs": [
    {
     "data": {
      "text/plain": [
       "[(1.3, 0.8153624960715325),\n",
       " (1.4285714285714286, 0.9510157727398638),\n",
       " (1.6396588486140726, 1.1409535485724212),\n",
       " (2.0041740166625948, 1.4477513598681233),\n",
       " (1.821916432638334, 1.3988534590871196),\n",
       " (1.6578208168620905, 1.0790347538425256),\n",
       " (1.7307699245836539, 1.1667043327253053),\n",
       " (1.8209122460407765, 1.2811241157670867),\n",
       " (1.7758410853122153, 1.2708701743293844),\n",
       " (1.7289848418257336, 1.2644330745436865),\n",
       " (1.680555799999372, 1.166351147810984),\n",
       " (1.7039383576393328, 1.1920989891783316)]"
      ]
     },
     "execution_count": 187,
     "metadata": {},
     "output_type": "execute_result"
    }
   ],
   "source": []
  },
  {
   "cell_type": "code",
   "execution_count": 191,
   "metadata": {},
   "outputs": [
    {
     "data": {
      "text/plain": [
       "Text(0, 0.5, 'alpha')"
      ]
     },
     "execution_count": 191,
     "metadata": {},
     "output_type": "execute_result"
    },
    {
     "data": {
      "text/plain": [
       "[<matplotlib.lines.Line2D at 0x2c5103250>]"
      ]
     },
     "execution_count": 191,
     "metadata": {},
     "output_type": "execute_result"
    },
    {
     "data": {
      "text/plain": [
       "Text(0, 0.5, 'const')"
      ]
     },
     "execution_count": 191,
     "metadata": {},
     "output_type": "execute_result"
    },
    {
     "data": {
      "text/plain": [
       "[<matplotlib.lines.Line2D at 0x2dac4de20>]"
      ]
     },
     "execution_count": 191,
     "metadata": {},
     "output_type": "execute_result"
    },
    {
     "data": {
      "image/png": "[encoded data removed]",
      "text/plain": [
       "<Figure size 640x480 with 2 Axes>"
      ]
     },
     "metadata": {},
     "output_type": "display_data"
    }
   ],
   "source": [
    "a = gaf.hist\n",
    "b = gaf.const_hist\n",
    "lengths = [len(hist) for hist in b]\n",
    "lengths = [0] + lengths\n",
    "from functools import reduce\n",
    "joined_const_hist = reduce(lambda x, y: x+y, b)\n",
    "\n",
    "\n",
    "fig, ax = plt.subplots()\n",
    "ax.set_ylabel('alpha', color='b')\n",
    "ax.plot(np.cumsum(lengths)[:-1], [alpha for alpha, std_gdist in gaf.hist], marker='x')\n",
    "\n",
    "\n",
    "ax2 = ax.twinx()\n",
    "ax2.set_ylabel('const', color='r')\n",
    "ax2.plot([const for const, std_gdist in joined_const_hist], color='r')"
   ]
  },
  {
   "cell_type": "code",
   "execution_count": 181,
   "metadata": {},
   "outputs": [
    {
     "data": {
      "text/plain": [
       "[12, 2, 4, 2, 1, 2, 3, 1, 8, 2, 11, 4]"
      ]
     },
     "execution_count": 181,
     "metadata": {},
     "output_type": "execute_result"
    },
    {
     "data": {
      "text/plain": [
       "array([12, 14, 18, 20, 21, 23, 26, 27, 35, 37, 48, 52])"
      ]
     },
     "execution_count": 181,
     "metadata": {},
     "output_type": "execute_result"
    }
   ],
   "source": [
    "lengths\n",
    "np.cumsum(lengths)"
   ]
  },
  {
   "cell_type": "code",
   "execution_count": 165,
   "metadata": {},
   "outputs": [
    {
     "data": {
      "text/plain": [
       "<module 'benji_girgs' from '/Users/benjidayan/GDrive/eth_courses/GIRG/benji_src/benji_girgs/__init__.py'>"
      ]
     },
     "execution_count": 165,
     "metadata": {},
     "output_type": "execute_result"
    },
    {
     "data": {
      "text/plain": [
       "<module 'benji_girgs.utils' from '/Users/benjidayan/GDrive/eth_courses/GIRG/benji_src/benji_girgs/utils.py'>"
      ]
     },
     "execution_count": 165,
     "metadata": {},
     "output_type": "execute_result"
    },
    {
     "data": {
      "text/plain": [
       "<module 'benji_girgs.fitting' from '/Users/benjidayan/GDrive/eth_courses/GIRG/benji_src/benji_girgs/fitting.py'>"
      ]
     },
     "execution_count": 165,
     "metadata": {},
     "output_type": "execute_result"
    }
   ],
   "source": [
    "import imp\n",
    "import benji_girgs\n",
    "imp.reload(benji_girgs)\n",
    "imp.reload(benji_girgs.utils)\n",
    "imp.reload(benji_girgs.fitting)\n",
    "from benji_girgs import utils, fitting"
   ]
  },
  {
   "cell_type": "code",
   "execution_count": null,
   "metadata": {},
   "outputs": [],
   "source": [
    "n=1000\n",
    "d=2\n",
    "tau=2.5\n",
    "alphas = 1.01, 1.3, 2.5\n",
    "alpha_stds = []\n",
    "alpha_meds = []\n",
    "for alpha in alphas:\n",
    "    for _ in range(1):\n",
    "        gcf = fitting.GirgConstFitter(25.0, girg_gen_func)\n",
    "        print('fitting')\n",
    "        gcf.fit()\n",
    "        print('done')\n",
    "        g = gcf.girg_gen_func(gcf.const)\n",
    "\n",
    "        dd = nk.centrality.DegreeCentrality(g).run().scores()\n",
    "        dd = np.array(dd)\n",
    "        bot_90_indices = np.argsort(dd)[:int(0.9*len(dd))]\n",
    "        # len(dd)\n",
    "        # len(bot_90_indices)\n",
    "        g_sub = utils.quick_subgraph(g, bot_90_indices)\n",
    "        \n",
    "    \n",
    "        distances, std_distances, unique_dists, dist_counts, = fitting.graph_distances(g_sub, 2000)\n",
    "        # plt.plot(unique_dists, dist_counts, label=alpha)\n",
    "        print(f'alpha: {alpha}')\n",
    "        # print(unique_dists)\n",
    "        # print(dist_counts)\n",
    "        print(f'std_distances: {std_distances:.3f}, median_dist: {np.median(distances)}')\n",
    "        alpha_stds.append((alpha, std_distances))\n",
    "        sizes = fitting.biBFS_sample(g, 1000)\n",
    "        alpha_meds.append((alpha, np.median(distances)))\n",
    "\n",
    "df = pd.DataFrame(alpha_stds, columns=['alpha', 'a-b distances std'])\n",
    "df.plot.scatter(x='alpha', y='a-b distances std', marker='x', logx=True)\n",
    "\n",
    "df = pd.DataFrame(alpha_meds, columns=['alpha', 'a<O O>b sizes median'])\n",
    "df.plot.scatter(x='alpha', y='a<O O>b sizes median', marker='x',  logx=True)\n",
    "\n",
    "        \n"
   ]
  },
  {
   "cell_type": "code",
   "execution_count": 76,
   "metadata": {},
   "outputs": [
    {
     "name": "stderr",
     "output_type": "stream",
     "text": [
      "/Users/benjidayan/GDrive/eth_courses/GIRG/benji_src/benji_girgs/generation.py:155: RuntimeWarning: divide by zero encountered in divide\n",
      "  p_uv = np.divide(outer, dists**d)\n"
     ]
    },
    {
     "name": "stdout",
     "output_type": "stream",
     "text": [
      "alpha: 1.01\n",
      "std_distances: 0.468, median_dist: 2.0\n",
      "alpha: 1.3\n",
      "std_distances: 0.421, median_dist: 2.0\n",
      "alpha: 2.5\n",
      "std_distances: 0.549, median_dist: 2.0\n",
      "alpha: 5.0\n",
      "std_distances: 0.494, median_dist: 2.0\n",
      "alpha: 10.0\n",
      "std_distances: 0.551, median_dist: 2.0\n",
      "alpha: 20.0\n",
      "std_distances: 0.552, median_dist: 2.0\n"
     ]
    },
    {
     "data": {
      "text/plain": [
       "<AxesSubplot:xlabel='alpha', ylabel='a-b distances std'>"
      ]
     },
     "execution_count": 76,
     "metadata": {},
     "output_type": "execute_result"
    },
    {
     "ename": "TypeError",
     "evalue": "__init__() got an unexpected keyword argument 'logx'",
     "output_type": "error",
     "traceback": [
      "\u001b[0;31m---------------------------------------------------------------------------\u001b[0m",
      "\u001b[0;31mTypeError\u001b[0m                                 Traceback (most recent call last)",
      "\u001b[1;32m/Users/benjidayan/GDrive/eth_courses/GIRG/benji_src/fitting_general.ipynb Cell 16\u001b[0m in \u001b[0;36m<cell line: 23>\u001b[0;34m()\u001b[0m\n\u001b[1;32m     <a href='vscode-notebook-cell:/Users/benjidayan/GDrive/eth_courses/GIRG/benji_src/fitting_general.ipynb#X14sZmlsZQ%3D%3D?line=19'>20</a>\u001b[0m df \u001b[39m=\u001b[39m pd\u001b[39m.\u001b[39mDataFrame(alpha_stds, columns\u001b[39m=\u001b[39m[\u001b[39m'\u001b[39m\u001b[39malpha\u001b[39m\u001b[39m'\u001b[39m, \u001b[39m'\u001b[39m\u001b[39ma-b distances std\u001b[39m\u001b[39m'\u001b[39m])\n\u001b[1;32m     <a href='vscode-notebook-cell:/Users/benjidayan/GDrive/eth_courses/GIRG/benji_src/fitting_general.ipynb#X14sZmlsZQ%3D%3D?line=20'>21</a>\u001b[0m df\u001b[39m.\u001b[39mplot\u001b[39m.\u001b[39mscatter(x\u001b[39m=\u001b[39m\u001b[39m'\u001b[39m\u001b[39malpha\u001b[39m\u001b[39m'\u001b[39m, y\u001b[39m=\u001b[39m\u001b[39m'\u001b[39m\u001b[39ma-b distances std\u001b[39m\u001b[39m'\u001b[39m, marker\u001b[39m=\u001b[39m\u001b[39m'\u001b[39m\u001b[39mx\u001b[39m\u001b[39m'\u001b[39m, logx\u001b[39m=\u001b[39m\u001b[39mTrue\u001b[39;00m)\n\u001b[0;32m---> <a href='vscode-notebook-cell:/Users/benjidayan/GDrive/eth_courses/GIRG/benji_src/fitting_general.ipynb#X14sZmlsZQ%3D%3D?line=22'>23</a>\u001b[0m df \u001b[39m=\u001b[39m pd\u001b[39m.\u001b[39;49mDataFrame(alpha_meds, columns\u001b[39m=\u001b[39;49m[\u001b[39m'\u001b[39;49m\u001b[39malpha\u001b[39;49m\u001b[39m'\u001b[39;49m, \u001b[39m'\u001b[39;49m\u001b[39ma<O O>b sizes median\u001b[39;49m\u001b[39m'\u001b[39;49m], logx\u001b[39m=\u001b[39;49m\u001b[39mTrue\u001b[39;49;00m)\n\u001b[1;32m     <a href='vscode-notebook-cell:/Users/benjidayan/GDrive/eth_courses/GIRG/benji_src/fitting_general.ipynb#X14sZmlsZQ%3D%3D?line=23'>24</a>\u001b[0m df\u001b[39m.\u001b[39mplot\u001b[39m.\u001b[39mscatter(x\u001b[39m=\u001b[39m\u001b[39m'\u001b[39m\u001b[39malpha\u001b[39m\u001b[39m'\u001b[39m, y\u001b[39m=\u001b[39m\u001b[39m'\u001b[39m\u001b[39ma<O O>b sizes median\u001b[39m\u001b[39m'\u001b[39m, marker\u001b[39m=\u001b[39m\u001b[39m'\u001b[39m\u001b[39mx\u001b[39m\u001b[39m'\u001b[39m)\n",
      "\u001b[0;31mTypeError\u001b[0m: __init__() got an unexpected keyword argument 'logx'"
     ]
    },
    {
     "data": {
      "image/png": "[encoded data removed]",
      "text/plain": [
       "<Figure size 640x480 with 1 Axes>"
      ]
     },
     "metadata": {},
     "output_type": "display_data"
    }
   ],
   "source": [
    "n=1000\n",
    "d=2\n",
    "tau=2.5\n",
    "alphas = 1.01, 1.3, 2.5, 5.0, 10.0, 20.0\n",
    "alpha_stds = []\n",
    "alpha_meds = []\n",
    "for alpha in alphas:\n",
    "    for _ in range(1):\n",
    "        g, edges, weights, pts = generation.generate_GIRG_nk(n, d, tau, alpha, const=0.3)\n",
    "        distances, std_distances, unique_dists, dist_counts, = fitting.graph_distances(g, 2000)\n",
    "        # plt.plot(unique_dists, dist_counts, label=alpha)\n",
    "        print(f'alpha: {alpha}')\n",
    "        # print(unique_dists)\n",
    "        # print(dist_counts)\n",
    "        print(f'std_distances: {std_distances:.3f}, median_dist: {np.median(distances)}')\n",
    "        alpha_stds.append((alpha, std_distances))\n",
    "        sizes = fitting.biBFS_sample(g, 1000)\n",
    "        alpha_meds.append((alpha, np.median(distances)))\n",
    "\n",
    "df = pd.DataFrame(alpha_stds, columns=['alpha', 'a-b distances std'])\n",
    "df.plot.scatter(x='alpha', y='a-b distances std', marker='x', logx=True)\n",
    "\n",
    "df = pd.DataFrame(alpha_meds, columns=['alpha', 'a<O O>b sizes median'])\n",
    "df.plot.scatter(x='alpha', y='a<O O>b sizes median', marker='x',  logx=True)\n",
    "\n",
    "        "
   ]
  },
  {
   "cell_type": "code",
   "execution_count": 77,
   "metadata": {},
   "outputs": [
    {
     "data": {
      "text/plain": [
       "<AxesSubplot:xlabel='alpha', ylabel='a-b distances std'>"
      ]
     },
     "execution_count": 77,
     "metadata": {},
     "output_type": "execute_result"
    },
    {
     "data": {
      "text/plain": [
       "<AxesSubplot:xlabel='alpha', ylabel='a<O O>b sizes median'>"
      ]
     },
     "execution_count": 77,
     "metadata": {},
     "output_type": "execute_result"
    },
    {
     "data": {
      "image/png": "[encoded data removed]",
      "text/plain": [
       "<Figure size 640x480 with 1 Axes>"
      ]
     },
     "metadata": {},
     "output_type": "display_data"
    },
    {
     "data": {
      "image/png": "[encoded data removed]",
      "text/plain": [
       "<Figure size 640x480 with 1 Axes>"
      ]
     },
     "metadata": {},
     "output_type": "display_data"
    }
   ],
   "source": [
    "df = pd.DataFrame(alpha_stds, columns=['alpha', 'a-b distances std'])\n",
    "df.plot.scatter(x='alpha', y='a-b distances std', marker='x', logx=True)\n",
    "\n",
    "df = pd.DataFrame(alpha_meds, columns=['alpha', 'a<O O>b sizes median'])\n",
    "df.plot.scatter(x='alpha', y='a<O O>b sizes median', marker='x',  logx=True)\n"
   ]
  },
  {
   "cell_type": "code",
   "execution_count": 79,
   "metadata": {},
   "outputs": [
    {
     "data": {
      "text/plain": [
       "(array([  48.,    0.,    0., 1043.,    0.,    0.,  898.,    0.,    0.,\n",
       "          11.]),\n",
       " array([1. , 1.3, 1.6, 1.9, 2.2, 2.5, 2.8, 3.1, 3.4, 3.7, 4. ]),\n",
       " <BarContainer object of 10 artists>)"
      ]
     },
     "execution_count": 79,
     "metadata": {},
     "output_type": "execute_result"
    },
    {
     "data": {
      "image/png": "[encoded data removed]",
      "text/plain": [
       "<Figure size 640x480 with 1 Axes>"
      ]
     },
     "metadata": {},
     "output_type": "display_data"
    }
   ],
   "source": [
    "plt.hist(distances)"
   ]
  },
  {
   "cell_type": "code",
   "execution_count": 72,
   "metadata": {},
   "outputs": [
    {
     "data": {
      "text/plain": [
       "<AxesSubplot:xlabel='alpha', ylabel='a-b distances std'>"
      ]
     },
     "execution_count": 72,
     "metadata": {},
     "output_type": "execute_result"
    },
    {
     "data": {
      "text/plain": [
       "<AxesSubplot:xlabel='alpha', ylabel='a<O O>b sizes median'>"
      ]
     },
     "execution_count": 72,
     "metadata": {},
     "output_type": "execute_result"
    },
    {
     "data": {
      "image/png": "[encoded data removed]",
      "text/plain": [
       "<Figure size 640x480 with 1 Axes>"
      ]
     },
     "metadata": {},
     "output_type": "display_data"
    },
    {
     "data": {
      "image/png": "[encoded data removed]",
      "text/plain": [
       "<Figure size 640x480 with 1 Axes>"
      ]
     },
     "metadata": {},
     "output_type": "display_data"
    }
   ],
   "source": [
    "df = pd.DataFrame(alpha_stds, columns=['alpha', 'a-b distances std'])\n",
    "df.plot.scatter(x='alpha', y='a-b distances std', marker='x', logx=True)\n",
    "\n",
    "df = pd.DataFrame(alpha_meds, columns=['alpha', 'a<O O>b sizes median'])\n",
    "df.plot.scatter(x='alpha', y='a<O O>b sizes median', marker='x', logx=True)\n"
   ]
  },
  {
   "cell_type": "code",
   "execution_count": 74,
   "metadata": {},
   "outputs": [
    {
     "data": {
      "text/plain": [
       "[(1.01, 39.0),\n",
       " (1.01, 43.0),\n",
       " (1.01, 38.0),\n",
       " (1.01, 37.5),\n",
       " (1.01, 26.14090909090909),\n",
       " (1.3, 36.0),\n",
       " (1.3, 40.507668711656436),\n",
       " (1.3, 28.0),\n",
       " (1.3, 36.236964536789316),\n",
       " (1.3, 34.29166666666667),\n",
       " (2.5, 40.04708019890348),\n",
       " (2.5, 28.0),\n",
       " (2.5, 33.0),\n",
       " (2.5, 22.416666666666668),\n",
       " (2.5, 34.0),\n",
       " (5.0, 25.0),\n",
       " (5.0, 28.938028317836007),\n",
       " (5.0, 33.0),\n",
       " (5.0, 21.0),\n",
       " (5.0, 30.38437653303673),\n",
       " (10.0, 36.118378150531235),\n",
       " (10.0, 31.0),\n",
       " (10.0, 37.0),\n",
       " (10.0, 32.09762443438914),\n",
       " (10.0, 37.0),\n",
       " (20.0, 22.0),\n",
       " (20.0, 22.875),\n",
       " (20.0, 33.0),\n",
       " (20.0, 34.5),\n",
       " (20.0, 34.495975378787875)]"
      ]
     },
     "execution_count": 74,
     "metadata": {},
     "output_type": "execute_result"
    }
   ],
   "source": [
    "alpha_meds"
   ]
  },
  {
   "cell_type": "code",
   "execution_count": 75,
   "metadata": {},
   "outputs": [
    {
     "data": {
      "text/plain": [
       "[(1.01, 0.47583190309183765),\n",
       " (1.01, 0.48155996511338023),\n",
       " (1.01, 0.43622213378048574),\n",
       " (1.01, 0.4355215264484638),\n",
       " (1.01, 0.3539629217870143),\n",
       " (1.3, 0.49230478364525365),\n",
       " (1.3, 0.5195421060895836),\n",
       " (1.3, 0.37830014538723084),\n",
       " (1.3, 0.48558315456778356),\n",
       " (1.3, 0.4714223159758137),\n",
       " (2.5, 0.600225790848744),\n",
       " (2.5, 0.44161521712912016),\n",
       " (2.5, 0.5386443631933783),\n",
       " (2.5, 0.3303751655315514),\n",
       " (2.5, 0.516600425861226),\n",
       " (5.0, 0.4285043757069465),\n",
       " (5.0, 0.4230599839266295),\n",
       " (5.0, 0.5222487434163915),\n",
       " (5.0, 0.16920328011004984),\n",
       " (5.0, 0.4680168266205821),\n",
       " (10.0, 0.5600990983745644),\n",
       " (10.0, 0.29195847307451106),\n",
       " (10.0, 0.5619250394848052),\n",
       " (10.0, 0.5076315100542913),\n",
       " (10.0, 0.5516149019016799),\n",
       " (20.0, 0.35629166423030445),\n",
       " (20.0, 0.36980941037242415),\n",
       " (20.0, 0.46903491341263714),\n",
       " (20.0, 0.5144800773596583),\n",
       " (20.0, 0.5567133463462143)]"
      ]
     },
     "execution_count": 75,
     "metadata": {},
     "output_type": "execute_result"
    }
   ],
   "source": [
    "alpha_stds"
   ]
  },
  {
   "cell_type": "code",
   "execution_count": 67,
   "metadata": {},
   "outputs": [
    {
     "name": "stderr",
     "output_type": "stream",
     "text": [
      "/Users/benjidayan/GDrive/eth_courses/GIRG/benji_src/benji_girgs/generation.py:155: RuntimeWarning: divide by zero encountered in divide\n",
      "  p_uv = np.divide(outer, dists**d)\n"
     ]
    }
   ],
   "source": [
    "n=2000\n",
    "d=2\n",
    "tau=2.5\n",
    "alpha = 1.2\n",
    "g, edges, weights, pts = generation.generate_GIRG_nk(n, d, tau, alpha, const=0.3)"
   ]
  },
  {
   "cell_type": "code",
   "execution_count": 68,
   "metadata": {},
   "outputs": [
    {
     "name": "stderr",
     "output_type": "stream",
     "text": [
      "100%|██████████| 1000/1000 [00:05<00:00, 167.55it/s]\n"
     ]
    },
    {
     "data": {
      "text/plain": [
       "(array([ 76., 172., 153., 135., 154., 104.,  73.,  51.,  28.,  19.,  14.,\n",
       "          5.,   5.,   2.,   5.,   3.,   0.,   0.,   0.,   1.]),\n",
       " array([  6.65  ,  15.7175,  24.785 ,  33.8525,  42.92  ,  51.9875,\n",
       "         61.055 ,  70.1225,  79.19  ,  88.2575,  97.325 , 106.3925,\n",
       "        115.46  , 124.5275, 133.595 , 142.6625, 151.73  , 160.7975,\n",
       "        169.865 , 178.9325, 188.    ]),\n",
       " <BarContainer object of 20 artists>)"
      ]
     },
     "execution_count": 68,
     "metadata": {},
     "output_type": "execute_result"
    },
    {
     "data": {
      "image/png": "[encoded data removed]",
      "text/plain": [
       "<Figure size 640x480 with 1 Axes>"
      ]
     },
     "metadata": {},
     "output_type": "display_data"
    }
   ],
   "source": [
    "sizes = fitting.biBFS_sample(g, 1000, use_tqdm=True)\n",
    "plt.hist(sizes, bins=20)"
   ]
  },
  {
   "cell_type": "code",
   "execution_count": 69,
   "metadata": {},
   "outputs": [
    {
     "data": {
      "text/plain": [
       "40.8202361729798"
      ]
     },
     "execution_count": 69,
     "metadata": {},
     "output_type": "execute_result"
    }
   ],
   "source": [
    "np.median(sizes)"
   ]
  },
  {
   "cell_type": "code",
   "execution_count": 60,
   "metadata": {},
   "outputs": [
    {
     "data": {
      "text/plain": [
       "(array([ 51.,  72.,  89., 181., 198., 137., 106.,  60.,  44.,  24.,  12.,\n",
       "          9.,   7.,   3.,   2.,   2.,   2.,   0.,   0.,   1.]),\n",
       " array([  5.  ,  14.35,  23.7 ,  33.05,  42.4 ,  51.75,  61.1 ,  70.45,\n",
       "         79.8 ,  89.15,  98.5 , 107.85, 117.2 , 126.55, 135.9 , 145.25,\n",
       "        154.6 , 163.95, 173.3 , 182.65, 192.  ]),\n",
       " <BarContainer object of 20 artists>)"
      ]
     },
     "execution_count": 60,
     "metadata": {},
     "output_type": "execute_result"
    },
    {
     "data": {
      "image/png": "[encoded data removed]",
      "text/plain": [
       "<Figure size 640x480 with 1 Axes>"
      ]
     },
     "metadata": {},
     "output_type": "display_data"
    }
   ],
   "source": [
    "plt.hist(sizes, bins=20)"
   ]
  },
  {
   "cell_type": "code",
   "execution_count": 55,
   "metadata": {},
   "outputs": [],
   "source": [
    "a, b = np.random.choice(nodes, 2, replace=False)\n",
    "new_a, new_b, seen_a, seen_b, dist_a, dist_b, met = utils.bi_bfs(g, a, b)"
   ]
  },
  {
   "cell_type": "code",
   "execution_count": 56,
   "metadata": {},
   "outputs": [
    {
     "data": {
      "text/plain": [
       "(0.4261565836298932, 0.6463414634146342)"
      ]
     },
     "execution_count": 56,
     "metadata": {},
     "output_type": "execute_result"
    },
    {
     "data": {
      "text/plain": [
       "(2.346555323590814, 1.5471698113207546)"
      ]
     },
     "execution_count": 56,
     "metadata": {},
     "output_type": "execute_result"
    },
    {
     "data": {
      "text/plain": [
       "(22, 23)"
      ]
     },
     "execution_count": 56,
     "metadata": {},
     "output_type": "execute_result"
    },
    {
     "data": {
      "text/plain": [
       "(1124, 738)"
      ]
     },
     "execution_count": 56,
     "metadata": {},
     "output_type": "execute_result"
    },
    {
     "data": {
      "text/plain": [
       "48.89372513491157"
      ]
     },
     "execution_count": 56,
     "metadata": {},
     "output_type": "execute_result"
    }
   ],
   "source": [
    "l_a = len(new_a.intersection(seen_b.union(new_b))) / len(new_a)\n",
    "l_b = len(new_b.intersection(seen_a.union(new_a))) / len(new_b)\n",
    "l_a, l_b\n",
    "1/l_a, 1/l_b\n",
    "len(seen_a), len(seen_b)\n",
    "len(new_a), len(new_b)\n",
    "len(seen_a) + len(seen_b) + 1/l_a + 1/l_b"
   ]
  },
  {
   "cell_type": "code",
   "execution_count": 53,
   "metadata": {},
   "outputs": [
    {
     "data": {
      "text/plain": [
       "1"
      ]
     },
     "execution_count": 53,
     "metadata": {},
     "output_type": "execute_result"
    },
    {
     "data": {
      "text/plain": [
       "1"
      ]
     },
     "execution_count": 53,
     "metadata": {},
     "output_type": "execute_result"
    },
    {
     "data": {
      "text/plain": [
       "20"
      ]
     },
     "execution_count": 53,
     "metadata": {},
     "output_type": "execute_result"
    },
    {
     "data": {
      "text/plain": [
       "43"
      ]
     },
     "execution_count": 53,
     "metadata": {},
     "output_type": "execute_result"
    }
   ],
   "source": [
    "len(seen_a)\n",
    "len(seen_b)\n",
    "len(new_a)\n",
    "len(new_b)"
   ]
  },
  {
   "cell_type": "code",
   "execution_count": 184,
   "metadata": {},
   "outputs": [],
   "source": [
    "dists_a = utils.simple_bfs(g, 0, degree_thresh=None)\n",
    "dists_b = utils.simple_bfs(g, 1, degree_thresh=None)"
   ]
  },
  {
   "cell_type": "code",
   "execution_count": 144,
   "metadata": {},
   "outputs": [],
   "source": [
    "dist = 0\n",
    "seen_a = set()\n",
    "seen_b = set()\n",
    "while True:\n",
    "    new_a, new_b = dists_a[dist], dists_b[dist]\n",
    "    if new_a.intersection(seen_b) or new_b.intersection(seen_a) or new_a.intersection(new_b):\n",
    "        break\n",
    "    seen_a.update(new_a)\n",
    "    seen_b.update(new_b)\n",
    "    dist += 1"
   ]
  },
  {
   "cell_type": "code",
   "execution_count": 156,
   "metadata": {},
   "outputs": [
    {
     "data": {
      "text/plain": [
       "[1, 4, 105, 503, 445, 153, 64, 30, 8, 4, 8, 3, 0]"
      ]
     },
     "execution_count": 156,
     "metadata": {},
     "output_type": "execute_result"
    },
    {
     "data": {
      "text/plain": [
       "[1, 6, 103, 550, 418, 149, 62, 23, 5, 8, 3, 0]"
      ]
     },
     "execution_count": 156,
     "metadata": {},
     "output_type": "execute_result"
    }
   ],
   "source": [
    "[len(dists_a[i]) for i in range(len(dists_a))]\n",
    "[len(dists_b[i]) for i in range(len(dists_b))]"
   ]
  },
  {
   "cell_type": "code",
   "execution_count": 120,
   "metadata": {},
   "outputs": [
    {
     "data": {
      "text/plain": [
       "<module 'benji_girgs' from '/Users/benjidayan/GDrive/eth_courses/GIRG/benji_src/benji_girgs/__init__.py'>"
      ]
     },
     "execution_count": 120,
     "metadata": {},
     "output_type": "execute_result"
    },
    {
     "data": {
      "text/plain": [
       "<module 'benji_girgs.utils' from '/Users/benjidayan/GDrive/eth_courses/GIRG/benji_src/benji_girgs/utils.py'>"
      ]
     },
     "execution_count": 120,
     "metadata": {},
     "output_type": "execute_result"
    },
    {
     "data": {
      "text/plain": [
       "<module 'benji_girgs.fitting' from '/Users/benjidayan/GDrive/eth_courses/GIRG/benji_src/benji_girgs/fitting.py'>"
      ]
     },
     "execution_count": 120,
     "metadata": {},
     "output_type": "execute_result"
    }
   ],
   "source": [
    "import imp\n",
    "import benji_girgs\n",
    "imp.reload(benji_girgs)\n",
    "imp.reload(benji_girgs.utils)\n",
    "imp.reload(benji_girgs.fitting)\n",
    "from benji_girgs import utils, fitting"
   ]
  },
  {
   "cell_type": "code",
   "execution_count": 181,
   "metadata": {},
   "outputs": [],
   "source": [
    "new_a, new_b, seen_a, seen_b, dist_a, dist_b, got = utils.bi_bfs(g, 0, 1)"
   ]
  },
  {
   "cell_type": "code",
   "execution_count": 183,
   "metadata": {},
   "outputs": [
    {
     "data": {
      "text/plain": [
       "(2, 2)"
      ]
     },
     "execution_count": 183,
     "metadata": {},
     "output_type": "execute_result"
    }
   ],
   "source": [
    "dist_a, dist_b"
   ]
  },
  {
   "cell_type": "code",
   "execution_count": 187,
   "metadata": {},
   "outputs": [
    {
     "data": {
      "text/plain": [
       "{237, 278, 311, 402, 881, 1065, 1314, 1500, 1758, 1961}"
      ]
     },
     "execution_count": 187,
     "metadata": {},
     "output_type": "execute_result"
    }
   ],
   "source": [
    "dists_a[2].intersection(dists_b[2])"
   ]
  },
  {
   "cell_type": "code",
   "execution_count": 4,
   "metadata": {},
   "outputs": [
    {
     "name": "stderr",
     "output_type": "stream",
     "text": [
      "100%|██████████| 100/100 [00:00<00:00, 516.81it/s]"
     ]
    },
    {
     "name": "stdout",
     "output_type": "stream",
     "text": [
      "1670 719\n",
      "349 600\n",
      "1621 388\n",
      "741 1138\n",
      "437 1039\n",
      "771 90\n",
      "1564 583\n",
      "1035 1601\n",
      "389 566\n",
      "131 1524\n",
      "1865 108\n",
      "891 770\n",
      "491 548\n",
      "562 555\n",
      "867 441\n",
      "1440 1625\n",
      "1928 982\n",
      "883 855\n",
      "1049 1248\n",
      "296 370\n",
      "111 718\n",
      "1844 438\n",
      "1338 347\n",
      "830 744\n",
      "1120 15\n",
      "422 1513\n",
      "1811 378\n",
      "15 1080\n",
      "481 1816\n",
      "1812 1531\n",
      "1891 1\n",
      "1090 1825\n",
      "146 1350\n",
      "811 996\n",
      "466 1167\n",
      "255 500\n",
      "1585 565\n",
      "187 666\n",
      "815 432\n",
      "1564 1731\n",
      "1258 799\n",
      "1475 1521\n",
      "195 756\n",
      "848 1456\n",
      "68 405\n",
      "1329 1193\n",
      "1631 1893\n",
      "1124 1216\n",
      "1082 1645\n",
      "987 607\n",
      "37 1813\n",
      "453 187\n",
      "1675 617\n",
      "430 309\n",
      "1422 1803\n",
      "936 335\n",
      "185 341\n",
      "861 1834\n",
      "1172 1755\n",
      "1376 1752\n",
      "5 1289\n",
      "1225 1054\n",
      "553 1861\n",
      "1545 313\n",
      "182 252\n",
      "945 1073\n",
      "1015 1579\n",
      "1687 215\n",
      "1110 1231\n",
      "135 1009\n",
      "998 469\n",
      "1246 786\n",
      "664 1699\n",
      "824 368\n",
      "1104 1718\n",
      "1248 996\n",
      "1621 623\n",
      "404 291\n",
      "697 572\n",
      "868 934\n",
      "271 546\n",
      "1725 642\n",
      "1679 165\n",
      "222 1171\n",
      "438 1534\n",
      "1592 79\n",
      "1523 40\n",
      "1660 1916\n",
      "384 262\n",
      "1101 1619\n",
      "907 1524\n",
      "962 1246\n",
      "1056 265\n",
      "236 1818\n",
      "1376 1284\n",
      "77 1406\n",
      "1186 985\n",
      "526 1054\n",
      "1960 690\n",
      "1934 461\n"
     ]
    },
    {
     "name": "stderr",
     "output_type": "stream",
     "text": [
      "\n"
     ]
    }
   ],
   "source": [
    "unique_sizes, sizes_counts = fitting.biBFS_sample(g, 1000, use_tqdm=True)"
   ]
  },
  {
   "cell_type": "code",
   "execution_count": 5,
   "metadata": {},
   "outputs": [
    {
     "data": {
      "text/plain": [
       "array([  2,   7,   8,   9,  10,  11,  12,  13,  14,  15,  16,  17,  18,\n",
       "        20,  21,  23,  24,  26,  27,  29,  30,  36,  38,  45,  48,  55,\n",
       "        94, 408, 531])"
      ]
     },
     "execution_count": 5,
     "metadata": {},
     "output_type": "execute_result"
    }
   ],
   "source": [
    "unique_sizes"
   ]
  },
  {
   "cell_type": "code",
   "execution_count": 177,
   "metadata": {},
   "outputs": [
    {
     "name": "stdout",
     "output_type": "stream",
     "text": [
      "Network Properties:\n",
      "nodes, edges\t\t\t2000, 2896\n",
      "directed?\t\t\tFalse\n",
      "weighted?\t\t\tFalse\n",
      "isolated nodes\t\t\t332\n",
      "self-loops\t\t\t0\n",
      "density\t\t\t\t0.001449\n",
      "clustering coefficient\t\t0.385318\n",
      "min/max/avg degree\t\t0, 230, 2.896000\n",
      "degree assortativity\t\t-0.062360\n",
      "number of connected components\t436\n",
      "size of largest component\t1328 (66.40 %)\n"
     ]
    }
   ],
   "source": [
    "nk.overview(g)"
   ]
  },
  {
   "cell_type": "code",
   "execution_count": null,
   "metadata": {},
   "outputs": [],
   "source": []
  }
 ],
 "metadata": {
  "kernelspec": {
   "display_name": "base",
   "language": "python",
   "name": "python3"
  },
  "language_info": {
   "codemirror_mode": {
    "name": "ipython",
    "version": 3
   },
   "file_extension": ".py",
   "mimetype": "text/x-python",
   "name": "python",
   "nbconvert_exporter": "python",
   "pygments_lexer": "ipython3",
   "version": "3.9.13"
  },
  "orig_nbformat": 4
 },
 "nbformat": 4,
 "nbformat_minor": 2
}
