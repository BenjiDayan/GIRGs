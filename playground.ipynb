{
 "cells": [
  {
   "cell_type": "code",
   "execution_count": 17,
   "id": "cb995268",
   "metadata": {},
   "outputs": [],
   "source": [
    "import networkit as nk\n",
    "import numpy as np\n",
    "from tqdm import tqdm\n",
    "\n",
    "from IPython.core.interactiveshell import InteractiveShell\n",
    "InteractiveShell.ast_node_interactivity = \"all\""
   ]
  },
  {
   "cell_type": "code",
   "execution_count": 18,
   "id": "a9f52ff9",
   "metadata": {},
   "outputs": [],
   "source": [
    "%matplotlib inline\n",
    "import matplotlib.pyplot as plt\n"
   ]
  },
  {
   "cell_type": "code",
   "execution_count": 3,
   "id": "7904629e",
   "metadata": {},
   "outputs": [],
   "source": [
    "g = generators.HyperbolicGenerator(1e5).generate()"
   ]
  },
  {
   "cell_type": "code",
   "execution_count": 4,
   "id": "63848582",
   "metadata": {},
   "outputs": [
    {
     "name": "stdout",
     "output_type": "stream",
     "text": [
      "Network Properties:\n",
      "nodes, edges\t\t\t100000, 298325\n",
      "directed?\t\t\tFalse\n",
      "weighted?\t\t\tFalse\n",
      "isolated nodes\t\t\t1786\n",
      "self-loops\t\t\t0\n",
      "density\t\t\t\t0.000060\n",
      "clustering coefficient\t\t0.717288\n",
      "min/max/avg degree\t\t0, 649, 5.966500\n",
      "degree assortativity\t\t0.001870\n",
      "number of connected components\t4205\n",
      "size of largest component\t26386 (26.39 %)\n"
     ]
    }
   ],
   "source": [
    "overview(g)"
   ]
  },
  {
   "cell_type": "code",
   "execution_count": 8,
   "id": "889c84bb",
   "metadata": {},
   "outputs": [
    {
     "name": "stdout",
     "output_type": "stream",
     "text": [
      "Communities detected in 0.07074 [s]\n",
      "solution properties:\n",
      "-------------------  -------------\n",
      "# communities        4401\n",
      "min community size      1\n",
      "max community size   1260\n",
      "avg. community size    22.7221\n",
      "imbalance              54.7826\n",
      "edge cut              892\n",
      "edge cut (portion)      0.00299003\n",
      "modularity              0.992043\n",
      "-------------------  -------------\n"
     ]
    },
    {
     "name": "stderr",
     "output_type": "stream",
     "text": [
      "/opt/homebrew/anaconda3/lib/python3.9/site-packages/networkit/stopwatch.py:49: UserWarning: networkit.Timer is deprecated, will be removed in future updates.\n",
      "  warn(\"networkit.Timer is deprecated, will be removed in future updates.\")\n"
     ]
    }
   ],
   "source": [
    "communities = community.detectCommunities(g, inspect=True)"
   ]
  },
  {
   "cell_type": "code",
   "execution_count": 34,
   "id": "3c0d5311",
   "metadata": {},
   "outputs": [],
   "source": [
    "import networkit as nk\n",
    "import numpy as np"
   ]
  },
  {
   "cell_type": "code",
   "execution_count": 23,
   "id": "d5a674ed",
   "metadata": {},
   "outputs": [],
   "source": [
    "n = 1e6\n",
    "mu = 4\n",
    "p = mu/n\n",
    "g = nk.generators.ErdosRenyiGenerator(nNodes = n, prob=p).generate()"
   ]
  },
  {
   "cell_type": "code",
   "execution_count": 24,
   "id": "88550bb4",
   "metadata": {},
   "outputs": [
    {
     "name": "stdout",
     "output_type": "stream",
     "text": [
      "Network Properties:\n",
      "nodes, edges\t\t\t1000000, 2001174\n",
      "directed?\t\t\tFalse\n",
      "weighted?\t\t\tFalse\n",
      "isolated nodes\t\t\t18233\n",
      "self-loops\t\t\t0\n",
      "density\t\t\t\t0.000004\n",
      "clustering coefficient\t\t0.000002\n",
      "min/max/avg degree\t\t0, 17, 4.002348\n",
      "degree assortativity\t\t-0.000056\n",
      "number of connected components\t18965\n",
      "size of largest component\t980241 (98.02 %)\n"
     ]
    }
   ],
   "source": [
    "overview(g)"
   ]
  },
  {
   "cell_type": "code",
   "execution_count": 54,
   "id": "7dab579c",
   "metadata": {},
   "outputs": [
    {
     "name": "stderr",
     "output_type": "stream",
     "text": [
      "100%|████████████████████████████████████████████████████████████| 25/25 [08:49<00:00, 21.16s/it]"
     ]
    },
    {
     "name": "stdout",
     "output_type": "stream",
     "text": [
      " predicted number: p4/4 * n = 195.06096951338267\n",
      "237.64\n"
     ]
    },
    {
     "name": "stderr",
     "output_type": "stream",
     "text": [
      "\n"
     ]
    }
   ],
   "source": [
    "from tqdm import tqdm\n",
    "\n",
    "n = 5e7\n",
    "mu = 4\n",
    "p = mu/n\n",
    "\n",
    "number_c4s = []\n",
    "\n",
    "InteractiveShell.ast_node_interactivity = \"last\"\n",
    "\n",
    "for _ in tqdm(range(25)):\n",
    "\n",
    "    g = nk.generators.ErdosRenyiGenerator(nNodes = n, prob=p).generate()\n",
    "\n",
    "    cc = nk.components.ConnectedComponents(g)\n",
    "    cc.run()\n",
    "#     print(\"number of components \", cc.numberOfComponents())\n",
    "    v = 0\n",
    "#     print(\"component of node \", v , \": \" , cc.componentOfNode(0))\n",
    "    comp_id_to_size = cc.getComponentSizes()\n",
    "    counts = {}\n",
    "    for c_id, size in comp_id_to_size.items():\n",
    "        try:\n",
    "            counts[size] += 1\n",
    "        except KeyError:\n",
    "            counts[size] = 1\n",
    "            \n",
    "#     print(f'number of CC size 4: {counts[4]}')\n",
    "    number_c4s.append(counts[4])\n",
    "    \n",
    "    \n",
    "e = np.e\n",
    "p4 = e**(-4*mu) * mu**3 * (1/6 + 2*1/2 + 1)\n",
    "print(f' predicted number: p4/4 * n = {p4/4 * n}')\n",
    "print(np.mean(number_c4s))"
   ]
  },
  {
   "cell_type": "code",
   "execution_count": 55,
   "id": "b1ad623d",
   "metadata": {},
   "outputs": [
    {
     "data": {
      "text/plain": [
       "(array([1., 1., 2., 5., 5., 6., 4., 0., 0., 1.]),\n",
       " array([194. , 203.5, 213. , 222.5, 232. , 241.5, 251. , 260.5, 270. ,\n",
       "        279.5, 289. ]),\n",
       " <BarContainer object of 10 artists>)"
      ]
     },
     "execution_count": 55,
     "metadata": {},
     "output_type": "execute_result"
    },
    {
     "data": {
      "image/png": "[encoded data removed]",
      "text/plain": [
       "<Figure size 640x480 with 1 Axes>"
      ]
     },
     "metadata": {},
     "output_type": "display_data"
    }
   ],
   "source": [
    "plt.hist(number_c4s)"
   ]
  },
  {
   "cell_type": "code",
   "execution_count": 58,
   "id": "e840eb52",
   "metadata": {},
   "outputs": [
    {
     "data": {
      "text/plain": [
       "240.0750394010863"
      ]
     },
     "execution_count": 58,
     "metadata": {},
     "output_type": "execute_result"
    }
   ],
   "source": [
    "e**(-4*mu) * mu**3 * (2 + 2/3) * n/4"
   ]
  },
  {
   "cell_type": "code",
   "execution_count": 60,
   "id": "e145c717",
   "metadata": {},
   "outputs": [
    {
     "data": {
      "text/plain": [
       "195.06096951338262"
      ]
     },
     "execution_count": 60,
     "metadata": {},
     "output_type": "execute_result"
    }
   ],
   "source": [
    "e**(-4*mu) * mu**3 * (2 + 1/6) * n/4"
   ]
  },
  {
   "cell_type": "code",
   "execution_count": 61,
   "id": "4f35e91d",
   "metadata": {},
   "outputs": [
    {
     "name": "stderr",
     "output_type": "stream",
     "text": [
      "100%|████████████████████████████████████████████████████████████| 25/25 [00:06<00:00,  3.97it/s]"
     ]
    },
    {
     "name": "stdout",
     "output_type": "stream",
     "text": [
      " predicted number: p4/4 * n = 3.9012193902676535\n",
      "6.04\n"
     ]
    },
    {
     "name": "stderr",
     "output_type": "stream",
     "text": [
      "\n"
     ]
    }
   ],
   "source": [
    "from tqdm import tqdm\n",
    "\n",
    "n = 1e6\n",
    "mu = 4\n",
    "p = mu/n\n",
    "\n",
    "number_c4s = []\n",
    "\n",
    "InteractiveShell.ast_node_interactivity = \"last\"\n",
    "\n",
    "for _ in tqdm(range(25)):\n",
    "\n",
    "    g = nk.generators.ErdosRenyiGenerator(nNodes = n, prob=p).generate()\n",
    "\n",
    "    cc = nk.components.ConnectedComponents(g)\n",
    "    cc.run()\n",
    "#     print(\"number of components \", cc.numberOfComponents())\n",
    "    v = 0\n",
    "#     print(\"component of node \", v , \": \" , cc.componentOfNode(0))\n",
    "    comp_id_to_size = cc.getComponentSizes()\n",
    "    counts = {}\n",
    "    for c_id, size in comp_id_to_size.items():\n",
    "        try:\n",
    "            counts[size] += 1\n",
    "        except KeyError:\n",
    "            counts[size] = 1\n",
    "            \n",
    "#     print(f'number of CC size 4: {counts[4]}')\n",
    "    number_c4s.append(counts[4])\n",
    "    \n",
    "    \n",
    "e = np.e\n",
    "p4 = e**(-4*mu) * mu**3 * (1/6 + 2*1/2 + 1)\n",
    "print(f' predicted number: p4/4 * n = {p4/4 * n}')\n",
    "print(np.mean(number_c4s))"
   ]
  },
  {
   "cell_type": "markdown",
   "id": "31680c86",
   "metadata": {},
   "source": [
    "## Investigating average distance within giant component of Erdos Renyi graph"
   ]
  },
  {
   "cell_type": "code",
   "execution_count": 29,
   "id": "63e73359",
   "metadata": {},
   "outputs": [],
   "source": [
    "InteractiveShell.ast_node_interactivity = \"last\"\n"
   ]
  },
  {
   "cell_type": "code",
   "execution_count": 34,
   "id": "0df5dc8f",
   "metadata": {},
   "outputs": [
    {
     "data": {
      "text/plain": [
       "array([ 1,  4,  7, 10, 13, 16, 19])"
      ]
     },
     "execution_count": 34,
     "metadata": {},
     "output_type": "execute_result"
    }
   ],
   "source": [
    "np.arange(1, 20, 3)"
   ]
  },
  {
   "cell_type": "code",
   "execution_count": 50,
   "id": "dbe0703e",
   "metadata": {},
   "outputs": [
    {
     "name": "stdout",
     "output_type": "stream",
     "text": [
      "size giant_cc: 97981\n"
     ]
    },
    {
     "name": "stderr",
     "output_type": "stream",
     "text": [
      "100%|████████████████████████████████████████████████████████████| 20/20 [00:00<00:00, 84.28it/s]"
     ]
    },
    {
     "name": "stdout",
     "output_type": "stream",
     "text": [
      "8.3\n",
      "11.512925464970229\n",
      "43564.95\n",
      "100000.0\n"
     ]
    },
    {
     "name": "stderr",
     "output_type": "stream",
     "text": [
      "\n"
     ]
    }
   ],
   "source": [
    "\n",
    "n = 1e5\n",
    "mu = 4\n",
    "p = mu/n\n",
    "\n",
    "g = nk.generators.ErdosRenyiGenerator(nNodes = n, prob=p).generate()\n",
    "\n",
    "cc = nk.components.ConnectedComponents(g)\n",
    "cc.run()\n",
    "\n",
    "giant_cc = cc.getComponents()[0]\n",
    "\n",
    "print(f'size giant_cc: {len(giant_cc)}')\n",
    "\n",
    "dists = []\n",
    "bfs_num_nodes = []\n",
    "for _ in tqdm(range(20)):\n",
    "    a, b = np.random.choice(giant_cc, 2)\n",
    "    biBFS = nk.distance.BidirectionalBFS(g, a, b)\n",
    "    _ = biBFS.run()\n",
    "    dists.append(biBFS.getDistance())\n",
    "\n",
    "    bfs = nk.distance.BFS(g, a, storePaths=True, storeNodesSortedByDistance=True, target=b)\n",
    "    _ = bfs.run()\n",
    "    bfs_num_nodes.append(len(bfs.getNodesSortedByDistance()))\n",
    "\n",
    "\n",
    "# dists are of order log(n)\n",
    "print(np.mean(dists))\n",
    "print(np.log(n))\n",
    "\n",
    "# This is approx half of n\n",
    "print(np.mean(bfs_num_nodes))\n",
    "print(n)"
   ]
  },
  {
   "cell_type": "code",
   "execution_count": 51,
   "id": "5e093bbb",
   "metadata": {},
   "outputs": [
    {
     "data": {
      "text/plain": [
       "<networkit.distance.BidirectionalBFS at 0x150ec3db0>"
      ]
     },
     "execution_count": 51,
     "metadata": {},
     "output_type": "execute_result"
    }
   ],
   "source": [
    "biBFS = nk.distance.BidirectionalBFS(g, a, b)\n",
    "biBFS.run()"
   ]
  },
  {
   "cell_type": "code",
   "execution_count": 12,
   "id": "2e3dc677",
   "metadata": {},
   "outputs": [
    {
     "name": "stderr",
     "output_type": "stream",
     "text": [
      "/var/folders/60/0t2c_bns6n3c7kjhdk4d4wk80000gn/T/ipykernel_31280/416298567.py:1: UserWarning: getHops() is deprecated, use 'getDistance' instead\n",
      "  biBFS.getHops()\n"
     ]
    },
    {
     "data": {
      "text/plain": [
       "9.0"
      ]
     },
     "execution_count": 12,
     "metadata": {},
     "output_type": "execute_result"
    }
   ],
   "source": [
    "biBFS.getHops()"
   ]
  },
  {
   "cell_type": "code",
   "execution_count": null,
   "id": "3379afa3",
   "metadata": {},
   "outputs": [],
   "source": []
  }
 ],
 "metadata": {
  "kernelspec": {
   "display_name": "Python 3 (ipykernel)",
   "language": "python",
   "name": "python3"
  },
  "language_info": {
   "codemirror_mode": {
    "name": "ipython",
    "version": 3
   },
   "file_extension": ".py",
   "mimetype": "text/x-python",
   "name": "python",
   "nbconvert_exporter": "python",
   "pygments_lexer": "ipython3",
   "version": "3.9.13"
  }
 },
 "nbformat": 4,
 "nbformat_minor": 5
}
